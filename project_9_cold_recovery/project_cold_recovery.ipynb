{
 "cells": [
  {
   "cell_type": "markdown",
   "metadata": {
    "toc": true
   },
   "source": [
    "<h1>Содержание<span class=\"tocSkip\"></span></h1>\n",
    "<div class=\"toc\"><ul class=\"toc-item\"><li><span><a href=\"#Подготовка-данных\" data-toc-modified-id=\"Подготовка-данных-1\"><span class=\"toc-item-num\">1&nbsp;&nbsp;</span>Подготовка данных</a></span><ul class=\"toc-item\"><li><span><a href=\"#Осмотр-данных\" data-toc-modified-id=\"Осмотр-данных-1.1\"><span class=\"toc-item-num\">1.1&nbsp;&nbsp;</span>Осмотр данных</a></span></li><li><span><a href=\"#Проверка-расчета\" data-toc-modified-id=\"Проверка-расчета-1.2\"><span class=\"toc-item-num\">1.2&nbsp;&nbsp;</span>Проверка расчета</a></span></li><li><span><a href=\"#Анализ-признаков\" data-toc-modified-id=\"Анализ-признаков-1.3\"><span class=\"toc-item-num\">1.3&nbsp;&nbsp;</span>Анализ признаков</a></span></li><li><span><a href=\"#Предобработка-данных\" data-toc-modified-id=\"Предобработка-данных-1.4\"><span class=\"toc-item-num\">1.4&nbsp;&nbsp;</span>Предобработка данных</a></span></li></ul></li><li><span><a href=\"#Анализ-данных\" data-toc-modified-id=\"Анализ-данных-2\"><span class=\"toc-item-num\">2&nbsp;&nbsp;</span>Анализ данных</a></span><ul class=\"toc-item\"><li><span><a href=\"#Изменение-концентрации-металлов\" data-toc-modified-id=\"Изменение-концентрации-металлов-2.1\"><span class=\"toc-item-num\">2.1&nbsp;&nbsp;</span>Изменение концентрации металлов</a></span></li><li><span><a href=\"#Распределение-размеров-гранул\" data-toc-modified-id=\"Распределение-размеров-гранул-2.2\"><span class=\"toc-item-num\">2.2&nbsp;&nbsp;</span>Распределение размеров гранул</a></span></li><li><span><a href=\"#Суммарная-концентрация-веществ\" data-toc-modified-id=\"Суммарная-концентрация-веществ-2.3\"><span class=\"toc-item-num\">2.3&nbsp;&nbsp;</span>Суммарная концентрация веществ</a></span></li></ul></li><li><span><a href=\"#Модель\" data-toc-modified-id=\"Модель-3\"><span class=\"toc-item-num\">3&nbsp;&nbsp;</span>Модель</a></span><ul class=\"toc-item\"><li><span><a href=\"#Функция-для-вычисления-sMAPE\" data-toc-modified-id=\"Функция-для-вычисления-sMAPE-3.1\"><span class=\"toc-item-num\">3.1&nbsp;&nbsp;</span>Функция для вычисления sMAPE</a></span></li><li><span><a href=\"#Построение-моделей\" data-toc-modified-id=\"Построение-моделей-3.2\"><span class=\"toc-item-num\">3.2&nbsp;&nbsp;</span>Построение моделей</a></span></li></ul></li><li><span><a href=\"#Вывод\" data-toc-modified-id=\"Вывод-4\"><span class=\"toc-item-num\">4&nbsp;&nbsp;</span>Вывод</a></span></li><li><span><a href=\"#Чек-лист-готовности-проекта\" data-toc-modified-id=\"Чек-лист-готовности-проекта-5\"><span class=\"toc-item-num\">5&nbsp;&nbsp;</span>Чек-лист готовности проекта</a></span></li></ul></div>"
   ]
  },
  {
   "cell_type": "markdown",
   "metadata": {},
   "source": [
    "# Восстановление золота из руды"
   ]
  },
  {
   "cell_type": "markdown",
   "metadata": {},
   "source": [
    "Подготовить прототип модели машинного обучения для компании, которая разрабатывает решения для эффективной работы промышленных предприятий.\n",
    "\n",
    "Модель должна предсказать коэффициент восстановления золота из золотосодержащей руды. Модель поможет оптимизировать производство, чтобы не запускать предприятие с убыточными характеристиками.\n",
    "\n",
    "Ход работы:\n",
    "\n",
    "1. Подготовить данные;\n",
    "2. Провести исследовательский анализ данных;\n",
    "3. Построить и обучить модель.\n"
   ]
  },
  {
   "cell_type": "markdown",
   "metadata": {},
   "source": [
    "Целевые признаки:\n",
    "\n",
    "- эффективность обогащения чернового концентрата `rougher.output.recovery`\n",
    "- эффективность обогащения финального концентрата `final.output.recovery`\n"
   ]
  },
  {
   "cell_type": "markdown",
   "metadata": {},
   "source": [
    "## Подготовка данных"
   ]
  },
  {
   "cell_type": "markdown",
   "metadata": {},
   "source": [
    "### Осмотр данных"
   ]
  },
  {
   "cell_type": "code",
   "execution_count": null,
   "metadata": {},
   "outputs": [],
   "source": [
    "!pip install missingno"
   ]
  },
  {
   "cell_type": "code",
   "execution_count": 148,
   "metadata": {},
   "outputs": [],
   "source": [
    "#!pip install sweetviz"
   ]
  },
  {
   "cell_type": "code",
   "execution_count": 149,
   "metadata": {},
   "outputs": [],
   "source": [
    "# импорт библиотек\n",
    "import pandas as pd\n",
    "#import sweetviz as sv\n",
    "import matplotlib.pyplot as plt\n",
    "from scipy import stats as st\n",
    "import numpy as np\n",
    "# импорт библиотеки для анализа пропусков\n",
    "import missingno as msno\n",
    "\n",
    "from sklearn.model_selection import cross_val_score, cross_val_predict\n",
    "from sklearn.preprocessing import StandardScaler\n",
    "from sklearn.metrics import mean_absolute_error, make_scorer\n",
    "\n",
    "from sklearn.linear_model import LinearRegression, Lasso\n",
    "from sklearn.tree import DecisionTreeRegressor\n",
    "from sklearn.ensemble import RandomForestRegressor\n",
    "from sklearn.neighbors import KNeighborsRegressor"
   ]
  },
  {
   "cell_type": "code",
   "execution_count": 150,
   "metadata": {},
   "outputs": [],
   "source": [
    "# чтение файлов с данными и сохранение\n",
    "df_train = pd.read_csv('C:/Users/pr_full2_gold_recovery_train_new.csv')\n",
    "df_test = pd.read_csv('C:/Users/pr_full2_gold_recovery_test_new.csv')\n",
    "df_full = pd.read_csv('C:/Users/pr_full2_gold_recovery_full_new.csv')"
   ]
  },
  {
   "cell_type": "code",
   "execution_count": 151,
   "metadata": {},
   "outputs": [],
   "source": [
    "df_dict = {'df_train' : df_train, 'df_test' : df_test, 'df_full' : df_full}"
   ]
  },
  {
   "cell_type": "code",
   "execution_count": 152,
   "metadata": {
    "scrolled": false
   },
   "outputs": [
    {
     "name": "stdout",
     "output_type": "stream",
     "text": [
      "                     df_train                     \n",
      "<class 'pandas.core.frame.DataFrame'>\n",
      "RangeIndex: 14149 entries, 0 to 14148\n",
      "Data columns (total 87 columns):\n",
      " #   Column                                              Non-Null Count  Dtype  \n",
      "---  ------                                              --------------  -----  \n",
      " 0   date                                                14149 non-null  object \n",
      " 1   final.output.concentrate_ag                         14148 non-null  float64\n",
      " 2   final.output.concentrate_pb                         14148 non-null  float64\n",
      " 3   final.output.concentrate_sol                        13938 non-null  float64\n",
      " 4   final.output.concentrate_au                         14149 non-null  float64\n",
      " 5   final.output.recovery                               14149 non-null  float64\n",
      " 6   final.output.tail_ag                                14149 non-null  float64\n",
      " 7   final.output.tail_pb                                14049 non-null  float64\n",
      " 8   final.output.tail_sol                               14144 non-null  float64\n",
      " 9   final.output.tail_au                                14149 non-null  float64\n",
      " 10  primary_cleaner.input.sulfate                       14129 non-null  float64\n",
      " 11  primary_cleaner.input.depressant                    14117 non-null  float64\n",
      " 12  primary_cleaner.input.feed_size                     14149 non-null  float64\n",
      " 13  primary_cleaner.input.xanthate                      14049 non-null  float64\n",
      " 14  primary_cleaner.output.concentrate_ag               14149 non-null  float64\n",
      " 15  primary_cleaner.output.concentrate_pb               14063 non-null  float64\n",
      " 16  primary_cleaner.output.concentrate_sol              13863 non-null  float64\n",
      " 17  primary_cleaner.output.concentrate_au               14149 non-null  float64\n",
      " 18  primary_cleaner.output.tail_ag                      14148 non-null  float64\n",
      " 19  primary_cleaner.output.tail_pb                      14134 non-null  float64\n",
      " 20  primary_cleaner.output.tail_sol                     14103 non-null  float64\n",
      " 21  primary_cleaner.output.tail_au                      14149 non-null  float64\n",
      " 22  primary_cleaner.state.floatbank8_a_air              14145 non-null  float64\n",
      " 23  primary_cleaner.state.floatbank8_a_level            14148 non-null  float64\n",
      " 24  primary_cleaner.state.floatbank8_b_air              14145 non-null  float64\n",
      " 25  primary_cleaner.state.floatbank8_b_level            14148 non-null  float64\n",
      " 26  primary_cleaner.state.floatbank8_c_air              14147 non-null  float64\n",
      " 27  primary_cleaner.state.floatbank8_c_level            14148 non-null  float64\n",
      " 28  primary_cleaner.state.floatbank8_d_air              14146 non-null  float64\n",
      " 29  primary_cleaner.state.floatbank8_d_level            14148 non-null  float64\n",
      " 30  rougher.calculation.sulfate_to_au_concentrate       14148 non-null  float64\n",
      " 31  rougher.calculation.floatbank10_sulfate_to_au_feed  14148 non-null  float64\n",
      " 32  rougher.calculation.floatbank11_sulfate_to_au_feed  14148 non-null  float64\n",
      " 33  rougher.calculation.au_pb_ratio                     14149 non-null  float64\n",
      " 34  rougher.input.feed_ag                               14149 non-null  float64\n",
      " 35  rougher.input.feed_pb                               14049 non-null  float64\n",
      " 36  rougher.input.feed_rate                             14141 non-null  float64\n",
      " 37  rougher.input.feed_size                             14005 non-null  float64\n",
      " 38  rougher.input.feed_sol                              14071 non-null  float64\n",
      " 39  rougher.input.feed_au                               14149 non-null  float64\n",
      " 40  rougher.input.floatbank10_sulfate                   14120 non-null  float64\n",
      " 41  rougher.input.floatbank10_xanthate                  14141 non-null  float64\n",
      " 42  rougher.input.floatbank11_sulfate                   14113 non-null  float64\n",
      " 43  rougher.input.floatbank11_xanthate                  13721 non-null  float64\n",
      " 44  rougher.output.concentrate_ag                       14149 non-null  float64\n",
      " 45  rougher.output.concentrate_pb                       14149 non-null  float64\n",
      " 46  rougher.output.concentrate_sol                      14127 non-null  float64\n",
      " 47  rougher.output.concentrate_au                       14149 non-null  float64\n",
      " 48  rougher.output.recovery                             14149 non-null  float64\n",
      " 49  rougher.output.tail_ag                              14148 non-null  float64\n",
      " 50  rougher.output.tail_pb                              14149 non-null  float64\n",
      " 51  rougher.output.tail_sol                             14149 non-null  float64\n",
      " 52  rougher.output.tail_au                              14149 non-null  float64\n",
      " 53  rougher.state.floatbank10_a_air                     14148 non-null  float64\n",
      " 54  rougher.state.floatbank10_a_level                   14148 non-null  float64\n",
      " 55  rougher.state.floatbank10_b_air                     14148 non-null  float64\n",
      " 56  rougher.state.floatbank10_b_level                   14148 non-null  float64\n",
      " 57  rougher.state.floatbank10_c_air                     14148 non-null  float64\n",
      " 58  rougher.state.floatbank10_c_level                   14148 non-null  float64\n",
      " 59  rougher.state.floatbank10_d_air                     14149 non-null  float64\n",
      " 60  rougher.state.floatbank10_d_level                   14149 non-null  float64\n",
      " 61  rougher.state.floatbank10_e_air                     13713 non-null  float64\n",
      " 62  rougher.state.floatbank10_e_level                   14149 non-null  float64\n",
      " 63  rougher.state.floatbank10_f_air                     14149 non-null  float64\n",
      " 64  rougher.state.floatbank10_f_level                   14149 non-null  float64\n",
      " 65  secondary_cleaner.output.tail_ag                    14147 non-null  float64\n",
      " 66  secondary_cleaner.output.tail_pb                    14139 non-null  float64\n",
      " 67  secondary_cleaner.output.tail_sol                   12544 non-null  float64\n",
      " 68  secondary_cleaner.output.tail_au                    14149 non-null  float64\n",
      " 69  secondary_cleaner.state.floatbank2_a_air            13932 non-null  float64\n",
      " 70  secondary_cleaner.state.floatbank2_a_level          14148 non-null  float64\n",
      " 71  secondary_cleaner.state.floatbank2_b_air            14128 non-null  float64\n",
      " 72  secondary_cleaner.state.floatbank2_b_level          14148 non-null  float64\n",
      " 73  secondary_cleaner.state.floatbank3_a_air            14145 non-null  float64\n",
      " 74  secondary_cleaner.state.floatbank3_a_level          14148 non-null  float64\n",
      " 75  secondary_cleaner.state.floatbank3_b_air            14148 non-null  float64\n",
      " 76  secondary_cleaner.state.floatbank3_b_level          14148 non-null  float64\n",
      " 77  secondary_cleaner.state.floatbank4_a_air            14143 non-null  float64\n",
      " 78  secondary_cleaner.state.floatbank4_a_level          14148 non-null  float64\n",
      " 79  secondary_cleaner.state.floatbank4_b_air            14148 non-null  float64\n",
      " 80  secondary_cleaner.state.floatbank4_b_level          14148 non-null  float64\n",
      " 81  secondary_cleaner.state.floatbank5_a_air            14148 non-null  float64\n",
      " 82  secondary_cleaner.state.floatbank5_a_level          14148 non-null  float64\n",
      " 83  secondary_cleaner.state.floatbank5_b_air            14148 non-null  float64\n",
      " 84  secondary_cleaner.state.floatbank5_b_level          14148 non-null  float64\n",
      " 85  secondary_cleaner.state.floatbank6_a_air            14147 non-null  float64\n",
      " 86  secondary_cleaner.state.floatbank6_a_level          14148 non-null  float64\n",
      "dtypes: float64(86), object(1)\n",
      "memory usage: 9.4+ MB\n",
      "None\n",
      "                     df_test                      \n",
      "<class 'pandas.core.frame.DataFrame'>\n",
      "RangeIndex: 5290 entries, 0 to 5289\n",
      "Data columns (total 53 columns):\n",
      " #   Column                                      Non-Null Count  Dtype  \n",
      "---  ------                                      --------------  -----  \n",
      " 0   date                                        5290 non-null   object \n",
      " 1   primary_cleaner.input.sulfate               5286 non-null   float64\n",
      " 2   primary_cleaner.input.depressant            5285 non-null   float64\n",
      " 3   primary_cleaner.input.feed_size             5290 non-null   float64\n",
      " 4   primary_cleaner.input.xanthate              5286 non-null   float64\n",
      " 5   primary_cleaner.state.floatbank8_a_air      5290 non-null   float64\n",
      " 6   primary_cleaner.state.floatbank8_a_level    5290 non-null   float64\n",
      " 7   primary_cleaner.state.floatbank8_b_air      5290 non-null   float64\n",
      " 8   primary_cleaner.state.floatbank8_b_level    5290 non-null   float64\n",
      " 9   primary_cleaner.state.floatbank8_c_air      5290 non-null   float64\n",
      " 10  primary_cleaner.state.floatbank8_c_level    5290 non-null   float64\n",
      " 11  primary_cleaner.state.floatbank8_d_air      5290 non-null   float64\n",
      " 12  primary_cleaner.state.floatbank8_d_level    5290 non-null   float64\n",
      " 13  rougher.input.feed_ag                       5290 non-null   float64\n",
      " 14  rougher.input.feed_pb                       5290 non-null   float64\n",
      " 15  rougher.input.feed_rate                     5287 non-null   float64\n",
      " 16  rougher.input.feed_size                     5289 non-null   float64\n",
      " 17  rougher.input.feed_sol                      5269 non-null   float64\n",
      " 18  rougher.input.feed_au                       5290 non-null   float64\n",
      " 19  rougher.input.floatbank10_sulfate           5285 non-null   float64\n",
      " 20  rougher.input.floatbank10_xanthate          5290 non-null   float64\n",
      " 21  rougher.input.floatbank11_sulfate           5282 non-null   float64\n",
      " 22  rougher.input.floatbank11_xanthate          5265 non-null   float64\n",
      " 23  rougher.state.floatbank10_a_air             5290 non-null   float64\n",
      " 24  rougher.state.floatbank10_a_level           5290 non-null   float64\n",
      " 25  rougher.state.floatbank10_b_air             5290 non-null   float64\n",
      " 26  rougher.state.floatbank10_b_level           5290 non-null   float64\n",
      " 27  rougher.state.floatbank10_c_air             5290 non-null   float64\n",
      " 28  rougher.state.floatbank10_c_level           5290 non-null   float64\n",
      " 29  rougher.state.floatbank10_d_air             5290 non-null   float64\n",
      " 30  rougher.state.floatbank10_d_level           5290 non-null   float64\n",
      " 31  rougher.state.floatbank10_e_air             5290 non-null   float64\n",
      " 32  rougher.state.floatbank10_e_level           5290 non-null   float64\n",
      " 33  rougher.state.floatbank10_f_air             5290 non-null   float64\n",
      " 34  rougher.state.floatbank10_f_level           5290 non-null   float64\n",
      " 35  secondary_cleaner.state.floatbank2_a_air    5287 non-null   float64\n",
      " 36  secondary_cleaner.state.floatbank2_a_level  5290 non-null   float64\n",
      " 37  secondary_cleaner.state.floatbank2_b_air    5288 non-null   float64\n",
      " 38  secondary_cleaner.state.floatbank2_b_level  5290 non-null   float64\n",
      " 39  secondary_cleaner.state.floatbank3_a_air    5281 non-null   float64\n",
      " 40  secondary_cleaner.state.floatbank3_a_level  5290 non-null   float64\n",
      " 41  secondary_cleaner.state.floatbank3_b_air    5290 non-null   float64\n",
      " 42  secondary_cleaner.state.floatbank3_b_level  5290 non-null   float64\n",
      " 43  secondary_cleaner.state.floatbank4_a_air    5290 non-null   float64\n",
      " 44  secondary_cleaner.state.floatbank4_a_level  5290 non-null   float64\n",
      " 45  secondary_cleaner.state.floatbank4_b_air    5290 non-null   float64\n",
      " 46  secondary_cleaner.state.floatbank4_b_level  5290 non-null   float64\n",
      " 47  secondary_cleaner.state.floatbank5_a_air    5290 non-null   float64\n",
      " 48  secondary_cleaner.state.floatbank5_a_level  5290 non-null   float64\n",
      " 49  secondary_cleaner.state.floatbank5_b_air    5290 non-null   float64\n",
      " 50  secondary_cleaner.state.floatbank5_b_level  5290 non-null   float64\n",
      " 51  secondary_cleaner.state.floatbank6_a_air    5290 non-null   float64\n",
      " 52  secondary_cleaner.state.floatbank6_a_level  5290 non-null   float64\n",
      "dtypes: float64(52), object(1)\n",
      "memory usage: 2.1+ MB\n",
      "None\n",
      "                     df_full                      \n",
      "<class 'pandas.core.frame.DataFrame'>\n",
      "RangeIndex: 19439 entries, 0 to 19438\n",
      "Data columns (total 87 columns):\n",
      " #   Column                                              Non-Null Count  Dtype  \n",
      "---  ------                                              --------------  -----  \n",
      " 0   date                                                19439 non-null  object \n",
      " 1   final.output.concentrate_ag                         19438 non-null  float64\n",
      " 2   final.output.concentrate_pb                         19438 non-null  float64\n",
      " 3   final.output.concentrate_sol                        19228 non-null  float64\n",
      " 4   final.output.concentrate_au                         19439 non-null  float64\n",
      " 5   final.output.recovery                               19439 non-null  float64\n",
      " 6   final.output.tail_ag                                19438 non-null  float64\n",
      " 7   final.output.tail_pb                                19338 non-null  float64\n",
      " 8   final.output.tail_sol                               19433 non-null  float64\n",
      " 9   final.output.tail_au                                19439 non-null  float64\n",
      " 10  primary_cleaner.input.sulfate                       19415 non-null  float64\n",
      " 11  primary_cleaner.input.depressant                    19402 non-null  float64\n",
      " 12  primary_cleaner.input.feed_size                     19439 non-null  float64\n",
      " 13  primary_cleaner.input.xanthate                      19335 non-null  float64\n",
      " 14  primary_cleaner.output.concentrate_ag               19439 non-null  float64\n",
      " 15  primary_cleaner.output.concentrate_pb               19323 non-null  float64\n",
      " 16  primary_cleaner.output.concentrate_sol              19069 non-null  float64\n",
      " 17  primary_cleaner.output.concentrate_au               19439 non-null  float64\n",
      " 18  primary_cleaner.output.tail_ag                      19435 non-null  float64\n",
      " 19  primary_cleaner.output.tail_pb                      19418 non-null  float64\n",
      " 20  primary_cleaner.output.tail_sol                     19377 non-null  float64\n",
      " 21  primary_cleaner.output.tail_au                      19439 non-null  float64\n",
      " 22  primary_cleaner.state.floatbank8_a_air              19435 non-null  float64\n",
      " 23  primary_cleaner.state.floatbank8_a_level            19438 non-null  float64\n",
      " 24  primary_cleaner.state.floatbank8_b_air              19435 non-null  float64\n",
      " 25  primary_cleaner.state.floatbank8_b_level            19438 non-null  float64\n",
      " 26  primary_cleaner.state.floatbank8_c_air              19437 non-null  float64\n",
      " 27  primary_cleaner.state.floatbank8_c_level            19438 non-null  float64\n",
      " 28  primary_cleaner.state.floatbank8_d_air              19436 non-null  float64\n",
      " 29  primary_cleaner.state.floatbank8_d_level            19438 non-null  float64\n",
      " 30  rougher.calculation.sulfate_to_au_concentrate       19437 non-null  float64\n",
      " 31  rougher.calculation.floatbank10_sulfate_to_au_feed  19437 non-null  float64\n",
      " 32  rougher.calculation.floatbank11_sulfate_to_au_feed  19437 non-null  float64\n",
      " 33  rougher.calculation.au_pb_ratio                     19439 non-null  float64\n",
      " 34  rougher.input.feed_ag                               19439 non-null  float64\n",
      " 35  rougher.input.feed_pb                               19339 non-null  float64\n",
      " 36  rougher.input.feed_rate                             19428 non-null  float64\n",
      " 37  rougher.input.feed_size                             19294 non-null  float64\n",
      " 38  rougher.input.feed_sol                              19340 non-null  float64\n",
      " 39  rougher.input.feed_au                               19439 non-null  float64\n",
      " 40  rougher.input.floatbank10_sulfate                   19405 non-null  float64\n",
      " 41  rougher.input.floatbank10_xanthate                  19431 non-null  float64\n",
      " 42  rougher.input.floatbank11_sulfate                   19395 non-null  float64\n",
      " 43  rougher.input.floatbank11_xanthate                  18986 non-null  float64\n",
      " 44  rougher.output.concentrate_ag                       19439 non-null  float64\n",
      " 45  rougher.output.concentrate_pb                       19439 non-null  float64\n",
      " 46  rougher.output.concentrate_sol                      19416 non-null  float64\n",
      " 47  rougher.output.concentrate_au                       19439 non-null  float64\n",
      " 48  rougher.output.recovery                             19439 non-null  float64\n",
      " 49  rougher.output.tail_ag                              19438 non-null  float64\n",
      " 50  rougher.output.tail_pb                              19439 non-null  float64\n",
      " 51  rougher.output.tail_sol                             19439 non-null  float64\n",
      " 52  rougher.output.tail_au                              19439 non-null  float64\n",
      " 53  rougher.state.floatbank10_a_air                     19438 non-null  float64\n",
      " 54  rougher.state.floatbank10_a_level                   19438 non-null  float64\n",
      " 55  rougher.state.floatbank10_b_air                     19438 non-null  float64\n",
      " 56  rougher.state.floatbank10_b_level                   19438 non-null  float64\n",
      " 57  rougher.state.floatbank10_c_air                     19438 non-null  float64\n",
      " 58  rougher.state.floatbank10_c_level                   19438 non-null  float64\n",
      " 59  rougher.state.floatbank10_d_air                     19439 non-null  float64\n",
      " 60  rougher.state.floatbank10_d_level                   19439 non-null  float64\n",
      " 61  rougher.state.floatbank10_e_air                     19003 non-null  float64\n",
      " 62  rougher.state.floatbank10_e_level                   19439 non-null  float64\n",
      " 63  rougher.state.floatbank10_f_air                     19439 non-null  float64\n",
      " 64  rougher.state.floatbank10_f_level                   19439 non-null  float64\n",
      " 65  secondary_cleaner.output.tail_ag                    19437 non-null  float64\n",
      " 66  secondary_cleaner.output.tail_pb                    19427 non-null  float64\n",
      " 67  secondary_cleaner.output.tail_sol                   17691 non-null  float64\n",
      " 68  secondary_cleaner.output.tail_au                    19439 non-null  float64\n",
      " 69  secondary_cleaner.state.floatbank2_a_air            19219 non-null  float64\n",
      " 70  secondary_cleaner.state.floatbank2_a_level          19438 non-null  float64\n",
      " 71  secondary_cleaner.state.floatbank2_b_air            19416 non-null  float64\n",
      " 72  secondary_cleaner.state.floatbank2_b_level          19438 non-null  float64\n",
      " 73  secondary_cleaner.state.floatbank3_a_air            19426 non-null  float64\n",
      " 74  secondary_cleaner.state.floatbank3_a_level          19438 non-null  float64\n",
      " 75  secondary_cleaner.state.floatbank3_b_air            19438 non-null  float64\n",
      " 76  secondary_cleaner.state.floatbank3_b_level          19438 non-null  float64\n",
      " 77  secondary_cleaner.state.floatbank4_a_air            19433 non-null  float64\n",
      " 78  secondary_cleaner.state.floatbank4_a_level          19438 non-null  float64\n",
      " 79  secondary_cleaner.state.floatbank4_b_air            19438 non-null  float64\n",
      " 80  secondary_cleaner.state.floatbank4_b_level          19438 non-null  float64\n",
      " 81  secondary_cleaner.state.floatbank5_a_air            19438 non-null  float64\n",
      " 82  secondary_cleaner.state.floatbank5_a_level          19438 non-null  float64\n",
      " 83  secondary_cleaner.state.floatbank5_b_air            19438 non-null  float64\n",
      " 84  secondary_cleaner.state.floatbank5_b_level          19438 non-null  float64\n",
      " 85  secondary_cleaner.state.floatbank6_a_air            19437 non-null  float64\n",
      " 86  secondary_cleaner.state.floatbank6_a_level          19438 non-null  float64\n",
      "dtypes: float64(86), object(1)\n",
      "memory usage: 12.9+ MB\n",
      "None\n"
     ]
    }
   ],
   "source": [
    "for el in df_dict:\n",
    "    print('{:^50}'.format(el))\n",
    "    print(df_dict[el].info())"
   ]
  },
  {
   "cell_type": "code",
   "execution_count": 153,
   "metadata": {
    "scrolled": false
   },
   "outputs": [
    {
     "data": {
      "text/html": [
       "<div>\n",
       "<style scoped>\n",
       "    .dataframe tbody tr th:only-of-type {\n",
       "        vertical-align: middle;\n",
       "    }\n",
       "\n",
       "    .dataframe tbody tr th {\n",
       "        vertical-align: top;\n",
       "    }\n",
       "\n",
       "    .dataframe thead th {\n",
       "        text-align: right;\n",
       "    }\n",
       "</style>\n",
       "<table border=\"1\" class=\"dataframe\">\n",
       "  <thead>\n",
       "    <tr style=\"text-align: right;\">\n",
       "      <th></th>\n",
       "      <th>date</th>\n",
       "      <th>final.output.concentrate_ag</th>\n",
       "      <th>final.output.concentrate_pb</th>\n",
       "      <th>final.output.concentrate_sol</th>\n",
       "      <th>final.output.concentrate_au</th>\n",
       "      <th>final.output.recovery</th>\n",
       "      <th>final.output.tail_ag</th>\n",
       "      <th>final.output.tail_pb</th>\n",
       "      <th>final.output.tail_sol</th>\n",
       "      <th>final.output.tail_au</th>\n",
       "      <th>...</th>\n",
       "      <th>secondary_cleaner.state.floatbank4_a_air</th>\n",
       "      <th>secondary_cleaner.state.floatbank4_a_level</th>\n",
       "      <th>secondary_cleaner.state.floatbank4_b_air</th>\n",
       "      <th>secondary_cleaner.state.floatbank4_b_level</th>\n",
       "      <th>secondary_cleaner.state.floatbank5_a_air</th>\n",
       "      <th>secondary_cleaner.state.floatbank5_a_level</th>\n",
       "      <th>secondary_cleaner.state.floatbank5_b_air</th>\n",
       "      <th>secondary_cleaner.state.floatbank5_b_level</th>\n",
       "      <th>secondary_cleaner.state.floatbank6_a_air</th>\n",
       "      <th>secondary_cleaner.state.floatbank6_a_level</th>\n",
       "    </tr>\n",
       "  </thead>\n",
       "  <tbody>\n",
       "    <tr>\n",
       "      <th>0</th>\n",
       "      <td>2016-01-15 00:00:00</td>\n",
       "      <td>6.055403</td>\n",
       "      <td>9.889648</td>\n",
       "      <td>5.507324</td>\n",
       "      <td>42.192020</td>\n",
       "      <td>70.541216</td>\n",
       "      <td>10.411962</td>\n",
       "      <td>0.895447</td>\n",
       "      <td>16.904297</td>\n",
       "      <td>2.143149</td>\n",
       "      <td>...</td>\n",
       "      <td>14.016835</td>\n",
       "      <td>-502.488007</td>\n",
       "      <td>12.099931</td>\n",
       "      <td>-504.715942</td>\n",
       "      <td>9.925633</td>\n",
       "      <td>-498.310211</td>\n",
       "      <td>8.079666</td>\n",
       "      <td>-500.470978</td>\n",
       "      <td>14.151341</td>\n",
       "      <td>-605.841980</td>\n",
       "    </tr>\n",
       "    <tr>\n",
       "      <th>1</th>\n",
       "      <td>2016-01-15 01:00:00</td>\n",
       "      <td>6.029369</td>\n",
       "      <td>9.968944</td>\n",
       "      <td>5.257781</td>\n",
       "      <td>42.701629</td>\n",
       "      <td>69.266198</td>\n",
       "      <td>10.462676</td>\n",
       "      <td>0.927452</td>\n",
       "      <td>16.634514</td>\n",
       "      <td>2.224930</td>\n",
       "      <td>...</td>\n",
       "      <td>13.992281</td>\n",
       "      <td>-505.503262</td>\n",
       "      <td>11.950531</td>\n",
       "      <td>-501.331529</td>\n",
       "      <td>10.039245</td>\n",
       "      <td>-500.169983</td>\n",
       "      <td>7.984757</td>\n",
       "      <td>-500.582168</td>\n",
       "      <td>13.998353</td>\n",
       "      <td>-599.787184</td>\n",
       "    </tr>\n",
       "    <tr>\n",
       "      <th>2</th>\n",
       "      <td>2016-01-15 02:00:00</td>\n",
       "      <td>6.055926</td>\n",
       "      <td>10.213995</td>\n",
       "      <td>5.383759</td>\n",
       "      <td>42.657501</td>\n",
       "      <td>68.116445</td>\n",
       "      <td>10.507046</td>\n",
       "      <td>0.953716</td>\n",
       "      <td>16.208849</td>\n",
       "      <td>2.257889</td>\n",
       "      <td>...</td>\n",
       "      <td>14.015015</td>\n",
       "      <td>-502.520901</td>\n",
       "      <td>11.912783</td>\n",
       "      <td>-501.133383</td>\n",
       "      <td>10.070913</td>\n",
       "      <td>-500.129135</td>\n",
       "      <td>8.013877</td>\n",
       "      <td>-500.517572</td>\n",
       "      <td>14.028663</td>\n",
       "      <td>-601.427363</td>\n",
       "    </tr>\n",
       "  </tbody>\n",
       "</table>\n",
       "<p>3 rows × 87 columns</p>\n",
       "</div>"
      ],
      "text/plain": [
       "                  date  final.output.concentrate_ag  \\\n",
       "0  2016-01-15 00:00:00                     6.055403   \n",
       "1  2016-01-15 01:00:00                     6.029369   \n",
       "2  2016-01-15 02:00:00                     6.055926   \n",
       "\n",
       "   final.output.concentrate_pb  final.output.concentrate_sol  \\\n",
       "0                     9.889648                      5.507324   \n",
       "1                     9.968944                      5.257781   \n",
       "2                    10.213995                      5.383759   \n",
       "\n",
       "   final.output.concentrate_au  final.output.recovery  final.output.tail_ag  \\\n",
       "0                    42.192020              70.541216             10.411962   \n",
       "1                    42.701629              69.266198             10.462676   \n",
       "2                    42.657501              68.116445             10.507046   \n",
       "\n",
       "   final.output.tail_pb  final.output.tail_sol  final.output.tail_au  ...  \\\n",
       "0              0.895447              16.904297              2.143149  ...   \n",
       "1              0.927452              16.634514              2.224930  ...   \n",
       "2              0.953716              16.208849              2.257889  ...   \n",
       "\n",
       "   secondary_cleaner.state.floatbank4_a_air  \\\n",
       "0                                 14.016835   \n",
       "1                                 13.992281   \n",
       "2                                 14.015015   \n",
       "\n",
       "   secondary_cleaner.state.floatbank4_a_level  \\\n",
       "0                                 -502.488007   \n",
       "1                                 -505.503262   \n",
       "2                                 -502.520901   \n",
       "\n",
       "   secondary_cleaner.state.floatbank4_b_air  \\\n",
       "0                                 12.099931   \n",
       "1                                 11.950531   \n",
       "2                                 11.912783   \n",
       "\n",
       "   secondary_cleaner.state.floatbank4_b_level  \\\n",
       "0                                 -504.715942   \n",
       "1                                 -501.331529   \n",
       "2                                 -501.133383   \n",
       "\n",
       "   secondary_cleaner.state.floatbank5_a_air  \\\n",
       "0                                  9.925633   \n",
       "1                                 10.039245   \n",
       "2                                 10.070913   \n",
       "\n",
       "   secondary_cleaner.state.floatbank5_a_level  \\\n",
       "0                                 -498.310211   \n",
       "1                                 -500.169983   \n",
       "2                                 -500.129135   \n",
       "\n",
       "   secondary_cleaner.state.floatbank5_b_air  \\\n",
       "0                                  8.079666   \n",
       "1                                  7.984757   \n",
       "2                                  8.013877   \n",
       "\n",
       "   secondary_cleaner.state.floatbank5_b_level  \\\n",
       "0                                 -500.470978   \n",
       "1                                 -500.582168   \n",
       "2                                 -500.517572   \n",
       "\n",
       "   secondary_cleaner.state.floatbank6_a_air  \\\n",
       "0                                 14.151341   \n",
       "1                                 13.998353   \n",
       "2                                 14.028663   \n",
       "\n",
       "   secondary_cleaner.state.floatbank6_a_level  \n",
       "0                                 -605.841980  \n",
       "1                                 -599.787184  \n",
       "2                                 -601.427363  \n",
       "\n",
       "[3 rows x 87 columns]"
      ]
     },
     "execution_count": 153,
     "metadata": {},
     "output_type": "execute_result"
    }
   ],
   "source": [
    "df_full.head(3)"
   ]
  },
  {
   "cell_type": "markdown",
   "metadata": {},
   "source": [
    "**Вывод**\n",
    "\n",
    "- В таблицах есть пропуски\n",
    "- Все данные, кроме даты, числовые. Столбец `data` имеет формат `object`."
   ]
  },
  {
   "cell_type": "markdown",
   "metadata": {},
   "source": [
    "Поскольку колонок много, сделаем функцию для быстрого поиска нужных столбцов"
   ]
  },
  {
   "cell_type": "code",
   "execution_count": 154,
   "metadata": {},
   "outputs": [],
   "source": [
    "# функиця для поиска названий колонок в датафрейме\n",
    "def columns_search(df, word, exception=None):\n",
    "    '''\n",
    "    df - датафрем, в котором ищем названия колонок\n",
    "    word - строка, которая должна содержаться в названии\n",
    "    exception - строка (или список строк), которая не должна содержаться в названии\n",
    "    '''\n",
    "    result = []\n",
    "    all_columns = df.columns.tolist()\n",
    "    if type(exception) is str:\n",
    "        exception = [exception]\n",
    "\n",
    "    for name in all_columns:\n",
    "        if exception is None:\n",
    "            if word in name:\n",
    "                result.append(name)\n",
    "        else:\n",
    "            if word in name:\n",
    "                status = 0\n",
    "                for el in exception:\n",
    "                    if el in name:\n",
    "                        break\n",
    "                    elif el not in name:\n",
    "                        status += 1\n",
    "                if status == len(exception):\n",
    "                    result.append(name)\n",
    "                          \n",
    "    return result"
   ]
  },
  {
   "cell_type": "markdown",
   "metadata": {},
   "source": [
    "### Проверка расчета"
   ]
  },
  {
   "cell_type": "markdown",
   "metadata": {},
   "source": [
    "Проверим, что эффективность обогащения рассчитана правильно."
   ]
  },
  {
   "cell_type": "code",
   "execution_count": 155,
   "metadata": {},
   "outputs": [],
   "source": [
    "C = df_train['rougher.output.concentrate_au']\n",
    "F = df_train['rougher.input.feed_au']\n",
    "T = df_train['rougher.output.tail_au']\n",
    "rougher_output_recovery_df = df_train['rougher.output.recovery']\n",
    "rougher_output_recovery_calculated = C * ( F - T) / (F * (C - T)) * 100"
   ]
  },
  {
   "cell_type": "code",
   "execution_count": 156,
   "metadata": {
    "scrolled": true
   },
   "outputs": [
    {
     "data": {
      "text/plain": [
       "9.73512347450521e-15"
      ]
     },
     "execution_count": 156,
     "metadata": {},
     "output_type": "execute_result"
    }
   ],
   "source": [
    "mae = mean_absolute_error(rougher_output_recovery_calculated, rougher_output_recovery_df)\n",
    "mae"
   ]
  },
  {
   "cell_type": "markdown",
   "metadata": {},
   "source": [
    "**Вывод**\n",
    "\n",
    "Значение МАЕ получилось близким к нулю. Это говорит о том, что эффективность обогощения посчитана правильно"
   ]
  },
  {
   "cell_type": "markdown",
   "metadata": {},
   "source": [
    "### Анализ признаков"
   ]
  },
  {
   "cell_type": "markdown",
   "metadata": {},
   "source": [
    "Некоторые признаки, недоступны в тестовой выборке (53 колонки протов 87 в полном датасете). Найдем их"
   ]
  },
  {
   "cell_type": "code",
   "execution_count": 157,
   "metadata": {},
   "outputs": [
    {
     "data": {
      "text/plain": [
       "Index(['final.output.concentrate_ag', 'final.output.concentrate_au',\n",
       "       'final.output.concentrate_pb', 'final.output.concentrate_sol',\n",
       "       'final.output.recovery', 'final.output.tail_ag', 'final.output.tail_au',\n",
       "       'final.output.tail_pb', 'final.output.tail_sol',\n",
       "       'primary_cleaner.output.concentrate_ag',\n",
       "       'primary_cleaner.output.concentrate_au',\n",
       "       'primary_cleaner.output.concentrate_pb',\n",
       "       'primary_cleaner.output.concentrate_sol',\n",
       "       'primary_cleaner.output.tail_ag', 'primary_cleaner.output.tail_au',\n",
       "       'primary_cleaner.output.tail_pb', 'primary_cleaner.output.tail_sol',\n",
       "       'rougher.calculation.au_pb_ratio',\n",
       "       'rougher.calculation.floatbank10_sulfate_to_au_feed',\n",
       "       'rougher.calculation.floatbank11_sulfate_to_au_feed',\n",
       "       'rougher.calculation.sulfate_to_au_concentrate',\n",
       "       'rougher.output.concentrate_ag', 'rougher.output.concentrate_au',\n",
       "       'rougher.output.concentrate_pb', 'rougher.output.concentrate_sol',\n",
       "       'rougher.output.recovery', 'rougher.output.tail_ag',\n",
       "       'rougher.output.tail_au', 'rougher.output.tail_pb',\n",
       "       'rougher.output.tail_sol', 'secondary_cleaner.output.tail_ag',\n",
       "       'secondary_cleaner.output.tail_au', 'secondary_cleaner.output.tail_pb',\n",
       "       'secondary_cleaner.output.tail_sol'],\n",
       "      dtype='object')"
      ]
     },
     "execution_count": 157,
     "metadata": {},
     "output_type": "execute_result"
    }
   ],
   "source": [
    "extra_features = df_train.columns.difference(df_test.columns)\n",
    "extra_features"
   ]
  },
  {
   "cell_type": "markdown",
   "metadata": {},
   "source": [
    "Параметры, не вошедшие в тестотвую выборку (замеряются и/или рассчитываются значительно позже):\n",
    "1. концентрации элементов в продукте и в отвальных хвостах после флотации\n",
    "2. концентрации элементов в продукте и в отвальных хвостах после первой очистки\n",
    "3. концентрация элементов в отвальных хвостах после второй очистки\n",
    "4. финальные концентрации элементов в продукте и отвальных хвостах\n",
    "5. расчётные характеристики для флотации\n",
    "6. эфективность обогащения после флотации и итоговая (целевой признак)\n",
    "\n",
    "Таким образом, в тестовом датасете присутствуют входные параметры и параметры текущего состояния этапа обогащения, но выходные (в  т.ч. параметры, характеризующие финальный этап) и расчетные параметры  отсутствуют."
   ]
  },
  {
   "cell_type": "code",
   "execution_count": 158,
   "metadata": {},
   "outputs": [],
   "source": [
    "df_extra_features = df_train[extra_features]\n",
    "#report2 = sv.analyze([df_extra_features, \"extra_features\"])"
   ]
  },
  {
   "cell_type": "code",
   "execution_count": 159,
   "metadata": {
    "scrolled": false
   },
   "outputs": [],
   "source": [
    "#report2.show_notebook(w=940, h=550, scale=0.9)"
   ]
  },
  {
   "cell_type": "markdown",
   "metadata": {},
   "source": [
    "### Предобработка данных"
   ]
  },
  {
   "cell_type": "markdown",
   "metadata": {},
   "source": [
    "Преобразуем столбец даты в подходящий тип"
   ]
  },
  {
   "cell_type": "code",
   "execution_count": 160,
   "metadata": {},
   "outputs": [],
   "source": [
    "for df in df_dict:\n",
    "    df_dict[df]['date'] = pd.to_datetime(df_dict[df]['date'], format='%Y-%m-%d %H:%M:%S')"
   ]
  },
  {
   "cell_type": "markdown",
   "metadata": {},
   "source": [
    "В таблицах есть пропуски. Посмотрим на их количество"
   ]
  },
  {
   "cell_type": "code",
   "execution_count": 161,
   "metadata": {},
   "outputs": [],
   "source": [
    "# функция подсчета числа и доли пропусков в столбцах\n",
    "def missed(df, n):\n",
    "    \"\"\"\n",
    "    1 - возвращает таблицу, пригодную для дальнейшей работы\n",
    "    2 - возвращает отформатированную таблицу \n",
    "    3 - возвращает describe таблицы\n",
    "    4 - возвращает строки, в которых пропусков более 3%\n",
    "    5 - % пропущенных строк от размера всей таблицы\n",
    "    \"\"\"\n",
    "    \n",
    "    table = df.isna().agg(['sum', 'mean']).T\n",
    "    \n",
    "    if n == 1:\n",
    "        return table\n",
    "    if n == 2:\n",
    "        return table.style.format({'mean': '{:.2%}'})\n",
    "    if n == 3:\n",
    "        return table.describe()\n",
    "    if n == 4:\n",
    "        return table.query('mean > 0.03') \n",
    "    if n == 5:\n",
    "        return round(table['sum'].sum() / len(df) * 100, 2)"
   ]
  },
  {
   "cell_type": "code",
   "execution_count": 162,
   "metadata": {
    "scrolled": false
   },
   "outputs": [
    {
     "name": "stdout",
     "output_type": "stream",
     "text": [
      "           df_train           \n",
      "               sum       mean\n",
      "count    87.000000  87.000000\n",
      "mean     47.126437   0.003331\n",
      "std     186.800590   0.013202\n",
      "min       0.000000   0.000000\n",
      "25%       0.000000   0.000000\n",
      "50%       1.000000   0.000071\n",
      "75%       8.000000   0.000565\n",
      "max    1605.000000   0.113436\n",
      "% строк с пропусками: 28.98\n",
      "\n",
      "           df_test            \n",
      "             sum       mean\n",
      "count  53.000000  53.000000\n",
      "mean    1.698113   0.000321\n",
      "std     4.729551   0.000894\n",
      "min     0.000000   0.000000\n",
      "25%     0.000000   0.000000\n",
      "50%     0.000000   0.000000\n",
      "75%     0.000000   0.000000\n",
      "max    25.000000   0.004726\n",
      "% строк с пропусками: 1.7\n",
      "\n",
      "           df_full            \n",
      "               sum       mean\n",
      "count    87.000000  87.000000\n",
      "mean     51.505747   0.002650\n",
      "std     202.776935   0.010431\n",
      "min       0.000000   0.000000\n",
      "25%       0.000000   0.000000\n",
      "50%       1.000000   0.000051\n",
      "75%      11.500000   0.000592\n",
      "max    1748.000000   0.089922\n",
      "% строк с пропусками: 23.05\n",
      "\n"
     ]
    }
   ],
   "source": [
    "for el in df_dict:\n",
    "    print('{:^30}'.format(el))\n",
    "    print(missed(df_dict[el], 3))\n",
    "    print(f'% строк с пропусками:', missed(df_dict[el], 5))\n",
    "    print()"
   ]
  },
  {
   "cell_type": "code",
   "execution_count": 163,
   "metadata": {
    "scrolled": false
   },
   "outputs": [
    {
     "data": {
      "text/html": [
       "<div>\n",
       "<style scoped>\n",
       "    .dataframe tbody tr th:only-of-type {\n",
       "        vertical-align: middle;\n",
       "    }\n",
       "\n",
       "    .dataframe tbody tr th {\n",
       "        vertical-align: top;\n",
       "    }\n",
       "\n",
       "    .dataframe thead th {\n",
       "        text-align: right;\n",
       "    }\n",
       "</style>\n",
       "<table border=\"1\" class=\"dataframe\">\n",
       "  <thead>\n",
       "    <tr style=\"text-align: right;\">\n",
       "      <th></th>\n",
       "      <th>sum</th>\n",
       "      <th>mean</th>\n",
       "    </tr>\n",
       "  </thead>\n",
       "  <tbody>\n",
       "    <tr>\n",
       "      <th>rougher.input.floatbank11_xanthate</th>\n",
       "      <td>428.0</td>\n",
       "      <td>0.030249</td>\n",
       "    </tr>\n",
       "    <tr>\n",
       "      <th>rougher.state.floatbank10_e_air</th>\n",
       "      <td>436.0</td>\n",
       "      <td>0.030815</td>\n",
       "    </tr>\n",
       "    <tr>\n",
       "      <th>secondary_cleaner.output.tail_sol</th>\n",
       "      <td>1605.0</td>\n",
       "      <td>0.113436</td>\n",
       "    </tr>\n",
       "  </tbody>\n",
       "</table>\n",
       "</div>"
      ],
      "text/plain": [
       "                                       sum      mean\n",
       "rougher.input.floatbank11_xanthate   428.0  0.030249\n",
       "rougher.state.floatbank10_e_air      436.0  0.030815\n",
       "secondary_cleaner.output.tail_sol   1605.0  0.113436"
      ]
     },
     "execution_count": 163,
     "metadata": {},
     "output_type": "execute_result"
    }
   ],
   "source": [
    "# строки с пропусками более 3%\n",
    "missed(df_train, 4)"
   ]
  },
  {
   "cell_type": "code",
   "execution_count": 164,
   "metadata": {
    "scrolled": true
   },
   "outputs": [
    {
     "data": {
      "text/html": [
       "<div>\n",
       "<style scoped>\n",
       "    .dataframe tbody tr th:only-of-type {\n",
       "        vertical-align: middle;\n",
       "    }\n",
       "\n",
       "    .dataframe tbody tr th {\n",
       "        vertical-align: top;\n",
       "    }\n",
       "\n",
       "    .dataframe thead th {\n",
       "        text-align: right;\n",
       "    }\n",
       "</style>\n",
       "<table border=\"1\" class=\"dataframe\">\n",
       "  <thead>\n",
       "    <tr style=\"text-align: right;\">\n",
       "      <th></th>\n",
       "      <th>sum</th>\n",
       "      <th>mean</th>\n",
       "    </tr>\n",
       "  </thead>\n",
       "  <tbody>\n",
       "    <tr>\n",
       "      <th>secondary_cleaner.output.tail_sol</th>\n",
       "      <td>1748.0</td>\n",
       "      <td>0.089922</td>\n",
       "    </tr>\n",
       "  </tbody>\n",
       "</table>\n",
       "</div>"
      ],
      "text/plain": [
       "                                      sum      mean\n",
       "secondary_cleaner.output.tail_sol  1748.0  0.089922"
      ]
     },
     "execution_count": 164,
     "metadata": {},
     "output_type": "execute_result"
    }
   ],
   "source": [
    "# строки с пропусками более 3%\n",
    "missed(df_full, 4) "
   ]
  },
  {
   "cell_type": "markdown",
   "metadata": {},
   "source": [
    "- В большинстве строк с пропусками доля пропусков составляет менее 1%\n",
    "- В таблице c обучающими данными призник `secondary_cleaner.output.tail_sol` имеет 11% пропусков.\n",
    "- В талбице с полными данными также столбец `secondary_cleaner.output.tail_sol` имеет пропусков около 9%\t"
   ]
  },
  {
   "cell_type": "markdown",
   "metadata": {},
   "source": [
    "Поскольку данные индексируются датой и временем получения информации (признак date), попробуем посмотреть,  можно ли заполнить пропуски предыдущим или следующим значением."
   ]
  },
  {
   "cell_type": "code",
   "execution_count": 165,
   "metadata": {
    "scrolled": false
   },
   "outputs": [],
   "source": [
    "#msno.matrix(df_train);"
   ]
  },
  {
   "cell_type": "code",
   "execution_count": 166,
   "metadata": {},
   "outputs": [],
   "source": [
    "df_train0 = pd.read_csv('C:/Users/Марина/YandexDisk/Обучение/Проекты с Практикума/сб2/pr_full2_gold_recovery_train_new.csv')"
   ]
  },
  {
   "cell_type": "code",
   "execution_count": 167,
   "metadata": {},
   "outputs": [],
   "source": [
    "df_train0 = df_train0.fillna(method='ffill').fillna(method='bfill')"
   ]
  },
  {
   "cell_type": "code",
   "execution_count": 168,
   "metadata": {
    "scrolled": true
   },
   "outputs": [
    {
     "data": {
      "text/plain": [
       "<AxesSubplot:xlabel='date'>"
      ]
     },
     "execution_count": 168,
     "metadata": {},
     "output_type": "execute_result"
    },
    {
     "data": {
      "image/png": "[encoded data removed]",
      "text/plain": [
       "<Figure size 1800x360 with 1 Axes>"
      ]
     },
     "metadata": {
      "needs_background": "light"
     },
     "output_type": "display_data"
    }
   ],
   "source": [
    "df_train0.plot(x='date', y='secondary_cleaner.output.tail_sol', figsize=(25,5))"
   ]
  },
  {
   "cell_type": "code",
   "execution_count": 169,
   "metadata": {},
   "outputs": [
    {
     "data": {
      "text/plain": [
       "<AxesSubplot:xlabel='date'>"
      ]
     },
     "execution_count": 169,
     "metadata": {},
     "output_type": "execute_result"
    },
    {
     "data": {
      "image/png": "[encoded data removed]",
      "text/plain": [
       "<Figure size 1800x360 with 1 Axes>"
      ]
     },
     "metadata": {
      "needs_background": "light"
     },
     "output_type": "display_data"
    }
   ],
   "source": [
    "df_full.plot(x='date', y='secondary_cleaner.output.tail_sol', figsize=(25,5))"
   ]
  },
  {
   "cell_type": "markdown",
   "metadata": {},
   "source": [
    "Посмотрим, насолько изменились распределения признаков"
   ]
  },
  {
   "cell_type": "code",
   "execution_count": 170,
   "metadata": {},
   "outputs": [],
   "source": [
    "missed_more_1 = missed(df_train, 1).query('mean > 0.01').index.tolist()\n",
    "df_train0_fill = df_train0[missed_more_1]\n",
    "df_train_fill = df_train[missed_more_1]"
   ]
  },
  {
   "cell_type": "code",
   "execution_count": 171,
   "metadata": {
    "scrolled": false
   },
   "outputs": [],
   "source": [
    "#report0 = sv.compare(df_train0_fill, df_train_fill)"
   ]
  },
  {
   "cell_type": "code",
   "execution_count": 172,
   "metadata": {
    "scrolled": false
   },
   "outputs": [],
   "source": [
    "#report0.show_notebook(w=940, h=550, scale=0.9)"
   ]
  },
  {
   "cell_type": "markdown",
   "metadata": {},
   "source": [
    "Из отчета видно, что при заполнении пропусков предыдущим и последующим значениями среднее и медиана у некоторых признаков сместились на десятые части. Однако у признака `secondary_cleaner.output.tail_sol`, у которого больше всего пропусков, эти парметры изменились сильнее."
   ]
  },
  {
   "cell_type": "code",
   "execution_count": 173,
   "metadata": {},
   "outputs": [],
   "source": [
    "df_train = df_train.fillna(method='ffill').fillna(method='bfill')\n",
    "df_test = df_test.fillna(method='ffill').fillna(method='bfill')\n",
    "df_full = df_full.fillna(method='ffill').fillna(method='bfill')"
   ]
  },
  {
   "cell_type": "markdown",
   "metadata": {},
   "source": [
    "## Анализ данных"
   ]
  },
  {
   "cell_type": "markdown",
   "metadata": {},
   "source": [
    "Составим отчет по данным полной таблицы"
   ]
  },
  {
   "cell_type": "code",
   "execution_count": 174,
   "metadata": {
    "scrolled": false
   },
   "outputs": [],
   "source": [
    "#report = sv.analyze([df_full, \"full table\"])"
   ]
  },
  {
   "cell_type": "code",
   "execution_count": 175,
   "metadata": {
    "scrolled": true
   },
   "outputs": [],
   "source": [
    "#report.show_notebook(w=940, h=550, scale=0.9)"
   ]
  },
  {
   "cell_type": "markdown",
   "metadata": {},
   "source": [
    "### Изменение концентрации металлов"
   ]
  },
  {
   "cell_type": "markdown",
   "metadata": {},
   "source": [
    "Посмотрим, как меняется концентрация металлов на различных стадиях обработки"
   ]
  },
  {
   "cell_type": "code",
   "execution_count": 176,
   "metadata": {},
   "outputs": [],
   "source": [
    "au = columns_search(df_full, 'concentrate_au')\n",
    "ag = columns_search(df_full, 'concentrate_ag')\n",
    "pb = columns_search(df_full, 'concentrate_pb')\n",
    "metals = {'au' : au , 'ag' : ag, 'pb' : pb}"
   ]
  },
  {
   "cell_type": "code",
   "execution_count": 177,
   "metadata": {
    "scrolled": false
   },
   "outputs": [
    {
     "data": {
      "image/png": "[encoded data removed]",
      "text/plain": [
       "<Figure size 432x288 with 1 Axes>"
      ]
     },
     "metadata": {
      "needs_background": "light"
     },
     "output_type": "display_data"
    },
    {
     "data": {
      "image/png": "[encoded data removed]",
      "text/plain": [
       "<Figure size 432x288 with 1 Axes>"
      ]
     },
     "metadata": {
      "needs_background": "light"
     },
     "output_type": "display_data"
    },
    {
     "data": {
      "image/png": "[encoded data removed]",
      "text/plain": [
       "<Figure size 432x288 with 1 Axes>"
      ]
     },
     "metadata": {
      "needs_background": "light"
     },
     "output_type": "display_data"
    }
   ],
   "source": [
    "for key in metals:    \n",
    "    df_full[metals[key]].plot(kind='hist', bins=50, alpha=0.7, legend=True)\n",
    "    plt.xlabel('Концентрация', fontsize=10)\n",
    "    plt.title('Изменение концентрации ' + key)\n",
    "    plt.show()"
   ]
  },
  {
   "cell_type": "markdown",
   "metadata": {},
   "source": [
    "**Вывод**\n",
    "\n",
    "- Au: концентрация золота растет на каждом этапе очистки, как и ожидалось\n",
    "- Ag: концентрация серебра падает в процессе, как и ожидалось\n",
    "- Pb: концентрация свинца увеличилась после флотации, далее не изменялась\n",
    "- Во всех распределениях есть аномальное значение около нуля"
   ]
  },
  {
   "cell_type": "markdown",
   "metadata": {},
   "source": [
    "### Распределение размеров гранул "
   ]
  },
  {
   "cell_type": "markdown",
   "metadata": {},
   "source": [
    "Сравним распределения размеров гранул сырья на обучающей и тестовой выборках."
   ]
  },
  {
   "cell_type": "code",
   "execution_count": 178,
   "metadata": {},
   "outputs": [
    {
     "data": {
      "text/plain": [
       "['primary_cleaner.input.feed_size', 'rougher.input.feed_size']"
      ]
     },
     "execution_count": 178,
     "metadata": {},
     "output_type": "execute_result"
    }
   ],
   "source": [
    "columns_search(df_full, 'feed_size')"
   ]
  },
  {
   "cell_type": "code",
   "execution_count": 179,
   "metadata": {
    "scrolled": false
   },
   "outputs": [
    {
     "data": {
      "image/png": "[encoded data removed]",
      "text/plain": [
       "<Figure size 432x288 with 1 Axes>"
      ]
     },
     "metadata": {
      "needs_background": "light"
     },
     "output_type": "display_data"
    }
   ],
   "source": [
    "df_test['primary_cleaner.input.feed_size'].plot(kind='hist', bins=50, legend=True, alpha=1, label='test')\n",
    "df_train['primary_cleaner.input.feed_size'].plot(kind='hist', bins=50, legend=True, alpha=0.5, label='train')\n",
    "plt.title('Распределения размеров гранул сырья\\nпри первичной очиске')\n",
    "plt.xlabel('размеров гранул')\n",
    "plt.show()"
   ]
  },
  {
   "cell_type": "code",
   "execution_count": 180,
   "metadata": {
    "scrolled": true
   },
   "outputs": [
    {
     "data": {
      "text/plain": [
       "count    5290.000000\n",
       "mean        7.266339\n",
       "std         0.610219\n",
       "min         5.650000\n",
       "25%         6.890000\n",
       "50%         7.250000\n",
       "75%         7.600000\n",
       "max        15.500000\n",
       "Name: primary_cleaner.input.feed_size, dtype: float64"
      ]
     },
     "execution_count": 180,
     "metadata": {},
     "output_type": "execute_result"
    }
   ],
   "source": [
    "df_test['primary_cleaner.input.feed_size'].describe()"
   ]
  },
  {
   "cell_type": "code",
   "execution_count": 181,
   "metadata": {
    "scrolled": true
   },
   "outputs": [
    {
     "data": {
      "text/plain": [
       "count    14149.000000\n",
       "mean         7.322310\n",
       "std          0.614062\n",
       "min          1.080000\n",
       "25%          6.960000\n",
       "50%          7.290000\n",
       "75%          7.700000\n",
       "max         10.470000\n",
       "Name: primary_cleaner.input.feed_size, dtype: float64"
      ]
     },
     "execution_count": 181,
     "metadata": {},
     "output_type": "execute_result"
    }
   ],
   "source": [
    "df_train['primary_cleaner.input.feed_size'].describe()"
   ]
  },
  {
   "cell_type": "code",
   "execution_count": 182,
   "metadata": {
    "scrolled": false
   },
   "outputs": [
    {
     "data": {
      "image/png": "[encoded data removed]",
      "text/plain": [
       "<Figure size 432x288 with 1 Axes>"
      ]
     },
     "metadata": {
      "needs_background": "light"
     },
     "output_type": "display_data"
    }
   ],
   "source": [
    "df_test['rougher.input.feed_size'].plot(kind='hist', bins=50, legend=True, alpha=1, label='test')\n",
    "df_train['rougher.input.feed_size'].plot(kind='hist', bins=50, legend=True, alpha=0.5, label='train')\n",
    "plt.title('Распределения размеров гранул сырья\\nпри флотации')\n",
    "plt.xlabel('размеров гранул')\n",
    "plt.show()"
   ]
  },
  {
   "cell_type": "code",
   "execution_count": 183,
   "metadata": {
    "scrolled": true
   },
   "outputs": [
    {
     "data": {
      "text/plain": [
       "count    5290.000000\n",
       "mean       55.952754\n",
       "std        19.080334\n",
       "min         0.046369\n",
       "25%        43.906504\n",
       "50%        50.846843\n",
       "75%        62.451165\n",
       "max       392.494040\n",
       "Name: rougher.input.feed_size, dtype: float64"
      ]
     },
     "execution_count": 183,
     "metadata": {},
     "output_type": "execute_result"
    }
   ],
   "source": [
    "df_test['rougher.input.feed_size'].describe()"
   ]
  },
  {
   "cell_type": "code",
   "execution_count": 184,
   "metadata": {
    "scrolled": true
   },
   "outputs": [
    {
     "data": {
      "text/plain": [
       "count    14149.000000\n",
       "mean        60.239856\n",
       "std         23.005310\n",
       "min          9.659576\n",
       "25%         48.966751\n",
       "50%         55.269784\n",
       "75%         66.007526\n",
       "max        484.967466\n",
       "Name: rougher.input.feed_size, dtype: float64"
      ]
     },
     "execution_count": 184,
     "metadata": {},
     "output_type": "execute_result"
    }
   ],
   "source": [
    "df_train['rougher.input.feed_size'].describe()"
   ]
  },
  {
   "cell_type": "markdown",
   "metadata": {},
   "source": [
    "**Вывод**\n",
    "\n",
    "Распределения на тестовой и обучающей выборки отличаются не сильно. "
   ]
  },
  {
   "cell_type": "markdown",
   "metadata": {},
   "source": [
    "### Суммарная концентрация веществ"
   ]
  },
  {
   "cell_type": "markdown",
   "metadata": {},
   "source": [
    "Посмотрим на суммарную концентрацию всех веществ на разных стадиях: в сырье, в черновом и финальном концентратах."
   ]
  },
  {
   "cell_type": "code",
   "execution_count": 185,
   "metadata": {
    "scrolled": true
   },
   "outputs": [
    {
     "data": {
      "text/plain": [
       "['final.output.concentrate_ag',\n",
       " 'final.output.concentrate_pb',\n",
       " 'final.output.concentrate_sol',\n",
       " 'final.output.concentrate_au',\n",
       " 'primary_cleaner.output.concentrate_ag',\n",
       " 'primary_cleaner.output.concentrate_pb',\n",
       " 'primary_cleaner.output.concentrate_sol',\n",
       " 'primary_cleaner.output.concentrate_au',\n",
       " 'rougher.output.concentrate_ag',\n",
       " 'rougher.output.concentrate_pb',\n",
       " 'rougher.output.concentrate_sol',\n",
       " 'rougher.output.concentrate_au',\n",
       " 'rougher.input.feed_ag',\n",
       " 'rougher.input.feed_pb',\n",
       " 'rougher.input.feed_sol',\n",
       " 'rougher.input.feed_au']"
      ]
     },
     "execution_count": 185,
     "metadata": {},
     "output_type": "execute_result"
    }
   ],
   "source": [
    "concentrate = columns_search(df_full, 'concentrate', 'calculation') + columns_search(df_full, 'rougher.input.feed', ['rate', 'size'])\n",
    "concentrate"
   ]
  },
  {
   "cell_type": "code",
   "execution_count": 186,
   "metadata": {
    "scrolled": true
   },
   "outputs": [
    {
     "data": {
      "image/png": "[encoded data removed]",
      "text/plain": [
       "<Figure size 360x216 with 1 Axes>"
      ]
     },
     "metadata": {
      "needs_background": "light"
     },
     "output_type": "display_data"
    },
    {
     "data": {
      "image/png": "[encoded data removed]",
      "text/plain": [
       "<Figure size 360x216 with 1 Axes>"
      ]
     },
     "metadata": {
      "needs_background": "light"
     },
     "output_type": "display_data"
    },
    {
     "data": {
      "image/png": "[encoded data removed]",
      "text/plain": [
       "<Figure size 360x216 with 1 Axes>"
      ]
     },
     "metadata": {
      "needs_background": "light"
     },
     "output_type": "display_data"
    },
    {
     "data": {
      "image/png": "[encoded data removed]",
      "text/plain": [
       "<Figure size 360x216 with 1 Axes>"
      ]
     },
     "metadata": {
      "needs_background": "light"
     },
     "output_type": "display_data"
    }
   ],
   "source": [
    "for i in range(0, len(concentrate), 4):\n",
    "    name = concentrate[i].rsplit('.')\n",
    "    df_full[concentrate[i:4+i]].sum(axis=1).plot(kind='hist', bins=60, figsize=(5,3))\n",
    "    plt.xlabel('Суммарная концентрация')\n",
    "    plt.title('Суммарная концентрация веществ\\n' +  name[0]+' '+name[1])\n",
    "    plt.show()"
   ]
  },
  {
   "cell_type": "code",
   "execution_count": 187,
   "metadata": {
    "scrolled": false
   },
   "outputs": [
    {
     "data": {
      "image/png": "[encoded data removed]",
      "text/plain": [
       "<Figure size 432x288 with 1 Axes>"
      ]
     },
     "metadata": {
      "needs_background": "light"
     },
     "output_type": "display_data"
    }
   ],
   "source": [
    "for i in range(0, len(concentrate), 4):\n",
    "    name = concentrate[i].rsplit('.')\n",
    "    df_full[concentrate[i:4+i]].sum(axis=1).plot(kind='hist', bins=50, legend=True, label=name[0]+' '+name[1], alpha=0.9)\n",
    "plt.title('Сравнение распределений суммарной концентрации веществ')\n",
    "plt.xlabel('Суммарная концентрация')\n",
    "plt.show()"
   ]
  },
  {
   "cell_type": "markdown",
   "metadata": {},
   "source": [
    "**Вывод**\n",
    "\n",
    "В распределении суммарной концентрации есть аномалия около нуля. В распределении концентрации в сырье очень мало нулевых значений, аномалия проявляется после флотации и присутсвует после каждого этапа. Суммарная нулевая концентрация не имеет физического смысла (это значило бы, что в руде нет исследуемых веществ). Стоит удалить эти аномальные значения."
   ]
  },
  {
   "cell_type": "code",
   "execution_count": 188,
   "metadata": {},
   "outputs": [],
   "source": [
    "for i in range(len(concentrate)):\n",
    "    df_full = df_full[df_full[concentrate[i]] != 0]"
   ]
  },
  {
   "cell_type": "code",
   "execution_count": 189,
   "metadata": {},
   "outputs": [
    {
     "data": {
      "image/png": "[encoded data removed]",
      "text/plain": [
       "<Figure size 432x288 with 1 Axes>"
      ]
     },
     "metadata": {
      "needs_background": "light"
     },
     "output_type": "display_data"
    }
   ],
   "source": [
    "for i in range(0, len(concentrate), 4):\n",
    "    name = concentrate[i].rsplit('.')\n",
    "    df_full[concentrate[i:4+i]].sum(axis=1).plot(kind='hist', bins=50, legend=True, label=name[0]+' '+name[1], alpha=0.9)\n",
    "plt.title('Сравнение распределений суммарной концентрации веществ')\n",
    "plt.xlabel('Суммарная концентрация')\n",
    "plt.show()"
   ]
  },
  {
   "cell_type": "code",
   "execution_count": 190,
   "metadata": {
    "scrolled": true
   },
   "outputs": [
    {
     "data": {
      "text/plain": [
       "0.03999999910593"
      ]
     },
     "execution_count": 190,
     "metadata": {},
     "output_type": "execute_result"
    }
   ],
   "source": [
    "df_full[concentrate[4:8]].sum(axis=1).min()"
   ]
  },
  {
   "cell_type": "markdown",
   "metadata": {},
   "source": [
    "Удалим строки с нулевыми значениями из тестовой и обучающей выборок"
   ]
  },
  {
   "cell_type": "code",
   "execution_count": 191,
   "metadata": {},
   "outputs": [],
   "source": [
    "for i in range(len(concentrate)):\n",
    "    df_train= df_train[df_train[concentrate[i]] != 0]"
   ]
  },
  {
   "cell_type": "code",
   "execution_count": 192,
   "metadata": {},
   "outputs": [],
   "source": [
    "for i in concentrate[12:]:\n",
    "    df_test = df_test[df_test[i] != 0]"
   ]
  },
  {
   "cell_type": "markdown",
   "metadata": {},
   "source": [
    "## Модель"
   ]
  },
  {
   "cell_type": "markdown",
   "metadata": {},
   "source": [
    "### Функция для вычисления sMAPE"
   ]
  },
  {
   "cell_type": "code",
   "execution_count": 193,
   "metadata": {},
   "outputs": [],
   "source": [
    "def smape(true, predicted):\n",
    "    return (abs(true - predicted) / ((abs(true) + abs(predicted)) / 2)).sum() / len(true) * 100\n",
    "\n",
    "def result_smape(smape_rougher, smape_final):\n",
    "\n",
    "    result = 0.25 * smape_rougher + 0.75 * smape_final\n",
    "    return result"
   ]
  },
  {
   "cell_type": "markdown",
   "metadata": {},
   "source": [
    "###  Построение моделей"
   ]
  },
  {
   "cell_type": "markdown",
   "metadata": {},
   "source": [
    "Целевые признаки:"
   ]
  },
  {
   "cell_type": "code",
   "execution_count": 194,
   "metadata": {},
   "outputs": [
    {
     "data": {
      "text/plain": [
       "['final.output.recovery', 'rougher.output.recovery']"
      ]
     },
     "execution_count": 194,
     "metadata": {},
     "output_type": "execute_result"
    }
   ],
   "source": [
    "columns_search(df_full, 'recovery')"
   ]
  },
  {
   "cell_type": "markdown",
   "metadata": {},
   "source": [
    "Будет две модели: для стадии `rougher` и стадии `final`."
   ]
  },
  {
   "cell_type": "markdown",
   "metadata": {},
   "source": [
    "Деление на тестовую и обучающую выборки не потребуется. Добавим в тестовую выборку целевые признаки"
   ]
  },
  {
   "cell_type": "code",
   "execution_count": 195,
   "metadata": {},
   "outputs": [
    {
     "data": {
      "text/plain": [
       "(5122, 55)"
      ]
     },
     "execution_count": 195,
     "metadata": {},
     "output_type": "execute_result"
    }
   ],
   "source": [
    "columns = ['final.output.recovery', 'rougher.output.recovery', 'date']\n",
    "df_test = pd.merge(df_full[columns], df_test)\n",
    "df_test.shape"
   ]
  },
  {
   "cell_type": "markdown",
   "metadata": {},
   "source": [
    "Выделим целевой признаки и признаки. Признаки должны удовлетворять следующим условиям\n",
    "- колонки есть и в тестовой и в обучающей выборках\n",
    "- параметры колонок должны быть получены не позднее стадии, для которой ищем предсказания"
   ]
  },
  {
   "cell_type": "code",
   "execution_count": 196,
   "metadata": {},
   "outputs": [
    {
     "name": "stdout",
     "output_type": "stream",
     "text": [
      "features_train_rougher (13716, 22)\n",
      "features_test_rougher (5122, 22)\n"
     ]
    }
   ],
   "source": [
    "# rougher\n",
    "features_rougher = columns_search(df_test, 'rougher' , 'recovery')\n",
    "\n",
    "target_train_rougher = df_train['rougher.output.recovery']\n",
    "features_train_rougher = df_train[features_rougher]\n",
    "print('features_train_rougher', features_train_rougher.shape)\n",
    "\n",
    "target_test_rougher = df_test['rougher.output.recovery']\n",
    "features_test_rougher = df_test[features_rougher]\n",
    "print('features_test_rougher', features_test_rougher.shape)"
   ]
  },
  {
   "cell_type": "markdown",
   "metadata": {},
   "source": [
    "Здесь признаки:"
   ]
  },
  {
   "cell_type": "code",
   "execution_count": 197,
   "metadata": {},
   "outputs": [
    {
     "data": {
      "text/plain": [
       "['rougher.input.feed_ag',\n",
       " 'rougher.input.feed_pb',\n",
       " 'rougher.input.feed_rate',\n",
       " 'rougher.input.feed_size',\n",
       " 'rougher.input.feed_sol',\n",
       " 'rougher.input.feed_au',\n",
       " 'rougher.input.floatbank10_sulfate',\n",
       " 'rougher.input.floatbank10_xanthate',\n",
       " 'rougher.input.floatbank11_sulfate',\n",
       " 'rougher.input.floatbank11_xanthate',\n",
       " 'rougher.state.floatbank10_a_air',\n",
       " 'rougher.state.floatbank10_a_level',\n",
       " 'rougher.state.floatbank10_b_air',\n",
       " 'rougher.state.floatbank10_b_level',\n",
       " 'rougher.state.floatbank10_c_air',\n",
       " 'rougher.state.floatbank10_c_level',\n",
       " 'rougher.state.floatbank10_d_air',\n",
       " 'rougher.state.floatbank10_d_level',\n",
       " 'rougher.state.floatbank10_e_air',\n",
       " 'rougher.state.floatbank10_e_level',\n",
       " 'rougher.state.floatbank10_f_air',\n",
       " 'rougher.state.floatbank10_f_level']"
      ]
     },
     "execution_count": 197,
     "metadata": {},
     "output_type": "execute_result"
    }
   ],
   "source": [
    "features_rougher"
   ]
  },
  {
   "cell_type": "code",
   "execution_count": 198,
   "metadata": {},
   "outputs": [
    {
     "name": "stdout",
     "output_type": "stream",
     "text": [
      "features_train_final (13716, 52)\n",
      "features_test_final (5122, 52)\n"
     ]
    }
   ],
   "source": [
    "# final\n",
    "features_final = df_test.columns.tolist()[3:]\n",
    "\n",
    "target_train_final= df_train['final.output.recovery']\n",
    "features_train_final = df_train[features_final]\n",
    "print('features_train_final', features_train_final.shape)\n",
    "\n",
    "target_test_final = df_test['final.output.recovery']\n",
    "features_test_final = df_test[features_final]\n",
    "print('features_test_final', features_test_final.shape)\n"
   ]
  },
  {
   "cell_type": "markdown",
   "metadata": {},
   "source": [
    "Здесь признаки:"
   ]
  },
  {
   "cell_type": "code",
   "execution_count": 199,
   "metadata": {},
   "outputs": [
    {
     "data": {
      "text/plain": [
       "['primary_cleaner.input.sulfate',\n",
       " 'primary_cleaner.input.depressant',\n",
       " 'primary_cleaner.input.feed_size',\n",
       " 'primary_cleaner.input.xanthate',\n",
       " 'primary_cleaner.state.floatbank8_a_air',\n",
       " 'primary_cleaner.state.floatbank8_a_level',\n",
       " 'primary_cleaner.state.floatbank8_b_air',\n",
       " 'primary_cleaner.state.floatbank8_b_level',\n",
       " 'primary_cleaner.state.floatbank8_c_air',\n",
       " 'primary_cleaner.state.floatbank8_c_level',\n",
       " 'primary_cleaner.state.floatbank8_d_air',\n",
       " 'primary_cleaner.state.floatbank8_d_level',\n",
       " 'rougher.input.feed_ag',\n",
       " 'rougher.input.feed_pb',\n",
       " 'rougher.input.feed_rate',\n",
       " 'rougher.input.feed_size',\n",
       " 'rougher.input.feed_sol',\n",
       " 'rougher.input.feed_au',\n",
       " 'rougher.input.floatbank10_sulfate',\n",
       " 'rougher.input.floatbank10_xanthate',\n",
       " 'rougher.input.floatbank11_sulfate',\n",
       " 'rougher.input.floatbank11_xanthate',\n",
       " 'rougher.state.floatbank10_a_air',\n",
       " 'rougher.state.floatbank10_a_level',\n",
       " 'rougher.state.floatbank10_b_air',\n",
       " 'rougher.state.floatbank10_b_level',\n",
       " 'rougher.state.floatbank10_c_air',\n",
       " 'rougher.state.floatbank10_c_level',\n",
       " 'rougher.state.floatbank10_d_air',\n",
       " 'rougher.state.floatbank10_d_level',\n",
       " 'rougher.state.floatbank10_e_air',\n",
       " 'rougher.state.floatbank10_e_level',\n",
       " 'rougher.state.floatbank10_f_air',\n",
       " 'rougher.state.floatbank10_f_level',\n",
       " 'secondary_cleaner.state.floatbank2_a_air',\n",
       " 'secondary_cleaner.state.floatbank2_a_level',\n",
       " 'secondary_cleaner.state.floatbank2_b_air',\n",
       " 'secondary_cleaner.state.floatbank2_b_level',\n",
       " 'secondary_cleaner.state.floatbank3_a_air',\n",
       " 'secondary_cleaner.state.floatbank3_a_level',\n",
       " 'secondary_cleaner.state.floatbank3_b_air',\n",
       " 'secondary_cleaner.state.floatbank3_b_level',\n",
       " 'secondary_cleaner.state.floatbank4_a_air',\n",
       " 'secondary_cleaner.state.floatbank4_a_level',\n",
       " 'secondary_cleaner.state.floatbank4_b_air',\n",
       " 'secondary_cleaner.state.floatbank4_b_level',\n",
       " 'secondary_cleaner.state.floatbank5_a_air',\n",
       " 'secondary_cleaner.state.floatbank5_a_level',\n",
       " 'secondary_cleaner.state.floatbank5_b_air',\n",
       " 'secondary_cleaner.state.floatbank5_b_level',\n",
       " 'secondary_cleaner.state.floatbank6_a_air',\n",
       " 'secondary_cleaner.state.floatbank6_a_level']"
      ]
     },
     "execution_count": 199,
     "metadata": {},
     "output_type": "execute_result"
    }
   ],
   "source": [
    "features_final"
   ]
  },
  {
   "cell_type": "markdown",
   "metadata": {},
   "source": [
    "Масштабируем числовые признаки с помощью z-преобразования. Метод StandardScaler() возвращает массив, мы же будем работать с таблицей"
   ]
  },
  {
   "cell_type": "code",
   "execution_count": 200,
   "metadata": {},
   "outputs": [],
   "source": [
    "pd.options.mode.chained_assignment = None\n",
    "\n",
    "scaler = StandardScaler()\n",
    "\n",
    "# rougher\n",
    "scaler.fit(features_train_rougher)\n",
    "features_train_rougher = pd.DataFrame(scaler.transform(features_train_rougher), columns=features_rougher)\n",
    "features_test_rougher = pd.DataFrame(scaler.transform(features_test_rougher), columns=features_rougher)\n",
    "\n",
    "# final\n",
    "scaler.fit(features_train_final)\n",
    "features_train_final = pd.DataFrame(scaler.transform(features_train_final), columns=features_final)\n",
    "features_test_final = pd.DataFrame(scaler.transform(features_test_final), columns=features_final)"
   ]
  },
  {
   "cell_type": "markdown",
   "metadata": {},
   "source": [
    "Для использования собственной метрики создадим свой объект"
   ]
  },
  {
   "cell_type": "code",
   "execution_count": 201,
   "metadata": {},
   "outputs": [],
   "source": [
    "my_scorer = make_scorer(smape, greater_is_better=False)"
   ]
  },
  {
   "cell_type": "markdown",
   "metadata": {},
   "source": [
    "Далее построим модели для предсказания"
   ]
  },
  {
   "cell_type": "code",
   "execution_count": 202,
   "metadata": {},
   "outputs": [],
   "source": [
    "# Линейная регрессия\n",
    "def linear_reg(features, target):\n",
    "    model = LinearRegression()\n",
    "    result = cross_val_score(model, features, target, scoring=my_scorer, cv=5).mean()\n",
    "    return [abs(result), model]"
   ]
  },
  {
   "cell_type": "code",
   "execution_count": 203,
   "metadata": {},
   "outputs": [],
   "source": [
    "# Дерево решений\n",
    "def tree(features, target):\n",
    "    best_model = None\n",
    "    best_result = 10**5\n",
    "    \n",
    "    for depth in range(3, 7, 1):\n",
    "        model = DecisionTreeRegressor(random_state=12345, max_depth=depth)\n",
    "        result = abs(cross_val_score(model, features, target, scoring=my_scorer, cv=8).mean())\n",
    "        \n",
    "        if result < best_result:\n",
    "            best_result = result\n",
    "            best_model = model\n",
    "            \n",
    "    return [best_result, best_model]"
   ]
  },
  {
   "cell_type": "code",
   "execution_count": 204,
   "metadata": {},
   "outputs": [],
   "source": [
    "# Случайный лес\n",
    "def forest(features, target):\n",
    "    best_model = None\n",
    "    best_result = 10**5\n",
    "    for depth in range(4, 15, 2):\n",
    "        for n in range(40, 70, 5):\n",
    "            model = RandomForestRegressor(random_state=12345, n_estimators=n, max_depth=depth, max_features=\"sqrt\")\n",
    "            result = abs(cross_val_score(model, features, target, scoring=my_scorer, cv=8).mean())\n",
    "\n",
    "            if result < best_result:\n",
    "                best_result = result\n",
    "                best_model = model\n",
    "    return [abs(best_result), best_model]"
   ]
  },
  {
   "cell_type": "code",
   "execution_count": 205,
   "metadata": {},
   "outputs": [],
   "source": [
    "# k ближайших соседей\n",
    "def neighbor(features, target):\n",
    "    best_model = None\n",
    "    best_result = 10**5\n",
    "    for n in range(1, 12, 2):\n",
    "        model = KNeighborsRegressor(n_neighbors=n)\n",
    "        result = abs(cross_val_score(model, features, target, scoring=my_scorer, cv=8).mean())\n",
    "        \n",
    "        if result < best_result:\n",
    "            best_result = result\n",
    "            best_model = model\n",
    "    return [abs(best_result), best_model]"
   ]
  },
  {
   "cell_type": "code",
   "execution_count": 121,
   "metadata": {},
   "outputs": [],
   "source": [
    "# функция для происка лучшей модели\n",
    "def model_search(features, target):\n",
    "    best_model = None\n",
    "    best_result = 10**5\n",
    "    \n",
    "    best_linear = linear_reg(features, target)\n",
    "    best_tree = tree(features, target)\n",
    "    best_forest = forest(features, target)\n",
    "    best_neighbor = neighbor(features, target)\n",
    "    \n",
    "    names = {'best_linear' : best_linear, 'best_tree' : best_tree, 'best_forest' : best_forest, 'best_neighbor' : best_neighbor}\n",
    "    best_models = pd.DataFrame([], columns=['model', 'smape'])\n",
    "    \n",
    "    for model in names:\n",
    "        best_models.loc[len(best_models.index)] = [model, names[model][0]]\n",
    "        \n",
    "        if names[model][0] < best_result:\n",
    "            best_result = names[model][0]\n",
    "            best_model = names[model][1]\n",
    "\n",
    "    return best_models, best_model, best_result"
   ]
  },
  {
   "cell_type": "markdown",
   "metadata": {},
   "source": [
    "Ищем лучшую модель для `rougher.output.recovery`"
   ]
  },
  {
   "cell_type": "code",
   "execution_count": 122,
   "metadata": {
    "scrolled": false
   },
   "outputs": [
    {
     "name": "stdout",
     "output_type": "stream",
     "text": [
      "3 7.143696449726592\n",
      "4 6.998603471029198\n",
      "5 7.313054119244264\n",
      "6 7.27491216409981\n",
      "5 55 6.326269298584944\n",
      "5 56 6.3328198052799\n",
      "5 57 6.3264509921747685\n",
      "5 58 6.32143664198894\n",
      "5 59 6.323094069502424\n",
      "5 60 6.330767736349743\n",
      "5 61 6.335858662551729\n",
      "5 62 6.332305172795614\n",
      "5 63 6.3320793051430355\n",
      "5 64 6.3193803850474985\n",
      "7 55 6.33314121703029\n",
      "7 56 6.3303370247846065\n",
      "7 57 6.321464480478285\n",
      "7 58 6.315459163431373\n",
      "7 59 6.310130078870076\n",
      "7 60 6.301974476870121\n",
      "7 61 6.308084448794164\n",
      "7 62 6.307540351415712\n",
      "7 63 6.304853421768676\n",
      "7 64 6.304587589544337\n",
      "9 55 6.4128365197178425\n",
      "9 56 6.410513817821139\n",
      "9 57 6.409168573856443\n",
      "9 58 6.400394941729414\n",
      "9 59 6.40084919528533\n",
      "9 60 6.411505245160127\n",
      "9 61 6.411637453358514\n",
      "9 62 6.39638242004796\n",
      "9 63 6.402128856744216\n",
      "9 64 6.407716058680277\n",
      "Wall time: 6min 31s\n"
     ]
    }
   ],
   "source": [
    "%%time\n",
    "table_rougher, best_model_rougher, best_result_rougher = model_search(features_train_rougher, target_train_rougher)"
   ]
  },
  {
   "cell_type": "code",
   "execution_count": 211,
   "metadata": {
    "scrolled": true
   },
   "outputs": [
    {
     "data": {
      "text/html": [
       "<div>\n",
       "<style scoped>\n",
       "    .dataframe tbody tr th:only-of-type {\n",
       "        vertical-align: middle;\n",
       "    }\n",
       "\n",
       "    .dataframe tbody tr th {\n",
       "        vertical-align: top;\n",
       "    }\n",
       "\n",
       "    .dataframe thead th {\n",
       "        text-align: right;\n",
       "    }\n",
       "</style>\n",
       "<table border=\"1\" class=\"dataframe\">\n",
       "  <thead>\n",
       "    <tr style=\"text-align: right;\">\n",
       "      <th></th>\n",
       "      <th>model</th>\n",
       "      <th>smape</th>\n",
       "    </tr>\n",
       "  </thead>\n",
       "  <tbody>\n",
       "    <tr>\n",
       "      <th>0</th>\n",
       "      <td>best_linear</td>\n",
       "      <td>6.673364</td>\n",
       "    </tr>\n",
       "    <tr>\n",
       "      <th>1</th>\n",
       "      <td>best_tree</td>\n",
       "      <td>6.998603</td>\n",
       "    </tr>\n",
       "    <tr>\n",
       "      <th>2</th>\n",
       "      <td>best_forest</td>\n",
       "      <td>6.301974</td>\n",
       "    </tr>\n",
       "    <tr>\n",
       "      <th>3</th>\n",
       "      <td>best_neighbor</td>\n",
       "      <td>7.942452</td>\n",
       "    </tr>\n",
       "  </tbody>\n",
       "</table>\n",
       "</div>"
      ],
      "text/plain": [
       "           model     smape\n",
       "0    best_linear  6.673364\n",
       "1      best_tree  6.998603\n",
       "2    best_forest  6.301974\n",
       "3  best_neighbor  7.942452"
      ]
     },
     "execution_count": 211,
     "metadata": {},
     "output_type": "execute_result"
    }
   ],
   "source": [
    "# Таблица для сравнения параметров лучших моделей\n",
    "table_rougher"
   ]
  },
  {
   "cell_type": "code",
   "execution_count": 212,
   "metadata": {},
   "outputs": [
    {
     "data": {
      "text/plain": [
       "RandomForestRegressor(max_depth=7, max_features='sqrt', n_estimators=60,\n",
       "                      random_state=12345)"
      ]
     },
     "execution_count": 212,
     "metadata": {},
     "output_type": "execute_result"
    }
   ],
   "source": [
    "best_model_rougher"
   ]
  },
  {
   "cell_type": "markdown",
   "metadata": {},
   "source": [
    "Проверим на тестовой выборке"
   ]
  },
  {
   "cell_type": "code",
   "execution_count": 216,
   "metadata": {},
   "outputs": [
    {
     "name": "stdout",
     "output_type": "stream",
     "text": [
      "rougher.output.recovery\n",
      "sMAPE на обучающей 6.3 %\n",
      "sMAPE на тестовой 4.02 %\n"
     ]
    }
   ],
   "source": [
    "rougher_model = RandomForestRegressor(\n",
    "                max_depth=7, \n",
    "                max_features='sqrt', \n",
    "                n_estimators=60,\n",
    "                random_state=12345).fit(features_train_rougher, target_train_rougher)\n",
    "rougher_predictions = rougher_model.predict(features_test_rougher)\n",
    "rougher_smape = smape(target_test_rougher, rougher_predictions)\n",
    "print('rougher.output.recovery')\n",
    "print('sMAPE на обучающей', round(best_result_rougher, 2), '%')\n",
    "print('sMAPE на тестовой', round(rougher_smape, 2), '%')"
   ]
  },
  {
   "cell_type": "markdown",
   "metadata": {},
   "source": [
    "Ищем лучшую модель для `final.output.recovery`"
   ]
  },
  {
   "cell_type": "code",
   "execution_count": 214,
   "metadata": {},
   "outputs": [
    {
     "name": "stdout",
     "output_type": "stream",
     "text": [
      "30 10.434247908925805\n",
      "32 10.399593946478118\n",
      "34 10.366595887835496\n",
      "36 10.338831432624897\n",
      "38 10.301512724562539\n",
      "40 10.272517292716994\n",
      "42 10.247861728765157\n",
      "44 10.22019152452744\n",
      "46 10.192140253672505\n",
      "48 10.164728518513847\n",
      "Wall time: 11min 26s\n"
     ]
    }
   ],
   "source": [
    "%%time\n",
    "table_final, best_model_final, best_result_final = model_search(features_train_final, target_train_final)"
   ]
  },
  {
   "cell_type": "code",
   "execution_count": 215,
   "metadata": {},
   "outputs": [
    {
     "data": {
      "text/html": [
       "<div>\n",
       "<style scoped>\n",
       "    .dataframe tbody tr th:only-of-type {\n",
       "        vertical-align: middle;\n",
       "    }\n",
       "\n",
       "    .dataframe tbody tr th {\n",
       "        vertical-align: top;\n",
       "    }\n",
       "\n",
       "    .dataframe thead th {\n",
       "        text-align: right;\n",
       "    }\n",
       "</style>\n",
       "<table border=\"1\" class=\"dataframe\">\n",
       "  <thead>\n",
       "    <tr style=\"text-align: right;\">\n",
       "      <th></th>\n",
       "      <th>model</th>\n",
       "      <th>smape</th>\n",
       "    </tr>\n",
       "  </thead>\n",
       "  <tbody>\n",
       "    <tr>\n",
       "      <th>0</th>\n",
       "      <td>best_linear</td>\n",
       "      <td>10.940824</td>\n",
       "    </tr>\n",
       "    <tr>\n",
       "      <th>1</th>\n",
       "      <td>best_tree</td>\n",
       "      <td>9.307701</td>\n",
       "    </tr>\n",
       "    <tr>\n",
       "      <th>2</th>\n",
       "      <td>best_forest</td>\n",
       "      <td>9.083529</td>\n",
       "    </tr>\n",
       "    <tr>\n",
       "      <th>3</th>\n",
       "      <td>best_neighbor</td>\n",
       "      <td>10.164729</td>\n",
       "    </tr>\n",
       "  </tbody>\n",
       "</table>\n",
       "</div>"
      ],
      "text/plain": [
       "           model      smape\n",
       "0    best_linear  10.940824\n",
       "1      best_tree   9.307701\n",
       "2    best_forest   9.083529\n",
       "3  best_neighbor  10.164729"
      ]
     },
     "execution_count": 215,
     "metadata": {},
     "output_type": "execute_result"
    }
   ],
   "source": [
    "# Таблица для сравнения параметров лучших моделей\n",
    "table_final"
   ]
  },
  {
   "cell_type": "code",
   "execution_count": 217,
   "metadata": {
    "scrolled": true
   },
   "outputs": [
    {
     "data": {
      "text/plain": [
       "RandomForestRegressor(max_depth=5, max_features='sqrt', n_estimators=65,\n",
       "                      random_state=12345)"
      ]
     },
     "execution_count": 217,
     "metadata": {},
     "output_type": "execute_result"
    }
   ],
   "source": [
    "best_model_final"
   ]
  },
  {
   "cell_type": "markdown",
   "metadata": {},
   "source": [
    "Проверим на тестовой выборке"
   ]
  },
  {
   "cell_type": "code",
   "execution_count": 218,
   "metadata": {},
   "outputs": [
    {
     "name": "stdout",
     "output_type": "stream",
     "text": [
      "final.output.recovery\n",
      "sMAPE на обучающей 9.08 %\n",
      "sMAPE на тестовой 7.45 %\n"
     ]
    }
   ],
   "source": [
    "final_model = RandomForestRegressor(\n",
    "    max_depth=5, \n",
    "    max_features='sqrt', \n",
    "    n_estimators=65,\n",
    "    random_state=12345\n",
    ").fit(features_train_final, target_train_final)\n",
    "final_predictions = final_model.predict(features_test_final)\n",
    "final_smape = smape(target_test_final, final_predictions)\n",
    "print('final.output.recovery')\n",
    "print('sMAPE на обучающей', round(best_result_final, 2), '%')\n",
    "print('sMAPE на тестовой', round(final_smape, 2), '%')"
   ]
  },
  {
   "cell_type": "markdown",
   "metadata": {},
   "source": [
    "Итоговое sMAPE:"
   ]
  },
  {
   "cell_type": "code",
   "execution_count": 219,
   "metadata": {
    "scrolled": true
   },
   "outputs": [
    {
     "name": "stdout",
     "output_type": "stream",
     "text": [
      "Итоговое sMAPE на обучающей: 8.39 %\n",
      "Итоговое sMAPE на тестовой: 6.59 %\n"
     ]
    }
   ],
   "source": [
    "answer_train = result_smape(best_result_rougher, best_result_final)\n",
    "answer = result_smape(rougher_smape, final_smape)\n",
    "print('Итоговое sMAPE на обучающей:', round(answer_train, 2), '%')\n",
    "print('Итоговое sMAPE на тестовой:', round(answer, 2), '%')"
   ]
  },
  {
   "cell_type": "markdown",
   "metadata": {},
   "source": [
    "**Вывод**\n",
    "- Лучшая модель для `rougher.output.recovery`: случайный лес с глубиной 7 и 70 деревьями\n",
    "- Лучшая модель для `rougher.output.recovery`: случайный лес с глубиной 5 и 65 деревьями\n",
    "\n",
    "Метрика sMAPE меньше на тестовой выборке на 2-3%. "
   ]
  },
  {
   "cell_type": "markdown",
   "metadata": {},
   "source": [
    "## Вывод"
   ]
  },
  {
   "cell_type": "markdown",
   "metadata": {},
   "source": [
    "Необходимо было решить задачу регресси для прогноза двух величин:\n",
    "- эффективность обогащения чернового концентрата `rougher.output.recovery`;\n",
    "- эффективность обогащения финального концентрата `final.output.recovery`.\n",
    "\n",
    "Ход работы:\n",
    "1. Данные были загружены (три таблицы с обучающей, тестовой выборками и таблица с полным набором данных). Проведен первичный осмотр. Выявлено наличие пропусков и несоответсвие столбца `date` типу DateTime.\n",
    "2. Проверен расчет для признака `rougher.output.recovery`. Признак рассчитан правильно, поскольку MAE близко к нулю.\n",
    "3. Найдены признаки, не вошедшие в тестовую выборку. В тестовом датасете присутствуют входные параметры и параметры текущего состояния этапа обогащения, но выходные (в т.ч. параметры, характеризующие финальный этап) и расчетные параметры отсутствуют. Отсуствие части признаков в тестовой выборке говорит о том, что для построения моделей необходимо использовать признаки, входящие в тестовый набор.\n",
    "4. Данные предобработаны. \n",
    "    - Столбец `date` приведет к необходимому виду.\n",
    "    - Пропуски проанализированы. Больше всего пропусков наблюдается в столбце `secondary_cleaner.output.tail_sol` (8 и 11% в полной и обучающей выборках соответсвенно). \n",
    "    - Поскольку общее число строк с пропусками в полной и тестовой выборках составляет более 20%, было решено заполнить пропуски соседними значениями. Такое решение обусловленно тем, что соседние строки имеют близкие значения.\n",
    "3. Построены распределения концентрация металлов (Au, Ag, Pb) на различных этапах очистки.  \n",
    "    - Au: концентрация золота растет на каждом этапе очистки, как и ожидалось\n",
    "    - Ag: концентрация серебра падает в процессе, как и ожидалось\n",
    "    - Pb: концентрация свинца увеличилась после флотации, далее не изменялась\n",
    "4. Проверены распределения размеров гранул сырья на обучающей и тестовой выборках. Распределения мало отличаются\n",
    "5. Построены распределения суммарной концентрации всех веществ на разных стадиях: в сырье, в черновом и финальном концентратах. В распределении суммарной концентрации есть аномалия около нуля. Поскольку суммарная нулевая концентрация не имеет физического смысл,  аномальные значения были удалены.\n",
    "6. Написана функция для вычисления sMAPE.\n",
    "7. Подготовлены признаки для прогноза обех величин. Признаки были отмасштабированы с помощью z-преобразования. Далее построены модели регрессии. Определена лучшая модель по метрике sMAPE.\n",
    "8. Модель протестирована на тестовой выборке  и посчитана итоговая метрика."
   ]
  },
  {
   "cell_type": "markdown",
   "metadata": {},
   "source": [
    "Лучшая модель для `rougher.output.recovery`:"
   ]
  },
  {
   "cell_type": "code",
   "execution_count": 220,
   "metadata": {
    "scrolled": true
   },
   "outputs": [
    {
     "data": {
      "text/plain": [
       "RandomForestRegressor(max_depth=7, max_features='sqrt', n_estimators=60,\n",
       "                      random_state=12345)"
      ]
     },
     "execution_count": 220,
     "metadata": {},
     "output_type": "execute_result"
    }
   ],
   "source": [
    "best_model_rougher"
   ]
  },
  {
   "cell_type": "markdown",
   "metadata": {},
   "source": [
    "Лучшая модель для `final.output.recovery`:"
   ]
  },
  {
   "cell_type": "code",
   "execution_count": 221,
   "metadata": {
    "scrolled": true
   },
   "outputs": [
    {
     "data": {
      "text/plain": [
       "RandomForestRegressor(max_depth=5, max_features='sqrt', n_estimators=65,\n",
       "                      random_state=12345)"
      ]
     },
     "execution_count": 221,
     "metadata": {},
     "output_type": "execute_result"
    }
   ],
   "source": [
    "best_model_final"
   ]
  },
  {
   "cell_type": "markdown",
   "metadata": {},
   "source": [
    "Итоговое sMAPE:"
   ]
  },
  {
   "cell_type": "code",
   "execution_count": 222,
   "metadata": {},
   "outputs": [
    {
     "name": "stdout",
     "output_type": "stream",
     "text": [
      "Итоговое sMAPE на обучающей: 8.39 %\n",
      "Итоговое sMAPE на тестовой: 6.59 %\n"
     ]
    }
   ],
   "source": [
    "print('Итоговое sMAPE на обучающей:', round(answer_train, 2), '%')\n",
    "print('Итоговое sMAPE на тестовой:', round(answer, 2), '%')"
   ]
  }
 ],
 "metadata": {
  "ExecuteTimeLog": [
   {
    "duration": 1157,
    "start_time": "2022-01-28T11:59:00.222Z"
   },
   {
    "duration": 846,
    "start_time": "2022-01-28T11:59:40.984Z"
   },
   {
    "duration": 787,
    "start_time": "2022-01-28T12:06:07.875Z"
   },
   {
    "duration": 739,
    "start_time": "2022-01-28T12:06:42.033Z"
   },
   {
    "duration": 347,
    "start_time": "2022-01-28T12:07:22.273Z"
   },
   {
    "duration": 42,
    "start_time": "2022-01-28T12:07:36.977Z"
   },
   {
    "duration": 317,
    "start_time": "2022-01-28T12:09:29.557Z"
   },
   {
    "duration": 3,
    "start_time": "2022-01-28T12:10:38.951Z"
   },
   {
    "duration": 4,
    "start_time": "2022-01-28T12:10:53.637Z"
   },
   {
    "duration": 84,
    "start_time": "2022-01-28T12:11:13.418Z"
   },
   {
    "duration": 34,
    "start_time": "2022-01-28T12:11:24.088Z"
   },
   {
    "duration": 73,
    "start_time": "2022-01-28T12:11:37.435Z"
   },
   {
    "duration": 82,
    "start_time": "2022-01-28T12:11:56.935Z"
   },
   {
    "duration": 32,
    "start_time": "2022-01-28T12:12:03.343Z"
   },
   {
    "duration": 1090,
    "start_time": "2022-01-28T12:13:53.694Z"
   },
   {
    "duration": 4,
    "start_time": "2022-01-28T12:13:57.929Z"
   },
   {
    "duration": 49,
    "start_time": "2022-01-28T12:14:50.278Z"
   },
   {
    "duration": 34,
    "start_time": "2022-01-28T12:19:05.823Z"
   },
   {
    "duration": 24,
    "start_time": "2022-01-28T12:19:44.538Z"
   },
   {
    "duration": 21,
    "start_time": "2022-01-28T12:20:20.919Z"
   },
   {
    "duration": 3527,
    "start_time": "2022-01-28T12:23:44.842Z"
   },
   {
    "duration": 66,
    "start_time": "2022-01-28T12:24:34.030Z"
   },
   {
    "duration": 44,
    "start_time": "2022-01-28T12:25:22.961Z"
   },
   {
    "duration": 3,
    "start_time": "2022-01-28T12:25:37.845Z"
   },
   {
    "duration": 4,
    "start_time": "2022-01-28T12:26:00.325Z"
   },
   {
    "duration": 3944,
    "start_time": "2022-01-28T12:29:33.472Z"
   },
   {
    "duration": 4768,
    "start_time": "2022-01-28T12:29:49.691Z"
   },
   {
    "duration": 9598,
    "start_time": "2022-01-28T12:30:11.067Z"
   },
   {
    "duration": 9666,
    "start_time": "2022-01-28T12:30:26.156Z"
   },
   {
    "duration": 9825,
    "start_time": "2022-01-28T12:30:46.348Z"
   },
   {
    "duration": 557,
    "start_time": "2022-01-28T12:31:53.347Z"
   },
   {
    "duration": 1213,
    "start_time": "2022-01-28T12:34:21.867Z"
   },
   {
    "duration": 672,
    "start_time": "2022-01-28T12:35:37.660Z"
   },
   {
    "duration": 10248,
    "start_time": "2022-01-28T12:35:45.083Z"
   },
   {
    "duration": 3,
    "start_time": "2022-01-28T12:37:37.363Z"
   },
   {
    "duration": 167,
    "start_time": "2022-01-28T12:38:04.984Z"
   },
   {
    "duration": 165,
    "start_time": "2022-01-28T12:38:32.985Z"
   },
   {
    "duration": 78,
    "start_time": "2022-01-28T12:38:41.644Z"
   },
   {
    "duration": 51,
    "start_time": "2022-01-28T12:39:29.072Z"
   },
   {
    "duration": 80,
    "start_time": "2022-01-28T12:39:33.672Z"
   },
   {
    "duration": 82,
    "start_time": "2022-01-28T12:39:40.125Z"
   },
   {
    "duration": 22,
    "start_time": "2022-01-28T13:53:44.682Z"
   },
   {
    "duration": 22,
    "start_time": "2022-01-28T13:53:58.300Z"
   },
   {
    "duration": 256,
    "start_time": "2022-01-28T14:31:16.637Z"
   },
   {
    "duration": 250,
    "start_time": "2022-01-28T14:45:56.334Z"
   },
   {
    "duration": 4,
    "start_time": "2022-01-28T14:46:23.126Z"
   },
   {
    "duration": 8,
    "start_time": "2022-01-28T14:46:32.846Z"
   },
   {
    "duration": 6,
    "start_time": "2022-01-28T14:46:51.886Z"
   },
   {
    "duration": 6,
    "start_time": "2022-01-28T14:46:53.633Z"
   },
   {
    "duration": 4,
    "start_time": "2022-01-28T14:47:02.641Z"
   },
   {
    "duration": 6,
    "start_time": "2022-01-28T14:49:44.673Z"
   },
   {
    "duration": 6,
    "start_time": "2022-01-28T14:49:51.805Z"
   },
   {
    "duration": 6,
    "start_time": "2022-01-28T14:53:10.340Z"
   },
   {
    "duration": 6,
    "start_time": "2022-01-28T14:53:17.088Z"
   },
   {
    "duration": 345,
    "start_time": "2022-01-28T15:20:09.456Z"
   },
   {
    "duration": 6,
    "start_time": "2022-01-28T15:20:12.551Z"
   },
   {
    "duration": 256,
    "start_time": "2022-01-28T15:20:55.077Z"
   },
   {
    "duration": 5,
    "start_time": "2022-01-28T15:21:01.064Z"
   },
   {
    "duration": 5,
    "start_time": "2022-01-28T15:21:41.904Z"
   },
   {
    "duration": 250,
    "start_time": "2022-01-28T15:23:41.404Z"
   },
   {
    "duration": 6,
    "start_time": "2022-01-28T15:23:46.453Z"
   },
   {
    "duration": 246,
    "start_time": "2022-01-28T15:24:28.233Z"
   },
   {
    "duration": 6,
    "start_time": "2022-01-28T15:24:36.996Z"
   },
   {
    "duration": 5,
    "start_time": "2022-01-28T15:24:47.811Z"
   },
   {
    "duration": 3,
    "start_time": "2022-01-28T15:26:40.139Z"
   },
   {
    "duration": 6,
    "start_time": "2022-01-28T15:26:46.818Z"
   },
   {
    "duration": 31,
    "start_time": "2022-01-28T15:27:21.930Z"
   },
   {
    "duration": 5,
    "start_time": "2022-01-28T15:27:29.205Z"
   },
   {
    "duration": 6,
    "start_time": "2022-01-28T15:28:34.382Z"
   },
   {
    "duration": 31,
    "start_time": "2022-01-28T15:28:40.382Z"
   },
   {
    "duration": 251,
    "start_time": "2022-01-28T15:28:47.849Z"
   },
   {
    "duration": 260,
    "start_time": "2022-01-28T15:28:54.271Z"
   },
   {
    "duration": 261,
    "start_time": "2022-01-28T15:29:26.766Z"
   },
   {
    "duration": 357,
    "start_time": "2022-01-28T15:29:31.926Z"
   },
   {
    "duration": 328,
    "start_time": "2022-01-28T15:32:19.119Z"
   },
   {
    "duration": 268,
    "start_time": "2022-01-28T15:32:52.270Z"
   },
   {
    "duration": 5,
    "start_time": "2022-01-28T15:35:16.176Z"
   },
   {
    "duration": 5,
    "start_time": "2022-01-28T15:36:44.775Z"
   },
   {
    "duration": 252,
    "start_time": "2022-01-28T15:37:01.124Z"
   },
   {
    "duration": 5,
    "start_time": "2022-01-28T15:37:08.702Z"
   },
   {
    "duration": 6,
    "start_time": "2022-01-28T15:37:53.546Z"
   },
   {
    "duration": 296,
    "start_time": "2022-01-28T15:38:04.011Z"
   },
   {
    "duration": 6,
    "start_time": "2022-01-28T15:38:12.910Z"
   },
   {
    "duration": 254,
    "start_time": "2022-01-28T15:38:31.902Z"
   },
   {
    "duration": 6,
    "start_time": "2022-01-28T15:40:37.036Z"
   },
   {
    "duration": 5,
    "start_time": "2022-01-28T15:41:59.294Z"
   },
   {
    "duration": 85,
    "start_time": "2022-01-28T15:43:21.364Z"
   },
   {
    "duration": 6,
    "start_time": "2022-01-28T15:43:25.057Z"
   },
   {
    "duration": 5,
    "start_time": "2022-01-28T15:43:56.728Z"
   },
   {
    "duration": 249,
    "start_time": "2022-01-28T15:44:16.814Z"
   },
   {
    "duration": 132,
    "start_time": "2022-01-28T15:44:30.771Z"
   },
   {
    "duration": 5,
    "start_time": "2022-01-28T15:45:32.269Z"
   },
   {
    "duration": 252,
    "start_time": "2022-01-28T15:45:43.907Z"
   },
   {
    "duration": 5,
    "start_time": "2022-01-28T16:33:33.897Z"
   },
   {
    "duration": 30,
    "start_time": "2022-01-28T16:51:51.648Z"
   },
   {
    "duration": 5,
    "start_time": "2022-01-28T16:54:13.492Z"
   },
   {
    "duration": 6,
    "start_time": "2022-01-28T16:57:54.758Z"
   },
   {
    "duration": 5,
    "start_time": "2022-01-28T16:58:15.161Z"
   },
   {
    "duration": 6,
    "start_time": "2022-01-28T16:58:37.878Z"
   },
   {
    "duration": 6,
    "start_time": "2022-01-28T16:59:01.963Z"
   },
   {
    "duration": 6,
    "start_time": "2022-01-28T16:59:20.766Z"
   },
   {
    "duration": 5,
    "start_time": "2022-01-28T17:00:49.320Z"
   },
   {
    "duration": 324,
    "start_time": "2022-01-28T17:04:12.628Z"
   },
   {
    "duration": 304,
    "start_time": "2022-01-28T17:04:18.245Z"
   },
   {
    "duration": 326,
    "start_time": "2022-01-28T17:04:50.624Z"
   },
   {
    "duration": 10,
    "start_time": "2022-01-28T17:05:38.429Z"
   },
   {
    "duration": 261,
    "start_time": "2022-01-28T17:06:30.948Z"
   },
   {
    "duration": 3328,
    "start_time": "2022-01-29T08:52:40.516Z"
   },
   {
    "duration": 1163,
    "start_time": "2022-01-29T08:52:43.847Z"
   },
   {
    "duration": 713,
    "start_time": "2022-01-29T08:52:45.012Z"
   },
   {
    "duration": 3,
    "start_time": "2022-01-29T08:52:45.727Z"
   },
   {
    "duration": 46,
    "start_time": "2022-01-29T08:52:45.731Z"
   },
   {
    "duration": 37,
    "start_time": "2022-01-29T08:52:45.778Z"
   },
   {
    "duration": 20,
    "start_time": "2022-01-29T08:52:45.817Z"
   },
   {
    "duration": 21,
    "start_time": "2022-01-29T08:52:45.838Z"
   },
   {
    "duration": 11,
    "start_time": "2022-01-29T08:52:45.862Z"
   },
   {
    "duration": 33,
    "start_time": "2022-01-29T08:52:45.876Z"
   },
   {
    "duration": 10,
    "start_time": "2022-01-29T08:52:45.911Z"
   },
   {
    "duration": 6,
    "start_time": "2022-01-29T08:52:45.922Z"
   },
   {
    "duration": 550,
    "start_time": "2022-01-29T08:52:45.930Z"
   },
   {
    "duration": 56,
    "start_time": "2022-01-29T08:52:46.482Z"
   },
   {
    "duration": 88,
    "start_time": "2022-01-29T08:52:46.540Z"
   },
   {
    "duration": 1086,
    "start_time": "2022-01-29T08:52:46.630Z"
   },
   {
    "duration": 9440,
    "start_time": "2022-01-29T08:52:47.718Z"
   },
   {
    "duration": 6365,
    "start_time": "2022-01-29T09:01:43.193Z"
   },
   {
    "duration": 274,
    "start_time": "2022-01-29T09:02:20.811Z"
   },
   {
    "duration": 259,
    "start_time": "2022-01-29T09:02:50.709Z"
   },
   {
    "duration": 77,
    "start_time": "2022-01-29T09:04:23.523Z"
   },
   {
    "duration": 3,
    "start_time": "2022-01-29T09:06:36.851Z"
   },
   {
    "duration": 73,
    "start_time": "2022-01-29T09:06:52.167Z"
   },
   {
    "duration": 40,
    "start_time": "2022-01-29T09:07:36.244Z"
   },
   {
    "duration": 163,
    "start_time": "2022-01-29T09:07:50.194Z"
   },
   {
    "duration": 162,
    "start_time": "2022-01-29T09:08:03.336Z"
   },
   {
    "duration": 78,
    "start_time": "2022-01-29T09:08:22.234Z"
   },
   {
    "duration": 52,
    "start_time": "2022-01-29T09:08:53.501Z"
   },
   {
    "duration": 82,
    "start_time": "2022-01-29T09:09:08.155Z"
   },
   {
    "duration": 4,
    "start_time": "2022-01-29T09:09:41.091Z"
   },
   {
    "duration": 77,
    "start_time": "2022-01-29T09:09:41.684Z"
   },
   {
    "duration": 3,
    "start_time": "2022-01-29T09:09:52.867Z"
   },
   {
    "duration": 123,
    "start_time": "2022-01-29T09:09:53.284Z"
   },
   {
    "duration": 370,
    "start_time": "2022-01-29T09:10:14.519Z"
   },
   {
    "duration": 75,
    "start_time": "2022-01-29T09:10:22.897Z"
   },
   {
    "duration": 3,
    "start_time": "2022-01-29T09:10:36.838Z"
   },
   {
    "duration": 75,
    "start_time": "2022-01-29T09:10:37.615Z"
   },
   {
    "duration": 322,
    "start_time": "2022-01-29T09:11:08.409Z"
   },
   {
    "duration": 3,
    "start_time": "2022-01-29T09:11:20.374Z"
   },
   {
    "duration": 74,
    "start_time": "2022-01-29T09:11:20.838Z"
   },
   {
    "duration": 3,
    "start_time": "2022-01-29T09:11:51.828Z"
   },
   {
    "duration": 73,
    "start_time": "2022-01-29T09:11:52.463Z"
   },
   {
    "duration": 75,
    "start_time": "2022-01-29T09:12:19.241Z"
   },
   {
    "duration": 75,
    "start_time": "2022-01-29T09:12:51.290Z"
   },
   {
    "duration": 74,
    "start_time": "2022-01-29T09:17:09.919Z"
   },
   {
    "duration": 75,
    "start_time": "2022-01-29T09:17:54.879Z"
   },
   {
    "duration": 53,
    "start_time": "2022-01-29T09:19:48.260Z"
   },
   {
    "duration": 82,
    "start_time": "2022-01-29T09:23:00.056Z"
   },
   {
    "duration": 71,
    "start_time": "2022-01-29T09:23:25.867Z"
   },
   {
    "duration": 933,
    "start_time": "2022-01-29T09:29:15.958Z"
   },
   {
    "duration": 1029,
    "start_time": "2022-01-29T09:29:34.563Z"
   },
   {
    "duration": 908,
    "start_time": "2022-01-29T09:29:43.926Z"
   },
   {
    "duration": 256,
    "start_time": "2022-01-29T09:34:19.828Z"
   },
   {
    "duration": 30953,
    "start_time": "2022-01-29T09:34:40.948Z"
   },
   {
    "duration": 2736,
    "start_time": "2022-01-29T09:35:12.528Z"
   },
   {
    "duration": 5,
    "start_time": "2022-01-29T09:39:13.458Z"
   },
   {
    "duration": 4,
    "start_time": "2022-01-29T09:41:03.167Z"
   },
   {
    "duration": 32,
    "start_time": "2022-01-29T09:41:16.694Z"
   },
   {
    "duration": 32,
    "start_time": "2022-01-29T09:44:53.745Z"
   },
   {
    "duration": 234,
    "start_time": "2022-01-29T09:46:55.984Z"
   },
   {
    "duration": 180,
    "start_time": "2022-01-29T09:47:32.872Z"
   },
   {
    "duration": 191,
    "start_time": "2022-01-29T09:47:44.544Z"
   },
   {
    "duration": 193,
    "start_time": "2022-01-29T09:47:59.357Z"
   },
   {
    "duration": 189,
    "start_time": "2022-01-29T09:49:04.259Z"
   },
   {
    "duration": -411,
    "start_time": "2022-01-29T09:56:11.751Z"
   },
   {
    "duration": 273,
    "start_time": "2022-01-29T09:56:18.882Z"
   },
   {
    "duration": 205,
    "start_time": "2022-01-29T10:00:39.759Z"
   },
   {
    "duration": 271,
    "start_time": "2022-01-29T10:02:23.415Z"
   },
   {
    "duration": 286,
    "start_time": "2022-01-29T10:02:29.892Z"
   },
   {
    "duration": 271,
    "start_time": "2022-01-29T10:02:35.599Z"
   },
   {
    "duration": 260,
    "start_time": "2022-01-29T10:02:58.777Z"
   },
   {
    "duration": 9,
    "start_time": "2022-01-29T10:03:23.998Z"
   },
   {
    "duration": 4,
    "start_time": "2022-01-29T10:16:06.064Z"
   },
   {
    "duration": 248,
    "start_time": "2022-01-29T10:16:24.428Z"
   },
   {
    "duration": 187,
    "start_time": "2022-01-29T10:16:28.744Z"
   },
   {
    "duration": 72,
    "start_time": "2022-01-29T10:16:47.343Z"
   },
   {
    "duration": 75,
    "start_time": "2022-01-29T10:16:56.881Z"
   },
   {
    "duration": 4848,
    "start_time": "2022-01-29T10:23:08.704Z"
   },
   {
    "duration": 24,
    "start_time": "2022-01-29T10:23:21.603Z"
   },
   {
    "duration": 64159,
    "start_time": "2022-01-29T10:24:30.817Z"
   },
   {
    "duration": 871,
    "start_time": "2022-01-29T10:26:10.918Z"
   },
   {
    "duration": 246,
    "start_time": "2022-01-29T10:34:03.208Z"
   },
   {
    "duration": 240,
    "start_time": "2022-01-29T10:34:36.385Z"
   },
   {
    "duration": 245,
    "start_time": "2022-01-29T10:34:52.985Z"
   },
   {
    "duration": 253,
    "start_time": "2022-01-29T10:35:01.398Z"
   },
   {
    "duration": 229,
    "start_time": "2022-01-29T10:35:14.059Z"
   },
   {
    "duration": 235,
    "start_time": "2022-01-29T10:35:25.281Z"
   },
   {
    "duration": 257,
    "start_time": "2022-01-29T10:35:41.288Z"
   },
   {
    "duration": 231,
    "start_time": "2022-01-29T10:36:04.290Z"
   },
   {
    "duration": 233,
    "start_time": "2022-01-29T10:37:42.408Z"
   },
   {
    "duration": 230,
    "start_time": "2022-01-29T10:37:59.810Z"
   },
   {
    "duration": 231,
    "start_time": "2022-01-29T10:38:18.837Z"
   },
   {
    "duration": 231,
    "start_time": "2022-01-29T10:38:26.304Z"
   },
   {
    "duration": 245,
    "start_time": "2022-01-29T10:38:34.842Z"
   },
   {
    "duration": 239,
    "start_time": "2022-01-29T10:38:44.232Z"
   },
   {
    "duration": 238,
    "start_time": "2022-01-29T10:38:53.637Z"
   },
   {
    "duration": 251,
    "start_time": "2022-01-29T10:39:01.348Z"
   },
   {
    "duration": 260,
    "start_time": "2022-01-29T10:39:13.461Z"
   },
   {
    "duration": 260,
    "start_time": "2022-01-29T10:39:19.868Z"
   },
   {
    "duration": 226,
    "start_time": "2022-01-29T10:39:27.172Z"
   },
   {
    "duration": 250,
    "start_time": "2022-01-29T10:39:39.767Z"
   },
   {
    "duration": 639,
    "start_time": "2022-01-29T10:39:47.260Z"
   },
   {
    "duration": 252,
    "start_time": "2022-01-29T10:39:51.926Z"
   },
   {
    "duration": 247,
    "start_time": "2022-01-29T10:40:06.831Z"
   },
   {
    "duration": 249,
    "start_time": "2022-01-29T10:40:19.835Z"
   },
   {
    "duration": 250,
    "start_time": "2022-01-29T10:40:28.950Z"
   },
   {
    "duration": 247,
    "start_time": "2022-01-29T10:40:45.447Z"
   },
   {
    "duration": 257,
    "start_time": "2022-01-29T10:40:54.378Z"
   },
   {
    "duration": 259,
    "start_time": "2022-01-29T11:00:44.502Z"
   },
   {
    "duration": 9,
    "start_time": "2022-01-29T11:03:33.957Z"
   },
   {
    "duration": 459,
    "start_time": "2022-01-29T11:03:38.332Z"
   },
   {
    "duration": 18,
    "start_time": "2022-01-29T11:05:38.505Z"
   },
   {
    "duration": 253,
    "start_time": "2022-01-29T11:08:07.624Z"
   },
   {
    "duration": 312,
    "start_time": "2022-01-29T11:08:19.950Z"
   },
   {
    "duration": 256,
    "start_time": "2022-01-29T11:08:51.796Z"
   },
   {
    "duration": 325,
    "start_time": "2022-01-29T11:11:21.738Z"
   },
   {
    "duration": 310,
    "start_time": "2022-01-29T11:11:45.156Z"
   },
   {
    "duration": 7,
    "start_time": "2022-01-29T11:20:01.123Z"
   },
   {
    "duration": 339,
    "start_time": "2022-01-29T11:20:23.578Z"
   },
   {
    "duration": 10,
    "start_time": "2022-01-29T11:20:39.743Z"
   },
   {
    "duration": 7,
    "start_time": "2022-01-29T11:21:04.916Z"
   },
   {
    "duration": 8,
    "start_time": "2022-01-29T11:22:02.234Z"
   },
   {
    "duration": 2519,
    "start_time": "2022-01-29T11:23:16.257Z"
   },
   {
    "duration": 2659,
    "start_time": "2022-01-29T11:23:18.779Z"
   },
   {
    "duration": 5,
    "start_time": "2022-01-29T11:23:21.441Z"
   },
   {
    "duration": 785,
    "start_time": "2022-01-29T11:23:21.449Z"
   },
   {
    "duration": 4,
    "start_time": "2022-01-29T11:23:22.236Z"
   },
   {
    "duration": 66,
    "start_time": "2022-01-29T11:23:22.242Z"
   },
   {
    "duration": 21,
    "start_time": "2022-01-29T11:23:22.310Z"
   },
   {
    "duration": 8,
    "start_time": "2022-01-29T11:23:22.334Z"
   },
   {
    "duration": 13,
    "start_time": "2022-01-29T11:23:22.344Z"
   },
   {
    "duration": 8,
    "start_time": "2022-01-29T11:23:22.360Z"
   },
   {
    "duration": 5,
    "start_time": "2022-01-29T11:23:29.936Z"
   },
   {
    "duration": 207,
    "start_time": "2022-01-29T11:23:29.943Z"
   },
   {
    "duration": 82,
    "start_time": "2022-01-29T11:23:30.152Z"
   },
   {
    "duration": 86,
    "start_time": "2022-01-29T11:23:30.236Z"
   },
   {
    "duration": 9,
    "start_time": "2022-01-29T11:23:30.324Z"
   },
   {
    "duration": 339,
    "start_time": "2022-01-29T11:23:30.334Z"
   },
   {
    "duration": 8,
    "start_time": "2022-01-29T11:23:30.675Z"
   },
   {
    "duration": 10,
    "start_time": "2022-01-29T11:23:39.711Z"
   },
   {
    "duration": 5,
    "start_time": "2022-01-29T11:29:06.000Z"
   },
   {
    "duration": 402,
    "start_time": "2022-01-29T11:30:23.744Z"
   },
   {
    "duration": 2678,
    "start_time": "2022-01-29T11:31:19.797Z"
   },
   {
    "duration": 2491,
    "start_time": "2022-01-29T11:31:22.478Z"
   },
   {
    "duration": 4,
    "start_time": "2022-01-29T11:31:24.972Z"
   },
   {
    "duration": 730,
    "start_time": "2022-01-29T11:31:24.978Z"
   },
   {
    "duration": 5,
    "start_time": "2022-01-29T11:31:25.710Z"
   },
   {
    "duration": 49,
    "start_time": "2022-01-29T11:31:25.716Z"
   },
   {
    "duration": 22,
    "start_time": "2022-01-29T11:31:25.767Z"
   },
   {
    "duration": 20,
    "start_time": "2022-01-29T11:31:25.791Z"
   },
   {
    "duration": 8,
    "start_time": "2022-01-29T11:31:25.814Z"
   },
   {
    "duration": 6,
    "start_time": "2022-01-29T11:31:25.824Z"
   },
   {
    "duration": 5,
    "start_time": "2022-01-29T11:31:32.412Z"
   },
   {
    "duration": 403,
    "start_time": "2022-01-29T11:31:32.419Z"
   },
   {
    "duration": 84,
    "start_time": "2022-01-29T11:31:32.824Z"
   },
   {
    "duration": 97,
    "start_time": "2022-01-29T11:31:32.911Z"
   },
   {
    "duration": 10,
    "start_time": "2022-01-29T11:31:33.010Z"
   },
   {
    "duration": 343,
    "start_time": "2022-01-29T11:31:33.023Z"
   },
   {
    "duration": 9,
    "start_time": "2022-01-29T11:31:33.368Z"
   },
   {
    "duration": 202,
    "start_time": "2022-01-29T11:32:06.126Z"
   },
   {
    "duration": 10,
    "start_time": "2022-01-29T11:32:28.488Z"
   },
   {
    "duration": 26,
    "start_time": "2022-01-29T11:32:57.508Z"
   },
   {
    "duration": 4,
    "start_time": "2022-01-29T11:33:18.783Z"
   },
   {
    "duration": 187,
    "start_time": "2022-01-29T11:33:20.468Z"
   },
   {
    "duration": 249,
    "start_time": "2022-01-29T11:34:21.447Z"
   },
   {
    "duration": 10,
    "start_time": "2022-01-29T11:34:27.783Z"
   },
   {
    "duration": 11,
    "start_time": "2022-01-29T11:34:39.133Z"
   },
   {
    "duration": 226,
    "start_time": "2022-01-29T11:34:58.422Z"
   },
   {
    "duration": 338,
    "start_time": "2022-01-29T11:35:06.980Z"
   },
   {
    "duration": 72,
    "start_time": "2022-01-29T11:35:47.301Z"
   },
   {
    "duration": 68,
    "start_time": "2022-01-29T11:36:12.972Z"
   },
   {
    "duration": 69,
    "start_time": "2022-01-29T11:36:23.929Z"
   },
   {
    "duration": 104,
    "start_time": "2022-01-29T11:37:26.547Z"
   },
   {
    "duration": 111,
    "start_time": "2022-01-29T11:37:50.930Z"
   },
   {
    "duration": 77,
    "start_time": "2022-01-29T11:38:39.720Z"
   },
   {
    "duration": 368,
    "start_time": "2022-01-29T11:38:48.848Z"
   },
   {
    "duration": 381,
    "start_time": "2022-01-29T11:39:29.621Z"
   },
   {
    "duration": 388,
    "start_time": "2022-01-29T11:40:16.604Z"
   },
   {
    "duration": 2591,
    "start_time": "2022-01-29T11:40:25.564Z"
   },
   {
    "duration": 2473,
    "start_time": "2022-01-29T11:40:28.158Z"
   },
   {
    "duration": 4,
    "start_time": "2022-01-29T11:40:30.633Z"
   },
   {
    "duration": 730,
    "start_time": "2022-01-29T11:40:30.640Z"
   },
   {
    "duration": 4,
    "start_time": "2022-01-29T11:40:31.372Z"
   },
   {
    "duration": 56,
    "start_time": "2022-01-29T11:40:31.378Z"
   },
   {
    "duration": 23,
    "start_time": "2022-01-29T11:40:31.436Z"
   },
   {
    "duration": 6,
    "start_time": "2022-01-29T11:40:31.461Z"
   },
   {
    "duration": 20,
    "start_time": "2022-01-29T11:40:31.469Z"
   },
   {
    "duration": 27,
    "start_time": "2022-01-29T11:40:31.491Z"
   },
   {
    "duration": 5,
    "start_time": "2022-01-29T11:40:38.580Z"
   },
   {
    "duration": 365,
    "start_time": "2022-01-29T11:40:38.587Z"
   },
   {
    "duration": 81,
    "start_time": "2022-01-29T11:40:38.954Z"
   },
   {
    "duration": 81,
    "start_time": "2022-01-29T11:40:39.037Z"
   },
   {
    "duration": 9,
    "start_time": "2022-01-29T11:40:39.120Z"
   },
   {
    "duration": 346,
    "start_time": "2022-01-29T11:40:39.131Z"
   },
   {
    "duration": 6,
    "start_time": "2022-01-29T11:40:39.480Z"
   },
   {
    "duration": 7,
    "start_time": "2022-01-29T11:42:04.684Z"
   },
   {
    "duration": 2833,
    "start_time": "2022-01-29T11:44:59.682Z"
   },
   {
    "duration": 2950,
    "start_time": "2022-01-29T11:45:02.518Z"
   },
   {
    "duration": 5,
    "start_time": "2022-01-29T11:45:05.472Z"
   },
   {
    "duration": 813,
    "start_time": "2022-01-29T11:45:05.480Z"
   },
   {
    "duration": 5,
    "start_time": "2022-01-29T11:45:06.294Z"
   },
   {
    "duration": 47,
    "start_time": "2022-01-29T11:45:06.301Z"
   },
   {
    "duration": 22,
    "start_time": "2022-01-29T11:45:06.351Z"
   },
   {
    "duration": 6,
    "start_time": "2022-01-29T11:45:06.375Z"
   },
   {
    "duration": 29,
    "start_time": "2022-01-29T11:45:06.383Z"
   },
   {
    "duration": 8,
    "start_time": "2022-01-29T11:45:06.415Z"
   },
   {
    "duration": 6,
    "start_time": "2022-01-29T11:45:10.416Z"
   },
   {
    "duration": 386,
    "start_time": "2022-01-29T11:45:11.154Z"
   },
   {
    "duration": 78,
    "start_time": "2022-01-29T11:45:14.702Z"
   },
   {
    "duration": 76,
    "start_time": "2022-01-29T11:45:15.499Z"
   },
   {
    "duration": 9,
    "start_time": "2022-01-29T11:45:19.231Z"
   },
   {
    "duration": 339,
    "start_time": "2022-01-29T11:45:19.991Z"
   },
   {
    "duration": 718,
    "start_time": "2022-01-29T11:47:03.758Z"
   },
   {
    "duration": 96,
    "start_time": "2022-01-29T11:47:39.730Z"
   },
   {
    "duration": 4,
    "start_time": "2022-01-29T11:48:11.188Z"
   },
   {
    "duration": 4,
    "start_time": "2022-01-29T11:48:42.989Z"
   },
   {
    "duration": 5,
    "start_time": "2022-01-29T11:48:43.565Z"
   },
   {
    "duration": 5,
    "start_time": "2022-01-29T11:48:57.490Z"
   },
   {
    "duration": 4,
    "start_time": "2022-01-29T11:49:08.080Z"
   },
   {
    "duration": 7,
    "start_time": "2022-01-29T11:49:08.600Z"
   },
   {
    "duration": 735,
    "start_time": "2022-01-29T11:49:10.892Z"
   },
   {
    "duration": 4,
    "start_time": "2022-01-29T11:49:17.297Z"
   },
   {
    "duration": 5,
    "start_time": "2022-01-29T11:49:17.881Z"
   },
   {
    "duration": 5,
    "start_time": "2022-01-29T11:49:18.805Z"
   },
   {
    "duration": 4,
    "start_time": "2022-01-29T17:05:26.409Z"
   },
   {
    "duration": 529,
    "start_time": "2022-01-29T17:05:52.896Z"
   },
   {
    "duration": 18,
    "start_time": "2022-01-29T17:06:14.068Z"
   },
   {
    "duration": 5,
    "start_time": "2022-01-29T17:06:32.213Z"
   },
   {
    "duration": 5,
    "start_time": "2022-01-29T17:06:32.684Z"
   },
   {
    "duration": 5,
    "start_time": "2022-01-29T17:06:44.355Z"
   },
   {
    "duration": 6,
    "start_time": "2022-01-29T17:07:52.403Z"
   },
   {
    "duration": 4,
    "start_time": "2022-01-29T17:08:13.673Z"
   },
   {
    "duration": 4,
    "start_time": "2022-01-29T17:08:20.540Z"
   },
   {
    "duration": 4,
    "start_time": "2022-01-29T17:10:03.373Z"
   },
   {
    "duration": 603,
    "start_time": "2022-01-29T17:12:16.448Z"
   },
   {
    "duration": 6235,
    "start_time": "2022-01-29T17:12:24.777Z"
   },
   {
    "duration": 1692,
    "start_time": "2022-01-29T17:12:43.659Z"
   },
   {
    "duration": 266,
    "start_time": "2022-01-29T17:13:51.715Z"
   },
   {
    "duration": 4,
    "start_time": "2022-01-29T17:14:01.209Z"
   },
   {
    "duration": 243,
    "start_time": "2022-01-29T17:14:33.711Z"
   },
   {
    "duration": 231,
    "start_time": "2022-01-29T17:14:40.963Z"
   },
   {
    "duration": 256,
    "start_time": "2022-01-29T17:14:45.800Z"
   },
   {
    "duration": 2326,
    "start_time": "2022-01-29T17:14:48.958Z"
   },
   {
    "duration": 1690,
    "start_time": "2022-01-29T17:15:07.237Z"
   },
   {
    "duration": 1750,
    "start_time": "2022-01-29T17:15:57.827Z"
   },
   {
    "duration": 1774,
    "start_time": "2022-01-29T17:16:34.876Z"
   },
   {
    "duration": 1749,
    "start_time": "2022-01-29T17:17:19.278Z"
   },
   {
    "duration": 1872,
    "start_time": "2022-01-29T17:17:26.631Z"
   },
   {
    "duration": 3587,
    "start_time": "2022-01-29T17:17:31.552Z"
   },
   {
    "duration": 1749,
    "start_time": "2022-01-29T17:17:46.684Z"
   },
   {
    "duration": 1749,
    "start_time": "2022-01-29T17:17:56.927Z"
   },
   {
    "duration": 1714,
    "start_time": "2022-01-29T17:18:24.110Z"
   },
   {
    "duration": 853,
    "start_time": "2022-01-29T17:19:02.111Z"
   },
   {
    "duration": 1783,
    "start_time": "2022-01-29T17:19:19.284Z"
   },
   {
    "duration": 1715,
    "start_time": "2022-01-29T17:19:57.292Z"
   },
   {
    "duration": 1717,
    "start_time": "2022-01-29T17:20:02.563Z"
   },
   {
    "duration": 1723,
    "start_time": "2022-01-29T17:20:29.869Z"
   },
   {
    "duration": 3355,
    "start_time": "2022-01-29T17:20:48.450Z"
   },
   {
    "duration": 6,
    "start_time": "2022-01-29T17:33:38.395Z"
   },
   {
    "duration": 5,
    "start_time": "2022-01-29T17:36:09.676Z"
   },
   {
    "duration": 418,
    "start_time": "2022-01-29T17:36:47.369Z"
   },
   {
    "duration": 5,
    "start_time": "2022-01-29T17:36:52.741Z"
   },
   {
    "duration": 386,
    "start_time": "2022-01-29T17:36:53.505Z"
   },
   {
    "duration": 386,
    "start_time": "2022-01-29T17:37:14.986Z"
   },
   {
    "duration": 9,
    "start_time": "2022-01-29T17:52:11.774Z"
   },
   {
    "duration": 19,
    "start_time": "2022-01-29T17:52:27.875Z"
   },
   {
    "duration": 905,
    "start_time": "2022-01-29T18:22:02.925Z"
   },
   {
    "duration": 278,
    "start_time": "2022-01-29T20:38:16.582Z"
   },
   {
    "duration": 261,
    "start_time": "2022-01-29T20:38:22.495Z"
   },
   {
    "duration": 951,
    "start_time": "2022-01-29T20:38:27.430Z"
   },
   {
    "duration": 1870,
    "start_time": "2022-01-29T20:39:32.337Z"
   },
   {
    "duration": 1001,
    "start_time": "2022-01-29T20:39:42.127Z"
   },
   {
    "duration": 1249,
    "start_time": "2022-01-29T20:40:13.284Z"
   },
   {
    "duration": 789,
    "start_time": "2022-01-29T20:40:41.858Z"
   },
   {
    "duration": 244,
    "start_time": "2022-01-29T20:43:11.800Z"
   },
   {
    "duration": 6,
    "start_time": "2022-01-29T20:43:16.128Z"
   },
   {
    "duration": 5,
    "start_time": "2022-01-29T20:43:40.399Z"
   },
   {
    "duration": 256,
    "start_time": "2022-01-29T20:44:03.360Z"
   },
   {
    "duration": 5,
    "start_time": "2022-01-29T20:44:28.172Z"
   },
   {
    "duration": 265,
    "start_time": "2022-01-29T20:44:36.080Z"
   },
   {
    "duration": 30,
    "start_time": "2022-01-29T20:44:42.684Z"
   },
   {
    "duration": 720,
    "start_time": "2022-01-29T20:47:22.014Z"
   },
   {
    "duration": 2629,
    "start_time": "2022-01-29T20:47:54.679Z"
   },
   {
    "duration": 2583,
    "start_time": "2022-01-29T20:47:57.311Z"
   },
   {
    "duration": 5,
    "start_time": "2022-01-29T20:47:59.897Z"
   },
   {
    "duration": 804,
    "start_time": "2022-01-29T20:47:59.904Z"
   },
   {
    "duration": 4,
    "start_time": "2022-01-29T20:48:00.710Z"
   },
   {
    "duration": 52,
    "start_time": "2022-01-29T20:48:00.716Z"
   },
   {
    "duration": 39,
    "start_time": "2022-01-29T20:48:00.770Z"
   },
   {
    "duration": 4,
    "start_time": "2022-01-29T20:48:00.811Z"
   },
   {
    "duration": 8,
    "start_time": "2022-01-29T20:48:00.818Z"
   },
   {
    "duration": 8,
    "start_time": "2022-01-29T20:48:00.828Z"
   },
   {
    "duration": 7,
    "start_time": "2022-01-29T20:48:00.838Z"
   },
   {
    "duration": 21,
    "start_time": "2022-01-29T20:48:00.847Z"
   },
   {
    "duration": 6,
    "start_time": "2022-01-29T20:48:07.402Z"
   },
   {
    "duration": 408,
    "start_time": "2022-01-29T20:48:07.410Z"
   },
   {
    "duration": 88,
    "start_time": "2022-01-29T20:48:07.820Z"
   },
   {
    "duration": 80,
    "start_time": "2022-01-29T20:48:07.911Z"
   },
   {
    "duration": 853,
    "start_time": "2022-01-29T20:48:07.993Z"
   },
   {
    "duration": 4,
    "start_time": "2022-01-29T20:48:08.848Z"
   },
   {
    "duration": 84,
    "start_time": "2022-01-29T20:48:08.854Z"
   },
   {
    "duration": -973,
    "start_time": "2022-01-29T20:48:09.913Z"
   },
   {
    "duration": -988,
    "start_time": "2022-01-29T20:48:09.929Z"
   },
   {
    "duration": -1001,
    "start_time": "2022-01-29T20:48:09.943Z"
   },
   {
    "duration": -1013,
    "start_time": "2022-01-29T20:48:09.956Z"
   },
   {
    "duration": -1029,
    "start_time": "2022-01-29T20:48:09.973Z"
   },
   {
    "duration": 5,
    "start_time": "2022-01-29T20:48:25.810Z"
   },
   {
    "duration": 248,
    "start_time": "2022-01-29T20:52:23.480Z"
   },
   {
    "duration": 252,
    "start_time": "2022-01-29T20:52:28.548Z"
   },
   {
    "duration": 766,
    "start_time": "2022-01-29T20:52:45.849Z"
   },
   {
    "duration": 4580,
    "start_time": "2022-01-30T08:57:18.599Z"
   },
   {
    "duration": 22178,
    "start_time": "2022-01-30T08:57:23.182Z"
   },
   {
    "duration": 3578,
    "start_time": "2022-01-30T08:57:45.365Z"
   },
   {
    "duration": 827,
    "start_time": "2022-01-30T08:57:48.947Z"
   },
   {
    "duration": 5,
    "start_time": "2022-01-30T08:57:49.776Z"
   },
   {
    "duration": 78,
    "start_time": "2022-01-30T08:57:49.783Z"
   },
   {
    "duration": 33,
    "start_time": "2022-01-30T08:57:49.864Z"
   },
   {
    "duration": 6,
    "start_time": "2022-01-30T08:57:49.901Z"
   },
   {
    "duration": 7,
    "start_time": "2022-01-30T08:57:49.910Z"
   },
   {
    "duration": 41,
    "start_time": "2022-01-30T08:57:49.919Z"
   },
   {
    "duration": 8,
    "start_time": "2022-01-30T08:57:49.963Z"
   },
   {
    "duration": 18,
    "start_time": "2022-01-30T08:57:49.973Z"
   },
   {
    "duration": 134080,
    "start_time": "2022-01-30T08:57:49.993Z"
   },
   {
    "duration": 600,
    "start_time": "2022-01-30T09:00:04.076Z"
   },
   {
    "duration": 7,
    "start_time": "2022-01-30T09:00:04.678Z"
   },
   {
    "duration": 1074,
    "start_time": "2022-01-30T09:00:04.689Z"
   },
   {
    "duration": 137,
    "start_time": "2022-01-30T09:00:05.766Z"
   },
   {
    "duration": 158,
    "start_time": "2022-01-30T09:00:05.907Z"
   },
   {
    "duration": 1177,
    "start_time": "2022-01-30T09:00:06.068Z"
   },
   {
    "duration": 14,
    "start_time": "2022-01-30T09:00:07.247Z"
   },
   {
    "duration": 7,
    "start_time": "2022-01-30T09:00:07.264Z"
   },
   {
    "duration": 5,
    "start_time": "2022-01-30T09:00:07.273Z"
   },
   {
    "duration": 7,
    "start_time": "2022-01-30T09:00:07.282Z"
   },
   {
    "duration": 2681,
    "start_time": "2022-01-30T09:00:07.292Z"
   },
   {
    "duration": 6,
    "start_time": "2022-01-30T09:00:09.975Z"
   },
   {
    "duration": 7,
    "start_time": "2022-01-30T09:00:48.453Z"
   },
   {
    "duration": 7,
    "start_time": "2022-01-30T09:01:05.762Z"
   },
   {
    "duration": 490,
    "start_time": "2022-01-30T09:09:33.358Z"
   },
   {
    "duration": 9,
    "start_time": "2022-01-30T09:10:19.554Z"
   },
   {
    "duration": 34,
    "start_time": "2022-01-30T09:11:04.285Z"
   },
   {
    "duration": 42,
    "start_time": "2022-01-30T09:11:34.645Z"
   },
   {
    "duration": 340,
    "start_time": "2022-01-30T09:12:43.119Z"
   },
   {
    "duration": 441,
    "start_time": "2022-01-30T09:13:17.061Z"
   },
   {
    "duration": 350,
    "start_time": "2022-01-30T09:14:14.900Z"
   },
   {
    "duration": 317,
    "start_time": "2022-01-30T09:14:23.059Z"
   },
   {
    "duration": 65,
    "start_time": "2022-01-30T09:14:40.677Z"
   },
   {
    "duration": 143,
    "start_time": "2022-01-30T09:14:50.845Z"
   },
   {
    "duration": 305,
    "start_time": "2022-01-30T09:14:53.835Z"
   },
   {
    "duration": 362,
    "start_time": "2022-01-30T09:15:08.808Z"
   },
   {
    "duration": 1042,
    "start_time": "2022-01-30T09:16:32.044Z"
   },
   {
    "duration": 849,
    "start_time": "2022-01-30T09:16:43.032Z"
   },
   {
    "duration": 370,
    "start_time": "2022-01-30T09:16:52.478Z"
   },
   {
    "duration": 461,
    "start_time": "2022-01-30T09:17:21.148Z"
   },
   {
    "duration": 381,
    "start_time": "2022-01-30T09:17:53.711Z"
   },
   {
    "duration": 472,
    "start_time": "2022-01-30T09:18:17.866Z"
   },
   {
    "duration": 477,
    "start_time": "2022-01-30T09:18:26.559Z"
   },
   {
    "duration": 355,
    "start_time": "2022-01-30T09:18:37.730Z"
   },
   {
    "duration": 4297,
    "start_time": "2022-01-30T09:18:59.923Z"
   },
   {
    "duration": 681,
    "start_time": "2022-01-30T09:27:28.209Z"
   },
   {
    "duration": 374,
    "start_time": "2022-01-30T09:27:51.379Z"
   },
   {
    "duration": 424,
    "start_time": "2022-01-30T09:28:20.823Z"
   },
   {
    "duration": 543,
    "start_time": "2022-01-30T09:28:36.516Z"
   },
   {
    "duration": 412,
    "start_time": "2022-01-30T09:29:14.625Z"
   },
   {
    "duration": 369,
    "start_time": "2022-01-30T09:29:43.047Z"
   },
   {
    "duration": 331,
    "start_time": "2022-01-30T09:30:51.854Z"
   },
   {
    "duration": 325,
    "start_time": "2022-01-30T09:30:59.741Z"
   },
   {
    "duration": 376,
    "start_time": "2022-01-30T09:31:39.778Z"
   },
   {
    "duration": 386,
    "start_time": "2022-01-30T09:31:59.397Z"
   },
   {
    "duration": 559,
    "start_time": "2022-01-30T09:33:05.904Z"
   },
   {
    "duration": 377,
    "start_time": "2022-01-30T09:33:13.559Z"
   },
   {
    "duration": 527,
    "start_time": "2022-01-30T09:33:19.852Z"
   },
   {
    "duration": 527,
    "start_time": "2022-01-30T09:33:32.338Z"
   },
   {
    "duration": 392,
    "start_time": "2022-01-30T09:33:54.977Z"
   },
   {
    "duration": 358,
    "start_time": "2022-01-30T09:34:04.405Z"
   },
   {
    "duration": 429,
    "start_time": "2022-01-30T09:35:51.211Z"
   },
   {
    "duration": 484,
    "start_time": "2022-01-30T09:36:01.856Z"
   },
   {
    "duration": 610,
    "start_time": "2022-01-30T09:36:08.227Z"
   },
   {
    "duration": 482,
    "start_time": "2022-01-30T09:36:44.896Z"
   },
   {
    "duration": 444,
    "start_time": "2022-01-30T09:37:32.531Z"
   },
   {
    "duration": 550,
    "start_time": "2022-01-30T09:38:00.739Z"
   },
   {
    "duration": 627,
    "start_time": "2022-01-30T09:38:14.044Z"
   },
   {
    "duration": 678,
    "start_time": "2022-01-30T09:38:16.204Z"
   },
   {
    "duration": 5347,
    "start_time": "2022-01-30T09:52:07.065Z"
   },
   {
    "duration": 326,
    "start_time": "2022-01-30T10:03:51.018Z"
   },
   {
    "duration": 47,
    "start_time": "2022-01-30T10:04:29.025Z"
   },
   {
    "duration": 16,
    "start_time": "2022-01-30T10:04:34.500Z"
   },
   {
    "duration": 433,
    "start_time": "2022-01-30T10:04:52.257Z"
   },
   {
    "duration": 1431,
    "start_time": "2022-01-30T10:06:40.872Z"
   },
   {
    "duration": 300,
    "start_time": "2022-01-30T10:07:46.638Z"
   },
   {
    "duration": 18,
    "start_time": "2022-01-30T10:08:02.699Z"
   },
   {
    "duration": 592,
    "start_time": "2022-01-30T10:08:03.468Z"
   },
   {
    "duration": 1237,
    "start_time": "2022-01-30T10:08:13.787Z"
   },
   {
    "duration": 1017,
    "start_time": "2022-01-30T10:08:15.027Z"
   },
   {
    "duration": 22,
    "start_time": "2022-01-30T10:08:42.577Z"
   },
   {
    "duration": 569,
    "start_time": "2022-01-30T10:08:43.257Z"
   },
   {
    "duration": 1416,
    "start_time": "2022-01-30T10:08:43.889Z"
   },
   {
    "duration": 1358,
    "start_time": "2022-01-30T10:08:46.493Z"
   },
   {
    "duration": 6,
    "start_time": "2022-01-30T10:10:39.742Z"
   },
   {
    "duration": 296,
    "start_time": "2022-01-30T10:11:06.684Z"
   },
   {
    "duration": 17,
    "start_time": "2022-01-30T10:11:29.803Z"
   },
   {
    "duration": 460,
    "start_time": "2022-01-30T10:11:32.327Z"
   },
   {
    "duration": 1177,
    "start_time": "2022-01-30T10:11:36.563Z"
   },
   {
    "duration": 634,
    "start_time": "2022-01-30T10:12:18.229Z"
   },
   {
    "duration": 136563,
    "start_time": "2022-01-30T10:18:29.119Z"
   },
   {
    "duration": -468,
    "start_time": "2022-01-30T10:21:54.322Z"
   },
   {
    "duration": -466,
    "start_time": "2022-01-30T10:21:54.325Z"
   },
   {
    "duration": 496,
    "start_time": "2022-01-30T10:24:54.353Z"
   },
   {
    "duration": 3644,
    "start_time": "2022-01-30T10:25:03.218Z"
   },
   {
    "duration": 3408,
    "start_time": "2022-01-30T10:25:06.865Z"
   },
   {
    "duration": 4428,
    "start_time": "2022-01-30T10:25:10.276Z"
   },
   {
    "duration": 901,
    "start_time": "2022-01-30T10:25:14.707Z"
   },
   {
    "duration": 3,
    "start_time": "2022-01-30T10:25:15.611Z"
   },
   {
    "duration": 82,
    "start_time": "2022-01-30T10:25:15.617Z"
   },
   {
    "duration": 110,
    "start_time": "2022-01-30T10:25:15.702Z"
   },
   {
    "duration": 5,
    "start_time": "2022-01-30T10:25:15.816Z"
   },
   {
    "duration": 10,
    "start_time": "2022-01-30T10:25:15.824Z"
   },
   {
    "duration": 27,
    "start_time": "2022-01-30T10:25:15.836Z"
   },
   {
    "duration": 9,
    "start_time": "2022-01-30T10:25:15.866Z"
   },
   {
    "duration": 23,
    "start_time": "2022-01-30T10:25:15.878Z"
   },
   {
    "duration": 136985,
    "start_time": "2022-01-30T10:25:15.903Z"
   },
   {
    "duration": 614,
    "start_time": "2022-01-30T10:27:32.960Z"
   },
   {
    "duration": 10,
    "start_time": "2022-01-30T10:27:33.578Z"
   },
   {
    "duration": 868,
    "start_time": "2022-01-30T10:27:33.591Z"
   },
   {
    "duration": 136,
    "start_time": "2022-01-30T10:27:34.461Z"
   },
   {
    "duration": 134,
    "start_time": "2022-01-30T10:27:34.599Z"
   },
   {
    "duration": 1096,
    "start_time": "2022-01-30T10:27:34.736Z"
   },
   {
    "duration": 6,
    "start_time": "2022-01-30T10:27:35.834Z"
   },
   {
    "duration": 642,
    "start_time": "2022-01-30T10:27:35.843Z"
   },
   {
    "duration": 690,
    "start_time": "2022-01-30T10:27:36.489Z"
   },
   {
    "duration": 742,
    "start_time": "2022-01-30T10:27:37.185Z"
   },
   {
    "duration": -439,
    "start_time": "2022-01-30T10:27:38.370Z"
   },
   {
    "duration": -443,
    "start_time": "2022-01-30T10:27:38.375Z"
   },
   {
    "duration": -445,
    "start_time": "2022-01-30T10:27:38.378Z"
   },
   {
    "duration": -465,
    "start_time": "2022-01-30T10:27:38.400Z"
   },
   {
    "duration": -470,
    "start_time": "2022-01-30T10:27:38.406Z"
   },
   {
    "duration": -472,
    "start_time": "2022-01-30T10:27:38.409Z"
   },
   {
    "duration": -472,
    "start_time": "2022-01-30T10:27:38.412Z"
   },
   {
    "duration": -474,
    "start_time": "2022-01-30T10:27:38.416Z"
   },
   {
    "duration": -476,
    "start_time": "2022-01-30T10:27:38.419Z"
   },
   {
    "duration": -490,
    "start_time": "2022-01-30T10:27:38.435Z"
   },
   {
    "duration": -496,
    "start_time": "2022-01-30T10:27:38.442Z"
   },
   {
    "duration": -498,
    "start_time": "2022-01-30T10:27:38.446Z"
   },
   {
    "duration": -499,
    "start_time": "2022-01-30T10:27:38.448Z"
   },
   {
    "duration": -500,
    "start_time": "2022-01-30T10:27:38.451Z"
   },
   {
    "duration": -503,
    "start_time": "2022-01-30T10:27:38.455Z"
   },
   {
    "duration": -505,
    "start_time": "2022-01-30T10:27:38.459Z"
   },
   {
    "duration": -506,
    "start_time": "2022-01-30T10:27:38.462Z"
   },
   {
    "duration": -509,
    "start_time": "2022-01-30T10:27:38.466Z"
   },
   {
    "duration": 509,
    "start_time": "2022-01-30T10:28:14.059Z"
   },
   {
    "duration": 493,
    "start_time": "2022-01-30T10:28:14.570Z"
   },
   {
    "duration": 324,
    "start_time": "2022-01-30T10:28:27.431Z"
   },
   {
    "duration": 4,
    "start_time": "2022-01-30T10:28:28.725Z"
   },
   {
    "duration": 26,
    "start_time": "2022-01-30T10:28:29.652Z"
   },
   {
    "duration": 444,
    "start_time": "2022-01-30T10:28:31.809Z"
   },
   {
    "duration": 486,
    "start_time": "2022-01-30T10:28:34.877Z"
   },
   {
    "duration": 1046,
    "start_time": "2022-01-30T10:28:37.845Z"
   },
   {
    "duration": 963,
    "start_time": "2022-01-30T10:28:39.587Z"
   },
   {
    "duration": 173358,
    "start_time": "2022-01-30T10:28:41.468Z"
   },
   {
    "duration": 422,
    "start_time": "2022-01-30T10:31:45.911Z"
   },
   {
    "duration": 170,
    "start_time": "2022-01-30T10:38:05.998Z"
   },
   {
    "duration": 136,
    "start_time": "2022-01-30T10:38:27.786Z"
   },
   {
    "duration": 6,
    "start_time": "2022-01-30T10:38:47.292Z"
   },
   {
    "duration": 15,
    "start_time": "2022-01-30T10:38:56.082Z"
   },
   {
    "duration": 127,
    "start_time": "2022-01-30T10:40:01.648Z"
   },
   {
    "duration": 132,
    "start_time": "2022-01-30T10:40:09.430Z"
   },
   {
    "duration": 11984,
    "start_time": "2022-01-30T10:40:28.401Z"
   },
   {
    "duration": 38,
    "start_time": "2022-01-30T10:40:43.427Z"
   },
   {
    "duration": 431,
    "start_time": "2022-01-30T10:47:52.296Z"
   },
   {
    "duration": 474,
    "start_time": "2022-01-30T10:48:10.640Z"
   },
   {
    "duration": 685,
    "start_time": "2022-01-30T10:48:39.650Z"
   },
   {
    "duration": 914,
    "start_time": "2022-01-30T10:49:08.845Z"
   },
   {
    "duration": 120,
    "start_time": "2022-01-30T10:52:05.339Z"
   },
   {
    "duration": 333,
    "start_time": "2022-01-30T11:19:12.164Z"
   },
   {
    "duration": 322,
    "start_time": "2022-01-30T11:19:24.203Z"
   },
   {
    "duration": 6,
    "start_time": "2022-01-30T11:20:19.633Z"
   },
   {
    "duration": 553,
    "start_time": "2022-01-30T11:20:35.428Z"
   },
   {
    "duration": 8,
    "start_time": "2022-01-30T11:20:41.196Z"
   },
   {
    "duration": 1470,
    "start_time": "2022-01-30T11:20:55.561Z"
   },
   {
    "duration": 5,
    "start_time": "2022-01-30T11:23:04.824Z"
   },
   {
    "duration": 1414,
    "start_time": "2022-01-30T11:23:11.979Z"
   },
   {
    "duration": 4,
    "start_time": "2022-01-30T11:24:08.247Z"
   },
   {
    "duration": 373,
    "start_time": "2022-01-30T11:24:23.011Z"
   },
   {
    "duration": 357,
    "start_time": "2022-01-30T11:24:27.320Z"
   },
   {
    "duration": 172433,
    "start_time": "2022-01-30T11:25:46.710Z"
   },
   {
    "duration": 445,
    "start_time": "2022-01-30T11:28:42.917Z"
   },
   {
    "duration": 397,
    "start_time": "2022-01-30T11:28:52.988Z"
   },
   {
    "duration": 655,
    "start_time": "2022-01-30T11:30:23.837Z"
   },
   {
    "duration": 11,
    "start_time": "2022-01-30T11:30:50.790Z"
   },
   {
    "duration": 687,
    "start_time": "2022-01-30T11:31:03.309Z"
   },
   {
    "duration": 11,
    "start_time": "2022-01-30T11:31:05.475Z"
   },
   {
    "duration": 12,
    "start_time": "2022-01-30T11:31:07.580Z"
   },
   {
    "duration": 321,
    "start_time": "2022-01-30T11:31:33.820Z"
   },
   {
    "duration": 6,
    "start_time": "2022-01-30T11:31:34.220Z"
   },
   {
    "duration": 7,
    "start_time": "2022-01-30T11:31:34.660Z"
   },
   {
    "duration": 6,
    "start_time": "2022-01-30T11:31:36.936Z"
   },
   {
    "duration": 6,
    "start_time": "2022-01-30T11:31:37.513Z"
   },
   {
    "duration": 11,
    "start_time": "2022-01-30T11:31:38.111Z"
   },
   {
    "duration": 12,
    "start_time": "2022-01-30T11:31:39.547Z"
   },
   {
    "duration": 697,
    "start_time": "2022-01-30T11:31:40.285Z"
   },
   {
    "duration": 627,
    "start_time": "2022-01-30T11:36:58.813Z"
   },
   {
    "duration": 531,
    "start_time": "2022-01-30T11:37:00.545Z"
   },
   {
    "duration": 518,
    "start_time": "2022-01-30T11:37:10.345Z"
   },
   {
    "duration": 652,
    "start_time": "2022-01-30T11:37:29.885Z"
   },
   {
    "duration": 17,
    "start_time": "2022-01-30T11:38:30.086Z"
   },
   {
    "duration": 104427,
    "start_time": "2022-01-31T07:28:04.100Z"
   },
   {
    "duration": 78211,
    "start_time": "2022-01-31T07:29:48.529Z"
   },
   {
    "duration": 2366,
    "start_time": "2022-01-31T07:31:06.742Z"
   },
   {
    "duration": -700,
    "start_time": "2022-01-31T07:31:09.811Z"
   },
   {
    "duration": -703,
    "start_time": "2022-01-31T07:31:09.816Z"
   },
   {
    "duration": -709,
    "start_time": "2022-01-31T07:31:09.823Z"
   },
   {
    "duration": -713,
    "start_time": "2022-01-31T07:31:09.829Z"
   },
   {
    "duration": -718,
    "start_time": "2022-01-31T07:31:09.835Z"
   },
   {
    "duration": -722,
    "start_time": "2022-01-31T07:31:09.840Z"
   },
   {
    "duration": -725,
    "start_time": "2022-01-31T07:31:09.845Z"
   },
   {
    "duration": -730,
    "start_time": "2022-01-31T07:31:09.851Z"
   },
   {
    "duration": -734,
    "start_time": "2022-01-31T07:31:09.857Z"
   },
   {
    "duration": -738,
    "start_time": "2022-01-31T07:31:09.862Z"
   },
   {
    "duration": -744,
    "start_time": "2022-01-31T07:31:09.869Z"
   },
   {
    "duration": -750,
    "start_time": "2022-01-31T07:31:09.877Z"
   },
   {
    "duration": -754,
    "start_time": "2022-01-31T07:31:09.882Z"
   },
   {
    "duration": -761,
    "start_time": "2022-01-31T07:31:09.890Z"
   },
   {
    "duration": -774,
    "start_time": "2022-01-31T07:31:09.905Z"
   },
   {
    "duration": -779,
    "start_time": "2022-01-31T07:31:09.911Z"
   },
   {
    "duration": -784,
    "start_time": "2022-01-31T07:31:09.917Z"
   },
   {
    "duration": -789,
    "start_time": "2022-01-31T07:31:09.924Z"
   },
   {
    "duration": -795,
    "start_time": "2022-01-31T07:31:09.931Z"
   },
   {
    "duration": -801,
    "start_time": "2022-01-31T07:31:09.938Z"
   },
   {
    "duration": -804,
    "start_time": "2022-01-31T07:31:09.943Z"
   },
   {
    "duration": -809,
    "start_time": "2022-01-31T07:31:09.949Z"
   },
   {
    "duration": -812,
    "start_time": "2022-01-31T07:31:09.954Z"
   },
   {
    "duration": -818,
    "start_time": "2022-01-31T07:31:09.961Z"
   },
   {
    "duration": -822,
    "start_time": "2022-01-31T07:31:09.966Z"
   },
   {
    "duration": -826,
    "start_time": "2022-01-31T07:31:09.972Z"
   },
   {
    "duration": -829,
    "start_time": "2022-01-31T07:31:09.976Z"
   },
   {
    "duration": -833,
    "start_time": "2022-01-31T07:31:09.981Z"
   },
   {
    "duration": -836,
    "start_time": "2022-01-31T07:31:09.986Z"
   },
   {
    "duration": -841,
    "start_time": "2022-01-31T07:31:09.992Z"
   },
   {
    "duration": -847,
    "start_time": "2022-01-31T07:31:10.000Z"
   },
   {
    "duration": -864,
    "start_time": "2022-01-31T07:31:10.019Z"
   },
   {
    "duration": -868,
    "start_time": "2022-01-31T07:31:10.024Z"
   },
   {
    "duration": -817,
    "start_time": "2022-01-31T07:31:10.029Z"
   },
   {
    "duration": -821,
    "start_time": "2022-01-31T07:31:10.034Z"
   },
   {
    "duration": -823,
    "start_time": "2022-01-31T07:31:10.038Z"
   },
   {
    "duration": -827,
    "start_time": "2022-01-31T07:31:10.043Z"
   },
   {
    "duration": -831,
    "start_time": "2022-01-31T07:31:10.049Z"
   },
   {
    "duration": -837,
    "start_time": "2022-01-31T07:31:10.056Z"
   },
   {
    "duration": -842,
    "start_time": "2022-01-31T07:31:10.062Z"
   },
   {
    "duration": -844,
    "start_time": "2022-01-31T07:31:10.066Z"
   },
   {
    "duration": -848,
    "start_time": "2022-01-31T07:31:10.071Z"
   },
   {
    "duration": -862,
    "start_time": "2022-01-31T07:31:10.086Z"
   },
   {
    "duration": -865,
    "start_time": "2022-01-31T07:31:10.091Z"
   },
   {
    "duration": -880,
    "start_time": "2022-01-31T07:31:10.107Z"
   },
   {
    "duration": 53561,
    "start_time": "2022-01-31T07:31:28.742Z"
   },
   {
    "duration": 157,
    "start_time": "2022-01-31T07:32:29.790Z"
   },
   {
    "duration": 7067,
    "start_time": "2022-01-31T07:32:42.556Z"
   },
   {
    "duration": 7034,
    "start_time": "2022-01-31T07:32:49.625Z"
   },
   {
    "duration": 4,
    "start_time": "2022-01-31T07:32:56.661Z"
   },
   {
    "duration": 647,
    "start_time": "2022-01-31T07:32:56.667Z"
   },
   {
    "duration": 2,
    "start_time": "2022-01-31T07:32:57.316Z"
   },
   {
    "duration": 42,
    "start_time": "2022-01-31T07:32:57.320Z"
   },
   {
    "duration": 21,
    "start_time": "2022-01-31T07:32:57.364Z"
   },
   {
    "duration": 3,
    "start_time": "2022-01-31T07:32:57.388Z"
   },
   {
    "duration": 5,
    "start_time": "2022-01-31T07:32:57.412Z"
   },
   {
    "duration": 6,
    "start_time": "2022-01-31T07:32:57.418Z"
   },
   {
    "duration": 8,
    "start_time": "2022-01-31T07:32:57.425Z"
   },
   {
    "duration": 13,
    "start_time": "2022-01-31T07:32:57.434Z"
   },
   {
    "duration": 101076,
    "start_time": "2022-01-31T07:32:57.448Z"
   },
   {
    "duration": 399,
    "start_time": "2022-01-31T07:34:38.526Z"
   },
   {
    "duration": 5,
    "start_time": "2022-01-31T07:34:38.928Z"
   },
   {
    "duration": 548,
    "start_time": "2022-01-31T07:34:38.935Z"
   },
   {
    "duration": 82,
    "start_time": "2022-01-31T07:34:39.485Z"
   },
   {
    "duration": 81,
    "start_time": "2022-01-31T07:34:39.568Z"
   },
   {
    "duration": 75,
    "start_time": "2022-01-31T07:34:39.650Z"
   },
   {
    "duration": 752,
    "start_time": "2022-01-31T07:34:39.727Z"
   },
   {
    "duration": 3,
    "start_time": "2022-01-31T07:34:40.481Z"
   },
   {
    "duration": 404,
    "start_time": "2022-01-31T07:34:40.486Z"
   },
   {
    "duration": 452,
    "start_time": "2022-01-31T07:34:40.893Z"
   },
   {
    "duration": 347,
    "start_time": "2022-01-31T07:34:41.348Z"
   },
   {
    "duration": 332,
    "start_time": "2022-01-31T07:34:41.696Z"
   },
   {
    "duration": 249,
    "start_time": "2022-01-31T07:34:42.029Z"
   },
   {
    "duration": 2,
    "start_time": "2022-01-31T07:34:42.279Z"
   },
   {
    "duration": 20,
    "start_time": "2022-01-31T07:34:42.283Z"
   },
   {
    "duration": 318,
    "start_time": "2022-01-31T07:34:42.304Z"
   },
   {
    "duration": 345,
    "start_time": "2022-01-31T07:34:42.623Z"
   },
   {
    "duration": 397,
    "start_time": "2022-01-31T07:34:42.969Z"
   },
   {
    "duration": 703,
    "start_time": "2022-01-31T07:34:43.367Z"
   },
   {
    "duration": 73,
    "start_time": "2022-01-31T07:34:44.072Z"
   },
   {
    "duration": 8260,
    "start_time": "2022-01-31T07:34:44.146Z"
   },
   {
    "duration": 30,
    "start_time": "2022-01-31T07:34:52.407Z"
   },
   {
    "duration": 284,
    "start_time": "2022-01-31T07:34:52.438Z"
   },
   {
    "duration": 3,
    "start_time": "2022-01-31T07:34:52.724Z"
   },
   {
    "duration": 7,
    "start_time": "2022-01-31T07:34:52.729Z"
   },
   {
    "duration": 732,
    "start_time": "2022-01-31T07:34:52.737Z"
   },
   {
    "duration": 4,
    "start_time": "2022-01-31T07:34:53.471Z"
   },
   {
    "duration": 6,
    "start_time": "2022-01-31T07:34:53.476Z"
   },
   {
    "duration": 7,
    "start_time": "2022-01-31T07:34:53.484Z"
   },
   {
    "duration": 24,
    "start_time": "2022-01-31T07:34:53.493Z"
   },
   {
    "duration": 436,
    "start_time": "2022-01-31T07:34:53.518Z"
   },
   {
    "duration": 15,
    "start_time": "2022-01-31T07:34:53.955Z"
   },
   {
    "duration": 3,
    "start_time": "2022-01-31T07:34:53.972Z"
   },
   {
    "duration": 1679,
    "start_time": "2022-01-31T07:34:53.976Z"
   },
   {
    "duration": 4,
    "start_time": "2022-01-31T07:34:55.656Z"
   },
   {
    "duration": 4,
    "start_time": "2022-01-31T07:40:09.531Z"
   },
   {
    "duration": 611,
    "start_time": "2022-01-31T07:45:32.882Z"
   },
   {
    "duration": 468,
    "start_time": "2022-01-31T07:45:41.965Z"
   },
   {
    "duration": 459,
    "start_time": "2022-01-31T07:46:49.502Z"
   },
   {
    "duration": 432,
    "start_time": "2022-01-31T07:47:00.516Z"
   },
   {
    "duration": 434,
    "start_time": "2022-01-31T07:47:28.216Z"
   },
   {
    "duration": 436,
    "start_time": "2022-01-31T07:51:52.153Z"
   },
   {
    "duration": 440,
    "start_time": "2022-01-31T07:52:01.399Z"
   },
   {
    "duration": 2070,
    "start_time": "2022-01-31T07:52:10.243Z"
   },
   {
    "duration": 408,
    "start_time": "2022-01-31T07:53:40.746Z"
   },
   {
    "duration": 446,
    "start_time": "2022-01-31T07:53:45.915Z"
   },
   {
    "duration": 11,
    "start_time": "2022-01-31T07:55:45.580Z"
   },
   {
    "duration": 8,
    "start_time": "2022-01-31T07:55:51.084Z"
   },
   {
    "duration": 9,
    "start_time": "2022-01-31T07:57:09.297Z"
   },
   {
    "duration": 8,
    "start_time": "2022-01-31T07:57:12.858Z"
   },
   {
    "duration": 4,
    "start_time": "2022-01-31T07:59:19.129Z"
   },
   {
    "duration": 4,
    "start_time": "2022-01-31T07:59:41.564Z"
   },
   {
    "duration": 4,
    "start_time": "2022-01-31T08:00:11.194Z"
   },
   {
    "duration": 27,
    "start_time": "2022-01-31T08:16:09.893Z"
   },
   {
    "duration": 205,
    "start_time": "2022-01-31T08:16:16.447Z"
   },
   {
    "duration": 216,
    "start_time": "2022-01-31T08:16:21.538Z"
   },
   {
    "duration": 5,
    "start_time": "2022-01-31T08:16:26.314Z"
   },
   {
    "duration": 4,
    "start_time": "2022-01-31T08:21:28.300Z"
   },
   {
    "duration": 70,
    "start_time": "2022-01-31T08:21:28.343Z"
   },
   {
    "duration": 4,
    "start_time": "2022-01-31T08:22:36.258Z"
   },
   {
    "duration": 4,
    "start_time": "2022-01-31T08:22:46.455Z"
   },
   {
    "duration": 4,
    "start_time": "2022-01-31T08:22:56.083Z"
   },
   {
    "duration": 4,
    "start_time": "2022-01-31T08:23:06.140Z"
   },
   {
    "duration": 4,
    "start_time": "2022-01-31T08:23:50.051Z"
   },
   {
    "duration": 3,
    "start_time": "2022-01-31T08:24:01.050Z"
   },
   {
    "duration": 195,
    "start_time": "2022-01-31T08:24:41.996Z"
   },
   {
    "duration": 177,
    "start_time": "2022-01-31T08:24:49.915Z"
   },
   {
    "duration": 216,
    "start_time": "2022-01-31T08:24:54.934Z"
   },
   {
    "duration": 574,
    "start_time": "2022-01-31T08:25:03.325Z"
   },
   {
    "duration": 259,
    "start_time": "2022-01-31T08:25:10.636Z"
   },
   {
    "duration": 12,
    "start_time": "2022-01-31T08:25:38.139Z"
   },
   {
    "duration": 4,
    "start_time": "2022-01-31T08:25:59.211Z"
   },
   {
    "duration": 12,
    "start_time": "2022-01-31T08:26:04.770Z"
   },
   {
    "duration": 7,
    "start_time": "2022-01-31T08:26:20.708Z"
   },
   {
    "duration": 5,
    "start_time": "2022-01-31T08:30:54.645Z"
   },
   {
    "duration": 8,
    "start_time": "2022-01-31T08:30:58.076Z"
   },
   {
    "duration": 3,
    "start_time": "2022-01-31T08:31:40.112Z"
   },
   {
    "duration": 8,
    "start_time": "2022-01-31T08:31:59.023Z"
   },
   {
    "duration": 228,
    "start_time": "2022-01-31T08:33:46.238Z"
   },
   {
    "duration": 312,
    "start_time": "2022-01-31T08:36:19.991Z"
   },
   {
    "duration": 322,
    "start_time": "2022-01-31T08:36:33.095Z"
   },
   {
    "duration": 306,
    "start_time": "2022-01-31T08:36:49.245Z"
   },
   {
    "duration": 283,
    "start_time": "2022-01-31T08:38:25.729Z"
   },
   {
    "duration": 211,
    "start_time": "2022-01-31T08:38:35.490Z"
   },
   {
    "duration": 409,
    "start_time": "2022-01-31T09:55:51.263Z"
   },
   {
    "duration": 345,
    "start_time": "2022-01-31T09:56:25.378Z"
   },
   {
    "duration": 300,
    "start_time": "2022-01-31T09:57:35.125Z"
   },
   {
    "duration": 336,
    "start_time": "2022-01-31T09:58:36.263Z"
   },
   {
    "duration": 313,
    "start_time": "2022-01-31T09:59:38.122Z"
   },
   {
    "duration": 293,
    "start_time": "2022-01-31T09:59:46.628Z"
   },
   {
    "duration": 291,
    "start_time": "2022-01-31T09:59:58.043Z"
   },
   {
    "duration": 4,
    "start_time": "2022-01-31T10:01:01.820Z"
   },
   {
    "duration": 4,
    "start_time": "2022-01-31T10:02:16.721Z"
   },
   {
    "duration": 4,
    "start_time": "2022-01-31T10:02:39.625Z"
   },
   {
    "duration": 4,
    "start_time": "2022-01-31T10:05:12.386Z"
   },
   {
    "duration": 3,
    "start_time": "2022-01-31T10:06:29.893Z"
   },
   {
    "duration": 4,
    "start_time": "2022-01-31T10:06:32.863Z"
   },
   {
    "duration": 195,
    "start_time": "2022-01-31T10:06:39.001Z"
   },
   {
    "duration": 5,
    "start_time": "2022-01-31T10:06:54.038Z"
   },
   {
    "duration": 4,
    "start_time": "2022-01-31T10:07:50.864Z"
   },
   {
    "duration": 5,
    "start_time": "2022-01-31T10:08:32.104Z"
   },
   {
    "duration": 3,
    "start_time": "2022-01-31T10:08:35.938Z"
   },
   {
    "duration": 5,
    "start_time": "2022-01-31T10:08:38.694Z"
   },
   {
    "duration": 4,
    "start_time": "2022-01-31T10:08:54.338Z"
   },
   {
    "duration": 4,
    "start_time": "2022-01-31T10:08:57.655Z"
   },
   {
    "duration": 4,
    "start_time": "2022-01-31T10:09:31.527Z"
   },
   {
    "duration": 5,
    "start_time": "2022-01-31T10:09:36.238Z"
   },
   {
    "duration": 5,
    "start_time": "2022-01-31T10:10:42.072Z"
   },
   {
    "duration": 3,
    "start_time": "2022-01-31T10:10:57.849Z"
   },
   {
    "duration": 389,
    "start_time": "2022-01-31T10:11:15.635Z"
   },
   {
    "duration": 4,
    "start_time": "2022-01-31T10:12:22.418Z"
   },
   {
    "duration": 391,
    "start_time": "2022-01-31T10:12:37.661Z"
   },
   {
    "duration": 4,
    "start_time": "2022-01-31T10:13:44.184Z"
   },
   {
    "duration": 3,
    "start_time": "2022-01-31T10:13:44.809Z"
   },
   {
    "duration": 4,
    "start_time": "2022-01-31T10:14:07.637Z"
   },
   {
    "duration": 4,
    "start_time": "2022-01-31T10:14:29.385Z"
   },
   {
    "duration": 4,
    "start_time": "2022-01-31T10:14:42.723Z"
   },
   {
    "duration": 4,
    "start_time": "2022-01-31T10:14:43.144Z"
   },
   {
    "duration": 4,
    "start_time": "2022-01-31T10:16:00.896Z"
   },
   {
    "duration": 5,
    "start_time": "2022-01-31T10:16:03.193Z"
   },
   {
    "duration": 3,
    "start_time": "2022-01-31T10:19:54.239Z"
   },
   {
    "duration": 4,
    "start_time": "2022-01-31T10:20:19.147Z"
   },
   {
    "duration": 4,
    "start_time": "2022-01-31T10:20:53.990Z"
   },
   {
    "duration": 7,
    "start_time": "2022-01-31T10:20:53.996Z"
   },
   {
    "duration": 4,
    "start_time": "2022-01-31T10:21:28.290Z"
   },
   {
    "duration": 398,
    "start_time": "2022-01-31T10:21:28.785Z"
   },
   {
    "duration": 4,
    "start_time": "2022-01-31T10:21:40.951Z"
   },
   {
    "duration": 4,
    "start_time": "2022-01-31T10:21:41.558Z"
   },
   {
    "duration": 5,
    "start_time": "2022-01-31T10:24:03.291Z"
   },
   {
    "duration": 4,
    "start_time": "2022-01-31T10:24:04.328Z"
   },
   {
    "duration": 4,
    "start_time": "2022-01-31T10:24:29.732Z"
   },
   {
    "duration": 5,
    "start_time": "2022-01-31T10:24:30.294Z"
   },
   {
    "duration": 4,
    "start_time": "2022-01-31T10:25:15.369Z"
   },
   {
    "duration": 4,
    "start_time": "2022-01-31T10:25:16.316Z"
   },
   {
    "duration": 4,
    "start_time": "2022-01-31T10:25:21.622Z"
   },
   {
    "duration": 5,
    "start_time": "2022-01-31T10:25:22.036Z"
   },
   {
    "duration": 5,
    "start_time": "2022-01-31T10:25:47.876Z"
   },
   {
    "duration": 4,
    "start_time": "2022-01-31T10:25:48.385Z"
   },
   {
    "duration": 5,
    "start_time": "2022-01-31T10:26:11.760Z"
   },
   {
    "duration": 4,
    "start_time": "2022-01-31T10:26:12.449Z"
   },
   {
    "duration": 5,
    "start_time": "2022-01-31T10:28:44.780Z"
   },
   {
    "duration": 4,
    "start_time": "2022-01-31T10:28:56.984Z"
   },
   {
    "duration": 9,
    "start_time": "2022-01-31T10:28:56.990Z"
   },
   {
    "duration": 4,
    "start_time": "2022-01-31T10:29:12.264Z"
   },
   {
    "duration": 4,
    "start_time": "2022-01-31T10:29:32.790Z"
   },
   {
    "duration": 4,
    "start_time": "2022-01-31T10:29:49.367Z"
   },
   {
    "duration": 4,
    "start_time": "2022-01-31T10:29:50.138Z"
   },
   {
    "duration": 4,
    "start_time": "2022-01-31T10:29:58.288Z"
   },
   {
    "duration": 4,
    "start_time": "2022-01-31T10:29:58.816Z"
   },
   {
    "duration": 5,
    "start_time": "2022-01-31T10:30:18.090Z"
   },
   {
    "duration": 4,
    "start_time": "2022-01-31T10:30:18.675Z"
   },
   {
    "duration": 4,
    "start_time": "2022-01-31T10:31:13.937Z"
   },
   {
    "duration": 4,
    "start_time": "2022-01-31T10:31:14.598Z"
   },
   {
    "duration": 4,
    "start_time": "2022-01-31T10:31:20.163Z"
   },
   {
    "duration": 4,
    "start_time": "2022-01-31T10:31:22.078Z"
   },
   {
    "duration": 5,
    "start_time": "2022-01-31T10:32:24.638Z"
   },
   {
    "duration": 4,
    "start_time": "2022-01-31T10:32:25.142Z"
   },
   {
    "duration": 5,
    "start_time": "2022-01-31T10:34:07.517Z"
   },
   {
    "duration": 414,
    "start_time": "2022-01-31T10:34:07.977Z"
   },
   {
    "duration": 4,
    "start_time": "2022-01-31T10:34:19.281Z"
   },
   {
    "duration": 4,
    "start_time": "2022-01-31T10:34:20.041Z"
   },
   {
    "duration": 5,
    "start_time": "2022-01-31T10:35:13.204Z"
   },
   {
    "duration": 4,
    "start_time": "2022-01-31T10:35:14.118Z"
   },
   {
    "duration": 4,
    "start_time": "2022-01-31T10:37:28.877Z"
   },
   {
    "duration": 3,
    "start_time": "2022-01-31T10:37:29.467Z"
   },
   {
    "duration": 4,
    "start_time": "2022-01-31T10:37:33.903Z"
   },
   {
    "duration": 4,
    "start_time": "2022-01-31T10:37:34.657Z"
   },
   {
    "duration": 4,
    "start_time": "2022-01-31T10:38:01.621Z"
   },
   {
    "duration": 4,
    "start_time": "2022-01-31T10:38:02.461Z"
   },
   {
    "duration": 4,
    "start_time": "2022-01-31T10:38:08.120Z"
   },
   {
    "duration": 4,
    "start_time": "2022-01-31T10:38:58.441Z"
   },
   {
    "duration": 4,
    "start_time": "2022-01-31T10:38:58.915Z"
   },
   {
    "duration": 4,
    "start_time": "2022-01-31T10:39:44.148Z"
   },
   {
    "duration": 4,
    "start_time": "2022-01-31T10:39:44.591Z"
   },
   {
    "duration": 60,
    "start_time": "2022-01-31T10:40:58.068Z"
   },
   {
    "duration": 69,
    "start_time": "2022-01-31T10:41:13.035Z"
   },
   {
    "duration": 5,
    "start_time": "2022-01-31T10:41:23.146Z"
   },
   {
    "duration": 5,
    "start_time": "2022-01-31T10:41:23.801Z"
   },
   {
    "duration": 5,
    "start_time": "2022-01-31T10:41:36.878Z"
   },
   {
    "duration": 5,
    "start_time": "2022-01-31T10:41:37.517Z"
   },
   {
    "duration": 4,
    "start_time": "2022-01-31T10:42:02.289Z"
   },
   {
    "duration": 4,
    "start_time": "2022-01-31T10:42:03.038Z"
   },
   {
    "duration": 4,
    "start_time": "2022-01-31T10:42:24.726Z"
   },
   {
    "duration": 4,
    "start_time": "2022-01-31T10:42:25.175Z"
   },
   {
    "duration": 5,
    "start_time": "2022-01-31T10:42:35.837Z"
   },
   {
    "duration": 4,
    "start_time": "2022-01-31T10:42:36.266Z"
   },
   {
    "duration": 4,
    "start_time": "2022-01-31T10:43:12.350Z"
   },
   {
    "duration": 4,
    "start_time": "2022-01-31T10:43:12.786Z"
   },
   {
    "duration": 4,
    "start_time": "2022-01-31T10:44:57.132Z"
   },
   {
    "duration": 5,
    "start_time": "2022-01-31T10:45:02.892Z"
   },
   {
    "duration": 4,
    "start_time": "2022-01-31T10:45:03.290Z"
   },
   {
    "duration": 5,
    "start_time": "2022-01-31T10:46:21.252Z"
   },
   {
    "duration": 5,
    "start_time": "2022-01-31T10:46:21.765Z"
   },
   {
    "duration": 4,
    "start_time": "2022-01-31T10:46:27.747Z"
   },
   {
    "duration": 5,
    "start_time": "2022-01-31T10:46:28.668Z"
   },
   {
    "duration": 5,
    "start_time": "2022-01-31T10:49:45.111Z"
   },
   {
    "duration": 4,
    "start_time": "2022-01-31T10:49:45.720Z"
   },
   {
    "duration": 4,
    "start_time": "2022-01-31T10:49:54.651Z"
   },
   {
    "duration": 4,
    "start_time": "2022-01-31T10:49:56.206Z"
   },
   {
    "duration": 4,
    "start_time": "2022-01-31T10:50:17.241Z"
   },
   {
    "duration": 7,
    "start_time": "2022-01-31T10:50:35.662Z"
   },
   {
    "duration": 4,
    "start_time": "2022-01-31T10:50:36.288Z"
   },
   {
    "duration": 4,
    "start_time": "2022-01-31T10:50:56.112Z"
   },
   {
    "duration": 7,
    "start_time": "2022-01-31T10:50:56.118Z"
   },
   {
    "duration": 4,
    "start_time": "2022-01-31T10:52:02.322Z"
   },
   {
    "duration": 4,
    "start_time": "2022-01-31T10:52:02.882Z"
   },
   {
    "duration": 4,
    "start_time": "2022-01-31T10:52:17.329Z"
   },
   {
    "duration": 4,
    "start_time": "2022-01-31T10:52:18.001Z"
   },
   {
    "duration": 4,
    "start_time": "2022-01-31T10:52:33.949Z"
   },
   {
    "duration": 3,
    "start_time": "2022-01-31T10:52:34.792Z"
   },
   {
    "duration": 5,
    "start_time": "2022-01-31T10:53:04.421Z"
   },
   {
    "duration": 4,
    "start_time": "2022-01-31T10:53:04.888Z"
   },
   {
    "duration": 5,
    "start_time": "2022-01-31T10:53:08.704Z"
   },
   {
    "duration": 5,
    "start_time": "2022-01-31T10:53:09.796Z"
   },
   {
    "duration": 4,
    "start_time": "2022-01-31T10:53:19.765Z"
   },
   {
    "duration": 4,
    "start_time": "2022-01-31T10:53:20.223Z"
   },
   {
    "duration": 5,
    "start_time": "2022-01-31T10:53:26.615Z"
   },
   {
    "duration": 4,
    "start_time": "2022-01-31T10:53:27.093Z"
   },
   {
    "duration": 4,
    "start_time": "2022-01-31T10:54:34.869Z"
   },
   {
    "duration": 4,
    "start_time": "2022-01-31T10:54:35.791Z"
   },
   {
    "duration": 5,
    "start_time": "2022-01-31T10:55:05.509Z"
   },
   {
    "duration": 3,
    "start_time": "2022-01-31T10:55:06.461Z"
   },
   {
    "duration": 4,
    "start_time": "2022-01-31T10:56:45.745Z"
   },
   {
    "duration": 4,
    "start_time": "2022-01-31T10:56:46.312Z"
   },
   {
    "duration": 4,
    "start_time": "2022-01-31T10:56:54.039Z"
   },
   {
    "duration": 9,
    "start_time": "2022-01-31T10:56:54.045Z"
   },
   {
    "duration": 4,
    "start_time": "2022-01-31T11:03:52.625Z"
   },
   {
    "duration": 4,
    "start_time": "2022-01-31T11:03:53.848Z"
   },
   {
    "duration": 4,
    "start_time": "2022-01-31T11:04:07.604Z"
   },
   {
    "duration": 4,
    "start_time": "2022-01-31T11:04:20.898Z"
   },
   {
    "duration": 4,
    "start_time": "2022-01-31T11:04:45.837Z"
   },
   {
    "duration": 4,
    "start_time": "2022-01-31T11:04:58.633Z"
   },
   {
    "duration": 4,
    "start_time": "2022-01-31T11:05:07.541Z"
   },
   {
    "duration": 2,
    "start_time": "2022-01-31T11:06:31.910Z"
   },
   {
    "duration": 4,
    "start_time": "2022-01-31T11:06:44.682Z"
   },
   {
    "duration": 4,
    "start_time": "2022-01-31T11:06:56.698Z"
   },
   {
    "duration": 3,
    "start_time": "2022-01-31T11:07:08.116Z"
   },
   {
    "duration": 4,
    "start_time": "2022-01-31T11:07:19.140Z"
   },
   {
    "duration": 74,
    "start_time": "2022-01-31T11:07:36.004Z"
   },
   {
    "duration": 186,
    "start_time": "2022-01-31T11:07:39.966Z"
   },
   {
    "duration": 196,
    "start_time": "2022-01-31T11:07:45.925Z"
   },
   {
    "duration": 4,
    "start_time": "2022-01-31T11:08:09.924Z"
   },
   {
    "duration": 4,
    "start_time": "2022-01-31T11:08:16.937Z"
   },
   {
    "duration": 5,
    "start_time": "2022-01-31T11:08:29.320Z"
   },
   {
    "duration": 5,
    "start_time": "2022-01-31T11:08:32.812Z"
   },
   {
    "duration": 4,
    "start_time": "2022-01-31T11:08:40.672Z"
   },
   {
    "duration": 4,
    "start_time": "2022-01-31T11:08:43.587Z"
   },
   {
    "duration": 379,
    "start_time": "2022-01-31T11:09:24.731Z"
   },
   {
    "duration": 4,
    "start_time": "2022-01-31T11:09:39.859Z"
   },
   {
    "duration": 5,
    "start_time": "2022-01-31T11:09:40.614Z"
   },
   {
    "duration": 4,
    "start_time": "2022-01-31T11:09:46.510Z"
   },
   {
    "duration": 5,
    "start_time": "2022-01-31T11:09:57.795Z"
   },
   {
    "duration": 5,
    "start_time": "2022-01-31T11:10:12.098Z"
   },
   {
    "duration": 4,
    "start_time": "2022-01-31T11:10:29.939Z"
   },
   {
    "duration": 324,
    "start_time": "2022-01-31T11:12:04.097Z"
   },
   {
    "duration": 59,
    "start_time": "2022-01-31T11:12:35.930Z"
   },
   {
    "duration": 321,
    "start_time": "2022-01-31T11:13:20.216Z"
   },
   {
    "duration": 569,
    "start_time": "2022-01-31T11:20:21.093Z"
   },
   {
    "duration": 335,
    "start_time": "2022-01-31T11:20:59.668Z"
   },
   {
    "duration": 4,
    "start_time": "2022-01-31T11:27:07.964Z"
   },
   {
    "duration": 3,
    "start_time": "2022-01-31T11:27:34.085Z"
   },
   {
    "duration": 7,
    "start_time": "2022-01-31T11:27:58.993Z"
   },
   {
    "duration": 4,
    "start_time": "2022-01-31T11:28:15.898Z"
   },
   {
    "duration": 4,
    "start_time": "2022-01-31T11:28:20.640Z"
   },
   {
    "duration": 3,
    "start_time": "2022-01-31T11:28:25.087Z"
   },
   {
    "duration": 5,
    "start_time": "2022-01-31T11:28:41.496Z"
   },
   {
    "duration": 4,
    "start_time": "2022-01-31T11:29:13.732Z"
   },
   {
    "duration": 4,
    "start_time": "2022-01-31T11:29:23.859Z"
   },
   {
    "duration": 5,
    "start_time": "2022-01-31T11:29:35.320Z"
   },
   {
    "duration": 5,
    "start_time": "2022-01-31T11:29:40.013Z"
   },
   {
    "duration": 2,
    "start_time": "2022-01-31T11:30:08.386Z"
   },
   {
    "duration": 4,
    "start_time": "2022-01-31T11:30:17.347Z"
   },
   {
    "duration": 4,
    "start_time": "2022-01-31T11:30:24.726Z"
   },
   {
    "duration": 564,
    "start_time": "2022-01-31T11:31:12.306Z"
   },
   {
    "duration": 506,
    "start_time": "2022-01-31T11:31:51.171Z"
   },
   {
    "duration": 511,
    "start_time": "2022-01-31T11:31:55.775Z"
   },
   {
    "duration": 666,
    "start_time": "2022-01-31T11:31:59.998Z"
   },
   {
    "duration": 463,
    "start_time": "2022-01-31T11:32:53.812Z"
   },
   {
    "duration": 548,
    "start_time": "2022-01-31T11:33:01.915Z"
   },
   {
    "duration": 505,
    "start_time": "2022-01-31T11:33:05.214Z"
   },
   {
    "duration": 615,
    "start_time": "2022-01-31T11:33:11.991Z"
   },
   {
    "duration": 671,
    "start_time": "2022-01-31T11:33:41.843Z"
   },
   {
    "duration": 554,
    "start_time": "2022-01-31T11:34:27.153Z"
   },
   {
    "duration": 4,
    "start_time": "2022-01-31T11:34:43.176Z"
   },
   {
    "duration": 658,
    "start_time": "2022-01-31T11:34:52.902Z"
   },
   {
    "duration": 700,
    "start_time": "2022-01-31T11:54:12.054Z"
   },
   {
    "duration": 219,
    "start_time": "2022-01-31T11:55:13.027Z"
   },
   {
    "duration": 676,
    "start_time": "2022-01-31T11:55:17.340Z"
   },
   {
    "duration": 91,
    "start_time": "2022-01-31T11:55:53.657Z"
   },
   {
    "duration": 698,
    "start_time": "2022-01-31T11:55:56.765Z"
   },
   {
    "duration": 717,
    "start_time": "2022-01-31T11:57:26.573Z"
   },
   {
    "duration": 663,
    "start_time": "2022-01-31T11:57:38.185Z"
   },
   {
    "duration": 178,
    "start_time": "2022-01-31T11:57:51.765Z"
   },
   {
    "duration": 190,
    "start_time": "2022-01-31T11:57:55.673Z"
   },
   {
    "duration": 183,
    "start_time": "2022-01-31T11:57:58.533Z"
   },
   {
    "duration": 4,
    "start_time": "2022-01-31T11:58:12.238Z"
   },
   {
    "duration": 230,
    "start_time": "2022-01-31T11:58:24.423Z"
   },
   {
    "duration": 206,
    "start_time": "2022-01-31T11:58:29.353Z"
   },
   {
    "duration": 265,
    "start_time": "2022-01-31T11:58:41.584Z"
   },
   {
    "duration": 647,
    "start_time": "2022-01-31T11:58:45.241Z"
   },
   {
    "duration": 727,
    "start_time": "2022-01-31T11:59:25.773Z"
   },
   {
    "duration": 702,
    "start_time": "2022-01-31T12:00:15.356Z"
   },
   {
    "duration": 199,
    "start_time": "2022-01-31T12:00:48.123Z"
   },
   {
    "duration": 689,
    "start_time": "2022-01-31T12:00:54.997Z"
   },
   {
    "duration": 712,
    "start_time": "2022-01-31T12:01:09.264Z"
   },
   {
    "duration": 676,
    "start_time": "2022-01-31T12:01:24.805Z"
   },
   {
    "duration": 717,
    "start_time": "2022-01-31T12:02:06.373Z"
   },
   {
    "duration": 221,
    "start_time": "2022-01-31T15:30:47.006Z"
   },
   {
    "duration": 79377,
    "start_time": "2022-01-31T15:32:15.624Z"
   },
   {
    "duration": 7420,
    "start_time": "2022-01-31T15:33:35.003Z"
   },
   {
    "duration": 812,
    "start_time": "2022-01-31T15:33:42.425Z"
   },
   {
    "duration": -971,
    "start_time": "2022-01-31T15:33:44.212Z"
   },
   {
    "duration": -990,
    "start_time": "2022-01-31T15:33:44.232Z"
   },
   {
    "duration": -1136,
    "start_time": "2022-01-31T15:33:44.379Z"
   },
   {
    "duration": -1159,
    "start_time": "2022-01-31T15:33:44.403Z"
   },
   {
    "duration": -1184,
    "start_time": "2022-01-31T15:33:44.429Z"
   },
   {
    "duration": -1206,
    "start_time": "2022-01-31T15:33:44.452Z"
   },
   {
    "duration": -1259,
    "start_time": "2022-01-31T15:33:44.506Z"
   },
   {
    "duration": -1278,
    "start_time": "2022-01-31T15:33:44.525Z"
   },
   {
    "duration": -1299,
    "start_time": "2022-01-31T15:33:44.547Z"
   },
   {
    "duration": -1318,
    "start_time": "2022-01-31T15:33:44.567Z"
   },
   {
    "duration": -1333,
    "start_time": "2022-01-31T15:33:44.583Z"
   },
   {
    "duration": -1386,
    "start_time": "2022-01-31T15:33:44.637Z"
   },
   {
    "duration": -1403,
    "start_time": "2022-01-31T15:33:44.655Z"
   },
   {
    "duration": -1423,
    "start_time": "2022-01-31T15:33:44.676Z"
   },
   {
    "duration": -1439,
    "start_time": "2022-01-31T15:33:44.693Z"
   },
   {
    "duration": -1458,
    "start_time": "2022-01-31T15:33:44.713Z"
   },
   {
    "duration": -1506,
    "start_time": "2022-01-31T15:33:44.762Z"
   },
   {
    "duration": -1524,
    "start_time": "2022-01-31T15:33:44.781Z"
   },
   {
    "duration": -1537,
    "start_time": "2022-01-31T15:33:44.795Z"
   },
   {
    "duration": -1554,
    "start_time": "2022-01-31T15:33:44.813Z"
   },
   {
    "duration": -1570,
    "start_time": "2022-01-31T15:33:44.830Z"
   },
   {
    "duration": -1590,
    "start_time": "2022-01-31T15:33:44.851Z"
   },
   {
    "duration": -1651,
    "start_time": "2022-01-31T15:33:44.914Z"
   },
   {
    "duration": -1670,
    "start_time": "2022-01-31T15:33:44.933Z"
   },
   {
    "duration": -1686,
    "start_time": "2022-01-31T15:33:44.950Z"
   },
   {
    "duration": -1704,
    "start_time": "2022-01-31T15:33:44.970Z"
   },
   {
    "duration": -1717,
    "start_time": "2022-01-31T15:33:44.984Z"
   },
   {
    "duration": -1730,
    "start_time": "2022-01-31T15:33:44.998Z"
   },
   {
    "duration": -1761,
    "start_time": "2022-01-31T15:33:45.030Z"
   },
   {
    "duration": -1775,
    "start_time": "2022-01-31T15:33:45.045Z"
   },
   {
    "duration": -1789,
    "start_time": "2022-01-31T15:33:45.059Z"
   },
   {
    "duration": -1803,
    "start_time": "2022-01-31T15:33:45.074Z"
   },
   {
    "duration": -1814,
    "start_time": "2022-01-31T15:33:45.086Z"
   },
   {
    "duration": -1825,
    "start_time": "2022-01-31T15:33:45.098Z"
   },
   {
    "duration": -1835,
    "start_time": "2022-01-31T15:33:45.109Z"
   },
   {
    "duration": -1849,
    "start_time": "2022-01-31T15:33:45.124Z"
   },
   {
    "duration": -1882,
    "start_time": "2022-01-31T15:33:45.158Z"
   },
   {
    "duration": -1897,
    "start_time": "2022-01-31T15:33:45.174Z"
   },
   {
    "duration": -1911,
    "start_time": "2022-01-31T15:33:45.189Z"
   },
   {
    "duration": -1926,
    "start_time": "2022-01-31T15:33:45.205Z"
   },
   {
    "duration": -1941,
    "start_time": "2022-01-31T15:33:45.221Z"
   },
   {
    "duration": -2146,
    "start_time": "2022-01-31T15:33:45.427Z"
   },
   {
    "duration": -2157,
    "start_time": "2022-01-31T15:33:45.439Z"
   },
   {
    "duration": -2169,
    "start_time": "2022-01-31T15:33:45.452Z"
   },
   {
    "duration": -2179,
    "start_time": "2022-01-31T15:33:45.463Z"
   },
   {
    "duration": -2190,
    "start_time": "2022-01-31T15:33:45.475Z"
   },
   {
    "duration": -2198,
    "start_time": "2022-01-31T15:33:45.484Z"
   },
   {
    "duration": -2207,
    "start_time": "2022-01-31T15:33:45.495Z"
   },
   {
    "duration": -2213,
    "start_time": "2022-01-31T15:33:45.501Z"
   },
   {
    "duration": -2219,
    "start_time": "2022-01-31T15:33:45.508Z"
   },
   {
    "duration": -2222,
    "start_time": "2022-01-31T15:33:45.513Z"
   },
   {
    "duration": -2239,
    "start_time": "2022-01-31T15:33:45.531Z"
   },
   {
    "duration": -2243,
    "start_time": "2022-01-31T15:33:45.536Z"
   },
   {
    "duration": -2248,
    "start_time": "2022-01-31T15:33:45.542Z"
   },
   {
    "duration": -2252,
    "start_time": "2022-01-31T15:33:45.547Z"
   },
   {
    "duration": -2257,
    "start_time": "2022-01-31T15:33:45.553Z"
   },
   {
    "duration": -2261,
    "start_time": "2022-01-31T15:33:45.558Z"
   },
   {
    "duration": -2266,
    "start_time": "2022-01-31T15:33:45.563Z"
   },
   {
    "duration": -2271,
    "start_time": "2022-01-31T15:33:45.569Z"
   },
   {
    "duration": -2216,
    "start_time": "2022-01-31T15:33:45.575Z"
   },
   {
    "duration": 2937,
    "start_time": "2022-01-31T15:35:03.920Z"
   },
   {
    "duration": 181,
    "start_time": "2022-01-31T15:35:06.859Z"
   },
   {
    "duration": -962,
    "start_time": "2022-01-31T15:35:08.005Z"
   },
   {
    "duration": -966,
    "start_time": "2022-01-31T15:35:08.011Z"
   },
   {
    "duration": -972,
    "start_time": "2022-01-31T15:35:08.018Z"
   },
   {
    "duration": -977,
    "start_time": "2022-01-31T15:35:08.024Z"
   },
   {
    "duration": -984,
    "start_time": "2022-01-31T15:35:08.032Z"
   },
   {
    "duration": -990,
    "start_time": "2022-01-31T15:35:08.039Z"
   },
   {
    "duration": -1015,
    "start_time": "2022-01-31T15:35:08.065Z"
   },
   {
    "duration": -1024,
    "start_time": "2022-01-31T15:35:08.076Z"
   },
   {
    "duration": -1030,
    "start_time": "2022-01-31T15:35:08.083Z"
   },
   {
    "duration": -1039,
    "start_time": "2022-01-31T15:35:08.094Z"
   },
   {
    "duration": -1046,
    "start_time": "2022-01-31T15:35:08.102Z"
   },
   {
    "duration": -1055,
    "start_time": "2022-01-31T15:35:08.112Z"
   },
   {
    "duration": -1062,
    "start_time": "2022-01-31T15:35:08.121Z"
   },
   {
    "duration": -1070,
    "start_time": "2022-01-31T15:35:08.130Z"
   },
   {
    "duration": -1078,
    "start_time": "2022-01-31T15:35:08.139Z"
   },
   {
    "duration": -1085,
    "start_time": "2022-01-31T15:35:08.148Z"
   },
   {
    "duration": -1090,
    "start_time": "2022-01-31T15:35:08.154Z"
   },
   {
    "duration": -1113,
    "start_time": "2022-01-31T15:35:08.179Z"
   },
   {
    "duration": -1118,
    "start_time": "2022-01-31T15:35:08.185Z"
   },
   {
    "duration": -1126,
    "start_time": "2022-01-31T15:35:08.194Z"
   },
   {
    "duration": -1132,
    "start_time": "2022-01-31T15:35:08.201Z"
   },
   {
    "duration": -1138,
    "start_time": "2022-01-31T15:35:08.209Z"
   },
   {
    "duration": -1144,
    "start_time": "2022-01-31T15:35:08.216Z"
   },
   {
    "duration": -1154,
    "start_time": "2022-01-31T15:35:08.227Z"
   },
   {
    "duration": -1159,
    "start_time": "2022-01-31T15:35:08.234Z"
   },
   {
    "duration": -1166,
    "start_time": "2022-01-31T15:35:08.242Z"
   },
   {
    "duration": -1171,
    "start_time": "2022-01-31T15:35:08.248Z"
   },
   {
    "duration": -1175,
    "start_time": "2022-01-31T15:35:08.254Z"
   },
   {
    "duration": -1183,
    "start_time": "2022-01-31T15:35:08.263Z"
   },
   {
    "duration": -1190,
    "start_time": "2022-01-31T15:35:08.271Z"
   },
   {
    "duration": -1195,
    "start_time": "2022-01-31T15:35:08.278Z"
   },
   {
    "duration": -1219,
    "start_time": "2022-01-31T15:35:08.303Z"
   },
   {
    "duration": -1227,
    "start_time": "2022-01-31T15:35:08.312Z"
   },
   {
    "duration": -1233,
    "start_time": "2022-01-31T15:35:08.320Z"
   },
   {
    "duration": -1240,
    "start_time": "2022-01-31T15:35:08.328Z"
   },
   {
    "duration": -1248,
    "start_time": "2022-01-31T15:35:08.337Z"
   },
   {
    "duration": -1252,
    "start_time": "2022-01-31T15:35:08.343Z"
   },
   {
    "duration": -1259,
    "start_time": "2022-01-31T15:35:08.351Z"
   },
   {
    "duration": -1264,
    "start_time": "2022-01-31T15:35:08.358Z"
   },
   {
    "duration": -1269,
    "start_time": "2022-01-31T15:35:08.364Z"
   },
   {
    "duration": -1274,
    "start_time": "2022-01-31T15:35:08.370Z"
   },
   {
    "duration": -1278,
    "start_time": "2022-01-31T15:35:08.376Z"
   },
   {
    "duration": -1282,
    "start_time": "2022-01-31T15:35:08.381Z"
   },
   {
    "duration": -1287,
    "start_time": "2022-01-31T15:35:08.387Z"
   },
   {
    "duration": -1291,
    "start_time": "2022-01-31T15:35:08.392Z"
   },
   {
    "duration": -1253,
    "start_time": "2022-01-31T15:35:08.412Z"
   },
   {
    "duration": -1256,
    "start_time": "2022-01-31T15:35:08.417Z"
   },
   {
    "duration": -1262,
    "start_time": "2022-01-31T15:35:08.424Z"
   },
   {
    "duration": -1266,
    "start_time": "2022-01-31T15:35:08.429Z"
   },
   {
    "duration": -1269,
    "start_time": "2022-01-31T15:35:08.434Z"
   },
   {
    "duration": -1276,
    "start_time": "2022-01-31T15:35:08.442Z"
   },
   {
    "duration": -1282,
    "start_time": "2022-01-31T15:35:08.449Z"
   },
   {
    "duration": -1286,
    "start_time": "2022-01-31T15:35:08.455Z"
   },
   {
    "duration": -1291,
    "start_time": "2022-01-31T15:35:08.461Z"
   },
   {
    "duration": -1296,
    "start_time": "2022-01-31T15:35:08.468Z"
   },
   {
    "duration": -1300,
    "start_time": "2022-01-31T15:35:08.473Z"
   },
   {
    "duration": -1305,
    "start_time": "2022-01-31T15:35:08.479Z"
   },
   {
    "duration": -1308,
    "start_time": "2022-01-31T15:35:08.484Z"
   },
   {
    "duration": -1315,
    "start_time": "2022-01-31T15:35:08.492Z"
   },
   {
    "duration": -1319,
    "start_time": "2022-01-31T15:35:08.498Z"
   },
   {
    "duration": -1327,
    "start_time": "2022-01-31T15:35:08.508Z"
   },
   {
    "duration": 23829,
    "start_time": "2022-01-31T15:35:24.606Z"
   },
   {
    "duration": 20696,
    "start_time": "2022-01-31T15:35:50.852Z"
   },
   {
    "duration": 956,
    "start_time": "2022-01-31T15:36:16.720Z"
   },
   {
    "duration": 57549,
    "start_time": "2022-01-31T15:36:20.650Z"
   },
   {
    "duration": 76,
    "start_time": "2022-01-31T15:37:35.799Z"
   },
   {
    "duration": 734,
    "start_time": "2022-01-31T15:37:36.496Z"
   },
   {
    "duration": 758,
    "start_time": "2022-01-31T15:37:40.612Z"
   },
   {
    "duration": 2,
    "start_time": "2022-01-31T15:37:41.372Z"
   },
   {
    "duration": 37,
    "start_time": "2022-01-31T15:37:41.376Z"
   },
   {
    "duration": 44,
    "start_time": "2022-01-31T15:37:41.416Z"
   },
   {
    "duration": 4,
    "start_time": "2022-01-31T15:37:41.461Z"
   },
   {
    "duration": 7,
    "start_time": "2022-01-31T15:37:41.466Z"
   },
   {
    "duration": 10,
    "start_time": "2022-01-31T15:37:41.474Z"
   },
   {
    "duration": 4,
    "start_time": "2022-01-31T15:37:41.486Z"
   },
   {
    "duration": 4,
    "start_time": "2022-01-31T15:37:41.494Z"
   },
   {
    "duration": 16,
    "start_time": "2022-01-31T15:37:41.500Z"
   },
   {
    "duration": 58330,
    "start_time": "2022-01-31T15:37:41.517Z"
   },
   {
    "duration": 340,
    "start_time": "2022-01-31T15:38:39.849Z"
   },
   {
    "duration": 4,
    "start_time": "2022-01-31T15:38:40.191Z"
   },
   {
    "duration": 519,
    "start_time": "2022-01-31T15:38:40.197Z"
   },
   {
    "duration": 77,
    "start_time": "2022-01-31T15:38:40.718Z"
   },
   {
    "duration": 64,
    "start_time": "2022-01-31T15:38:40.796Z"
   },
   {
    "duration": 67,
    "start_time": "2022-01-31T15:38:40.862Z"
   },
   {
    "duration": 202,
    "start_time": "2022-01-31T15:38:40.930Z"
   },
   {
    "duration": -2106,
    "start_time": "2022-01-31T15:38:43.242Z"
   },
   {
    "duration": -2113,
    "start_time": "2022-01-31T15:38:43.250Z"
   },
   {
    "duration": -2118,
    "start_time": "2022-01-31T15:38:43.256Z"
   },
   {
    "duration": -2123,
    "start_time": "2022-01-31T15:38:43.263Z"
   },
   {
    "duration": -2128,
    "start_time": "2022-01-31T15:38:43.269Z"
   },
   {
    "duration": -2134,
    "start_time": "2022-01-31T15:38:43.276Z"
   },
   {
    "duration": -2138,
    "start_time": "2022-01-31T15:38:43.282Z"
   },
   {
    "duration": -2144,
    "start_time": "2022-01-31T15:38:43.289Z"
   },
   {
    "duration": -2148,
    "start_time": "2022-01-31T15:38:43.295Z"
   },
   {
    "duration": -2154,
    "start_time": "2022-01-31T15:38:43.302Z"
   },
   {
    "duration": -2159,
    "start_time": "2022-01-31T15:38:43.308Z"
   },
   {
    "duration": -2164,
    "start_time": "2022-01-31T15:38:43.315Z"
   },
   {
    "duration": -2210,
    "start_time": "2022-01-31T15:38:43.362Z"
   },
   {
    "duration": -2218,
    "start_time": "2022-01-31T15:38:43.371Z"
   },
   {
    "duration": -2221,
    "start_time": "2022-01-31T15:38:43.376Z"
   },
   {
    "duration": -2227,
    "start_time": "2022-01-31T15:38:43.383Z"
   },
   {
    "duration": -2247,
    "start_time": "2022-01-31T15:38:43.404Z"
   },
   {
    "duration": -2253,
    "start_time": "2022-01-31T15:38:43.412Z"
   },
   {
    "duration": -2275,
    "start_time": "2022-01-31T15:38:43.435Z"
   },
   {
    "duration": -2283,
    "start_time": "2022-01-31T15:38:43.444Z"
   },
   {
    "duration": -2288,
    "start_time": "2022-01-31T15:38:43.451Z"
   },
   {
    "duration": -2310,
    "start_time": "2022-01-31T15:38:43.474Z"
   },
   {
    "duration": -2317,
    "start_time": "2022-01-31T15:38:43.483Z"
   },
   {
    "duration": -2345,
    "start_time": "2022-01-31T15:38:43.512Z"
   },
   {
    "duration": -2366,
    "start_time": "2022-01-31T15:38:43.535Z"
   },
   {
    "duration": -2373,
    "start_time": "2022-01-31T15:38:43.543Z"
   },
   {
    "duration": -2382,
    "start_time": "2022-01-31T15:38:43.554Z"
   },
   {
    "duration": -2408,
    "start_time": "2022-01-31T15:38:43.581Z"
   },
   {
    "duration": -2430,
    "start_time": "2022-01-31T15:38:43.604Z"
   },
   {
    "duration": -2440,
    "start_time": "2022-01-31T15:38:43.615Z"
   },
   {
    "duration": -2458,
    "start_time": "2022-01-31T15:38:43.635Z"
   },
   {
    "duration": -2466,
    "start_time": "2022-01-31T15:38:43.644Z"
   },
   {
    "duration": -2472,
    "start_time": "2022-01-31T15:38:43.651Z"
   },
   {
    "duration": -2496,
    "start_time": "2022-01-31T15:38:43.676Z"
   },
   {
    "duration": -2503,
    "start_time": "2022-01-31T15:38:43.684Z"
   },
   {
    "duration": -2523,
    "start_time": "2022-01-31T15:38:43.705Z"
   },
   {
    "duration": -2529,
    "start_time": "2022-01-31T15:38:43.712Z"
   },
   {
    "duration": -2536,
    "start_time": "2022-01-31T15:38:43.720Z"
   },
   {
    "duration": -2540,
    "start_time": "2022-01-31T15:38:43.725Z"
   },
   {
    "duration": -2545,
    "start_time": "2022-01-31T15:38:43.732Z"
   },
   {
    "duration": -2579,
    "start_time": "2022-01-31T15:38:43.767Z"
   },
   {
    "duration": -2585,
    "start_time": "2022-01-31T15:38:43.774Z"
   },
   {
    "duration": 3,
    "start_time": "2022-01-31T15:39:10.777Z"
   },
   {
    "duration": 9,
    "start_time": "2022-01-31T15:39:10.781Z"
   },
   {
    "duration": 564,
    "start_time": "2022-01-31T15:39:10.791Z"
   },
   {
    "duration": 555,
    "start_time": "2022-01-31T15:39:11.357Z"
   },
   {
    "duration": 458,
    "start_time": "2022-01-31T15:39:11.914Z"
   },
   {
    "duration": 448,
    "start_time": "2022-01-31T15:39:12.374Z"
   },
   {
    "duration": 269,
    "start_time": "2022-01-31T15:39:12.825Z"
   },
   {
    "duration": 2,
    "start_time": "2022-01-31T15:39:13.097Z"
   },
   {
    "duration": 36,
    "start_time": "2022-01-31T15:39:13.101Z"
   },
   {
    "duration": 426,
    "start_time": "2022-01-31T15:39:13.139Z"
   },
   {
    "duration": 502,
    "start_time": "2022-01-31T15:39:13.567Z"
   },
   {
    "duration": 509,
    "start_time": "2022-01-31T15:39:14.070Z"
   },
   {
    "duration": 177,
    "start_time": "2022-01-31T15:39:14.580Z"
   },
   {
    "duration": -911,
    "start_time": "2022-01-31T15:39:15.671Z"
   },
   {
    "duration": -969,
    "start_time": "2022-01-31T15:39:15.730Z"
   },
   {
    "duration": -974,
    "start_time": "2022-01-31T15:39:15.736Z"
   },
   {
    "duration": -981,
    "start_time": "2022-01-31T15:39:15.744Z"
   },
   {
    "duration": -1009,
    "start_time": "2022-01-31T15:39:15.772Z"
   },
   {
    "duration": -1033,
    "start_time": "2022-01-31T15:39:15.797Z"
   },
   {
    "duration": -1038,
    "start_time": "2022-01-31T15:39:15.804Z"
   },
   {
    "duration": -1061,
    "start_time": "2022-01-31T15:39:15.828Z"
   },
   {
    "duration": -1068,
    "start_time": "2022-01-31T15:39:15.836Z"
   },
   {
    "duration": -1101,
    "start_time": "2022-01-31T15:39:15.869Z"
   },
   {
    "duration": -1107,
    "start_time": "2022-01-31T15:39:15.877Z"
   },
   {
    "duration": -1111,
    "start_time": "2022-01-31T15:39:15.883Z"
   },
   {
    "duration": -1118,
    "start_time": "2022-01-31T15:39:15.891Z"
   },
   {
    "duration": -1122,
    "start_time": "2022-01-31T15:39:15.897Z"
   },
   {
    "duration": -1128,
    "start_time": "2022-01-31T15:39:15.904Z"
   },
   {
    "duration": -1133,
    "start_time": "2022-01-31T15:39:15.910Z"
   },
   {
    "duration": -1138,
    "start_time": "2022-01-31T15:39:15.917Z"
   },
   {
    "duration": -1146,
    "start_time": "2022-01-31T15:39:15.926Z"
   },
   {
    "duration": -1172,
    "start_time": "2022-01-31T15:39:15.954Z"
   },
   {
    "duration": -1179,
    "start_time": "2022-01-31T15:39:15.962Z"
   },
   {
    "duration": -1185,
    "start_time": "2022-01-31T15:39:15.969Z"
   },
   {
    "duration": -1192,
    "start_time": "2022-01-31T15:39:15.978Z"
   },
   {
    "duration": -1198,
    "start_time": "2022-01-31T15:39:15.985Z"
   },
   {
    "duration": -1202,
    "start_time": "2022-01-31T15:39:15.991Z"
   },
   {
    "duration": -1208,
    "start_time": "2022-01-31T15:39:15.998Z"
   },
   {
    "duration": -1215,
    "start_time": "2022-01-31T15:39:16.005Z"
   },
   {
    "duration": -1220,
    "start_time": "2022-01-31T15:39:16.011Z"
   },
   {
    "duration": -1225,
    "start_time": "2022-01-31T15:39:16.017Z"
   },
   {
    "duration": -1232,
    "start_time": "2022-01-31T15:39:16.024Z"
   },
   {
    "duration": -1237,
    "start_time": "2022-01-31T15:39:16.030Z"
   },
   {
    "duration": 63,
    "start_time": "2022-01-31T15:39:28.435Z"
   },
   {
    "duration": 6960,
    "start_time": "2022-01-31T15:39:28.884Z"
   },
   {
    "duration": 31,
    "start_time": "2022-01-31T15:39:46.644Z"
   },
   {
    "duration": 291,
    "start_time": "2022-01-31T15:39:54.523Z"
   },
   {
    "duration": 4,
    "start_time": "2022-01-31T15:39:54.816Z"
   },
   {
    "duration": 7,
    "start_time": "2022-01-31T15:39:54.822Z"
   },
   {
    "duration": 7,
    "start_time": "2022-01-31T15:39:54.830Z"
   },
   {
    "duration": 20,
    "start_time": "2022-01-31T15:39:54.839Z"
   },
   {
    "duration": 5,
    "start_time": "2022-01-31T15:39:54.860Z"
   },
   {
    "duration": 13,
    "start_time": "2022-01-31T15:39:54.866Z"
   },
   {
    "duration": 9,
    "start_time": "2022-01-31T15:39:54.882Z"
   },
   {
    "duration": 470,
    "start_time": "2022-01-31T15:39:54.893Z"
   },
   {
    "duration": 24,
    "start_time": "2022-01-31T15:39:55.365Z"
   },
   {
    "duration": 240,
    "start_time": "2022-01-31T15:39:55.391Z"
   },
   {
    "duration": 4,
    "start_time": "2022-01-31T15:39:55.634Z"
   },
   {
    "duration": 1864,
    "start_time": "2022-01-31T15:39:55.660Z"
   },
   {
    "duration": 4,
    "start_time": "2022-01-31T15:39:57.526Z"
   },
   {
    "duration": 464,
    "start_time": "2022-01-31T15:39:57.532Z"
   },
   {
    "duration": 8,
    "start_time": "2022-01-31T15:39:57.998Z"
   },
   {
    "duration": 10,
    "start_time": "2022-01-31T15:39:58.008Z"
   },
   {
    "duration": 470,
    "start_time": "2022-01-31T15:39:58.020Z"
   },
   {
    "duration": 10,
    "start_time": "2022-01-31T15:39:58.492Z"
   },
   {
    "duration": 10,
    "start_time": "2022-01-31T15:39:58.504Z"
   },
   {
    "duration": 4,
    "start_time": "2022-01-31T15:39:58.516Z"
   },
   {
    "duration": 339,
    "start_time": "2022-01-31T15:39:58.522Z"
   },
   {
    "duration": 284,
    "start_time": "2022-01-31T15:39:58.866Z"
   },
   {
    "duration": 307,
    "start_time": "2022-01-31T15:39:59.152Z"
   },
   {
    "duration": 305,
    "start_time": "2022-01-31T15:39:59.461Z"
   },
   {
    "duration": 3,
    "start_time": "2022-01-31T15:39:59.768Z"
   },
   {
    "duration": 718,
    "start_time": "2022-01-31T15:39:59.773Z"
   },
   {
    "duration": 6,
    "start_time": "2022-01-31T15:40:46.588Z"
   },
   {
    "duration": 4,
    "start_time": "2022-01-31T15:40:51.084Z"
   },
   {
    "duration": 677,
    "start_time": "2022-01-31T15:41:10.130Z"
   },
   {
    "duration": 708,
    "start_time": "2022-01-31T15:42:02.274Z"
   },
   {
    "duration": 704,
    "start_time": "2022-01-31T15:42:15.933Z"
   },
   {
    "duration": 1268,
    "start_time": "2022-01-31T15:43:45.850Z"
   },
   {
    "duration": 1300,
    "start_time": "2022-01-31T15:44:33.986Z"
   },
   {
    "duration": 2829,
    "start_time": "2022-01-31T15:45:53.445Z"
   },
   {
    "duration": 1391,
    "start_time": "2022-01-31T15:46:00.782Z"
   },
   {
    "duration": 1295,
    "start_time": "2022-01-31T15:46:13.489Z"
   },
   {
    "duration": 1385,
    "start_time": "2022-01-31T15:46:41.531Z"
   },
   {
    "duration": 1287,
    "start_time": "2022-01-31T15:47:11.253Z"
   },
   {
    "duration": 757,
    "start_time": "2022-01-31T15:47:35.385Z"
   },
   {
    "duration": 701,
    "start_time": "2022-01-31T15:47:55.519Z"
   },
   {
    "duration": 691,
    "start_time": "2022-01-31T15:48:24.169Z"
   },
   {
    "duration": 8,
    "start_time": "2022-01-31T15:51:12.355Z"
   },
   {
    "duration": 10,
    "start_time": "2022-01-31T15:51:24.792Z"
   },
   {
    "duration": 59,
    "start_time": "2022-01-31T15:51:38.725Z"
   },
   {
    "duration": 67,
    "start_time": "2022-01-31T15:51:48.622Z"
   },
   {
    "duration": 10,
    "start_time": "2022-01-31T15:51:52.937Z"
   },
   {
    "duration": 78,
    "start_time": "2022-01-31T15:54:36.974Z"
   },
   {
    "duration": 4209,
    "start_time": "2022-01-31T15:55:01.554Z"
   },
   {
    "duration": 4838,
    "start_time": "2022-01-31T15:56:47.259Z"
   },
   {
    "duration": 190,
    "start_time": "2022-01-31T16:06:14.243Z"
   },
   {
    "duration": 6,
    "start_time": "2022-01-31T16:06:33.299Z"
   },
   {
    "duration": 186,
    "start_time": "2022-01-31T16:06:59.124Z"
   },
   {
    "duration": 4,
    "start_time": "2022-01-31T16:07:10.959Z"
   },
   {
    "duration": 6,
    "start_time": "2022-01-31T16:08:01.928Z"
   },
   {
    "duration": 176,
    "start_time": "2022-01-31T16:08:38.422Z"
   },
   {
    "duration": 192,
    "start_time": "2022-01-31T16:09:17.936Z"
   },
   {
    "duration": 184,
    "start_time": "2022-01-31T16:09:22.376Z"
   },
   {
    "duration": 4116,
    "start_time": "2022-01-31T16:09:38.754Z"
   },
   {
    "duration": 820,
    "start_time": "2022-01-31T16:09:58.666Z"
   },
   {
    "duration": 3,
    "start_time": "2022-01-31T16:11:28.554Z"
   },
   {
    "duration": 685,
    "start_time": "2022-01-31T16:11:29.128Z"
   },
   {
    "duration": 3,
    "start_time": "2022-01-31T16:11:30.357Z"
   },
   {
    "duration": 3,
    "start_time": "2022-01-31T16:12:06.896Z"
   },
   {
    "duration": 7202,
    "start_time": "2022-01-31T16:12:06.902Z"
   },
   {
    "duration": 5,
    "start_time": "2022-01-31T16:12:14.107Z"
   },
   {
    "duration": 698,
    "start_time": "2022-01-31T16:12:14.114Z"
   },
   {
    "duration": 5,
    "start_time": "2022-01-31T16:12:14.814Z"
   },
   {
    "duration": 52,
    "start_time": "2022-01-31T16:12:14.820Z"
   },
   {
    "duration": 19,
    "start_time": "2022-01-31T16:12:14.873Z"
   },
   {
    "duration": 7,
    "start_time": "2022-01-31T16:12:14.894Z"
   },
   {
    "duration": 6,
    "start_time": "2022-01-31T16:12:14.903Z"
   },
   {
    "duration": 5,
    "start_time": "2022-01-31T16:12:14.911Z"
   },
   {
    "duration": 5,
    "start_time": "2022-01-31T16:12:14.918Z"
   },
   {
    "duration": 44,
    "start_time": "2022-01-31T16:12:14.924Z"
   },
   {
    "duration": 16,
    "start_time": "2022-01-31T16:12:14.970Z"
   },
   {
    "duration": 26,
    "start_time": "2022-01-31T16:12:14.988Z"
   },
   {
    "duration": 27,
    "start_time": "2022-01-31T16:12:15.016Z"
   },
   {
    "duration": 330,
    "start_time": "2022-01-31T16:12:15.045Z"
   },
   {
    "duration": 66,
    "start_time": "2022-01-31T16:12:15.377Z"
   },
   {
    "duration": 74,
    "start_time": "2022-01-31T16:12:15.445Z"
   },
   {
    "duration": 78,
    "start_time": "2022-01-31T16:12:15.521Z"
   },
   {
    "duration": 2,
    "start_time": "2022-01-31T16:12:15.600Z"
   },
   {
    "duration": 548,
    "start_time": "2022-01-31T16:12:15.604Z"
   },
   {
    "duration": 559,
    "start_time": "2022-01-31T16:12:16.153Z"
   },
   {
    "duration": 396,
    "start_time": "2022-01-31T16:12:16.713Z"
   },
   {
    "duration": 431,
    "start_time": "2022-01-31T16:12:17.112Z"
   },
   {
    "duration": 263,
    "start_time": "2022-01-31T16:12:17.545Z"
   },
   {
    "duration": 2,
    "start_time": "2022-01-31T16:12:17.810Z"
   },
   {
    "duration": 19,
    "start_time": "2022-01-31T16:12:17.814Z"
   },
   {
    "duration": 424,
    "start_time": "2022-01-31T16:12:17.835Z"
   },
   {
    "duration": 501,
    "start_time": "2022-01-31T16:12:18.261Z"
   },
   {
    "duration": 511,
    "start_time": "2022-01-31T16:12:18.764Z"
   },
   {
    "duration": 2,
    "start_time": "2022-01-31T16:12:19.277Z"
   },
   {
    "duration": 83,
    "start_time": "2022-01-31T16:12:19.281Z"
   },
   {
    "duration": 5471,
    "start_time": "2022-01-31T16:12:19.365Z"
   },
   {
    "duration": 41,
    "start_time": "2022-01-31T16:12:24.838Z"
   },
   {
    "duration": 287,
    "start_time": "2022-01-31T16:12:24.881Z"
   },
   {
    "duration": 4,
    "start_time": "2022-01-31T16:12:25.170Z"
   },
   {
    "duration": 8,
    "start_time": "2022-01-31T16:12:25.176Z"
   },
   {
    "duration": 5,
    "start_time": "2022-01-31T16:12:25.185Z"
   },
   {
    "duration": 7,
    "start_time": "2022-01-31T16:12:25.192Z"
   },
   {
    "duration": 5,
    "start_time": "2022-01-31T16:12:25.200Z"
   },
   {
    "duration": 10,
    "start_time": "2022-01-31T16:12:25.206Z"
   },
   {
    "duration": 8,
    "start_time": "2022-01-31T16:12:25.217Z"
   },
   {
    "duration": 477,
    "start_time": "2022-01-31T16:12:25.226Z"
   },
   {
    "duration": 20,
    "start_time": "2022-01-31T16:12:25.705Z"
   },
   {
    "duration": 251,
    "start_time": "2022-01-31T16:12:25.727Z"
   },
   {
    "duration": 4,
    "start_time": "2022-01-31T16:12:25.980Z"
   },
   {
    "duration": 1839,
    "start_time": "2022-01-31T16:12:25.986Z"
   },
   {
    "duration": 4,
    "start_time": "2022-01-31T16:12:27.826Z"
   },
   {
    "duration": 466,
    "start_time": "2022-01-31T16:12:27.831Z"
   },
   {
    "duration": 8,
    "start_time": "2022-01-31T16:12:28.298Z"
   },
   {
    "duration": 10,
    "start_time": "2022-01-31T16:12:28.307Z"
   },
   {
    "duration": 452,
    "start_time": "2022-01-31T16:12:28.318Z"
   },
   {
    "duration": 10,
    "start_time": "2022-01-31T16:12:28.772Z"
   },
   {
    "duration": 9,
    "start_time": "2022-01-31T16:12:28.783Z"
   },
   {
    "duration": 4,
    "start_time": "2022-01-31T16:12:28.793Z"
   },
   {
    "duration": 1209,
    "start_time": "2022-01-31T16:12:28.799Z"
   },
   {
    "duration": 721,
    "start_time": "2022-01-31T16:12:30.010Z"
   },
   {
    "duration": 5,
    "start_time": "2022-01-31T16:12:30.733Z"
   },
   {
    "duration": 358,
    "start_time": "2022-01-31T16:12:30.740Z"
   },
   {
    "duration": 101,
    "start_time": "2022-01-31T16:13:00.606Z"
   },
   {
    "duration": 32549,
    "start_time": "2022-01-31T16:13:12.315Z"
   },
   {
    "duration": 11127,
    "start_time": "2022-01-31T16:13:50.086Z"
   },
   {
    "duration": 6,
    "start_time": "2022-01-31T16:14:06.215Z"
   },
   {
    "duration": 4,
    "start_time": "2022-01-31T16:14:54.822Z"
   },
   {
    "duration": 5,
    "start_time": "2022-01-31T16:14:57.637Z"
   },
   {
    "duration": 4,
    "start_time": "2022-01-31T16:15:06.948Z"
   },
   {
    "duration": 6,
    "start_time": "2022-01-31T16:15:16.350Z"
   },
   {
    "duration": 7,
    "start_time": "2022-01-31T16:16:04.731Z"
   },
   {
    "duration": 36,
    "start_time": "2022-01-31T16:16:11.694Z"
   },
   {
    "duration": 377,
    "start_time": "2022-01-31T16:16:28.393Z"
   },
   {
    "duration": 28,
    "start_time": "2022-01-31T16:16:33.357Z"
   },
   {
    "duration": 104,
    "start_time": "2022-01-31T16:16:39.138Z"
   },
   {
    "duration": 30,
    "start_time": "2022-01-31T16:16:42.117Z"
   },
   {
    "duration": 375,
    "start_time": "2022-01-31T16:16:59.968Z"
   },
   {
    "duration": 3,
    "start_time": "2022-01-31T16:17:02.933Z"
   },
   {
    "duration": 30,
    "start_time": "2022-01-31T16:17:04.921Z"
   },
   {
    "duration": 19,
    "start_time": "2022-01-31T16:17:11.764Z"
   },
   {
    "duration": 5,
    "start_time": "2022-01-31T16:17:29.261Z"
   },
   {
    "duration": 185,
    "start_time": "2022-01-31T16:17:55.484Z"
   },
   {
    "duration": 194,
    "start_time": "2022-01-31T16:18:02.948Z"
   },
   {
    "duration": 29,
    "start_time": "2022-01-31T16:18:11.712Z"
   },
   {
    "duration": 46,
    "start_time": "2022-01-31T16:19:07.159Z"
   },
   {
    "duration": 12,
    "start_time": "2022-01-31T16:19:36.759Z"
   },
   {
    "duration": 20,
    "start_time": "2022-01-31T16:19:46.888Z"
   },
   {
    "duration": 229,
    "start_time": "2022-01-31T16:20:07.893Z"
   },
   {
    "duration": 71,
    "start_time": "2022-01-31T17:42:46.410Z"
   },
   {
    "duration": 694,
    "start_time": "2022-01-31T17:42:47.606Z"
   },
   {
    "duration": 213,
    "start_time": "2022-01-31T17:43:46.855Z"
   },
   {
    "duration": 13,
    "start_time": "2022-01-31T17:44:07.474Z"
   },
   {
    "duration": 5,
    "start_time": "2022-01-31T17:44:50.297Z"
   },
   {
    "duration": 341,
    "start_time": "2022-01-31T17:45:04.356Z"
   },
   {
    "duration": 4,
    "start_time": "2022-01-31T17:45:04.797Z"
   },
   {
    "duration": 27,
    "start_time": "2022-01-31T17:45:11.240Z"
   },
   {
    "duration": 218,
    "start_time": "2022-01-31T17:45:15.278Z"
   },
   {
    "duration": 63,
    "start_time": "2022-01-31T17:45:18.481Z"
   },
   {
    "duration": 692,
    "start_time": "2022-01-31T17:45:19.260Z"
   },
   {
    "duration": 210,
    "start_time": "2022-01-31T17:45:23.485Z"
   },
   {
    "duration": 27,
    "start_time": "2022-01-31T17:45:28.914Z"
   },
   {
    "duration": 22,
    "start_time": "2022-01-31T17:45:51.283Z"
   },
   {
    "duration": 7,
    "start_time": "2022-01-31T17:48:16.008Z"
   },
   {
    "duration": 7,
    "start_time": "2022-01-31T17:48:46.615Z"
   },
   {
    "duration": 208,
    "start_time": "2022-01-31T17:51:39.293Z"
   },
   {
    "duration": 12,
    "start_time": "2022-01-31T17:52:48.595Z"
   },
   {
    "duration": 58,
    "start_time": "2022-01-31T17:53:39.689Z"
   },
   {
    "duration": 9,
    "start_time": "2022-01-31T17:53:43.131Z"
   },
   {
    "duration": 10,
    "start_time": "2022-01-31T17:53:54.737Z"
   },
   {
    "duration": 28,
    "start_time": "2022-01-31T17:54:06.212Z"
   },
   {
    "duration": 55,
    "start_time": "2022-01-31T17:54:35.826Z"
   },
   {
    "duration": 15,
    "start_time": "2022-01-31T17:54:43.832Z"
   },
   {
    "duration": 376,
    "start_time": "2022-02-01T08:01:16.944Z"
   },
   {
    "duration": 3,
    "start_time": "2022-02-01T08:01:24.133Z"
   },
   {
    "duration": 18420,
    "start_time": "2022-02-01T08:01:24.139Z"
   },
   {
    "duration": 4033,
    "start_time": "2022-02-01T08:01:42.564Z"
   },
   {
    "duration": 896,
    "start_time": "2022-02-01T08:01:46.601Z"
   },
   {
    "duration": 4,
    "start_time": "2022-02-01T08:01:47.500Z"
   },
   {
    "duration": 173,
    "start_time": "2022-02-01T08:01:47.507Z"
   },
   {
    "duration": 34,
    "start_time": "2022-02-01T08:01:47.684Z"
   },
   {
    "duration": 7,
    "start_time": "2022-02-01T08:01:47.721Z"
   },
   {
    "duration": 9,
    "start_time": "2022-02-01T08:01:47.750Z"
   },
   {
    "duration": 12,
    "start_time": "2022-02-01T08:01:47.763Z"
   },
   {
    "duration": 7,
    "start_time": "2022-02-01T08:01:47.778Z"
   },
   {
    "duration": 62,
    "start_time": "2022-02-01T08:01:47.788Z"
   },
   {
    "duration": 3,
    "start_time": "2022-02-01T08:01:47.852Z"
   },
   {
    "duration": 422,
    "start_time": "2022-02-01T08:01:47.858Z"
   },
   {
    "duration": -526,
    "start_time": "2022-02-01T08:01:48.813Z"
   },
   {
    "duration": -527,
    "start_time": "2022-02-01T08:01:48.816Z"
   },
   {
    "duration": -532,
    "start_time": "2022-02-01T08:01:48.822Z"
   },
   {
    "duration": -540,
    "start_time": "2022-02-01T08:01:48.832Z"
   },
   {
    "duration": -544,
    "start_time": "2022-02-01T08:01:48.837Z"
   },
   {
    "duration": -546,
    "start_time": "2022-02-01T08:01:48.841Z"
   },
   {
    "duration": -547,
    "start_time": "2022-02-01T08:01:48.844Z"
   },
   {
    "duration": -550,
    "start_time": "2022-02-01T08:01:48.848Z"
   },
   {
    "duration": -552,
    "start_time": "2022-02-01T08:01:48.852Z"
   },
   {
    "duration": -554,
    "start_time": "2022-02-01T08:01:48.855Z"
   },
   {
    "duration": -556,
    "start_time": "2022-02-01T08:01:48.858Z"
   },
   {
    "duration": -558,
    "start_time": "2022-02-01T08:01:48.862Z"
   },
   {
    "duration": -569,
    "start_time": "2022-02-01T08:01:48.874Z"
   },
   {
    "duration": -570,
    "start_time": "2022-02-01T08:01:48.877Z"
   },
   {
    "duration": -572,
    "start_time": "2022-02-01T08:01:48.881Z"
   },
   {
    "duration": -575,
    "start_time": "2022-02-01T08:01:48.886Z"
   },
   {
    "duration": -577,
    "start_time": "2022-02-01T08:01:48.890Z"
   },
   {
    "duration": -578,
    "start_time": "2022-02-01T08:01:48.893Z"
   },
   {
    "duration": -580,
    "start_time": "2022-02-01T08:01:48.897Z"
   },
   {
    "duration": -581,
    "start_time": "2022-02-01T08:01:48.900Z"
   },
   {
    "duration": -582,
    "start_time": "2022-02-01T08:01:48.903Z"
   },
   {
    "duration": -582,
    "start_time": "2022-02-01T08:01:48.906Z"
   },
   {
    "duration": -561,
    "start_time": "2022-02-01T08:01:48.910Z"
   },
   {
    "duration": -562,
    "start_time": "2022-02-01T08:01:48.913Z"
   },
   {
    "duration": -563,
    "start_time": "2022-02-01T08:01:48.917Z"
   },
   {
    "duration": -563,
    "start_time": "2022-02-01T08:01:48.920Z"
   },
   {
    "duration": -565,
    "start_time": "2022-02-01T08:01:48.924Z"
   },
   {
    "duration": -565,
    "start_time": "2022-02-01T08:01:48.926Z"
   },
   {
    "duration": -654,
    "start_time": "2022-02-01T08:01:49.018Z"
   },
   {
    "duration": -848,
    "start_time": "2022-02-01T08:01:49.213Z"
   },
   {
    "duration": -850,
    "start_time": "2022-02-01T08:01:49.217Z"
   },
   {
    "duration": -852,
    "start_time": "2022-02-01T08:01:49.220Z"
   },
   {
    "duration": -854,
    "start_time": "2022-02-01T08:01:49.224Z"
   },
   {
    "duration": -857,
    "start_time": "2022-02-01T08:01:49.228Z"
   },
   {
    "duration": -858,
    "start_time": "2022-02-01T08:01:49.231Z"
   },
   {
    "duration": -860,
    "start_time": "2022-02-01T08:01:49.234Z"
   },
   {
    "duration": -862,
    "start_time": "2022-02-01T08:01:49.237Z"
   },
   {
    "duration": -864,
    "start_time": "2022-02-01T08:01:49.241Z"
   },
   {
    "duration": -866,
    "start_time": "2022-02-01T08:01:49.244Z"
   },
   {
    "duration": -867,
    "start_time": "2022-02-01T08:01:49.247Z"
   },
   {
    "duration": -870,
    "start_time": "2022-02-01T08:01:49.251Z"
   },
   {
    "duration": -872,
    "start_time": "2022-02-01T08:01:49.254Z"
   },
   {
    "duration": -877,
    "start_time": "2022-02-01T08:01:49.261Z"
   },
   {
    "duration": -883,
    "start_time": "2022-02-01T08:01:49.268Z"
   },
   {
    "duration": -888,
    "start_time": "2022-02-01T08:01:49.275Z"
   },
   {
    "duration": -893,
    "start_time": "2022-02-01T08:01:49.281Z"
   },
   {
    "duration": -840,
    "start_time": "2022-02-01T08:01:49.288Z"
   },
   {
    "duration": -842,
    "start_time": "2022-02-01T08:01:49.292Z"
   },
   {
    "duration": 141024,
    "start_time": "2022-02-01T08:08:11.435Z"
   },
   {
    "duration": 529,
    "start_time": "2022-02-01T08:11:13.524Z"
   },
   {
    "duration": 7,
    "start_time": "2022-02-01T08:11:22.102Z"
   },
   {
    "duration": 677,
    "start_time": "2022-02-01T08:11:22.113Z"
   },
   {
    "duration": 139,
    "start_time": "2022-02-01T08:11:22.793Z"
   },
   {
    "duration": 128,
    "start_time": "2022-02-01T08:11:22.935Z"
   },
   {
    "duration": 134,
    "start_time": "2022-02-01T08:11:23.066Z"
   },
   {
    "duration": 4,
    "start_time": "2022-02-01T08:11:23.203Z"
   },
   {
    "duration": 668,
    "start_time": "2022-02-01T08:11:23.210Z"
   },
   {
    "duration": 662,
    "start_time": "2022-02-01T08:11:23.881Z"
   },
   {
    "duration": 561,
    "start_time": "2022-02-01T08:11:24.550Z"
   },
   {
    "duration": 509,
    "start_time": "2022-02-01T08:11:25.115Z"
   },
   {
    "duration": 337,
    "start_time": "2022-02-01T08:11:25.626Z"
   },
   {
    "duration": 3,
    "start_time": "2022-02-01T08:11:25.966Z"
   },
   {
    "duration": 35,
    "start_time": "2022-02-01T08:11:25.971Z"
   },
   {
    "duration": 480,
    "start_time": "2022-02-01T08:11:26.009Z"
   },
   {
    "duration": 544,
    "start_time": "2022-02-01T08:11:26.492Z"
   },
   {
    "duration": 740,
    "start_time": "2022-02-01T08:11:27.039Z"
   },
   {
    "duration": 4,
    "start_time": "2022-02-01T08:11:27.783Z"
   },
   {
    "duration": 175,
    "start_time": "2022-02-01T08:11:27.790Z"
   },
   {
    "duration": 12517,
    "start_time": "2022-02-01T08:11:27.967Z"
   },
   {
    "duration": 64,
    "start_time": "2022-02-01T08:11:40.487Z"
   },
   {
    "duration": 382,
    "start_time": "2022-02-01T08:11:40.554Z"
   },
   {
    "duration": 12,
    "start_time": "2022-02-01T08:11:40.938Z"
   },
   {
    "duration": 15,
    "start_time": "2022-02-01T08:11:40.952Z"
   },
   {
    "duration": 9,
    "start_time": "2022-02-01T08:11:40.970Z"
   },
   {
    "duration": 10,
    "start_time": "2022-02-01T08:11:40.981Z"
   },
   {
    "duration": 12,
    "start_time": "2022-02-01T08:11:40.993Z"
   },
   {
    "duration": 10,
    "start_time": "2022-02-01T08:11:41.010Z"
   },
   {
    "duration": 35,
    "start_time": "2022-02-01T08:11:41.023Z"
   },
   {
    "duration": 745,
    "start_time": "2022-02-01T08:11:41.061Z"
   },
   {
    "duration": 21,
    "start_time": "2022-02-01T08:11:41.808Z"
   },
   {
    "duration": 367,
    "start_time": "2022-02-01T08:11:41.832Z"
   },
   {
    "duration": 6,
    "start_time": "2022-02-01T08:11:42.203Z"
   },
   {
    "duration": 2943,
    "start_time": "2022-02-01T08:11:42.211Z"
   },
   {
    "duration": 7,
    "start_time": "2022-02-01T08:11:45.157Z"
   },
   {
    "duration": 751,
    "start_time": "2022-02-01T08:11:45.166Z"
   },
   {
    "duration": 11,
    "start_time": "2022-02-01T08:11:45.919Z"
   },
   {
    "duration": 18,
    "start_time": "2022-02-01T08:11:45.949Z"
   },
   {
    "duration": 701,
    "start_time": "2022-02-01T08:11:45.970Z"
   },
   {
    "duration": 12,
    "start_time": "2022-02-01T08:11:46.674Z"
   },
   {
    "duration": 10,
    "start_time": "2022-02-01T08:11:46.688Z"
   },
   {
    "duration": 6,
    "start_time": "2022-02-01T08:11:46.701Z"
   },
   {
    "duration": 2061,
    "start_time": "2022-02-01T08:11:46.709Z"
   },
   {
    "duration": 1105,
    "start_time": "2022-02-01T08:11:48.774Z"
   },
   {
    "duration": 437,
    "start_time": "2022-02-01T08:11:49.882Z"
   },
   {
    "duration": 7,
    "start_time": "2022-02-01T08:11:50.321Z"
   },
   {
    "duration": 104,
    "start_time": "2022-02-01T08:11:50.330Z"
   },
   {
    "duration": 1093,
    "start_time": "2022-02-01T08:11:50.436Z"
   },
   {
    "duration": 26,
    "start_time": "2022-02-01T08:11:51.531Z"
   },
   {
    "duration": 6,
    "start_time": "2022-02-01T08:21:32.388Z"
   },
   {
    "duration": 1074,
    "start_time": "2022-02-01T08:22:00.207Z"
   },
   {
    "duration": 1192,
    "start_time": "2022-02-01T08:22:06.086Z"
   },
   {
    "duration": 4662,
    "start_time": "2022-02-01T08:22:09.980Z"
   },
   {
    "duration": 3104,
    "start_time": "2022-02-01T08:22:44.939Z"
   },
   {
    "duration": 2659,
    "start_time": "2022-02-01T08:22:51.521Z"
   },
   {
    "duration": 52960,
    "start_time": "2022-02-01T08:24:41.389Z"
   },
   {
    "duration": 115,
    "start_time": "2022-02-01T08:25:36.017Z"
   },
   {
    "duration": 97,
    "start_time": "2022-02-01T08:33:43.102Z"
   },
   {
    "duration": 1061,
    "start_time": "2022-02-01T08:33:43.752Z"
   },
   {
    "duration": 9,
    "start_time": "2022-02-01T08:33:47.903Z"
   },
   {
    "duration": 64,
    "start_time": "2022-02-01T08:34:03.863Z"
   },
   {
    "duration": 1101,
    "start_time": "2022-02-01T08:34:13.042Z"
   },
   {
    "duration": 333,
    "start_time": "2022-02-01T08:36:44.488Z"
   },
   {
    "duration": 321,
    "start_time": "2022-02-01T08:36:59.879Z"
   },
   {
    "duration": 330,
    "start_time": "2022-02-01T08:37:10.402Z"
   },
   {
    "duration": 330,
    "start_time": "2022-02-01T08:37:29.004Z"
   },
   {
    "duration": 279,
    "start_time": "2022-02-01T08:37:58.005Z"
   },
   {
    "duration": 6,
    "start_time": "2022-02-01T08:38:54.877Z"
   },
   {
    "duration": 6,
    "start_time": "2022-02-01T08:42:48.560Z"
   },
   {
    "duration": 1055,
    "start_time": "2022-02-01T08:44:07.784Z"
   },
   {
    "duration": 2082,
    "start_time": "2022-02-01T08:44:20.907Z"
   },
   {
    "duration": 6,
    "start_time": "2022-02-01T08:45:46.120Z"
   },
   {
    "duration": 20,
    "start_time": "2022-02-01T08:46:27.978Z"
   },
   {
    "duration": 2445,
    "start_time": "2022-02-01T08:46:45.310Z"
   },
   {
    "duration": 4234,
    "start_time": "2022-02-01T08:49:55.284Z"
   },
   {
    "duration": 57,
    "start_time": "2022-02-01T08:50:17.760Z"
   },
   {
    "duration": 52401,
    "start_time": "2022-02-01T08:56:29.848Z"
   },
   {
    "duration": 1093,
    "start_time": "2022-02-01T09:02:00.424Z"
   },
   {
    "duration": 14,
    "start_time": "2022-02-01T09:15:57.012Z"
   },
   {
    "duration": 2115,
    "start_time": "2022-02-01T09:16:07.437Z"
   },
   {
    "duration": 323,
    "start_time": "2022-02-01T09:19:19.266Z"
   },
   {
    "duration": 295,
    "start_time": "2022-02-01T09:19:26.831Z"
   },
   {
    "duration": 65,
    "start_time": "2022-02-01T09:19:58.009Z"
   },
   {
    "duration": 11,
    "start_time": "2022-02-01T09:22:10.552Z"
   },
   {
    "duration": 4,
    "start_time": "2022-02-01T09:30:57.568Z"
   },
   {
    "duration": 7,
    "start_time": "2022-02-01T09:38:32.379Z"
   },
   {
    "duration": 7,
    "start_time": "2022-02-01T09:41:47.688Z"
   },
   {
    "duration": 13,
    "start_time": "2022-02-01T09:41:58.975Z"
   },
   {
    "duration": 9,
    "start_time": "2022-02-01T09:42:22.228Z"
   },
   {
    "duration": 18,
    "start_time": "2022-02-01T09:42:52.823Z"
   },
   {
    "duration": 7,
    "start_time": "2022-02-01T09:43:08.554Z"
   },
   {
    "duration": 9,
    "start_time": "2022-02-01T09:43:08.937Z"
   },
   {
    "duration": 6,
    "start_time": "2022-02-01T09:57:31.196Z"
   },
   {
    "duration": 7,
    "start_time": "2022-02-01T11:51:33.445Z"
   },
   {
    "duration": 6,
    "start_time": "2022-02-01T11:51:40.140Z"
   },
   {
    "duration": 304,
    "start_time": "2022-02-01T11:56:34.040Z"
   },
   {
    "duration": 5,
    "start_time": "2022-02-01T11:57:49.364Z"
   },
   {
    "duration": 6,
    "start_time": "2022-02-01T11:58:03.897Z"
   },
   {
    "duration": 6,
    "start_time": "2022-02-01T11:58:11.200Z"
   },
   {
    "duration": 93,
    "start_time": "2022-02-01T11:59:15.137Z"
   },
   {
    "duration": 5,
    "start_time": "2022-02-01T12:01:06.707Z"
   },
   {
    "duration": 7,
    "start_time": "2022-02-01T12:01:15.059Z"
   },
   {
    "duration": 7,
    "start_time": "2022-02-01T12:01:53.196Z"
   },
   {
    "duration": 7,
    "start_time": "2022-02-01T12:02:13.289Z"
   },
   {
    "duration": 6,
    "start_time": "2022-02-01T12:02:52.662Z"
   },
   {
    "duration": 6,
    "start_time": "2022-02-01T12:05:47.504Z"
   },
   {
    "duration": 33,
    "start_time": "2022-02-01T12:05:57.520Z"
   },
   {
    "duration": 6,
    "start_time": "2022-02-01T12:06:12.834Z"
   },
   {
    "duration": 6,
    "start_time": "2022-02-01T12:06:17.234Z"
   },
   {
    "duration": 7,
    "start_time": "2022-02-01T12:09:54.962Z"
   },
   {
    "duration": 9,
    "start_time": "2022-02-01T12:20:46.174Z"
   },
   {
    "duration": 39,
    "start_time": "2022-02-01T12:21:10.514Z"
   },
   {
    "duration": 790,
    "start_time": "2022-02-01T12:22:25.775Z"
   },
   {
    "duration": 4,
    "start_time": "2022-02-01T12:22:28.121Z"
   },
   {
    "duration": 60,
    "start_time": "2022-02-01T12:22:28.837Z"
   },
   {
    "duration": 30,
    "start_time": "2022-02-01T12:22:35.083Z"
   },
   {
    "duration": 7,
    "start_time": "2022-02-01T12:22:41.523Z"
   },
   {
    "duration": 9,
    "start_time": "2022-02-01T12:22:41.532Z"
   },
   {
    "duration": 13,
    "start_time": "2022-02-01T12:22:41.544Z"
   },
   {
    "duration": 7,
    "start_time": "2022-02-01T12:22:41.560Z"
   },
   {
    "duration": 53182,
    "start_time": "2022-02-01T12:22:41.569Z"
   },
   {
    "duration": 157,
    "start_time": "2022-02-01T12:23:34.756Z"
   },
   {
    "duration": 41,
    "start_time": "2022-02-01T12:23:34.917Z"
   },
   {
    "duration": 12,
    "start_time": "2022-02-01T12:23:34.961Z"
   },
   {
    "duration": 787,
    "start_time": "2022-02-01T12:23:34.975Z"
   },
   {
    "duration": 154,
    "start_time": "2022-02-01T12:23:35.766Z"
   },
   {
    "duration": 142,
    "start_time": "2022-02-01T12:23:35.923Z"
   },
   {
    "duration": 1277,
    "start_time": "2022-02-01T12:23:36.068Z"
   },
   {
    "duration": 729,
    "start_time": "2022-02-01T12:23:37.349Z"
   },
   {
    "duration": 737,
    "start_time": "2022-02-01T12:23:38.085Z"
   },
   {
    "duration": 585,
    "start_time": "2022-02-01T12:23:38.825Z"
   },
   {
    "duration": 585,
    "start_time": "2022-02-01T12:23:39.413Z"
   },
   {
    "duration": 366,
    "start_time": "2022-02-01T12:23:40.001Z"
   },
   {
    "duration": 3,
    "start_time": "2022-02-01T12:23:40.370Z"
   },
   {
    "duration": 23,
    "start_time": "2022-02-01T12:23:40.375Z"
   },
   {
    "duration": 484,
    "start_time": "2022-02-01T12:23:40.400Z"
   },
   {
    "duration": 496,
    "start_time": "2022-02-01T12:23:40.887Z"
   },
   {
    "duration": 765,
    "start_time": "2022-02-01T12:23:41.386Z"
   },
   {
    "duration": 3,
    "start_time": "2022-02-01T12:23:42.154Z"
   },
   {
    "duration": 143,
    "start_time": "2022-02-01T12:23:42.159Z"
   },
   {
    "duration": 12508,
    "start_time": "2022-02-01T12:23:42.305Z"
   },
   {
    "duration": 87,
    "start_time": "2022-02-01T12:23:54.817Z"
   },
   {
    "duration": 609,
    "start_time": "2022-02-01T12:23:54.908Z"
   },
   {
    "duration": 7,
    "start_time": "2022-02-01T12:23:55.521Z"
   },
   {
    "duration": 25,
    "start_time": "2022-02-01T12:23:55.530Z"
   },
   {
    "duration": 11,
    "start_time": "2022-02-01T12:23:55.558Z"
   },
   {
    "duration": 11,
    "start_time": "2022-02-01T12:23:55.572Z"
   },
   {
    "duration": 10,
    "start_time": "2022-02-01T12:23:55.585Z"
   },
   {
    "duration": 12,
    "start_time": "2022-02-01T12:23:55.598Z"
   },
   {
    "duration": 44,
    "start_time": "2022-02-01T12:23:55.613Z"
   },
   {
    "duration": 773,
    "start_time": "2022-02-01T12:23:55.660Z"
   },
   {
    "duration": 30,
    "start_time": "2022-02-01T12:23:56.436Z"
   },
   {
    "duration": 3,
    "start_time": "2022-02-01T12:23:56.469Z"
   },
   {
    "duration": 390,
    "start_time": "2022-02-01T12:23:56.480Z"
   },
   {
    "duration": 6,
    "start_time": "2022-02-01T12:23:56.873Z"
   },
   {
    "duration": 3352,
    "start_time": "2022-02-01T12:23:56.882Z"
   },
   {
    "duration": 14,
    "start_time": "2022-02-01T12:24:00.236Z"
   },
   {
    "duration": 726,
    "start_time": "2022-02-01T12:24:00.252Z"
   },
   {
    "duration": 16,
    "start_time": "2022-02-01T12:24:00.981Z"
   },
   {
    "duration": 11,
    "start_time": "2022-02-01T12:24:00.999Z"
   },
   {
    "duration": 710,
    "start_time": "2022-02-01T12:24:01.013Z"
   },
   {
    "duration": 10,
    "start_time": "2022-02-01T12:24:01.726Z"
   },
   {
    "duration": 10,
    "start_time": "2022-02-01T12:24:01.749Z"
   },
   {
    "duration": 17,
    "start_time": "2022-02-01T12:24:01.761Z"
   },
   {
    "duration": 1925,
    "start_time": "2022-02-01T12:24:01.781Z"
   },
   {
    "duration": 1031,
    "start_time": "2022-02-01T12:24:03.709Z"
   },
   {
    "duration": 90,
    "start_time": "2022-02-01T12:24:04.742Z"
   },
   {
    "duration": 1032,
    "start_time": "2022-02-01T12:24:04.847Z"
   },
   {
    "duration": 9,
    "start_time": "2022-02-01T12:24:05.881Z"
   },
   {
    "duration": 82,
    "start_time": "2022-02-01T12:24:05.892Z"
   },
   {
    "duration": 87,
    "start_time": "2022-02-01T12:24:05.977Z"
   },
   {
    "duration": 5,
    "start_time": "2022-02-01T12:24:06.066Z"
   },
   {
    "duration": 12,
    "start_time": "2022-02-01T12:24:06.073Z"
   },
   {
    "duration": 18,
    "start_time": "2022-02-01T12:24:06.087Z"
   },
   {
    "duration": 11,
    "start_time": "2022-02-01T12:24:06.108Z"
   },
   {
    "duration": 28,
    "start_time": "2022-02-01T12:24:06.122Z"
   },
   {
    "duration": 12,
    "start_time": "2022-02-01T12:24:06.153Z"
   },
   {
    "duration": 10,
    "start_time": "2022-02-01T12:24:06.167Z"
   },
   {
    "duration": 11,
    "start_time": "2022-02-01T12:24:06.179Z"
   },
   {
    "duration": 7,
    "start_time": "2022-02-01T12:24:06.192Z"
   },
   {
    "duration": 12,
    "start_time": "2022-02-01T12:24:06.202Z"
   },
   {
    "duration": 63,
    "start_time": "2022-02-01T12:24:06.217Z"
   },
   {
    "duration": 6,
    "start_time": "2022-02-01T12:24:06.282Z"
   },
   {
    "duration": 8,
    "start_time": "2022-02-01T12:24:06.290Z"
   },
   {
    "duration": 301,
    "start_time": "2022-02-01T12:24:06.300Z"
   },
   {
    "duration": 45,
    "start_time": "2022-02-01T12:25:01.844Z"
   },
   {
    "duration": 93,
    "start_time": "2022-02-01T12:25:54.040Z"
   },
   {
    "duration": 31,
    "start_time": "2022-02-01T12:25:54.714Z"
   },
   {
    "duration": 64,
    "start_time": "2022-02-01T12:25:55.615Z"
   },
   {
    "duration": 30,
    "start_time": "2022-02-01T12:25:56.228Z"
   },
   {
    "duration": 67,
    "start_time": "2022-02-01T12:26:43.376Z"
   },
   {
    "duration": 89,
    "start_time": "2022-02-01T12:26:45.623Z"
   },
   {
    "duration": 29,
    "start_time": "2022-02-01T12:26:46.084Z"
   },
   {
    "duration": 100,
    "start_time": "2022-02-01T12:26:47.164Z"
   },
   {
    "duration": 31,
    "start_time": "2022-02-01T12:26:47.907Z"
   },
   {
    "duration": 98,
    "start_time": "2022-02-01T12:27:00.800Z"
   },
   {
    "duration": 32,
    "start_time": "2022-02-01T12:27:01.284Z"
   },
   {
    "duration": 13,
    "start_time": "2022-02-01T12:27:05.463Z"
   },
   {
    "duration": 30,
    "start_time": "2022-02-01T12:27:05.479Z"
   },
   {
    "duration": 92,
    "start_time": "2022-02-01T12:27:13.362Z"
   },
   {
    "duration": 30,
    "start_time": "2022-02-01T12:27:14.062Z"
   },
   {
    "duration": 12,
    "start_time": "2022-02-01T12:27:14.788Z"
   },
   {
    "duration": 33,
    "start_time": "2022-02-01T12:27:15.519Z"
   },
   {
    "duration": 11,
    "start_time": "2022-02-01T12:27:37.784Z"
   },
   {
    "duration": 4051,
    "start_time": "2022-02-01T12:28:14.237Z"
   },
   {
    "duration": 3869,
    "start_time": "2022-02-01T12:28:18.291Z"
   },
   {
    "duration": 7,
    "start_time": "2022-02-01T12:28:22.165Z"
   },
   {
    "duration": 879,
    "start_time": "2022-02-01T12:28:22.176Z"
   },
   {
    "duration": 4,
    "start_time": "2022-02-01T12:28:23.058Z"
   },
   {
    "duration": 63,
    "start_time": "2022-02-01T12:28:23.065Z"
   },
   {
    "duration": 49,
    "start_time": "2022-02-01T12:28:23.131Z"
   },
   {
    "duration": 7,
    "start_time": "2022-02-01T12:28:23.184Z"
   },
   {
    "duration": 11,
    "start_time": "2022-02-01T12:28:23.194Z"
   },
   {
    "duration": 7,
    "start_time": "2022-02-01T12:28:23.208Z"
   },
   {
    "duration": 33,
    "start_time": "2022-02-01T12:28:23.217Z"
   },
   {
    "duration": 8,
    "start_time": "2022-02-01T12:28:23.256Z"
   },
   {
    "duration": 138,
    "start_time": "2022-02-01T12:28:23.267Z"
   },
   {
    "duration": 45,
    "start_time": "2022-02-01T12:28:23.408Z"
   },
   {
    "duration": 10,
    "start_time": "2022-02-01T12:28:23.456Z"
   },
   {
    "duration": 744,
    "start_time": "2022-02-01T12:28:23.468Z"
   },
   {
    "duration": 143,
    "start_time": "2022-02-01T12:28:24.215Z"
   },
   {
    "duration": 128,
    "start_time": "2022-02-01T12:28:24.360Z"
   },
   {
    "duration": 1148,
    "start_time": "2022-02-01T12:28:24.490Z"
   },
   {
    "duration": 613,
    "start_time": "2022-02-01T12:28:25.640Z"
   },
   {
    "duration": 681,
    "start_time": "2022-02-01T12:28:26.257Z"
   },
   {
    "duration": 517,
    "start_time": "2022-02-01T12:28:26.948Z"
   },
   {
    "duration": 529,
    "start_time": "2022-02-01T12:28:27.471Z"
   },
   {
    "duration": 331,
    "start_time": "2022-02-01T12:28:28.004Z"
   },
   {
    "duration": 14,
    "start_time": "2022-02-01T12:28:28.338Z"
   },
   {
    "duration": 19,
    "start_time": "2022-02-01T12:28:28.355Z"
   },
   {
    "duration": 440,
    "start_time": "2022-02-01T12:28:28.376Z"
   },
   {
    "duration": 512,
    "start_time": "2022-02-01T12:28:28.819Z"
   },
   {
    "duration": 643,
    "start_time": "2022-02-01T12:28:29.334Z"
   },
   {
    "duration": 3,
    "start_time": "2022-02-01T12:28:29.980Z"
   },
   {
    "duration": 134,
    "start_time": "2022-02-01T12:28:29.985Z"
   },
   {
    "duration": 3,
    "start_time": "2022-02-01T12:28:30.122Z"
   },
   {
    "duration": 62,
    "start_time": "2022-02-01T12:28:30.128Z"
   },
   {
    "duration": 364,
    "start_time": "2022-02-01T12:28:30.192Z"
   },
   {
    "duration": 6,
    "start_time": "2022-02-01T12:28:30.562Z"
   },
   {
    "duration": 53,
    "start_time": "2022-02-01T12:28:30.571Z"
   },
   {
    "duration": 63,
    "start_time": "2022-02-01T12:28:30.627Z"
   },
   {
    "duration": 50,
    "start_time": "2022-02-01T12:28:30.693Z"
   },
   {
    "duration": 35,
    "start_time": "2022-02-01T12:28:30.746Z"
   },
   {
    "duration": 40,
    "start_time": "2022-02-01T12:28:30.784Z"
   },
   {
    "duration": 12,
    "start_time": "2022-02-01T12:28:30.827Z"
   },
   {
    "duration": 706,
    "start_time": "2022-02-01T12:28:30.842Z"
   },
   {
    "duration": 21,
    "start_time": "2022-02-01T12:28:31.551Z"
   },
   {
    "duration": 5,
    "start_time": "2022-02-01T12:28:31.574Z"
   },
   {
    "duration": 379,
    "start_time": "2022-02-01T12:28:31.582Z"
   },
   {
    "duration": 4,
    "start_time": "2022-02-01T12:28:31.969Z"
   },
   {
    "duration": 3016,
    "start_time": "2022-02-01T12:28:31.976Z"
   },
   {
    "duration": 4,
    "start_time": "2022-02-01T12:28:34.995Z"
   },
   {
    "duration": 706,
    "start_time": "2022-02-01T12:28:35.002Z"
   },
   {
    "duration": 11,
    "start_time": "2022-02-01T12:28:35.710Z"
   },
   {
    "duration": 29,
    "start_time": "2022-02-01T12:28:35.723Z"
   },
   {
    "duration": 708,
    "start_time": "2022-02-01T12:28:35.754Z"
   },
   {
    "duration": 11,
    "start_time": "2022-02-01T12:28:36.467Z"
   },
   {
    "duration": 28,
    "start_time": "2022-02-01T12:28:36.481Z"
   },
   {
    "duration": 24,
    "start_time": "2022-02-01T12:28:36.511Z"
   },
   {
    "duration": 2027,
    "start_time": "2022-02-01T12:28:36.537Z"
   },
   {
    "duration": 1082,
    "start_time": "2022-02-01T12:28:38.566Z"
   },
   {
    "duration": 81,
    "start_time": "2022-02-01T12:28:39.650Z"
   },
   {
    "duration": 1076,
    "start_time": "2022-02-01T12:28:39.734Z"
   },
   {
    "duration": 9,
    "start_time": "2022-02-01T12:28:40.813Z"
   },
   {
    "duration": 74,
    "start_time": "2022-02-01T12:28:40.824Z"
   },
   {
    "duration": 92,
    "start_time": "2022-02-01T12:28:40.900Z"
   },
   {
    "duration": 28,
    "start_time": "2022-02-01T12:28:40.994Z"
   },
   {
    "duration": 28,
    "start_time": "2022-02-01T12:28:41.025Z"
   },
   {
    "duration": 30,
    "start_time": "2022-02-01T12:28:41.055Z"
   },
   {
    "duration": 9,
    "start_time": "2022-02-01T12:28:41.088Z"
   },
   {
    "duration": 10,
    "start_time": "2022-02-01T12:29:38.683Z"
   },
   {
    "duration": 12,
    "start_time": "2022-02-01T12:30:06.095Z"
   },
   {
    "duration": 10,
    "start_time": "2022-02-01T12:30:07.011Z"
   },
   {
    "duration": 10,
    "start_time": "2022-02-01T12:30:11.165Z"
   },
   {
    "duration": 5,
    "start_time": "2022-02-01T12:30:48.563Z"
   },
   {
    "duration": 6,
    "start_time": "2022-02-01T12:30:49.639Z"
   },
   {
    "duration": 10,
    "start_time": "2022-02-01T12:30:50.047Z"
   },
   {
    "duration": 7,
    "start_time": "2022-02-01T12:30:50.623Z"
   },
   {
    "duration": 9,
    "start_time": "2022-02-01T12:30:51.964Z"
   },
   {
    "duration": 6,
    "start_time": "2022-02-01T12:30:58.102Z"
   },
   {
    "duration": 6,
    "start_time": "2022-02-01T12:31:00.615Z"
   },
   {
    "duration": 9,
    "start_time": "2022-02-01T12:31:03.443Z"
   },
   {
    "duration": 4,
    "start_time": "2022-02-01T12:31:10.470Z"
   },
   {
    "duration": 8,
    "start_time": "2022-02-01T12:31:11.270Z"
   },
   {
    "duration": 48,
    "start_time": "2022-02-01T12:31:12.597Z"
   },
   {
    "duration": 6,
    "start_time": "2022-02-01T12:37:29.505Z"
   },
   {
    "duration": 12,
    "start_time": "2022-02-01T12:37:34.464Z"
   },
   {
    "duration": 7,
    "start_time": "2022-02-01T12:38:28.765Z"
   },
   {
    "duration": 10,
    "start_time": "2022-02-01T12:38:39.189Z"
   },
   {
    "duration": 10,
    "start_time": "2022-02-01T12:38:41.977Z"
   },
   {
    "duration": 10,
    "start_time": "2022-02-01T12:41:55.962Z"
   },
   {
    "duration": 14,
    "start_time": "2022-02-01T12:42:01.575Z"
   },
   {
    "duration": 11,
    "start_time": "2022-02-01T12:43:55.068Z"
   },
   {
    "duration": 16,
    "start_time": "2022-02-01T12:43:57.274Z"
   },
   {
    "duration": 11,
    "start_time": "2022-02-01T12:43:58.139Z"
   },
   {
    "duration": 16,
    "start_time": "2022-02-01T12:44:06.560Z"
   },
   {
    "duration": 373,
    "start_time": "2022-02-01T12:44:15.830Z"
   },
   {
    "duration": 16,
    "start_time": "2022-02-01T12:44:20.334Z"
   },
   {
    "duration": 342,
    "start_time": "2022-02-01T12:45:29.417Z"
   },
   {
    "duration": 18,
    "start_time": "2022-02-01T12:45:39.751Z"
   },
   {
    "duration": 15,
    "start_time": "2022-02-01T12:45:45.718Z"
   },
   {
    "duration": 15,
    "start_time": "2022-02-01T12:47:31.215Z"
   },
   {
    "duration": 8,
    "start_time": "2022-02-01T12:49:28.547Z"
   },
   {
    "duration": 362,
    "start_time": "2022-02-01T12:49:46.312Z"
   },
   {
    "duration": 7,
    "start_time": "2022-02-01T12:49:59.830Z"
   },
   {
    "duration": 354,
    "start_time": "2022-02-01T12:50:23.570Z"
   },
   {
    "duration": 41,
    "start_time": "2022-02-01T12:50:29.050Z"
   },
   {
    "duration": 379,
    "start_time": "2022-02-01T12:51:09.769Z"
   },
   {
    "duration": 45,
    "start_time": "2022-02-01T12:51:11.628Z"
   },
   {
    "duration": 305,
    "start_time": "2022-02-01T12:51:24.160Z"
   },
   {
    "duration": 6,
    "start_time": "2022-02-01T12:51:28.662Z"
   },
   {
    "duration": 7,
    "start_time": "2022-02-01T12:51:37.338Z"
   },
   {
    "duration": 15,
    "start_time": "2022-02-01T12:52:09.989Z"
   },
   {
    "duration": 19,
    "start_time": "2022-02-01T12:52:27.267Z"
   },
   {
    "duration": 5,
    "start_time": "2022-02-01T12:52:28.192Z"
   },
   {
    "duration": 8,
    "start_time": "2022-02-01T12:52:29.056Z"
   },
   {
    "duration": 12,
    "start_time": "2022-02-01T12:53:16.945Z"
   },
   {
    "duration": 9,
    "start_time": "2022-02-01T12:53:17.472Z"
   },
   {
    "duration": 15,
    "start_time": "2022-02-01T12:53:18.097Z"
   },
   {
    "duration": 3793,
    "start_time": "2022-02-01T12:53:37.824Z"
   },
   {
    "duration": 3910,
    "start_time": "2022-02-01T12:53:41.621Z"
   },
   {
    "duration": 6,
    "start_time": "2022-02-01T12:53:45.535Z"
   },
   {
    "duration": 862,
    "start_time": "2022-02-01T12:53:45.544Z"
   },
   {
    "duration": 4,
    "start_time": "2022-02-01T12:53:46.409Z"
   },
   {
    "duration": 88,
    "start_time": "2022-02-01T12:53:46.415Z"
   },
   {
    "duration": 45,
    "start_time": "2022-02-01T12:53:46.506Z"
   },
   {
    "duration": 10,
    "start_time": "2022-02-01T12:53:46.560Z"
   },
   {
    "duration": 12,
    "start_time": "2022-02-01T12:53:46.574Z"
   },
   {
    "duration": 12,
    "start_time": "2022-02-01T12:53:46.588Z"
   },
   {
    "duration": 8,
    "start_time": "2022-02-01T12:53:46.602Z"
   },
   {
    "duration": 7,
    "start_time": "2022-02-01T12:53:46.612Z"
   },
   {
    "duration": 160,
    "start_time": "2022-02-01T12:53:46.621Z"
   },
   {
    "duration": 19,
    "start_time": "2022-02-01T12:53:46.783Z"
   },
   {
    "duration": 8,
    "start_time": "2022-02-01T12:53:46.804Z"
   },
   {
    "duration": 800,
    "start_time": "2022-02-01T12:53:46.856Z"
   },
   {
    "duration": 134,
    "start_time": "2022-02-01T12:53:47.659Z"
   },
   {
    "duration": 132,
    "start_time": "2022-02-01T12:53:47.796Z"
   },
   {
    "duration": 1147,
    "start_time": "2022-02-01T12:53:47.931Z"
   },
   {
    "duration": 671,
    "start_time": "2022-02-01T12:53:49.081Z"
   },
   {
    "duration": 684,
    "start_time": "2022-02-01T12:53:49.755Z"
   },
   {
    "duration": 500,
    "start_time": "2022-02-01T12:53:50.441Z"
   },
   {
    "duration": 642,
    "start_time": "2022-02-01T12:53:50.952Z"
   },
   {
    "duration": 329,
    "start_time": "2022-02-01T12:53:51.598Z"
   },
   {
    "duration": 3,
    "start_time": "2022-02-01T12:53:51.930Z"
   },
   {
    "duration": 27,
    "start_time": "2022-02-01T12:53:51.935Z"
   },
   {
    "duration": 638,
    "start_time": "2022-02-01T12:53:51.965Z"
   },
   {
    "duration": 579,
    "start_time": "2022-02-01T12:53:52.607Z"
   },
   {
    "duration": 770,
    "start_time": "2022-02-01T12:53:53.189Z"
   },
   {
    "duration": 4,
    "start_time": "2022-02-01T12:53:53.962Z"
   },
   {
    "duration": 676,
    "start_time": "2022-02-01T12:53:53.971Z"
   },
   {
    "duration": 4,
    "start_time": "2022-02-01T12:53:54.650Z"
   },
   {
    "duration": 78,
    "start_time": "2022-02-01T12:53:54.657Z"
   },
   {
    "duration": 472,
    "start_time": "2022-02-01T12:53:54.738Z"
   },
   {
    "duration": 8,
    "start_time": "2022-02-01T12:53:55.213Z"
   },
   {
    "duration": 19,
    "start_time": "2022-02-01T12:53:55.225Z"
   },
   {
    "duration": 27,
    "start_time": "2022-02-01T12:53:55.247Z"
   },
   {
    "duration": 24,
    "start_time": "2022-02-01T12:53:55.277Z"
   },
   {
    "duration": 7,
    "start_time": "2022-02-01T12:53:55.304Z"
   },
   {
    "duration": 17,
    "start_time": "2022-02-01T12:53:55.315Z"
   },
   {
    "duration": 27,
    "start_time": "2022-02-01T12:53:55.334Z"
   },
   {
    "duration": 1167,
    "start_time": "2022-02-01T12:53:55.364Z"
   },
   {
    "duration": 23,
    "start_time": "2022-02-01T12:53:56.534Z"
   },
   {
    "duration": 179,
    "start_time": "2022-02-01T12:53:56.560Z"
   },
   {
    "duration": 655,
    "start_time": "2022-02-01T12:53:56.743Z"
   },
   {
    "duration": 6,
    "start_time": "2022-02-01T12:53:57.401Z"
   },
   {
    "duration": 7013,
    "start_time": "2022-02-01T12:53:57.411Z"
   },
   {
    "duration": 6,
    "start_time": "2022-02-01T12:54:04.426Z"
   },
   {
    "duration": 755,
    "start_time": "2022-02-01T12:54:04.448Z"
   },
   {
    "duration": 14,
    "start_time": "2022-02-01T12:54:05.205Z"
   },
   {
    "duration": 39,
    "start_time": "2022-02-01T12:54:05.222Z"
   },
   {
    "duration": 697,
    "start_time": "2022-02-01T12:54:05.267Z"
   },
   {
    "duration": 12,
    "start_time": "2022-02-01T12:54:05.966Z"
   },
   {
    "duration": 30,
    "start_time": "2022-02-01T12:54:05.980Z"
   },
   {
    "duration": 11,
    "start_time": "2022-02-01T12:54:06.013Z"
   },
   {
    "duration": 1943,
    "start_time": "2022-02-01T12:54:06.027Z"
   },
   {
    "duration": 1083,
    "start_time": "2022-02-01T12:54:07.973Z"
   },
   {
    "duration": 74,
    "start_time": "2022-02-01T12:54:09.060Z"
   },
   {
    "duration": 1114,
    "start_time": "2022-02-01T12:54:09.137Z"
   },
   {
    "duration": 11,
    "start_time": "2022-02-01T12:54:10.254Z"
   },
   {
    "duration": 57,
    "start_time": "2022-02-01T12:54:10.268Z"
   },
   {
    "duration": 27,
    "start_time": "2022-02-01T12:54:10.328Z"
   },
   {
    "duration": 8,
    "start_time": "2022-02-01T12:54:10.358Z"
   },
   {
    "duration": 7,
    "start_time": "2022-02-01T12:54:10.368Z"
   },
   {
    "duration": 12,
    "start_time": "2022-02-01T12:54:10.378Z"
   },
   {
    "duration": 10,
    "start_time": "2022-02-01T12:54:10.392Z"
   },
   {
    "duration": 47,
    "start_time": "2022-02-01T12:54:10.404Z"
   },
   {
    "duration": 6,
    "start_time": "2022-02-01T12:54:10.467Z"
   },
   {
    "duration": 9,
    "start_time": "2022-02-01T12:54:10.476Z"
   },
   {
    "duration": 8,
    "start_time": "2022-02-01T12:54:10.488Z"
   },
   {
    "duration": 13,
    "start_time": "2022-02-01T12:54:10.499Z"
   },
   {
    "duration": 12,
    "start_time": "2022-02-01T12:54:10.514Z"
   },
   {
    "duration": 33,
    "start_time": "2022-02-01T12:54:10.528Z"
   },
   {
    "duration": 13,
    "start_time": "2022-02-01T12:54:10.564Z"
   },
   {
    "duration": 10,
    "start_time": "2022-02-01T12:54:10.580Z"
   },
   {
    "duration": 17,
    "start_time": "2022-02-01T12:54:10.593Z"
   },
   {
    "duration": 54,
    "start_time": "2022-02-01T12:54:10.613Z"
   },
   {
    "duration": 6,
    "start_time": "2022-02-01T12:54:10.670Z"
   },
   {
    "duration": 6,
    "start_time": "2022-02-01T12:54:10.678Z"
   },
   {
    "duration": 7,
    "start_time": "2022-02-01T12:54:10.687Z"
   },
   {
    "duration": 7,
    "start_time": "2022-02-01T12:54:10.696Z"
   },
   {
    "duration": 18,
    "start_time": "2022-02-01T12:54:47.563Z"
   },
   {
    "duration": 25,
    "start_time": "2022-02-01T12:54:52.762Z"
   },
   {
    "duration": 13,
    "start_time": "2022-02-01T12:54:55.912Z"
   },
   {
    "duration": 26,
    "start_time": "2022-02-01T12:54:59.228Z"
   },
   {
    "duration": 340,
    "start_time": "2022-02-01T12:55:58.620Z"
   },
   {
    "duration": 320,
    "start_time": "2022-02-01T12:56:13.269Z"
   },
   {
    "duration": 3955,
    "start_time": "2022-02-01T12:56:22.024Z"
   },
   {
    "duration": 20,
    "start_time": "2022-02-01T12:56:41.390Z"
   },
   {
    "duration": 6,
    "start_time": "2022-02-01T12:56:43.672Z"
   },
   {
    "duration": 5,
    "start_time": "2022-02-01T12:56:47.529Z"
   },
   {
    "duration": 452,
    "start_time": "2022-02-01T12:58:00.966Z"
   },
   {
    "duration": 16,
    "start_time": "2022-02-01T12:58:11.962Z"
   },
   {
    "duration": 5,
    "start_time": "2022-02-01T12:58:19.307Z"
   },
   {
    "duration": 5,
    "start_time": "2022-02-01T12:58:28.623Z"
   },
   {
    "duration": 5,
    "start_time": "2022-02-01T12:58:30.691Z"
   },
   {
    "duration": 9,
    "start_time": "2022-02-01T13:06:13.564Z"
   },
   {
    "duration": 10,
    "start_time": "2022-02-01T13:06:14.193Z"
   },
   {
    "duration": 16,
    "start_time": "2022-02-01T13:06:14.858Z"
   },
   {
    "duration": 18,
    "start_time": "2022-02-01T13:07:00.986Z"
   },
   {
    "duration": 6,
    "start_time": "2022-02-01T13:07:01.565Z"
   },
   {
    "duration": 6,
    "start_time": "2022-02-01T13:07:02.318Z"
   },
   {
    "duration": 6,
    "start_time": "2022-02-01T13:07:12.040Z"
   },
   {
    "duration": 20,
    "start_time": "2022-02-01T13:07:44.962Z"
   },
   {
    "duration": 7,
    "start_time": "2022-02-01T13:07:45.756Z"
   },
   {
    "duration": 6,
    "start_time": "2022-02-01T13:07:46.300Z"
   },
   {
    "duration": 6,
    "start_time": "2022-02-01T13:07:47.404Z"
   },
   {
    "duration": 42,
    "start_time": "2022-02-01T13:08:52.330Z"
   },
   {
    "duration": 5,
    "start_time": "2022-02-01T13:09:58.142Z"
   },
   {
    "duration": 6,
    "start_time": "2022-02-01T13:10:12.766Z"
   },
   {
    "duration": 10,
    "start_time": "2022-02-01T13:10:38.543Z"
   },
   {
    "duration": 6,
    "start_time": "2022-02-01T13:11:24.394Z"
   },
   {
    "duration": 8,
    "start_time": "2022-02-01T13:11:48.919Z"
   },
   {
    "duration": 8,
    "start_time": "2022-02-01T13:12:02.229Z"
   },
   {
    "duration": 49,
    "start_time": "2022-02-01T13:12:09.923Z"
   },
   {
    "duration": 6,
    "start_time": "2022-02-01T13:12:28.734Z"
   },
   {
    "duration": 6,
    "start_time": "2022-02-01T13:12:42.703Z"
   },
   {
    "duration": 8,
    "start_time": "2022-02-01T13:13:54.694Z"
   },
   {
    "duration": 7,
    "start_time": "2022-02-01T13:14:50.226Z"
   },
   {
    "duration": 7,
    "start_time": "2022-02-01T13:22:47.168Z"
   },
   {
    "duration": 283,
    "start_time": "2022-02-01T13:27:22.237Z"
   },
   {
    "duration": 291,
    "start_time": "2022-02-01T13:31:08.964Z"
   },
   {
    "duration": 4,
    "start_time": "2022-02-01T13:31:20.541Z"
   },
   {
    "duration": 344,
    "start_time": "2022-02-01T13:31:44.432Z"
   },
   {
    "duration": 3,
    "start_time": "2022-02-01T13:31:53.976Z"
   },
   {
    "duration": 4,
    "start_time": "2022-02-01T13:32:01.404Z"
   },
   {
    "duration": 4,
    "start_time": "2022-02-01T13:32:07.471Z"
   },
   {
    "duration": 9,
    "start_time": "2022-02-01T13:32:28.246Z"
   },
   {
    "duration": 7,
    "start_time": "2022-02-01T13:32:57.735Z"
   },
   {
    "duration": 7,
    "start_time": "2022-02-01T13:33:00.799Z"
   },
   {
    "duration": 8,
    "start_time": "2022-02-01T13:33:03.860Z"
   },
   {
    "duration": 7,
    "start_time": "2022-02-01T13:33:38.331Z"
   },
   {
    "duration": 10,
    "start_time": "2022-02-01T13:34:01.994Z"
   },
   {
    "duration": 6,
    "start_time": "2022-02-01T13:34:06.893Z"
   },
   {
    "duration": 591,
    "start_time": "2022-02-01T14:01:29.344Z"
   },
   {
    "duration": 7,
    "start_time": "2022-02-01T14:02:34.142Z"
   },
   {
    "duration": 13,
    "start_time": "2022-02-01T14:02:58.437Z"
   },
   {
    "duration": 14,
    "start_time": "2022-02-01T14:03:37.822Z"
   },
   {
    "duration": 17,
    "start_time": "2022-02-01T14:05:03.109Z"
   },
   {
    "duration": 10,
    "start_time": "2022-02-01T14:06:27.922Z"
   },
   {
    "duration": 10,
    "start_time": "2022-02-01T14:06:31.664Z"
   },
   {
    "duration": 11,
    "start_time": "2022-02-01T14:06:56.513Z"
   },
   {
    "duration": 13,
    "start_time": "2022-02-01T14:07:25.748Z"
   },
   {
    "duration": 49,
    "start_time": "2022-02-01T14:07:58.037Z"
   },
   {
    "duration": 3,
    "start_time": "2022-02-01T14:20:36.685Z"
   },
   {
    "duration": 5,
    "start_time": "2022-02-01T14:21:41.489Z"
   },
   {
    "duration": 386,
    "start_time": "2022-02-01T14:47:14.929Z"
   },
   {
    "duration": 6,
    "start_time": "2022-02-01T14:47:20.579Z"
   },
   {
    "duration": 4,
    "start_time": "2022-02-01T14:47:25.777Z"
   },
   {
    "duration": 5,
    "start_time": "2022-02-01T14:47:50.576Z"
   },
   {
    "duration": 308,
    "start_time": "2022-02-01T14:52:40.990Z"
   },
   {
    "duration": 4,
    "start_time": "2022-02-01T14:52:54.881Z"
   },
   {
    "duration": 5,
    "start_time": "2022-02-01T14:53:34.627Z"
   },
   {
    "duration": 6,
    "start_time": "2022-02-01T14:53:47.532Z"
   },
   {
    "duration": 1212,
    "start_time": "2022-02-01T14:54:10.637Z"
   },
   {
    "duration": 5,
    "start_time": "2022-02-01T14:54:20.208Z"
   },
   {
    "duration": 1143,
    "start_time": "2022-02-01T14:54:20.624Z"
   },
   {
    "duration": 5,
    "start_time": "2022-02-01T14:54:34.155Z"
   },
   {
    "duration": 6,
    "start_time": "2022-02-01T14:54:34.622Z"
   },
   {
    "duration": 1295,
    "start_time": "2022-02-01T14:54:35.060Z"
   },
   {
    "duration": 5,
    "start_time": "2022-02-01T14:55:14.954Z"
   },
   {
    "duration": 6,
    "start_time": "2022-02-01T14:55:15.293Z"
   },
   {
    "duration": 1088,
    "start_time": "2022-02-01T14:55:15.665Z"
   },
   {
    "duration": 6,
    "start_time": "2022-02-01T14:56:52.160Z"
   },
   {
    "duration": 4,
    "start_time": "2022-02-01T14:56:53.075Z"
   },
   {
    "duration": 829,
    "start_time": "2022-02-01T14:56:53.522Z"
   },
   {
    "duration": 4,
    "start_time": "2022-02-01T14:58:18.309Z"
   },
   {
    "duration": 5,
    "start_time": "2022-02-01T14:58:18.808Z"
   },
   {
    "duration": 946,
    "start_time": "2022-02-01T14:58:19.411Z"
   },
   {
    "duration": 4,
    "start_time": "2022-02-01T14:58:39.030Z"
   },
   {
    "duration": 5,
    "start_time": "2022-02-01T14:58:39.404Z"
   },
   {
    "duration": 1096,
    "start_time": "2022-02-01T14:58:39.761Z"
   },
   {
    "duration": 116,
    "start_time": "2022-02-01T15:04:04.462Z"
   },
   {
    "duration": 37,
    "start_time": "2022-02-01T15:04:08.885Z"
   },
   {
    "duration": 5,
    "start_time": "2022-02-01T15:10:52.065Z"
   },
   {
    "duration": 6,
    "start_time": "2022-02-01T15:10:55.145Z"
   },
   {
    "duration": 31907,
    "start_time": "2022-02-01T15:11:10.306Z"
   },
   {
    "duration": 3,
    "start_time": "2022-02-01T15:12:04.614Z"
   },
   {
    "duration": 4,
    "start_time": "2022-02-01T15:12:05.394Z"
   },
   {
    "duration": 748,
    "start_time": "2022-02-01T15:12:06.188Z"
   },
   {
    "duration": 5,
    "start_time": "2022-02-01T15:12:27.329Z"
   },
   {
    "duration": 1129,
    "start_time": "2022-02-01T15:12:27.929Z"
   },
   {
    "duration": 5,
    "start_time": "2022-02-01T15:12:30.604Z"
   },
   {
    "duration": 27642,
    "start_time": "2022-02-01T15:12:32.484Z"
   },
   {
    "duration": 5,
    "start_time": "2022-02-01T15:13:24.761Z"
   },
   {
    "duration": 4,
    "start_time": "2022-02-01T15:13:28.685Z"
   },
   {
    "duration": 1418,
    "start_time": "2022-02-01T15:13:29.133Z"
   },
   {
    "duration": 6,
    "start_time": "2022-02-01T15:13:31.075Z"
   },
   {
    "duration": 28647,
    "start_time": "2022-02-01T15:13:31.693Z"
   },
   {
    "duration": 3,
    "start_time": "2022-02-01T15:21:59.597Z"
   },
   {
    "duration": 5,
    "start_time": "2022-02-01T15:22:00.127Z"
   },
   {
    "duration": 1222,
    "start_time": "2022-02-01T15:22:00.537Z"
   },
   {
    "duration": 5,
    "start_time": "2022-02-01T15:22:03.590Z"
   },
   {
    "duration": 6,
    "start_time": "2022-02-01T15:22:30.771Z"
   },
   {
    "duration": 23157,
    "start_time": "2022-02-01T15:22:32.249Z"
   },
   {
    "duration": 12,
    "start_time": "2022-02-01T15:23:11.870Z"
   },
   {
    "duration": 23356,
    "start_time": "2022-02-01T15:23:13.796Z"
   },
   {
    "duration": 6,
    "start_time": "2022-02-01T15:27:55.274Z"
   },
   {
    "duration": 19933,
    "start_time": "2022-02-01T15:27:56.426Z"
   },
   {
    "duration": 5,
    "start_time": "2022-02-01T15:29:02.344Z"
   },
   {
    "duration": 1255,
    "start_time": "2022-02-01T15:29:03.019Z"
   },
   {
    "duration": 96,
    "start_time": "2022-02-01T15:29:46.362Z"
   },
   {
    "duration": 401,
    "start_time": "2022-02-01T15:29:52.058Z"
   },
   {
    "duration": 189,
    "start_time": "2022-02-01T15:29:56.215Z"
   },
   {
    "duration": 91,
    "start_time": "2022-02-01T15:30:28.103Z"
   },
   {
    "duration": 939,
    "start_time": "2022-02-01T15:30:30.212Z"
   },
   {
    "duration": 811,
    "start_time": "2022-02-01T15:30:39.760Z"
   },
   {
    "duration": 1030,
    "start_time": "2022-02-01T15:30:53.418Z"
   },
   {
    "duration": 7,
    "start_time": "2022-02-01T15:35:40.458Z"
   },
   {
    "duration": 20465,
    "start_time": "2022-02-01T15:35:41.389Z"
   },
   {
    "duration": 6546,
    "start_time": "2022-02-01T15:36:20.877Z"
   },
   {
    "duration": 6,
    "start_time": "2022-02-01T15:36:29.688Z"
   },
   {
    "duration": 20164,
    "start_time": "2022-02-01T15:36:30.682Z"
   },
   {
    "duration": 20682,
    "start_time": "2022-02-01T15:37:05.633Z"
   },
   {
    "duration": 20583,
    "start_time": "2022-02-01T15:38:59.266Z"
   },
   {
    "duration": 6,
    "start_time": "2022-02-01T15:39:21.475Z"
   },
   {
    "duration": 9,
    "start_time": "2022-02-01T15:39:25.538Z"
   },
   {
    "duration": 51491,
    "start_time": "2022-02-01T15:40:48.266Z"
   },
   {
    "duration": 5,
    "start_time": "2022-02-01T15:42:16.784Z"
   },
   {
    "duration": 14,
    "start_time": "2022-02-01T15:42:21.251Z"
   },
   {
    "duration": 135,
    "start_time": "2022-02-01T15:45:35.725Z"
   },
   {
    "duration": 7,
    "start_time": "2022-02-01T15:45:41.195Z"
   },
   {
    "duration": 100010,
    "start_time": "2022-02-01T15:45:43.880Z"
   },
   {
    "duration": 7,
    "start_time": "2022-02-01T15:47:51.919Z"
   },
   {
    "duration": 143459,
    "start_time": "2022-02-01T15:47:56.234Z"
   },
   {
    "duration": 5,
    "start_time": "2022-02-01T15:51:29.574Z"
   },
   {
    "duration": 1983388,
    "start_time": "2022-02-01T15:51:30.415Z"
   },
   {
    "duration": 7,
    "start_time": "2022-02-01T16:25:12.760Z"
   },
   {
    "duration": 7,
    "start_time": "2022-02-01T16:25:22.178Z"
   },
   {
    "duration": 6,
    "start_time": "2022-02-01T16:30:12.232Z"
   },
   {
    "duration": 8,
    "start_time": "2022-02-01T16:30:14.368Z"
   },
   {
    "duration": 269478,
    "start_time": "2022-02-01T16:30:17.885Z"
   },
   {
    "duration": 8,
    "start_time": "2022-02-01T16:35:02.874Z"
   },
   {
    "duration": 6,
    "start_time": "2022-02-01T16:35:03.610Z"
   },
   {
    "duration": 10,
    "start_time": "2022-02-01T16:37:18.263Z"
   },
   {
    "duration": 287751,
    "start_time": "2022-02-01T16:37:18.829Z"
   },
   {
    "duration": 6,
    "start_time": "2022-02-01T16:42:56.872Z"
   },
   {
    "duration": 6,
    "start_time": "2022-02-01T16:42:57.741Z"
   },
   {
    "duration": 6,
    "start_time": "2022-02-01T16:45:22.886Z"
   },
   {
    "duration": 6,
    "start_time": "2022-02-01T16:46:40.615Z"
   },
   {
    "duration": 511,
    "start_time": "2022-02-01T16:46:41.269Z"
   },
   {
    "duration": 6,
    "start_time": "2022-02-01T16:46:50.089Z"
   },
   {
    "duration": 42088,
    "start_time": "2022-02-01T16:46:51.008Z"
   },
   {
    "duration": 5,
    "start_time": "2022-02-01T16:48:13.173Z"
   },
   {
    "duration": 4357,
    "start_time": "2022-02-01T16:49:23.303Z"
   },
   {
    "duration": 5,
    "start_time": "2022-02-01T16:49:38.524Z"
   },
   {
    "duration": 16038,
    "start_time": "2022-02-01T16:49:39.732Z"
   },
   {
    "duration": 14,
    "start_time": "2022-02-01T16:52:18.687Z"
   },
   {
    "duration": 134994,
    "start_time": "2022-02-01T16:52:19.488Z"
   },
   {
    "duration": 6,
    "start_time": "2022-02-01T16:57:11.737Z"
   },
   {
    "duration": 10,
    "start_time": "2022-02-01T16:57:12.342Z"
   },
   {
    "duration": 4,
    "start_time": "2022-02-01T16:58:11.121Z"
   },
   {
    "duration": 6,
    "start_time": "2022-02-01T17:00:31.974Z"
   },
   {
    "duration": 6,
    "start_time": "2022-02-01T17:00:40.873Z"
   },
   {
    "duration": 1622,
    "start_time": "2022-02-01T17:05:40.789Z"
   },
   {
    "duration": 4,
    "start_time": "2022-02-01T17:05:46.621Z"
   },
   {
    "duration": 1631,
    "start_time": "2022-02-01T17:05:55.837Z"
   },
   {
    "duration": 2652,
    "start_time": "2022-02-01T17:06:08.344Z"
   },
   {
    "duration": 1800,
    "start_time": "2022-02-01T17:06:19.230Z"
   },
   {
    "duration": 4,
    "start_time": "2022-02-01T17:06:26.174Z"
   },
   {
    "duration": 6,
    "start_time": "2022-02-01T17:06:26.690Z"
   },
   {
    "duration": 997,
    "start_time": "2022-02-01T17:06:27.174Z"
   },
   {
    "duration": 405,
    "start_time": "2022-02-01T17:06:38.737Z"
   },
   {
    "duration": 4,
    "start_time": "2022-02-01T17:06:47.674Z"
   },
   {
    "duration": 3,
    "start_time": "2022-02-01T17:07:23.681Z"
   },
   {
    "duration": 936,
    "start_time": "2022-02-01T17:07:25.732Z"
   },
   {
    "duration": 795,
    "start_time": "2022-02-01T17:07:32.560Z"
   },
   {
    "duration": 5,
    "start_time": "2022-02-01T17:13:16.972Z"
   },
   {
    "duration": 986,
    "start_time": "2022-02-01T17:13:23.896Z"
   },
   {
    "duration": 6,
    "start_time": "2022-02-01T17:13:31.523Z"
   },
   {
    "duration": 1226,
    "start_time": "2022-02-01T17:20:48.044Z"
   },
   {
    "duration": 446,
    "start_time": "2022-02-01T17:23:04.566Z"
   },
   {
    "duration": 6,
    "start_time": "2022-02-01T17:23:08.493Z"
   },
   {
    "duration": 147057,
    "start_time": "2022-02-01T17:23:09.478Z"
   },
   {
    "duration": 6,
    "start_time": "2022-02-01T17:32:12.509Z"
   },
   {
    "duration": 5,
    "start_time": "2022-02-01T17:32:38.678Z"
   },
   {
    "duration": 5,
    "start_time": "2022-02-01T17:38:30.048Z"
   },
   {
    "duration": 30,
    "start_time": "2022-02-01T17:38:30.056Z"
   },
   {
    "duration": 24,
    "start_time": "2022-02-01T17:38:30.089Z"
   },
   {
    "duration": 6,
    "start_time": "2022-02-01T17:38:33.580Z"
   },
   {
    "duration": 14,
    "start_time": "2022-02-01T17:42:24.048Z"
   },
   {
    "duration": 199467,
    "start_time": "2022-02-01T17:42:32.766Z"
   },
   {
    "duration": 11,
    "start_time": "2022-02-01T17:46:50.453Z"
   },
   {
    "duration": 199800,
    "start_time": "2022-02-01T17:46:56.551Z"
   },
   {
    "duration": 7,
    "start_time": "2022-02-01T17:52:15.704Z"
   },
   {
    "duration": 5,
    "start_time": "2022-02-01T17:52:18.072Z"
   },
   {
    "duration": 198380,
    "start_time": "2022-02-01T17:52:27.420Z"
   },
   {
    "duration": 7,
    "start_time": "2022-02-01T17:57:02.981Z"
   },
   {
    "duration": 202933,
    "start_time": "2022-02-01T17:57:05.474Z"
   },
   {
    "duration": 330,
    "start_time": "2022-02-01T18:03:16.244Z"
   },
   {
    "duration": 447,
    "start_time": "2022-02-01T18:03:29.787Z"
   },
   {
    "duration": 7,
    "start_time": "2022-02-01T18:03:52.935Z"
   },
   {
    "duration": 6,
    "start_time": "2022-02-01T18:04:41.687Z"
   },
   {
    "duration": 6,
    "start_time": "2022-02-01T18:04:58.676Z"
   },
   {
    "duration": 7,
    "start_time": "2022-02-01T18:05:08.631Z"
   },
   {
    "duration": 9,
    "start_time": "2022-02-01T18:05:27.333Z"
   },
   {
    "duration": 323,
    "start_time": "2022-02-01T18:05:28.115Z"
   },
   {
    "duration": 109,
    "start_time": "2022-02-01T18:05:41.728Z"
   },
   {
    "duration": 17,
    "start_time": "2022-02-01T18:05:54.072Z"
   },
   {
    "duration": 7,
    "start_time": "2022-02-01T18:06:58.183Z"
   },
   {
    "duration": 199308,
    "start_time": "2022-02-01T18:07:02.417Z"
   },
   {
    "duration": 11,
    "start_time": "2022-02-01T18:10:35.178Z"
   },
   {
    "duration": 11,
    "start_time": "2022-02-01T18:10:45.947Z"
   },
   {
    "duration": 21843,
    "start_time": "2022-02-01T18:11:57.465Z"
   },
   {
    "duration": 6,
    "start_time": "2022-02-01T18:14:04.535Z"
   },
   {
    "duration": 5,
    "start_time": "2022-02-01T18:16:42.886Z"
   },
   {
    "duration": 1358,
    "start_time": "2022-02-01T18:19:14.884Z"
   },
   {
    "duration": 1344,
    "start_time": "2022-02-01T18:20:40.711Z"
   },
   {
    "duration": 14,
    "start_time": "2022-02-01T18:23:30.042Z"
   },
   {
    "duration": 647,
    "start_time": "2022-02-01T18:23:55.831Z"
   },
   {
    "duration": 343,
    "start_time": "2022-02-01T18:25:07.486Z"
   },
   {
    "duration": 1941,
    "start_time": "2022-02-01T18:25:22.535Z"
   },
   {
    "duration": 532,
    "start_time": "2022-02-01T18:26:07.171Z"
   },
   {
    "duration": 1446,
    "start_time": "2022-02-01T18:27:34.183Z"
   },
   {
    "duration": 6,
    "start_time": "2022-02-01T18:28:17.671Z"
   },
   {
    "duration": 525,
    "start_time": "2022-02-01T18:28:38.986Z"
   },
   {
    "duration": 1319,
    "start_time": "2022-02-01T18:28:40.217Z"
   },
   {
    "duration": 6,
    "start_time": "2022-02-01T18:28:44.574Z"
   },
   {
    "duration": 539387,
    "start_time": "2022-02-01T18:30:07.125Z"
   },
   {
    "duration": 10,
    "start_time": "2022-02-01T18:40:05.844Z"
   },
   {
    "duration": 549,
    "start_time": "2022-02-01T18:40:32.623Z"
   },
   {
    "duration": 517,
    "start_time": "2022-02-01T18:40:54.777Z"
   },
   {
    "duration": 1506,
    "start_time": "2022-02-01T18:42:16.095Z"
   },
   {
    "duration": 8,
    "start_time": "2022-02-01T18:42:28.568Z"
   },
   {
    "duration": 528,
    "start_time": "2022-02-01T18:42:56.045Z"
   },
   {
    "duration": 1391,
    "start_time": "2022-02-01T18:43:07.789Z"
   },
   {
    "duration": 1401,
    "start_time": "2022-02-01T18:43:21.442Z"
   },
   {
    "duration": 574,
    "start_time": "2022-02-01T18:43:34.427Z"
   },
   {
    "duration": 7,
    "start_time": "2022-02-01T18:43:58.872Z"
   },
   {
    "duration": 6,
    "start_time": "2022-02-01T18:44:12.968Z"
   },
   {
    "duration": 620,
    "start_time": "2022-02-01T18:44:17.774Z"
   },
   {
    "duration": 5,
    "start_time": "2022-02-01T18:45:36.883Z"
   },
   {
    "duration": 902,
    "start_time": "2022-02-01T18:45:47.476Z"
   },
   {
    "duration": 527,
    "start_time": "2022-02-01T18:45:53.323Z"
   },
   {
    "duration": 1423,
    "start_time": "2022-02-01T18:45:58.179Z"
   },
   {
    "duration": 5,
    "start_time": "2022-02-01T18:46:07.679Z"
   },
   {
    "duration": 333,
    "start_time": "2022-02-01T18:46:17.246Z"
   },
   {
    "duration": 522,
    "start_time": "2022-02-01T18:46:28.373Z"
   },
   {
    "duration": 9,
    "start_time": "2022-02-01T18:46:31.612Z"
   },
   {
    "duration": 604,
    "start_time": "2022-02-01T20:05:05.793Z"
   },
   {
    "duration": 1741,
    "start_time": "2022-02-01T20:05:26.419Z"
   },
   {
    "duration": 7,
    "start_time": "2022-02-01T20:05:28.164Z"
   },
   {
    "duration": 27,
    "start_time": "2022-02-01T20:05:28.174Z"
   },
   {
    "duration": 7,
    "start_time": "2022-02-01T20:05:29.522Z"
   },
   {
    "duration": 11,
    "start_time": "2022-02-01T20:08:20.301Z"
   },
   {
    "duration": 532,
    "start_time": "2022-02-01T20:10:16.459Z"
   },
   {
    "duration": 728,
    "start_time": "2022-02-01T20:10:57.751Z"
   },
   {
    "duration": 1471,
    "start_time": "2022-02-01T20:11:59.871Z"
   },
   {
    "duration": 5,
    "start_time": "2022-02-01T20:13:10.110Z"
   },
   {
    "duration": 6,
    "start_time": "2022-02-01T20:13:35.785Z"
   },
   {
    "duration": 8,
    "start_time": "2022-02-01T20:14:47.685Z"
   },
   {
    "duration": 8,
    "start_time": "2022-02-01T20:16:31.708Z"
   },
   {
    "duration": 8,
    "start_time": "2022-02-01T20:16:44.924Z"
   },
   {
    "duration": 1435,
    "start_time": "2022-02-01T20:16:48.966Z"
   },
   {
    "duration": 328,
    "start_time": "2022-02-01T20:23:45.606Z"
   },
   {
    "duration": 12,
    "start_time": "2022-02-01T20:23:53.969Z"
   },
   {
    "duration": 337,
    "start_time": "2022-02-01T20:27:07.494Z"
   },
   {
    "duration": 308,
    "start_time": "2022-02-01T20:28:12.686Z"
   },
   {
    "duration": 306,
    "start_time": "2022-02-01T20:29:22.318Z"
   },
   {
    "duration": -2118,
    "start_time": "2022-02-01T20:30:09.509Z"
   },
   {
    "duration": 39525,
    "start_time": "2022-02-01T20:30:12.488Z"
   },
   {
    "duration": 7,
    "start_time": "2022-02-01T20:37:48.370Z"
   },
   {
    "duration": 291,
    "start_time": "2022-02-01T20:38:26.635Z"
   },
   {
    "duration": 4299,
    "start_time": "2022-02-01T20:39:29.176Z"
   },
   {
    "duration": 4770,
    "start_time": "2022-02-01T20:39:33.478Z"
   },
   {
    "duration": 4382,
    "start_time": "2022-02-01T20:39:38.252Z"
   },
   {
    "duration": 1124,
    "start_time": "2022-02-01T20:39:42.649Z"
   },
   {
    "duration": 5,
    "start_time": "2022-02-01T20:39:43.775Z"
   },
   {
    "duration": 85,
    "start_time": "2022-02-01T20:39:43.783Z"
   },
   {
    "duration": 47,
    "start_time": "2022-02-01T20:39:43.871Z"
   },
   {
    "duration": 30,
    "start_time": "2022-02-01T20:39:43.924Z"
   },
   {
    "duration": 17,
    "start_time": "2022-02-01T20:39:43.958Z"
   },
   {
    "duration": 10,
    "start_time": "2022-02-01T20:39:43.978Z"
   },
   {
    "duration": 11,
    "start_time": "2022-02-01T20:39:43.990Z"
   },
   {
    "duration": 51745,
    "start_time": "2022-02-01T20:39:44.004Z"
   },
   {
    "duration": 398,
    "start_time": "2022-02-01T20:40:35.752Z"
   },
   {
    "duration": 34,
    "start_time": "2022-02-01T20:40:36.154Z"
   },
   {
    "duration": 58,
    "start_time": "2022-02-01T20:40:36.192Z"
   },
   {
    "duration": 866,
    "start_time": "2022-02-01T20:40:36.255Z"
   },
   {
    "duration": 191,
    "start_time": "2022-02-01T20:40:37.124Z"
   },
   {
    "duration": 212,
    "start_time": "2022-02-01T20:40:37.318Z"
   },
   {
    "duration": 1135,
    "start_time": "2022-02-01T20:40:37.533Z"
   },
   {
    "duration": 344,
    "start_time": "2022-02-01T20:40:38.671Z"
   },
   {
    "duration": 17,
    "start_time": "2022-02-01T20:40:39.018Z"
   },
   {
    "duration": 543,
    "start_time": "2022-02-01T20:40:39.038Z"
   },
   {
    "duration": 691,
    "start_time": "2022-02-01T20:40:39.591Z"
   },
   {
    "duration": 139,
    "start_time": "2022-02-01T20:40:40.286Z"
   },
   {
    "duration": 13068,
    "start_time": "2022-02-01T20:40:40.428Z"
   },
   {
    "duration": 76,
    "start_time": "2022-02-01T20:40:53.500Z"
   },
   {
    "duration": 94,
    "start_time": "2022-02-01T20:40:53.579Z"
   },
   {
    "duration": 150284,
    "start_time": "2022-02-01T20:40:53.677Z"
   },
   {
    "duration": 459,
    "start_time": "2022-02-01T20:43:23.964Z"
   },
   {
    "duration": 26,
    "start_time": "2022-02-01T20:43:24.426Z"
   },
   {
    "duration": 3187,
    "start_time": "2022-02-01T20:43:24.456Z"
   },
   {
    "duration": 7,
    "start_time": "2022-02-01T20:43:27.649Z"
   },
   {
    "duration": 765,
    "start_time": "2022-02-01T20:43:27.659Z"
   },
   {
    "duration": 25,
    "start_time": "2022-02-01T20:43:28.427Z"
   },
   {
    "duration": 13,
    "start_time": "2022-02-01T20:43:28.456Z"
   },
   {
    "duration": 837,
    "start_time": "2022-02-01T20:43:28.474Z"
   },
   {
    "duration": 12,
    "start_time": "2022-02-01T20:43:29.315Z"
   },
   {
    "duration": 23,
    "start_time": "2022-02-01T20:43:29.330Z"
   },
   {
    "duration": 22,
    "start_time": "2022-02-01T20:43:29.356Z"
   },
   {
    "duration": 2035,
    "start_time": "2022-02-01T20:43:29.383Z"
   },
   {
    "duration": 1256,
    "start_time": "2022-02-01T20:43:31.420Z"
   },
   {
    "duration": 118,
    "start_time": "2022-02-01T20:43:32.680Z"
   },
   {
    "duration": 1357,
    "start_time": "2022-02-01T20:43:32.802Z"
   },
   {
    "duration": 19,
    "start_time": "2022-02-01T20:43:34.167Z"
   },
   {
    "duration": 82,
    "start_time": "2022-02-01T20:43:34.189Z"
   },
   {
    "duration": 12,
    "start_time": "2022-02-01T20:43:34.274Z"
   },
   {
    "duration": 7,
    "start_time": "2022-02-01T20:43:34.289Z"
   },
   {
    "duration": 10,
    "start_time": "2022-02-01T20:43:34.299Z"
   },
   {
    "duration": 7,
    "start_time": "2022-02-01T20:43:34.312Z"
   },
   {
    "duration": 733,
    "start_time": "2022-02-01T20:43:34.350Z"
   },
   {
    "duration": -779,
    "start_time": "2022-02-01T20:43:35.867Z"
   },
   {
    "duration": -785,
    "start_time": "2022-02-01T20:43:35.876Z"
   },
   {
    "duration": -787,
    "start_time": "2022-02-01T20:43:35.880Z"
   },
   {
    "duration": -790,
    "start_time": "2022-02-01T20:43:35.885Z"
   },
   {
    "duration": -792,
    "start_time": "2022-02-01T20:43:35.889Z"
   },
   {
    "duration": -795,
    "start_time": "2022-02-01T20:43:35.894Z"
   },
   {
    "duration": -797,
    "start_time": "2022-02-01T20:43:35.898Z"
   },
   {
    "duration": -800,
    "start_time": "2022-02-01T20:43:35.902Z"
   },
   {
    "duration": -803,
    "start_time": "2022-02-01T20:43:35.907Z"
   },
   {
    "duration": -804,
    "start_time": "2022-02-01T20:43:35.910Z"
   },
   {
    "duration": -804,
    "start_time": "2022-02-01T20:43:35.914Z"
   },
   {
    "duration": -805,
    "start_time": "2022-02-01T20:43:35.918Z"
   },
   {
    "duration": -807,
    "start_time": "2022-02-01T20:43:35.923Z"
   },
   {
    "duration": -809,
    "start_time": "2022-02-01T20:43:35.927Z"
   },
   {
    "duration": -810,
    "start_time": "2022-02-01T20:43:35.931Z"
   },
   {
    "duration": -812,
    "start_time": "2022-02-01T20:43:35.935Z"
   },
   {
    "duration": -815,
    "start_time": "2022-02-01T20:43:35.940Z"
   },
   {
    "duration": -816,
    "start_time": "2022-02-01T20:43:35.944Z"
   },
   {
    "duration": -819,
    "start_time": "2022-02-01T20:43:35.949Z"
   },
   {
    "duration": -822,
    "start_time": "2022-02-01T20:43:35.954Z"
   },
   {
    "duration": -810,
    "start_time": "2022-02-01T20:43:35.959Z"
   },
   {
    "duration": -812,
    "start_time": "2022-02-01T20:43:35.963Z"
   },
   {
    "duration": -816,
    "start_time": "2022-02-01T20:43:35.968Z"
   },
   {
    "duration": -818,
    "start_time": "2022-02-01T20:43:35.973Z"
   },
   {
    "duration": -820,
    "start_time": "2022-02-01T20:43:35.978Z"
   },
   {
    "duration": -822,
    "start_time": "2022-02-01T20:43:35.983Z"
   },
   {
    "duration": 8,
    "start_time": "2022-02-01T20:44:43.640Z"
   },
   {
    "duration": 7,
    "start_time": "2022-02-01T20:44:44.438Z"
   },
   {
    "duration": 6,
    "start_time": "2022-02-01T20:44:47.737Z"
   },
   {
    "duration": 27,
    "start_time": "2022-02-01T20:44:47.746Z"
   },
   {
    "duration": 14,
    "start_time": "2022-02-01T20:44:47.777Z"
   },
   {
    "duration": 16,
    "start_time": "2022-02-01T20:44:47.795Z"
   },
   {
    "duration": 16,
    "start_time": "2022-02-01T20:44:47.850Z"
   },
   {
    "duration": 19,
    "start_time": "2022-02-01T20:44:47.869Z"
   },
   {
    "duration": 72,
    "start_time": "2022-02-01T20:44:47.894Z"
   },
   {
    "duration": 6,
    "start_time": "2022-02-01T20:44:47.970Z"
   },
   {
    "duration": 20,
    "start_time": "2022-02-01T20:44:47.979Z"
   },
   {
    "duration": 12,
    "start_time": "2022-02-01T20:44:48.002Z"
   },
   {
    "duration": 10,
    "start_time": "2022-02-01T20:44:48.017Z"
   },
   {
    "duration": 9,
    "start_time": "2022-02-01T20:44:48.048Z"
   },
   {
    "duration": 208263,
    "start_time": "2022-02-01T20:44:48.061Z"
   },
   {
    "duration": 24,
    "start_time": "2022-02-01T20:48:16.327Z"
   },
   {
    "duration": 8,
    "start_time": "2022-02-01T20:48:16.354Z"
   },
   {
    "duration": 856,
    "start_time": "2022-02-01T20:48:16.366Z"
   },
   {
    "duration": -806,
    "start_time": "2022-02-01T20:48:18.031Z"
   },
   {
    "duration": -808,
    "start_time": "2022-02-01T20:48:18.035Z"
   },
   {
    "duration": -822,
    "start_time": "2022-02-01T20:48:18.050Z"
   },
   {
    "duration": -824,
    "start_time": "2022-02-01T20:48:18.054Z"
   },
   {
    "duration": -827,
    "start_time": "2022-02-01T20:48:18.058Z"
   },
   {
    "duration": -833,
    "start_time": "2022-02-01T20:48:18.065Z"
   },
   {
    "duration": -836,
    "start_time": "2022-02-01T20:48:18.070Z"
   },
   {
    "duration": -839,
    "start_time": "2022-02-01T20:48:18.074Z"
   },
   {
    "duration": 535,
    "start_time": "2022-02-01T20:51:41.126Z"
   },
   {
    "duration": 570688,
    "start_time": "2022-02-01T20:51:48.105Z"
   },
   {
    "duration": 13,
    "start_time": "2022-02-01T21:01:18.797Z"
   },
   {
    "duration": 11,
    "start_time": "2022-02-01T21:01:18.814Z"
   },
   {
    "duration": 1851,
    "start_time": "2022-02-01T21:01:18.851Z"
   },
   {
    "duration": 8,
    "start_time": "2022-02-01T21:01:20.707Z"
   },
   {
    "duration": 7,
    "start_time": "2022-02-01T21:01:20.722Z"
   },
   {
    "duration": 19,
    "start_time": "2022-02-01T21:01:20.750Z"
   },
   {
    "duration": 16,
    "start_time": "2022-02-01T21:01:20.773Z"
   },
   {
    "duration": 118,
    "start_time": "2022-02-01T23:43:43.494Z"
   },
   {
    "duration": 133,
    "start_time": "2022-02-02T00:04:43.126Z"
   }
  ],
  "kernelspec": {
   "display_name": "Python 3 (ipykernel)",
   "language": "python",
   "name": "python3"
  },
  "language_info": {
   "codemirror_mode": {
    "name": "ipython",
    "version": 3
   },
   "file_extension": ".py",
   "mimetype": "text/x-python",
   "name": "python",
   "nbconvert_exporter": "python",
   "pygments_lexer": "ipython3",
   "version": "3.8.8"
  },
  "toc": {
   "base_numbering": 1,
   "nav_menu": {},
   "number_sections": true,
   "sideBar": true,
   "skip_h1_title": true,
   "title_cell": "Содержание",
   "title_sidebar": "Contents",
   "toc_cell": true,
   "toc_position": {
    "height": "calc(100% - 180px)",
    "left": "10px",
    "top": "150px",
    "width": "292.797px"
   },
   "toc_section_display": true,
   "toc_window_display": true
  }
 },
 "nbformat": 4,
 "nbformat_minor": 2
}
