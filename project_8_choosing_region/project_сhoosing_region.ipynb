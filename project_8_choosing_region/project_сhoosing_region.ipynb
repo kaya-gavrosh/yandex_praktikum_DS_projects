{
 "cells": [
  {
   "cell_type": "markdown",
   "metadata": {},
   "source": [
    "# Выбор региона для разработки скважины"
   ]
  },
  {
   "cell_type": "markdown",
   "metadata": {},
   "source": [
    "## Загрузка и подготовка данных"
   ]
  },
  {
   "cell_type": "code",
   "execution_count": 1,
   "metadata": {},
   "outputs": [],
   "source": [
    "# импорт библиотек\n",
    "import pandas as pd\n",
    "import matplotlib.pyplot as plt\n",
    "from scipy import stats as st\n",
    "import numpy as np\n",
    "\n",
    "from sklearn.linear_model import LinearRegression\n",
    "from sklearn.model_selection import train_test_split, cross_val_score, cross_val_predict\n",
    "from sklearn.preprocessing import StandardScaler\n",
    "from sklearn.metrics import mean_squared_error"
   ]
  },
  {
   "cell_type": "code",
   "execution_count": 2,
   "metadata": {},
   "outputs": [],
   "source": [
    "# чтение файлов с данными и сохранение\n",
    "df0 = pd.read_csv('/datasets/geo_data_0.csv')\n",
    "df1 = pd.read_csv('/datasets/geo_data_1.csv')\n",
    "df2 = pd.read_csv('/datasets/geo_data_2.csv')"
   ]
  },
  {
   "cell_type": "code",
   "execution_count": 3,
   "metadata": {},
   "outputs": [
    {
     "name": "stdout",
     "output_type": "stream",
     "text": [
      "                       df0                        \n",
      "<class 'pandas.core.frame.DataFrame'>\n",
      "RangeIndex: 100000 entries, 0 to 99999\n",
      "Data columns (total 5 columns):\n",
      "id         100000 non-null object\n",
      "f0         100000 non-null float64\n",
      "f1         100000 non-null float64\n",
      "f2         100000 non-null float64\n",
      "product    100000 non-null float64\n",
      "dtypes: float64(4), object(1)\n",
      "memory usage: 3.8+ MB\n",
      "None\n",
      "                       df1                        \n",
      "<class 'pandas.core.frame.DataFrame'>\n",
      "RangeIndex: 100000 entries, 0 to 99999\n",
      "Data columns (total 5 columns):\n",
      "id         100000 non-null object\n",
      "f0         100000 non-null float64\n",
      "f1         100000 non-null float64\n",
      "f2         100000 non-null float64\n",
      "product    100000 non-null float64\n",
      "dtypes: float64(4), object(1)\n",
      "memory usage: 3.8+ MB\n",
      "None\n",
      "                       df1                        \n",
      "<class 'pandas.core.frame.DataFrame'>\n",
      "RangeIndex: 100000 entries, 0 to 99999\n",
      "Data columns (total 5 columns):\n",
      "id         100000 non-null object\n",
      "f0         100000 non-null float64\n",
      "f1         100000 non-null float64\n",
      "f2         100000 non-null float64\n",
      "product    100000 non-null float64\n",
      "dtypes: float64(4), object(1)\n",
      "memory usage: 3.8+ MB\n",
      "None\n"
     ]
    }
   ],
   "source": [
    "# получение общей информации\n",
    "print('{:^50}'.format('df0'))\n",
    "print(df0.info())\n",
    "print('{:^50}'.format('df1'))\n",
    "print(df1.info())\n",
    "print('{:^50}'.format('df1'))\n",
    "print(df1.info())"
   ]
  },
  {
   "cell_type": "markdown",
   "metadata": {},
   "source": [
    "- `id` — уникальный идентификатор скважины;\n",
    "- `f0`, `f1`, `f2` — три признака точек;\n",
    "- `product` — объём запасов в скважине (тыс. баррелей)."
   ]
  },
  {
   "cell_type": "code",
   "execution_count": 4,
   "metadata": {
    "scrolled": false
   },
   "outputs": [
    {
     "name": "stdout",
     "output_type": "stream",
     "text": [
      "                       df0                        \n",
      "      id        f0        f1        f2     product\n",
      "0  txEyH  0.705745 -0.497823  1.221170  105.280062\n",
      "1  2acmU  1.334711 -0.340164  4.365080   73.037750\n",
      "2  409Wp  1.022732  0.151990  1.419926   85.265647 \n",
      "\n",
      "                       df1                        \n",
      "      id         f0        f1        f2     product\n",
      "0  kBEdx -15.001348 -8.276000 -0.005876    3.179103\n",
      "1  62mP7  14.272088 -3.475083  0.999183   26.953261\n",
      "2  vyE1P   6.263187 -5.948386  5.001160  134.766305 \n",
      "\n",
      "                       df1                        \n",
      "      id        f0        f1        f2    product\n",
      "0  fwXo0 -1.146987  0.963328 -0.828965  27.758673\n",
      "1  WJtFt  0.262778  0.269839 -2.530187  56.069697\n",
      "2  ovLUW  0.194587  0.289035 -5.586433  62.871910 \n",
      "\n"
     ]
    }
   ],
   "source": [
    "# визуальная проверка\n",
    "print('{:^50}'.format('df0'))\n",
    "print(df0.head(3), '\\n')\n",
    "print('{:^50}'.format('df1'))\n",
    "print(df1.head(3), '\\n')\n",
    "print('{:^50}'.format('df1'))\n",
    "print(df2.head(3), '\\n')"
   ]
  },
  {
   "cell_type": "markdown",
   "metadata": {},
   "source": [
    "Во всех таблицах нет пропусков, типы данных соответствуют ожидаемым. Посмотрим на числовое описание данных"
   ]
  },
  {
   "cell_type": "code",
   "execution_count": 5,
   "metadata": {},
   "outputs": [
    {
     "name": "stdout",
     "output_type": "stream",
     "text": [
      "                    Регион №0                     \n"
     ]
    },
    {
     "data": {
      "text/html": [
       "<div>\n",
       "<style scoped>\n",
       "    .dataframe tbody tr th:only-of-type {\n",
       "        vertical-align: middle;\n",
       "    }\n",
       "\n",
       "    .dataframe tbody tr th {\n",
       "        vertical-align: top;\n",
       "    }\n",
       "\n",
       "    .dataframe thead th {\n",
       "        text-align: right;\n",
       "    }\n",
       "</style>\n",
       "<table border=\"1\" class=\"dataframe\">\n",
       "  <thead>\n",
       "    <tr style=\"text-align: right;\">\n",
       "      <th></th>\n",
       "      <th>f0</th>\n",
       "      <th>f1</th>\n",
       "      <th>f2</th>\n",
       "      <th>product</th>\n",
       "    </tr>\n",
       "  </thead>\n",
       "  <tbody>\n",
       "    <tr>\n",
       "      <td>count</td>\n",
       "      <td>100000.000000</td>\n",
       "      <td>100000.000000</td>\n",
       "      <td>100000.000000</td>\n",
       "      <td>100000.000000</td>\n",
       "    </tr>\n",
       "    <tr>\n",
       "      <td>mean</td>\n",
       "      <td>0.500419</td>\n",
       "      <td>0.250143</td>\n",
       "      <td>2.502647</td>\n",
       "      <td>92.500000</td>\n",
       "    </tr>\n",
       "    <tr>\n",
       "      <td>std</td>\n",
       "      <td>0.871832</td>\n",
       "      <td>0.504433</td>\n",
       "      <td>3.248248</td>\n",
       "      <td>44.288691</td>\n",
       "    </tr>\n",
       "    <tr>\n",
       "      <td>min</td>\n",
       "      <td>-1.408605</td>\n",
       "      <td>-0.848218</td>\n",
       "      <td>-12.088328</td>\n",
       "      <td>0.000000</td>\n",
       "    </tr>\n",
       "    <tr>\n",
       "      <td>25%</td>\n",
       "      <td>-0.072580</td>\n",
       "      <td>-0.200881</td>\n",
       "      <td>0.287748</td>\n",
       "      <td>56.497507</td>\n",
       "    </tr>\n",
       "    <tr>\n",
       "      <td>50%</td>\n",
       "      <td>0.502360</td>\n",
       "      <td>0.250252</td>\n",
       "      <td>2.515969</td>\n",
       "      <td>91.849972</td>\n",
       "    </tr>\n",
       "    <tr>\n",
       "      <td>75%</td>\n",
       "      <td>1.073581</td>\n",
       "      <td>0.700646</td>\n",
       "      <td>4.715088</td>\n",
       "      <td>128.564089</td>\n",
       "    </tr>\n",
       "    <tr>\n",
       "      <td>max</td>\n",
       "      <td>2.362331</td>\n",
       "      <td>1.343769</td>\n",
       "      <td>16.003790</td>\n",
       "      <td>185.364347</td>\n",
       "    </tr>\n",
       "  </tbody>\n",
       "</table>\n",
       "</div>"
      ],
      "text/plain": [
       "                  f0             f1             f2        product\n",
       "count  100000.000000  100000.000000  100000.000000  100000.000000\n",
       "mean        0.500419       0.250143       2.502647      92.500000\n",
       "std         0.871832       0.504433       3.248248      44.288691\n",
       "min        -1.408605      -0.848218     -12.088328       0.000000\n",
       "25%        -0.072580      -0.200881       0.287748      56.497507\n",
       "50%         0.502360       0.250252       2.515969      91.849972\n",
       "75%         1.073581       0.700646       4.715088     128.564089\n",
       "max         2.362331       1.343769      16.003790     185.364347"
      ]
     },
     "execution_count": 5,
     "metadata": {},
     "output_type": "execute_result"
    }
   ],
   "source": [
    "print('{:^50}'.format('Регион №0'))\n",
    "df0.describe()"
   ]
  },
  {
   "cell_type": "code",
   "execution_count": 6,
   "metadata": {},
   "outputs": [
    {
     "name": "stdout",
     "output_type": "stream",
     "text": [
      "                    Регион №1                     \n"
     ]
    },
    {
     "data": {
      "text/html": [
       "<div>\n",
       "<style scoped>\n",
       "    .dataframe tbody tr th:only-of-type {\n",
       "        vertical-align: middle;\n",
       "    }\n",
       "\n",
       "    .dataframe tbody tr th {\n",
       "        vertical-align: top;\n",
       "    }\n",
       "\n",
       "    .dataframe thead th {\n",
       "        text-align: right;\n",
       "    }\n",
       "</style>\n",
       "<table border=\"1\" class=\"dataframe\">\n",
       "  <thead>\n",
       "    <tr style=\"text-align: right;\">\n",
       "      <th></th>\n",
       "      <th>f0</th>\n",
       "      <th>f1</th>\n",
       "      <th>f2</th>\n",
       "      <th>product</th>\n",
       "    </tr>\n",
       "  </thead>\n",
       "  <tbody>\n",
       "    <tr>\n",
       "      <td>count</td>\n",
       "      <td>100000.000000</td>\n",
       "      <td>100000.000000</td>\n",
       "      <td>100000.000000</td>\n",
       "      <td>100000.000000</td>\n",
       "    </tr>\n",
       "    <tr>\n",
       "      <td>mean</td>\n",
       "      <td>1.141296</td>\n",
       "      <td>-4.796579</td>\n",
       "      <td>2.494541</td>\n",
       "      <td>68.825000</td>\n",
       "    </tr>\n",
       "    <tr>\n",
       "      <td>std</td>\n",
       "      <td>8.965932</td>\n",
       "      <td>5.119872</td>\n",
       "      <td>1.703572</td>\n",
       "      <td>45.944423</td>\n",
       "    </tr>\n",
       "    <tr>\n",
       "      <td>min</td>\n",
       "      <td>-31.609576</td>\n",
       "      <td>-26.358598</td>\n",
       "      <td>-0.018144</td>\n",
       "      <td>0.000000</td>\n",
       "    </tr>\n",
       "    <tr>\n",
       "      <td>25%</td>\n",
       "      <td>-6.298551</td>\n",
       "      <td>-8.267985</td>\n",
       "      <td>1.000021</td>\n",
       "      <td>26.953261</td>\n",
       "    </tr>\n",
       "    <tr>\n",
       "      <td>50%</td>\n",
       "      <td>1.153055</td>\n",
       "      <td>-4.813172</td>\n",
       "      <td>2.011479</td>\n",
       "      <td>57.085625</td>\n",
       "    </tr>\n",
       "    <tr>\n",
       "      <td>75%</td>\n",
       "      <td>8.621015</td>\n",
       "      <td>-1.332816</td>\n",
       "      <td>3.999904</td>\n",
       "      <td>107.813044</td>\n",
       "    </tr>\n",
       "    <tr>\n",
       "      <td>max</td>\n",
       "      <td>29.421755</td>\n",
       "      <td>18.734063</td>\n",
       "      <td>5.019721</td>\n",
       "      <td>137.945408</td>\n",
       "    </tr>\n",
       "  </tbody>\n",
       "</table>\n",
       "</div>"
      ],
      "text/plain": [
       "                  f0             f1             f2        product\n",
       "count  100000.000000  100000.000000  100000.000000  100000.000000\n",
       "mean        1.141296      -4.796579       2.494541      68.825000\n",
       "std         8.965932       5.119872       1.703572      45.944423\n",
       "min       -31.609576     -26.358598      -0.018144       0.000000\n",
       "25%        -6.298551      -8.267985       1.000021      26.953261\n",
       "50%         1.153055      -4.813172       2.011479      57.085625\n",
       "75%         8.621015      -1.332816       3.999904     107.813044\n",
       "max        29.421755      18.734063       5.019721     137.945408"
      ]
     },
     "execution_count": 6,
     "metadata": {},
     "output_type": "execute_result"
    }
   ],
   "source": [
    "print('{:^50}'.format('Регион №1'))\n",
    "df1.describe()"
   ]
  },
  {
   "cell_type": "code",
   "execution_count": 7,
   "metadata": {
    "scrolled": true
   },
   "outputs": [
    {
     "name": "stdout",
     "output_type": "stream",
     "text": [
      "                    Регион №2                     \n"
     ]
    },
    {
     "data": {
      "text/html": [
       "<div>\n",
       "<style scoped>\n",
       "    .dataframe tbody tr th:only-of-type {\n",
       "        vertical-align: middle;\n",
       "    }\n",
       "\n",
       "    .dataframe tbody tr th {\n",
       "        vertical-align: top;\n",
       "    }\n",
       "\n",
       "    .dataframe thead th {\n",
       "        text-align: right;\n",
       "    }\n",
       "</style>\n",
       "<table border=\"1\" class=\"dataframe\">\n",
       "  <thead>\n",
       "    <tr style=\"text-align: right;\">\n",
       "      <th></th>\n",
       "      <th>f0</th>\n",
       "      <th>f1</th>\n",
       "      <th>f2</th>\n",
       "      <th>product</th>\n",
       "    </tr>\n",
       "  </thead>\n",
       "  <tbody>\n",
       "    <tr>\n",
       "      <td>count</td>\n",
       "      <td>100000.000000</td>\n",
       "      <td>100000.000000</td>\n",
       "      <td>100000.000000</td>\n",
       "      <td>100000.000000</td>\n",
       "    </tr>\n",
       "    <tr>\n",
       "      <td>mean</td>\n",
       "      <td>0.002023</td>\n",
       "      <td>-0.002081</td>\n",
       "      <td>2.495128</td>\n",
       "      <td>95.000000</td>\n",
       "    </tr>\n",
       "    <tr>\n",
       "      <td>std</td>\n",
       "      <td>1.732045</td>\n",
       "      <td>1.730417</td>\n",
       "      <td>3.473445</td>\n",
       "      <td>44.749921</td>\n",
       "    </tr>\n",
       "    <tr>\n",
       "      <td>min</td>\n",
       "      <td>-8.760004</td>\n",
       "      <td>-7.084020</td>\n",
       "      <td>-11.970335</td>\n",
       "      <td>0.000000</td>\n",
       "    </tr>\n",
       "    <tr>\n",
       "      <td>25%</td>\n",
       "      <td>-1.162288</td>\n",
       "      <td>-1.174820</td>\n",
       "      <td>0.130359</td>\n",
       "      <td>59.450441</td>\n",
       "    </tr>\n",
       "    <tr>\n",
       "      <td>50%</td>\n",
       "      <td>0.009424</td>\n",
       "      <td>-0.009482</td>\n",
       "      <td>2.484236</td>\n",
       "      <td>94.925613</td>\n",
       "    </tr>\n",
       "    <tr>\n",
       "      <td>75%</td>\n",
       "      <td>1.158535</td>\n",
       "      <td>1.163678</td>\n",
       "      <td>4.858794</td>\n",
       "      <td>130.595027</td>\n",
       "    </tr>\n",
       "    <tr>\n",
       "      <td>max</td>\n",
       "      <td>7.238262</td>\n",
       "      <td>7.844801</td>\n",
       "      <td>16.739402</td>\n",
       "      <td>190.029838</td>\n",
       "    </tr>\n",
       "  </tbody>\n",
       "</table>\n",
       "</div>"
      ],
      "text/plain": [
       "                  f0             f1             f2        product\n",
       "count  100000.000000  100000.000000  100000.000000  100000.000000\n",
       "mean        0.002023      -0.002081       2.495128      95.000000\n",
       "std         1.732045       1.730417       3.473445      44.749921\n",
       "min        -8.760004      -7.084020     -11.970335       0.000000\n",
       "25%        -1.162288      -1.174820       0.130359      59.450441\n",
       "50%         0.009424      -0.009482       2.484236      94.925613\n",
       "75%         1.158535       1.163678       4.858794     130.595027\n",
       "max         7.238262       7.844801      16.739402     190.029838"
      ]
     },
     "execution_count": 7,
     "metadata": {},
     "output_type": "execute_result"
    }
   ],
   "source": [
    "print('{:^50}'.format('Регион №2'))\n",
    "df2.describe()"
   ]
  },
  {
   "cell_type": "code",
   "execution_count": 8,
   "metadata": {},
   "outputs": [
    {
     "name": "stdout",
     "output_type": "stream",
     "text": [
      "                    Регион №0                     \n"
     ]
    },
    {
     "data": {
      "image/png": "[encoded data removed]",
      "text/plain": [
       "<Figure size 432x288 with 16 Axes>"
      ]
     },
     "metadata": {
      "needs_background": "light"
     },
     "output_type": "display_data"
    }
   ],
   "source": [
    "print('{:^50}'.format('Регион №0'))\n",
    "pd.plotting.scatter_matrix(df0)\n",
    "plt.show()"
   ]
  },
  {
   "cell_type": "code",
   "execution_count": 9,
   "metadata": {},
   "outputs": [
    {
     "name": "stdout",
     "output_type": "stream",
     "text": [
      "                    Регион №1                     \n"
     ]
    },
    {
     "data": {
      "image/png": "[encoded data removed]",
      "text/plain": [
       "<Figure size 432x288 with 16 Axes>"
      ]
     },
     "metadata": {
      "needs_background": "light"
     },
     "output_type": "display_data"
    }
   ],
   "source": [
    "print('{:^50}'.format('Регион №1'))\n",
    "pd.plotting.scatter_matrix(df1)\n",
    "plt.show()"
   ]
  },
  {
   "cell_type": "code",
   "execution_count": 10,
   "metadata": {
    "scrolled": false
   },
   "outputs": [
    {
     "name": "stdout",
     "output_type": "stream",
     "text": [
      "                    Регион №2                     \n"
     ]
    },
    {
     "data": {
      "image/png": "[encoded data removed]",
      "text/plain": [
       "<Figure size 432x288 with 16 Axes>"
      ]
     },
     "metadata": {
      "needs_background": "light"
     },
     "output_type": "display_data"
    }
   ],
   "source": [
    "print('{:^50}'.format('Регион №2'))\n",
    "pd.plotting.scatter_matrix(df2)\n",
    "plt.show()"
   ]
  },
  {
   "cell_type": "code",
   "execution_count": 11,
   "metadata": {
    "scrolled": false
   },
   "outputs": [
    {
     "data": {
      "image/png": "[encoded data removed]",
      "text/plain": [
       "<Figure size 432x288 with 1 Axes>"
      ]
     },
     "metadata": {
      "needs_background": "light"
     },
     "output_type": "display_data"
    }
   ],
   "source": [
    "ax = df0['product'].plot(kind='hist', grid=True, legend=True, label='регион 0', color='purple', alpha=0.4)\n",
    "df1['product'].plot(kind='hist', grid=True, ax=ax, legend=True, label='регион 1', color='green', alpha=0.4)\n",
    "df2['product'].plot(kind='hist', grid=True, ax=ax, legend=True, label='регион 2', color='orange', alpha=0.4)\n",
    "plt.title('Распределение объёма запасов в скважинах')\n",
    "plt.xlabel('product')\n",
    "plt.show()"
   ]
  },
  {
   "cell_type": "markdown",
   "metadata": {},
   "source": [
    "**Вывод**"
   ]
  },
  {
   "cell_type": "markdown",
   "metadata": {},
   "source": [
    "Регионы 0 и 2 имеют довольно похожие картины. Регион 1 отличается и распределением объема запасов сырья (оно смещено относительно двух других регионов, мееет меньшее среднее, меньшее максимальное значение и имеет всплески в начале и в конце своего распределенения), и ярко выраженной корреляцией между объемом запасов и признаком f2. Объемы запасов во всех регионах имееют std около 44 - 46. "
   ]
  },
  {
   "cell_type": "markdown",
   "metadata": {},
   "source": [
    "Выделим целевой признак и признаки для модели (столбец id не понадобиться для прогнозирования)"
   ]
  },
  {
   "cell_type": "code",
   "execution_count": 12,
   "metadata": {},
   "outputs": [],
   "source": [
    "# целевой признак\n",
    "target0 = df0['product']\n",
    "target1 = df1['product']\n",
    "target2 = df2['product']\n",
    "# признаки\n",
    "features0 = df0.drop(['product', 'id'], axis=1)\n",
    "features1 = df1.drop(['product', 'id'], axis=1)\n",
    "features2 = df2.drop(['product', 'id'], axis=1)"
   ]
  },
  {
   "cell_type": "markdown",
   "metadata": {},
   "source": [
    "## Обучение и проверка модели"
   ]
  },
  {
   "cell_type": "markdown",
   "metadata": {},
   "source": [
    "Разобьем данные на обучающую и тестовую выборки (в каждом регионе)"
   ]
  },
  {
   "cell_type": "code",
   "execution_count": 13,
   "metadata": {},
   "outputs": [
    {
     "name": "stdout",
     "output_type": "stream",
     "text": [
      "Размер обучающей выборки: (75000, 3)\n",
      "Размер валидационной выборки: (25000, 3)\n"
     ]
    }
   ],
   "source": [
    "# выделение обучающей выборки\n",
    "features0_train, features0_test, target0_train, target0_test = train_test_split(\n",
    "    features0, target0, test_size=0.25, random_state=12345)\n",
    "features1_train, features1_test, target1_train, target1_test = train_test_split(\n",
    "    features1, target1, test_size=0.25, random_state=12345)\n",
    "features2_train, features2_test, target2_train, target2_test = train_test_split(\n",
    "    features2, target2, test_size=0.25, random_state=12345)\n",
    "# проверка размера\n",
    "print('Размер обучающей выборки:', features0_train.shape)\n",
    "print('Размер валидационной выборки:', features0_test.shape)"
   ]
  },
  {
   "cell_type": "markdown",
   "metadata": {},
   "source": [
    "Отмасштабируем числовые признаки с помощью z-преобразования. Таким образом все количественные признаки для алгоритма станут более равноценными. Метод StandardScaler() возвращает массив, мы же будем работать с таблицей"
   ]
  },
  {
   "cell_type": "code",
   "execution_count": 14,
   "metadata": {},
   "outputs": [],
   "source": [
    "columns = ['f0', 'f1', 'f2']"
   ]
  },
  {
   "cell_type": "code",
   "execution_count": 15,
   "metadata": {},
   "outputs": [],
   "source": [
    "pd.options.mode.chained_assignment = None\n",
    "\n",
    "scaler = StandardScaler()\n",
    "\n",
    "scaler.fit(features0_train)\n",
    "features0_train = pd.DataFrame(scaler.transform(features0_train), columns=columns)\n",
    "features0_test = pd.DataFrame(scaler.transform(features0_test), columns=columns)\n",
    "\n",
    "scaler.fit(features1_train)\n",
    "features1_train = pd.DataFrame(scaler.transform(features1_train), columns=columns)\n",
    "features1_test = pd.DataFrame(scaler.transform(features1_test), columns=columns)\n",
    "\n",
    "scaler.fit(features2_train)\n",
    "features2_train = pd.DataFrame(scaler.transform(features2_train), columns=columns)\n",
    "features2_test = pd.DataFrame(scaler.transform(features2_test), columns=columns)"
   ]
  },
  {
   "cell_type": "code",
   "execution_count": 16,
   "metadata": {
    "scrolled": false
   },
   "outputs": [
    {
     "data": {
      "text/html": [
       "<div>\n",
       "<style scoped>\n",
       "    .dataframe tbody tr th:only-of-type {\n",
       "        vertical-align: middle;\n",
       "    }\n",
       "\n",
       "    .dataframe tbody tr th {\n",
       "        vertical-align: top;\n",
       "    }\n",
       "\n",
       "    .dataframe thead th {\n",
       "        text-align: right;\n",
       "    }\n",
       "</style>\n",
       "<table border=\"1\" class=\"dataframe\">\n",
       "  <thead>\n",
       "    <tr style=\"text-align: right;\">\n",
       "      <th></th>\n",
       "      <th>f0</th>\n",
       "      <th>f1</th>\n",
       "      <th>f2</th>\n",
       "    </tr>\n",
       "  </thead>\n",
       "  <tbody>\n",
       "    <tr>\n",
       "      <td>0</td>\n",
       "      <td>-0.526160</td>\n",
       "      <td>0.776329</td>\n",
       "      <td>-0.400793</td>\n",
       "    </tr>\n",
       "    <tr>\n",
       "      <td>1</td>\n",
       "      <td>-0.889625</td>\n",
       "      <td>-0.404070</td>\n",
       "      <td>-1.222936</td>\n",
       "    </tr>\n",
       "    <tr>\n",
       "      <td>2</td>\n",
       "      <td>-1.133984</td>\n",
       "      <td>0.208576</td>\n",
       "      <td>0.296765</td>\n",
       "    </tr>\n",
       "  </tbody>\n",
       "</table>\n",
       "</div>"
      ],
      "text/plain": [
       "         f0        f1        f2\n",
       "0 -0.526160  0.776329 -0.400793\n",
       "1 -0.889625 -0.404070 -1.222936\n",
       "2 -1.133984  0.208576  0.296765"
      ]
     },
     "execution_count": 16,
     "metadata": {},
     "output_type": "execute_result"
    }
   ],
   "source": [
    "features2_train.head(3)"
   ]
  },
  {
   "cell_type": "markdown",
   "metadata": {},
   "source": [
    "Создаем модель. "
   ]
  },
  {
   "cell_type": "code",
   "execution_count": 17,
   "metadata": {},
   "outputs": [],
   "source": [
    "# создение моделей линейной регрессии\n",
    "model = LinearRegression()"
   ]
  },
  {
   "cell_type": "code",
   "execution_count": 18,
   "metadata": {},
   "outputs": [
    {
     "name": "stdout",
     "output_type": "stream",
     "text": [
      "оценка точности: регион №0 0.2741\n",
      "оценка точности: регион №1 0.9996\n",
      "оценка точности: регион №2 0.1965\n"
     ]
    }
   ],
   "source": [
    "# перекрестная оценка\n",
    "print('оценка точности: регион №0', round(cross_val_score(model, features0_train, target0_train, cv=5).mean(), 4))\n",
    "print('оценка точности: регион №1', round(cross_val_score(model, features1_train, target1_train, cv=5).mean(), 4))\n",
    "print('оценка точности: регион №2', round(cross_val_score(model, features2_train, target2_train, cv=5).mean(), 4))"
   ]
  },
  {
   "cell_type": "markdown",
   "metadata": {},
   "source": [
    "С помощью кросс-валидации предсказываем данные для тестовой выборки"
   ]
  },
  {
   "cell_type": "code",
   "execution_count": 19,
   "metadata": {},
   "outputs": [],
   "source": [
    "# предсказания на валидационной выборке\n",
    "predictions0 = cross_val_predict(model, features0_test, target0_test, cv=5)\n",
    "predictions1 = cross_val_predict(model, features1_test, target1_test, cv=5)\n",
    "predictions2 = cross_val_predict(model, features2_test, target2_test, cv=5)"
   ]
  },
  {
   "cell_type": "markdown",
   "metadata": {},
   "source": [
    "Сохраняем предсказания и правильные ответы"
   ]
  },
  {
   "cell_type": "code",
   "execution_count": 20,
   "metadata": {},
   "outputs": [],
   "source": [
    "results0 = pd.DataFrame([], columns = [])\n",
    "results0['true'] = target0_test\n",
    "results0['predictions'] = predictions0\n",
    "\n",
    "results1 = pd.DataFrame([], columns = [])\n",
    "results1['true'] = target1_test\n",
    "results1['predictions'] = predictions1\n",
    "\n",
    "results2 = pd.DataFrame([], columns = [])\n",
    "results2['true'] = target2_test\n",
    "results2['predictions'] = predictions2"
   ]
  },
  {
   "cell_type": "markdown",
   "metadata": {},
   "source": [
    "Считаем RMSE"
   ]
  },
  {
   "cell_type": "code",
   "execution_count": 21,
   "metadata": {},
   "outputs": [],
   "source": [
    "rmse0 = mean_squared_error(results0['true'], results0['predictions'])**0.5\n",
    "rmse1 = mean_squared_error(results1['true'], results1['predictions'])**0.5\n",
    "rmse2 = mean_squared_error(results2['true'], results2['predictions'])**0.5"
   ]
  },
  {
   "cell_type": "markdown",
   "metadata": {},
   "source": [
    "Соберем все в таблицу"
   ]
  },
  {
   "cell_type": "code",
   "execution_count": 22,
   "metadata": {},
   "outputs": [],
   "source": [
    "result = pd.DataFrame(\n",
    "    [\n",
    "        [0, target0_test.mean(), predictions0.mean(), rmse0],\n",
    "        [1, target1_test.mean(), predictions1.mean(), rmse1],\n",
    "        [2, target2_test.mean(), predictions2.mean(), rmse2]\n",
    "    ],\n",
    "    columns = ['Регион', 'Настоящее среднее', 'Предсказаное среднее', 'RMSE'], \n",
    ").round(5)"
   ]
  },
  {
   "cell_type": "code",
   "execution_count": 23,
   "metadata": {
    "scrolled": false
   },
   "outputs": [
    {
     "data": {
      "text/html": [
       "<div>\n",
       "<style scoped>\n",
       "    .dataframe tbody tr th:only-of-type {\n",
       "        vertical-align: middle;\n",
       "    }\n",
       "\n",
       "    .dataframe tbody tr th {\n",
       "        vertical-align: top;\n",
       "    }\n",
       "\n",
       "    .dataframe thead th {\n",
       "        text-align: right;\n",
       "    }\n",
       "</style>\n",
       "<table border=\"1\" class=\"dataframe\">\n",
       "  <thead>\n",
       "    <tr style=\"text-align: right;\">\n",
       "      <th></th>\n",
       "      <th>Регион</th>\n",
       "      <th>Настоящее среднее</th>\n",
       "      <th>Предсказаное среднее</th>\n",
       "      <th>RMSE</th>\n",
       "    </tr>\n",
       "  </thead>\n",
       "  <tbody>\n",
       "    <tr>\n",
       "      <td>0</td>\n",
       "      <td>0</td>\n",
       "      <td>92.07860</td>\n",
       "      <td>92.07938</td>\n",
       "      <td>37.57485</td>\n",
       "    </tr>\n",
       "    <tr>\n",
       "      <td>1</td>\n",
       "      <td>1</td>\n",
       "      <td>68.72314</td>\n",
       "      <td>68.72314</td>\n",
       "      <td>0.89320</td>\n",
       "    </tr>\n",
       "    <tr>\n",
       "      <td>2</td>\n",
       "      <td>2</td>\n",
       "      <td>94.88423</td>\n",
       "      <td>94.88226</td>\n",
       "      <td>40.03125</td>\n",
       "    </tr>\n",
       "  </tbody>\n",
       "</table>\n",
       "</div>"
      ],
      "text/plain": [
       "   Регион  Настоящее среднее  Предсказаное среднее      RMSE\n",
       "0       0           92.07860              92.07938  37.57485\n",
       "1       1           68.72314              68.72314   0.89320\n",
       "2       2           94.88423              94.88226  40.03125"
      ]
     },
     "execution_count": 23,
     "metadata": {},
     "output_type": "execute_result"
    }
   ],
   "source": [
    "result"
   ]
  },
  {
   "cell_type": "markdown",
   "metadata": {},
   "source": [
    "**Вывод**\n"
   ]
  },
  {
   "cell_type": "markdown",
   "metadata": {},
   "source": [
    "- Для регионов № 0 и №2 ошибка RMSE довольно большая (практически половина от значения). Регион №1 имеет очень маленькую RMSE (менее 1). Вероятно, это связано с сильной корреляцией целевого признака с признаком f2 для этого региона.\n",
    "- Предсказанное средние значение у региона № 1, так же как и для истинного среднего, меньше, чем в других регионах."
   ]
  },
  {
   "cell_type": "markdown",
   "metadata": {},
   "source": [
    "## Подготовка к расчёту прибыли"
   ]
  },
  {
   "cell_type": "code",
   "execution_count": 24,
   "metadata": {},
   "outputs": [],
   "source": [
    "# Бюджет на разработку скважин в регионе\n",
    "DEVELOPMENT_PRICE = 10**10\n",
    "# Доход с одного барреля сырья \n",
    "ONE_BARREL = 450\n",
    "# Доход с каждой единицы продукта\n",
    "INCOME_PER_UNIT = 450000\n",
    "# чилсо новых скважин\n",
    "N_WELL = 200\n",
    "# число скважин для исследования\n",
    "N_RESEARCH = 500"
   ]
  },
  {
   "cell_type": "markdown",
   "metadata": {},
   "source": [
    "Расчитаем достаточный объём сырья для безубыточной разработки новой скважины. Для того, чтобы разработка была безубыточной необходимо, чтобы затраты на разработку не превышали выручку от сырья (в контексте данной задачи). На разработку скважин в регионе выделяется 10 млрд., всего выбирают 200 скважин для разработки в регионе. Доход с каждой тысячи бареллей - 450 тыс. рублей. Таким образом, объем сырья для безубыточной разработки новой скважины должен быть "
   ]
  },
  {
   "cell_type": "code",
   "execution_count": 25,
   "metadata": {},
   "outputs": [
    {
     "data": {
      "text/plain": [
       "111.11111"
      ]
     },
     "execution_count": 25,
     "metadata": {},
     "output_type": "execute_result"
    }
   ],
   "source": [
    "v_min = round(DEVELOPMENT_PRICE / N_WELL / INCOME_PER_UNIT, 5)\n",
    "v_min"
   ]
  },
  {
   "cell_type": "markdown",
   "metadata": {},
   "source": [
    "Попробуем сравнить это значение с предсказанными средними значениями"
   ]
  },
  {
   "cell_type": "code",
   "execution_count": 26,
   "metadata": {},
   "outputs": [
    {
     "data": {
      "text/html": [
       "<div>\n",
       "<style scoped>\n",
       "    .dataframe tbody tr th:only-of-type {\n",
       "        vertical-align: middle;\n",
       "    }\n",
       "\n",
       "    .dataframe tbody tr th {\n",
       "        vertical-align: top;\n",
       "    }\n",
       "\n",
       "    .dataframe thead th {\n",
       "        text-align: right;\n",
       "    }\n",
       "</style>\n",
       "<table border=\"1\" class=\"dataframe\">\n",
       "  <thead>\n",
       "    <tr style=\"text-align: right;\">\n",
       "      <th></th>\n",
       "      <th>Регион</th>\n",
       "      <th>Настоящее среднее</th>\n",
       "      <th>Предсказаное среднее</th>\n",
       "      <th>RMSE</th>\n",
       "    </tr>\n",
       "  </thead>\n",
       "  <tbody>\n",
       "    <tr>\n",
       "      <td>0</td>\n",
       "      <td>0</td>\n",
       "      <td>92.07860</td>\n",
       "      <td>92.07938</td>\n",
       "      <td>37.57485</td>\n",
       "    </tr>\n",
       "    <tr>\n",
       "      <td>1</td>\n",
       "      <td>1</td>\n",
       "      <td>68.72314</td>\n",
       "      <td>68.72314</td>\n",
       "      <td>0.89320</td>\n",
       "    </tr>\n",
       "    <tr>\n",
       "      <td>2</td>\n",
       "      <td>2</td>\n",
       "      <td>94.88423</td>\n",
       "      <td>94.88226</td>\n",
       "      <td>40.03125</td>\n",
       "    </tr>\n",
       "  </tbody>\n",
       "</table>\n",
       "</div>"
      ],
      "text/plain": [
       "   Регион  Настоящее среднее  Предсказаное среднее      RMSE\n",
       "0       0           92.07860              92.07938  37.57485\n",
       "1       1           68.72314              68.72314   0.89320\n",
       "2       2           94.88423              94.88226  40.03125"
      ]
     },
     "execution_count": 26,
     "metadata": {},
     "output_type": "execute_result"
    }
   ],
   "source": [
    "result"
   ]
  },
  {
   "cell_type": "markdown",
   "metadata": {},
   "source": [
    "Проверка гипотезы с помощью двустороннего t-теста (средние выборочные распредлены нормально по ЦПТ)\n",
    "\n",
    "- Гипотеза H0: $\\mu$ = v_min (предсказанное среднее равно достаточному объёму сырья для безубыточной разработки новой скважины v_min)\n",
    "- Гипотеза Н1: $\\mu$ $\\neq$ v_min\n",
    "\n",
    "Уровень значимости $\\alpha$ = 0.05"
   ]
  },
  {
   "cell_type": "code",
   "execution_count": 27,
   "metadata": {
    "scrolled": true
   },
   "outputs": [
    {
     "name": "stdout",
     "output_type": "stream",
     "text": [
      "Отвергаем нулевую гипотезу для региона 0\n",
      "Отвергаем нулевую гипотезу для региона 1\n",
      "Отвергаем нулевую гипотезу для региона 2\n"
     ]
    }
   ],
   "source": [
    "answer0 = st.ttest_1samp(results0['predictions'], v_min)\n",
    "answer1 = st.ttest_1samp(results1['predictions'], v_min)\n",
    "answer2 = st.ttest_1samp(results2['predictions'], v_min)\n",
    "\n",
    "alpha = 0.05\n",
    "\n",
    "if answer0.pvalue < alpha:\n",
    "    print('Отвергаем нулевую гипотезу для региона 0')\n",
    "else:\n",
    "    print('Не получилось отвергнуть нулевую гипотезу 0') \n",
    "    \n",
    "if answer1.pvalue < alpha:\n",
    "    print('Отвергаем нулевую гипотезу для региона 1')\n",
    "else:\n",
    "    print('Не получилось отвергнуть нулевую гипотезу 1') \n",
    "    \n",
    "if answer2.pvalue < alpha:\n",
    "    print('Отвергаем нулевую гипотезу для региона 2')\n",
    "else:\n",
    "    print('Не получилось отвергнуть нулевую гипотезу 2') "
   ]
  },
  {
   "cell_type": "markdown",
   "metadata": {},
   "source": [
    "**Вывод**"
   ]
  },
  {
   "cell_type": "markdown",
   "metadata": {},
   "source": [
    "Полученное значение  достаточного объёма сырья для безубыточной разработки новой скважины больше, чем те, что получились в предсказании. Проверка гипотезы о равенстве предсказаного среднего значению v_min подтвердила это."
   ]
  },
  {
   "cell_type": "markdown",
   "metadata": {},
   "source": [
    "Напишем функцию для подсчета прибыли по лучшим  скважинам"
   ]
  },
  {
   "cell_type": "code",
   "execution_count": 28,
   "metadata": {},
   "outputs": [],
   "source": [
    "def revenue(target, predictions, count):\n",
    "    \n",
    "    # выбор скважин с максимальными значениями предсказаний: сортировка по значениям \n",
    "    probs_sorted = predictions.sort_values(ascending=False)\n",
    "    # выбраем соотвествующие целевое значение объема сырья\n",
    "    selected = target[probs_sorted.index][:count]\n",
    "    # суммируем и домножаем на доход с единицы продукта\n",
    "    result_revenue = INCOME_PER_UNIT * selected.sum() - DEVELOPMENT_PRICE\n",
    "    \n",
    "    return result_revenue"
   ]
  },
  {
   "cell_type": "markdown",
   "metadata": {},
   "source": [
    "Проверим работу функции по самой прибыльной скважине региона №0"
   ]
  },
  {
   "cell_type": "code",
   "execution_count": 29,
   "metadata": {},
   "outputs": [
    {
     "data": {
      "text/plain": [
       "-9926735053.336006"
      ]
     },
     "execution_count": 29,
     "metadata": {},
     "output_type": "execute_result"
    }
   ],
   "source": [
    "revenue(results0['true'], results0['predictions'], 1)"
   ]
  },
  {
   "cell_type": "code",
   "execution_count": 31,
   "metadata": {},
   "outputs": [
    {
     "data": {
      "text/plain": [
       "93073   -9.926735e+09\n",
       "Name: true, dtype: float64"
      ]
     },
     "execution_count": 31,
     "metadata": {},
     "output_type": "execute_result"
    }
   ],
   "source": [
    "results0.loc[results0['predictions'].sort_values(ascending=False).head(1).index, 'true'] * INCOME_PER_UNIT - DEVELOPMENT_PRICE"
   ]
  },
  {
   "cell_type": "markdown",
   "metadata": {},
   "source": [
    "Значение функции то же, что и посчитанное вручную, значит, функция выдает нужный результат"
   ]
  },
  {
   "cell_type": "markdown",
   "metadata": {},
   "source": [
    "## Расчёт прибыли и рисков "
   ]
  },
  {
   "cell_type": "markdown",
   "metadata": {},
   "source": [
    "С помощью техники Bootstrap с 1000 выборок найдем распределение прибыли в каждом регионе"
   ]
  },
  {
   "cell_type": "code",
   "execution_count": 32,
   "metadata": {},
   "outputs": [],
   "source": [
    "# Bootstrap\n",
    "state = np.random.RandomState(12345)\n",
    "\n",
    "# регион 0\n",
    "profit_distrib0 = []\n",
    "for i in range(1000):\n",
    "    subsample0 = results0.sample(n=N_RESEARCH, replace=True, random_state=state)\n",
    "    target_subsample0 = subsample0['true']\n",
    "    probs_subsample0 = subsample0['predictions']\n",
    "    profit_distrib0.append(revenue(target_subsample0, probs_subsample0, N_WELL))\n",
    "profit_distrib0 = pd.Series(profit_distrib0)\n",
    "\n",
    "# регион 1\n",
    "profit_distrib1 = []\n",
    "for i in range(1000):\n",
    "    subsample1 = results1.sample(n=N_RESEARCH, replace=True, random_state=state)\n",
    "    target_subsample1 = subsample1['true']\n",
    "    probs_subsample1 = subsample1['predictions']\n",
    "    profit_distrib1.append(revenue(target_subsample1, probs_subsample1, N_WELL))\n",
    "profit_distrib1 = pd.Series(profit_distrib1)\n",
    "\n",
    "# регион 2\n",
    "profit_distrib2 = []\n",
    "for i in range(1000):\n",
    "    subsample2 = results2.sample(n=N_RESEARCH, replace=True, random_state=state)\n",
    "    target_subsample2 = subsample2['true']\n",
    "    probs_subsample2 = subsample2['predictions']\n",
    "    profit_distrib2.append(revenue(target_subsample2, probs_subsample2, N_WELL))\n",
    "profit_distrib2 = pd.Series(profit_distrib2)"
   ]
  },
  {
   "cell_type": "markdown",
   "metadata": {},
   "source": [
    "Найдем среднюю прибыль для каждого региона"
   ]
  },
  {
   "cell_type": "code",
   "execution_count": 33,
   "metadata": {},
   "outputs": [],
   "source": [
    "alpha = 0.05"
   ]
  },
  {
   "cell_type": "code",
   "execution_count": 34,
   "metadata": {},
   "outputs": [],
   "source": [
    "profit_list = []"
   ]
  },
  {
   "cell_type": "code",
   "execution_count": 35,
   "metadata": {
    "scrolled": true
   },
   "outputs": [
    {
     "name": "stdout",
     "output_type": "stream",
     "text": [
      "Средняя прибыль для региона №0: 424.9 млн\n",
      "95% доверительный интервал -109704922.0627294 ; 939000877.7125535\n"
     ]
    }
   ],
   "source": [
    "profit_mean0 = profit_distrib0.mean()\n",
    "lower0 = profit_distrib0.quantile(0.025)\n",
    "upper0 = profit_distrib0.quantile(0.975)\n",
    "print('Средняя прибыль для региона №0:', round(profit_mean0 / (10**6), 1), 'млн')\n",
    "print('95% доверительный интервал', lower0, ';', upper0)\n",
    "\n",
    "profit_list.append([profit_mean0, lower0, upper0])"
   ]
  },
  {
   "cell_type": "code",
   "execution_count": 36,
   "metadata": {
    "scrolled": true
   },
   "outputs": [
    {
     "name": "stdout",
     "output_type": "stream",
     "text": [
      "Средняя прибыль для региона №1: 518.3 млн\n",
      "95% доверительный интервал 128123231.43308629 ; 953612982.0669085\n"
     ]
    }
   ],
   "source": [
    "profit_mean1 = profit_distrib1.mean()\n",
    "lower1 = profit_distrib1.quantile(0.025)\n",
    "upper1 = profit_distrib1.quantile(0.975)\n",
    "print('Средняя прибыль для региона №1:', round(profit_mean1 / (10**6), 1), 'млн')\n",
    "print('95% доверительный интервал', lower1, ';', upper1)\n",
    "profit_list.append([profit_mean1, lower1, upper1])"
   ]
  },
  {
   "cell_type": "code",
   "execution_count": 37,
   "metadata": {
    "scrolled": true
   },
   "outputs": [
    {
     "name": "stdout",
     "output_type": "stream",
     "text": [
      "Средняя прибыль для региона №2: 418.4 млн\n",
      "95% доверительный интервал -110582292.38296498 ; 993492510.6632915\n"
     ]
    }
   ],
   "source": [
    "profit_mean2 = profit_distrib2.mean()\n",
    "lower2 = profit_distrib2.quantile(0.025)\n",
    "upper2 = profit_distrib2.quantile(0.975)\n",
    "print('Средняя прибыль для региона №2:', round(profit_mean2 / (10**6), 1), 'млн')\n",
    "print('95% доверительный интервал', lower2, ';', upper2)\n",
    "profit_list.append([profit_mean2, lower2, upper2])"
   ]
  },
  {
   "cell_type": "code",
   "execution_count": 38,
   "metadata": {
    "scrolled": true
   },
   "outputs": [
    {
     "data": {
      "text/html": [
       "<div>\n",
       "<style scoped>\n",
       "    .dataframe tbody tr th:only-of-type {\n",
       "        vertical-align: middle;\n",
       "    }\n",
       "\n",
       "    .dataframe tbody tr th {\n",
       "        vertical-align: top;\n",
       "    }\n",
       "\n",
       "    .dataframe thead th {\n",
       "        text-align: right;\n",
       "    }\n",
       "</style>\n",
       "<table border=\"1\" class=\"dataframe\">\n",
       "  <thead>\n",
       "    <tr style=\"text-align: right;\">\n",
       "      <th></th>\n",
       "      <th>Среднее</th>\n",
       "      <th>Нижняя граница дов инт</th>\n",
       "      <th>Верхняя граница дов инт</th>\n",
       "    </tr>\n",
       "  </thead>\n",
       "  <tbody>\n",
       "    <tr>\n",
       "      <td>0</td>\n",
       "      <td>4.249364e+08</td>\n",
       "      <td>-1.097049e+08</td>\n",
       "      <td>9.390009e+08</td>\n",
       "    </tr>\n",
       "    <tr>\n",
       "      <td>1</td>\n",
       "      <td>5.182609e+08</td>\n",
       "      <td>1.281232e+08</td>\n",
       "      <td>9.536130e+08</td>\n",
       "    </tr>\n",
       "    <tr>\n",
       "      <td>2</td>\n",
       "      <td>4.184311e+08</td>\n",
       "      <td>-1.105823e+08</td>\n",
       "      <td>9.934925e+08</td>\n",
       "    </tr>\n",
       "  </tbody>\n",
       "</table>\n",
       "</div>"
      ],
      "text/plain": [
       "        Среднее  Нижняя граница дов инт  Верхняя граница дов инт\n",
       "0  4.249364e+08           -1.097049e+08             9.390009e+08\n",
       "1  5.182609e+08            1.281232e+08             9.536130e+08\n",
       "2  4.184311e+08           -1.105823e+08             9.934925e+08"
      ]
     },
     "execution_count": 38,
     "metadata": {},
     "output_type": "execute_result"
    }
   ],
   "source": [
    "profit = pd.DataFrame(profit_list, columns=['Среднее', 'Нижняя граница дов инт', 'Верхняя граница дов инт'])\n",
    "profit"
   ]
  },
  {
   "cell_type": "code",
   "execution_count": 39,
   "metadata": {
    "scrolled": false
   },
   "outputs": [
    {
     "data": {
      "image/png": "[encoded data removed]",
      "text/plain": [
       "<Figure size 432x288 with 1 Axes>"
      ]
     },
     "metadata": {
      "needs_background": "light"
     },
     "output_type": "display_data"
    }
   ],
   "source": [
    "profit_distrib0.plot(kind='hist', grid=True, bins=40)\n",
    "plt.axvline(x=profit_mean0, color='red')\n",
    "plt.axvline(x=lower0, color='green')\n",
    "plt.axvline(x=upper0, color='green')\n",
    "plt.title('Распределение прибыли\\n Регион №0')\n",
    "plt.xlabel('Прибыль')\n",
    "plt.show()"
   ]
  },
  {
   "cell_type": "code",
   "execution_count": 40,
   "metadata": {
    "scrolled": false
   },
   "outputs": [
    {
     "data": {
      "image/png": "[encoded data removed]",
      "text/plain": [
       "<Figure size 432x288 with 1 Axes>"
      ]
     },
     "metadata": {
      "needs_background": "light"
     },
     "output_type": "display_data"
    }
   ],
   "source": [
    "profit_distrib1.plot(kind='hist', grid=True, bins=40)\n",
    "plt.axvline(x=profit_mean1, color='red')\n",
    "plt.axvline(x=lower1, color='green')\n",
    "plt.axvline(x=upper1, color='green')\n",
    "plt.title('Распределение прибыли\\n Регион №1')\n",
    "plt.xlabel('Прибыль')\n",
    "plt.show()"
   ]
  },
  {
   "cell_type": "code",
   "execution_count": 41,
   "metadata": {
    "scrolled": false
   },
   "outputs": [
    {
     "data": {
      "image/png": "[encoded data removed]",
      "text/plain": [
       "<Figure size 432x288 with 1 Axes>"
      ]
     },
     "metadata": {
      "needs_background": "light"
     },
     "output_type": "display_data"
    }
   ],
   "source": [
    "profit_distrib2.plot(kind='hist', grid=True, bins=40)\n",
    "plt.axvline(x=profit_mean2, color='red')\n",
    "plt.axvline(x=upper2, color='green')\n",
    "plt.axvline(x=lower2, color='green')\n",
    "plt.title('Распределение прибыли\\n Регион №2')\n",
    "plt.xlabel('Прибыль')\n",
    "plt.show()"
   ]
  },
  {
   "cell_type": "markdown",
   "metadata": {},
   "source": [
    "Найдем вероятности убытка - долю значений лежащих ниже 10 млрд."
   ]
  },
  {
   "cell_type": "code",
   "execution_count": 42,
   "metadata": {
    "scrolled": true
   },
   "outputs": [
    {
     "name": "stdout",
     "output_type": "stream",
     "text": [
      "Риск убытка в регионе №0: 6.3%\n"
     ]
    }
   ],
   "source": [
    "prob_loss0 = profit_distrib0[profit_distrib0 < 0].count() / len(profit_distrib0) * 100\n",
    "print(f'Риск убытка в регионе №0: {prob_loss0}%')"
   ]
  },
  {
   "cell_type": "code",
   "execution_count": 43,
   "metadata": {
    "scrolled": true
   },
   "outputs": [
    {
     "data": {
      "text/plain": [
       "1160743.8142981639"
      ]
     },
     "execution_count": 43,
     "metadata": {},
     "output_type": "execute_result"
    }
   ],
   "source": [
    "# проверка\n",
    "profit_distrib0.quantile(0.063) "
   ]
  },
  {
   "cell_type": "markdown",
   "metadata": {
    "scrolled": true
   },
   "source": [
    "6.3 процентиль действительно дает результат более 10 млрд"
   ]
  },
  {
   "cell_type": "code",
   "execution_count": 44,
   "metadata": {
    "scrolled": true
   },
   "outputs": [],
   "source": [
    "prob_loss1 = profit_distrib1[profit_distrib1 < 0].count() / len(profit_distrib1) * 100"
   ]
  },
  {
   "cell_type": "code",
   "execution_count": 45,
   "metadata": {
    "scrolled": false
   },
   "outputs": [],
   "source": [
    "prob_loss2 = profit_distrib2[profit_distrib2 < 0].count() / len(profit_distrib2) * 100"
   ]
  },
  {
   "cell_type": "markdown",
   "metadata": {},
   "source": [
    "Соберем все данные в таблицу"
   ]
  },
  {
   "cell_type": "code",
   "execution_count": 46,
   "metadata": {
    "scrolled": true
   },
   "outputs": [
    {
     "data": {
      "text/html": [
       "<div>\n",
       "<style scoped>\n",
       "    .dataframe tbody tr th:only-of-type {\n",
       "        vertical-align: middle;\n",
       "    }\n",
       "\n",
       "    .dataframe tbody tr th {\n",
       "        vertical-align: top;\n",
       "    }\n",
       "\n",
       "    .dataframe thead th {\n",
       "        text-align: right;\n",
       "    }\n",
       "</style>\n",
       "<table border=\"1\" class=\"dataframe\">\n",
       "  <thead>\n",
       "    <tr style=\"text-align: right;\">\n",
       "      <th></th>\n",
       "      <th>Среднее</th>\n",
       "      <th>Нижняя граница дов инт</th>\n",
       "      <th>Верхняя граница дов инт</th>\n",
       "      <th>Риск убытка, %</th>\n",
       "    </tr>\n",
       "  </thead>\n",
       "  <tbody>\n",
       "    <tr>\n",
       "      <td>0</td>\n",
       "      <td>4.249364e+08</td>\n",
       "      <td>-1.097049e+08</td>\n",
       "      <td>9.390009e+08</td>\n",
       "      <td>6.3</td>\n",
       "    </tr>\n",
       "    <tr>\n",
       "      <td>1</td>\n",
       "      <td>5.182609e+08</td>\n",
       "      <td>1.281232e+08</td>\n",
       "      <td>9.536130e+08</td>\n",
       "      <td>0.3</td>\n",
       "    </tr>\n",
       "    <tr>\n",
       "      <td>2</td>\n",
       "      <td>4.184311e+08</td>\n",
       "      <td>-1.105823e+08</td>\n",
       "      <td>9.934925e+08</td>\n",
       "      <td>6.1</td>\n",
       "    </tr>\n",
       "  </tbody>\n",
       "</table>\n",
       "</div>"
      ],
      "text/plain": [
       "        Среднее  Нижняя граница дов инт  Верхняя граница дов инт  \\\n",
       "0  4.249364e+08           -1.097049e+08             9.390009e+08   \n",
       "1  5.182609e+08            1.281232e+08             9.536130e+08   \n",
       "2  4.184311e+08           -1.105823e+08             9.934925e+08   \n",
       "\n",
       "   Риск убытка, %  \n",
       "0             6.3  \n",
       "1             0.3  \n",
       "2             6.1  "
      ]
     },
     "execution_count": 46,
     "metadata": {},
     "output_type": "execute_result"
    }
   ],
   "source": [
    "profit['Риск убытка, %'] = [prob_loss0, prob_loss1, prob_loss2]\n",
    "profit"
   ]
  },
  {
   "cell_type": "markdown",
   "metadata": {},
   "source": [
    "**Вывод**\n",
    "\n",
    "Наибольшую среденюю прибыль показывают скважины региона №1. Риск убытков составляет в этом регионе менее процента. Вероятно, это связано с видом распределения объема запасов в скважинах этого региона: оно имеет моду в наибольших значениях. Регион №1 наиболее перспективен"
   ]
  },
  {
   "cell_type": "markdown",
   "metadata": {},
   "source": [
    "## Вывод"
   ]
  },
  {
   "cell_type": "markdown",
   "metadata": {},
   "source": [
    "Цель проекта: определить, где бурить новую скважину. Для этого получены характеристики скважин в трёх регионах, на которых построена модель для определения региона, где добыча принесёт наибольшую прибыль.\n",
    "\n",
    "1. На первом этапе были загружены данные для трех регионов. Построены матрицы для попарных точечных диаграмм для столбцов датафреймов. Было обнаружено, что для региона №1 признак f2 сильно коррелирует с объемом запасов в скважинах. \n",
    "2. Подготовка данных к обучению. Выделен целевой признак `product` - объем запасов. Данные были разбиты на обучающий и тестовый наборы. Проведено масштабирование признаков с помощью z-преобразования.\n",
    "3. Для модели линейной регрессии были получены предсказания для тестовой выборки, вычеслена ошибка RMSE для предсказанных средних объемов. Для регионов № 0 и №2 ошибка RMSE довольно большая (практически половина от значения). Регион №1 имеет очень маленькую RMSE (менее 1). Вероятно, это связано с сильной корреляцией целевого признака с признаком f2 для этого региона. Предсказанное средние значение у региона № 1, так же как и для истинного среднего, меньше, чем в других регионах."
   ]
  },
  {
   "cell_type": "code",
   "execution_count": 47,
   "metadata": {
    "scrolled": true
   },
   "outputs": [
    {
     "data": {
      "text/html": [
       "<div>\n",
       "<style scoped>\n",
       "    .dataframe tbody tr th:only-of-type {\n",
       "        vertical-align: middle;\n",
       "    }\n",
       "\n",
       "    .dataframe tbody tr th {\n",
       "        vertical-align: top;\n",
       "    }\n",
       "\n",
       "    .dataframe thead th {\n",
       "        text-align: right;\n",
       "    }\n",
       "</style>\n",
       "<table border=\"1\" class=\"dataframe\">\n",
       "  <thead>\n",
       "    <tr style=\"text-align: right;\">\n",
       "      <th></th>\n",
       "      <th>Регион</th>\n",
       "      <th>Настоящее среднее</th>\n",
       "      <th>Предсказаное среднее</th>\n",
       "      <th>RMSE</th>\n",
       "    </tr>\n",
       "  </thead>\n",
       "  <tbody>\n",
       "    <tr>\n",
       "      <td>0</td>\n",
       "      <td>0</td>\n",
       "      <td>92.07860</td>\n",
       "      <td>92.07938</td>\n",
       "      <td>37.57485</td>\n",
       "    </tr>\n",
       "    <tr>\n",
       "      <td>1</td>\n",
       "      <td>1</td>\n",
       "      <td>68.72314</td>\n",
       "      <td>68.72314</td>\n",
       "      <td>0.89320</td>\n",
       "    </tr>\n",
       "    <tr>\n",
       "      <td>2</td>\n",
       "      <td>2</td>\n",
       "      <td>94.88423</td>\n",
       "      <td>94.88226</td>\n",
       "      <td>40.03125</td>\n",
       "    </tr>\n",
       "  </tbody>\n",
       "</table>\n",
       "</div>"
      ],
      "text/plain": [
       "   Регион  Настоящее среднее  Предсказаное среднее      RMSE\n",
       "0       0           92.07860              92.07938  37.57485\n",
       "1       1           68.72314              68.72314   0.89320\n",
       "2       2           94.88423              94.88226  40.03125"
      ]
     },
     "execution_count": 47,
     "metadata": {},
     "output_type": "execute_result"
    }
   ],
   "source": [
    "result"
   ]
  },
  {
   "cell_type": "markdown",
   "metadata": {},
   "source": [
    "4. Посчитано минимальное среднее количество продукта в месторождениях региона достаточное для разработки (111 тыс. баррелей) и сравнено со средними для предсказанных значений. Во всех трех регионах среднее меньше.\n",
    "5. Написана функция для расчёта прибыли по выбранным скважинам и предсказаниям модели: она выделяет скважины с максимальным значением спрогнозированных запасов и рассчитывает прибыль (по целевому признаку), которую можно пполучить из них.\n",
    "6. Найдено распределение прибыли с помощью техники Bootstrap. Найдена средняя прибыль и 95% доверительный интервал для среднего. Подсчитан риск убытка в каждом регионе."
   ]
  },
  {
   "cell_type": "code",
   "execution_count": 48,
   "metadata": {
    "scrolled": true
   },
   "outputs": [
    {
     "data": {
      "text/html": [
       "<div>\n",
       "<style scoped>\n",
       "    .dataframe tbody tr th:only-of-type {\n",
       "        vertical-align: middle;\n",
       "    }\n",
       "\n",
       "    .dataframe tbody tr th {\n",
       "        vertical-align: top;\n",
       "    }\n",
       "\n",
       "    .dataframe thead th {\n",
       "        text-align: right;\n",
       "    }\n",
       "</style>\n",
       "<table border=\"1\" class=\"dataframe\">\n",
       "  <thead>\n",
       "    <tr style=\"text-align: right;\">\n",
       "      <th></th>\n",
       "      <th>Среднее</th>\n",
       "      <th>Нижняя граница дов инт</th>\n",
       "      <th>Верхняя граница дов инт</th>\n",
       "      <th>Риск убытка, %</th>\n",
       "    </tr>\n",
       "  </thead>\n",
       "  <tbody>\n",
       "    <tr>\n",
       "      <td>0</td>\n",
       "      <td>4.249364e+08</td>\n",
       "      <td>-1.097049e+08</td>\n",
       "      <td>9.390009e+08</td>\n",
       "      <td>6.3</td>\n",
       "    </tr>\n",
       "    <tr>\n",
       "      <td>1</td>\n",
       "      <td>5.182609e+08</td>\n",
       "      <td>1.281232e+08</td>\n",
       "      <td>9.536130e+08</td>\n",
       "      <td>0.3</td>\n",
       "    </tr>\n",
       "    <tr>\n",
       "      <td>2</td>\n",
       "      <td>4.184311e+08</td>\n",
       "      <td>-1.105823e+08</td>\n",
       "      <td>9.934925e+08</td>\n",
       "      <td>6.1</td>\n",
       "    </tr>\n",
       "  </tbody>\n",
       "</table>\n",
       "</div>"
      ],
      "text/plain": [
       "        Среднее  Нижняя граница дов инт  Верхняя граница дов инт  \\\n",
       "0  4.249364e+08           -1.097049e+08             9.390009e+08   \n",
       "1  5.182609e+08            1.281232e+08             9.536130e+08   \n",
       "2  4.184311e+08           -1.105823e+08             9.934925e+08   \n",
       "\n",
       "   Риск убытка, %  \n",
       "0             6.3  \n",
       "1             0.3  \n",
       "2             6.1  "
      ]
     },
     "execution_count": 48,
     "metadata": {},
     "output_type": "execute_result"
    }
   ],
   "source": [
    "profit"
   ]
  },
  {
   "cell_type": "markdown",
   "metadata": {},
   "source": [
    "**Наиболее перспективный регион №1, поскольку он имеет наибольшее среднее и наименьший риск убытка.**"
   ]
  },
  {
   "cell_type": "code",
   "execution_count": null,
   "metadata": {},
   "outputs": [],
   "source": []
  }
 ],
 "metadata": {
  "ExecuteTimeLog": [
   {
    "duration": 1093,
    "start_time": "2022-01-24T11:54:58.431Z"
   },
   {
    "duration": 396,
    "start_time": "2022-01-24T11:55:09.358Z"
   },
   {
    "duration": 19,
    "start_time": "2022-01-24T11:55:21.843Z"
   },
   {
    "duration": 10,
    "start_time": "2022-01-24T11:55:35.633Z"
   },
   {
    "duration": 28,
    "start_time": "2022-01-24T12:07:10.170Z"
   },
   {
    "duration": 27,
    "start_time": "2022-01-24T12:07:50.282Z"
   },
   {
    "duration": 27,
    "start_time": "2022-01-24T12:08:21.971Z"
   },
   {
    "duration": 271,
    "start_time": "2022-01-24T12:09:50.554Z"
   },
   {
    "duration": 27,
    "start_time": "2022-01-24T12:10:09.517Z"
   },
   {
    "duration": 191,
    "start_time": "2022-01-24T12:10:28.086Z"
   },
   {
    "duration": 25,
    "start_time": "2022-01-24T12:10:38.745Z"
   },
   {
    "duration": 27,
    "start_time": "2022-01-24T12:11:10.989Z"
   },
   {
    "duration": 26,
    "start_time": "2022-01-24T12:11:28.818Z"
   },
   {
    "duration": 9,
    "start_time": "2022-01-24T12:11:58.466Z"
   },
   {
    "duration": 12,
    "start_time": "2022-01-24T12:12:36.576Z"
   },
   {
    "duration": 14,
    "start_time": "2022-01-24T12:12:53.181Z"
   },
   {
    "duration": 13,
    "start_time": "2022-01-24T12:13:00.582Z"
   },
   {
    "duration": 12,
    "start_time": "2022-01-24T12:14:07.866Z"
   },
   {
    "duration": 12,
    "start_time": "2022-01-24T12:14:22.932Z"
   },
   {
    "duration": 11,
    "start_time": "2022-01-24T12:14:23.301Z"
   },
   {
    "duration": 633,
    "start_time": "2022-01-24T12:22:00.933Z"
   },
   {
    "duration": 604,
    "start_time": "2022-01-24T12:22:25.928Z"
   },
   {
    "duration": 499,
    "start_time": "2022-01-24T12:22:36.666Z"
   },
   {
    "duration": 562,
    "start_time": "2022-01-24T12:22:45.425Z"
   },
   {
    "duration": 590,
    "start_time": "2022-01-24T12:22:55.103Z"
   },
   {
    "duration": 254,
    "start_time": "2022-01-24T12:23:13.553Z"
   },
   {
    "duration": 553,
    "start_time": "2022-01-24T12:24:01.624Z"
   },
   {
    "duration": 361,
    "start_time": "2022-01-24T12:24:08.414Z"
   },
   {
    "duration": 364,
    "start_time": "2022-01-24T12:25:23.412Z"
   },
   {
    "duration": 354,
    "start_time": "2022-01-24T12:25:43.319Z"
   },
   {
    "duration": 58,
    "start_time": "2022-01-24T12:26:18.599Z"
   },
   {
    "duration": 64,
    "start_time": "2022-01-24T12:26:22.626Z"
   },
   {
    "duration": 506,
    "start_time": "2022-01-24T12:26:29.813Z"
   },
   {
    "duration": 364,
    "start_time": "2022-01-24T12:26:44.474Z"
   },
   {
    "duration": 362,
    "start_time": "2022-01-24T12:26:52.395Z"
   },
   {
    "duration": 354,
    "start_time": "2022-01-24T12:26:56.862Z"
   },
   {
    "duration": 359,
    "start_time": "2022-01-24T12:27:29.774Z"
   },
   {
    "duration": 360,
    "start_time": "2022-01-24T12:27:45.270Z"
   },
   {
    "duration": 358,
    "start_time": "2022-01-24T12:28:02.106Z"
   },
   {
    "duration": 18,
    "start_time": "2022-01-24T12:35:21.850Z"
   },
   {
    "duration": 66,
    "start_time": "2022-01-24T12:37:47.660Z"
   },
   {
    "duration": 15,
    "start_time": "2022-01-24T12:40:42.455Z"
   },
   {
    "duration": 44,
    "start_time": "2022-01-24T12:40:43.821Z"
   },
   {
    "duration": 176,
    "start_time": "2022-01-24T12:47:06.705Z"
   },
   {
    "duration": 3,
    "start_time": "2022-01-24T12:47:12.789Z"
   },
   {
    "duration": 24,
    "start_time": "2022-01-24T12:47:16.571Z"
   },
   {
    "duration": 189,
    "start_time": "2022-01-24T12:47:58.389Z"
   },
   {
    "duration": 194,
    "start_time": "2022-01-24T12:48:19.904Z"
   },
   {
    "duration": 4,
    "start_time": "2022-01-24T12:48:35.643Z"
   },
   {
    "duration": 385,
    "start_time": "2022-01-24T12:48:35.650Z"
   },
   {
    "duration": 28,
    "start_time": "2022-01-24T12:48:36.037Z"
   },
   {
    "duration": 31,
    "start_time": "2022-01-24T12:48:36.068Z"
   },
   {
    "duration": 20,
    "start_time": "2022-01-24T12:48:36.101Z"
   },
   {
    "duration": 14,
    "start_time": "2022-01-24T12:48:36.123Z"
   },
   {
    "duration": 19,
    "start_time": "2022-01-24T12:48:36.139Z"
   },
   {
    "duration": 391,
    "start_time": "2022-01-24T12:48:36.161Z"
   },
   {
    "duration": 10,
    "start_time": "2022-01-24T12:48:36.554Z"
   },
   {
    "duration": 54,
    "start_time": "2022-01-24T12:48:36.566Z"
   },
   {
    "duration": 22,
    "start_time": "2022-01-24T12:48:36.622Z"
   },
   {
    "duration": 199,
    "start_time": "2022-01-24T12:48:36.645Z"
   },
   {
    "duration": 5,
    "start_time": "2022-01-24T12:48:56.203Z"
   },
   {
    "duration": 730,
    "start_time": "2022-01-24T12:50:05.040Z"
   },
   {
    "duration": -899,
    "start_time": "2022-01-24T12:50:06.671Z"
   },
   {
    "duration": 18,
    "start_time": "2022-01-24T12:50:20.056Z"
   },
   {
    "duration": 5,
    "start_time": "2022-01-24T12:50:21.595Z"
   },
   {
    "duration": 16,
    "start_time": "2022-01-24T12:51:25.318Z"
   },
   {
    "duration": 4,
    "start_time": "2022-01-24T12:51:31.131Z"
   },
   {
    "duration": 4,
    "start_time": "2022-01-24T12:53:00.005Z"
   },
   {
    "duration": 404,
    "start_time": "2022-01-24T12:53:00.011Z"
   },
   {
    "duration": 29,
    "start_time": "2022-01-24T12:53:00.417Z"
   },
   {
    "duration": 14,
    "start_time": "2022-01-24T12:53:00.448Z"
   },
   {
    "duration": 37,
    "start_time": "2022-01-24T12:53:00.463Z"
   },
   {
    "duration": 12,
    "start_time": "2022-01-24T12:53:00.502Z"
   },
   {
    "duration": 16,
    "start_time": "2022-01-24T12:53:00.517Z"
   },
   {
    "duration": 378,
    "start_time": "2022-01-24T12:53:00.534Z"
   },
   {
    "duration": 7,
    "start_time": "2022-01-24T12:53:00.914Z"
   },
   {
    "duration": 43,
    "start_time": "2022-01-24T12:53:00.923Z"
   },
   {
    "duration": 20,
    "start_time": "2022-01-24T12:53:00.968Z"
   },
   {
    "duration": 63,
    "start_time": "2022-01-24T12:53:00.989Z"
   },
   {
    "duration": 194,
    "start_time": "2022-01-24T12:53:11.176Z"
   },
   {
    "duration": 192,
    "start_time": "2022-01-24T12:53:55.731Z"
   },
   {
    "duration": 195,
    "start_time": "2022-01-24T12:54:19.046Z"
   },
   {
    "duration": 17,
    "start_time": "2022-01-24T12:54:53.224Z"
   },
   {
    "duration": 179,
    "start_time": "2022-01-24T12:54:55.566Z"
   },
   {
    "duration": 5,
    "start_time": "2022-01-24T12:55:00.173Z"
   },
   {
    "duration": 4,
    "start_time": "2022-01-24T12:57:56.231Z"
   },
   {
    "duration": 3,
    "start_time": "2022-01-24T12:58:06.685Z"
   },
   {
    "duration": 170,
    "start_time": "2022-01-24T12:58:37.097Z"
   },
   {
    "duration": 3,
    "start_time": "2022-01-24T12:58:44.283Z"
   },
   {
    "duration": 234,
    "start_time": "2022-01-24T12:58:44.849Z"
   },
   {
    "duration": 8,
    "start_time": "2022-01-24T12:59:01.993Z"
   },
   {
    "duration": 194,
    "start_time": "2022-01-24T12:59:04.702Z"
   },
   {
    "duration": 8,
    "start_time": "2022-01-24T12:59:35.060Z"
   },
   {
    "duration": 11,
    "start_time": "2022-01-24T12:59:36.155Z"
   },
   {
    "duration": 12,
    "start_time": "2022-01-24T12:59:57.389Z"
   },
   {
    "duration": 8,
    "start_time": "2022-01-24T12:59:58.310Z"
   },
   {
    "duration": 23,
    "start_time": "2022-01-24T13:01:03.017Z"
   },
   {
    "duration": 10,
    "start_time": "2022-01-24T13:01:04.163Z"
   },
   {
    "duration": 8,
    "start_time": "2022-01-24T13:01:26.277Z"
   },
   {
    "duration": 8,
    "start_time": "2022-01-24T13:03:00.826Z"
   },
   {
    "duration": 15,
    "start_time": "2022-01-24T13:04:59.730Z"
   },
   {
    "duration": 4,
    "start_time": "2022-01-24T14:29:18.767Z"
   },
   {
    "duration": 193,
    "start_time": "2022-01-24T14:31:30.133Z"
   },
   {
    "duration": 188,
    "start_time": "2022-01-24T14:31:37.126Z"
   },
   {
    "duration": 3,
    "start_time": "2022-01-24T14:31:49.129Z"
   },
   {
    "duration": 1949,
    "start_time": "2022-01-24T14:40:03.852Z"
   },
   {
    "duration": 3,
    "start_time": "2022-01-24T15:27:47.045Z"
   },
   {
    "duration": 4,
    "start_time": "2022-01-24T15:27:52.084Z"
   },
   {
    "duration": 4,
    "start_time": "2022-01-24T15:28:06.977Z"
   },
   {
    "duration": 5,
    "start_time": "2022-01-24T15:28:39.195Z"
   },
   {
    "duration": 5,
    "start_time": "2022-01-24T15:28:59.815Z"
   },
   {
    "duration": 4,
    "start_time": "2022-01-24T15:29:13.587Z"
   },
   {
    "duration": 4,
    "start_time": "2022-01-24T15:38:11.642Z"
   },
   {
    "duration": 2106,
    "start_time": "2022-01-24T15:46:34.991Z"
   },
   {
    "duration": 4,
    "start_time": "2022-01-24T15:46:38.363Z"
   },
   {
    "duration": 4,
    "start_time": "2022-01-24T15:46:40.625Z"
   },
   {
    "duration": 4,
    "start_time": "2022-01-24T15:47:13.230Z"
   },
   {
    "duration": 4,
    "start_time": "2022-01-24T15:47:19.493Z"
   },
   {
    "duration": 183,
    "start_time": "2022-01-24T15:48:21.710Z"
   },
   {
    "duration": 1763,
    "start_time": "2022-01-24T15:48:40.335Z"
   },
   {
    "duration": 5,
    "start_time": "2022-01-24T15:49:17.214Z"
   },
   {
    "duration": 4,
    "start_time": "2022-01-24T15:54:18.834Z"
   },
   {
    "duration": 3,
    "start_time": "2022-01-24T15:59:31.915Z"
   },
   {
    "duration": 4,
    "start_time": "2022-01-24T15:59:41.688Z"
   },
   {
    "duration": 2024,
    "start_time": "2022-01-24T16:00:07.577Z"
   },
   {
    "duration": 5,
    "start_time": "2022-01-24T16:00:10.092Z"
   },
   {
    "duration": 178,
    "start_time": "2022-01-24T16:01:26.495Z"
   },
   {
    "duration": 512,
    "start_time": "2022-01-24T16:06:18.389Z"
   },
   {
    "duration": 1012,
    "start_time": "2022-01-24T16:06:23.790Z"
   },
   {
    "duration": 3,
    "start_time": "2022-01-24T16:07:13.753Z"
   },
   {
    "duration": 1574,
    "start_time": "2022-01-24T16:07:35.227Z"
   },
   {
    "duration": 5,
    "start_time": "2022-01-24T16:08:00.162Z"
   },
   {
    "duration": 4,
    "start_time": "2022-01-24T16:08:08.893Z"
   },
   {
    "duration": 1954,
    "start_time": "2022-01-24T16:09:52.654Z"
   },
   {
    "duration": 4,
    "start_time": "2022-01-24T16:09:56.008Z"
   },
   {
    "duration": 657,
    "start_time": "2022-01-24T16:16:28.943Z"
   },
   {
    "duration": 5,
    "start_time": "2022-01-24T16:16:31.938Z"
   },
   {
    "duration": 579,
    "start_time": "2022-01-24T16:19:36.606Z"
   },
   {
    "duration": 174,
    "start_time": "2022-01-24T16:19:56.032Z"
   },
   {
    "duration": 185,
    "start_time": "2022-01-24T16:20:02.627Z"
   },
   {
    "duration": 516,
    "start_time": "2022-01-24T16:20:13.994Z"
   },
   {
    "duration": 1481,
    "start_time": "2022-01-24T16:37:46.119Z"
   },
   {
    "duration": 4,
    "start_time": "2022-01-24T16:37:49.258Z"
   },
   {
    "duration": 6,
    "start_time": "2022-01-24T16:47:12.873Z"
   },
   {
    "duration": 5,
    "start_time": "2022-01-24T16:47:23.280Z"
   },
   {
    "duration": 6,
    "start_time": "2022-01-24T16:47:52.137Z"
   },
   {
    "duration": 6,
    "start_time": "2022-01-24T16:53:38.581Z"
   },
   {
    "duration": 4,
    "start_time": "2022-01-24T17:00:46.758Z"
   },
   {
    "duration": 83,
    "start_time": "2022-01-24T17:02:01.961Z"
   },
   {
    "duration": 180,
    "start_time": "2022-01-24T17:02:09.387Z"
   },
   {
    "duration": 172,
    "start_time": "2022-01-24T17:02:25.199Z"
   },
   {
    "duration": 5,
    "start_time": "2022-01-24T17:02:32.242Z"
   },
   {
    "duration": 7,
    "start_time": "2022-01-24T17:02:36.534Z"
   },
   {
    "duration": 5,
    "start_time": "2022-01-24T17:04:49.122Z"
   },
   {
    "duration": 8,
    "start_time": "2022-01-24T17:04:51.509Z"
   },
   {
    "duration": 177,
    "start_time": "2022-01-24T17:06:06.816Z"
   },
   {
    "duration": 6,
    "start_time": "2022-01-24T17:06:36.445Z"
   },
   {
    "duration": 9,
    "start_time": "2022-01-24T17:06:37.179Z"
   },
   {
    "duration": 7,
    "start_time": "2022-01-24T17:08:27.545Z"
   },
   {
    "duration": 9,
    "start_time": "2022-01-24T17:08:28.159Z"
   },
   {
    "duration": 196,
    "start_time": "2022-01-24T17:10:57.503Z"
   },
   {
    "duration": 7,
    "start_time": "2022-01-24T17:12:31.717Z"
   },
   {
    "duration": 5,
    "start_time": "2022-01-24T17:12:45.314Z"
   },
   {
    "duration": 228,
    "start_time": "2022-01-24T17:13:05.406Z"
   },
   {
    "duration": 202,
    "start_time": "2022-01-24T17:13:16.774Z"
   },
   {
    "duration": 7,
    "start_time": "2022-01-24T17:13:43.922Z"
   },
   {
    "duration": 35,
    "start_time": "2022-01-24T17:15:26.257Z"
   },
   {
    "duration": 8,
    "start_time": "2022-01-24T17:15:36.214Z"
   },
   {
    "duration": 1134,
    "start_time": "2022-01-25T09:04:13.530Z"
   },
   {
    "duration": 490,
    "start_time": "2022-01-25T09:04:14.666Z"
   },
   {
    "duration": 36,
    "start_time": "2022-01-25T09:04:15.158Z"
   },
   {
    "duration": 11,
    "start_time": "2022-01-25T09:04:15.196Z"
   },
   {
    "duration": 13,
    "start_time": "2022-01-25T09:04:15.209Z"
   },
   {
    "duration": 10,
    "start_time": "2022-01-25T09:04:15.223Z"
   },
   {
    "duration": 38,
    "start_time": "2022-01-25T09:04:15.235Z"
   },
   {
    "duration": 314,
    "start_time": "2022-01-25T09:04:15.275Z"
   },
   {
    "duration": 14,
    "start_time": "2022-01-25T09:04:15.591Z"
   },
   {
    "duration": 67,
    "start_time": "2022-01-25T09:04:15.606Z"
   },
   {
    "duration": 2,
    "start_time": "2022-01-25T09:04:15.674Z"
   },
   {
    "duration": 433,
    "start_time": "2022-01-25T09:04:15.678Z"
   },
   {
    "duration": -390,
    "start_time": "2022-01-25T09:04:16.502Z"
   },
   {
    "duration": -394,
    "start_time": "2022-01-25T09:04:16.507Z"
   },
   {
    "duration": -397,
    "start_time": "2022-01-25T09:04:16.511Z"
   },
   {
    "duration": -402,
    "start_time": "2022-01-25T09:04:16.517Z"
   },
   {
    "duration": -406,
    "start_time": "2022-01-25T09:04:16.522Z"
   },
   {
    "duration": -411,
    "start_time": "2022-01-25T09:04:16.528Z"
   },
   {
    "duration": -423,
    "start_time": "2022-01-25T09:04:16.541Z"
   },
   {
    "duration": -428,
    "start_time": "2022-01-25T09:04:16.546Z"
   },
   {
    "duration": -431,
    "start_time": "2022-01-25T09:04:16.550Z"
   },
   {
    "duration": 3,
    "start_time": "2022-01-25T09:04:44.852Z"
   },
   {
    "duration": 354,
    "start_time": "2022-01-25T09:04:44.857Z"
   },
   {
    "duration": 22,
    "start_time": "2022-01-25T09:04:45.214Z"
   },
   {
    "duration": 11,
    "start_time": "2022-01-25T09:04:45.238Z"
   },
   {
    "duration": 23,
    "start_time": "2022-01-25T09:04:45.250Z"
   },
   {
    "duration": 10,
    "start_time": "2022-01-25T09:04:45.274Z"
   },
   {
    "duration": 10,
    "start_time": "2022-01-25T09:04:45.286Z"
   },
   {
    "duration": 318,
    "start_time": "2022-01-25T09:04:45.298Z"
   },
   {
    "duration": 10,
    "start_time": "2022-01-25T09:04:45.619Z"
   },
   {
    "duration": 55,
    "start_time": "2022-01-25T09:04:45.631Z"
   },
   {
    "duration": 2,
    "start_time": "2022-01-25T09:04:45.688Z"
   },
   {
    "duration": 20,
    "start_time": "2022-01-25T09:04:45.692Z"
   },
   {
    "duration": 8,
    "start_time": "2022-01-25T09:04:45.713Z"
   },
   {
    "duration": 2,
    "start_time": "2022-01-25T09:04:45.723Z"
   },
   {
    "duration": 1549,
    "start_time": "2022-01-25T09:04:45.726Z"
   },
   {
    "duration": 5,
    "start_time": "2022-01-25T09:04:47.277Z"
   },
   {
    "duration": 1091,
    "start_time": "2022-01-25T09:04:47.283Z"
   },
   {
    "duration": 94,
    "start_time": "2022-01-25T09:04:48.380Z"
   },
   {
    "duration": 351,
    "start_time": "2022-01-25T09:04:48.475Z"
   },
   {
    "duration": -359,
    "start_time": "2022-01-25T09:04:49.187Z"
   },
   {
    "duration": -361,
    "start_time": "2022-01-25T09:04:49.190Z"
   },
   {
    "duration": 8,
    "start_time": "2022-01-25T09:14:02.144Z"
   },
   {
    "duration": 6,
    "start_time": "2022-01-25T09:14:58.682Z"
   },
   {
    "duration": 8,
    "start_time": "2022-01-25T09:15:07.173Z"
   },
   {
    "duration": 7,
    "start_time": "2022-01-25T09:15:09.078Z"
   },
   {
    "duration": 1038,
    "start_time": "2022-01-25T09:16:23.033Z"
   },
   {
    "duration": 342,
    "start_time": "2022-01-25T09:16:24.073Z"
   },
   {
    "duration": 24,
    "start_time": "2022-01-25T09:16:24.417Z"
   },
   {
    "duration": 12,
    "start_time": "2022-01-25T09:16:24.443Z"
   },
   {
    "duration": 14,
    "start_time": "2022-01-25T09:16:24.472Z"
   },
   {
    "duration": 11,
    "start_time": "2022-01-25T09:16:24.488Z"
   },
   {
    "duration": 11,
    "start_time": "2022-01-25T09:16:24.501Z"
   },
   {
    "duration": 335,
    "start_time": "2022-01-25T09:16:24.515Z"
   },
   {
    "duration": 10,
    "start_time": "2022-01-25T09:16:24.852Z"
   },
   {
    "duration": 38,
    "start_time": "2022-01-25T09:16:24.872Z"
   },
   {
    "duration": 3,
    "start_time": "2022-01-25T09:16:24.911Z"
   },
   {
    "duration": 29,
    "start_time": "2022-01-25T09:16:24.915Z"
   },
   {
    "duration": 27,
    "start_time": "2022-01-25T09:16:24.946Z"
   },
   {
    "duration": 2,
    "start_time": "2022-01-25T09:16:24.974Z"
   },
   {
    "duration": 2002,
    "start_time": "2022-01-25T09:16:24.978Z"
   },
   {
    "duration": 5,
    "start_time": "2022-01-25T09:16:27.073Z"
   },
   {
    "duration": 793,
    "start_time": "2022-01-25T09:16:27.081Z"
   },
   {
    "duration": 97,
    "start_time": "2022-01-25T09:16:27.876Z"
   },
   {
    "duration": 7,
    "start_time": "2022-01-25T09:16:27.975Z"
   },
   {
    "duration": 88,
    "start_time": "2022-01-25T09:16:27.984Z"
   },
   {
    "duration": 7,
    "start_time": "2022-01-25T09:16:28.074Z"
   },
   {
    "duration": 6,
    "start_time": "2022-01-25T09:16:47.015Z"
   },
   {
    "duration": 7,
    "start_time": "2022-01-25T09:16:47.683Z"
   },
   {
    "duration": 4,
    "start_time": "2022-01-25T09:17:16.603Z"
   },
   {
    "duration": 7,
    "start_time": "2022-01-25T09:17:17.670Z"
   },
   {
    "duration": 8,
    "start_time": "2022-01-25T09:17:18.153Z"
   },
   {
    "duration": 7,
    "start_time": "2022-01-25T09:21:26.705Z"
   },
   {
    "duration": 7,
    "start_time": "2022-01-25T09:21:27.146Z"
   },
   {
    "duration": 7,
    "start_time": "2022-01-25T09:21:38.290Z"
   },
   {
    "duration": 7,
    "start_time": "2022-01-25T09:21:39.991Z"
   },
   {
    "duration": 398,
    "start_time": "2022-01-25T09:29:26.320Z"
   },
   {
    "duration": 331,
    "start_time": "2022-01-25T09:29:36.910Z"
   },
   {
    "duration": 1142,
    "start_time": "2022-01-25T09:30:04.244Z"
   },
   {
    "duration": 1121,
    "start_time": "2022-01-25T09:30:10.720Z"
   },
   {
    "duration": 17058,
    "start_time": "2022-01-25T09:30:49.407Z"
   },
   {
    "duration": 16824,
    "start_time": "2022-01-25T09:31:21.208Z"
   },
   {
    "duration": 16955,
    "start_time": "2022-01-25T09:31:45.184Z"
   },
   {
    "duration": 16733,
    "start_time": "2022-01-25T09:32:02.141Z"
   },
   {
    "duration": 288,
    "start_time": "2022-01-25T09:41:46.701Z"
   },
   {
    "duration": 10,
    "start_time": "2022-01-25T09:42:17.078Z"
   },
   {
    "duration": 7,
    "start_time": "2022-01-25T09:42:23.987Z"
   },
   {
    "duration": 6,
    "start_time": "2022-01-25T09:43:05.362Z"
   },
   {
    "duration": 4,
    "start_time": "2022-01-25T09:43:21.029Z"
   },
   {
    "duration": 7,
    "start_time": "2022-01-25T09:43:33.174Z"
   },
   {
    "duration": 4,
    "start_time": "2022-01-25T09:43:35.595Z"
   },
   {
    "duration": 9,
    "start_time": "2022-01-25T09:43:45.665Z"
   },
   {
    "duration": 4,
    "start_time": "2022-01-25T09:43:46.162Z"
   },
   {
    "duration": 7,
    "start_time": "2022-01-25T09:44:05.253Z"
   },
   {
    "duration": 12,
    "start_time": "2022-01-25T09:44:10.495Z"
   },
   {
    "duration": 6,
    "start_time": "2022-01-25T09:44:10.906Z"
   },
   {
    "duration": 4,
    "start_time": "2022-01-25T09:44:11.802Z"
   },
   {
    "duration": 7,
    "start_time": "2022-01-25T09:44:51.933Z"
   },
   {
    "duration": 7,
    "start_time": "2022-01-25T09:44:52.485Z"
   },
   {
    "duration": 4,
    "start_time": "2022-01-25T09:44:53.671Z"
   },
   {
    "duration": 7,
    "start_time": "2022-01-25T09:45:38.549Z"
   },
   {
    "duration": 7,
    "start_time": "2022-01-25T09:45:39.397Z"
   },
   {
    "duration": 3,
    "start_time": "2022-01-25T09:45:43.821Z"
   },
   {
    "duration": 354,
    "start_time": "2022-01-25T09:46:38.536Z"
   },
   {
    "duration": 8,
    "start_time": "2022-01-25T09:46:39.117Z"
   },
   {
    "duration": 33,
    "start_time": "2022-01-25T09:55:37.734Z"
   },
   {
    "duration": 34,
    "start_time": "2022-01-25T09:55:47.350Z"
   },
   {
    "duration": 32,
    "start_time": "2022-01-25T09:55:50.853Z"
   },
   {
    "duration": 753,
    "start_time": "2022-01-25T10:10:21.318Z"
   },
   {
    "duration": 10,
    "start_time": "2022-01-25T10:13:16.960Z"
   },
   {
    "duration": 11,
    "start_time": "2022-01-25T10:13:47.221Z"
   },
   {
    "duration": 10,
    "start_time": "2022-01-25T10:13:50.317Z"
   },
   {
    "duration": 12,
    "start_time": "2022-01-25T10:13:53.343Z"
   },
   {
    "duration": 4,
    "start_time": "2022-01-25T10:16:45.890Z"
   },
   {
    "duration": 4,
    "start_time": "2022-01-25T10:16:56.730Z"
   },
   {
    "duration": 3,
    "start_time": "2022-01-25T10:17:07.323Z"
   },
   {
    "duration": 3,
    "start_time": "2022-01-25T10:19:43.183Z"
   },
   {
    "duration": 3,
    "start_time": "2022-01-25T10:19:44.883Z"
   },
   {
    "duration": 3,
    "start_time": "2022-01-25T10:19:57.772Z"
   },
   {
    "duration": 4,
    "start_time": "2022-01-25T10:19:58.292Z"
   },
   {
    "duration": 301,
    "start_time": "2022-01-25T11:04:53.862Z"
   },
   {
    "duration": 4,
    "start_time": "2022-01-25T11:04:58.390Z"
   },
   {
    "duration": 308,
    "start_time": "2022-01-25T11:06:56.635Z"
   },
   {
    "duration": 8,
    "start_time": "2022-01-25T11:07:00.950Z"
   },
   {
    "duration": 8,
    "start_time": "2022-01-25T11:07:01.504Z"
   },
   {
    "duration": 16,
    "start_time": "2022-01-25T11:07:47.841Z"
   },
   {
    "duration": 7,
    "start_time": "2022-01-25T11:07:49.540Z"
   },
   {
    "duration": 7,
    "start_time": "2022-01-25T11:07:55.149Z"
   },
   {
    "duration": 10,
    "start_time": "2022-01-25T11:08:06.498Z"
   },
   {
    "duration": 5,
    "start_time": "2022-01-25T11:28:34.542Z"
   },
   {
    "duration": 304,
    "start_time": "2022-01-25T11:29:27.965Z"
   },
   {
    "duration": 5,
    "start_time": "2022-01-25T11:29:33.317Z"
   },
   {
    "duration": 8,
    "start_time": "2022-01-25T11:29:34.784Z"
   },
   {
    "duration": 7,
    "start_time": "2022-01-25T11:29:35.227Z"
   },
   {
    "duration": 7,
    "start_time": "2022-01-25T11:30:56.365Z"
   },
   {
    "duration": 8,
    "start_time": "2022-01-25T11:30:56.853Z"
   },
   {
    "duration": 318,
    "start_time": "2022-01-25T11:31:12.084Z"
   },
   {
    "duration": 7,
    "start_time": "2022-01-25T11:31:16.917Z"
   },
   {
    "duration": 7,
    "start_time": "2022-01-25T11:31:17.411Z"
   },
   {
    "duration": 312,
    "start_time": "2022-01-25T11:46:59.549Z"
   },
   {
    "duration": 3,
    "start_time": "2022-01-25T11:47:01.983Z"
   },
   {
    "duration": 2,
    "start_time": "2022-01-25T11:47:03.295Z"
   },
   {
    "duration": 3,
    "start_time": "2022-01-25T11:47:09.245Z"
   },
   {
    "duration": 4,
    "start_time": "2022-01-25T11:48:47.753Z"
   },
   {
    "duration": 314,
    "start_time": "2022-01-25T11:49:07.541Z"
   },
   {
    "duration": 4,
    "start_time": "2022-01-25T11:49:16.458Z"
   },
   {
    "duration": 3,
    "start_time": "2022-01-25T11:49:49.284Z"
   },
   {
    "duration": 3,
    "start_time": "2022-01-25T11:49:50.092Z"
   },
   {
    "duration": 3,
    "start_time": "2022-01-25T11:49:53.785Z"
   },
   {
    "duration": 4,
    "start_time": "2022-01-25T11:49:54.572Z"
   },
   {
    "duration": 7,
    "start_time": "2022-01-25T11:51:18.020Z"
   },
   {
    "duration": 4,
    "start_time": "2022-01-25T13:13:14.103Z"
   },
   {
    "duration": 4,
    "start_time": "2022-01-25T13:13:19.914Z"
   },
   {
    "duration": 18,
    "start_time": "2022-01-25T13:14:43.051Z"
   },
   {
    "duration": 16,
    "start_time": "2022-01-25T13:14:47.450Z"
   },
   {
    "duration": 3,
    "start_time": "2022-01-25T13:44:57.446Z"
   },
   {
    "duration": 296,
    "start_time": "2022-01-25T13:58:34.062Z"
   },
   {
    "duration": 297,
    "start_time": "2022-01-25T13:59:20.758Z"
   },
   {
    "duration": 7,
    "start_time": "2022-01-25T13:59:30.509Z"
   },
   {
    "duration": 8,
    "start_time": "2022-01-25T14:01:25.234Z"
   },
   {
    "duration": 8,
    "start_time": "2022-01-25T14:27:06.965Z"
   },
   {
    "duration": 3,
    "start_time": "2022-01-25T14:28:03.766Z"
   },
   {
    "duration": 10,
    "start_time": "2022-01-25T14:28:04.362Z"
   },
   {
    "duration": 9,
    "start_time": "2022-01-25T14:28:26.296Z"
   },
   {
    "duration": 6,
    "start_time": "2022-01-25T14:34:43.449Z"
   },
   {
    "duration": 6,
    "start_time": "2022-01-25T14:34:44.060Z"
   },
   {
    "duration": 7,
    "start_time": "2022-01-25T14:34:57.670Z"
   },
   {
    "duration": 4,
    "start_time": "2022-01-25T15:17:29.945Z"
   },
   {
    "duration": 9,
    "start_time": "2022-01-25T15:17:30.481Z"
   },
   {
    "duration": 10,
    "start_time": "2022-01-25T15:22:32.014Z"
   },
   {
    "duration": 305,
    "start_time": "2022-01-25T15:30:56.824Z"
   },
   {
    "duration": 323,
    "start_time": "2022-01-25T15:40:34.821Z"
   },
   {
    "duration": 304,
    "start_time": "2022-01-25T15:46:07.028Z"
   },
   {
    "duration": 4,
    "start_time": "2022-01-25T15:54:27.631Z"
   },
   {
    "duration": 4,
    "start_time": "2022-01-25T15:54:28.320Z"
   },
   {
    "duration": 5,
    "start_time": "2022-01-25T15:57:54.107Z"
   },
   {
    "duration": 6,
    "start_time": "2022-01-25T15:57:58.626Z"
   },
   {
    "duration": 5,
    "start_time": "2022-01-25T15:58:04.682Z"
   },
   {
    "duration": 4,
    "start_time": "2022-01-25T15:59:38.326Z"
   },
   {
    "duration": 7,
    "start_time": "2022-01-25T15:59:38.931Z"
   },
   {
    "duration": 5,
    "start_time": "2022-01-25T15:59:49.418Z"
   },
   {
    "duration": 5,
    "start_time": "2022-01-25T16:00:01.775Z"
   },
   {
    "duration": 2238,
    "start_time": "2022-01-25T16:01:10.203Z"
   },
   {
    "duration": 5,
    "start_time": "2022-01-25T16:01:21.129Z"
   },
   {
    "duration": 379,
    "start_time": "2022-01-26T07:32:05.575Z"
   },
   {
    "duration": 1820,
    "start_time": "2022-01-26T07:32:11.599Z"
   },
   {
    "duration": 621,
    "start_time": "2022-01-26T07:32:13.422Z"
   },
   {
    "duration": 58,
    "start_time": "2022-01-26T07:32:14.049Z"
   },
   {
    "duration": 42,
    "start_time": "2022-01-26T07:32:14.111Z"
   },
   {
    "duration": 93,
    "start_time": "2022-01-26T07:32:14.157Z"
   },
   {
    "duration": 50,
    "start_time": "2022-01-26T07:32:14.253Z"
   },
   {
    "duration": 76,
    "start_time": "2022-01-26T07:32:14.305Z"
   },
   {
    "duration": 642,
    "start_time": "2022-01-26T07:32:14.383Z"
   },
   {
    "duration": 26347,
    "start_time": "2022-01-26T07:32:15.031Z"
   },
   {
    "duration": 24714,
    "start_time": "2022-01-26T07:32:41.381Z"
   },
   {
    "duration": 25387,
    "start_time": "2022-01-26T07:33:06.098Z"
   },
   {
    "duration": 15,
    "start_time": "2022-01-26T07:33:31.487Z"
   },
   {
    "duration": 71,
    "start_time": "2022-01-26T07:33:31.505Z"
   },
   {
    "duration": 4,
    "start_time": "2022-01-26T07:33:31.578Z"
   },
   {
    "duration": 41,
    "start_time": "2022-01-26T07:33:31.584Z"
   },
   {
    "duration": 22,
    "start_time": "2022-01-26T07:33:31.628Z"
   },
   {
    "duration": 23,
    "start_time": "2022-01-26T07:33:31.653Z"
   },
   {
    "duration": 1974,
    "start_time": "2022-01-26T07:33:31.679Z"
   },
   {
    "duration": 95,
    "start_time": "2022-01-26T07:33:33.656Z"
   },
   {
    "duration": 903,
    "start_time": "2022-01-26T07:33:33.848Z"
   },
   {
    "duration": 201,
    "start_time": "2022-01-26T07:33:34.755Z"
   },
   {
    "duration": 9,
    "start_time": "2022-01-26T07:33:34.958Z"
   },
   {
    "duration": 10,
    "start_time": "2022-01-26T07:33:34.969Z"
   },
   {
    "duration": 10,
    "start_time": "2022-01-26T07:33:34.982Z"
   },
   {
    "duration": 8,
    "start_time": "2022-01-26T07:33:34.994Z"
   },
   {
    "duration": 44,
    "start_time": "2022-01-26T07:33:35.005Z"
   },
   {
    "duration": 11,
    "start_time": "2022-01-26T07:33:35.053Z"
   },
   {
    "duration": 11,
    "start_time": "2022-01-26T07:33:35.068Z"
   },
   {
    "duration": 13,
    "start_time": "2022-01-26T07:33:35.081Z"
   },
   {
    "duration": 19,
    "start_time": "2022-01-26T07:33:35.096Z"
   },
   {
    "duration": 39,
    "start_time": "2022-01-26T07:33:35.117Z"
   },
   {
    "duration": 4014,
    "start_time": "2022-01-26T07:33:35.159Z"
   },
   {
    "duration": 3,
    "start_time": "2022-01-26T07:33:39.176Z"
   },
   {
    "duration": 15,
    "start_time": "2022-01-26T07:35:27.944Z"
   },
   {
    "duration": 374,
    "start_time": "2022-01-26T07:35:51.512Z"
   },
   {
    "duration": 301,
    "start_time": "2022-01-26T07:36:03.489Z"
   },
   {
    "duration": 14,
    "start_time": "2022-01-26T07:36:10.210Z"
   },
   {
    "duration": 10,
    "start_time": "2022-01-26T07:36:41.738Z"
   },
   {
    "duration": 13,
    "start_time": "2022-01-26T07:36:51.261Z"
   },
   {
    "duration": 18,
    "start_time": "2022-01-26T07:37:11.445Z"
   },
   {
    "duration": 14,
    "start_time": "2022-01-26T07:38:03.128Z"
   },
   {
    "duration": 13,
    "start_time": "2022-01-26T07:38:19.788Z"
   },
   {
    "duration": 12,
    "start_time": "2022-01-26T07:38:29.066Z"
   },
   {
    "duration": 14,
    "start_time": "2022-01-26T07:39:08.914Z"
   },
   {
    "duration": 636,
    "start_time": "2022-01-26T08:16:42.862Z"
   },
   {
    "duration": 28350,
    "start_time": "2022-01-26T08:19:06.941Z"
   },
   {
    "duration": 27932,
    "start_time": "2022-01-26T08:19:58.661Z"
   },
   {
    "duration": 307,
    "start_time": "2022-01-26T08:22:43.780Z"
   },
   {
    "duration": 10,
    "start_time": "2022-01-26T08:22:51.800Z"
   },
   {
    "duration": 397,
    "start_time": "2022-01-26T08:25:04.962Z"
   },
   {
    "duration": 10,
    "start_time": "2022-01-26T08:25:40.916Z"
   },
   {
    "duration": 12,
    "start_time": "2022-01-26T08:25:41.076Z"
   },
   {
    "duration": 4567,
    "start_time": "2022-01-26T08:26:38.306Z"
   },
   {
    "duration": 309,
    "start_time": "2022-01-26T08:26:59.340Z"
   },
   {
    "duration": 334,
    "start_time": "2022-01-26T08:28:33.590Z"
   },
   {
    "duration": 5,
    "start_time": "2022-01-26T08:29:01.505Z"
   },
   {
    "duration": 14,
    "start_time": "2022-01-26T08:29:02.657Z"
   },
   {
    "duration": 19,
    "start_time": "2022-01-26T08:29:03.149Z"
   },
   {
    "duration": 4909,
    "start_time": "2022-01-26T08:29:04.301Z"
   },
   {
    "duration": 7,
    "start_time": "2022-01-26T08:29:11.264Z"
   },
   {
    "duration": 304,
    "start_time": "2022-01-26T08:29:29.926Z"
   },
   {
    "duration": 565,
    "start_time": "2022-01-26T08:30:33.358Z"
   },
   {
    "duration": 4345,
    "start_time": "2022-01-26T08:30:50.364Z"
   },
   {
    "duration": 586,
    "start_time": "2022-01-26T08:30:56.250Z"
   },
   {
    "duration": 306,
    "start_time": "2022-01-26T08:31:28.821Z"
   },
   {
    "duration": 335,
    "start_time": "2022-01-26T08:31:41.776Z"
   },
   {
    "duration": 756,
    "start_time": "2022-01-26T08:32:19.101Z"
   },
   {
    "duration": 330,
    "start_time": "2022-01-26T08:32:46.692Z"
   },
   {
    "duration": 335,
    "start_time": "2022-01-26T08:32:52.762Z"
   },
   {
    "duration": 316,
    "start_time": "2022-01-26T08:33:01.386Z"
   },
   {
    "duration": 486,
    "start_time": "2022-01-26T08:33:12.249Z"
   },
   {
    "duration": 625,
    "start_time": "2022-01-26T08:33:18.765Z"
   },
   {
    "duration": 4285,
    "start_time": "2022-01-26T08:36:04.415Z"
   },
   {
    "duration": 433,
    "start_time": "2022-01-26T08:36:08.703Z"
   },
   {
    "duration": 11,
    "start_time": "2022-01-26T08:39:58.102Z"
   },
   {
    "duration": 13975,
    "start_time": "2022-01-26T08:40:07.045Z"
   },
   {
    "duration": 423,
    "start_time": "2022-01-26T08:40:24.469Z"
   },
   {
    "duration": 14,
    "start_time": "2022-01-26T08:40:42.922Z"
   },
   {
    "duration": 13499,
    "start_time": "2022-01-26T08:40:49.054Z"
   },
   {
    "duration": 498,
    "start_time": "2022-01-26T08:41:05.039Z"
   },
   {
    "duration": 12867,
    "start_time": "2022-01-26T08:41:37.937Z"
   },
   {
    "duration": 419,
    "start_time": "2022-01-26T08:41:55.356Z"
   },
   {
    "duration": 12627,
    "start_time": "2022-01-26T08:42:01.750Z"
   },
   {
    "duration": 459,
    "start_time": "2022-01-26T08:42:15.461Z"
   },
   {
    "duration": 565,
    "start_time": "2022-01-26T08:43:24.232Z"
   },
   {
    "duration": 463,
    "start_time": "2022-01-26T08:43:25.662Z"
   },
   {
    "duration": 554,
    "start_time": "2022-01-26T08:43:35.225Z"
   },
   {
    "duration": 419,
    "start_time": "2022-01-26T08:43:41.357Z"
   },
   {
    "duration": 440,
    "start_time": "2022-01-26T08:43:47.197Z"
   },
   {
    "duration": 430,
    "start_time": "2022-01-26T08:43:52.605Z"
   },
   {
    "duration": 437,
    "start_time": "2022-01-26T08:43:58.788Z"
   },
   {
    "duration": 443,
    "start_time": "2022-01-26T08:44:04.269Z"
   },
   {
    "duration": 819,
    "start_time": "2022-01-26T08:48:02.597Z"
   },
   {
    "duration": 1928,
    "start_time": "2022-01-26T08:48:10.480Z"
   },
   {
    "duration": 749,
    "start_time": "2022-01-26T08:48:40.891Z"
   },
   {
    "duration": 730,
    "start_time": "2022-01-26T08:49:23.953Z"
   },
   {
    "duration": 760,
    "start_time": "2022-01-26T08:49:39.937Z"
   },
   {
    "duration": 939,
    "start_time": "2022-01-26T08:51:19.882Z"
   },
   {
    "duration": 763,
    "start_time": "2022-01-26T08:51:43.623Z"
   },
   {
    "duration": 1248,
    "start_time": "2022-01-26T08:52:04.209Z"
   },
   {
    "duration": 729,
    "start_time": "2022-01-26T08:52:37.737Z"
   },
   {
    "duration": 435,
    "start_time": "2022-01-26T08:53:17.374Z"
   },
   {
    "duration": 319,
    "start_time": "2022-01-26T08:53:28.413Z"
   },
   {
    "duration": 5,
    "start_time": "2022-01-26T09:03:30.132Z"
   },
   {
    "duration": 318,
    "start_time": "2022-01-26T09:13:46.087Z"
   },
   {
    "duration": 9,
    "start_time": "2022-01-26T09:14:12.740Z"
   },
   {
    "duration": 348,
    "start_time": "2022-01-26T09:16:14.122Z"
   },
   {
    "duration": 460,
    "start_time": "2022-01-26T09:16:21.647Z"
   },
   {
    "duration": 301,
    "start_time": "2022-01-26T09:21:12.537Z"
   },
   {
    "duration": 315,
    "start_time": "2022-01-26T09:22:30.728Z"
   },
   {
    "duration": 7,
    "start_time": "2022-01-26T09:23:01.624Z"
   },
   {
    "duration": 10,
    "start_time": "2022-01-26T09:23:13.800Z"
   },
   {
    "duration": 9,
    "start_time": "2022-01-26T09:24:33.062Z"
   },
   {
    "duration": 375,
    "start_time": "2022-01-26T09:25:07.332Z"
   },
   {
    "duration": 11,
    "start_time": "2022-01-26T09:25:14.263Z"
   },
   {
    "duration": 9,
    "start_time": "2022-01-26T09:25:32.343Z"
   },
   {
    "duration": 4,
    "start_time": "2022-01-26T09:28:56.134Z"
   },
   {
    "duration": 13016,
    "start_time": "2022-01-26T09:29:08.367Z"
   },
   {
    "duration": 443,
    "start_time": "2022-01-26T09:29:22.788Z"
   },
   {
    "duration": 450,
    "start_time": "2022-01-26T09:29:24.900Z"
   },
   {
    "duration": 463,
    "start_time": "2022-01-26T09:29:25.577Z"
   },
   {
    "duration": 6,
    "start_time": "2022-01-26T09:29:29.462Z"
   },
   {
    "duration": 4,
    "start_time": "2022-01-26T09:29:30.000Z"
   },
   {
    "duration": 9,
    "start_time": "2022-01-26T09:29:30.506Z"
   },
   {
    "duration": 10,
    "start_time": "2022-01-26T09:44:05.930Z"
   },
   {
    "duration": 9,
    "start_time": "2022-01-26T09:44:21.796Z"
   },
   {
    "duration": 9,
    "start_time": "2022-01-26T09:45:12.407Z"
   },
   {
    "duration": 11,
    "start_time": "2022-01-26T09:45:35.940Z"
   },
   {
    "duration": 6,
    "start_time": "2022-01-26T09:46:22.079Z"
   },
   {
    "duration": 6,
    "start_time": "2022-01-26T09:46:32.124Z"
   },
   {
    "duration": 8,
    "start_time": "2022-01-26T09:48:12.944Z"
   },
   {
    "duration": 9,
    "start_time": "2022-01-26T09:48:24.904Z"
   },
   {
    "duration": 10,
    "start_time": "2022-01-26T09:48:37.604Z"
   },
   {
    "duration": 11,
    "start_time": "2022-01-26T09:48:50.378Z"
   },
   {
    "duration": 495,
    "start_time": "2022-01-26T09:50:15.659Z"
   },
   {
    "duration": 8,
    "start_time": "2022-01-26T09:50:25.967Z"
   },
   {
    "duration": 8,
    "start_time": "2022-01-26T09:51:48.189Z"
   },
   {
    "duration": 7,
    "start_time": "2022-01-26T09:52:01.311Z"
   },
   {
    "duration": 8,
    "start_time": "2022-01-26T09:52:12.007Z"
   },
   {
    "duration": 7,
    "start_time": "2022-01-26T09:52:16.366Z"
   },
   {
    "duration": 7,
    "start_time": "2022-01-26T09:53:10.776Z"
   },
   {
    "duration": 8,
    "start_time": "2022-01-26T09:54:01.925Z"
   },
   {
    "duration": 9,
    "start_time": "2022-01-26T09:54:24.467Z"
   },
   {
    "duration": 12,
    "start_time": "2022-01-26T09:54:57.256Z"
   },
   {
    "duration": 9,
    "start_time": "2022-01-26T09:54:57.662Z"
   },
   {
    "duration": 9,
    "start_time": "2022-01-26T09:54:58.151Z"
   },
   {
    "duration": 6,
    "start_time": "2022-01-26T09:54:58.647Z"
   },
   {
    "duration": 7,
    "start_time": "2022-01-26T09:55:01.375Z"
   },
   {
    "duration": 8,
    "start_time": "2022-01-26T09:55:10.135Z"
   },
   {
    "duration": 17,
    "start_time": "2022-01-26T09:55:10.648Z"
   },
   {
    "duration": 8,
    "start_time": "2022-01-26T10:02:35.962Z"
   },
   {
    "duration": 7,
    "start_time": "2022-01-26T10:02:41.690Z"
   },
   {
    "duration": 9,
    "start_time": "2022-01-26T10:02:47.201Z"
   },
   {
    "duration": 7,
    "start_time": "2022-01-26T10:02:54.721Z"
   },
   {
    "duration": 7,
    "start_time": "2022-01-26T10:02:58.452Z"
   },
   {
    "duration": 8,
    "start_time": "2022-01-26T10:03:02.349Z"
   },
   {
    "duration": 8,
    "start_time": "2022-01-26T10:03:09.081Z"
   },
   {
    "duration": 7,
    "start_time": "2022-01-26T10:03:13.930Z"
   },
   {
    "duration": 7,
    "start_time": "2022-01-26T10:03:18.577Z"
   },
   {
    "duration": 8,
    "start_time": "2022-01-26T10:03:23.814Z"
   },
   {
    "duration": 7,
    "start_time": "2022-01-26T10:04:44.986Z"
   },
   {
    "duration": 291,
    "start_time": "2022-01-26T10:05:42.864Z"
   },
   {
    "duration": 8,
    "start_time": "2022-01-26T11:45:38.447Z"
   },
   {
    "duration": 7,
    "start_time": "2022-01-26T11:46:04.343Z"
   },
   {
    "duration": 9,
    "start_time": "2022-01-26T11:46:43.615Z"
   },
   {
    "duration": 13,
    "start_time": "2022-01-26T11:47:02.126Z"
   },
   {
    "duration": 9,
    "start_time": "2022-01-26T11:47:17.610Z"
   },
   {
    "duration": 9,
    "start_time": "2022-01-26T11:47:41.479Z"
   },
   {
    "duration": 7,
    "start_time": "2022-01-26T11:48:05.545Z"
   },
   {
    "duration": 8,
    "start_time": "2022-01-26T11:48:11.230Z"
   },
   {
    "duration": 8,
    "start_time": "2022-01-26T11:48:21.090Z"
   },
   {
    "duration": 8,
    "start_time": "2022-01-26T11:48:27.902Z"
   },
   {
    "duration": 10,
    "start_time": "2022-01-26T11:48:54.289Z"
   },
   {
    "duration": 9,
    "start_time": "2022-01-26T11:49:14.831Z"
   },
   {
    "duration": 9,
    "start_time": "2022-01-26T11:49:23.365Z"
   },
   {
    "duration": 11,
    "start_time": "2022-01-26T11:53:30.798Z"
   },
   {
    "duration": 8,
    "start_time": "2022-01-26T11:53:36.039Z"
   },
   {
    "duration": 9,
    "start_time": "2022-01-26T11:54:00.212Z"
   },
   {
    "duration": 7,
    "start_time": "2022-01-26T11:54:05.972Z"
   },
   {
    "duration": 7,
    "start_time": "2022-01-26T11:54:18.008Z"
   },
   {
    "duration": 9,
    "start_time": "2022-01-26T11:55:32.039Z"
   },
   {
    "duration": 8,
    "start_time": "2022-01-26T11:55:43.686Z"
   },
   {
    "duration": 7,
    "start_time": "2022-01-26T11:55:47.436Z"
   },
   {
    "duration": 9,
    "start_time": "2022-01-26T11:55:54.726Z"
   },
   {
    "duration": 7,
    "start_time": "2022-01-26T11:55:58.180Z"
   },
   {
    "duration": 10,
    "start_time": "2022-01-26T11:56:27.140Z"
   },
   {
    "duration": 10,
    "start_time": "2022-01-26T11:56:27.806Z"
   },
   {
    "duration": 9,
    "start_time": "2022-01-26T11:56:28.326Z"
   },
   {
    "duration": 7,
    "start_time": "2022-01-26T11:57:49.887Z"
   },
   {
    "duration": 5,
    "start_time": "2022-01-26T11:57:50.859Z"
   },
   {
    "duration": 4,
    "start_time": "2022-01-26T12:00:26.274Z"
   },
   {
    "duration": 9,
    "start_time": "2022-01-26T12:01:24.337Z"
   },
   {
    "duration": 7,
    "start_time": "2022-01-26T12:02:34.646Z"
   },
   {
    "duration": 6,
    "start_time": "2022-01-26T12:03:27.397Z"
   },
   {
    "duration": 8,
    "start_time": "2022-01-26T12:03:44.439Z"
   },
   {
    "duration": 419,
    "start_time": "2022-01-26T12:03:53.107Z"
   },
   {
    "duration": 8,
    "start_time": "2022-01-26T12:04:05.724Z"
   },
   {
    "duration": 536,
    "start_time": "2022-01-26T12:15:40.375Z"
   },
   {
    "duration": 499,
    "start_time": "2022-01-26T12:15:54.935Z"
   },
   {
    "duration": 558,
    "start_time": "2022-01-26T12:16:09.578Z"
   },
   {
    "duration": 5,
    "start_time": "2022-01-26T12:16:40.210Z"
   },
   {
    "duration": 6,
    "start_time": "2022-01-26T12:16:46.064Z"
   },
   {
    "duration": 729,
    "start_time": "2022-01-26T12:17:16.937Z"
   },
   {
    "duration": 524,
    "start_time": "2022-01-26T12:17:24.170Z"
   },
   {
    "duration": 554,
    "start_time": "2022-01-26T12:17:33.798Z"
   },
   {
    "duration": 820,
    "start_time": "2022-01-26T12:17:57.191Z"
   },
   {
    "duration": 555,
    "start_time": "2022-01-26T12:18:11.614Z"
   },
   {
    "duration": 282,
    "start_time": "2022-01-26T19:43:59.025Z"
   },
   {
    "duration": 1232,
    "start_time": "2022-01-26T19:44:12.873Z"
   },
   {
    "duration": 382,
    "start_time": "2022-01-26T19:44:14.107Z"
   },
   {
    "duration": 25,
    "start_time": "2022-01-26T19:44:14.491Z"
   },
   {
    "duration": 16,
    "start_time": "2022-01-26T19:44:14.518Z"
   },
   {
    "duration": 58,
    "start_time": "2022-01-26T19:44:14.536Z"
   },
   {
    "duration": 37,
    "start_time": "2022-01-26T19:44:14.596Z"
   },
   {
    "duration": 52,
    "start_time": "2022-01-26T19:44:14.635Z"
   },
   {
    "duration": 18613,
    "start_time": "2022-01-26T19:44:14.689Z"
   },
   {
    "duration": 17694,
    "start_time": "2022-01-26T19:44:33.305Z"
   },
   {
    "duration": 18208,
    "start_time": "2022-01-26T19:44:51.001Z"
   },
   {
    "duration": 341,
    "start_time": "2022-01-26T19:45:09.212Z"
   },
   {
    "duration": 14,
    "start_time": "2022-01-26T19:45:09.555Z"
   },
   {
    "duration": 45,
    "start_time": "2022-01-26T19:45:09.571Z"
   },
   {
    "duration": 3,
    "start_time": "2022-01-26T19:45:09.617Z"
   },
   {
    "duration": 46,
    "start_time": "2022-01-26T19:45:09.621Z"
   },
   {
    "duration": 7,
    "start_time": "2022-01-26T19:45:09.669Z"
   },
   {
    "duration": 4,
    "start_time": "2022-01-26T19:45:09.678Z"
   },
   {
    "duration": 1583,
    "start_time": "2022-01-26T19:45:09.684Z"
   },
   {
    "duration": 97,
    "start_time": "2022-01-26T19:45:11.270Z"
   },
   {
    "duration": 1092,
    "start_time": "2022-01-26T19:45:11.371Z"
   },
   {
    "duration": 196,
    "start_time": "2022-01-26T19:45:12.465Z"
   },
   {
    "duration": 6,
    "start_time": "2022-01-26T19:45:12.662Z"
   },
   {
    "duration": 8,
    "start_time": "2022-01-26T19:45:12.669Z"
   },
   {
    "duration": 7,
    "start_time": "2022-01-26T19:45:12.678Z"
   },
   {
    "duration": 4,
    "start_time": "2022-01-26T19:45:12.687Z"
   },
   {
    "duration": 5,
    "start_time": "2022-01-26T19:45:12.692Z"
   },
   {
    "duration": 7,
    "start_time": "2022-01-26T19:45:12.701Z"
   },
   {
    "duration": 6,
    "start_time": "2022-01-26T19:45:12.710Z"
   },
   {
    "duration": 44,
    "start_time": "2022-01-26T19:45:12.718Z"
   },
   {
    "duration": 11,
    "start_time": "2022-01-26T19:45:12.764Z"
   },
   {
    "duration": 12,
    "start_time": "2022-01-26T19:45:12.776Z"
   },
   {
    "duration": 7517,
    "start_time": "2022-01-26T19:45:12.789Z"
   },
   {
    "duration": 3,
    "start_time": "2022-01-26T19:45:20.307Z"
   },
   {
    "duration": 24,
    "start_time": "2022-01-26T19:45:20.311Z"
   },
   {
    "duration": 22,
    "start_time": "2022-01-26T19:45:20.336Z"
   },
   {
    "duration": 27,
    "start_time": "2022-01-26T19:45:20.360Z"
   },
   {
    "duration": 506,
    "start_time": "2022-01-26T19:45:20.389Z"
   },
   {
    "duration": 376,
    "start_time": "2022-01-26T19:45:20.897Z"
   },
   {
    "duration": 378,
    "start_time": "2022-01-26T19:45:21.274Z"
   },
   {
    "duration": 9,
    "start_time": "2022-01-26T19:45:21.653Z"
   },
   {
    "duration": 34,
    "start_time": "2022-01-26T19:45:21.663Z"
   },
   {
    "duration": 27,
    "start_time": "2022-01-26T19:45:21.699Z"
   },
   {
    "duration": 18,
    "start_time": "2022-01-26T19:45:21.728Z"
   },
   {
    "duration": 36,
    "start_time": "2022-01-26T19:45:21.747Z"
   },
   {
    "duration": 38,
    "start_time": "2022-01-26T19:46:14.794Z"
   },
   {
    "duration": 77,
    "start_time": "2022-01-26T19:48:09.821Z"
   },
   {
    "duration": 319,
    "start_time": "2022-01-26T19:49:05.084Z"
   },
   {
    "duration": 242,
    "start_time": "2022-01-26T19:49:15.828Z"
   },
   {
    "duration": 634,
    "start_time": "2022-01-26T19:49:26.548Z"
   },
   {
    "duration": 4,
    "start_time": "2022-01-26T19:49:36.987Z"
   },
   {
    "duration": 36,
    "start_time": "2022-01-26T19:49:43.018Z"
   },
   {
    "duration": 79,
    "start_time": "2022-01-26T19:49:58.116Z"
   },
   {
    "duration": 84,
    "start_time": "2022-01-26T19:50:29.651Z"
   },
   {
    "duration": 3,
    "start_time": "2022-01-26T19:50:36.523Z"
   },
   {
    "duration": 36,
    "start_time": "2022-01-26T19:50:46.519Z"
   },
   {
    "duration": 264,
    "start_time": "2022-01-26T19:50:50.650Z"
   },
   {
    "duration": 37,
    "start_time": "2022-01-26T19:53:02.643Z"
   },
   {
    "duration": 37,
    "start_time": "2022-01-26T19:53:07.482Z"
   },
   {
    "duration": 83,
    "start_time": "2022-01-26T19:53:34.881Z"
   },
   {
    "duration": 140,
    "start_time": "2022-01-26T19:54:03.448Z"
   },
   {
    "duration": 37,
    "start_time": "2022-01-26T19:54:20.084Z"
   },
   {
    "duration": 39,
    "start_time": "2022-01-26T19:54:20.561Z"
   },
   {
    "duration": 35,
    "start_time": "2022-01-26T19:54:21.322Z"
   },
   {
    "duration": 17843,
    "start_time": "2022-01-26T19:54:58.738Z"
   },
   {
    "duration": 218,
    "start_time": "2022-01-27T07:47:49.912Z"
   },
   {
    "duration": 1062,
    "start_time": "2022-01-27T07:47:55.387Z"
   },
   {
    "duration": 352,
    "start_time": "2022-01-27T07:47:56.451Z"
   },
   {
    "duration": 27,
    "start_time": "2022-01-27T07:47:56.805Z"
   },
   {
    "duration": 12,
    "start_time": "2022-01-27T07:47:56.834Z"
   },
   {
    "duration": 43,
    "start_time": "2022-01-27T07:47:56.847Z"
   },
   {
    "duration": 51,
    "start_time": "2022-01-27T07:47:56.892Z"
   },
   {
    "duration": 33,
    "start_time": "2022-01-27T07:47:56.944Z"
   },
   {
    "duration": 16735,
    "start_time": "2022-01-27T07:47:56.979Z"
   },
   {
    "duration": 16631,
    "start_time": "2022-01-27T07:48:13.716Z"
   },
   {
    "duration": 16565,
    "start_time": "2022-01-27T07:48:30.349Z"
   },
   {
    "duration": 325,
    "start_time": "2022-01-27T07:48:46.916Z"
   },
   {
    "duration": 9,
    "start_time": "2022-01-27T07:48:47.243Z"
   },
   {
    "duration": 41,
    "start_time": "2022-01-27T07:48:47.254Z"
   },
   {
    "duration": 16,
    "start_time": "2022-01-27T07:48:47.297Z"
   },
   {
    "duration": 24,
    "start_time": "2022-01-27T07:48:47.315Z"
   },
   {
    "duration": 8,
    "start_time": "2022-01-27T07:48:47.341Z"
   },
   {
    "duration": 3,
    "start_time": "2022-01-27T07:48:47.351Z"
   },
   {
    "duration": 1459,
    "start_time": "2022-01-27T07:48:47.356Z"
   },
   {
    "duration": 94,
    "start_time": "2022-01-27T07:48:48.817Z"
   },
   {
    "duration": 897,
    "start_time": "2022-01-27T07:48:48.915Z"
   },
   {
    "duration": 271,
    "start_time": "2022-01-27T07:48:49.815Z"
   },
   {
    "duration": -976,
    "start_time": "2022-01-27T07:48:51.065Z"
   },
   {
    "duration": -979,
    "start_time": "2022-01-27T07:48:51.068Z"
   },
   {
    "duration": -983,
    "start_time": "2022-01-27T07:48:51.073Z"
   },
   {
    "duration": -985,
    "start_time": "2022-01-27T07:48:51.076Z"
   },
   {
    "duration": -988,
    "start_time": "2022-01-27T07:48:51.080Z"
   },
   {
    "duration": -990,
    "start_time": "2022-01-27T07:48:51.083Z"
   },
   {
    "duration": -993,
    "start_time": "2022-01-27T07:48:51.086Z"
   },
   {
    "duration": -996,
    "start_time": "2022-01-27T07:48:51.090Z"
   },
   {
    "duration": -997,
    "start_time": "2022-01-27T07:48:51.092Z"
   },
   {
    "duration": -1000,
    "start_time": "2022-01-27T07:48:51.096Z"
   },
   {
    "duration": -1002,
    "start_time": "2022-01-27T07:48:51.099Z"
   },
   {
    "duration": -1004,
    "start_time": "2022-01-27T07:48:51.102Z"
   },
   {
    "duration": -1006,
    "start_time": "2022-01-27T07:48:51.104Z"
   },
   {
    "duration": -1008,
    "start_time": "2022-01-27T07:48:51.107Z"
   },
   {
    "duration": -1010,
    "start_time": "2022-01-27T07:48:51.110Z"
   },
   {
    "duration": -1012,
    "start_time": "2022-01-27T07:48:51.113Z"
   },
   {
    "duration": -1015,
    "start_time": "2022-01-27T07:48:51.117Z"
   },
   {
    "duration": -1017,
    "start_time": "2022-01-27T07:48:51.120Z"
   },
   {
    "duration": -1018,
    "start_time": "2022-01-27T07:48:51.122Z"
   },
   {
    "duration": -1021,
    "start_time": "2022-01-27T07:48:51.125Z"
   },
   {
    "duration": -1023,
    "start_time": "2022-01-27T07:48:51.128Z"
   },
   {
    "duration": -1025,
    "start_time": "2022-01-27T07:48:51.131Z"
   },
   {
    "duration": -1027,
    "start_time": "2022-01-27T07:48:51.134Z"
   },
   {
    "duration": -1030,
    "start_time": "2022-01-27T07:48:51.138Z"
   },
   {
    "duration": 11,
    "start_time": "2022-01-27T07:49:06.642Z"
   },
   {
    "duration": 17,
    "start_time": "2022-01-27T07:49:10.480Z"
   },
   {
    "duration": 5,
    "start_time": "2022-01-27T07:49:10.498Z"
   },
   {
    "duration": 6,
    "start_time": "2022-01-27T07:49:10.505Z"
   },
   {
    "duration": 7,
    "start_time": "2022-01-27T07:49:10.512Z"
   },
   {
    "duration": 3,
    "start_time": "2022-01-27T07:49:11.359Z"
   },
   {
    "duration": 5,
    "start_time": "2022-01-27T07:49:11.364Z"
   },
   {
    "duration": 11,
    "start_time": "2022-01-27T07:49:11.371Z"
   },
   {
    "duration": 6,
    "start_time": "2022-01-27T07:49:11.384Z"
   },
   {
    "duration": 6,
    "start_time": "2022-01-27T07:49:11.391Z"
   },
   {
    "duration": 19,
    "start_time": "2022-01-27T07:49:11.398Z"
   },
   {
    "duration": 8,
    "start_time": "2022-01-27T07:49:11.419Z"
   },
   {
    "duration": 7225,
    "start_time": "2022-01-27T07:49:11.429Z"
   },
   {
    "duration": 3,
    "start_time": "2022-01-27T07:49:18.655Z"
   },
   {
    "duration": 8,
    "start_time": "2022-01-27T07:49:18.659Z"
   },
   {
    "duration": 9,
    "start_time": "2022-01-27T07:49:18.669Z"
   },
   {
    "duration": 6,
    "start_time": "2022-01-27T07:49:18.680Z"
   },
   {
    "duration": 494,
    "start_time": "2022-01-27T07:49:18.687Z"
   },
   {
    "duration": 407,
    "start_time": "2022-01-27T07:49:19.183Z"
   },
   {
    "duration": 399,
    "start_time": "2022-01-27T07:49:19.593Z"
   },
   {
    "duration": 4,
    "start_time": "2022-01-27T07:49:19.994Z"
   },
   {
    "duration": 16,
    "start_time": "2022-01-27T07:49:20.000Z"
   },
   {
    "duration": 10,
    "start_time": "2022-01-27T07:49:20.018Z"
   },
   {
    "duration": 11,
    "start_time": "2022-01-27T07:49:20.030Z"
   },
   {
    "duration": 12,
    "start_time": "2022-01-27T07:49:20.043Z"
   },
   {
    "duration": 12,
    "start_time": "2022-01-27T07:49:46.197Z"
   },
   {
    "duration": 13,
    "start_time": "2022-01-27T07:50:25.813Z"
   },
   {
    "duration": 12,
    "start_time": "2022-01-27T07:50:26.482Z"
   },
   {
    "duration": 144,
    "start_time": "2022-01-27T07:51:34.373Z"
   },
   {
    "duration": 144,
    "start_time": "2022-01-27T07:51:43.572Z"
   },
   {
    "duration": 1589,
    "start_time": "2022-01-27T09:08:15.524Z"
   },
   {
    "duration": 1490,
    "start_time": "2022-01-27T09:08:30.726Z"
   },
   {
    "duration": 1210,
    "start_time": "2022-01-27T09:09:49.505Z"
   },
   {
    "duration": 1548,
    "start_time": "2022-01-27T09:10:36.969Z"
   },
   {
    "duration": 1431,
    "start_time": "2022-01-27T09:10:50.186Z"
   },
   {
    "duration": 8,
    "start_time": "2022-01-27T09:31:48.138Z"
   },
   {
    "duration": 208,
    "start_time": "2022-01-27T09:47:53.392Z"
   },
   {
    "duration": 192,
    "start_time": "2022-01-27T09:47:53.811Z"
   },
   {
    "duration": 2,
    "start_time": "2022-01-27T09:47:57.246Z"
   },
   {
    "duration": 6,
    "start_time": "2022-01-27T09:47:57.783Z"
   },
   {
    "duration": 7,
    "start_time": "2022-01-27T09:47:58.342Z"
   },
   {
    "duration": 5,
    "start_time": "2022-01-27T09:47:58.855Z"
   },
   {
    "duration": 4,
    "start_time": "2022-01-27T09:49:19.006Z"
   },
   {
    "duration": 10,
    "start_time": "2022-01-27T09:49:23.794Z"
   },
   {
    "duration": 9,
    "start_time": "2022-01-27T09:49:59.600Z"
   },
   {
    "duration": 296,
    "start_time": "2022-01-27T09:50:25.466Z"
   },
   {
    "duration": 9,
    "start_time": "2022-01-27T09:50:31.733Z"
   },
   {
    "duration": 6,
    "start_time": "2022-01-27T09:50:55.262Z"
   },
   {
    "duration": 6,
    "start_time": "2022-01-27T09:51:01.577Z"
   },
   {
    "duration": 6,
    "start_time": "2022-01-27T09:51:20.054Z"
   },
   {
    "duration": 6,
    "start_time": "2022-01-27T09:51:26.227Z"
   },
   {
    "duration": 374,
    "start_time": "2022-01-27T09:53:13.601Z"
   },
   {
    "duration": 363,
    "start_time": "2022-01-27T09:53:49.434Z"
   },
   {
    "duration": 506,
    "start_time": "2022-01-27T09:53:55.064Z"
   },
   {
    "duration": 438,
    "start_time": "2022-01-27T09:54:05.188Z"
   },
   {
    "duration": 401,
    "start_time": "2022-01-27T09:54:12.761Z"
   },
   {
    "duration": 7,
    "start_time": "2022-01-27T09:55:12.469Z"
   },
   {
    "duration": 7,
    "start_time": "2022-01-27T09:55:19.704Z"
   },
   {
    "duration": 6,
    "start_time": "2022-01-27T09:59:05.152Z"
   },
   {
    "duration": 520,
    "start_time": "2022-01-27T09:59:25.912Z"
   },
   {
    "duration": 5,
    "start_time": "2022-01-27T09:59:41.495Z"
   },
   {
    "duration": 5,
    "start_time": "2022-01-27T09:59:55.602Z"
   },
   {
    "duration": 5,
    "start_time": "2022-01-27T10:00:33.853Z"
   },
   {
    "duration": 6,
    "start_time": "2022-01-27T10:00:34.429Z"
   },
   {
    "duration": 3,
    "start_time": "2022-01-27T10:01:57.970Z"
   },
   {
    "duration": 9,
    "start_time": "2022-01-27T10:02:04.441Z"
   },
   {
    "duration": 5,
    "start_time": "2022-01-27T10:02:17.214Z"
   },
   {
    "duration": 5,
    "start_time": "2022-01-27T10:02:51.303Z"
   },
   {
    "duration": 5,
    "start_time": "2022-01-27T10:02:51.743Z"
   },
   {
    "duration": 5,
    "start_time": "2022-01-27T10:02:52.623Z"
   },
   {
    "duration": 5,
    "start_time": "2022-01-27T10:02:53.129Z"
   },
   {
    "duration": 9,
    "start_time": "2022-01-27T10:02:53.667Z"
   },
   {
    "duration": 6,
    "start_time": "2022-01-27T10:03:31.705Z"
   },
   {
    "duration": 5,
    "start_time": "2022-01-27T10:04:04.953Z"
   },
   {
    "duration": 5,
    "start_time": "2022-01-27T10:05:46.109Z"
   },
   {
    "duration": 5,
    "start_time": "2022-01-27T10:05:46.529Z"
   },
   {
    "duration": 9,
    "start_time": "2022-01-27T10:05:47.403Z"
   },
   {
    "duration": 9,
    "start_time": "2022-01-27T11:35:02.823Z"
   },
   {
    "duration": 4,
    "start_time": "2022-01-27T11:36:44.208Z"
   },
   {
    "duration": 8,
    "start_time": "2022-01-27T12:01:24.690Z"
   },
   {
    "duration": 979,
    "start_time": "2022-01-27T17:41:54.605Z"
   },
   {
    "duration": 314,
    "start_time": "2022-01-27T17:41:55.586Z"
   },
   {
    "duration": 23,
    "start_time": "2022-01-27T17:41:55.902Z"
   },
   {
    "duration": 10,
    "start_time": "2022-01-27T17:41:55.927Z"
   },
   {
    "duration": 52,
    "start_time": "2022-01-27T17:41:55.939Z"
   },
   {
    "duration": 36,
    "start_time": "2022-01-27T17:41:55.992Z"
   },
   {
    "duration": 46,
    "start_time": "2022-01-27T17:41:56.029Z"
   },
   {
    "duration": 16127,
    "start_time": "2022-01-27T17:41:56.077Z"
   },
   {
    "duration": 17085,
    "start_time": "2022-01-27T17:42:12.205Z"
   },
   {
    "duration": 16501,
    "start_time": "2022-01-27T17:42:29.292Z"
   },
   {
    "duration": 302,
    "start_time": "2022-01-27T17:42:45.795Z"
   },
   {
    "duration": 9,
    "start_time": "2022-01-27T17:42:46.098Z"
   },
   {
    "duration": 59,
    "start_time": "2022-01-27T17:42:46.109Z"
   },
   {
    "duration": 2,
    "start_time": "2022-01-27T17:42:46.170Z"
   },
   {
    "duration": 26,
    "start_time": "2022-01-27T17:42:53.314Z"
   },
   {
    "duration": 333,
    "start_time": "2022-01-27T17:43:51.515Z"
   },
   {
    "duration": 1423,
    "start_time": "2022-01-27T17:43:57.757Z"
   },
   {
    "duration": 1555,
    "start_time": "2022-01-27T17:44:01.624Z"
   },
   {
    "duration": 1857,
    "start_time": "2022-01-27T17:44:04.115Z"
   },
   {
    "duration": 1683,
    "start_time": "2022-01-27T17:44:19.993Z"
   },
   {
    "duration": 1865,
    "start_time": "2022-01-27T17:44:23.314Z"
   },
   {
    "duration": 22,
    "start_time": "2022-01-27T17:44:38.230Z"
   },
   {
    "duration": 1330,
    "start_time": "2022-01-27T17:44:38.743Z"
   },
   {
    "duration": 1670,
    "start_time": "2022-01-27T17:44:42.508Z"
   },
   {
    "duration": 23,
    "start_time": "2022-01-27T17:44:48.172Z"
   },
   {
    "duration": 1447,
    "start_time": "2022-01-27T17:44:48.530Z"
   },
   {
    "duration": 547,
    "start_time": "2022-01-27T18:01:56.532Z"
   },
   {
    "duration": 1526,
    "start_time": "2022-01-27T18:02:27.147Z"
   },
   {
    "duration": 3187,
    "start_time": "2022-01-27T18:02:28.676Z"
   },
   {
    "duration": 132,
    "start_time": "2022-01-27T18:02:31.866Z"
   },
   {
    "duration": 83,
    "start_time": "2022-01-27T18:02:32.022Z"
   },
   {
    "duration": 173,
    "start_time": "2022-01-27T18:02:32.123Z"
   },
   {
    "duration": 58,
    "start_time": "2022-01-27T18:02:32.298Z"
   },
   {
    "duration": 67,
    "start_time": "2022-01-27T18:02:32.359Z"
   },
   {
    "duration": 30277,
    "start_time": "2022-01-27T18:02:32.429Z"
   },
   {
    "duration": 32534,
    "start_time": "2022-01-27T18:03:02.724Z"
   },
   {
    "duration": 36096,
    "start_time": "2022-01-27T18:03:35.262Z"
   },
   {
    "duration": 619,
    "start_time": "2022-01-27T18:04:11.361Z"
   },
   {
    "duration": 14,
    "start_time": "2022-01-27T18:04:11.983Z"
   },
   {
    "duration": 90,
    "start_time": "2022-01-27T18:04:11.999Z"
   },
   {
    "duration": 4,
    "start_time": "2022-01-27T18:04:12.092Z"
   },
   {
    "duration": 38,
    "start_time": "2022-01-27T18:04:12.098Z"
   },
   {
    "duration": 12,
    "start_time": "2022-01-27T18:04:12.139Z"
   },
   {
    "duration": 7,
    "start_time": "2022-01-27T18:04:12.154Z"
   },
   {
    "duration": 1798,
    "start_time": "2022-01-27T18:04:12.164Z"
   },
   {
    "duration": 881,
    "start_time": "2022-01-27T18:04:13.966Z"
   },
   {
    "duration": 200,
    "start_time": "2022-01-27T18:04:14.850Z"
   },
   {
    "duration": 10,
    "start_time": "2022-01-27T18:04:15.053Z"
   },
   {
    "duration": 12,
    "start_time": "2022-01-27T18:04:15.066Z"
   },
   {
    "duration": 14,
    "start_time": "2022-01-27T18:04:15.081Z"
   },
   {
    "duration": 4,
    "start_time": "2022-01-27T18:04:15.098Z"
   },
   {
    "duration": 10,
    "start_time": "2022-01-27T18:04:15.105Z"
   },
   {
    "duration": 44,
    "start_time": "2022-01-27T18:04:15.117Z"
   },
   {
    "duration": 13,
    "start_time": "2022-01-27T18:04:15.170Z"
   },
   {
    "duration": 5,
    "start_time": "2022-01-27T18:04:15.186Z"
   },
   {
    "duration": 20,
    "start_time": "2022-01-27T18:04:15.194Z"
   },
   {
    "duration": 22,
    "start_time": "2022-01-27T18:04:15.216Z"
   },
   {
    "duration": 13537,
    "start_time": "2022-01-27T18:04:15.241Z"
   },
   {
    "duration": 2,
    "start_time": "2022-01-27T18:04:28.781Z"
   },
   {
    "duration": 7,
    "start_time": "2022-01-27T18:04:28.785Z"
   },
   {
    "duration": 33,
    "start_time": "2022-01-27T18:04:28.795Z"
   },
   {
    "duration": 11,
    "start_time": "2022-01-27T18:04:28.831Z"
   },
   {
    "duration": 19,
    "start_time": "2022-01-27T18:04:28.844Z"
   },
   {
    "duration": 16,
    "start_time": "2022-01-27T18:04:28.866Z"
   },
   {
    "duration": 681,
    "start_time": "2022-01-27T18:04:28.885Z"
   },
   {
    "duration": 673,
    "start_time": "2022-01-27T18:04:29.569Z"
   },
   {
    "duration": 613,
    "start_time": "2022-01-27T18:04:30.245Z"
   },
   {
    "duration": 9,
    "start_time": "2022-01-27T18:04:30.860Z"
   },
   {
    "duration": 20,
    "start_time": "2022-01-27T18:04:30.872Z"
   },
   {
    "duration": 35,
    "start_time": "2022-01-27T18:04:30.894Z"
   },
   {
    "duration": 26,
    "start_time": "2022-01-27T18:04:30.931Z"
   },
   {
    "duration": 21,
    "start_time": "2022-01-27T18:04:30.960Z"
   },
   {
    "duration": 16,
    "start_time": "2022-01-27T18:04:30.984Z"
   },
   {
    "duration": 15,
    "start_time": "2022-01-27T18:04:31.024Z"
   },
   {
    "duration": 5,
    "start_time": "2022-01-27T18:39:10.728Z"
   },
   {
    "duration": 6,
    "start_time": "2022-01-27T18:39:22.362Z"
   },
   {
    "duration": 18,
    "start_time": "2022-01-27T18:39:26.607Z"
   },
   {
    "duration": 22,
    "start_time": "2022-01-27T18:39:33.242Z"
   },
   {
    "duration": 13,
    "start_time": "2022-01-27T18:40:05.245Z"
   },
   {
    "duration": 5765,
    "start_time": "2022-01-27T18:40:38.006Z"
   },
   {
    "duration": 12446,
    "start_time": "2022-01-27T18:41:17.417Z"
   },
   {
    "duration": 4,
    "start_time": "2022-01-27T18:41:37.106Z"
   },
   {
    "duration": 5,
    "start_time": "2022-01-27T18:41:38.125Z"
   },
   {
    "duration": 11,
    "start_time": "2022-01-27T19:02:32.531Z"
   },
   {
    "duration": 12,
    "start_time": "2022-01-27T19:02:46.318Z"
   },
   {
    "duration": 13,
    "start_time": "2022-01-27T19:07:09.528Z"
   },
   {
    "duration": 5,
    "start_time": "2022-01-27T19:07:43.106Z"
   },
   {
    "duration": 20,
    "start_time": "2022-01-27T19:07:46.548Z"
   },
   {
    "duration": 16,
    "start_time": "2022-01-27T19:07:47.049Z"
   },
   {
    "duration": 16724,
    "start_time": "2022-01-27T19:07:49.606Z"
   },
   {
    "duration": 4,
    "start_time": "2022-01-27T19:08:09.255Z"
   },
   {
    "duration": 5,
    "start_time": "2022-01-27T19:08:09.687Z"
   },
   {
    "duration": 10,
    "start_time": "2022-01-27T19:08:10.110Z"
   },
   {
    "duration": 635,
    "start_time": "2022-01-27T19:11:33.057Z"
   },
   {
    "duration": 14,
    "start_time": "2022-01-27T19:15:28.150Z"
   },
   {
    "duration": 11,
    "start_time": "2022-01-27T19:18:34.507Z"
   },
   {
    "duration": 10,
    "start_time": "2022-01-27T19:19:10.792Z"
   },
   {
    "duration": 13,
    "start_time": "2022-01-27T19:31:00.858Z"
   },
   {
    "duration": 11,
    "start_time": "2022-01-27T19:32:50.309Z"
   },
   {
    "duration": 15,
    "start_time": "2022-01-27T19:33:18.093Z"
   },
   {
    "duration": 558,
    "start_time": "2022-01-27T19:34:53.976Z"
   },
   {
    "duration": 568,
    "start_time": "2022-01-27T19:34:54.860Z"
   },
   {
    "duration": 590,
    "start_time": "2022-01-27T19:35:20.763Z"
   },
   {
    "duration": 617,
    "start_time": "2022-01-27T19:35:41.651Z"
   },
   {
    "duration": 692,
    "start_time": "2022-01-27T19:35:51.391Z"
   },
   {
    "duration": 971,
    "start_time": "2022-01-27T19:36:15.829Z"
   },
   {
    "duration": 691,
    "start_time": "2022-01-27T19:36:43.317Z"
   },
   {
    "duration": 9,
    "start_time": "2022-01-27T19:38:38.852Z"
   },
   {
    "duration": 11,
    "start_time": "2022-01-27T19:38:55.299Z"
   },
   {
    "duration": 10,
    "start_time": "2022-01-27T19:38:55.948Z"
   },
   {
    "duration": 7,
    "start_time": "2022-01-27T19:38:58.015Z"
   },
   {
    "duration": 8,
    "start_time": "2022-01-27T19:38:58.748Z"
   },
   {
    "duration": 318,
    "start_time": "2022-01-27T19:39:00.311Z"
   },
   {
    "duration": 12,
    "start_time": "2022-01-27T19:39:15.032Z"
   },
   {
    "duration": 7,
    "start_time": "2022-01-27T19:39:16.100Z"
   },
   {
    "duration": 10,
    "start_time": "2022-01-27T19:39:17.124Z"
   },
   {
    "duration": 8,
    "start_time": "2022-01-27T19:39:17.644Z"
   },
   {
    "duration": 406,
    "start_time": "2022-01-27T19:39:18.675Z"
   },
   {
    "duration": 9,
    "start_time": "2022-01-27T19:41:12.670Z"
   },
   {
    "duration": 9,
    "start_time": "2022-01-27T19:41:47.571Z"
   },
   {
    "duration": 7,
    "start_time": "2022-01-27T19:41:53.810Z"
   },
   {
    "duration": 8,
    "start_time": "2022-01-27T19:42:02.538Z"
   },
   {
    "duration": 8,
    "start_time": "2022-01-27T19:42:08.573Z"
   },
   {
    "duration": 8,
    "start_time": "2022-01-27T19:42:11.998Z"
   },
   {
    "duration": 7,
    "start_time": "2022-01-27T19:42:16.570Z"
   },
   {
    "duration": 9,
    "start_time": "2022-01-27T19:42:22.598Z"
   },
   {
    "duration": 8,
    "start_time": "2022-01-27T19:42:37.178Z"
   },
   {
    "duration": 9,
    "start_time": "2022-01-27T19:42:40.769Z"
   },
   {
    "duration": 535,
    "start_time": "2022-01-27T19:42:42.489Z"
   },
   {
    "duration": 5,
    "start_time": "2022-01-27T19:43:36.097Z"
   },
   {
    "duration": 560,
    "start_time": "2022-01-27T19:43:36.104Z"
   },
   {
    "duration": 68,
    "start_time": "2022-01-27T19:43:36.668Z"
   },
   {
    "duration": 32,
    "start_time": "2022-01-27T19:43:36.740Z"
   },
   {
    "duration": 78,
    "start_time": "2022-01-27T19:43:36.775Z"
   },
   {
    "duration": 75,
    "start_time": "2022-01-27T19:43:36.856Z"
   },
   {
    "duration": 67,
    "start_time": "2022-01-27T19:43:36.935Z"
   },
   {
    "duration": 39598,
    "start_time": "2022-01-27T19:43:37.025Z"
   },
   {
    "duration": 30581,
    "start_time": "2022-01-27T19:44:16.627Z"
   },
   {
    "duration": 32074,
    "start_time": "2022-01-27T19:44:47.224Z"
   },
   {
    "duration": 581,
    "start_time": "2022-01-27T19:45:19.301Z"
   },
   {
    "duration": 10,
    "start_time": "2022-01-27T19:45:19.885Z"
   },
   {
    "duration": 71,
    "start_time": "2022-01-27T19:45:19.898Z"
   },
   {
    "duration": 3,
    "start_time": "2022-01-27T19:45:19.971Z"
   },
   {
    "duration": 77,
    "start_time": "2022-01-27T19:45:19.977Z"
   },
   {
    "duration": 15,
    "start_time": "2022-01-27T19:45:20.057Z"
   },
   {
    "duration": 4,
    "start_time": "2022-01-27T19:45:20.075Z"
   },
   {
    "duration": 1952,
    "start_time": "2022-01-27T19:45:20.082Z"
   },
   {
    "duration": 1684,
    "start_time": "2022-01-27T19:45:22.043Z"
   },
   {
    "duration": 221,
    "start_time": "2022-01-27T19:45:23.735Z"
   },
   {
    "duration": 10,
    "start_time": "2022-01-27T19:45:23.960Z"
   },
   {
    "duration": 13,
    "start_time": "2022-01-27T19:45:23.973Z"
   },
   {
    "duration": 12,
    "start_time": "2022-01-27T19:45:23.988Z"
   },
   {
    "duration": 25,
    "start_time": "2022-01-27T19:45:24.003Z"
   },
   {
    "duration": 26,
    "start_time": "2022-01-27T19:45:24.031Z"
   },
   {
    "duration": 20,
    "start_time": "2022-01-27T19:45:24.060Z"
   },
   {
    "duration": 13,
    "start_time": "2022-01-27T19:45:24.088Z"
   },
   {
    "duration": 23,
    "start_time": "2022-01-27T19:45:24.106Z"
   },
   {
    "duration": 23,
    "start_time": "2022-01-27T19:45:24.132Z"
   },
   {
    "duration": 17,
    "start_time": "2022-01-27T19:45:24.158Z"
   },
   {
    "duration": 13948,
    "start_time": "2022-01-27T19:45:24.179Z"
   },
   {
    "duration": 4,
    "start_time": "2022-01-27T19:45:38.130Z"
   },
   {
    "duration": 15,
    "start_time": "2022-01-27T19:45:38.137Z"
   },
   {
    "duration": 13,
    "start_time": "2022-01-27T19:45:38.155Z"
   },
   {
    "duration": 20,
    "start_time": "2022-01-27T19:45:38.171Z"
   },
   {
    "duration": 40,
    "start_time": "2022-01-27T19:45:38.194Z"
   },
   {
    "duration": 15,
    "start_time": "2022-01-27T19:45:38.239Z"
   },
   {
    "duration": 609,
    "start_time": "2022-01-27T19:45:38.257Z"
   },
   {
    "duration": 593,
    "start_time": "2022-01-27T19:45:38.869Z"
   },
   {
    "duration": 923,
    "start_time": "2022-01-27T19:45:39.465Z"
   },
   {
    "duration": 11,
    "start_time": "2022-01-27T19:45:40.391Z"
   },
   {
    "duration": 12,
    "start_time": "2022-01-27T19:45:40.426Z"
   },
   {
    "duration": 23,
    "start_time": "2022-01-27T19:45:40.442Z"
   },
   {
    "duration": 12,
    "start_time": "2022-01-27T19:45:40.468Z"
   },
   {
    "duration": 18,
    "start_time": "2022-01-27T19:45:40.484Z"
   },
   {
    "duration": 19,
    "start_time": "2022-01-27T19:45:40.526Z"
   },
   {
    "duration": 22,
    "start_time": "2022-01-27T19:45:40.548Z"
   },
   {
    "duration": 11,
    "start_time": "2022-01-27T19:47:41.061Z"
   },
   {
    "duration": 17,
    "start_time": "2022-01-27T19:47:45.058Z"
   },
   {
    "duration": 7,
    "start_time": "2022-01-27T19:49:57.878Z"
   },
   {
    "duration": 1597,
    "start_time": "2022-01-27T19:50:56.279Z"
   },
   {
    "duration": 581,
    "start_time": "2022-01-27T19:50:57.879Z"
   },
   {
    "duration": 61,
    "start_time": "2022-01-27T19:50:58.464Z"
   },
   {
    "duration": 23,
    "start_time": "2022-01-27T19:50:58.529Z"
   },
   {
    "duration": 96,
    "start_time": "2022-01-27T19:50:58.555Z"
   },
   {
    "duration": 90,
    "start_time": "2022-01-27T19:50:58.655Z"
   },
   {
    "duration": 89,
    "start_time": "2022-01-27T19:50:58.748Z"
   },
   {
    "duration": 33866,
    "start_time": "2022-01-27T19:50:58.842Z"
   },
   {
    "duration": 32040,
    "start_time": "2022-01-27T19:51:32.712Z"
   },
   {
    "duration": 37957,
    "start_time": "2022-01-27T19:52:04.757Z"
   },
   {
    "duration": 799,
    "start_time": "2022-01-27T19:52:42.724Z"
   },
   {
    "duration": 17,
    "start_time": "2022-01-27T19:52:43.527Z"
   },
   {
    "duration": 93,
    "start_time": "2022-01-27T19:52:43.547Z"
   },
   {
    "duration": 5,
    "start_time": "2022-01-27T19:52:43.643Z"
   },
   {
    "duration": 45,
    "start_time": "2022-01-27T19:52:43.652Z"
   },
   {
    "duration": 27,
    "start_time": "2022-01-27T19:52:43.700Z"
   },
   {
    "duration": 7,
    "start_time": "2022-01-27T19:52:43.730Z"
   },
   {
    "duration": 1401,
    "start_time": "2022-01-27T19:52:43.741Z"
   },
   {
    "duration": 1101,
    "start_time": "2022-01-27T19:52:45.233Z"
   },
   {
    "duration": 190,
    "start_time": "2022-01-27T19:52:46.347Z"
   },
   {
    "duration": 11,
    "start_time": "2022-01-27T19:52:46.543Z"
   },
   {
    "duration": 14,
    "start_time": "2022-01-27T19:52:46.557Z"
   },
   {
    "duration": 14,
    "start_time": "2022-01-27T19:52:46.577Z"
   },
   {
    "duration": 35,
    "start_time": "2022-01-27T19:52:46.595Z"
   },
   {
    "duration": 26,
    "start_time": "2022-01-27T19:52:46.634Z"
   },
   {
    "duration": 16,
    "start_time": "2022-01-27T19:52:46.662Z"
   },
   {
    "duration": 11,
    "start_time": "2022-01-27T19:52:46.681Z"
   },
   {
    "duration": 4,
    "start_time": "2022-01-27T19:52:46.696Z"
   },
   {
    "duration": 43,
    "start_time": "2022-01-27T19:52:46.703Z"
   },
   {
    "duration": 450,
    "start_time": "2022-01-27T19:52:46.750Z"
   },
   {
    "duration": -1047,
    "start_time": "2022-01-27T19:52:48.250Z"
   },
   {
    "duration": -1062,
    "start_time": "2022-01-27T19:52:48.267Z"
   },
   {
    "duration": -1075,
    "start_time": "2022-01-27T19:52:48.282Z"
   },
   {
    "duration": -1084,
    "start_time": "2022-01-27T19:52:48.293Z"
   },
   {
    "duration": -1090,
    "start_time": "2022-01-27T19:52:48.301Z"
   },
   {
    "duration": -1096,
    "start_time": "2022-01-27T19:52:48.309Z"
   },
   {
    "duration": -1102,
    "start_time": "2022-01-27T19:52:48.317Z"
   },
   {
    "duration": -1123,
    "start_time": "2022-01-27T19:52:48.340Z"
   },
   {
    "duration": -1131,
    "start_time": "2022-01-27T19:52:48.349Z"
   },
   {
    "duration": -1139,
    "start_time": "2022-01-27T19:52:48.358Z"
   },
   {
    "duration": -1146,
    "start_time": "2022-01-27T19:52:48.367Z"
   },
   {
    "duration": -1154,
    "start_time": "2022-01-27T19:52:48.376Z"
   },
   {
    "duration": -1159,
    "start_time": "2022-01-27T19:52:48.385Z"
   },
   {
    "duration": -1165,
    "start_time": "2022-01-27T19:52:48.393Z"
   },
   {
    "duration": -1169,
    "start_time": "2022-01-27T19:52:48.401Z"
   },
   {
    "duration": -1177,
    "start_time": "2022-01-27T19:52:48.410Z"
   },
   {
    "duration": -1184,
    "start_time": "2022-01-27T19:52:48.418Z"
   },
   {
    "duration": 22,
    "start_time": "2022-01-27T19:54:55.618Z"
   },
   {
    "duration": 16169,
    "start_time": "2022-01-27T19:55:02.500Z"
   },
   {
    "duration": 4,
    "start_time": "2022-01-27T19:55:18.673Z"
   },
   {
    "duration": 16,
    "start_time": "2022-01-27T19:55:18.681Z"
   },
   {
    "duration": 27,
    "start_time": "2022-01-27T19:55:18.701Z"
   },
   {
    "duration": 20,
    "start_time": "2022-01-27T19:55:18.731Z"
   },
   {
    "duration": 18,
    "start_time": "2022-01-27T19:55:18.756Z"
   },
   {
    "duration": 27,
    "start_time": "2022-01-27T19:55:18.778Z"
   },
   {
    "duration": 904,
    "start_time": "2022-01-27T19:55:18.809Z"
   },
   {
    "duration": 617,
    "start_time": "2022-01-27T19:55:19.726Z"
   },
   {
    "duration": 622,
    "start_time": "2022-01-27T19:55:20.347Z"
   },
   {
    "duration": 10,
    "start_time": "2022-01-27T19:55:20.972Z"
   },
   {
    "duration": 9,
    "start_time": "2022-01-27T19:55:20.986Z"
   },
   {
    "duration": 29,
    "start_time": "2022-01-27T19:55:20.998Z"
   },
   {
    "duration": 12,
    "start_time": "2022-01-27T19:55:21.031Z"
   },
   {
    "duration": 26,
    "start_time": "2022-01-27T19:55:21.046Z"
   },
   {
    "duration": 12,
    "start_time": "2022-01-27T19:55:21.075Z"
   },
   {
    "duration": 48,
    "start_time": "2022-01-27T19:55:21.090Z"
   }
  ],
  "kernelspec": {
   "display_name": "Python 3 (ipykernel)",
   "language": "python",
   "name": "python3"
  },
  "language_info": {
   "codemirror_mode": {
    "name": "ipython",
    "version": 3
   },
   "file_extension": ".py",
   "mimetype": "text/x-python",
   "name": "python",
   "nbconvert_exporter": "python",
   "pygments_lexer": "ipython3",
   "version": "3.8.8"
  },
  "toc": {
   "base_numbering": 1,
   "nav_menu": {},
   "number_sections": true,
   "sideBar": true,
   "skip_h1_title": true,
   "title_cell": "Table of Contents",
   "title_sidebar": "Contents",
   "toc_cell": false,
   "toc_position": {
    "height": "calc(100% - 180px)",
    "left": "10px",
    "top": "150px",
    "width": "292.797px"
   },
   "toc_section_display": true,
   "toc_window_display": true
  }
 },
 "nbformat": 4,
 "nbformat_minor": 2
}
