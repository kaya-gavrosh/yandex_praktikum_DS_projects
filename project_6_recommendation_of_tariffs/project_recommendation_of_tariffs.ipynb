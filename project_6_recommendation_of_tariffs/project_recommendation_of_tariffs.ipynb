{
 "cells": [
  {
   "cell_type": "markdown",
   "metadata": {},
   "source": [
    "# Рекомендация тарифов"
   ]
  },
  {
   "cell_type": "markdown",
   "metadata": {},
   "source": [
    "**Описание проекта**"
   ]
  },
  {
   "cell_type": "markdown",
   "metadata": {},
   "source": [
    "Оператор мобильной связи «Мегалайн» хочет предложить клиентам, использующим архивные тарифы, наиболее подходящий новый тариф. Есть данные о поведении клиентов, уже перешедших на новые тарифы.\n",
    "\n",
    "Путь к данным: /datasets/users_behavior.csv"
   ]
  },
  {
   "cell_type": "markdown",
   "metadata": {},
   "source": [
    "**Цель исследования**"
   ]
  },
  {
   "cell_type": "markdown",
   "metadata": {},
   "source": [
    "Построить модель для задачи классификации, которая выберет подходящий тариф («Смарт» или «Ультра»)."
   ]
  },
  {
   "cell_type": "markdown",
   "metadata": {},
   "source": [
    "## Откройте и изучите файл"
   ]
  },
  {
   "cell_type": "code",
   "execution_count": 2,
   "metadata": {},
   "outputs": [],
   "source": [
    "# импорт библиотек\n",
    "import pandas as pd\n",
    "import matplotlib.pyplot as plt\n",
    "from sklearn.tree import DecisionTreeClassifier\n",
    "from sklearn.ensemble import RandomForestClassifier\n",
    "from sklearn.linear_model import LogisticRegression\n",
    "from sklearn.model_selection import train_test_split\n",
    "from sklearn.metrics import accuracy_score\n",
    "import random"
   ]
  },
  {
   "cell_type": "code",
   "execution_count": 3,
   "metadata": {},
   "outputs": [],
   "source": [
    "# чтение файлов с данными и сохранение\n",
    "df = pd.read_csv('/datasets/users_behavior.csv')"
   ]
  },
  {
   "cell_type": "code",
   "execution_count": 4,
   "metadata": {
    "scrolled": true
   },
   "outputs": [
    {
     "data": {
      "text/html": [
       "<div>\n",
       "<style scoped>\n",
       "    .dataframe tbody tr th:only-of-type {\n",
       "        vertical-align: middle;\n",
       "    }\n",
       "\n",
       "    .dataframe tbody tr th {\n",
       "        vertical-align: top;\n",
       "    }\n",
       "\n",
       "    .dataframe thead th {\n",
       "        text-align: right;\n",
       "    }\n",
       "</style>\n",
       "<table border=\"1\" class=\"dataframe\">\n",
       "  <thead>\n",
       "    <tr style=\"text-align: right;\">\n",
       "      <th></th>\n",
       "      <th>calls</th>\n",
       "      <th>minutes</th>\n",
       "      <th>messages</th>\n",
       "      <th>mb_used</th>\n",
       "      <th>is_ultra</th>\n",
       "    </tr>\n",
       "  </thead>\n",
       "  <tbody>\n",
       "    <tr>\n",
       "      <td>0</td>\n",
       "      <td>40.0</td>\n",
       "      <td>311.90</td>\n",
       "      <td>83.0</td>\n",
       "      <td>19915.42</td>\n",
       "      <td>0</td>\n",
       "    </tr>\n",
       "    <tr>\n",
       "      <td>1</td>\n",
       "      <td>85.0</td>\n",
       "      <td>516.75</td>\n",
       "      <td>56.0</td>\n",
       "      <td>22696.96</td>\n",
       "      <td>0</td>\n",
       "    </tr>\n",
       "    <tr>\n",
       "      <td>2</td>\n",
       "      <td>77.0</td>\n",
       "      <td>467.66</td>\n",
       "      <td>86.0</td>\n",
       "      <td>21060.45</td>\n",
       "      <td>0</td>\n",
       "    </tr>\n",
       "    <tr>\n",
       "      <td>3</td>\n",
       "      <td>106.0</td>\n",
       "      <td>745.53</td>\n",
       "      <td>81.0</td>\n",
       "      <td>8437.39</td>\n",
       "      <td>1</td>\n",
       "    </tr>\n",
       "    <tr>\n",
       "      <td>4</td>\n",
       "      <td>66.0</td>\n",
       "      <td>418.74</td>\n",
       "      <td>1.0</td>\n",
       "      <td>14502.75</td>\n",
       "      <td>0</td>\n",
       "    </tr>\n",
       "    <tr>\n",
       "      <td>5</td>\n",
       "      <td>58.0</td>\n",
       "      <td>344.56</td>\n",
       "      <td>21.0</td>\n",
       "      <td>15823.37</td>\n",
       "      <td>0</td>\n",
       "    </tr>\n",
       "    <tr>\n",
       "      <td>6</td>\n",
       "      <td>57.0</td>\n",
       "      <td>431.64</td>\n",
       "      <td>20.0</td>\n",
       "      <td>3738.90</td>\n",
       "      <td>1</td>\n",
       "    </tr>\n",
       "    <tr>\n",
       "      <td>7</td>\n",
       "      <td>15.0</td>\n",
       "      <td>132.40</td>\n",
       "      <td>6.0</td>\n",
       "      <td>21911.60</td>\n",
       "      <td>0</td>\n",
       "    </tr>\n",
       "    <tr>\n",
       "      <td>8</td>\n",
       "      <td>7.0</td>\n",
       "      <td>43.39</td>\n",
       "      <td>3.0</td>\n",
       "      <td>2538.67</td>\n",
       "      <td>1</td>\n",
       "    </tr>\n",
       "    <tr>\n",
       "      <td>9</td>\n",
       "      <td>90.0</td>\n",
       "      <td>665.41</td>\n",
       "      <td>38.0</td>\n",
       "      <td>17358.61</td>\n",
       "      <td>0</td>\n",
       "    </tr>\n",
       "  </tbody>\n",
       "</table>\n",
       "</div>"
      ],
      "text/plain": [
       "   calls  minutes  messages   mb_used  is_ultra\n",
       "0   40.0   311.90      83.0  19915.42         0\n",
       "1   85.0   516.75      56.0  22696.96         0\n",
       "2   77.0   467.66      86.0  21060.45         0\n",
       "3  106.0   745.53      81.0   8437.39         1\n",
       "4   66.0   418.74       1.0  14502.75         0\n",
       "5   58.0   344.56      21.0  15823.37         0\n",
       "6   57.0   431.64      20.0   3738.90         1\n",
       "7   15.0   132.40       6.0  21911.60         0\n",
       "8    7.0    43.39       3.0   2538.67         1\n",
       "9   90.0   665.41      38.0  17358.61         0"
      ]
     },
     "execution_count": 4,
     "metadata": {},
     "output_type": "execute_result"
    }
   ],
   "source": [
    "# получение первых строк\n",
    "df.head(10)"
   ]
  },
  {
   "cell_type": "code",
   "execution_count": 5,
   "metadata": {
    "scrolled": true
   },
   "outputs": [
    {
     "name": "stdout",
     "output_type": "stream",
     "text": [
      "<class 'pandas.core.frame.DataFrame'>\n",
      "RangeIndex: 3214 entries, 0 to 3213\n",
      "Data columns (total 5 columns):\n",
      "calls       3214 non-null float64\n",
      "minutes     3214 non-null float64\n",
      "messages    3214 non-null float64\n",
      "mb_used     3214 non-null float64\n",
      "is_ultra    3214 non-null int64\n",
      "dtypes: float64(4), int64(1)\n",
      "memory usage: 125.7 KB\n"
     ]
    }
   ],
   "source": [
    "# получение общей информации\n",
    "df.info()"
   ]
  },
  {
   "cell_type": "markdown",
   "metadata": {},
   "source": [
    "**Общая информация**"
   ]
  },
  {
   "cell_type": "markdown",
   "metadata": {},
   "source": [
    "В таблице 3214 строк и 5 столбцов. Описания столбцов, согласно документации:\n",
    "\n",
    "- `сalls` — количество звонков,\n",
    "- `minutes` — суммарная длительность звонков в минутах,\n",
    "- `messages` — количество sms-сообщений,\n",
    "- `mb_used` — израсходованный интернет-трафик в Мб,\n",
    "- `is_ultra` — каким тарифом пользовался в течение месяца («Ультра» — 1, «Смарт» — 0)."
   ]
  },
  {
   "cell_type": "markdown",
   "metadata": {},
   "source": [
    "**Вывод**"
   ]
  },
  {
   "cell_type": "markdown",
   "metadata": {},
   "source": [
    "Колонка `is_ultra` — целевой признак. Остальные колонки являются признаками, по которым будет предсказываться целевой."
   ]
  },
  {
   "cell_type": "markdown",
   "metadata": {},
   "source": [
    "## Разбейте данные на выборки"
   ]
  },
  {
   "cell_type": "markdown",
   "metadata": {},
   "source": [
    "Выделим целовой признак и остальные в отдельные группы"
   ]
  },
  {
   "cell_type": "code",
   "execution_count": 6,
   "metadata": {},
   "outputs": [],
   "source": [
    "с\n",
    "features = df.drop(['is_ultra'], axis=1) \n",
    "# целевой признак\n",
    "target = df['is_ultra'] "
   ]
  },
  {
   "cell_type": "markdown",
   "metadata": {},
   "source": [
    "Разобьем все данные на три выборки: сначала выделим обучающую (60%), а остальные данные на равные выборкии валидационную и тестовую."
   ]
  },
  {
   "cell_type": "code",
   "execution_count": 7,
   "metadata": {},
   "outputs": [],
   "source": [
    "# выделение обучающей выборки\n",
    "features_train, features_other, target_train, target_other = train_test_split(\n",
    "    features, target, test_size=0.4, random_state=12345)\n",
    "# разбиение оставшихся данных на валидационную и тестувую\n",
    "features_valid, features_test, target_valid, target_test = train_test_split(\n",
    "    features_other, target_other, test_size=0.5, random_state=12345)"
   ]
  },
  {
   "cell_type": "markdown",
   "metadata": {},
   "source": [
    "Проверим размеры получившихся выборок"
   ]
  },
  {
   "cell_type": "code",
   "execution_count": 8,
   "metadata": {},
   "outputs": [
    {
     "name": "stdout",
     "output_type": "stream",
     "text": [
      "Размер обучающей выборки: (1928, 4)\n",
      "Размер валидационной выборки: (643, 4)\n",
      "Размер тестовой выборки: (643, 4)\n"
     ]
    }
   ],
   "source": [
    "print('Размер обучающей выборки:', features_train.shape)\n",
    "print('Размер валидационной выборки:', features_valid.shape)\n",
    "print('Размер тестовой выборки:', features_test.shape)"
   ]
  },
  {
   "cell_type": "markdown",
   "metadata": {},
   "source": [
    "## Исследуйте модели"
   ]
  },
  {
   "cell_type": "code",
   "execution_count": 9,
   "metadata": {},
   "outputs": [],
   "source": [
    "list_accuracy = []"
   ]
  },
  {
   "cell_type": "markdown",
   "metadata": {},
   "source": [
    "В список будем заносить параметры лучших моделей для сравнения"
   ]
  },
  {
   "cell_type": "markdown",
   "metadata": {},
   "source": [
    "### Дерево"
   ]
  },
  {
   "cell_type": "code",
   "execution_count": 10,
   "metadata": {},
   "outputs": [],
   "source": [
    "tree = pd.DataFrame([], columns=['depth','accuracy'])"
   ]
  },
  {
   "cell_type": "markdown",
   "metadata": {},
   "source": [
    "Будем меняться максимальную глубину дерева модели. Для каждого дерева вычислим accuracy и среди всех выберем самую удачную модель."
   ]
  },
  {
   "cell_type": "code",
   "execution_count": 11,
   "metadata": {},
   "outputs": [],
   "source": [
    "best_model_tree = None\n",
    "best_result_tree = 0\n",
    "for depth in range(1, 11):\n",
    "    # создение модели\n",
    "    model1 = DecisionTreeClassifier(random_state=12345, max_depth=depth)\n",
    "    # обучение \n",
    "    model1.fit(features_train, target_train)\n",
    "    # предсказания на валидационной выборке\n",
    "    predictions_valid = model1.predict(features_valid)\n",
    "    # доля правильных ответов\n",
    "    accuracy = accuracy_score(target_valid, predictions_valid)\n",
    "    tree.loc[len(tree.index)] = [depth, accuracy]\n",
    "    # определение лучшей модели\n",
    "    if accuracy > best_result_tree:\n",
    "        best_model_tree = model1\n",
    "        best_result_tree = accuracy"
   ]
  },
  {
   "cell_type": "code",
   "execution_count": 12,
   "metadata": {},
   "outputs": [],
   "source": [
    "list_accuracy.append(['best_model_tree', best_result_tree, best_model_tree.score(features_train, target_train)])"
   ]
  },
  {
   "cell_type": "markdown",
   "metadata": {},
   "source": [
    "Гиперпараметры дерева с лучшим accuracy:"
   ]
  },
  {
   "cell_type": "code",
   "execution_count": 13,
   "metadata": {
    "scrolled": true
   },
   "outputs": [
    {
     "data": {
      "text/plain": [
       "DecisionTreeClassifier(class_weight=None, criterion='gini', max_depth=3,\n",
       "                       max_features=None, max_leaf_nodes=None,\n",
       "                       min_impurity_decrease=0.0, min_impurity_split=None,\n",
       "                       min_samples_leaf=1, min_samples_split=2,\n",
       "                       min_weight_fraction_leaf=0.0, presort=False,\n",
       "                       random_state=12345, splitter='best')"
      ]
     },
     "execution_count": 13,
     "metadata": {},
     "output_type": "execute_result"
    }
   ],
   "source": [
    "best_model_tree"
   ]
  },
  {
   "cell_type": "markdown",
   "metadata": {},
   "source": [
    "Для наглядности приведем график зависимости доли правильных предсказаний модели от изменения параметров"
   ]
  },
  {
   "cell_type": "code",
   "execution_count": 14,
   "metadata": {
    "scrolled": true
   },
   "outputs": [
    {
     "data": {
      "image/png": "[encoded data removed]",
      "text/plain": [
       "<Figure size 432x288 with 1 Axes>"
      ]
     },
     "metadata": {
      "needs_background": "light"
     },
     "output_type": "display_data"
    }
   ],
   "source": [
    "tree.plot(x='depth', y='accuracy')\n",
    "plt.title('model: tree')\n",
    "plt.ylabel('accuracy')\n",
    "plt.show()"
   ]
  },
  {
   "cell_type": "markdown",
   "metadata": {},
   "source": [
    "Из графика видно, что максимальная доля правильных ответов достигается при максимальной глубине дерева равной трем, далее accuracy падает"
   ]
  },
  {
   "cell_type": "markdown",
   "metadata": {},
   "source": [
    "### Лес"
   ]
  },
  {
   "cell_type": "code",
   "execution_count": 15,
   "metadata": {},
   "outputs": [],
   "source": [
    "forest = pd.DataFrame([], columns=['n_estimators', 'depth', 'accuracy'])"
   ]
  },
  {
   "cell_type": "markdown",
   "metadata": {},
   "source": [
    "Будем меняться максимальную число деревьев и их максимальную глубину. Для каждого случая вычислим accuracy и среди всех выберем самую удачную модель."
   ]
  },
  {
   "cell_type": "code",
   "execution_count": 16,
   "metadata": {},
   "outputs": [],
   "source": [
    "best_model_forest = None\n",
    "best_result_forest = 0\n",
    "for n in range(1, 11):\n",
    "    for depth in range (1, 11):\n",
    "        # создение модели с заданными гиперпараметрами\n",
    "        model2 = RandomForestClassifier(random_state=12345, n_estimators=n, max_depth=depth) \n",
    "        # обучение \n",
    "        model2.fit(features_train, target_train)\n",
    "        # предсказания на валидационной выборке\n",
    "        predictions_valid = model2.predict(features_valid)\n",
    "        # доля правильных ответов\n",
    "        accuracy = accuracy_score(target_valid, predictions_valid)\n",
    "        forest.loc[len(forest.index)] = [n, depth, accuracy]\n",
    "        # определение лучшей модели\n",
    "        if accuracy > best_result_forest:\n",
    "            best_model_forest = model2\n",
    "            best_result_forest = accuracy"
   ]
  },
  {
   "cell_type": "code",
   "execution_count": 17,
   "metadata": {},
   "outputs": [],
   "source": [
    "list_accuracy.append(['best_model_forest', best_result_forest, best_model_forest.score(features_train, target_train)])"
   ]
  },
  {
   "cell_type": "markdown",
   "metadata": {},
   "source": [
    "Гиперпараметры леса с лучшим accuracy:"
   ]
  },
  {
   "cell_type": "code",
   "execution_count": 18,
   "metadata": {
    "scrolled": true
   },
   "outputs": [
    {
     "data": {
      "text/plain": [
       "RandomForestClassifier(bootstrap=True, class_weight=None, criterion='gini',\n",
       "                       max_depth=8, max_features='auto', max_leaf_nodes=None,\n",
       "                       min_impurity_decrease=0.0, min_impurity_split=None,\n",
       "                       min_samples_leaf=1, min_samples_split=2,\n",
       "                       min_weight_fraction_leaf=0.0, n_estimators=8,\n",
       "                       n_jobs=None, oob_score=False, random_state=12345,\n",
       "                       verbose=0, warm_start=False)"
      ]
     },
     "execution_count": 18,
     "metadata": {},
     "output_type": "execute_result"
    }
   ],
   "source": [
    "best_model_forest"
   ]
  },
  {
   "cell_type": "markdown",
   "metadata": {},
   "source": [
    "График зависимости accuracy от изменения максимальной глубины деревьев для фиксированного числа деревьев"
   ]
  },
  {
   "cell_type": "code",
   "execution_count": 19,
   "metadata": {
    "scrolled": true
   },
   "outputs": [
    {
     "data": {
      "image/png": "[encoded data removed]",
      "text/plain": [
       "<Figure size 432x288 with 1 Axes>"
      ]
     },
     "metadata": {
      "needs_background": "light"
     },
     "output_type": "display_data"
    }
   ],
   "source": [
    "forest.query('n_estimators == 8').plot(x='depth', y='accuracy', legend=True)\n",
    "plt.title('model: forest\\nn_estimators = 8')\n",
    "plt.ylabel('accuracy')\n",
    "plt.show()"
   ]
  },
  {
   "cell_type": "markdown",
   "metadata": {},
   "source": [
    "График зависимости accuracy от изменения  числа деревьев для фиксированной максимальной глубины деревьев"
   ]
  },
  {
   "cell_type": "code",
   "execution_count": 20,
   "metadata": {
    "scrolled": true
   },
   "outputs": [
    {
     "data": {
      "image/png": "[encoded data removed]",
      "text/plain": [
       "<Figure size 432x288 with 1 Axes>"
      ]
     },
     "metadata": {
      "needs_background": "light"
     },
     "output_type": "display_data"
    }
   ],
   "source": [
    "forest.query('depth == 8').plot(x='n_estimators', y='accuracy', legend=True)\n",
    "plt.title('model: forest\\ndepth = 8')\n",
    "plt.ylabel('accuracy')\n",
    "plt.show()"
   ]
  },
  {
   "cell_type": "markdown",
   "metadata": {},
   "source": [
    "### Логистическая регрессия"
   ]
  },
  {
   "cell_type": "markdown",
   "metadata": {},
   "source": [
    "У логистической реграссии нет столько параметров. Рассмотрим модель со стандартными параметрами"
   ]
  },
  {
   "cell_type": "code",
   "execution_count": 21,
   "metadata": {
    "scrolled": true
   },
   "outputs": [
    {
     "name": "stderr",
     "output_type": "stream",
     "text": [
      "/opt/conda/lib/python3.7/site-packages/sklearn/linear_model/logistic.py:432: FutureWarning: Default solver will be changed to 'lbfgs' in 0.22. Specify a solver to silence this warning.\n",
      "  FutureWarning)\n"
     ]
    }
   ],
   "source": [
    "# создение модели\n",
    "logreg = LogisticRegression(random_state=12345)\n",
    "# обучение \n",
    "logreg.fit(features_train, target_train) \n",
    "# предсказания на валидационной выборке\n",
    "predictions_valid = logreg.predict(features_valid)\n",
    "best_result_logreg = logreg.score(features_valid, target_valid)"
   ]
  },
  {
   "cell_type": "code",
   "execution_count": 22,
   "metadata": {
    "scrolled": true
   },
   "outputs": [],
   "source": [
    "list_accuracy.append(['logreg', best_result_logreg, logreg.score(features_train, target_train)])"
   ]
  },
  {
   "cell_type": "code",
   "execution_count": 23,
   "metadata": {},
   "outputs": [
    {
     "data": {
      "text/plain": [
       "0.7505186721991701"
      ]
     },
     "execution_count": 23,
     "metadata": {},
     "output_type": "execute_result"
    }
   ],
   "source": [
    "logreg.score(features_train, target_train)"
   ]
  },
  {
   "cell_type": "markdown",
   "metadata": {},
   "source": [
    "**Вывод**"
   ]
  },
  {
   "cell_type": "markdown",
   "metadata": {},
   "source": [
    "Сравним accuracy (на валидационной и обучающей выборках) для всех моделей с выбранными наилучшими гиперпараметрами."
   ]
  },
  {
   "cell_type": "code",
   "execution_count": 24,
   "metadata": {
    "scrolled": true
   },
   "outputs": [
    {
     "data": {
      "text/html": [
       "<div>\n",
       "<style scoped>\n",
       "    .dataframe tbody tr th:only-of-type {\n",
       "        vertical-align: middle;\n",
       "    }\n",
       "\n",
       "    .dataframe tbody tr th {\n",
       "        vertical-align: top;\n",
       "    }\n",
       "\n",
       "    .dataframe thead th {\n",
       "        text-align: right;\n",
       "    }\n",
       "</style>\n",
       "<table border=\"1\" class=\"dataframe\">\n",
       "  <thead>\n",
       "    <tr style=\"text-align: right;\">\n",
       "      <th></th>\n",
       "      <th>model</th>\n",
       "      <th>accuracy: valid</th>\n",
       "      <th>accuracy: train</th>\n",
       "    </tr>\n",
       "  </thead>\n",
       "  <tbody>\n",
       "    <tr>\n",
       "      <td>0</td>\n",
       "      <td>best_model_tree</td>\n",
       "      <td>0.785381</td>\n",
       "      <td>0.807573</td>\n",
       "    </tr>\n",
       "    <tr>\n",
       "      <td>1</td>\n",
       "      <td>best_model_forest</td>\n",
       "      <td>0.802488</td>\n",
       "      <td>0.868257</td>\n",
       "    </tr>\n",
       "    <tr>\n",
       "      <td>2</td>\n",
       "      <td>logreg</td>\n",
       "      <td>0.758942</td>\n",
       "      <td>0.750519</td>\n",
       "    </tr>\n",
       "  </tbody>\n",
       "</table>\n",
       "</div>"
      ],
      "text/plain": [
       "               model  accuracy: valid  accuracy: train\n",
       "0    best_model_tree         0.785381         0.807573\n",
       "1  best_model_forest         0.802488         0.868257\n",
       "2             logreg         0.758942         0.750519"
      ]
     },
     "execution_count": 24,
     "metadata": {},
     "output_type": "execute_result"
    }
   ],
   "source": [
    "df_accuracy = pd.DataFrame(list_accuracy, columns =['model', 'accuracy: valid', 'accuracy: train'])\n",
    "df_accuracy"
   ]
  },
  {
   "cell_type": "markdown",
   "metadata": {},
   "source": [
    "Лучшие результаты на валидационной выборке показывает случайный лес (модель с n_estimators=8, max_depth=8), она же менее быстродейственная. В данном случае она в принципе работает с достаточной скоростью, поэтому выберем ее"
   ]
  },
  {
   "cell_type": "markdown",
   "metadata": {},
   "source": [
    "## Проверьте модель на тестовой выборке"
   ]
  },
  {
   "cell_type": "code",
   "execution_count": 25,
   "metadata": {},
   "outputs": [],
   "source": [
    "# предсказания на тестовой выборке\n",
    "predictions = best_model_forest.predict(features_test)\n",
    "accuracy = accuracy_score(target_test, predictions)"
   ]
  },
  {
   "cell_type": "code",
   "execution_count": 26,
   "metadata": {
    "scrolled": true
   },
   "outputs": [
    {
     "data": {
      "text/plain": [
       "0.7962674961119751"
      ]
     },
     "execution_count": 26,
     "metadata": {},
     "output_type": "execute_result"
    }
   ],
   "source": [
    "accuracy "
   ]
  },
  {
   "cell_type": "markdown",
   "metadata": {},
   "source": [
    "Доля правильных ответов примерно та же, что и для валидационной выборки. \n"
   ]
  },
  {
   "cell_type": "markdown",
   "metadata": {},
   "source": [
    "## Общий вывод"
   ]
  },
  {
   "cell_type": "markdown",
   "metadata": {},
   "source": [
    "Была построена модель для задачи классификации, которая выбирает подходящий пользователю тариф («Смарт» или «Ультра»). Модель представляет собой случайный лес с гиперпараметрами n_estimators=8, max_depth=8. \n",
    "\n",
    "1. Для этого были загружены данные, предоставленные оператором. \n",
    "2. Данные были рабиты на три части: обучающую, валидационную и и тренировочную выборки. \n",
    "3. Проведено исседование трех моделей: дерева решений, случайного леса и логистической регрессии. Для дерева решений изменялась максимальная глубина дерева (от 1 до 10). Для леса - число деревьев (от 1 до 10) и максимальная глубина деревьев (от 1 до 10). Для каждой модели посчитана доля правильных ответов и выделены модели, выдающие лучший результат"
   ]
  },
  {
   "cell_type": "code",
   "execution_count": 28,
   "metadata": {},
   "outputs": [
    {
     "data": {
      "text/html": [
       "<div>\n",
       "<style scoped>\n",
       "    .dataframe tbody tr th:only-of-type {\n",
       "        vertical-align: middle;\n",
       "    }\n",
       "\n",
       "    .dataframe tbody tr th {\n",
       "        vertical-align: top;\n",
       "    }\n",
       "\n",
       "    .dataframe thead th {\n",
       "        text-align: right;\n",
       "    }\n",
       "</style>\n",
       "<table border=\"1\" class=\"dataframe\">\n",
       "  <thead>\n",
       "    <tr style=\"text-align: right;\">\n",
       "      <th></th>\n",
       "      <th>model</th>\n",
       "      <th>accuracy: valid</th>\n",
       "      <th>accuracy: train</th>\n",
       "    </tr>\n",
       "  </thead>\n",
       "  <tbody>\n",
       "    <tr>\n",
       "      <td>0</td>\n",
       "      <td>best_model_tree</td>\n",
       "      <td>0.785381</td>\n",
       "      <td>0.807573</td>\n",
       "    </tr>\n",
       "    <tr>\n",
       "      <td>1</td>\n",
       "      <td>best_model_forest</td>\n",
       "      <td>0.802488</td>\n",
       "      <td>0.868257</td>\n",
       "    </tr>\n",
       "    <tr>\n",
       "      <td>2</td>\n",
       "      <td>logreg</td>\n",
       "      <td>0.758942</td>\n",
       "      <td>0.750519</td>\n",
       "    </tr>\n",
       "  </tbody>\n",
       "</table>\n",
       "</div>"
      ],
      "text/plain": [
       "               model  accuracy: valid  accuracy: train\n",
       "0    best_model_tree         0.785381         0.807573\n",
       "1  best_model_forest         0.802488         0.868257\n",
       "2             logreg         0.758942         0.750519"
      ]
     },
     "execution_count": 28,
     "metadata": {},
     "output_type": "execute_result"
    }
   ],
   "source": [
    "df_accuracy"
   ]
  },
  {
   "cell_type": "markdown",
   "metadata": {},
   "source": [
    "4. Была выбрана оптимальная модель.\n",
    "5. Модель проверена на тестовой выборке, accuracy на тестовой выборке составляет около 0,79. "
   ]
  }
 ],
 "metadata": {
  "ExecuteTimeLog": [
   {
    "duration": 1358,
    "start_time": "2021-12-08T15:42:31.762Z"
   },
   {
    "duration": 20,
    "start_time": "2021-12-08T15:42:33.936Z"
   },
   {
    "duration": 35,
    "start_time": "2021-12-08T15:42:34.613Z"
   },
   {
    "duration": 10,
    "start_time": "2021-12-08T15:45:41.574Z"
   },
   {
    "duration": 1231,
    "start_time": "2021-12-09T10:00:55.144Z"
   },
   {
    "duration": 18,
    "start_time": "2021-12-09T10:00:56.377Z"
   },
   {
    "duration": 24,
    "start_time": "2021-12-09T10:00:56.397Z"
   },
   {
    "duration": 22,
    "start_time": "2021-12-09T10:00:56.423Z"
   },
   {
    "duration": 407,
    "start_time": "2021-12-09T10:00:56.447Z"
   },
   {
    "duration": -558,
    "start_time": "2021-12-09T10:00:57.414Z"
   },
   {
    "duration": 3,
    "start_time": "2021-12-09T10:11:10.357Z"
   },
   {
    "duration": 8,
    "start_time": "2021-12-09T10:11:11.503Z"
   },
   {
    "duration": 11,
    "start_time": "2021-12-09T10:11:22.339Z"
   },
   {
    "duration": 10,
    "start_time": "2021-12-09T10:11:36.426Z"
   },
   {
    "duration": 3,
    "start_time": "2021-12-09T10:11:48.918Z"
   },
   {
    "duration": 21,
    "start_time": "2021-12-09T10:11:48.923Z"
   },
   {
    "duration": 9,
    "start_time": "2021-12-09T10:11:48.946Z"
   },
   {
    "duration": 8,
    "start_time": "2021-12-09T10:11:48.957Z"
   },
   {
    "duration": 4,
    "start_time": "2021-12-09T10:11:48.966Z"
   },
   {
    "duration": 9,
    "start_time": "2021-12-09T10:11:48.971Z"
   },
   {
    "duration": 10,
    "start_time": "2021-12-09T10:11:48.981Z"
   },
   {
    "duration": 12,
    "start_time": "2021-12-09T10:11:48.993Z"
   },
   {
    "duration": 7,
    "start_time": "2021-12-09T10:13:14.816Z"
   },
   {
    "duration": 3,
    "start_time": "2021-12-09T10:41:15.992Z"
   },
   {
    "duration": 20,
    "start_time": "2021-12-09T10:41:16.757Z"
   },
   {
    "duration": 10,
    "start_time": "2021-12-09T10:41:17.743Z"
   },
   {
    "duration": 7,
    "start_time": "2021-12-09T10:41:18.531Z"
   },
   {
    "duration": 4,
    "start_time": "2021-12-09T10:41:20.862Z"
   },
   {
    "duration": 7,
    "start_time": "2021-12-09T10:41:21.055Z"
   },
   {
    "duration": 270,
    "start_time": "2021-12-09T10:51:06.638Z"
   },
   {
    "duration": 291,
    "start_time": "2021-12-09T10:51:24.029Z"
   },
   {
    "duration": 22,
    "start_time": "2021-12-09T10:51:37.359Z"
   },
   {
    "duration": 4,
    "start_time": "2021-12-09T10:51:45.162Z"
   },
   {
    "duration": 279,
    "start_time": "2021-12-09T10:52:21.579Z"
   },
   {
    "duration": 5,
    "start_time": "2021-12-09T10:52:23.258Z"
   },
   {
    "duration": 3,
    "start_time": "2021-12-09T10:54:07.114Z"
   },
   {
    "duration": 6,
    "start_time": "2021-12-09T10:55:41.685Z"
   },
   {
    "duration": 24,
    "start_time": "2021-12-09T10:56:13.386Z"
   },
   {
    "duration": 5,
    "start_time": "2021-12-09T10:56:18.635Z"
   },
   {
    "duration": 280,
    "start_time": "2021-12-09T10:57:41.909Z"
   },
   {
    "duration": 33,
    "start_time": "2021-12-09T10:57:50.417Z"
   },
   {
    "duration": 5,
    "start_time": "2021-12-09T10:57:52.208Z"
   },
   {
    "duration": 33,
    "start_time": "2021-12-09T10:59:48.083Z"
   },
   {
    "duration": 6,
    "start_time": "2021-12-09T10:59:48.699Z"
   },
   {
    "duration": 6,
    "start_time": "2021-12-09T10:59:50.968Z"
   },
   {
    "duration": 34,
    "start_time": "2021-12-09T10:59:51.344Z"
   },
   {
    "duration": 5,
    "start_time": "2021-12-09T10:59:51.784Z"
   },
   {
    "duration": 32,
    "start_time": "2021-12-09T11:00:53.952Z"
   },
   {
    "duration": 7,
    "start_time": "2021-12-09T11:00:54.475Z"
   },
   {
    "duration": 28,
    "start_time": "2021-12-09T11:01:01.692Z"
   },
   {
    "duration": 7,
    "start_time": "2021-12-09T11:01:02.931Z"
   },
   {
    "duration": 1098,
    "start_time": "2021-12-09T11:01:16.082Z"
   },
   {
    "duration": 19,
    "start_time": "2021-12-09T11:01:17.182Z"
   },
   {
    "duration": 37,
    "start_time": "2021-12-09T11:01:17.204Z"
   },
   {
    "duration": 15,
    "start_time": "2021-12-09T11:01:17.243Z"
   },
   {
    "duration": 15,
    "start_time": "2021-12-09T11:01:17.261Z"
   },
   {
    "duration": 22,
    "start_time": "2021-12-09T11:01:17.278Z"
   },
   {
    "duration": 21,
    "start_time": "2021-12-09T11:01:17.302Z"
   },
   {
    "duration": 37,
    "start_time": "2021-12-09T11:01:17.325Z"
   },
   {
    "duration": 14,
    "start_time": "2021-12-09T11:01:17.364Z"
   },
   {
    "duration": 15,
    "start_time": "2021-12-09T11:01:17.379Z"
   },
   {
    "duration": 30,
    "start_time": "2021-12-09T11:01:17.396Z"
   },
   {
    "duration": 12,
    "start_time": "2021-12-09T11:01:17.428Z"
   },
   {
    "duration": 31,
    "start_time": "2021-12-09T11:01:17.442Z"
   },
   {
    "duration": 41,
    "start_time": "2021-12-09T11:01:51.721Z"
   },
   {
    "duration": 7,
    "start_time": "2021-12-09T11:01:52.801Z"
   },
   {
    "duration": 63,
    "start_time": "2021-12-09T11:02:10.752Z"
   },
   {
    "duration": 7,
    "start_time": "2021-12-09T11:02:12.464Z"
   },
   {
    "duration": 3,
    "start_time": "2021-12-09T11:02:52.000Z"
   },
   {
    "duration": 52,
    "start_time": "2021-12-09T11:02:52.005Z"
   },
   {
    "duration": 24,
    "start_time": "2021-12-09T11:02:52.059Z"
   },
   {
    "duration": 19,
    "start_time": "2021-12-09T11:02:52.085Z"
   },
   {
    "duration": 29,
    "start_time": "2021-12-09T11:02:52.106Z"
   },
   {
    "duration": 16,
    "start_time": "2021-12-09T11:02:52.136Z"
   },
   {
    "duration": 31,
    "start_time": "2021-12-09T11:02:52.154Z"
   },
   {
    "duration": 72,
    "start_time": "2021-12-09T11:02:52.186Z"
   },
   {
    "duration": 7,
    "start_time": "2021-12-09T11:02:52.260Z"
   },
   {
    "duration": 64,
    "start_time": "2021-12-09T11:03:12.201Z"
   },
   {
    "duration": 8,
    "start_time": "2021-12-09T11:03:12.787Z"
   },
   {
    "duration": 3,
    "start_time": "2021-12-09T11:03:26.852Z"
   },
   {
    "duration": 21,
    "start_time": "2021-12-09T11:03:26.857Z"
   },
   {
    "duration": 8,
    "start_time": "2021-12-09T11:03:26.880Z"
   },
   {
    "duration": 6,
    "start_time": "2021-12-09T11:03:26.890Z"
   },
   {
    "duration": 4,
    "start_time": "2021-12-09T11:03:26.898Z"
   },
   {
    "duration": 8,
    "start_time": "2021-12-09T11:03:26.904Z"
   },
   {
    "duration": 5,
    "start_time": "2021-12-09T11:03:26.913Z"
   },
   {
    "duration": 80,
    "start_time": "2021-12-09T11:03:26.920Z"
   },
   {
    "duration": 7,
    "start_time": "2021-12-09T11:03:27.002Z"
   },
   {
    "duration": 6,
    "start_time": "2021-12-09T11:05:24.935Z"
   },
   {
    "duration": 6,
    "start_time": "2021-12-09T11:11:01.420Z"
   },
   {
    "duration": 1610,
    "start_time": "2021-12-09T11:11:02.834Z"
   },
   {
    "duration": 6,
    "start_time": "2021-12-09T11:11:16.729Z"
   },
   {
    "duration": 407,
    "start_time": "2021-12-09T11:11:17.099Z"
   },
   {
    "duration": 287,
    "start_time": "2021-12-09T11:11:22.782Z"
   },
   {
    "duration": 1578,
    "start_time": "2021-12-09T11:11:36.698Z"
   },
   {
    "duration": 10,
    "start_time": "2021-12-09T11:11:38.934Z"
   },
   {
    "duration": 5,
    "start_time": "2021-12-09T11:11:57.531Z"
   },
   {
    "duration": 3,
    "start_time": "2021-12-09T11:12:21.051Z"
   },
   {
    "duration": 4,
    "start_time": "2021-12-09T11:12:39.379Z"
   },
   {
    "duration": 4,
    "start_time": "2021-12-09T11:12:45.822Z"
   },
   {
    "duration": 100,
    "start_time": "2021-12-09T11:13:12.889Z"
   },
   {
    "duration": 136,
    "start_time": "2021-12-09T11:13:24.539Z"
   },
   {
    "duration": 68,
    "start_time": "2021-12-09T11:13:38.010Z"
   },
   {
    "duration": 4,
    "start_time": "2021-12-09T11:13:39.539Z"
   },
   {
    "duration": 4,
    "start_time": "2021-12-09T11:13:40.553Z"
   },
   {
    "duration": 6,
    "start_time": "2021-12-09T11:14:04.326Z"
   },
   {
    "duration": 3,
    "start_time": "2021-12-09T11:14:05.101Z"
   },
   {
    "duration": 1577,
    "start_time": "2021-12-09T11:14:39.097Z"
   },
   {
    "duration": 5,
    "start_time": "2021-12-09T11:14:41.601Z"
   },
   {
    "duration": 4,
    "start_time": "2021-12-09T11:14:42.370Z"
   },
   {
    "duration": 358,
    "start_time": "2021-12-09T11:16:40.689Z"
   },
   {
    "duration": 194,
    "start_time": "2021-12-09T11:17:18.636Z"
   },
   {
    "duration": 14,
    "start_time": "2021-12-09T11:18:17.539Z"
   },
   {
    "duration": 4,
    "start_time": "2021-12-09T11:18:58.619Z"
   },
   {
    "duration": 13,
    "start_time": "2021-12-09T11:19:10.305Z"
   },
   {
    "duration": 3,
    "start_time": "2021-12-09T11:19:10.972Z"
   },
   {
    "duration": 335,
    "start_time": "2021-12-09T11:20:24.538Z"
   },
   {
    "duration": 14,
    "start_time": "2021-12-09T11:20:52.627Z"
   },
   {
    "duration": 4,
    "start_time": "2021-12-09T11:20:56.645Z"
   },
   {
    "duration": 3,
    "start_time": "2021-12-09T11:26:33.211Z"
   },
   {
    "duration": 189,
    "start_time": "2021-12-09T11:26:45.033Z"
   },
   {
    "duration": 3,
    "start_time": "2021-12-09T11:26:47.875Z"
   },
   {
    "duration": 33,
    "start_time": "2021-12-09T11:26:47.880Z"
   },
   {
    "duration": 13,
    "start_time": "2021-12-09T11:26:47.915Z"
   },
   {
    "duration": 30,
    "start_time": "2021-12-09T11:26:47.930Z"
   },
   {
    "duration": 27,
    "start_time": "2021-12-09T11:26:47.962Z"
   },
   {
    "duration": 34,
    "start_time": "2021-12-09T11:26:47.991Z"
   },
   {
    "duration": 46,
    "start_time": "2021-12-09T11:26:48.026Z"
   },
   {
    "duration": 88,
    "start_time": "2021-12-09T11:26:48.074Z"
   },
   {
    "duration": 4,
    "start_time": "2021-12-09T11:26:48.165Z"
   },
   {
    "duration": 19,
    "start_time": "2021-12-09T11:26:48.171Z"
   },
   {
    "duration": 238,
    "start_time": "2021-12-09T11:26:48.192Z"
   },
   {
    "duration": 15,
    "start_time": "2021-12-09T11:26:48.432Z"
   },
   {
    "duration": 1551,
    "start_time": "2021-12-09T11:26:48.450Z"
   },
   {
    "duration": 5,
    "start_time": "2021-12-09T11:26:50.003Z"
   },
   {
    "duration": 30,
    "start_time": "2021-12-09T11:26:50.010Z"
   },
   {
    "duration": 35,
    "start_time": "2021-12-09T11:26:50.042Z"
   },
   {
    "duration": 42,
    "start_time": "2021-12-09T11:26:50.079Z"
   },
   {
    "duration": 22,
    "start_time": "2021-12-09T11:26:50.123Z"
   },
   {
    "duration": 5,
    "start_time": "2021-12-09T11:27:28.031Z"
   },
   {
    "duration": 1524,
    "start_time": "2021-12-09T11:27:28.703Z"
   },
   {
    "duration": 14,
    "start_time": "2021-12-09T11:27:30.229Z"
   },
   {
    "duration": 4,
    "start_time": "2021-12-09T11:27:33.259Z"
   },
   {
    "duration": 193,
    "start_time": "2021-12-09T11:27:38.324Z"
   },
   {
    "duration": 4,
    "start_time": "2021-12-09T11:27:43.291Z"
   },
   {
    "duration": 22,
    "start_time": "2021-12-09T11:27:43.297Z"
   },
   {
    "duration": 9,
    "start_time": "2021-12-09T11:27:43.321Z"
   },
   {
    "duration": 8,
    "start_time": "2021-12-09T11:27:43.332Z"
   },
   {
    "duration": 4,
    "start_time": "2021-12-09T11:27:43.342Z"
   },
   {
    "duration": 8,
    "start_time": "2021-12-09T11:27:43.348Z"
   },
   {
    "duration": 5,
    "start_time": "2021-12-09T11:27:43.358Z"
   },
   {
    "duration": 135,
    "start_time": "2021-12-09T11:27:43.365Z"
   },
   {
    "duration": 4,
    "start_time": "2021-12-09T11:27:43.502Z"
   },
   {
    "duration": 4,
    "start_time": "2021-12-09T11:27:43.508Z"
   },
   {
    "duration": 183,
    "start_time": "2021-12-09T11:27:43.514Z"
   },
   {
    "duration": 5,
    "start_time": "2021-12-09T11:27:43.699Z"
   },
   {
    "duration": 1538,
    "start_time": "2021-12-09T11:27:43.706Z"
   },
   {
    "duration": 3,
    "start_time": "2021-12-09T11:27:45.246Z"
   },
   {
    "duration": 6,
    "start_time": "2021-12-09T11:27:45.250Z"
   },
   {
    "duration": 199,
    "start_time": "2021-12-09T11:27:45.257Z"
   },
   {
    "duration": 4,
    "start_time": "2021-12-09T11:27:46.107Z"
   },
   {
    "duration": 21,
    "start_time": "2021-12-09T11:27:46.112Z"
   },
   {
    "duration": 9,
    "start_time": "2021-12-09T11:27:46.135Z"
   },
   {
    "duration": 8,
    "start_time": "2021-12-09T11:27:46.145Z"
   },
   {
    "duration": 11,
    "start_time": "2021-12-09T11:27:46.154Z"
   },
   {
    "duration": 10,
    "start_time": "2021-12-09T11:27:46.167Z"
   },
   {
    "duration": 11,
    "start_time": "2021-12-09T11:27:46.179Z"
   },
   {
    "duration": 72,
    "start_time": "2021-12-09T11:27:46.191Z"
   },
   {
    "duration": 3,
    "start_time": "2021-12-09T11:27:46.266Z"
   },
   {
    "duration": 10,
    "start_time": "2021-12-09T11:27:46.271Z"
   },
   {
    "duration": 189,
    "start_time": "2021-12-09T11:27:46.283Z"
   },
   {
    "duration": 5,
    "start_time": "2021-12-09T11:27:46.474Z"
   },
   {
    "duration": 1498,
    "start_time": "2021-12-09T11:27:46.480Z"
   },
   {
    "duration": 4,
    "start_time": "2021-12-09T11:27:47.980Z"
   },
   {
    "duration": 6,
    "start_time": "2021-12-09T11:27:47.985Z"
   },
   {
    "duration": 212,
    "start_time": "2021-12-09T11:27:47.992Z"
   },
   {
    "duration": 14,
    "start_time": "2021-12-09T11:27:48.205Z"
   },
   {
    "duration": 23,
    "start_time": "2021-12-09T11:27:48.221Z"
   },
   {
    "duration": 186,
    "start_time": "2021-12-09T11:29:19.867Z"
   },
   {
    "duration": 193,
    "start_time": "2021-12-09T11:29:29.424Z"
   },
   {
    "duration": 179,
    "start_time": "2021-12-09T11:29:37.795Z"
   },
   {
    "duration": 102,
    "start_time": "2021-12-09T11:29:48.430Z"
   },
   {
    "duration": 86,
    "start_time": "2021-12-09T11:29:55.339Z"
   },
   {
    "duration": 180,
    "start_time": "2021-12-09T11:30:03.708Z"
   },
   {
    "duration": 3739,
    "start_time": "2021-12-09T11:32:27.612Z"
   },
   {
    "duration": 200,
    "start_time": "2021-12-09T11:33:21.520Z"
   },
   {
    "duration": 690,
    "start_time": "2021-12-09T11:34:47.310Z"
   },
   {
    "duration": 177,
    "start_time": "2021-12-09T11:35:06.991Z"
   },
   {
    "duration": 7,
    "start_time": "2021-12-09T11:36:20.264Z"
   },
   {
    "duration": 6,
    "start_time": "2021-12-09T11:36:27.007Z"
   },
   {
    "duration": 5,
    "start_time": "2021-12-09T11:36:42.384Z"
   },
   {
    "duration": 3,
    "start_time": "2021-12-09T11:36:47.091Z"
   },
   {
    "duration": 5,
    "start_time": "2021-12-09T11:37:09.863Z"
   },
   {
    "duration": 5,
    "start_time": "2021-12-09T11:37:10.374Z"
   },
   {
    "duration": 5,
    "start_time": "2021-12-09T11:37:38.375Z"
   },
   {
    "duration": 6,
    "start_time": "2021-12-09T11:37:38.932Z"
   },
   {
    "duration": 5,
    "start_time": "2021-12-09T11:37:54.184Z"
   },
   {
    "duration": 4,
    "start_time": "2021-12-09T11:37:54.670Z"
   },
   {
    "duration": 32,
    "start_time": "2021-12-09T13:01:01.228Z"
   },
   {
    "duration": 4,
    "start_time": "2021-12-09T13:01:31.327Z"
   },
   {
    "duration": 29,
    "start_time": "2021-12-09T13:01:31.333Z"
   },
   {
    "duration": 15,
    "start_time": "2021-12-09T13:01:31.365Z"
   },
   {
    "duration": 10,
    "start_time": "2021-12-09T13:01:31.382Z"
   },
   {
    "duration": 9,
    "start_time": "2021-12-09T13:01:31.393Z"
   },
   {
    "duration": 13,
    "start_time": "2021-12-09T13:01:31.403Z"
   },
   {
    "duration": 8,
    "start_time": "2021-12-09T13:01:31.417Z"
   },
   {
    "duration": 49,
    "start_time": "2021-12-09T13:01:31.427Z"
   },
   {
    "duration": 4,
    "start_time": "2021-12-09T13:01:31.479Z"
   },
   {
    "duration": 10,
    "start_time": "2021-12-09T13:01:31.485Z"
   },
   {
    "duration": 182,
    "start_time": "2021-12-09T13:01:31.496Z"
   },
   {
    "duration": 5,
    "start_time": "2021-12-09T13:01:31.679Z"
   },
   {
    "duration": 1499,
    "start_time": "2021-12-09T13:01:31.686Z"
   },
   {
    "duration": 4,
    "start_time": "2021-12-09T13:01:33.186Z"
   },
   {
    "duration": 8,
    "start_time": "2021-12-09T13:01:33.192Z"
   },
   {
    "duration": 215,
    "start_time": "2021-12-09T13:01:33.201Z"
   },
   {
    "duration": 27,
    "start_time": "2021-12-09T13:01:33.418Z"
   },
   {
    "duration": 5,
    "start_time": "2021-12-09T13:01:33.447Z"
   },
   {
    "duration": 6,
    "start_time": "2021-12-09T13:01:33.455Z"
   },
   {
    "duration": 6,
    "start_time": "2021-12-09T13:01:33.463Z"
   },
   {
    "duration": 7,
    "start_time": "2021-12-09T13:01:33.471Z"
   },
   {
    "duration": 4,
    "start_time": "2021-12-09T13:01:33.480Z"
   },
   {
    "duration": 4,
    "start_time": "2021-12-09T13:01:33.486Z"
   },
   {
    "duration": 6,
    "start_time": "2021-12-09T13:01:33.491Z"
   },
   {
    "duration": 206,
    "start_time": "2021-12-09T13:04:33.238Z"
   },
   {
    "duration": 269,
    "start_time": "2021-12-09T13:04:39.483Z"
   },
   {
    "duration": 170,
    "start_time": "2021-12-09T13:04:55.477Z"
   },
   {
    "duration": 169,
    "start_time": "2021-12-09T13:05:18.989Z"
   },
   {
    "duration": 182,
    "start_time": "2021-12-09T13:05:24.251Z"
   },
   {
    "duration": 177,
    "start_time": "2021-12-09T13:05:32.559Z"
   },
   {
    "duration": 198,
    "start_time": "2021-12-09T13:05:45.761Z"
   },
   {
    "duration": 686,
    "start_time": "2021-12-09T13:06:21.689Z"
   },
   {
    "duration": 5,
    "start_time": "2021-12-09T13:06:22.965Z"
   },
   {
    "duration": 4,
    "start_time": "2021-12-09T13:06:23.555Z"
   },
   {
    "duration": 200,
    "start_time": "2021-12-09T13:06:24.984Z"
   },
   {
    "duration": 1706,
    "start_time": "2021-12-09T13:06:32.081Z"
   },
   {
    "duration": 5,
    "start_time": "2021-12-09T13:06:33.789Z"
   },
   {
    "duration": 10,
    "start_time": "2021-12-09T13:06:33.795Z"
   },
   {
    "duration": 199,
    "start_time": "2021-12-09T13:06:34.736Z"
   },
   {
    "duration": 4,
    "start_time": "2021-12-09T13:09:38.684Z"
   },
   {
    "duration": 24,
    "start_time": "2021-12-09T13:09:38.690Z"
   },
   {
    "duration": 9,
    "start_time": "2021-12-09T13:09:38.717Z"
   },
   {
    "duration": 6,
    "start_time": "2021-12-09T13:09:38.729Z"
   },
   {
    "duration": 5,
    "start_time": "2021-12-09T13:09:38.737Z"
   },
   {
    "duration": 8,
    "start_time": "2021-12-09T13:09:38.744Z"
   },
   {
    "duration": 6,
    "start_time": "2021-12-09T13:09:38.754Z"
   },
   {
    "duration": 32,
    "start_time": "2021-12-09T13:09:38.762Z"
   },
   {
    "duration": 5,
    "start_time": "2021-12-09T13:09:38.797Z"
   },
   {
    "duration": 4,
    "start_time": "2021-12-09T13:09:38.804Z"
   },
   {
    "duration": 229,
    "start_time": "2021-12-09T13:09:38.810Z"
   },
   {
    "duration": 5,
    "start_time": "2021-12-09T13:09:39.045Z"
   },
   {
    "duration": 1794,
    "start_time": "2021-12-09T13:09:39.052Z"
   },
   {
    "duration": 4,
    "start_time": "2021-12-09T13:09:40.848Z"
   },
   {
    "duration": 7,
    "start_time": "2021-12-09T13:09:40.854Z"
   },
   {
    "duration": 267,
    "start_time": "2021-12-09T13:09:40.864Z"
   },
   {
    "duration": 22,
    "start_time": "2021-12-09T13:09:41.133Z"
   },
   {
    "duration": 3,
    "start_time": "2021-12-09T13:09:41.157Z"
   },
   {
    "duration": 7,
    "start_time": "2021-12-09T13:09:41.162Z"
   },
   {
    "duration": 5,
    "start_time": "2021-12-09T13:09:41.170Z"
   },
   {
    "duration": 5,
    "start_time": "2021-12-09T13:09:41.177Z"
   },
   {
    "duration": 5,
    "start_time": "2021-12-09T13:09:41.184Z"
   },
   {
    "duration": 7,
    "start_time": "2021-12-09T13:09:41.190Z"
   },
   {
    "duration": 7,
    "start_time": "2021-12-09T13:09:41.199Z"
   },
   {
    "duration": 209,
    "start_time": "2021-12-09T13:11:17.800Z"
   },
   {
    "duration": 91,
    "start_time": "2021-12-09T13:16:55.361Z"
   },
   {
    "duration": 303,
    "start_time": "2021-12-09T13:17:01.228Z"
   },
   {
    "duration": 159,
    "start_time": "2021-12-09T13:19:54.076Z"
   },
   {
    "duration": 875,
    "start_time": "2021-12-09T13:20:12.596Z"
   },
   {
    "duration": 213,
    "start_time": "2021-12-09T13:20:18.643Z"
   },
   {
    "duration": 706,
    "start_time": "2021-12-09T13:23:43.595Z"
   },
   {
    "duration": 190,
    "start_time": "2021-12-09T13:23:51.868Z"
   },
   {
    "duration": 14,
    "start_time": "2021-12-09T13:24:35.788Z"
   },
   {
    "duration": 4,
    "start_time": "2021-12-09T13:24:36.341Z"
   },
   {
    "duration": 6,
    "start_time": "2021-12-09T13:24:37.359Z"
   },
   {
    "duration": 4,
    "start_time": "2021-12-09T13:24:37.893Z"
   },
   {
    "duration": 5,
    "start_time": "2021-12-09T13:24:38.346Z"
   },
   {
    "duration": 4,
    "start_time": "2021-12-09T13:26:48.149Z"
   },
   {
    "duration": 4,
    "start_time": "2021-12-09T13:27:12.670Z"
   },
   {
    "duration": 4,
    "start_time": "2021-12-09T13:28:58.632Z"
   },
   {
    "duration": 4,
    "start_time": "2021-12-09T13:29:20.384Z"
   },
   {
    "duration": 297,
    "start_time": "2021-12-09T13:30:05.076Z"
   },
   {
    "duration": 268,
    "start_time": "2021-12-09T13:31:13.610Z"
   },
   {
    "duration": 188,
    "start_time": "2021-12-09T13:31:14.982Z"
   },
   {
    "duration": 190,
    "start_time": "2021-12-09T13:32:02.945Z"
   },
   {
    "duration": 185,
    "start_time": "2021-12-09T13:32:04.103Z"
   },
   {
    "duration": 3,
    "start_time": "2021-12-09T13:32:39.605Z"
   },
   {
    "duration": 46,
    "start_time": "2021-12-09T13:32:39.610Z"
   },
   {
    "duration": 19,
    "start_time": "2021-12-09T13:32:39.658Z"
   },
   {
    "duration": 27,
    "start_time": "2021-12-09T13:32:39.679Z"
   },
   {
    "duration": 20,
    "start_time": "2021-12-09T13:32:39.708Z"
   },
   {
    "duration": 29,
    "start_time": "2021-12-09T13:32:39.730Z"
   },
   {
    "duration": 46,
    "start_time": "2021-12-09T13:32:39.762Z"
   },
   {
    "duration": 28,
    "start_time": "2021-12-09T13:32:39.811Z"
   },
   {
    "duration": 94,
    "start_time": "2021-12-09T13:32:39.841Z"
   },
   {
    "duration": 5,
    "start_time": "2021-12-09T13:32:39.936Z"
   },
   {
    "duration": 25,
    "start_time": "2021-12-09T13:32:39.942Z"
   },
   {
    "duration": 211,
    "start_time": "2021-12-09T13:32:39.969Z"
   },
   {
    "duration": 5,
    "start_time": "2021-12-09T13:32:40.182Z"
   },
   {
    "duration": 1545,
    "start_time": "2021-12-09T13:32:40.189Z"
   },
   {
    "duration": 9,
    "start_time": "2021-12-09T13:32:41.736Z"
   },
   {
    "duration": 6,
    "start_time": "2021-12-09T13:32:41.747Z"
   },
   {
    "duration": 195,
    "start_time": "2021-12-09T13:32:41.754Z"
   },
   {
    "duration": 195,
    "start_time": "2021-12-09T13:32:41.951Z"
   },
   {
    "duration": 13,
    "start_time": "2021-12-09T13:32:42.150Z"
   },
   {
    "duration": 4,
    "start_time": "2021-12-09T13:32:42.165Z"
   },
   {
    "duration": 7,
    "start_time": "2021-12-09T13:32:42.171Z"
   },
   {
    "duration": 4,
    "start_time": "2021-12-09T13:32:42.179Z"
   },
   {
    "duration": 5,
    "start_time": "2021-12-09T13:32:42.185Z"
   },
   {
    "duration": 6,
    "start_time": "2021-12-09T13:32:42.191Z"
   },
   {
    "duration": 48,
    "start_time": "2021-12-09T13:32:42.198Z"
   },
   {
    "duration": 4,
    "start_time": "2021-12-09T13:32:42.247Z"
   },
   {
    "duration": 1991,
    "start_time": "2021-12-09T13:37:29.646Z"
   },
   {
    "duration": 21,
    "start_time": "2021-12-09T13:37:31.639Z"
   },
   {
    "duration": 40,
    "start_time": "2021-12-09T13:37:31.662Z"
   },
   {
    "duration": 29,
    "start_time": "2021-12-09T13:37:31.704Z"
   },
   {
    "duration": 39,
    "start_time": "2021-12-09T13:37:31.735Z"
   },
   {
    "duration": 27,
    "start_time": "2021-12-09T13:37:31.776Z"
   },
   {
    "duration": 30,
    "start_time": "2021-12-09T13:37:31.805Z"
   },
   {
    "duration": 51,
    "start_time": "2021-12-09T13:37:31.838Z"
   },
   {
    "duration": 124,
    "start_time": "2021-12-09T13:37:31.893Z"
   },
   {
    "duration": 6,
    "start_time": "2021-12-09T13:37:32.021Z"
   },
   {
    "duration": 28,
    "start_time": "2021-12-09T13:37:32.030Z"
   },
   {
    "duration": 226,
    "start_time": "2021-12-09T13:37:32.060Z"
   },
   {
    "duration": 6,
    "start_time": "2021-12-09T13:37:32.287Z"
   },
   {
    "duration": 2502,
    "start_time": "2021-12-09T13:37:32.295Z"
   },
   {
    "duration": 6,
    "start_time": "2021-12-09T13:37:34.799Z"
   },
   {
    "duration": 8,
    "start_time": "2021-12-09T13:37:34.807Z"
   },
   {
    "duration": 203,
    "start_time": "2021-12-09T13:37:34.817Z"
   },
   {
    "duration": 206,
    "start_time": "2021-12-09T13:37:35.022Z"
   },
   {
    "duration": 23,
    "start_time": "2021-12-09T13:37:35.230Z"
   },
   {
    "duration": 4,
    "start_time": "2021-12-09T13:37:35.255Z"
   },
   {
    "duration": 7,
    "start_time": "2021-12-09T13:37:35.261Z"
   },
   {
    "duration": 3,
    "start_time": "2021-12-09T13:37:35.270Z"
   },
   {
    "duration": 6,
    "start_time": "2021-12-09T13:37:35.275Z"
   },
   {
    "duration": 5,
    "start_time": "2021-12-09T13:37:35.283Z"
   },
   {
    "duration": 382,
    "start_time": "2021-12-09T13:37:35.290Z"
   },
   {
    "duration": -648,
    "start_time": "2021-12-09T13:37:36.322Z"
   },
   {
    "duration": 5,
    "start_time": "2021-12-09T13:37:47.813Z"
   },
   {
    "duration": 359,
    "start_time": "2021-12-09T13:39:42.406Z"
   },
   {
    "duration": 2,
    "start_time": "2021-12-09T13:39:48.826Z"
   },
   {
    "duration": 5,
    "start_time": "2021-12-09T13:39:53.247Z"
   },
   {
    "duration": 6,
    "start_time": "2021-12-09T13:39:54.217Z"
   },
   {
    "duration": 4,
    "start_time": "2021-12-09T13:40:33.455Z"
   },
   {
    "duration": 13,
    "start_time": "2021-12-09T13:41:09.628Z"
   },
   {
    "duration": 4,
    "start_time": "2021-12-09T13:41:10.262Z"
   },
   {
    "duration": 4,
    "start_time": "2021-12-09T13:41:21.257Z"
   },
   {
    "duration": 2,
    "start_time": "2021-12-09T13:41:31.499Z"
   },
   {
    "duration": 3,
    "start_time": "2021-12-09T13:41:35.712Z"
   },
   {
    "duration": 39,
    "start_time": "2021-12-09T13:41:35.717Z"
   },
   {
    "duration": 30,
    "start_time": "2021-12-09T13:41:35.759Z"
   },
   {
    "duration": 33,
    "start_time": "2021-12-09T13:41:35.792Z"
   },
   {
    "duration": 24,
    "start_time": "2021-12-09T13:41:35.827Z"
   },
   {
    "duration": 22,
    "start_time": "2021-12-09T13:41:35.853Z"
   },
   {
    "duration": 46,
    "start_time": "2021-12-09T13:41:35.877Z"
   },
   {
    "duration": 12,
    "start_time": "2021-12-09T13:41:35.925Z"
   },
   {
    "duration": 21,
    "start_time": "2021-12-09T13:41:35.940Z"
   },
   {
    "duration": 84,
    "start_time": "2021-12-09T13:41:35.963Z"
   },
   {
    "duration": 5,
    "start_time": "2021-12-09T13:41:36.049Z"
   },
   {
    "duration": 21,
    "start_time": "2021-12-09T13:41:36.056Z"
   },
   {
    "duration": 221,
    "start_time": "2021-12-09T13:41:36.079Z"
   },
   {
    "duration": 6,
    "start_time": "2021-12-09T13:41:36.301Z"
   },
   {
    "duration": 2404,
    "start_time": "2021-12-09T13:41:36.309Z"
   },
   {
    "duration": 6,
    "start_time": "2021-12-09T13:41:38.715Z"
   },
   {
    "duration": 22,
    "start_time": "2021-12-09T13:41:38.723Z"
   },
   {
    "duration": 265,
    "start_time": "2021-12-09T13:41:38.748Z"
   },
   {
    "duration": 196,
    "start_time": "2021-12-09T13:41:39.015Z"
   },
   {
    "duration": 15,
    "start_time": "2021-12-09T13:41:39.213Z"
   },
   {
    "duration": 17,
    "start_time": "2021-12-09T13:41:39.230Z"
   },
   {
    "duration": 6,
    "start_time": "2021-12-09T13:41:39.249Z"
   },
   {
    "duration": 8,
    "start_time": "2021-12-09T13:41:39.257Z"
   },
   {
    "duration": 7,
    "start_time": "2021-12-09T13:41:39.267Z"
   },
   {
    "duration": 6,
    "start_time": "2021-12-09T13:41:39.276Z"
   },
   {
    "duration": 6,
    "start_time": "2021-12-09T13:41:39.284Z"
   },
   {
    "duration": 6,
    "start_time": "2021-12-09T13:41:39.294Z"
   },
   {
    "duration": 52,
    "start_time": "2021-12-09T13:41:39.302Z"
   },
   {
    "duration": 7,
    "start_time": "2021-12-09T13:42:45.846Z"
   },
   {
    "duration": 5,
    "start_time": "2021-12-09T13:42:46.793Z"
   },
   {
    "duration": 322,
    "start_time": "2021-12-09T14:00:41.100Z"
   },
   {
    "duration": 291,
    "start_time": "2021-12-09T14:00:51.941Z"
   },
   {
    "duration": 290,
    "start_time": "2021-12-09T14:01:21.646Z"
   },
   {
    "duration": 6,
    "start_time": "2021-12-09T14:01:25.920Z"
   },
   {
    "duration": 8,
    "start_time": "2021-12-09T14:01:44.384Z"
   },
   {
    "duration": 92,
    "start_time": "2021-12-09T14:02:13.744Z"
   },
   {
    "duration": 6,
    "start_time": "2021-12-09T14:02:35.879Z"
   },
   {
    "duration": 180,
    "start_time": "2021-12-09T14:05:29.459Z"
   },
   {
    "duration": 216,
    "start_time": "2021-12-09T14:05:40.058Z"
   },
   {
    "duration": 188,
    "start_time": "2021-12-09T14:05:59.564Z"
   },
   {
    "duration": 201,
    "start_time": "2021-12-09T14:06:14.746Z"
   },
   {
    "duration": 213,
    "start_time": "2021-12-09T14:06:24.014Z"
   },
   {
    "duration": 188,
    "start_time": "2021-12-09T14:06:39.058Z"
   },
   {
    "duration": 6,
    "start_time": "2021-12-09T14:08:25.335Z"
   },
   {
    "duration": 9,
    "start_time": "2021-12-09T14:08:35.738Z"
   },
   {
    "duration": 6,
    "start_time": "2021-12-09T14:08:45.833Z"
   },
   {
    "duration": 4,
    "start_time": "2021-12-09T14:08:49.325Z"
   },
   {
    "duration": 3,
    "start_time": "2021-12-09T14:08:54.186Z"
   },
   {
    "duration": 25,
    "start_time": "2021-12-09T14:08:54.191Z"
   },
   {
    "duration": 9,
    "start_time": "2021-12-09T14:08:54.218Z"
   },
   {
    "duration": 17,
    "start_time": "2021-12-09T14:08:54.229Z"
   },
   {
    "duration": 7,
    "start_time": "2021-12-09T14:08:54.248Z"
   },
   {
    "duration": 17,
    "start_time": "2021-12-09T14:08:54.257Z"
   },
   {
    "duration": 8,
    "start_time": "2021-12-09T14:08:54.275Z"
   },
   {
    "duration": 6,
    "start_time": "2021-12-09T14:08:54.286Z"
   },
   {
    "duration": 9,
    "start_time": "2021-12-09T14:08:54.295Z"
   },
   {
    "duration": 76,
    "start_time": "2021-12-09T14:08:54.306Z"
   },
   {
    "duration": 4,
    "start_time": "2021-12-09T14:08:54.384Z"
   },
   {
    "duration": 13,
    "start_time": "2021-12-09T14:08:54.390Z"
   },
   {
    "duration": 196,
    "start_time": "2021-12-09T14:08:54.405Z"
   },
   {
    "duration": 5,
    "start_time": "2021-12-09T14:08:54.603Z"
   },
   {
    "duration": 1575,
    "start_time": "2021-12-09T14:08:54.610Z"
   },
   {
    "duration": 5,
    "start_time": "2021-12-09T14:08:56.186Z"
   },
   {
    "duration": 9,
    "start_time": "2021-12-09T14:08:56.193Z"
   },
   {
    "duration": 218,
    "start_time": "2021-12-09T14:08:56.204Z"
   },
   {
    "duration": 199,
    "start_time": "2021-12-09T14:08:56.424Z"
   },
   {
    "duration": 20,
    "start_time": "2021-12-09T14:08:56.625Z"
   },
   {
    "duration": 6,
    "start_time": "2021-12-09T14:08:56.647Z"
   },
   {
    "duration": 6,
    "start_time": "2021-12-09T14:08:56.655Z"
   },
   {
    "duration": 3,
    "start_time": "2021-12-09T14:08:56.664Z"
   },
   {
    "duration": 8,
    "start_time": "2021-12-09T14:08:56.669Z"
   },
   {
    "duration": 5,
    "start_time": "2021-12-09T14:08:56.678Z"
   },
   {
    "duration": 271,
    "start_time": "2021-12-09T14:11:04.788Z"
   },
   {
    "duration": 3,
    "start_time": "2021-12-09T14:11:09.812Z"
   },
   {
    "duration": 4,
    "start_time": "2021-12-09T14:11:25.724Z"
   },
   {
    "duration": 8,
    "start_time": "2021-12-09T14:11:29.576Z"
   },
   {
    "duration": 275,
    "start_time": "2021-12-09T14:11:45.135Z"
   },
   {
    "duration": 790,
    "start_time": "2021-12-09T14:11:50.627Z"
   },
   {
    "duration": 264,
    "start_time": "2021-12-09T14:12:07.467Z"
   },
   {
    "duration": 9,
    "start_time": "2021-12-09T14:12:13.876Z"
   },
   {
    "duration": 3,
    "start_time": "2021-12-09T14:12:30.807Z"
   },
   {
    "duration": 30,
    "start_time": "2021-12-09T14:12:30.812Z"
   },
   {
    "duration": 16,
    "start_time": "2021-12-09T14:12:30.845Z"
   },
   {
    "duration": 16,
    "start_time": "2021-12-09T14:12:30.864Z"
   },
   {
    "duration": 29,
    "start_time": "2021-12-09T14:12:30.882Z"
   },
   {
    "duration": 27,
    "start_time": "2021-12-09T14:12:30.913Z"
   },
   {
    "duration": 22,
    "start_time": "2021-12-09T14:12:30.942Z"
   },
   {
    "duration": 27,
    "start_time": "2021-12-09T14:12:30.966Z"
   },
   {
    "duration": 23,
    "start_time": "2021-12-09T14:12:30.996Z"
   },
   {
    "duration": 91,
    "start_time": "2021-12-09T14:12:31.021Z"
   },
   {
    "duration": 5,
    "start_time": "2021-12-09T14:12:31.114Z"
   },
   {
    "duration": 26,
    "start_time": "2021-12-09T14:12:31.121Z"
   },
   {
    "duration": 207,
    "start_time": "2021-12-09T14:12:31.149Z"
   },
   {
    "duration": 5,
    "start_time": "2021-12-09T14:12:31.357Z"
   },
   {
    "duration": 1580,
    "start_time": "2021-12-09T14:12:31.364Z"
   },
   {
    "duration": 4,
    "start_time": "2021-12-09T14:12:32.945Z"
   },
   {
    "duration": 9,
    "start_time": "2021-12-09T14:12:32.951Z"
   },
   {
    "duration": 190,
    "start_time": "2021-12-09T14:12:32.962Z"
   },
   {
    "duration": 212,
    "start_time": "2021-12-09T14:12:33.154Z"
   },
   {
    "duration": 18,
    "start_time": "2021-12-09T14:12:33.368Z"
   },
   {
    "duration": 31,
    "start_time": "2021-12-09T14:12:33.388Z"
   },
   {
    "duration": 27,
    "start_time": "2021-12-09T14:12:33.421Z"
   },
   {
    "duration": 33,
    "start_time": "2021-12-09T14:12:33.450Z"
   },
   {
    "duration": 25,
    "start_time": "2021-12-09T14:12:33.484Z"
   },
   {
    "duration": 31,
    "start_time": "2021-12-09T14:12:33.511Z"
   },
   {
    "duration": 9,
    "start_time": "2021-12-09T14:12:48.968Z"
   },
   {
    "duration": 4,
    "start_time": "2021-12-09T14:13:49.823Z"
   },
   {
    "duration": 36,
    "start_time": "2021-12-09T14:13:49.829Z"
   },
   {
    "duration": 20,
    "start_time": "2021-12-09T14:13:49.867Z"
   },
   {
    "duration": 22,
    "start_time": "2021-12-09T14:13:49.889Z"
   },
   {
    "duration": 11,
    "start_time": "2021-12-09T14:13:49.913Z"
   },
   {
    "duration": 34,
    "start_time": "2021-12-09T14:13:49.926Z"
   },
   {
    "duration": 53,
    "start_time": "2021-12-09T14:13:49.962Z"
   },
   {
    "duration": 39,
    "start_time": "2021-12-09T14:13:50.018Z"
   },
   {
    "duration": 28,
    "start_time": "2021-12-09T14:13:50.059Z"
   },
   {
    "duration": 82,
    "start_time": "2021-12-09T14:13:50.089Z"
   },
   {
    "duration": 6,
    "start_time": "2021-12-09T14:13:50.172Z"
   },
   {
    "duration": 24,
    "start_time": "2021-12-09T14:13:50.180Z"
   },
   {
    "duration": 204,
    "start_time": "2021-12-09T14:13:50.206Z"
   },
   {
    "duration": 5,
    "start_time": "2021-12-09T14:13:50.412Z"
   },
   {
    "duration": 1634,
    "start_time": "2021-12-09T14:13:50.419Z"
   },
   {
    "duration": 5,
    "start_time": "2021-12-09T14:13:52.054Z"
   },
   {
    "duration": 21,
    "start_time": "2021-12-09T14:13:52.061Z"
   },
   {
    "duration": 201,
    "start_time": "2021-12-09T14:13:52.084Z"
   },
   {
    "duration": 217,
    "start_time": "2021-12-09T14:13:52.286Z"
   },
   {
    "duration": 14,
    "start_time": "2021-12-09T14:13:52.505Z"
   },
   {
    "duration": 5,
    "start_time": "2021-12-09T14:13:52.521Z"
   },
   {
    "duration": 21,
    "start_time": "2021-12-09T14:13:52.527Z"
   },
   {
    "duration": 18,
    "start_time": "2021-12-09T14:13:52.551Z"
   },
   {
    "duration": 9,
    "start_time": "2021-12-09T14:13:52.571Z"
   },
   {
    "duration": 10,
    "start_time": "2021-12-09T14:13:52.582Z"
   },
   {
    "duration": 7,
    "start_time": "2021-12-09T14:15:13.226Z"
   },
   {
    "duration": 5,
    "start_time": "2021-12-09T14:15:15.151Z"
   },
   {
    "duration": 3,
    "start_time": "2021-12-09T14:33:16.501Z"
   },
   {
    "duration": 3,
    "start_time": "2021-12-09T14:33:19.913Z"
   },
   {
    "duration": 281,
    "start_time": "2021-12-09T14:33:32.877Z"
   },
   {
    "duration": 334,
    "start_time": "2021-12-09T14:33:45.708Z"
   },
   {
    "duration": 4,
    "start_time": "2021-12-09T14:33:52.035Z"
   },
   {
    "duration": 4,
    "start_time": "2021-12-09T14:33:55.590Z"
   },
   {
    "duration": 4,
    "start_time": "2021-12-09T14:33:57.160Z"
   },
   {
    "duration": 4,
    "start_time": "2021-12-09T14:33:59.098Z"
   },
   {
    "duration": 5,
    "start_time": "2021-12-09T14:34:00.732Z"
   },
   {
    "duration": 4,
    "start_time": "2021-12-09T14:34:02.560Z"
   },
   {
    "duration": 302,
    "start_time": "2021-12-09T15:04:39.671Z"
   },
   {
    "duration": 301,
    "start_time": "2021-12-09T15:04:57.403Z"
   },
   {
    "duration": 459,
    "start_time": "2021-12-09T15:05:10.660Z"
   },
   {
    "duration": 4,
    "start_time": "2021-12-09T15:07:07.959Z"
   },
   {
    "duration": 6257,
    "start_time": "2021-12-09T15:07:09.074Z"
   },
   {
    "duration": 4957,
    "start_time": "2021-12-09T15:07:29.737Z"
   },
   {
    "duration": 5,
    "start_time": "2021-12-09T15:08:23.602Z"
   },
   {
    "duration": 4336,
    "start_time": "2021-12-09T15:11:17.443Z"
   },
   {
    "duration": 4,
    "start_time": "2021-12-09T15:11:30.476Z"
   },
   {
    "duration": 35,
    "start_time": "2021-12-09T15:11:43.116Z"
   },
   {
    "duration": 3,
    "start_time": "2021-12-09T15:11:44.502Z"
   },
   {
    "duration": 4,
    "start_time": "2021-12-09T15:11:49.744Z"
   },
   {
    "duration": 37,
    "start_time": "2021-12-09T15:12:38.900Z"
   },
   {
    "duration": 39,
    "start_time": "2021-12-09T15:12:40.646Z"
   },
   {
    "duration": 38,
    "start_time": "2021-12-09T15:12:42.213Z"
   },
   {
    "duration": 35,
    "start_time": "2021-12-09T15:12:43.819Z"
   },
   {
    "duration": 38,
    "start_time": "2021-12-09T15:12:45.427Z"
   },
   {
    "duration": 37,
    "start_time": "2021-12-09T15:12:47.039Z"
   },
   {
    "duration": 37,
    "start_time": "2021-12-09T15:12:48.354Z"
   },
   {
    "duration": 41,
    "start_time": "2021-12-09T15:12:49.667Z"
   },
   {
    "duration": 277,
    "start_time": "2021-12-09T15:21:53.321Z"
   },
   {
    "duration": 39,
    "start_time": "2021-12-09T15:24:04.613Z"
   },
   {
    "duration": 35,
    "start_time": "2021-12-09T15:24:07.744Z"
   },
   {
    "duration": 37,
    "start_time": "2021-12-09T15:24:09.838Z"
   },
   {
    "duration": 37,
    "start_time": "2021-12-09T15:24:11.452Z"
   },
   {
    "duration": 41,
    "start_time": "2021-12-09T15:24:13.007Z"
   },
   {
    "duration": 37,
    "start_time": "2021-12-09T15:24:14.816Z"
   },
   {
    "duration": 36,
    "start_time": "2021-12-09T15:24:17.133Z"
   },
   {
    "duration": 37,
    "start_time": "2021-12-09T15:24:18.912Z"
   },
   {
    "duration": 38,
    "start_time": "2021-12-09T15:24:21.870Z"
   },
   {
    "duration": 41,
    "start_time": "2021-12-09T15:24:24.864Z"
   },
   {
    "duration": 249,
    "start_time": "2021-12-09T16:21:24.513Z"
   },
   {
    "duration": 4,
    "start_time": "2021-12-09T17:46:17.408Z"
   },
   {
    "duration": 5,
    "start_time": "2021-12-09T17:48:50.271Z"
   },
   {
    "duration": 9,
    "start_time": "2021-12-09T17:48:51.987Z"
   },
   {
    "duration": 3,
    "start_time": "2021-12-09T17:49:00.879Z"
   },
   {
    "duration": 23,
    "start_time": "2021-12-09T17:49:00.884Z"
   },
   {
    "duration": 11,
    "start_time": "2021-12-09T17:49:00.909Z"
   },
   {
    "duration": 10,
    "start_time": "2021-12-09T17:49:00.922Z"
   },
   {
    "duration": 4,
    "start_time": "2021-12-09T17:49:00.934Z"
   },
   {
    "duration": 19,
    "start_time": "2021-12-09T17:49:00.939Z"
   },
   {
    "duration": 11,
    "start_time": "2021-12-09T17:49:00.960Z"
   },
   {
    "duration": 20,
    "start_time": "2021-12-09T17:49:00.973Z"
   },
   {
    "duration": 28,
    "start_time": "2021-12-09T17:49:00.995Z"
   },
   {
    "duration": 91,
    "start_time": "2021-12-09T17:49:01.025Z"
   },
   {
    "duration": 5,
    "start_time": "2021-12-09T17:49:01.117Z"
   },
   {
    "duration": 30,
    "start_time": "2021-12-09T17:49:01.123Z"
   },
   {
    "duration": 214,
    "start_time": "2021-12-09T17:49:01.155Z"
   },
   {
    "duration": 6,
    "start_time": "2021-12-09T17:49:01.372Z"
   },
   {
    "duration": 1798,
    "start_time": "2021-12-09T17:49:01.380Z"
   },
   {
    "duration": 6,
    "start_time": "2021-12-09T17:49:03.180Z"
   },
   {
    "duration": 10,
    "start_time": "2021-12-09T17:49:03.188Z"
   },
   {
    "duration": 254,
    "start_time": "2021-12-09T17:49:03.200Z"
   },
   {
    "duration": 357,
    "start_time": "2021-12-09T17:49:03.457Z"
   },
   {
    "duration": 38,
    "start_time": "2021-12-09T17:49:03.815Z"
   },
   {
    "duration": 5,
    "start_time": "2021-12-09T17:49:03.855Z"
   },
   {
    "duration": 17,
    "start_time": "2021-12-09T17:49:03.862Z"
   },
   {
    "duration": 9,
    "start_time": "2021-12-09T17:49:03.880Z"
   },
   {
    "duration": 8,
    "start_time": "2021-12-09T17:49:03.891Z"
   },
   {
    "duration": 8,
    "start_time": "2021-12-09T17:49:03.901Z"
   },
   {
    "duration": 7,
    "start_time": "2021-12-09T17:49:03.911Z"
   },
   {
    "duration": 47,
    "start_time": "2021-12-09T17:49:03.920Z"
   },
   {
    "duration": 334,
    "start_time": "2021-12-10T09:36:29.299Z"
   },
   {
    "duration": 1430,
    "start_time": "2021-12-10T09:38:53.005Z"
   },
   {
    "duration": 76,
    "start_time": "2021-12-10T09:38:54.438Z"
   },
   {
    "duration": 16,
    "start_time": "2021-12-10T09:38:54.517Z"
   },
   {
    "duration": 8,
    "start_time": "2021-12-10T09:38:54.536Z"
   },
   {
    "duration": 5,
    "start_time": "2021-12-10T09:38:54.547Z"
   },
   {
    "duration": 12,
    "start_time": "2021-12-10T09:38:54.554Z"
   },
   {
    "duration": 5,
    "start_time": "2021-12-10T09:38:54.568Z"
   },
   {
    "duration": 5,
    "start_time": "2021-12-10T09:38:54.576Z"
   },
   {
    "duration": 7,
    "start_time": "2021-12-10T09:38:54.625Z"
   },
   {
    "duration": 99,
    "start_time": "2021-12-10T09:38:54.635Z"
   },
   {
    "duration": 5,
    "start_time": "2021-12-10T09:38:54.737Z"
   },
   {
    "duration": 8,
    "start_time": "2021-12-10T09:38:54.744Z"
   },
   {
    "duration": 336,
    "start_time": "2021-12-10T09:38:54.754Z"
   },
   {
    "duration": 7,
    "start_time": "2021-12-10T09:38:55.092Z"
   },
   {
    "duration": 2154,
    "start_time": "2021-12-10T09:38:55.102Z"
   },
   {
    "duration": 8,
    "start_time": "2021-12-10T09:38:57.259Z"
   },
   {
    "duration": 6,
    "start_time": "2021-12-10T09:38:57.269Z"
   },
   {
    "duration": 314,
    "start_time": "2021-12-10T09:38:57.277Z"
   },
   {
    "duration": 310,
    "start_time": "2021-12-10T09:38:57.593Z"
   },
   {
    "duration": 36,
    "start_time": "2021-12-10T09:38:57.905Z"
   },
   {
    "duration": 7,
    "start_time": "2021-12-10T09:38:57.944Z"
   },
   {
    "duration": 9,
    "start_time": "2021-12-10T09:38:57.954Z"
   },
   {
    "duration": 12,
    "start_time": "2021-12-10T09:38:57.966Z"
   },
   {
    "duration": 9,
    "start_time": "2021-12-10T09:38:58.023Z"
   },
   {
    "duration": 7,
    "start_time": "2021-12-10T09:38:58.035Z"
   },
   {
    "duration": 84,
    "start_time": "2021-12-10T09:38:58.045Z"
   },
   {
    "duration": 10,
    "start_time": "2021-12-10T09:38:58.133Z"
   }
  ],
  "kernelspec": {
   "display_name": "Python 3 (ipykernel)",
   "language": "python",
   "name": "python3"
  },
  "language_info": {
   "codemirror_mode": {
    "name": "ipython",
    "version": 3
   },
   "file_extension": ".py",
   "mimetype": "text/x-python",
   "name": "python",
   "nbconvert_exporter": "python",
   "pygments_lexer": "ipython3",
   "version": "3.8.8"
  },
  "toc": {
   "base_numbering": 1,
   "nav_menu": {},
   "number_sections": true,
   "sideBar": true,
   "skip_h1_title": true,
   "title_cell": "Table of Contents",
   "title_sidebar": "Contents",
   "toc_cell": false,
   "toc_position": {},
   "toc_section_display": true,
   "toc_window_display": false
  }
 },
 "nbformat": 4,
 "nbformat_minor": 2
}
