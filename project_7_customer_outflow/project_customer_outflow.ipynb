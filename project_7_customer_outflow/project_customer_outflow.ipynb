{
 "cells": [
  {
   "cell_type": "markdown",
   "metadata": {},
   "source": [
    "# Отток клиентов"
   ]
  },
  {
   "cell_type": "markdown",
   "metadata": {},
   "source": [
    "**Цель исследования**"
   ]
  },
  {
   "cell_type": "markdown",
   "metadata": {},
   "source": [
    "Построить модель для задачи классификации, которая будет предсказывать уход клиента, с F1-мерой не менее 0.59."
   ]
  },
  {
   "cell_type": "markdown",
   "metadata": {},
   "source": [
    "## Подготовка данных"
   ]
  },
  {
   "cell_type": "markdown",
   "metadata": {},
   "source": [
    "### Загрузка данных"
   ]
  },
  {
   "cell_type": "code",
   "execution_count": 56,
   "metadata": {},
   "outputs": [],
   "source": [
    "# импорт библиотек\n",
    "import pandas as pd\n",
    "import matplotlib.pyplot as plt\n",
    "import numpy as np\n",
    "import re\n",
    "from sklearn.preprocessing import StandardScaler\n",
    "from sklearn.tree import DecisionTreeClassifier\n",
    "from sklearn.ensemble import RandomForestClassifier\n",
    "from sklearn.linear_model import LogisticRegression\n",
    "from sklearn.model_selection import train_test_split\n",
    "from sklearn.metrics import f1_score, roc_auc_score, roc_curve, accuracy_score, confusion_matrix, precision_score, recall_score\n",
    "from sklearn.utils import shuffle"
   ]
  },
  {
   "cell_type": "code",
   "execution_count": 2,
   "metadata": {},
   "outputs": [],
   "source": [
    "# чтение файлов с данными и сохранение\n",
    "df = pd.read_csv('/datasets/Churn.csv')"
   ]
  },
  {
   "cell_type": "code",
   "execution_count": 3,
   "metadata": {},
   "outputs": [
    {
     "data": {
      "text/html": [
       "<div>\n",
       "<style scoped>\n",
       "    .dataframe tbody tr th:only-of-type {\n",
       "        vertical-align: middle;\n",
       "    }\n",
       "\n",
       "    .dataframe tbody tr th {\n",
       "        vertical-align: top;\n",
       "    }\n",
       "\n",
       "    .dataframe thead th {\n",
       "        text-align: right;\n",
       "    }\n",
       "</style>\n",
       "<table border=\"1\" class=\"dataframe\">\n",
       "  <thead>\n",
       "    <tr style=\"text-align: right;\">\n",
       "      <th></th>\n",
       "      <th>RowNumber</th>\n",
       "      <th>CustomerId</th>\n",
       "      <th>Surname</th>\n",
       "      <th>CreditScore</th>\n",
       "      <th>Geography</th>\n",
       "      <th>Gender</th>\n",
       "      <th>Age</th>\n",
       "      <th>Tenure</th>\n",
       "      <th>Balance</th>\n",
       "      <th>NumOfProducts</th>\n",
       "      <th>HasCrCard</th>\n",
       "      <th>IsActiveMember</th>\n",
       "      <th>EstimatedSalary</th>\n",
       "      <th>Exited</th>\n",
       "    </tr>\n",
       "  </thead>\n",
       "  <tbody>\n",
       "    <tr>\n",
       "      <td>0</td>\n",
       "      <td>1</td>\n",
       "      <td>15634602</td>\n",
       "      <td>Hargrave</td>\n",
       "      <td>619</td>\n",
       "      <td>France</td>\n",
       "      <td>Female</td>\n",
       "      <td>42</td>\n",
       "      <td>2.0</td>\n",
       "      <td>0.00</td>\n",
       "      <td>1</td>\n",
       "      <td>1</td>\n",
       "      <td>1</td>\n",
       "      <td>101348.88</td>\n",
       "      <td>1</td>\n",
       "    </tr>\n",
       "    <tr>\n",
       "      <td>1</td>\n",
       "      <td>2</td>\n",
       "      <td>15647311</td>\n",
       "      <td>Hill</td>\n",
       "      <td>608</td>\n",
       "      <td>Spain</td>\n",
       "      <td>Female</td>\n",
       "      <td>41</td>\n",
       "      <td>1.0</td>\n",
       "      <td>83807.86</td>\n",
       "      <td>1</td>\n",
       "      <td>0</td>\n",
       "      <td>1</td>\n",
       "      <td>112542.58</td>\n",
       "      <td>0</td>\n",
       "    </tr>\n",
       "    <tr>\n",
       "      <td>2</td>\n",
       "      <td>3</td>\n",
       "      <td>15619304</td>\n",
       "      <td>Onio</td>\n",
       "      <td>502</td>\n",
       "      <td>France</td>\n",
       "      <td>Female</td>\n",
       "      <td>42</td>\n",
       "      <td>8.0</td>\n",
       "      <td>159660.80</td>\n",
       "      <td>3</td>\n",
       "      <td>1</td>\n",
       "      <td>0</td>\n",
       "      <td>113931.57</td>\n",
       "      <td>1</td>\n",
       "    </tr>\n",
       "    <tr>\n",
       "      <td>3</td>\n",
       "      <td>4</td>\n",
       "      <td>15701354</td>\n",
       "      <td>Boni</td>\n",
       "      <td>699</td>\n",
       "      <td>France</td>\n",
       "      <td>Female</td>\n",
       "      <td>39</td>\n",
       "      <td>1.0</td>\n",
       "      <td>0.00</td>\n",
       "      <td>2</td>\n",
       "      <td>0</td>\n",
       "      <td>0</td>\n",
       "      <td>93826.63</td>\n",
       "      <td>0</td>\n",
       "    </tr>\n",
       "    <tr>\n",
       "      <td>4</td>\n",
       "      <td>5</td>\n",
       "      <td>15737888</td>\n",
       "      <td>Mitchell</td>\n",
       "      <td>850</td>\n",
       "      <td>Spain</td>\n",
       "      <td>Female</td>\n",
       "      <td>43</td>\n",
       "      <td>2.0</td>\n",
       "      <td>125510.82</td>\n",
       "      <td>1</td>\n",
       "      <td>1</td>\n",
       "      <td>1</td>\n",
       "      <td>79084.10</td>\n",
       "      <td>0</td>\n",
       "    </tr>\n",
       "    <tr>\n",
       "      <td>5</td>\n",
       "      <td>6</td>\n",
       "      <td>15574012</td>\n",
       "      <td>Chu</td>\n",
       "      <td>645</td>\n",
       "      <td>Spain</td>\n",
       "      <td>Male</td>\n",
       "      <td>44</td>\n",
       "      <td>8.0</td>\n",
       "      <td>113755.78</td>\n",
       "      <td>2</td>\n",
       "      <td>1</td>\n",
       "      <td>0</td>\n",
       "      <td>149756.71</td>\n",
       "      <td>1</td>\n",
       "    </tr>\n",
       "    <tr>\n",
       "      <td>6</td>\n",
       "      <td>7</td>\n",
       "      <td>15592531</td>\n",
       "      <td>Bartlett</td>\n",
       "      <td>822</td>\n",
       "      <td>France</td>\n",
       "      <td>Male</td>\n",
       "      <td>50</td>\n",
       "      <td>7.0</td>\n",
       "      <td>0.00</td>\n",
       "      <td>2</td>\n",
       "      <td>1</td>\n",
       "      <td>1</td>\n",
       "      <td>10062.80</td>\n",
       "      <td>0</td>\n",
       "    </tr>\n",
       "    <tr>\n",
       "      <td>7</td>\n",
       "      <td>8</td>\n",
       "      <td>15656148</td>\n",
       "      <td>Obinna</td>\n",
       "      <td>376</td>\n",
       "      <td>Germany</td>\n",
       "      <td>Female</td>\n",
       "      <td>29</td>\n",
       "      <td>4.0</td>\n",
       "      <td>115046.74</td>\n",
       "      <td>4</td>\n",
       "      <td>1</td>\n",
       "      <td>0</td>\n",
       "      <td>119346.88</td>\n",
       "      <td>1</td>\n",
       "    </tr>\n",
       "    <tr>\n",
       "      <td>8</td>\n",
       "      <td>9</td>\n",
       "      <td>15792365</td>\n",
       "      <td>He</td>\n",
       "      <td>501</td>\n",
       "      <td>France</td>\n",
       "      <td>Male</td>\n",
       "      <td>44</td>\n",
       "      <td>4.0</td>\n",
       "      <td>142051.07</td>\n",
       "      <td>2</td>\n",
       "      <td>0</td>\n",
       "      <td>1</td>\n",
       "      <td>74940.50</td>\n",
       "      <td>0</td>\n",
       "    </tr>\n",
       "    <tr>\n",
       "      <td>9</td>\n",
       "      <td>10</td>\n",
       "      <td>15592389</td>\n",
       "      <td>H?</td>\n",
       "      <td>684</td>\n",
       "      <td>France</td>\n",
       "      <td>Male</td>\n",
       "      <td>27</td>\n",
       "      <td>2.0</td>\n",
       "      <td>134603.88</td>\n",
       "      <td>1</td>\n",
       "      <td>1</td>\n",
       "      <td>1</td>\n",
       "      <td>71725.73</td>\n",
       "      <td>0</td>\n",
       "    </tr>\n",
       "  </tbody>\n",
       "</table>\n",
       "</div>"
      ],
      "text/plain": [
       "   RowNumber  CustomerId   Surname  CreditScore Geography  Gender  Age  \\\n",
       "0          1    15634602  Hargrave          619    France  Female   42   \n",
       "1          2    15647311      Hill          608     Spain  Female   41   \n",
       "2          3    15619304      Onio          502    France  Female   42   \n",
       "3          4    15701354      Boni          699    France  Female   39   \n",
       "4          5    15737888  Mitchell          850     Spain  Female   43   \n",
       "5          6    15574012       Chu          645     Spain    Male   44   \n",
       "6          7    15592531  Bartlett          822    France    Male   50   \n",
       "7          8    15656148    Obinna          376   Germany  Female   29   \n",
       "8          9    15792365        He          501    France    Male   44   \n",
       "9         10    15592389        H?          684    France    Male   27   \n",
       "\n",
       "   Tenure    Balance  NumOfProducts  HasCrCard  IsActiveMember  \\\n",
       "0     2.0       0.00              1          1               1   \n",
       "1     1.0   83807.86              1          0               1   \n",
       "2     8.0  159660.80              3          1               0   \n",
       "3     1.0       0.00              2          0               0   \n",
       "4     2.0  125510.82              1          1               1   \n",
       "5     8.0  113755.78              2          1               0   \n",
       "6     7.0       0.00              2          1               1   \n",
       "7     4.0  115046.74              4          1               0   \n",
       "8     4.0  142051.07              2          0               1   \n",
       "9     2.0  134603.88              1          1               1   \n",
       "\n",
       "   EstimatedSalary  Exited  \n",
       "0        101348.88       1  \n",
       "1        112542.58       0  \n",
       "2        113931.57       1  \n",
       "3         93826.63       0  \n",
       "4         79084.10       0  \n",
       "5        149756.71       1  \n",
       "6         10062.80       0  \n",
       "7        119346.88       1  \n",
       "8         74940.50       0  \n",
       "9         71725.73       0  "
      ]
     },
     "execution_count": 3,
     "metadata": {},
     "output_type": "execute_result"
    }
   ],
   "source": [
    "# получение первых строк\n",
    "df.head(10)"
   ]
  },
  {
   "cell_type": "code",
   "execution_count": 4,
   "metadata": {
    "scrolled": true
   },
   "outputs": [
    {
     "name": "stdout",
     "output_type": "stream",
     "text": [
      "<class 'pandas.core.frame.DataFrame'>\n",
      "RangeIndex: 10000 entries, 0 to 9999\n",
      "Data columns (total 14 columns):\n",
      "RowNumber          10000 non-null int64\n",
      "CustomerId         10000 non-null int64\n",
      "Surname            10000 non-null object\n",
      "CreditScore        10000 non-null int64\n",
      "Geography          10000 non-null object\n",
      "Gender             10000 non-null object\n",
      "Age                10000 non-null int64\n",
      "Tenure             9091 non-null float64\n",
      "Balance            10000 non-null float64\n",
      "NumOfProducts      10000 non-null int64\n",
      "HasCrCard          10000 non-null int64\n",
      "IsActiveMember     10000 non-null int64\n",
      "EstimatedSalary    10000 non-null float64\n",
      "Exited             10000 non-null int64\n",
      "dtypes: float64(3), int64(8), object(3)\n",
      "memory usage: 1.1+ MB\n"
     ]
    }
   ],
   "source": [
    "# получение общей информации\n",
    "df.info()"
   ]
  },
  {
   "cell_type": "markdown",
   "metadata": {},
   "source": [
    "В таблице 10000 строк, 14 колонок.\n",
    "\n",
    "Признаки\n",
    "- `RowNumber` — индекс строки в данных\n",
    "- `CustomerId` — уникальный идентификатор клиента\n",
    "- `Surname` — фамилия\n",
    "- `CreditScore` — кредитный рейтинг\n",
    "- `Geography` — страна проживания\n",
    "- `Gender` — пол\n",
    "- `Age` — возраст\n",
    "- `Tenure` — сколько лет человек является клиентом банка\n",
    "- `Balance` — баланс на счёте\n",
    "- `NumOfProducts` — количество продуктов банка, используемых клиентом\n",
    "- `HasCrCard` — наличие кредитной карты\n",
    "- `IsActiveMember` — активность клиента\n",
    "- `EstimatedSalary` — предполагаемая зарплата\n",
    "\n",
    "Целевой признак:\n",
    "- `Exited` — факт ухода клиента"
   ]
  },
  {
   "cell_type": "markdown",
   "metadata": {},
   "source": [
    "При беглом осмотре данных можно выделить следующие пункты для обработки:\n",
    "- Регист названия столбцов\n",
    "- Наличие пропусков в столбце `Tenure`\n",
    "- Столбец `RowNumber` — индекс строки в данных — дублирует индексы в таблице "
   ]
  },
  {
   "cell_type": "markdown",
   "metadata": {},
   "source": [
    "### Предобработка и проверка данных"
   ]
  },
  {
   "cell_type": "markdown",
   "metadata": {},
   "source": [
    "Приведем название стобцов к удобному виду (snake_case). "
   ]
  },
  {
   "cell_type": "code",
   "execution_count": 5,
   "metadata": {
    "scrolled": true
   },
   "outputs": [],
   "source": [
    "# функция для преобразоания верблюжего регистра в змеиный\n",
    "def snake_case(columns):\n",
    "    list1 = []\n",
    "    for column in columns:\n",
    "        # разделение названия колонки на слова по заглавным буквам\n",
    "        split_name = re.sub(r'([A-Z])', r' \\1', column).split()\n",
    "        # соединяе слова из названия через _ и делаем все буквы строчными\n",
    "        list1.append('_'.join(split_name).lower())\n",
    "    return list1"
   ]
  },
  {
   "cell_type": "code",
   "execution_count": 6,
   "metadata": {
    "scrolled": false
   },
   "outputs": [
    {
     "data": {
      "text/plain": [
       "Index(['row_number', 'customer_id', 'surname', 'credit_score', 'geography',\n",
       "       'gender', 'age', 'tenure', 'balance', 'num_of_products', 'has_cr_card',\n",
       "       'is_active_member', 'estimated_salary', 'exited'],\n",
       "      dtype='object')"
      ]
     },
     "execution_count": 6,
     "metadata": {},
     "output_type": "execute_result"
    }
   ],
   "source": [
    "# переименование столбцов\n",
    "df.set_axis(snake_case(list(df.columns)), axis=1, inplace = True)\n",
    "# проверка\n",
    "df.columns"
   ]
  },
  {
   "cell_type": "markdown",
   "metadata": {},
   "source": [
    "Удалим столбец `row_number`, поскольку в таблице уже присутствует индексация строк"
   ]
  },
  {
   "cell_type": "code",
   "execution_count": 7,
   "metadata": {
    "scrolled": false
   },
   "outputs": [],
   "source": [
    "df = df.drop(['row_number'], axis=1)"
   ]
  },
  {
   "cell_type": "markdown",
   "metadata": {},
   "source": [
    "Проверим данные на наличие дубликатов и выбивающихся значений."
   ]
  },
  {
   "cell_type": "code",
   "execution_count": 8,
   "metadata": {},
   "outputs": [
    {
     "data": {
      "text/plain": [
       "0"
      ]
     },
     "execution_count": 8,
     "metadata": {},
     "output_type": "execute_result"
    }
   ],
   "source": [
    "df.duplicated().sum()"
   ]
  },
  {
   "cell_type": "markdown",
   "metadata": {},
   "source": [
    "Проверим столбцы с категориальными данными. Столбец `customer_id` должен содержать столько же уникальных значений, сколько строк в таблице. Столбцы `geography`, `gender` проверим на наличие неявных дубникатов (например, записанных в разных регистрах), просмотрев их уникальные значения."
   ]
  },
  {
   "cell_type": "code",
   "execution_count": 9,
   "metadata": {},
   "outputs": [
    {
     "data": {
      "text/plain": [
       "True"
      ]
     },
     "execution_count": 9,
     "metadata": {},
     "output_type": "execute_result"
    }
   ],
   "source": [
    "# число уникльных значений столбца равно длине таблицы\n",
    "len(df['customer_id'].unique()) == len(df)"
   ]
  },
  {
   "cell_type": "code",
   "execution_count": 10,
   "metadata": {},
   "outputs": [
    {
     "data": {
      "text/plain": [
       "array(['France', 'Spain', 'Germany'], dtype=object)"
      ]
     },
     "execution_count": 10,
     "metadata": {},
     "output_type": "execute_result"
    }
   ],
   "source": [
    "# просмотр уникальных значений\n",
    "df['geography'].unique()"
   ]
  },
  {
   "cell_type": "code",
   "execution_count": 11,
   "metadata": {},
   "outputs": [
    {
     "data": {
      "text/plain": [
       "array(['Female', 'Male'], dtype=object)"
      ]
     },
     "execution_count": 11,
     "metadata": {},
     "output_type": "execute_result"
    }
   ],
   "source": [
    "# просмотр уникальных значений\n",
    "df['gender'].unique()"
   ]
  },
  {
   "cell_type": "markdown",
   "metadata": {},
   "source": [
    "В этих столбцах все впорядке. Перейдем к рассмотрению остальных."
   ]
  },
  {
   "cell_type": "code",
   "execution_count": 12,
   "metadata": {
    "scrolled": false
   },
   "outputs": [
    {
     "name": "stdout",
     "output_type": "stream",
     "text": [
      "\n",
      "                   credit_score                   \n",
      "count    10000.000000\n",
      "mean       650.528800\n",
      "std         96.653299\n",
      "min        350.000000\n",
      "25%        584.000000\n",
      "50%        652.000000\n",
      "75%        718.000000\n",
      "max        850.000000\n",
      "Name: credit_score, dtype: float64\n"
     ]
    },
    {
     "data": {
      "image/png": "[encoded data removed]",
      "text/plain": [
       "<Figure size 432x288 with 1 Axes>"
      ]
     },
     "metadata": {
      "needs_background": "light"
     },
     "output_type": "display_data"
    },
    {
     "name": "stdout",
     "output_type": "stream",
     "text": [
      "\n",
      "                       age                        \n",
      "count    10000.000000\n",
      "mean        38.921800\n",
      "std         10.487806\n",
      "min         18.000000\n",
      "25%         32.000000\n",
      "50%         37.000000\n",
      "75%         44.000000\n",
      "max         92.000000\n",
      "Name: age, dtype: float64\n"
     ]
    },
    {
     "data": {
      "image/png": "[encoded data removed]",
      "text/plain": [
       "<Figure size 432x288 with 1 Axes>"
      ]
     },
     "metadata": {
      "needs_background": "light"
     },
     "output_type": "display_data"
    },
    {
     "name": "stdout",
     "output_type": "stream",
     "text": [
      "\n",
      "                      tenure                      \n",
      "count    9091.000000\n",
      "mean        4.997690\n",
      "std         2.894723\n",
      "min         0.000000\n",
      "25%         2.000000\n",
      "50%         5.000000\n",
      "75%         7.000000\n",
      "max        10.000000\n",
      "Name: tenure, dtype: float64\n"
     ]
    },
    {
     "data": {
      "image/png": "[encoded data removed]",
      "text/plain": [
       "<Figure size 432x288 with 1 Axes>"
      ]
     },
     "metadata": {
      "needs_background": "light"
     },
     "output_type": "display_data"
    },
    {
     "name": "stdout",
     "output_type": "stream",
     "text": [
      "\n",
      "                     balance                      \n",
      "count     10000.000000\n",
      "mean      76485.889288\n",
      "std       62397.405202\n",
      "min           0.000000\n",
      "25%           0.000000\n",
      "50%       97198.540000\n",
      "75%      127644.240000\n",
      "max      250898.090000\n",
      "Name: balance, dtype: float64\n"
     ]
    },
    {
     "data": {
      "image/png": "[encoded data removed]",
      "text/plain": [
       "<Figure size 432x288 with 1 Axes>"
      ]
     },
     "metadata": {
      "needs_background": "light"
     },
     "output_type": "display_data"
    },
    {
     "name": "stdout",
     "output_type": "stream",
     "text": [
      "\n",
      "                 estimated_salary                 \n",
      "count     10000.000000\n",
      "mean     100090.239881\n",
      "std       57510.492818\n",
      "min          11.580000\n",
      "25%       51002.110000\n",
      "50%      100193.915000\n",
      "75%      149388.247500\n",
      "max      199992.480000\n",
      "Name: estimated_salary, dtype: float64\n"
     ]
    },
    {
     "data": {
      "image/png": "[encoded data removed]",
      "text/plain": [
       "<Figure size 432x288 with 1 Axes>"
      ]
     },
     "metadata": {
      "needs_background": "light"
     },
     "output_type": "display_data"
    },
    {
     "name": "stdout",
     "output_type": "stream",
     "text": [
      "\n",
      "                 num_of_products                  \n",
      "count    10000.000000\n",
      "mean         1.530200\n",
      "std          0.581654\n",
      "min          1.000000\n",
      "25%          1.000000\n",
      "50%          1.000000\n",
      "75%          2.000000\n",
      "max          4.000000\n",
      "Name: num_of_products, dtype: float64\n"
     ]
    },
    {
     "data": {
      "image/png": "[encoded data removed]",
      "text/plain": [
       "<Figure size 432x288 with 1 Axes>"
      ]
     },
     "metadata": {
      "needs_background": "light"
     },
     "output_type": "display_data"
    }
   ],
   "source": [
    "list_num = ['credit_score', 'age', 'tenure','balance', 'estimated_salary', 'num_of_products']\n",
    "for i in list_num:\n",
    "    print(f'\\n{i:^50}')\n",
    "    print(df[i].describe())\n",
    "    df[i].hist()\n",
    "    plt.xlabel(i)\n",
    "    plt.ylabel('frequency')\n",
    "    plt.show()"
   ]
  },
  {
   "cell_type": "code",
   "execution_count": 13,
   "metadata": {},
   "outputs": [
    {
     "name": "stdout",
     "output_type": "stream",
     "text": [
      "             customer_id\n",
      "has_cr_card             \n",
      "0                   2945\n",
      "1                   7055 \n",
      "\n",
      "                  customer_id\n",
      "is_active_member             \n",
      "0                        4849\n",
      "1                        5151 \n",
      "\n",
      "        customer_id\n",
      "exited             \n",
      "0              7963\n",
      "1              2037 \n",
      "\n"
     ]
    }
   ],
   "source": [
    "list_bool = ['has_cr_card', 'is_active_member', 'exited']\n",
    "for i in list_bool:\n",
    "    print(df.pivot_table(index=i, values='customer_id', aggfunc='count'), '\\n')"
   ]
  },
  {
   "cell_type": "markdown",
   "metadata": {},
   "source": [
    "Можно сказать, что с данными все в порядке"
   ]
  },
  {
   "cell_type": "markdown",
   "metadata": {},
   "source": [
    "Рассмотрим столбец `tenure`, в котором обнаружены пропуски."
   ]
  },
  {
   "cell_type": "code",
   "execution_count": 14,
   "metadata": {},
   "outputs": [
    {
     "data": {
      "text/plain": [
       "9.09"
      ]
     },
     "execution_count": 14,
     "metadata": {},
     "output_type": "execute_result"
    }
   ],
   "source": [
    "df['tenure'].isna().sum() / len(df) * 100"
   ]
  },
  {
   "cell_type": "markdown",
   "metadata": {},
   "source": [
    "В этом столбце 9% пропусков. Посмотрим на некоторые из них"
   ]
  },
  {
   "cell_type": "code",
   "execution_count": 15,
   "metadata": {
    "scrolled": true
   },
   "outputs": [
    {
     "data": {
      "text/html": [
       "<div>\n",
       "<style scoped>\n",
       "    .dataframe tbody tr th:only-of-type {\n",
       "        vertical-align: middle;\n",
       "    }\n",
       "\n",
       "    .dataframe tbody tr th {\n",
       "        vertical-align: top;\n",
       "    }\n",
       "\n",
       "    .dataframe thead th {\n",
       "        text-align: right;\n",
       "    }\n",
       "</style>\n",
       "<table border=\"1\" class=\"dataframe\">\n",
       "  <thead>\n",
       "    <tr style=\"text-align: right;\">\n",
       "      <th></th>\n",
       "      <th>customer_id</th>\n",
       "      <th>surname</th>\n",
       "      <th>credit_score</th>\n",
       "      <th>geography</th>\n",
       "      <th>gender</th>\n",
       "      <th>age</th>\n",
       "      <th>tenure</th>\n",
       "      <th>balance</th>\n",
       "      <th>num_of_products</th>\n",
       "      <th>has_cr_card</th>\n",
       "      <th>is_active_member</th>\n",
       "      <th>estimated_salary</th>\n",
       "      <th>exited</th>\n",
       "    </tr>\n",
       "  </thead>\n",
       "  <tbody>\n",
       "    <tr>\n",
       "      <td>9931</td>\n",
       "      <td>15647800</td>\n",
       "      <td>Greco</td>\n",
       "      <td>850</td>\n",
       "      <td>France</td>\n",
       "      <td>Female</td>\n",
       "      <td>34</td>\n",
       "      <td>NaN</td>\n",
       "      <td>101266.51</td>\n",
       "      <td>1</td>\n",
       "      <td>1</td>\n",
       "      <td>0</td>\n",
       "      <td>33501.98</td>\n",
       "      <td>0</td>\n",
       "    </tr>\n",
       "    <tr>\n",
       "      <td>9938</td>\n",
       "      <td>15593496</td>\n",
       "      <td>Korovin</td>\n",
       "      <td>526</td>\n",
       "      <td>Spain</td>\n",
       "      <td>Female</td>\n",
       "      <td>36</td>\n",
       "      <td>NaN</td>\n",
       "      <td>91132.18</td>\n",
       "      <td>1</td>\n",
       "      <td>0</td>\n",
       "      <td>0</td>\n",
       "      <td>58111.71</td>\n",
       "      <td>0</td>\n",
       "    </tr>\n",
       "    <tr>\n",
       "      <td>9944</td>\n",
       "      <td>15703923</td>\n",
       "      <td>Cameron</td>\n",
       "      <td>744</td>\n",
       "      <td>Germany</td>\n",
       "      <td>Male</td>\n",
       "      <td>41</td>\n",
       "      <td>NaN</td>\n",
       "      <td>190409.34</td>\n",
       "      <td>2</td>\n",
       "      <td>1</td>\n",
       "      <td>1</td>\n",
       "      <td>138361.48</td>\n",
       "      <td>0</td>\n",
       "    </tr>\n",
       "    <tr>\n",
       "      <td>9956</td>\n",
       "      <td>15707861</td>\n",
       "      <td>Nucci</td>\n",
       "      <td>520</td>\n",
       "      <td>France</td>\n",
       "      <td>Female</td>\n",
       "      <td>46</td>\n",
       "      <td>NaN</td>\n",
       "      <td>85216.61</td>\n",
       "      <td>1</td>\n",
       "      <td>1</td>\n",
       "      <td>0</td>\n",
       "      <td>117369.52</td>\n",
       "      <td>1</td>\n",
       "    </tr>\n",
       "    <tr>\n",
       "      <td>9964</td>\n",
       "      <td>15642785</td>\n",
       "      <td>Douglas</td>\n",
       "      <td>479</td>\n",
       "      <td>France</td>\n",
       "      <td>Male</td>\n",
       "      <td>34</td>\n",
       "      <td>NaN</td>\n",
       "      <td>117593.48</td>\n",
       "      <td>2</td>\n",
       "      <td>0</td>\n",
       "      <td>0</td>\n",
       "      <td>113308.29</td>\n",
       "      <td>0</td>\n",
       "    </tr>\n",
       "    <tr>\n",
       "      <td>9985</td>\n",
       "      <td>15586914</td>\n",
       "      <td>Nepean</td>\n",
       "      <td>659</td>\n",
       "      <td>France</td>\n",
       "      <td>Male</td>\n",
       "      <td>36</td>\n",
       "      <td>NaN</td>\n",
       "      <td>123841.49</td>\n",
       "      <td>2</td>\n",
       "      <td>1</td>\n",
       "      <td>0</td>\n",
       "      <td>96833.00</td>\n",
       "      <td>0</td>\n",
       "    </tr>\n",
       "    <tr>\n",
       "      <td>9999</td>\n",
       "      <td>15628319</td>\n",
       "      <td>Walker</td>\n",
       "      <td>792</td>\n",
       "      <td>France</td>\n",
       "      <td>Female</td>\n",
       "      <td>28</td>\n",
       "      <td>NaN</td>\n",
       "      <td>130142.79</td>\n",
       "      <td>1</td>\n",
       "      <td>1</td>\n",
       "      <td>0</td>\n",
       "      <td>38190.78</td>\n",
       "      <td>0</td>\n",
       "    </tr>\n",
       "  </tbody>\n",
       "</table>\n",
       "</div>"
      ],
      "text/plain": [
       "      customer_id  surname  credit_score geography  gender  age  tenure  \\\n",
       "9931     15647800    Greco           850    France  Female   34     NaN   \n",
       "9938     15593496  Korovin           526     Spain  Female   36     NaN   \n",
       "9944     15703923  Cameron           744   Germany    Male   41     NaN   \n",
       "9956     15707861    Nucci           520    France  Female   46     NaN   \n",
       "9964     15642785  Douglas           479    France    Male   34     NaN   \n",
       "9985     15586914   Nepean           659    France    Male   36     NaN   \n",
       "9999     15628319   Walker           792    France  Female   28     NaN   \n",
       "\n",
       "        balance  num_of_products  has_cr_card  is_active_member  \\\n",
       "9931  101266.51                1            1                 0   \n",
       "9938   91132.18                1            0                 0   \n",
       "9944  190409.34                2            1                 1   \n",
       "9956   85216.61                1            1                 0   \n",
       "9964  117593.48                2            0                 0   \n",
       "9985  123841.49                2            1                 0   \n",
       "9999  130142.79                1            1                 0   \n",
       "\n",
       "      estimated_salary  exited  \n",
       "9931          33501.98       0  \n",
       "9938          58111.71       0  \n",
       "9944         138361.48       0  \n",
       "9956         117369.52       1  \n",
       "9964         113308.29       0  \n",
       "9985          96833.00       0  \n",
       "9999          38190.78       0  "
      ]
     },
     "execution_count": 15,
     "metadata": {},
     "output_type": "execute_result"
    }
   ],
   "source": [
    "df.query('tenure.isna()').tail(7)"
   ]
  },
  {
   "cell_type": "markdown",
   "metadata": {},
   "source": [
    "Очевидных зависимостей пропусков со значеними других столбцов нет. Распределение достаточно равномерное, за исключением клиентов, пользующихся услугами 10 лет (их большинство), и клиентов, пользующихся услугами банка менее года (меньшество)."
   ]
  },
  {
   "cell_type": "markdown",
   "metadata": {},
   "source": [
    "Восстановить пропущенные значения по информации из других колонок не представляется возможным. Также нельзя наверняка утверждать, что пропуски означают пользование услугами банка менее года (то есть 0). Заполнение пропусков медианой или средним в данном случае может исказить реальную картину.\n",
    "Заполним пропуски \"-1\"."
   ]
  },
  {
   "cell_type": "code",
   "execution_count": 16,
   "metadata": {},
   "outputs": [
    {
     "data": {
      "text/plain": [
       "0"
      ]
     },
     "execution_count": 16,
     "metadata": {},
     "output_type": "execute_result"
    }
   ],
   "source": [
    "df['tenure'] = df['tenure'].fillna(-1)\n",
    "df['tenure'].isna().sum()"
   ]
  },
  {
   "cell_type": "markdown",
   "metadata": {},
   "source": [
    "### Подготовка признаков"
   ]
  },
  {
   "cell_type": "markdown",
   "metadata": {},
   "source": [
    "Необходимо преобразовать категориальные признаки в числа. Будем использовать технику прямого кодирования, поскольку категориальных данных немного. Убрем по одному столбцу из новых столбцов с дамми-признаками, поскольку он излишен. Не будем учитывать столбец с фамилиями пользователей, поскольку он не является реальным признаком и может негативно сказаться при получении дамми-признаков, поскольку в нем есть повторяющиеся значения. Столбец с id  тоже не будем принимать во внимание"
   ]
  },
  {
   "cell_type": "code",
   "execution_count": 17,
   "metadata": {
    "scrolled": true
   },
   "outputs": [
    {
     "data": {
      "text/html": [
       "<div>\n",
       "<style scoped>\n",
       "    .dataframe tbody tr th:only-of-type {\n",
       "        vertical-align: middle;\n",
       "    }\n",
       "\n",
       "    .dataframe tbody tr th {\n",
       "        vertical-align: top;\n",
       "    }\n",
       "\n",
       "    .dataframe thead th {\n",
       "        text-align: right;\n",
       "    }\n",
       "</style>\n",
       "<table border=\"1\" class=\"dataframe\">\n",
       "  <thead>\n",
       "    <tr style=\"text-align: right;\">\n",
       "      <th></th>\n",
       "      <th>credit_score</th>\n",
       "      <th>age</th>\n",
       "      <th>tenure</th>\n",
       "      <th>balance</th>\n",
       "      <th>num_of_products</th>\n",
       "      <th>has_cr_card</th>\n",
       "      <th>is_active_member</th>\n",
       "      <th>estimated_salary</th>\n",
       "      <th>exited</th>\n",
       "      <th>geography_Germany</th>\n",
       "      <th>geography_Spain</th>\n",
       "      <th>gender_Male</th>\n",
       "    </tr>\n",
       "  </thead>\n",
       "  <tbody>\n",
       "    <tr>\n",
       "      <td>0</td>\n",
       "      <td>619</td>\n",
       "      <td>42</td>\n",
       "      <td>2.0</td>\n",
       "      <td>0.00</td>\n",
       "      <td>1</td>\n",
       "      <td>1</td>\n",
       "      <td>1</td>\n",
       "      <td>101348.88</td>\n",
       "      <td>1</td>\n",
       "      <td>0</td>\n",
       "      <td>0</td>\n",
       "      <td>0</td>\n",
       "    </tr>\n",
       "    <tr>\n",
       "      <td>1</td>\n",
       "      <td>608</td>\n",
       "      <td>41</td>\n",
       "      <td>1.0</td>\n",
       "      <td>83807.86</td>\n",
       "      <td>1</td>\n",
       "      <td>0</td>\n",
       "      <td>1</td>\n",
       "      <td>112542.58</td>\n",
       "      <td>0</td>\n",
       "      <td>0</td>\n",
       "      <td>1</td>\n",
       "      <td>0</td>\n",
       "    </tr>\n",
       "    <tr>\n",
       "      <td>2</td>\n",
       "      <td>502</td>\n",
       "      <td>42</td>\n",
       "      <td>8.0</td>\n",
       "      <td>159660.80</td>\n",
       "      <td>3</td>\n",
       "      <td>1</td>\n",
       "      <td>0</td>\n",
       "      <td>113931.57</td>\n",
       "      <td>1</td>\n",
       "      <td>0</td>\n",
       "      <td>0</td>\n",
       "      <td>0</td>\n",
       "    </tr>\n",
       "    <tr>\n",
       "      <td>3</td>\n",
       "      <td>699</td>\n",
       "      <td>39</td>\n",
       "      <td>1.0</td>\n",
       "      <td>0.00</td>\n",
       "      <td>2</td>\n",
       "      <td>0</td>\n",
       "      <td>0</td>\n",
       "      <td>93826.63</td>\n",
       "      <td>0</td>\n",
       "      <td>0</td>\n",
       "      <td>0</td>\n",
       "      <td>0</td>\n",
       "    </tr>\n",
       "    <tr>\n",
       "      <td>4</td>\n",
       "      <td>850</td>\n",
       "      <td>43</td>\n",
       "      <td>2.0</td>\n",
       "      <td>125510.82</td>\n",
       "      <td>1</td>\n",
       "      <td>1</td>\n",
       "      <td>1</td>\n",
       "      <td>79084.10</td>\n",
       "      <td>0</td>\n",
       "      <td>0</td>\n",
       "      <td>1</td>\n",
       "      <td>0</td>\n",
       "    </tr>\n",
       "  </tbody>\n",
       "</table>\n",
       "</div>"
      ],
      "text/plain": [
       "   credit_score  age  tenure    balance  num_of_products  has_cr_card  \\\n",
       "0           619   42     2.0       0.00                1            1   \n",
       "1           608   41     1.0   83807.86                1            0   \n",
       "2           502   42     8.0  159660.80                3            1   \n",
       "3           699   39     1.0       0.00                2            0   \n",
       "4           850   43     2.0  125510.82                1            1   \n",
       "\n",
       "   is_active_member  estimated_salary  exited  geography_Germany  \\\n",
       "0                 1         101348.88       1                  0   \n",
       "1                 1         112542.58       0                  0   \n",
       "2                 0         113931.57       1                  0   \n",
       "3                 0          93826.63       0                  0   \n",
       "4                 1          79084.10       0                  0   \n",
       "\n",
       "   geography_Spain  gender_Male  \n",
       "0                0            0  \n",
       "1                1            0  \n",
       "2                0            0  \n",
       "3                0            0  \n",
       "4                1            0  "
      ]
     },
     "execution_count": 17,
     "metadata": {},
     "output_type": "execute_result"
    }
   ],
   "source": [
    "# получение дамми-признаков\n",
    "df = pd.get_dummies(df.drop(['surname', 'customer_id'], axis=1), drop_first=True)\n",
    "# проверка\n",
    "df.head()"
   ]
  },
  {
   "cell_type": "markdown",
   "metadata": {},
   "source": [
    "Выделим из данных целевой признак (столбец `target`) и остальные "
   ]
  },
  {
   "cell_type": "code",
   "execution_count": 18,
   "metadata": {},
   "outputs": [],
   "source": [
    "# целевой признак\n",
    "target = df['exited']\n",
    "# признаки\n",
    "features = df.drop('exited', axis=1)"
   ]
  },
  {
   "cell_type": "markdown",
   "metadata": {},
   "source": [
    "Разделим данные на три группы: обучающий набор, валидационные и тестовый. Сначала выделим обучающую выборку (60%), а остальные данные на равные части."
   ]
  },
  {
   "cell_type": "code",
   "execution_count": 19,
   "metadata": {},
   "outputs": [
    {
     "name": "stdout",
     "output_type": "stream",
     "text": [
      "Размер обучающей выборки: (6000, 11)\n",
      "Размер валидационной выборки: (2000, 11)\n",
      "Размер тестовой выборки: (2000, 11)\n"
     ]
    }
   ],
   "source": [
    "# выделение обучающей выборки\n",
    "features_train, features_other, target_train, target_other = train_test_split(\n",
    "    features, target, test_size=0.4, random_state=12345)\n",
    "# разбиение оставшихся данных на валидационную и тестувую\n",
    "features_valid, features_test, target_valid, target_test = train_test_split(\n",
    "    features_other, target_other, test_size=0.5, random_state=12345)\n",
    "# проверка размера\n",
    "print('Размер обучающей выборки:', features_train.shape)\n",
    "print('Размер валидационной выборки:', features_valid.shape)\n",
    "print('Размер тестовой выборки:', features_test.shape)"
   ]
  },
  {
   "cell_type": "markdown",
   "metadata": {},
   "source": [
    "Отмасштабируем числовые признаки с помощью z-преобразования. Таким образом все количественные признаки для алгоритма станут более равноценными."
   ]
  },
  {
   "cell_type": "code",
   "execution_count": 20,
   "metadata": {
    "scrolled": false
   },
   "outputs": [],
   "source": [
    "pd.options.mode.chained_assignment = None\n",
    "scaler = StandardScaler()\n",
    "scaler.fit(features_train[list_num])\n",
    "\n",
    "features_train[list_num] = scaler.transform(features_train[list_num])\n",
    "features_valid[list_num]  = scaler.transform(features_valid[list_num])\n",
    "features_test[list_num]  = scaler.transform(features_test[list_num])"
   ]
  },
  {
   "cell_type": "code",
   "execution_count": 21,
   "metadata": {},
   "outputs": [
    {
     "data": {
      "text/html": [
       "<div>\n",
       "<style scoped>\n",
       "    .dataframe tbody tr th:only-of-type {\n",
       "        vertical-align: middle;\n",
       "    }\n",
       "\n",
       "    .dataframe tbody tr th {\n",
       "        vertical-align: top;\n",
       "    }\n",
       "\n",
       "    .dataframe thead th {\n",
       "        text-align: right;\n",
       "    }\n",
       "</style>\n",
       "<table border=\"1\" class=\"dataframe\">\n",
       "  <thead>\n",
       "    <tr style=\"text-align: right;\">\n",
       "      <th></th>\n",
       "      <th>credit_score</th>\n",
       "      <th>age</th>\n",
       "      <th>tenure</th>\n",
       "      <th>balance</th>\n",
       "      <th>num_of_products</th>\n",
       "      <th>has_cr_card</th>\n",
       "      <th>is_active_member</th>\n",
       "      <th>estimated_salary</th>\n",
       "      <th>geography_Germany</th>\n",
       "      <th>geography_Spain</th>\n",
       "      <th>gender_Male</th>\n",
       "    </tr>\n",
       "  </thead>\n",
       "  <tbody>\n",
       "    <tr>\n",
       "      <td>7479</td>\n",
       "      <td>-0.886751</td>\n",
       "      <td>-0.373192</td>\n",
       "      <td>1.083651</td>\n",
       "      <td>1.232271</td>\n",
       "      <td>-0.891560</td>\n",
       "      <td>1</td>\n",
       "      <td>0</td>\n",
       "      <td>-0.187705</td>\n",
       "      <td>0</td>\n",
       "      <td>1</td>\n",
       "      <td>1</td>\n",
       "    </tr>\n",
       "    <tr>\n",
       "      <td>3411</td>\n",
       "      <td>0.608663</td>\n",
       "      <td>-0.183385</td>\n",
       "      <td>1.083651</td>\n",
       "      <td>0.600563</td>\n",
       "      <td>-0.891560</td>\n",
       "      <td>0</td>\n",
       "      <td>0</td>\n",
       "      <td>-0.333945</td>\n",
       "      <td>0</td>\n",
       "      <td>0</td>\n",
       "      <td>0</td>\n",
       "    </tr>\n",
       "    <tr>\n",
       "      <td>6027</td>\n",
       "      <td>2.052152</td>\n",
       "      <td>0.480939</td>\n",
       "      <td>-0.452862</td>\n",
       "      <td>1.027098</td>\n",
       "      <td>0.830152</td>\n",
       "      <td>0</td>\n",
       "      <td>1</td>\n",
       "      <td>1.503095</td>\n",
       "      <td>1</td>\n",
       "      <td>0</td>\n",
       "      <td>1</td>\n",
       "    </tr>\n",
       "    <tr>\n",
       "      <td>1247</td>\n",
       "      <td>-1.457915</td>\n",
       "      <td>-1.417129</td>\n",
       "      <td>0.469046</td>\n",
       "      <td>-1.233163</td>\n",
       "      <td>0.830152</td>\n",
       "      <td>1</td>\n",
       "      <td>0</td>\n",
       "      <td>-1.071061</td>\n",
       "      <td>0</td>\n",
       "      <td>0</td>\n",
       "      <td>1</td>\n",
       "    </tr>\n",
       "    <tr>\n",
       "      <td>3716</td>\n",
       "      <td>0.130961</td>\n",
       "      <td>-1.132419</td>\n",
       "      <td>-0.760164</td>\n",
       "      <td>1.140475</td>\n",
       "      <td>-0.891560</td>\n",
       "      <td>0</td>\n",
       "      <td>0</td>\n",
       "      <td>1.524268</td>\n",
       "      <td>1</td>\n",
       "      <td>0</td>\n",
       "      <td>0</td>\n",
       "    </tr>\n",
       "  </tbody>\n",
       "</table>\n",
       "</div>"
      ],
      "text/plain": [
       "      credit_score       age    tenure   balance  num_of_products  \\\n",
       "7479     -0.886751 -0.373192  1.083651  1.232271        -0.891560   \n",
       "3411      0.608663 -0.183385  1.083651  0.600563        -0.891560   \n",
       "6027      2.052152  0.480939 -0.452862  1.027098         0.830152   \n",
       "1247     -1.457915 -1.417129  0.469046 -1.233163         0.830152   \n",
       "3716      0.130961 -1.132419 -0.760164  1.140475        -0.891560   \n",
       "\n",
       "      has_cr_card  is_active_member  estimated_salary  geography_Germany  \\\n",
       "7479            1                 0         -0.187705                  0   \n",
       "3411            0                 0         -0.333945                  0   \n",
       "6027            0                 1          1.503095                  1   \n",
       "1247            1                 0         -1.071061                  0   \n",
       "3716            0                 0          1.524268                  1   \n",
       "\n",
       "      geography_Spain  gender_Male  \n",
       "7479                1            1  \n",
       "3411                0            0  \n",
       "6027                0            1  \n",
       "1247                0            1  \n",
       "3716                0            0  "
      ]
     },
     "execution_count": 21,
     "metadata": {},
     "output_type": "execute_result"
    }
   ],
   "source": [
    "features_train.head()"
   ]
  },
  {
   "cell_type": "code",
   "execution_count": 22,
   "metadata": {
    "scrolled": true
   },
   "outputs": [
    {
     "data": {
      "text/html": [
       "<div>\n",
       "<style scoped>\n",
       "    .dataframe tbody tr th:only-of-type {\n",
       "        vertical-align: middle;\n",
       "    }\n",
       "\n",
       "    .dataframe tbody tr th {\n",
       "        vertical-align: top;\n",
       "    }\n",
       "\n",
       "    .dataframe thead th {\n",
       "        text-align: right;\n",
       "    }\n",
       "</style>\n",
       "<table border=\"1\" class=\"dataframe\">\n",
       "  <thead>\n",
       "    <tr style=\"text-align: right;\">\n",
       "      <th></th>\n",
       "      <th>credit_score</th>\n",
       "      <th>age</th>\n",
       "      <th>tenure</th>\n",
       "      <th>balance</th>\n",
       "      <th>num_of_products</th>\n",
       "      <th>has_cr_card</th>\n",
       "      <th>is_active_member</th>\n",
       "      <th>estimated_salary</th>\n",
       "      <th>geography_Germany</th>\n",
       "      <th>geography_Spain</th>\n",
       "      <th>gender_Male</th>\n",
       "    </tr>\n",
       "  </thead>\n",
       "  <tbody>\n",
       "    <tr>\n",
       "      <td>8532</td>\n",
       "      <td>-0.699824</td>\n",
       "      <td>-0.373192</td>\n",
       "      <td>-0.760164</td>\n",
       "      <td>-1.233163</td>\n",
       "      <td>0.830152</td>\n",
       "      <td>1</td>\n",
       "      <td>0</td>\n",
       "      <td>-0.015173</td>\n",
       "      <td>0</td>\n",
       "      <td>0</td>\n",
       "      <td>0</td>\n",
       "    </tr>\n",
       "    <tr>\n",
       "      <td>5799</td>\n",
       "      <td>-0.284431</td>\n",
       "      <td>0.575842</td>\n",
       "      <td>-0.452862</td>\n",
       "      <td>-1.233163</td>\n",
       "      <td>-0.891560</td>\n",
       "      <td>1</td>\n",
       "      <td>1</td>\n",
       "      <td>1.471724</td>\n",
       "      <td>0</td>\n",
       "      <td>0</td>\n",
       "      <td>0</td>\n",
       "    </tr>\n",
       "    <tr>\n",
       "      <td>5511</td>\n",
       "      <td>0.151731</td>\n",
       "      <td>-0.657902</td>\n",
       "      <td>-1.374769</td>\n",
       "      <td>0.438711</td>\n",
       "      <td>-0.891560</td>\n",
       "      <td>1</td>\n",
       "      <td>0</td>\n",
       "      <td>-1.367107</td>\n",
       "      <td>1</td>\n",
       "      <td>0</td>\n",
       "      <td>1</td>\n",
       "    </tr>\n",
       "    <tr>\n",
       "      <td>7365</td>\n",
       "      <td>-0.876366</td>\n",
       "      <td>-0.278288</td>\n",
       "      <td>1.698257</td>\n",
       "      <td>1.239884</td>\n",
       "      <td>-0.891560</td>\n",
       "      <td>1</td>\n",
       "      <td>1</td>\n",
       "      <td>-0.786517</td>\n",
       "      <td>0</td>\n",
       "      <td>1</td>\n",
       "      <td>0</td>\n",
       "    </tr>\n",
       "    <tr>\n",
       "      <td>7367</td>\n",
       "      <td>-0.481743</td>\n",
       "      <td>0.291132</td>\n",
       "      <td>1.698257</td>\n",
       "      <td>-1.233163</td>\n",
       "      <td>0.830152</td>\n",
       "      <td>1</td>\n",
       "      <td>0</td>\n",
       "      <td>1.358533</td>\n",
       "      <td>0</td>\n",
       "      <td>1</td>\n",
       "      <td>1</td>\n",
       "    </tr>\n",
       "  </tbody>\n",
       "</table>\n",
       "</div>"
      ],
      "text/plain": [
       "      credit_score       age    tenure   balance  num_of_products  \\\n",
       "8532     -0.699824 -0.373192 -0.760164 -1.233163         0.830152   \n",
       "5799     -0.284431  0.575842 -0.452862 -1.233163        -0.891560   \n",
       "5511      0.151731 -0.657902 -1.374769  0.438711        -0.891560   \n",
       "7365     -0.876366 -0.278288  1.698257  1.239884        -0.891560   \n",
       "7367     -0.481743  0.291132  1.698257 -1.233163         0.830152   \n",
       "\n",
       "      has_cr_card  is_active_member  estimated_salary  geography_Germany  \\\n",
       "8532            1                 0         -0.015173                  0   \n",
       "5799            1                 1          1.471724                  0   \n",
       "5511            1                 0         -1.367107                  1   \n",
       "7365            1                 1         -0.786517                  0   \n",
       "7367            1                 0          1.358533                  0   \n",
       "\n",
       "      geography_Spain  gender_Male  \n",
       "8532                0            0  \n",
       "5799                0            0  \n",
       "5511                0            1  \n",
       "7365                1            0  \n",
       "7367                1            1  "
      ]
     },
     "execution_count": 22,
     "metadata": {},
     "output_type": "execute_result"
    }
   ],
   "source": [
    "features_valid.head()"
   ]
  },
  {
   "cell_type": "code",
   "execution_count": 73,
   "metadata": {},
   "outputs": [
    {
     "data": {
      "text/html": [
       "<div>\n",
       "<style scoped>\n",
       "    .dataframe tbody tr th:only-of-type {\n",
       "        vertical-align: middle;\n",
       "    }\n",
       "\n",
       "    .dataframe tbody tr th {\n",
       "        vertical-align: top;\n",
       "    }\n",
       "\n",
       "    .dataframe thead th {\n",
       "        text-align: right;\n",
       "    }\n",
       "</style>\n",
       "<table border=\"1\" class=\"dataframe\">\n",
       "  <thead>\n",
       "    <tr style=\"text-align: right;\">\n",
       "      <th></th>\n",
       "      <th>credit_score</th>\n",
       "      <th>age</th>\n",
       "      <th>tenure</th>\n",
       "      <th>balance</th>\n",
       "      <th>num_of_products</th>\n",
       "      <th>has_cr_card</th>\n",
       "      <th>is_active_member</th>\n",
       "      <th>estimated_salary</th>\n",
       "      <th>geography_Germany</th>\n",
       "      <th>geography_Spain</th>\n",
       "      <th>gender_Male</th>\n",
       "    </tr>\n",
       "  </thead>\n",
       "  <tbody>\n",
       "    <tr>\n",
       "      <td>7041</td>\n",
       "      <td>-2.226392</td>\n",
       "      <td>-0.088482</td>\n",
       "      <td>-0.760164</td>\n",
       "      <td>-1.233163</td>\n",
       "      <td>0.830152</td>\n",
       "      <td>1</td>\n",
       "      <td>0</td>\n",
       "      <td>0.647083</td>\n",
       "      <td>0</td>\n",
       "      <td>0</td>\n",
       "      <td>1</td>\n",
       "    </tr>\n",
       "    <tr>\n",
       "      <td>5709</td>\n",
       "      <td>-0.087120</td>\n",
       "      <td>0.006422</td>\n",
       "      <td>1.390954</td>\n",
       "      <td>-1.233163</td>\n",
       "      <td>-0.891560</td>\n",
       "      <td>1</td>\n",
       "      <td>0</td>\n",
       "      <td>-1.658410</td>\n",
       "      <td>0</td>\n",
       "      <td>0</td>\n",
       "      <td>0</td>\n",
       "    </tr>\n",
       "    <tr>\n",
       "      <td>7117</td>\n",
       "      <td>-0.917905</td>\n",
       "      <td>-0.752805</td>\n",
       "      <td>0.161744</td>\n",
       "      <td>0.722307</td>\n",
       "      <td>-0.891560</td>\n",
       "      <td>1</td>\n",
       "      <td>1</td>\n",
       "      <td>-1.369334</td>\n",
       "      <td>0</td>\n",
       "      <td>1</td>\n",
       "      <td>1</td>\n",
       "    </tr>\n",
       "    <tr>\n",
       "      <td>7775</td>\n",
       "      <td>-0.253277</td>\n",
       "      <td>0.101325</td>\n",
       "      <td>1.698257</td>\n",
       "      <td>-1.233163</td>\n",
       "      <td>0.830152</td>\n",
       "      <td>1</td>\n",
       "      <td>0</td>\n",
       "      <td>0.075086</td>\n",
       "      <td>0</td>\n",
       "      <td>1</td>\n",
       "      <td>1</td>\n",
       "    </tr>\n",
       "    <tr>\n",
       "      <td>8735</td>\n",
       "      <td>0.785204</td>\n",
       "      <td>-0.847708</td>\n",
       "      <td>1.698257</td>\n",
       "      <td>0.615625</td>\n",
       "      <td>-0.891560</td>\n",
       "      <td>0</td>\n",
       "      <td>1</td>\n",
       "      <td>-1.070919</td>\n",
       "      <td>0</td>\n",
       "      <td>0</td>\n",
       "      <td>1</td>\n",
       "    </tr>\n",
       "  </tbody>\n",
       "</table>\n",
       "</div>"
      ],
      "text/plain": [
       "      credit_score       age    tenure   balance  num_of_products  \\\n",
       "7041     -2.226392 -0.088482 -0.760164 -1.233163         0.830152   \n",
       "5709     -0.087120  0.006422  1.390954 -1.233163        -0.891560   \n",
       "7117     -0.917905 -0.752805  0.161744  0.722307        -0.891560   \n",
       "7775     -0.253277  0.101325  1.698257 -1.233163         0.830152   \n",
       "8735      0.785204 -0.847708  1.698257  0.615625        -0.891560   \n",
       "\n",
       "      has_cr_card  is_active_member  estimated_salary  geography_Germany  \\\n",
       "7041            1                 0          0.647083                  0   \n",
       "5709            1                 0         -1.658410                  0   \n",
       "7117            1                 1         -1.369334                  0   \n",
       "7775            1                 0          0.075086                  0   \n",
       "8735            0                 1         -1.070919                  0   \n",
       "\n",
       "      geography_Spain  gender_Male  \n",
       "7041                0            1  \n",
       "5709                0            0  \n",
       "7117                1            1  \n",
       "7775                1            1  \n",
       "8735                0            1  "
      ]
     },
     "execution_count": 73,
     "metadata": {},
     "output_type": "execute_result"
    }
   ],
   "source": [
    "features_test.head()"
   ]
  },
  {
   "cell_type": "markdown",
   "metadata": {},
   "source": [
    "## Исследование задачи"
   ]
  },
  {
   "cell_type": "markdown",
   "metadata": {},
   "source": [
    "Посмотрим на балланс классов"
   ]
  },
  {
   "cell_type": "code",
   "execution_count": 23,
   "metadata": {
    "scrolled": true
   },
   "outputs": [
    {
     "name": "stdout",
     "output_type": "stream",
     "text": [
      "0    0.7963\n",
      "1    0.2037\n",
      "Name: exited, dtype: float64\n"
     ]
    },
    {
     "data": {
      "image/png": "[encoded data removed]",
      "text/plain": [
       "<Figure size 432x288 with 1 Axes>"
      ]
     },
     "metadata": {
      "needs_background": "light"
     },
     "output_type": "display_data"
    }
   ],
   "source": [
    "orig_frequency = df['exited'].value_counts(normalize=True)\n",
    "print(orig_frequency)\n",
    "orig_frequency.plot(kind='bar')\n",
    "plt.title('Частота классов: исходные данные')\n",
    "plt.show()"
   ]
  },
  {
   "cell_type": "markdown",
   "metadata": {},
   "source": [
    "Наблюдается дисбаланс: классы находятся в соотношении примерно 1:4, причем отрицательный класс больше. "
   ]
  },
  {
   "cell_type": "markdown",
   "metadata": {},
   "source": [
    "Попробуем обучить модели логистической регрессии, дерева решений и случайного леса на таких данных и сравнить их с константной моделью."
   ]
  },
  {
   "cell_type": "code",
   "execution_count": 24,
   "metadata": {},
   "outputs": [],
   "source": [
    "# список для записи параметров\n",
    "list_accuracy = []"
   ]
  },
  {
   "cell_type": "code",
   "execution_count": 25,
   "metadata": {
    "scrolled": false
   },
   "outputs": [
    {
     "name": "stdout",
     "output_type": "stream",
     "text": [
      "0    0.7965\n",
      "1    0.2035\n",
      "dtype: float64\n"
     ]
    },
    {
     "data": {
      "image/png": "[encoded data removed]",
      "text/plain": [
       "<Figure size 432x288 with 1 Axes>"
      ]
     },
     "metadata": {
      "needs_background": "light"
     },
     "output_type": "display_data"
    },
    {
     "name": "stdout",
     "output_type": "stream",
     "text": [
      "accuracy: 0.7875\n",
      "f1: 0.48484848484848486\n",
      "auc_roc: 0.6738109352222068\n"
     ]
    }
   ],
   "source": [
    "# создение модели решиющего дерева\n",
    "model = DecisionTreeClassifier(random_state=12345)\n",
    "# обучение\n",
    "model.fit(features_train, target_train)\n",
    "# получение предсказаний на валидационной выборке\n",
    "predicted_valid = model.predict(features_valid)\n",
    "# подсчет частоты классов\n",
    "class_frequency = pd.Series(predicted_valid).value_counts(normalize=True)\n",
    "print(class_frequency)\n",
    "class_frequency.plot(kind='bar')\n",
    "plt.title('Частота классов: дерево решений')\n",
    "plt.show()\n",
    "# метрики\n",
    "accuracy = accuracy_score(target_valid, predicted_valid)\n",
    "print('accuracy:', accuracy)\n",
    "f1 = f1_score(target_valid, predicted_valid)\n",
    "print('f1:', f1)\n",
    "probabilities_valid = model.predict_proba(features_valid)\n",
    "probabilities_one_valid = probabilities_valid[:, 1]\n",
    "auc_roc = roc_auc_score(target_valid, probabilities_one_valid)\n",
    "print('auc_roc:', auc_roc)\n",
    "list_accuracy.append(['tree', accuracy, f1, auc_roc])"
   ]
  },
  {
   "cell_type": "code",
   "execution_count": 26,
   "metadata": {
    "scrolled": false
   },
   "outputs": [
    {
     "name": "stdout",
     "output_type": "stream",
     "text": [
      "0    0.9125\n",
      "1    0.0875\n",
      "dtype: float64\n"
     ]
    },
    {
     "name": "stderr",
     "output_type": "stream",
     "text": [
      "/opt/conda/lib/python3.7/site-packages/sklearn/linear_model/logistic.py:432: FutureWarning: Default solver will be changed to 'lbfgs' in 0.22. Specify a solver to silence this warning.\n",
      "  FutureWarning)\n"
     ]
    },
    {
     "data": {
      "image/png": "[encoded data removed]",
      "text/plain": [
       "<Figure size 432x288 with 1 Axes>"
      ]
     },
     "metadata": {
      "needs_background": "light"
     },
     "output_type": "display_data"
    },
    {
     "name": "stdout",
     "output_type": "stream",
     "text": [
      "accuracy: 0.8025\n",
      "f1: 0.33389544688026984\n",
      "auc_roc: 0.7585576975423272\n"
     ]
    }
   ],
   "source": [
    "# создение модели логистической модели\n",
    "model = LogisticRegression(random_state=12345)\n",
    "# обучение \n",
    "model.fit(features_train, target_train)\n",
    "# предсказания на валидационной выборке\n",
    "predicted_valid = model.predict(features_valid)\n",
    "# подсчет частоты классов\n",
    "class_frequency = pd.Series(predicted_valid).value_counts(normalize=True)\n",
    "print(class_frequency)\n",
    "class_frequency.plot(kind='bar')\n",
    "plt.title('Частота классов: логистическая регрессия')\n",
    "plt.show()\n",
    "# метрики\n",
    "accuracy = accuracy_score(target_valid, predicted_valid)\n",
    "print('accuracy:', accuracy)\n",
    "f1 = f1_score(target_valid, predicted_valid)\n",
    "print('f1:', f1)\n",
    "probabilities_valid = model.predict_proba(features_valid)\n",
    "probabilities_one_valid = probabilities_valid[:, 1]\n",
    "auc_roc = roc_auc_score(target_valid, probabilities_one_valid)\n",
    "print('auc_roc:', auc_roc)\n",
    "list_accuracy.append(['logreg', accuracy, f1, auc_roc])"
   ]
  },
  {
   "cell_type": "code",
   "execution_count": 27,
   "metadata": {
    "scrolled": false
   },
   "outputs": [
    {
     "name": "stderr",
     "output_type": "stream",
     "text": [
      "/opt/conda/lib/python3.7/site-packages/sklearn/ensemble/forest.py:245: FutureWarning: The default value of n_estimators will change from 10 in version 0.20 to 100 in 0.22.\n",
      "  \"10 in version 0.20 to 100 in 0.22.\", FutureWarning)\n"
     ]
    },
    {
     "name": "stdout",
     "output_type": "stream",
     "text": [
      "0    0.875\n",
      "1    0.125\n",
      "dtype: float64\n"
     ]
    },
    {
     "data": {
      "image/png": "[encoded data removed]",
      "text/plain": [
       "<Figure size 432x288 with 1 Axes>"
      ]
     },
     "metadata": {
      "needs_background": "light"
     },
     "output_type": "display_data"
    },
    {
     "name": "stdout",
     "output_type": "stream",
     "text": [
      "accuracy: 0.85\n",
      "f1: 0.5508982035928144\n",
      "auc_roc: 0.8097738311990756\n"
     ]
    }
   ],
   "source": [
    "# создение модели случайного леса\n",
    "model = RandomForestClassifier(random_state=12345)\n",
    "# обучение\n",
    "model.fit(features_train, target_train)\n",
    "# получение предсказаний на валидационной выборке\n",
    "predicted_valid = model.predict(features_valid)\n",
    "# подсчет частоты классов\n",
    "class_frequency = pd.Series(predicted_valid).value_counts(normalize=True)\n",
    "print(class_frequency)\n",
    "class_frequency.plot(kind='bar')\n",
    "plt.title('Частота классов: лес')\n",
    "plt.show()\n",
    "# метрики\n",
    "accuracy = accuracy_score(target_valid, predicted_valid)\n",
    "print('accuracy:', accuracy)\n",
    "f1 = f1_score(target_valid, predicted_valid)\n",
    "print('f1:', f1)\n",
    "probabilities_valid = model.predict_proba(features_valid)\n",
    "probabilities_one_valid = probabilities_valid[:, 1]\n",
    "auc_roc = roc_auc_score(target_valid, probabilities_one_valid)\n",
    "print('auc_roc:', auc_roc)\n",
    "list_accuracy.append(['forest', accuracy, f1, auc_roc])\n"
   ]
  },
  {
   "cell_type": "markdown",
   "metadata": {},
   "source": [
    "Сравним данные полученные c константной моделью, которая будет прогнозировать только отрицательный класс."
   ]
  },
  {
   "cell_type": "code",
   "execution_count": 28,
   "metadata": {
    "scrolled": false
   },
   "outputs": [
    {
     "name": "stdout",
     "output_type": "stream",
     "text": [
      "accuracy: 0.7963\n"
     ]
    }
   ],
   "source": [
    "target_pred_const = pd.Series([0]*len(target))\n",
    "accuracy = accuracy_score(target, target_pred_const)\n",
    "print('accuracy:', accuracy)\n",
    "list_accuracy.append(['const', accuracy, '-', '-'])"
   ]
  },
  {
   "cell_type": "markdown",
   "metadata": {},
   "source": [
    "Сравним полученные результаты."
   ]
  },
  {
   "cell_type": "code",
   "execution_count": 29,
   "metadata": {},
   "outputs": [
    {
     "data": {
      "text/html": [
       "<div>\n",
       "<style scoped>\n",
       "    .dataframe tbody tr th:only-of-type {\n",
       "        vertical-align: middle;\n",
       "    }\n",
       "\n",
       "    .dataframe tbody tr th {\n",
       "        vertical-align: top;\n",
       "    }\n",
       "\n",
       "    .dataframe thead th {\n",
       "        text-align: right;\n",
       "    }\n",
       "</style>\n",
       "<table border=\"1\" class=\"dataframe\">\n",
       "  <thead>\n",
       "    <tr style=\"text-align: right;\">\n",
       "      <th></th>\n",
       "      <th>model</th>\n",
       "      <th>accuracy</th>\n",
       "      <th>f1</th>\n",
       "      <th>auc_roc</th>\n",
       "    </tr>\n",
       "  </thead>\n",
       "  <tbody>\n",
       "    <tr>\n",
       "      <td>0</td>\n",
       "      <td>tree</td>\n",
       "      <td>0.788</td>\n",
       "      <td>0.484848</td>\n",
       "      <td>0.673811</td>\n",
       "    </tr>\n",
       "    <tr>\n",
       "      <td>1</td>\n",
       "      <td>logreg</td>\n",
       "      <td>0.802</td>\n",
       "      <td>0.333895</td>\n",
       "      <td>0.758558</td>\n",
       "    </tr>\n",
       "    <tr>\n",
       "      <td>2</td>\n",
       "      <td>forest</td>\n",
       "      <td>0.850</td>\n",
       "      <td>0.550898</td>\n",
       "      <td>0.809774</td>\n",
       "    </tr>\n",
       "    <tr>\n",
       "      <td>3</td>\n",
       "      <td>const</td>\n",
       "      <td>0.796</td>\n",
       "      <td>-</td>\n",
       "      <td>-</td>\n",
       "    </tr>\n",
       "  </tbody>\n",
       "</table>\n",
       "</div>"
      ],
      "text/plain": [
       "    model  accuracy        f1   auc_roc\n",
       "0    tree     0.788  0.484848  0.673811\n",
       "1  logreg     0.802  0.333895  0.758558\n",
       "2  forest     0.850  0.550898  0.809774\n",
       "3   const     0.796         -         -"
      ]
     },
     "execution_count": 29,
     "metadata": {},
     "output_type": "execute_result"
    }
   ],
   "source": [
    "imbalance = pd.DataFrame(list_accuracy, columns =['model', 'accuracy', 'f1', 'auc_roc']).round(3)\n",
    "imbalance"
   ]
  },
  {
   "cell_type": "markdown",
   "metadata": {},
   "source": [
    "**Вывод**\n",
    "\n",
    "- Константная модель выдает значение accuracy даже лучше, чем дерево решений, и в целом ее accuracy сопоставима с моделями. Эта метрика не может быть использована  при дисбаллансе классов: можно предсказывать, что ни один клиент не уйдет из банка, и доля правильных ответов будет сопоставима с долей правильных ответов модели. Значит, модель не пройдет проверку на адекватность.\n",
    "- Значение F1-меры составляет от 0,33 у логистической регрессии до 0,55 у случайного леса. (F1-мера должна приближаться к 1)\n",
    "- AOC-ROC составляет от 0,67 у логистической регресии до 0,81 у случайного леса. (AOC-ROC случайной модели = 0,5)\n",
    "- Случайный лес показывает лучшие значения метрик F1-меры и AOC-ROC.\n",
    "\n",
    "Попробуем устранить дисбаланс классов, чтобы повысить значения F1-меры."
   ]
  },
  {
   "cell_type": "markdown",
   "metadata": {},
   "source": [
    "## Борьба с дисбалансом"
   ]
  },
  {
   "cell_type": "markdown",
   "metadata": {},
   "source": [
    "### Методы борьбы с дисбалансом"
   ]
  },
  {
   "cell_type": "markdown",
   "metadata": {},
   "source": [
    "Посмотрим на самой быстрой модели (логистическая регрессия), как изменится F1-мера при использовании разных методов борьбы с дисбаллансом. Для некоторых методов найдем наиболее эффективные параметры."
   ]
  },
  {
   "cell_type": "code",
   "execution_count": 30,
   "metadata": {},
   "outputs": [],
   "source": [
    "methods = []"
   ]
  },
  {
   "cell_type": "markdown",
   "metadata": {},
   "source": [
    "Взвешивание классов"
   ]
  },
  {
   "cell_type": "code",
   "execution_count": 31,
   "metadata": {
    "scrolled": true
   },
   "outputs": [
    {
     "name": "stdout",
     "output_type": "stream",
     "text": [
      "F1: 0.489\n"
     ]
    }
   ],
   "source": [
    "model = LogisticRegression(random_state=12345, solver='liblinear', class_weight='balanced')\n",
    "model.fit(features_train, target_train)\n",
    "predicted_valid = model.predict(features_valid)\n",
    "f1 = f1_score(target_valid, predicted_valid)\n",
    "print(f\"F1: {f1:.3}\")"
   ]
  },
  {
   "cell_type": "code",
   "execution_count": 32,
   "metadata": {},
   "outputs": [],
   "source": [
    "methods.append(['class_weight', f1, '-'])"
   ]
  },
  {
   "cell_type": "markdown",
   "metadata": {},
   "source": [
    "Увеличение выборки"
   ]
  },
  {
   "cell_type": "code",
   "execution_count": 33,
   "metadata": {},
   "outputs": [],
   "source": [
    "# функция для увеличения выборки\n",
    "def upsample(features, target, repeat):\n",
    "    features_zeros = features[target == 0]\n",
    "    features_ones = features[target == 1]\n",
    "    target_zeros = target[target == 0]\n",
    "    target_ones = target[target == 1]\n",
    "\n",
    "    features_upsampled = pd.concat([features_zeros] + [features_ones] * repeat)\n",
    "    target_upsampled = pd.concat([target_zeros] + [target_ones] * repeat)\n",
    "    \n",
    "    features_upsampled, target_upsampled = shuffle(\n",
    "        features_upsampled, target_upsampled, random_state=12345)\n",
    "    \n",
    "    return features_upsampled, target_upsampled\n",
    "\n",
    "uplist = pd.DataFrame([], columns=['repeat','F1'])\n",
    "\n",
    "best_parameter = 0\n",
    "best_f1 = 0\n",
    "for i in range(1, 11, 1):\n",
    "    features_upsampled, target_upsampled = upsample(features_train, target_train, i)\n",
    "\n",
    "    model = LogisticRegression(random_state = 12345, solver='liblinear')\n",
    "    model.fit(features_upsampled, target_upsampled)\n",
    "    predicted_valid = model.predict(features_valid)\n",
    "    f1 = f1_score(target_valid, predicted_valid)\n",
    "    uplist.loc[len(uplist.index)] = [i, f1]\n",
    "    if f1 > best_f1:\n",
    "        best_parameter = i\n",
    "        best_f1 = f1"
   ]
  },
  {
   "cell_type": "code",
   "execution_count": 34,
   "metadata": {
    "scrolled": true
   },
   "outputs": [
    {
     "data": {
      "image/png": "[encoded data removed]",
      "text/plain": [
       "<Figure size 432x288 with 1 Axes>"
      ]
     },
     "metadata": {
      "needs_background": "light"
     },
     "output_type": "display_data"
    }
   ],
   "source": [
    "uplist.plot(x='repeat', y='F1', grid=True)\n",
    "plt.title('Увеличение выборки')\n",
    "plt.ylabel('F1-мера')\n",
    "plt.xlabel('повторения')\n",
    "plt.show()"
   ]
  },
  {
   "cell_type": "markdown",
   "metadata": {},
   "source": [
    "Наилучший результат достигается при повторении 3 раза"
   ]
  },
  {
   "cell_type": "code",
   "execution_count": 35,
   "metadata": {},
   "outputs": [],
   "source": [
    "methods.append(['upsample', best_f1, best_parameter])"
   ]
  },
  {
   "cell_type": "markdown",
   "metadata": {},
   "source": [
    "Уменьшение выбоки"
   ]
  },
  {
   "cell_type": "code",
   "execution_count": 36,
   "metadata": {
    "scrolled": true
   },
   "outputs": [],
   "source": [
    "# функция для уменьшения выборки\n",
    "def downsample(features, target, fraction):\n",
    "    features_zeros = features[target == 0]\n",
    "    features_ones = features[target == 1]\n",
    "    target_zeros = target[target == 0]\n",
    "    target_ones = target[target == 1]\n",
    "\n",
    "    features_downsampled = pd.concat(\n",
    "        [features_zeros.sample(frac=fraction, random_state=12345)] + [features_ones])\n",
    "    target_downsampled = pd.concat(\n",
    "        [target_zeros.sample(frac=fraction, random_state=12345)] + [target_ones])\n",
    "    \n",
    "    features_downsampled, target_downsampled = shuffle(\n",
    "        features_downsampled, target_downsampled, random_state=12345)\n",
    "    \n",
    "    return features_downsampled, target_downsampled\n",
    "\n",
    "downlist = pd.DataFrame([], columns=['fraction','F1'])\n",
    "\n",
    "best_parameter = 0\n",
    "best_f1 = 0\n",
    "for i in np.arange(0.1, 1.0, 0.1):\n",
    "    features_downsampled, target_downsampled = downsample(features_train, target_train, i)\n",
    "    model = LogisticRegression(random_state=12345, solver='liblinear')\n",
    "    model.fit(features_downsampled, target_downsampled)\n",
    "    predicted_valid = model.predict(features_valid)\n",
    "    f1 = f1_score(target_valid, predicted_valid)\n",
    "    downlist.loc[len(downlist.index)] = [i, f1]\n",
    "    if f1 > best_f1:\n",
    "        best_parameter = i\n",
    "        best_f1 = f1"
   ]
  },
  {
   "cell_type": "code",
   "execution_count": 37,
   "metadata": {
    "scrolled": false
   },
   "outputs": [
    {
     "data": {
      "image/png": "[encoded data removed]",
      "text/plain": [
       "<Figure size 432x288 with 1 Axes>"
      ]
     },
     "metadata": {
      "needs_background": "light"
     },
     "output_type": "display_data"
    }
   ],
   "source": [
    "downlist.plot(x='fraction', y='F1', grid=True)\n",
    "plt.title('Уменьшение выборки')\n",
    "plt.ylabel('F1-мера')\n",
    "plt.xlabel('fraction')\n",
    "plt.show()"
   ]
  },
  {
   "cell_type": "markdown",
   "metadata": {},
   "source": [
    "Наилучший результат достигается при доли 0.4."
   ]
  },
  {
   "cell_type": "code",
   "execution_count": 38,
   "metadata": {},
   "outputs": [],
   "source": [
    "methods.append(['downsample', best_f1, best_parameter])"
   ]
  },
  {
   "cell_type": "markdown",
   "metadata": {},
   "source": [
    "Изменение порога"
   ]
  },
  {
   "cell_type": "code",
   "execution_count": 39,
   "metadata": {
    "scrolled": false
   },
   "outputs": [],
   "source": [
    "model = LogisticRegression(random_state=12345, solver='liblinear')\n",
    "model.fit(features_train, target_train)\n",
    "probabilities_valid = model.predict_proba(features_valid)\n",
    "probabilities_one_valid = probabilities_valid[:, 1]\n",
    "\n",
    "threshold_list = pd.DataFrame([], columns=['threshold','F1'])\n",
    "\n",
    "best_parameter = 0\n",
    "best_f1 = 0\n",
    "for i in np.arange(0, 0.5, 0.02):\n",
    "    predicted_valid = probabilities_one_valid > i \n",
    "    f1 = f1_score(target_valid, predicted_valid)\n",
    "    threshold_list.loc[len(threshold_list.index)] = [i, f1]\n",
    "    if f1 > best_f1:\n",
    "        best_parameter = i\n",
    "        best_f1 = f1"
   ]
  },
  {
   "cell_type": "code",
   "execution_count": 40,
   "metadata": {
    "scrolled": true
   },
   "outputs": [
    {
     "data": {
      "image/png": "[encoded data removed]",
      "text/plain": [
       "<Figure size 432x288 with 1 Axes>"
      ]
     },
     "metadata": {
      "needs_background": "light"
     },
     "output_type": "display_data"
    }
   ],
   "source": [
    "threshold_list.plot(x='threshold', y='F1', grid=True)\n",
    "plt.title('изменение порога')\n",
    "plt.ylabel('F1-мера')\n",
    "plt.xlabel('порог')\n",
    "plt.show()"
   ]
  },
  {
   "cell_type": "markdown",
   "metadata": {},
   "source": [
    "Наилучший результат при пороге равном 0,26."
   ]
  },
  {
   "cell_type": "code",
   "execution_count": 41,
   "metadata": {},
   "outputs": [],
   "source": [
    "methods.append(['threshold', best_f1, best_parameter])"
   ]
  },
  {
   "cell_type": "markdown",
   "metadata": {},
   "source": [
    "Сравним методы"
   ]
  },
  {
   "cell_type": "code",
   "execution_count": 42,
   "metadata": {},
   "outputs": [
    {
     "data": {
      "text/html": [
       "<div>\n",
       "<style scoped>\n",
       "    .dataframe tbody tr th:only-of-type {\n",
       "        vertical-align: middle;\n",
       "    }\n",
       "\n",
       "    .dataframe tbody tr th {\n",
       "        vertical-align: top;\n",
       "    }\n",
       "\n",
       "    .dataframe thead th {\n",
       "        text-align: right;\n",
       "    }\n",
       "</style>\n",
       "<table border=\"1\" class=\"dataframe\">\n",
       "  <thead>\n",
       "    <tr style=\"text-align: right;\">\n",
       "      <th></th>\n",
       "      <th>methods</th>\n",
       "      <th>f1</th>\n",
       "      <th>parameter</th>\n",
       "    </tr>\n",
       "  </thead>\n",
       "  <tbody>\n",
       "    <tr>\n",
       "      <td>0</td>\n",
       "      <td>class_weight</td>\n",
       "      <td>0.489</td>\n",
       "      <td>-</td>\n",
       "    </tr>\n",
       "    <tr>\n",
       "      <td>1</td>\n",
       "      <td>upsample</td>\n",
       "      <td>0.500</td>\n",
       "      <td>3</td>\n",
       "    </tr>\n",
       "    <tr>\n",
       "      <td>2</td>\n",
       "      <td>downsample</td>\n",
       "      <td>0.507</td>\n",
       "      <td>0.4</td>\n",
       "    </tr>\n",
       "    <tr>\n",
       "      <td>3</td>\n",
       "      <td>threshold</td>\n",
       "      <td>0.499</td>\n",
       "      <td>0.26</td>\n",
       "    </tr>\n",
       "  </tbody>\n",
       "</table>\n",
       "</div>"
      ],
      "text/plain": [
       "        methods     f1 parameter\n",
       "0  class_weight  0.489         -\n",
       "1      upsample  0.500         3\n",
       "2    downsample  0.507       0.4\n",
       "3     threshold  0.499      0.26"
      ]
     },
     "execution_count": 42,
     "metadata": {},
     "output_type": "execute_result"
    }
   ],
   "source": [
    "methods = pd.DataFrame(methods, columns =['methods', 'f1', 'parameter'])\n",
    "methods['f1'] = methods['f1'].round(3)\n",
    "methods"
   ]
  },
  {
   "cell_type": "markdown",
   "metadata": {},
   "source": [
    "В целом все методы дают сравнительно одинаковый результат."
   ]
  },
  {
   "cell_type": "markdown",
   "metadata": {},
   "source": [
    "### Поиск наилучшей модели"
   ]
  },
  {
   "cell_type": "markdown",
   "metadata": {},
   "source": [
    "При исследовании на дисбаланс наилучший результат выдавала модель случайного леса. На всякий случай проверим, изменится ли ситуация, когда дисбалланс будет учтен. Проверим на методе уменьшения выборки модели."
   ]
  },
  {
   "cell_type": "code",
   "execution_count": 43,
   "metadata": {},
   "outputs": [],
   "source": [
    "features_downsampled, target_downsampled = downsample(features_train, target_train, 0.4)"
   ]
  },
  {
   "cell_type": "code",
   "execution_count": 44,
   "metadata": {},
   "outputs": [],
   "source": [
    "best_models = []"
   ]
  },
  {
   "cell_type": "code",
   "execution_count": 45,
   "metadata": {},
   "outputs": [],
   "source": [
    "# LogisticRegression\n",
    "model1 = LogisticRegression(random_state=12345, solver='liblinear')\n",
    "model1.fit(features_downsampled, target_downsampled)\n",
    "predicted_valid = model1.predict(features_valid)\n",
    "\n",
    "f1 = f1_score(target_valid, predicted_valid)\n",
    "\n",
    "probabilities_valid = model.predict_proba(features_valid)\n",
    "probabilities_one_valid = probabilities_valid[:, 1]\n",
    "auc_roc = roc_auc_score(target_valid, probabilities_one_valid)"
   ]
  },
  {
   "cell_type": "code",
   "execution_count": 46,
   "metadata": {},
   "outputs": [],
   "source": [
    "best_models.append(['lodreg_model', f1, auc_roc])"
   ]
  },
  {
   "cell_type": "code",
   "execution_count": 47,
   "metadata": {},
   "outputs": [],
   "source": [
    "# DecisionTreeClassifier\n",
    "best_model_tree = None\n",
    "best_f1_tree = 0\n",
    "auc_roc_tree = 0\n",
    "\n",
    "for depth in range(1, 21):\n",
    "    model2 = DecisionTreeClassifier(random_state=12345, max_depth=depth)\n",
    "    model2.fit(features_downsampled, target_downsampled)\n",
    "    predicted_valid = model2.predict(features_valid)\n",
    "    f1 = f1_score(target_valid, predicted_valid)\n",
    "    \n",
    "    # определение лучшей модели\n",
    "    if f1 > best_f1_tree:\n",
    "        best_model_tree = model2\n",
    "        best_f1_tree = f1"
   ]
  },
  {
   "cell_type": "code",
   "execution_count": 48,
   "metadata": {},
   "outputs": [],
   "source": [
    "probabilities_valid = best_model_tree.predict_proba(features_valid)\n",
    "probabilities_one_valid = probabilities_valid[:, 1]\n",
    "auc_roc = roc_auc_score(target_valid, probabilities_one_valid)\n",
    "\n",
    "best_models.append(['best_model_tree', best_f1_tree, auc_roc])"
   ]
  },
  {
   "cell_type": "code",
   "execution_count": 49,
   "metadata": {
    "scrolled": true
   },
   "outputs": [
    {
     "name": "stdout",
     "output_type": "stream",
     "text": [
      "CPU times: user 1min 43s, sys: 300 ms, total: 1min 43s\n",
      "Wall time: 1min 46s\n"
     ]
    }
   ],
   "source": [
    "%%time\n",
    "# RandomForestClassifier\n",
    "best_model_forest = None\n",
    "best_f1_forest = 0\n",
    "for depth in range(1, 20, 1):\n",
    "    for n in range(10, 45, 1):\n",
    "        model3 = RandomForestClassifier(random_state=12345, n_estimators=n, max_depth=depth) \n",
    "        model3.fit(features_downsampled, target_downsampled)\n",
    "        predicted_valid = model3.predict(features_valid)\n",
    "        f1 = f1_score(target_valid, predicted_valid)\n",
    "        # определение лучшей модели\n",
    "        if f1 > best_f1_forest:\n",
    "            best_model_forest = model3\n",
    "            best_f1_forest = f1"
   ]
  },
  {
   "cell_type": "code",
   "execution_count": 50,
   "metadata": {},
   "outputs": [],
   "source": [
    "probabilities_valid = best_model_forest.predict_proba(features_valid)\n",
    "probabilities_one_valid = probabilities_valid[:, 1]\n",
    "auc_roc = roc_auc_score(target_valid, probabilities_one_valid)\n",
    "\n",
    "best_models.append(['best_model_forest', best_f1_forest, auc_roc])"
   ]
  },
  {
   "cell_type": "markdown",
   "metadata": {},
   "source": [
    "Сравним метрики"
   ]
  },
  {
   "cell_type": "code",
   "execution_count": 51,
   "metadata": {
    "scrolled": true
   },
   "outputs": [
    {
     "data": {
      "text/html": [
       "<div>\n",
       "<style scoped>\n",
       "    .dataframe tbody tr th:only-of-type {\n",
       "        vertical-align: middle;\n",
       "    }\n",
       "\n",
       "    .dataframe tbody tr th {\n",
       "        vertical-align: top;\n",
       "    }\n",
       "\n",
       "    .dataframe thead th {\n",
       "        text-align: right;\n",
       "    }\n",
       "</style>\n",
       "<table border=\"1\" class=\"dataframe\">\n",
       "  <thead>\n",
       "    <tr style=\"text-align: right;\">\n",
       "      <th></th>\n",
       "      <th>model</th>\n",
       "      <th>f1</th>\n",
       "      <th>auc_roc</th>\n",
       "    </tr>\n",
       "  </thead>\n",
       "  <tbody>\n",
       "    <tr>\n",
       "      <td>0</td>\n",
       "      <td>lodreg_model</td>\n",
       "      <td>0.507</td>\n",
       "      <td>0.759</td>\n",
       "    </tr>\n",
       "    <tr>\n",
       "      <td>1</td>\n",
       "      <td>best_model_tree</td>\n",
       "      <td>0.565</td>\n",
       "      <td>0.810</td>\n",
       "    </tr>\n",
       "    <tr>\n",
       "      <td>2</td>\n",
       "      <td>best_model_forest</td>\n",
       "      <td>0.637</td>\n",
       "      <td>0.844</td>\n",
       "    </tr>\n",
       "  </tbody>\n",
       "</table>\n",
       "</div>"
      ],
      "text/plain": [
       "               model     f1  auc_roc\n",
       "0       lodreg_model  0.507    0.759\n",
       "1    best_model_tree  0.565    0.810\n",
       "2  best_model_forest  0.637    0.844"
      ]
     },
     "execution_count": 51,
     "metadata": {},
     "output_type": "execute_result"
    }
   ],
   "source": [
    "best_models = pd.DataFrame(best_models, columns =['model', 'f1', 'auc_roc'])\n",
    "best_models = best_models.round(3)\n",
    "best_models"
   ]
  },
  {
   "cell_type": "markdown",
   "metadata": {},
   "source": [
    "Как и в случае без учета диссбаланса, наилучший результат у случайного леса."
   ]
  },
  {
   "cell_type": "markdown",
   "metadata": {},
   "source": [
    "Проверим на модели случайного леса, удастся ли с помощью других методов борьбы с дисбаллансом повысить значение метрик."
   ]
  },
  {
   "cell_type": "code",
   "execution_count": 52,
   "metadata": {},
   "outputs": [],
   "source": [
    "best_model_methods = [['downsample', best_f1_forest, auc_roc]]"
   ]
  },
  {
   "cell_type": "code",
   "execution_count": 53,
   "metadata": {
    "scrolled": true
   },
   "outputs": [
    {
     "name": "stdout",
     "output_type": "stream",
     "text": [
      "CPU times: user 2min 17s, sys: 578 ms, total: 2min 17s\n",
      "Wall time: 2min 19s\n"
     ]
    }
   ],
   "source": [
    "%%time\n",
    "# class_weight\n",
    "best_model_forest1 = None\n",
    "best_f1_forest1 = 0\n",
    "for depth in range(1, 20, 1):\n",
    "    for n in range(10, 45, 1):\n",
    "        model4 = RandomForestClassifier(random_state=12345, n_estimators=n, max_depth=depth, class_weight='balanced') \n",
    "        model4.fit(features_train, target_train)\n",
    "        predicted_valid = model4.predict(features_valid)\n",
    "        f1 = f1_score(target_valid, predicted_valid)\n",
    "        # определение лучшей модели\n",
    "        if f1 > best_f1_forest1:\n",
    "            best_model_forest1 = model4\n",
    "            best_f1_forest1 = f1"
   ]
  },
  {
   "cell_type": "code",
   "execution_count": 54,
   "metadata": {},
   "outputs": [],
   "source": [
    "probabilities_valid = best_model_forest1.predict_proba(features_valid)\n",
    "probabilities_one_valid = probabilities_valid[:, 1]\n",
    "auc_roc1 = roc_auc_score(target_valid, probabilities_one_valid)"
   ]
  },
  {
   "cell_type": "code",
   "execution_count": 57,
   "metadata": {},
   "outputs": [],
   "source": [
    "best_model_methods.append(['class_weight', best_f1_forest1, auc_roc1])"
   ]
  },
  {
   "cell_type": "code",
   "execution_count": 58,
   "metadata": {
    "scrolled": false
   },
   "outputs": [
    {
     "name": "stdout",
     "output_type": "stream",
     "text": [
      "CPU times: user 3min 1s, sys: 606 ms, total: 3min 2s\n",
      "Wall time: 3min 4s\n"
     ]
    }
   ],
   "source": [
    "%%time\n",
    "# upsample\n",
    "features_upsampled, target_upsampled = upsample(features_train, target_train, 3)\n",
    "best_model_forest2 = None\n",
    "best_f1_forest2 = 0\n",
    "for depth in range(1, 20, 1):\n",
    "    for n in range(10, 45, 1):\n",
    "        model5 = RandomForestClassifier(random_state=12345, n_estimators=n, max_depth=depth) \n",
    "        model5.fit(features_upsampled, target_upsampled)\n",
    "        predicted_valid = model5.predict(features_valid)\n",
    "        f1 = f1_score(target_valid, predicted_valid)\n",
    "        # определение лучшей модели\n",
    "        if f1 > best_f1_forest2:\n",
    "            best_model_forest2 = model5\n",
    "            best_f1_forest2 = f1"
   ]
  },
  {
   "cell_type": "code",
   "execution_count": 59,
   "metadata": {},
   "outputs": [],
   "source": [
    "probabilities_valid = best_model_forest2.predict_proba(features_valid)\n",
    "probabilities_one_valid = probabilities_valid[:, 1]\n",
    "auc_roc2 = roc_auc_score(target_valid, probabilities_one_valid)"
   ]
  },
  {
   "cell_type": "code",
   "execution_count": 60,
   "metadata": {},
   "outputs": [],
   "source": [
    "best_model_methods.append(['upsample', best_f1_forest2, auc_roc2])"
   ]
  },
  {
   "cell_type": "code",
   "execution_count": 61,
   "metadata": {
    "scrolled": true
   },
   "outputs": [
    {
     "name": "stdout",
     "output_type": "stream",
     "text": [
      "CPU times: user 2min 18s, sys: 299 ms, total: 2min 19s\n",
      "Wall time: 2min 19s\n"
     ]
    }
   ],
   "source": [
    "%%time\n",
    "# threshold \n",
    "best_model_forest3 = None\n",
    "best_f1_forest3 = 0\n",
    "for depth in range(1, 20, 1):\n",
    "    for n in range(10, 45, 1):\n",
    "        model5 = RandomForestClassifier(random_state=12345, n_estimators=n, max_depth=depth) \n",
    "        model5.fit(features_train, target_train)\n",
    "        probabilities_valid = model5.predict_proba(features_valid)\n",
    "        probabilities_one_valid = probabilities_valid[:, 1]\n",
    "\n",
    "        predicted_valid = probabilities_one_valid > 0.26 \n",
    "        f1 = f1_score(target_valid, predicted_valid)\n",
    "        # определение лучшей модели\n",
    "        if f1 > best_f1_forest3:\n",
    "            best_model_forest3 = model5\n",
    "            best_f1_forest3 = f1"
   ]
  },
  {
   "cell_type": "code",
   "execution_count": 62,
   "metadata": {},
   "outputs": [],
   "source": [
    "probabilities_valid = best_model_forest3.predict_proba(features_valid)\n",
    "probabilities_one_valid = probabilities_valid[:, 1]\n",
    "auc_roc3 = roc_auc_score(target_valid, probabilities_one_valid)"
   ]
  },
  {
   "cell_type": "code",
   "execution_count": 63,
   "metadata": {},
   "outputs": [],
   "source": [
    "best_model_methods.append(['threshold', best_f1_forest3, auc_roc3])"
   ]
  },
  {
   "cell_type": "markdown",
   "metadata": {},
   "source": [
    "Сравним показатели."
   ]
  },
  {
   "cell_type": "code",
   "execution_count": 64,
   "metadata": {
    "scrolled": true
   },
   "outputs": [
    {
     "data": {
      "text/html": [
       "<div>\n",
       "<style scoped>\n",
       "    .dataframe tbody tr th:only-of-type {\n",
       "        vertical-align: middle;\n",
       "    }\n",
       "\n",
       "    .dataframe tbody tr th {\n",
       "        vertical-align: top;\n",
       "    }\n",
       "\n",
       "    .dataframe thead th {\n",
       "        text-align: right;\n",
       "    }\n",
       "</style>\n",
       "<table border=\"1\" class=\"dataframe\">\n",
       "  <thead>\n",
       "    <tr style=\"text-align: right;\">\n",
       "      <th></th>\n",
       "      <th>method</th>\n",
       "      <th>f1</th>\n",
       "      <th>auc_roc</th>\n",
       "    </tr>\n",
       "  </thead>\n",
       "  <tbody>\n",
       "    <tr>\n",
       "      <td>0</td>\n",
       "      <td>downsample</td>\n",
       "      <td>0.637</td>\n",
       "      <td>0.844</td>\n",
       "    </tr>\n",
       "    <tr>\n",
       "      <td>1</td>\n",
       "      <td>class_weight</td>\n",
       "      <td>0.632</td>\n",
       "      <td>0.854</td>\n",
       "    </tr>\n",
       "    <tr>\n",
       "      <td>2</td>\n",
       "      <td>upsample</td>\n",
       "      <td>0.643</td>\n",
       "      <td>0.852</td>\n",
       "    </tr>\n",
       "    <tr>\n",
       "      <td>3</td>\n",
       "      <td>threshold</td>\n",
       "      <td>0.634</td>\n",
       "      <td>0.852</td>\n",
       "    </tr>\n",
       "  </tbody>\n",
       "</table>\n",
       "</div>"
      ],
      "text/plain": [
       "         method     f1  auc_roc\n",
       "0    downsample  0.637    0.844\n",
       "1  class_weight  0.632    0.854\n",
       "2      upsample  0.643    0.852\n",
       "3     threshold  0.634    0.852"
      ]
     },
     "execution_count": 64,
     "metadata": {},
     "output_type": "execute_result"
    }
   ],
   "source": [
    "best_model_methods = pd.DataFrame(best_model_methods, columns=['method', 'f1', 'auc_roc']).round(3)\n",
    "best_model_methods"
   ]
  },
  {
   "cell_type": "markdown",
   "metadata": {},
   "source": [
    "**Вывод**\n",
    "\n",
    "Наилучшие значения показывает метод взвешивания классов (AUC_ROC наибольшая) и модель случайного леса со следующими гиперпараметрами:"
   ]
  },
  {
   "cell_type": "code",
   "execution_count": 65,
   "metadata": {},
   "outputs": [
    {
     "data": {
      "text/plain": [
       "RandomForestClassifier(bootstrap=True, class_weight='balanced',\n",
       "                       criterion='gini', max_depth=7, max_features='auto',\n",
       "                       max_leaf_nodes=None, min_impurity_decrease=0.0,\n",
       "                       min_impurity_split=None, min_samples_leaf=1,\n",
       "                       min_samples_split=2, min_weight_fraction_leaf=0.0,\n",
       "                       n_estimators=42, n_jobs=None, oob_score=False,\n",
       "                       random_state=12345, verbose=0, warm_start=False)"
      ]
     },
     "execution_count": 65,
     "metadata": {},
     "output_type": "execute_result"
    }
   ],
   "source": [
    "best_model_forest1"
   ]
  },
  {
   "cell_type": "markdown",
   "metadata": {},
   "source": [
    "## Тестирование модели"
   ]
  },
  {
   "cell_type": "code",
   "execution_count": 70,
   "metadata": {
    "scrolled": true
   },
   "outputs": [
    {
     "name": "stdout",
     "output_type": "stream",
     "text": [
      "F1-мера 0.609\n",
      "AUC-ROC 0.853\n"
     ]
    },
    {
     "data": {
      "image/png": "[encoded data removed]",
      "text/plain": [
       "<Figure size 432x288 with 1 Axes>"
      ]
     },
     "metadata": {
      "needs_background": "light"
     },
     "output_type": "display_data"
    }
   ],
   "source": [
    "predicted_test = best_model_forest1.predict(features_test)\n",
    "print(f'F1-мера {f1_score(target_test, predicted_test):.3}')\n",
    "probabilities_test = best_model_forest1.predict_proba(features_test)\n",
    "probabilities_one_test = probabilities_test[:, 1]\n",
    "print(f'AUC-ROC {roc_auc_score(target_test, probabilities_one_test):.3}')\n",
    "\n",
    "fpr, tpr, thresholds = roc_curve(target_test, probabilities_one_test)\n",
    "\n",
    "plt.figure()\n",
    "plt.plot(fpr, tpr)\n",
    "# ROC-кривая случайной модели\n",
    "plt.plot([0, 1], [0, 1], linestyle='--')\n",
    "plt.xlim([0.0, 1.0])\n",
    "plt.ylim([0.0, 1.0])\n",
    "plt.xlabel('False Positive Rate')\n",
    "plt.ylabel('True Positive Rate')\n",
    "plt.title('ROC-кривая')\n",
    "plt.show()"
   ]
  },
  {
   "cell_type": "markdown",
   "metadata": {},
   "source": [
    "Значение AUC-ROC практически такое же как на валидационной выборке. Значение F1-меры уменьшилось."
   ]
  },
  {
   "cell_type": "markdown",
   "metadata": {},
   "source": [
    "## Вывод"
   ]
  },
  {
   "cell_type": "markdown",
   "metadata": {},
   "source": [
    "Была построена модель для задачи классификации, которая предсказывает уход клиента из банка. Модель представляет собой случайный лес с гипер параметрами: n_estimators=42, max_depth=7, class_weight='balanced' (учет дисбалланса классов). "
   ]
  },
  {
   "cell_type": "code",
   "execution_count": null,
   "metadata": {},
   "outputs": [],
   "source": [
    "# лучшая модель\n",
    "best_model_forest1"
   ]
  },
  {
   "cell_type": "markdown",
   "metadata": {},
   "source": [
    "Для этого были осуществлены следующие этапы:\n",
    "1. Задружены данные.\n",
    "2. Выполнена предобработка данных:\n",
    "    - Регист названия столбцов изменен на змеиный\n",
    "    - Заполенены пропуски в столбце `Tenure`\n",
    "    - Удален столбец. `row_number` (дублирующий индексы строк).\n",
    "3.Подготовлены признаки:\n",
    "    - категориальные данные преобразованы в числовые методом прямого кодирования с учетом возможной дамми-ловушки.\n",
    "    - выделен целевой признак и признаки (без учета столбцов `surname`, `customer_id`).\n",
    "    - данные разбиты на три группы: обучающую (60%), валидационную (20%) и тестовую (20%) выборки.\n",
    "    - количественные данные отмасштабированы с помощью z-преобразования.\n",
    "4. Исследованы баланс классов. \n",
    "    - классы находятся в соотношении примерно 1:4, причем отрицательный класс больше.\n",
    "    - обучены три модели (логической регресси, решающего дерева и случайного леса) без учета балланса. Значение F1-меры составляет от 0,33 у логистической регрессии до 0,55 у случайного леса. (F1-мера должна приближаться к 1). AOC-ROC составляет от 0,67 у логистической регресии до 0,81 у случайного леса. (AOC-ROC случайной модели = 0,5). Случайный лес показывает лучшие значения метрик F1-меры и AOC-ROC."
   ]
  },
  {
   "cell_type": "code",
   "execution_count": null,
   "metadata": {
    "scrolled": true
   },
   "outputs": [],
   "source": [
    "imbalance"
   ]
  },
  {
   "cell_type": "markdown",
   "metadata": {},
   "source": [
    "5. Рассмотрены различне методы борьбы с дисбалансом на примере самой \"скоростной\" модели логистической регресси и найдены наиболее удачные параметры для некоторых."
   ]
  },
  {
   "cell_type": "code",
   "execution_count": null,
   "metadata": {
    "scrolled": true
   },
   "outputs": [],
   "source": [
    "methods"
   ]
  },
  {
   "cell_type": "markdown",
   "metadata": {},
   "source": [
    "6. Сравнивались F1-мера разных моделей при учете дисбалланса. Как и в случае без учета дисбаланса лучший результат показывает случайный лес."
   ]
  },
  {
   "cell_type": "code",
   "execution_count": null,
   "metadata": {
    "scrolled": true
   },
   "outputs": [],
   "source": [
    "best_models"
   ]
  },
  {
   "cell_type": "markdown",
   "metadata": {},
   "source": [
    "7. Далее обучалась модель случайного леса с изменением гиперпараметров (глубины от 1 до 20, числа деревьев от 10 до 45) и применением различных методов борьбы с дисбалансом. Даипозон измененеия гиперпараметров был подобрано заранее экспериментально. Наилучший результат у модели случайного леса с взвешенными классами. "
   ]
  },
  {
   "cell_type": "code",
   "execution_count": null,
   "metadata": {
    "scrolled": true
   },
   "outputs": [],
   "source": [
    "best_model_methods"
   ]
  },
  {
   "cell_type": "markdown",
   "metadata": {},
   "source": [
    "8. Модель испытана на тестовой выборке. F1-мера = 0.608, AUC-ROC = 0.853."
   ]
  },
  {
   "cell_type": "code",
   "execution_count": null,
   "metadata": {},
   "outputs": [],
   "source": []
  }
 ],
 "metadata": {
  "ExecuteTimeLog": [
   {
    "duration": 1129,
    "start_time": "2022-01-12T10:46:02.612Z"
   },
   {
    "duration": 377,
    "start_time": "2022-01-12T10:46:03.743Z"
   },
   {
    "duration": 15,
    "start_time": "2022-01-12T10:46:04.122Z"
   },
   {
    "duration": 8,
    "start_time": "2022-01-12T10:46:04.511Z"
   },
   {
    "duration": 3,
    "start_time": "2022-01-12T10:46:44.452Z"
   },
   {
    "duration": 3,
    "start_time": "2022-01-12T10:47:36.216Z"
   },
   {
    "duration": 4,
    "start_time": "2022-01-12T11:03:58.533Z"
   },
   {
    "duration": 4,
    "start_time": "2022-01-12T11:04:26.228Z"
   },
   {
    "duration": 4,
    "start_time": "2022-01-12T11:06:48.722Z"
   },
   {
    "duration": 414,
    "start_time": "2022-01-12T11:12:19.713Z"
   },
   {
    "duration": 333,
    "start_time": "2022-01-12T11:12:25.913Z"
   },
   {
    "duration": 3,
    "start_time": "2022-01-12T13:07:03.536Z"
   },
   {
    "duration": 1385,
    "start_time": "2022-01-12T13:07:07.476Z"
   },
   {
    "duration": 1984,
    "start_time": "2022-01-12T13:07:25.087Z"
   },
   {
    "duration": 106,
    "start_time": "2022-01-12T13:07:27.754Z"
   },
   {
    "duration": 2,
    "start_time": "2022-01-12T13:07:37.583Z"
   },
   {
    "duration": 1253,
    "start_time": "2022-01-12T13:07:40.866Z"
   },
   {
    "duration": 3,
    "start_time": "2022-01-12T13:08:17.900Z"
   },
   {
    "duration": 1331,
    "start_time": "2022-01-12T13:08:19.937Z"
   },
   {
    "duration": 4,
    "start_time": "2022-01-12T13:08:31.068Z"
   },
   {
    "duration": 1335,
    "start_time": "2022-01-12T13:08:32.032Z"
   },
   {
    "duration": 3,
    "start_time": "2022-01-12T13:08:39.825Z"
   },
   {
    "duration": 1336,
    "start_time": "2022-01-12T13:08:43.310Z"
   },
   {
    "duration": 4,
    "start_time": "2022-01-12T13:08:51.113Z"
   },
   {
    "duration": 1427,
    "start_time": "2022-01-12T13:08:53.782Z"
   },
   {
    "duration": 2,
    "start_time": "2022-01-12T13:09:03.553Z"
   },
   {
    "duration": 1294,
    "start_time": "2022-01-12T13:09:06.471Z"
   },
   {
    "duration": 2,
    "start_time": "2022-01-12T13:09:15.188Z"
   },
   {
    "duration": 1861,
    "start_time": "2022-01-12T13:09:16.517Z"
   },
   {
    "duration": 3,
    "start_time": "2022-01-12T13:11:27.443Z"
   },
   {
    "duration": 743,
    "start_time": "2022-01-12T13:11:29.221Z"
   },
   {
    "duration": 2,
    "start_time": "2022-01-12T13:13:21.898Z"
   },
   {
    "duration": 1394,
    "start_time": "2022-01-12T13:13:22.906Z"
   },
   {
    "duration": 4,
    "start_time": "2022-01-12T13:13:29.726Z"
   },
   {
    "duration": 1390,
    "start_time": "2022-01-12T13:13:30.510Z"
   },
   {
    "duration": 2,
    "start_time": "2022-01-12T13:14:13.582Z"
   },
   {
    "duration": 335,
    "start_time": "2022-01-12T13:18:06.932Z"
   },
   {
    "duration": 1403,
    "start_time": "2022-01-12T13:19:09.822Z"
   },
   {
    "duration": 349,
    "start_time": "2022-01-12T13:19:23.025Z"
   },
   {
    "duration": 4,
    "start_time": "2022-01-12T13:19:36.609Z"
   },
   {
    "duration": 1355,
    "start_time": "2022-01-12T13:19:45.096Z"
   },
   {
    "duration": 1605,
    "start_time": "2022-01-12T13:20:24.459Z"
   },
   {
    "duration": 360,
    "start_time": "2022-01-12T13:28:03.281Z"
   },
   {
    "duration": 378,
    "start_time": "2022-01-12T13:30:33.675Z"
   },
   {
    "duration": 321,
    "start_time": "2022-01-12T13:30:49.635Z"
   },
   {
    "duration": 2489,
    "start_time": "2022-01-12T13:30:57.489Z"
   },
   {
    "duration": 398,
    "start_time": "2022-01-12T13:31:30.664Z"
   },
   {
    "duration": 1354,
    "start_time": "2022-01-12T13:31:35.595Z"
   },
   {
    "duration": 325,
    "start_time": "2022-01-12T13:32:04.259Z"
   },
   {
    "duration": 343,
    "start_time": "2022-01-12T13:32:49.707Z"
   },
   {
    "duration": 119,
    "start_time": "2022-01-12T13:36:57.480Z"
   },
   {
    "duration": 112,
    "start_time": "2022-01-12T13:37:05.748Z"
   },
   {
    "duration": 334,
    "start_time": "2022-01-12T13:37:12.852Z"
   },
   {
    "duration": 864,
    "start_time": "2022-01-12T13:38:10.565Z"
   },
   {
    "duration": 855,
    "start_time": "2022-01-12T13:38:28.505Z"
   },
   {
    "duration": 885,
    "start_time": "2022-01-12T13:39:20.477Z"
   },
   {
    "duration": 1113,
    "start_time": "2022-01-12T13:39:39.096Z"
   },
   {
    "duration": 351,
    "start_time": "2022-01-12T13:40:00.343Z"
   },
   {
    "duration": 4,
    "start_time": "2022-01-12T13:42:09.996Z"
   },
   {
    "duration": 1402,
    "start_time": "2022-01-12T13:43:29.646Z"
   },
   {
    "duration": 3,
    "start_time": "2022-01-12T13:44:29.386Z"
   },
   {
    "duration": 4,
    "start_time": "2022-01-12T13:44:30.539Z"
   },
   {
    "duration": 3,
    "start_time": "2022-01-12T13:44:32.400Z"
   },
   {
    "duration": 332,
    "start_time": "2022-01-12T13:44:46.995Z"
   },
   {
    "duration": 320,
    "start_time": "2022-01-12T13:44:52.285Z"
   },
   {
    "duration": 334,
    "start_time": "2022-01-12T13:45:06.718Z"
   },
   {
    "duration": 334,
    "start_time": "2022-01-12T13:45:16.303Z"
   },
   {
    "duration": 312,
    "start_time": "2022-01-12T13:45:28.683Z"
   },
   {
    "duration": 324,
    "start_time": "2022-01-12T13:45:55.517Z"
   },
   {
    "duration": 321,
    "start_time": "2022-01-12T13:46:23.034Z"
   },
   {
    "duration": 1110,
    "start_time": "2022-01-12T13:47:13.469Z"
   },
   {
    "duration": 28,
    "start_time": "2022-01-12T13:47:14.581Z"
   },
   {
    "duration": 21,
    "start_time": "2022-01-12T13:47:14.610Z"
   },
   {
    "duration": 14,
    "start_time": "2022-01-12T13:47:14.632Z"
   },
   {
    "duration": 29,
    "start_time": "2022-01-12T13:47:14.648Z"
   },
   {
    "duration": 41,
    "start_time": "2022-01-12T13:47:14.679Z"
   },
   {
    "duration": 17,
    "start_time": "2022-01-12T13:47:14.722Z"
   },
   {
    "duration": 452,
    "start_time": "2022-01-12T13:47:14.741Z"
   },
   {
    "duration": -891,
    "start_time": "2022-01-12T13:47:16.086Z"
   },
   {
    "duration": 2,
    "start_time": "2022-01-12T13:47:29.010Z"
   },
   {
    "duration": 320,
    "start_time": "2022-01-12T13:47:34.950Z"
   },
   {
    "duration": 362,
    "start_time": "2022-01-12T13:47:42.668Z"
   },
   {
    "duration": 390,
    "start_time": "2022-01-12T13:47:48.658Z"
   },
   {
    "duration": 408,
    "start_time": "2022-01-12T13:47:49.776Z"
   },
   {
    "duration": 1066,
    "start_time": "2022-01-12T13:47:59.272Z"
   },
   {
    "duration": 28,
    "start_time": "2022-01-12T13:48:00.340Z"
   },
   {
    "duration": 15,
    "start_time": "2022-01-12T13:48:00.369Z"
   },
   {
    "duration": 15,
    "start_time": "2022-01-12T13:48:00.386Z"
   },
   {
    "duration": 5,
    "start_time": "2022-01-12T13:48:00.402Z"
   },
   {
    "duration": 14,
    "start_time": "2022-01-12T13:48:00.408Z"
   },
   {
    "duration": 22,
    "start_time": "2022-01-12T13:48:00.424Z"
   },
   {
    "duration": 12,
    "start_time": "2022-01-12T13:48:00.448Z"
   },
   {
    "duration": 4,
    "start_time": "2022-01-12T13:48:11.333Z"
   },
   {
    "duration": 1153,
    "start_time": "2022-01-12T13:48:48.556Z"
   },
   {
    "duration": 29,
    "start_time": "2022-01-12T13:48:49.711Z"
   },
   {
    "duration": 15,
    "start_time": "2022-01-12T13:48:49.741Z"
   },
   {
    "duration": 11,
    "start_time": "2022-01-12T13:48:49.757Z"
   },
   {
    "duration": 5,
    "start_time": "2022-01-12T13:48:49.769Z"
   },
   {
    "duration": 7,
    "start_time": "2022-01-12T13:48:49.775Z"
   },
   {
    "duration": 5,
    "start_time": "2022-01-12T13:48:49.784Z"
   },
   {
    "duration": 4,
    "start_time": "2022-01-12T13:50:06.027Z"
   },
   {
    "duration": 4,
    "start_time": "2022-01-12T14:08:44.517Z"
   },
   {
    "duration": 31,
    "start_time": "2022-01-12T14:08:44.522Z"
   },
   {
    "duration": 11,
    "start_time": "2022-01-12T14:08:44.554Z"
   },
   {
    "duration": 8,
    "start_time": "2022-01-12T14:08:44.567Z"
   },
   {
    "duration": 1116,
    "start_time": "2022-01-12T14:09:13.179Z"
   },
   {
    "duration": 28,
    "start_time": "2022-01-12T14:09:14.297Z"
   },
   {
    "duration": 18,
    "start_time": "2022-01-12T14:09:14.327Z"
   },
   {
    "duration": 7,
    "start_time": "2022-01-12T14:09:14.347Z"
   },
   {
    "duration": 3,
    "start_time": "2022-01-12T14:09:14.356Z"
   },
   {
    "duration": 7,
    "start_time": "2022-01-12T14:09:14.360Z"
   },
   {
    "duration": 14,
    "start_time": "2022-01-12T14:10:46.509Z"
   },
   {
    "duration": 20,
    "start_time": "2022-01-12T14:12:34.130Z"
   },
   {
    "duration": 12,
    "start_time": "2022-01-12T14:12:47.725Z"
   },
   {
    "duration": 4,
    "start_time": "2022-01-12T14:12:55.849Z"
   },
   {
    "duration": 11,
    "start_time": "2022-01-12T14:12:56.629Z"
   },
   {
    "duration": 12,
    "start_time": "2022-01-12T14:14:03.321Z"
   },
   {
    "duration": 8,
    "start_time": "2022-01-12T14:22:57.728Z"
   },
   {
    "duration": 175,
    "start_time": "2022-01-12T14:23:31.871Z"
   },
   {
    "duration": 23,
    "start_time": "2022-01-12T14:24:11.156Z"
   },
   {
    "duration": 9,
    "start_time": "2022-01-12T14:24:20.036Z"
   },
   {
    "duration": 6,
    "start_time": "2022-01-12T14:24:27.736Z"
   },
   {
    "duration": 7,
    "start_time": "2022-01-12T14:24:33.692Z"
   },
   {
    "duration": 4,
    "start_time": "2022-01-12T14:25:50.820Z"
   },
   {
    "duration": 5,
    "start_time": "2022-01-12T14:27:01.898Z"
   },
   {
    "duration": 5,
    "start_time": "2022-01-12T14:27:07.811Z"
   },
   {
    "duration": 151,
    "start_time": "2022-01-12T14:29:00.695Z"
   },
   {
    "duration": 153,
    "start_time": "2022-01-12T14:29:52.055Z"
   },
   {
    "duration": 4,
    "start_time": "2022-01-12T17:56:54.684Z"
   },
   {
    "duration": 16,
    "start_time": "2022-01-12T17:57:52.638Z"
   },
   {
    "duration": 4,
    "start_time": "2022-01-12T17:58:04.365Z"
   },
   {
    "duration": 233,
    "start_time": "2022-01-12T17:58:04.372Z"
   },
   {
    "duration": 13,
    "start_time": "2022-01-12T17:58:04.607Z"
   },
   {
    "duration": 21,
    "start_time": "2022-01-12T17:58:04.623Z"
   },
   {
    "duration": 11,
    "start_time": "2022-01-12T17:58:04.646Z"
   },
   {
    "duration": 9,
    "start_time": "2022-01-12T17:58:04.659Z"
   },
   {
    "duration": 10,
    "start_time": "2022-01-12T17:58:04.669Z"
   },
   {
    "duration": 21,
    "start_time": "2022-01-12T17:58:04.681Z"
   },
   {
    "duration": 6,
    "start_time": "2022-01-12T17:58:04.704Z"
   },
   {
    "duration": 30,
    "start_time": "2022-01-12T17:58:04.712Z"
   },
   {
    "duration": 9,
    "start_time": "2022-01-12T17:58:04.744Z"
   },
   {
    "duration": 8,
    "start_time": "2022-01-12T17:59:09.965Z"
   },
   {
    "duration": 5,
    "start_time": "2022-01-12T17:59:24.416Z"
   },
   {
    "duration": 7,
    "start_time": "2022-01-12T17:59:44.046Z"
   },
   {
    "duration": 18,
    "start_time": "2022-01-12T18:01:35.642Z"
   },
   {
    "duration": 20,
    "start_time": "2022-01-12T18:02:26.016Z"
   },
   {
    "duration": 18,
    "start_time": "2022-01-12T18:02:38.324Z"
   },
   {
    "duration": 15,
    "start_time": "2022-01-12T18:12:17.481Z"
   },
   {
    "duration": 5,
    "start_time": "2022-01-12T18:14:04.089Z"
   },
   {
    "duration": 4,
    "start_time": "2022-01-12T18:14:20.618Z"
   },
   {
    "duration": 5,
    "start_time": "2022-01-12T18:14:28.693Z"
   },
   {
    "duration": 5,
    "start_time": "2022-01-12T18:14:58.801Z"
   },
   {
    "duration": 5,
    "start_time": "2022-01-12T18:15:12.852Z"
   },
   {
    "duration": 11,
    "start_time": "2022-01-12T18:16:02.168Z"
   },
   {
    "duration": 11,
    "start_time": "2022-01-12T18:16:08.540Z"
   },
   {
    "duration": 4,
    "start_time": "2022-01-12T18:22:34.583Z"
   },
   {
    "duration": 6,
    "start_time": "2022-01-12T18:25:08.109Z"
   },
   {
    "duration": 4,
    "start_time": "2022-01-12T18:25:14.017Z"
   },
   {
    "duration": 874,
    "start_time": "2022-01-12T18:33:40.446Z"
   },
   {
    "duration": 896,
    "start_time": "2022-01-12T18:33:58.845Z"
   },
   {
    "duration": 5,
    "start_time": "2022-01-12T18:36:24.917Z"
   },
   {
    "duration": 1108,
    "start_time": "2022-01-12T18:36:35.400Z"
   },
   {
    "duration": 4,
    "start_time": "2022-01-12T18:36:55.861Z"
   },
   {
    "duration": 848,
    "start_time": "2022-01-12T18:37:25.299Z"
   },
   {
    "duration": 512,
    "start_time": "2022-01-12T18:45:09.479Z"
   },
   {
    "duration": 361,
    "start_time": "2022-01-12T18:45:24.402Z"
   },
   {
    "duration": 340,
    "start_time": "2022-01-12T18:45:33.539Z"
   },
   {
    "duration": 15,
    "start_time": "2022-01-12T18:45:41.958Z"
   },
   {
    "duration": 13,
    "start_time": "2022-01-12T18:46:23.077Z"
   },
   {
    "duration": 382,
    "start_time": "2022-01-12T18:46:24.157Z"
   },
   {
    "duration": 13,
    "start_time": "2022-01-12T18:46:27.379Z"
   },
   {
    "duration": 5,
    "start_time": "2022-01-12T18:46:35.997Z"
   },
   {
    "duration": 13,
    "start_time": "2022-01-12T18:47:15.237Z"
   },
   {
    "duration": 111,
    "start_time": "2022-01-12T18:47:33.452Z"
   },
   {
    "duration": 20,
    "start_time": "2022-01-12T18:47:37.351Z"
   },
   {
    "duration": 26,
    "start_time": "2022-01-12T18:47:57.801Z"
   },
   {
    "duration": 119,
    "start_time": "2022-01-12T18:48:11.599Z"
   },
   {
    "duration": 31,
    "start_time": "2022-01-12T18:48:20.519Z"
   },
   {
    "duration": 14,
    "start_time": "2022-01-12T19:31:04.327Z"
   },
   {
    "duration": 171,
    "start_time": "2022-01-12T19:57:00.725Z"
   },
   {
    "duration": 4,
    "start_time": "2022-01-12T19:57:05.456Z"
   },
   {
    "duration": 10,
    "start_time": "2022-01-12T19:57:07.070Z"
   },
   {
    "duration": 12,
    "start_time": "2022-01-12T19:59:06.111Z"
   },
   {
    "duration": 322,
    "start_time": "2022-01-12T20:00:18.249Z"
   },
   {
    "duration": 1059,
    "start_time": "2022-01-12T20:00:26.587Z"
   },
   {
    "duration": 30,
    "start_time": "2022-01-12T20:00:27.648Z"
   },
   {
    "duration": 15,
    "start_time": "2022-01-12T20:00:27.682Z"
   },
   {
    "duration": 8,
    "start_time": "2022-01-12T20:00:27.698Z"
   },
   {
    "duration": 4,
    "start_time": "2022-01-12T20:00:27.707Z"
   },
   {
    "duration": 21,
    "start_time": "2022-01-12T20:00:27.712Z"
   },
   {
    "duration": 5,
    "start_time": "2022-01-12T20:00:27.735Z"
   },
   {
    "duration": 5,
    "start_time": "2022-01-12T20:00:27.742Z"
   },
   {
    "duration": 16,
    "start_time": "2022-01-12T20:00:27.748Z"
   },
   {
    "duration": 7,
    "start_time": "2022-01-12T20:00:27.766Z"
   },
   {
    "duration": 190,
    "start_time": "2022-01-12T20:00:27.774Z"
   },
   {
    "duration": 4,
    "start_time": "2022-01-12T20:00:27.965Z"
   },
   {
    "duration": 12,
    "start_time": "2022-01-12T20:00:27.970Z"
   },
   {
    "duration": 4,
    "start_time": "2022-01-12T20:00:27.984Z"
   },
   {
    "duration": 5,
    "start_time": "2022-01-12T20:00:27.990Z"
   },
   {
    "duration": 32,
    "start_time": "2022-01-12T20:00:27.996Z"
   },
   {
    "duration": 682,
    "start_time": "2022-01-12T20:00:28.030Z"
   },
   {
    "duration": 29,
    "start_time": "2022-01-12T20:00:28.714Z"
   },
   {
    "duration": 4,
    "start_time": "2022-01-12T20:00:28.745Z"
   },
   {
    "duration": 12,
    "start_time": "2022-01-12T20:00:28.750Z"
   },
   {
    "duration": 15,
    "start_time": "2022-01-12T20:00:28.763Z"
   },
   {
    "duration": 14,
    "start_time": "2022-01-12T20:00:46.879Z"
   },
   {
    "duration": 11,
    "start_time": "2022-01-12T20:01:01.709Z"
   },
   {
    "duration": 11,
    "start_time": "2022-01-12T20:01:11.947Z"
   },
   {
    "duration": 12,
    "start_time": "2022-01-12T20:02:09.567Z"
   },
   {
    "duration": 12,
    "start_time": "2022-01-12T20:02:26.506Z"
   },
   {
    "duration": 19,
    "start_time": "2022-01-12T20:03:25.050Z"
   },
   {
    "duration": 3,
    "start_time": "2022-01-12T20:28:11.810Z"
   },
   {
    "duration": 899,
    "start_time": "2022-01-12T20:41:54.970Z"
   },
   {
    "duration": 409,
    "start_time": "2022-01-12T20:42:06.922Z"
   },
   {
    "duration": 4,
    "start_time": "2022-01-12T20:42:24.432Z"
   },
   {
    "duration": 3,
    "start_time": "2022-01-12T20:43:44.536Z"
   },
   {
    "duration": 3,
    "start_time": "2022-01-12T20:43:49.248Z"
   },
   {
    "duration": 3,
    "start_time": "2022-01-12T20:44:06.164Z"
   },
   {
    "duration": 985,
    "start_time": "2022-01-12T20:44:53.329Z"
   },
   {
    "duration": 1168,
    "start_time": "2022-01-12T20:45:26.580Z"
   },
   {
    "duration": 29,
    "start_time": "2022-01-12T20:45:27.750Z"
   },
   {
    "duration": 14,
    "start_time": "2022-01-12T20:45:27.781Z"
   },
   {
    "duration": 9,
    "start_time": "2022-01-12T20:45:27.796Z"
   },
   {
    "duration": 5,
    "start_time": "2022-01-12T20:45:27.806Z"
   },
   {
    "duration": 12,
    "start_time": "2022-01-12T20:45:27.813Z"
   },
   {
    "duration": 6,
    "start_time": "2022-01-12T20:45:27.826Z"
   },
   {
    "duration": 6,
    "start_time": "2022-01-12T20:45:27.833Z"
   },
   {
    "duration": 18,
    "start_time": "2022-01-12T20:45:27.841Z"
   },
   {
    "duration": 11,
    "start_time": "2022-01-12T20:45:27.860Z"
   },
   {
    "duration": 4,
    "start_time": "2022-01-12T20:45:27.872Z"
   },
   {
    "duration": 5,
    "start_time": "2022-01-12T20:45:27.877Z"
   },
   {
    "duration": 5,
    "start_time": "2022-01-12T20:45:27.883Z"
   },
   {
    "duration": 1024,
    "start_time": "2022-01-12T20:45:27.889Z"
   },
   {
    "duration": 23,
    "start_time": "2022-01-12T20:45:28.914Z"
   },
   {
    "duration": 3,
    "start_time": "2022-01-12T20:45:28.939Z"
   },
   {
    "duration": 21,
    "start_time": "2022-01-12T20:45:28.943Z"
   },
   {
    "duration": 2,
    "start_time": "2022-01-12T20:45:28.965Z"
   },
   {
    "duration": 88,
    "start_time": "2022-01-12T20:45:28.968Z"
   },
   {
    "duration": 2,
    "start_time": "2022-01-12T20:45:29.058Z"
   },
   {
    "duration": 8,
    "start_time": "2022-01-12T20:45:29.062Z"
   },
   {
    "duration": 5,
    "start_time": "2022-01-12T20:45:29.071Z"
   },
   {
    "duration": 2,
    "start_time": "2022-01-12T20:45:49.303Z"
   },
   {
    "duration": 3,
    "start_time": "2022-01-12T20:45:54.304Z"
   },
   {
    "duration": 1100,
    "start_time": "2022-01-12T20:48:32.639Z"
   },
   {
    "duration": 30,
    "start_time": "2022-01-12T20:48:33.740Z"
   },
   {
    "duration": 15,
    "start_time": "2022-01-12T20:48:33.773Z"
   },
   {
    "duration": 8,
    "start_time": "2022-01-12T20:48:33.789Z"
   },
   {
    "duration": 3,
    "start_time": "2022-01-12T20:48:33.798Z"
   },
   {
    "duration": 5,
    "start_time": "2022-01-12T20:48:33.803Z"
   },
   {
    "duration": 17,
    "start_time": "2022-01-12T20:48:33.810Z"
   },
   {
    "duration": 10,
    "start_time": "2022-01-12T20:48:33.829Z"
   },
   {
    "duration": 3,
    "start_time": "2022-01-12T20:48:33.840Z"
   },
   {
    "duration": 5,
    "start_time": "2022-01-12T20:48:33.845Z"
   },
   {
    "duration": 4,
    "start_time": "2022-01-12T20:48:33.852Z"
   },
   {
    "duration": 1025,
    "start_time": "2022-01-12T20:48:33.858Z"
   },
   {
    "duration": 21,
    "start_time": "2022-01-12T20:48:34.885Z"
   },
   {
    "duration": 20,
    "start_time": "2022-01-12T20:48:34.908Z"
   },
   {
    "duration": 17,
    "start_time": "2022-01-12T20:48:34.930Z"
   },
   {
    "duration": 79,
    "start_time": "2022-01-12T20:48:34.948Z"
   },
   {
    "duration": 20,
    "start_time": "2022-01-12T20:48:35.029Z"
   },
   {
    "duration": 8,
    "start_time": "2022-01-12T20:48:35.051Z"
   },
   {
    "duration": 2,
    "start_time": "2022-01-12T20:48:35.060Z"
   },
   {
    "duration": 393,
    "start_time": "2022-01-12T20:48:35.064Z"
   },
   {
    "duration": 98,
    "start_time": "2022-01-12T20:48:35.361Z"
   },
   {
    "duration": 7,
    "start_time": "2022-01-12T20:49:14.782Z"
   },
   {
    "duration": 356,
    "start_time": "2022-01-12T20:49:24.303Z"
   },
   {
    "duration": 4,
    "start_time": "2022-01-12T20:49:38.975Z"
   },
   {
    "duration": 115,
    "start_time": "2022-01-12T20:49:54.395Z"
   },
   {
    "duration": 336,
    "start_time": "2022-01-12T20:49:59.367Z"
   },
   {
    "duration": 19,
    "start_time": "2022-01-12T20:50:06.500Z"
   },
   {
    "duration": 16,
    "start_time": "2022-01-12T20:50:44.877Z"
   },
   {
    "duration": 12,
    "start_time": "2022-01-12T20:50:51.858Z"
   },
   {
    "duration": 22,
    "start_time": "2022-01-12T20:51:53.018Z"
   },
   {
    "duration": 3,
    "start_time": "2022-01-12T20:52:29.598Z"
   },
   {
    "duration": 30,
    "start_time": "2022-01-12T20:52:29.603Z"
   },
   {
    "duration": 12,
    "start_time": "2022-01-12T20:52:29.635Z"
   },
   {
    "duration": 8,
    "start_time": "2022-01-12T20:52:29.648Z"
   },
   {
    "duration": 2,
    "start_time": "2022-01-12T20:52:29.658Z"
   },
   {
    "duration": 9,
    "start_time": "2022-01-12T20:52:29.662Z"
   },
   {
    "duration": 11,
    "start_time": "2022-01-12T20:52:29.672Z"
   },
   {
    "duration": 14,
    "start_time": "2022-01-12T20:52:29.685Z"
   },
   {
    "duration": 4,
    "start_time": "2022-01-12T20:52:29.701Z"
   },
   {
    "duration": 22,
    "start_time": "2022-01-12T20:52:29.706Z"
   },
   {
    "duration": 3,
    "start_time": "2022-01-12T20:52:29.729Z"
   },
   {
    "duration": 1010,
    "start_time": "2022-01-12T20:52:29.734Z"
   },
   {
    "duration": 19,
    "start_time": "2022-01-12T20:52:30.745Z"
   },
   {
    "duration": 4,
    "start_time": "2022-01-12T20:52:30.766Z"
   },
   {
    "duration": 14,
    "start_time": "2022-01-12T20:52:30.772Z"
   },
   {
    "duration": 2,
    "start_time": "2022-01-12T20:52:30.788Z"
   },
   {
    "duration": 221,
    "start_time": "2022-01-12T20:52:30.791Z"
   },
   {
    "duration": 50,
    "start_time": "2022-01-12T20:52:31.014Z"
   },
   {
    "duration": 3,
    "start_time": "2022-01-12T20:52:31.065Z"
   },
   {
    "duration": 28,
    "start_time": "2022-01-12T20:52:49.973Z"
   },
   {
    "duration": 3,
    "start_time": "2022-01-12T20:53:31.171Z"
   },
   {
    "duration": 30,
    "start_time": "2022-01-12T20:53:31.176Z"
   },
   {
    "duration": 12,
    "start_time": "2022-01-12T20:53:31.208Z"
   },
   {
    "duration": 9,
    "start_time": "2022-01-12T20:53:31.222Z"
   },
   {
    "duration": 4,
    "start_time": "2022-01-12T20:53:31.233Z"
   },
   {
    "duration": 12,
    "start_time": "2022-01-12T20:53:31.239Z"
   },
   {
    "duration": 12,
    "start_time": "2022-01-12T20:53:31.252Z"
   },
   {
    "duration": 16,
    "start_time": "2022-01-12T20:53:31.266Z"
   },
   {
    "duration": 6,
    "start_time": "2022-01-12T20:53:31.284Z"
   },
   {
    "duration": 5,
    "start_time": "2022-01-12T20:53:31.291Z"
   },
   {
    "duration": 9,
    "start_time": "2022-01-12T20:53:31.297Z"
   },
   {
    "duration": 1093,
    "start_time": "2022-01-12T20:53:31.307Z"
   },
   {
    "duration": 30,
    "start_time": "2022-01-12T20:53:32.402Z"
   },
   {
    "duration": 3,
    "start_time": "2022-01-12T20:53:32.434Z"
   },
   {
    "duration": 15,
    "start_time": "2022-01-12T20:53:32.439Z"
   },
   {
    "duration": 4,
    "start_time": "2022-01-12T20:53:32.455Z"
   },
   {
    "duration": 22,
    "start_time": "2022-01-12T20:53:32.460Z"
   },
   {
    "duration": 21,
    "start_time": "2022-01-12T20:53:32.483Z"
   },
   {
    "duration": 2,
    "start_time": "2022-01-12T20:53:32.527Z"
   },
   {
    "duration": 4,
    "start_time": "2022-01-12T20:55:07.756Z"
   },
   {
    "duration": 32,
    "start_time": "2022-01-12T20:55:07.761Z"
   },
   {
    "duration": 11,
    "start_time": "2022-01-12T20:55:07.795Z"
   },
   {
    "duration": 9,
    "start_time": "2022-01-12T20:55:07.807Z"
   },
   {
    "duration": 2,
    "start_time": "2022-01-12T20:55:07.818Z"
   },
   {
    "duration": 8,
    "start_time": "2022-01-12T20:55:07.822Z"
   },
   {
    "duration": 5,
    "start_time": "2022-01-12T20:55:07.832Z"
   },
   {
    "duration": 11,
    "start_time": "2022-01-12T20:55:07.839Z"
   },
   {
    "duration": 4,
    "start_time": "2022-01-12T20:55:07.852Z"
   },
   {
    "duration": 4,
    "start_time": "2022-01-12T20:55:07.858Z"
   },
   {
    "duration": 4,
    "start_time": "2022-01-12T20:55:07.864Z"
   },
   {
    "duration": 1048,
    "start_time": "2022-01-12T20:55:07.870Z"
   },
   {
    "duration": 24,
    "start_time": "2022-01-12T20:55:08.920Z"
   },
   {
    "duration": 5,
    "start_time": "2022-01-12T20:55:08.945Z"
   },
   {
    "duration": 16,
    "start_time": "2022-01-12T20:55:08.952Z"
   },
   {
    "duration": 2,
    "start_time": "2022-01-12T20:55:08.969Z"
   },
   {
    "duration": 8155,
    "start_time": "2022-01-12T20:55:08.973Z"
   },
   {
    "duration": 37,
    "start_time": "2022-01-12T20:55:17.093Z"
   },
   {
    "duration": 33,
    "start_time": "2022-01-12T20:55:17.098Z"
   },
   {
    "duration": 7932,
    "start_time": "2022-01-12T20:55:41.631Z"
   },
   {
    "duration": 3,
    "start_time": "2022-01-12T21:30:31.042Z"
   },
   {
    "duration": 50,
    "start_time": "2022-01-12T21:30:31.048Z"
   },
   {
    "duration": 17,
    "start_time": "2022-01-12T21:30:31.100Z"
   },
   {
    "duration": 16,
    "start_time": "2022-01-12T21:30:31.119Z"
   },
   {
    "duration": 9,
    "start_time": "2022-01-12T21:30:31.136Z"
   },
   {
    "duration": 22,
    "start_time": "2022-01-12T21:30:31.146Z"
   },
   {
    "duration": 7,
    "start_time": "2022-01-12T21:30:31.170Z"
   },
   {
    "duration": 24,
    "start_time": "2022-01-12T21:30:31.180Z"
   },
   {
    "duration": 10,
    "start_time": "2022-01-12T21:30:31.205Z"
   },
   {
    "duration": 14,
    "start_time": "2022-01-12T21:30:31.216Z"
   },
   {
    "duration": 10,
    "start_time": "2022-01-12T21:30:31.232Z"
   },
   {
    "duration": 1095,
    "start_time": "2022-01-12T21:30:31.243Z"
   },
   {
    "duration": 20,
    "start_time": "2022-01-12T21:30:32.339Z"
   },
   {
    "duration": 3,
    "start_time": "2022-01-12T21:30:32.361Z"
   },
   {
    "duration": 29,
    "start_time": "2022-01-12T21:30:32.366Z"
   },
   {
    "duration": 2,
    "start_time": "2022-01-12T21:30:32.396Z"
   },
   {
    "duration": 10061,
    "start_time": "2022-01-12T21:30:32.399Z"
   },
   {
    "duration": 59,
    "start_time": "2022-01-12T21:30:42.403Z"
   },
   {
    "duration": 54,
    "start_time": "2022-01-12T21:30:42.409Z"
   },
   {
    "duration": 8232,
    "start_time": "2022-01-12T21:30:58.279Z"
   },
   {
    "duration": 21,
    "start_time": "2022-01-12T21:32:18.749Z"
   },
   {
    "duration": 21,
    "start_time": "2022-01-12T21:32:28.141Z"
   },
   {
    "duration": 17,
    "start_time": "2022-01-12T21:32:43.593Z"
   },
   {
    "duration": 3,
    "start_time": "2022-01-12T21:32:57.632Z"
   },
   {
    "duration": 35,
    "start_time": "2022-01-12T21:32:57.636Z"
   },
   {
    "duration": 13,
    "start_time": "2022-01-12T21:32:57.673Z"
   },
   {
    "duration": 16,
    "start_time": "2022-01-12T21:32:57.689Z"
   },
   {
    "duration": 11,
    "start_time": "2022-01-12T21:32:57.707Z"
   },
   {
    "duration": 17,
    "start_time": "2022-01-12T21:32:57.719Z"
   },
   {
    "duration": 8,
    "start_time": "2022-01-12T21:32:57.738Z"
   },
   {
    "duration": 15,
    "start_time": "2022-01-12T21:32:57.748Z"
   },
   {
    "duration": 4,
    "start_time": "2022-01-12T21:32:57.764Z"
   },
   {
    "duration": 8,
    "start_time": "2022-01-12T21:32:57.770Z"
   },
   {
    "duration": 6,
    "start_time": "2022-01-12T21:32:57.780Z"
   },
   {
    "duration": 1045,
    "start_time": "2022-01-12T21:32:57.788Z"
   },
   {
    "duration": 21,
    "start_time": "2022-01-12T21:32:58.835Z"
   },
   {
    "duration": 5,
    "start_time": "2022-01-12T21:32:58.858Z"
   },
   {
    "duration": 21,
    "start_time": "2022-01-12T21:32:58.865Z"
   },
   {
    "duration": 4,
    "start_time": "2022-01-12T21:32:58.887Z"
   },
   {
    "duration": 46,
    "start_time": "2022-01-12T21:32:58.892Z"
   },
   {
    "duration": 23,
    "start_time": "2022-01-12T21:32:58.939Z"
   },
   {
    "duration": 3,
    "start_time": "2022-01-12T21:32:58.964Z"
   },
   {
    "duration": 3,
    "start_time": "2022-01-12T21:36:32.375Z"
   },
   {
    "duration": 37,
    "start_time": "2022-01-12T21:36:32.380Z"
   },
   {
    "duration": 13,
    "start_time": "2022-01-12T21:36:32.419Z"
   },
   {
    "duration": 12,
    "start_time": "2022-01-12T21:36:32.434Z"
   },
   {
    "duration": 5,
    "start_time": "2022-01-12T21:36:32.447Z"
   },
   {
    "duration": 10,
    "start_time": "2022-01-12T21:36:32.454Z"
   },
   {
    "duration": 8,
    "start_time": "2022-01-12T21:36:32.465Z"
   },
   {
    "duration": 18,
    "start_time": "2022-01-12T21:36:32.474Z"
   },
   {
    "duration": 4,
    "start_time": "2022-01-12T21:36:32.494Z"
   },
   {
    "duration": 11,
    "start_time": "2022-01-12T21:36:32.499Z"
   },
   {
    "duration": 7,
    "start_time": "2022-01-12T21:36:32.512Z"
   },
   {
    "duration": 1075,
    "start_time": "2022-01-12T21:36:32.520Z"
   },
   {
    "duration": 21,
    "start_time": "2022-01-12T21:36:33.596Z"
   },
   {
    "duration": 4,
    "start_time": "2022-01-12T21:36:33.627Z"
   },
   {
    "duration": 23,
    "start_time": "2022-01-12T21:36:33.633Z"
   },
   {
    "duration": 4,
    "start_time": "2022-01-12T21:36:33.657Z"
   },
   {
    "duration": 21,
    "start_time": "2022-01-12T21:36:33.663Z"
   },
   {
    "duration": 22,
    "start_time": "2022-01-12T21:36:33.686Z"
   },
   {
    "duration": 19,
    "start_time": "2022-01-12T21:36:33.709Z"
   },
   {
    "duration": 1492,
    "start_time": "2022-01-13T09:04:06.771Z"
   },
   {
    "duration": 35,
    "start_time": "2022-01-13T09:04:08.266Z"
   },
   {
    "duration": 29,
    "start_time": "2022-01-13T09:04:08.304Z"
   },
   {
    "duration": 11,
    "start_time": "2022-01-13T09:04:08.336Z"
   },
   {
    "duration": 4,
    "start_time": "2022-01-13T09:04:08.349Z"
   },
   {
    "duration": 11,
    "start_time": "2022-01-13T09:04:08.355Z"
   },
   {
    "duration": 8,
    "start_time": "2022-01-13T09:04:08.368Z"
   },
   {
    "duration": 52,
    "start_time": "2022-01-13T09:04:08.378Z"
   },
   {
    "duration": 7,
    "start_time": "2022-01-13T09:04:08.434Z"
   },
   {
    "duration": 7,
    "start_time": "2022-01-13T09:04:08.443Z"
   },
   {
    "duration": 9,
    "start_time": "2022-01-13T09:04:08.452Z"
   },
   {
    "duration": 1922,
    "start_time": "2022-01-13T09:04:08.464Z"
   },
   {
    "duration": 50,
    "start_time": "2022-01-13T09:04:10.388Z"
   },
   {
    "duration": 7,
    "start_time": "2022-01-13T09:04:10.440Z"
   },
   {
    "duration": 30,
    "start_time": "2022-01-13T09:04:10.449Z"
   },
   {
    "duration": 3,
    "start_time": "2022-01-13T09:04:10.483Z"
   },
   {
    "duration": 145,
    "start_time": "2022-01-13T09:04:10.488Z"
   },
   {
    "duration": 38,
    "start_time": "2022-01-13T09:04:10.635Z"
   },
   {
    "duration": 7,
    "start_time": "2022-01-13T09:23:35.357Z"
   },
   {
    "duration": 6,
    "start_time": "2022-01-13T09:23:41.059Z"
   },
   {
    "duration": 11,
    "start_time": "2022-01-13T09:25:51.987Z"
   },
   {
    "duration": 17,
    "start_time": "2022-01-13T09:26:19.024Z"
   },
   {
    "duration": 1456,
    "start_time": "2022-01-13T09:32:17.832Z"
   },
   {
    "duration": 40,
    "start_time": "2022-01-13T09:32:19.290Z"
   },
   {
    "duration": 24,
    "start_time": "2022-01-13T09:32:19.333Z"
   },
   {
    "duration": 13,
    "start_time": "2022-01-13T09:32:19.360Z"
   },
   {
    "duration": 4,
    "start_time": "2022-01-13T09:32:19.375Z"
   },
   {
    "duration": 42,
    "start_time": "2022-01-13T09:32:19.381Z"
   },
   {
    "duration": 7,
    "start_time": "2022-01-13T09:32:19.427Z"
   },
   {
    "duration": 19,
    "start_time": "2022-01-13T09:32:19.438Z"
   },
   {
    "duration": 6,
    "start_time": "2022-01-13T09:32:19.459Z"
   },
   {
    "duration": 7,
    "start_time": "2022-01-13T09:32:19.467Z"
   },
   {
    "duration": 48,
    "start_time": "2022-01-13T09:32:19.476Z"
   },
   {
    "duration": 1967,
    "start_time": "2022-01-13T09:32:19.528Z"
   },
   {
    "duration": 48,
    "start_time": "2022-01-13T09:32:21.497Z"
   },
   {
    "duration": 5,
    "start_time": "2022-01-13T09:32:21.548Z"
   },
   {
    "duration": 27,
    "start_time": "2022-01-13T09:32:21.556Z"
   },
   {
    "duration": 145,
    "start_time": "2022-01-13T09:32:21.585Z"
   },
   {
    "duration": 37,
    "start_time": "2022-01-13T09:32:21.733Z"
   },
   {
    "duration": 6,
    "start_time": "2022-01-13T09:32:21.772Z"
   },
   {
    "duration": 47,
    "start_time": "2022-01-13T09:32:21.781Z"
   },
   {
    "duration": 7,
    "start_time": "2022-01-13T09:34:47.744Z"
   },
   {
    "duration": 8,
    "start_time": "2022-01-13T09:34:55.454Z"
   },
   {
    "duration": 421,
    "start_time": "2022-01-13T10:00:41.278Z"
   },
   {
    "duration": 277,
    "start_time": "2022-01-13T10:01:00.854Z"
   },
   {
    "duration": 288,
    "start_time": "2022-01-13T10:01:08.596Z"
   },
   {
    "duration": 265,
    "start_time": "2022-01-13T10:01:13.612Z"
   },
   {
    "duration": 11,
    "start_time": "2022-01-13T10:02:18.778Z"
   },
   {
    "duration": 8,
    "start_time": "2022-01-13T10:02:23.865Z"
   },
   {
    "duration": 1782,
    "start_time": "2022-01-13T10:02:31.659Z"
   },
   {
    "duration": 97,
    "start_time": "2022-01-13T10:02:33.443Z"
   },
   {
    "duration": 24,
    "start_time": "2022-01-13T10:02:33.543Z"
   },
   {
    "duration": 12,
    "start_time": "2022-01-13T10:02:33.570Z"
   },
   {
    "duration": 5,
    "start_time": "2022-01-13T10:02:33.584Z"
   },
   {
    "duration": 34,
    "start_time": "2022-01-13T10:02:33.592Z"
   },
   {
    "duration": 7,
    "start_time": "2022-01-13T10:02:33.629Z"
   },
   {
    "duration": 19,
    "start_time": "2022-01-13T10:02:33.642Z"
   },
   {
    "duration": 54,
    "start_time": "2022-01-13T10:02:33.665Z"
   },
   {
    "duration": 8,
    "start_time": "2022-01-13T10:02:33.724Z"
   },
   {
    "duration": 9,
    "start_time": "2022-01-13T10:02:33.735Z"
   },
   {
    "duration": 1958,
    "start_time": "2022-01-13T10:02:33.746Z"
   },
   {
    "duration": 51,
    "start_time": "2022-01-13T10:02:35.707Z"
   },
   {
    "duration": 9,
    "start_time": "2022-01-13T10:02:35.761Z"
   },
   {
    "duration": 75,
    "start_time": "2022-01-13T10:02:35.773Z"
   },
   {
    "duration": 119,
    "start_time": "2022-01-13T10:02:35.851Z"
   },
   {
    "duration": 54,
    "start_time": "2022-01-13T10:02:35.973Z"
   },
   {
    "duration": 45,
    "start_time": "2022-01-13T10:02:36.030Z"
   },
   {
    "duration": 6,
    "start_time": "2022-01-13T10:02:36.078Z"
   },
   {
    "duration": 55,
    "start_time": "2022-01-13T10:02:36.087Z"
   },
   {
    "duration": 10,
    "start_time": "2022-01-13T10:02:36.145Z"
   },
   {
    "duration": 70,
    "start_time": "2022-01-13T10:02:36.157Z"
   },
   {
    "duration": 273,
    "start_time": "2022-01-13T10:03:35.346Z"
   },
   {
    "duration": 446,
    "start_time": "2022-01-13T10:04:05.537Z"
   },
   {
    "duration": 5,
    "start_time": "2022-01-13T10:04:44.411Z"
   },
   {
    "duration": 10,
    "start_time": "2022-01-13T10:04:56.765Z"
   },
   {
    "duration": 230,
    "start_time": "2022-01-13T10:05:50.315Z"
   },
   {
    "duration": 9,
    "start_time": "2022-01-13T10:06:07.336Z"
   },
   {
    "duration": 227,
    "start_time": "2022-01-13T10:07:36.210Z"
   },
   {
    "duration": 264,
    "start_time": "2022-01-13T10:07:40.745Z"
   },
   {
    "duration": 253,
    "start_time": "2022-01-13T10:15:03.489Z"
   },
   {
    "duration": 10,
    "start_time": "2022-01-13T10:15:29.934Z"
   },
   {
    "duration": 283,
    "start_time": "2022-01-13T10:16:29.258Z"
   },
   {
    "duration": 533,
    "start_time": "2022-01-13T10:23:15.864Z"
   },
   {
    "duration": 5,
    "start_time": "2022-01-13T10:23:22.446Z"
   },
   {
    "duration": 289,
    "start_time": "2022-01-13T10:23:26.163Z"
   },
   {
    "duration": 287,
    "start_time": "2022-01-13T10:23:58.335Z"
   },
   {
    "duration": 279,
    "start_time": "2022-01-13T10:24:10.008Z"
   },
   {
    "duration": 296,
    "start_time": "2022-01-13T10:24:18.640Z"
   },
   {
    "duration": 279,
    "start_time": "2022-01-13T10:25:40.550Z"
   },
   {
    "duration": 36,
    "start_time": "2022-01-13T10:25:48.725Z"
   },
   {
    "duration": 11,
    "start_time": "2022-01-13T10:26:13.247Z"
   },
   {
    "duration": 283,
    "start_time": "2022-01-13T13:06:03.531Z"
   },
   {
    "duration": 383,
    "start_time": "2022-01-13T13:06:15.642Z"
   },
   {
    "duration": 524,
    "start_time": "2022-01-13T13:06:48.268Z"
   },
   {
    "duration": 324,
    "start_time": "2022-01-13T13:07:35.910Z"
   },
   {
    "duration": 1610,
    "start_time": "2022-01-13T13:37:37.447Z"
   },
   {
    "duration": 34,
    "start_time": "2022-01-13T13:37:39.060Z"
   },
   {
    "duration": 29,
    "start_time": "2022-01-13T13:37:39.097Z"
   },
   {
    "duration": 18,
    "start_time": "2022-01-13T13:37:39.129Z"
   },
   {
    "duration": 4,
    "start_time": "2022-01-13T13:37:39.149Z"
   },
   {
    "duration": 7,
    "start_time": "2022-01-13T13:37:39.156Z"
   },
   {
    "duration": 7,
    "start_time": "2022-01-13T13:37:39.165Z"
   },
   {
    "duration": 52,
    "start_time": "2022-01-13T13:37:39.174Z"
   },
   {
    "duration": 6,
    "start_time": "2022-01-13T13:37:39.230Z"
   },
   {
    "duration": 6,
    "start_time": "2022-01-13T13:37:39.239Z"
   },
   {
    "duration": 6,
    "start_time": "2022-01-13T13:37:39.247Z"
   },
   {
    "duration": 1889,
    "start_time": "2022-01-13T13:37:39.255Z"
   },
   {
    "duration": 33,
    "start_time": "2022-01-13T13:37:41.147Z"
   },
   {
    "duration": 6,
    "start_time": "2022-01-13T13:37:41.182Z"
   },
   {
    "duration": 27,
    "start_time": "2022-01-13T13:37:41.217Z"
   },
   {
    "duration": 97,
    "start_time": "2022-01-13T13:37:41.246Z"
   },
   {
    "duration": 34,
    "start_time": "2022-01-13T13:37:41.346Z"
   },
   {
    "duration": 60,
    "start_time": "2022-01-13T13:37:41.383Z"
   },
   {
    "duration": 8,
    "start_time": "2022-01-13T13:37:41.445Z"
   },
   {
    "duration": 15,
    "start_time": "2022-01-13T13:37:41.456Z"
   },
   {
    "duration": 265,
    "start_time": "2022-01-13T13:37:41.473Z"
   },
   {
    "duration": 3,
    "start_time": "2022-01-13T13:37:41.740Z"
   },
   {
    "duration": 281,
    "start_time": "2022-01-13T13:37:41.745Z"
   },
   {
    "duration": 414,
    "start_time": "2022-01-13T13:37:42.028Z"
   },
   {
    "duration": 333,
    "start_time": "2022-01-13T13:37:42.444Z"
   },
   {
    "duration": 9,
    "start_time": "2022-01-13T13:37:42.779Z"
   },
   {
    "duration": 11,
    "start_time": "2022-01-13T13:38:15.462Z"
   },
   {
    "duration": 6,
    "start_time": "2022-01-13T13:38:44.113Z"
   },
   {
    "duration": 10,
    "start_time": "2022-01-13T13:39:25.648Z"
   },
   {
    "duration": 1470,
    "start_time": "2022-01-13T13:53:25.182Z"
   },
   {
    "duration": 35,
    "start_time": "2022-01-13T13:53:26.654Z"
   },
   {
    "duration": 28,
    "start_time": "2022-01-13T13:53:26.692Z"
   },
   {
    "duration": 12,
    "start_time": "2022-01-13T13:53:26.723Z"
   },
   {
    "duration": 5,
    "start_time": "2022-01-13T13:53:26.737Z"
   },
   {
    "duration": 12,
    "start_time": "2022-01-13T13:53:26.744Z"
   },
   {
    "duration": 7,
    "start_time": "2022-01-13T13:53:26.759Z"
   },
   {
    "duration": 58,
    "start_time": "2022-01-13T13:53:26.769Z"
   },
   {
    "duration": 6,
    "start_time": "2022-01-13T13:53:26.831Z"
   },
   {
    "duration": 6,
    "start_time": "2022-01-13T13:53:26.840Z"
   },
   {
    "duration": 7,
    "start_time": "2022-01-13T13:53:26.849Z"
   },
   {
    "duration": 1964,
    "start_time": "2022-01-13T13:53:26.858Z"
   },
   {
    "duration": 35,
    "start_time": "2022-01-13T13:53:28.826Z"
   },
   {
    "duration": 9,
    "start_time": "2022-01-13T13:53:28.864Z"
   },
   {
    "duration": 57,
    "start_time": "2022-01-13T13:53:28.876Z"
   },
   {
    "duration": 107,
    "start_time": "2022-01-13T13:53:28.936Z"
   },
   {
    "duration": 35,
    "start_time": "2022-01-13T13:53:29.046Z"
   },
   {
    "duration": 61,
    "start_time": "2022-01-13T13:53:29.084Z"
   },
   {
    "duration": 6,
    "start_time": "2022-01-13T13:53:29.148Z"
   },
   {
    "duration": 16,
    "start_time": "2022-01-13T13:53:29.157Z"
   },
   {
    "duration": 272,
    "start_time": "2022-01-13T13:53:29.175Z"
   },
   {
    "duration": 3,
    "start_time": "2022-01-13T13:53:29.450Z"
   },
   {
    "duration": 767,
    "start_time": "2022-01-13T13:53:29.455Z"
   },
   {
    "duration": 62,
    "start_time": "2022-01-13T13:53:30.163Z"
   },
   {
    "duration": 61,
    "start_time": "2022-01-13T13:53:30.166Z"
   },
   {
    "duration": 43,
    "start_time": "2022-01-13T13:53:30.186Z"
   },
   {
    "duration": 40,
    "start_time": "2022-01-13T13:53:30.191Z"
   },
   {
    "duration": 1422,
    "start_time": "2022-01-13T13:54:16.826Z"
   },
   {
    "duration": 35,
    "start_time": "2022-01-13T13:54:18.251Z"
   },
   {
    "duration": 31,
    "start_time": "2022-01-13T13:54:18.289Z"
   },
   {
    "duration": 16,
    "start_time": "2022-01-13T13:54:18.322Z"
   },
   {
    "duration": 4,
    "start_time": "2022-01-13T13:54:18.341Z"
   },
   {
    "duration": 12,
    "start_time": "2022-01-13T13:54:18.347Z"
   },
   {
    "duration": 11,
    "start_time": "2022-01-13T13:54:18.361Z"
   },
   {
    "duration": 49,
    "start_time": "2022-01-13T13:54:18.374Z"
   },
   {
    "duration": 5,
    "start_time": "2022-01-13T13:54:18.428Z"
   },
   {
    "duration": 8,
    "start_time": "2022-01-13T13:54:18.436Z"
   },
   {
    "duration": 13,
    "start_time": "2022-01-13T13:54:18.446Z"
   },
   {
    "duration": 1833,
    "start_time": "2022-01-13T13:54:18.461Z"
   },
   {
    "duration": 42,
    "start_time": "2022-01-13T13:54:20.297Z"
   },
   {
    "duration": 7,
    "start_time": "2022-01-13T13:54:20.341Z"
   },
   {
    "duration": 30,
    "start_time": "2022-01-13T13:54:20.351Z"
   },
   {
    "duration": 104,
    "start_time": "2022-01-13T13:54:20.383Z"
   },
   {
    "duration": 53,
    "start_time": "2022-01-13T13:54:20.489Z"
   },
   {
    "duration": 36,
    "start_time": "2022-01-13T13:54:20.544Z"
   },
   {
    "duration": 7,
    "start_time": "2022-01-13T13:54:20.582Z"
   },
   {
    "duration": 37,
    "start_time": "2022-01-13T13:54:20.591Z"
   },
   {
    "duration": 237,
    "start_time": "2022-01-13T13:54:20.630Z"
   },
   {
    "duration": 4,
    "start_time": "2022-01-13T13:54:20.869Z"
   },
   {
    "duration": 729,
    "start_time": "2022-01-13T13:54:20.875Z"
   },
   {
    "duration": 44,
    "start_time": "2022-01-13T13:54:21.563Z"
   },
   {
    "duration": 32,
    "start_time": "2022-01-13T13:54:21.576Z"
   },
   {
    "duration": 19,
    "start_time": "2022-01-13T13:54:21.591Z"
   },
   {
    "duration": 16,
    "start_time": "2022-01-13T13:54:21.596Z"
   },
   {
    "duration": 265,
    "start_time": "2022-01-13T13:54:54.909Z"
   },
   {
    "duration": 401,
    "start_time": "2022-01-13T13:55:11.226Z"
   },
   {
    "duration": 313,
    "start_time": "2022-01-13T13:55:20.722Z"
   },
   {
    "duration": 329,
    "start_time": "2022-01-13T13:55:31.389Z"
   },
   {
    "duration": 17,
    "start_time": "2022-01-13T13:55:36.835Z"
   },
   {
    "duration": 14,
    "start_time": "2022-01-13T13:55:42.778Z"
   },
   {
    "duration": 16,
    "start_time": "2022-01-13T13:56:00.511Z"
   },
   {
    "duration": 28,
    "start_time": "2022-01-13T13:59:10.116Z"
   },
   {
    "duration": 65,
    "start_time": "2022-01-13T14:16:50.353Z"
   },
   {
    "duration": 446,
    "start_time": "2022-01-13T14:26:51.382Z"
   },
   {
    "duration": 5,
    "start_time": "2022-01-13T14:27:38.947Z"
   },
   {
    "duration": 155,
    "start_time": "2022-01-13T14:27:42.062Z"
   },
   {
    "duration": 109,
    "start_time": "2022-01-13T14:28:38.610Z"
   },
   {
    "duration": 153,
    "start_time": "2022-01-13T14:28:48.087Z"
   },
   {
    "duration": 65,
    "start_time": "2022-01-13T14:28:52.286Z"
   },
   {
    "duration": 85,
    "start_time": "2022-01-13T14:28:57.570Z"
   },
   {
    "duration": 47,
    "start_time": "2022-01-13T14:29:40.996Z"
   },
   {
    "duration": 98,
    "start_time": "2022-01-13T14:29:46.021Z"
   },
   {
    "duration": 34,
    "start_time": "2022-01-13T14:29:51.715Z"
   },
   {
    "duration": 34,
    "start_time": "2022-01-13T14:29:57.707Z"
   },
   {
    "duration": 252,
    "start_time": "2022-01-13T14:31:09.688Z"
   },
   {
    "duration": 256,
    "start_time": "2022-01-13T14:31:26.645Z"
   },
   {
    "duration": 284,
    "start_time": "2022-01-13T14:32:43.659Z"
   },
   {
    "duration": 1708,
    "start_time": "2022-01-13T14:33:25.809Z"
   },
   {
    "duration": 1861,
    "start_time": "2022-01-13T14:33:40.056Z"
   },
   {
    "duration": 2816,
    "start_time": "2022-01-13T14:34:27.103Z"
   },
   {
    "duration": 2906,
    "start_time": "2022-01-13T14:34:50.715Z"
   },
   {
    "duration": 1713,
    "start_time": "2022-01-13T14:35:11.405Z"
   },
   {
    "duration": 1910,
    "start_time": "2022-01-13T14:35:17.507Z"
   },
   {
    "duration": 1869,
    "start_time": "2022-01-13T14:35:36.149Z"
   },
   {
    "duration": 1694,
    "start_time": "2022-01-13T14:35:51.028Z"
   },
   {
    "duration": 5,
    "start_time": "2022-01-13T14:36:55.162Z"
   },
   {
    "duration": 78,
    "start_time": "2022-01-13T14:39:26.822Z"
   },
   {
    "duration": 354,
    "start_time": "2022-01-13T14:39:36.140Z"
   },
   {
    "duration": 8,
    "start_time": "2022-01-13T14:39:55.002Z"
   },
   {
    "duration": 270,
    "start_time": "2022-01-13T14:40:02.578Z"
   },
   {
    "duration": 278,
    "start_time": "2022-01-13T14:40:21.665Z"
   },
   {
    "duration": 1631,
    "start_time": "2022-01-13T14:40:59.911Z"
   },
   {
    "duration": 1627,
    "start_time": "2022-01-13T14:41:20.917Z"
   },
   {
    "duration": 284,
    "start_time": "2022-01-13T14:41:29.275Z"
   },
   {
    "duration": 1437,
    "start_time": "2022-01-13T14:41:41.888Z"
   },
   {
    "duration": 1404,
    "start_time": "2022-01-13T14:41:48.333Z"
   },
   {
    "duration": 1734,
    "start_time": "2022-01-13T14:41:55.584Z"
   },
   {
    "duration": 1458,
    "start_time": "2022-01-13T14:42:05.063Z"
   },
   {
    "duration": 417,
    "start_time": "2022-01-13T14:43:13.296Z"
   },
   {
    "duration": 371,
    "start_time": "2022-01-13T14:43:35.624Z"
   },
   {
    "duration": 332,
    "start_time": "2022-01-13T14:43:48.576Z"
   },
   {
    "duration": 1450,
    "start_time": "2022-01-13T14:44:03.592Z"
   },
   {
    "duration": 1715,
    "start_time": "2022-01-13T14:44:11.707Z"
   },
   {
    "duration": 266,
    "start_time": "2022-01-13T14:44:25.451Z"
   },
   {
    "duration": 1909,
    "start_time": "2022-01-13T14:45:23.610Z"
   },
   {
    "duration": 1953,
    "start_time": "2022-01-13T14:45:33.466Z"
   },
   {
    "duration": 266,
    "start_time": "2022-01-13T14:46:08.061Z"
   },
   {
    "duration": 85,
    "start_time": "2022-01-13T14:50:26.245Z"
   },
   {
    "duration": 362,
    "start_time": "2022-01-13T14:50:55.229Z"
   },
   {
    "duration": 481,
    "start_time": "2022-01-13T14:51:15.601Z"
   },
   {
    "duration": 106,
    "start_time": "2022-01-13T14:51:22.524Z"
   },
   {
    "duration": 29,
    "start_time": "2022-01-13T14:52:50.805Z"
   },
   {
    "duration": 532,
    "start_time": "2022-01-13T14:54:40.316Z"
   },
   {
    "duration": 409,
    "start_time": "2022-01-13T14:54:52.803Z"
   },
   {
    "duration": 5,
    "start_time": "2022-01-13T14:55:08.632Z"
   },
   {
    "duration": 404,
    "start_time": "2022-01-13T14:55:27.563Z"
   },
   {
    "duration": 455,
    "start_time": "2022-01-13T14:56:24.147Z"
   },
   {
    "duration": 18,
    "start_time": "2022-01-13T14:56:48.834Z"
   },
   {
    "duration": 120,
    "start_time": "2022-01-13T14:56:49.498Z"
   },
   {
    "duration": 385,
    "start_time": "2022-01-13T14:56:50.976Z"
   },
   {
    "duration": 412,
    "start_time": "2022-01-13T14:57:22.833Z"
   },
   {
    "duration": 20,
    "start_time": "2022-01-13T14:57:47.682Z"
   },
   {
    "duration": 21,
    "start_time": "2022-01-13T14:58:07.054Z"
   },
   {
    "duration": 100,
    "start_time": "2022-01-13T14:58:07.517Z"
   },
   {
    "duration": 384,
    "start_time": "2022-01-13T14:58:08.761Z"
   },
   {
    "duration": 1460,
    "start_time": "2022-01-13T14:58:35.413Z"
   },
   {
    "duration": 34,
    "start_time": "2022-01-13T14:58:36.876Z"
   },
   {
    "duration": 24,
    "start_time": "2022-01-13T14:58:36.913Z"
   },
   {
    "duration": 14,
    "start_time": "2022-01-13T14:58:36.941Z"
   },
   {
    "duration": 6,
    "start_time": "2022-01-13T14:58:36.958Z"
   },
   {
    "duration": 9,
    "start_time": "2022-01-13T14:58:36.966Z"
   },
   {
    "duration": 6,
    "start_time": "2022-01-13T14:58:37.017Z"
   },
   {
    "duration": 19,
    "start_time": "2022-01-13T14:58:37.029Z"
   },
   {
    "duration": 6,
    "start_time": "2022-01-13T14:58:37.050Z"
   },
   {
    "duration": 6,
    "start_time": "2022-01-13T14:58:37.059Z"
   },
   {
    "duration": 52,
    "start_time": "2022-01-13T14:58:37.067Z"
   },
   {
    "duration": 1852,
    "start_time": "2022-01-13T14:58:37.122Z"
   },
   {
    "duration": 48,
    "start_time": "2022-01-13T14:58:38.977Z"
   },
   {
    "duration": 7,
    "start_time": "2022-01-13T14:58:39.027Z"
   },
   {
    "duration": 29,
    "start_time": "2022-01-13T14:58:39.036Z"
   },
   {
    "duration": 100,
    "start_time": "2022-01-13T14:58:39.068Z"
   },
   {
    "duration": 51,
    "start_time": "2022-01-13T14:58:39.170Z"
   },
   {
    "duration": 36,
    "start_time": "2022-01-13T14:58:39.223Z"
   },
   {
    "duration": 6,
    "start_time": "2022-01-13T14:58:39.261Z"
   },
   {
    "duration": 14,
    "start_time": "2022-01-13T14:58:39.269Z"
   },
   {
    "duration": 244,
    "start_time": "2022-01-13T14:58:39.318Z"
   },
   {
    "duration": 3,
    "start_time": "2022-01-13T14:58:39.565Z"
   },
   {
    "duration": 297,
    "start_time": "2022-01-13T14:58:39.573Z"
   },
   {
    "duration": 457,
    "start_time": "2022-01-13T14:58:39.873Z"
   },
   {
    "duration": 370,
    "start_time": "2022-01-13T14:58:40.333Z"
   },
   {
    "duration": 27,
    "start_time": "2022-01-13T14:58:40.712Z"
   },
   {
    "duration": 12,
    "start_time": "2022-01-13T14:58:40.741Z"
   },
   {
    "duration": 72,
    "start_time": "2022-01-13T14:58:40.755Z"
   },
   {
    "duration": 1987,
    "start_time": "2022-01-13T14:58:40.831Z"
   },
   {
    "duration": 1796,
    "start_time": "2022-01-13T14:58:42.822Z"
   },
   {
    "duration": 343,
    "start_time": "2022-01-13T14:58:44.623Z"
   },
   {
    "duration": 18,
    "start_time": "2022-01-13T14:58:44.968Z"
   },
   {
    "duration": 48,
    "start_time": "2022-01-13T14:58:44.988Z"
   },
   {
    "duration": 578,
    "start_time": "2022-01-13T14:58:45.039Z"
   },
   {
    "duration": 25,
    "start_time": "2022-01-13T14:59:03.262Z"
   },
   {
    "duration": 402,
    "start_time": "2022-01-13T14:59:04.112Z"
   },
   {
    "duration": 1585,
    "start_time": "2022-01-13T14:59:11.687Z"
   },
   {
    "duration": 35,
    "start_time": "2022-01-13T14:59:13.274Z"
   },
   {
    "duration": 24,
    "start_time": "2022-01-13T14:59:13.312Z"
   },
   {
    "duration": 14,
    "start_time": "2022-01-13T14:59:13.339Z"
   },
   {
    "duration": 5,
    "start_time": "2022-01-13T14:59:13.355Z"
   },
   {
    "duration": 8,
    "start_time": "2022-01-13T14:59:13.363Z"
   },
   {
    "duration": 42,
    "start_time": "2022-01-13T14:59:13.374Z"
   },
   {
    "duration": 17,
    "start_time": "2022-01-13T14:59:13.419Z"
   },
   {
    "duration": 6,
    "start_time": "2022-01-13T14:59:13.440Z"
   },
   {
    "duration": 7,
    "start_time": "2022-01-13T14:59:13.450Z"
   },
   {
    "duration": 6,
    "start_time": "2022-01-13T14:59:13.460Z"
   },
   {
    "duration": 1932,
    "start_time": "2022-01-13T14:59:13.468Z"
   },
   {
    "duration": 47,
    "start_time": "2022-01-13T14:59:15.402Z"
   },
   {
    "duration": 7,
    "start_time": "2022-01-13T14:59:15.452Z"
   },
   {
    "duration": 26,
    "start_time": "2022-01-13T14:59:15.461Z"
   },
   {
    "duration": 79,
    "start_time": "2022-01-13T14:59:15.518Z"
   },
   {
    "duration": 48,
    "start_time": "2022-01-13T14:59:15.599Z"
   },
   {
    "duration": 38,
    "start_time": "2022-01-13T14:59:15.650Z"
   },
   {
    "duration": 8,
    "start_time": "2022-01-13T14:59:15.716Z"
   },
   {
    "duration": 16,
    "start_time": "2022-01-13T14:59:15.727Z"
   },
   {
    "duration": 275,
    "start_time": "2022-01-13T14:59:15.745Z"
   },
   {
    "duration": 4,
    "start_time": "2022-01-13T14:59:16.022Z"
   },
   {
    "duration": 312,
    "start_time": "2022-01-13T14:59:16.028Z"
   },
   {
    "duration": 391,
    "start_time": "2022-01-13T14:59:16.343Z"
   },
   {
    "duration": 345,
    "start_time": "2022-01-13T14:59:16.737Z"
   },
   {
    "duration": 55,
    "start_time": "2022-01-13T14:59:17.084Z"
   },
   {
    "duration": 11,
    "start_time": "2022-01-13T14:59:17.144Z"
   },
   {
    "duration": 72,
    "start_time": "2022-01-13T14:59:17.157Z"
   },
   {
    "duration": 2000,
    "start_time": "2022-01-13T14:59:17.319Z"
   },
   {
    "duration": 1799,
    "start_time": "2022-01-13T14:59:19.322Z"
   },
   {
    "duration": 340,
    "start_time": "2022-01-13T14:59:21.127Z"
   },
   {
    "duration": 58,
    "start_time": "2022-01-13T14:59:21.469Z"
   },
   {
    "duration": 590,
    "start_time": "2022-01-13T14:59:21.530Z"
   },
   {
    "duration": 106,
    "start_time": "2022-01-13T15:00:28.613Z"
   },
   {
    "duration": 377,
    "start_time": "2022-01-13T15:00:39.172Z"
   },
   {
    "duration": 15,
    "start_time": "2022-01-13T15:01:37.319Z"
   },
   {
    "duration": 72,
    "start_time": "2022-01-13T15:02:05.845Z"
   },
   {
    "duration": 379,
    "start_time": "2022-01-13T15:02:08.493Z"
   },
   {
    "duration": 639,
    "start_time": "2022-01-13T15:02:27.559Z"
   },
   {
    "duration": 654,
    "start_time": "2022-01-13T15:03:17.992Z"
   },
   {
    "duration": 376,
    "start_time": "2022-01-13T15:03:32.731Z"
   },
   {
    "duration": 2860,
    "start_time": "2022-01-13T15:06:12.279Z"
   },
   {
    "duration": 3443,
    "start_time": "2022-01-13T15:06:33.506Z"
   },
   {
    "duration": 1444,
    "start_time": "2022-01-13T15:06:47.376Z"
   },
   {
    "duration": 925,
    "start_time": "2022-01-13T15:07:24.824Z"
   },
   {
    "duration": 2461,
    "start_time": "2022-01-13T15:07:43.430Z"
   },
   {
    "duration": 3716,
    "start_time": "2022-01-13T15:08:08.977Z"
   },
   {
    "duration": 4066,
    "start_time": "2022-01-13T15:08:20.199Z"
   },
   {
    "duration": 4601,
    "start_time": "2022-01-13T15:08:30.337Z"
   },
   {
    "duration": 5449,
    "start_time": "2022-01-13T15:08:47.526Z"
   },
   {
    "duration": 3352,
    "start_time": "2022-01-13T15:09:18.349Z"
   },
   {
    "duration": 2372,
    "start_time": "2022-01-13T15:09:45.045Z"
   },
   {
    "duration": 4948,
    "start_time": "2022-01-13T15:10:01.406Z"
   },
   {
    "duration": 2413,
    "start_time": "2022-01-13T15:11:07.252Z"
   },
   {
    "duration": 5,
    "start_time": "2022-01-13T15:11:26.773Z"
   },
   {
    "duration": 7,
    "start_time": "2022-01-13T15:11:55.687Z"
   },
   {
    "duration": 690,
    "start_time": "2022-01-13T15:12:37.196Z"
   },
   {
    "duration": 256,
    "start_time": "2022-01-13T15:12:41.869Z"
   },
   {
    "duration": 2376,
    "start_time": "2022-01-13T15:12:48.533Z"
   },
   {
    "duration": 5,
    "start_time": "2022-01-13T15:12:52.749Z"
   },
   {
    "duration": 22,
    "start_time": "2022-01-13T15:14:20.400Z"
   },
   {
    "duration": 24,
    "start_time": "2022-01-13T15:14:25.943Z"
   },
   {
    "duration": 4,
    "start_time": "2022-01-13T15:14:41.391Z"
   },
   {
    "duration": 2377,
    "start_time": "2022-01-13T15:15:28.431Z"
   },
   {
    "duration": 4,
    "start_time": "2022-01-13T15:15:35.678Z"
   },
   {
    "duration": 24,
    "start_time": "2022-01-13T15:15:37.991Z"
   },
   {
    "duration": 1463,
    "start_time": "2022-01-13T15:15:59.288Z"
   },
   {
    "duration": 15,
    "start_time": "2022-01-13T15:16:17.203Z"
   },
   {
    "duration": 23,
    "start_time": "2022-01-13T15:16:29.972Z"
   },
   {
    "duration": 509,
    "start_time": "2022-01-13T15:16:31.672Z"
   },
   {
    "duration": 2521,
    "start_time": "2022-01-13T15:16:36.871Z"
   },
   {
    "duration": 25,
    "start_time": "2022-01-13T15:16:49.731Z"
   },
   {
    "duration": 279,
    "start_time": "2022-01-13T15:16:59.090Z"
   },
   {
    "duration": 1673,
    "start_time": "2022-01-13T15:17:09.551Z"
   },
   {
    "duration": 18,
    "start_time": "2022-01-13T15:17:18.029Z"
   },
   {
    "duration": 3084,
    "start_time": "2022-01-13T15:22:43.162Z"
   },
   {
    "duration": 4,
    "start_time": "2022-01-13T15:22:51.710Z"
   },
   {
    "duration": 28,
    "start_time": "2022-01-13T15:22:54.728Z"
   },
   {
    "duration": 55069,
    "start_time": "2022-01-13T15:24:27.198Z"
   },
   {
    "duration": 4,
    "start_time": "2022-01-13T15:25:29.313Z"
   },
   {
    "duration": 29,
    "start_time": "2022-01-13T15:25:45.757Z"
   },
   {
    "duration": 92155,
    "start_time": "2022-01-13T15:26:23.010Z"
   },
   {
    "duration": 8,
    "start_time": "2022-01-13T15:28:52.635Z"
   },
   {
    "duration": 31,
    "start_time": "2022-01-13T15:29:18.430Z"
   },
   {
    "duration": 30,
    "start_time": "2022-01-13T15:29:59.878Z"
   },
   {
    "duration": 91532,
    "start_time": "2022-01-13T15:39:39.328Z"
   },
   {
    "duration": 5,
    "start_time": "2022-01-13T15:41:15.169Z"
   },
   {
    "duration": 23,
    "start_time": "2022-01-13T15:41:19.339Z"
   },
   {
    "duration": 364,
    "start_time": "2022-01-13T16:12:27.754Z"
   },
   {
    "duration": 4,
    "start_time": "2022-01-13T16:12:41.478Z"
   },
   {
    "duration": 5,
    "start_time": "2022-01-13T16:12:49.848Z"
   },
   {
    "duration": 402,
    "start_time": "2022-01-13T16:13:01.158Z"
   },
   {
    "duration": 4,
    "start_time": "2022-01-13T16:13:02.740Z"
   },
   {
    "duration": 1445,
    "start_time": "2022-01-13T16:13:15.925Z"
   },
   {
    "duration": 36,
    "start_time": "2022-01-13T16:13:17.373Z"
   },
   {
    "duration": 26,
    "start_time": "2022-01-13T16:13:17.415Z"
   },
   {
    "duration": 12,
    "start_time": "2022-01-13T16:13:17.444Z"
   },
   {
    "duration": 5,
    "start_time": "2022-01-13T16:13:17.458Z"
   },
   {
    "duration": 12,
    "start_time": "2022-01-13T16:13:17.465Z"
   },
   {
    "duration": 43,
    "start_time": "2022-01-13T16:13:17.479Z"
   },
   {
    "duration": 18,
    "start_time": "2022-01-13T16:13:17.527Z"
   },
   {
    "duration": 5,
    "start_time": "2022-01-13T16:13:17.548Z"
   },
   {
    "duration": 7,
    "start_time": "2022-01-13T16:13:17.556Z"
   },
   {
    "duration": 8,
    "start_time": "2022-01-13T16:13:17.565Z"
   },
   {
    "duration": 1849,
    "start_time": "2022-01-13T16:13:17.618Z"
   },
   {
    "duration": 33,
    "start_time": "2022-01-13T16:13:19.469Z"
   },
   {
    "duration": 7,
    "start_time": "2022-01-13T16:13:19.518Z"
   },
   {
    "duration": 123,
    "start_time": "2022-01-13T16:13:19.528Z"
   },
   {
    "duration": 8,
    "start_time": "2022-01-13T16:13:19.653Z"
   },
   {
    "duration": 56,
    "start_time": "2022-01-13T16:13:19.663Z"
   },
   {
    "duration": 37,
    "start_time": "2022-01-13T16:13:19.722Z"
   },
   {
    "duration": 8,
    "start_time": "2022-01-13T16:13:19.762Z"
   },
   {
    "duration": 47,
    "start_time": "2022-01-13T16:13:19.772Z"
   },
   {
    "duration": 236,
    "start_time": "2022-01-13T16:13:19.821Z"
   },
   {
    "duration": 3,
    "start_time": "2022-01-13T16:13:20.060Z"
   },
   {
    "duration": 302,
    "start_time": "2022-01-13T16:13:20.066Z"
   },
   {
    "duration": 479,
    "start_time": "2022-01-13T16:13:20.370Z"
   },
   {
    "duration": 346,
    "start_time": "2022-01-13T16:13:20.851Z"
   },
   {
    "duration": 37,
    "start_time": "2022-01-13T16:13:21.202Z"
   },
   {
    "duration": 13,
    "start_time": "2022-01-13T16:13:21.241Z"
   },
   {
    "duration": 160,
    "start_time": "2022-01-13T16:13:21.257Z"
   },
   {
    "duration": 1999,
    "start_time": "2022-01-13T16:13:21.420Z"
   },
   {
    "duration": 1794,
    "start_time": "2022-01-13T16:13:23.423Z"
   },
   {
    "duration": 101,
    "start_time": "2022-01-13T16:13:25.227Z"
   },
   {
    "duration": 289,
    "start_time": "2022-01-13T16:13:25.331Z"
   },
   {
    "duration": 97,
    "start_time": "2022-01-13T16:13:25.623Z"
   },
   {
    "duration": 528,
    "start_time": "2022-01-13T16:13:25.724Z"
   },
   {
    "duration": 30,
    "start_time": "2022-01-13T16:13:26.224Z"
   },
   {
    "duration": 29,
    "start_time": "2022-01-13T16:13:26.227Z"
   },
   {
    "duration": 10,
    "start_time": "2022-01-13T16:13:26.247Z"
   },
   {
    "duration": 7,
    "start_time": "2022-01-13T16:13:26.251Z"
   },
   {
    "duration": 4,
    "start_time": "2022-01-13T16:13:26.256Z"
   },
   {
    "duration": 383,
    "start_time": "2022-01-13T16:13:44.564Z"
   },
   {
    "duration": 7,
    "start_time": "2022-01-13T16:13:45.761Z"
   },
   {
    "duration": 5,
    "start_time": "2022-01-13T16:13:48.577Z"
   },
   {
    "duration": 247,
    "start_time": "2022-01-13T16:14:05.862Z"
   },
   {
    "duration": 90118,
    "start_time": "2022-01-13T16:14:09.681Z"
   },
   {
    "duration": 36,
    "start_time": "2022-01-13T16:15:39.802Z"
   },
   {
    "duration": 5,
    "start_time": "2022-01-13T16:16:12.661Z"
   },
   {
    "duration": 24,
    "start_time": "2022-01-13T16:16:18.093Z"
   },
   {
    "duration": 62,
    "start_time": "2022-01-13T16:18:31.157Z"
   },
   {
    "duration": 3519,
    "start_time": "2022-01-13T16:20:41.312Z"
   },
   {
    "duration": 85,
    "start_time": "2022-01-13T16:20:44.835Z"
   },
   {
    "duration": 5,
    "start_time": "2022-01-13T16:20:46.786Z"
   },
   {
    "duration": 441,
    "start_time": "2022-01-13T16:21:15.680Z"
   },
   {
    "duration": 6,
    "start_time": "2022-01-13T16:21:16.871Z"
   },
   {
    "duration": 4,
    "start_time": "2022-01-13T16:21:17.523Z"
   },
   {
    "duration": 239,
    "start_time": "2022-01-13T16:22:21.139Z"
   },
   {
    "duration": 3,
    "start_time": "2022-01-13T16:22:48.254Z"
   },
   {
    "duration": 1516,
    "start_time": "2022-01-13T16:23:00.274Z"
   },
   {
    "duration": 37,
    "start_time": "2022-01-13T16:23:01.793Z"
   },
   {
    "duration": 25,
    "start_time": "2022-01-13T16:23:01.833Z"
   },
   {
    "duration": 11,
    "start_time": "2022-01-13T16:23:01.861Z"
   },
   {
    "duration": 21,
    "start_time": "2022-01-13T16:23:01.874Z"
   },
   {
    "duration": 14,
    "start_time": "2022-01-13T16:23:01.897Z"
   },
   {
    "duration": 8,
    "start_time": "2022-01-13T16:23:01.914Z"
   },
   {
    "duration": 26,
    "start_time": "2022-01-13T16:23:01.926Z"
   },
   {
    "duration": 5,
    "start_time": "2022-01-13T16:23:01.955Z"
   },
   {
    "duration": 21,
    "start_time": "2022-01-13T16:23:01.962Z"
   },
   {
    "duration": 30,
    "start_time": "2022-01-13T16:23:01.985Z"
   },
   {
    "duration": 2018,
    "start_time": "2022-01-13T16:23:02.018Z"
   },
   {
    "duration": 34,
    "start_time": "2022-01-13T16:23:04.039Z"
   },
   {
    "duration": 7,
    "start_time": "2022-01-13T16:23:04.075Z"
   },
   {
    "duration": 51,
    "start_time": "2022-01-13T16:23:04.085Z"
   },
   {
    "duration": 99,
    "start_time": "2022-01-13T16:23:04.138Z"
   },
   {
    "duration": 36,
    "start_time": "2022-01-13T16:23:04.239Z"
   },
   {
    "duration": 63,
    "start_time": "2022-01-13T16:23:04.278Z"
   },
   {
    "duration": 6,
    "start_time": "2022-01-13T16:23:04.343Z"
   },
   {
    "duration": 20,
    "start_time": "2022-01-13T16:23:04.352Z"
   },
   {
    "duration": 267,
    "start_time": "2022-01-13T16:23:04.374Z"
   },
   {
    "duration": 3,
    "start_time": "2022-01-13T16:23:04.643Z"
   },
   {
    "duration": 292,
    "start_time": "2022-01-13T16:23:04.651Z"
   },
   {
    "duration": 391,
    "start_time": "2022-01-13T16:23:04.946Z"
   },
   {
    "duration": 344,
    "start_time": "2022-01-13T16:23:05.339Z"
   },
   {
    "duration": 41,
    "start_time": "2022-01-13T16:23:05.685Z"
   },
   {
    "duration": 11,
    "start_time": "2022-01-13T16:23:05.729Z"
   },
   {
    "duration": 81,
    "start_time": "2022-01-13T16:23:05.742Z"
   },
   {
    "duration": 173,
    "start_time": "2022-01-13T16:23:05.826Z"
   },
   {
    "duration": -15,
    "start_time": "2022-01-13T16:23:06.017Z"
   },
   {
    "duration": -17,
    "start_time": "2022-01-13T16:23:06.020Z"
   },
   {
    "duration": -29,
    "start_time": "2022-01-13T16:23:06.034Z"
   },
   {
    "duration": -36,
    "start_time": "2022-01-13T16:23:06.042Z"
   },
   {
    "duration": -38,
    "start_time": "2022-01-13T16:23:06.045Z"
   },
   {
    "duration": -42,
    "start_time": "2022-01-13T16:23:06.051Z"
   },
   {
    "duration": -45,
    "start_time": "2022-01-13T16:23:06.055Z"
   },
   {
    "duration": -48,
    "start_time": "2022-01-13T16:23:06.059Z"
   },
   {
    "duration": -50,
    "start_time": "2022-01-13T16:23:06.063Z"
   },
   {
    "duration": -54,
    "start_time": "2022-01-13T16:23:06.068Z"
   },
   {
    "duration": -57,
    "start_time": "2022-01-13T16:23:06.073Z"
   },
   {
    "duration": 84,
    "start_time": "2022-01-13T16:23:14.767Z"
   },
   {
    "duration": 1907,
    "start_time": "2022-01-13T16:23:23.112Z"
   },
   {
    "duration": 1667,
    "start_time": "2022-01-13T16:23:30.051Z"
   },
   {
    "duration": 104,
    "start_time": "2022-01-13T16:23:31.722Z"
   },
   {
    "duration": 243,
    "start_time": "2022-01-13T16:23:31.829Z"
   },
   {
    "duration": 49,
    "start_time": "2022-01-13T16:23:32.075Z"
   },
   {
    "duration": 493,
    "start_time": "2022-01-13T16:23:32.218Z"
   },
   {
    "duration": 10,
    "start_time": "2022-01-13T16:23:32.704Z"
   },
   {
    "duration": 4,
    "start_time": "2022-01-13T16:23:32.711Z"
   },
   {
    "duration": 2,
    "start_time": "2022-01-13T16:23:32.714Z"
   },
   {
    "duration": -1,
    "start_time": "2022-01-13T16:23:32.719Z"
   },
   {
    "duration": -3,
    "start_time": "2022-01-13T16:23:32.723Z"
   },
   {
    "duration": -6,
    "start_time": "2022-01-13T16:23:32.728Z"
   },
   {
    "duration": 361,
    "start_time": "2022-01-13T16:23:50.731Z"
   },
   {
    "duration": 363,
    "start_time": "2022-01-13T16:23:59.627Z"
   },
   {
    "duration": 271,
    "start_time": "2022-01-13T16:24:03.714Z"
   },
   {
    "duration": 5,
    "start_time": "2022-01-13T16:24:10.259Z"
   },
   {
    "duration": 7,
    "start_time": "2022-01-13T16:24:13.446Z"
   },
   {
    "duration": 10,
    "start_time": "2022-01-13T16:24:18.350Z"
   },
   {
    "duration": 94839,
    "start_time": "2022-01-13T16:25:26.619Z"
   },
   {
    "duration": 93,
    "start_time": "2022-01-13T16:29:03.445Z"
   },
   {
    "duration": 237,
    "start_time": "2022-01-13T16:29:12.328Z"
   },
   {
    "duration": 4,
    "start_time": "2022-01-13T16:29:16.224Z"
   },
   {
    "duration": 255,
    "start_time": "2022-01-13T16:29:18.118Z"
   },
   {
    "duration": 4,
    "start_time": "2022-01-13T16:29:28.060Z"
   },
   {
    "duration": 371,
    "start_time": "2022-01-13T16:30:32.367Z"
   },
   {
    "duration": 5,
    "start_time": "2022-01-13T16:30:35.433Z"
   },
   {
    "duration": 5,
    "start_time": "2022-01-13T16:30:48.910Z"
   },
   {
    "duration": 370,
    "start_time": "2022-01-13T16:31:34.848Z"
   },
   {
    "duration": 9,
    "start_time": "2022-01-13T16:31:35.836Z"
   },
   {
    "duration": 23,
    "start_time": "2022-01-13T16:32:16.458Z"
   },
   {
    "duration": 12,
    "start_time": "2022-01-13T16:32:48.313Z"
   },
   {
    "duration": 1911,
    "start_time": "2022-01-13T16:38:29.009Z"
   },
   {
    "duration": 307,
    "start_time": "2022-01-13T16:38:32.717Z"
   },
   {
    "duration": 335,
    "start_time": "2022-01-13T16:38:54.706Z"
   },
   {
    "duration": 1893,
    "start_time": "2022-01-13T16:39:32.925Z"
   },
   {
    "duration": 429,
    "start_time": "2022-01-13T16:39:34.821Z"
   },
   {
    "duration": 1663,
    "start_time": "2022-01-13T16:40:52.858Z"
   },
   {
    "duration": 249,
    "start_time": "2022-01-13T16:40:55.409Z"
   },
   {
    "duration": 336,
    "start_time": "2022-01-13T16:41:34.352Z"
   },
   {
    "duration": 1664,
    "start_time": "2022-01-13T16:41:44.380Z"
   },
   {
    "duration": 458,
    "start_time": "2022-01-13T16:41:47.606Z"
   },
   {
    "duration": 1403,
    "start_time": "2022-01-13T16:42:18.953Z"
   },
   {
    "duration": 35,
    "start_time": "2022-01-13T16:42:20.359Z"
   },
   {
    "duration": 25,
    "start_time": "2022-01-13T16:42:20.397Z"
   },
   {
    "duration": 11,
    "start_time": "2022-01-13T16:42:20.425Z"
   },
   {
    "duration": 7,
    "start_time": "2022-01-13T16:42:20.438Z"
   },
   {
    "duration": 8,
    "start_time": "2022-01-13T16:42:20.447Z"
   },
   {
    "duration": 8,
    "start_time": "2022-01-13T16:42:20.457Z"
   },
   {
    "duration": 64,
    "start_time": "2022-01-13T16:42:20.467Z"
   },
   {
    "duration": 6,
    "start_time": "2022-01-13T16:42:20.535Z"
   },
   {
    "duration": 7,
    "start_time": "2022-01-13T16:42:20.544Z"
   },
   {
    "duration": 9,
    "start_time": "2022-01-13T16:42:20.553Z"
   },
   {
    "duration": 1982,
    "start_time": "2022-01-13T16:42:20.564Z"
   },
   {
    "duration": 36,
    "start_time": "2022-01-13T16:42:22.548Z"
   },
   {
    "duration": 6,
    "start_time": "2022-01-13T16:42:22.586Z"
   },
   {
    "duration": 31,
    "start_time": "2022-01-13T16:42:22.618Z"
   },
   {
    "duration": 105,
    "start_time": "2022-01-13T16:42:22.653Z"
   },
   {
    "duration": 55,
    "start_time": "2022-01-13T16:42:22.761Z"
   },
   {
    "duration": 39,
    "start_time": "2022-01-13T16:42:22.818Z"
   },
   {
    "duration": 7,
    "start_time": "2022-01-13T16:42:22.860Z"
   },
   {
    "duration": 50,
    "start_time": "2022-01-13T16:42:22.871Z"
   },
   {
    "duration": 240,
    "start_time": "2022-01-13T16:42:22.923Z"
   },
   {
    "duration": 3,
    "start_time": "2022-01-13T16:42:23.165Z"
   },
   {
    "duration": 296,
    "start_time": "2022-01-13T16:42:23.171Z"
   },
   {
    "duration": 461,
    "start_time": "2022-01-13T16:42:23.470Z"
   },
   {
    "duration": 344,
    "start_time": "2022-01-13T16:42:23.933Z"
   },
   {
    "duration": 45,
    "start_time": "2022-01-13T16:42:24.279Z"
   },
   {
    "duration": 12,
    "start_time": "2022-01-13T16:42:24.329Z"
   },
   {
    "duration": 75,
    "start_time": "2022-01-13T16:42:24.344Z"
   },
   {
    "duration": 1999,
    "start_time": "2022-01-13T16:42:24.423Z"
   },
   {
    "duration": 347,
    "start_time": "2022-01-13T16:42:26.517Z"
   },
   {
    "duration": 1752,
    "start_time": "2022-01-13T16:42:26.866Z"
   },
   {
    "duration": 403,
    "start_time": "2022-01-13T16:42:28.622Z"
   },
   {
    "duration": 15,
    "start_time": "2022-01-13T16:42:29.028Z"
   },
   {
    "duration": 223,
    "start_time": "2022-01-13T16:42:29.046Z"
   },
   {
    "duration": 3,
    "start_time": "2022-01-13T16:42:29.271Z"
   },
   {
    "duration": 146,
    "start_time": "2022-01-13T16:42:29.276Z"
   },
   {
    "duration": 91,
    "start_time": "2022-01-13T16:42:29.426Z"
   },
   {
    "duration": 361,
    "start_time": "2022-01-13T16:42:29.520Z"
   },
   {
    "duration": 7,
    "start_time": "2022-01-13T16:42:29.884Z"
   },
   {
    "duration": 5,
    "start_time": "2022-01-13T16:42:29.894Z"
   },
   {
    "duration": 95291,
    "start_time": "2022-01-13T16:42:29.901Z"
   },
   {
    "duration": 34,
    "start_time": "2022-01-13T16:44:05.195Z"
   },
   {
    "duration": 12,
    "start_time": "2022-01-13T16:44:05.232Z"
   },
   {
    "duration": 10,
    "start_time": "2022-01-13T16:44:05.246Z"
   },
   {
    "duration": 27,
    "start_time": "2022-01-13T16:44:05.259Z"
   },
   {
    "duration": 10,
    "start_time": "2022-01-13T16:44:35.265Z"
   },
   {
    "duration": 96,
    "start_time": "2022-01-13T16:45:02.638Z"
   },
   {
    "duration": 1668,
    "start_time": "2022-01-13T16:45:08.553Z"
   },
   {
    "duration": 323,
    "start_time": "2022-01-13T16:45:14.388Z"
   },
   {
    "duration": 338,
    "start_time": "2022-01-13T16:47:26.080Z"
   },
   {
    "duration": 360,
    "start_time": "2022-01-13T16:47:38.071Z"
   },
   {
    "duration": 329,
    "start_time": "2022-01-13T16:48:27.169Z"
   },
   {
    "duration": 297,
    "start_time": "2022-01-13T16:48:57.103Z"
   },
   {
    "duration": 42,
    "start_time": "2022-01-13T18:38:14.764Z"
   },
   {
    "duration": 42,
    "start_time": "2022-01-13T18:39:08.763Z"
   },
   {
    "duration": 40,
    "start_time": "2022-01-13T18:39:28.426Z"
   },
   {
    "duration": 41,
    "start_time": "2022-01-13T18:39:33.298Z"
   },
   {
    "duration": 40,
    "start_time": "2022-01-13T18:41:20.181Z"
   },
   {
    "duration": 40,
    "start_time": "2022-01-13T18:41:32.407Z"
   },
   {
    "duration": 35,
    "start_time": "2022-01-13T18:44:10.049Z"
   },
   {
    "duration": 192,
    "start_time": "2022-01-13T18:44:22.225Z"
   },
   {
    "duration": 1729,
    "start_time": "2022-01-13T18:44:36.102Z"
   },
   {
    "duration": 10361,
    "start_time": "2022-01-13T18:51:57.718Z"
   },
   {
    "duration": 140623,
    "start_time": "2022-01-13T18:52:14.942Z"
   },
   {
    "duration": 450,
    "start_time": "2022-01-13T18:54:35.568Z"
   },
   {
    "duration": 546,
    "start_time": "2022-01-13T18:55:29.174Z"
   },
   {
    "duration": 436,
    "start_time": "2022-01-13T18:55:56.097Z"
   },
   {
    "duration": 327,
    "start_time": "2022-01-13T18:55:57.736Z"
   },
   {
    "duration": 281,
    "start_time": "2022-01-13T18:58:54.572Z"
   },
   {
    "duration": 324,
    "start_time": "2022-01-13T18:59:00.127Z"
   },
   {
    "duration": 17,
    "start_time": "2022-01-13T18:59:22.752Z"
   },
   {
    "duration": 274,
    "start_time": "2022-01-13T18:59:30.901Z"
   },
   {
    "duration": 248,
    "start_time": "2022-01-13T18:59:37.484Z"
   },
   {
    "duration": 3,
    "start_time": "2022-01-13T18:59:39.017Z"
   },
   {
    "duration": 279,
    "start_time": "2022-01-13T18:59:39.724Z"
   },
   {
    "duration": 435,
    "start_time": "2022-01-13T18:59:41.003Z"
   },
   {
    "duration": 332,
    "start_time": "2022-01-13T18:59:42.518Z"
   },
   {
    "duration": 16,
    "start_time": "2022-01-13T18:59:46.308Z"
   },
   {
    "duration": 10,
    "start_time": "2022-01-13T19:00:28.728Z"
   },
   {
    "duration": 14,
    "start_time": "2022-01-13T19:00:31.631Z"
   },
   {
    "duration": 6,
    "start_time": "2022-01-13T19:01:00.665Z"
   },
   {
    "duration": 5,
    "start_time": "2022-01-13T19:01:07.444Z"
   },
   {
    "duration": 58,
    "start_time": "2022-01-13T19:01:38.255Z"
   },
   {
    "duration": 6,
    "start_time": "2022-01-13T19:07:00.536Z"
   },
   {
    "duration": 4,
    "start_time": "2022-01-13T19:07:18.023Z"
   },
   {
    "duration": 4,
    "start_time": "2022-01-13T19:07:24.819Z"
   },
   {
    "duration": 4,
    "start_time": "2022-01-13T19:07:37.931Z"
   },
   {
    "duration": 1579,
    "start_time": "2022-01-13T19:08:47.442Z"
   },
   {
    "duration": 39,
    "start_time": "2022-01-13T19:08:49.024Z"
   },
   {
    "duration": 27,
    "start_time": "2022-01-13T19:08:49.067Z"
   },
   {
    "duration": 31,
    "start_time": "2022-01-13T19:08:49.098Z"
   },
   {
    "duration": 6,
    "start_time": "2022-01-13T19:08:49.132Z"
   },
   {
    "duration": 8,
    "start_time": "2022-01-13T19:08:49.140Z"
   },
   {
    "duration": 15,
    "start_time": "2022-01-13T19:08:49.151Z"
   },
   {
    "duration": 55,
    "start_time": "2022-01-13T19:08:49.171Z"
   },
   {
    "duration": 19,
    "start_time": "2022-01-13T19:08:49.230Z"
   },
   {
    "duration": 6,
    "start_time": "2022-01-13T19:08:49.252Z"
   },
   {
    "duration": 14,
    "start_time": "2022-01-13T19:08:49.260Z"
   },
   {
    "duration": 2562,
    "start_time": "2022-01-13T19:08:49.277Z"
   },
   {
    "duration": 34,
    "start_time": "2022-01-13T19:08:51.841Z"
   },
   {
    "duration": 6,
    "start_time": "2022-01-13T19:08:51.877Z"
   },
   {
    "duration": 135,
    "start_time": "2022-01-13T19:08:51.886Z"
   },
   {
    "duration": 8,
    "start_time": "2022-01-13T19:08:52.023Z"
   },
   {
    "duration": 84,
    "start_time": "2022-01-13T19:08:52.033Z"
   },
   {
    "duration": 37,
    "start_time": "2022-01-13T19:08:52.121Z"
   },
   {
    "duration": 5,
    "start_time": "2022-01-13T19:08:52.161Z"
   },
   {
    "duration": 48,
    "start_time": "2022-01-13T19:08:52.169Z"
   },
   {
    "duration": 242,
    "start_time": "2022-01-13T19:08:52.220Z"
   },
   {
    "duration": 3,
    "start_time": "2022-01-13T19:08:52.465Z"
   },
   {
    "duration": 293,
    "start_time": "2022-01-13T19:08:52.473Z"
   },
   {
    "duration": 462,
    "start_time": "2022-01-13T19:08:52.770Z"
   },
   {
    "duration": 526,
    "start_time": "2022-01-13T19:08:53.235Z"
   },
   {
    "duration": 11,
    "start_time": "2022-01-13T19:08:53.763Z"
   },
   {
    "duration": 41,
    "start_time": "2022-01-13T19:08:53.776Z"
   },
   {
    "duration": 104,
    "start_time": "2022-01-13T19:08:53.819Z"
   },
   {
    "duration": 1995,
    "start_time": "2022-01-13T19:08:53.927Z"
   },
   {
    "duration": 432,
    "start_time": "2022-01-13T19:08:55.925Z"
   },
   {
    "duration": 1585,
    "start_time": "2022-01-13T19:08:56.359Z"
   },
   {
    "duration": 416,
    "start_time": "2022-01-13T19:08:58.020Z"
   },
   {
    "duration": 269,
    "start_time": "2022-01-13T19:08:58.438Z"
   },
   {
    "duration": 331,
    "start_time": "2022-01-13T19:08:58.718Z"
   },
   {
    "duration": 15,
    "start_time": "2022-01-13T19:08:59.051Z"
   },
   {
    "duration": 4,
    "start_time": "2022-01-13T19:08:59.069Z"
   },
   {
    "duration": 153,
    "start_time": "2022-01-13T19:08:59.076Z"
   },
   {
    "duration": 6,
    "start_time": "2022-01-13T19:08:59.319Z"
   },
   {
    "duration": 452,
    "start_time": "2022-01-13T19:08:59.327Z"
   },
   {
    "duration": 8,
    "start_time": "2022-01-13T19:08:59.781Z"
   },
   {
    "duration": 24,
    "start_time": "2022-01-13T19:08:59.792Z"
   },
   {
    "duration": 90512,
    "start_time": "2022-01-13T19:08:59.818Z"
   },
   {
    "duration": 7,
    "start_time": "2022-01-13T19:10:30.332Z"
   },
   {
    "duration": 31,
    "start_time": "2022-01-13T19:10:30.341Z"
   },
   {
    "duration": 141593,
    "start_time": "2022-01-13T19:10:30.374Z"
   },
   {
    "duration": 6,
    "start_time": "2022-01-13T19:12:51.970Z"
   },
   {
    "duration": 10,
    "start_time": "2022-01-13T19:12:51.979Z"
   },
   {
    "duration": 29,
    "start_time": "2022-01-13T19:12:51.993Z"
   },
   {
    "duration": 34,
    "start_time": "2022-01-13T19:12:52.025Z"
   },
   {
    "duration": 406,
    "start_time": "2022-01-13T19:12:52.062Z"
   },
   {
    "duration": -79,
    "start_time": "2022-01-13T19:12:52.550Z"
   },
   {
    "duration": -84,
    "start_time": "2022-01-13T19:12:52.556Z"
   },
   {
    "duration": 13,
    "start_time": "2022-01-13T19:16:31.205Z"
   },
   {
    "duration": 39,
    "start_time": "2022-01-13T19:16:34.692Z"
   },
   {
    "duration": 45,
    "start_time": "2022-01-13T19:16:35.500Z"
   },
   {
    "duration": 6,
    "start_time": "2022-01-13T19:21:52.555Z"
   },
   {
    "duration": 6,
    "start_time": "2022-01-13T19:21:55.679Z"
   },
   {
    "duration": 5,
    "start_time": "2022-01-13T19:22:09.484Z"
   },
   {
    "duration": 6,
    "start_time": "2022-01-13T19:22:11.886Z"
   },
   {
    "duration": 184321,
    "start_time": "2022-01-13T19:22:25.378Z"
   },
   {
    "duration": 5,
    "start_time": "2022-01-13T19:25:39.610Z"
   },
   {
    "duration": 7,
    "start_time": "2022-01-13T19:25:46.443Z"
   },
   {
    "duration": 205102,
    "start_time": "2022-01-13T19:25:55.753Z"
   },
   {
    "duration": 6,
    "start_time": "2022-01-13T19:29:26.906Z"
   },
   {
    "duration": 335,
    "start_time": "2022-01-13T19:31:47.367Z"
   },
   {
    "duration": 291,
    "start_time": "2022-01-13T19:32:10.238Z"
   },
   {
    "duration": 89,
    "start_time": "2022-01-13T19:36:24.729Z"
   },
   {
    "duration": 63,
    "start_time": "2022-01-13T19:36:33.355Z"
   },
   {
    "duration": 36,
    "start_time": "2022-01-13T19:39:40.527Z"
   },
   {
    "duration": 148777,
    "start_time": "2022-01-13T19:41:34.509Z"
   },
   {
    "duration": 5,
    "start_time": "2022-01-13T19:44:46.767Z"
   },
   {
    "duration": 6,
    "start_time": "2022-01-13T19:44:54.554Z"
   },
   {
    "duration": 53,
    "start_time": "2022-01-13T19:44:59.591Z"
   },
   {
    "duration": 4,
    "start_time": "2022-01-14T12:59:16.359Z"
   },
   {
    "duration": 411,
    "start_time": "2022-01-14T12:59:20.635Z"
   },
   {
    "duration": 1616,
    "start_time": "2022-01-14T12:59:29.426Z"
   },
   {
    "duration": 39,
    "start_time": "2022-01-14T12:59:31.046Z"
   },
   {
    "duration": 27,
    "start_time": "2022-01-14T12:59:31.088Z"
   },
   {
    "duration": 17,
    "start_time": "2022-01-14T12:59:31.119Z"
   },
   {
    "duration": 5,
    "start_time": "2022-01-14T12:59:31.160Z"
   },
   {
    "duration": 11,
    "start_time": "2022-01-14T12:59:31.168Z"
   },
   {
    "duration": 9,
    "start_time": "2022-01-14T12:59:31.182Z"
   },
   {
    "duration": 20,
    "start_time": "2022-01-14T12:59:31.196Z"
   },
   {
    "duration": 43,
    "start_time": "2022-01-14T12:59:31.220Z"
   },
   {
    "duration": 7,
    "start_time": "2022-01-14T12:59:31.266Z"
   },
   {
    "duration": 15,
    "start_time": "2022-01-14T12:59:31.275Z"
   },
   {
    "duration": 2228,
    "start_time": "2022-01-14T12:59:31.293Z"
   },
   {
    "duration": 48,
    "start_time": "2022-01-14T12:59:33.523Z"
   },
   {
    "duration": 5,
    "start_time": "2022-01-14T12:59:33.574Z"
   },
   {
    "duration": 40,
    "start_time": "2022-01-14T12:59:33.582Z"
   },
   {
    "duration": 101,
    "start_time": "2022-01-14T12:59:33.624Z"
   },
   {
    "duration": 54,
    "start_time": "2022-01-14T12:59:33.728Z"
   },
   {
    "duration": 44,
    "start_time": "2022-01-14T12:59:33.785Z"
   },
   {
    "duration": 30,
    "start_time": "2022-01-14T12:59:33.832Z"
   },
   {
    "duration": 15,
    "start_time": "2022-01-14T12:59:33.865Z"
   },
   {
    "duration": 276,
    "start_time": "2022-01-14T12:59:33.883Z"
   },
   {
    "duration": 4,
    "start_time": "2022-01-14T12:59:34.161Z"
   },
   {
    "duration": 307,
    "start_time": "2022-01-14T12:59:34.173Z"
   },
   {
    "duration": 390,
    "start_time": "2022-01-14T12:59:34.485Z"
   },
   {
    "duration": 505,
    "start_time": "2022-01-14T12:59:34.879Z"
   },
   {
    "duration": 10,
    "start_time": "2022-01-14T12:59:35.386Z"
   },
   {
    "duration": 29,
    "start_time": "2022-01-14T12:59:35.398Z"
   },
   {
    "duration": 28,
    "start_time": "2022-01-14T12:59:35.430Z"
   },
   {
    "duration": 99,
    "start_time": "2022-01-14T12:59:35.461Z"
   },
   {
    "duration": 6,
    "start_time": "2022-01-14T12:59:35.563Z"
   },
   {
    "duration": 1903,
    "start_time": "2022-01-14T12:59:35.660Z"
   },
   {
    "duration": 424,
    "start_time": "2022-01-14T12:59:37.566Z"
   },
   {
    "duration": 1668,
    "start_time": "2022-01-14T12:59:37.992Z"
   },
   {
    "duration": 441,
    "start_time": "2022-01-14T12:59:39.668Z"
   },
   {
    "duration": 348,
    "start_time": "2022-01-14T12:59:40.112Z"
   },
   {
    "duration": 302,
    "start_time": "2022-01-14T12:59:40.462Z"
   },
   {
    "duration": 16,
    "start_time": "2022-01-14T12:59:40.766Z"
   },
   {
    "duration": 4,
    "start_time": "2022-01-14T12:59:40.784Z"
   },
   {
    "duration": 172,
    "start_time": "2022-01-14T12:59:40.790Z"
   },
   {
    "duration": 94,
    "start_time": "2022-01-14T12:59:40.965Z"
   },
   {
    "duration": 361,
    "start_time": "2022-01-14T12:59:41.062Z"
   },
   {
    "duration": 7,
    "start_time": "2022-01-14T12:59:41.426Z"
   },
   {
    "duration": 23,
    "start_time": "2022-01-14T12:59:41.436Z"
   },
   {
    "duration": 94693,
    "start_time": "2022-01-14T12:59:41.462Z"
   },
   {
    "duration": 23,
    "start_time": "2022-01-14T13:01:16.160Z"
   },
   {
    "duration": 142713,
    "start_time": "2022-01-14T13:01:16.185Z"
   },
   {
    "duration": 180517,
    "start_time": "2022-01-14T13:03:38.900Z"
   },
   {
    "duration": 48,
    "start_time": "2022-01-14T13:06:39.419Z"
   },
   {
    "duration": 144221,
    "start_time": "2022-01-14T13:06:39.559Z"
   },
   {
    "duration": 6,
    "start_time": "2022-01-14T13:09:03.783Z"
   },
   {
    "duration": 13,
    "start_time": "2022-01-14T13:09:03.792Z"
   },
   {
    "duration": 6,
    "start_time": "2022-01-14T13:09:03.807Z"
   },
   {
    "duration": 43,
    "start_time": "2022-01-14T13:09:03.816Z"
   },
   {
    "duration": 8,
    "start_time": "2022-01-14T13:09:03.862Z"
   },
   {
    "duration": 6,
    "start_time": "2022-01-14T13:09:03.873Z"
   },
   {
    "duration": 9,
    "start_time": "2022-01-14T13:09:03.881Z"
   },
   {
    "duration": 7,
    "start_time": "2022-01-14T13:09:03.892Z"
   },
   {
    "duration": 76,
    "start_time": "2022-01-14T13:09:03.902Z"
   },
   {
    "duration": 14,
    "start_time": "2022-01-14T13:09:03.981Z"
   },
   {
    "duration": 62,
    "start_time": "2022-01-14T13:09:03.997Z"
   },
   {
    "duration": 46,
    "start_time": "2022-01-14T13:09:04.062Z"
   },
   {
    "duration": 49,
    "start_time": "2022-01-14T13:09:04.111Z"
   },
   {
    "duration": 47,
    "start_time": "2022-01-14T13:09:04.163Z"
   },
   {
    "duration": 1951,
    "start_time": "2022-01-14T13:09:04.214Z"
   },
   {
    "duration": 434,
    "start_time": "2022-01-14T13:09:06.168Z"
   },
   {
    "duration": 4,
    "start_time": "2022-01-14T13:09:34.667Z"
   },
   {
    "duration": 35,
    "start_time": "2022-01-14T13:09:35.373Z"
   },
   {
    "duration": 12,
    "start_time": "2022-01-14T13:09:35.548Z"
   },
   {
    "duration": 1914,
    "start_time": "2022-01-14T13:09:36.548Z"
   },
   {
    "duration": 424,
    "start_time": "2022-01-14T13:09:38.466Z"
   },
   {
    "duration": 4,
    "start_time": "2022-01-14T13:09:42.153Z"
   },
   {
    "duration": 1764,
    "start_time": "2022-01-14T13:09:43.296Z"
   },
   {
    "duration": 326,
    "start_time": "2022-01-14T13:09:45.160Z"
   },
   {
    "duration": 3,
    "start_time": "2022-01-14T13:09:49.096Z"
   },
   {
    "duration": 298,
    "start_time": "2022-01-14T13:09:50.238Z"
   },
   {
    "duration": 327,
    "start_time": "2022-01-14T13:09:52.275Z"
   },
   {
    "duration": 4,
    "start_time": "2022-01-14T13:09:55.277Z"
   },
   {
    "duration": 12,
    "start_time": "2022-01-14T13:09:56.835Z"
   },
   {
    "duration": 486,
    "start_time": "2022-01-14T13:12:21.334Z"
   },
   {
    "duration": 360,
    "start_time": "2022-01-14T13:12:33.145Z"
   },
   {
    "duration": 14,
    "start_time": "2022-01-14T13:13:06.960Z"
   },
   {
    "duration": 392,
    "start_time": "2022-01-14T13:15:07.409Z"
   },
   {
    "duration": 5,
    "start_time": "2022-01-14T13:15:48.487Z"
   },
   {
    "duration": 10,
    "start_time": "2022-01-14T13:15:51.157Z"
   },
   {
    "duration": 6,
    "start_time": "2022-01-14T13:15:55.883Z"
   },
   {
    "duration": 10,
    "start_time": "2022-01-14T13:15:56.548Z"
   },
   {
    "duration": 13,
    "start_time": "2022-01-14T13:16:05.655Z"
   },
   {
    "duration": 12,
    "start_time": "2022-01-14T13:16:14.979Z"
   },
   {
    "duration": 16,
    "start_time": "2022-01-14T13:16:20.524Z"
   },
   {
    "duration": 5,
    "start_time": "2022-01-14T13:16:30.638Z"
   },
   {
    "duration": 35,
    "start_time": "2022-01-14T13:16:30.649Z"
   },
   {
    "duration": 22,
    "start_time": "2022-01-14T13:16:30.686Z"
   },
   {
    "duration": 12,
    "start_time": "2022-01-14T13:16:30.711Z"
   },
   {
    "duration": 35,
    "start_time": "2022-01-14T13:16:30.726Z"
   },
   {
    "duration": 27,
    "start_time": "2022-01-14T13:16:30.764Z"
   },
   {
    "duration": 9,
    "start_time": "2022-01-14T13:16:30.794Z"
   },
   {
    "duration": 25,
    "start_time": "2022-01-14T13:16:30.805Z"
   },
   {
    "duration": 27,
    "start_time": "2022-01-14T13:16:30.832Z"
   },
   {
    "duration": 5,
    "start_time": "2022-01-14T13:16:30.864Z"
   },
   {
    "duration": 9,
    "start_time": "2022-01-14T13:16:30.872Z"
   },
   {
    "duration": 1839,
    "start_time": "2022-01-14T13:16:30.883Z"
   },
   {
    "duration": 45,
    "start_time": "2022-01-14T13:16:32.724Z"
   },
   {
    "duration": 6,
    "start_time": "2022-01-14T13:16:32.772Z"
   },
   {
    "duration": 24,
    "start_time": "2022-01-14T13:16:32.780Z"
   },
   {
    "duration": 7,
    "start_time": "2022-01-14T13:16:32.807Z"
   },
   {
    "duration": 73,
    "start_time": "2022-01-14T13:16:32.817Z"
   },
   {
    "duration": 66,
    "start_time": "2022-01-14T13:16:32.893Z"
   },
   {
    "duration": 9,
    "start_time": "2022-01-14T13:16:32.961Z"
   },
   {
    "duration": 14,
    "start_time": "2022-01-14T13:16:32.973Z"
   },
   {
    "duration": 258,
    "start_time": "2022-01-14T13:16:32.990Z"
   },
   {
    "duration": 4,
    "start_time": "2022-01-14T13:16:33.259Z"
   },
   {
    "duration": 297,
    "start_time": "2022-01-14T13:16:33.266Z"
   },
   {
    "duration": 497,
    "start_time": "2022-01-14T13:16:33.566Z"
   },
   {
    "duration": 574,
    "start_time": "2022-01-14T13:16:34.067Z"
   },
   {
    "duration": 22,
    "start_time": "2022-01-14T13:16:34.643Z"
   },
   {
    "duration": 13,
    "start_time": "2022-01-14T13:16:34.667Z"
   },
   {
    "duration": 3,
    "start_time": "2022-01-14T13:16:34.684Z"
   },
   {
    "duration": 83,
    "start_time": "2022-01-14T13:16:34.690Z"
   },
   {
    "duration": 4,
    "start_time": "2022-01-14T13:16:34.861Z"
   },
   {
    "duration": 2106,
    "start_time": "2022-01-14T13:16:34.869Z"
   },
   {
    "duration": 415,
    "start_time": "2022-01-14T13:16:37.060Z"
   },
   {
    "duration": 3,
    "start_time": "2022-01-14T13:16:37.478Z"
   },
   {
    "duration": 1676,
    "start_time": "2022-01-14T13:16:37.484Z"
   },
   {
    "duration": 400,
    "start_time": "2022-01-14T13:16:39.163Z"
   },
   {
    "duration": 4,
    "start_time": "2022-01-14T13:16:39.565Z"
   },
   {
    "duration": 270,
    "start_time": "2022-01-14T13:16:39.571Z"
   },
   {
    "duration": 325,
    "start_time": "2022-01-14T13:16:39.843Z"
   },
   {
    "duration": 3,
    "start_time": "2022-01-14T13:16:40.170Z"
   },
   {
    "duration": 14,
    "start_time": "2022-01-14T13:16:40.176Z"
   },
   {
    "duration": 57,
    "start_time": "2022-01-14T13:22:28.204Z"
   },
   {
    "duration": 10316,
    "start_time": "2022-01-14T13:24:36.809Z"
   },
   {
    "duration": 14,
    "start_time": "2022-01-14T13:24:59.283Z"
   },
   {
    "duration": 11,
    "start_time": "2022-01-14T13:32:36.693Z"
   },
   {
    "duration": 6,
    "start_time": "2022-01-14T13:50:44.794Z"
   },
   {
    "duration": 38,
    "start_time": "2022-01-14T13:50:44.802Z"
   },
   {
    "duration": 20,
    "start_time": "2022-01-14T13:50:44.843Z"
   },
   {
    "duration": 11,
    "start_time": "2022-01-14T13:50:44.866Z"
   },
   {
    "duration": 5,
    "start_time": "2022-01-14T13:50:44.879Z"
   },
   {
    "duration": 10,
    "start_time": "2022-01-14T13:50:44.887Z"
   },
   {
    "duration": 11,
    "start_time": "2022-01-14T13:50:44.899Z"
   },
   {
    "duration": 57,
    "start_time": "2022-01-14T13:50:44.914Z"
   },
   {
    "duration": 7,
    "start_time": "2022-01-14T13:50:44.974Z"
   },
   {
    "duration": 6,
    "start_time": "2022-01-14T13:50:44.983Z"
   },
   {
    "duration": 6,
    "start_time": "2022-01-14T13:50:44.992Z"
   },
   {
    "duration": 2123,
    "start_time": "2022-01-14T13:50:45.001Z"
   },
   {
    "duration": 45,
    "start_time": "2022-01-14T13:50:47.127Z"
   },
   {
    "duration": 6,
    "start_time": "2022-01-14T13:50:47.174Z"
   },
   {
    "duration": 23,
    "start_time": "2022-01-14T13:50:47.182Z"
   },
   {
    "duration": 7,
    "start_time": "2022-01-14T13:50:47.207Z"
   },
   {
    "duration": 72,
    "start_time": "2022-01-14T13:50:47.216Z"
   },
   {
    "duration": 36,
    "start_time": "2022-01-14T13:50:47.291Z"
   },
   {
    "duration": 30,
    "start_time": "2022-01-14T13:50:47.329Z"
   },
   {
    "duration": 16,
    "start_time": "2022-01-14T13:50:47.362Z"
   },
   {
    "duration": 246,
    "start_time": "2022-01-14T13:50:47.380Z"
   },
   {
    "duration": 3,
    "start_time": "2022-01-14T13:50:47.628Z"
   },
   {
    "duration": 377,
    "start_time": "2022-01-14T13:50:47.637Z"
   },
   {
    "duration": 464,
    "start_time": "2022-01-14T13:50:48.017Z"
   },
   {
    "duration": 530,
    "start_time": "2022-01-14T13:50:48.484Z"
   },
   {
    "duration": 11,
    "start_time": "2022-01-14T13:50:49.016Z"
   },
   {
    "duration": 39,
    "start_time": "2022-01-14T13:50:49.029Z"
   },
   {
    "duration": 5,
    "start_time": "2022-01-14T13:50:49.070Z"
   },
   {
    "duration": 93,
    "start_time": "2022-01-14T13:50:49.077Z"
   },
   {
    "duration": 4,
    "start_time": "2022-01-14T13:50:49.260Z"
   },
   {
    "duration": 1900,
    "start_time": "2022-01-14T13:50:49.267Z"
   },
   {
    "duration": 421,
    "start_time": "2022-01-14T13:50:51.171Z"
   },
   {
    "duration": 3,
    "start_time": "2022-01-14T13:50:51.595Z"
   },
   {
    "duration": 1661,
    "start_time": "2022-01-14T13:50:51.600Z"
   },
   {
    "duration": 426,
    "start_time": "2022-01-14T13:50:53.265Z"
   },
   {
    "duration": 4,
    "start_time": "2022-01-14T13:50:53.693Z"
   },
   {
    "duration": 326,
    "start_time": "2022-01-14T13:50:53.699Z"
   },
   {
    "duration": 317,
    "start_time": "2022-01-14T13:50:54.027Z"
   },
   {
    "duration": 13,
    "start_time": "2022-01-14T13:50:54.347Z"
   },
   {
    "duration": 16,
    "start_time": "2022-01-14T13:50:54.363Z"
   },
   {
    "duration": 19,
    "start_time": "2022-01-14T13:50:54.381Z"
   },
   {
    "duration": 4,
    "start_time": "2022-01-14T13:50:54.402Z"
   },
   {
    "duration": 71,
    "start_time": "2022-01-14T13:50:54.409Z"
   },
   {
    "duration": 5,
    "start_time": "2022-01-14T13:50:54.561Z"
   },
   {
    "duration": 438,
    "start_time": "2022-01-14T13:50:54.569Z"
   },
   {
    "duration": 8,
    "start_time": "2022-01-14T13:50:55.009Z"
   },
   {
    "duration": 89352,
    "start_time": "2022-01-14T13:50:55.020Z"
   },
   {
    "duration": 22,
    "start_time": "2022-01-14T13:52:24.374Z"
   },
   {
    "duration": 14,
    "start_time": "2022-01-14T13:52:24.398Z"
   },
   {
    "duration": 3,
    "start_time": "2022-01-14T13:52:24.415Z"
   },
   {
    "duration": 137708,
    "start_time": "2022-01-14T13:52:24.421Z"
   },
   {
    "duration": 36,
    "start_time": "2022-01-14T13:54:42.131Z"
   },
   {
    "duration": 3,
    "start_time": "2022-01-14T13:54:42.169Z"
   },
   {
    "duration": 190814,
    "start_time": "2022-01-14T13:54:42.175Z"
   },
   {
    "duration": 27,
    "start_time": "2022-01-14T13:57:52.992Z"
   },
   {
    "duration": 5,
    "start_time": "2022-01-14T13:57:53.021Z"
   },
   {
    "duration": 140224,
    "start_time": "2022-01-14T13:57:53.029Z"
   },
   {
    "duration": 23,
    "start_time": "2022-01-14T14:00:13.259Z"
   },
   {
    "duration": 3,
    "start_time": "2022-01-14T14:00:13.285Z"
   },
   {
    "duration": 396,
    "start_time": "2022-01-14T14:00:13.291Z"
   },
   {
    "duration": -1256,
    "start_time": "2022-01-14T14:00:14.945Z"
   },
   {
    "duration": -1262,
    "start_time": "2022-01-14T14:00:14.953Z"
   },
   {
    "duration": -1269,
    "start_time": "2022-01-14T14:00:14.961Z"
   },
   {
    "duration": -1272,
    "start_time": "2022-01-14T14:00:14.966Z"
   },
   {
    "duration": 380,
    "start_time": "2022-01-14T14:07:39.099Z"
   },
   {
    "duration": 3,
    "start_time": "2022-01-14T14:08:10.207Z"
   },
   {
    "duration": 6,
    "start_time": "2022-01-14T14:08:17.347Z"
   },
   {
    "duration": 19,
    "start_time": "2022-01-14T14:08:38.235Z"
   },
   {
    "duration": 4,
    "start_time": "2022-01-14T14:09:04.090Z"
   },
   {
    "duration": 6,
    "start_time": "2022-01-14T14:09:11.146Z"
   },
   {
    "duration": 4,
    "start_time": "2022-01-14T14:09:33.801Z"
   },
   {
    "duration": 3,
    "start_time": "2022-01-14T14:09:37.783Z"
   },
   {
    "duration": 3,
    "start_time": "2022-01-14T14:09:45.844Z"
   },
   {
    "duration": 6,
    "start_time": "2022-01-14T14:09:47.673Z"
   },
   {
    "duration": 25,
    "start_time": "2022-01-14T14:10:07.735Z"
   },
   {
    "duration": 4,
    "start_time": "2022-01-14T14:10:08.359Z"
   },
   {
    "duration": 25,
    "start_time": "2022-01-14T14:10:14.473Z"
   },
   {
    "duration": 4,
    "start_time": "2022-01-14T14:10:15.069Z"
   },
   {
    "duration": 25,
    "start_time": "2022-01-14T14:10:18.637Z"
   },
   {
    "duration": 4,
    "start_time": "2022-01-14T14:10:19.534Z"
   },
   {
    "duration": 6,
    "start_time": "2022-01-14T14:10:22.226Z"
   },
   {
    "duration": 4,
    "start_time": "2022-01-14T14:10:40.288Z"
   },
   {
    "duration": 4,
    "start_time": "2022-01-14T14:10:45.229Z"
   },
   {
    "duration": 3,
    "start_time": "2022-01-14T14:10:49.278Z"
   },
   {
    "duration": 6,
    "start_time": "2022-01-14T14:10:53.493Z"
   },
   {
    "duration": 4,
    "start_time": "2022-01-14T14:11:15.685Z"
   },
   {
    "duration": 24,
    "start_time": "2022-01-14T14:11:19.492Z"
   },
   {
    "duration": 4,
    "start_time": "2022-01-14T14:11:19.928Z"
   },
   {
    "duration": 25,
    "start_time": "2022-01-14T14:11:22.508Z"
   },
   {
    "duration": 4,
    "start_time": "2022-01-14T14:11:22.940Z"
   },
   {
    "duration": 24,
    "start_time": "2022-01-14T14:11:25.232Z"
   },
   {
    "duration": 4,
    "start_time": "2022-01-14T14:11:25.673Z"
   },
   {
    "duration": 5,
    "start_time": "2022-01-14T14:11:26.813Z"
   },
   {
    "duration": 26,
    "start_time": "2022-01-14T14:12:00.368Z"
   },
   {
    "duration": 4,
    "start_time": "2022-01-14T14:12:02.479Z"
   },
   {
    "duration": 19,
    "start_time": "2022-01-14T14:12:05.773Z"
   },
   {
    "duration": 5,
    "start_time": "2022-01-14T14:12:06.646Z"
   },
   {
    "duration": 29,
    "start_time": "2022-01-14T14:12:10.137Z"
   },
   {
    "duration": 4,
    "start_time": "2022-01-14T14:12:10.552Z"
   },
   {
    "duration": 5,
    "start_time": "2022-01-14T14:12:11.769Z"
   },
   {
    "duration": 3,
    "start_time": "2022-01-14T14:12:25.953Z"
   },
   {
    "duration": 32,
    "start_time": "2022-01-14T14:12:28.529Z"
   },
   {
    "duration": 3,
    "start_time": "2022-01-14T14:12:29.260Z"
   },
   {
    "duration": 20,
    "start_time": "2022-01-14T14:12:31.198Z"
   },
   {
    "duration": 3,
    "start_time": "2022-01-14T14:12:31.488Z"
   },
   {
    "duration": 25,
    "start_time": "2022-01-14T14:12:33.617Z"
   },
   {
    "duration": 4,
    "start_time": "2022-01-14T14:12:33.976Z"
   },
   {
    "duration": 6,
    "start_time": "2022-01-14T14:12:34.824Z"
   },
   {
    "duration": 16,
    "start_time": "2022-01-14T14:12:41.045Z"
   },
   {
    "duration": 12,
    "start_time": "2022-01-14T14:13:05.858Z"
   },
   {
    "duration": 15,
    "start_time": "2022-01-14T14:13:25.525Z"
   },
   {
    "duration": 40,
    "start_time": "2022-01-14T14:18:51.384Z"
   },
   {
    "duration": 44,
    "start_time": "2022-01-14T14:18:52.471Z"
   },
   {
    "duration": 32,
    "start_time": "2022-01-14T14:18:53.094Z"
   },
   {
    "duration": 87,
    "start_time": "2022-01-14T14:18:54.812Z"
   },
   {
    "duration": 6,
    "start_time": "2022-01-14T14:27:54.452Z"
   },
   {
    "duration": 47,
    "start_time": "2022-01-14T14:41:36.490Z"
   },
   {
    "duration": 44,
    "start_time": "2022-01-14T14:42:40.181Z"
   },
   {
    "duration": 14,
    "start_time": "2022-01-14T15:16:07.493Z"
   },
   {
    "duration": 11,
    "start_time": "2022-01-14T15:16:29.852Z"
   },
   {
    "duration": 10,
    "start_time": "2022-01-14T15:20:34.236Z"
   },
   {
    "duration": 11,
    "start_time": "2022-01-14T15:44:40.793Z"
   },
   {
    "duration": 11,
    "start_time": "2022-01-14T15:48:34.993Z"
   },
   {
    "duration": 6,
    "start_time": "2022-01-14T15:49:26.884Z"
   },
   {
    "duration": 7,
    "start_time": "2022-01-14T15:50:05.161Z"
   },
   {
    "duration": 5,
    "start_time": "2022-01-14T15:57:09.028Z"
   },
   {
    "duration": 33,
    "start_time": "2022-01-14T15:57:09.039Z"
   },
   {
    "duration": 20,
    "start_time": "2022-01-14T15:57:09.074Z"
   },
   {
    "duration": 11,
    "start_time": "2022-01-14T15:57:09.097Z"
   },
   {
    "duration": 4,
    "start_time": "2022-01-14T15:57:09.111Z"
   },
   {
    "duration": 48,
    "start_time": "2022-01-14T15:57:09.118Z"
   },
   {
    "duration": 6,
    "start_time": "2022-01-14T15:57:09.168Z"
   },
   {
    "duration": 18,
    "start_time": "2022-01-14T15:57:09.176Z"
   },
   {
    "duration": 5,
    "start_time": "2022-01-14T15:57:09.197Z"
   },
   {
    "duration": 6,
    "start_time": "2022-01-14T15:57:09.205Z"
   },
   {
    "duration": 46,
    "start_time": "2022-01-14T15:57:09.213Z"
   },
   {
    "duration": 1932,
    "start_time": "2022-01-14T15:57:09.262Z"
   },
   {
    "duration": 32,
    "start_time": "2022-01-14T15:57:11.197Z"
   },
   {
    "duration": 26,
    "start_time": "2022-01-14T15:57:11.232Z"
   },
   {
    "duration": 23,
    "start_time": "2022-01-14T15:57:11.261Z"
   },
   {
    "duration": 8,
    "start_time": "2022-01-14T15:57:11.286Z"
   },
   {
    "duration": 66,
    "start_time": "2022-01-14T15:57:11.296Z"
   },
   {
    "duration": 36,
    "start_time": "2022-01-14T15:57:11.365Z"
   },
   {
    "duration": 8,
    "start_time": "2022-01-14T15:57:11.404Z"
   },
   {
    "duration": 49,
    "start_time": "2022-01-14T15:57:11.415Z"
   },
   {
    "duration": 246,
    "start_time": "2022-01-14T15:57:11.466Z"
   },
   {
    "duration": 4,
    "start_time": "2022-01-14T15:57:11.715Z"
   },
   {
    "duration": 301,
    "start_time": "2022-01-14T15:57:11.724Z"
   },
   {
    "duration": 432,
    "start_time": "2022-01-14T15:57:12.028Z"
   },
   {
    "duration": 502,
    "start_time": "2022-01-14T15:57:12.463Z"
   },
   {
    "duration": 9,
    "start_time": "2022-01-14T15:57:12.968Z"
   },
   {
    "duration": 20,
    "start_time": "2022-01-14T15:57:12.979Z"
   },
   {
    "duration": 4,
    "start_time": "2022-01-14T15:57:13.001Z"
   },
   {
    "duration": 63,
    "start_time": "2022-01-14T15:57:13.007Z"
   },
   {
    "duration": 90,
    "start_time": "2022-01-14T15:57:13.073Z"
   },
   {
    "duration": 107,
    "start_time": "2022-01-14T18:41:11.109Z"
   },
   {
    "duration": 1447,
    "start_time": "2022-01-14T18:47:23.988Z"
   },
   {
    "duration": 47,
    "start_time": "2022-01-14T18:47:25.438Z"
   },
   {
    "duration": 24,
    "start_time": "2022-01-14T18:47:25.488Z"
   },
   {
    "duration": 11,
    "start_time": "2022-01-14T18:47:25.515Z"
   },
   {
    "duration": 4,
    "start_time": "2022-01-14T18:47:25.528Z"
   },
   {
    "duration": 7,
    "start_time": "2022-01-14T18:47:25.563Z"
   },
   {
    "duration": 7,
    "start_time": "2022-01-14T18:47:25.572Z"
   },
   {
    "duration": 17,
    "start_time": "2022-01-14T18:47:25.584Z"
   },
   {
    "duration": 5,
    "start_time": "2022-01-14T18:47:25.604Z"
   },
   {
    "duration": 56,
    "start_time": "2022-01-14T18:47:25.611Z"
   },
   {
    "duration": 6,
    "start_time": "2022-01-14T18:47:25.669Z"
   },
   {
    "duration": 1907,
    "start_time": "2022-01-14T18:47:25.677Z"
   },
   {
    "duration": 45,
    "start_time": "2022-01-14T18:47:27.587Z"
   },
   {
    "duration": 30,
    "start_time": "2022-01-14T18:47:27.635Z"
   },
   {
    "duration": 32,
    "start_time": "2022-01-14T18:47:27.668Z"
   },
   {
    "duration": 9,
    "start_time": "2022-01-14T18:47:27.703Z"
   },
   {
    "duration": 153,
    "start_time": "2022-01-14T18:47:27.715Z"
   },
   {
    "duration": 8,
    "start_time": "2022-01-14T18:47:27.872Z"
   },
   {
    "duration": 13,
    "start_time": "2022-01-14T18:47:27.884Z"
   },
   {
    "duration": 31,
    "start_time": "2022-01-14T18:47:30.772Z"
   },
   {
    "duration": 28,
    "start_time": "2022-01-14T18:47:35.643Z"
   },
   {
    "duration": 16,
    "start_time": "2022-01-14T18:47:41.656Z"
   },
   {
    "duration": 18,
    "start_time": "2022-01-14T18:47:44.796Z"
   },
   {
    "duration": 39,
    "start_time": "2022-01-14T18:48:02.603Z"
   },
   {
    "duration": 5,
    "start_time": "2022-01-14T18:48:36.008Z"
   },
   {
    "duration": 35,
    "start_time": "2022-01-14T18:48:36.020Z"
   },
   {
    "duration": 21,
    "start_time": "2022-01-14T18:48:36.058Z"
   },
   {
    "duration": 18,
    "start_time": "2022-01-14T18:48:36.082Z"
   },
   {
    "duration": 5,
    "start_time": "2022-01-14T18:48:36.104Z"
   },
   {
    "duration": 10,
    "start_time": "2022-01-14T18:48:36.112Z"
   },
   {
    "duration": 44,
    "start_time": "2022-01-14T18:48:36.124Z"
   },
   {
    "duration": 22,
    "start_time": "2022-01-14T18:48:36.170Z"
   },
   {
    "duration": 7,
    "start_time": "2022-01-14T18:48:36.198Z"
   },
   {
    "duration": 58,
    "start_time": "2022-01-14T18:48:36.209Z"
   },
   {
    "duration": 8,
    "start_time": "2022-01-14T18:48:36.270Z"
   },
   {
    "duration": 1954,
    "start_time": "2022-01-14T18:48:36.281Z"
   },
   {
    "duration": 46,
    "start_time": "2022-01-14T18:48:38.238Z"
   },
   {
    "duration": 7,
    "start_time": "2022-01-14T18:48:38.286Z"
   },
   {
    "duration": 24,
    "start_time": "2022-01-14T18:48:38.296Z"
   },
   {
    "duration": 41,
    "start_time": "2022-01-14T18:48:38.323Z"
   },
   {
    "duration": 35,
    "start_time": "2022-01-14T18:48:38.367Z"
   },
   {
    "duration": 7,
    "start_time": "2022-01-14T18:48:38.404Z"
   },
   {
    "duration": 22,
    "start_time": "2022-01-14T18:48:38.414Z"
   },
   {
    "duration": 27,
    "start_time": "2022-01-14T18:48:38.462Z"
   },
   {
    "duration": 18,
    "start_time": "2022-01-14T18:48:38.492Z"
   },
   {
    "duration": 55,
    "start_time": "2022-01-14T18:48:38.513Z"
   },
   {
    "duration": 245,
    "start_time": "2022-01-14T18:48:38.570Z"
   },
   {
    "duration": 3,
    "start_time": "2022-01-14T18:48:38.822Z"
   },
   {
    "duration": 294,
    "start_time": "2022-01-14T18:48:38.830Z"
   },
   {
    "duration": 448,
    "start_time": "2022-01-14T18:48:39.127Z"
   },
   {
    "duration": 515,
    "start_time": "2022-01-14T18:48:39.579Z"
   },
   {
    "duration": 11,
    "start_time": "2022-01-14T18:48:40.097Z"
   },
   {
    "duration": 17,
    "start_time": "2022-01-14T18:48:40.111Z"
   },
   {
    "duration": 4,
    "start_time": "2022-01-14T18:48:40.164Z"
   },
   {
    "duration": 193,
    "start_time": "2022-01-14T18:48:40.171Z"
   },
   {
    "duration": 5,
    "start_time": "2022-01-14T18:48:40.367Z"
   },
   {
    "duration": 1893,
    "start_time": "2022-01-14T18:48:40.375Z"
   },
   {
    "duration": 421,
    "start_time": "2022-01-14T18:48:42.271Z"
   },
   {
    "duration": 4,
    "start_time": "2022-01-14T18:48:42.694Z"
   },
   {
    "duration": 2262,
    "start_time": "2022-01-14T18:48:42.701Z"
   },
   {
    "duration": 622,
    "start_time": "2022-01-14T18:48:44.967Z"
   },
   {
    "duration": 4,
    "start_time": "2022-01-14T18:48:45.593Z"
   },
   {
    "duration": 414,
    "start_time": "2022-01-14T18:48:45.601Z"
   },
   {
    "duration": 322,
    "start_time": "2022-01-14T18:48:46.018Z"
   },
   {
    "duration": 3,
    "start_time": "2022-01-14T18:48:46.342Z"
   },
   {
    "duration": 25,
    "start_time": "2022-01-14T18:48:46.347Z"
   },
   {
    "duration": 17,
    "start_time": "2022-01-14T18:48:46.375Z"
   },
   {
    "duration": 3,
    "start_time": "2022-01-14T18:48:46.394Z"
   },
   {
    "duration": 170,
    "start_time": "2022-01-14T18:48:46.400Z"
   },
   {
    "duration": 92,
    "start_time": "2022-01-14T18:48:46.574Z"
   },
   {
    "duration": 464,
    "start_time": "2022-01-14T18:48:46.671Z"
   },
   {
    "duration": 9,
    "start_time": "2022-01-14T18:48:47.137Z"
   },
   {
    "duration": 91652,
    "start_time": "2022-01-14T18:48:47.149Z"
   },
   {
    "duration": 444,
    "start_time": "2022-01-14T18:50:18.803Z"
   },
   {
    "duration": -743,
    "start_time": "2022-01-14T18:50:19.993Z"
   },
   {
    "duration": -751,
    "start_time": "2022-01-14T18:50:20.004Z"
   },
   {
    "duration": -758,
    "start_time": "2022-01-14T18:50:20.013Z"
   },
   {
    "duration": -766,
    "start_time": "2022-01-14T18:50:20.023Z"
   },
   {
    "duration": -772,
    "start_time": "2022-01-14T18:50:20.031Z"
   },
   {
    "duration": -779,
    "start_time": "2022-01-14T18:50:20.040Z"
   },
   {
    "duration": -790,
    "start_time": "2022-01-14T18:50:20.054Z"
   },
   {
    "duration": -800,
    "start_time": "2022-01-14T18:50:20.065Z"
   },
   {
    "duration": -808,
    "start_time": "2022-01-14T18:50:20.075Z"
   },
   {
    "duration": -817,
    "start_time": "2022-01-14T18:50:20.087Z"
   },
   {
    "duration": -828,
    "start_time": "2022-01-14T18:50:20.099Z"
   },
   {
    "duration": -834,
    "start_time": "2022-01-14T18:50:20.107Z"
   },
   {
    "duration": -841,
    "start_time": "2022-01-14T18:50:20.116Z"
   },
   {
    "duration": -848,
    "start_time": "2022-01-14T18:50:20.125Z"
   },
   {
    "duration": -854,
    "start_time": "2022-01-14T18:50:20.134Z"
   },
   {
    "duration": -861,
    "start_time": "2022-01-14T18:50:20.143Z"
   },
   {
    "duration": -879,
    "start_time": "2022-01-14T18:50:20.163Z"
   },
   {
    "duration": -885,
    "start_time": "2022-01-14T18:50:20.171Z"
   },
   {
    "duration": -892,
    "start_time": "2022-01-14T18:50:20.180Z"
   },
   {
    "duration": 1672,
    "start_time": "2022-01-14T18:51:56.828Z"
   },
   {
    "duration": 37,
    "start_time": "2022-01-14T18:51:58.504Z"
   },
   {
    "duration": 27,
    "start_time": "2022-01-14T18:51:58.544Z"
   },
   {
    "duration": 12,
    "start_time": "2022-01-14T18:51:58.574Z"
   },
   {
    "duration": 5,
    "start_time": "2022-01-14T18:51:58.589Z"
   },
   {
    "duration": 12,
    "start_time": "2022-01-14T18:51:58.596Z"
   },
   {
    "duration": 57,
    "start_time": "2022-01-14T18:51:58.611Z"
   },
   {
    "duration": 25,
    "start_time": "2022-01-14T18:51:58.674Z"
   },
   {
    "duration": 8,
    "start_time": "2022-01-14T18:51:58.704Z"
   },
   {
    "duration": 9,
    "start_time": "2022-01-14T18:51:58.714Z"
   },
   {
    "duration": 44,
    "start_time": "2022-01-14T18:51:58.725Z"
   },
   {
    "duration": 1915,
    "start_time": "2022-01-14T18:51:58.773Z"
   },
   {
    "duration": 35,
    "start_time": "2022-01-14T18:52:00.691Z"
   },
   {
    "duration": 38,
    "start_time": "2022-01-14T18:52:00.729Z"
   },
   {
    "duration": 28,
    "start_time": "2022-01-14T18:52:00.769Z"
   },
   {
    "duration": 98,
    "start_time": "2022-01-14T18:52:00.800Z"
   },
   {
    "duration": 42,
    "start_time": "2022-01-14T18:52:00.901Z"
   },
   {
    "duration": 8,
    "start_time": "2022-01-14T18:52:00.963Z"
   },
   {
    "duration": 19,
    "start_time": "2022-01-14T18:52:00.973Z"
   },
   {
    "duration": 73,
    "start_time": "2022-01-14T18:52:00.995Z"
   },
   {
    "duration": 19,
    "start_time": "2022-01-14T18:52:01.071Z"
   },
   {
    "duration": 24,
    "start_time": "2022-01-14T18:52:01.093Z"
   },
   {
    "duration": 272,
    "start_time": "2022-01-14T18:52:01.126Z"
   },
   {
    "duration": 4,
    "start_time": "2022-01-14T18:52:01.404Z"
   },
   {
    "duration": 308,
    "start_time": "2022-01-14T18:52:01.411Z"
   },
   {
    "duration": 452,
    "start_time": "2022-01-14T18:52:01.722Z"
   },
   {
    "duration": 506,
    "start_time": "2022-01-14T18:52:02.178Z"
   },
   {
    "duration": 10,
    "start_time": "2022-01-14T18:52:02.686Z"
   },
   {
    "duration": 15,
    "start_time": "2022-01-14T18:52:02.699Z"
   },
   {
    "duration": 4,
    "start_time": "2022-01-14T18:52:02.716Z"
   },
   {
    "duration": 101,
    "start_time": "2022-01-14T18:52:02.763Z"
   },
   {
    "duration": 95,
    "start_time": "2022-01-14T18:52:02.868Z"
   },
   {
    "duration": 1906,
    "start_time": "2022-01-14T18:52:02.966Z"
   },
   {
    "duration": 560,
    "start_time": "2022-01-14T18:52:04.876Z"
   },
   {
    "duration": 5,
    "start_time": "2022-01-14T18:52:05.439Z"
   },
   {
    "duration": 1648,
    "start_time": "2022-01-14T18:52:05.447Z"
   },
   {
    "duration": 622,
    "start_time": "2022-01-14T18:52:07.165Z"
   },
   {
    "duration": 5,
    "start_time": "2022-01-14T18:52:07.791Z"
   },
   {
    "duration": 242,
    "start_time": "2022-01-14T18:52:07.799Z"
   },
   {
    "duration": 329,
    "start_time": "2022-01-14T18:52:08.044Z"
   },
   {
    "duration": 4,
    "start_time": "2022-01-14T18:52:08.375Z"
   },
   {
    "duration": 16,
    "start_time": "2022-01-14T18:52:08.381Z"
   },
   {
    "duration": 15,
    "start_time": "2022-01-14T18:52:08.400Z"
   },
   {
    "duration": 4,
    "start_time": "2022-01-14T18:52:08.417Z"
   },
   {
    "duration": 140,
    "start_time": "2022-01-14T18:52:08.423Z"
   },
   {
    "duration": 6,
    "start_time": "2022-01-14T18:52:08.567Z"
   },
   {
    "duration": 451,
    "start_time": "2022-01-14T18:52:08.576Z"
   },
   {
    "duration": 8,
    "start_time": "2022-01-14T18:52:09.029Z"
   },
   {
    "duration": 106468,
    "start_time": "2022-01-14T18:52:09.040Z"
   },
   {
    "duration": 23,
    "start_time": "2022-01-14T18:53:55.511Z"
   },
   {
    "duration": 32,
    "start_time": "2022-01-14T18:53:55.536Z"
   },
   {
    "duration": 8,
    "start_time": "2022-01-14T18:53:55.570Z"
   },
   {
    "duration": 139533,
    "start_time": "2022-01-14T18:53:55.580Z"
   },
   {
    "duration": 25,
    "start_time": "2022-01-14T18:56:15.116Z"
   },
   {
    "duration": 538,
    "start_time": "2022-01-14T18:56:15.144Z"
   },
   {
    "duration": -793,
    "start_time": "2022-01-14T18:56:16.477Z"
   },
   {
    "duration": -803,
    "start_time": "2022-01-14T18:56:16.489Z"
   },
   {
    "duration": -812,
    "start_time": "2022-01-14T18:56:16.499Z"
   },
   {
    "duration": -819,
    "start_time": "2022-01-14T18:56:16.507Z"
   },
   {
    "duration": -822,
    "start_time": "2022-01-14T18:56:16.512Z"
   },
   {
    "duration": -829,
    "start_time": "2022-01-14T18:56:16.520Z"
   },
   {
    "duration": -832,
    "start_time": "2022-01-14T18:56:16.525Z"
   },
   {
    "duration": -838,
    "start_time": "2022-01-14T18:56:16.532Z"
   },
   {
    "duration": -842,
    "start_time": "2022-01-14T18:56:16.538Z"
   },
   {
    "duration": -845,
    "start_time": "2022-01-14T18:56:16.543Z"
   },
   {
    "duration": -848,
    "start_time": "2022-01-14T18:56:16.548Z"
   },
   {
    "duration": -853,
    "start_time": "2022-01-14T18:56:16.554Z"
   },
   {
    "duration": -857,
    "start_time": "2022-01-14T18:56:16.559Z"
   },
   {
    "duration": -862,
    "start_time": "2022-01-14T18:56:16.566Z"
   },
   {
    "duration": 5,
    "start_time": "2022-01-14T18:56:59.581Z"
   },
   {
    "duration": 4,
    "start_time": "2022-01-14T18:57:27.468Z"
   },
   {
    "duration": 184478,
    "start_time": "2022-01-14T18:57:32.225Z"
   },
   {
    "duration": 19,
    "start_time": "2022-01-14T19:00:40.984Z"
   },
   {
    "duration": 3,
    "start_time": "2022-01-14T19:00:41.631Z"
   },
   {
    "duration": 139961,
    "start_time": "2022-01-14T19:00:42.354Z"
   },
   {
    "duration": 26,
    "start_time": "2022-01-14T19:03:23.583Z"
   },
   {
    "duration": 4,
    "start_time": "2022-01-14T19:03:24.158Z"
   },
   {
    "duration": 15,
    "start_time": "2022-01-14T19:03:27.122Z"
   },
   {
    "duration": 6,
    "start_time": "2022-01-14T19:04:03.672Z"
   },
   {
    "duration": 312,
    "start_time": "2022-01-14T19:04:23.752Z"
   },
   {
    "duration": 388,
    "start_time": "2022-01-14T19:05:49.835Z"
   },
   {
    "duration": 290,
    "start_time": "2022-01-14T19:06:02.219Z"
   },
   {
    "duration": 317,
    "start_time": "2022-01-14T19:06:14.429Z"
   },
   {
    "duration": 308,
    "start_time": "2022-01-14T19:07:06.357Z"
   },
   {
    "duration": 310,
    "start_time": "2022-01-14T19:07:19.570Z"
   },
   {
    "duration": 307,
    "start_time": "2022-01-14T19:07:33.023Z"
   },
   {
    "duration": 18,
    "start_time": "2022-01-14T19:13:33.709Z"
   }
  ],
  "kernelspec": {
   "display_name": "Python 3 (ipykernel)",
   "language": "python",
   "name": "python3"
  },
  "language_info": {
   "codemirror_mode": {
    "name": "ipython",
    "version": 3
   },
   "file_extension": ".py",
   "mimetype": "text/x-python",
   "name": "python",
   "nbconvert_exporter": "python",
   "pygments_lexer": "ipython3",
   "version": "3.8.8"
  },
  "toc": {
   "base_numbering": 1,
   "nav_menu": {},
   "number_sections": true,
   "sideBar": true,
   "skip_h1_title": true,
   "title_cell": "Содержание",
   "title_sidebar": "Contents",
   "toc_cell": true,
   "toc_position": {
    "height": "calc(100% - 180px)",
    "left": "10px",
    "top": "150px",
    "width": "223.797px"
   },
   "toc_section_display": true,
   "toc_window_display": false
  }
 },
 "nbformat": 4,
 "nbformat_minor": 2
}
