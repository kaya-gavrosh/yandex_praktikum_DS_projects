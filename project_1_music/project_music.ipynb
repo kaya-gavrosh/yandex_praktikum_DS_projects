{
 "cells": [
  {
   "cell_type": "markdown",
   "metadata": {
    "id": "E0vqbgi9ay0H"
   },
   "source": [
    "# Яндекс.Музыка"
   ]
  },
  {
   "cell_type": "markdown",
   "metadata": {
    "id": "VUC88oWjTJw2"
   },
   "source": [
    "**Цель исследования** — проверить три гипотезы:\n",
    "1. Активность пользователей зависит от дня недели. Причём в Москве и Петербурге это проявляется по-разному.\n",
    "2. В понедельник утром в Москве преобладают одни жанры, а в Петербурге — другие. Так же и вечером пятницы преобладают разные жанры — в зависимости от города. \n",
    "3. Москва и Петербург предпочитают разные жанры музыки. В Москве чаще слушают поп-музыку, в Петербурге — русский рэп.\n",
    "\n",
    "**Ход исследования**\n",
    " 1. Обзор данных.\n",
    " 2. Предобработка данных.\n",
    " 3. Проверка гипотез.\n"
   ]
  },
  {
   "cell_type": "markdown",
   "metadata": {
    "id": "Ml1hmfXC_Zcs"
   },
   "source": [
    "## Обзор данных\n"
   ]
  },
  {
   "cell_type": "code",
   "execution_count": 1,
   "metadata": {
    "id": "AXN7PHPN_Zcs"
   },
   "outputs": [],
   "source": [
    "# импорт библиотеки pandas\n",
    "import pandas as pd"
   ]
  },
  {
   "cell_type": "code",
   "execution_count": 2,
   "metadata": {
    "id": "fFVu7vqh_Zct"
   },
   "outputs": [],
   "source": [
    "# чтение файла с данными и сохранение в df\n",
    "df = pd.read_csv('/datasets/yandex_music_project.csv')"
   ]
  },
  {
   "cell_type": "code",
   "execution_count": 3,
   "metadata": {
    "id": "oWTVX3gW_Zct"
   },
   "outputs": [
    {
     "data": {
      "text/html": [
       "<div>\n",
       "<style scoped>\n",
       "    .dataframe tbody tr th:only-of-type {\n",
       "        vertical-align: middle;\n",
       "    }\n",
       "\n",
       "    .dataframe tbody tr th {\n",
       "        vertical-align: top;\n",
       "    }\n",
       "\n",
       "    .dataframe thead th {\n",
       "        text-align: right;\n",
       "    }\n",
       "</style>\n",
       "<table border=\"1\" class=\"dataframe\">\n",
       "  <thead>\n",
       "    <tr style=\"text-align: right;\">\n",
       "      <th></th>\n",
       "      <th>userID</th>\n",
       "      <th>Track</th>\n",
       "      <th>artist</th>\n",
       "      <th>genre</th>\n",
       "      <th>City</th>\n",
       "      <th>time</th>\n",
       "      <th>Day</th>\n",
       "    </tr>\n",
       "  </thead>\n",
       "  <tbody>\n",
       "    <tr>\n",
       "      <td>0</td>\n",
       "      <td>FFB692EC</td>\n",
       "      <td>Kamigata To Boots</td>\n",
       "      <td>The Mass Missile</td>\n",
       "      <td>rock</td>\n",
       "      <td>Saint-Petersburg</td>\n",
       "      <td>20:28:33</td>\n",
       "      <td>Wednesday</td>\n",
       "    </tr>\n",
       "    <tr>\n",
       "      <td>1</td>\n",
       "      <td>55204538</td>\n",
       "      <td>Delayed Because of Accident</td>\n",
       "      <td>Andreas Rönnberg</td>\n",
       "      <td>rock</td>\n",
       "      <td>Moscow</td>\n",
       "      <td>14:07:09</td>\n",
       "      <td>Friday</td>\n",
       "    </tr>\n",
       "    <tr>\n",
       "      <td>2</td>\n",
       "      <td>20EC38</td>\n",
       "      <td>Funiculì funiculà</td>\n",
       "      <td>Mario Lanza</td>\n",
       "      <td>pop</td>\n",
       "      <td>Saint-Petersburg</td>\n",
       "      <td>20:58:07</td>\n",
       "      <td>Wednesday</td>\n",
       "    </tr>\n",
       "    <tr>\n",
       "      <td>3</td>\n",
       "      <td>A3DD03C9</td>\n",
       "      <td>Dragons in the Sunset</td>\n",
       "      <td>Fire + Ice</td>\n",
       "      <td>folk</td>\n",
       "      <td>Saint-Petersburg</td>\n",
       "      <td>08:37:09</td>\n",
       "      <td>Monday</td>\n",
       "    </tr>\n",
       "    <tr>\n",
       "      <td>4</td>\n",
       "      <td>E2DC1FAE</td>\n",
       "      <td>Soul People</td>\n",
       "      <td>Space Echo</td>\n",
       "      <td>dance</td>\n",
       "      <td>Moscow</td>\n",
       "      <td>08:34:34</td>\n",
       "      <td>Monday</td>\n",
       "    </tr>\n",
       "    <tr>\n",
       "      <td>5</td>\n",
       "      <td>842029A1</td>\n",
       "      <td>Преданная</td>\n",
       "      <td>IMPERVTOR</td>\n",
       "      <td>rusrap</td>\n",
       "      <td>Saint-Petersburg</td>\n",
       "      <td>13:09:41</td>\n",
       "      <td>Friday</td>\n",
       "    </tr>\n",
       "    <tr>\n",
       "      <td>6</td>\n",
       "      <td>4CB90AA5</td>\n",
       "      <td>True</td>\n",
       "      <td>Roman Messer</td>\n",
       "      <td>dance</td>\n",
       "      <td>Moscow</td>\n",
       "      <td>13:00:07</td>\n",
       "      <td>Wednesday</td>\n",
       "    </tr>\n",
       "    <tr>\n",
       "      <td>7</td>\n",
       "      <td>F03E1C1F</td>\n",
       "      <td>Feeling This Way</td>\n",
       "      <td>Polina Griffith</td>\n",
       "      <td>dance</td>\n",
       "      <td>Moscow</td>\n",
       "      <td>20:47:49</td>\n",
       "      <td>Wednesday</td>\n",
       "    </tr>\n",
       "    <tr>\n",
       "      <td>8</td>\n",
       "      <td>8FA1D3BE</td>\n",
       "      <td>И вновь продолжается бой</td>\n",
       "      <td>NaN</td>\n",
       "      <td>ruspop</td>\n",
       "      <td>Moscow</td>\n",
       "      <td>09:17:40</td>\n",
       "      <td>Friday</td>\n",
       "    </tr>\n",
       "    <tr>\n",
       "      <td>9</td>\n",
       "      <td>E772D5C0</td>\n",
       "      <td>Pessimist</td>\n",
       "      <td>NaN</td>\n",
       "      <td>dance</td>\n",
       "      <td>Saint-Petersburg</td>\n",
       "      <td>21:20:49</td>\n",
       "      <td>Wednesday</td>\n",
       "    </tr>\n",
       "  </tbody>\n",
       "</table>\n",
       "</div>"
      ],
      "text/plain": [
       "     userID                        Track            artist   genre  \\\n",
       "0  FFB692EC            Kamigata To Boots  The Mass Missile    rock   \n",
       "1  55204538  Delayed Because of Accident  Andreas Rönnberg    rock   \n",
       "2    20EC38            Funiculì funiculà       Mario Lanza     pop   \n",
       "3  A3DD03C9        Dragons in the Sunset        Fire + Ice    folk   \n",
       "4  E2DC1FAE                  Soul People        Space Echo   dance   \n",
       "5  842029A1                    Преданная         IMPERVTOR  rusrap   \n",
       "6  4CB90AA5                         True      Roman Messer   dance   \n",
       "7  F03E1C1F             Feeling This Way   Polina Griffith   dance   \n",
       "8  8FA1D3BE     И вновь продолжается бой               NaN  ruspop   \n",
       "9  E772D5C0                    Pessimist               NaN   dance   \n",
       "\n",
       "             City        time        Day  \n",
       "0  Saint-Petersburg  20:28:33  Wednesday  \n",
       "1            Moscow  14:07:09     Friday  \n",
       "2  Saint-Petersburg  20:58:07  Wednesday  \n",
       "3  Saint-Petersburg  08:37:09     Monday  \n",
       "4            Moscow  08:34:34     Monday  \n",
       "5  Saint-Petersburg  13:09:41     Friday  \n",
       "6            Moscow  13:00:07  Wednesday  \n",
       "7            Moscow  20:47:49  Wednesday  \n",
       "8            Moscow  09:17:40     Friday  \n",
       "9  Saint-Petersburg  21:20:49  Wednesday  "
      ]
     },
     "execution_count": 3,
     "metadata": {},
     "output_type": "execute_result"
    }
   ],
   "source": [
    "# получение первых 10 строк таблицы df\n",
    "df.head(10)"
   ]
  },
  {
   "cell_type": "code",
   "execution_count": 4,
   "metadata": {
    "id": "DSf2kIb-_Zct"
   },
   "outputs": [
    {
     "name": "stdout",
     "output_type": "stream",
     "text": [
      "<class 'pandas.core.frame.DataFrame'>\n",
      "RangeIndex: 65079 entries, 0 to 65078\n",
      "Data columns (total 7 columns):\n",
      "  userID    65079 non-null object\n",
      "Track       63848 non-null object\n",
      "artist      57876 non-null object\n",
      "genre       63881 non-null object\n",
      "  City      65079 non-null object\n",
      "time        65079 non-null object\n",
      "Day         65079 non-null object\n",
      "dtypes: object(7)\n",
      "memory usage: 3.5+ MB\n"
     ]
    }
   ],
   "source": [
    "# получение общей информации о данных в таблице df\n",
    "df.info()"
   ]
  },
  {
   "cell_type": "markdown",
   "metadata": {
    "id": "TaQ2Iwbr_Zct"
   },
   "source": [
    "Итак, в таблице семь столбцов. Тип данных во всех столбцах — `object`.\n",
    "\n",
    "Согласно документации к данным:\n",
    "* `userID` — идентификатор пользователя;\n",
    "* `Track` — название трека;  \n",
    "* `artist` — имя исполнителя;\n",
    "* `genre` — название жанра;\n",
    "* `City` — город пользователя;\n",
    "* `time` — время начала прослушивания;\n",
    "* `Day` — день недели.\n",
    "\n",
    "В названиях колонок видны три нарушения стиля:\n",
    "1. Строчные буквы сочетаются с прописными.\n",
    "2. Встречаются пробелы.\n",
    "3. Несколько слов в названии записаны в \"ВерблюжьемРегистре\".\n",
    "\n",
    "\n",
    "\n",
    "Количество значений в столбцах различается. Значит, в данных есть пропущенные значения.\n"
   ]
  },
  {
   "cell_type": "markdown",
   "metadata": {
    "id": "MCB6-dXG_Zct"
   },
   "source": [
    "**Выводы**\n",
    "\n",
    "В каждой строке таблицы — данные о прослушанном треке. Часть колонок описывает саму композицию: название, исполнителя и жанр. Остальные данные рассказывают о пользователе: из какого он города, когда он слушал музыку. \n",
    "\n",
    "Предварительно можно утверждать, что, данных достаточно для проверки гипотез. Но встречаются пропуски в данных, а в названиях колонок — расхождения с хорошим стилем.\n"
   ]
  },
  {
   "cell_type": "markdown",
   "metadata": {
    "id": "SjYF6Ub9_Zct"
   },
   "source": [
    "## Предобработка данных"
   ]
  },
  {
   "cell_type": "markdown",
   "metadata": {
    "id": "dIaKXr29_Zct"
   },
   "source": [
    "### Стиль заголовков"
   ]
  },
  {
   "cell_type": "code",
   "execution_count": 5,
   "metadata": {
    "id": "oKOTdF_Q_Zct"
   },
   "outputs": [
    {
     "data": {
      "text/plain": [
       "Index(['  userID', 'Track', 'artist', 'genre', '  City  ', 'time', 'Day'], dtype='object')"
      ]
     },
     "execution_count": 5,
     "metadata": {},
     "output_type": "execute_result"
    }
   ],
   "source": [
    "# перечень названий столбцов таблицы df\n",
    "df.columns"
   ]
  },
  {
   "cell_type": "code",
   "execution_count": 6,
   "metadata": {
    "id": "ISlFqs5y_Zct"
   },
   "outputs": [],
   "source": [
    "# переименование столбцов\n",
    "df = df.rename(columns={'  userID' : 'user_id', 'Track' : 'track', '  City  ' : 'city', 'Day' : 'day' })"
   ]
  },
  {
   "cell_type": "code",
   "execution_count": 7,
   "metadata": {
    "id": "d4NOAmTW_Zct"
   },
   "outputs": [
    {
     "data": {
      "text/plain": [
       "Index(['user_id', 'track', 'artist', 'genre', 'city', 'time', 'day'], dtype='object')"
      ]
     },
     "execution_count": 7,
     "metadata": {},
     "output_type": "execute_result"
    }
   ],
   "source": [
    "# проверка результатов - перечень названий столбцов\n",
    "df.columns"
   ]
  },
  {
   "cell_type": "markdown",
   "metadata": {
    "id": "5ISfbcfY_Zct"
   },
   "source": [
    "### Пропуски значений"
   ]
  },
  {
   "cell_type": "code",
   "execution_count": 8,
   "metadata": {
    "id": "RskX29qr_Zct"
   },
   "outputs": [
    {
     "data": {
      "text/plain": [
       "user_id       0\n",
       "track      1231\n",
       "artist     7203\n",
       "genre      1198\n",
       "city          0\n",
       "time          0\n",
       "day           0\n",
       "dtype: int64"
      ]
     },
     "execution_count": 8,
     "metadata": {},
     "output_type": "execute_result"
    }
   ],
   "source": [
    "# подсчёт пропусков\n",
    "df.isna().sum()"
   ]
  },
  {
   "cell_type": "code",
   "execution_count": 9,
   "metadata": {
    "id": "KplB5qWs_Zct"
   },
   "outputs": [],
   "source": [
    "# перебор названий столбцов в цикле и замена пропущенных значений на 'unknown'\n",
    "columns_to_replace = ['track', 'artist', 'genre']\n",
    "for column in columns_to_replace:\n",
    "    df[column] = df[column].fillna('unknown')"
   ]
  },
  {
   "cell_type": "code",
   "execution_count": 10,
   "metadata": {
    "id": "Tq4nYRX4_Zct"
   },
   "outputs": [
    {
     "data": {
      "text/plain": [
       "user_id    0\n",
       "track      0\n",
       "artist     0\n",
       "genre      0\n",
       "city       0\n",
       "time       0\n",
       "day        0\n",
       "dtype: int64"
      ]
     },
     "execution_count": 10,
     "metadata": {},
     "output_type": "execute_result"
    }
   ],
   "source": [
    "# подсчёт пропусков\n",
    "df.isna().sum()"
   ]
  },
  {
   "cell_type": "markdown",
   "metadata": {
    "id": "BWKRtBJ3_Zct"
   },
   "source": [
    "### Дубликаты"
   ]
  },
  {
   "cell_type": "code",
   "execution_count": 11,
   "metadata": {
    "id": "36eES_S0_Zct"
   },
   "outputs": [
    {
     "data": {
      "text/plain": [
       "3826"
      ]
     },
     "execution_count": 11,
     "metadata": {},
     "output_type": "execute_result"
    }
   ],
   "source": [
    "# подсчёт явных дубликатов\n",
    "df.duplicated().sum()"
   ]
  },
  {
   "cell_type": "code",
   "execution_count": 12,
   "metadata": {
    "id": "exFHq6tt_Zct"
   },
   "outputs": [],
   "source": [
    "# удаление явных дубликатов (с удалением старых индексов и формированием новых)\n",
    "df = df.drop_duplicates().reset_index(drop=True)"
   ]
  },
  {
   "cell_type": "code",
   "execution_count": 13,
   "metadata": {
    "id": "-8PuNWQ0_Zct"
   },
   "outputs": [
    {
     "data": {
      "text/plain": [
       "0"
      ]
     },
     "execution_count": 13,
     "metadata": {},
     "output_type": "execute_result"
    }
   ],
   "source": [
    "# проверка на отсутствие дубликатов\n",
    "df.duplicated().sum()"
   ]
  },
  {
   "cell_type": "code",
   "execution_count": 14,
   "metadata": {
    "id": "JIUcqzZN_Zct"
   },
   "outputs": [
    {
     "data": {
      "text/plain": [
       "array(['acid', 'acoustic', 'action', 'adult', 'africa', 'afrikaans',\n",
       "       'alternative', 'alternativepunk', 'ambient', 'americana',\n",
       "       'animated', 'anime', 'arabesk', 'arabic', 'arena',\n",
       "       'argentinetango', 'art', 'audiobook', 'author', 'avantgarde',\n",
       "       'axé', 'baile', 'balkan', 'beats', 'bigroom', 'black', 'bluegrass',\n",
       "       'blues', 'bollywood', 'bossa', 'brazilian', 'breakbeat', 'breaks',\n",
       "       'broadway', 'cantautori', 'cantopop', 'canzone', 'caribbean',\n",
       "       'caucasian', 'celtic', 'chamber', 'chanson', 'children', 'chill',\n",
       "       'chinese', 'choral', 'christian', 'christmas', 'classical',\n",
       "       'classicmetal', 'club', 'colombian', 'comedy', 'conjazz',\n",
       "       'contemporary', 'country', 'cuban', 'dance', 'dancehall',\n",
       "       'dancepop', 'dark', 'death', 'deep', 'deutschrock', 'deutschspr',\n",
       "       'dirty', 'disco', 'dnb', 'documentary', 'downbeat', 'downtempo',\n",
       "       'drum', 'dub', 'dubstep', 'eastern', 'easy', 'electronic',\n",
       "       'electropop', 'emo', 'entehno', 'epicmetal', 'estrada', 'ethnic',\n",
       "       'eurofolk', 'european', 'experimental', 'extrememetal', 'fado',\n",
       "       'fairytail', 'film', 'fitness', 'flamenco', 'folk', 'folklore',\n",
       "       'folkmetal', 'folkrock', 'folktronica', 'forró', 'frankreich',\n",
       "       'französisch', 'french', 'funk', 'future', 'gangsta', 'garage',\n",
       "       'german', 'ghazal', 'gitarre', 'glitch', 'gospel', 'gothic',\n",
       "       'grime', 'grunge', 'gypsy', 'handsup', \"hard'n'heavy\", 'hardcore',\n",
       "       'hardstyle', 'hardtechno', 'hip', 'hip-hop', 'hiphop',\n",
       "       'historisch', 'holiday', 'hop', 'horror', 'house', 'hymn', 'idm',\n",
       "       'independent', 'indian', 'indie', 'indipop', 'industrial',\n",
       "       'inspirational', 'instrumental', 'international', 'irish', 'jam',\n",
       "       'japanese', 'jazz', 'jewish', 'jpop', 'jungle', 'k-pop',\n",
       "       'karadeniz', 'karaoke', 'kayokyoku', 'korean', 'laiko', 'latin',\n",
       "       'latino', 'leftfield', 'local', 'lounge', 'loungeelectronic',\n",
       "       'lovers', 'malaysian', 'mandopop', 'marschmusik', 'meditative',\n",
       "       'mediterranean', 'melodic', 'metal', 'metalcore', 'mexican',\n",
       "       'middle', 'minimal', 'miscellaneous', 'modern', 'mood', 'mpb',\n",
       "       'muslim', 'native', 'neoklassik', 'neue', 'new', 'newage',\n",
       "       'newwave', 'nu', 'nujazz', 'numetal', 'oceania', 'old', 'opera',\n",
       "       'orchestral', 'other', 'piano', 'podcasts', 'pop', 'popdance',\n",
       "       'popelectronic', 'popeurodance', 'poprussian', 'post',\n",
       "       'posthardcore', 'postrock', 'power', 'progmetal', 'progressive',\n",
       "       'psychedelic', 'punjabi', 'punk', 'quebecois', 'ragga', 'ram',\n",
       "       'rancheras', 'rap', 'rave', 'reggae', 'reggaeton', 'regional',\n",
       "       'relax', 'religious', 'retro', 'rhythm', 'rnb', 'rnr', 'rock',\n",
       "       'rockabilly', 'rockalternative', 'rockindie', 'rockother',\n",
       "       'romance', 'roots', 'ruspop', 'rusrap', 'rusrock', 'russian',\n",
       "       'salsa', 'samba', 'scenic', 'schlager', 'self', 'sertanejo',\n",
       "       'shanson', 'shoegazing', 'showtunes', 'singer', 'ska', 'skarock',\n",
       "       'slow', 'smooth', 'soft', 'soul', 'soulful', 'sound', 'soundtrack',\n",
       "       'southern', 'specialty', 'speech', 'spiritual', 'sport',\n",
       "       'stonerrock', 'surf', 'swing', 'synthpop', 'synthrock',\n",
       "       'sängerportrait', 'tango', 'tanzorchester', 'taraftar', 'tatar',\n",
       "       'tech', 'techno', 'teen', 'thrash', 'top', 'traditional',\n",
       "       'tradjazz', 'trance', 'tribal', 'trip', 'triphop', 'tropical',\n",
       "       'türk', 'türkçe', 'ukrrock', 'unknown', 'urban', 'uzbek',\n",
       "       'variété', 'vi', 'videogame', 'vocal', 'western', 'world',\n",
       "       'worldbeat', 'ïîï', 'электроника'], dtype=object)"
      ]
     },
     "execution_count": 14,
     "metadata": {},
     "output_type": "execute_result"
    }
   ],
   "source": [
    "# Просмотр уникальных названий жанров\n",
    "df['genre'].sort_values().unique()"
   ]
  },
  {
   "cell_type": "code",
   "execution_count": 15,
   "metadata": {
    "id": "ErNDkmns_Zct"
   },
   "outputs": [],
   "source": [
    "# Функция для замены неявных дубликатов\n",
    "def replace_wrong_genres(wrong_genres, correct_genre):\n",
    "    for wrong_genre in wrong_genres:\n",
    "        df['genre'] = df['genre'].replace(wrong_genre, correct_genre)"
   ]
  },
  {
   "cell_type": "code",
   "execution_count": 16,
   "metadata": {
    "id": "YN5i2hpmSo09"
   },
   "outputs": [],
   "source": [
    "# Устранение неявных дубликатов\n",
    "replace_wrong_genres(['hip', 'hop', 'hip-hop'], 'hiphop')"
   ]
  },
  {
   "cell_type": "code",
   "execution_count": 17,
   "metadata": {
    "id": "wvixALnFG15m"
   },
   "outputs": [
    {
     "data": {
      "text/plain": [
       "array(['acid', 'acoustic', 'action', 'adult', 'africa', 'afrikaans',\n",
       "       'alternative', 'alternativepunk', 'ambient', 'americana',\n",
       "       'animated', 'anime', 'arabesk', 'arabic', 'arena',\n",
       "       'argentinetango', 'art', 'audiobook', 'author', 'avantgarde',\n",
       "       'axé', 'baile', 'balkan', 'beats', 'bigroom', 'black', 'bluegrass',\n",
       "       'blues', 'bollywood', 'bossa', 'brazilian', 'breakbeat', 'breaks',\n",
       "       'broadway', 'cantautori', 'cantopop', 'canzone', 'caribbean',\n",
       "       'caucasian', 'celtic', 'chamber', 'chanson', 'children', 'chill',\n",
       "       'chinese', 'choral', 'christian', 'christmas', 'classical',\n",
       "       'classicmetal', 'club', 'colombian', 'comedy', 'conjazz',\n",
       "       'contemporary', 'country', 'cuban', 'dance', 'dancehall',\n",
       "       'dancepop', 'dark', 'death', 'deep', 'deutschrock', 'deutschspr',\n",
       "       'dirty', 'disco', 'dnb', 'documentary', 'downbeat', 'downtempo',\n",
       "       'drum', 'dub', 'dubstep', 'eastern', 'easy', 'electronic',\n",
       "       'electropop', 'emo', 'entehno', 'epicmetal', 'estrada', 'ethnic',\n",
       "       'eurofolk', 'european', 'experimental', 'extrememetal', 'fado',\n",
       "       'fairytail', 'film', 'fitness', 'flamenco', 'folk', 'folklore',\n",
       "       'folkmetal', 'folkrock', 'folktronica', 'forró', 'frankreich',\n",
       "       'französisch', 'french', 'funk', 'future', 'gangsta', 'garage',\n",
       "       'german', 'ghazal', 'gitarre', 'glitch', 'gospel', 'gothic',\n",
       "       'grime', 'grunge', 'gypsy', 'handsup', \"hard'n'heavy\", 'hardcore',\n",
       "       'hardstyle', 'hardtechno', 'hiphop', 'historisch', 'holiday',\n",
       "       'horror', 'house', 'hymn', 'idm', 'independent', 'indian', 'indie',\n",
       "       'indipop', 'industrial', 'inspirational', 'instrumental',\n",
       "       'international', 'irish', 'jam', 'japanese', 'jazz', 'jewish',\n",
       "       'jpop', 'jungle', 'k-pop', 'karadeniz', 'karaoke', 'kayokyoku',\n",
       "       'korean', 'laiko', 'latin', 'latino', 'leftfield', 'local',\n",
       "       'lounge', 'loungeelectronic', 'lovers', 'malaysian', 'mandopop',\n",
       "       'marschmusik', 'meditative', 'mediterranean', 'melodic', 'metal',\n",
       "       'metalcore', 'mexican', 'middle', 'minimal', 'miscellaneous',\n",
       "       'modern', 'mood', 'mpb', 'muslim', 'native', 'neoklassik', 'neue',\n",
       "       'new', 'newage', 'newwave', 'nu', 'nujazz', 'numetal', 'oceania',\n",
       "       'old', 'opera', 'orchestral', 'other', 'piano', 'podcasts', 'pop',\n",
       "       'popdance', 'popelectronic', 'popeurodance', 'poprussian', 'post',\n",
       "       'posthardcore', 'postrock', 'power', 'progmetal', 'progressive',\n",
       "       'psychedelic', 'punjabi', 'punk', 'quebecois', 'ragga', 'ram',\n",
       "       'rancheras', 'rap', 'rave', 'reggae', 'reggaeton', 'regional',\n",
       "       'relax', 'religious', 'retro', 'rhythm', 'rnb', 'rnr', 'rock',\n",
       "       'rockabilly', 'rockalternative', 'rockindie', 'rockother',\n",
       "       'romance', 'roots', 'ruspop', 'rusrap', 'rusrock', 'russian',\n",
       "       'salsa', 'samba', 'scenic', 'schlager', 'self', 'sertanejo',\n",
       "       'shanson', 'shoegazing', 'showtunes', 'singer', 'ska', 'skarock',\n",
       "       'slow', 'smooth', 'soft', 'soul', 'soulful', 'sound', 'soundtrack',\n",
       "       'southern', 'specialty', 'speech', 'spiritual', 'sport',\n",
       "       'stonerrock', 'surf', 'swing', 'synthpop', 'synthrock',\n",
       "       'sängerportrait', 'tango', 'tanzorchester', 'taraftar', 'tatar',\n",
       "       'tech', 'techno', 'teen', 'thrash', 'top', 'traditional',\n",
       "       'tradjazz', 'trance', 'tribal', 'trip', 'triphop', 'tropical',\n",
       "       'türk', 'türkçe', 'ukrrock', 'unknown', 'urban', 'uzbek',\n",
       "       'variété', 'vi', 'videogame', 'vocal', 'western', 'world',\n",
       "       'worldbeat', 'ïîï', 'электроника'], dtype=object)"
      ]
     },
     "execution_count": 17,
     "metadata": {},
     "output_type": "execute_result"
    }
   ],
   "source": [
    "# Проверка на неявные дубликаты\n",
    "df['genre'].sort_values().unique()"
   ]
  },
  {
   "cell_type": "code",
   "execution_count": 18,
   "metadata": {},
   "outputs": [],
   "source": [
    "# Замена названия жанра 'электроника' на 'electronic'\n",
    "replace_wrong_genres(['электроника'], 'electronic')"
   ]
  },
  {
   "cell_type": "code",
   "execution_count": 19,
   "metadata": {},
   "outputs": [
    {
     "data": {
      "text/plain": [
       "0"
      ]
     },
     "execution_count": 19,
     "metadata": {},
     "output_type": "execute_result"
    }
   ],
   "source": [
    "# Проверка на отсутствие дубликата\n",
    "df[df['genre'] == 'электроника']['user_id'].count()"
   ]
  },
  {
   "cell_type": "markdown",
   "metadata": {
    "id": "WttZHXH0SqKk"
   },
   "source": [
    "## Проверка гипотез"
   ]
  },
  {
   "cell_type": "markdown",
   "metadata": {
    "id": "Im936VVi_Zcu"
   },
   "source": [
    "### Сравнение поведения пользователей двух столиц"
   ]
  },
  {
   "cell_type": "markdown",
   "metadata": {
    "id": "nwt_MuaL_Zcu"
   },
   "source": [
    "Первая гипотеза утверждает, что пользователи по-разному слушают музыку в Москве и Санкт-Петербурге. Проверем это предположение по данным о трёх днях недели — понедельнике, среде и пятнице."
   ]
  },
  {
   "cell_type": "code",
   "execution_count": 20,
   "metadata": {
    "id": "0_Qs96oh_Zcu"
   },
   "outputs": [
    {
     "data": {
      "text/plain": [
       "city\n",
       "Moscow              42741\n",
       "Saint-Petersburg    18512\n",
       "Name: user_id, dtype: int64"
      ]
     },
     "execution_count": 20,
     "metadata": {},
     "output_type": "execute_result"
    }
   ],
   "source": [
    "# Подсчёт прослушиваний в каждом городе\n",
    "df.groupby('city')['user_id'].count()"
   ]
  },
  {
   "cell_type": "code",
   "execution_count": 21,
   "metadata": {
    "id": "uZMKjiJz_Zcu"
   },
   "outputs": [
    {
     "data": {
      "text/plain": [
       "day\n",
       "Friday       21840\n",
       "Monday       21354\n",
       "Wednesday    18059\n",
       "Name: user_id, dtype: int64"
      ]
     },
     "execution_count": 21,
     "metadata": {},
     "output_type": "execute_result"
    }
   ],
   "source": [
    "# Подсчёт прослушиваний в каждый из трёх дней\n",
    "df.groupby('day')['user_id'].count()"
   ]
  },
  {
   "cell_type": "markdown",
   "metadata": {
    "id": "cC2tNrlL_Zcu"
   },
   "source": [
    "В среднем пользователи из двух городов менее активны по средам."
   ]
  },
  {
   "cell_type": "code",
   "execution_count": 22,
   "metadata": {
    "id": "Nz3GdQB1_Zcu"
   },
   "outputs": [],
   "source": [
    "def number_tracks(day, city):\n",
    "    track_list = df[(df['day'] == day) & (df['city'] == city)]\n",
    "    track_list_count = track_list['user_id'].count()\n",
    "    return track_list_count\n",
    "    "
   ]
  },
  {
   "cell_type": "code",
   "execution_count": 23,
   "metadata": {
    "id": "rJcRATNQ_Zcu"
   },
   "outputs": [
    {
     "name": "stdout",
     "output_type": "stream",
     "text": [
      "Количество прослушиваний в Москве по понедельникам: 15740\n"
     ]
    }
   ],
   "source": [
    "# количество прослушиваний в Москве по понедельникам\n",
    "print('Количество прослушиваний в Москве по понедельникам:', number_tracks('Monday', 'Moscow'))"
   ]
  },
  {
   "cell_type": "code",
   "execution_count": 24,
   "metadata": {
    "id": "hq_ncZ5T_Zcu"
   },
   "outputs": [
    {
     "name": "stdout",
     "output_type": "stream",
     "text": [
      "Количество прослушиваний в Санкт-Петербурге по понедельникам: 5614\n"
     ]
    }
   ],
   "source": [
    "# количество прослушиваний в Санкт-Петербурге по понедельникам\n",
    "print('Количество прослушиваний в Санкт-Петербурге по понедельникам:', number_tracks('Monday', 'Saint-Petersburg'))"
   ]
  },
  {
   "cell_type": "code",
   "execution_count": 25,
   "metadata": {
    "id": "_NTy2VPU_Zcu"
   },
   "outputs": [
    {
     "name": "stdout",
     "output_type": "stream",
     "text": [
      "Количество прослушиваний в Москве по средам: 11056\n"
     ]
    }
   ],
   "source": [
    "# количество прослушиваний в Москве по средам\n",
    "print('Количество прослушиваний в Москве по средам:', number_tracks('Wednesday', 'Moscow'))"
   ]
  },
  {
   "cell_type": "code",
   "execution_count": 26,
   "metadata": {
    "id": "j2y3TAwo_Zcu"
   },
   "outputs": [
    {
     "name": "stdout",
     "output_type": "stream",
     "text": [
      "Количество прослушиваний в Санкт-Петербурге по средам: 7003\n"
     ]
    }
   ],
   "source": [
    "# количество прослушиваний в Санкт-Петербурге по средам\n",
    "print('Количество прослушиваний в Санкт-Петербурге по средам:', number_tracks('Wednesday', 'Saint-Petersburg'))"
   ]
  },
  {
   "cell_type": "code",
   "execution_count": 27,
   "metadata": {
    "id": "vYDw5u_K_Zcu"
   },
   "outputs": [
    {
     "name": "stdout",
     "output_type": "stream",
     "text": [
      "Количество прослушиваний в Москве по пятницам: 15945\n"
     ]
    }
   ],
   "source": [
    "# количество прослушиваний в Москве по пятницам\n",
    "print('Количество прослушиваний в Москве по пятницам:', number_tracks('Friday', 'Moscow'))"
   ]
  },
  {
   "cell_type": "code",
   "execution_count": 28,
   "metadata": {
    "id": "8_yzFtW3_Zcu",
    "scrolled": true
   },
   "outputs": [
    {
     "name": "stdout",
     "output_type": "stream",
     "text": [
      "Количество прослушиваний в Санкт-Петербурге по пятницам: 5895\n"
     ]
    }
   ],
   "source": [
    "# количество прослушиваний в Санкт-Петербурге по пятницам\n",
    "print('Количество прослушиваний в Санкт-Петербурге по пятницам:', number_tracks('Friday', 'Saint-Petersburg'))"
   ]
  },
  {
   "cell_type": "code",
   "execution_count": 29,
   "metadata": {
    "id": "APAcLpOr_Zcu"
   },
   "outputs": [
    {
     "data": {
      "text/html": [
       "<div>\n",
       "<style scoped>\n",
       "    .dataframe tbody tr th:only-of-type {\n",
       "        vertical-align: middle;\n",
       "    }\n",
       "\n",
       "    .dataframe tbody tr th {\n",
       "        vertical-align: top;\n",
       "    }\n",
       "\n",
       "    .dataframe thead th {\n",
       "        text-align: right;\n",
       "    }\n",
       "</style>\n",
       "<table border=\"1\" class=\"dataframe\">\n",
       "  <thead>\n",
       "    <tr style=\"text-align: right;\">\n",
       "      <th></th>\n",
       "      <th>city</th>\n",
       "      <th>monday</th>\n",
       "      <th>wednesday</th>\n",
       "      <th>friday</th>\n",
       "    </tr>\n",
       "  </thead>\n",
       "  <tbody>\n",
       "    <tr>\n",
       "      <td>0</td>\n",
       "      <td>Moscow</td>\n",
       "      <td>15740</td>\n",
       "      <td>11056</td>\n",
       "      <td>15945</td>\n",
       "    </tr>\n",
       "    <tr>\n",
       "      <td>1</td>\n",
       "      <td>Saint-Petersburg</td>\n",
       "      <td>5614</td>\n",
       "      <td>7003</td>\n",
       "      <td>5895</td>\n",
       "    </tr>\n",
       "  </tbody>\n",
       "</table>\n",
       "</div>"
      ],
      "text/plain": [
       "               city  monday  wednesday  friday\n",
       "0            Moscow   15740      11056   15945\n",
       "1  Saint-Petersburg    5614       7003    5895"
      ]
     },
     "execution_count": 29,
     "metadata": {},
     "output_type": "execute_result"
    }
   ],
   "source": [
    "# Таблица с результатами\n",
    "columns = ['city', 'monday', 'wednesday', 'friday']\n",
    "data = [\n",
    "    ['Moscow', 15740, 11056, 15945],\n",
    "    ['Saint-Petersburg', 5614, 7003, 5895]\n",
    "]\n",
    "\n",
    "table_hyp1 = pd.DataFrame(data = data, columns = columns)\n",
    "table_hyp1"
   ]
  },
  {
   "cell_type": "markdown",
   "metadata": {
    "id": "-EgPIHYu_Zcu"
   },
   "source": [
    "**Выводы**\n",
    "\n",
    "Данные показывают разницу поведения пользователей:\n",
    "\n",
    "- В Москве пик прослушиваний приходится на понедельник и пятницу, а в среду заметен спад.\n",
    "- В Петербурге, наоборот, больше слушают музыку по средам. Активность в понедельник и пятницу здесь почти в равной мере уступает среде.\n",
    "\n",
    "Значит, данные говорят в пользу первой гипотезы."
   ]
  },
  {
   "cell_type": "markdown",
   "metadata": {
    "id": "atZAxtq4_Zcu"
   },
   "source": [
    "### Музыка в начале и в конце недели"
   ]
  },
  {
   "cell_type": "markdown",
   "metadata": {
    "id": "eXrQqXFH_Zcu"
   },
   "source": [
    "Согласно второй гипотезе, утром в понедельник в Москве преобладают одни жанры, а в Петербурге — другие. Так же и вечером пятницы преобладают разные жанры — в зависимости от города."
   ]
  },
  {
   "cell_type": "code",
   "execution_count": 30,
   "metadata": {
    "id": "qeaFfM_P_Zcu"
   },
   "outputs": [],
   "source": [
    "moscow_general = df[df['city'] == 'Moscow']"
   ]
  },
  {
   "cell_type": "code",
   "execution_count": 31,
   "metadata": {
    "id": "ORaVRKto_Zcu"
   },
   "outputs": [],
   "source": [
    "spb_general = df[df['city'] == 'Saint-Petersburg']"
   ]
  },
  {
   "cell_type": "code",
   "execution_count": 32,
   "metadata": {
    "id": "laJT9BYl_Zcu"
   },
   "outputs": [],
   "source": [
    "def genre_weekday(table, day, time1, time2):\n",
    "    genre_df = table[(table['day'] == day) & (table['time'] > time1) & (table['time'] < time2)]\n",
    "    genre_df_count = genre_df.groupby('genre')['genre'].count()\n",
    "    genre_df_sorted = genre_df_count.sort_values(ascending=False)\n",
    "    return genre_df_sorted.head(10)"
   ]
  },
  {
   "cell_type": "code",
   "execution_count": 33,
   "metadata": {
    "id": "yz7itPUQ_Zcu"
   },
   "outputs": [
    {
     "data": {
      "text/plain": [
       "genre\n",
       "pop            781\n",
       "dance          549\n",
       "electronic     480\n",
       "rock           474\n",
       "hiphop         286\n",
       "ruspop         186\n",
       "world          181\n",
       "rusrap         175\n",
       "alternative    164\n",
       "unknown        161\n",
       "Name: genre, dtype: int64"
      ]
     },
     "execution_count": 33,
     "metadata": {},
     "output_type": "execute_result"
    }
   ],
   "source": [
    "genre_weekday(moscow_general, 'Monday', '07:00', '11:00')"
   ]
  },
  {
   "cell_type": "code",
   "execution_count": 34,
   "metadata": {
    "id": "kwUcHPdy_Zcu"
   },
   "outputs": [
    {
     "data": {
      "text/plain": [
       "genre\n",
       "pop            218\n",
       "dance          182\n",
       "rock           162\n",
       "electronic     147\n",
       "hiphop          80\n",
       "ruspop          64\n",
       "alternative     58\n",
       "rusrap          55\n",
       "jazz            44\n",
       "classical       40\n",
       "Name: genre, dtype: int64"
      ]
     },
     "execution_count": 34,
     "metadata": {},
     "output_type": "execute_result"
    }
   ],
   "source": [
    "genre_weekday(spb_general, 'Monday', '07:00', '11:00')"
   ]
  },
  {
   "cell_type": "code",
   "execution_count": 35,
   "metadata": {
    "id": "EzXVRE1o_Zcu"
   },
   "outputs": [
    {
     "data": {
      "text/plain": [
       "genre\n",
       "pop            713\n",
       "rock           517\n",
       "dance          495\n",
       "electronic     482\n",
       "hiphop         273\n",
       "world          208\n",
       "ruspop         170\n",
       "alternative    163\n",
       "classical      163\n",
       "rusrap         142\n",
       "Name: genre, dtype: int64"
      ]
     },
     "execution_count": 35,
     "metadata": {},
     "output_type": "execute_result"
    }
   ],
   "source": [
    "# вызов функции для вечера пятницы в Москве\n",
    "genre_weekday(moscow_general, 'Friday', '17:00', '23:00')"
   ]
  },
  {
   "cell_type": "code",
   "execution_count": 36,
   "metadata": {
    "id": "JZaEKu5v_Zcu"
   },
   "outputs": [
    {
     "data": {
      "text/plain": [
       "genre\n",
       "pop            256\n",
       "rock           216\n",
       "electronic     216\n",
       "dance          210\n",
       "hiphop          97\n",
       "alternative     63\n",
       "jazz            61\n",
       "classical       60\n",
       "rusrap          59\n",
       "world           54\n",
       "Name: genre, dtype: int64"
      ]
     },
     "execution_count": 36,
     "metadata": {},
     "output_type": "execute_result"
    }
   ],
   "source": [
    "# вызов функции для вечера пятницы в Петербурге\n",
    "genre_weekday(spb_general, 'Friday', '17:00', '23:00')"
   ]
  },
  {
   "cell_type": "markdown",
   "metadata": {
    "id": "wrCe4MNX_Zcu"
   },
   "source": [
    "**Выводы**\n",
    "\n",
    "1. В Москве и Петербурге слушают похожую музыку. Единственное отличие — в московский рейтинг вошёл жанр “world”, а в петербургский — джаз и классика.\n",
    "\n",
    "2. В Москве пропущенных значений оказалось так много, что значение `'unknown'` заняло десятое место среди самых популярных жанров. Значит, пропущенные значения занимают существенную долю в данных и угрожают достоверности исследования.\n",
    "\n",
    "Вечер пятницы не меняет эту картину. Некоторые жанры поднимаются немного выше, другие спускаются, но в целом топ-10 остаётся тем же самым.\n",
    "\n",
    "Таким образом, вторая гипотеза подтвердилась лишь частично:\n",
    "* Пользователи слушают похожую музыку в начале недели и в конце.\n",
    "* Разница между Москвой и Петербургом не слишком выражена. В Москве чаще слушают русскую популярную музыку, в Петербурге — джаз.\n",
    "\n",
    "Однако пропуски в данных ставят под сомнение этот результат. В Москве их так много, что рейтинг топ-10 мог бы выглядеть иначе, если бы не утерянные  данные о жанрах."
   ]
  },
  {
   "cell_type": "markdown",
   "metadata": {
    "id": "JolODAqr_Zcu"
   },
   "source": [
    "### Жанровые предпочтения в Москве и Петербурге\n",
    "\n",
    "Гипотеза: Петербург — столица рэпа, музыку этого жанра там слушают чаще, чем в Москве.  А Москва — город контрастов, в котором, тем не менее, преобладает поп-музыка."
   ]
  },
  {
   "cell_type": "code",
   "execution_count": 37,
   "metadata": {
    "id": "r19lIPke_Zcu"
   },
   "outputs": [],
   "source": [
    "moscow_genres = moscow_general.groupby('genre')['genre'].count().sort_values(ascending=False)"
   ]
  },
  {
   "cell_type": "code",
   "execution_count": 38,
   "metadata": {
    "id": "WhCSooF8_Zcv"
   },
   "outputs": [
    {
     "data": {
      "text/plain": [
       "genre\n",
       "pop            5892\n",
       "dance          4435\n",
       "rock           3965\n",
       "electronic     3786\n",
       "hiphop         2096\n",
       "classical      1616\n",
       "world          1432\n",
       "alternative    1379\n",
       "ruspop         1372\n",
       "rusrap         1161\n",
       "Name: genre, dtype: int64"
      ]
     },
     "execution_count": 38,
     "metadata": {},
     "output_type": "execute_result"
    }
   ],
   "source": [
    "moscow_genres.head(10)"
   ]
  },
  {
   "cell_type": "code",
   "execution_count": 39,
   "metadata": {
    "id": "gluLIpE7_Zcv"
   },
   "outputs": [],
   "source": [
    "spb_genres = spb_general.groupby('genre')['genre'].count().sort_values(ascending = False)"
   ]
  },
  {
   "cell_type": "code",
   "execution_count": 40,
   "metadata": {
    "id": "uaGJHjVU_Zcv"
   },
   "outputs": [
    {
     "data": {
      "text/plain": [
       "genre\n",
       "pop            2431\n",
       "dance          1932\n",
       "rock           1879\n",
       "electronic     1737\n",
       "hiphop          960\n",
       "alternative     649\n",
       "classical       646\n",
       "rusrap          564\n",
       "ruspop          538\n",
       "world           515\n",
       "Name: genre, dtype: int64"
      ]
     },
     "execution_count": 40,
     "metadata": {},
     "output_type": "execute_result"
    }
   ],
   "source": [
    "spb_genres.head(10)"
   ]
  },
  {
   "cell_type": "markdown",
   "metadata": {
    "id": "RY51YJYu_Zcv"
   },
   "source": [
    "**Выводы**"
   ]
  },
  {
   "cell_type": "markdown",
   "metadata": {
    "id": "nVhnJEm__Zcv"
   },
   "source": [
    "Гипотеза частично подтвердилась:\n",
    "* Поп-музыка — самый популярный жанр в Москве, как и предполагала гипотеза. Более того, в топ-10 жанров встречается близкий жанр — русская популярная музыка.\n",
    "* Вопреки ожиданиям, рэп одинаково популярен в Москве и Петербурге. \n"
   ]
  }
 ],
 "metadata": {
  "ExecuteTimeLog": [
   {
    "duration": 869,
    "start_time": "2021-10-05T09:22:54.944Z"
   },
   {
    "duration": 3,
    "start_time": "2021-10-05T09:23:05.342Z"
   },
   {
    "duration": 137,
    "start_time": "2021-10-05T09:23:05.347Z"
   },
   {
    "duration": 16,
    "start_time": "2021-10-05T09:23:05.486Z"
   },
   {
    "duration": 25,
    "start_time": "2021-10-05T09:24:47.287Z"
   },
   {
    "duration": 259,
    "start_time": "2021-10-05T11:28:35.472Z"
   },
   {
    "duration": 3,
    "start_time": "2021-10-05T11:28:44.215Z"
   },
   {
    "duration": 177,
    "start_time": "2021-10-05T11:28:44.220Z"
   },
   {
    "duration": 12,
    "start_time": "2021-10-05T11:28:44.399Z"
   },
   {
    "duration": 39,
    "start_time": "2021-10-05T11:28:44.413Z"
   },
   {
    "duration": 211,
    "start_time": "2021-10-05T11:28:47.140Z"
   },
   {
    "duration": 4,
    "start_time": "2021-10-05T11:29:32.654Z"
   },
   {
    "duration": 24,
    "start_time": "2021-10-05T11:35:04.802Z"
   },
   {
    "duration": 4,
    "start_time": "2021-10-05T11:35:13.812Z"
   },
   {
    "duration": 332,
    "start_time": "2021-10-05T11:37:29.165Z"
   },
   {
    "duration": 229,
    "start_time": "2021-10-05T11:37:45.005Z"
   },
   {
    "duration": 24,
    "start_time": "2021-10-05T11:37:56.049Z"
   },
   {
    "duration": 45,
    "start_time": "2021-10-05T11:38:08.974Z"
   },
   {
    "duration": 23,
    "start_time": "2021-10-05T11:38:18.830Z"
   },
   {
    "duration": 23,
    "start_time": "2021-10-05T11:38:24.896Z"
   },
   {
    "duration": 3,
    "start_time": "2021-10-05T11:44:27.118Z"
   },
   {
    "duration": 190,
    "start_time": "2021-10-05T11:44:27.123Z"
   },
   {
    "duration": 9,
    "start_time": "2021-10-05T11:44:27.315Z"
   },
   {
    "duration": 35,
    "start_time": "2021-10-05T11:44:27.326Z"
   },
   {
    "duration": 16,
    "start_time": "2021-10-05T11:44:27.362Z"
   },
   {
    "duration": 30,
    "start_time": "2021-10-05T11:44:27.380Z"
   },
   {
    "duration": 5,
    "start_time": "2021-10-05T11:44:27.412Z"
   },
   {
    "duration": 38,
    "start_time": "2021-10-05T11:44:27.419Z"
   },
   {
    "duration": 25,
    "start_time": "2021-10-05T11:44:27.459Z"
   },
   {
    "duration": 25,
    "start_time": "2021-10-05T11:44:29.741Z"
   },
   {
    "duration": 214,
    "start_time": "2021-10-05T11:44:58.051Z"
   },
   {
    "duration": 239,
    "start_time": "2021-10-05T11:45:04.995Z"
   },
   {
    "duration": 59,
    "start_time": "2021-10-05T11:45:17.500Z"
   },
   {
    "duration": 83,
    "start_time": "2021-10-05T11:46:43.487Z"
   },
   {
    "duration": 66,
    "start_time": "2021-10-05T11:47:15.214Z"
   },
   {
    "duration": 77,
    "start_time": "2021-10-05T11:47:30.495Z"
   },
   {
    "duration": 54,
    "start_time": "2021-10-05T11:47:44.571Z"
   },
   {
    "duration": 35,
    "start_time": "2021-10-05T11:53:21.315Z"
   },
   {
    "duration": 38,
    "start_time": "2021-10-05T11:53:38.793Z"
   },
   {
    "duration": 38,
    "start_time": "2021-10-05T11:53:57.530Z"
   },
   {
    "duration": 37,
    "start_time": "2021-10-05T11:55:06.183Z"
   },
   {
    "duration": 41,
    "start_time": "2021-10-05T11:55:22.201Z"
   },
   {
    "duration": 40,
    "start_time": "2021-10-05T11:55:48.312Z"
   },
   {
    "duration": 44,
    "start_time": "2021-10-05T11:56:07.100Z"
   },
   {
    "duration": 65,
    "start_time": "2021-10-05T11:56:21.983Z"
   },
   {
    "duration": 67,
    "start_time": "2021-10-05T11:56:24.319Z"
   },
   {
    "duration": 207,
    "start_time": "2021-10-05T11:56:38.782Z"
   },
   {
    "duration": 39,
    "start_time": "2021-10-05T11:56:48.952Z"
   },
   {
    "duration": 41,
    "start_time": "2021-10-05T12:00:14.166Z"
   },
   {
    "duration": 2,
    "start_time": "2021-10-05T12:11:58.342Z"
   },
   {
    "duration": 146,
    "start_time": "2021-10-05T12:11:58.346Z"
   },
   {
    "duration": 9,
    "start_time": "2021-10-05T12:11:58.494Z"
   },
   {
    "duration": 26,
    "start_time": "2021-10-05T12:11:58.505Z"
   },
   {
    "duration": 10,
    "start_time": "2021-10-05T12:11:58.532Z"
   },
   {
    "duration": 17,
    "start_time": "2021-10-05T12:11:58.549Z"
   },
   {
    "duration": 4,
    "start_time": "2021-10-05T12:11:58.568Z"
   },
   {
    "duration": 26,
    "start_time": "2021-10-05T12:11:58.573Z"
   },
   {
    "duration": 20,
    "start_time": "2021-10-05T12:11:58.601Z"
   },
   {
    "duration": 49,
    "start_time": "2021-10-05T12:11:58.623Z"
   },
   {
    "duration": 58,
    "start_time": "2021-10-05T12:11:58.674Z"
   },
   {
    "duration": 80,
    "start_time": "2021-10-05T12:11:58.734Z"
   },
   {
    "duration": 64,
    "start_time": "2021-10-05T12:11:58.816Z"
   },
   {
    "duration": 40,
    "start_time": "2021-10-05T12:11:58.882Z"
   },
   {
    "duration": 95,
    "start_time": "2021-10-05T12:11:58.924Z"
   },
   {
    "duration": 613,
    "start_time": "2021-10-05T12:11:58.407Z"
   },
   {
    "duration": 4,
    "start_time": "2021-10-05T12:12:05.221Z"
   },
   {
    "duration": 210,
    "start_time": "2021-10-05T12:12:07.647Z"
   },
   {
    "duration": 461,
    "start_time": "2021-10-05T12:12:28.013Z"
   },
   {
    "duration": 3,
    "start_time": "2021-10-05T12:12:34.201Z"
   },
   {
    "duration": 146,
    "start_time": "2021-10-05T12:12:34.206Z"
   },
   {
    "duration": 10,
    "start_time": "2021-10-05T12:12:34.354Z"
   },
   {
    "duration": 27,
    "start_time": "2021-10-05T12:12:34.366Z"
   },
   {
    "duration": 7,
    "start_time": "2021-10-05T12:12:34.395Z"
   },
   {
    "duration": 20,
    "start_time": "2021-10-05T12:12:34.403Z"
   },
   {
    "duration": 3,
    "start_time": "2021-10-05T12:12:34.425Z"
   },
   {
    "duration": 40,
    "start_time": "2021-10-05T12:12:34.431Z"
   },
   {
    "duration": 19,
    "start_time": "2021-10-05T12:12:34.473Z"
   },
   {
    "duration": 22,
    "start_time": "2021-10-05T12:12:34.494Z"
   },
   {
    "duration": 75,
    "start_time": "2021-10-05T12:12:34.517Z"
   },
   {
    "duration": 70,
    "start_time": "2021-10-05T12:12:34.593Z"
   },
   {
    "duration": 50,
    "start_time": "2021-10-05T12:12:34.665Z"
   },
   {
    "duration": 58,
    "start_time": "2021-10-05T12:12:34.717Z"
   },
   {
    "duration": 4,
    "start_time": "2021-10-05T12:12:34.776Z"
   },
   {
    "duration": 434,
    "start_time": "2021-10-05T12:12:34.781Z"
   },
   {
    "duration": 3,
    "start_time": "2021-10-05T12:13:23.610Z"
   },
   {
    "duration": 674,
    "start_time": "2021-10-05T12:13:26.414Z"
   },
   {
    "duration": 43,
    "start_time": "2021-10-05T12:18:11.920Z"
   },
   {
    "duration": 39,
    "start_time": "2021-10-05T12:18:24.054Z"
   },
   {
    "duration": 42,
    "start_time": "2021-10-05T12:18:28.444Z"
   },
   {
    "duration": 40,
    "start_time": "2021-10-05T12:18:40.355Z"
   },
   {
    "duration": 42,
    "start_time": "2021-10-05T12:18:45.350Z"
   },
   {
    "duration": 2,
    "start_time": "2021-10-05T12:20:36.306Z"
   },
   {
    "duration": 153,
    "start_time": "2021-10-05T12:20:36.310Z"
   },
   {
    "duration": 10,
    "start_time": "2021-10-05T12:20:36.465Z"
   },
   {
    "duration": 26,
    "start_time": "2021-10-05T12:20:36.476Z"
   },
   {
    "duration": 4,
    "start_time": "2021-10-05T12:20:36.503Z"
   },
   {
    "duration": 40,
    "start_time": "2021-10-05T12:20:36.509Z"
   },
   {
    "duration": 4,
    "start_time": "2021-10-05T12:20:36.552Z"
   },
   {
    "duration": 26,
    "start_time": "2021-10-05T12:20:36.557Z"
   },
   {
    "duration": 18,
    "start_time": "2021-10-05T12:20:36.584Z"
   },
   {
    "duration": 24,
    "start_time": "2021-10-05T12:20:36.604Z"
   },
   {
    "duration": 60,
    "start_time": "2021-10-05T12:20:36.650Z"
   },
   {
    "duration": 84,
    "start_time": "2021-10-05T12:20:36.712Z"
   },
   {
    "duration": 62,
    "start_time": "2021-10-05T12:20:36.798Z"
   },
   {
    "duration": 40,
    "start_time": "2021-10-05T12:20:36.862Z"
   },
   {
    "duration": 3,
    "start_time": "2021-10-05T12:20:36.904Z"
   },
   {
    "duration": 9,
    "start_time": "2021-10-05T12:20:36.908Z"
   },
   {
    "duration": 265,
    "start_time": "2021-10-05T12:23:13.023Z"
   },
   {
    "duration": 3,
    "start_time": "2021-10-05T12:23:15.737Z"
   },
   {
    "duration": 160,
    "start_time": "2021-10-05T12:23:15.742Z"
   },
   {
    "duration": 10,
    "start_time": "2021-10-05T12:23:15.905Z"
   },
   {
    "duration": 41,
    "start_time": "2021-10-05T12:23:15.917Z"
   },
   {
    "duration": 4,
    "start_time": "2021-10-05T12:23:15.960Z"
   },
   {
    "duration": 25,
    "start_time": "2021-10-05T12:23:15.966Z"
   },
   {
    "duration": 4,
    "start_time": "2021-10-05T12:23:15.993Z"
   },
   {
    "duration": 50,
    "start_time": "2021-10-05T12:23:15.999Z"
   },
   {
    "duration": 18,
    "start_time": "2021-10-05T12:23:16.052Z"
   },
   {
    "duration": 29,
    "start_time": "2021-10-05T12:23:16.072Z"
   },
   {
    "duration": 83,
    "start_time": "2021-10-05T12:23:16.103Z"
   },
   {
    "duration": 81,
    "start_time": "2021-10-05T12:23:16.188Z"
   },
   {
    "duration": 61,
    "start_time": "2021-10-05T12:23:16.271Z"
   },
   {
    "duration": 54,
    "start_time": "2021-10-05T12:23:16.334Z"
   },
   {
    "duration": 2,
    "start_time": "2021-10-05T12:23:16.390Z"
   },
   {
    "duration": 1435,
    "start_time": "2021-10-05T12:23:16.394Z"
   },
   {
    "duration": 611,
    "start_time": "2021-10-05T12:23:17.220Z"
   },
   {
    "duration": 3,
    "start_time": "2021-10-05T12:25:18.921Z"
   },
   {
    "duration": 168,
    "start_time": "2021-10-05T12:25:18.926Z"
   },
   {
    "duration": 10,
    "start_time": "2021-10-05T12:25:19.097Z"
   },
   {
    "duration": 41,
    "start_time": "2021-10-05T12:25:19.109Z"
   },
   {
    "duration": 3,
    "start_time": "2021-10-05T12:25:19.152Z"
   },
   {
    "duration": 27,
    "start_time": "2021-10-05T12:25:19.157Z"
   },
   {
    "duration": 4,
    "start_time": "2021-10-05T12:25:19.185Z"
   },
   {
    "duration": 27,
    "start_time": "2021-10-05T12:25:19.190Z"
   },
   {
    "duration": 43,
    "start_time": "2021-10-05T12:25:19.220Z"
   },
   {
    "duration": 25,
    "start_time": "2021-10-05T12:25:19.265Z"
   },
   {
    "duration": 77,
    "start_time": "2021-10-05T12:25:19.292Z"
   },
   {
    "duration": 79,
    "start_time": "2021-10-05T12:25:19.371Z"
   },
   {
    "duration": 57,
    "start_time": "2021-10-05T12:25:19.452Z"
   },
   {
    "duration": 53,
    "start_time": "2021-10-05T12:25:19.511Z"
   },
   {
    "duration": 3,
    "start_time": "2021-10-05T12:25:19.565Z"
   },
   {
    "duration": 17,
    "start_time": "2021-10-05T12:25:19.570Z"
   },
   {
    "duration": 245,
    "start_time": "2021-10-05T12:25:21.892Z"
   },
   {
    "duration": 4,
    "start_time": "2021-10-05T12:26:23.368Z"
   },
   {
    "duration": 41,
    "start_time": "2021-10-05T12:26:43.652Z"
   },
   {
    "duration": 42,
    "start_time": "2021-10-05T12:27:00.773Z"
   },
   {
    "duration": 2,
    "start_time": "2021-10-05T12:27:04.174Z"
   },
   {
    "duration": 173,
    "start_time": "2021-10-05T12:27:04.178Z"
   },
   {
    "duration": 11,
    "start_time": "2021-10-05T12:27:04.353Z"
   },
   {
    "duration": 29,
    "start_time": "2021-10-05T12:27:04.366Z"
   },
   {
    "duration": 8,
    "start_time": "2021-10-05T12:27:04.397Z"
   },
   {
    "duration": 43,
    "start_time": "2021-10-05T12:27:04.406Z"
   },
   {
    "duration": 4,
    "start_time": "2021-10-05T12:27:04.451Z"
   },
   {
    "duration": 27,
    "start_time": "2021-10-05T12:27:04.457Z"
   },
   {
    "duration": 23,
    "start_time": "2021-10-05T12:27:04.486Z"
   },
   {
    "duration": 40,
    "start_time": "2021-10-05T12:27:04.510Z"
   },
   {
    "duration": 61,
    "start_time": "2021-10-05T12:27:04.552Z"
   },
   {
    "duration": 90,
    "start_time": "2021-10-05T12:27:04.615Z"
   },
   {
    "duration": 65,
    "start_time": "2021-10-05T12:27:04.707Z"
   },
   {
    "duration": 41,
    "start_time": "2021-10-05T12:27:04.774Z"
   },
   {
    "duration": 3,
    "start_time": "2021-10-05T12:27:04.817Z"
   },
   {
    "duration": 30,
    "start_time": "2021-10-05T12:27:04.822Z"
   },
   {
    "duration": 42,
    "start_time": "2021-10-05T12:27:06.348Z"
   },
   {
    "duration": 3,
    "start_time": "2021-10-05T12:29:31.755Z"
   },
   {
    "duration": 172,
    "start_time": "2021-10-05T12:29:31.760Z"
   },
   {
    "duration": 11,
    "start_time": "2021-10-05T12:29:31.934Z"
   },
   {
    "duration": 28,
    "start_time": "2021-10-05T12:29:31.947Z"
   },
   {
    "duration": 4,
    "start_time": "2021-10-05T12:29:31.977Z"
   },
   {
    "duration": 28,
    "start_time": "2021-10-05T12:29:31.982Z"
   },
   {
    "duration": 3,
    "start_time": "2021-10-05T12:29:32.012Z"
   },
   {
    "duration": 52,
    "start_time": "2021-10-05T12:29:32.017Z"
   },
   {
    "duration": 20,
    "start_time": "2021-10-05T12:29:32.071Z"
   },
   {
    "duration": 26,
    "start_time": "2021-10-05T12:29:32.093Z"
   },
   {
    "duration": 90,
    "start_time": "2021-10-05T12:29:32.121Z"
   },
   {
    "duration": 90,
    "start_time": "2021-10-05T12:29:32.213Z"
   },
   {
    "duration": 69,
    "start_time": "2021-10-05T12:29:32.305Z"
   },
   {
    "duration": 43,
    "start_time": "2021-10-05T12:29:32.376Z"
   },
   {
    "duration": 4,
    "start_time": "2021-10-05T12:29:32.421Z"
   },
   {
    "duration": 433,
    "start_time": "2021-10-05T12:29:32.427Z"
   },
   {
    "duration": 5,
    "start_time": "2021-10-05T12:39:52.341Z"
   },
   {
    "duration": 3,
    "start_time": "2021-10-05T12:39:56.028Z"
   },
   {
    "duration": 166,
    "start_time": "2021-10-05T12:39:56.034Z"
   },
   {
    "duration": 11,
    "start_time": "2021-10-05T12:39:56.203Z"
   },
   {
    "duration": 45,
    "start_time": "2021-10-05T12:39:56.217Z"
   },
   {
    "duration": 7,
    "start_time": "2021-10-05T12:39:56.264Z"
   },
   {
    "duration": 48,
    "start_time": "2021-10-05T12:39:56.273Z"
   },
   {
    "duration": 5,
    "start_time": "2021-10-05T12:39:56.324Z"
   },
   {
    "duration": 34,
    "start_time": "2021-10-05T12:39:56.331Z"
   },
   {
    "duration": 30,
    "start_time": "2021-10-05T12:39:56.366Z"
   },
   {
    "duration": 26,
    "start_time": "2021-10-05T12:39:56.397Z"
   },
   {
    "duration": 72,
    "start_time": "2021-10-05T12:39:56.425Z"
   },
   {
    "duration": 85,
    "start_time": "2021-10-05T12:39:56.499Z"
   },
   {
    "duration": 63,
    "start_time": "2021-10-05T12:39:56.586Z"
   },
   {
    "duration": 41,
    "start_time": "2021-10-05T12:39:56.651Z"
   },
   {
    "duration": 7,
    "start_time": "2021-10-05T12:39:56.694Z"
   },
   {
    "duration": 559,
    "start_time": "2021-10-05T12:39:56.702Z"
   },
   {
    "duration": 583,
    "start_time": "2021-10-05T12:39:56.680Z"
   },
   {
    "duration": 3,
    "start_time": "2021-10-05T12:42:07.601Z"
   },
   {
    "duration": 161,
    "start_time": "2021-10-05T12:42:07.606Z"
   },
   {
    "duration": 10,
    "start_time": "2021-10-05T12:42:07.770Z"
   },
   {
    "duration": 27,
    "start_time": "2021-10-05T12:42:07.782Z"
   },
   {
    "duration": 3,
    "start_time": "2021-10-05T12:42:07.811Z"
   },
   {
    "duration": 48,
    "start_time": "2021-10-05T12:42:07.816Z"
   },
   {
    "duration": 4,
    "start_time": "2021-10-05T12:42:07.866Z"
   },
   {
    "duration": 31,
    "start_time": "2021-10-05T12:42:07.872Z"
   },
   {
    "duration": 20,
    "start_time": "2021-10-05T12:42:07.905Z"
   },
   {
    "duration": 44,
    "start_time": "2021-10-05T12:42:07.927Z"
   },
   {
    "duration": 63,
    "start_time": "2021-10-05T12:42:07.973Z"
   },
   {
    "duration": 74,
    "start_time": "2021-10-05T12:42:08.050Z"
   },
   {
    "duration": 71,
    "start_time": "2021-10-05T12:42:08.126Z"
   },
   {
    "duration": 51,
    "start_time": "2021-10-05T12:42:08.199Z"
   },
   {
    "duration": 3,
    "start_time": "2021-10-05T12:42:08.252Z"
   },
   {
    "duration": 14,
    "start_time": "2021-10-05T12:42:08.257Z"
   },
   {
    "duration": 5,
    "start_time": "2021-10-05T12:42:10.175Z"
   },
   {
    "duration": 41,
    "start_time": "2021-10-05T12:42:37.139Z"
   },
   {
    "duration": 3,
    "start_time": "2021-10-05T12:42:45.283Z"
   },
   {
    "duration": 167,
    "start_time": "2021-10-05T12:42:45.288Z"
   },
   {
    "duration": 11,
    "start_time": "2021-10-05T12:42:45.457Z"
   },
   {
    "duration": 28,
    "start_time": "2021-10-05T12:42:45.470Z"
   },
   {
    "duration": 4,
    "start_time": "2021-10-05T12:42:45.500Z"
   },
   {
    "duration": 47,
    "start_time": "2021-10-05T12:42:45.506Z"
   },
   {
    "duration": 4,
    "start_time": "2021-10-05T12:42:45.555Z"
   },
   {
    "duration": 32,
    "start_time": "2021-10-05T12:42:45.561Z"
   },
   {
    "duration": 53,
    "start_time": "2021-10-05T12:42:45.596Z"
   },
   {
    "duration": 35,
    "start_time": "2021-10-05T12:42:45.652Z"
   },
   {
    "duration": 82,
    "start_time": "2021-10-05T12:42:45.688Z"
   },
   {
    "duration": 86,
    "start_time": "2021-10-05T12:42:45.771Z"
   },
   {
    "duration": 58,
    "start_time": "2021-10-05T12:42:45.859Z"
   },
   {
    "duration": 55,
    "start_time": "2021-10-05T12:42:45.919Z"
   },
   {
    "duration": 3,
    "start_time": "2021-10-05T12:42:45.975Z"
   },
   {
    "duration": 19,
    "start_time": "2021-10-05T12:42:45.980Z"
   },
   {
    "duration": 41,
    "start_time": "2021-10-05T12:42:47.439Z"
   },
   {
    "duration": 40,
    "start_time": "2021-10-05T12:43:20.749Z"
   },
   {
    "duration": 3,
    "start_time": "2021-10-05T12:43:58.086Z"
   },
   {
    "duration": 178,
    "start_time": "2021-10-05T12:43:58.092Z"
   },
   {
    "duration": 9,
    "start_time": "2021-10-05T12:43:58.272Z"
   },
   {
    "duration": 40,
    "start_time": "2021-10-05T12:43:58.283Z"
   },
   {
    "duration": 14,
    "start_time": "2021-10-05T12:43:58.325Z"
   },
   {
    "duration": 46,
    "start_time": "2021-10-05T12:43:58.340Z"
   },
   {
    "duration": 4,
    "start_time": "2021-10-05T12:43:58.389Z"
   },
   {
    "duration": 31,
    "start_time": "2021-10-05T12:43:58.395Z"
   },
   {
    "duration": 21,
    "start_time": "2021-10-05T12:43:58.427Z"
   },
   {
    "duration": 25,
    "start_time": "2021-10-05T12:43:58.450Z"
   },
   {
    "duration": 74,
    "start_time": "2021-10-05T12:43:58.477Z"
   },
   {
    "duration": 71,
    "start_time": "2021-10-05T12:43:58.552Z"
   },
   {
    "duration": 67,
    "start_time": "2021-10-05T12:43:58.625Z"
   },
   {
    "duration": 56,
    "start_time": "2021-10-05T12:43:58.694Z"
   },
   {
    "duration": 3,
    "start_time": "2021-10-05T12:43:58.752Z"
   },
   {
    "duration": 12,
    "start_time": "2021-10-05T12:43:58.756Z"
   },
   {
    "duration": 40,
    "start_time": "2021-10-05T12:44:02.220Z"
   },
   {
    "duration": 2,
    "start_time": "2021-10-05T12:45:24.578Z"
   },
   {
    "duration": 177,
    "start_time": "2021-10-05T12:45:24.582Z"
   },
   {
    "duration": 12,
    "start_time": "2021-10-05T12:45:24.761Z"
   },
   {
    "duration": 27,
    "start_time": "2021-10-05T12:45:24.776Z"
   },
   {
    "duration": 4,
    "start_time": "2021-10-05T12:45:24.806Z"
   },
   {
    "duration": 52,
    "start_time": "2021-10-05T12:45:24.812Z"
   },
   {
    "duration": 5,
    "start_time": "2021-10-05T12:45:24.866Z"
   },
   {
    "duration": 25,
    "start_time": "2021-10-05T12:45:24.873Z"
   },
   {
    "duration": 18,
    "start_time": "2021-10-05T12:45:24.901Z"
   },
   {
    "duration": 45,
    "start_time": "2021-10-05T12:45:24.921Z"
   },
   {
    "duration": 64,
    "start_time": "2021-10-05T12:45:24.968Z"
   },
   {
    "duration": 127,
    "start_time": "2021-10-05T12:45:25.050Z"
   },
   {
    "duration": 92,
    "start_time": "2021-10-05T12:45:25.179Z"
   },
   {
    "duration": 43,
    "start_time": "2021-10-05T12:45:25.274Z"
   },
   {
    "duration": 3,
    "start_time": "2021-10-05T12:45:25.319Z"
   },
   {
    "duration": 33,
    "start_time": "2021-10-05T12:45:25.325Z"
   },
   {
    "duration": 44,
    "start_time": "2021-10-05T12:45:25.360Z"
   },
   {
    "duration": 37,
    "start_time": "2021-10-05T12:51:50.979Z"
   },
   {
    "duration": 12,
    "start_time": "2021-10-05T12:52:10.732Z"
   },
   {
    "duration": 250,
    "start_time": "2021-10-05T12:55:39.777Z"
   },
   {
    "duration": 35,
    "start_time": "2021-10-05T12:55:57.684Z"
   },
   {
    "duration": 13,
    "start_time": "2021-10-05T12:56:22.475Z"
   },
   {
    "duration": 312,
    "start_time": "2021-10-05T12:56:41.366Z"
   },
   {
    "duration": 13,
    "start_time": "2021-10-05T12:56:52.238Z"
   },
   {
    "duration": 3,
    "start_time": "2021-10-05T14:04:29.857Z"
   },
   {
    "duration": 165,
    "start_time": "2021-10-05T14:04:29.862Z"
   },
   {
    "duration": 22,
    "start_time": "2021-10-05T14:04:30.029Z"
   },
   {
    "duration": 32,
    "start_time": "2021-10-05T14:04:30.053Z"
   },
   {
    "duration": 5,
    "start_time": "2021-10-05T14:04:30.087Z"
   },
   {
    "duration": 23,
    "start_time": "2021-10-05T14:04:30.094Z"
   },
   {
    "duration": 28,
    "start_time": "2021-10-05T14:04:30.121Z"
   },
   {
    "duration": 26,
    "start_time": "2021-10-05T14:04:30.152Z"
   },
   {
    "duration": 37,
    "start_time": "2021-10-05T14:04:30.180Z"
   },
   {
    "duration": 30,
    "start_time": "2021-10-05T14:04:30.219Z"
   },
   {
    "duration": 70,
    "start_time": "2021-10-05T14:04:30.250Z"
   },
   {
    "duration": 79,
    "start_time": "2021-10-05T14:04:30.322Z"
   },
   {
    "duration": 65,
    "start_time": "2021-10-05T14:04:30.403Z"
   },
   {
    "duration": 39,
    "start_time": "2021-10-05T14:04:30.470Z"
   },
   {
    "duration": 3,
    "start_time": "2021-10-05T14:04:30.511Z"
   },
   {
    "duration": 28,
    "start_time": "2021-10-05T14:04:30.515Z"
   },
   {
    "duration": 56,
    "start_time": "2021-10-05T14:04:30.545Z"
   },
   {
    "duration": 12,
    "start_time": "2021-10-05T14:04:30.603Z"
   },
   {
    "duration": 13,
    "start_time": "2021-10-05T14:04:30.619Z"
   },
   {
    "duration": 16,
    "start_time": "2021-10-05T14:04:30.634Z"
   },
   {
    "duration": 239,
    "start_time": "2021-10-05T14:04:30.652Z"
   },
   {
    "duration": 542,
    "start_time": "2021-10-05T14:04:30.351Z"
   },
   {
    "duration": 538,
    "start_time": "2021-10-05T14:04:30.356Z"
   },
   {
    "duration": 536,
    "start_time": "2021-10-05T14:04:30.359Z"
   },
   {
    "duration": 534,
    "start_time": "2021-10-05T14:04:30.362Z"
   },
   {
    "duration": 532,
    "start_time": "2021-10-05T14:04:30.365Z"
   },
   {
    "duration": 2,
    "start_time": "2021-10-05T14:04:59.424Z"
   },
   {
    "duration": 171,
    "start_time": "2021-10-05T14:04:59.428Z"
   },
   {
    "duration": 10,
    "start_time": "2021-10-05T14:04:59.601Z"
   },
   {
    "duration": 27,
    "start_time": "2021-10-05T14:04:59.613Z"
   },
   {
    "duration": 4,
    "start_time": "2021-10-05T14:04:59.649Z"
   },
   {
    "duration": 20,
    "start_time": "2021-10-05T14:04:59.655Z"
   },
   {
    "duration": 4,
    "start_time": "2021-10-05T14:04:59.677Z"
   },
   {
    "duration": 27,
    "start_time": "2021-10-05T14:04:59.683Z"
   },
   {
    "duration": 44,
    "start_time": "2021-10-05T14:04:59.713Z"
   },
   {
    "duration": 25,
    "start_time": "2021-10-05T14:04:59.759Z"
   },
   {
    "duration": 71,
    "start_time": "2021-10-05T14:04:59.786Z"
   },
   {
    "duration": 69,
    "start_time": "2021-10-05T14:04:59.859Z"
   },
   {
    "duration": 68,
    "start_time": "2021-10-05T14:04:59.929Z"
   },
   {
    "duration": 57,
    "start_time": "2021-10-05T14:04:59.998Z"
   },
   {
    "duration": 3,
    "start_time": "2021-10-05T14:05:00.057Z"
   },
   {
    "duration": 22,
    "start_time": "2021-10-05T14:05:00.062Z"
   },
   {
    "duration": 55,
    "start_time": "2021-10-05T14:05:00.085Z"
   },
   {
    "duration": 14,
    "start_time": "2021-10-05T14:05:00.143Z"
   },
   {
    "duration": 14,
    "start_time": "2021-10-05T14:05:00.159Z"
   },
   {
    "duration": 4,
    "start_time": "2021-10-05T14:05:00.175Z"
   },
   {
    "duration": 28,
    "start_time": "2021-10-05T14:05:00.181Z"
   },
   {
    "duration": 20,
    "start_time": "2021-10-05T14:05:00.211Z"
   },
   {
    "duration": 17,
    "start_time": "2021-10-05T14:05:00.249Z"
   },
   {
    "duration": 25,
    "start_time": "2021-10-05T14:05:00.268Z"
   },
   {
    "duration": 25,
    "start_time": "2021-10-05T14:05:00.295Z"
   },
   {
    "duration": 34,
    "start_time": "2021-10-05T14:05:00.322Z"
   },
   {
    "duration": 38,
    "start_time": "2021-10-05T14:07:46.441Z"
   },
   {
    "duration": 44,
    "start_time": "2021-10-05T14:07:56.020Z"
   },
   {
    "duration": 44,
    "start_time": "2021-10-05T14:08:24.847Z"
   },
   {
    "duration": 74,
    "start_time": "2021-10-05T14:09:35.954Z"
   },
   {
    "duration": 9,
    "start_time": "2021-10-05T14:12:08.985Z"
   },
   {
    "duration": 2,
    "start_time": "2021-10-05T14:14:53.252Z"
   },
   {
    "duration": 166,
    "start_time": "2021-10-05T14:14:53.257Z"
   },
   {
    "duration": 11,
    "start_time": "2021-10-05T14:14:53.425Z"
   },
   {
    "duration": 26,
    "start_time": "2021-10-05T14:14:53.450Z"
   },
   {
    "duration": 7,
    "start_time": "2021-10-05T14:14:53.478Z"
   },
   {
    "duration": 18,
    "start_time": "2021-10-05T14:14:53.487Z"
   },
   {
    "duration": 4,
    "start_time": "2021-10-05T14:14:53.507Z"
   },
   {
    "duration": 47,
    "start_time": "2021-10-05T14:14:53.513Z"
   },
   {
    "duration": 24,
    "start_time": "2021-10-05T14:14:53.561Z"
   },
   {
    "duration": 24,
    "start_time": "2021-10-05T14:14:53.587Z"
   },
   {
    "duration": 79,
    "start_time": "2021-10-05T14:14:53.613Z"
   },
   {
    "duration": 76,
    "start_time": "2021-10-05T14:14:53.693Z"
   },
   {
    "duration": 51,
    "start_time": "2021-10-05T14:14:53.771Z"
   },
   {
    "duration": 49,
    "start_time": "2021-10-05T14:14:53.824Z"
   },
   {
    "duration": 3,
    "start_time": "2021-10-05T14:14:53.874Z"
   },
   {
    "duration": 12,
    "start_time": "2021-10-05T14:14:53.879Z"
   },
   {
    "duration": 39,
    "start_time": "2021-10-05T14:14:53.893Z"
   },
   {
    "duration": 12,
    "start_time": "2021-10-05T14:14:53.950Z"
   },
   {
    "duration": 11,
    "start_time": "2021-10-05T14:14:53.965Z"
   },
   {
    "duration": 3,
    "start_time": "2021-10-05T14:14:53.978Z"
   },
   {
    "duration": 36,
    "start_time": "2021-10-05T14:14:53.983Z"
   },
   {
    "duration": 14,
    "start_time": "2021-10-05T14:14:54.021Z"
   },
   {
    "duration": 16,
    "start_time": "2021-10-05T14:14:54.049Z"
   },
   {
    "duration": 14,
    "start_time": "2021-10-05T14:14:54.066Z"
   },
   {
    "duration": 22,
    "start_time": "2021-10-05T14:14:54.082Z"
   },
   {
    "duration": 13,
    "start_time": "2021-10-05T14:14:54.106Z"
   },
   {
    "duration": 30,
    "start_time": "2021-10-05T14:14:54.120Z"
   },
   {
    "duration": 11,
    "start_time": "2021-10-05T14:14:54.151Z"
   },
   {
    "duration": 138,
    "start_time": "2021-10-05T14:14:54.163Z"
   },
   {
    "duration": 11,
    "start_time": "2021-10-05T14:14:58.785Z"
   },
   {
    "duration": 3,
    "start_time": "2021-10-05T14:26:02.026Z"
   },
   {
    "duration": 185,
    "start_time": "2021-10-05T14:26:02.031Z"
   },
   {
    "duration": 11,
    "start_time": "2021-10-05T14:26:02.218Z"
   },
   {
    "duration": 37,
    "start_time": "2021-10-05T14:26:02.230Z"
   },
   {
    "duration": 15,
    "start_time": "2021-10-05T14:26:02.269Z"
   },
   {
    "duration": 22,
    "start_time": "2021-10-05T14:26:02.286Z"
   },
   {
    "duration": 4,
    "start_time": "2021-10-05T14:26:02.311Z"
   },
   {
    "duration": 40,
    "start_time": "2021-10-05T14:26:02.317Z"
   },
   {
    "duration": 23,
    "start_time": "2021-10-05T14:26:02.360Z"
   },
   {
    "duration": 27,
    "start_time": "2021-10-05T14:26:02.385Z"
   },
   {
    "duration": 84,
    "start_time": "2021-10-05T14:26:02.414Z"
   },
   {
    "duration": 82,
    "start_time": "2021-10-05T14:26:02.499Z"
   },
   {
    "duration": 53,
    "start_time": "2021-10-05T14:26:02.582Z"
   },
   {
    "duration": 49,
    "start_time": "2021-10-05T14:26:02.636Z"
   },
   {
    "duration": 3,
    "start_time": "2021-10-05T14:26:02.687Z"
   },
   {
    "duration": 24,
    "start_time": "2021-10-05T14:26:02.691Z"
   },
   {
    "duration": 45,
    "start_time": "2021-10-05T14:26:02.717Z"
   },
   {
    "duration": 14,
    "start_time": "2021-10-05T14:26:02.763Z"
   },
   {
    "duration": 11,
    "start_time": "2021-10-05T14:26:02.780Z"
   },
   {
    "duration": 4,
    "start_time": "2021-10-05T14:26:02.793Z"
   },
   {
    "duration": 19,
    "start_time": "2021-10-05T14:26:02.798Z"
   },
   {
    "duration": 37,
    "start_time": "2021-10-05T14:26:02.818Z"
   },
   {
    "duration": 15,
    "start_time": "2021-10-05T14:26:02.857Z"
   },
   {
    "duration": 15,
    "start_time": "2021-10-05T14:26:02.873Z"
   },
   {
    "duration": 25,
    "start_time": "2021-10-05T14:26:02.890Z"
   },
   {
    "duration": 33,
    "start_time": "2021-10-05T14:26:02.917Z"
   },
   {
    "duration": 9,
    "start_time": "2021-10-05T14:26:02.952Z"
   },
   {
    "duration": 23,
    "start_time": "2021-10-05T14:26:02.962Z"
   },
   {
    "duration": 12,
    "start_time": "2021-10-05T14:26:02.987Z"
   },
   {
    "duration": 4,
    "start_time": "2021-10-05T14:26:03.001Z"
   },
   {
    "duration": 19,
    "start_time": "2021-10-05T14:26:04.506Z"
   },
   {
    "duration": 14,
    "start_time": "2021-10-05T14:30:27.604Z"
   },
   {
    "duration": 15,
    "start_time": "2021-10-05T14:30:30.640Z"
   },
   {
    "duration": 19,
    "start_time": "2021-10-05T14:30:32.705Z"
   },
   {
    "duration": 6,
    "start_time": "2021-10-05T14:58:49.550Z"
   },
   {
    "duration": 42,
    "start_time": "2021-10-05T14:59:12.759Z"
   },
   {
    "duration": 15,
    "start_time": "2021-10-05T15:02:31.294Z"
   },
   {
    "duration": 7,
    "start_time": "2021-10-05T15:02:42.166Z"
   },
   {
    "duration": 7,
    "start_time": "2021-10-05T15:03:05.929Z"
   },
   {
    "duration": 2,
    "start_time": "2021-10-05T15:06:58.741Z"
   },
   {
    "duration": 144,
    "start_time": "2021-10-05T15:06:58.746Z"
   },
   {
    "duration": 10,
    "start_time": "2021-10-05T15:06:58.892Z"
   },
   {
    "duration": 26,
    "start_time": "2021-10-05T15:06:58.905Z"
   },
   {
    "duration": 5,
    "start_time": "2021-10-05T15:06:58.949Z"
   },
   {
    "duration": 22,
    "start_time": "2021-10-05T15:06:58.956Z"
   },
   {
    "duration": 5,
    "start_time": "2021-10-05T15:06:58.981Z"
   },
   {
    "duration": 26,
    "start_time": "2021-10-05T15:06:58.989Z"
   },
   {
    "duration": 49,
    "start_time": "2021-10-05T15:06:59.017Z"
   },
   {
    "duration": 27,
    "start_time": "2021-10-05T15:06:59.068Z"
   },
   {
    "duration": 87,
    "start_time": "2021-10-05T15:06:59.097Z"
   },
   {
    "duration": 76,
    "start_time": "2021-10-05T15:06:59.186Z"
   },
   {
    "duration": 54,
    "start_time": "2021-10-05T15:06:59.264Z"
   },
   {
    "duration": 52,
    "start_time": "2021-10-05T15:06:59.319Z"
   },
   {
    "duration": 8,
    "start_time": "2021-10-05T15:06:59.372Z"
   },
   {
    "duration": 16,
    "start_time": "2021-10-05T15:06:59.382Z"
   },
   {
    "duration": 50,
    "start_time": "2021-10-05T15:06:59.400Z"
   },
   {
    "duration": 6,
    "start_time": "2021-10-05T15:06:59.452Z"
   },
   {
    "duration": 8,
    "start_time": "2021-10-05T15:07:01.895Z"
   },
   {
    "duration": 39,
    "start_time": "2021-10-05T15:07:40.087Z"
   },
   {
    "duration": 5,
    "start_time": "2021-10-05T15:07:53.471Z"
   },
   {
    "duration": 8,
    "start_time": "2021-10-05T15:07:55.378Z"
   },
   {
    "duration": 3,
    "start_time": "2021-10-05T15:13:56.298Z"
   },
   {
    "duration": 157,
    "start_time": "2021-10-05T15:13:56.303Z"
   },
   {
    "duration": 11,
    "start_time": "2021-10-05T15:13:56.462Z"
   },
   {
    "duration": 25,
    "start_time": "2021-10-05T15:13:56.476Z"
   },
   {
    "duration": 5,
    "start_time": "2021-10-05T15:13:56.503Z"
   },
   {
    "duration": 45,
    "start_time": "2021-10-05T15:13:56.510Z"
   },
   {
    "duration": 5,
    "start_time": "2021-10-05T15:13:56.557Z"
   },
   {
    "duration": 25,
    "start_time": "2021-10-05T15:13:56.564Z"
   },
   {
    "duration": 18,
    "start_time": "2021-10-05T15:13:56.593Z"
   },
   {
    "duration": 48,
    "start_time": "2021-10-05T15:13:56.614Z"
   },
   {
    "duration": 56,
    "start_time": "2021-10-05T15:13:56.664Z"
   },
   {
    "duration": 87,
    "start_time": "2021-10-05T15:13:56.722Z"
   },
   {
    "duration": 63,
    "start_time": "2021-10-05T15:13:56.811Z"
   },
   {
    "duration": 41,
    "start_time": "2021-10-05T15:13:56.876Z"
   },
   {
    "duration": 3,
    "start_time": "2021-10-05T15:13:56.919Z"
   },
   {
    "duration": 32,
    "start_time": "2021-10-05T15:13:56.924Z"
   },
   {
    "duration": 45,
    "start_time": "2021-10-05T15:13:56.958Z"
   },
   {
    "duration": 6,
    "start_time": "2021-10-05T15:13:57.005Z"
   },
   {
    "duration": 11,
    "start_time": "2021-10-05T15:13:57.013Z"
   },
   {
    "duration": 30,
    "start_time": "2021-10-05T15:13:57.026Z"
   },
   {
    "duration": 12,
    "start_time": "2021-10-05T15:13:57.058Z"
   },
   {
    "duration": 4,
    "start_time": "2021-10-05T15:13:57.072Z"
   },
   {
    "duration": 25,
    "start_time": "2021-10-05T15:13:57.078Z"
   },
   {
    "duration": 16,
    "start_time": "2021-10-05T15:13:57.105Z"
   },
   {
    "duration": 43,
    "start_time": "2021-10-05T15:13:57.122Z"
   },
   {
    "duration": 14,
    "start_time": "2021-10-05T15:13:57.167Z"
   },
   {
    "duration": 17,
    "start_time": "2021-10-05T15:13:57.185Z"
   },
   {
    "duration": 49,
    "start_time": "2021-10-05T15:13:57.204Z"
   },
   {
    "duration": 9,
    "start_time": "2021-10-05T15:13:57.255Z"
   },
   {
    "duration": 17,
    "start_time": "2021-10-05T15:13:57.266Z"
   },
   {
    "duration": 13,
    "start_time": "2021-10-05T15:13:57.285Z"
   },
   {
    "duration": 4,
    "start_time": "2021-10-05T15:13:57.300Z"
   },
   {
    "duration": 53,
    "start_time": "2021-10-05T15:13:57.306Z"
   },
   {
    "duration": 14,
    "start_time": "2021-10-05T15:13:57.362Z"
   },
   {
    "duration": 19,
    "start_time": "2021-10-05T15:13:57.378Z"
   },
   {
    "duration": 13,
    "start_time": "2021-10-05T15:13:57.399Z"
   },
   {
    "duration": 591,
    "start_time": "2021-10-05T15:15:21.048Z"
   },
   {
    "duration": 145,
    "start_time": "2021-10-05T15:15:21.641Z"
   },
   {
    "duration": 18,
    "start_time": "2021-10-05T15:15:21.794Z"
   },
   {
    "duration": 26,
    "start_time": "2021-10-05T15:15:21.814Z"
   },
   {
    "duration": 9,
    "start_time": "2021-10-05T15:15:21.842Z"
   },
   {
    "duration": 25,
    "start_time": "2021-10-05T15:15:21.853Z"
   },
   {
    "duration": 5,
    "start_time": "2021-10-05T15:15:21.880Z"
   },
   {
    "duration": 27,
    "start_time": "2021-10-05T15:15:21.887Z"
   },
   {
    "duration": 45,
    "start_time": "2021-10-05T15:15:21.916Z"
   },
   {
    "duration": 22,
    "start_time": "2021-10-05T15:15:21.963Z"
   },
   {
    "duration": 69,
    "start_time": "2021-10-05T15:15:21.987Z"
   },
   {
    "duration": 65,
    "start_time": "2021-10-05T15:15:22.058Z"
   },
   {
    "duration": 72,
    "start_time": "2021-10-05T15:15:22.125Z"
   },
   {
    "duration": 56,
    "start_time": "2021-10-05T15:15:22.199Z"
   },
   {
    "duration": 3,
    "start_time": "2021-10-05T15:15:22.257Z"
   },
   {
    "duration": 11,
    "start_time": "2021-10-05T15:15:22.262Z"
   },
   {
    "duration": 41,
    "start_time": "2021-10-05T15:15:22.275Z"
   },
   {
    "duration": 5,
    "start_time": "2021-10-05T15:15:22.318Z"
   },
   {
    "duration": 9,
    "start_time": "2021-10-05T15:15:22.349Z"
   },
   {
    "duration": 13,
    "start_time": "2021-10-05T15:15:22.360Z"
   },
   {
    "duration": 11,
    "start_time": "2021-10-05T15:15:22.375Z"
   },
   {
    "duration": 3,
    "start_time": "2021-10-05T15:15:22.388Z"
   },
   {
    "duration": 55,
    "start_time": "2021-10-05T15:15:22.395Z"
   },
   {
    "duration": 16,
    "start_time": "2021-10-05T15:15:22.452Z"
   },
   {
    "duration": 16,
    "start_time": "2021-10-05T15:15:22.470Z"
   },
   {
    "duration": 14,
    "start_time": "2021-10-05T15:15:22.488Z"
   },
   {
    "duration": 47,
    "start_time": "2021-10-05T15:15:22.504Z"
   },
   {
    "duration": 15,
    "start_time": "2021-10-05T15:15:22.552Z"
   },
   {
    "duration": 9,
    "start_time": "2021-10-05T15:15:22.569Z"
   },
   {
    "duration": 17,
    "start_time": "2021-10-05T15:15:22.580Z"
   },
   {
    "duration": 10,
    "start_time": "2021-10-05T15:15:22.599Z"
   },
   {
    "duration": 6,
    "start_time": "2021-10-05T15:15:22.611Z"
   },
   {
    "duration": 48,
    "start_time": "2021-10-05T15:15:22.619Z"
   },
   {
    "duration": 24,
    "start_time": "2021-10-05T15:15:22.668Z"
   },
   {
    "duration": 17,
    "start_time": "2021-10-05T15:15:22.694Z"
   },
   {
    "duration": 12,
    "start_time": "2021-10-05T15:15:22.713Z"
   },
   {
    "duration": 3,
    "start_time": "2021-10-05T16:41:57.551Z"
   },
   {
    "duration": 170,
    "start_time": "2021-10-05T16:41:57.556Z"
   },
   {
    "duration": 23,
    "start_time": "2021-10-05T16:41:57.728Z"
   },
   {
    "duration": 27,
    "start_time": "2021-10-05T16:41:57.753Z"
   },
   {
    "duration": 3,
    "start_time": "2021-10-05T16:41:57.782Z"
   },
   {
    "duration": 21,
    "start_time": "2021-10-05T16:41:57.787Z"
   },
   {
    "duration": 4,
    "start_time": "2021-10-05T16:41:57.810Z"
   },
   {
    "duration": 52,
    "start_time": "2021-10-05T16:41:57.816Z"
   },
   {
    "duration": 18,
    "start_time": "2021-10-05T16:41:57.870Z"
   },
   {
    "duration": 26,
    "start_time": "2021-10-05T16:41:57.889Z"
   },
   {
    "duration": 77,
    "start_time": "2021-10-05T16:41:57.917Z"
   },
   {
    "duration": 76,
    "start_time": "2021-10-05T16:41:57.995Z"
   },
   {
    "duration": 78,
    "start_time": "2021-10-05T16:41:58.074Z"
   },
   {
    "duration": 42,
    "start_time": "2021-10-05T16:41:58.154Z"
   },
   {
    "duration": 4,
    "start_time": "2021-10-05T16:41:58.197Z"
   },
   {
    "duration": 17,
    "start_time": "2021-10-05T16:41:58.202Z"
   },
   {
    "duration": 56,
    "start_time": "2021-10-05T16:41:58.221Z"
   },
   {
    "duration": 5,
    "start_time": "2021-10-05T16:41:58.279Z"
   },
   {
    "duration": 8,
    "start_time": "2021-10-05T16:41:58.287Z"
   },
   {
    "duration": 12,
    "start_time": "2021-10-05T16:41:58.297Z"
   },
   {
    "duration": 10,
    "start_time": "2021-10-05T16:41:58.311Z"
   },
   {
    "duration": 3,
    "start_time": "2021-10-05T16:41:58.350Z"
   },
   {
    "duration": 22,
    "start_time": "2021-10-05T16:41:58.355Z"
   },
   {
    "duration": 16,
    "start_time": "2021-10-05T16:41:58.379Z"
   },
   {
    "duration": 17,
    "start_time": "2021-10-05T16:41:58.397Z"
   },
   {
    "duration": 50,
    "start_time": "2021-10-05T16:41:58.416Z"
   },
   {
    "duration": 18,
    "start_time": "2021-10-05T16:41:58.468Z"
   },
   {
    "duration": 16,
    "start_time": "2021-10-05T16:41:58.488Z"
   },
   {
    "duration": 10,
    "start_time": "2021-10-05T16:41:58.506Z"
   },
   {
    "duration": 17,
    "start_time": "2021-10-05T16:41:58.550Z"
   },
   {
    "duration": 15,
    "start_time": "2021-10-05T16:41:58.569Z"
   },
   {
    "duration": 5,
    "start_time": "2021-10-05T16:41:58.586Z"
   },
   {
    "duration": 27,
    "start_time": "2021-10-05T16:41:58.592Z"
   },
   {
    "duration": 37,
    "start_time": "2021-10-05T16:41:58.620Z"
   },
   {
    "duration": 18,
    "start_time": "2021-10-05T16:41:58.659Z"
   },
   {
    "duration": 13,
    "start_time": "2021-10-05T16:41:58.678Z"
   },
   {
    "duration": 7,
    "start_time": "2021-10-05T16:41:58.693Z"
   },
   {
    "duration": 6,
    "start_time": "2021-10-05T16:42:00.506Z"
   },
   {
    "duration": 337,
    "start_time": "2021-10-05T16:45:31.596Z"
   },
   {
    "duration": 3,
    "start_time": "2021-10-05T16:45:35.059Z"
   },
   {
    "duration": 171,
    "start_time": "2021-10-05T16:45:35.064Z"
   },
   {
    "duration": 20,
    "start_time": "2021-10-05T16:45:35.237Z"
   },
   {
    "duration": 39,
    "start_time": "2021-10-05T16:45:35.259Z"
   },
   {
    "duration": 11,
    "start_time": "2021-10-05T16:45:35.300Z"
   },
   {
    "duration": 30,
    "start_time": "2021-10-05T16:45:35.313Z"
   },
   {
    "duration": 8,
    "start_time": "2021-10-05T16:45:35.346Z"
   },
   {
    "duration": 34,
    "start_time": "2021-10-05T16:45:35.356Z"
   },
   {
    "duration": 18,
    "start_time": "2021-10-05T16:45:35.392Z"
   },
   {
    "duration": 37,
    "start_time": "2021-10-05T16:45:35.412Z"
   },
   {
    "duration": 60,
    "start_time": "2021-10-05T16:45:35.451Z"
   },
   {
    "duration": 93,
    "start_time": "2021-10-05T16:45:35.513Z"
   },
   {
    "duration": 65,
    "start_time": "2021-10-05T16:45:35.608Z"
   },
   {
    "duration": 42,
    "start_time": "2021-10-05T16:45:35.675Z"
   },
   {
    "duration": 2,
    "start_time": "2021-10-05T16:45:35.719Z"
   },
   {
    "duration": 26,
    "start_time": "2021-10-05T16:45:35.723Z"
   },
   {
    "duration": 42,
    "start_time": "2021-10-05T16:45:35.751Z"
   },
   {
    "duration": 5,
    "start_time": "2021-10-05T16:45:35.794Z"
   },
   {
    "duration": 11,
    "start_time": "2021-10-05T16:45:35.802Z"
   },
   {
    "duration": 35,
    "start_time": "2021-10-05T16:45:35.815Z"
   },
   {
    "duration": 12,
    "start_time": "2021-10-05T16:45:35.852Z"
   },
   {
    "duration": 3,
    "start_time": "2021-10-05T16:45:35.866Z"
   },
   {
    "duration": 21,
    "start_time": "2021-10-05T16:45:35.871Z"
   },
   {
    "duration": 14,
    "start_time": "2021-10-05T16:45:35.894Z"
   },
   {
    "duration": 47,
    "start_time": "2021-10-05T16:45:35.910Z"
   },
   {
    "duration": 15,
    "start_time": "2021-10-05T16:45:35.959Z"
   },
   {
    "duration": 19,
    "start_time": "2021-10-05T16:45:35.975Z"
   },
   {
    "duration": 16,
    "start_time": "2021-10-05T16:45:35.996Z"
   },
   {
    "duration": 41,
    "start_time": "2021-10-05T16:45:36.014Z"
   },
   {
    "duration": 18,
    "start_time": "2021-10-05T16:45:36.057Z"
   },
   {
    "duration": 14,
    "start_time": "2021-10-05T16:45:36.077Z"
   },
   {
    "duration": 4,
    "start_time": "2021-10-05T16:45:36.094Z"
   },
   {
    "duration": 29,
    "start_time": "2021-10-05T16:45:36.099Z"
   },
   {
    "duration": 31,
    "start_time": "2021-10-05T16:45:36.130Z"
   },
   {
    "duration": 19,
    "start_time": "2021-10-05T16:45:36.163Z"
   },
   {
    "duration": 14,
    "start_time": "2021-10-05T16:45:36.184Z"
   },
   {
    "duration": 10,
    "start_time": "2021-10-05T16:45:36.200Z"
   },
   {
    "duration": 5,
    "start_time": "2021-10-05T16:45:36.211Z"
   },
   {
    "duration": 226,
    "start_time": "2021-10-05T16:45:36.250Z"
   },
   {
    "duration": 522,
    "start_time": "2021-10-05T16:45:35.956Z"
   },
   {
    "duration": 3,
    "start_time": "2021-10-05T16:46:01.848Z"
   },
   {
    "duration": 168,
    "start_time": "2021-10-05T16:46:01.853Z"
   },
   {
    "duration": 11,
    "start_time": "2021-10-05T16:46:02.023Z"
   },
   {
    "duration": 27,
    "start_time": "2021-10-05T16:46:02.050Z"
   },
   {
    "duration": 24,
    "start_time": "2021-10-05T16:46:02.078Z"
   },
   {
    "duration": 34,
    "start_time": "2021-10-05T16:46:02.104Z"
   },
   {
    "duration": 8,
    "start_time": "2021-10-05T16:46:02.142Z"
   },
   {
    "duration": 34,
    "start_time": "2021-10-05T16:46:02.152Z"
   },
   {
    "duration": 30,
    "start_time": "2021-10-05T16:46:02.188Z"
   },
   {
    "duration": 24,
    "start_time": "2021-10-05T16:46:02.220Z"
   },
   {
    "duration": 64,
    "start_time": "2021-10-05T16:46:02.246Z"
   },
   {
    "duration": 80,
    "start_time": "2021-10-05T16:46:02.312Z"
   },
   {
    "duration": 66,
    "start_time": "2021-10-05T16:46:02.394Z"
   },
   {
    "duration": 42,
    "start_time": "2021-10-05T16:46:02.462Z"
   },
   {
    "duration": 5,
    "start_time": "2021-10-05T16:46:02.506Z"
   },
   {
    "duration": 18,
    "start_time": "2021-10-05T16:46:02.513Z"
   },
   {
    "duration": 56,
    "start_time": "2021-10-05T16:46:02.533Z"
   },
   {
    "duration": 5,
    "start_time": "2021-10-05T16:46:02.591Z"
   },
   {
    "duration": 24,
    "start_time": "2021-10-05T16:46:02.600Z"
   },
   {
    "duration": 25,
    "start_time": "2021-10-05T16:46:02.626Z"
   },
   {
    "duration": 12,
    "start_time": "2021-10-05T16:46:02.653Z"
   },
   {
    "duration": 4,
    "start_time": "2021-10-05T16:46:02.666Z"
   },
   {
    "duration": 27,
    "start_time": "2021-10-05T16:46:02.671Z"
   },
   {
    "duration": 15,
    "start_time": "2021-10-05T16:46:02.700Z"
   },
   {
    "duration": 42,
    "start_time": "2021-10-05T16:46:02.717Z"
   },
   {
    "duration": 15,
    "start_time": "2021-10-05T16:46:02.761Z"
   },
   {
    "duration": 17,
    "start_time": "2021-10-05T16:46:02.778Z"
   },
   {
    "duration": 14,
    "start_time": "2021-10-05T16:46:02.797Z"
   },
   {
    "duration": 38,
    "start_time": "2021-10-05T16:46:02.812Z"
   },
   {
    "duration": 15,
    "start_time": "2021-10-05T16:46:02.852Z"
   },
   {
    "duration": 13,
    "start_time": "2021-10-05T16:46:02.869Z"
   },
   {
    "duration": 4,
    "start_time": "2021-10-05T16:46:02.884Z"
   },
   {
    "duration": 29,
    "start_time": "2021-10-05T16:46:02.889Z"
   },
   {
    "duration": 34,
    "start_time": "2021-10-05T16:46:02.920Z"
   },
   {
    "duration": 18,
    "start_time": "2021-10-05T16:46:02.956Z"
   },
   {
    "duration": 15,
    "start_time": "2021-10-05T16:46:02.976Z"
   },
   {
    "duration": 9,
    "start_time": "2021-10-05T16:46:02.994Z"
   },
   {
    "duration": 7,
    "start_time": "2021-10-05T16:46:03.005Z"
   },
   {
    "duration": 40,
    "start_time": "2021-10-05T16:46:03.014Z"
   },
   {
    "duration": 6,
    "start_time": "2021-10-05T16:46:05.192Z"
   },
   {
    "duration": 593,
    "start_time": "2021-10-05T16:48:00.386Z"
   },
   {
    "duration": 154,
    "start_time": "2021-10-05T16:48:00.982Z"
   },
   {
    "duration": 23,
    "start_time": "2021-10-05T16:48:01.138Z"
   },
   {
    "duration": 39,
    "start_time": "2021-10-05T16:48:01.164Z"
   },
   {
    "duration": 7,
    "start_time": "2021-10-05T16:48:01.205Z"
   },
   {
    "duration": 37,
    "start_time": "2021-10-05T16:48:01.214Z"
   },
   {
    "duration": 5,
    "start_time": "2021-10-05T16:48:01.253Z"
   },
   {
    "duration": 32,
    "start_time": "2021-10-05T16:48:01.262Z"
   },
   {
    "duration": 20,
    "start_time": "2021-10-05T16:48:01.297Z"
   },
   {
    "duration": 47,
    "start_time": "2021-10-05T16:48:01.319Z"
   },
   {
    "duration": 82,
    "start_time": "2021-10-05T16:48:01.369Z"
   },
   {
    "duration": 78,
    "start_time": "2021-10-05T16:48:01.454Z"
   },
   {
    "duration": 67,
    "start_time": "2021-10-05T16:48:01.534Z"
   },
   {
    "duration": 54,
    "start_time": "2021-10-05T16:48:01.603Z"
   },
   {
    "duration": 11,
    "start_time": "2021-10-05T16:48:01.659Z"
   },
   {
    "duration": 39,
    "start_time": "2021-10-05T16:48:01.672Z"
   },
   {
    "duration": 57,
    "start_time": "2021-10-05T16:48:01.713Z"
   },
   {
    "duration": 37,
    "start_time": "2021-10-05T16:48:01.772Z"
   },
   {
    "duration": 33,
    "start_time": "2021-10-05T16:48:01.811Z"
   },
   {
    "duration": 38,
    "start_time": "2021-10-05T16:48:01.846Z"
   },
   {
    "duration": 21,
    "start_time": "2021-10-05T16:48:01.886Z"
   },
   {
    "duration": 26,
    "start_time": "2021-10-05T16:48:01.909Z"
   },
   {
    "duration": 85,
    "start_time": "2021-10-05T16:48:01.938Z"
   },
   {
    "duration": 26,
    "start_time": "2021-10-05T16:48:02.025Z"
   },
   {
    "duration": 31,
    "start_time": "2021-10-05T16:48:02.052Z"
   },
   {
    "duration": 22,
    "start_time": "2021-10-05T16:48:02.084Z"
   },
   {
    "duration": 28,
    "start_time": "2021-10-05T16:48:02.107Z"
   },
   {
    "duration": 34,
    "start_time": "2021-10-05T16:48:02.137Z"
   },
   {
    "duration": 21,
    "start_time": "2021-10-05T16:48:02.173Z"
   },
   {
    "duration": 20,
    "start_time": "2021-10-05T16:48:02.196Z"
   },
   {
    "duration": 11,
    "start_time": "2021-10-05T16:48:02.218Z"
   },
   {
    "duration": 16,
    "start_time": "2021-10-05T16:48:02.231Z"
   },
   {
    "duration": 57,
    "start_time": "2021-10-05T16:48:02.249Z"
   },
   {
    "duration": 42,
    "start_time": "2021-10-05T16:48:02.308Z"
   },
   {
    "duration": 24,
    "start_time": "2021-10-05T16:48:02.352Z"
   },
   {
    "duration": 15,
    "start_time": "2021-10-05T16:48:02.378Z"
   },
   {
    "duration": 28,
    "start_time": "2021-10-05T16:48:02.395Z"
   },
   {
    "duration": 13,
    "start_time": "2021-10-05T16:48:02.425Z"
   },
   {
    "duration": 12,
    "start_time": "2021-10-05T16:48:02.440Z"
   },
   {
    "duration": 6,
    "start_time": "2021-10-05T16:48:02.454Z"
   },
   {
    "duration": 617,
    "start_time": "2021-10-05T20:13:28.528Z"
   },
   {
    "duration": 140,
    "start_time": "2021-10-05T20:13:29.150Z"
   },
   {
    "duration": 15,
    "start_time": "2021-10-05T20:13:29.294Z"
   },
   {
    "duration": 24,
    "start_time": "2021-10-05T20:13:29.311Z"
   },
   {
    "duration": 15,
    "start_time": "2021-10-05T20:13:29.337Z"
   },
   {
    "duration": 23,
    "start_time": "2021-10-05T20:13:29.354Z"
   },
   {
    "duration": 4,
    "start_time": "2021-10-05T20:13:29.380Z"
   },
   {
    "duration": 23,
    "start_time": "2021-10-05T20:13:29.387Z"
   },
   {
    "duration": 51,
    "start_time": "2021-10-05T20:13:29.412Z"
   },
   {
    "duration": 21,
    "start_time": "2021-10-05T20:13:29.465Z"
   },
   {
    "duration": 75,
    "start_time": "2021-10-05T20:13:29.488Z"
   },
   {
    "duration": 69,
    "start_time": "2021-10-05T20:13:29.564Z"
   },
   {
    "duration": 59,
    "start_time": "2021-10-05T20:13:29.635Z"
   },
   {
    "duration": 54,
    "start_time": "2021-10-05T20:13:29.696Z"
   },
   {
    "duration": 2,
    "start_time": "2021-10-05T20:13:29.752Z"
   },
   {
    "duration": 12,
    "start_time": "2021-10-05T20:13:29.756Z"
   },
   {
    "duration": 39,
    "start_time": "2021-10-05T20:13:29.770Z"
   },
   {
    "duration": 5,
    "start_time": "2021-10-05T20:13:29.811Z"
   },
   {
    "duration": 34,
    "start_time": "2021-10-05T20:13:29.817Z"
   },
   {
    "duration": 10,
    "start_time": "2021-10-05T20:13:29.853Z"
   },
   {
    "duration": 10,
    "start_time": "2021-10-05T20:13:29.865Z"
   },
   {
    "duration": 4,
    "start_time": "2021-10-05T20:13:29.878Z"
   },
   {
    "duration": 18,
    "start_time": "2021-10-05T20:13:29.883Z"
   },
   {
    "duration": 13,
    "start_time": "2021-10-05T20:13:29.903Z"
   },
   {
    "duration": 44,
    "start_time": "2021-10-05T20:13:29.918Z"
   },
   {
    "duration": 14,
    "start_time": "2021-10-05T20:13:29.964Z"
   },
   {
    "duration": 16,
    "start_time": "2021-10-05T20:13:29.980Z"
   },
   {
    "duration": 15,
    "start_time": "2021-10-05T20:13:29.997Z"
   },
   {
    "duration": 42,
    "start_time": "2021-10-05T20:13:30.013Z"
   },
   {
    "duration": 11,
    "start_time": "2021-10-05T20:13:30.057Z"
   },
   {
    "duration": 9,
    "start_time": "2021-10-05T20:13:30.070Z"
   },
   {
    "duration": 6,
    "start_time": "2021-10-05T20:13:30.081Z"
   },
   {
    "duration": 36,
    "start_time": "2021-10-05T20:13:30.088Z"
   },
   {
    "duration": 25,
    "start_time": "2021-10-05T20:13:30.126Z"
   },
   {
    "duration": 24,
    "start_time": "2021-10-05T20:13:30.152Z"
   },
   {
    "duration": 13,
    "start_time": "2021-10-05T20:13:30.177Z"
   },
   {
    "duration": 12,
    "start_time": "2021-10-05T20:13:30.192Z"
   },
   {
    "duration": 10,
    "start_time": "2021-10-05T20:13:30.205Z"
   },
   {
    "duration": 17,
    "start_time": "2021-10-05T20:13:30.216Z"
   },
   {
    "duration": 15,
    "start_time": "2021-10-05T20:13:30.234Z"
   },
   {
    "duration": 16,
    "start_time": "2021-10-05T20:47:23.718Z"
   },
   {
    "duration": 734,
    "start_time": "2021-10-06T08:45:03.792Z"
   },
   {
    "duration": 187,
    "start_time": "2021-10-06T08:45:04.528Z"
   },
   {
    "duration": 26,
    "start_time": "2021-10-06T08:45:04.718Z"
   },
   {
    "duration": 33,
    "start_time": "2021-10-06T08:45:04.758Z"
   },
   {
    "duration": 7,
    "start_time": "2021-10-06T08:45:04.793Z"
   },
   {
    "duration": 56,
    "start_time": "2021-10-06T08:45:04.802Z"
   },
   {
    "duration": 5,
    "start_time": "2021-10-06T08:45:04.860Z"
   },
   {
    "duration": 31,
    "start_time": "2021-10-06T08:45:04.870Z"
   },
   {
    "duration": 55,
    "start_time": "2021-10-06T08:45:04.904Z"
   },
   {
    "duration": 30,
    "start_time": "2021-10-06T08:45:04.962Z"
   },
   {
    "duration": 98,
    "start_time": "2021-10-06T08:45:04.994Z"
   },
   {
    "duration": 115,
    "start_time": "2021-10-06T08:45:05.094Z"
   },
   {
    "duration": 90,
    "start_time": "2021-10-06T08:45:05.211Z"
   },
   {
    "duration": 87,
    "start_time": "2021-10-06T08:45:05.303Z"
   },
   {
    "duration": 4,
    "start_time": "2021-10-06T08:45:05.393Z"
   },
   {
    "duration": 19,
    "start_time": "2021-10-06T08:45:05.399Z"
   },
   {
    "duration": 77,
    "start_time": "2021-10-06T08:45:05.421Z"
   },
   {
    "duration": 18,
    "start_time": "2021-10-06T08:45:05.501Z"
   },
   {
    "duration": 19,
    "start_time": "2021-10-06T08:45:05.521Z"
   },
   {
    "duration": 27,
    "start_time": "2021-10-06T08:45:05.542Z"
   },
   {
    "duration": 14,
    "start_time": "2021-10-06T08:45:05.571Z"
   },
   {
    "duration": 4,
    "start_time": "2021-10-06T08:45:05.587Z"
   },
   {
    "duration": 36,
    "start_time": "2021-10-06T08:45:05.596Z"
   },
   {
    "duration": 37,
    "start_time": "2021-10-06T08:45:05.635Z"
   },
   {
    "duration": 21,
    "start_time": "2021-10-06T08:45:05.675Z"
   },
   {
    "duration": 19,
    "start_time": "2021-10-06T08:45:05.699Z"
   },
   {
    "duration": 50,
    "start_time": "2021-10-06T08:45:05.720Z"
   },
   {
    "duration": 17,
    "start_time": "2021-10-06T08:45:05.772Z"
   },
   {
    "duration": 15,
    "start_time": "2021-10-06T08:45:05.792Z"
   },
   {
    "duration": 56,
    "start_time": "2021-10-06T08:45:05.810Z"
   },
   {
    "duration": 14,
    "start_time": "2021-10-06T08:45:05.869Z"
   },
   {
    "duration": 7,
    "start_time": "2021-10-06T08:45:05.886Z"
   },
   {
    "duration": 31,
    "start_time": "2021-10-06T08:45:05.896Z"
   },
   {
    "duration": 45,
    "start_time": "2021-10-06T08:45:05.929Z"
   },
   {
    "duration": 26,
    "start_time": "2021-10-06T08:45:05.978Z"
   },
   {
    "duration": 52,
    "start_time": "2021-10-06T08:45:06.007Z"
   },
   {
    "duration": 13,
    "start_time": "2021-10-06T08:45:06.062Z"
   },
   {
    "duration": 12,
    "start_time": "2021-10-06T08:45:06.078Z"
   },
   {
    "duration": 17,
    "start_time": "2021-10-06T08:45:06.092Z"
   },
   {
    "duration": 8,
    "start_time": "2021-10-06T08:45:06.111Z"
   }
  ],
  "colab": {
   "collapsed_sections": [
    "E0vqbgi9ay0H",
    "VUC88oWjTJw2"
   ],
   "name": "yandex_music_project_2021.2.ipynb",
   "provenance": []
  },
  "kernelspec": {
   "display_name": "Python 3 (ipykernel)",
   "language": "python",
   "name": "python3"
  },
  "language_info": {
   "codemirror_mode": {
    "name": "ipython",
    "version": 3
   },
   "file_extension": ".py",
   "mimetype": "text/x-python",
   "name": "python",
   "nbconvert_exporter": "python",
   "pygments_lexer": "ipython3",
   "version": "3.8.8"
  },
  "toc": {
   "base_numbering": 1,
   "nav_menu": {},
   "number_sections": true,
   "sideBar": true,
   "skip_h1_title": true,
   "title_cell": "Table of Contents",
   "title_sidebar": "Contents",
   "toc_cell": false,
   "toc_position": {
    "height": "calc(100% - 180px)",
    "left": "10px",
    "top": "150px",
    "width": "292.797px"
   },
   "toc_section_display": true,
   "toc_window_display": false
  }
 },
 "nbformat": 4,
 "nbformat_minor": 1
}
