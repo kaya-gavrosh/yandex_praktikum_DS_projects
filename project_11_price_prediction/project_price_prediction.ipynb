{
 "cells": [
  {
   "cell_type": "markdown",
   "metadata": {},
   "source": [
    "# Определение стоимости автомобилей"
   ]
  },
  {
   "cell_type": "markdown",
   "metadata": {},
   "source": [
    "## Подготовка данных"
   ]
  },
  {
   "cell_type": "markdown",
   "metadata": {},
   "source": [
    "### Загрузка данных"
   ]
  },
  {
   "cell_type": "code",
   "execution_count": null,
   "metadata": {},
   "outputs": [],
   "source": [
    "!pip install catboost\n",
    "!pip install ipywidgets\n",
    "!pip install lightgbm"
   ]
  },
  {
   "cell_type": "code",
   "execution_count": 2,
   "metadata": {},
   "outputs": [],
   "source": [
    "# импорт библиотек\n",
    "import pandas as pd\n",
    "import matplotlib.pyplot as plt\n",
    "import seaborn as sns\n",
    "import numpy as np\n",
    "import re\n",
    "import time\n",
    "\n",
    "from sklearn.preprocessing import OrdinalEncoder\n",
    "from sklearn.preprocessing import StandardScaler\n",
    "from sklearn.model_selection import train_test_split, cross_val_score, cross_val_predict\n",
    "from sklearn.metrics import mean_squared_error, make_scorer\n",
    "\n",
    "from sklearn.linear_model import LinearRegression, Ridge\n",
    "from sklearn.tree import DecisionTreeRegressor\n",
    "from sklearn.ensemble import RandomForestRegressor\n",
    "from catboost import CatBoostRegressor, cv\n",
    "from catboost import *\n",
    "import catboost\n",
    "from lightgbm import LGBMRegressor"
   ]
  },
  {
   "cell_type": "code",
   "execution_count": 4,
   "metadata": {},
   "outputs": [],
   "source": [
    "df = pd.read_csv('/datasets/autos.csv')"
   ]
  },
  {
   "cell_type": "code",
   "execution_count": 5,
   "metadata": {
    "scrolled": false
   },
   "outputs": [
    {
     "name": "stdout",
     "output_type": "stream",
     "text": [
      "<class 'pandas.core.frame.DataFrame'>\n",
      "RangeIndex: 354369 entries, 0 to 354368\n",
      "Data columns (total 16 columns):\n",
      "DateCrawled          354369 non-null object\n",
      "Price                354369 non-null int64\n",
      "VehicleType          316879 non-null object\n",
      "RegistrationYear     354369 non-null int64\n",
      "Gearbox              334536 non-null object\n",
      "Power                354369 non-null int64\n",
      "Model                334664 non-null object\n",
      "Kilometer            354369 non-null int64\n",
      "RegistrationMonth    354369 non-null int64\n",
      "FuelType             321474 non-null object\n",
      "Brand                354369 non-null object\n",
      "NotRepaired          283215 non-null object\n",
      "DateCreated          354369 non-null object\n",
      "NumberOfPictures     354369 non-null int64\n",
      "PostalCode           354369 non-null int64\n",
      "LastSeen             354369 non-null object\n",
      "dtypes: int64(7), object(9)\n",
      "memory usage: 43.3+ MB\n"
     ]
    }
   ],
   "source": [
    "df.info()"
   ]
  },
  {
   "cell_type": "markdown",
   "metadata": {},
   "source": [
    "Признаки\n",
    "- `DateCrawled` — дата скачивания анкеты из базы\n",
    "- `VehicleType` — тип автомобильного кузова\n",
    "- `RegistrationYear` — год регистрации автомобиля\n",
    "- `Gearbox` — тип коробки передач\n",
    "- `Power` — мощность (л. с.)\n",
    "- `Model` — модель автомобиля\n",
    "- `Kilometer` — пробег (км)\n",
    "- `RegistrationMonth` — месяц регистрации автомобиля\n",
    "- `FuelType` — тип топлива\n",
    "- `Brand` — марка автомобиля\n",
    "- `NotRepaired` — была машина в ремонте или нет\n",
    "- `DateCreated` — дата создания анкеты\n",
    "- `NumberOfPictures` — количество фотографий автомобиля\n",
    "- `PostalCode` — почтовый индекс владельца анкеты (пользователя)\n",
    "- `LastSeen` — дата последней активности пользователя\n",
    "\n",
    "Целевой признак:\n",
    "- `Price` — цена (евро)"
   ]
  },
  {
   "cell_type": "code",
   "execution_count": 6,
   "metadata": {
    "scrolled": true
   },
   "outputs": [
    {
     "data": {
      "text/html": [
       "<div>\n",
       "<style scoped>\n",
       "    .dataframe tbody tr th:only-of-type {\n",
       "        vertical-align: middle;\n",
       "    }\n",
       "\n",
       "    .dataframe tbody tr th {\n",
       "        vertical-align: top;\n",
       "    }\n",
       "\n",
       "    .dataframe thead th {\n",
       "        text-align: right;\n",
       "    }\n",
       "</style>\n",
       "<table border=\"1\" class=\"dataframe\">\n",
       "  <thead>\n",
       "    <tr style=\"text-align: right;\">\n",
       "      <th></th>\n",
       "      <th>DateCrawled</th>\n",
       "      <th>Price</th>\n",
       "      <th>VehicleType</th>\n",
       "      <th>RegistrationYear</th>\n",
       "      <th>Gearbox</th>\n",
       "      <th>Power</th>\n",
       "      <th>Model</th>\n",
       "      <th>Kilometer</th>\n",
       "      <th>RegistrationMonth</th>\n",
       "      <th>FuelType</th>\n",
       "      <th>Brand</th>\n",
       "      <th>NotRepaired</th>\n",
       "      <th>DateCreated</th>\n",
       "      <th>NumberOfPictures</th>\n",
       "      <th>PostalCode</th>\n",
       "      <th>LastSeen</th>\n",
       "    </tr>\n",
       "  </thead>\n",
       "  <tbody>\n",
       "    <tr>\n",
       "      <td>0</td>\n",
       "      <td>2016-03-24 11:52:17</td>\n",
       "      <td>480</td>\n",
       "      <td>NaN</td>\n",
       "      <td>1993</td>\n",
       "      <td>manual</td>\n",
       "      <td>0</td>\n",
       "      <td>golf</td>\n",
       "      <td>150000</td>\n",
       "      <td>0</td>\n",
       "      <td>petrol</td>\n",
       "      <td>volkswagen</td>\n",
       "      <td>NaN</td>\n",
       "      <td>2016-03-24 00:00:00</td>\n",
       "      <td>0</td>\n",
       "      <td>70435</td>\n",
       "      <td>2016-04-07 03:16:57</td>\n",
       "    </tr>\n",
       "    <tr>\n",
       "      <td>1</td>\n",
       "      <td>2016-03-24 10:58:45</td>\n",
       "      <td>18300</td>\n",
       "      <td>coupe</td>\n",
       "      <td>2011</td>\n",
       "      <td>manual</td>\n",
       "      <td>190</td>\n",
       "      <td>NaN</td>\n",
       "      <td>125000</td>\n",
       "      <td>5</td>\n",
       "      <td>gasoline</td>\n",
       "      <td>audi</td>\n",
       "      <td>yes</td>\n",
       "      <td>2016-03-24 00:00:00</td>\n",
       "      <td>0</td>\n",
       "      <td>66954</td>\n",
       "      <td>2016-04-07 01:46:50</td>\n",
       "    </tr>\n",
       "    <tr>\n",
       "      <td>2</td>\n",
       "      <td>2016-03-14 12:52:21</td>\n",
       "      <td>9800</td>\n",
       "      <td>suv</td>\n",
       "      <td>2004</td>\n",
       "      <td>auto</td>\n",
       "      <td>163</td>\n",
       "      <td>grand</td>\n",
       "      <td>125000</td>\n",
       "      <td>8</td>\n",
       "      <td>gasoline</td>\n",
       "      <td>jeep</td>\n",
       "      <td>NaN</td>\n",
       "      <td>2016-03-14 00:00:00</td>\n",
       "      <td>0</td>\n",
       "      <td>90480</td>\n",
       "      <td>2016-04-05 12:47:46</td>\n",
       "    </tr>\n",
       "    <tr>\n",
       "      <td>3</td>\n",
       "      <td>2016-03-17 16:54:04</td>\n",
       "      <td>1500</td>\n",
       "      <td>small</td>\n",
       "      <td>2001</td>\n",
       "      <td>manual</td>\n",
       "      <td>75</td>\n",
       "      <td>golf</td>\n",
       "      <td>150000</td>\n",
       "      <td>6</td>\n",
       "      <td>petrol</td>\n",
       "      <td>volkswagen</td>\n",
       "      <td>no</td>\n",
       "      <td>2016-03-17 00:00:00</td>\n",
       "      <td>0</td>\n",
       "      <td>91074</td>\n",
       "      <td>2016-03-17 17:40:17</td>\n",
       "    </tr>\n",
       "    <tr>\n",
       "      <td>4</td>\n",
       "      <td>2016-03-31 17:25:20</td>\n",
       "      <td>3600</td>\n",
       "      <td>small</td>\n",
       "      <td>2008</td>\n",
       "      <td>manual</td>\n",
       "      <td>69</td>\n",
       "      <td>fabia</td>\n",
       "      <td>90000</td>\n",
       "      <td>7</td>\n",
       "      <td>gasoline</td>\n",
       "      <td>skoda</td>\n",
       "      <td>no</td>\n",
       "      <td>2016-03-31 00:00:00</td>\n",
       "      <td>0</td>\n",
       "      <td>60437</td>\n",
       "      <td>2016-04-06 10:17:21</td>\n",
       "    </tr>\n",
       "  </tbody>\n",
       "</table>\n",
       "</div>"
      ],
      "text/plain": [
       "           DateCrawled  Price VehicleType  RegistrationYear Gearbox  Power  \\\n",
       "0  2016-03-24 11:52:17    480         NaN              1993  manual      0   \n",
       "1  2016-03-24 10:58:45  18300       coupe              2011  manual    190   \n",
       "2  2016-03-14 12:52:21   9800         suv              2004    auto    163   \n",
       "3  2016-03-17 16:54:04   1500       small              2001  manual     75   \n",
       "4  2016-03-31 17:25:20   3600       small              2008  manual     69   \n",
       "\n",
       "   Model  Kilometer  RegistrationMonth  FuelType       Brand NotRepaired  \\\n",
       "0   golf     150000                  0    petrol  volkswagen         NaN   \n",
       "1    NaN     125000                  5  gasoline        audi         yes   \n",
       "2  grand     125000                  8  gasoline        jeep         NaN   \n",
       "3   golf     150000                  6    petrol  volkswagen          no   \n",
       "4  fabia      90000                  7  gasoline       skoda          no   \n",
       "\n",
       "           DateCreated  NumberOfPictures  PostalCode             LastSeen  \n",
       "0  2016-03-24 00:00:00                 0       70435  2016-04-07 03:16:57  \n",
       "1  2016-03-24 00:00:00                 0       66954  2016-04-07 01:46:50  \n",
       "2  2016-03-14 00:00:00                 0       90480  2016-04-05 12:47:46  \n",
       "3  2016-03-17 00:00:00                 0       91074  2016-03-17 17:40:17  \n",
       "4  2016-03-31 00:00:00                 0       60437  2016-04-06 10:17:21  "
      ]
     },
     "execution_count": 6,
     "metadata": {},
     "output_type": "execute_result"
    }
   ],
   "source": [
    "df.head()"
   ]
  },
  {
   "cell_type": "code",
   "execution_count": 7,
   "metadata": {
    "scrolled": true
   },
   "outputs": [
    {
     "data": {
      "text/plain": [
       "['VehicleType', 'Gearbox', 'Model', 'FuelType', 'NotRepaired']"
      ]
     },
     "execution_count": 7,
     "metadata": {},
     "output_type": "execute_result"
    }
   ],
   "source": [
    "# список колонок с пропусками\n",
    "[x for x in list(df.columns) if df[x].count() != len(df)]"
   ]
  },
  {
   "cell_type": "markdown",
   "metadata": {},
   "source": [
    "**Вывод**\n",
    "\n",
    "- Есть пропуски в трех колонках типа object: `VehicleType`, `Gearbox`, `Model`, `FuelType`, `NotRepaired`\n",
    "- Стиль названия колонок не соответсвуем snake_case\n",
    "- Колонки с датами и временем имеют строковый тип данных (что не всегда является проблемой)"
   ]
  },
  {
   "cell_type": "markdown",
   "metadata": {},
   "source": [
    "### Названия колонок"
   ]
  },
  {
   "cell_type": "code",
   "execution_count": 8,
   "metadata": {},
   "outputs": [],
   "source": [
    "# функция для преобразоания верблюжего регистра в змеиный\n",
    "def snake_case(columns):\n",
    "    list1 = []\n",
    "    for column in columns:\n",
    "        # разделение названия колонки на слова по заглавным буквам\n",
    "        split_name = re.sub(r'([A-Z])', r' \\1', column).split()\n",
    "        # соединяе слова из названия через _ и делаем все буквы строчными\n",
    "        list1.append('_'.join(split_name).lower())\n",
    "    return list1"
   ]
  },
  {
   "cell_type": "code",
   "execution_count": 9,
   "metadata": {
    "scrolled": true
   },
   "outputs": [
    {
     "data": {
      "text/plain": [
       "Index(['date_crawled', 'price', 'vehicle_type', 'registration_year', 'gearbox',\n",
       "       'power', 'model', 'kilometer', 'registration_month', 'fuel_type',\n",
       "       'brand', 'not_repaired', 'date_created', 'number_of_pictures',\n",
       "       'postal_code', 'last_seen'],\n",
       "      dtype='object')"
      ]
     },
     "execution_count": 9,
     "metadata": {},
     "output_type": "execute_result"
    }
   ],
   "source": [
    "# переименование столбцов\n",
    "df.set_axis(snake_case(list(df.columns)), axis=1, inplace = True)\n",
    "# проверка\n",
    "df.columns"
   ]
  },
  {
   "cell_type": "markdown",
   "metadata": {},
   "source": [
    "### Пропуски"
   ]
  },
  {
   "cell_type": "code",
   "execution_count": 10,
   "metadata": {},
   "outputs": [
    {
     "data": {
      "text/html": [
       "<style  type=\"text/css\" >\n",
       "</style><table id=\"T_e74730e4_9713_11ec_919d_02420a3993f1\" ><thead>    <tr>        <th class=\"blank level0\" ></th>        <th class=\"col_heading level0 col0\" >sum</th>        <th class=\"col_heading level0 col1\" >mean</th>    </tr></thead><tbody>\n",
       "                <tr>\n",
       "                        <th id=\"T_e74730e4_9713_11ec_919d_02420a3993f1level0_row0\" class=\"row_heading level0 row0\" >date_crawled</th>\n",
       "                        <td id=\"T_e74730e4_9713_11ec_919d_02420a3993f1row0_col0\" class=\"data row0 col0\" >0</td>\n",
       "                        <td id=\"T_e74730e4_9713_11ec_919d_02420a3993f1row0_col1\" class=\"data row0 col1\" >0.00%</td>\n",
       "            </tr>\n",
       "            <tr>\n",
       "                        <th id=\"T_e74730e4_9713_11ec_919d_02420a3993f1level0_row1\" class=\"row_heading level0 row1\" >price</th>\n",
       "                        <td id=\"T_e74730e4_9713_11ec_919d_02420a3993f1row1_col0\" class=\"data row1 col0\" >0</td>\n",
       "                        <td id=\"T_e74730e4_9713_11ec_919d_02420a3993f1row1_col1\" class=\"data row1 col1\" >0.00%</td>\n",
       "            </tr>\n",
       "            <tr>\n",
       "                        <th id=\"T_e74730e4_9713_11ec_919d_02420a3993f1level0_row2\" class=\"row_heading level0 row2\" >vehicle_type</th>\n",
       "                        <td id=\"T_e74730e4_9713_11ec_919d_02420a3993f1row2_col0\" class=\"data row2 col0\" >37490</td>\n",
       "                        <td id=\"T_e74730e4_9713_11ec_919d_02420a3993f1row2_col1\" class=\"data row2 col1\" >10.58%</td>\n",
       "            </tr>\n",
       "            <tr>\n",
       "                        <th id=\"T_e74730e4_9713_11ec_919d_02420a3993f1level0_row3\" class=\"row_heading level0 row3\" >registration_year</th>\n",
       "                        <td id=\"T_e74730e4_9713_11ec_919d_02420a3993f1row3_col0\" class=\"data row3 col0\" >0</td>\n",
       "                        <td id=\"T_e74730e4_9713_11ec_919d_02420a3993f1row3_col1\" class=\"data row3 col1\" >0.00%</td>\n",
       "            </tr>\n",
       "            <tr>\n",
       "                        <th id=\"T_e74730e4_9713_11ec_919d_02420a3993f1level0_row4\" class=\"row_heading level0 row4\" >gearbox</th>\n",
       "                        <td id=\"T_e74730e4_9713_11ec_919d_02420a3993f1row4_col0\" class=\"data row4 col0\" >19833</td>\n",
       "                        <td id=\"T_e74730e4_9713_11ec_919d_02420a3993f1row4_col1\" class=\"data row4 col1\" >5.60%</td>\n",
       "            </tr>\n",
       "            <tr>\n",
       "                        <th id=\"T_e74730e4_9713_11ec_919d_02420a3993f1level0_row5\" class=\"row_heading level0 row5\" >power</th>\n",
       "                        <td id=\"T_e74730e4_9713_11ec_919d_02420a3993f1row5_col0\" class=\"data row5 col0\" >0</td>\n",
       "                        <td id=\"T_e74730e4_9713_11ec_919d_02420a3993f1row5_col1\" class=\"data row5 col1\" >0.00%</td>\n",
       "            </tr>\n",
       "            <tr>\n",
       "                        <th id=\"T_e74730e4_9713_11ec_919d_02420a3993f1level0_row6\" class=\"row_heading level0 row6\" >model</th>\n",
       "                        <td id=\"T_e74730e4_9713_11ec_919d_02420a3993f1row6_col0\" class=\"data row6 col0\" >19705</td>\n",
       "                        <td id=\"T_e74730e4_9713_11ec_919d_02420a3993f1row6_col1\" class=\"data row6 col1\" >5.56%</td>\n",
       "            </tr>\n",
       "            <tr>\n",
       "                        <th id=\"T_e74730e4_9713_11ec_919d_02420a3993f1level0_row7\" class=\"row_heading level0 row7\" >kilometer</th>\n",
       "                        <td id=\"T_e74730e4_9713_11ec_919d_02420a3993f1row7_col0\" class=\"data row7 col0\" >0</td>\n",
       "                        <td id=\"T_e74730e4_9713_11ec_919d_02420a3993f1row7_col1\" class=\"data row7 col1\" >0.00%</td>\n",
       "            </tr>\n",
       "            <tr>\n",
       "                        <th id=\"T_e74730e4_9713_11ec_919d_02420a3993f1level0_row8\" class=\"row_heading level0 row8\" >registration_month</th>\n",
       "                        <td id=\"T_e74730e4_9713_11ec_919d_02420a3993f1row8_col0\" class=\"data row8 col0\" >0</td>\n",
       "                        <td id=\"T_e74730e4_9713_11ec_919d_02420a3993f1row8_col1\" class=\"data row8 col1\" >0.00%</td>\n",
       "            </tr>\n",
       "            <tr>\n",
       "                        <th id=\"T_e74730e4_9713_11ec_919d_02420a3993f1level0_row9\" class=\"row_heading level0 row9\" >fuel_type</th>\n",
       "                        <td id=\"T_e74730e4_9713_11ec_919d_02420a3993f1row9_col0\" class=\"data row9 col0\" >32895</td>\n",
       "                        <td id=\"T_e74730e4_9713_11ec_919d_02420a3993f1row9_col1\" class=\"data row9 col1\" >9.28%</td>\n",
       "            </tr>\n",
       "            <tr>\n",
       "                        <th id=\"T_e74730e4_9713_11ec_919d_02420a3993f1level0_row10\" class=\"row_heading level0 row10\" >brand</th>\n",
       "                        <td id=\"T_e74730e4_9713_11ec_919d_02420a3993f1row10_col0\" class=\"data row10 col0\" >0</td>\n",
       "                        <td id=\"T_e74730e4_9713_11ec_919d_02420a3993f1row10_col1\" class=\"data row10 col1\" >0.00%</td>\n",
       "            </tr>\n",
       "            <tr>\n",
       "                        <th id=\"T_e74730e4_9713_11ec_919d_02420a3993f1level0_row11\" class=\"row_heading level0 row11\" >not_repaired</th>\n",
       "                        <td id=\"T_e74730e4_9713_11ec_919d_02420a3993f1row11_col0\" class=\"data row11 col0\" >71154</td>\n",
       "                        <td id=\"T_e74730e4_9713_11ec_919d_02420a3993f1row11_col1\" class=\"data row11 col1\" >20.08%</td>\n",
       "            </tr>\n",
       "            <tr>\n",
       "                        <th id=\"T_e74730e4_9713_11ec_919d_02420a3993f1level0_row12\" class=\"row_heading level0 row12\" >date_created</th>\n",
       "                        <td id=\"T_e74730e4_9713_11ec_919d_02420a3993f1row12_col0\" class=\"data row12 col0\" >0</td>\n",
       "                        <td id=\"T_e74730e4_9713_11ec_919d_02420a3993f1row12_col1\" class=\"data row12 col1\" >0.00%</td>\n",
       "            </tr>\n",
       "            <tr>\n",
       "                        <th id=\"T_e74730e4_9713_11ec_919d_02420a3993f1level0_row13\" class=\"row_heading level0 row13\" >number_of_pictures</th>\n",
       "                        <td id=\"T_e74730e4_9713_11ec_919d_02420a3993f1row13_col0\" class=\"data row13 col0\" >0</td>\n",
       "                        <td id=\"T_e74730e4_9713_11ec_919d_02420a3993f1row13_col1\" class=\"data row13 col1\" >0.00%</td>\n",
       "            </tr>\n",
       "            <tr>\n",
       "                        <th id=\"T_e74730e4_9713_11ec_919d_02420a3993f1level0_row14\" class=\"row_heading level0 row14\" >postal_code</th>\n",
       "                        <td id=\"T_e74730e4_9713_11ec_919d_02420a3993f1row14_col0\" class=\"data row14 col0\" >0</td>\n",
       "                        <td id=\"T_e74730e4_9713_11ec_919d_02420a3993f1row14_col1\" class=\"data row14 col1\" >0.00%</td>\n",
       "            </tr>\n",
       "            <tr>\n",
       "                        <th id=\"T_e74730e4_9713_11ec_919d_02420a3993f1level0_row15\" class=\"row_heading level0 row15\" >last_seen</th>\n",
       "                        <td id=\"T_e74730e4_9713_11ec_919d_02420a3993f1row15_col0\" class=\"data row15 col0\" >0</td>\n",
       "                        <td id=\"T_e74730e4_9713_11ec_919d_02420a3993f1row15_col1\" class=\"data row15 col1\" >0.00%</td>\n",
       "            </tr>\n",
       "    </tbody></table>"
      ],
      "text/plain": [
       "<pandas.io.formats.style.Styler at 0x7fc66e45acd0>"
      ]
     },
     "execution_count": 10,
     "metadata": {},
     "output_type": "execute_result"
    }
   ],
   "source": [
    "df.isna().agg(['sum', 'mean']).T.style.format({'mean': '{:.2%}'})"
   ]
  },
  {
   "cell_type": "markdown",
   "metadata": {},
   "source": [
    "Поскольку все пропуски в столбцах с типом данных object и достоверного способа восстановить их нет, выделим их в группу 'unidentified', заполнив этим значением пропуски."
   ]
  },
  {
   "cell_type": "code",
   "execution_count": 11,
   "metadata": {
    "scrolled": true
   },
   "outputs": [
    {
     "data": {
      "text/plain": [
       "date_crawled          0\n",
       "price                 0\n",
       "vehicle_type          0\n",
       "registration_year     0\n",
       "gearbox               0\n",
       "power                 0\n",
       "model                 0\n",
       "kilometer             0\n",
       "registration_month    0\n",
       "fuel_type             0\n",
       "brand                 0\n",
       "not_repaired          0\n",
       "date_created          0\n",
       "number_of_pictures    0\n",
       "postal_code           0\n",
       "last_seen             0\n",
       "dtype: int64"
      ]
     },
     "execution_count": 11,
     "metadata": {},
     "output_type": "execute_result"
    }
   ],
   "source": [
    "df = df.fillna('unidentified')\n",
    "df.isna().sum()"
   ]
  },
  {
   "cell_type": "markdown",
   "metadata": {},
   "source": [
    "### Дубликаты"
   ]
  },
  {
   "cell_type": "code",
   "execution_count": 12,
   "metadata": {},
   "outputs": [
    {
     "data": {
      "text/plain": [
       "4"
      ]
     },
     "execution_count": 12,
     "metadata": {},
     "output_type": "execute_result"
    }
   ],
   "source": [
    "# наличие дубликатов\n",
    "df.duplicated().sum()"
   ]
  },
  {
   "cell_type": "code",
   "execution_count": 13,
   "metadata": {},
   "outputs": [
    {
     "data": {
      "text/plain": [
       "0"
      ]
     },
     "execution_count": 13,
     "metadata": {},
     "output_type": "execute_result"
    }
   ],
   "source": [
    "# удаление дубликатов и проверка на наличие\n",
    "df = df.drop_duplicates().reset_index(drop= True)\n",
    "df.duplicated().sum()"
   ]
  },
  {
   "cell_type": "markdown",
   "metadata": {},
   "source": [
    "### Преобразование типов"
   ]
  },
  {
   "cell_type": "code",
   "execution_count": 14,
   "metadata": {},
   "outputs": [],
   "source": [
    "# преобразование в дату\n",
    "df['date_crawled'] = pd.to_datetime(df['date_crawled'], format='%Y-%m-%d %H:%M:%S')\n",
    "df['date_created'] = pd.to_datetime(df['date_created'], format='%Y-%m-%d %H:%M:%S')\n",
    "df['last_seen'] = pd.to_datetime(df['last_seen'], format='%Y-%m-%d %H:%M:%S')"
   ]
  },
  {
   "cell_type": "markdown",
   "metadata": {},
   "source": [
    "### Первичный анализ данных"
   ]
  },
  {
   "cell_type": "code",
   "execution_count": 15,
   "metadata": {},
   "outputs": [],
   "source": [
    "#!pip install sweetviz\n",
    "#import sweetviz as sv\n",
    "\n",
    "#report = sv.analyze([df, \"full table\"])\n",
    "#report.show_notebook(w=940, h=550, scale=0.9)"
   ]
  },
  {
   "cell_type": "code",
   "execution_count": 16,
   "metadata": {},
   "outputs": [],
   "source": [
    "def data_types(df):\n",
    "    '''\n",
    "    Функция для сортировки столбцов по типам данных. \n",
    "    Принимает таблицу, возвращает кортеж списков с назвниями колонок:\n",
    "    1 - список колонок с данными типа object,\n",
    "    2 - список колонок с числовыми данными,\n",
    "    3 - список колонок с данными типа bool,\n",
    "    4 - остальное\n",
    "    '''\n",
    "    list_obj = []\n",
    "    list_num = []\n",
    "    list_bool = []\n",
    "    list_other = []\n",
    "    \n",
    "    for i in range(len(df.dtypes)):\n",
    "        if df.dtypes[i] == object:\n",
    "            list_obj.append(df.dtypes.index[i])\n",
    "        elif df.dtypes[i] == int or df.dtypes[i] == float:\n",
    "            list_num.append(df.dtypes.index[i])\n",
    "        elif df.dtypes[i] == bool:\n",
    "            list_bool.append(df.dtypes.index[i])\n",
    "        else:\n",
    "            list_other.append(df.dtypes.index[i])\n",
    "            \n",
    "    return list_obj, list_num, list_bool, list_other"
   ]
  },
  {
   "cell_type": "code",
   "execution_count": 17,
   "metadata": {},
   "outputs": [],
   "source": [
    "# отделяем числовые и строковые столбцы\n",
    "obj_columns, num_columns = data_types(df)[0:2]\n",
    "date_columns = data_types(df)[3]"
   ]
  },
  {
   "cell_type": "markdown",
   "metadata": {},
   "source": [
    "#### категориальные"
   ]
  },
  {
   "cell_type": "code",
   "execution_count": 18,
   "metadata": {
    "scrolled": false
   },
   "outputs": [
    {
     "name": "stdout",
     "output_type": "stream",
     "text": [
      "\n",
      "                             vehicle_type                             \n",
      "count     354365\n",
      "unique         9\n",
      "top        sedan\n",
      "freq       91457\n",
      "Name: vehicle_type, dtype: object\n"
     ]
    },
    {
     "data": {
      "image/png": "[encoded data removed]",
      "text/plain": [
       "<Figure size 720x432 with 1 Axes>"
      ]
     },
     "metadata": {
      "needs_background": "light"
     },
     "output_type": "display_data"
    },
    {
     "name": "stdout",
     "output_type": "stream",
     "text": [
      "\n",
      "                               gearbox                                \n",
      "count     354365\n",
      "unique         3\n",
      "top       manual\n",
      "freq      268249\n",
      "Name: gearbox, dtype: object\n"
     ]
    },
    {
     "data": {
      "image/png": "[encoded data removed]",
      "text/plain": [
       "<Figure size 720x432 with 1 Axes>"
      ]
     },
     "metadata": {
      "needs_background": "light"
     },
     "output_type": "display_data"
    },
    {
     "name": "stdout",
     "output_type": "stream",
     "text": [
      "\n",
      "                                model                                 \n",
      "count     354365\n",
      "unique       251\n",
      "top         golf\n",
      "freq       29232\n",
      "Name: model, dtype: object\n"
     ]
    },
    {
     "data": {
      "image/png": "[encoded data removed]",
      "text/plain": [
       "<Figure size 720x432 with 1 Axes>"
      ]
     },
     "metadata": {
      "needs_background": "light"
     },
     "output_type": "display_data"
    },
    {
     "name": "stdout",
     "output_type": "stream",
     "text": [
      "\n",
      "                              fuel_type                               \n",
      "count     354365\n",
      "unique         8\n",
      "top       petrol\n",
      "freq      216349\n",
      "Name: fuel_type, dtype: object\n"
     ]
    },
    {
     "data": {
      "image/png": "[encoded data removed]",
      "text/plain": [
       "<Figure size 720x432 with 1 Axes>"
      ]
     },
     "metadata": {
      "needs_background": "light"
     },
     "output_type": "display_data"
    },
    {
     "name": "stdout",
     "output_type": "stream",
     "text": [
      "\n",
      "                                brand                                 \n",
      "count         354365\n",
      "unique            40\n",
      "top       volkswagen\n",
      "freq           77012\n",
      "Name: brand, dtype: object\n"
     ]
    },
    {
     "data": {
      "image/png": "[encoded data removed]",
      "text/plain": [
       "<Figure size 720x432 with 1 Axes>"
      ]
     },
     "metadata": {
      "needs_background": "light"
     },
     "output_type": "display_data"
    },
    {
     "name": "stdout",
     "output_type": "stream",
     "text": [
      "\n",
      "                             not_repaired                             \n",
      "count     354365\n",
      "unique         3\n",
      "top           no\n",
      "freq      247158\n",
      "Name: not_repaired, dtype: object\n"
     ]
    },
    {
     "data": {
      "image/png": "[encoded data removed]",
      "text/plain": [
       "<Figure size 720x432 with 1 Axes>"
      ]
     },
     "metadata": {
      "needs_background": "light"
     },
     "output_type": "display_data"
    }
   ],
   "source": [
    "# смотрим на уникальные значения \n",
    "for i in obj_columns:\n",
    "    print(f'\\n{i:^70}')\n",
    "    print(df[i].describe())\n",
    "    df[i].value_counts(ascending=False).plot(kind='bar', rot=45, figsize=(10,6))\n",
    "    plt.xlabel(i)\n",
    "    plt.show()"
   ]
  },
  {
   "cell_type": "code",
   "execution_count": 19,
   "metadata": {
    "scrolled": false
   },
   "outputs": [
    {
     "data": {
      "text/plain": [
       "array(['golf', 'unidentified', 'grand', 'fabia', '3er', '2_reihe',\n",
       "       'other', 'c_max', '3_reihe', 'passat', 'navara', 'ka', 'polo',\n",
       "       'twingo', 'a_klasse', 'scirocco', '5er', 'meriva', 'arosa', 'c4',\n",
       "       'civic', 'transporter', 'punto', 'e_klasse', 'clio', 'kadett',\n",
       "       'kangoo', 'corsa', 'one', 'fortwo', '1er', 'b_klasse', 'signum',\n",
       "       'astra', 'a8', 'jetta', 'fiesta', 'c_klasse', 'micra', 'vito',\n",
       "       'sprinter', '156', 'escort', 'forester', 'xc_reihe', 'scenic',\n",
       "       'a4', 'a1', 'insignia', 'combo', 'focus', 'tt', 'a6', 'jazz',\n",
       "       'omega', 'slk', '7er', '80', '147', '100', 'z_reihe', 'sportage',\n",
       "       'sorento', 'v40', 'ibiza', 'mustang', 'eos', 'touran', 'getz',\n",
       "       'a3', 'almera', 'megane', 'lupo', 'r19', 'zafira', 'caddy',\n",
       "       'mondeo', 'cordoba', 'colt', 'impreza', 'vectra', 'berlingo',\n",
       "       'tiguan', 'i_reihe', 'espace', 'sharan', '6_reihe', 'panda', 'up',\n",
       "       'seicento', 'ceed', '5_reihe', 'yeti', 'octavia', 'mii',\n",
       "       'rx_reihe', '6er', 'modus', 'fox', 'matiz', 'beetle', 'c1', 'rio',\n",
       "       'touareg', 'logan', 'spider', 'cuore', 's_max', 'a2', 'galaxy',\n",
       "       'c3', 'viano', 's_klasse', '1_reihe', 'avensis', 'roomster', 'sl',\n",
       "       'kaefer', 'santa', 'cooper', 'leon', '4_reihe', 'a5', '500',\n",
       "       'laguna', 'ptcruiser', 'clk', 'primera', 'x_reihe', 'exeo', '159',\n",
       "       'transit', 'juke', 'qashqai', 'carisma', 'accord', 'corolla',\n",
       "       'lanos', 'phaeton', 'verso', 'swift', 'rav', 'picanto', 'boxster',\n",
       "       'kalos', 'superb', 'stilo', 'alhambra', 'mx_reihe', 'roadster',\n",
       "       'ypsilon', 'cayenne', 'galant', 'justy', '90', 'sirion',\n",
       "       'crossfire', 'agila', 'duster', 'cr_reihe', 'v50', 'c_reihe',\n",
       "       'v_klasse', 'm_klasse', 'yaris', 'c5', 'aygo', 'cc', 'carnival',\n",
       "       'fusion', '911', 'bora', 'forfour', 'm_reihe', 'cl', 'tigra',\n",
       "       '300c', 'spark', 'v70', 'kuga', 'x_type', 'ducato', 's_type',\n",
       "       'x_trail', 'toledo', 'altea', 'voyager', 'calibra', 'bravo',\n",
       "       'antara', 'tucson', 'citigo', 'jimny', 'wrangler', 'lybra', 'q7',\n",
       "       'lancer', 'captiva', 'c2', 'discovery', 'freelander', 'sandero',\n",
       "       'note', '900', 'cherokee', 'clubman', 'samara', 'defender', '601',\n",
       "       'cx_reihe', 'legacy', 'pajero', 'auris', 'niva', 's60', 'nubira',\n",
       "       'vivaro', 'g_klasse', 'lodgy', '850', 'range_rover', 'q3',\n",
       "       'serie_2', 'glk', 'charade', 'croma', 'outlander', 'doblo', 'musa',\n",
       "       'move', '9000', 'v60', '145', 'aveo', '200', 'b_max',\n",
       "       'range_rover_sport', 'terios', 'rangerover', 'q5',\n",
       "       'range_rover_evoque', 'materia', 'delta', 'gl', 'kalina', 'amarok',\n",
       "       'elefantino', 'i3', 'kappa', 'serie_3', 'serie_1'], dtype=object)"
      ]
     },
     "execution_count": 19,
     "metadata": {},
     "output_type": "execute_result"
    }
   ],
   "source": [
    "df['model'].unique()"
   ]
  },
  {
   "cell_type": "markdown",
   "metadata": {},
   "source": [
    "Типов топлива довольно много, причем для бензина два названия ('gasoline', 'petrol'), для газа (разного типа) - тоже. Сделаем 4 группы: бензин, топливо, другое, неизвестно"
   ]
  },
  {
   "cell_type": "code",
   "execution_count": 20,
   "metadata": {},
   "outputs": [],
   "source": [
    "# замена значений в столце \n",
    "df['fuel_type'].replace('gasoline','petrol',inplace=True)\n",
    "df['fuel_type'].replace(['lpg', 'cng'],'gas',inplace=True)\n",
    "df['fuel_type'].replace(['hybrid', 'electric'],'other',inplace=True)"
   ]
  },
  {
   "cell_type": "code",
   "execution_count": 21,
   "metadata": {},
   "outputs": [
    {
     "data": {
      "text/plain": [
       "array(['petrol', 'unidentified', 'gas', 'other'], dtype=object)"
      ]
     },
     "execution_count": 21,
     "metadata": {},
     "output_type": "execute_result"
    }
   ],
   "source": [
    "df['fuel_type'].unique()"
   ]
  },
  {
   "cell_type": "code",
   "execution_count": 22,
   "metadata": {
    "scrolled": false
   },
   "outputs": [
    {
     "name": "stdout",
     "output_type": "stream",
     "text": [
      "\n",
      "                                price                                 \n",
      "count    354365.000000\n",
      "mean       4416.679830\n",
      "std        4514.176349\n",
      "min           0.000000\n",
      "25%        1050.000000\n",
      "50%        2700.000000\n",
      "75%        6400.000000\n",
      "max       20000.000000\n",
      "Name: price, dtype: float64\n"
     ]
    },
    {
     "data": {
      "image/png": "[encoded data removed]",
      "text/plain": [
       "<Figure size 288x216 with 1 Axes>"
      ]
     },
     "metadata": {
      "needs_background": "light"
     },
     "output_type": "display_data"
    },
    {
     "name": "stdout",
     "output_type": "stream",
     "text": [
      "\n",
      "                          registration_year                           \n",
      "count    354365.000000\n",
      "mean       2004.234481\n",
      "std          90.228466\n",
      "min        1000.000000\n",
      "25%        1999.000000\n",
      "50%        2003.000000\n",
      "75%        2008.000000\n",
      "max        9999.000000\n",
      "Name: registration_year, dtype: float64\n"
     ]
    },
    {
     "data": {
      "image/png": "[encoded data removed]",
      "text/plain": [
       "<Figure size 288x216 with 1 Axes>"
      ]
     },
     "metadata": {
      "needs_background": "light"
     },
     "output_type": "display_data"
    },
    {
     "name": "stdout",
     "output_type": "stream",
     "text": [
      "\n",
      "                                power                                 \n",
      "count    354365.000000\n",
      "mean        110.093816\n",
      "std         189.851330\n",
      "min           0.000000\n",
      "25%          69.000000\n",
      "50%         105.000000\n",
      "75%         143.000000\n",
      "max       20000.000000\n",
      "Name: power, dtype: float64\n"
     ]
    },
    {
     "data": {
      "image/png": "[encoded data removed]",
      "text/plain": [
       "<Figure size 288x216 with 1 Axes>"
      ]
     },
     "metadata": {
      "needs_background": "light"
     },
     "output_type": "display_data"
    },
    {
     "name": "stdout",
     "output_type": "stream",
     "text": [
      "\n",
      "                              kilometer                               \n",
      "count    354365.000000\n",
      "mean     128211.363989\n",
      "std       37905.083858\n",
      "min        5000.000000\n",
      "25%      125000.000000\n",
      "50%      150000.000000\n",
      "75%      150000.000000\n",
      "max      150000.000000\n",
      "Name: kilometer, dtype: float64\n"
     ]
    },
    {
     "data": {
      "image/png": "[encoded data removed]",
      "text/plain": [
       "<Figure size 288x216 with 1 Axes>"
      ]
     },
     "metadata": {
      "needs_background": "light"
     },
     "output_type": "display_data"
    },
    {
     "name": "stdout",
     "output_type": "stream",
     "text": [
      "\n",
      "                          registration_month                          \n",
      "count    354365.000000\n",
      "mean          5.714650\n",
      "std           3.726432\n",
      "min           0.000000\n",
      "25%           3.000000\n",
      "50%           6.000000\n",
      "75%           9.000000\n",
      "max          12.000000\n",
      "Name: registration_month, dtype: float64\n"
     ]
    },
    {
     "data": {
      "image/png": "[encoded data removed]",
      "text/plain": [
       "<Figure size 288x216 with 1 Axes>"
      ]
     },
     "metadata": {
      "needs_background": "light"
     },
     "output_type": "display_data"
    },
    {
     "name": "stdout",
     "output_type": "stream",
     "text": [
      "\n",
      "                          number_of_pictures                          \n",
      "count    354365.0\n",
      "mean          0.0\n",
      "std           0.0\n",
      "min           0.0\n",
      "25%           0.0\n",
      "50%           0.0\n",
      "75%           0.0\n",
      "max           0.0\n",
      "Name: number_of_pictures, dtype: float64\n"
     ]
    },
    {
     "data": {
      "image/png": "[encoded data removed]",
      "text/plain": [
       "<Figure size 288x216 with 1 Axes>"
      ]
     },
     "metadata": {
      "needs_background": "light"
     },
     "output_type": "display_data"
    },
    {
     "name": "stdout",
     "output_type": "stream",
     "text": [
      "\n",
      "                             postal_code                              \n",
      "count    354365.000000\n",
      "mean      50508.503800\n",
      "std       25783.100078\n",
      "min        1067.000000\n",
      "25%       30165.000000\n",
      "50%       49413.000000\n",
      "75%       71083.000000\n",
      "max       99998.000000\n",
      "Name: postal_code, dtype: float64\n"
     ]
    },
    {
     "data": {
      "image/png": "[encoded data removed]",
      "text/plain": [
       "<Figure size 288x216 with 1 Axes>"
      ]
     },
     "metadata": {
      "needs_background": "light"
     },
     "output_type": "display_data"
    }
   ],
   "source": [
    "# смотрим на распределения и описания числовых столбцов\n",
    "for i in num_columns:\n",
    "    print(f'\\n{i:^70}')\n",
    "    print(df[i].describe())\n",
    "    df[i].hist(figsize=(4, 3))\n",
    "    plt.xlabel(i)\n",
    "    plt.ylabel('frequency')\n",
    "    plt.show()"
   ]
  },
  {
   "cell_type": "markdown",
   "metadata": {},
   "source": [
    "**Выводы**"
   ]
  },
  {
   "cell_type": "markdown",
   "metadata": {},
   "source": [
    "- В столбце `number_of_pictures` все значения равны 0. Этот стобец не несет какой-либо информации\n",
    "- В столбце `registration_year` есть значение 1000 и 9999. Это надо проверить\n",
    "- В столбце `price` есть нулевые значения. Их надо проверить\n",
    "- В столбце `power` есть и нулевые значения, и очень большие. Их надо проверить\n",
    "- В столбце `registration_month` есть номер месяца 0. Количество таких строк сопоставимо с кол-вом строк для других месяцов. Скорее всего нуль является маркером того, что автор анкеты не знает эту информацию или не стал ее указывать."
   ]
  },
  {
   "cell_type": "markdown",
   "metadata": {},
   "source": [
    "#### registration_year"
   ]
  },
  {
   "cell_type": "code",
   "execution_count": 23,
   "metadata": {},
   "outputs": [
    {
     "data": {
      "text/plain": [
       "0.018624864193698586"
      ]
     },
     "execution_count": 23,
     "metadata": {},
     "output_type": "execute_result"
    }
   ],
   "source": [
    "# доля объявлений, год регистрации автомобиля в которых до 1900\n",
    "df.query('registration_year < 1900')['date_crawled'].count() / len(df) * 100"
   ]
  },
  {
   "cell_type": "code",
   "execution_count": 24,
   "metadata": {},
   "outputs": [
    {
     "data": {
      "text/plain": [
       "1992.0"
      ]
     },
     "execution_count": 24,
     "metadata": {},
     "output_type": "execute_result"
    }
   ],
   "source": [
    "np.quantile(df['registration_year'], 0.05)"
   ]
  },
  {
   "cell_type": "markdown",
   "metadata": {},
   "source": [
    "При том, что ни одно объявление не выложено после 2016 года, в столбце \"дата регистрации авто\" есть более поздние даты, чего не может быть на самом деле"
   ]
  },
  {
   "cell_type": "code",
   "execution_count": 25,
   "metadata": {},
   "outputs": [
    {
     "data": {
      "text/plain": [
       "4.100292071733946"
      ]
     },
     "execution_count": 25,
     "metadata": {},
     "output_type": "execute_result"
    }
   ],
   "source": [
    "# доля автомобилей, зарегистированных после 2016 года\n",
    "df.query('registration_year > 2016')['date_crawled'].count() / len(df) * 100"
   ]
  },
  {
   "cell_type": "markdown",
   "metadata": {},
   "source": [
    "Оставим только объявления, дата регистрации автомобилей в которых в пределах от 1992 (чтобы не было длинного хвоста) до 2016."
   ]
  },
  {
   "cell_type": "code",
   "execution_count": 26,
   "metadata": {},
   "outputs": [],
   "source": [
    "df = df.query('registration_year <= 2016')"
   ]
  },
  {
   "cell_type": "code",
   "execution_count": 27,
   "metadata": {},
   "outputs": [],
   "source": [
    "df = df[df['registration_year'] >=  np.quantile(df['registration_year'], 0.05)]"
   ]
  },
  {
   "cell_type": "code",
   "execution_count": 28,
   "metadata": {},
   "outputs": [
    {
     "data": {
      "image/png": "[encoded data removed]",
      "text/plain": [
       "<Figure size 432x288 with 1 Axes>"
      ]
     },
     "metadata": {
      "needs_background": "light"
     },
     "output_type": "display_data"
    }
   ],
   "source": [
    "df['registration_year'].plot(kind='hist', bins=60)\n",
    "plt.title('registration_year')\n",
    "plt.xlabel('year')\n",
    "plt.show()"
   ]
  },
  {
   "cell_type": "markdown",
   "metadata": {},
   "source": [
    "#### power "
   ]
  },
  {
   "cell_type": "code",
   "execution_count": 29,
   "metadata": {
    "scrolled": false
   },
   "outputs": [
    {
     "data": {
      "image/png": "[encoded data removed]",
      "text/plain": [
       "<Figure size 432x288 with 1 Axes>"
      ]
     },
     "metadata": {
      "needs_background": "light"
     },
     "output_type": "display_data"
    }
   ],
   "source": [
    "# распределение объявлений по указанной мощности\n",
    "df['power'].plot(kind='hist', bins=500)\n",
    "plt.xlim(0, 2500)\n",
    "plt.xlabel('power')\n",
    "plt.show()"
   ]
  },
  {
   "cell_type": "code",
   "execution_count": 30,
   "metadata": {},
   "outputs": [
    {
     "data": {
      "text/plain": [
       "count    324598.000000\n",
       "mean        112.156754\n",
       "std         183.674678\n",
       "min           0.000000\n",
       "25%          71.000000\n",
       "50%         105.000000\n",
       "75%         143.000000\n",
       "max       20000.000000\n",
       "Name: power, dtype: float64"
      ]
     },
     "execution_count": 30,
     "metadata": {},
     "output_type": "execute_result"
    }
   ],
   "source": [
    "df['power'].describe()"
   ]
  },
  {
   "cell_type": "code",
   "execution_count": 31,
   "metadata": {
    "scrolled": true
   },
   "outputs": [
    {
     "name": "stdout",
     "output_type": "stream",
     "text": [
      "объявления, где мощность более 400 л.с.\n",
      "% 0.2\n"
     ]
    }
   ],
   "source": [
    "# доля объявлений, где мощность более 400 л.с. \n",
    "print('объявления, где мощность более 400 л.с.')\n",
    "print('%', round(df.query('power > 400')['date_crawled'].count() / len(df) * 100, 2))"
   ]
  },
  {
   "cell_type": "markdown",
   "metadata": {},
   "source": [
    "На момент публикаций объявлений (2016г) самое большая мощность  2500 л.с. у Dagger GT (2010 год выпуска), причем автомобили с огрромной мощностью, зачастую, не серийные. В таблице их сотни, что достаточно много для такого сегмента. Кроме того, стоит обратить внимание на их стоимость"
   ]
  },
  {
   "cell_type": "code",
   "execution_count": 32,
   "metadata": {},
   "outputs": [
    {
     "data": {
      "image/png": "[encoded data removed]",
      "text/plain": [
       "<Figure size 432x288 with 1 Axes>"
      ]
     },
     "metadata": {
      "needs_background": "light"
     },
     "output_type": "display_data"
    }
   ],
   "source": [
    "df.query('power < 2500').plot(x='power', y='price', kind='scatter')\n",
    "plt.show()"
   ]
  },
  {
   "cell_type": "markdown",
   "metadata": {},
   "source": [
    "Большинство точек сосредоточено до 500 л.с., причем после 500 л.с. цены не достигают больших значений."
   ]
  },
  {
   "cell_type": "markdown",
   "metadata": {},
   "source": [
    "На графике видно, что есть довольно много автомобилей, чью мощность оценивают в 0 л.с. Вероятнее всего, продавцы не знают мощность. Оставим эти объявления, тем более что их 10%"
   ]
  },
  {
   "cell_type": "code",
   "execution_count": 33,
   "metadata": {},
   "outputs": [
    {
     "data": {
      "text/plain": [
       "10.164264721286022"
      ]
     },
     "execution_count": 33,
     "metadata": {},
     "output_type": "execute_result"
    }
   ],
   "source": [
    "# доля объявлений, где мощность = 0 л.с.\n",
    "df.query('power == 0')['date_crawled'].count() / len(df) * 100"
   ]
  },
  {
   "cell_type": "code",
   "execution_count": 34,
   "metadata": {},
   "outputs": [
    {
     "data": {
      "text/plain": [
       "218.0"
      ]
     },
     "execution_count": 34,
     "metadata": {},
     "output_type": "execute_result"
    }
   ],
   "source": [
    "np.quantile(df['power'], 0.95)"
   ]
  },
  {
   "cell_type": "code",
   "execution_count": 35,
   "metadata": {},
   "outputs": [],
   "source": [
    "df = df[df['power'] < np.quantile(df['power'], 0.95)]"
   ]
  },
  {
   "cell_type": "markdown",
   "metadata": {},
   "source": [
    "#### price"
   ]
  },
  {
   "cell_type": "code",
   "execution_count": 36,
   "metadata": {
    "scrolled": true
   },
   "outputs": [
    {
     "data": {
      "text/plain": [
       "3.436542708846471"
      ]
     },
     "execution_count": 36,
     "metadata": {},
     "output_type": "execute_result"
    }
   ],
   "source": [
    "df.query('price < 100')['price'].count() / len(df) * 100"
   ]
  },
  {
   "cell_type": "code",
   "execution_count": 37,
   "metadata": {},
   "outputs": [
    {
     "data": {
      "image/png": "[encoded data removed]",
      "text/plain": [
       "<Figure size 432x288 with 1 Axes>"
      ]
     },
     "metadata": {
      "needs_background": "light"
     },
     "output_type": "display_data"
    }
   ],
   "source": [
    "# гистограмма\n",
    "df['price'].plot(kind='hist', bins=500)\n",
    "plt.xlim(0, 1000)\n",
    "plt.show()"
   ]
  },
  {
   "cell_type": "code",
   "execution_count": 38,
   "metadata": {},
   "outputs": [
    {
     "data": {
      "text/plain": [
       "count    306529.000000\n",
       "mean       4164.449449\n",
       "std        4271.758682\n",
       "min           0.000000\n",
       "25%        1000.000000\n",
       "50%        2590.000000\n",
       "75%        5900.000000\n",
       "max       20000.000000\n",
       "Name: price, dtype: float64"
      ]
     },
     "execution_count": 38,
     "metadata": {},
     "output_type": "execute_result"
    }
   ],
   "source": [
    "df['price'].describe()"
   ]
  },
  {
   "cell_type": "code",
   "execution_count": 39,
   "metadata": {},
   "outputs": [
    {
     "data": {
      "text/plain": [
       "10500.0"
      ]
     },
     "execution_count": 39,
     "metadata": {},
     "output_type": "execute_result"
    }
   ],
   "source": [
    "np.quantile(df['price'], 0.9)"
   ]
  },
  {
   "cell_type": "code",
   "execution_count": 40,
   "metadata": {
    "scrolled": true
   },
   "outputs": [
    {
     "data": {
      "text/plain": [
       "200.0"
      ]
     },
     "execution_count": 40,
     "metadata": {},
     "output_type": "execute_result"
    }
   ],
   "source": [
    "np.quantile(df['price'], 0.05)"
   ]
  },
  {
   "cell_type": "code",
   "execution_count": 41,
   "metadata": {},
   "outputs": [],
   "source": [
    "df = df[df['price'] > np.quantile(df['price'], 0.05)]"
   ]
  },
  {
   "cell_type": "code",
   "execution_count": 42,
   "metadata": {},
   "outputs": [],
   "source": [
    "df = df[df['price'] < np.quantile(df['price'], 0.9)]"
   ]
  },
  {
   "cell_type": "code",
   "execution_count": 43,
   "metadata": {
    "scrolled": true
   },
   "outputs": [
    {
     "data": {
      "text/plain": [
       "73.6763091579681"
      ]
     },
     "execution_count": 43,
     "metadata": {},
     "output_type": "execute_result"
    }
   ],
   "source": [
    "# % оставшихся строк\n",
    "len(df) / 354369  * 100"
   ]
  },
  {
   "cell_type": "markdown",
   "metadata": {},
   "source": [
    "#### Даты"
   ]
  },
  {
   "cell_type": "code",
   "execution_count": 44,
   "metadata": {
    "scrolled": true
   },
   "outputs": [
    {
     "name": "stdout",
     "output_type": "stream",
     "text": [
      "\n",
      "                             date_crawled                             \n",
      "count                  261086\n",
      "unique                 214907\n",
      "top       2016-03-20 16:50:22\n",
      "freq                        5\n",
      "first     2016-03-05 14:06:24\n",
      "last      2016-04-07 14:36:58\n",
      "Name: date_crawled, dtype: object\n"
     ]
    },
    {
     "data": {
      "image/png": "[encoded data removed]",
      "text/plain": [
       "<Figure size 288x216 with 1 Axes>"
      ]
     },
     "metadata": {
      "needs_background": "light"
     },
     "output_type": "display_data"
    },
    {
     "name": "stdout",
     "output_type": "stream",
     "text": [
      "\n",
      "                             date_created                             \n",
      "count                  261086\n",
      "unique                    102\n",
      "top       2016-04-03 00:00:00\n",
      "freq                    10082\n",
      "first     2014-03-10 00:00:00\n",
      "last      2016-04-07 00:00:00\n",
      "Name: date_created, dtype: object\n"
     ]
    },
    {
     "data": {
      "image/png": "[encoded data removed]",
      "text/plain": [
       "<Figure size 288x216 with 1 Axes>"
      ]
     },
     "metadata": {
      "needs_background": "light"
     },
     "output_type": "display_data"
    },
    {
     "name": "stdout",
     "output_type": "stream",
     "text": [
      "\n",
      "                              last_seen                               \n",
      "count                  261086\n",
      "unique                 146992\n",
      "top       2016-04-06 09:17:58\n",
      "freq                       15\n",
      "first     2016-03-05 14:15:08\n",
      "last      2016-04-07 14:58:51\n",
      "Name: last_seen, dtype: object\n"
     ]
    },
    {
     "data": {
      "image/png": "[encoded data removed]",
      "text/plain": [
       "<Figure size 288x216 with 1 Axes>"
      ]
     },
     "metadata": {
      "needs_background": "light"
     },
     "output_type": "display_data"
    }
   ],
   "source": [
    "for i in ['date_crawled', 'date_created', 'last_seen']:\n",
    "    print(f'\\n{i:^70}')\n",
    "    print(df[i].describe())\n",
    "    df[i].hist(figsize=(4, 3))\n",
    "    plt.xlabel(i)\n",
    "    plt.xticks(rotation=45)\n",
    "    plt.ylabel('frequency')\n",
    "    plt.show()"
   ]
  },
  {
   "cell_type": "code",
   "execution_count": 45,
   "metadata": {
    "scrolled": true
   },
   "outputs": [
    {
     "data": {
      "text/plain": [
       "20"
      ]
     },
     "execution_count": 45,
     "metadata": {},
     "output_type": "execute_result"
    }
   ],
   "source": [
    "df.query('date_created < 2016')['price'].count()"
   ]
  },
  {
   "cell_type": "markdown",
   "metadata": {},
   "source": [
    "Посчитаем число дней между датой объявления и датой последней активности."
   ]
  },
  {
   "cell_type": "code",
   "execution_count": 46,
   "metadata": {
    "scrolled": true
   },
   "outputs": [],
   "source": [
    "df['days_passed'] = (df['last_seen'] - df['date_created']).dt.round('1D').astype(\"timedelta64[D]\")"
   ]
  },
  {
   "cell_type": "markdown",
   "metadata": {},
   "source": [
    "## Обучение моделей"
   ]
  },
  {
   "cell_type": "markdown",
   "metadata": {},
   "source": [
    "### Подготовка признаков"
   ]
  },
  {
   "cell_type": "markdown",
   "metadata": {},
   "source": [
    "#### Удаление ненужных столбцов"
   ]
  },
  {
   "cell_type": "code",
   "execution_count": 47,
   "metadata": {},
   "outputs": [],
   "source": [
    "# удаляем даты, месяц регистрации, почтовый код, число картинок\n",
    "df = df.drop(['date_crawled', 'last_seen', 'date_created'], axis=1)\n",
    "df = df.drop(['registration_month', 'postal_code', 'number_of_pictures'], axis=1)"
   ]
  },
  {
   "cell_type": "code",
   "execution_count": 48,
   "metadata": {},
   "outputs": [],
   "source": [
    "# отделяем числовые и строковые признаки еще раз, т.к. некоторые колонки исчезли\n",
    "obj_features = ['vehicle_type', 'gearbox', 'model', 'fuel_type',\n",
    "       'brand', 'not_repaired']"
   ]
  },
  {
   "cell_type": "code",
   "execution_count": 49,
   "metadata": {},
   "outputs": [],
   "source": [
    "num_features = ['registration_year',\n",
    "       'power', 'kilometer',\n",
    "       'days_passed']"
   ]
  },
  {
   "cell_type": "code",
   "execution_count": 50,
   "metadata": {},
   "outputs": [
    {
     "data": {
      "text/html": [
       "<div>\n",
       "<style scoped>\n",
       "    .dataframe tbody tr th:only-of-type {\n",
       "        vertical-align: middle;\n",
       "    }\n",
       "\n",
       "    .dataframe tbody tr th {\n",
       "        vertical-align: top;\n",
       "    }\n",
       "\n",
       "    .dataframe thead th {\n",
       "        text-align: right;\n",
       "    }\n",
       "</style>\n",
       "<table border=\"1\" class=\"dataframe\">\n",
       "  <thead>\n",
       "    <tr style=\"text-align: right;\">\n",
       "      <th></th>\n",
       "      <th>price</th>\n",
       "      <th>vehicle_type</th>\n",
       "      <th>registration_year</th>\n",
       "      <th>gearbox</th>\n",
       "      <th>power</th>\n",
       "      <th>model</th>\n",
       "      <th>kilometer</th>\n",
       "      <th>fuel_type</th>\n",
       "      <th>brand</th>\n",
       "      <th>not_repaired</th>\n",
       "      <th>days_passed</th>\n",
       "    </tr>\n",
       "  </thead>\n",
       "  <tbody>\n",
       "    <tr>\n",
       "      <td>0</td>\n",
       "      <td>480</td>\n",
       "      <td>unidentified</td>\n",
       "      <td>1993</td>\n",
       "      <td>manual</td>\n",
       "      <td>0</td>\n",
       "      <td>golf</td>\n",
       "      <td>150000</td>\n",
       "      <td>petrol</td>\n",
       "      <td>volkswagen</td>\n",
       "      <td>unidentified</td>\n",
       "      <td>14.0</td>\n",
       "    </tr>\n",
       "    <tr>\n",
       "      <td>2</td>\n",
       "      <td>9800</td>\n",
       "      <td>suv</td>\n",
       "      <td>2004</td>\n",
       "      <td>auto</td>\n",
       "      <td>163</td>\n",
       "      <td>grand</td>\n",
       "      <td>125000</td>\n",
       "      <td>petrol</td>\n",
       "      <td>jeep</td>\n",
       "      <td>unidentified</td>\n",
       "      <td>23.0</td>\n",
       "    </tr>\n",
       "    <tr>\n",
       "      <td>3</td>\n",
       "      <td>1500</td>\n",
       "      <td>small</td>\n",
       "      <td>2001</td>\n",
       "      <td>manual</td>\n",
       "      <td>75</td>\n",
       "      <td>golf</td>\n",
       "      <td>150000</td>\n",
       "      <td>petrol</td>\n",
       "      <td>volkswagen</td>\n",
       "      <td>no</td>\n",
       "      <td>1.0</td>\n",
       "    </tr>\n",
       "    <tr>\n",
       "      <td>4</td>\n",
       "      <td>3600</td>\n",
       "      <td>small</td>\n",
       "      <td>2008</td>\n",
       "      <td>manual</td>\n",
       "      <td>69</td>\n",
       "      <td>fabia</td>\n",
       "      <td>90000</td>\n",
       "      <td>petrol</td>\n",
       "      <td>skoda</td>\n",
       "      <td>no</td>\n",
       "      <td>6.0</td>\n",
       "    </tr>\n",
       "    <tr>\n",
       "      <td>5</td>\n",
       "      <td>650</td>\n",
       "      <td>sedan</td>\n",
       "      <td>1995</td>\n",
       "      <td>manual</td>\n",
       "      <td>102</td>\n",
       "      <td>3er</td>\n",
       "      <td>150000</td>\n",
       "      <td>petrol</td>\n",
       "      <td>bmw</td>\n",
       "      <td>yes</td>\n",
       "      <td>3.0</td>\n",
       "    </tr>\n",
       "  </tbody>\n",
       "</table>\n",
       "</div>"
      ],
      "text/plain": [
       "   price  vehicle_type  registration_year gearbox  power  model  kilometer  \\\n",
       "0    480  unidentified               1993  manual      0   golf     150000   \n",
       "2   9800           suv               2004    auto    163  grand     125000   \n",
       "3   1500         small               2001  manual     75   golf     150000   \n",
       "4   3600         small               2008  manual     69  fabia      90000   \n",
       "5    650         sedan               1995  manual    102    3er     150000   \n",
       "\n",
       "  fuel_type       brand  not_repaired  days_passed  \n",
       "0    petrol  volkswagen  unidentified         14.0  \n",
       "2    petrol        jeep  unidentified         23.0  \n",
       "3    petrol  volkswagen            no          1.0  \n",
       "4    petrol       skoda            no          6.0  \n",
       "5    petrol         bmw           yes          3.0  "
      ]
     },
     "execution_count": 50,
     "metadata": {},
     "output_type": "execute_result"
    }
   ],
   "source": [
    "df.head()"
   ]
  },
  {
   "cell_type": "markdown",
   "metadata": {},
   "source": [
    "#### Кодирование категориальных признаков"
   ]
  },
  {
   "cell_type": "markdown",
   "metadata": {},
   "source": [
    "Проводим порядковое кодирование с помощью Ordinal Encoding, поскольку много категириальных признаков (до сотен)"
   ]
  },
  {
   "cell_type": "code",
   "execution_count": 51,
   "metadata": {
    "scrolled": true
   },
   "outputs": [
    {
     "data": {
      "text/html": [
       "<div>\n",
       "<style scoped>\n",
       "    .dataframe tbody tr th:only-of-type {\n",
       "        vertical-align: middle;\n",
       "    }\n",
       "\n",
       "    .dataframe tbody tr th {\n",
       "        vertical-align: top;\n",
       "    }\n",
       "\n",
       "    .dataframe thead th {\n",
       "        text-align: right;\n",
       "    }\n",
       "</style>\n",
       "<table border=\"1\" class=\"dataframe\">\n",
       "  <thead>\n",
       "    <tr style=\"text-align: right;\">\n",
       "      <th></th>\n",
       "      <th>vehicle_type</th>\n",
       "      <th>gearbox</th>\n",
       "      <th>model</th>\n",
       "      <th>fuel_type</th>\n",
       "      <th>brand</th>\n",
       "      <th>not_repaired</th>\n",
       "    </tr>\n",
       "  </thead>\n",
       "  <tbody>\n",
       "    <tr>\n",
       "      <td>0</td>\n",
       "      <td>unidentified</td>\n",
       "      <td>manual</td>\n",
       "      <td>golf</td>\n",
       "      <td>petrol</td>\n",
       "      <td>volkswagen</td>\n",
       "      <td>unidentified</td>\n",
       "    </tr>\n",
       "  </tbody>\n",
       "</table>\n",
       "</div>"
      ],
      "text/plain": [
       "   vehicle_type gearbox model fuel_type       brand  not_repaired\n",
       "0  unidentified  manual  golf    petrol  volkswagen  unidentified"
      ]
     },
     "execution_count": 51,
     "metadata": {},
     "output_type": "execute_result"
    }
   ],
   "source": [
    "# копия категириальных признаков для catboost\n",
    "df_cat = pd.DataFrame()\n",
    "df_cat = df[obj_features].copy()\n",
    "df_cat.head(1)"
   ]
  },
  {
   "cell_type": "code",
   "execution_count": 52,
   "metadata": {
    "scrolled": true
   },
   "outputs": [
    {
     "data": {
      "text/html": [
       "<div>\n",
       "<style scoped>\n",
       "    .dataframe tbody tr th:only-of-type {\n",
       "        vertical-align: middle;\n",
       "    }\n",
       "\n",
       "    .dataframe tbody tr th {\n",
       "        vertical-align: top;\n",
       "    }\n",
       "\n",
       "    .dataframe thead th {\n",
       "        text-align: right;\n",
       "    }\n",
       "</style>\n",
       "<table border=\"1\" class=\"dataframe\">\n",
       "  <thead>\n",
       "    <tr style=\"text-align: right;\">\n",
       "      <th></th>\n",
       "      <th>price</th>\n",
       "      <th>vehicle_type</th>\n",
       "      <th>registration_year</th>\n",
       "      <th>gearbox</th>\n",
       "      <th>power</th>\n",
       "      <th>model</th>\n",
       "      <th>kilometer</th>\n",
       "      <th>fuel_type</th>\n",
       "      <th>brand</th>\n",
       "      <th>not_repaired</th>\n",
       "      <th>days_passed</th>\n",
       "    </tr>\n",
       "  </thead>\n",
       "  <tbody>\n",
       "    <tr>\n",
       "      <td>0</td>\n",
       "      <td>480</td>\n",
       "      <td>7.0</td>\n",
       "      <td>1993</td>\n",
       "      <td>1.0</td>\n",
       "      <td>0</td>\n",
       "      <td>115.0</td>\n",
       "      <td>150000</td>\n",
       "      <td>2.0</td>\n",
       "      <td>38.0</td>\n",
       "      <td>1.0</td>\n",
       "      <td>14.0</td>\n",
       "    </tr>\n",
       "    <tr>\n",
       "      <td>2</td>\n",
       "      <td>9800</td>\n",
       "      <td>6.0</td>\n",
       "      <td>2004</td>\n",
       "      <td>0.0</td>\n",
       "      <td>163</td>\n",
       "      <td>116.0</td>\n",
       "      <td>125000</td>\n",
       "      <td>2.0</td>\n",
       "      <td>14.0</td>\n",
       "      <td>1.0</td>\n",
       "      <td>23.0</td>\n",
       "    </tr>\n",
       "    <tr>\n",
       "      <td>3</td>\n",
       "      <td>1500</td>\n",
       "      <td>5.0</td>\n",
       "      <td>2001</td>\n",
       "      <td>1.0</td>\n",
       "      <td>75</td>\n",
       "      <td>115.0</td>\n",
       "      <td>150000</td>\n",
       "      <td>2.0</td>\n",
       "      <td>38.0</td>\n",
       "      <td>0.0</td>\n",
       "      <td>1.0</td>\n",
       "    </tr>\n",
       "    <tr>\n",
       "      <td>4</td>\n",
       "      <td>3600</td>\n",
       "      <td>5.0</td>\n",
       "      <td>2008</td>\n",
       "      <td>1.0</td>\n",
       "      <td>69</td>\n",
       "      <td>101.0</td>\n",
       "      <td>90000</td>\n",
       "      <td>2.0</td>\n",
       "      <td>31.0</td>\n",
       "      <td>0.0</td>\n",
       "      <td>6.0</td>\n",
       "    </tr>\n",
       "    <tr>\n",
       "      <td>5</td>\n",
       "      <td>650</td>\n",
       "      <td>4.0</td>\n",
       "      <td>1995</td>\n",
       "      <td>1.0</td>\n",
       "      <td>102</td>\n",
       "      <td>11.0</td>\n",
       "      <td>150000</td>\n",
       "      <td>2.0</td>\n",
       "      <td>2.0</td>\n",
       "      <td>2.0</td>\n",
       "      <td>3.0</td>\n",
       "    </tr>\n",
       "  </tbody>\n",
       "</table>\n",
       "</div>"
      ],
      "text/plain": [
       "   price  vehicle_type  registration_year  gearbox  power  model  kilometer  \\\n",
       "0    480           7.0               1993      1.0      0  115.0     150000   \n",
       "2   9800           6.0               2004      0.0    163  116.0     125000   \n",
       "3   1500           5.0               2001      1.0     75  115.0     150000   \n",
       "4   3600           5.0               2008      1.0     69  101.0      90000   \n",
       "5    650           4.0               1995      1.0    102   11.0     150000   \n",
       "\n",
       "   fuel_type  brand  not_repaired  days_passed  \n",
       "0        2.0   38.0           1.0         14.0  \n",
       "2        2.0   14.0           1.0         23.0  \n",
       "3        2.0   38.0           0.0          1.0  \n",
       "4        2.0   31.0           0.0          6.0  \n",
       "5        2.0    2.0           2.0          3.0  "
      ]
     },
     "execution_count": 52,
     "metadata": {},
     "output_type": "execute_result"
    }
   ],
   "source": [
    "encoder = OrdinalEncoder()\n",
    "encoder.fit_transform(df[obj_features])\n",
    "df[obj_features] = encoder.transform(df[obj_features])\n",
    "df.head()"
   ]
  },
  {
   "cell_type": "markdown",
   "metadata": {},
   "source": [
    "#### Выделение признаков и разбиение"
   ]
  },
  {
   "cell_type": "code",
   "execution_count": 53,
   "metadata": {
    "scrolled": true
   },
   "outputs": [
    {
     "name": "stdout",
     "output_type": "stream",
     "text": [
      "Размер обучающей выборки: (195814, 11)\n",
      "Размер валидационной выборки: (65272, 11)\n"
     ]
    }
   ],
   "source": [
    "# выделение обучающей выборки\n",
    "index_train, index_test = train_test_split(\n",
    "    df.index.values, test_size=0.25, random_state=12345)\n",
    "\n",
    "# проверка размера\n",
    "print('Размер обучающей выборки:', df.loc[index_train].shape)\n",
    "print('Размер валидационной выборки:', df.loc[index_test].shape)"
   ]
  },
  {
   "cell_type": "code",
   "execution_count": 54,
   "metadata": {},
   "outputs": [],
   "source": [
    "target_train = df['price'].loc[index_train]\n",
    "target_test = df['price'].loc[index_test]\n",
    "\n",
    "features_train = df.drop('price', axis=1).loc[index_train]\n",
    "features_test = df.drop('price', axis=1).loc[index_test]"
   ]
  },
  {
   "cell_type": "markdown",
   "metadata": {},
   "source": [
    "#### Масштабирование количественных признаков"
   ]
  },
  {
   "cell_type": "markdown",
   "metadata": {},
   "source": [
    "Отмасштабируем числовые признаки с помощью z-преобразования. Таким образом все количественные признаки для алгоритма станут более равноценными."
   ]
  },
  {
   "cell_type": "code",
   "execution_count": 55,
   "metadata": {},
   "outputs": [],
   "source": [
    "pd.options.mode.chained_assignment = None\n",
    "\n",
    "scaler = StandardScaler()\n",
    "scaler.fit(features_train[num_features])\n",
    "\n",
    "features_train[num_features] = scaler.transform(features_train[num_features])\n",
    "features_test[num_features] = scaler.transform(features_test[num_features])"
   ]
  },
  {
   "cell_type": "code",
   "execution_count": 56,
   "metadata": {},
   "outputs": [
    {
     "data": {
      "text/html": [
       "<div>\n",
       "<style scoped>\n",
       "    .dataframe tbody tr th:only-of-type {\n",
       "        vertical-align: middle;\n",
       "    }\n",
       "\n",
       "    .dataframe tbody tr th {\n",
       "        vertical-align: top;\n",
       "    }\n",
       "\n",
       "    .dataframe thead th {\n",
       "        text-align: right;\n",
       "    }\n",
       "</style>\n",
       "<table border=\"1\" class=\"dataframe\">\n",
       "  <thead>\n",
       "    <tr style=\"text-align: right;\">\n",
       "      <th></th>\n",
       "      <th>vehicle_type</th>\n",
       "      <th>registration_year</th>\n",
       "      <th>gearbox</th>\n",
       "      <th>power</th>\n",
       "      <th>model</th>\n",
       "      <th>kilometer</th>\n",
       "      <th>fuel_type</th>\n",
       "      <th>brand</th>\n",
       "      <th>not_repaired</th>\n",
       "      <th>days_passed</th>\n",
       "    </tr>\n",
       "  </thead>\n",
       "  <tbody>\n",
       "    <tr>\n",
       "      <td>291431</td>\n",
       "      <td>4.0</td>\n",
       "      <td>-0.534670</td>\n",
       "      <td>1.0</td>\n",
       "      <td>0.371302</td>\n",
       "      <td>115.0</td>\n",
       "      <td>0.525005</td>\n",
       "      <td>2.0</td>\n",
       "      <td>38.0</td>\n",
       "      <td>0.0</td>\n",
       "      <td>-0.920840</td>\n",
       "    </tr>\n",
       "    <tr>\n",
       "      <td>94937</td>\n",
       "      <td>7.0</td>\n",
       "      <td>2.592954</td>\n",
       "      <td>1.0</td>\n",
       "      <td>-0.969654</td>\n",
       "      <td>83.0</td>\n",
       "      <td>-3.359618</td>\n",
       "      <td>2.0</td>\n",
       "      <td>24.0</td>\n",
       "      <td>1.0</td>\n",
       "      <td>-0.920840</td>\n",
       "    </tr>\n",
       "    <tr>\n",
       "      <td>91690</td>\n",
       "      <td>7.0</td>\n",
       "      <td>2.592954</td>\n",
       "      <td>0.0</td>\n",
       "      <td>0.858922</td>\n",
       "      <td>6.0</td>\n",
       "      <td>-0.969080</td>\n",
       "      <td>2.0</td>\n",
       "      <td>2.0</td>\n",
       "      <td>0.0</td>\n",
       "      <td>-0.455490</td>\n",
       "    </tr>\n",
       "    <tr>\n",
       "      <td>32244</td>\n",
       "      <td>8.0</td>\n",
       "      <td>-0.339193</td>\n",
       "      <td>1.0</td>\n",
       "      <td>0.411937</td>\n",
       "      <td>11.0</td>\n",
       "      <td>0.525005</td>\n",
       "      <td>2.0</td>\n",
       "      <td>2.0</td>\n",
       "      <td>0.0</td>\n",
       "      <td>-0.455490</td>\n",
       "    </tr>\n",
       "    <tr>\n",
       "      <td>128150</td>\n",
       "      <td>4.0</td>\n",
       "      <td>-0.339193</td>\n",
       "      <td>1.0</td>\n",
       "      <td>0.452572</td>\n",
       "      <td>135.0</td>\n",
       "      <td>-0.222037</td>\n",
       "      <td>2.0</td>\n",
       "      <td>27.0</td>\n",
       "      <td>0.0</td>\n",
       "      <td>-0.804502</td>\n",
       "    </tr>\n",
       "  </tbody>\n",
       "</table>\n",
       "</div>"
      ],
      "text/plain": [
       "        vehicle_type  registration_year  gearbox     power  model  kilometer  \\\n",
       "291431           4.0          -0.534670      1.0  0.371302  115.0   0.525005   \n",
       "94937            7.0           2.592954      1.0 -0.969654   83.0  -3.359618   \n",
       "91690            7.0           2.592954      0.0  0.858922    6.0  -0.969080   \n",
       "32244            8.0          -0.339193      1.0  0.411937   11.0   0.525005   \n",
       "128150           4.0          -0.339193      1.0  0.452572  135.0  -0.222037   \n",
       "\n",
       "        fuel_type  brand  not_repaired  days_passed  \n",
       "291431        2.0   38.0           0.0    -0.920840  \n",
       "94937         2.0   24.0           1.0    -0.920840  \n",
       "91690         2.0    2.0           0.0    -0.455490  \n",
       "32244         2.0    2.0           0.0    -0.455490  \n",
       "128150        2.0   27.0           0.0    -0.804502  "
      ]
     },
     "execution_count": 56,
     "metadata": {},
     "output_type": "execute_result"
    }
   ],
   "source": [
    "features_train.head()"
   ]
  },
  {
   "cell_type": "code",
   "execution_count": 57,
   "metadata": {},
   "outputs": [],
   "source": [
    "features_train_cat = features_train.drop(obj_features, axis=1).loc[index_train]\n",
    "features_test_cat =  features_test.drop(obj_features, axis=1).loc[index_test]"
   ]
  },
  {
   "cell_type": "code",
   "execution_count": 58,
   "metadata": {},
   "outputs": [],
   "source": [
    "features_train_cat[obj_features] = df_cat.loc[index_train]\n",
    "features_test_cat[obj_features] =  df_cat.loc[index_test]"
   ]
  },
  {
   "cell_type": "code",
   "execution_count": 59,
   "metadata": {},
   "outputs": [
    {
     "data": {
      "text/html": [
       "<div>\n",
       "<style scoped>\n",
       "    .dataframe tbody tr th:only-of-type {\n",
       "        vertical-align: middle;\n",
       "    }\n",
       "\n",
       "    .dataframe tbody tr th {\n",
       "        vertical-align: top;\n",
       "    }\n",
       "\n",
       "    .dataframe thead th {\n",
       "        text-align: right;\n",
       "    }\n",
       "</style>\n",
       "<table border=\"1\" class=\"dataframe\">\n",
       "  <thead>\n",
       "    <tr style=\"text-align: right;\">\n",
       "      <th></th>\n",
       "      <th>registration_year</th>\n",
       "      <th>power</th>\n",
       "      <th>kilometer</th>\n",
       "      <th>days_passed</th>\n",
       "      <th>vehicle_type</th>\n",
       "      <th>gearbox</th>\n",
       "      <th>model</th>\n",
       "      <th>fuel_type</th>\n",
       "      <th>brand</th>\n",
       "      <th>not_repaired</th>\n",
       "    </tr>\n",
       "  </thead>\n",
       "  <tbody>\n",
       "    <tr>\n",
       "      <td>291431</td>\n",
       "      <td>-0.534670</td>\n",
       "      <td>0.371302</td>\n",
       "      <td>0.525005</td>\n",
       "      <td>-0.920840</td>\n",
       "      <td>sedan</td>\n",
       "      <td>manual</td>\n",
       "      <td>golf</td>\n",
       "      <td>petrol</td>\n",
       "      <td>volkswagen</td>\n",
       "      <td>no</td>\n",
       "    </tr>\n",
       "    <tr>\n",
       "      <td>94937</td>\n",
       "      <td>2.592954</td>\n",
       "      <td>-0.969654</td>\n",
       "      <td>-3.359618</td>\n",
       "      <td>-0.920840</td>\n",
       "      <td>unidentified</td>\n",
       "      <td>manual</td>\n",
       "      <td>corsa</td>\n",
       "      <td>petrol</td>\n",
       "      <td>opel</td>\n",
       "      <td>unidentified</td>\n",
       "    </tr>\n",
       "    <tr>\n",
       "      <td>91690</td>\n",
       "      <td>2.592954</td>\n",
       "      <td>0.858922</td>\n",
       "      <td>-0.969080</td>\n",
       "      <td>-0.455490</td>\n",
       "      <td>unidentified</td>\n",
       "      <td>auto</td>\n",
       "      <td>1er</td>\n",
       "      <td>petrol</td>\n",
       "      <td>bmw</td>\n",
       "      <td>no</td>\n",
       "    </tr>\n",
       "    <tr>\n",
       "      <td>32244</td>\n",
       "      <td>-0.339193</td>\n",
       "      <td>0.411937</td>\n",
       "      <td>0.525005</td>\n",
       "      <td>-0.455490</td>\n",
       "      <td>wagon</td>\n",
       "      <td>manual</td>\n",
       "      <td>3er</td>\n",
       "      <td>petrol</td>\n",
       "      <td>bmw</td>\n",
       "      <td>no</td>\n",
       "    </tr>\n",
       "    <tr>\n",
       "      <td>128150</td>\n",
       "      <td>-0.339193</td>\n",
       "      <td>0.452572</td>\n",
       "      <td>-0.222037</td>\n",
       "      <td>-0.804502</td>\n",
       "      <td>sedan</td>\n",
       "      <td>manual</td>\n",
       "      <td>laguna</td>\n",
       "      <td>petrol</td>\n",
       "      <td>renault</td>\n",
       "      <td>no</td>\n",
       "    </tr>\n",
       "  </tbody>\n",
       "</table>\n",
       "</div>"
      ],
      "text/plain": [
       "        registration_year     power  kilometer  days_passed  vehicle_type  \\\n",
       "291431          -0.534670  0.371302   0.525005    -0.920840         sedan   \n",
       "94937            2.592954 -0.969654  -3.359618    -0.920840  unidentified   \n",
       "91690            2.592954  0.858922  -0.969080    -0.455490  unidentified   \n",
       "32244           -0.339193  0.411937   0.525005    -0.455490         wagon   \n",
       "128150          -0.339193  0.452572  -0.222037    -0.804502         sedan   \n",
       "\n",
       "       gearbox   model fuel_type       brand  not_repaired  \n",
       "291431  manual    golf    petrol  volkswagen            no  \n",
       "94937   manual   corsa    petrol        opel  unidentified  \n",
       "91690     auto     1er    petrol         bmw            no  \n",
       "32244   manual     3er    petrol         bmw            no  \n",
       "128150  manual  laguna    petrol     renault            no  "
      ]
     },
     "execution_count": 59,
     "metadata": {},
     "output_type": "execute_result"
    }
   ],
   "source": [
    "features_train_cat.head()"
   ]
  },
  {
   "cell_type": "markdown",
   "metadata": {},
   "source": [
    "### Модели"
   ]
  },
  {
   "cell_type": "code",
   "execution_count": 60,
   "metadata": {},
   "outputs": [],
   "source": [
    "# RMSE\n",
    "def rmse(true, predicted):\n",
    "    return mean_squared_error(true, predicted)**.5\n",
    "\n",
    "rmse_score = make_scorer(rmse, greater_is_better=False)"
   ]
  },
  {
   "cell_type": "code",
   "execution_count": 61,
   "metadata": {},
   "outputs": [],
   "source": [
    "# Линейная регрессия\n",
    "def linear_reg(features, target):\n",
    "    model = LinearRegression()\n",
    "    result = abs(cross_val_score(model, features, target, scoring=rmse_score, cv=8)).mean()\n",
    "    return [result, model]"
   ]
  },
  {
   "cell_type": "code",
   "execution_count": 62,
   "metadata": {
    "scrolled": false
   },
   "outputs": [
    {
     "data": {
      "text/plain": [
       "[1822.4710164153385,\n",
       " LinearRegression(copy_X=True, fit_intercept=True, n_jobs=None, normalize=False)]"
      ]
     },
     "execution_count": 62,
     "metadata": {},
     "output_type": "execute_result"
    }
   ],
   "source": [
    "linear_reg(features_train, target_train)"
   ]
  },
  {
   "cell_type": "code",
   "execution_count": 63,
   "metadata": {},
   "outputs": [],
   "source": [
    "# Дерево решений\n",
    "def tree(features, target):\n",
    "    best_model = None\n",
    "    best_result = 10_000\n",
    "    for depth in range(7, 23, 2):\n",
    "        model = DecisionTreeRegressor(random_state=12345, max_depth=depth, min_samples_leaf=20)\n",
    "        result = abs(cross_val_score(model, features, target, scoring=rmse_score, cv=5)).mean()\n",
    "        \n",
    "        if result < best_result:\n",
    "            best_result = result\n",
    "            best_model = model\n",
    "            \n",
    "    return [best_result, best_model]"
   ]
  },
  {
   "cell_type": "code",
   "execution_count": 64,
   "metadata": {},
   "outputs": [],
   "source": [
    "# Случайный лес\n",
    "def forest(features, target):\n",
    "    best_model = None\n",
    "    best_result = 10**5\n",
    "    for depth in [7, 9, 12]:\n",
    "        for n in [10, 50, 100]:\n",
    "            model = RandomForestRegressor(random_state=12345, n_estimators=n, max_depth=depth, min_samples_leaf=10)\n",
    "            result = abs(cross_val_score(model, features, target, scoring=rmse_score, cv=5)).mean()\n",
    "           \n",
    "            if result < best_result:\n",
    "                best_result = result\n",
    "                best_model = model\n",
    "    return [best_result, best_model]"
   ]
  },
  {
   "cell_type": "code",
   "execution_count": 65,
   "metadata": {},
   "outputs": [],
   "source": [
    "# CatBoost\n",
    "def cat_boost():\n",
    "    best_model = None\n",
    "    best_result = 10**5\n",
    "    \n",
    "    features_fit_cat, features_valid_cat, target_fit, target_valid= train_test_split(\n",
    "    features_train_cat, target_train, test_size=0.25, random_state=12345)\n",
    "\n",
    "    for n in [50, 100, 200]:\n",
    "        model = CatBoostRegressor(random_state=1, loss_function='RMSE', iterations=n, learning_rate=1, max_depth=7)\n",
    "        model.fit(features_fit_cat, target_fit, cat_features=obj_features) \n",
    "        predicted = model.predict(features_valid_cat)\n",
    "        result = rmse(target_valid, predicted)\n",
    "\n",
    "        if result < best_result:\n",
    "            best_result = result\n",
    "            best_model = model\n",
    "            \n",
    "    return [best_result, best_model]"
   ]
  },
  {
   "cell_type": "code",
   "execution_count": 66,
   "metadata": {},
   "outputs": [],
   "source": [
    "# LightGBM\n",
    "def light_gbm(features, target):   \n",
    "    best_model = None\n",
    "    best_result = 10**5\n",
    "    \n",
    "    features[obj_features] = features[obj_features].astype('category')\n",
    "    \n",
    "    for n in [50, 100, 200]:\n",
    "        model = LGBMRegressor(random_state=1, learning_rate = 0.5, max_depth = 7, n_estimators = n)\n",
    "        result = abs(cross_val_score(model, features, target, scoring=rmse_score, cv=5)).mean()\n",
    "\n",
    "        if result < best_result:\n",
    "            best_result = result\n",
    "            best_model = model\n",
    "\n",
    "    return [best_result, best_model]"
   ]
  },
  {
   "cell_type": "code",
   "execution_count": 67,
   "metadata": {},
   "outputs": [],
   "source": [
    "# функция для происка лучшей модели\n",
    "def model_search(features, target):\n",
    "    best_model = None\n",
    "    best_result = 10_000\n",
    "\n",
    "    names = {\n",
    "        'best_linear' : linear_reg(features, target), \n",
    "        'best_tree' : tree(features, target), \n",
    "        'best_forest' : forest(features, target), \n",
    "        'best_light_GBM' : light_gbm(features, target),\n",
    "        'best_cat_boost' : cat_boost()\n",
    "    }\n",
    "    \n",
    "    best_models = pd.DataFrame([], columns=['model', 'rmse', 'params'])\n",
    "    \n",
    "    for model in names:\n",
    "        best_models.loc[len(best_models.index)] = [model, names[model][0], names[model][1]]\n",
    "        \n",
    "        if names[model][0] < best_result:\n",
    "            best_result = names[model][0]\n",
    "            best_model = names[model][1]\n",
    "\n",
    "    return best_models, best_model, best_result"
   ]
  },
  {
   "cell_type": "code",
   "execution_count": 68,
   "metadata": {
    "collapsed": true
   },
   "outputs": [
    {
     "name": "stdout",
     "output_type": "stream",
     "text": [
      "0:\tlearn: 1611.7136262\ttotal: 246ms\tremaining: 12.1s\n",
      "1:\tlearn: 1407.0566287\ttotal: 452ms\tremaining: 10.9s\n",
      "2:\tlearn: 1326.9434203\ttotal: 649ms\tremaining: 10.2s\n",
      "3:\tlearn: 1285.2482301\ttotal: 850ms\tremaining: 9.78s\n",
      "4:\tlearn: 1244.2061173\ttotal: 1.05s\tremaining: 9.43s\n",
      "5:\tlearn: 1221.0049098\ttotal: 1.25s\tremaining: 9.16s\n",
      "6:\tlearn: 1203.5466684\ttotal: 1.45s\tremaining: 8.89s\n",
      "7:\tlearn: 1191.1191162\ttotal: 1.64s\tremaining: 8.63s\n",
      "8:\tlearn: 1175.8966116\ttotal: 1.84s\tremaining: 8.38s\n",
      "9:\tlearn: 1166.6342367\ttotal: 2.04s\tremaining: 8.15s\n",
      "10:\tlearn: 1157.8760781\ttotal: 2.24s\tremaining: 7.93s\n",
      "11:\tlearn: 1154.0591840\ttotal: 2.35s\tremaining: 7.43s\n",
      "12:\tlearn: 1142.6483024\ttotal: 2.54s\tremaining: 7.24s\n",
      "13:\tlearn: 1135.0185156\ttotal: 2.74s\tremaining: 7.05s\n",
      "14:\tlearn: 1130.7648298\ttotal: 2.94s\tremaining: 6.86s\n",
      "15:\tlearn: 1125.5452213\ttotal: 3.13s\tremaining: 6.66s\n",
      "16:\tlearn: 1120.9495885\ttotal: 3.33s\tremaining: 6.47s\n",
      "17:\tlearn: 1118.2957162\ttotal: 3.44s\tremaining: 6.12s\n",
      "18:\tlearn: 1112.4733618\ttotal: 3.64s\tremaining: 5.94s\n",
      "19:\tlearn: 1108.5073544\ttotal: 3.84s\tremaining: 5.75s\n",
      "20:\tlearn: 1106.5660660\ttotal: 4.03s\tremaining: 5.57s\n",
      "21:\tlearn: 1103.2331896\ttotal: 4.23s\tremaining: 5.38s\n",
      "22:\tlearn: 1101.1348474\ttotal: 4.34s\tremaining: 5.09s\n",
      "23:\tlearn: 1094.0086226\ttotal: 4.54s\tremaining: 4.91s\n",
      "24:\tlearn: 1091.6970329\ttotal: 4.73s\tremaining: 4.73s\n",
      "25:\tlearn: 1087.1556372\ttotal: 4.93s\tremaining: 4.55s\n",
      "26:\tlearn: 1084.0190083\ttotal: 5.13s\tremaining: 4.37s\n",
      "27:\tlearn: 1080.9302927\ttotal: 5.24s\tremaining: 4.12s\n",
      "28:\tlearn: 1077.6887244\ttotal: 5.43s\tremaining: 3.93s\n",
      "29:\tlearn: 1076.1058113\ttotal: 5.63s\tremaining: 3.75s\n",
      "30:\tlearn: 1074.2758356\ttotal: 5.83s\tremaining: 3.57s\n",
      "31:\tlearn: 1073.6194219\ttotal: 6.03s\tremaining: 3.39s\n",
      "32:\tlearn: 1070.8182185\ttotal: 6.13s\tremaining: 3.16s\n",
      "33:\tlearn: 1068.1136601\ttotal: 6.33s\tremaining: 2.98s\n",
      "34:\tlearn: 1065.3814445\ttotal: 6.53s\tremaining: 2.8s\n",
      "35:\tlearn: 1063.3624760\ttotal: 6.72s\tremaining: 2.61s\n",
      "36:\tlearn: 1061.1567458\ttotal: 6.92s\tremaining: 2.43s\n",
      "37:\tlearn: 1058.2378342\ttotal: 7.03s\tremaining: 2.22s\n",
      "38:\tlearn: 1056.3990992\ttotal: 7.23s\tremaining: 2.04s\n",
      "39:\tlearn: 1054.7713258\ttotal: 7.42s\tremaining: 1.86s\n",
      "40:\tlearn: 1053.6581328\ttotal: 7.62s\tremaining: 1.67s\n",
      "41:\tlearn: 1052.6800093\ttotal: 7.82s\tremaining: 1.49s\n",
      "42:\tlearn: 1052.1320203\ttotal: 7.93s\tremaining: 1.29s\n",
      "43:\tlearn: 1050.3906637\ttotal: 8.13s\tremaining: 1.11s\n",
      "44:\tlearn: 1048.6816564\ttotal: 8.32s\tremaining: 925ms\n",
      "45:\tlearn: 1047.3807722\ttotal: 8.52s\tremaining: 741ms\n",
      "46:\tlearn: 1045.6219112\ttotal: 8.71s\tremaining: 556ms\n",
      "47:\tlearn: 1044.8349534\ttotal: 8.91s\tremaining: 371ms\n",
      "48:\tlearn: 1044.1162236\ttotal: 9.11s\tremaining: 186ms\n",
      "49:\tlearn: 1044.0869323\ttotal: 9.22s\tremaining: 0us\n",
      "0:\tlearn: 1611.7136262\ttotal: 191ms\tremaining: 19s\n",
      "1:\tlearn: 1407.0566287\ttotal: 396ms\tremaining: 19.4s\n",
      "2:\tlearn: 1326.9434203\ttotal: 593ms\tremaining: 19.2s\n",
      "3:\tlearn: 1285.2482301\ttotal: 791ms\tremaining: 19s\n",
      "4:\tlearn: 1244.2061173\ttotal: 989ms\tremaining: 18.8s\n",
      "5:\tlearn: 1221.0049098\ttotal: 1.19s\tremaining: 18.6s\n",
      "6:\tlearn: 1203.5466684\ttotal: 1.38s\tremaining: 18.4s\n",
      "7:\tlearn: 1191.1191162\ttotal: 1.58s\tremaining: 18.2s\n",
      "8:\tlearn: 1175.8966116\ttotal: 1.78s\tremaining: 18s\n",
      "9:\tlearn: 1166.6342367\ttotal: 1.89s\tremaining: 17s\n",
      "10:\tlearn: 1157.8760781\ttotal: 2.09s\tremaining: 16.9s\n",
      "11:\tlearn: 1154.0591840\ttotal: 2.28s\tremaining: 16.8s\n",
      "12:\tlearn: 1142.6483024\ttotal: 2.48s\tremaining: 16.6s\n",
      "13:\tlearn: 1135.0185156\ttotal: 2.68s\tremaining: 16.5s\n",
      "14:\tlearn: 1130.7648298\ttotal: 2.88s\tremaining: 16.3s\n",
      "15:\tlearn: 1125.5452213\ttotal: 3.08s\tremaining: 16.1s\n",
      "16:\tlearn: 1120.9495885\ttotal: 3.19s\tremaining: 15.6s\n",
      "17:\tlearn: 1118.2957162\ttotal: 3.38s\tremaining: 15.4s\n",
      "18:\tlearn: 1112.4733618\ttotal: 3.58s\tremaining: 15.3s\n",
      "19:\tlearn: 1108.5073544\ttotal: 3.78s\tremaining: 15.1s\n",
      "20:\tlearn: 1106.5660660\ttotal: 3.97s\tremaining: 15s\n",
      "21:\tlearn: 1103.2331896\ttotal: 4.17s\tremaining: 14.8s\n",
      "22:\tlearn: 1101.1348474\ttotal: 4.28s\tremaining: 14.3s\n",
      "23:\tlearn: 1094.0086226\ttotal: 4.48s\tremaining: 14.2s\n",
      "24:\tlearn: 1091.6970329\ttotal: 4.69s\tremaining: 14.1s\n",
      "25:\tlearn: 1087.1556372\ttotal: 4.88s\tremaining: 13.9s\n",
      "26:\tlearn: 1084.0190083\ttotal: 5.08s\tremaining: 13.7s\n",
      "27:\tlearn: 1080.9302927\ttotal: 5.27s\tremaining: 13.6s\n",
      "28:\tlearn: 1077.6887244\ttotal: 5.47s\tremaining: 13.4s\n",
      "29:\tlearn: 1076.1058113\ttotal: 5.67s\tremaining: 13.2s\n",
      "30:\tlearn: 1074.2758356\ttotal: 5.87s\tremaining: 13.1s\n",
      "31:\tlearn: 1073.6194219\ttotal: 5.98s\tremaining: 12.7s\n",
      "32:\tlearn: 1070.8182185\ttotal: 6.17s\tremaining: 12.5s\n",
      "33:\tlearn: 1068.1136601\ttotal: 6.38s\tremaining: 12.4s\n",
      "34:\tlearn: 1065.3814445\ttotal: 6.57s\tremaining: 12.2s\n",
      "35:\tlearn: 1063.3624760\ttotal: 6.77s\tremaining: 12s\n",
      "36:\tlearn: 1061.1567458\ttotal: 6.96s\tremaining: 11.9s\n",
      "37:\tlearn: 1058.2378342\ttotal: 7.16s\tremaining: 11.7s\n",
      "38:\tlearn: 1056.3990992\ttotal: 7.27s\tremaining: 11.4s\n",
      "39:\tlearn: 1054.7713258\ttotal: 7.47s\tremaining: 11.2s\n",
      "40:\tlearn: 1053.6581328\ttotal: 7.67s\tremaining: 11s\n",
      "41:\tlearn: 1052.6800093\ttotal: 7.87s\tremaining: 10.9s\n",
      "42:\tlearn: 1052.1320203\ttotal: 8.07s\tremaining: 10.7s\n",
      "43:\tlearn: 1050.3906637\ttotal: 8.26s\tremaining: 10.5s\n",
      "44:\tlearn: 1048.6816564\ttotal: 8.46s\tremaining: 10.3s\n",
      "45:\tlearn: 1047.3807722\ttotal: 8.66s\tremaining: 10.2s\n",
      "46:\tlearn: 1045.6219112\ttotal: 8.86s\tremaining: 9.99s\n",
      "47:\tlearn: 1044.8349534\ttotal: 9.06s\tremaining: 9.81s\n",
      "48:\tlearn: 1044.1162236\ttotal: 9.26s\tremaining: 9.63s\n",
      "49:\tlearn: 1044.0869323\ttotal: 9.36s\tremaining: 9.36s\n",
      "50:\tlearn: 1043.4044024\ttotal: 9.56s\tremaining: 9.18s\n",
      "51:\tlearn: 1042.3074957\ttotal: 9.75s\tremaining: 9s\n",
      "52:\tlearn: 1041.0982142\ttotal: 9.86s\tremaining: 8.75s\n",
      "53:\tlearn: 1041.0781938\ttotal: 10.1s\tremaining: 8.57s\n",
      "54:\tlearn: 1040.2505484\ttotal: 10.3s\tremaining: 8.39s\n",
      "55:\tlearn: 1038.7706362\ttotal: 10.5s\tremaining: 8.22s\n",
      "56:\tlearn: 1037.1150243\ttotal: 10.7s\tremaining: 8.04s\n",
      "57:\tlearn: 1035.5908236\ttotal: 10.9s\tremaining: 7.86s\n",
      "58:\tlearn: 1034.9061678\ttotal: 11.1s\tremaining: 7.68s\n",
      "59:\tlearn: 1033.8874465\ttotal: 11.3s\tremaining: 7.5s\n",
      "60:\tlearn: 1033.2690822\ttotal: 11.4s\tremaining: 7.32s\n",
      "61:\tlearn: 1031.6893269\ttotal: 11.6s\tremaining: 7.08s\n",
      "62:\tlearn: 1030.3107649\ttotal: 11.8s\tremaining: 6.9s\n",
      "63:\tlearn: 1029.0779880\ttotal: 12s\tremaining: 6.72s\n",
      "64:\tlearn: 1028.0947607\ttotal: 12.2s\tremaining: 6.55s\n",
      "65:\tlearn: 1026.9987996\ttotal: 12.4s\tremaining: 6.37s\n",
      "66:\tlearn: 1026.3574006\ttotal: 12.6s\tremaining: 6.18s\n",
      "67:\tlearn: 1024.7722812\ttotal: 12.7s\tremaining: 6s\n",
      "68:\tlearn: 1024.4699779\ttotal: 12.9s\tremaining: 5.82s\n",
      "69:\tlearn: 1023.6177841\ttotal: 13.1s\tremaining: 5.63s\n",
      "70:\tlearn: 1022.1580392\ttotal: 13.3s\tremaining: 5.45s\n",
      "71:\tlearn: 1021.2060361\ttotal: 13.5s\tremaining: 5.26s\n",
      "72:\tlearn: 1020.4692633\ttotal: 13.7s\tremaining: 5.05s\n",
      "73:\tlearn: 1019.5955175\ttotal: 13.8s\tremaining: 4.87s\n",
      "74:\tlearn: 1018.1084203\ttotal: 14s\tremaining: 4.68s\n",
      "75:\tlearn: 1017.5286678\ttotal: 14.2s\tremaining: 4.5s\n",
      "76:\tlearn: 1016.5178349\ttotal: 14.4s\tremaining: 4.31s\n",
      "77:\tlearn: 1015.5222039\ttotal: 14.6s\tremaining: 4.13s\n",
      "78:\tlearn: 1014.6301467\ttotal: 14.8s\tremaining: 3.94s\n",
      "79:\tlearn: 1013.1045164\ttotal: 14.9s\tremaining: 3.74s\n",
      "80:\tlearn: 1011.9523796\ttotal: 15.2s\tremaining: 3.57s\n",
      "81:\tlearn: 1011.0816518\ttotal: 15.3s\tremaining: 3.37s\n",
      "82:\tlearn: 1010.3353191\ttotal: 15.5s\tremaining: 3.18s\n",
      "83:\tlearn: 1009.2668379\ttotal: 15.7s\tremaining: 3s\n",
      "84:\tlearn: 1008.6946441\ttotal: 15.9s\tremaining: 2.81s\n",
      "85:\tlearn: 1007.6816395\ttotal: 16.1s\tremaining: 2.63s\n",
      "86:\tlearn: 1007.5623363\ttotal: 16.3s\tremaining: 2.44s\n",
      "87:\tlearn: 1006.7203404\ttotal: 16.4s\tremaining: 2.24s\n",
      "88:\tlearn: 1006.0584750\ttotal: 16.6s\tremaining: 2.06s\n",
      "89:\tlearn: 1005.1362448\ttotal: 16.8s\tremaining: 1.87s\n",
      "90:\tlearn: 1004.6024406\ttotal: 17s\tremaining: 1.68s\n",
      "91:\tlearn: 1003.9150078\ttotal: 17.2s\tremaining: 1.5s\n",
      "92:\tlearn: 1003.2807028\ttotal: 17.4s\tremaining: 1.31s\n",
      "93:\tlearn: 1002.9370813\ttotal: 17.6s\tremaining: 1.13s\n",
      "94:\tlearn: 1002.0373369\ttotal: 17.7s\tremaining: 934ms\n",
      "95:\tlearn: 1001.3695375\ttotal: 17.9s\tremaining: 747ms\n",
      "96:\tlearn: 1000.0882415\ttotal: 18.1s\tremaining: 561ms\n",
      "97:\tlearn: 999.2508631\ttotal: 18.3s\tremaining: 374ms\n",
      "98:\tlearn: 998.7072533\ttotal: 18.5s\tremaining: 187ms\n",
      "99:\tlearn: 998.1165529\ttotal: 18.7s\tremaining: 0us\n",
      "0:\tlearn: 1594.1885395\ttotal: 356ms\tremaining: 1m 10s\n",
      "1:\tlearn: 1388.7084506\ttotal: 751ms\tremaining: 1m 14s\n",
      "2:\tlearn: 1323.3777393\ttotal: 1.15s\tremaining: 1m 15s\n",
      "3:\tlearn: 1291.9273505\ttotal: 1.55s\tremaining: 1m 15s\n",
      "4:\tlearn: 1246.1413527\ttotal: 1.95s\tremaining: 1m 16s\n",
      "5:\tlearn: 1221.4511527\ttotal: 2.35s\tremaining: 1m 15s\n",
      "6:\tlearn: 1197.3889305\ttotal: 2.75s\tremaining: 1m 15s\n",
      "7:\tlearn: 1185.1078740\ttotal: 3.24s\tremaining: 1m 17s\n",
      "8:\tlearn: 1174.2955576\ttotal: 3.64s\tremaining: 1m 17s\n",
      "9:\tlearn: 1161.4542821\ttotal: 4.05s\tremaining: 1m 16s\n",
      "10:\tlearn: 1150.5191210\ttotal: 4.35s\tremaining: 1m 14s\n",
      "11:\tlearn: 1145.2270914\ttotal: 4.84s\tremaining: 1m 15s\n",
      "12:\tlearn: 1139.4860786\ttotal: 5.25s\tremaining: 1m 15s\n",
      "13:\tlearn: 1133.6321613\ttotal: 5.64s\tremaining: 1m 14s\n",
      "14:\tlearn: 1127.4004824\ttotal: 6.04s\tremaining: 1m 14s\n",
      "15:\tlearn: 1121.0387535\ttotal: 6.45s\tremaining: 1m 14s\n",
      "16:\tlearn: 1116.2520202\ttotal: 6.84s\tremaining: 1m 13s\n",
      "17:\tlearn: 1108.4819088\ttotal: 7.24s\tremaining: 1m 13s\n",
      "18:\tlearn: 1104.6672573\ttotal: 7.63s\tremaining: 1m 12s\n",
      "19:\tlearn: 1100.3437528\ttotal: 7.94s\tremaining: 1m 11s\n",
      "20:\tlearn: 1096.7653363\ttotal: 8.34s\tremaining: 1m 11s\n",
      "21:\tlearn: 1093.0987809\ttotal: 8.74s\tremaining: 1m 10s\n",
      "22:\tlearn: 1091.5208761\ttotal: 9.04s\tremaining: 1m 9s\n",
      "23:\tlearn: 1085.8641431\ttotal: 9.44s\tremaining: 1m 9s\n",
      "24:\tlearn: 1082.8566860\ttotal: 9.73s\tremaining: 1m 8s\n",
      "25:\tlearn: 1080.1206635\ttotal: 10.1s\tremaining: 1m 7s\n",
      "26:\tlearn: 1076.5400350\ttotal: 10.5s\tremaining: 1m 7s\n",
      "27:\tlearn: 1074.0117831\ttotal: 10.9s\tremaining: 1m 7s\n",
      "28:\tlearn: 1072.4806372\ttotal: 11.3s\tremaining: 1m 6s\n",
      "29:\tlearn: 1070.1751425\ttotal: 11.7s\tremaining: 1m 6s\n",
      "30:\tlearn: 1068.0700586\ttotal: 12s\tremaining: 1m 5s\n",
      "31:\tlearn: 1067.4454351\ttotal: 12.4s\tremaining: 1m 5s\n",
      "32:\tlearn: 1066.3350985\ttotal: 12.8s\tremaining: 1m 4s\n",
      "33:\tlearn: 1064.3198409\ttotal: 13.3s\tremaining: 1m 5s\n",
      "34:\tlearn: 1061.1823801\ttotal: 13.7s\tremaining: 1m 4s\n",
      "35:\tlearn: 1058.9867239\ttotal: 14.1s\tremaining: 1m 4s\n",
      "36:\tlearn: 1058.5630031\ttotal: 14.5s\tremaining: 1m 4s\n",
      "37:\tlearn: 1056.7934647\ttotal: 14.9s\tremaining: 1m 3s\n",
      "38:\tlearn: 1055.0922405\ttotal: 15.4s\tremaining: 1m 3s\n",
      "39:\tlearn: 1053.9265091\ttotal: 15.7s\tremaining: 1m 2s\n",
      "40:\tlearn: 1051.6213537\ttotal: 16.1s\tremaining: 1m 2s\n",
      "41:\tlearn: 1050.4312915\ttotal: 16.4s\tremaining: 1m 1s\n",
      "42:\tlearn: 1049.0370543\ttotal: 16.8s\tremaining: 1m 1s\n",
      "43:\tlearn: 1047.0878113\ttotal: 17.2s\tremaining: 1m 1s\n",
      "44:\tlearn: 1045.3586143\ttotal: 17.5s\tremaining: 1m\n",
      "45:\tlearn: 1043.8341324\ttotal: 17.9s\tremaining: 1m\n",
      "46:\tlearn: 1041.8482406\ttotal: 18.3s\tremaining: 59.6s\n",
      "47:\tlearn: 1041.4304013\ttotal: 18.7s\tremaining: 59.3s\n",
      "48:\tlearn: 1039.8530561\ttotal: 19.1s\tremaining: 58.9s\n",
      "49:\tlearn: 1038.5333405\ttotal: 19.6s\tremaining: 58.8s\n",
      "50:\tlearn: 1036.7868630\ttotal: 20s\tremaining: 58.5s\n",
      "51:\tlearn: 1034.8274367\ttotal: 20.4s\tremaining: 58.1s\n",
      "52:\tlearn: 1033.8305370\ttotal: 20.8s\tremaining: 57.7s\n",
      "53:\tlearn: 1032.1071983\ttotal: 21.1s\tremaining: 57.1s\n",
      "54:\tlearn: 1030.9064502\ttotal: 21.4s\tremaining: 56.5s\n",
      "55:\tlearn: 1029.7774088\ttotal: 21.9s\tremaining: 56.4s\n",
      "56:\tlearn: 1028.0461517\ttotal: 22.3s\tremaining: 56s\n",
      "57:\tlearn: 1026.9575018\ttotal: 22.7s\tremaining: 55.6s\n",
      "58:\tlearn: 1025.3676979\ttotal: 23.2s\tremaining: 55.5s\n",
      "59:\tlearn: 1024.6065683\ttotal: 23.6s\tremaining: 55.1s\n",
      "60:\tlearn: 1023.2801030\ttotal: 24s\tremaining: 54.7s\n",
      "61:\tlearn: 1021.9370442\ttotal: 24.4s\tremaining: 54.3s\n",
      "62:\tlearn: 1021.1759705\ttotal: 24.8s\tremaining: 54s\n",
      "63:\tlearn: 1020.0148300\ttotal: 25.2s\tremaining: 53.6s\n",
      "64:\tlearn: 1018.7320430\ttotal: 25.7s\tremaining: 53.4s\n",
      "65:\tlearn: 1017.3642025\ttotal: 26.2s\tremaining: 53.2s\n",
      "66:\tlearn: 1016.8097487\ttotal: 26.6s\tremaining: 52.8s\n",
      "67:\tlearn: 1016.3399021\ttotal: 26.9s\tremaining: 52.2s\n",
      "68:\tlearn: 1015.8930113\ttotal: 27.3s\tremaining: 51.8s\n",
      "69:\tlearn: 1015.3559453\ttotal: 27.7s\tremaining: 51.5s\n",
      "70:\tlearn: 1014.8587611\ttotal: 28.1s\tremaining: 51.1s\n",
      "71:\tlearn: 1014.8263296\ttotal: 28.5s\tremaining: 50.7s\n",
      "72:\tlearn: 1014.4903799\ttotal: 28.9s\tremaining: 50.3s\n",
      "73:\tlearn: 1013.3877711\ttotal: 29.3s\tremaining: 49.9s\n",
      "74:\tlearn: 1012.9324876\ttotal: 29.7s\tremaining: 49.5s\n",
      "75:\tlearn: 1012.3524405\ttotal: 30s\tremaining: 49s\n",
      "76:\tlearn: 1011.2549433\ttotal: 30.4s\tremaining: 48.6s\n",
      "77:\tlearn: 1010.4624768\ttotal: 30.8s\tremaining: 48.2s\n",
      "78:\tlearn: 1010.1181386\ttotal: 31.1s\tremaining: 47.6s\n",
      "79:\tlearn: 1008.8427136\ttotal: 31.6s\tremaining: 47.4s\n",
      "80:\tlearn: 1007.4069274\ttotal: 31.9s\tremaining: 46.9s\n",
      "81:\tlearn: 1007.1047678\ttotal: 32.2s\tremaining: 46.3s\n",
      "82:\tlearn: 1006.2867650\ttotal: 32.6s\tremaining: 46s\n",
      "83:\tlearn: 1005.4785171\ttotal: 33.1s\tremaining: 45.7s\n",
      "84:\tlearn: 1004.5065459\ttotal: 33.4s\tremaining: 45.2s\n",
      "85:\tlearn: 1004.1998832\ttotal: 33.8s\tremaining: 44.8s\n",
      "86:\tlearn: 1003.6033243\ttotal: 34.2s\tremaining: 44.4s\n",
      "87:\tlearn: 1002.5305595\ttotal: 34.6s\tremaining: 44s\n",
      "88:\tlearn: 1001.4611069\ttotal: 34.9s\tremaining: 43.5s\n",
      "89:\tlearn: 1000.5434094\ttotal: 35.3s\tremaining: 43.1s\n",
      "90:\tlearn: 999.5249264\ttotal: 35.6s\tremaining: 42.6s\n",
      "91:\tlearn: 999.0231329\ttotal: 36.1s\tremaining: 42.4s\n",
      "92:\tlearn: 998.4126323\ttotal: 36.5s\tremaining: 42s\n",
      "93:\tlearn: 997.9728718\ttotal: 36.9s\tremaining: 41.6s\n",
      "94:\tlearn: 997.6441406\ttotal: 37.3s\tremaining: 41.2s\n",
      "95:\tlearn: 997.1095443\ttotal: 37.7s\tremaining: 40.8s\n",
      "96:\tlearn: 996.5676353\ttotal: 38s\tremaining: 40.3s\n",
      "97:\tlearn: 996.4284174\ttotal: 38.4s\tremaining: 40s\n",
      "98:\tlearn: 995.9557614\ttotal: 38.8s\tremaining: 39.6s\n",
      "99:\tlearn: 995.5025733\ttotal: 39.1s\tremaining: 39.1s\n",
      "100:\tlearn: 995.1824742\ttotal: 39.5s\tremaining: 38.7s\n",
      "101:\tlearn: 994.8453675\ttotal: 39.9s\tremaining: 38.3s\n",
      "102:\tlearn: 993.7266654\ttotal: 40.4s\tremaining: 38s\n",
      "103:\tlearn: 993.1225292\ttotal: 40.8s\tremaining: 37.6s\n",
      "104:\tlearn: 992.5148247\ttotal: 41.2s\tremaining: 37.3s\n",
      "105:\tlearn: 991.7175593\ttotal: 41.6s\tremaining: 36.9s\n",
      "106:\tlearn: 990.3053224\ttotal: 42s\tremaining: 36.5s\n",
      "107:\tlearn: 990.0992865\ttotal: 42.4s\tremaining: 36.1s\n",
      "108:\tlearn: 989.6223600\ttotal: 42.8s\tremaining: 35.7s\n",
      "109:\tlearn: 988.8705031\ttotal: 43.2s\tremaining: 35.3s\n",
      "110:\tlearn: 987.8943211\ttotal: 43.7s\tremaining: 35s\n",
      "111:\tlearn: 987.5657512\ttotal: 44.1s\tremaining: 34.6s\n",
      "112:\tlearn: 987.2774344\ttotal: 44.5s\tremaining: 34.2s\n",
      "113:\tlearn: 986.7584102\ttotal: 44.9s\tremaining: 33.9s\n",
      "114:\tlearn: 986.3584136\ttotal: 45.4s\tremaining: 33.5s\n",
      "115:\tlearn: 985.7971507\ttotal: 45.8s\tremaining: 33.1s\n",
      "116:\tlearn: 984.8299472\ttotal: 46.2s\tremaining: 32.8s\n",
      "117:\tlearn: 984.4782348\ttotal: 46.6s\tremaining: 32.4s\n",
      "118:\tlearn: 983.8249440\ttotal: 47s\tremaining: 32s\n",
      "119:\tlearn: 983.7639117\ttotal: 47.4s\tremaining: 31.6s\n",
      "120:\tlearn: 983.2416096\ttotal: 47.8s\tremaining: 31.2s\n",
      "121:\tlearn: 982.7779388\ttotal: 48.2s\tremaining: 30.8s\n",
      "122:\tlearn: 982.3644478\ttotal: 48.6s\tremaining: 30.4s\n",
      "123:\tlearn: 981.4996885\ttotal: 49s\tremaining: 30s\n",
      "124:\tlearn: 980.7029865\ttotal: 49.4s\tremaining: 29.6s\n",
      "125:\tlearn: 980.3797653\ttotal: 49.7s\tremaining: 29.2s\n",
      "126:\tlearn: 979.6199576\ttotal: 50.1s\tremaining: 28.8s\n",
      "127:\tlearn: 979.2072717\ttotal: 50.5s\tremaining: 28.4s\n",
      "128:\tlearn: 979.1001891\ttotal: 50.9s\tremaining: 28s\n",
      "129:\tlearn: 978.7306597\ttotal: 51.3s\tremaining: 27.6s\n",
      "130:\tlearn: 978.5716307\ttotal: 51.7s\tremaining: 27.2s\n",
      "131:\tlearn: 978.1828157\ttotal: 52.1s\tremaining: 26.8s\n",
      "132:\tlearn: 977.3574309\ttotal: 52.6s\tremaining: 26.5s\n",
      "133:\tlearn: 977.0542647\ttotal: 52.9s\tremaining: 26s\n",
      "134:\tlearn: 976.9215817\ttotal: 53.4s\tremaining: 25.7s\n",
      "135:\tlearn: 975.6353217\ttotal: 53.7s\tremaining: 25.3s\n",
      "136:\tlearn: 974.9421981\ttotal: 54.1s\tremaining: 24.9s\n",
      "137:\tlearn: 974.5183640\ttotal: 54.6s\tremaining: 24.5s\n",
      "138:\tlearn: 973.9153279\ttotal: 54.9s\tremaining: 24.1s\n",
      "139:\tlearn: 973.5590868\ttotal: 55.3s\tremaining: 23.7s\n",
      "140:\tlearn: 973.2870447\ttotal: 55.6s\tremaining: 23.3s\n",
      "141:\tlearn: 972.5187840\ttotal: 56s\tremaining: 22.9s\n",
      "142:\tlearn: 971.9368775\ttotal: 56.4s\tremaining: 22.5s\n",
      "143:\tlearn: 971.4820726\ttotal: 56.7s\tremaining: 22s\n",
      "144:\tlearn: 971.1748854\ttotal: 57.1s\tremaining: 21.6s\n",
      "145:\tlearn: 970.9066938\ttotal: 57.4s\tremaining: 21.2s\n",
      "146:\tlearn: 970.6843562\ttotal: 57.9s\tremaining: 20.9s\n",
      "147:\tlearn: 970.4448823\ttotal: 58.3s\tremaining: 20.5s\n",
      "148:\tlearn: 970.1222242\ttotal: 58.7s\tremaining: 20.1s\n",
      "149:\tlearn: 969.8911778\ttotal: 59.1s\tremaining: 19.7s\n",
      "150:\tlearn: 969.3989603\ttotal: 59.5s\tremaining: 19.3s\n",
      "151:\tlearn: 969.0197873\ttotal: 59.9s\tremaining: 18.9s\n",
      "152:\tlearn: 968.7276340\ttotal: 1m\tremaining: 18.5s\n",
      "153:\tlearn: 968.0126671\ttotal: 1m\tremaining: 18.1s\n",
      "154:\tlearn: 967.8232036\ttotal: 1m\tremaining: 17.7s\n",
      "155:\tlearn: 966.8881512\ttotal: 1m 1s\tremaining: 17.3s\n",
      "156:\tlearn: 966.7106827\ttotal: 1m 1s\tremaining: 16.9s\n",
      "157:\tlearn: 965.9629883\ttotal: 1m 2s\tremaining: 16.5s\n",
      "158:\tlearn: 965.5926808\ttotal: 1m 2s\tremaining: 16.1s\n",
      "159:\tlearn: 965.2300721\ttotal: 1m 2s\tremaining: 15.7s\n",
      "160:\tlearn: 965.0321805\ttotal: 1m 3s\tremaining: 15.3s\n",
      "161:\tlearn: 964.4468894\ttotal: 1m 3s\tremaining: 14.9s\n",
      "162:\tlearn: 963.9872531\ttotal: 1m 4s\tremaining: 14.5s\n",
      "163:\tlearn: 963.4455456\ttotal: 1m 4s\tremaining: 14.1s\n",
      "164:\tlearn: 963.3045028\ttotal: 1m 4s\tremaining: 13.8s\n",
      "165:\tlearn: 962.6618240\ttotal: 1m 5s\tremaining: 13.4s\n",
      "166:\tlearn: 962.3033756\ttotal: 1m 5s\tremaining: 13s\n",
      "167:\tlearn: 961.7181002\ttotal: 1m 6s\tremaining: 12.6s\n",
      "168:\tlearn: 960.9235507\ttotal: 1m 6s\tremaining: 12.2s\n",
      "169:\tlearn: 960.5985412\ttotal: 1m 7s\tremaining: 11.8s\n",
      "170:\tlearn: 960.2585226\ttotal: 1m 7s\tremaining: 11.5s\n",
      "171:\tlearn: 959.7907690\ttotal: 1m 7s\tremaining: 11.1s\n",
      "172:\tlearn: 959.6196412\ttotal: 1m 8s\tremaining: 10.7s\n",
      "173:\tlearn: 959.2911332\ttotal: 1m 8s\tremaining: 10.3s\n",
      "174:\tlearn: 958.9790733\ttotal: 1m 9s\tremaining: 9.88s\n",
      "175:\tlearn: 958.7755463\ttotal: 1m 9s\tremaining: 9.47s\n",
      "176:\tlearn: 958.3087815\ttotal: 1m 9s\tremaining: 9.06s\n",
      "177:\tlearn: 957.5442626\ttotal: 1m 10s\tremaining: 8.66s\n",
      "178:\tlearn: 957.0541851\ttotal: 1m 10s\tremaining: 8.26s\n",
      "179:\tlearn: 956.7418637\ttotal: 1m 10s\tremaining: 7.87s\n",
      "180:\tlearn: 956.2339121\ttotal: 1m 11s\tremaining: 7.48s\n",
      "181:\tlearn: 955.8990534\ttotal: 1m 11s\tremaining: 7.07s\n",
      "182:\tlearn: 955.3016382\ttotal: 1m 11s\tremaining: 6.67s\n",
      "183:\tlearn: 955.0021488\ttotal: 1m 12s\tremaining: 6.29s\n",
      "184:\tlearn: 954.9006448\ttotal: 1m 12s\tremaining: 5.9s\n",
      "185:\tlearn: 954.1888441\ttotal: 1m 13s\tremaining: 5.5s\n",
      "186:\tlearn: 953.7335750\ttotal: 1m 13s\tremaining: 5.1s\n",
      "187:\tlearn: 953.2911045\ttotal: 1m 13s\tremaining: 4.71s\n",
      "188:\tlearn: 953.0212741\ttotal: 1m 14s\tremaining: 4.32s\n",
      "189:\tlearn: 952.7196130\ttotal: 1m 14s\tremaining: 3.93s\n",
      "190:\tlearn: 951.8466747\ttotal: 1m 14s\tremaining: 3.53s\n",
      "191:\tlearn: 951.2535581\ttotal: 1m 15s\tremaining: 3.14s\n",
      "192:\tlearn: 951.0074211\ttotal: 1m 15s\tremaining: 2.74s\n",
      "193:\tlearn: 950.7235643\ttotal: 1m 16s\tremaining: 2.35s\n",
      "194:\tlearn: 950.6016084\ttotal: 1m 16s\tremaining: 1.96s\n",
      "195:\tlearn: 950.2385587\ttotal: 1m 16s\tremaining: 1.56s\n",
      "196:\tlearn: 949.9929864\ttotal: 1m 17s\tremaining: 1.17s\n",
      "197:\tlearn: 949.3582742\ttotal: 1m 17s\tremaining: 783ms\n",
      "198:\tlearn: 948.8912964\ttotal: 1m 17s\tremaining: 392ms\n",
      "199:\tlearn: 948.2196172\ttotal: 1m 18s\tremaining: 0us\n",
      "CPU times: user 11min 33s, sys: 12.5 s, total: 11min 46s\n",
      "Wall time: 11min 51s\n"
     ]
    }
   ],
   "source": [
    "%%time\n",
    "table, best_model, best_result = model_search(features_train, target_train)"
   ]
  },
  {
   "cell_type": "code",
   "execution_count": 69,
   "metadata": {},
   "outputs": [
    {
     "data": {
      "text/html": [
       "<div>\n",
       "<style scoped>\n",
       "    .dataframe tbody tr th:only-of-type {\n",
       "        vertical-align: middle;\n",
       "    }\n",
       "\n",
       "    .dataframe tbody tr th {\n",
       "        vertical-align: top;\n",
       "    }\n",
       "\n",
       "    .dataframe thead th {\n",
       "        text-align: right;\n",
       "    }\n",
       "</style>\n",
       "<table border=\"1\" class=\"dataframe\">\n",
       "  <thead>\n",
       "    <tr style=\"text-align: right;\">\n",
       "      <th></th>\n",
       "      <th>model</th>\n",
       "      <th>rmse</th>\n",
       "      <th>params</th>\n",
       "    </tr>\n",
       "  </thead>\n",
       "  <tbody>\n",
       "    <tr>\n",
       "      <td>0</td>\n",
       "      <td>best_linear</td>\n",
       "      <td>1822.471016</td>\n",
       "      <td>LinearRegression(copy_X=True, fit_intercept=Tr...</td>\n",
       "    </tr>\n",
       "    <tr>\n",
       "      <td>1</td>\n",
       "      <td>best_tree</td>\n",
       "      <td>1182.265819</td>\n",
       "      <td>DecisionTreeRegressor(criterion='mse', max_dep...</td>\n",
       "    </tr>\n",
       "    <tr>\n",
       "      <td>2</td>\n",
       "      <td>best_forest</td>\n",
       "      <td>1148.081254</td>\n",
       "      <td>RandomForestRegressor(bootstrap=True, criterio...</td>\n",
       "    </tr>\n",
       "    <tr>\n",
       "      <td>3</td>\n",
       "      <td>best_light_GBM</td>\n",
       "      <td>1030.727866</td>\n",
       "      <td>LGBMRegressor(boosting_type='gbdt', class_weig...</td>\n",
       "    </tr>\n",
       "    <tr>\n",
       "      <td>4</td>\n",
       "      <td>best_cat_boost</td>\n",
       "      <td>1063.655967</td>\n",
       "      <td>&lt;catboost.core.CatBoostRegressor object at 0x7...</td>\n",
       "    </tr>\n",
       "  </tbody>\n",
       "</table>\n",
       "</div>"
      ],
      "text/plain": [
       "            model         rmse  \\\n",
       "0     best_linear  1822.471016   \n",
       "1       best_tree  1182.265819   \n",
       "2     best_forest  1148.081254   \n",
       "3  best_light_GBM  1030.727866   \n",
       "4  best_cat_boost  1063.655967   \n",
       "\n",
       "                                              params  \n",
       "0  LinearRegression(copy_X=True, fit_intercept=Tr...  \n",
       "1  DecisionTreeRegressor(criterion='mse', max_dep...  \n",
       "2  RandomForestRegressor(bootstrap=True, criterio...  \n",
       "3  LGBMRegressor(boosting_type='gbdt', class_weig...  \n",
       "4  <catboost.core.CatBoostRegressor object at 0x7...  "
      ]
     },
     "execution_count": 69,
     "metadata": {},
     "output_type": "execute_result"
    }
   ],
   "source": [
    "table"
   ]
  },
  {
   "cell_type": "markdown",
   "metadata": {},
   "source": [
    "## Анализ моделей"
   ]
  },
  {
   "cell_type": "markdown",
   "metadata": {},
   "source": [
    "Для лучших моделей подсчитаем время обучения и предсказания"
   ]
  },
  {
   "cell_type": "code",
   "execution_count": 70,
   "metadata": {},
   "outputs": [],
   "source": [
    "class model_timer:\n",
    "    \n",
    "    def fitting(self, features_train, target_train):\n",
    "        \"\"\"\n",
    "        Замеряем время обучения\n",
    "        \"\"\"\n",
    "        time_fit = []\n",
    "        for model in table['params'][:-2]:\n",
    "            t = time.time()\n",
    "            model.fit(features_train, target_train)\n",
    "            delta = round((time.time() - t), 2)\n",
    "            time_fit.append(delta)    \n",
    "\n",
    "        lgbm = table.loc[3, 'params']\n",
    "        features_train[obj_features] = features_train[obj_features].astype('category')\n",
    "        t = time.time()\n",
    "        lgbm.fit(features_train, target_train)\n",
    "        delta = round((time.time() - t), 2)\n",
    "        time_fit.append(delta)\n",
    "        \n",
    "        cat = table.loc[4, 'params']\n",
    "        t = time.time()\n",
    "        cat.fit(features_train_cat, target_train, cat_features=obj_features)\n",
    "        delta = round((time.time() - t), 2)\n",
    "        time_fit.append(delta)\n",
    "        \n",
    "        return time_fit\n",
    "            \n",
    "    def prediction(self, features_test, target_test):\n",
    "        \"\"\"\n",
    "        Замеряем время предсказания и заодно rmse на тестовой выборке\n",
    "        \"\"\"\n",
    "        time_predict = []\n",
    "        rmse_predict = []\n",
    "        for model in table['params'][:-2]:\n",
    "            t = time.time()\n",
    "            predicted = model.predict(features_test)\n",
    "            delta = round((time.time() - t), 2)\n",
    "            time_predict.append(delta)\n",
    "            \n",
    "            result = rmse(target_test, predicted)\n",
    "            rmse_predict.append(result)\n",
    "            \n",
    "        lgbm = table.loc[3, 'params']\n",
    "        features_test[obj_features] = features_test[obj_features].astype('category')\n",
    "        t = time.time()\n",
    "        predicted = lgbm.predict(features_test)\n",
    "        delta = round((time.time() - t), 2)\n",
    "        time_predict.append(delta)\n",
    "\n",
    "        result = rmse(target_test, predicted)\n",
    "        rmse_predict.append(result)\n",
    "        \n",
    "        cat = table.loc[4, 'params']\n",
    "        t = time.time()\n",
    "        predicted = cat.predict(features_test_cat)\n",
    "        delta = round((time.time() - t), 2)\n",
    "        time_predict.append(delta)\n",
    "\n",
    "        result = rmse(target_test, predicted)\n",
    "        rmse_predict.append(result)\n",
    "            \n",
    "        return time_predict, rmse_predict\n"
   ]
  },
  {
   "cell_type": "code",
   "execution_count": null,
   "metadata": {},
   "outputs": [],
   "source": [
    "model_timer = model_timer()\n",
    "table['time_fit'] = model_timer.fitting(features_train, target_train)"
   ]
  },
  {
   "cell_type": "code",
   "execution_count": 72,
   "metadata": {},
   "outputs": [],
   "source": [
    "table['time_predict'] = model_timer.prediction(features_test, target_test)[0]\n",
    "table['test_rmse'] = model_timer.prediction(features_test, target_test)[1]"
   ]
  },
  {
   "cell_type": "code",
   "execution_count": 73,
   "metadata": {
    "scrolled": true
   },
   "outputs": [],
   "source": [
    "table['total_time'] = table['time_fit'] + table['time_predict']"
   ]
  },
  {
   "cell_type": "code",
   "execution_count": 74,
   "metadata": {
    "scrolled": false
   },
   "outputs": [
    {
     "name": "stdout",
     "output_type": "stream",
     "text": [
      "\n",
      "                        DecisionTreeRegressor                         \n"
     ]
    },
    {
     "data": {
      "image/png": "[encoded data removed]",
      "text/plain": [
       "<Figure size 432x504 with 1 Axes>"
      ]
     },
     "metadata": {
      "needs_background": "light"
     },
     "output_type": "display_data"
    },
    {
     "name": "stdout",
     "output_type": "stream",
     "text": [
      "\n",
      "                        RandomForestRegressor                         \n"
     ]
    },
    {
     "data": {
      "image/png": "[encoded data removed]",
      "text/plain": [
       "<Figure size 432x504 with 1 Axes>"
      ]
     },
     "metadata": {
      "needs_background": "light"
     },
     "output_type": "display_data"
    },
    {
     "name": "stdout",
     "output_type": "stream",
     "text": [
      "\n",
      "                            LGBMRegressor                             \n"
     ]
    },
    {
     "data": {
      "image/png": "[encoded data removed]",
      "text/plain": [
       "<Figure size 432x504 with 1 Axes>"
      ]
     },
     "metadata": {
      "needs_background": "light"
     },
     "output_type": "display_data"
    },
    {
     "name": "stdout",
     "output_type": "stream",
     "text": [
      "\n",
      "                          CatBoostRegressor                           \n"
     ]
    },
    {
     "data": {
      "image/png": "[encoded data removed]",
      "text/plain": [
       "<Figure size 432x504 with 1 Axes>"
      ]
     },
     "metadata": {
      "needs_background": "light"
     },
     "output_type": "display_data"
    }
   ],
   "source": [
    "# feat_importance \n",
    "for model in table.loc[1:,'params']:\n",
    "    print(f'\\n{model.__class__.__name__:^70}')\n",
    "    # строим таблицу из признаков и их важности\n",
    "    feat_importance = pd.DataFrame()\n",
    "    feat_importance[\"feature\"] = df.drop('price', axis=1).columns\n",
    "    feat_importance[\"value\"] = model.feature_importances_\n",
    "    feat_importance.sort_values(by='value', ascending=False, inplace=True)\n",
    "    # строим график\n",
    "    plt.figure(figsize=(6,7))\n",
    "    ax = sns.barplot(y=\"feature\", x=\"value\", data=feat_importance)\n",
    "    plt.show()"
   ]
  },
  {
   "cell_type": "code",
   "execution_count": 75,
   "metadata": {},
   "outputs": [
    {
     "data": {
      "text/html": [
       "<div>\n",
       "<style scoped>\n",
       "    .dataframe tbody tr th:only-of-type {\n",
       "        vertical-align: middle;\n",
       "    }\n",
       "\n",
       "    .dataframe tbody tr th {\n",
       "        vertical-align: top;\n",
       "    }\n",
       "\n",
       "    .dataframe thead th {\n",
       "        text-align: right;\n",
       "    }\n",
       "</style>\n",
       "<table border=\"1\" class=\"dataframe\">\n",
       "  <thead>\n",
       "    <tr style=\"text-align: right;\">\n",
       "      <th></th>\n",
       "      <th>model</th>\n",
       "      <th>rmse</th>\n",
       "      <th>time_fit</th>\n",
       "      <th>time_predict</th>\n",
       "      <th>test_rmse</th>\n",
       "      <th>total_time</th>\n",
       "    </tr>\n",
       "  </thead>\n",
       "  <tbody>\n",
       "    <tr>\n",
       "      <td>0</td>\n",
       "      <td>best_linear</td>\n",
       "      <td>1822.471016</td>\n",
       "      <td>0.17</td>\n",
       "      <td>0.00</td>\n",
       "      <td>1828.203775</td>\n",
       "      <td>0.17</td>\n",
       "    </tr>\n",
       "    <tr>\n",
       "      <td>1</td>\n",
       "      <td>best_tree</td>\n",
       "      <td>1182.265819</td>\n",
       "      <td>0.79</td>\n",
       "      <td>0.06</td>\n",
       "      <td>1167.849032</td>\n",
       "      <td>0.85</td>\n",
       "    </tr>\n",
       "    <tr>\n",
       "      <td>2</td>\n",
       "      <td>best_forest</td>\n",
       "      <td>1148.081254</td>\n",
       "      <td>31.98</td>\n",
       "      <td>0.79</td>\n",
       "      <td>1142.734363</td>\n",
       "      <td>32.77</td>\n",
       "    </tr>\n",
       "    <tr>\n",
       "      <td>3</td>\n",
       "      <td>best_light_GBM</td>\n",
       "      <td>1030.727866</td>\n",
       "      <td>6.53</td>\n",
       "      <td>0.80</td>\n",
       "      <td>1016.522920</td>\n",
       "      <td>7.33</td>\n",
       "    </tr>\n",
       "    <tr>\n",
       "      <td>4</td>\n",
       "      <td>best_cat_boost</td>\n",
       "      <td>1063.655967</td>\n",
       "      <td>103.53</td>\n",
       "      <td>0.38</td>\n",
       "      <td>1051.866764</td>\n",
       "      <td>103.91</td>\n",
       "    </tr>\n",
       "  </tbody>\n",
       "</table>\n",
       "</div>"
      ],
      "text/plain": [
       "            model         rmse  time_fit  time_predict    test_rmse  \\\n",
       "0     best_linear  1822.471016      0.17          0.00  1828.203775   \n",
       "1       best_tree  1182.265819      0.79          0.06  1167.849032   \n",
       "2     best_forest  1148.081254     31.98          0.79  1142.734363   \n",
       "3  best_light_GBM  1030.727866      6.53          0.80  1016.522920   \n",
       "4  best_cat_boost  1063.655967    103.53          0.38  1051.866764   \n",
       "\n",
       "   total_time  \n",
       "0        0.17  \n",
       "1        0.85  \n",
       "2       32.77  \n",
       "3        7.33  \n",
       "4      103.91  "
      ]
     },
     "execution_count": 75,
     "metadata": {},
     "output_type": "execute_result"
    }
   ],
   "source": [
    "comparison_table = table.drop('params', axis=1)\n",
    "comparison_table"
   ]
  },
  {
   "cell_type": "markdown",
   "metadata": {},
   "source": [
    "На тестовых выборках значения rmse меньше, видимо, из-за недообучения"
   ]
  },
  {
   "cell_type": "code",
   "execution_count": 76,
   "metadata": {},
   "outputs": [],
   "source": [
    "final_model = table.loc[3, 'params']"
   ]
  },
  {
   "cell_type": "markdown",
   "metadata": {},
   "source": [
    "**Вывод**\n",
    "\n",
    "Лучшее соотношение быстрота/точность у модели следующей модели:"
   ]
  },
  {
   "cell_type": "code",
   "execution_count": 77,
   "metadata": {},
   "outputs": [
    {
     "data": {
      "text/plain": [
       "LGBMRegressor(boosting_type='gbdt', class_weight=None, colsample_bytree=1.0,\n",
       "              importance_type='split', learning_rate=0.5, max_depth=7,\n",
       "              min_child_samples=20, min_child_weight=0.001, min_split_gain=0.0,\n",
       "              n_estimators=200, n_jobs=-1, num_leaves=31, objective=None,\n",
       "              random_state=1, reg_alpha=0.0, reg_lambda=0.0, silent=True,\n",
       "              subsample=1.0, subsample_for_bin=200000, subsample_freq=0)"
      ]
     },
     "execution_count": 77,
     "metadata": {},
     "output_type": "execute_result"
    }
   ],
   "source": [
    "final_model"
   ]
  },
  {
   "cell_type": "markdown",
   "metadata": {},
   "source": [
    "## Вывод"
   ]
  },
  {
   "cell_type": "markdown",
   "metadata": {},
   "source": [
    "Для построения модели для определения стоимости автомодиля необходимо было решить задачу регрессии, при этом необходимо было учитывать скорость обучения и прогнозирования и точность прогноза.\n",
    "\n",
    "Ход работы: \n",
    "1. Данные загружены, проведен первичный осмотр. Обнаружено следующее:\n",
    "    - Есть пропуски в трех колонках типа object: VehicleType, Gearbox, Model, FuelType, NotRepaired\n",
    "    - Стиль названия колонок не соответсвуем snake_case\n",
    "    - Колонки с датами и временем имеют строковый тип данных (что не всегда является проблемой)\n",
    "    \n",
    "2. Подготовка данных:\n",
    "    1. Стиль названия колонок приведен к snake_case\n",
    "    2. Обработаны пропуски: заполнены значением \"unidentified\", поскольку все пропуски в столбцах с типом данных object и достоверного способа восстановить их нет\n",
    "    3. Проведена проверна на наличие дубликатов. Выявлено 4 строки-дубликата (удалены).\n",
    "    4. Проведен первичный анализ.\n",
    "\n",
    "3. Подготовлены признаки.\n",
    "    1. Удалены столбцы, которые не являются признаками: \n",
    "    2. Категориальные данные преобразованы в числовые (порядковое кодирование в силу большого числа групп)\n",
    "    3. Выделен целево признак\n",
    "    4. Данные разбиты на обучающую и тестовую выборку (4:1)\n",
    "    5. Отмасштабированы количесвенные признаки\n",
    "\n",
    "4. Построены модели: \n",
    "    - линейная регрессия\n",
    "    - дерево решений\n",
    "    - случайный лес\n",
    "    - CatBoost\n",
    "    - LightGBM\n",
    "5. Выбраны гиперпараметры для получения наименьшего RMSE\n",
    "6. Для лучших моделей вычислено время обучения и прогнозирования"
   ]
  },
  {
   "cell_type": "code",
   "execution_count": 78,
   "metadata": {},
   "outputs": [
    {
     "data": {
      "text/html": [
       "<div>\n",
       "<style scoped>\n",
       "    .dataframe tbody tr th:only-of-type {\n",
       "        vertical-align: middle;\n",
       "    }\n",
       "\n",
       "    .dataframe tbody tr th {\n",
       "        vertical-align: top;\n",
       "    }\n",
       "\n",
       "    .dataframe thead th {\n",
       "        text-align: right;\n",
       "    }\n",
       "</style>\n",
       "<table border=\"1\" class=\"dataframe\">\n",
       "  <thead>\n",
       "    <tr style=\"text-align: right;\">\n",
       "      <th></th>\n",
       "      <th>model</th>\n",
       "      <th>rmse</th>\n",
       "      <th>time_fit</th>\n",
       "      <th>time_predict</th>\n",
       "      <th>test_rmse</th>\n",
       "      <th>total_time</th>\n",
       "    </tr>\n",
       "  </thead>\n",
       "  <tbody>\n",
       "    <tr>\n",
       "      <td>0</td>\n",
       "      <td>best_linear</td>\n",
       "      <td>1822.471016</td>\n",
       "      <td>0.17</td>\n",
       "      <td>0.00</td>\n",
       "      <td>1828.203775</td>\n",
       "      <td>0.17</td>\n",
       "    </tr>\n",
       "    <tr>\n",
       "      <td>1</td>\n",
       "      <td>best_tree</td>\n",
       "      <td>1182.265819</td>\n",
       "      <td>0.79</td>\n",
       "      <td>0.06</td>\n",
       "      <td>1167.849032</td>\n",
       "      <td>0.85</td>\n",
       "    </tr>\n",
       "    <tr>\n",
       "      <td>2</td>\n",
       "      <td>best_forest</td>\n",
       "      <td>1148.081254</td>\n",
       "      <td>31.98</td>\n",
       "      <td>0.79</td>\n",
       "      <td>1142.734363</td>\n",
       "      <td>32.77</td>\n",
       "    </tr>\n",
       "    <tr>\n",
       "      <td>3</td>\n",
       "      <td>best_light_GBM</td>\n",
       "      <td>1030.727866</td>\n",
       "      <td>6.53</td>\n",
       "      <td>0.80</td>\n",
       "      <td>1016.522920</td>\n",
       "      <td>7.33</td>\n",
       "    </tr>\n",
       "    <tr>\n",
       "      <td>4</td>\n",
       "      <td>best_cat_boost</td>\n",
       "      <td>1063.655967</td>\n",
       "      <td>103.53</td>\n",
       "      <td>0.38</td>\n",
       "      <td>1051.866764</td>\n",
       "      <td>103.91</td>\n",
       "    </tr>\n",
       "  </tbody>\n",
       "</table>\n",
       "</div>"
      ],
      "text/plain": [
       "            model         rmse  time_fit  time_predict    test_rmse  \\\n",
       "0     best_linear  1822.471016      0.17          0.00  1828.203775   \n",
       "1       best_tree  1182.265819      0.79          0.06  1167.849032   \n",
       "2     best_forest  1148.081254     31.98          0.79  1142.734363   \n",
       "3  best_light_GBM  1030.727866      6.53          0.80  1016.522920   \n",
       "4  best_cat_boost  1063.655967    103.53          0.38  1051.866764   \n",
       "\n",
       "   total_time  \n",
       "0        0.17  \n",
       "1        0.85  \n",
       "2       32.77  \n",
       "3        7.33  \n",
       "4      103.91  "
      ]
     },
     "execution_count": 78,
     "metadata": {},
     "output_type": "execute_result"
    }
   ],
   "source": [
    "comparison_table"
   ]
  },
  {
   "cell_type": "markdown",
   "metadata": {},
   "source": [
    "Для решения задачи лучше всего подходит модель "
   ]
  },
  {
   "cell_type": "code",
   "execution_count": 79,
   "metadata": {},
   "outputs": [
    {
     "data": {
      "text/plain": [
       "LGBMRegressor(boosting_type='gbdt', class_weight=None, colsample_bytree=1.0,\n",
       "              importance_type='split', learning_rate=0.5, max_depth=7,\n",
       "              min_child_samples=20, min_child_weight=0.001, min_split_gain=0.0,\n",
       "              n_estimators=200, n_jobs=-1, num_leaves=31, objective=None,\n",
       "              random_state=1, reg_alpha=0.0, reg_lambda=0.0, silent=True,\n",
       "              subsample=1.0, subsample_for_bin=200000, subsample_freq=0)"
      ]
     },
     "execution_count": 79,
     "metadata": {},
     "output_type": "execute_result"
    }
   ],
   "source": [
    "final_model"
   ]
  },
  {
   "cell_type": "code",
   "execution_count": null,
   "metadata": {},
   "outputs": [],
   "source": []
  }
 ],
 "metadata": {
  "ExecuteTimeLog": [
   {
    "duration": 694,
    "start_time": "2022-02-22T10:23:03.150Z"
   },
   {
    "duration": 1222,
    "start_time": "2022-02-22T10:23:06.044Z"
   },
   {
    "duration": 127,
    "start_time": "2022-02-22T10:23:17.124Z"
   },
   {
    "duration": 6,
    "start_time": "2022-02-22T10:24:15.536Z"
   },
   {
    "duration": 863,
    "start_time": "2022-02-22T10:24:19.615Z"
   },
   {
    "duration": 2,
    "start_time": "2022-02-22T10:24:38.827Z"
   },
   {
    "duration": 4,
    "start_time": "2022-02-22T10:24:42.104Z"
   },
   {
    "duration": 11,
    "start_time": "2022-02-22T10:24:42.555Z"
   },
   {
    "duration": 21,
    "start_time": "2022-02-22T10:27:03.604Z"
   },
   {
    "duration": 15,
    "start_time": "2022-02-22T10:29:29.780Z"
   },
   {
    "duration": 273,
    "start_time": "2022-02-22T10:31:04.926Z"
   },
   {
    "duration": 255,
    "start_time": "2022-02-22T10:31:08.298Z"
   },
   {
    "duration": 5,
    "start_time": "2022-02-22T10:31:12.000Z"
   },
   {
    "duration": 4,
    "start_time": "2022-02-22T10:31:50.775Z"
   },
   {
    "duration": 281,
    "start_time": "2022-02-22T10:32:01.038Z"
   },
   {
    "duration": 5,
    "start_time": "2022-02-22T10:32:28.775Z"
   },
   {
    "duration": 5,
    "start_time": "2022-02-22T10:32:37.153Z"
   },
   {
    "duration": 4,
    "start_time": "2022-02-22T10:32:41.240Z"
   },
   {
    "duration": 6837,
    "start_time": "2022-02-22T10:33:08.826Z"
   },
   {
    "duration": 7865,
    "start_time": "2022-02-22T10:33:20.367Z"
   },
   {
    "duration": 4,
    "start_time": "2022-02-22T10:33:30.731Z"
   },
   {
    "duration": 5,
    "start_time": "2022-02-22T10:40:17.265Z"
   },
   {
    "duration": 5,
    "start_time": "2022-02-22T10:40:57.945Z"
   },
   {
    "duration": 259,
    "start_time": "2022-02-22T10:41:13.743Z"
   },
   {
    "duration": 4,
    "start_time": "2022-02-22T10:41:26.844Z"
   },
   {
    "duration": 6,
    "start_time": "2022-02-22T10:42:12.383Z"
   },
   {
    "duration": 4,
    "start_time": "2022-02-22T10:42:37.746Z"
   },
   {
    "duration": 5,
    "start_time": "2022-02-22T10:42:50.997Z"
   },
   {
    "duration": 5,
    "start_time": "2022-02-22T10:43:04.661Z"
   },
   {
    "duration": 5,
    "start_time": "2022-02-22T10:43:11.188Z"
   },
   {
    "duration": 5,
    "start_time": "2022-02-22T10:43:15.623Z"
   },
   {
    "duration": 4,
    "start_time": "2022-02-22T10:43:44.513Z"
   },
   {
    "duration": 5,
    "start_time": "2022-02-22T10:43:49.678Z"
   },
   {
    "duration": 5,
    "start_time": "2022-02-22T10:44:03.876Z"
   },
   {
    "duration": 5,
    "start_time": "2022-02-22T10:44:09.315Z"
   },
   {
    "duration": 8,
    "start_time": "2022-02-22T10:45:38.631Z"
   },
   {
    "duration": 5,
    "start_time": "2022-02-22T10:45:46.012Z"
   },
   {
    "duration": 357,
    "start_time": "2022-02-22T10:46:23.157Z"
   },
   {
    "duration": 4,
    "start_time": "2022-02-22T10:46:30.327Z"
   },
   {
    "duration": 4,
    "start_time": "2022-02-22T10:46:34.967Z"
   },
   {
    "duration": 4,
    "start_time": "2022-02-22T10:46:50.284Z"
   },
   {
    "duration": 3,
    "start_time": "2022-02-22T10:47:02.530Z"
   },
   {
    "duration": 3,
    "start_time": "2022-02-22T10:47:05.280Z"
   },
   {
    "duration": 6,
    "start_time": "2022-02-22T10:47:13.879Z"
   },
   {
    "duration": 4,
    "start_time": "2022-02-22T10:47:30.131Z"
   },
   {
    "duration": 4,
    "start_time": "2022-02-22T10:47:32.333Z"
   },
   {
    "duration": 17,
    "start_time": "2022-02-22T10:47:55.535Z"
   },
   {
    "duration": 18,
    "start_time": "2022-02-22T10:48:25.331Z"
   },
   {
    "duration": 126,
    "start_time": "2022-02-22T10:48:28.345Z"
   },
   {
    "duration": 123,
    "start_time": "2022-02-22T10:48:47.637Z"
   },
   {
    "duration": 127,
    "start_time": "2022-02-22T10:49:32.802Z"
   },
   {
    "duration": 948,
    "start_time": "2022-02-22T10:50:00.582Z"
   },
   {
    "duration": 140,
    "start_time": "2022-02-22T10:50:01.532Z"
   },
   {
    "duration": 15,
    "start_time": "2022-02-22T10:50:02.563Z"
   },
   {
    "duration": 129,
    "start_time": "2022-02-22T10:50:04.622Z"
   },
   {
    "duration": 287,
    "start_time": "2022-02-22T10:56:11.607Z"
   },
   {
    "duration": 89,
    "start_time": "2022-02-22T10:56:28.230Z"
   },
   {
    "duration": 125,
    "start_time": "2022-02-22T10:56:30.728Z"
   },
   {
    "duration": 409,
    "start_time": "2022-02-22T10:56:41.091Z"
   },
   {
    "duration": 4,
    "start_time": "2022-02-22T10:56:54.688Z"
   },
   {
    "duration": 6,
    "start_time": "2022-02-22T10:56:55.012Z"
   },
   {
    "duration": 380,
    "start_time": "2022-02-22T10:56:56.194Z"
   },
   {
    "duration": 801,
    "start_time": "2022-02-22T10:57:59.727Z"
   },
   {
    "duration": 131,
    "start_time": "2022-02-22T10:58:00.530Z"
   },
   {
    "duration": 14,
    "start_time": "2022-02-22T10:58:01.607Z"
   },
   {
    "duration": 130,
    "start_time": "2022-02-22T10:58:02.427Z"
   },
   {
    "duration": 4,
    "start_time": "2022-02-22T10:58:04.256Z"
   },
   {
    "duration": 7,
    "start_time": "2022-02-22T10:58:05.108Z"
   },
   {
    "duration": 4,
    "start_time": "2022-02-22T10:58:07.965Z"
   },
   {
    "duration": 830,
    "start_time": "2022-02-22T10:58:23.225Z"
   },
   {
    "duration": 16,
    "start_time": "2022-02-22T11:01:30.926Z"
   },
   {
    "duration": 465,
    "start_time": "2022-02-22T11:01:33.234Z"
   },
   {
    "duration": 403,
    "start_time": "2022-02-22T11:01:40.205Z"
   },
   {
    "duration": 414,
    "start_time": "2022-02-22T11:01:51.728Z"
   },
   {
    "duration": 487,
    "start_time": "2022-02-22T11:03:57.181Z"
   },
   {
    "duration": 505,
    "start_time": "2022-02-22T11:04:05.219Z"
   },
   {
    "duration": 962,
    "start_time": "2022-02-22T11:04:10.539Z"
   },
   {
    "duration": 752,
    "start_time": "2022-02-22T11:04:28.854Z"
   },
   {
    "duration": 4,
    "start_time": "2022-02-22T11:04:34.452Z"
   },
   {
    "duration": 6,
    "start_time": "2022-02-22T11:04:34.836Z"
   },
   {
    "duration": 341,
    "start_time": "2022-02-22T11:04:42.404Z"
   },
   {
    "duration": 354,
    "start_time": "2022-02-22T11:04:44.650Z"
   },
   {
    "duration": 365,
    "start_time": "2022-02-22T11:04:51.795Z"
   },
   {
    "duration": 363,
    "start_time": "2022-02-22T11:05:02.045Z"
   },
   {
    "duration": 7406,
    "start_time": "2022-02-22T11:05:16.648Z"
   },
   {
    "duration": 393,
    "start_time": "2022-02-22T11:05:29.829Z"
   },
   {
    "duration": 6845,
    "start_time": "2022-02-22T11:06:36.531Z"
   },
   {
    "duration": 357,
    "start_time": "2022-02-22T11:06:45.535Z"
   },
   {
    "duration": 349,
    "start_time": "2022-02-22T11:08:50.235Z"
   },
   {
    "duration": 360,
    "start_time": "2022-02-22T11:08:56.189Z"
   },
   {
    "duration": 334,
    "start_time": "2022-02-22T11:09:37.525Z"
   },
   {
    "duration": 260,
    "start_time": "2022-02-22T11:12:32.578Z"
   },
   {
    "duration": 110,
    "start_time": "2022-02-22T11:12:41.966Z"
   },
   {
    "duration": 93,
    "start_time": "2022-02-22T11:15:13.295Z"
   },
   {
    "duration": 385,
    "start_time": "2022-02-22T11:15:23.042Z"
   },
   {
    "duration": 98,
    "start_time": "2022-02-22T11:15:24.790Z"
   },
   {
    "duration": 298,
    "start_time": "2022-02-22T11:15:55.386Z"
   },
   {
    "duration": 251,
    "start_time": "2022-02-22T11:16:05.341Z"
   },
   {
    "duration": 298,
    "start_time": "2022-02-22T11:16:34.880Z"
   },
   {
    "duration": 811,
    "start_time": "2022-02-22T11:16:39.046Z"
   },
   {
    "duration": 523,
    "start_time": "2022-02-22T11:17:06.682Z"
   },
   {
    "duration": 895,
    "start_time": "2022-02-22T11:17:07.660Z"
   },
   {
    "duration": 847,
    "start_time": "2022-02-22T11:19:04.806Z"
   },
   {
    "duration": 43916,
    "start_time": "2022-02-22T11:22:15.318Z"
   },
   {
    "duration": 4,
    "start_time": "2022-02-22T11:29:16.606Z"
   },
   {
    "duration": 5,
    "start_time": "2022-02-22T11:30:04.793Z"
   },
   {
    "duration": 4,
    "start_time": "2022-02-22T11:30:08.266Z"
   },
   {
    "duration": 6,
    "start_time": "2022-02-22T11:30:26.544Z"
   },
   {
    "duration": 4,
    "start_time": "2022-02-22T11:30:38.478Z"
   },
   {
    "duration": 291,
    "start_time": "2022-02-22T11:30:45.212Z"
   },
   {
    "duration": 5,
    "start_time": "2022-02-22T11:30:47.579Z"
   },
   {
    "duration": 3,
    "start_time": "2022-02-22T11:33:54.950Z"
   },
   {
    "duration": 3,
    "start_time": "2022-02-22T11:34:02.345Z"
   },
   {
    "duration": 4,
    "start_time": "2022-02-22T11:34:04.387Z"
   },
   {
    "duration": 4,
    "start_time": "2022-02-22T11:35:44.145Z"
   },
   {
    "duration": 4,
    "start_time": "2022-02-22T11:35:48.560Z"
   },
   {
    "duration": 5,
    "start_time": "2022-02-22T11:35:53.702Z"
   },
   {
    "duration": 6,
    "start_time": "2022-02-22T11:36:02.176Z"
   },
   {
    "duration": 4,
    "start_time": "2022-02-22T11:36:08.013Z"
   },
   {
    "duration": 4,
    "start_time": "2022-02-22T11:36:24.198Z"
   },
   {
    "duration": 6,
    "start_time": "2022-02-22T11:37:24.157Z"
   },
   {
    "duration": 3,
    "start_time": "2022-02-22T11:38:01.838Z"
   },
   {
    "duration": 4,
    "start_time": "2022-02-22T11:38:02.763Z"
   },
   {
    "duration": 5,
    "start_time": "2022-02-22T11:38:42.956Z"
   },
   {
    "duration": 6693,
    "start_time": "2022-02-22T11:38:47.702Z"
   },
   {
    "duration": 11579,
    "start_time": "2022-02-22T11:38:54.471Z"
   },
   {
    "duration": 265,
    "start_time": "2022-02-22T11:39:20.255Z"
   },
   {
    "duration": 270,
    "start_time": "2022-02-22T11:39:40.379Z"
   },
   {
    "duration": 4,
    "start_time": "2022-02-22T11:39:47.967Z"
   },
   {
    "duration": 355,
    "start_time": "2022-02-22T11:39:59.903Z"
   },
   {
    "duration": 305,
    "start_time": "2022-02-22T11:40:14.123Z"
   },
   {
    "duration": 6,
    "start_time": "2022-02-22T11:40:28.850Z"
   },
   {
    "duration": 6,
    "start_time": "2022-02-22T11:40:32.179Z"
   },
   {
    "duration": 5,
    "start_time": "2022-02-22T11:41:40.494Z"
   },
   {
    "duration": 278,
    "start_time": "2022-02-22T11:45:51.918Z"
   },
   {
    "duration": 6,
    "start_time": "2022-02-22T11:46:05.081Z"
   },
   {
    "duration": 4,
    "start_time": "2022-02-22T11:46:14.075Z"
   },
   {
    "duration": 1003,
    "start_time": "2022-02-22T11:46:15.162Z"
   },
   {
    "duration": 8,
    "start_time": "2022-02-22T11:46:32.958Z"
   },
   {
    "duration": 255,
    "start_time": "2022-02-22T11:46:37.700Z"
   },
   {
    "duration": 6,
    "start_time": "2022-02-22T11:46:53.610Z"
   },
   {
    "duration": 4,
    "start_time": "2022-02-22T11:48:32.772Z"
   },
   {
    "duration": 8,
    "start_time": "2022-02-22T11:48:33.530Z"
   },
   {
    "duration": 5,
    "start_time": "2022-02-22T11:50:57.419Z"
   },
   {
    "duration": 13,
    "start_time": "2022-02-22T11:51:02.354Z"
   },
   {
    "duration": 5,
    "start_time": "2022-02-22T11:52:43.119Z"
   },
   {
    "duration": 11,
    "start_time": "2022-02-22T11:52:43.591Z"
   },
   {
    "duration": 4,
    "start_time": "2022-02-22T11:52:53.751Z"
   },
   {
    "duration": 573,
    "start_time": "2022-02-22T11:52:54.372Z"
   },
   {
    "duration": 4,
    "start_time": "2022-02-22T11:53:23.189Z"
   },
   {
    "duration": 5,
    "start_time": "2022-02-22T11:53:27.290Z"
   },
   {
    "duration": 4,
    "start_time": "2022-02-22T11:53:36.968Z"
   },
   {
    "duration": 11,
    "start_time": "2022-02-22T11:53:37.573Z"
   },
   {
    "duration": 12,
    "start_time": "2022-02-22T11:54:35.330Z"
   },
   {
    "duration": 5,
    "start_time": "2022-02-22T11:54:37.755Z"
   },
   {
    "duration": 14,
    "start_time": "2022-02-22T11:54:44.777Z"
   },
   {
    "duration": 4,
    "start_time": "2022-02-22T11:55:04.090Z"
   },
   {
    "duration": 8,
    "start_time": "2022-02-22T11:55:04.501Z"
   },
   {
    "duration": 287,
    "start_time": "2022-02-22T11:55:45.080Z"
   },
   {
    "duration": 3,
    "start_time": "2022-02-22T11:55:46.839Z"
   },
   {
    "duration": 556,
    "start_time": "2022-02-22T11:55:47.139Z"
   },
   {
    "duration": 4,
    "start_time": "2022-02-22T11:55:51.455Z"
   },
   {
    "duration": 555,
    "start_time": "2022-02-22T11:55:52.148Z"
   },
   {
    "duration": 4,
    "start_time": "2022-02-22T11:56:02.187Z"
   },
   {
    "duration": 5,
    "start_time": "2022-02-22T11:56:38.575Z"
   },
   {
    "duration": 16,
    "start_time": "2022-02-22T11:56:39.440Z"
   },
   {
    "duration": 5,
    "start_time": "2022-02-22T11:57:04.916Z"
   },
   {
    "duration": 10,
    "start_time": "2022-02-22T11:57:05.468Z"
   },
   {
    "duration": 5,
    "start_time": "2022-02-22T11:57:24.332Z"
   },
   {
    "duration": 12,
    "start_time": "2022-02-22T11:57:24.983Z"
   },
   {
    "duration": 5,
    "start_time": "2022-02-22T11:58:31.798Z"
   },
   {
    "duration": 16,
    "start_time": "2022-02-22T11:58:33.984Z"
   },
   {
    "duration": 4,
    "start_time": "2022-02-22T11:58:50.943Z"
   },
   {
    "duration": 12,
    "start_time": "2022-02-22T11:58:51.287Z"
   },
   {
    "duration": 5,
    "start_time": "2022-02-22T12:00:16.089Z"
   },
   {
    "duration": 10,
    "start_time": "2022-02-22T12:00:16.619Z"
   },
   {
    "duration": 5,
    "start_time": "2022-02-22T12:00:23.376Z"
   },
   {
    "duration": 8,
    "start_time": "2022-02-22T12:00:23.824Z"
   },
   {
    "duration": 319,
    "start_time": "2022-02-22T12:01:10.135Z"
   },
   {
    "duration": 267,
    "start_time": "2022-02-22T12:01:26.032Z"
   },
   {
    "duration": 271,
    "start_time": "2022-02-22T12:01:32.494Z"
   },
   {
    "duration": 274,
    "start_time": "2022-02-22T12:01:37.353Z"
   },
   {
    "duration": 5,
    "start_time": "2022-02-22T12:01:50.622Z"
   },
   {
    "duration": 8,
    "start_time": "2022-02-22T12:01:58.754Z"
   },
   {
    "duration": 8,
    "start_time": "2022-02-22T12:04:34.475Z"
   },
   {
    "duration": 4,
    "start_time": "2022-02-22T12:04:40.944Z"
   },
   {
    "duration": 8,
    "start_time": "2022-02-22T12:04:56.425Z"
   },
   {
    "duration": 10,
    "start_time": "2022-02-22T12:05:02.380Z"
   },
   {
    "duration": 10,
    "start_time": "2022-02-22T12:05:06.566Z"
   },
   {
    "duration": 5,
    "start_time": "2022-02-22T12:05:41.248Z"
   },
   {
    "duration": 11,
    "start_time": "2022-02-22T12:05:41.772Z"
   },
   {
    "duration": 5,
    "start_time": "2022-02-22T12:05:47.564Z"
   },
   {
    "duration": 12,
    "start_time": "2022-02-22T12:05:48.001Z"
   },
   {
    "duration": 6,
    "start_time": "2022-02-22T12:10:02.938Z"
   },
   {
    "duration": 15,
    "start_time": "2022-02-22T12:10:04.449Z"
   },
   {
    "duration": 1727,
    "start_time": "2022-02-22T12:17:35.050Z"
   },
   {
    "duration": 1836,
    "start_time": "2022-02-22T12:22:12.623Z"
   },
   {
    "duration": 1475,
    "start_time": "2022-02-22T12:22:21.688Z"
   },
   {
    "duration": 1585,
    "start_time": "2022-02-22T12:22:39.058Z"
   },
   {
    "duration": 33505,
    "start_time": "2022-02-22T12:25:12.978Z"
   },
   {
    "duration": 35,
    "start_time": "2022-02-22T12:30:44.215Z"
   },
   {
    "duration": 34,
    "start_time": "2022-02-22T12:30:55.233Z"
   },
   {
    "duration": 24,
    "start_time": "2022-02-22T12:32:01.151Z"
   },
   {
    "duration": 27,
    "start_time": "2022-02-22T12:34:44.973Z"
   },
   {
    "duration": 31,
    "start_time": "2022-02-22T12:35:13.192Z"
   },
   {
    "duration": 318,
    "start_time": "2022-02-22T12:36:20.937Z"
   },
   {
    "duration": 1961,
    "start_time": "2022-02-22T12:36:26.837Z"
   },
   {
    "duration": 400,
    "start_time": "2022-02-22T12:36:34.658Z"
   },
   {
    "duration": 39,
    "start_time": "2022-02-22T12:37:19.785Z"
   },
   {
    "duration": 27,
    "start_time": "2022-02-22T12:37:32.930Z"
   },
   {
    "duration": 34,
    "start_time": "2022-02-22T12:38:08.709Z"
   },
   {
    "duration": 20,
    "start_time": "2022-02-22T12:39:07.129Z"
   },
   {
    "duration": 31,
    "start_time": "2022-02-22T12:39:14.486Z"
   },
   {
    "duration": 20,
    "start_time": "2022-02-22T12:39:23.611Z"
   },
   {
    "duration": 400,
    "start_time": "2022-02-22T12:42:12.110Z"
   },
   {
    "duration": 246,
    "start_time": "2022-02-22T12:42:19.094Z"
   },
   {
    "duration": 2549,
    "start_time": "2022-02-22T12:42:24.018Z"
   },
   {
    "duration": 1819,
    "start_time": "2022-02-22T12:42:38.879Z"
   },
   {
    "duration": 1716,
    "start_time": "2022-02-22T12:42:45.494Z"
   },
   {
    "duration": 26,
    "start_time": "2022-02-22T12:45:00.131Z"
   },
   {
    "duration": 20,
    "start_time": "2022-02-22T12:45:04.329Z"
   },
   {
    "duration": 27,
    "start_time": "2022-02-22T12:45:36.352Z"
   },
   {
    "duration": 10,
    "start_time": "2022-02-22T12:46:04.463Z"
   },
   {
    "duration": 287,
    "start_time": "2022-02-22T12:46:26.817Z"
   },
   {
    "duration": 275,
    "start_time": "2022-02-22T12:46:30.377Z"
   },
   {
    "duration": 41,
    "start_time": "2022-02-22T12:47:56.979Z"
   },
   {
    "duration": 18,
    "start_time": "2022-02-22T14:29:09.500Z"
   },
   {
    "duration": 49,
    "start_time": "2022-02-22T14:31:45.239Z"
   },
   {
    "duration": 4,
    "start_time": "2022-02-22T14:31:56.487Z"
   },
   {
    "duration": 16,
    "start_time": "2022-02-22T14:35:17.578Z"
   },
   {
    "duration": 942,
    "start_time": "2022-02-22T14:37:34.437Z"
   },
   {
    "duration": 29,
    "start_time": "2022-02-22T14:37:49.538Z"
   },
   {
    "duration": 82,
    "start_time": "2022-02-22T14:37:52.838Z"
   },
   {
    "duration": 32,
    "start_time": "2022-02-22T14:37:56.987Z"
   },
   {
    "duration": 38,
    "start_time": "2022-02-22T14:38:40.559Z"
   },
   {
    "duration": 9,
    "start_time": "2022-02-22T14:41:02.172Z"
   },
   {
    "duration": 52,
    "start_time": "2022-02-22T14:41:08.054Z"
   },
   {
    "duration": 63,
    "start_time": "2022-02-22T14:42:13.163Z"
   },
   {
    "duration": 4,
    "start_time": "2022-02-22T14:42:22.128Z"
   },
   {
    "duration": 894,
    "start_time": "2022-02-22T14:42:22.134Z"
   },
   {
    "duration": 136,
    "start_time": "2022-02-22T14:42:23.031Z"
   },
   {
    "duration": 15,
    "start_time": "2022-02-22T14:42:23.169Z"
   },
   {
    "duration": 154,
    "start_time": "2022-02-22T14:42:23.186Z"
   },
   {
    "duration": 4,
    "start_time": "2022-02-22T14:42:23.341Z"
   },
   {
    "duration": 10,
    "start_time": "2022-02-22T14:42:23.347Z"
   },
   {
    "duration": 4,
    "start_time": "2022-02-22T14:42:23.359Z"
   },
   {
    "duration": 161,
    "start_time": "2022-02-22T14:42:23.366Z"
   },
   {
    "duration": 344,
    "start_time": "2022-02-22T14:42:23.529Z"
   },
   {
    "duration": 375,
    "start_time": "2022-02-22T14:42:23.875Z"
   },
   {
    "duration": 839,
    "start_time": "2022-02-22T14:42:24.252Z"
   },
   {
    "duration": 25,
    "start_time": "2022-02-22T14:42:25.094Z"
   },
   {
    "duration": 32860,
    "start_time": "2022-02-22T14:42:25.121Z"
   },
   {
    "duration": 5,
    "start_time": "2022-02-22T14:42:57.983Z"
   },
   {
    "duration": 33,
    "start_time": "2022-02-22T14:42:57.990Z"
   },
   {
    "duration": 1534,
    "start_time": "2022-02-22T14:42:58.025Z"
   },
   {
    "duration": 9,
    "start_time": "2022-02-22T14:42:59.561Z"
   },
   {
    "duration": 18,
    "start_time": "2022-02-22T14:42:59.571Z"
   },
   {
    "duration": 48,
    "start_time": "2022-02-22T14:42:59.590Z"
   },
   {
    "duration": 19,
    "start_time": "2022-02-22T14:42:59.640Z"
   },
   {
    "duration": 64,
    "start_time": "2022-02-22T14:42:59.660Z"
   },
   {
    "duration": 54,
    "start_time": "2022-02-22T14:48:37.024Z"
   },
   {
    "duration": 46,
    "start_time": "2022-02-22T14:48:43.808Z"
   },
   {
    "duration": 5,
    "start_time": "2022-02-22T14:48:51.558Z"
   },
   {
    "duration": 33,
    "start_time": "2022-02-22T14:52:52.406Z"
   },
   {
    "duration": 273,
    "start_time": "2022-02-22T14:55:26.883Z"
   },
   {
    "duration": 392,
    "start_time": "2022-02-22T14:55:42.484Z"
   },
   {
    "duration": 384,
    "start_time": "2022-02-22T14:56:07.050Z"
   },
   {
    "duration": 446,
    "start_time": "2022-02-22T14:56:52.496Z"
   },
   {
    "duration": 369,
    "start_time": "2022-02-22T14:57:08.375Z"
   },
   {
    "duration": 326,
    "start_time": "2022-02-22T14:57:13.730Z"
   },
   {
    "duration": 141,
    "start_time": "2022-02-22T14:57:52.030Z"
   },
   {
    "duration": 28,
    "start_time": "2022-02-22T14:57:56.507Z"
   },
   {
    "duration": 34,
    "start_time": "2022-02-22T15:00:22.205Z"
   },
   {
    "duration": 35,
    "start_time": "2022-02-22T15:00:55.772Z"
   },
   {
    "duration": 12,
    "start_time": "2022-02-22T15:01:05.698Z"
   },
   {
    "duration": 31,
    "start_time": "2022-02-22T15:01:10.868Z"
   },
   {
    "duration": 28,
    "start_time": "2022-02-22T15:04:00.007Z"
   },
   {
    "duration": 25,
    "start_time": "2022-02-22T15:06:29.295Z"
   },
   {
    "duration": 10,
    "start_time": "2022-02-22T15:06:39.647Z"
   },
   {
    "duration": 9,
    "start_time": "2022-02-22T15:06:47.922Z"
   },
   {
    "duration": 9,
    "start_time": "2022-02-22T15:06:57.445Z"
   },
   {
    "duration": 9,
    "start_time": "2022-02-22T15:07:00.947Z"
   },
   {
    "duration": 9,
    "start_time": "2022-02-22T15:08:40.482Z"
   },
   {
    "duration": 28,
    "start_time": "2022-02-22T15:09:09.867Z"
   },
   {
    "duration": 38,
    "start_time": "2022-02-22T15:11:08.217Z"
   },
   {
    "duration": 49,
    "start_time": "2022-02-22T15:11:47.808Z"
   },
   {
    "duration": -554,
    "start_time": "2022-02-22T15:12:07.641Z"
   },
   {
    "duration": 216,
    "start_time": "2022-02-22T15:12:09.420Z"
   },
   {
    "duration": 31,
    "start_time": "2022-02-22T15:12:30.274Z"
   },
   {
    "duration": 13,
    "start_time": "2022-02-22T15:12:39.694Z"
   },
   {
    "duration": 11,
    "start_time": "2022-02-22T15:12:53.622Z"
   },
   {
    "duration": 10,
    "start_time": "2022-02-22T15:12:59.307Z"
   },
   {
    "duration": 9,
    "start_time": "2022-02-22T15:15:12.351Z"
   },
   {
    "duration": 395,
    "start_time": "2022-02-22T15:16:19.983Z"
   },
   {
    "duration": 403,
    "start_time": "2022-02-22T15:16:26.311Z"
   },
   {
    "duration": 304,
    "start_time": "2022-02-22T15:16:41.102Z"
   },
   {
    "duration": 1963,
    "start_time": "2022-02-22T15:16:47.142Z"
   },
   {
    "duration": 12,
    "start_time": "2022-02-22T15:18:41.198Z"
   },
   {
    "duration": 11,
    "start_time": "2022-02-22T15:19:10.124Z"
   },
   {
    "duration": 13,
    "start_time": "2022-02-22T15:20:27.813Z"
   },
   {
    "duration": 12,
    "start_time": "2022-02-22T15:20:32.781Z"
   },
   {
    "duration": 13,
    "start_time": "2022-02-22T15:20:36.846Z"
   },
   {
    "duration": 10,
    "start_time": "2022-02-22T15:20:46.023Z"
   },
   {
    "duration": 10,
    "start_time": "2022-02-22T15:21:05.302Z"
   },
   {
    "duration": 11,
    "start_time": "2022-02-22T15:21:05.954Z"
   },
   {
    "duration": 11,
    "start_time": "2022-02-22T15:21:11.105Z"
   },
   {
    "duration": 11,
    "start_time": "2022-02-22T15:21:14.096Z"
   },
   {
    "duration": 10,
    "start_time": "2022-02-22T15:21:17.353Z"
   },
   {
    "duration": 11,
    "start_time": "2022-02-22T15:21:42.442Z"
   },
   {
    "duration": 29,
    "start_time": "2022-02-22T15:21:56.735Z"
   },
   {
    "duration": 27,
    "start_time": "2022-02-22T15:22:25.262Z"
   },
   {
    "duration": 11,
    "start_time": "2022-02-22T15:22:29.725Z"
   },
   {
    "duration": 30,
    "start_time": "2022-02-22T15:22:49.641Z"
   },
   {
    "duration": 12,
    "start_time": "2022-02-22T15:22:58.409Z"
   },
   {
    "duration": 42,
    "start_time": "2022-02-22T15:27:41.829Z"
   },
   {
    "duration": 366,
    "start_time": "2022-02-22T15:27:42.873Z"
   },
   {
    "duration": 63,
    "start_time": "2022-02-22T15:27:52.711Z"
   },
   {
    "duration": 361,
    "start_time": "2022-02-22T15:27:53.398Z"
   },
   {
    "duration": 12,
    "start_time": "2022-02-22T15:31:44.626Z"
   },
   {
    "duration": 53,
    "start_time": "2022-02-22T15:31:48.572Z"
   },
   {
    "duration": 44,
    "start_time": "2022-02-22T15:32:57.722Z"
   },
   {
    "duration": 29,
    "start_time": "2022-02-22T15:33:28.843Z"
   },
   {
    "duration": 11,
    "start_time": "2022-02-22T15:33:33.210Z"
   },
   {
    "duration": 11,
    "start_time": "2022-02-22T15:34:31.091Z"
   },
   {
    "duration": 52,
    "start_time": "2022-02-22T15:34:35.146Z"
   },
   {
    "duration": 9,
    "start_time": "2022-02-22T15:34:39.541Z"
   },
   {
    "duration": 10,
    "start_time": "2022-02-22T15:34:54.157Z"
   },
   {
    "duration": 54,
    "start_time": "2022-02-22T15:34:57.389Z"
   },
   {
    "duration": 405,
    "start_time": "2022-02-22T15:36:37.978Z"
   },
   {
    "duration": 298,
    "start_time": "2022-02-22T15:36:43.055Z"
   },
   {
    "duration": 312,
    "start_time": "2022-02-22T15:36:53.755Z"
   },
   {
    "duration": 35,
    "start_time": "2022-02-22T15:37:28.170Z"
   },
   {
    "duration": 28,
    "start_time": "2022-02-22T15:37:34.164Z"
   },
   {
    "duration": 27,
    "start_time": "2022-02-22T15:37:37.920Z"
   },
   {
    "duration": 27,
    "start_time": "2022-02-22T15:37:41.736Z"
   },
   {
    "duration": 27,
    "start_time": "2022-02-22T15:37:45.394Z"
   },
   {
    "duration": 30,
    "start_time": "2022-02-22T15:37:50.215Z"
   },
   {
    "duration": 29,
    "start_time": "2022-02-22T15:37:57.006Z"
   },
   {
    "duration": 25,
    "start_time": "2022-02-22T15:38:03.772Z"
   },
   {
    "duration": 311,
    "start_time": "2022-02-22T15:40:49.995Z"
   },
   {
    "duration": 302,
    "start_time": "2022-02-22T15:40:54.641Z"
   },
   {
    "duration": 25,
    "start_time": "2022-02-22T16:03:26.775Z"
   },
   {
    "duration": 28,
    "start_time": "2022-02-22T16:03:43.088Z"
   },
   {
    "duration": 8,
    "start_time": "2022-02-22T16:09:54.043Z"
   },
   {
    "duration": 1392,
    "start_time": "2022-02-22T16:10:05.348Z"
   },
   {
    "duration": 898,
    "start_time": "2022-02-22T16:10:06.742Z"
   },
   {
    "duration": 159,
    "start_time": "2022-02-22T16:10:07.643Z"
   },
   {
    "duration": 26,
    "start_time": "2022-02-22T16:10:07.804Z"
   },
   {
    "duration": 138,
    "start_time": "2022-02-22T16:10:07.832Z"
   },
   {
    "duration": 3,
    "start_time": "2022-02-22T16:10:07.972Z"
   },
   {
    "duration": 9,
    "start_time": "2022-02-22T16:10:07.978Z"
   },
   {
    "duration": 7,
    "start_time": "2022-02-22T16:10:07.990Z"
   },
   {
    "duration": 668,
    "start_time": "2022-02-22T16:10:08.000Z"
   },
   {
    "duration": 321,
    "start_time": "2022-02-22T16:10:08.670Z"
   },
   {
    "duration": 510,
    "start_time": "2022-02-22T16:10:08.993Z"
   },
   {
    "duration": 1219,
    "start_time": "2022-02-22T16:10:09.505Z"
   },
   {
    "duration": 14,
    "start_time": "2022-02-22T16:10:10.726Z"
   },
   {
    "duration": 34828,
    "start_time": "2022-02-22T16:10:10.742Z"
   },
   {
    "duration": 5,
    "start_time": "2022-02-22T16:10:45.573Z"
   },
   {
    "duration": 11,
    "start_time": "2022-02-22T16:10:45.579Z"
   },
   {
    "duration": 1952,
    "start_time": "2022-02-22T16:10:45.592Z"
   },
   {
    "duration": 34,
    "start_time": "2022-02-22T16:10:47.546Z"
   },
   {
    "duration": 10,
    "start_time": "2022-02-22T16:10:47.582Z"
   },
   {
    "duration": 37,
    "start_time": "2022-02-22T16:10:47.593Z"
   },
   {
    "duration": 28,
    "start_time": "2022-02-22T16:10:47.632Z"
   },
   {
    "duration": 20,
    "start_time": "2022-02-22T16:10:47.662Z"
   },
   {
    "duration": 85,
    "start_time": "2022-02-22T16:10:47.684Z"
   },
   {
    "duration": 333,
    "start_time": "2022-02-22T16:10:47.771Z"
   },
   {
    "duration": 348,
    "start_time": "2022-02-22T16:10:48.105Z"
   },
   {
    "duration": 10,
    "start_time": "2022-02-22T16:10:48.455Z"
   },
   {
    "duration": 331,
    "start_time": "2022-02-22T16:10:48.469Z"
   },
   {
    "duration": 39,
    "start_time": "2022-02-22T16:10:48.802Z"
   },
   {
    "duration": 346,
    "start_time": "2022-02-22T16:10:48.843Z"
   },
   {
    "duration": 63,
    "start_time": "2022-02-22T16:10:49.192Z"
   },
   {
    "duration": 32,
    "start_time": "2022-02-22T16:10:49.257Z"
   },
   {
    "duration": 421,
    "start_time": "2022-02-22T16:13:28.702Z"
   },
   {
    "duration": 369,
    "start_time": "2022-02-22T16:13:32.266Z"
   },
   {
    "duration": 356,
    "start_time": "2022-02-22T16:13:35.304Z"
   },
   {
    "duration": 273,
    "start_time": "2022-02-22T16:13:44.203Z"
   },
   {
    "duration": 3,
    "start_time": "2022-02-22T16:14:46.505Z"
   },
   {
    "duration": 763,
    "start_time": "2022-02-22T16:14:46.511Z"
   },
   {
    "duration": 133,
    "start_time": "2022-02-22T16:14:47.276Z"
   },
   {
    "duration": 12,
    "start_time": "2022-02-22T16:14:47.418Z"
   },
   {
    "duration": 137,
    "start_time": "2022-02-22T16:14:47.432Z"
   },
   {
    "duration": 3,
    "start_time": "2022-02-22T16:14:47.571Z"
   },
   {
    "duration": 11,
    "start_time": "2022-02-22T16:14:47.576Z"
   },
   {
    "duration": 6,
    "start_time": "2022-02-22T16:14:47.589Z"
   },
   {
    "duration": 161,
    "start_time": "2022-02-22T16:14:47.598Z"
   },
   {
    "duration": 280,
    "start_time": "2022-02-22T16:14:47.761Z"
   },
   {
    "duration": 419,
    "start_time": "2022-02-22T16:14:48.043Z"
   },
   {
    "duration": 954,
    "start_time": "2022-02-22T16:14:48.464Z"
   },
   {
    "duration": 14,
    "start_time": "2022-02-22T16:14:49.420Z"
   },
   {
    "duration": 11,
    "start_time": "2022-02-22T16:14:49.436Z"
   },
   {
    "duration": 7,
    "start_time": "2022-02-22T16:14:49.449Z"
   },
   {
    "duration": 11,
    "start_time": "2022-02-22T16:14:49.458Z"
   },
   {
    "duration": 1988,
    "start_time": "2022-02-22T16:14:49.471Z"
   },
   {
    "duration": 31,
    "start_time": "2022-02-22T16:14:51.461Z"
   },
   {
    "duration": 25,
    "start_time": "2022-02-22T16:14:51.494Z"
   },
   {
    "duration": 16,
    "start_time": "2022-02-22T16:14:51.521Z"
   },
   {
    "duration": 24,
    "start_time": "2022-02-22T16:14:51.539Z"
   },
   {
    "duration": 20,
    "start_time": "2022-02-22T16:14:51.565Z"
   },
   {
    "duration": 46,
    "start_time": "2022-02-22T16:14:51.619Z"
   },
   {
    "duration": 338,
    "start_time": "2022-02-22T16:14:51.667Z"
   },
   {
    "duration": 265,
    "start_time": "2022-02-22T16:14:52.007Z"
   },
   {
    "duration": 12,
    "start_time": "2022-02-22T16:14:52.274Z"
   },
   {
    "duration": 345,
    "start_time": "2022-02-22T16:14:52.290Z"
   },
   {
    "duration": 24,
    "start_time": "2022-02-22T16:14:52.636Z"
   },
   {
    "duration": 949,
    "start_time": "2022-02-22T16:14:52.662Z"
   },
   {
    "duration": 32,
    "start_time": "2022-02-22T16:14:53.613Z"
   },
   {
    "duration": 1750,
    "start_time": "2022-02-22T16:15:02.097Z"
   },
   {
    "duration": 1699,
    "start_time": "2022-02-22T16:15:11.121Z"
   },
   {
    "duration": 1924,
    "start_time": "2022-02-22T16:15:31.844Z"
   },
   {
    "duration": 1658,
    "start_time": "2022-02-22T16:15:53.018Z"
   },
   {
    "duration": 270,
    "start_time": "2022-02-22T16:15:59.202Z"
   },
   {
    "duration": 2205,
    "start_time": "2022-02-22T16:16:07.857Z"
   },
   {
    "duration": 993,
    "start_time": "2022-02-22T16:16:18.887Z"
   },
   {
    "duration": 1015,
    "start_time": "2022-02-22T16:16:26.078Z"
   },
   {
    "duration": 1547,
    "start_time": "2022-02-22T16:16:31.226Z"
   },
   {
    "duration": 1664,
    "start_time": "2022-02-22T16:16:38.979Z"
   },
   {
    "duration": 1659,
    "start_time": "2022-02-22T16:16:55.836Z"
   },
   {
    "duration": 2220,
    "start_time": "2022-02-22T16:17:02.428Z"
   },
   {
    "duration": 2685,
    "start_time": "2022-02-22T16:17:06.844Z"
   },
   {
    "duration": 2322,
    "start_time": "2022-02-22T16:17:12.868Z"
   },
   {
    "duration": 2129,
    "start_time": "2022-02-22T16:17:17.408Z"
   },
   {
    "duration": 2693,
    "start_time": "2022-02-22T16:17:28.165Z"
   },
   {
    "duration": 4034,
    "start_time": "2022-02-22T16:17:34.040Z"
   },
   {
    "duration": 4054,
    "start_time": "2022-02-22T16:17:40.917Z"
   },
   {
    "duration": 47,
    "start_time": "2022-02-22T16:18:18.682Z"
   },
   {
    "duration": 27,
    "start_time": "2022-02-22T16:18:56.940Z"
   },
   {
    "duration": 15,
    "start_time": "2022-02-22T16:20:03.971Z"
   },
   {
    "duration": 364,
    "start_time": "2022-02-22T16:20:16.001Z"
   },
   {
    "duration": 19,
    "start_time": "2022-02-22T16:20:19.848Z"
   },
   {
    "duration": 321,
    "start_time": "2022-02-22T16:20:42.956Z"
   },
   {
    "duration": 2306,
    "start_time": "2022-02-22T16:21:09.015Z"
   },
   {
    "duration": 965,
    "start_time": "2022-02-22T16:21:16.359Z"
   },
   {
    "duration": 449,
    "start_time": "2022-02-22T16:21:20.433Z"
   },
   {
    "duration": 23,
    "start_time": "2022-02-22T16:21:41.482Z"
   },
   {
    "duration": 23,
    "start_time": "2022-02-22T16:21:58.891Z"
   },
   {
    "duration": 18,
    "start_time": "2022-02-22T16:22:02.091Z"
   },
   {
    "duration": 251,
    "start_time": "2022-02-22T16:22:16.939Z"
   },
   {
    "duration": 20,
    "start_time": "2022-02-22T16:22:26.002Z"
   },
   {
    "duration": 19,
    "start_time": "2022-02-22T16:22:32.351Z"
   },
   {
    "duration": 381,
    "start_time": "2022-02-22T16:22:40.570Z"
   },
   {
    "duration": 19,
    "start_time": "2022-02-22T16:22:53.636Z"
   },
   {
    "duration": 20,
    "start_time": "2022-02-22T16:23:01.860Z"
   },
   {
    "duration": 17,
    "start_time": "2022-02-22T16:23:08.808Z"
   },
   {
    "duration": 29,
    "start_time": "2022-02-22T16:23:18.150Z"
   },
   {
    "duration": 17,
    "start_time": "2022-02-22T16:23:43.866Z"
   },
   {
    "duration": 262,
    "start_time": "2022-02-22T16:23:50.803Z"
   },
   {
    "duration": 19,
    "start_time": "2022-02-22T16:24:19.922Z"
   },
   {
    "duration": 436,
    "start_time": "2022-02-22T16:26:46.603Z"
   },
   {
    "duration": 425,
    "start_time": "2022-02-22T16:27:08.810Z"
   },
   {
    "duration": 296,
    "start_time": "2022-02-22T16:27:13.683Z"
   },
   {
    "duration": 1615,
    "start_time": "2022-02-22T16:27:21.964Z"
   },
   {
    "duration": 969,
    "start_time": "2022-02-22T16:27:38.735Z"
   },
   {
    "duration": 1413,
    "start_time": "2022-02-22T16:27:45.091Z"
   },
   {
    "duration": 2138,
    "start_time": "2022-02-22T16:27:56.918Z"
   },
   {
    "duration": 267,
    "start_time": "2022-02-22T16:28:32.012Z"
   },
   {
    "duration": 249,
    "start_time": "2022-02-22T16:29:48.112Z"
   },
   {
    "duration": 1837,
    "start_time": "2022-02-22T16:30:02.495Z"
   },
   {
    "duration": 375,
    "start_time": "2022-02-22T16:30:09.475Z"
   },
   {
    "duration": 324,
    "start_time": "2022-02-22T16:30:14.183Z"
   },
   {
    "duration": 233,
    "start_time": "2022-02-22T16:30:17.333Z"
   },
   {
    "duration": 308,
    "start_time": "2022-02-22T16:30:21.867Z"
   },
   {
    "duration": 329,
    "start_time": "2022-02-22T16:30:30.669Z"
   },
   {
    "duration": 47,
    "start_time": "2022-02-22T16:33:08.773Z"
   },
   {
    "duration": 382,
    "start_time": "2022-02-22T16:33:09.318Z"
   },
   {
    "duration": 23,
    "start_time": "2022-02-22T16:36:21.147Z"
   },
   {
    "duration": 24,
    "start_time": "2022-02-22T16:36:28.366Z"
   },
   {
    "duration": 24,
    "start_time": "2022-02-22T16:36:37.276Z"
   },
   {
    "duration": 10,
    "start_time": "2022-02-22T16:38:25.441Z"
   },
   {
    "duration": 14,
    "start_time": "2022-02-22T16:38:30.436Z"
   },
   {
    "duration": 10,
    "start_time": "2022-02-22T16:38:34.697Z"
   },
   {
    "duration": 10,
    "start_time": "2022-02-22T16:38:40.160Z"
   },
   {
    "duration": 11,
    "start_time": "2022-02-22T16:38:45.343Z"
   },
   {
    "duration": 460,
    "start_time": "2022-02-22T16:38:59.828Z"
   },
   {
    "duration": 456,
    "start_time": "2022-02-22T16:39:30.585Z"
   },
   {
    "duration": 273,
    "start_time": "2022-02-22T16:45:31.911Z"
   },
   {
    "duration": 3,
    "start_time": "2022-02-22T16:45:51.232Z"
   },
   {
    "duration": 417,
    "start_time": "2022-02-23T09:42:23.919Z"
   },
   {
    "duration": 918,
    "start_time": "2022-02-23T09:42:32.492Z"
   },
   {
    "duration": 1773,
    "start_time": "2022-02-23T09:42:33.413Z"
   },
   {
    "duration": 169,
    "start_time": "2022-02-23T09:42:35.190Z"
   },
   {
    "duration": 24,
    "start_time": "2022-02-23T09:42:35.362Z"
   },
   {
    "duration": 179,
    "start_time": "2022-02-23T09:42:35.388Z"
   },
   {
    "duration": 5,
    "start_time": "2022-02-23T09:42:35.569Z"
   },
   {
    "duration": 12,
    "start_time": "2022-02-23T09:42:35.578Z"
   },
   {
    "duration": 13,
    "start_time": "2022-02-23T09:42:35.594Z"
   },
   {
    "duration": 1194,
    "start_time": "2022-02-23T09:42:35.612Z"
   },
   {
    "duration": 1084,
    "start_time": "2022-02-23T09:42:36.809Z"
   },
   {
    "duration": 564,
    "start_time": "2022-02-23T09:42:37.896Z"
   },
   {
    "duration": 1261,
    "start_time": "2022-02-23T09:42:38.463Z"
   },
   {
    "duration": 25,
    "start_time": "2022-02-23T09:42:39.727Z"
   },
   {
    "duration": 10,
    "start_time": "2022-02-23T09:42:39.754Z"
   },
   {
    "duration": 8,
    "start_time": "2022-02-23T09:42:39.767Z"
   },
   {
    "duration": 17,
    "start_time": "2022-02-23T09:42:39.777Z"
   },
   {
    "duration": 2226,
    "start_time": "2022-02-23T09:42:39.796Z"
   },
   {
    "duration": 59,
    "start_time": "2022-02-23T09:42:42.025Z"
   },
   {
    "duration": 21,
    "start_time": "2022-02-23T09:42:42.087Z"
   },
   {
    "duration": 46,
    "start_time": "2022-02-23T09:42:42.111Z"
   },
   {
    "duration": 31,
    "start_time": "2022-02-23T09:42:42.160Z"
   },
   {
    "duration": 57,
    "start_time": "2022-02-23T09:42:42.193Z"
   },
   {
    "duration": 100,
    "start_time": "2022-02-23T09:42:42.254Z"
   },
   {
    "duration": 499,
    "start_time": "2022-02-23T09:42:42.357Z"
   },
   {
    "duration": 1756,
    "start_time": "2022-02-23T09:42:42.859Z"
   },
   {
    "duration": 12,
    "start_time": "2022-02-23T09:42:44.618Z"
   },
   {
    "duration": 11,
    "start_time": "2022-02-23T09:42:44.648Z"
   },
   {
    "duration": 3176,
    "start_time": "2022-02-23T09:42:44.662Z"
   },
   {
    "duration": 36,
    "start_time": "2022-02-23T09:42:47.841Z"
   },
   {
    "duration": 595,
    "start_time": "2022-02-23T09:42:47.880Z"
   },
   {
    "duration": 90,
    "start_time": "2022-02-23T09:42:48.479Z"
   },
   {
    "duration": 28,
    "start_time": "2022-02-23T09:42:48.572Z"
   },
   {
    "duration": 1695,
    "start_time": "2022-02-23T09:43:56.395Z"
   },
   {
    "duration": 10,
    "start_time": "2022-02-23T09:46:13.523Z"
   },
   {
    "duration": 4,
    "start_time": "2022-02-23T09:47:35.315Z"
   },
   {
    "duration": 1130,
    "start_time": "2022-02-23T09:47:35.324Z"
   },
   {
    "duration": 171,
    "start_time": "2022-02-23T09:47:36.457Z"
   },
   {
    "duration": 34,
    "start_time": "2022-02-23T09:47:36.631Z"
   },
   {
    "duration": 193,
    "start_time": "2022-02-23T09:47:36.668Z"
   },
   {
    "duration": 4,
    "start_time": "2022-02-23T09:47:36.864Z"
   },
   {
    "duration": 11,
    "start_time": "2022-02-23T09:47:36.871Z"
   },
   {
    "duration": 11,
    "start_time": "2022-02-23T09:47:36.884Z"
   },
   {
    "duration": 215,
    "start_time": "2022-02-23T09:47:36.898Z"
   },
   {
    "duration": 473,
    "start_time": "2022-02-23T09:47:37.117Z"
   },
   {
    "duration": 558,
    "start_time": "2022-02-23T09:47:37.593Z"
   },
   {
    "duration": 1268,
    "start_time": "2022-02-23T09:47:38.154Z"
   },
   {
    "duration": 29,
    "start_time": "2022-02-23T09:47:39.425Z"
   },
   {
    "duration": 18,
    "start_time": "2022-02-23T09:47:39.456Z"
   },
   {
    "duration": 14,
    "start_time": "2022-02-23T09:47:39.476Z"
   },
   {
    "duration": 23,
    "start_time": "2022-02-23T09:47:39.492Z"
   },
   {
    "duration": 2671,
    "start_time": "2022-02-23T09:47:39.517Z"
   },
   {
    "duration": 59,
    "start_time": "2022-02-23T09:47:42.192Z"
   },
   {
    "duration": 12,
    "start_time": "2022-02-23T09:47:42.254Z"
   },
   {
    "duration": 25,
    "start_time": "2022-02-23T09:47:42.269Z"
   },
   {
    "duration": 62,
    "start_time": "2022-02-23T09:47:42.298Z"
   },
   {
    "duration": 31,
    "start_time": "2022-02-23T09:47:42.363Z"
   },
   {
    "duration": 93,
    "start_time": "2022-02-23T09:47:42.398Z"
   },
   {
    "duration": 807,
    "start_time": "2022-02-23T09:47:42.494Z"
   },
   {
    "duration": 1816,
    "start_time": "2022-02-23T09:47:43.304Z"
   },
   {
    "duration": 30,
    "start_time": "2022-02-23T09:47:45.123Z"
   },
   {
    "duration": 12,
    "start_time": "2022-02-23T09:47:45.156Z"
   },
   {
    "duration": 36,
    "start_time": "2022-02-23T09:47:45.174Z"
   },
   {
    "duration": 3260,
    "start_time": "2022-02-23T09:47:45.212Z"
   },
   {
    "duration": 31,
    "start_time": "2022-02-23T09:47:48.475Z"
   },
   {
    "duration": 780,
    "start_time": "2022-02-23T09:47:48.509Z"
   },
   {
    "duration": 1827,
    "start_time": "2022-02-23T09:47:55.790Z"
   },
   {
    "duration": 3123,
    "start_time": "2022-02-23T09:48:01.673Z"
   },
   {
    "duration": 14979,
    "start_time": "2022-02-23T09:48:10.110Z"
   },
   {
    "duration": 15,
    "start_time": "2022-02-23T09:50:26.643Z"
   },
   {
    "duration": 8,
    "start_time": "2022-02-23T09:52:36.928Z"
   },
   {
    "duration": 26,
    "start_time": "2022-02-23T09:52:39.002Z"
   },
   {
    "duration": 339,
    "start_time": "2022-02-23T09:53:03.585Z"
   },
   {
    "duration": 25,
    "start_time": "2022-02-23T09:53:31.853Z"
   },
   {
    "duration": 23,
    "start_time": "2022-02-23T09:53:34.054Z"
   },
   {
    "duration": 307,
    "start_time": "2022-02-23T09:54:09.084Z"
   },
   {
    "duration": 25,
    "start_time": "2022-02-23T09:54:12.882Z"
   },
   {
    "duration": 25,
    "start_time": "2022-02-23T09:54:18.892Z"
   },
   {
    "duration": 56,
    "start_time": "2022-02-23T09:55:02.994Z"
   },
   {
    "duration": 5082,
    "start_time": "2022-02-23T09:55:31.444Z"
   },
   {
    "duration": 437,
    "start_time": "2022-02-23T09:57:39.455Z"
   },
   {
    "duration": 1115,
    "start_time": "2022-02-23T09:57:46.785Z"
   },
   {
    "duration": 442,
    "start_time": "2022-02-23T09:57:53.412Z"
   },
   {
    "duration": 442,
    "start_time": "2022-02-23T09:58:28.963Z"
   },
   {
    "duration": 18,
    "start_time": "2022-02-23T10:01:23.566Z"
   },
   {
    "duration": 17,
    "start_time": "2022-02-23T10:01:45.461Z"
   },
   {
    "duration": 16,
    "start_time": "2022-02-23T10:01:49.021Z"
   },
   {
    "duration": 17,
    "start_time": "2022-02-23T10:01:52.987Z"
   },
   {
    "duration": 19,
    "start_time": "2022-02-23T10:02:10.324Z"
   },
   {
    "duration": 17,
    "start_time": "2022-02-23T10:02:25.257Z"
   },
   {
    "duration": 20,
    "start_time": "2022-02-23T10:03:15.140Z"
   },
   {
    "duration": 581,
    "start_time": "2022-02-23T10:10:29.415Z"
   },
   {
    "duration": 409,
    "start_time": "2022-02-23T10:11:00.166Z"
   },
   {
    "duration": 4899,
    "start_time": "2022-02-23T10:11:41.040Z"
   },
   {
    "duration": 5211,
    "start_time": "2022-02-23T10:14:31.788Z"
   },
   {
    "duration": 421,
    "start_time": "2022-02-23T10:15:19.384Z"
   },
   {
    "duration": 448,
    "start_time": "2022-02-23T10:15:50.492Z"
   },
   {
    "duration": 454,
    "start_time": "2022-02-23T10:16:04.195Z"
   },
   {
    "duration": 23,
    "start_time": "2022-02-23T10:19:07.269Z"
   },
   {
    "duration": 16,
    "start_time": "2022-02-23T10:20:00.013Z"
   },
   {
    "duration": 16,
    "start_time": "2022-02-23T10:20:02.899Z"
   },
   {
    "duration": 17,
    "start_time": "2022-02-23T10:20:19.072Z"
   },
   {
    "duration": 155,
    "start_time": "2022-02-23T10:21:33.805Z"
   },
   {
    "duration": 3463,
    "start_time": "2022-02-23T10:21:34.680Z"
   },
   {
    "duration": 596,
    "start_time": "2022-02-23T10:21:47.257Z"
   },
   {
    "duration": 570,
    "start_time": "2022-02-23T10:21:50.358Z"
   },
   {
    "duration": 656,
    "start_time": "2022-02-23T10:21:55.770Z"
   },
   {
    "duration": 7,
    "start_time": "2022-02-23T10:22:24.610Z"
   },
   {
    "duration": 22,
    "start_time": "2022-02-23T10:22:27.671Z"
   },
   {
    "duration": 157,
    "start_time": "2022-02-23T10:23:00.780Z"
   },
   {
    "duration": 21,
    "start_time": "2022-02-23T10:23:02.060Z"
   },
   {
    "duration": 6,
    "start_time": "2022-02-23T10:23:13.223Z"
   },
   {
    "duration": 8898,
    "start_time": "2022-02-23T10:23:22.522Z"
   },
   {
    "duration": 20,
    "start_time": "2022-02-23T10:23:39.377Z"
   },
   {
    "duration": 145,
    "start_time": "2022-02-23T10:25:13.051Z"
   },
   {
    "duration": 23,
    "start_time": "2022-02-23T10:25:13.996Z"
   },
   {
    "duration": 15,
    "start_time": "2022-02-23T10:25:15.781Z"
   },
   {
    "duration": 21,
    "start_time": "2022-02-23T10:25:23.289Z"
   },
   {
    "duration": 14,
    "start_time": "2022-02-23T10:27:19.291Z"
   },
   {
    "duration": 639,
    "start_time": "2022-02-23T10:28:50.880Z"
   },
   {
    "duration": 561,
    "start_time": "2022-02-23T10:28:59.291Z"
   },
   {
    "duration": 422,
    "start_time": "2022-02-23T10:29:02.511Z"
   },
   {
    "duration": 573,
    "start_time": "2022-02-23T10:29:38.518Z"
   },
   {
    "duration": 885,
    "start_time": "2022-02-23T10:29:43.225Z"
   },
   {
    "duration": 42,
    "start_time": "2022-02-23T10:33:13.125Z"
   },
   {
    "duration": 31,
    "start_time": "2022-02-23T10:33:19.328Z"
   },
   {
    "duration": 6,
    "start_time": "2022-02-23T10:34:59.879Z"
   },
   {
    "duration": 278,
    "start_time": "2022-02-23T10:37:40.012Z"
   },
   {
    "duration": 279,
    "start_time": "2022-02-23T10:37:52.414Z"
   },
   {
    "duration": 292,
    "start_time": "2022-02-23T10:38:23.904Z"
   },
   {
    "duration": 21,
    "start_time": "2022-02-23T10:38:45.305Z"
   },
   {
    "duration": 309,
    "start_time": "2022-02-23T10:39:03.096Z"
   },
   {
    "duration": 22,
    "start_time": "2022-02-23T10:39:04.341Z"
   },
   {
    "duration": 7,
    "start_time": "2022-02-23T10:39:45.686Z"
   },
   {
    "duration": 24,
    "start_time": "2022-02-23T10:39:46.144Z"
   },
   {
    "duration": 8133,
    "start_time": "2022-02-23T10:41:02.198Z"
   },
   {
    "duration": 7224,
    "start_time": "2022-02-23T10:41:17.519Z"
   },
   {
    "duration": 53,
    "start_time": "2022-02-23T10:41:31.662Z"
   },
   {
    "duration": 48,
    "start_time": "2022-02-23T10:41:48.130Z"
   },
   {
    "duration": 91,
    "start_time": "2022-02-23T10:42:03.741Z"
   },
   {
    "duration": 6,
    "start_time": "2022-02-23T10:42:15.008Z"
   },
   {
    "duration": 5,
    "start_time": "2022-02-23T10:42:26.959Z"
   },
   {
    "duration": 287,
    "start_time": "2022-02-23T10:42:34.147Z"
   },
   {
    "duration": 92,
    "start_time": "2022-02-23T10:42:39.080Z"
   },
   {
    "duration": 6,
    "start_time": "2022-02-23T10:42:42.520Z"
   },
   {
    "duration": 7,
    "start_time": "2022-02-23T10:42:48.165Z"
   },
   {
    "duration": 6,
    "start_time": "2022-02-23T10:42:52.137Z"
   },
   {
    "duration": 8,
    "start_time": "2022-02-23T10:43:00.062Z"
   },
   {
    "duration": 6,
    "start_time": "2022-02-23T10:43:11.593Z"
   },
   {
    "duration": 6,
    "start_time": "2022-02-23T10:43:16.496Z"
   },
   {
    "duration": 6,
    "start_time": "2022-02-23T10:43:24.837Z"
   },
   {
    "duration": 6,
    "start_time": "2022-02-23T10:43:27.939Z"
   },
   {
    "duration": 6,
    "start_time": "2022-02-23T10:43:37.354Z"
   },
   {
    "duration": 8,
    "start_time": "2022-02-23T10:45:17.626Z"
   },
   {
    "duration": 25,
    "start_time": "2022-02-23T10:45:18.102Z"
   },
   {
    "duration": 7,
    "start_time": "2022-02-23T10:45:24.113Z"
   },
   {
    "duration": 5,
    "start_time": "2022-02-23T10:45:32.308Z"
   },
   {
    "duration": 20669,
    "start_time": "2022-02-23T10:45:59.758Z"
   },
   {
    "duration": 283,
    "start_time": "2022-02-23T10:46:34.078Z"
   },
   {
    "duration": 294,
    "start_time": "2022-02-23T10:46:44.966Z"
   },
   {
    "duration": 448,
    "start_time": "2022-02-23T10:49:16.026Z"
   },
   {
    "duration": 450,
    "start_time": "2022-02-23T10:49:33.860Z"
   },
   {
    "duration": 60701,
    "start_time": "2022-02-23T10:52:08.156Z"
   },
   {
    "duration": 8,
    "start_time": "2022-02-23T10:54:46.120Z"
   },
   {
    "duration": 23,
    "start_time": "2022-02-23T10:54:54.024Z"
   },
   {
    "duration": 5,
    "start_time": "2022-02-23T10:56:35.729Z"
   },
   {
    "duration": 6,
    "start_time": "2022-02-23T10:56:45.995Z"
   },
   {
    "duration": 7,
    "start_time": "2022-02-23T10:56:52.172Z"
   },
   {
    "duration": 42,
    "start_time": "2022-02-23T10:57:33.913Z"
   },
   {
    "duration": 6,
    "start_time": "2022-02-23T10:57:34.608Z"
   },
   {
    "duration": 4,
    "start_time": "2022-02-23T10:58:13.899Z"
   },
   {
    "duration": 1090,
    "start_time": "2022-02-23T10:58:13.906Z"
   },
   {
    "duration": 169,
    "start_time": "2022-02-23T10:58:15.000Z"
   },
   {
    "duration": 22,
    "start_time": "2022-02-23T10:58:15.172Z"
   },
   {
    "duration": 172,
    "start_time": "2022-02-23T10:58:15.196Z"
   },
   {
    "duration": 6,
    "start_time": "2022-02-23T10:58:15.371Z"
   },
   {
    "duration": 15,
    "start_time": "2022-02-23T10:58:15.381Z"
   },
   {
    "duration": 10,
    "start_time": "2022-02-23T10:58:15.399Z"
   },
   {
    "duration": 211,
    "start_time": "2022-02-23T10:58:15.414Z"
   },
   {
    "duration": 491,
    "start_time": "2022-02-23T10:58:15.628Z"
   },
   {
    "duration": 498,
    "start_time": "2022-02-23T10:58:16.121Z"
   },
   {
    "duration": 1168,
    "start_time": "2022-02-23T10:58:16.622Z"
   },
   {
    "duration": 336,
    "start_time": "2022-02-23T10:58:17.792Z"
   },
   {
    "duration": 32,
    "start_time": "2022-02-23T10:58:18.130Z"
   },
   {
    "duration": 47,
    "start_time": "2022-02-23T10:58:18.164Z"
   },
   {
    "duration": 34,
    "start_time": "2022-02-23T10:58:18.214Z"
   },
   {
    "duration": 29,
    "start_time": "2022-02-23T10:58:18.251Z"
   },
   {
    "duration": 2366,
    "start_time": "2022-02-23T10:58:18.282Z"
   },
   {
    "duration": 42,
    "start_time": "2022-02-23T10:58:20.651Z"
   },
   {
    "duration": 13,
    "start_time": "2022-02-23T10:58:20.695Z"
   },
   {
    "duration": 65,
    "start_time": "2022-02-23T10:58:20.711Z"
   },
   {
    "duration": 74,
    "start_time": "2022-02-23T10:58:20.778Z"
   },
   {
    "duration": 19,
    "start_time": "2022-02-23T10:58:20.854Z"
   },
   {
    "duration": 86,
    "start_time": "2022-02-23T10:58:20.876Z"
   },
   {
    "duration": 548,
    "start_time": "2022-02-23T10:58:20.965Z"
   },
   {
    "duration": 1803,
    "start_time": "2022-02-23T10:58:21.516Z"
   },
   {
    "duration": 36,
    "start_time": "2022-02-23T10:58:23.327Z"
   },
   {
    "duration": 16,
    "start_time": "2022-02-23T10:58:23.366Z"
   },
   {
    "duration": 30,
    "start_time": "2022-02-23T10:58:23.384Z"
   },
   {
    "duration": 508,
    "start_time": "2022-02-23T10:58:23.416Z"
   },
   {
    "duration": 474,
    "start_time": "2022-02-23T10:58:23.926Z"
   },
   {
    "duration": 119,
    "start_time": "2022-02-23T10:58:24.403Z"
   },
   {
    "duration": 28,
    "start_time": "2022-02-23T10:58:24.525Z"
   },
   {
    "duration": 444,
    "start_time": "2022-02-23T10:58:24.555Z"
   },
   {
    "duration": 876,
    "start_time": "2022-02-23T10:58:25.001Z"
   },
   {
    "duration": 22,
    "start_time": "2022-02-23T10:58:25.880Z"
   },
   {
    "duration": 37,
    "start_time": "2022-02-23T10:58:25.904Z"
   },
   {
    "duration": 56,
    "start_time": "2022-02-23T10:58:25.948Z"
   },
   {
    "duration": 5,
    "start_time": "2022-02-23T10:58:26.007Z"
   },
   {
    "duration": 505,
    "start_time": "2022-02-23T10:58:26.015Z"
   },
   {
    "duration": 3,
    "start_time": "2022-02-23T10:58:45.095Z"
   },
   {
    "duration": 1072,
    "start_time": "2022-02-23T10:58:45.101Z"
   },
   {
    "duration": 165,
    "start_time": "2022-02-23T10:58:46.176Z"
   },
   {
    "duration": 20,
    "start_time": "2022-02-23T10:58:46.345Z"
   },
   {
    "duration": 170,
    "start_time": "2022-02-23T10:58:46.368Z"
   },
   {
    "duration": 9,
    "start_time": "2022-02-23T10:58:46.541Z"
   },
   {
    "duration": 10,
    "start_time": "2022-02-23T10:58:46.553Z"
   },
   {
    "duration": 7,
    "start_time": "2022-02-23T10:58:46.566Z"
   },
   {
    "duration": 218,
    "start_time": "2022-02-23T10:58:46.579Z"
   },
   {
    "duration": 469,
    "start_time": "2022-02-23T10:58:46.802Z"
   },
   {
    "duration": 498,
    "start_time": "2022-02-23T10:58:47.274Z"
   },
   {
    "duration": 1114,
    "start_time": "2022-02-23T10:58:47.774Z"
   },
   {
    "duration": 341,
    "start_time": "2022-02-23T10:58:48.890Z"
   },
   {
    "duration": 29,
    "start_time": "2022-02-23T10:58:49.234Z"
   },
   {
    "duration": 50,
    "start_time": "2022-02-23T10:58:49.266Z"
   },
   {
    "duration": 30,
    "start_time": "2022-02-23T10:58:49.319Z"
   },
   {
    "duration": 35,
    "start_time": "2022-02-23T10:58:49.353Z"
   },
   {
    "duration": 2413,
    "start_time": "2022-02-23T10:58:49.391Z"
   },
   {
    "duration": 48,
    "start_time": "2022-02-23T10:58:51.807Z"
   },
   {
    "duration": 15,
    "start_time": "2022-02-23T10:58:51.858Z"
   },
   {
    "duration": 26,
    "start_time": "2022-02-23T10:58:51.876Z"
   },
   {
    "duration": 80,
    "start_time": "2022-02-23T10:58:51.904Z"
   },
   {
    "duration": 19,
    "start_time": "2022-02-23T10:58:51.986Z"
   },
   {
    "duration": 77,
    "start_time": "2022-02-23T10:58:52.007Z"
   },
   {
    "duration": 540,
    "start_time": "2022-02-23T10:58:52.087Z"
   },
   {
    "duration": 1645,
    "start_time": "2022-02-23T10:58:52.629Z"
   },
   {
    "duration": 21,
    "start_time": "2022-02-23T10:58:54.279Z"
   },
   {
    "duration": 15,
    "start_time": "2022-02-23T10:58:54.303Z"
   },
   {
    "duration": 20,
    "start_time": "2022-02-23T10:58:54.349Z"
   },
   {
    "duration": 449,
    "start_time": "2022-02-23T10:58:54.372Z"
   },
   {
    "duration": 480,
    "start_time": "2022-02-23T10:58:54.823Z"
   },
   {
    "duration": 118,
    "start_time": "2022-02-23T10:58:55.306Z"
   },
   {
    "duration": 30,
    "start_time": "2022-02-23T10:58:55.426Z"
   },
   {
    "duration": 460,
    "start_time": "2022-02-23T10:58:55.459Z"
   },
   {
    "duration": 942,
    "start_time": "2022-02-23T10:58:55.922Z"
   },
   {
    "duration": 23,
    "start_time": "2022-02-23T10:58:56.868Z"
   },
   {
    "duration": 21,
    "start_time": "2022-02-23T10:58:56.894Z"
   },
   {
    "duration": 7,
    "start_time": "2022-02-23T10:58:56.949Z"
   },
   {
    "duration": 466,
    "start_time": "2022-02-23T10:58:56.959Z"
   },
   {
    "duration": 158766,
    "start_time": "2022-02-23T11:01:21.339Z"
   },
   {
    "duration": 5,
    "start_time": "2022-02-23T11:04:08.632Z"
   },
   {
    "duration": 72,
    "start_time": "2022-02-23T11:04:13.206Z"
   },
   {
    "duration": 5,
    "start_time": "2022-02-23T11:04:37.814Z"
   },
   {
    "duration": 297,
    "start_time": "2022-02-23T11:04:53.677Z"
   },
   {
    "duration": 6,
    "start_time": "2022-02-23T11:05:03.666Z"
   },
   {
    "duration": 362,
    "start_time": "2022-02-23T11:05:13.068Z"
   },
   {
    "duration": 474,
    "start_time": "2022-02-23T11:05:23.802Z"
   },
   {
    "duration": 306,
    "start_time": "2022-02-23T11:05:41.073Z"
   },
   {
    "duration": 353,
    "start_time": "2022-02-23T11:05:45.612Z"
   },
   {
    "duration": 4508,
    "start_time": "2022-02-23T11:06:03.911Z"
   },
   {
    "duration": 5,
    "start_time": "2022-02-23T11:06:27.260Z"
   },
   {
    "duration": 15,
    "start_time": "2022-02-23T11:06:53.763Z"
   },
   {
    "duration": 392,
    "start_time": "2022-02-23T11:07:21.966Z"
   },
   {
    "duration": 5,
    "start_time": "2022-02-23T11:08:07.389Z"
   },
   {
    "duration": 1014,
    "start_time": "2022-02-23T11:08:07.397Z"
   },
   {
    "duration": 176,
    "start_time": "2022-02-23T11:08:08.415Z"
   },
   {
    "duration": 23,
    "start_time": "2022-02-23T11:08:08.594Z"
   },
   {
    "duration": 184,
    "start_time": "2022-02-23T11:08:08.620Z"
   },
   {
    "duration": 5,
    "start_time": "2022-02-23T11:08:08.806Z"
   },
   {
    "duration": 14,
    "start_time": "2022-02-23T11:08:08.813Z"
   },
   {
    "duration": 7,
    "start_time": "2022-02-23T11:08:08.849Z"
   },
   {
    "duration": 201,
    "start_time": "2022-02-23T11:08:08.859Z"
   },
   {
    "duration": 508,
    "start_time": "2022-02-23T11:08:09.064Z"
   },
   {
    "duration": 498,
    "start_time": "2022-02-23T11:08:09.574Z"
   },
   {
    "duration": 1350,
    "start_time": "2022-02-23T11:08:10.075Z"
   },
   {
    "duration": 348,
    "start_time": "2022-02-23T11:08:11.428Z"
   },
   {
    "duration": 23,
    "start_time": "2022-02-23T11:08:11.778Z"
   },
   {
    "duration": 67,
    "start_time": "2022-02-23T11:08:11.803Z"
   },
   {
    "duration": 7,
    "start_time": "2022-02-23T11:08:11.873Z"
   },
   {
    "duration": 86,
    "start_time": "2022-02-23T11:08:11.883Z"
   },
   {
    "duration": 45,
    "start_time": "2022-02-23T11:08:11.972Z"
   },
   {
    "duration": 119226,
    "start_time": "2022-02-23T11:08:22.105Z"
   },
   {
    "duration": 5,
    "start_time": "2022-02-23T11:10:29.321Z"
   },
   {
    "duration": 1069,
    "start_time": "2022-02-23T11:10:29.329Z"
   },
   {
    "duration": 157,
    "start_time": "2022-02-23T11:10:30.402Z"
   },
   {
    "duration": 21,
    "start_time": "2022-02-23T11:10:30.562Z"
   },
   {
    "duration": 172,
    "start_time": "2022-02-23T11:10:30.586Z"
   },
   {
    "duration": 5,
    "start_time": "2022-02-23T11:10:30.762Z"
   },
   {
    "duration": 28,
    "start_time": "2022-02-23T11:10:30.769Z"
   },
   {
    "duration": 12,
    "start_time": "2022-02-23T11:10:30.799Z"
   },
   {
    "duration": 183,
    "start_time": "2022-02-23T11:10:30.815Z"
   },
   {
    "duration": 495,
    "start_time": "2022-02-23T11:10:31.002Z"
   },
   {
    "duration": 533,
    "start_time": "2022-02-23T11:10:31.499Z"
   },
   {
    "duration": 1164,
    "start_time": "2022-02-23T11:10:32.035Z"
   },
   {
    "duration": 321,
    "start_time": "2022-02-23T11:10:33.202Z"
   },
   {
    "duration": 31,
    "start_time": "2022-02-23T11:10:33.526Z"
   },
   {
    "duration": 48,
    "start_time": "2022-02-23T11:10:33.560Z"
   },
   {
    "duration": 40,
    "start_time": "2022-02-23T11:10:33.610Z"
   },
   {
    "duration": 35,
    "start_time": "2022-02-23T11:10:33.654Z"
   },
   {
    "duration": 2361,
    "start_time": "2022-02-23T11:10:33.692Z"
   },
   {
    "duration": 35,
    "start_time": "2022-02-23T11:10:36.056Z"
   },
   {
    "duration": 12,
    "start_time": "2022-02-23T11:10:36.093Z"
   },
   {
    "duration": 61,
    "start_time": "2022-02-23T11:10:36.107Z"
   },
   {
    "duration": 47,
    "start_time": "2022-02-23T11:10:36.171Z"
   },
   {
    "duration": 39,
    "start_time": "2022-02-23T11:10:36.221Z"
   },
   {
    "duration": 57,
    "start_time": "2022-02-23T11:10:36.263Z"
   },
   {
    "duration": 572,
    "start_time": "2022-02-23T11:10:36.322Z"
   },
   {
    "duration": 1689,
    "start_time": "2022-02-23T11:10:36.896Z"
   },
   {
    "duration": 21,
    "start_time": "2022-02-23T11:10:38.590Z"
   },
   {
    "duration": 38,
    "start_time": "2022-02-23T11:10:38.613Z"
   },
   {
    "duration": 23,
    "start_time": "2022-02-23T11:10:38.653Z"
   },
   {
    "duration": 514,
    "start_time": "2022-02-23T11:10:38.679Z"
   },
   {
    "duration": 503,
    "start_time": "2022-02-23T11:10:39.195Z"
   },
   {
    "duration": 136,
    "start_time": "2022-02-23T11:10:39.702Z"
   },
   {
    "duration": 29,
    "start_time": "2022-02-23T11:10:39.842Z"
   },
   {
    "duration": 512,
    "start_time": "2022-02-23T11:10:39.875Z"
   },
   {
    "duration": 1345,
    "start_time": "2022-02-23T11:10:40.390Z"
   },
   {
    "duration": 21,
    "start_time": "2022-02-23T11:10:41.748Z"
   },
   {
    "duration": 17,
    "start_time": "2022-02-23T11:10:41.771Z"
   },
   {
    "duration": 6,
    "start_time": "2022-02-23T11:10:41.791Z"
   },
   {
    "duration": 477,
    "start_time": "2022-02-23T11:10:41.799Z"
   },
   {
    "duration": 5,
    "start_time": "2022-02-23T11:10:54.938Z"
   },
   {
    "duration": 85,
    "start_time": "2022-02-23T11:13:34.701Z"
   },
   {
    "duration": 4,
    "start_time": "2022-02-23T11:14:16.690Z"
   },
   {
    "duration": 1076,
    "start_time": "2022-02-23T11:14:16.697Z"
   },
   {
    "duration": 181,
    "start_time": "2022-02-23T11:14:17.776Z"
   },
   {
    "duration": 24,
    "start_time": "2022-02-23T11:14:17.961Z"
   },
   {
    "duration": 191,
    "start_time": "2022-02-23T11:14:17.988Z"
   },
   {
    "duration": 5,
    "start_time": "2022-02-23T11:14:18.181Z"
   },
   {
    "duration": 19,
    "start_time": "2022-02-23T11:14:18.188Z"
   },
   {
    "duration": 14,
    "start_time": "2022-02-23T11:14:18.210Z"
   },
   {
    "duration": 210,
    "start_time": "2022-02-23T11:14:18.228Z"
   },
   {
    "duration": 509,
    "start_time": "2022-02-23T11:14:18.441Z"
   },
   {
    "duration": 509,
    "start_time": "2022-02-23T11:14:18.952Z"
   },
   {
    "duration": 1173,
    "start_time": "2022-02-23T11:14:19.464Z"
   },
   {
    "duration": 340,
    "start_time": "2022-02-23T11:14:20.640Z"
   },
   {
    "duration": 23,
    "start_time": "2022-02-23T11:14:20.983Z"
   },
   {
    "duration": 67,
    "start_time": "2022-02-23T11:14:21.009Z"
   },
   {
    "duration": 8,
    "start_time": "2022-02-23T11:14:21.079Z"
   },
   {
    "duration": 75,
    "start_time": "2022-02-23T11:14:21.089Z"
   },
   {
    "duration": 2360,
    "start_time": "2022-02-23T11:14:21.166Z"
   },
   {
    "duration": 48,
    "start_time": "2022-02-23T11:14:23.529Z"
   },
   {
    "duration": 13,
    "start_time": "2022-02-23T11:14:23.579Z"
   },
   {
    "duration": 24,
    "start_time": "2022-02-23T11:14:23.594Z"
   },
   {
    "duration": 73,
    "start_time": "2022-02-23T11:14:23.620Z"
   },
   {
    "duration": 19,
    "start_time": "2022-02-23T11:14:23.696Z"
   },
   {
    "duration": 79,
    "start_time": "2022-02-23T11:14:23.717Z"
   },
   {
    "duration": 552,
    "start_time": "2022-02-23T11:14:23.799Z"
   },
   {
    "duration": 1633,
    "start_time": "2022-02-23T11:14:24.353Z"
   },
   {
    "duration": 23,
    "start_time": "2022-02-23T11:14:25.992Z"
   },
   {
    "duration": 40,
    "start_time": "2022-02-23T11:14:26.018Z"
   },
   {
    "duration": 21,
    "start_time": "2022-02-23T11:14:26.060Z"
   },
   {
    "duration": 1222,
    "start_time": "2022-02-23T11:14:26.085Z"
   },
   {
    "duration": 484,
    "start_time": "2022-02-23T11:14:27.310Z"
   },
   {
    "duration": 122,
    "start_time": "2022-02-23T11:14:27.796Z"
   },
   {
    "duration": 30,
    "start_time": "2022-02-23T11:14:27.920Z"
   },
   {
    "duration": 470,
    "start_time": "2022-02-23T11:14:27.952Z"
   },
   {
    "duration": 904,
    "start_time": "2022-02-23T11:14:28.425Z"
   },
   {
    "duration": 30,
    "start_time": "2022-02-23T11:14:29.332Z"
   },
   {
    "duration": 19,
    "start_time": "2022-02-23T11:14:29.365Z"
   },
   {
    "duration": 6,
    "start_time": "2022-02-23T11:14:29.387Z"
   },
   {
    "duration": 498,
    "start_time": "2022-02-23T11:14:29.395Z"
   },
   {
    "duration": 6,
    "start_time": "2022-02-23T11:14:29.896Z"
   },
   {
    "duration": 1597,
    "start_time": "2022-02-23T11:17:22.947Z"
   },
   {
    "duration": 26,
    "start_time": "2022-02-23T11:17:46.517Z"
   },
   {
    "duration": 29,
    "start_time": "2022-02-23T11:18:17.231Z"
   },
   {
    "duration": 6,
    "start_time": "2022-02-23T11:20:00.849Z"
   },
   {
    "duration": 1071,
    "start_time": "2022-02-23T11:20:00.858Z"
   },
   {
    "duration": 169,
    "start_time": "2022-02-23T11:20:01.932Z"
   },
   {
    "duration": 28,
    "start_time": "2022-02-23T11:20:02.104Z"
   },
   {
    "duration": 179,
    "start_time": "2022-02-23T11:20:02.148Z"
   },
   {
    "duration": 5,
    "start_time": "2022-02-23T11:20:02.329Z"
   },
   {
    "duration": 27,
    "start_time": "2022-02-23T11:20:02.337Z"
   },
   {
    "duration": 7,
    "start_time": "2022-02-23T11:20:02.367Z"
   },
   {
    "duration": 211,
    "start_time": "2022-02-23T11:20:02.378Z"
   },
   {
    "duration": 448,
    "start_time": "2022-02-23T11:20:02.593Z"
   },
   {
    "duration": 636,
    "start_time": "2022-02-23T11:20:03.048Z"
   },
   {
    "duration": 1163,
    "start_time": "2022-02-23T11:20:03.687Z"
   },
   {
    "duration": 352,
    "start_time": "2022-02-23T11:20:04.854Z"
   },
   {
    "duration": 24,
    "start_time": "2022-02-23T11:20:05.209Z"
   },
   {
    "duration": 47,
    "start_time": "2022-02-23T11:20:05.248Z"
   },
   {
    "duration": 7,
    "start_time": "2022-02-23T11:20:05.298Z"
   },
   {
    "duration": 60,
    "start_time": "2022-02-23T11:20:05.308Z"
   },
   {
    "duration": 2409,
    "start_time": "2022-02-23T11:20:05.371Z"
   },
   {
    "duration": 38,
    "start_time": "2022-02-23T11:20:07.783Z"
   },
   {
    "duration": 35,
    "start_time": "2022-02-23T11:20:07.823Z"
   },
   {
    "duration": 24,
    "start_time": "2022-02-23T11:20:07.861Z"
   },
   {
    "duration": 77,
    "start_time": "2022-02-23T11:20:07.887Z"
   },
   {
    "duration": 19,
    "start_time": "2022-02-23T11:20:07.967Z"
   },
   {
    "duration": 79,
    "start_time": "2022-02-23T11:20:07.988Z"
   },
   {
    "duration": 513,
    "start_time": "2022-02-23T11:20:08.070Z"
   },
   {
    "duration": 1592,
    "start_time": "2022-02-23T11:20:08.587Z"
   },
   {
    "duration": 19,
    "start_time": "2022-02-23T11:20:10.185Z"
   },
   {
    "duration": 41,
    "start_time": "2022-02-23T11:20:10.207Z"
   },
   {
    "duration": 21,
    "start_time": "2022-02-23T11:20:10.251Z"
   },
   {
    "duration": 442,
    "start_time": "2022-02-23T11:20:10.275Z"
   },
   {
    "duration": 481,
    "start_time": "2022-02-23T11:20:10.720Z"
   },
   {
    "duration": 119,
    "start_time": "2022-02-23T11:20:11.204Z"
   },
   {
    "duration": 30,
    "start_time": "2022-02-23T11:20:11.326Z"
   },
   {
    "duration": 464,
    "start_time": "2022-02-23T11:20:11.359Z"
   },
   {
    "duration": 897,
    "start_time": "2022-02-23T11:20:11.826Z"
   },
   {
    "duration": 31,
    "start_time": "2022-02-23T11:20:12.726Z"
   },
   {
    "duration": 18,
    "start_time": "2022-02-23T11:20:12.760Z"
   },
   {
    "duration": 5,
    "start_time": "2022-02-23T11:20:12.781Z"
   },
   {
    "duration": 491,
    "start_time": "2022-02-23T11:20:12.789Z"
   },
   {
    "duration": 7,
    "start_time": "2022-02-23T11:20:13.283Z"
   },
   {
    "duration": 833,
    "start_time": "2022-02-23T11:20:13.293Z"
   },
   {
    "duration": 5,
    "start_time": "2022-02-23T11:23:12.640Z"
   },
   {
    "duration": 1440,
    "start_time": "2022-02-23T11:23:35.672Z"
   },
   {
    "duration": 89,
    "start_time": "2022-02-23T11:25:32.814Z"
   },
   {
    "duration": 1431,
    "start_time": "2022-02-23T11:25:36.686Z"
   },
   {
    "duration": 719,
    "start_time": "2022-02-23T11:26:38.229Z"
   },
   {
    "duration": 723,
    "start_time": "2022-02-23T11:27:01.509Z"
   },
   {
    "duration": 813,
    "start_time": "2022-02-23T11:30:09.192Z"
   },
   {
    "duration": 1062,
    "start_time": "2022-02-23T11:30:14.601Z"
   },
   {
    "duration": 743,
    "start_time": "2022-02-23T11:32:07.120Z"
   },
   {
    "duration": 745,
    "start_time": "2022-02-23T11:32:19.948Z"
   },
   {
    "duration": 700,
    "start_time": "2022-02-23T11:32:27.329Z"
   },
   {
    "duration": 854,
    "start_time": "2022-02-23T11:32:43.269Z"
   },
   {
    "duration": 786,
    "start_time": "2022-02-23T11:33:14.657Z"
   },
   {
    "duration": 5,
    "start_time": "2022-02-23T11:33:18.583Z"
   },
   {
    "duration": 749,
    "start_time": "2022-02-23T11:33:19.503Z"
   },
   {
    "duration": 5,
    "start_time": "2022-02-23T11:33:26.633Z"
   },
   {
    "duration": 1484,
    "start_time": "2022-02-23T11:33:26.641Z"
   },
   {
    "duration": 290,
    "start_time": "2022-02-23T11:33:28.130Z"
   },
   {
    "duration": 43,
    "start_time": "2022-02-23T11:33:28.424Z"
   },
   {
    "duration": 314,
    "start_time": "2022-02-23T11:33:28.471Z"
   },
   {
    "duration": 6,
    "start_time": "2022-02-23T11:33:28.788Z"
   },
   {
    "duration": 20,
    "start_time": "2022-02-23T11:33:28.797Z"
   },
   {
    "duration": 25,
    "start_time": "2022-02-23T11:33:28.825Z"
   },
   {
    "duration": 235,
    "start_time": "2022-02-23T11:33:28.854Z"
   },
   {
    "duration": 709,
    "start_time": "2022-02-23T11:33:29.093Z"
   },
   {
    "duration": 561,
    "start_time": "2022-02-23T11:33:29.805Z"
   },
   {
    "duration": 1317,
    "start_time": "2022-02-23T11:33:30.369Z"
   },
   {
    "duration": 344,
    "start_time": "2022-02-23T11:33:31.689Z"
   },
   {
    "duration": 31,
    "start_time": "2022-02-23T11:33:32.036Z"
   },
   {
    "duration": 61,
    "start_time": "2022-02-23T11:33:32.070Z"
   },
   {
    "duration": 20,
    "start_time": "2022-02-23T11:33:32.134Z"
   },
   {
    "duration": 37,
    "start_time": "2022-02-23T11:33:32.157Z"
   },
   {
    "duration": 2441,
    "start_time": "2022-02-23T11:33:32.196Z"
   },
   {
    "duration": 42,
    "start_time": "2022-02-23T11:33:34.640Z"
   },
   {
    "duration": 12,
    "start_time": "2022-02-23T11:33:34.685Z"
   },
   {
    "duration": 57,
    "start_time": "2022-02-23T11:33:34.699Z"
   },
   {
    "duration": 49,
    "start_time": "2022-02-23T11:33:34.758Z"
   },
   {
    "duration": 38,
    "start_time": "2022-02-23T11:33:34.812Z"
   },
   {
    "duration": 55,
    "start_time": "2022-02-23T11:33:34.853Z"
   },
   {
    "duration": 564,
    "start_time": "2022-02-23T11:33:34.910Z"
   },
   {
    "duration": 1732,
    "start_time": "2022-02-23T11:33:35.478Z"
   },
   {
    "duration": 44,
    "start_time": "2022-02-23T11:33:37.213Z"
   },
   {
    "duration": 23,
    "start_time": "2022-02-23T11:33:37.260Z"
   },
   {
    "duration": 21,
    "start_time": "2022-02-23T11:33:37.286Z"
   },
   {
    "duration": 518,
    "start_time": "2022-02-23T11:33:37.310Z"
   },
   {
    "duration": 479,
    "start_time": "2022-02-23T11:33:37.831Z"
   },
   {
    "duration": 118,
    "start_time": "2022-02-23T11:33:38.313Z"
   },
   {
    "duration": 34,
    "start_time": "2022-02-23T11:33:38.434Z"
   },
   {
    "duration": 504,
    "start_time": "2022-02-23T11:33:38.470Z"
   },
   {
    "duration": 973,
    "start_time": "2022-02-23T11:33:38.977Z"
   },
   {
    "duration": 43,
    "start_time": "2022-02-23T11:33:39.953Z"
   },
   {
    "duration": 186,
    "start_time": "2022-02-23T11:33:40.009Z"
   },
   {
    "duration": 98,
    "start_time": "2022-02-23T11:33:40.209Z"
   },
   {
    "duration": 726,
    "start_time": "2022-02-23T11:33:40.320Z"
   },
   {
    "duration": 7,
    "start_time": "2022-02-23T11:33:41.050Z"
   },
   {
    "duration": 954,
    "start_time": "2022-02-23T11:33:41.060Z"
   },
   {
    "duration": -1396,
    "start_time": "2022-02-23T11:33:43.413Z"
   },
   {
    "duration": -1405,
    "start_time": "2022-02-23T11:33:43.423Z"
   },
   {
    "duration": 1412,
    "start_time": "2022-02-23T11:34:06.700Z"
   },
   {
    "duration": 831,
    "start_time": "2022-02-23T11:34:15.137Z"
   },
   {
    "duration": 1727,
    "start_time": "2022-02-23T11:34:18.849Z"
   },
   {
    "duration": 722,
    "start_time": "2022-02-23T11:34:42.900Z"
   },
   {
    "duration": 7776,
    "start_time": "2022-02-23T11:34:51.928Z"
   },
   {
    "duration": 1309,
    "start_time": "2022-02-23T11:35:11.034Z"
   },
   {
    "duration": 1368,
    "start_time": "2022-02-23T11:35:31.467Z"
   },
   {
    "duration": 38,
    "start_time": "2022-02-23T11:38:10.107Z"
   },
   {
    "duration": 840,
    "start_time": "2022-02-23T11:38:18.396Z"
   },
   {
    "duration": 10,
    "start_time": "2022-02-23T11:41:16.443Z"
   },
   {
    "duration": 45,
    "start_time": "2022-02-23T11:42:22.021Z"
   },
   {
    "duration": 13,
    "start_time": "2022-02-23T11:42:44.373Z"
   },
   {
    "duration": 433,
    "start_time": "2022-02-23T11:45:02.341Z"
   },
   {
    "duration": 289,
    "start_time": "2022-02-23T11:45:18.561Z"
   },
   {
    "duration": 6,
    "start_time": "2022-02-23T11:45:40.987Z"
   },
   {
    "duration": 1281,
    "start_time": "2022-02-23T11:45:40.996Z"
   },
   {
    "duration": 250,
    "start_time": "2022-02-23T11:45:42.281Z"
   },
   {
    "duration": 31,
    "start_time": "2022-02-23T11:45:42.534Z"
   },
   {
    "duration": 258,
    "start_time": "2022-02-23T11:45:42.567Z"
   },
   {
    "duration": 7,
    "start_time": "2022-02-23T11:45:42.828Z"
   },
   {
    "duration": 24,
    "start_time": "2022-02-23T11:45:42.842Z"
   },
   {
    "duration": 19,
    "start_time": "2022-02-23T11:45:42.869Z"
   },
   {
    "duration": 272,
    "start_time": "2022-02-23T11:45:42.892Z"
   },
   {
    "duration": 568,
    "start_time": "2022-02-23T11:45:43.168Z"
   },
   {
    "duration": 1042,
    "start_time": "2022-02-23T11:45:43.739Z"
   },
   {
    "duration": 1784,
    "start_time": "2022-02-23T11:45:44.784Z"
   },
   {
    "duration": 479,
    "start_time": "2022-02-23T11:45:46.571Z"
   },
   {
    "duration": 29,
    "start_time": "2022-02-23T11:45:47.056Z"
   },
   {
    "duration": 81,
    "start_time": "2022-02-23T11:45:47.088Z"
   },
   {
    "duration": 8,
    "start_time": "2022-02-23T11:45:47.171Z"
   },
   {
    "duration": 88,
    "start_time": "2022-02-23T11:45:47.182Z"
   },
   {
    "duration": 2608,
    "start_time": "2022-02-23T11:45:47.273Z"
   },
   {
    "duration": 36,
    "start_time": "2022-02-23T11:45:49.883Z"
   },
   {
    "duration": 36,
    "start_time": "2022-02-23T11:45:49.922Z"
   },
   {
    "duration": 24,
    "start_time": "2022-02-23T11:45:49.960Z"
   },
   {
    "duration": 80,
    "start_time": "2022-02-23T11:45:49.987Z"
   },
   {
    "duration": 23,
    "start_time": "2022-02-23T11:45:50.070Z"
   },
   {
    "duration": 86,
    "start_time": "2022-02-23T11:45:50.097Z"
   },
   {
    "duration": 558,
    "start_time": "2022-02-23T11:45:50.186Z"
   },
   {
    "duration": 1702,
    "start_time": "2022-02-23T11:45:50.746Z"
   },
   {
    "duration": 21,
    "start_time": "2022-02-23T11:45:52.455Z"
   },
   {
    "duration": 18,
    "start_time": "2022-02-23T11:45:52.479Z"
   },
   {
    "duration": 57,
    "start_time": "2022-02-23T11:45:52.500Z"
   },
   {
    "duration": 479,
    "start_time": "2022-02-23T11:45:52.560Z"
   },
   {
    "duration": 461,
    "start_time": "2022-02-23T11:45:53.041Z"
   },
   {
    "duration": 129,
    "start_time": "2022-02-23T11:45:53.505Z"
   },
   {
    "duration": 25,
    "start_time": "2022-02-23T11:45:53.638Z"
   },
   {
    "duration": 459,
    "start_time": "2022-02-23T11:45:53.666Z"
   },
   {
    "duration": 894,
    "start_time": "2022-02-23T11:45:54.127Z"
   },
   {
    "duration": 39,
    "start_time": "2022-02-23T11:45:55.024Z"
   },
   {
    "duration": 20,
    "start_time": "2022-02-23T11:45:55.066Z"
   },
   {
    "duration": 7,
    "start_time": "2022-02-23T11:45:55.089Z"
   },
   {
    "duration": 495,
    "start_time": "2022-02-23T11:45:55.099Z"
   },
   {
    "duration": 1354,
    "start_time": "2022-02-23T11:45:55.597Z"
   },
   {
    "duration": 11,
    "start_time": "2022-02-23T11:45:56.954Z"
   },
   {
    "duration": 34,
    "start_time": "2022-02-23T11:45:56.968Z"
   },
   {
    "duration": 867,
    "start_time": "2022-02-23T11:45:57.005Z"
   },
   {
    "duration": 5,
    "start_time": "2022-02-23T11:46:34.691Z"
   },
   {
    "duration": 12,
    "start_time": "2022-02-23T11:49:54.868Z"
   },
   {
    "duration": 24,
    "start_time": "2022-02-23T11:50:22.614Z"
   },
   {
    "duration": 295,
    "start_time": "2022-02-23T11:50:48.077Z"
   },
   {
    "duration": 18,
    "start_time": "2022-02-23T11:51:45.958Z"
   },
   {
    "duration": 69,
    "start_time": "2022-02-23T11:51:50.233Z"
   },
   {
    "duration": 71,
    "start_time": "2022-02-23T11:52:19.778Z"
   },
   {
    "duration": 5,
    "start_time": "2022-02-23T11:53:33.199Z"
   },
   {
    "duration": 15,
    "start_time": "2022-02-23T11:55:13.432Z"
   },
   {
    "duration": 18,
    "start_time": "2022-02-23T11:55:25.437Z"
   },
   {
    "duration": 15,
    "start_time": "2022-02-23T11:55:38.156Z"
   },
   {
    "duration": 20,
    "start_time": "2022-02-23T11:55:44.006Z"
   },
   {
    "duration": 17,
    "start_time": "2022-02-23T11:56:03.956Z"
   },
   {
    "duration": 14,
    "start_time": "2022-02-23T11:56:26.391Z"
   },
   {
    "duration": 351,
    "start_time": "2022-02-23T11:56:27.290Z"
   },
   {
    "duration": 6,
    "start_time": "2022-02-23T11:56:42.500Z"
   },
   {
    "duration": 5,
    "start_time": "2022-02-23T11:57:03.383Z"
   },
   {
    "duration": 5,
    "start_time": "2022-02-23T11:57:08.279Z"
   },
   {
    "duration": 1128,
    "start_time": "2022-02-23T11:57:08.289Z"
   },
   {
    "duration": 188,
    "start_time": "2022-02-23T11:57:09.422Z"
   },
   {
    "duration": 36,
    "start_time": "2022-02-23T11:57:09.615Z"
   },
   {
    "duration": 178,
    "start_time": "2022-02-23T11:57:09.655Z"
   },
   {
    "duration": 12,
    "start_time": "2022-02-23T11:57:09.836Z"
   },
   {
    "duration": 11,
    "start_time": "2022-02-23T11:57:09.851Z"
   },
   {
    "duration": 12,
    "start_time": "2022-02-23T11:57:09.865Z"
   },
   {
    "duration": 211,
    "start_time": "2022-02-23T11:57:09.882Z"
   },
   {
    "duration": 428,
    "start_time": "2022-02-23T11:57:10.098Z"
   },
   {
    "duration": 576,
    "start_time": "2022-02-23T11:57:10.529Z"
   },
   {
    "duration": 1562,
    "start_time": "2022-02-23T11:57:11.108Z"
   },
   {
    "duration": 353,
    "start_time": "2022-02-23T11:57:12.674Z"
   },
   {
    "duration": 28,
    "start_time": "2022-02-23T11:57:13.030Z"
   },
   {
    "duration": 54,
    "start_time": "2022-02-23T11:57:13.060Z"
   },
   {
    "duration": 32,
    "start_time": "2022-02-23T11:57:13.117Z"
   },
   {
    "duration": 30,
    "start_time": "2022-02-23T11:57:13.152Z"
   },
   {
    "duration": 2436,
    "start_time": "2022-02-23T11:57:13.185Z"
   },
   {
    "duration": 48,
    "start_time": "2022-02-23T11:57:15.624Z"
   },
   {
    "duration": 15,
    "start_time": "2022-02-23T11:57:15.675Z"
   },
   {
    "duration": 34,
    "start_time": "2022-02-23T11:57:15.694Z"
   },
   {
    "duration": 60,
    "start_time": "2022-02-23T11:57:15.750Z"
   },
   {
    "duration": 46,
    "start_time": "2022-02-23T11:57:15.813Z"
   },
   {
    "duration": 55,
    "start_time": "2022-02-23T11:57:15.862Z"
   },
   {
    "duration": 575,
    "start_time": "2022-02-23T11:57:15.920Z"
   },
   {
    "duration": 1882,
    "start_time": "2022-02-23T11:57:16.499Z"
   },
   {
    "duration": 20,
    "start_time": "2022-02-23T11:57:18.387Z"
   },
   {
    "duration": 45,
    "start_time": "2022-02-23T11:57:18.410Z"
   },
   {
    "duration": 25,
    "start_time": "2022-02-23T11:57:18.458Z"
   },
   {
    "duration": 656,
    "start_time": "2022-02-23T11:57:18.486Z"
   },
   {
    "duration": 595,
    "start_time": "2022-02-23T11:57:19.145Z"
   },
   {
    "duration": 133,
    "start_time": "2022-02-23T11:57:19.744Z"
   },
   {
    "duration": 25,
    "start_time": "2022-02-23T11:57:19.881Z"
   },
   {
    "duration": 685,
    "start_time": "2022-02-23T11:57:19.909Z"
   },
   {
    "duration": 912,
    "start_time": "2022-02-23T11:57:20.597Z"
   },
   {
    "duration": 36,
    "start_time": "2022-02-23T11:57:21.512Z"
   },
   {
    "duration": 20,
    "start_time": "2022-02-23T11:57:21.551Z"
   },
   {
    "duration": 7,
    "start_time": "2022-02-23T11:57:21.574Z"
   },
   {
    "duration": 635,
    "start_time": "2022-02-23T11:57:21.584Z"
   },
   {
    "duration": 1405,
    "start_time": "2022-02-23T11:57:22.222Z"
   },
   {
    "duration": 20,
    "start_time": "2022-02-23T11:57:23.630Z"
   },
   {
    "duration": 6,
    "start_time": "2022-02-23T11:57:23.653Z"
   },
   {
    "duration": 40,
    "start_time": "2022-02-23T11:57:23.662Z"
   },
   {
    "duration": 45,
    "start_time": "2022-02-23T11:57:23.706Z"
   },
   {
    "duration": 10,
    "start_time": "2022-02-23T11:57:23.754Z"
   },
   {
    "duration": 7,
    "start_time": "2022-02-23T11:57:23.767Z"
   },
   {
    "duration": 925,
    "start_time": "2022-02-23T11:57:23.778Z"
   },
   {
    "duration": 44,
    "start_time": "2022-02-23T11:57:24.707Z"
   },
   {
    "duration": 74,
    "start_time": "2022-02-23T11:57:24.754Z"
   },
   {
    "duration": 549,
    "start_time": "2022-02-23T11:57:24.831Z"
   },
   {
    "duration": 140,
    "start_time": "2022-02-23T11:58:46.773Z"
   },
   {
    "duration": 22,
    "start_time": "2022-02-23T11:59:05.438Z"
   },
   {
    "duration": 25,
    "start_time": "2022-02-23T11:59:19.772Z"
   },
   {
    "duration": 5,
    "start_time": "2022-02-23T12:00:36.287Z"
   },
   {
    "duration": 1256,
    "start_time": "2022-02-23T12:00:36.295Z"
   },
   {
    "duration": 187,
    "start_time": "2022-02-23T12:00:37.556Z"
   },
   {
    "duration": 21,
    "start_time": "2022-02-23T12:00:37.750Z"
   },
   {
    "duration": 274,
    "start_time": "2022-02-23T12:00:37.774Z"
   },
   {
    "duration": 7,
    "start_time": "2022-02-23T12:00:38.051Z"
   },
   {
    "duration": 13,
    "start_time": "2022-02-23T12:00:38.061Z"
   },
   {
    "duration": 8,
    "start_time": "2022-02-23T12:00:38.077Z"
   },
   {
    "duration": 217,
    "start_time": "2022-02-23T12:00:38.089Z"
   },
   {
    "duration": 521,
    "start_time": "2022-02-23T12:00:38.311Z"
   },
   {
    "duration": 565,
    "start_time": "2022-02-23T12:00:38.835Z"
   },
   {
    "duration": 1248,
    "start_time": "2022-02-23T12:00:39.402Z"
   },
   {
    "duration": 350,
    "start_time": "2022-02-23T12:00:40.653Z"
   },
   {
    "duration": 28,
    "start_time": "2022-02-23T12:00:41.006Z"
   },
   {
    "duration": 66,
    "start_time": "2022-02-23T12:00:41.052Z"
   },
   {
    "duration": 28,
    "start_time": "2022-02-23T12:00:41.121Z"
   },
   {
    "duration": 46,
    "start_time": "2022-02-23T12:00:41.152Z"
   },
   {
    "duration": 3667,
    "start_time": "2022-02-23T12:00:41.202Z"
   },
   {
    "duration": 40,
    "start_time": "2022-02-23T12:00:44.873Z"
   },
   {
    "duration": 40,
    "start_time": "2022-02-23T12:00:44.916Z"
   },
   {
    "duration": 32,
    "start_time": "2022-02-23T12:00:44.959Z"
   },
   {
    "duration": 80,
    "start_time": "2022-02-23T12:00:44.994Z"
   },
   {
    "duration": 23,
    "start_time": "2022-02-23T12:00:45.078Z"
   },
   {
    "duration": 83,
    "start_time": "2022-02-23T12:00:45.104Z"
   },
   {
    "duration": 555,
    "start_time": "2022-02-23T12:00:45.189Z"
   },
   {
    "duration": 1680,
    "start_time": "2022-02-23T12:00:45.748Z"
   },
   {
    "duration": 29,
    "start_time": "2022-02-23T12:00:47.434Z"
   },
   {
    "duration": 17,
    "start_time": "2022-02-23T12:00:47.466Z"
   },
   {
    "duration": 21,
    "start_time": "2022-02-23T12:00:47.485Z"
   },
   {
    "duration": 506,
    "start_time": "2022-02-23T12:00:47.508Z"
   },
   {
    "duration": 478,
    "start_time": "2022-02-23T12:00:48.016Z"
   },
   {
    "duration": 130,
    "start_time": "2022-02-23T12:00:48.497Z"
   },
   {
    "duration": 30,
    "start_time": "2022-02-23T12:00:48.630Z"
   },
   {
    "duration": 656,
    "start_time": "2022-02-23T12:00:48.663Z"
   },
   {
    "duration": 914,
    "start_time": "2022-02-23T12:00:49.322Z"
   },
   {
    "duration": 29,
    "start_time": "2022-02-23T12:00:50.240Z"
   },
   {
    "duration": 21,
    "start_time": "2022-02-23T12:00:50.272Z"
   },
   {
    "duration": 7,
    "start_time": "2022-02-23T12:00:50.296Z"
   },
   {
    "duration": 509,
    "start_time": "2022-02-23T12:00:50.306Z"
   },
   {
    "duration": 1639,
    "start_time": "2022-02-23T12:00:50.818Z"
   },
   {
    "duration": 12,
    "start_time": "2022-02-23T12:00:52.460Z"
   },
   {
    "duration": 9,
    "start_time": "2022-02-23T12:00:52.474Z"
   },
   {
    "duration": 64,
    "start_time": "2022-02-23T12:00:52.485Z"
   },
   {
    "duration": 12,
    "start_time": "2022-02-23T12:00:52.552Z"
   },
   {
    "duration": 9,
    "start_time": "2022-02-23T12:00:52.567Z"
   },
   {
    "duration": 10,
    "start_time": "2022-02-23T12:00:52.579Z"
   },
   {
    "duration": 861,
    "start_time": "2022-02-23T12:00:52.592Z"
   },
   {
    "duration": 23,
    "start_time": "2022-02-23T12:00:53.457Z"
   },
   {
    "duration": 98,
    "start_time": "2022-02-23T12:00:53.483Z"
   },
   {
    "duration": 6,
    "start_time": "2022-02-23T12:00:53.584Z"
   },
   {
    "duration": 168,
    "start_time": "2022-02-23T12:00:53.593Z"
   },
   {
    "duration": 26,
    "start_time": "2022-02-23T12:00:53.764Z"
   },
   {
    "duration": 5,
    "start_time": "2022-02-23T12:02:11.331Z"
   },
   {
    "duration": 1097,
    "start_time": "2022-02-23T12:02:11.340Z"
   },
   {
    "duration": 172,
    "start_time": "2022-02-23T12:02:12.440Z"
   },
   {
    "duration": 42,
    "start_time": "2022-02-23T12:02:12.616Z"
   },
   {
    "duration": 262,
    "start_time": "2022-02-23T12:02:12.661Z"
   },
   {
    "duration": 6,
    "start_time": "2022-02-23T12:02:12.926Z"
   },
   {
    "duration": 9,
    "start_time": "2022-02-23T12:02:12.948Z"
   },
   {
    "duration": 8,
    "start_time": "2022-02-23T12:02:12.960Z"
   },
   {
    "duration": 319,
    "start_time": "2022-02-23T12:02:12.974Z"
   },
   {
    "duration": 460,
    "start_time": "2022-02-23T12:02:13.296Z"
   },
   {
    "duration": 601,
    "start_time": "2022-02-23T12:02:13.759Z"
   },
   {
    "duration": 1251,
    "start_time": "2022-02-23T12:02:14.363Z"
   },
   {
    "duration": 356,
    "start_time": "2022-02-23T12:02:15.617Z"
   },
   {
    "duration": 22,
    "start_time": "2022-02-23T12:02:15.976Z"
   },
   {
    "duration": 66,
    "start_time": "2022-02-23T12:02:16.002Z"
   },
   {
    "duration": 8,
    "start_time": "2022-02-23T12:02:16.070Z"
   },
   {
    "duration": 77,
    "start_time": "2022-02-23T12:02:16.081Z"
   },
   {
    "duration": 2396,
    "start_time": "2022-02-23T12:02:16.161Z"
   },
   {
    "duration": 34,
    "start_time": "2022-02-23T12:02:18.560Z"
   },
   {
    "duration": 11,
    "start_time": "2022-02-23T12:02:18.597Z"
   },
   {
    "duration": 55,
    "start_time": "2022-02-23T12:02:18.611Z"
   },
   {
    "duration": 46,
    "start_time": "2022-02-23T12:02:18.669Z"
   },
   {
    "duration": 47,
    "start_time": "2022-02-23T12:02:18.719Z"
   },
   {
    "duration": 52,
    "start_time": "2022-02-23T12:02:18.769Z"
   },
   {
    "duration": 571,
    "start_time": "2022-02-23T12:02:18.824Z"
   },
   {
    "duration": 1660,
    "start_time": "2022-02-23T12:02:19.397Z"
   },
   {
    "duration": 22,
    "start_time": "2022-02-23T12:02:21.063Z"
   },
   {
    "duration": 20,
    "start_time": "2022-02-23T12:02:21.088Z"
   },
   {
    "duration": 55,
    "start_time": "2022-02-23T12:02:21.111Z"
   },
   {
    "duration": 457,
    "start_time": "2022-02-23T12:02:21.169Z"
   },
   {
    "duration": 474,
    "start_time": "2022-02-23T12:02:21.628Z"
   },
   {
    "duration": 124,
    "start_time": "2022-02-23T12:02:22.105Z"
   },
   {
    "duration": 31,
    "start_time": "2022-02-23T12:02:22.232Z"
   },
   {
    "duration": 572,
    "start_time": "2022-02-23T12:02:22.266Z"
   },
   {
    "duration": 1350,
    "start_time": "2022-02-23T12:02:22.841Z"
   },
   {
    "duration": 27,
    "start_time": "2022-02-23T12:02:24.194Z"
   },
   {
    "duration": 42,
    "start_time": "2022-02-23T12:02:24.223Z"
   },
   {
    "duration": 6,
    "start_time": "2022-02-23T12:02:24.267Z"
   },
   {
    "duration": 495,
    "start_time": "2022-02-23T12:02:24.276Z"
   },
   {
    "duration": 1474,
    "start_time": "2022-02-23T12:02:24.774Z"
   },
   {
    "duration": 14,
    "start_time": "2022-02-23T12:02:26.252Z"
   },
   {
    "duration": 10,
    "start_time": "2022-02-23T12:02:26.270Z"
   },
   {
    "duration": 69,
    "start_time": "2022-02-23T12:02:26.283Z"
   },
   {
    "duration": 12,
    "start_time": "2022-02-23T12:02:26.355Z"
   },
   {
    "duration": 14,
    "start_time": "2022-02-23T12:02:26.369Z"
   },
   {
    "duration": 21,
    "start_time": "2022-02-23T12:02:26.386Z"
   },
   {
    "duration": 1255,
    "start_time": "2022-02-23T12:02:26.410Z"
   },
   {
    "duration": 26,
    "start_time": "2022-02-23T12:02:27.669Z"
   },
   {
    "duration": 117,
    "start_time": "2022-02-23T12:02:27.699Z"
   },
   {
    "duration": 31,
    "start_time": "2022-02-23T12:02:27.820Z"
   },
   {
    "duration": 195,
    "start_time": "2022-02-23T12:02:27.854Z"
   },
   {
    "duration": 32,
    "start_time": "2022-02-23T12:02:28.052Z"
   },
   {
    "duration": 5,
    "start_time": "2022-02-23T12:05:18.118Z"
   },
   {
    "duration": 1095,
    "start_time": "2022-02-23T12:05:18.127Z"
   },
   {
    "duration": 173,
    "start_time": "2022-02-23T12:05:19.225Z"
   },
   {
    "duration": 22,
    "start_time": "2022-02-23T12:05:19.401Z"
   },
   {
    "duration": 190,
    "start_time": "2022-02-23T12:05:19.427Z"
   },
   {
    "duration": 6,
    "start_time": "2022-02-23T12:05:19.620Z"
   },
   {
    "duration": 24,
    "start_time": "2022-02-23T12:05:19.629Z"
   },
   {
    "duration": 7,
    "start_time": "2022-02-23T12:05:19.656Z"
   },
   {
    "duration": 211,
    "start_time": "2022-02-23T12:05:19.667Z"
   },
   {
    "duration": 502,
    "start_time": "2022-02-23T12:05:19.882Z"
   },
   {
    "duration": 556,
    "start_time": "2022-02-23T12:05:20.387Z"
   },
   {
    "duration": 1220,
    "start_time": "2022-02-23T12:05:20.948Z"
   },
   {
    "duration": 1360,
    "start_time": "2022-02-23T12:05:22.171Z"
   },
   {
    "duration": 175,
    "start_time": "2022-02-23T12:05:23.360Z"
   },
   {
    "duration": 173,
    "start_time": "2022-02-23T12:05:23.364Z"
   },
   {
    "duration": 171,
    "start_time": "2022-02-23T12:05:23.368Z"
   },
   {
    "duration": 150,
    "start_time": "2022-02-23T12:05:23.390Z"
   },
   {
    "duration": 147,
    "start_time": "2022-02-23T12:05:23.396Z"
   },
   {
    "duration": 145,
    "start_time": "2022-02-23T12:05:23.400Z"
   },
   {
    "duration": 143,
    "start_time": "2022-02-23T12:05:23.404Z"
   },
   {
    "duration": 141,
    "start_time": "2022-02-23T12:05:23.408Z"
   },
   {
    "duration": 137,
    "start_time": "2022-02-23T12:05:23.413Z"
   },
   {
    "duration": 128,
    "start_time": "2022-02-23T12:05:23.424Z"
   },
   {
    "duration": 126,
    "start_time": "2022-02-23T12:05:23.428Z"
   },
   {
    "duration": 125,
    "start_time": "2022-02-23T12:05:23.431Z"
   },
   {
    "duration": 123,
    "start_time": "2022-02-23T12:05:23.435Z"
   },
   {
    "duration": 121,
    "start_time": "2022-02-23T12:05:23.438Z"
   },
   {
    "duration": 117,
    "start_time": "2022-02-23T12:05:23.443Z"
   },
   {
    "duration": 116,
    "start_time": "2022-02-23T12:05:23.446Z"
   },
   {
    "duration": 114,
    "start_time": "2022-02-23T12:05:23.450Z"
   },
   {
    "duration": 113,
    "start_time": "2022-02-23T12:05:23.453Z"
   },
   {
    "duration": 112,
    "start_time": "2022-02-23T12:05:23.457Z"
   },
   {
    "duration": 44,
    "start_time": "2022-02-23T12:05:23.526Z"
   },
   {
    "duration": 43,
    "start_time": "2022-02-23T12:05:23.530Z"
   },
   {
    "duration": 42,
    "start_time": "2022-02-23T12:05:23.533Z"
   },
   {
    "duration": 40,
    "start_time": "2022-02-23T12:05:23.537Z"
   },
   {
    "duration": 40,
    "start_time": "2022-02-23T12:05:23.540Z"
   },
   {
    "duration": 38,
    "start_time": "2022-02-23T12:05:23.544Z"
   },
   {
    "duration": 36,
    "start_time": "2022-02-23T12:05:23.548Z"
   },
   {
    "duration": 36,
    "start_time": "2022-02-23T12:05:23.551Z"
   },
   {
    "duration": 94,
    "start_time": "2022-02-23T12:05:23.555Z"
   },
   {
    "duration": 92,
    "start_time": "2022-02-23T12:05:23.559Z"
   },
   {
    "duration": 90,
    "start_time": "2022-02-23T12:05:23.563Z"
   },
   {
    "duration": 87,
    "start_time": "2022-02-23T12:05:23.567Z"
   },
   {
    "duration": 61,
    "start_time": "2022-02-23T12:05:23.596Z"
   },
   {
    "duration": 58,
    "start_time": "2022-02-23T12:05:23.600Z"
   },
   {
    "duration": 57,
    "start_time": "2022-02-23T12:05:23.603Z"
   },
   {
    "duration": 5,
    "start_time": "2022-02-23T12:05:48.498Z"
   },
   {
    "duration": 1356,
    "start_time": "2022-02-23T12:05:48.506Z"
   },
   {
    "duration": 256,
    "start_time": "2022-02-23T12:05:49.866Z"
   },
   {
    "duration": 41,
    "start_time": "2022-02-23T12:05:50.126Z"
   },
   {
    "duration": 170,
    "start_time": "2022-02-23T12:05:50.169Z"
   },
   {
    "duration": 6,
    "start_time": "2022-02-23T12:05:50.349Z"
   },
   {
    "duration": 20,
    "start_time": "2022-02-23T12:05:50.359Z"
   },
   {
    "duration": 9,
    "start_time": "2022-02-23T12:05:50.385Z"
   },
   {
    "duration": 222,
    "start_time": "2022-02-23T12:05:50.397Z"
   },
   {
    "duration": 523,
    "start_time": "2022-02-23T12:05:50.622Z"
   },
   {
    "duration": 531,
    "start_time": "2022-02-23T12:05:51.149Z"
   },
   {
    "duration": 1221,
    "start_time": "2022-02-23T12:05:51.684Z"
   },
   {
    "duration": 336,
    "start_time": "2022-02-23T12:05:52.907Z"
   },
   {
    "duration": 23,
    "start_time": "2022-02-23T12:05:53.248Z"
   },
   {
    "duration": 51,
    "start_time": "2022-02-23T12:05:53.274Z"
   },
   {
    "duration": 23,
    "start_time": "2022-02-23T12:05:53.328Z"
   },
   {
    "duration": 29,
    "start_time": "2022-02-23T12:05:53.354Z"
   },
   {
    "duration": 3054,
    "start_time": "2022-02-23T12:05:53.386Z"
   },
   {
    "duration": 39,
    "start_time": "2022-02-23T12:05:56.447Z"
   },
   {
    "duration": 16,
    "start_time": "2022-02-23T12:05:56.489Z"
   },
   {
    "duration": 57,
    "start_time": "2022-02-23T12:05:56.508Z"
   },
   {
    "duration": 48,
    "start_time": "2022-02-23T12:05:56.568Z"
   },
   {
    "duration": 40,
    "start_time": "2022-02-23T12:05:56.622Z"
   },
   {
    "duration": 57,
    "start_time": "2022-02-23T12:05:56.665Z"
   },
   {
    "duration": 690,
    "start_time": "2022-02-23T12:05:56.724Z"
   },
   {
    "duration": 3241,
    "start_time": "2022-02-23T12:05:57.417Z"
   },
   {
    "duration": 23,
    "start_time": "2022-02-23T12:06:00.661Z"
   },
   {
    "duration": 19,
    "start_time": "2022-02-23T12:06:00.687Z"
   },
   {
    "duration": 56,
    "start_time": "2022-02-23T12:06:00.709Z"
   },
   {
    "duration": 583,
    "start_time": "2022-02-23T12:06:00.768Z"
   },
   {
    "duration": 595,
    "start_time": "2022-02-23T12:06:01.354Z"
   },
   {
    "duration": 121,
    "start_time": "2022-02-23T12:06:01.953Z"
   },
   {
    "duration": 25,
    "start_time": "2022-02-23T12:06:02.077Z"
   },
   {
    "duration": 533,
    "start_time": "2022-02-23T12:06:02.105Z"
   },
   {
    "duration": 1049,
    "start_time": "2022-02-23T12:06:02.650Z"
   },
   {
    "duration": 25,
    "start_time": "2022-02-23T12:06:03.702Z"
   },
   {
    "duration": 24,
    "start_time": "2022-02-23T12:06:03.750Z"
   },
   {
    "duration": 7,
    "start_time": "2022-02-23T12:06:03.777Z"
   },
   {
    "duration": 512,
    "start_time": "2022-02-23T12:06:03.787Z"
   },
   {
    "duration": 1691,
    "start_time": "2022-02-23T12:06:04.302Z"
   },
   {
    "duration": 14,
    "start_time": "2022-02-23T12:06:05.996Z"
   },
   {
    "duration": 6,
    "start_time": "2022-02-23T12:06:06.012Z"
   },
   {
    "duration": 36,
    "start_time": "2022-02-23T12:06:06.049Z"
   },
   {
    "duration": 12,
    "start_time": "2022-02-23T12:06:06.088Z"
   },
   {
    "duration": 27,
    "start_time": "2022-02-23T12:06:06.102Z"
   },
   {
    "duration": 22,
    "start_time": "2022-02-23T12:06:06.132Z"
   },
   {
    "duration": 1392,
    "start_time": "2022-02-23T12:06:54.134Z"
   },
   {
    "duration": 1126,
    "start_time": "2022-02-23T12:07:05.724Z"
   },
   {
    "duration": 36,
    "start_time": "2022-02-23T12:10:52.025Z"
   },
   {
    "duration": 183,
    "start_time": "2022-02-23T12:11:24.337Z"
   },
   {
    "duration": 23,
    "start_time": "2022-02-23T12:11:25.672Z"
   },
   {
    "duration": 796,
    "start_time": "2022-02-23T12:11:33.732Z"
   },
   {
    "duration": 87,
    "start_time": "2022-02-23T12:11:35.118Z"
   },
   {
    "duration": 23,
    "start_time": "2022-02-23T12:11:36.472Z"
   },
   {
    "duration": 201,
    "start_time": "2022-02-23T12:11:43.960Z"
   },
   {
    "duration": 24,
    "start_time": "2022-02-23T12:11:45.112Z"
   },
   {
    "duration": 314,
    "start_time": "2022-02-23T12:15:47.002Z"
   },
   {
    "duration": 7777,
    "start_time": "2022-02-23T12:15:53.414Z"
   },
   {
    "duration": 7310,
    "start_time": "2022-02-23T12:16:31.858Z"
   },
   {
    "duration": 5,
    "start_time": "2022-02-23T12:17:00.091Z"
   },
   {
    "duration": 1609,
    "start_time": "2022-02-23T12:17:00.100Z"
   },
   {
    "duration": 167,
    "start_time": "2022-02-23T12:17:01.712Z"
   },
   {
    "duration": 23,
    "start_time": "2022-02-23T12:17:01.882Z"
   },
   {
    "duration": 211,
    "start_time": "2022-02-23T12:17:01.908Z"
   },
   {
    "duration": 5,
    "start_time": "2022-02-23T12:17:02.123Z"
   },
   {
    "duration": 23,
    "start_time": "2022-02-23T12:17:02.131Z"
   },
   {
    "duration": 10,
    "start_time": "2022-02-23T12:17:02.157Z"
   },
   {
    "duration": 296,
    "start_time": "2022-02-23T12:17:02.172Z"
   },
   {
    "duration": 616,
    "start_time": "2022-02-23T12:17:02.472Z"
   },
   {
    "duration": 559,
    "start_time": "2022-02-23T12:17:03.091Z"
   },
   {
    "duration": 1719,
    "start_time": "2022-02-23T12:17:03.652Z"
   },
   {
    "duration": 348,
    "start_time": "2022-02-23T12:17:05.374Z"
   },
   {
    "duration": 31,
    "start_time": "2022-02-23T12:17:05.724Z"
   },
   {
    "duration": 61,
    "start_time": "2022-02-23T12:17:05.758Z"
   },
   {
    "duration": 26,
    "start_time": "2022-02-23T12:17:05.823Z"
   },
   {
    "duration": 45,
    "start_time": "2022-02-23T12:17:05.852Z"
   },
   {
    "duration": 2559,
    "start_time": "2022-02-23T12:17:05.899Z"
   },
   {
    "duration": 37,
    "start_time": "2022-02-23T12:17:08.461Z"
   },
   {
    "duration": 12,
    "start_time": "2022-02-23T12:17:08.500Z"
   },
   {
    "duration": 53,
    "start_time": "2022-02-23T12:17:08.514Z"
   },
   {
    "duration": 50,
    "start_time": "2022-02-23T12:17:08.570Z"
   },
   {
    "duration": 43,
    "start_time": "2022-02-23T12:17:08.622Z"
   },
   {
    "duration": 81,
    "start_time": "2022-02-23T12:17:08.668Z"
   },
   {
    "duration": 572,
    "start_time": "2022-02-23T12:17:08.752Z"
   },
   {
    "duration": 1726,
    "start_time": "2022-02-23T12:17:09.326Z"
   },
   {
    "duration": 22,
    "start_time": "2022-02-23T12:17:11.058Z"
   },
   {
    "duration": 25,
    "start_time": "2022-02-23T12:17:11.094Z"
   },
   {
    "duration": 49,
    "start_time": "2022-02-23T12:17:11.122Z"
   },
   {
    "duration": 565,
    "start_time": "2022-02-23T12:17:11.175Z"
   },
   {
    "duration": 498,
    "start_time": "2022-02-23T12:17:11.743Z"
   },
   {
    "duration": 141,
    "start_time": "2022-02-23T12:17:12.248Z"
   },
   {
    "duration": 28,
    "start_time": "2022-02-23T12:17:12.393Z"
   },
   {
    "duration": 503,
    "start_time": "2022-02-23T12:17:12.424Z"
   },
   {
    "duration": 1035,
    "start_time": "2022-02-23T12:17:12.930Z"
   },
   {
    "duration": 23,
    "start_time": "2022-02-23T12:17:13.969Z"
   },
   {
    "duration": 20,
    "start_time": "2022-02-23T12:17:13.995Z"
   },
   {
    "duration": 36,
    "start_time": "2022-02-23T12:17:14.018Z"
   },
   {
    "duration": 498,
    "start_time": "2022-02-23T12:17:14.056Z"
   },
   {
    "duration": 1292,
    "start_time": "2022-02-23T12:17:14.557Z"
   },
   {
    "duration": 11,
    "start_time": "2022-02-23T12:17:15.851Z"
   },
   {
    "duration": 170,
    "start_time": "2022-02-23T12:17:15.865Z"
   },
   {
    "duration": 25,
    "start_time": "2022-02-23T12:17:26.626Z"
   },
   {
    "duration": 320,
    "start_time": "2022-02-23T12:18:04.274Z"
   },
   {
    "duration": 25,
    "start_time": "2022-02-23T12:18:43.949Z"
   },
   {
    "duration": 315,
    "start_time": "2022-02-23T12:19:58.499Z"
   },
   {
    "duration": 51,
    "start_time": "2022-02-23T12:20:11.942Z"
   },
   {
    "duration": 7,
    "start_time": "2022-02-23T12:22:41.111Z"
   },
   {
    "duration": 1749,
    "start_time": "2022-02-23T12:22:41.130Z"
   },
   {
    "duration": 168,
    "start_time": "2022-02-23T12:22:42.883Z"
   },
   {
    "duration": 28,
    "start_time": "2022-02-23T12:22:43.055Z"
   },
   {
    "duration": 187,
    "start_time": "2022-02-23T12:22:43.086Z"
   },
   {
    "duration": 4,
    "start_time": "2022-02-23T12:22:43.276Z"
   },
   {
    "duration": 13,
    "start_time": "2022-02-23T12:22:43.283Z"
   },
   {
    "duration": 7,
    "start_time": "2022-02-23T12:22:43.299Z"
   },
   {
    "duration": 229,
    "start_time": "2022-02-23T12:22:43.310Z"
   },
   {
    "duration": 473,
    "start_time": "2022-02-23T12:22:43.550Z"
   },
   {
    "duration": 704,
    "start_time": "2022-02-23T12:22:44.028Z"
   },
   {
    "duration": 1962,
    "start_time": "2022-02-23T12:22:44.735Z"
   },
   {
    "duration": 509,
    "start_time": "2022-02-23T12:22:46.700Z"
   },
   {
    "duration": 24,
    "start_time": "2022-02-23T12:22:47.212Z"
   },
   {
    "duration": 56,
    "start_time": "2022-02-23T12:22:47.250Z"
   },
   {
    "duration": 39,
    "start_time": "2022-02-23T12:22:47.309Z"
   },
   {
    "duration": 47,
    "start_time": "2022-02-23T12:22:47.351Z"
   },
   {
    "duration": 2766,
    "start_time": "2022-02-23T12:22:47.401Z"
   },
   {
    "duration": 37,
    "start_time": "2022-02-23T12:22:50.170Z"
   },
   {
    "duration": 39,
    "start_time": "2022-02-23T12:22:50.210Z"
   },
   {
    "duration": 25,
    "start_time": "2022-02-23T12:22:50.252Z"
   },
   {
    "duration": 72,
    "start_time": "2022-02-23T12:22:50.279Z"
   },
   {
    "duration": 21,
    "start_time": "2022-02-23T12:22:50.355Z"
   },
   {
    "duration": 75,
    "start_time": "2022-02-23T12:22:50.379Z"
   },
   {
    "duration": 548,
    "start_time": "2022-02-23T12:22:50.457Z"
   },
   {
    "duration": 1781,
    "start_time": "2022-02-23T12:22:51.008Z"
   },
   {
    "duration": 23,
    "start_time": "2022-02-23T12:22:52.792Z"
   },
   {
    "duration": 45,
    "start_time": "2022-02-23T12:22:52.821Z"
   },
   {
    "duration": 25,
    "start_time": "2022-02-23T12:22:52.869Z"
   },
   {
    "duration": 520,
    "start_time": "2022-02-23T12:22:52.897Z"
   },
   {
    "duration": 484,
    "start_time": "2022-02-23T12:22:53.419Z"
   },
   {
    "duration": 118,
    "start_time": "2022-02-23T12:22:53.906Z"
   },
   {
    "duration": 31,
    "start_time": "2022-02-23T12:22:54.026Z"
   },
   {
    "duration": 471,
    "start_time": "2022-02-23T12:22:54.060Z"
   },
   {
    "duration": 1592,
    "start_time": "2022-02-23T12:22:54.533Z"
   },
   {
    "duration": 40,
    "start_time": "2022-02-23T12:22:56.128Z"
   },
   {
    "duration": 21,
    "start_time": "2022-02-23T12:22:56.172Z"
   },
   {
    "duration": 11,
    "start_time": "2022-02-23T12:22:56.196Z"
   },
   {
    "duration": 503,
    "start_time": "2022-02-23T12:22:56.210Z"
   },
   {
    "duration": 1281,
    "start_time": "2022-02-23T12:22:56.716Z"
   },
   {
    "duration": 12,
    "start_time": "2022-02-23T12:22:57.999Z"
   },
   {
    "duration": 240,
    "start_time": "2022-02-23T12:22:58.013Z"
   },
   {
    "duration": 29,
    "start_time": "2022-02-23T12:23:09.040Z"
   },
   {
    "duration": 369,
    "start_time": "2022-02-23T12:24:40.129Z"
   },
   {
    "duration": 51,
    "start_time": "2022-02-23T12:24:41.157Z"
   },
   {
    "duration": 5,
    "start_time": "2022-02-23T12:25:23.651Z"
   },
   {
    "duration": 1458,
    "start_time": "2022-02-23T12:25:23.659Z"
   },
   {
    "duration": 199,
    "start_time": "2022-02-23T12:25:25.121Z"
   },
   {
    "duration": 33,
    "start_time": "2022-02-23T12:25:25.324Z"
   },
   {
    "duration": 300,
    "start_time": "2022-02-23T12:25:25.360Z"
   },
   {
    "duration": 6,
    "start_time": "2022-02-23T12:25:25.663Z"
   },
   {
    "duration": 19,
    "start_time": "2022-02-23T12:25:25.672Z"
   },
   {
    "duration": 18,
    "start_time": "2022-02-23T12:25:25.695Z"
   },
   {
    "duration": 245,
    "start_time": "2022-02-23T12:25:25.718Z"
   },
   {
    "duration": 642,
    "start_time": "2022-02-23T12:25:25.967Z"
   },
   {
    "duration": 764,
    "start_time": "2022-02-23T12:25:26.612Z"
   },
   {
    "duration": 2103,
    "start_time": "2022-02-23T12:25:27.379Z"
   },
   {
    "duration": 407,
    "start_time": "2022-02-23T12:25:29.485Z"
   },
   {
    "duration": 25,
    "start_time": "2022-02-23T12:25:29.896Z"
   },
   {
    "duration": 75,
    "start_time": "2022-02-23T12:25:29.924Z"
   },
   {
    "duration": 12,
    "start_time": "2022-02-23T12:25:30.003Z"
   },
   {
    "duration": 50,
    "start_time": "2022-02-23T12:25:30.049Z"
   },
   {
    "duration": 2856,
    "start_time": "2022-02-23T12:25:30.102Z"
   },
   {
    "duration": 36,
    "start_time": "2022-02-23T12:25:32.961Z"
   },
   {
    "duration": 12,
    "start_time": "2022-02-23T12:25:33.000Z"
   },
   {
    "duration": 66,
    "start_time": "2022-02-23T12:25:33.015Z"
   },
   {
    "duration": 49,
    "start_time": "2022-02-23T12:25:33.084Z"
   },
   {
    "duration": 21,
    "start_time": "2022-02-23T12:25:33.149Z"
   },
   {
    "duration": 76,
    "start_time": "2022-02-23T12:25:33.173Z"
   },
   {
    "duration": 557,
    "start_time": "2022-02-23T12:25:33.252Z"
   },
   {
    "duration": 1763,
    "start_time": "2022-02-23T12:25:33.812Z"
   },
   {
    "duration": 23,
    "start_time": "2022-02-23T12:25:35.583Z"
   },
   {
    "duration": 47,
    "start_time": "2022-02-23T12:25:35.610Z"
   },
   {
    "duration": 23,
    "start_time": "2022-02-23T12:25:35.661Z"
   },
   {
    "duration": 542,
    "start_time": "2022-02-23T12:25:35.686Z"
   },
   {
    "duration": 484,
    "start_time": "2022-02-23T12:25:36.231Z"
   },
   {
    "duration": 119,
    "start_time": "2022-02-23T12:25:36.717Z"
   },
   {
    "duration": 27,
    "start_time": "2022-02-23T12:25:36.839Z"
   },
   {
    "duration": 500,
    "start_time": "2022-02-23T12:25:36.869Z"
   },
   {
    "duration": 1389,
    "start_time": "2022-02-23T12:25:37.372Z"
   },
   {
    "duration": 28,
    "start_time": "2022-02-23T12:25:38.764Z"
   },
   {
    "duration": 21,
    "start_time": "2022-02-23T12:25:38.795Z"
   },
   {
    "duration": 35,
    "start_time": "2022-02-23T12:25:38.819Z"
   },
   {
    "duration": 679,
    "start_time": "2022-02-23T12:25:38.857Z"
   },
   {
    "duration": 1276,
    "start_time": "2022-02-23T12:25:39.539Z"
   },
   {
    "duration": 32,
    "start_time": "2022-02-23T12:25:40.818Z"
   },
   {
    "duration": 298,
    "start_time": "2022-02-23T12:27:06.832Z"
   },
   {
    "duration": 40,
    "start_time": "2022-02-23T12:27:08.246Z"
   },
   {
    "duration": 67,
    "start_time": "2022-02-23T12:27:56.285Z"
   },
   {
    "duration": 36,
    "start_time": "2022-02-23T12:27:57.049Z"
   },
   {
    "duration": 329,
    "start_time": "2022-02-23T12:28:11.436Z"
   },
   {
    "duration": 5,
    "start_time": "2022-02-23T12:29:06.073Z"
   },
   {
    "duration": 1918,
    "start_time": "2022-02-23T12:29:06.081Z"
   },
   {
    "duration": 177,
    "start_time": "2022-02-23T12:29:08.003Z"
   },
   {
    "duration": 30,
    "start_time": "2022-02-23T12:29:08.183Z"
   },
   {
    "duration": 244,
    "start_time": "2022-02-23T12:29:08.216Z"
   },
   {
    "duration": 5,
    "start_time": "2022-02-23T12:29:08.463Z"
   },
   {
    "duration": 12,
    "start_time": "2022-02-23T12:29:08.471Z"
   },
   {
    "duration": 6,
    "start_time": "2022-02-23T12:29:08.489Z"
   },
   {
    "duration": 212,
    "start_time": "2022-02-23T12:29:08.498Z"
   },
   {
    "duration": 1508,
    "start_time": "2022-02-23T12:29:08.713Z"
   },
   {
    "duration": 545,
    "start_time": "2022-02-23T12:29:10.223Z"
   },
   {
    "duration": 2277,
    "start_time": "2022-02-23T12:29:10.771Z"
   },
   {
    "duration": 351,
    "start_time": "2022-02-23T12:29:13.051Z"
   },
   {
    "duration": 23,
    "start_time": "2022-02-23T12:29:13.405Z"
   },
   {
    "duration": 50,
    "start_time": "2022-02-23T12:29:13.448Z"
   },
   {
    "duration": 7,
    "start_time": "2022-02-23T12:29:13.502Z"
   },
   {
    "duration": 57,
    "start_time": "2022-02-23T12:29:13.512Z"
   },
   {
    "duration": 2495,
    "start_time": "2022-02-23T12:29:13.572Z"
   },
   {
    "duration": 36,
    "start_time": "2022-02-23T12:29:16.070Z"
   },
   {
    "duration": 12,
    "start_time": "2022-02-23T12:29:16.109Z"
   },
   {
    "duration": 25,
    "start_time": "2022-02-23T12:29:16.150Z"
   },
   {
    "duration": 70,
    "start_time": "2022-02-23T12:29:16.178Z"
   },
   {
    "duration": 20,
    "start_time": "2022-02-23T12:29:16.253Z"
   },
   {
    "duration": 77,
    "start_time": "2022-02-23T12:29:16.276Z"
   },
   {
    "duration": 555,
    "start_time": "2022-02-23T12:29:16.356Z"
   },
   {
    "duration": 1794,
    "start_time": "2022-02-23T12:29:16.914Z"
   },
   {
    "duration": 38,
    "start_time": "2022-02-23T12:29:18.712Z"
   },
   {
    "duration": 19,
    "start_time": "2022-02-23T12:29:18.753Z"
   },
   {
    "duration": 21,
    "start_time": "2022-02-23T12:29:18.775Z"
   },
   {
    "duration": 649,
    "start_time": "2022-02-23T12:29:18.799Z"
   },
   {
    "duration": 601,
    "start_time": "2022-02-23T12:29:19.451Z"
   },
   {
    "duration": 138,
    "start_time": "2022-02-23T12:29:20.055Z"
   },
   {
    "duration": 25,
    "start_time": "2022-02-23T12:29:20.196Z"
   },
   {
    "duration": 700,
    "start_time": "2022-02-23T12:29:20.224Z"
   },
   {
    "duration": 1066,
    "start_time": "2022-02-23T12:29:20.927Z"
   },
   {
    "duration": 23,
    "start_time": "2022-02-23T12:29:21.995Z"
   },
   {
    "duration": 39,
    "start_time": "2022-02-23T12:29:22.021Z"
   },
   {
    "duration": 7,
    "start_time": "2022-02-23T12:29:22.064Z"
   },
   {
    "duration": 723,
    "start_time": "2022-02-23T12:29:22.074Z"
   },
   {
    "duration": 1701,
    "start_time": "2022-02-23T12:29:22.801Z"
   },
   {
    "duration": 12,
    "start_time": "2022-02-23T12:29:31.977Z"
   },
   {
    "duration": 29,
    "start_time": "2022-02-23T12:34:18.766Z"
   },
   {
    "duration": 40,
    "start_time": "2022-02-23T12:34:19.740Z"
   },
   {
    "duration": 20,
    "start_time": "2022-02-23T12:35:43.743Z"
   },
   {
    "duration": 101,
    "start_time": "2022-02-23T12:36:02.246Z"
   },
   {
    "duration": 35,
    "start_time": "2022-02-23T12:36:04.726Z"
   },
   {
    "duration": 303,
    "start_time": "2022-02-23T12:36:18.942Z"
   },
   {
    "duration": 304,
    "start_time": "2022-02-23T12:36:33.461Z"
   },
   {
    "duration": 107,
    "start_time": "2022-02-23T12:36:44.964Z"
   },
   {
    "duration": 658,
    "start_time": "2022-02-23T12:37:02.141Z"
   },
   {
    "duration": 8533,
    "start_time": "2022-02-23T12:37:54.718Z"
   },
   {
    "duration": 7368,
    "start_time": "2022-02-23T12:39:21.958Z"
   },
   {
    "duration": 5,
    "start_time": "2022-02-23T12:39:32.869Z"
   },
   {
    "duration": 5781,
    "start_time": "2022-02-23T12:39:32.877Z"
   },
   {
    "duration": 250,
    "start_time": "2022-02-23T12:39:38.663Z"
   },
   {
    "duration": 35,
    "start_time": "2022-02-23T12:39:38.917Z"
   },
   {
    "duration": 178,
    "start_time": "2022-02-23T12:39:38.955Z"
   },
   {
    "duration": 25,
    "start_time": "2022-02-23T12:39:39.136Z"
   },
   {
    "duration": 22,
    "start_time": "2022-02-23T12:39:39.164Z"
   },
   {
    "duration": 8853,
    "start_time": "2022-02-23T12:39:39.189Z"
   },
   {
    "duration": 204,
    "start_time": "2022-02-23T12:39:48.046Z"
   },
   {
    "duration": 4256,
    "start_time": "2022-02-23T12:40:13.981Z"
   },
   {
    "duration": 1792,
    "start_time": "2022-02-23T12:40:18.240Z"
   },
   {
    "duration": 222,
    "start_time": "2022-02-23T12:40:20.041Z"
   },
   {
    "duration": 38,
    "start_time": "2022-02-23T12:40:20.266Z"
   },
   {
    "duration": 186,
    "start_time": "2022-02-23T12:40:20.306Z"
   },
   {
    "duration": 4,
    "start_time": "2022-02-23T12:40:20.495Z"
   },
   {
    "duration": 12,
    "start_time": "2022-02-23T12:40:20.502Z"
   },
   {
    "duration": 33,
    "start_time": "2022-02-23T12:40:20.518Z"
   },
   {
    "duration": 1119,
    "start_time": "2022-02-23T12:40:20.554Z"
   },
   {
    "duration": 448,
    "start_time": "2022-02-23T12:40:21.676Z"
   },
   {
    "duration": 947,
    "start_time": "2022-02-23T12:40:22.128Z"
   },
   {
    "duration": 1677,
    "start_time": "2022-02-23T12:40:23.078Z"
   },
   {
    "duration": 422,
    "start_time": "2022-02-23T12:40:24.758Z"
   },
   {
    "duration": 29,
    "start_time": "2022-02-23T12:40:25.182Z"
   },
   {
    "duration": 496,
    "start_time": "2022-02-23T12:40:25.214Z"
   },
   {
    "duration": 137,
    "start_time": "2022-02-23T12:40:25.578Z"
   },
   {
    "duration": 136,
    "start_time": "2022-02-23T12:40:25.582Z"
   },
   {
    "duration": 129,
    "start_time": "2022-02-23T12:40:25.591Z"
   },
   {
    "duration": 126,
    "start_time": "2022-02-23T12:40:25.595Z"
   },
   {
    "duration": 122,
    "start_time": "2022-02-23T12:40:25.602Z"
   },
   {
    "duration": 120,
    "start_time": "2022-02-23T12:40:25.605Z"
   },
   {
    "duration": 118,
    "start_time": "2022-02-23T12:40:25.610Z"
   },
   {
    "duration": 116,
    "start_time": "2022-02-23T12:40:25.613Z"
   },
   {
    "duration": 114,
    "start_time": "2022-02-23T12:40:25.618Z"
   },
   {
    "duration": 113,
    "start_time": "2022-02-23T12:40:25.621Z"
   },
   {
    "duration": 110,
    "start_time": "2022-02-23T12:40:25.626Z"
   },
   {
    "duration": 109,
    "start_time": "2022-02-23T12:40:25.629Z"
   },
   {
    "duration": 105,
    "start_time": "2022-02-23T12:40:25.635Z"
   },
   {
    "duration": 104,
    "start_time": "2022-02-23T12:40:25.638Z"
   },
   {
    "duration": 103,
    "start_time": "2022-02-23T12:40:25.642Z"
   },
   {
    "duration": 102,
    "start_time": "2022-02-23T12:40:25.645Z"
   },
   {
    "duration": 97,
    "start_time": "2022-02-23T12:40:25.651Z"
   },
   {
    "duration": 97,
    "start_time": "2022-02-23T12:40:25.654Z"
   },
   {
    "duration": 94,
    "start_time": "2022-02-23T12:40:25.659Z"
   },
   {
    "duration": 92,
    "start_time": "2022-02-23T12:40:25.662Z"
   },
   {
    "duration": 79,
    "start_time": "2022-02-23T12:40:25.677Z"
   },
   {
    "duration": 77,
    "start_time": "2022-02-23T12:40:25.680Z"
   },
   {
    "duration": 72,
    "start_time": "2022-02-23T12:40:25.687Z"
   },
   {
    "duration": 70,
    "start_time": "2022-02-23T12:40:25.690Z"
   },
   {
    "duration": 68,
    "start_time": "2022-02-23T12:40:25.694Z"
   },
   {
    "duration": 67,
    "start_time": "2022-02-23T12:40:25.697Z"
   },
   {
    "duration": 61,
    "start_time": "2022-02-23T12:40:25.705Z"
   },
   {
    "duration": 60,
    "start_time": "2022-02-23T12:40:25.708Z"
   },
   {
    "duration": 58,
    "start_time": "2022-02-23T12:40:25.712Z"
   },
   {
    "duration": 53,
    "start_time": "2022-02-23T12:40:25.719Z"
   },
   {
    "duration": 53,
    "start_time": "2022-02-23T12:40:25.723Z"
   },
   {
    "duration": 52,
    "start_time": "2022-02-23T12:40:25.726Z"
   },
   {
    "duration": 32,
    "start_time": "2022-02-23T12:40:25.749Z"
   },
   {
    "duration": 28,
    "start_time": "2022-02-23T12:40:25.755Z"
   },
   {
    "duration": 27,
    "start_time": "2022-02-23T12:40:25.758Z"
   },
   {
    "duration": 27,
    "start_time": "2022-02-23T12:40:25.761Z"
   },
   {
    "duration": 20,
    "start_time": "2022-02-23T12:40:25.770Z"
   },
   {
    "duration": 76,
    "start_time": "2022-02-23T12:40:25.773Z"
   },
   {
    "duration": 74,
    "start_time": "2022-02-23T12:40:25.777Z"
   },
   {
    "duration": 5,
    "start_time": "2022-02-23T12:40:58.917Z"
   },
   {
    "duration": 1028,
    "start_time": "2022-02-23T12:40:58.925Z"
   },
   {
    "duration": 192,
    "start_time": "2022-02-23T12:40:59.956Z"
   },
   {
    "duration": 22,
    "start_time": "2022-02-23T12:41:00.151Z"
   },
   {
    "duration": 201,
    "start_time": "2022-02-23T12:41:00.177Z"
   },
   {
    "duration": 4,
    "start_time": "2022-02-23T12:41:00.381Z"
   },
   {
    "duration": 33,
    "start_time": "2022-02-23T12:41:00.389Z"
   },
   {
    "duration": 7,
    "start_time": "2022-02-23T12:41:00.426Z"
   },
   {
    "duration": 209,
    "start_time": "2022-02-23T12:41:00.448Z"
   },
   {
    "duration": 552,
    "start_time": "2022-02-23T12:41:00.660Z"
   },
   {
    "duration": 893,
    "start_time": "2022-02-23T12:41:01.215Z"
   },
   {
    "duration": 1953,
    "start_time": "2022-02-23T12:41:02.111Z"
   },
   {
    "duration": 355,
    "start_time": "2022-02-23T12:41:04.067Z"
   },
   {
    "duration": 29,
    "start_time": "2022-02-23T12:41:04.425Z"
   },
   {
    "duration": 8,
    "start_time": "2022-02-23T12:41:04.457Z"
   },
   {
    "duration": 13,
    "start_time": "2022-02-23T12:41:04.467Z"
   },
   {
    "duration": 23,
    "start_time": "2022-02-23T12:41:04.483Z"
   },
   {
    "duration": 2743,
    "start_time": "2022-02-23T12:41:04.510Z"
   },
   {
    "duration": 38,
    "start_time": "2022-02-23T12:41:07.255Z"
   },
   {
    "duration": 14,
    "start_time": "2022-02-23T12:41:07.296Z"
   },
   {
    "duration": 58,
    "start_time": "2022-02-23T12:41:07.313Z"
   },
   {
    "duration": 81,
    "start_time": "2022-02-23T12:41:07.374Z"
   },
   {
    "duration": 26,
    "start_time": "2022-02-23T12:41:07.462Z"
   },
   {
    "duration": 78,
    "start_time": "2022-02-23T12:41:07.492Z"
   },
   {
    "duration": 524,
    "start_time": "2022-02-23T12:41:07.573Z"
   },
   {
    "duration": 1844,
    "start_time": "2022-02-23T12:41:08.100Z"
   },
   {
    "duration": 26,
    "start_time": "2022-02-23T12:41:09.949Z"
   },
   {
    "duration": 19,
    "start_time": "2022-02-23T12:41:09.978Z"
   },
   {
    "duration": 57,
    "start_time": "2022-02-23T12:41:10.001Z"
   },
   {
    "duration": 365,
    "start_time": "2022-02-23T12:41:10.060Z"
   },
   {
    "duration": 362,
    "start_time": "2022-02-23T12:41:10.428Z"
   },
   {
    "duration": 128,
    "start_time": "2022-02-23T12:41:10.793Z"
   },
   {
    "duration": 29,
    "start_time": "2022-02-23T12:41:10.924Z"
   },
   {
    "duration": 436,
    "start_time": "2022-02-23T12:41:10.956Z"
   },
   {
    "duration": 1104,
    "start_time": "2022-02-23T12:41:11.396Z"
   },
   {
    "duration": 24,
    "start_time": "2022-02-23T12:41:12.503Z"
   },
   {
    "duration": 20,
    "start_time": "2022-02-23T12:41:12.549Z"
   },
   {
    "duration": 5,
    "start_time": "2022-02-23T12:41:12.572Z"
   },
   {
    "duration": 477,
    "start_time": "2022-02-23T12:41:12.579Z"
   },
   {
    "duration": 1553,
    "start_time": "2022-02-23T12:41:13.059Z"
   },
   {
    "duration": 13,
    "start_time": "2022-02-23T12:41:23.714Z"
   },
   {
    "duration": 370,
    "start_time": "2022-02-23T12:41:25.954Z"
   },
   {
    "duration": 128,
    "start_time": "2022-02-23T12:42:26.273Z"
   },
   {
    "duration": 44,
    "start_time": "2022-02-23T12:42:46.459Z"
   },
   {
    "duration": 9,
    "start_time": "2022-02-23T12:42:47.597Z"
   },
   {
    "duration": 6,
    "start_time": "2022-02-23T12:42:49.250Z"
   },
   {
    "duration": 6,
    "start_time": "2022-02-23T12:42:50.228Z"
   },
   {
    "duration": 1240,
    "start_time": "2022-02-23T12:43:10.921Z"
   },
   {
    "duration": 5,
    "start_time": "2022-02-23T12:44:00.324Z"
   },
   {
    "duration": 1065,
    "start_time": "2022-02-23T12:44:00.332Z"
   },
   {
    "duration": 194,
    "start_time": "2022-02-23T12:44:01.400Z"
   },
   {
    "duration": 22,
    "start_time": "2022-02-23T12:44:01.597Z"
   },
   {
    "duration": 201,
    "start_time": "2022-02-23T12:44:01.621Z"
   },
   {
    "duration": 5,
    "start_time": "2022-02-23T12:44:01.824Z"
   },
   {
    "duration": 20,
    "start_time": "2022-02-23T12:44:01.832Z"
   },
   {
    "duration": 20,
    "start_time": "2022-02-23T12:44:01.855Z"
   },
   {
    "duration": 218,
    "start_time": "2022-02-23T12:44:01.879Z"
   },
   {
    "duration": 442,
    "start_time": "2022-02-23T12:44:02.100Z"
   },
   {
    "duration": 706,
    "start_time": "2022-02-23T12:44:02.544Z"
   },
   {
    "duration": 1560,
    "start_time": "2022-02-23T12:44:03.253Z"
   },
   {
    "duration": 363,
    "start_time": "2022-02-23T12:44:04.816Z"
   },
   {
    "duration": 22,
    "start_time": "2022-02-23T12:44:05.182Z"
   },
   {
    "duration": 9,
    "start_time": "2022-02-23T12:44:05.206Z"
   },
   {
    "duration": 31,
    "start_time": "2022-02-23T12:44:05.218Z"
   },
   {
    "duration": 18,
    "start_time": "2022-02-23T12:44:05.251Z"
   },
   {
    "duration": 2668,
    "start_time": "2022-02-23T12:44:05.273Z"
   },
   {
    "duration": 43,
    "start_time": "2022-02-23T12:44:07.948Z"
   },
   {
    "duration": 14,
    "start_time": "2022-02-23T12:44:07.994Z"
   },
   {
    "duration": 57,
    "start_time": "2022-02-23T12:44:08.011Z"
   },
   {
    "duration": 49,
    "start_time": "2022-02-23T12:44:08.071Z"
   },
   {
    "duration": 43,
    "start_time": "2022-02-23T12:44:08.124Z"
   },
   {
    "duration": 86,
    "start_time": "2022-02-23T12:44:08.170Z"
   },
   {
    "duration": 507,
    "start_time": "2022-02-23T12:44:08.259Z"
   },
   {
    "duration": 1698,
    "start_time": "2022-02-23T12:44:08.769Z"
   },
   {
    "duration": 23,
    "start_time": "2022-02-23T12:44:10.474Z"
   },
   {
    "duration": 54,
    "start_time": "2022-02-23T12:44:10.500Z"
   },
   {
    "duration": 21,
    "start_time": "2022-02-23T12:44:10.557Z"
   },
   {
    "duration": 358,
    "start_time": "2022-02-23T12:44:10.580Z"
   },
   {
    "duration": 375,
    "start_time": "2022-02-23T12:44:10.942Z"
   },
   {
    "duration": 131,
    "start_time": "2022-02-23T12:44:11.320Z"
   },
   {
    "duration": 23,
    "start_time": "2022-02-23T12:44:11.454Z"
   },
   {
    "duration": 450,
    "start_time": "2022-02-23T12:44:11.480Z"
   },
   {
    "duration": 986,
    "start_time": "2022-02-23T12:44:11.932Z"
   },
   {
    "duration": 36,
    "start_time": "2022-02-23T12:44:12.921Z"
   },
   {
    "duration": 22,
    "start_time": "2022-02-23T12:44:12.960Z"
   },
   {
    "duration": 6,
    "start_time": "2022-02-23T12:44:12.985Z"
   },
   {
    "duration": 781,
    "start_time": "2022-02-23T12:44:12.994Z"
   },
   {
    "duration": 1966,
    "start_time": "2022-02-23T12:44:13.786Z"
   },
   {
    "duration": 13,
    "start_time": "2022-02-23T12:44:15.755Z"
   },
   {
    "duration": 400,
    "start_time": "2022-02-23T12:44:15.770Z"
   },
   {
    "duration": 25,
    "start_time": "2022-02-23T12:44:21.940Z"
   },
   {
    "duration": 5,
    "start_time": "2022-02-23T12:47:14.144Z"
   },
   {
    "duration": 1118,
    "start_time": "2022-02-23T12:47:14.152Z"
   },
   {
    "duration": 194,
    "start_time": "2022-02-23T12:47:15.274Z"
   },
   {
    "duration": 20,
    "start_time": "2022-02-23T12:47:15.470Z"
   },
   {
    "duration": 190,
    "start_time": "2022-02-23T12:47:15.493Z"
   },
   {
    "duration": 5,
    "start_time": "2022-02-23T12:47:15.686Z"
   },
   {
    "duration": 13,
    "start_time": "2022-02-23T12:47:15.694Z"
   },
   {
    "duration": 7,
    "start_time": "2022-02-23T12:47:15.710Z"
   },
   {
    "duration": 304,
    "start_time": "2022-02-23T12:47:15.750Z"
   },
   {
    "duration": 600,
    "start_time": "2022-02-23T12:47:16.058Z"
   },
   {
    "duration": 695,
    "start_time": "2022-02-23T12:47:16.660Z"
   },
   {
    "duration": 1614,
    "start_time": "2022-02-23T12:47:17.358Z"
   },
   {
    "duration": 350,
    "start_time": "2022-02-23T12:47:18.975Z"
   },
   {
    "duration": 33,
    "start_time": "2022-02-23T12:47:19.327Z"
   },
   {
    "duration": 5,
    "start_time": "2022-02-23T12:47:19.364Z"
   },
   {
    "duration": 14,
    "start_time": "2022-02-23T12:47:19.372Z"
   },
   {
    "duration": 21,
    "start_time": "2022-02-23T12:47:19.389Z"
   },
   {
    "duration": 2555,
    "start_time": "2022-02-23T12:47:19.412Z"
   },
   {
    "duration": 38,
    "start_time": "2022-02-23T12:47:21.969Z"
   },
   {
    "duration": 40,
    "start_time": "2022-02-23T12:47:22.010Z"
   },
   {
    "duration": 25,
    "start_time": "2022-02-23T12:47:22.053Z"
   },
   {
    "duration": 68,
    "start_time": "2022-02-23T12:47:22.081Z"
   },
   {
    "duration": 20,
    "start_time": "2022-02-23T12:47:22.152Z"
   },
   {
    "duration": 74,
    "start_time": "2022-02-23T12:47:22.175Z"
   },
   {
    "duration": 509,
    "start_time": "2022-02-23T12:47:22.252Z"
   },
   {
    "duration": 1707,
    "start_time": "2022-02-23T12:47:22.763Z"
   },
   {
    "duration": 21,
    "start_time": "2022-02-23T12:47:24.476Z"
   },
   {
    "duration": 22,
    "start_time": "2022-02-23T12:47:24.501Z"
   },
   {
    "duration": 25,
    "start_time": "2022-02-23T12:47:24.550Z"
   },
   {
    "duration": 478,
    "start_time": "2022-02-23T12:47:24.578Z"
   },
   {
    "duration": 363,
    "start_time": "2022-02-23T12:47:25.060Z"
   },
   {
    "duration": 118,
    "start_time": "2022-02-23T12:47:25.426Z"
   },
   {
    "duration": 21,
    "start_time": "2022-02-23T12:47:25.547Z"
   },
   {
    "duration": 453,
    "start_time": "2022-02-23T12:47:25.571Z"
   },
   {
    "duration": 880,
    "start_time": "2022-02-23T12:47:26.027Z"
   },
   {
    "duration": 40,
    "start_time": "2022-02-23T12:47:26.910Z"
   },
   {
    "duration": 22,
    "start_time": "2022-02-23T12:47:26.953Z"
   },
   {
    "duration": 6,
    "start_time": "2022-02-23T12:47:26.978Z"
   },
   {
    "duration": 494,
    "start_time": "2022-02-23T12:47:26.986Z"
   },
   {
    "duration": 1548,
    "start_time": "2022-02-23T12:47:27.482Z"
   },
   {
    "duration": 22,
    "start_time": "2022-02-23T12:47:29.033Z"
   },
   {
    "duration": 36,
    "start_time": "2022-02-23T12:47:29.058Z"
   },
   {
    "duration": 6,
    "start_time": "2022-02-23T12:48:57.015Z"
   },
   {
    "duration": 29,
    "start_time": "2022-02-23T12:49:12.592Z"
   },
   {
    "duration": 6,
    "start_time": "2022-02-23T12:49:27.736Z"
   },
   {
    "duration": 998,
    "start_time": "2022-02-23T12:49:27.745Z"
   },
   {
    "duration": 186,
    "start_time": "2022-02-23T12:49:28.746Z"
   },
   {
    "duration": 29,
    "start_time": "2022-02-23T12:49:28.935Z"
   },
   {
    "duration": 194,
    "start_time": "2022-02-23T12:49:28.966Z"
   },
   {
    "duration": 5,
    "start_time": "2022-02-23T12:49:29.162Z"
   },
   {
    "duration": 21,
    "start_time": "2022-02-23T12:49:29.170Z"
   },
   {
    "duration": 7,
    "start_time": "2022-02-23T12:49:29.197Z"
   },
   {
    "duration": 224,
    "start_time": "2022-02-23T12:49:29.208Z"
   },
   {
    "duration": 418,
    "start_time": "2022-02-23T12:49:29.436Z"
   },
   {
    "duration": 672,
    "start_time": "2022-02-23T12:49:29.857Z"
   },
   {
    "duration": 1523,
    "start_time": "2022-02-23T12:49:30.532Z"
   },
   {
    "duration": 332,
    "start_time": "2022-02-23T12:49:32.057Z"
   },
   {
    "duration": 22,
    "start_time": "2022-02-23T12:49:32.392Z"
   },
   {
    "duration": 12,
    "start_time": "2022-02-23T12:49:32.417Z"
   },
   {
    "duration": 23,
    "start_time": "2022-02-23T12:49:32.432Z"
   },
   {
    "duration": 26,
    "start_time": "2022-02-23T12:49:32.457Z"
   },
   {
    "duration": 2866,
    "start_time": "2022-02-23T12:49:32.486Z"
   },
   {
    "duration": 39,
    "start_time": "2022-02-23T12:49:35.355Z"
   },
   {
    "duration": 17,
    "start_time": "2022-02-23T12:49:35.397Z"
   },
   {
    "duration": 57,
    "start_time": "2022-02-23T12:49:35.418Z"
   },
   {
    "duration": 74,
    "start_time": "2022-02-23T12:49:35.478Z"
   },
   {
    "duration": 23,
    "start_time": "2022-02-23T12:49:35.557Z"
   },
   {
    "duration": 77,
    "start_time": "2022-02-23T12:49:35.583Z"
   },
   {
    "duration": 517,
    "start_time": "2022-02-23T12:49:35.663Z"
   },
   {
    "duration": 1677,
    "start_time": "2022-02-23T12:49:36.183Z"
   },
   {
    "duration": 21,
    "start_time": "2022-02-23T12:49:37.863Z"
   },
   {
    "duration": 20,
    "start_time": "2022-02-23T12:49:37.887Z"
   },
   {
    "duration": 58,
    "start_time": "2022-02-23T12:49:37.909Z"
   },
   {
    "duration": 360,
    "start_time": "2022-02-23T12:49:37.969Z"
   },
   {
    "duration": 421,
    "start_time": "2022-02-23T12:49:38.332Z"
   },
   {
    "duration": 121,
    "start_time": "2022-02-23T12:49:38.756Z"
   },
   {
    "duration": 23,
    "start_time": "2022-02-23T12:49:38.880Z"
   },
   {
    "duration": 579,
    "start_time": "2022-02-23T12:49:38.906Z"
   },
   {
    "duration": 864,
    "start_time": "2022-02-23T12:49:39.488Z"
   },
   {
    "duration": 24,
    "start_time": "2022-02-23T12:49:40.354Z"
   },
   {
    "duration": 21,
    "start_time": "2022-02-23T12:49:40.380Z"
   },
   {
    "duration": 6,
    "start_time": "2022-02-23T12:49:40.403Z"
   },
   {
    "duration": 498,
    "start_time": "2022-02-23T12:49:40.412Z"
   },
   {
    "duration": 1740,
    "start_time": "2022-02-23T12:49:40.913Z"
   },
   {
    "duration": 10,
    "start_time": "2022-02-23T12:49:42.656Z"
   },
   {
    "duration": 85,
    "start_time": "2022-02-23T12:49:42.669Z"
   },
   {
    "duration": 22,
    "start_time": "2022-02-23T12:49:42.757Z"
   },
   {
    "duration": 6,
    "start_time": "2022-02-23T12:50:21.552Z"
   },
   {
    "duration": 28,
    "start_time": "2022-02-23T12:50:22.381Z"
   },
   {
    "duration": 5,
    "start_time": "2022-02-23T12:55:30.996Z"
   },
   {
    "duration": 1397,
    "start_time": "2022-02-23T12:55:31.004Z"
   },
   {
    "duration": 284,
    "start_time": "2022-02-23T12:55:32.404Z"
   },
   {
    "duration": 22,
    "start_time": "2022-02-23T12:55:32.692Z"
   },
   {
    "duration": 206,
    "start_time": "2022-02-23T12:55:32.717Z"
   },
   {
    "duration": 5,
    "start_time": "2022-02-23T12:55:32.926Z"
   },
   {
    "duration": 8,
    "start_time": "2022-02-23T12:55:32.948Z"
   },
   {
    "duration": 8,
    "start_time": "2022-02-23T12:55:32.960Z"
   },
   {
    "duration": 236,
    "start_time": "2022-02-23T12:55:32.971Z"
   },
   {
    "duration": 403,
    "start_time": "2022-02-23T12:55:33.210Z"
   },
   {
    "duration": 753,
    "start_time": "2022-02-23T12:55:33.616Z"
   },
   {
    "duration": 1510,
    "start_time": "2022-02-23T12:55:34.372Z"
   },
   {
    "duration": 329,
    "start_time": "2022-02-23T12:55:35.885Z"
   },
   {
    "duration": 32,
    "start_time": "2022-02-23T12:55:36.217Z"
   },
   {
    "duration": 3,
    "start_time": "2022-02-23T12:55:36.252Z"
   },
   {
    "duration": 14,
    "start_time": "2022-02-23T12:55:36.258Z"
   },
   {
    "duration": 21,
    "start_time": "2022-02-23T12:55:36.274Z"
   },
   {
    "duration": 2593,
    "start_time": "2022-02-23T12:55:36.298Z"
   },
   {
    "duration": 51,
    "start_time": "2022-02-23T12:55:38.897Z"
   },
   {
    "duration": 15,
    "start_time": "2022-02-23T12:55:38.953Z"
   },
   {
    "duration": 27,
    "start_time": "2022-02-23T12:55:38.971Z"
   },
   {
    "duration": 81,
    "start_time": "2022-02-23T12:55:39.001Z"
   },
   {
    "duration": 21,
    "start_time": "2022-02-23T12:55:39.085Z"
   },
   {
    "duration": 77,
    "start_time": "2022-02-23T12:55:39.109Z"
   },
   {
    "duration": 544,
    "start_time": "2022-02-23T12:55:39.189Z"
   },
   {
    "duration": 1768,
    "start_time": "2022-02-23T12:55:39.735Z"
   },
   {
    "duration": 49,
    "start_time": "2022-02-23T12:55:41.506Z"
   },
   {
    "duration": 19,
    "start_time": "2022-02-23T12:55:41.558Z"
   },
   {
    "duration": 21,
    "start_time": "2022-02-23T12:55:41.580Z"
   },
   {
    "duration": 473,
    "start_time": "2022-02-23T12:55:41.604Z"
   },
   {
    "duration": 441,
    "start_time": "2022-02-23T12:55:42.080Z"
   },
   {
    "duration": 116,
    "start_time": "2022-02-23T12:55:42.525Z"
   },
   {
    "duration": 27,
    "start_time": "2022-02-23T12:55:42.644Z"
   },
   {
    "duration": 612,
    "start_time": "2022-02-23T12:55:42.674Z"
   },
   {
    "duration": 1114,
    "start_time": "2022-02-23T12:55:43.289Z"
   },
   {
    "duration": 23,
    "start_time": "2022-02-23T12:55:44.406Z"
   },
   {
    "duration": 32,
    "start_time": "2022-02-23T12:55:44.432Z"
   },
   {
    "duration": 6,
    "start_time": "2022-02-23T12:55:44.467Z"
   },
   {
    "duration": 509,
    "start_time": "2022-02-23T12:55:44.476Z"
   },
   {
    "duration": 1523,
    "start_time": "2022-02-23T12:55:44.988Z"
   },
   {
    "duration": 12,
    "start_time": "2022-02-23T12:55:46.514Z"
   },
   {
    "duration": 51,
    "start_time": "2022-02-23T12:55:46.529Z"
   },
   {
    "duration": 24,
    "start_time": "2022-02-23T12:55:46.583Z"
   },
   {
    "duration": 336,
    "start_time": "2022-02-23T12:56:03.666Z"
   },
   {
    "duration": 57,
    "start_time": "2022-02-23T12:59:25.540Z"
   },
   {
    "duration": 12,
    "start_time": "2022-02-23T12:59:42.855Z"
   },
   {
    "duration": 5,
    "start_time": "2022-02-23T13:00:20.417Z"
   },
   {
    "duration": 1573,
    "start_time": "2022-02-23T13:00:20.425Z"
   },
   {
    "duration": 196,
    "start_time": "2022-02-23T13:00:22.001Z"
   },
   {
    "duration": 27,
    "start_time": "2022-02-23T13:00:22.200Z"
   },
   {
    "duration": 200,
    "start_time": "2022-02-23T13:00:22.230Z"
   },
   {
    "duration": 6,
    "start_time": "2022-02-23T13:00:22.433Z"
   },
   {
    "duration": 32,
    "start_time": "2022-02-23T13:00:22.449Z"
   },
   {
    "duration": 6,
    "start_time": "2022-02-23T13:00:22.488Z"
   },
   {
    "duration": 216,
    "start_time": "2022-02-23T13:00:22.497Z"
   },
   {
    "duration": 420,
    "start_time": "2022-02-23T13:00:22.716Z"
   },
   {
    "duration": 684,
    "start_time": "2022-02-23T13:00:23.139Z"
   },
   {
    "duration": 1453,
    "start_time": "2022-02-23T13:00:23.826Z"
   },
   {
    "duration": 343,
    "start_time": "2022-02-23T13:00:25.282Z"
   },
   {
    "duration": 27,
    "start_time": "2022-02-23T13:00:25.628Z"
   },
   {
    "duration": 6,
    "start_time": "2022-02-23T13:00:25.658Z"
   },
   {
    "duration": 11,
    "start_time": "2022-02-23T13:00:25.667Z"
   },
   {
    "duration": 20,
    "start_time": "2022-02-23T13:00:25.680Z"
   },
   {
    "duration": 2766,
    "start_time": "2022-02-23T13:00:25.703Z"
   },
   {
    "duration": 41,
    "start_time": "2022-02-23T13:00:28.473Z"
   },
   {
    "duration": 38,
    "start_time": "2022-02-23T13:00:28.517Z"
   },
   {
    "duration": 25,
    "start_time": "2022-02-23T13:00:28.557Z"
   },
   {
    "duration": 78,
    "start_time": "2022-02-23T13:00:28.585Z"
   },
   {
    "duration": 22,
    "start_time": "2022-02-23T13:00:28.668Z"
   },
   {
    "duration": 79,
    "start_time": "2022-02-23T13:00:28.694Z"
   },
   {
    "duration": 532,
    "start_time": "2022-02-23T13:00:28.776Z"
   },
   {
    "duration": 1767,
    "start_time": "2022-02-23T13:00:29.312Z"
   },
   {
    "duration": 22,
    "start_time": "2022-02-23T13:00:31.081Z"
   },
   {
    "duration": 46,
    "start_time": "2022-02-23T13:00:31.106Z"
   },
   {
    "duration": 22,
    "start_time": "2022-02-23T13:00:31.154Z"
   },
   {
    "duration": 362,
    "start_time": "2022-02-23T13:00:31.180Z"
   },
   {
    "duration": 349,
    "start_time": "2022-02-23T13:00:31.549Z"
   },
   {
    "duration": 118,
    "start_time": "2022-02-23T13:00:31.901Z"
   },
   {
    "duration": 41,
    "start_time": "2022-02-23T13:00:32.021Z"
   },
   {
    "duration": 518,
    "start_time": "2022-02-23T13:00:32.065Z"
   },
   {
    "duration": 888,
    "start_time": "2022-02-23T13:00:32.586Z"
   },
   {
    "duration": 23,
    "start_time": "2022-02-23T13:00:33.477Z"
   },
   {
    "duration": 18,
    "start_time": "2022-02-23T13:00:33.503Z"
   },
   {
    "duration": 6,
    "start_time": "2022-02-23T13:00:33.548Z"
   },
   {
    "duration": 467,
    "start_time": "2022-02-23T13:00:33.556Z"
   },
   {
    "duration": 1496,
    "start_time": "2022-02-23T13:00:34.025Z"
   },
   {
    "duration": 25,
    "start_time": "2022-02-23T13:00:35.524Z"
   },
   {
    "duration": 123,
    "start_time": "2022-02-23T13:00:35.552Z"
   },
   {
    "duration": 27,
    "start_time": "2022-02-23T13:00:43.764Z"
   },
   {
    "duration": 295,
    "start_time": "2022-02-23T13:01:17.933Z"
   },
   {
    "duration": 34,
    "start_time": "2022-02-23T13:01:25.648Z"
   },
   {
    "duration": 25,
    "start_time": "2022-02-23T13:01:32.298Z"
   },
   {
    "duration": 23,
    "start_time": "2022-02-23T13:01:32.899Z"
   },
   {
    "duration": 324,
    "start_time": "2022-02-23T13:03:06.423Z"
   },
   {
    "duration": 18,
    "start_time": "2022-02-23T13:03:18.668Z"
   },
   {
    "duration": 279,
    "start_time": "2022-02-23T13:04:16.396Z"
   },
   {
    "duration": 356,
    "start_time": "2022-02-23T13:04:25.352Z"
   },
   {
    "duration": 11,
    "start_time": "2022-02-23T13:07:32.580Z"
   },
   {
    "duration": 33,
    "start_time": "2022-02-23T13:07:33.588Z"
   },
   {
    "duration": 5,
    "start_time": "2022-02-23T13:08:01.017Z"
   },
   {
    "duration": 1039,
    "start_time": "2022-02-23T13:08:01.026Z"
   },
   {
    "duration": 196,
    "start_time": "2022-02-23T13:08:02.069Z"
   },
   {
    "duration": 22,
    "start_time": "2022-02-23T13:08:02.268Z"
   },
   {
    "duration": 213,
    "start_time": "2022-02-23T13:08:02.293Z"
   },
   {
    "duration": 6,
    "start_time": "2022-02-23T13:08:02.509Z"
   },
   {
    "duration": 30,
    "start_time": "2022-02-23T13:08:02.518Z"
   },
   {
    "duration": 8,
    "start_time": "2022-02-23T13:08:02.555Z"
   },
   {
    "duration": 370,
    "start_time": "2022-02-23T13:08:02.567Z"
   },
   {
    "duration": 480,
    "start_time": "2022-02-23T13:08:02.947Z"
   },
   {
    "duration": 678,
    "start_time": "2022-02-23T13:08:03.429Z"
   },
   {
    "duration": 1788,
    "start_time": "2022-02-23T13:08:04.110Z"
   },
   {
    "duration": 547,
    "start_time": "2022-02-23T13:08:05.901Z"
   },
   {
    "duration": 34,
    "start_time": "2022-02-23T13:08:06.452Z"
   },
   {
    "duration": 38,
    "start_time": "2022-02-23T13:08:06.489Z"
   },
   {
    "duration": 9,
    "start_time": "2022-02-23T13:08:06.530Z"
   },
   {
    "duration": 28,
    "start_time": "2022-02-23T13:08:06.541Z"
   },
   {
    "duration": 2601,
    "start_time": "2022-02-23T13:08:06.572Z"
   },
   {
    "duration": 37,
    "start_time": "2022-02-23T13:08:09.176Z"
   },
   {
    "duration": 36,
    "start_time": "2022-02-23T13:08:09.217Z"
   },
   {
    "duration": 25,
    "start_time": "2022-02-23T13:08:09.256Z"
   },
   {
    "duration": 75,
    "start_time": "2022-02-23T13:08:09.284Z"
   },
   {
    "duration": 20,
    "start_time": "2022-02-23T13:08:09.365Z"
   },
   {
    "duration": 85,
    "start_time": "2022-02-23T13:08:09.389Z"
   },
   {
    "duration": 707,
    "start_time": "2022-02-23T13:08:09.477Z"
   },
   {
    "duration": 1828,
    "start_time": "2022-02-23T13:08:10.187Z"
   },
   {
    "duration": 33,
    "start_time": "2022-02-23T13:08:12.018Z"
   },
   {
    "duration": 21,
    "start_time": "2022-02-23T13:08:12.054Z"
   },
   {
    "duration": 22,
    "start_time": "2022-02-23T13:08:12.077Z"
   },
   {
    "duration": 399,
    "start_time": "2022-02-23T13:08:12.102Z"
   },
   {
    "duration": 367,
    "start_time": "2022-02-23T13:08:12.504Z"
   },
   {
    "duration": 129,
    "start_time": "2022-02-23T13:08:12.874Z"
   },
   {
    "duration": 22,
    "start_time": "2022-02-23T13:08:13.006Z"
   },
   {
    "duration": 490,
    "start_time": "2022-02-23T13:08:13.032Z"
   },
   {
    "duration": 1092,
    "start_time": "2022-02-23T13:08:13.525Z"
   },
   {
    "duration": 43,
    "start_time": "2022-02-23T13:08:14.620Z"
   },
   {
    "duration": 25,
    "start_time": "2022-02-23T13:08:14.666Z"
   },
   {
    "duration": 9,
    "start_time": "2022-02-23T13:08:14.694Z"
   },
   {
    "duration": 762,
    "start_time": "2022-02-23T13:08:14.706Z"
   },
   {
    "duration": 1939,
    "start_time": "2022-02-23T13:08:15.471Z"
   },
   {
    "duration": 11,
    "start_time": "2022-02-23T13:08:17.413Z"
   },
   {
    "duration": 106,
    "start_time": "2022-02-23T13:08:17.426Z"
   },
   {
    "duration": 33,
    "start_time": "2022-02-23T13:08:17.535Z"
   },
   {
    "duration": 23,
    "start_time": "2022-02-23T13:08:17.570Z"
   },
   {
    "duration": 11,
    "start_time": "2022-02-23T13:08:17.596Z"
   },
   {
    "duration": 61,
    "start_time": "2022-02-23T13:08:17.610Z"
   },
   {
    "duration": 130,
    "start_time": "2022-02-23T13:09:00.312Z"
   },
   {
    "duration": 6,
    "start_time": "2022-02-23T13:09:30.074Z"
   },
   {
    "duration": 982,
    "start_time": "2022-02-23T13:09:30.083Z"
   },
   {
    "duration": 191,
    "start_time": "2022-02-23T13:09:31.069Z"
   },
   {
    "duration": 23,
    "start_time": "2022-02-23T13:09:31.264Z"
   },
   {
    "duration": 206,
    "start_time": "2022-02-23T13:09:31.290Z"
   },
   {
    "duration": 5,
    "start_time": "2022-02-23T13:09:31.498Z"
   },
   {
    "duration": 19,
    "start_time": "2022-02-23T13:09:31.505Z"
   },
   {
    "duration": 21,
    "start_time": "2022-02-23T13:09:31.528Z"
   },
   {
    "duration": 223,
    "start_time": "2022-02-23T13:09:31.552Z"
   },
   {
    "duration": 391,
    "start_time": "2022-02-23T13:09:31.778Z"
   },
   {
    "duration": 816,
    "start_time": "2022-02-23T13:09:32.172Z"
   },
   {
    "duration": 1530,
    "start_time": "2022-02-23T13:09:32.991Z"
   },
   {
    "duration": 342,
    "start_time": "2022-02-23T13:09:34.525Z"
   },
   {
    "duration": 23,
    "start_time": "2022-02-23T13:09:34.869Z"
   },
   {
    "duration": 15,
    "start_time": "2022-02-23T13:09:34.894Z"
   },
   {
    "duration": 14,
    "start_time": "2022-02-23T13:09:34.911Z"
   },
   {
    "duration": 30,
    "start_time": "2022-02-23T13:09:34.928Z"
   },
   {
    "duration": 2514,
    "start_time": "2022-02-23T13:09:34.961Z"
   },
   {
    "duration": 34,
    "start_time": "2022-02-23T13:09:37.478Z"
   },
   {
    "duration": 35,
    "start_time": "2022-02-23T13:09:37.515Z"
   },
   {
    "duration": 26,
    "start_time": "2022-02-23T13:09:37.553Z"
   },
   {
    "duration": 74,
    "start_time": "2022-02-23T13:09:37.582Z"
   },
   {
    "duration": 20,
    "start_time": "2022-02-23T13:09:37.662Z"
   },
   {
    "duration": 76,
    "start_time": "2022-02-23T13:09:37.685Z"
   },
   {
    "duration": 519,
    "start_time": "2022-02-23T13:09:37.764Z"
   },
   {
    "duration": 1685,
    "start_time": "2022-02-23T13:09:38.286Z"
   },
   {
    "duration": 21,
    "start_time": "2022-02-23T13:09:39.974Z"
   },
   {
    "duration": 18,
    "start_time": "2022-02-23T13:09:39.997Z"
   },
   {
    "duration": 22,
    "start_time": "2022-02-23T13:09:40.049Z"
   },
   {
    "duration": 348,
    "start_time": "2022-02-23T13:09:40.073Z"
   },
   {
    "duration": 357,
    "start_time": "2022-02-23T13:09:40.424Z"
   },
   {
    "duration": 116,
    "start_time": "2022-02-23T13:09:40.784Z"
   },
   {
    "duration": 24,
    "start_time": "2022-02-23T13:09:40.903Z"
   },
   {
    "duration": 488,
    "start_time": "2022-02-23T13:09:40.930Z"
   },
   {
    "duration": 883,
    "start_time": "2022-02-23T13:09:41.421Z"
   },
   {
    "duration": 24,
    "start_time": "2022-02-23T13:09:42.307Z"
   },
   {
    "duration": 28,
    "start_time": "2022-02-23T13:09:42.333Z"
   },
   {
    "duration": 6,
    "start_time": "2022-02-23T13:09:42.363Z"
   },
   {
    "duration": 579,
    "start_time": "2022-02-23T13:09:42.372Z"
   },
   {
    "duration": 1682,
    "start_time": "2022-02-23T13:09:42.953Z"
   },
   {
    "duration": 15,
    "start_time": "2022-02-23T13:09:44.639Z"
   },
   {
    "duration": 110,
    "start_time": "2022-02-23T13:09:44.657Z"
   },
   {
    "duration": 29,
    "start_time": "2022-02-23T13:09:44.770Z"
   },
   {
    "duration": 27,
    "start_time": "2022-02-23T13:09:47.988Z"
   },
   {
    "duration": 53,
    "start_time": "2022-02-23T13:10:22.330Z"
   },
   {
    "duration": 27,
    "start_time": "2022-02-23T13:10:32.591Z"
   },
   {
    "duration": 8,
    "start_time": "2022-02-23T13:11:46.371Z"
   },
   {
    "duration": 7,
    "start_time": "2022-02-23T13:11:47.299Z"
   },
   {
    "duration": 5,
    "start_time": "2022-02-23T13:11:48.175Z"
   },
   {
    "duration": 818,
    "start_time": "2022-02-23T13:12:27.668Z"
   },
   {
    "duration": 22,
    "start_time": "2022-02-23T13:12:35.810Z"
   },
   {
    "duration": 5,
    "start_time": "2022-02-23T13:13:26.465Z"
   },
   {
    "duration": 980,
    "start_time": "2022-02-23T13:13:26.473Z"
   },
   {
    "duration": 187,
    "start_time": "2022-02-23T13:13:27.456Z"
   },
   {
    "duration": 22,
    "start_time": "2022-02-23T13:13:27.645Z"
   },
   {
    "duration": 207,
    "start_time": "2022-02-23T13:13:27.669Z"
   },
   {
    "duration": 5,
    "start_time": "2022-02-23T13:13:27.879Z"
   },
   {
    "duration": 14,
    "start_time": "2022-02-23T13:13:27.887Z"
   },
   {
    "duration": 8,
    "start_time": "2022-02-23T13:13:27.906Z"
   },
   {
    "duration": 243,
    "start_time": "2022-02-23T13:13:27.917Z"
   },
   {
    "duration": 398,
    "start_time": "2022-02-23T13:13:28.162Z"
   },
   {
    "duration": 799,
    "start_time": "2022-02-23T13:13:28.563Z"
   },
   {
    "duration": 1834,
    "start_time": "2022-02-23T13:13:29.365Z"
   },
   {
    "duration": 490,
    "start_time": "2022-02-23T13:13:31.202Z"
   },
   {
    "duration": 32,
    "start_time": "2022-02-23T13:13:31.696Z"
   },
   {
    "duration": 4,
    "start_time": "2022-02-23T13:13:31.748Z"
   },
   {
    "duration": 17,
    "start_time": "2022-02-23T13:13:31.755Z"
   },
   {
    "duration": 39,
    "start_time": "2022-02-23T13:13:31.775Z"
   },
   {
    "duration": 2525,
    "start_time": "2022-02-23T13:13:31.816Z"
   },
   {
    "duration": 33,
    "start_time": "2022-02-23T13:13:34.344Z"
   },
   {
    "duration": 13,
    "start_time": "2022-02-23T13:13:34.379Z"
   },
   {
    "duration": 58,
    "start_time": "2022-02-23T13:13:34.395Z"
   },
   {
    "duration": 48,
    "start_time": "2022-02-23T13:13:34.455Z"
   },
   {
    "duration": 43,
    "start_time": "2022-02-23T13:13:34.511Z"
   },
   {
    "duration": 51,
    "start_time": "2022-02-23T13:13:34.557Z"
   },
   {
    "duration": 645,
    "start_time": "2022-02-23T13:13:34.611Z"
   },
   {
    "duration": 2262,
    "start_time": "2022-02-23T13:13:35.260Z"
   },
   {
    "duration": 34,
    "start_time": "2022-02-23T13:13:37.524Z"
   },
   {
    "duration": 18,
    "start_time": "2022-02-23T13:13:37.560Z"
   },
   {
    "duration": 24,
    "start_time": "2022-02-23T13:13:37.581Z"
   },
   {
    "duration": 398,
    "start_time": "2022-02-23T13:13:37.608Z"
   },
   {
    "duration": 374,
    "start_time": "2022-02-23T13:13:38.009Z"
   },
   {
    "duration": 114,
    "start_time": "2022-02-23T13:13:38.386Z"
   },
   {
    "duration": 22,
    "start_time": "2022-02-23T13:13:38.503Z"
   },
   {
    "duration": 471,
    "start_time": "2022-02-23T13:13:38.528Z"
   },
   {
    "duration": 848,
    "start_time": "2022-02-23T13:13:39.002Z"
   },
   {
    "duration": 22,
    "start_time": "2022-02-23T13:13:39.853Z"
   },
   {
    "duration": 18,
    "start_time": "2022-02-23T13:13:39.878Z"
   },
   {
    "duration": 5,
    "start_time": "2022-02-23T13:13:39.898Z"
   },
   {
    "duration": 493,
    "start_time": "2022-02-23T13:13:39.906Z"
   },
   {
    "duration": 1626,
    "start_time": "2022-02-23T13:13:40.401Z"
   },
   {
    "duration": 18,
    "start_time": "2022-02-23T13:13:42.030Z"
   },
   {
    "duration": 99,
    "start_time": "2022-02-23T13:13:42.051Z"
   },
   {
    "duration": 31,
    "start_time": "2022-02-23T13:13:42.152Z"
   },
   {
    "duration": 26,
    "start_time": "2022-02-23T13:13:42.186Z"
   },
   {
    "duration": 51,
    "start_time": "2022-02-23T13:13:42.214Z"
   },
   {
    "duration": 22,
    "start_time": "2022-02-23T13:13:42.268Z"
   },
   {
    "duration": 8,
    "start_time": "2022-02-23T13:13:42.293Z"
   },
   {
    "duration": 9,
    "start_time": "2022-02-23T13:13:42.304Z"
   },
   {
    "duration": 6,
    "start_time": "2022-02-23T13:13:42.316Z"
   },
   {
    "duration": 811,
    "start_time": "2022-02-23T13:13:45.766Z"
   },
   {
    "duration": 25,
    "start_time": "2022-02-23T13:13:47.330Z"
   },
   {
    "duration": 6,
    "start_time": "2022-02-23T13:14:25.760Z"
   },
   {
    "duration": 1087,
    "start_time": "2022-02-23T13:14:25.770Z"
   },
   {
    "duration": 365,
    "start_time": "2022-02-23T13:14:26.870Z"
   },
   {
    "duration": 153,
    "start_time": "2022-02-23T13:14:27.238Z"
   },
   {
    "duration": 373,
    "start_time": "2022-02-23T13:14:27.409Z"
   },
   {
    "duration": 5,
    "start_time": "2022-02-23T13:14:27.785Z"
   },
   {
    "duration": 15,
    "start_time": "2022-02-23T13:14:27.792Z"
   },
   {
    "duration": 35,
    "start_time": "2022-02-23T13:14:27.814Z"
   },
   {
    "duration": 209,
    "start_time": "2022-02-23T13:14:27.852Z"
   },
   {
    "duration": 415,
    "start_time": "2022-02-23T13:14:28.063Z"
   },
   {
    "duration": 671,
    "start_time": "2022-02-23T13:14:28.481Z"
   },
   {
    "duration": 1507,
    "start_time": "2022-02-23T13:14:29.155Z"
   },
   {
    "duration": 334,
    "start_time": "2022-02-23T13:14:30.665Z"
   },
   {
    "duration": 24,
    "start_time": "2022-02-23T13:14:31.001Z"
   },
   {
    "duration": 4,
    "start_time": "2022-02-23T13:14:31.048Z"
   },
   {
    "duration": 15,
    "start_time": "2022-02-23T13:14:31.055Z"
   },
   {
    "duration": 24,
    "start_time": "2022-02-23T13:14:31.072Z"
   },
   {
    "duration": 2672,
    "start_time": "2022-02-23T13:14:31.099Z"
   },
   {
    "duration": 35,
    "start_time": "2022-02-23T13:14:33.773Z"
   },
   {
    "duration": 40,
    "start_time": "2022-02-23T13:14:33.811Z"
   },
   {
    "duration": 27,
    "start_time": "2022-02-23T13:14:33.854Z"
   },
   {
    "duration": 80,
    "start_time": "2022-02-23T13:14:33.886Z"
   },
   {
    "duration": 18,
    "start_time": "2022-02-23T13:14:33.973Z"
   },
   {
    "duration": 74,
    "start_time": "2022-02-23T13:14:33.995Z"
   },
   {
    "duration": 496,
    "start_time": "2022-02-23T13:14:34.072Z"
   },
   {
    "duration": 1681,
    "start_time": "2022-02-23T13:14:34.571Z"
   },
   {
    "duration": 22,
    "start_time": "2022-02-23T13:14:36.255Z"
   },
   {
    "duration": 19,
    "start_time": "2022-02-23T13:14:36.280Z"
   },
   {
    "duration": 61,
    "start_time": "2022-02-23T13:14:36.301Z"
   },
   {
    "duration": 337,
    "start_time": "2022-02-23T13:14:36.365Z"
   },
   {
    "duration": 362,
    "start_time": "2022-02-23T13:14:36.705Z"
   },
   {
    "duration": 128,
    "start_time": "2022-02-23T13:14:37.070Z"
   },
   {
    "duration": 23,
    "start_time": "2022-02-23T13:14:37.201Z"
   },
   {
    "duration": 476,
    "start_time": "2022-02-23T13:14:37.226Z"
   },
   {
    "duration": 826,
    "start_time": "2022-02-23T13:14:37.705Z"
   },
   {
    "duration": 28,
    "start_time": "2022-02-23T13:14:38.533Z"
   },
   {
    "duration": 20,
    "start_time": "2022-02-23T13:14:38.564Z"
   },
   {
    "duration": 6,
    "start_time": "2022-02-23T13:14:38.586Z"
   },
   {
    "duration": 505,
    "start_time": "2022-02-23T13:14:38.595Z"
   },
   {
    "duration": 1554,
    "start_time": "2022-02-23T13:14:39.103Z"
   },
   {
    "duration": 14,
    "start_time": "2022-02-23T13:14:40.660Z"
   },
   {
    "duration": 114,
    "start_time": "2022-02-23T13:14:40.678Z"
   },
   {
    "duration": 32,
    "start_time": "2022-02-23T13:14:40.795Z"
   },
   {
    "duration": 37,
    "start_time": "2022-02-23T13:14:40.829Z"
   },
   {
    "duration": 41,
    "start_time": "2022-02-23T13:14:40.869Z"
   },
   {
    "duration": 42,
    "start_time": "2022-02-23T13:14:40.913Z"
   },
   {
    "duration": 17,
    "start_time": "2022-02-23T13:14:40.958Z"
   },
   {
    "duration": 16,
    "start_time": "2022-02-23T13:14:40.978Z"
   },
   {
    "duration": 33,
    "start_time": "2022-02-23T13:14:40.998Z"
   },
   {
    "duration": 1384,
    "start_time": "2022-02-23T13:16:01.864Z"
   },
   {
    "duration": 21,
    "start_time": "2022-02-23T13:16:09.674Z"
   },
   {
    "duration": 23,
    "start_time": "2022-02-23T13:16:18.000Z"
   },
   {
    "duration": 30,
    "start_time": "2022-02-23T13:17:14.455Z"
   },
   {
    "duration": 84,
    "start_time": "2022-02-23T13:17:15.557Z"
   },
   {
    "duration": 32,
    "start_time": "2022-02-23T13:17:18.233Z"
   },
   {
    "duration": 7,
    "start_time": "2022-02-23T13:18:00.932Z"
   },
   {
    "duration": 254,
    "start_time": "2022-02-23T13:20:00.610Z"
   },
   {
    "duration": 31,
    "start_time": "2022-02-23T13:20:01.713Z"
   },
   {
    "duration": 113,
    "start_time": "2022-02-23T13:20:52.945Z"
   },
   {
    "duration": 335,
    "start_time": "2022-02-23T13:20:57.365Z"
   },
   {
    "duration": 21,
    "start_time": "2022-02-23T13:21:02.926Z"
   },
   {
    "duration": 19,
    "start_time": "2022-02-23T13:21:11.590Z"
   },
   {
    "duration": 16,
    "start_time": "2022-02-23T13:21:24.264Z"
   },
   {
    "duration": 146,
    "start_time": "2022-02-23T13:26:12.582Z"
   },
   {
    "duration": 31,
    "start_time": "2022-02-23T13:26:14.532Z"
   },
   {
    "duration": 5,
    "start_time": "2022-02-23T13:26:18.135Z"
   },
   {
    "duration": 1478,
    "start_time": "2022-02-23T13:26:18.142Z"
   },
   {
    "duration": 281,
    "start_time": "2022-02-23T13:26:19.625Z"
   },
   {
    "duration": 23,
    "start_time": "2022-02-23T13:26:19.909Z"
   },
   {
    "duration": 193,
    "start_time": "2022-02-23T13:26:19.950Z"
   },
   {
    "duration": 5,
    "start_time": "2022-02-23T13:26:20.149Z"
   },
   {
    "duration": 13,
    "start_time": "2022-02-23T13:26:20.158Z"
   },
   {
    "duration": 15,
    "start_time": "2022-02-23T13:26:20.175Z"
   },
   {
    "duration": 254,
    "start_time": "2022-02-23T13:26:20.196Z"
   },
   {
    "duration": 418,
    "start_time": "2022-02-23T13:26:20.454Z"
   },
   {
    "duration": 811,
    "start_time": "2022-02-23T13:26:20.875Z"
   },
   {
    "duration": 1903,
    "start_time": "2022-02-23T13:26:21.688Z"
   },
   {
    "duration": 360,
    "start_time": "2022-02-23T13:26:23.594Z"
   },
   {
    "duration": 24,
    "start_time": "2022-02-23T13:26:23.957Z"
   },
   {
    "duration": 4,
    "start_time": "2022-02-23T13:26:23.985Z"
   },
   {
    "duration": 8,
    "start_time": "2022-02-23T13:26:23.992Z"
   },
   {
    "duration": 55,
    "start_time": "2022-02-23T13:26:24.002Z"
   },
   {
    "duration": 2591,
    "start_time": "2022-02-23T13:26:24.060Z"
   },
   {
    "duration": 37,
    "start_time": "2022-02-23T13:26:26.655Z"
   },
   {
    "duration": 15,
    "start_time": "2022-02-23T13:26:26.695Z"
   },
   {
    "duration": 63,
    "start_time": "2022-02-23T13:26:26.713Z"
   },
   {
    "duration": 74,
    "start_time": "2022-02-23T13:26:26.779Z"
   },
   {
    "duration": 24,
    "start_time": "2022-02-23T13:26:26.856Z"
   },
   {
    "duration": 78,
    "start_time": "2022-02-23T13:26:26.883Z"
   },
   {
    "duration": 690,
    "start_time": "2022-02-23T13:26:26.964Z"
   },
   {
    "duration": 2385,
    "start_time": "2022-02-23T13:26:27.656Z"
   },
   {
    "duration": 27,
    "start_time": "2022-02-23T13:26:30.049Z"
   },
   {
    "duration": 20,
    "start_time": "2022-02-23T13:26:30.080Z"
   },
   {
    "duration": 54,
    "start_time": "2022-02-23T13:26:30.103Z"
   },
   {
    "duration": 329,
    "start_time": "2022-02-23T13:26:30.159Z"
   },
   {
    "duration": 349,
    "start_time": "2022-02-23T13:26:30.491Z"
   },
   {
    "duration": 110,
    "start_time": "2022-02-23T13:26:30.843Z"
   },
   {
    "duration": 22,
    "start_time": "2022-02-23T13:26:30.955Z"
   },
   {
    "duration": 418,
    "start_time": "2022-02-23T13:26:30.979Z"
   },
   {
    "duration": 823,
    "start_time": "2022-02-23T13:26:31.399Z"
   },
   {
    "duration": 36,
    "start_time": "2022-02-23T13:26:32.224Z"
   },
   {
    "duration": 23,
    "start_time": "2022-02-23T13:26:32.262Z"
   },
   {
    "duration": 6,
    "start_time": "2022-02-23T13:26:32.288Z"
   },
   {
    "duration": 970,
    "start_time": "2022-02-23T13:26:32.297Z"
   },
   {
    "duration": 1683,
    "start_time": "2022-02-23T13:26:33.281Z"
   },
   {
    "duration": 14,
    "start_time": "2022-02-23T13:26:34.966Z"
   },
   {
    "duration": 114,
    "start_time": "2022-02-23T13:26:34.983Z"
   },
   {
    "duration": 29,
    "start_time": "2022-02-23T13:26:35.100Z"
   },
   {
    "duration": 38,
    "start_time": "2022-02-23T13:26:35.132Z"
   },
   {
    "duration": 52,
    "start_time": "2022-02-23T13:26:35.172Z"
   },
   {
    "duration": 40,
    "start_time": "2022-02-23T13:26:35.226Z"
   },
   {
    "duration": 9,
    "start_time": "2022-02-23T13:26:35.269Z"
   },
   {
    "duration": 8,
    "start_time": "2022-02-23T13:26:35.281Z"
   },
   {
    "duration": 8,
    "start_time": "2022-02-23T13:26:35.292Z"
   },
   {
    "duration": 1957,
    "start_time": "2022-02-23T13:26:35.302Z"
   },
   {
    "duration": 34,
    "start_time": "2022-02-23T13:26:37.263Z"
   },
   {
    "duration": 50,
    "start_time": "2022-02-23T13:26:37.300Z"
   },
   {
    "duration": 30,
    "start_time": "2022-02-23T13:26:37.353Z"
   },
   {
    "duration": 104,
    "start_time": "2022-02-23T13:26:37.386Z"
   },
   {
    "duration": 28,
    "start_time": "2022-02-23T13:26:37.493Z"
   },
   {
    "duration": 31,
    "start_time": "2022-02-23T13:26:37.524Z"
   },
   {
    "duration": 116,
    "start_time": "2022-02-23T13:26:37.558Z"
   },
   {
    "duration": 30,
    "start_time": "2022-02-23T13:26:46.052Z"
   },
   {
    "duration": 19,
    "start_time": "2022-02-23T13:27:02.882Z"
   },
   {
    "duration": 26,
    "start_time": "2022-02-23T13:29:40.285Z"
   },
   {
    "duration": 275,
    "start_time": "2022-02-23T14:53:40.408Z"
   },
   {
    "duration": 196,
    "start_time": "2022-02-23T14:56:00.613Z"
   },
   {
    "duration": 8,
    "start_time": "2022-02-23T14:58:05.751Z"
   },
   {
    "duration": 5,
    "start_time": "2022-02-23T14:58:17.662Z"
   },
   {
    "duration": 6,
    "start_time": "2022-02-23T14:58:18.044Z"
   },
   {
    "duration": 6,
    "start_time": "2022-02-23T14:58:18.445Z"
   },
   {
    "duration": 6,
    "start_time": "2022-02-23T14:58:21.433Z"
   },
   {
    "duration": 7,
    "start_time": "2022-02-23T14:58:21.758Z"
   },
   {
    "duration": 5,
    "start_time": "2022-02-23T15:09:34.436Z"
   },
   {
    "duration": 583,
    "start_time": "2022-02-23T15:09:59.551Z"
   },
   {
    "duration": 5,
    "start_time": "2022-02-23T15:11:53.768Z"
   },
   {
    "duration": 7,
    "start_time": "2022-02-23T15:11:55.356Z"
   },
   {
    "duration": 5,
    "start_time": "2022-02-23T15:12:44.755Z"
   },
   {
    "duration": 3091,
    "start_time": "2022-02-23T15:12:45.966Z"
   },
   {
    "duration": 519,
    "start_time": "2022-02-23T15:18:10.952Z"
   },
   {
    "duration": 685,
    "start_time": "2022-02-23T15:18:21.451Z"
   },
   {
    "duration": 5,
    "start_time": "2022-02-23T15:18:57.866Z"
   },
   {
    "duration": 1017,
    "start_time": "2022-02-23T15:19:15.430Z"
   },
   {
    "duration": 319,
    "start_time": "2022-02-23T15:19:27.536Z"
   },
   {
    "duration": 3121,
    "start_time": "2022-02-23T15:20:06.035Z"
   },
   {
    "duration": 5,
    "start_time": "2022-02-23T15:22:27.863Z"
   },
   {
    "duration": 310,
    "start_time": "2022-02-23T15:22:28.539Z"
   },
   {
    "duration": 720,
    "start_time": "2022-02-23T15:22:29.786Z"
   },
   {
    "duration": 384,
    "start_time": "2022-02-23T15:22:57.239Z"
   },
   {
    "duration": 5,
    "start_time": "2022-02-23T15:23:02.996Z"
   },
   {
    "duration": 5,
    "start_time": "2022-02-23T15:23:12.002Z"
   },
   {
    "duration": 355,
    "start_time": "2022-02-23T15:23:12.497Z"
   },
   {
    "duration": 3012,
    "start_time": "2022-02-23T15:23:12.950Z"
   },
   {
    "duration": 5,
    "start_time": "2022-02-23T15:25:00.144Z"
   },
   {
    "duration": 3010,
    "start_time": "2022-02-23T15:25:03.441Z"
   },
   {
    "duration": 5,
    "start_time": "2022-02-23T15:25:35.618Z"
   },
   {
    "duration": 4031,
    "start_time": "2022-02-23T15:25:37.245Z"
   },
   {
    "duration": 69,
    "start_time": "2022-02-23T15:25:41.280Z"
   },
   {
    "duration": 5,
    "start_time": "2022-02-23T15:25:48.940Z"
   },
   {
    "duration": 3133,
    "start_time": "2022-02-23T15:25:51.216Z"
   },
   {
    "duration": 99,
    "start_time": "2022-02-23T15:28:30.710Z"
   },
   {
    "duration": 5,
    "start_time": "2022-02-23T15:28:40.171Z"
   },
   {
    "duration": 3270,
    "start_time": "2022-02-23T15:28:42.140Z"
   },
   {
    "duration": 5,
    "start_time": "2022-02-23T15:28:55.729Z"
   },
   {
    "duration": 2865,
    "start_time": "2022-02-23T15:28:56.888Z"
   },
   {
    "duration": 5,
    "start_time": "2022-02-23T15:29:53.120Z"
   },
   {
    "duration": 3717,
    "start_time": "2022-02-23T15:29:54.781Z"
   },
   {
    "duration": 5,
    "start_time": "2022-02-23T15:30:06.075Z"
   },
   {
    "duration": 2769,
    "start_time": "2022-02-23T15:30:07.787Z"
   },
   {
    "duration": 4,
    "start_time": "2022-02-23T15:31:03.980Z"
   },
   {
    "duration": 5695,
    "start_time": "2022-02-23T15:31:10.654Z"
   },
   {
    "duration": 5,
    "start_time": "2022-02-23T15:32:05.961Z"
   },
   {
    "duration": 5382,
    "start_time": "2022-02-23T15:32:07.078Z"
   },
   {
    "duration": 4,
    "start_time": "2022-02-23T15:32:21.279Z"
   },
   {
    "duration": 4026,
    "start_time": "2022-02-23T15:32:21.925Z"
   },
   {
    "duration": 5,
    "start_time": "2022-02-23T15:32:32.473Z"
   },
   {
    "duration": 5449,
    "start_time": "2022-02-23T15:32:33.802Z"
   },
   {
    "duration": 5,
    "start_time": "2022-02-23T15:33:52.817Z"
   },
   {
    "duration": 5,
    "start_time": "2022-02-23T15:34:04.548Z"
   },
   {
    "duration": 1594,
    "start_time": "2022-02-23T15:34:05.458Z"
   },
   {
    "duration": 5,
    "start_time": "2022-02-23T15:34:12.582Z"
   },
   {
    "duration": 1622,
    "start_time": "2022-02-23T15:34:12.929Z"
   },
   {
    "duration": 5,
    "start_time": "2022-02-23T15:34:18.096Z"
   },
   {
    "duration": 1512,
    "start_time": "2022-02-23T15:34:19.242Z"
   },
   {
    "duration": 5,
    "start_time": "2022-02-23T15:35:08.482Z"
   },
   {
    "duration": 1658,
    "start_time": "2022-02-23T15:35:09.089Z"
   },
   {
    "duration": 6,
    "start_time": "2022-02-23T15:35:16.918Z"
   },
   {
    "duration": 1648,
    "start_time": "2022-02-23T15:35:17.401Z"
   },
   {
    "duration": 4,
    "start_time": "2022-02-23T15:35:33.043Z"
   },
   {
    "duration": 1523,
    "start_time": "2022-02-23T15:35:33.435Z"
   },
   {
    "duration": 6,
    "start_time": "2022-02-23T15:37:52.323Z"
   },
   {
    "duration": 5,
    "start_time": "2022-02-23T15:37:55.458Z"
   },
   {
    "duration": 1517,
    "start_time": "2022-02-23T15:37:55.934Z"
   },
   {
    "duration": 4,
    "start_time": "2022-02-23T15:39:33.980Z"
   },
   {
    "duration": 1495,
    "start_time": "2022-02-23T15:39:34.358Z"
   },
   {
    "duration": 7,
    "start_time": "2022-02-23T15:39:42.757Z"
   },
   {
    "duration": 34925,
    "start_time": "2022-02-23T15:39:51.516Z"
   },
   {
    "duration": 6,
    "start_time": "2022-02-23T15:42:56.640Z"
   },
   {
    "duration": 6420,
    "start_time": "2022-02-23T15:43:01.693Z"
   },
   {
    "duration": 6,
    "start_time": "2022-02-23T15:43:30.051Z"
   },
   {
    "duration": 20368,
    "start_time": "2022-02-23T15:43:31.169Z"
   },
   {
    "duration": 6,
    "start_time": "2022-02-23T15:43:52.951Z"
   },
   {
    "duration": 1162171,
    "start_time": "2022-02-23T15:43:53.908Z"
   },
   {
    "duration": 6,
    "start_time": "2022-02-23T16:04:42.482Z"
   },
   {
    "duration": 842917,
    "start_time": "2022-02-23T16:04:43.271Z"
   },
   {
    "duration": 92,
    "start_time": "2022-02-23T16:20:33.624Z"
   },
   {
    "duration": 5,
    "start_time": "2022-02-23T16:20:37.277Z"
   },
   {
    "duration": 844,
    "start_time": "2022-02-23T16:20:38.848Z"
   },
   {
    "duration": 5,
    "start_time": "2022-02-23T16:21:15.933Z"
   },
   {
    "duration": 3813,
    "start_time": "2022-02-23T16:21:16.627Z"
   },
   {
    "duration": 5,
    "start_time": "2022-02-23T16:22:07.415Z"
   },
   {
    "duration": 2746,
    "start_time": "2022-02-23T16:22:08.018Z"
   },
   {
    "duration": 5,
    "start_time": "2022-02-23T16:22:22.956Z"
   },
   {
    "duration": 2730,
    "start_time": "2022-02-23T16:22:23.332Z"
   },
   {
    "duration": 4,
    "start_time": "2022-02-23T16:22:45.056Z"
   },
   {
    "duration": 2772,
    "start_time": "2022-02-23T16:22:45.678Z"
   },
   {
    "duration": 8,
    "start_time": "2022-02-23T16:23:14.810Z"
   },
   {
    "duration": 650,
    "start_time": "2022-02-23T16:23:15.346Z"
   },
   {
    "duration": 4,
    "start_time": "2022-02-23T16:26:03.880Z"
   },
   {
    "duration": 6,
    "start_time": "2022-02-23T16:26:04.873Z"
   },
   {
    "duration": 3027,
    "start_time": "2022-02-23T16:26:07.123Z"
   },
   {
    "duration": 5,
    "start_time": "2022-02-23T16:26:31.436Z"
   },
   {
    "duration": 3018,
    "start_time": "2022-02-23T16:26:32.231Z"
   },
   {
    "duration": 7,
    "start_time": "2022-02-23T16:26:50.904Z"
   },
   {
    "duration": 2873,
    "start_time": "2022-02-23T16:26:51.478Z"
   },
   {
    "duration": 209,
    "start_time": "2022-02-23T16:27:47.765Z"
   },
   {
    "duration": 5,
    "start_time": "2022-02-23T16:27:51.520Z"
   },
   {
    "duration": 5,
    "start_time": "2022-02-23T16:27:57.964Z"
   },
   {
    "duration": 5,
    "start_time": "2022-02-23T16:27:58.408Z"
   },
   {
    "duration": 2942,
    "start_time": "2022-02-23T16:27:59.307Z"
   },
   {
    "duration": 8,
    "start_time": "2022-02-23T16:28:46.210Z"
   },
   {
    "duration": 72774,
    "start_time": "2022-02-23T16:28:48.017Z"
   },
   {
    "duration": 6,
    "start_time": "2022-02-23T16:32:01.883Z"
   },
   {
    "duration": 118115,
    "start_time": "2022-02-23T16:32:03.054Z"
   },
   {
    "duration": 7,
    "start_time": "2022-02-23T16:34:27.561Z"
   },
   {
    "duration": 35163,
    "start_time": "2022-02-23T16:34:28.407Z"
   },
   {
    "duration": 5,
    "start_time": "2022-02-23T16:35:28.130Z"
   },
   {
    "duration": 5579,
    "start_time": "2022-02-23T16:35:39.288Z"
   },
   {
    "duration": 29,
    "start_time": "2022-02-23T16:35:51.346Z"
   },
   {
    "duration": 106442,
    "start_time": "2022-02-23T16:35:52.892Z"
   },
   {
    "duration": 105,
    "start_time": "2022-02-23T16:38:02.999Z"
   },
   {
    "duration": 139,
    "start_time": "2022-02-23T16:38:52.792Z"
   },
   {
    "duration": 135,
    "start_time": "2022-02-23T16:38:52.797Z"
   },
   {
    "duration": 6,
    "start_time": "2022-02-23T16:39:33.959Z"
   },
   {
    "duration": 174642,
    "start_time": "2022-02-23T16:39:34.673Z"
   },
   {
    "duration": 10,
    "start_time": "2022-02-23T16:42:44.916Z"
   },
   {
    "duration": 111188,
    "start_time": "2022-02-23T16:42:46.057Z"
   },
   {
    "duration": 2513,
    "start_time": "2022-02-23T16:44:51.618Z"
   },
   {
    "duration": 1673,
    "start_time": "2022-02-23T16:44:54.134Z"
   },
   {
    "duration": 211,
    "start_time": "2022-02-23T16:44:55.811Z"
   },
   {
    "duration": 40,
    "start_time": "2022-02-23T16:44:56.026Z"
   },
   {
    "duration": 207,
    "start_time": "2022-02-23T16:44:56.069Z"
   },
   {
    "duration": 6,
    "start_time": "2022-02-23T16:44:56.279Z"
   },
   {
    "duration": 10,
    "start_time": "2022-02-23T16:44:56.287Z"
   },
   {
    "duration": 13,
    "start_time": "2022-02-23T16:44:56.303Z"
   },
   {
    "duration": 970,
    "start_time": "2022-02-23T16:44:56.319Z"
   },
   {
    "duration": 439,
    "start_time": "2022-02-23T16:44:57.292Z"
   },
   {
    "duration": 741,
    "start_time": "2022-02-23T16:44:57.733Z"
   },
   {
    "duration": 1783,
    "start_time": "2022-02-23T16:44:58.477Z"
   },
   {
    "duration": 351,
    "start_time": "2022-02-23T16:45:00.262Z"
   },
   {
    "duration": 35,
    "start_time": "2022-02-23T16:45:00.615Z"
   },
   {
    "duration": 28,
    "start_time": "2022-02-23T16:45:00.653Z"
   },
   {
    "duration": 32,
    "start_time": "2022-02-23T16:45:00.684Z"
   },
   {
    "duration": 54,
    "start_time": "2022-02-23T16:45:00.719Z"
   },
   {
    "duration": 2862,
    "start_time": "2022-02-23T16:45:00.776Z"
   },
   {
    "duration": 41,
    "start_time": "2022-02-23T16:45:03.649Z"
   },
   {
    "duration": 15,
    "start_time": "2022-02-23T16:45:03.693Z"
   },
   {
    "duration": 59,
    "start_time": "2022-02-23T16:45:03.712Z"
   },
   {
    "duration": 76,
    "start_time": "2022-02-23T16:45:03.774Z"
   },
   {
    "duration": 22,
    "start_time": "2022-02-23T16:45:03.859Z"
   },
   {
    "duration": 88,
    "start_time": "2022-02-23T16:45:03.884Z"
   },
   {
    "duration": 496,
    "start_time": "2022-02-23T16:45:03.974Z"
   },
   {
    "duration": 1695,
    "start_time": "2022-02-23T16:45:04.473Z"
   },
   {
    "duration": 25,
    "start_time": "2022-02-23T16:45:06.171Z"
   },
   {
    "duration": 50,
    "start_time": "2022-02-23T16:45:06.199Z"
   },
   {
    "duration": 23,
    "start_time": "2022-02-23T16:45:06.252Z"
   },
   {
    "duration": 357,
    "start_time": "2022-02-23T16:45:06.278Z"
   },
   {
    "duration": 334,
    "start_time": "2022-02-23T16:45:06.637Z"
   },
   {
    "duration": 137,
    "start_time": "2022-02-23T16:45:06.974Z"
   },
   {
    "duration": 39,
    "start_time": "2022-02-23T16:45:07.113Z"
   },
   {
    "duration": 457,
    "start_time": "2022-02-23T16:45:07.155Z"
   },
   {
    "duration": 846,
    "start_time": "2022-02-23T16:45:07.615Z"
   },
   {
    "duration": 30,
    "start_time": "2022-02-23T16:45:08.465Z"
   },
   {
    "duration": 25,
    "start_time": "2022-02-23T16:45:08.498Z"
   },
   {
    "duration": 6,
    "start_time": "2022-02-23T16:45:08.551Z"
   },
   {
    "duration": 498,
    "start_time": "2022-02-23T16:45:08.560Z"
   },
   {
    "duration": 1579,
    "start_time": "2022-02-23T16:45:09.061Z"
   },
   {
    "duration": 16,
    "start_time": "2022-02-23T16:45:10.643Z"
   },
   {
    "duration": 133,
    "start_time": "2022-02-23T16:45:10.662Z"
   },
   {
    "duration": 58,
    "start_time": "2022-02-23T16:45:10.799Z"
   },
   {
    "duration": 64,
    "start_time": "2022-02-23T16:45:10.861Z"
   },
   {
    "duration": 26,
    "start_time": "2022-02-23T16:45:10.929Z"
   },
   {
    "duration": 19,
    "start_time": "2022-02-23T16:45:10.958Z"
   },
   {
    "duration": 9,
    "start_time": "2022-02-23T16:45:10.979Z"
   },
   {
    "duration": 1322,
    "start_time": "2022-02-23T16:45:10.991Z"
   },
   {
    "duration": 33,
    "start_time": "2022-02-23T16:45:12.315Z"
   },
   {
    "duration": 70,
    "start_time": "2022-02-23T16:45:12.351Z"
   },
   {
    "duration": 89,
    "start_time": "2022-02-23T16:45:12.424Z"
   },
   {
    "duration": 123,
    "start_time": "2022-02-23T16:45:12.516Z"
   },
   {
    "duration": 30,
    "start_time": "2022-02-23T16:45:12.642Z"
   },
   {
    "duration": 8,
    "start_time": "2022-02-23T16:45:12.675Z"
   },
   {
    "duration": 37,
    "start_time": "2022-02-23T16:45:12.686Z"
   },
   {
    "duration": 3137,
    "start_time": "2022-02-23T16:45:12.725Z"
   },
   {
    "duration": 8,
    "start_time": "2022-02-23T16:45:15.955Z"
   },
   {
    "duration": 3515,
    "start_time": "2022-02-23T16:45:16.049Z"
   },
   {
    "duration": 10,
    "start_time": "2022-02-23T16:45:19.568Z"
   },
   {
    "duration": 1015,
    "start_time": "2022-02-23T16:45:19.581Z"
   },
   {
    "duration": 127,
    "start_time": "2022-02-23T16:45:20.472Z"
   },
   {
    "duration": 125,
    "start_time": "2022-02-23T16:45:20.475Z"
   },
   {
    "duration": 6,
    "start_time": "2022-02-23T16:46:15.813Z"
   },
   {
    "duration": 6,
    "start_time": "2022-02-23T16:46:20.854Z"
   },
   {
    "duration": 35749,
    "start_time": "2022-02-23T16:46:21.102Z"
   },
   {
    "duration": 7,
    "start_time": "2022-02-23T16:47:11.140Z"
   },
   {
    "duration": 108812,
    "start_time": "2022-02-23T16:47:11.772Z"
   },
   {
    "duration": 7,
    "start_time": "2022-02-23T16:49:25.816Z"
   },
   {
    "duration": 47437,
    "start_time": "2022-02-23T16:49:26.563Z"
   },
   {
    "duration": 7,
    "start_time": "2022-02-23T16:50:57.132Z"
   },
   {
    "duration": 1337024,
    "start_time": "2022-02-23T16:50:57.700Z"
   },
   {
    "duration": 28,
    "start_time": "2022-02-23T17:15:10.601Z"
   },
   {
    "duration": 7,
    "start_time": "2022-02-23T17:15:21.595Z"
   },
   {
    "duration": 1603,
    "start_time": "2022-02-23T17:15:21.606Z"
   },
   {
    "duration": 294,
    "start_time": "2022-02-23T17:15:23.214Z"
   },
   {
    "duration": 39,
    "start_time": "2022-02-23T17:15:23.513Z"
   },
   {
    "duration": 293,
    "start_time": "2022-02-23T17:15:23.556Z"
   },
   {
    "duration": 7,
    "start_time": "2022-02-23T17:15:23.853Z"
   },
   {
    "duration": 10,
    "start_time": "2022-02-23T17:15:23.863Z"
   },
   {
    "duration": 11,
    "start_time": "2022-02-23T17:15:23.876Z"
   },
   {
    "duration": 342,
    "start_time": "2022-02-23T17:15:23.894Z"
   },
   {
    "duration": 591,
    "start_time": "2022-02-23T17:15:24.241Z"
   },
   {
    "duration": 799,
    "start_time": "2022-02-23T17:15:24.835Z"
   },
   {
    "duration": 1663,
    "start_time": "2022-02-23T17:15:25.636Z"
   },
   {
    "duration": 355,
    "start_time": "2022-02-23T17:15:27.302Z"
   },
   {
    "duration": 25,
    "start_time": "2022-02-23T17:15:27.660Z"
   },
   {
    "duration": 12,
    "start_time": "2022-02-23T17:15:27.688Z"
   },
   {
    "duration": 14,
    "start_time": "2022-02-23T17:15:27.703Z"
   },
   {
    "duration": 46,
    "start_time": "2022-02-23T17:15:27.721Z"
   },
   {
    "duration": 2637,
    "start_time": "2022-02-23T17:15:27.770Z"
   },
   {
    "duration": 49,
    "start_time": "2022-02-23T17:15:30.410Z"
   },
   {
    "duration": 14,
    "start_time": "2022-02-23T17:15:30.462Z"
   },
   {
    "duration": 31,
    "start_time": "2022-02-23T17:15:30.478Z"
   },
   {
    "duration": 78,
    "start_time": "2022-02-23T17:15:30.512Z"
   },
   {
    "duration": 24,
    "start_time": "2022-02-23T17:15:30.593Z"
   },
   {
    "duration": 87,
    "start_time": "2022-02-23T17:15:30.620Z"
   },
   {
    "duration": 539,
    "start_time": "2022-02-23T17:15:30.710Z"
   },
   {
    "duration": 1800,
    "start_time": "2022-02-23T17:15:31.252Z"
   },
   {
    "duration": 22,
    "start_time": "2022-02-23T17:15:33.059Z"
   },
   {
    "duration": 25,
    "start_time": "2022-02-23T17:15:33.087Z"
   },
   {
    "duration": 21,
    "start_time": "2022-02-23T17:15:33.150Z"
   },
   {
    "duration": 357,
    "start_time": "2022-02-23T17:15:33.173Z"
   },
   {
    "duration": 363,
    "start_time": "2022-02-23T17:15:33.532Z"
   },
   {
    "duration": 118,
    "start_time": "2022-02-23T17:15:33.897Z"
   },
   {
    "duration": 32,
    "start_time": "2022-02-23T17:15:34.017Z"
   },
   {
    "duration": 454,
    "start_time": "2022-02-23T17:15:34.051Z"
   },
   {
    "duration": 859,
    "start_time": "2022-02-23T17:15:34.508Z"
   },
   {
    "duration": 24,
    "start_time": "2022-02-23T17:15:35.370Z"
   },
   {
    "duration": 19,
    "start_time": "2022-02-23T17:15:35.397Z"
   },
   {
    "duration": 1039,
    "start_time": "2022-02-23T17:15:35.419Z"
   },
   {
    "duration": 51,
    "start_time": "2022-02-23T17:15:36.460Z"
   },
   {
    "duration": 7,
    "start_time": "2022-02-23T17:15:36.515Z"
   },
   {
    "duration": 452,
    "start_time": "2022-02-23T17:15:36.550Z"
   },
   {
    "duration": 1449,
    "start_time": "2022-02-23T17:15:37.005Z"
   },
   {
    "duration": 14,
    "start_time": "2022-02-23T17:15:38.456Z"
   },
   {
    "duration": 120,
    "start_time": "2022-02-23T17:15:38.474Z"
   },
   {
    "duration": 50,
    "start_time": "2022-02-23T17:15:38.598Z"
   },
   {
    "duration": 48,
    "start_time": "2022-02-23T17:15:38.652Z"
   },
   {
    "duration": 13,
    "start_time": "2022-02-23T17:15:38.704Z"
   },
   {
    "duration": 31,
    "start_time": "2022-02-23T17:15:38.720Z"
   },
   {
    "duration": 27,
    "start_time": "2022-02-23T17:15:38.754Z"
   },
   {
    "duration": 1509,
    "start_time": "2022-02-23T17:15:38.784Z"
   },
   {
    "duration": 35,
    "start_time": "2022-02-23T17:15:40.296Z"
   },
   {
    "duration": 37,
    "start_time": "2022-02-23T17:15:40.351Z"
   },
   {
    "duration": 142,
    "start_time": "2022-02-23T17:15:40.392Z"
   },
   {
    "duration": 144,
    "start_time": "2022-02-23T17:15:40.537Z"
   },
   {
    "duration": 30,
    "start_time": "2022-02-23T17:15:40.684Z"
   },
   {
    "duration": 3251,
    "start_time": "2022-02-23T17:15:42.905Z"
   },
   {
    "duration": 2936,
    "start_time": "2022-02-23T17:16:33.870Z"
   },
   {
    "duration": 3492,
    "start_time": "2022-02-23T17:16:47.419Z"
   },
   {
    "duration": 15,
    "start_time": "2022-02-23T17:17:00.134Z"
   },
   {
    "duration": 30,
    "start_time": "2022-02-23T17:17:08.433Z"
   },
   {
    "duration": 4904,
    "start_time": "2022-02-23T17:17:12.341Z"
   },
   {
    "duration": 2591,
    "start_time": "2022-02-23T17:17:19.578Z"
   },
   {
    "duration": 2796,
    "start_time": "2022-02-23T17:17:24.913Z"
   },
   {
    "duration": 1706,
    "start_time": "2022-02-23T17:17:32.176Z"
   },
   {
    "duration": 818,
    "start_time": "2022-02-23T17:17:38.942Z"
   },
   {
    "duration": 19,
    "start_time": "2022-02-23T17:18:26.081Z"
   },
   {
    "duration": 11,
    "start_time": "2022-02-23T17:18:29.110Z"
   },
   {
    "duration": 31,
    "start_time": "2022-02-23T17:18:33.760Z"
   },
   {
    "duration": 26,
    "start_time": "2022-02-23T17:19:32.269Z"
   },
   {
    "duration": 6,
    "start_time": "2022-02-23T17:20:05.375Z"
   },
   {
    "duration": 1093,
    "start_time": "2022-02-23T17:20:05.385Z"
   },
   {
    "duration": 204,
    "start_time": "2022-02-23T17:20:06.482Z"
   },
   {
    "duration": 28,
    "start_time": "2022-02-23T17:20:06.690Z"
   },
   {
    "duration": 226,
    "start_time": "2022-02-23T17:20:06.721Z"
   },
   {
    "duration": 5,
    "start_time": "2022-02-23T17:20:06.950Z"
   },
   {
    "duration": 22,
    "start_time": "2022-02-23T17:20:06.959Z"
   },
   {
    "duration": 36,
    "start_time": "2022-02-23T17:20:06.988Z"
   },
   {
    "duration": 256,
    "start_time": "2022-02-23T17:20:07.029Z"
   },
   {
    "duration": 460,
    "start_time": "2022-02-23T17:20:07.288Z"
   },
   {
    "duration": 676,
    "start_time": "2022-02-23T17:20:07.752Z"
   },
   {
    "duration": 1669,
    "start_time": "2022-02-23T17:20:08.432Z"
   },
   {
    "duration": 354,
    "start_time": "2022-02-23T17:20:10.104Z"
   },
   {
    "duration": 38,
    "start_time": "2022-02-23T17:20:10.461Z"
   },
   {
    "duration": 11,
    "start_time": "2022-02-23T17:20:10.502Z"
   },
   {
    "duration": 33,
    "start_time": "2022-02-23T17:20:10.516Z"
   },
   {
    "duration": 16,
    "start_time": "2022-02-23T17:20:10.552Z"
   },
   {
    "duration": 2908,
    "start_time": "2022-02-23T17:20:10.571Z"
   },
   {
    "duration": 35,
    "start_time": "2022-02-23T17:20:13.482Z"
   },
   {
    "duration": 34,
    "start_time": "2022-02-23T17:20:13.520Z"
   },
   {
    "duration": 33,
    "start_time": "2022-02-23T17:20:13.556Z"
   },
   {
    "duration": 70,
    "start_time": "2022-02-23T17:20:13.591Z"
   },
   {
    "duration": 28,
    "start_time": "2022-02-23T17:20:13.670Z"
   },
   {
    "duration": 77,
    "start_time": "2022-02-23T17:20:13.701Z"
   },
   {
    "duration": 537,
    "start_time": "2022-02-23T17:20:13.781Z"
   },
   {
    "duration": 1952,
    "start_time": "2022-02-23T17:20:14.321Z"
   },
   {
    "duration": 22,
    "start_time": "2022-02-23T17:20:16.275Z"
   },
   {
    "duration": 18,
    "start_time": "2022-02-23T17:20:16.299Z"
   },
   {
    "duration": 49,
    "start_time": "2022-02-23T17:20:16.320Z"
   },
   {
    "duration": 339,
    "start_time": "2022-02-23T17:20:16.372Z"
   },
   {
    "duration": 486,
    "start_time": "2022-02-23T17:20:16.714Z"
   },
   {
    "duration": 115,
    "start_time": "2022-02-23T17:20:17.202Z"
   },
   {
    "duration": 30,
    "start_time": "2022-02-23T17:20:17.320Z"
   },
   {
    "duration": 436,
    "start_time": "2022-02-23T17:20:17.353Z"
   },
   {
    "duration": 942,
    "start_time": "2022-02-23T17:20:17.793Z"
   },
   {
    "duration": 29,
    "start_time": "2022-02-23T17:20:18.739Z"
   },
   {
    "duration": 23,
    "start_time": "2022-02-23T17:20:18.772Z"
   },
   {
    "duration": 863,
    "start_time": "2022-02-23T17:20:18.798Z"
   },
   {
    "duration": 50,
    "start_time": "2022-02-23T17:20:19.664Z"
   },
   {
    "duration": 7,
    "start_time": "2022-02-23T17:20:19.717Z"
   },
   {
    "duration": 706,
    "start_time": "2022-02-23T17:20:19.726Z"
   },
   {
    "duration": 1384,
    "start_time": "2022-02-23T17:20:20.436Z"
   },
   {
    "duration": 27,
    "start_time": "2022-02-23T17:20:21.823Z"
   },
   {
    "duration": 97,
    "start_time": "2022-02-23T17:20:21.852Z"
   },
   {
    "duration": 29,
    "start_time": "2022-02-23T17:20:21.952Z"
   },
   {
    "duration": 69,
    "start_time": "2022-02-23T17:20:21.984Z"
   },
   {
    "duration": 9,
    "start_time": "2022-02-23T17:20:22.056Z"
   },
   {
    "duration": 12,
    "start_time": "2022-02-23T17:20:22.069Z"
   },
   {
    "duration": 22,
    "start_time": "2022-02-23T17:20:22.084Z"
   },
   {
    "duration": 1865,
    "start_time": "2022-02-23T17:20:22.109Z"
   },
   {
    "duration": 24,
    "start_time": "2022-02-23T17:20:23.977Z"
   },
   {
    "duration": 186,
    "start_time": "2022-02-23T17:20:24.003Z"
   },
   {
    "duration": 93,
    "start_time": "2022-02-23T17:20:24.192Z"
   },
   {
    "duration": 126,
    "start_time": "2022-02-23T17:20:24.288Z"
   },
   {
    "duration": 34,
    "start_time": "2022-02-23T17:20:24.416Z"
   },
   {
    "duration": 5,
    "start_time": "2022-02-23T17:20:27.168Z"
   },
   {
    "duration": 4,
    "start_time": "2022-02-23T17:20:28.205Z"
   },
   {
    "duration": 2601,
    "start_time": "2022-02-23T17:20:28.750Z"
   },
   {
    "duration": 44,
    "start_time": "2022-02-23T17:21:25.914Z"
   },
   {
    "duration": 44,
    "start_time": "2022-02-23T17:22:22.418Z"
   },
   {
    "duration": 7,
    "start_time": "2022-02-23T17:22:30.110Z"
   },
   {
    "duration": 6,
    "start_time": "2022-02-23T17:23:06.052Z"
   },
   {
    "duration": 1093,
    "start_time": "2022-02-23T17:23:06.060Z"
   },
   {
    "duration": 204,
    "start_time": "2022-02-23T17:23:07.157Z"
   },
   {
    "duration": 22,
    "start_time": "2022-02-23T17:23:07.364Z"
   },
   {
    "duration": 214,
    "start_time": "2022-02-23T17:23:07.389Z"
   },
   {
    "duration": 5,
    "start_time": "2022-02-23T17:23:07.605Z"
   },
   {
    "duration": 16,
    "start_time": "2022-02-23T17:23:07.612Z"
   },
   {
    "duration": 22,
    "start_time": "2022-02-23T17:23:07.633Z"
   },
   {
    "duration": 333,
    "start_time": "2022-02-23T17:23:07.662Z"
   },
   {
    "duration": 604,
    "start_time": "2022-02-23T17:23:07.999Z"
   },
   {
    "duration": 965,
    "start_time": "2022-02-23T17:23:08.608Z"
   },
   {
    "duration": 1667,
    "start_time": "2022-02-23T17:23:09.577Z"
   },
   {
    "duration": 353,
    "start_time": "2022-02-23T17:23:11.249Z"
   },
   {
    "duration": 22,
    "start_time": "2022-02-23T17:23:11.605Z"
   },
   {
    "duration": 23,
    "start_time": "2022-02-23T17:23:11.629Z"
   },
   {
    "duration": 8,
    "start_time": "2022-02-23T17:23:11.655Z"
   },
   {
    "duration": 27,
    "start_time": "2022-02-23T17:23:11.667Z"
   },
   {
    "duration": 2920,
    "start_time": "2022-02-23T17:23:11.698Z"
   },
   {
    "duration": 50,
    "start_time": "2022-02-23T17:23:14.621Z"
   },
   {
    "duration": 13,
    "start_time": "2022-02-23T17:23:14.675Z"
   },
   {
    "duration": 26,
    "start_time": "2022-02-23T17:23:14.690Z"
   },
   {
    "duration": 47,
    "start_time": "2022-02-23T17:23:14.750Z"
   },
   {
    "duration": 22,
    "start_time": "2022-02-23T17:23:14.799Z"
   },
   {
    "duration": 51,
    "start_time": "2022-02-23T17:23:14.850Z"
   },
   {
    "duration": 598,
    "start_time": "2022-02-23T17:23:14.904Z"
   },
   {
    "duration": 1730,
    "start_time": "2022-02-23T17:23:15.504Z"
   },
   {
    "duration": 27,
    "start_time": "2022-02-23T17:23:17.242Z"
   },
   {
    "duration": 21,
    "start_time": "2022-02-23T17:23:17.273Z"
   },
   {
    "duration": 66,
    "start_time": "2022-02-23T17:23:17.297Z"
   },
   {
    "duration": 356,
    "start_time": "2022-02-23T17:23:17.366Z"
   },
   {
    "duration": 483,
    "start_time": "2022-02-23T17:23:17.726Z"
   },
   {
    "duration": 145,
    "start_time": "2022-02-23T17:23:18.212Z"
   },
   {
    "duration": 29,
    "start_time": "2022-02-23T17:23:18.361Z"
   },
   {
    "duration": 568,
    "start_time": "2022-02-23T17:23:18.394Z"
   },
   {
    "duration": 932,
    "start_time": "2022-02-23T17:23:18.965Z"
   },
   {
    "duration": 27,
    "start_time": "2022-02-23T17:23:19.900Z"
   },
   {
    "duration": 51,
    "start_time": "2022-02-23T17:23:19.949Z"
   },
   {
    "duration": 45,
    "start_time": "2022-02-23T17:23:20.003Z"
   },
   {
    "duration": 908,
    "start_time": "2022-02-23T17:23:20.051Z"
   },
   {
    "duration": 44,
    "start_time": "2022-02-23T17:23:20.961Z"
   },
   {
    "duration": 6,
    "start_time": "2022-02-23T17:23:21.008Z"
   },
   {
    "duration": 444,
    "start_time": "2022-02-23T17:23:21.016Z"
   },
   {
    "duration": 1518,
    "start_time": "2022-02-23T17:23:21.462Z"
   },
   {
    "duration": 13,
    "start_time": "2022-02-23T17:23:22.983Z"
   },
   {
    "duration": 8,
    "start_time": "2022-02-23T17:23:22.999Z"
   },
   {
    "duration": 55,
    "start_time": "2022-02-23T17:23:23.010Z"
   },
   {
    "duration": 30,
    "start_time": "2022-02-23T17:23:23.067Z"
   },
   {
    "duration": 9,
    "start_time": "2022-02-23T17:23:23.100Z"
   },
   {
    "duration": 37,
    "start_time": "2022-02-23T17:23:23.113Z"
   },
   {
    "duration": 5,
    "start_time": "2022-02-23T17:23:23.153Z"
   },
   {
    "duration": 1087,
    "start_time": "2022-02-23T17:23:23.161Z"
   },
   {
    "duration": 23,
    "start_time": "2022-02-23T17:23:24.251Z"
   },
   {
    "duration": 25,
    "start_time": "2022-02-23T17:23:24.276Z"
   },
   {
    "duration": 93,
    "start_time": "2022-02-23T17:23:24.304Z"
   },
   {
    "duration": 83,
    "start_time": "2022-02-23T17:23:24.399Z"
   },
   {
    "duration": 23,
    "start_time": "2022-02-23T17:23:24.485Z"
   },
   {
    "duration": 4,
    "start_time": "2022-02-23T17:23:29.608Z"
   },
   {
    "duration": 5,
    "start_time": "2022-02-23T17:23:30.267Z"
   },
   {
    "duration": 2468,
    "start_time": "2022-02-23T17:23:30.981Z"
   },
   {
    "duration": 6,
    "start_time": "2022-02-23T17:23:37.940Z"
   },
   {
    "duration": 27209,
    "start_time": "2022-02-23T17:23:47.267Z"
   },
   {
    "duration": 7,
    "start_time": "2022-02-23T17:24:21.690Z"
   },
   {
    "duration": 68306,
    "start_time": "2022-02-23T17:24:23.162Z"
   },
   {
    "duration": 5,
    "start_time": "2022-02-23T17:25:53.425Z"
   },
   {
    "duration": 46880,
    "start_time": "2022-02-23T17:25:53.873Z"
   },
   {
    "duration": 7,
    "start_time": "2022-02-23T17:27:12.624Z"
   },
   {
    "duration": 44388,
    "start_time": "2022-02-23T17:27:13.229Z"
   },
   {
    "duration": 7,
    "start_time": "2022-02-23T17:28:10.658Z"
   },
   {
    "duration": 7773,
    "start_time": "2022-02-23T17:28:11.422Z"
   },
   {
    "duration": 7,
    "start_time": "2022-02-23T17:28:22.670Z"
   },
   {
    "duration": 24231,
    "start_time": "2022-02-23T17:28:24.749Z"
   },
   {
    "duration": 13,
    "start_time": "2022-02-23T17:29:11.970Z"
   },
   {
    "duration": 4511652,
    "start_time": "2022-02-23T17:29:16.708Z"
   },
   {
    "duration": 7,
    "start_time": "2022-02-23T18:58:03.555Z"
   },
   {
    "duration": 1629493,
    "start_time": "2022-02-23T18:58:04.568Z"
   },
   {
    "duration": 590,
    "start_time": "2022-02-23T19:25:22.294Z"
   },
   {
    "duration": 7,
    "start_time": "2022-02-23T19:25:29.505Z"
   },
   {
    "duration": 690,
    "start_time": "2022-02-23T19:26:00.213Z"
   },
   {
    "duration": 6,
    "start_time": "2022-02-23T19:26:11.792Z"
   },
   {
    "duration": 8,
    "start_time": "2022-02-23T19:26:22.019Z"
   },
   {
    "duration": 596,
    "start_time": "2022-02-23T19:26:22.581Z"
   },
   {
    "duration": 9,
    "start_time": "2022-02-23T19:26:31.642Z"
   },
   {
    "duration": 7155,
    "start_time": "2022-02-23T19:26:32.079Z"
   },
   {
    "duration": 8,
    "start_time": "2022-02-23T19:27:23.719Z"
   },
   {
    "duration": 4201,
    "start_time": "2022-02-23T19:27:24.235Z"
   },
   {
    "duration": 6,
    "start_time": "2022-02-23T19:27:40.967Z"
   },
   {
    "duration": 8,
    "start_time": "2022-02-23T19:27:47.913Z"
   },
   {
    "duration": 61926,
    "start_time": "2022-02-23T19:27:48.546Z"
   },
   {
    "duration": 8,
    "start_time": "2022-02-23T19:29:18.065Z"
   },
   {
    "duration": 187457,
    "start_time": "2022-02-23T19:29:18.636Z"
   },
   {
    "duration": 12,
    "start_time": "2022-02-23T19:33:13.205Z"
   },
   {
    "duration": 348005,
    "start_time": "2022-02-23T19:33:13.789Z"
   },
   {
    "duration": 9,
    "start_time": "2022-02-23T19:44:03.030Z"
   },
   {
    "duration": 2458,
    "start_time": "2022-02-23T19:44:03.845Z"
   },
   {
    "duration": 7,
    "start_time": "2022-02-23T19:44:29.781Z"
   },
   {
    "duration": 2431,
    "start_time": "2022-02-23T19:44:32.867Z"
   },
   {
    "duration": 9,
    "start_time": "2022-02-23T19:44:56.713Z"
   },
   {
    "duration": 1313107,
    "start_time": "2022-02-23T19:44:57.446Z"
   },
   {
    "duration": 5,
    "start_time": "2022-02-23T20:23:14.209Z"
   },
   {
    "duration": 26823,
    "start_time": "2022-02-23T20:23:14.732Z"
   },
   {
    "duration": 2538,
    "start_time": "2022-02-24T08:18:56.968Z"
   },
   {
    "duration": 8218,
    "start_time": "2022-02-24T08:18:59.509Z"
   },
   {
    "duration": 186,
    "start_time": "2022-02-24T08:19:07.730Z"
   },
   {
    "duration": 29,
    "start_time": "2022-02-24T08:19:07.918Z"
   },
   {
    "duration": 176,
    "start_time": "2022-02-24T08:19:07.949Z"
   },
   {
    "duration": 4,
    "start_time": "2022-02-24T08:19:08.128Z"
   },
   {
    "duration": 10,
    "start_time": "2022-02-24T08:19:08.135Z"
   },
   {
    "duration": 7,
    "start_time": "2022-02-24T08:19:08.149Z"
   },
   {
    "duration": 2019,
    "start_time": "2022-02-24T08:19:08.159Z"
   },
   {
    "duration": 573,
    "start_time": "2022-02-24T08:19:10.183Z"
   },
   {
    "duration": 658,
    "start_time": "2022-02-24T08:19:10.759Z"
   },
   {
    "duration": 1442,
    "start_time": "2022-02-24T08:19:11.420Z"
   },
   {
    "duration": 354,
    "start_time": "2022-02-24T08:19:12.865Z"
   },
   {
    "duration": 24,
    "start_time": "2022-02-24T08:19:13.223Z"
   },
   {
    "duration": 4,
    "start_time": "2022-02-24T08:19:13.249Z"
   },
   {
    "duration": 8,
    "start_time": "2022-02-24T08:19:13.255Z"
   },
   {
    "duration": 30,
    "start_time": "2022-02-24T08:19:13.265Z"
   },
   {
    "duration": 2221,
    "start_time": "2022-02-24T08:19:13.297Z"
   },
   {
    "duration": 38,
    "start_time": "2022-02-24T08:19:15.526Z"
   },
   {
    "duration": 17,
    "start_time": "2022-02-24T08:19:15.566Z"
   },
   {
    "duration": 49,
    "start_time": "2022-02-24T08:19:15.586Z"
   },
   {
    "duration": 50,
    "start_time": "2022-02-24T08:19:15.638Z"
   },
   {
    "duration": 45,
    "start_time": "2022-02-24T08:19:15.694Z"
   },
   {
    "duration": 64,
    "start_time": "2022-02-24T08:19:15.743Z"
   },
   {
    "duration": 589,
    "start_time": "2022-02-24T08:19:15.810Z"
   },
   {
    "duration": 1597,
    "start_time": "2022-02-24T08:19:16.401Z"
   },
   {
    "duration": 40,
    "start_time": "2022-02-24T08:19:18.001Z"
   },
   {
    "duration": 16,
    "start_time": "2022-02-24T08:19:18.043Z"
   },
   {
    "duration": 20,
    "start_time": "2022-02-24T08:19:18.062Z"
   },
   {
    "duration": 611,
    "start_time": "2022-02-24T08:19:18.085Z"
   },
   {
    "duration": 454,
    "start_time": "2022-02-24T08:19:18.698Z"
   },
   {
    "duration": 123,
    "start_time": "2022-02-24T08:19:19.155Z"
   },
   {
    "duration": 23,
    "start_time": "2022-02-24T08:19:19.281Z"
   },
   {
    "duration": 457,
    "start_time": "2022-02-24T08:19:19.307Z"
   },
   {
    "duration": 868,
    "start_time": "2022-02-24T08:19:19.766Z"
   },
   {
    "duration": 22,
    "start_time": "2022-02-24T08:19:20.636Z"
   },
   {
    "duration": 73,
    "start_time": "2022-02-24T08:19:20.660Z"
   },
   {
    "duration": 20,
    "start_time": "2022-02-24T08:19:20.736Z"
   },
   {
    "duration": 849,
    "start_time": "2022-02-24T08:19:20.759Z"
   },
   {
    "duration": 58,
    "start_time": "2022-02-24T08:19:21.610Z"
   },
   {
    "duration": 6,
    "start_time": "2022-02-24T08:19:21.672Z"
   },
   {
    "duration": 399,
    "start_time": "2022-02-24T08:19:21.681Z"
   },
   {
    "duration": 1195,
    "start_time": "2022-02-24T08:19:22.082Z"
   },
   {
    "duration": 12,
    "start_time": "2022-02-24T08:19:23.280Z"
   },
   {
    "duration": 36,
    "start_time": "2022-02-24T08:19:23.295Z"
   },
   {
    "duration": 26,
    "start_time": "2022-02-24T08:19:23.334Z"
   },
   {
    "duration": 35,
    "start_time": "2022-02-24T08:19:23.362Z"
   },
   {
    "duration": 36,
    "start_time": "2022-02-24T08:19:23.399Z"
   },
   {
    "duration": 8,
    "start_time": "2022-02-24T08:19:23.437Z"
   },
   {
    "duration": 7,
    "start_time": "2022-02-24T08:19:23.447Z"
   },
   {
    "duration": 1554,
    "start_time": "2022-02-24T08:19:23.456Z"
   },
   {
    "duration": 26,
    "start_time": "2022-02-24T08:19:25.012Z"
   },
   {
    "duration": 33,
    "start_time": "2022-02-24T08:19:25.040Z"
   },
   {
    "duration": 96,
    "start_time": "2022-02-24T08:19:25.076Z"
   },
   {
    "duration": 378,
    "start_time": "2022-02-24T08:19:25.174Z"
   },
   {
    "duration": 23,
    "start_time": "2022-02-24T08:19:25.555Z"
   },
   {
    "duration": 6,
    "start_time": "2022-02-24T08:21:31.239Z"
   },
   {
    "duration": 887,
    "start_time": "2022-02-24T08:22:36.895Z"
   },
   {
    "duration": 615,
    "start_time": "2022-02-24T08:22:45.490Z"
   },
   {
    "duration": 479,
    "start_time": "2022-02-24T08:23:32.763Z"
   },
   {
    "duration": 7,
    "start_time": "2022-02-24T08:23:40.211Z"
   },
   {
    "duration": 1180,
    "start_time": "2022-02-24T08:23:40.221Z"
   },
   {
    "duration": 167,
    "start_time": "2022-02-24T08:23:41.405Z"
   },
   {
    "duration": 22,
    "start_time": "2022-02-24T08:23:41.575Z"
   },
   {
    "duration": 177,
    "start_time": "2022-02-24T08:23:41.599Z"
   },
   {
    "duration": 5,
    "start_time": "2022-02-24T08:23:41.778Z"
   },
   {
    "duration": 11,
    "start_time": "2022-02-24T08:23:41.785Z"
   },
   {
    "duration": 7,
    "start_time": "2022-02-24T08:23:41.800Z"
   },
   {
    "duration": 197,
    "start_time": "2022-02-24T08:23:41.827Z"
   },
   {
    "duration": 508,
    "start_time": "2022-02-24T08:23:42.027Z"
   },
   {
    "duration": 624,
    "start_time": "2022-02-24T08:23:42.538Z"
   },
   {
    "duration": 1329,
    "start_time": "2022-02-24T08:23:43.165Z"
   },
   {
    "duration": 342,
    "start_time": "2022-02-24T08:23:44.497Z"
   },
   {
    "duration": 23,
    "start_time": "2022-02-24T08:23:44.841Z"
   },
   {
    "duration": 7,
    "start_time": "2022-02-24T08:23:44.867Z"
   },
   {
    "duration": 17,
    "start_time": "2022-02-24T08:23:44.877Z"
   },
   {
    "duration": 51,
    "start_time": "2022-02-24T08:23:44.897Z"
   },
   {
    "duration": 2285,
    "start_time": "2022-02-24T08:23:44.951Z"
   },
   {
    "duration": 37,
    "start_time": "2022-02-24T08:23:47.239Z"
   },
   {
    "duration": 13,
    "start_time": "2022-02-24T08:23:47.279Z"
   },
   {
    "duration": 52,
    "start_time": "2022-02-24T08:23:47.295Z"
   },
   {
    "duration": 47,
    "start_time": "2022-02-24T08:23:47.349Z"
   },
   {
    "duration": 22,
    "start_time": "2022-02-24T08:23:47.429Z"
   },
   {
    "duration": 77,
    "start_time": "2022-02-24T08:23:47.456Z"
   },
   {
    "duration": 529,
    "start_time": "2022-02-24T08:23:47.536Z"
   },
   {
    "duration": 1637,
    "start_time": "2022-02-24T08:23:48.067Z"
   },
   {
    "duration": 34,
    "start_time": "2022-02-24T08:23:49.706Z"
   },
   {
    "duration": 22,
    "start_time": "2022-02-24T08:23:49.742Z"
   },
   {
    "duration": 22,
    "start_time": "2022-02-24T08:23:49.766Z"
   },
   {
    "duration": 479,
    "start_time": "2022-02-24T08:23:49.791Z"
   },
   {
    "duration": 465,
    "start_time": "2022-02-24T08:23:50.273Z"
   },
   {
    "duration": 131,
    "start_time": "2022-02-24T08:23:50.740Z"
   },
   {
    "duration": 22,
    "start_time": "2022-02-24T08:23:50.874Z"
   },
   {
    "duration": 593,
    "start_time": "2022-02-24T08:23:50.899Z"
   },
   {
    "duration": 850,
    "start_time": "2022-02-24T08:23:51.495Z"
   },
   {
    "duration": 21,
    "start_time": "2022-02-24T08:23:52.347Z"
   },
   {
    "duration": 73,
    "start_time": "2022-02-24T08:23:52.370Z"
   },
   {
    "duration": 17,
    "start_time": "2022-02-24T08:23:52.446Z"
   },
   {
    "duration": 974,
    "start_time": "2022-02-24T08:23:52.465Z"
   },
   {
    "duration": 620,
    "start_time": "2022-02-24T08:23:53.441Z"
   },
   {
    "duration": 47,
    "start_time": "2022-02-24T08:23:54.063Z"
   },
   {
    "duration": 18,
    "start_time": "2022-02-24T08:23:54.112Z"
   },
   {
    "duration": 406,
    "start_time": "2022-02-24T08:23:54.133Z"
   },
   {
    "duration": 1207,
    "start_time": "2022-02-24T08:23:54.541Z"
   },
   {
    "duration": 10,
    "start_time": "2022-02-24T08:23:55.750Z"
   },
   {
    "duration": 17,
    "start_time": "2022-02-24T08:23:55.763Z"
   },
   {
    "duration": 49,
    "start_time": "2022-02-24T08:23:55.783Z"
   },
   {
    "duration": 61,
    "start_time": "2022-02-24T08:23:55.835Z"
   },
   {
    "duration": 28,
    "start_time": "2022-02-24T08:23:55.898Z"
   },
   {
    "duration": 13,
    "start_time": "2022-02-24T08:23:55.929Z"
   },
   {
    "duration": 15,
    "start_time": "2022-02-24T08:23:55.944Z"
   },
   {
    "duration": 1545,
    "start_time": "2022-02-24T08:23:55.961Z"
   },
   {
    "duration": 28,
    "start_time": "2022-02-24T08:23:57.508Z"
   },
   {
    "duration": 23,
    "start_time": "2022-02-24T08:23:57.539Z"
   },
   {
    "duration": 101,
    "start_time": "2022-02-24T08:23:57.565Z"
   },
   {
    "duration": 296,
    "start_time": "2022-02-24T08:23:57.669Z"
   },
   {
    "duration": 20,
    "start_time": "2022-02-24T08:23:57.968Z"
   },
   {
    "duration": 4,
    "start_time": "2022-02-24T08:24:14.743Z"
   },
   {
    "duration": 4,
    "start_time": "2022-02-24T08:24:16.107Z"
   },
   {
    "duration": 1878,
    "start_time": "2022-02-24T08:24:18.751Z"
   },
   {
    "duration": 6,
    "start_time": "2022-02-24T08:25:07.847Z"
   },
   {
    "duration": 24302,
    "start_time": "2022-02-24T08:25:08.887Z"
   },
   {
    "duration": 5,
    "start_time": "2022-02-24T08:26:26.539Z"
   },
   {
    "duration": 1912,
    "start_time": "2022-02-24T08:26:27.222Z"
   },
   {
    "duration": 6,
    "start_time": "2022-02-24T08:30:31.812Z"
   },
   {
    "duration": 7,
    "start_time": "2022-02-24T08:48:00.375Z"
   },
   {
    "duration": 4204509,
    "start_time": "2022-02-24T08:48:02.008Z"
   },
   {
    "duration": 6,
    "start_time": "2022-02-24T09:59:00.030Z"
   },
   {
    "duration": 582,
    "start_time": "2022-02-24T09:59:00.544Z"
   },
   {
    "duration": 7,
    "start_time": "2022-02-24T09:59:21.174Z"
   },
   {
    "duration": 29196,
    "start_time": "2022-02-24T09:59:21.869Z"
   },
   {
    "duration": 6,
    "start_time": "2022-02-24T10:02:23.520Z"
   },
   {
    "duration": 29663,
    "start_time": "2022-02-24T10:02:24.090Z"
   },
   {
    "duration": 10,
    "start_time": "2022-02-24T10:03:06.856Z"
   },
   {
    "duration": 6,
    "start_time": "2022-02-24T10:03:11.611Z"
   },
   {
    "duration": 9,
    "start_time": "2022-02-24T10:03:19.759Z"
   },
   {
    "duration": 24695,
    "start_time": "2022-02-24T10:03:20.196Z"
   },
   {
    "duration": 6,
    "start_time": "2022-02-24T10:03:49.276Z"
   },
   {
    "duration": 24971,
    "start_time": "2022-02-24T10:03:49.660Z"
   },
   {
    "duration": 7,
    "start_time": "2022-02-24T10:05:20.419Z"
   },
   {
    "duration": 24460,
    "start_time": "2022-02-24T10:05:21.019Z"
   },
   {
    "duration": 6,
    "start_time": "2022-02-24T10:05:51.253Z"
   },
   {
    "duration": 24638,
    "start_time": "2022-02-24T10:05:51.949Z"
   },
   {
    "duration": 6,
    "start_time": "2022-02-24T10:06:58.284Z"
   },
   {
    "duration": 28183,
    "start_time": "2022-02-24T10:06:59.302Z"
   },
   {
    "duration": 6,
    "start_time": "2022-02-24T10:08:18.076Z"
   },
   {
    "duration": 6,
    "start_time": "2022-02-24T10:08:22.736Z"
   },
   {
    "duration": 31830,
    "start_time": "2022-02-24T10:08:26.207Z"
   },
   {
    "duration": 81369,
    "start_time": "2022-02-24T10:12:34.298Z"
   },
   {
    "duration": 84545,
    "start_time": "2022-02-24T10:14:20.593Z"
   },
   {
    "duration": 15,
    "start_time": "2022-02-24T10:17:56.333Z"
   },
   {
    "duration": 6,
    "start_time": "2022-02-24T10:18:13.953Z"
   },
   {
    "duration": 1232,
    "start_time": "2022-02-24T10:18:13.962Z"
   },
   {
    "duration": 176,
    "start_time": "2022-02-24T10:18:15.197Z"
   },
   {
    "duration": 22,
    "start_time": "2022-02-24T10:18:15.377Z"
   },
   {
    "duration": 187,
    "start_time": "2022-02-24T10:18:15.402Z"
   },
   {
    "duration": 6,
    "start_time": "2022-02-24T10:18:15.592Z"
   },
   {
    "duration": 27,
    "start_time": "2022-02-24T10:18:15.602Z"
   },
   {
    "duration": 8,
    "start_time": "2022-02-24T10:18:15.632Z"
   },
   {
    "duration": 215,
    "start_time": "2022-02-24T10:18:15.646Z"
   },
   {
    "duration": 693,
    "start_time": "2022-02-24T10:18:15.866Z"
   },
   {
    "duration": 589,
    "start_time": "2022-02-24T10:18:16.562Z"
   },
   {
    "duration": 1290,
    "start_time": "2022-02-24T10:18:17.153Z"
   },
   {
    "duration": 353,
    "start_time": "2022-02-24T10:18:18.446Z"
   },
   {
    "duration": 26,
    "start_time": "2022-02-24T10:18:18.802Z"
   },
   {
    "duration": 3,
    "start_time": "2022-02-24T10:18:18.830Z"
   },
   {
    "duration": 6,
    "start_time": "2022-02-24T10:18:18.836Z"
   },
   {
    "duration": 30,
    "start_time": "2022-02-24T10:18:18.844Z"
   },
   {
    "duration": 2293,
    "start_time": "2022-02-24T10:18:18.877Z"
   },
   {
    "duration": 62,
    "start_time": "2022-02-24T10:18:21.173Z"
   },
   {
    "duration": 14,
    "start_time": "2022-02-24T10:18:21.238Z"
   },
   {
    "duration": 27,
    "start_time": "2022-02-24T10:18:21.255Z"
   },
   {
    "duration": 82,
    "start_time": "2022-02-24T10:18:21.285Z"
   },
   {
    "duration": 25,
    "start_time": "2022-02-24T10:18:21.370Z"
   },
   {
    "duration": 85,
    "start_time": "2022-02-24T10:18:21.398Z"
   },
   {
    "duration": 500,
    "start_time": "2022-02-24T10:18:21.486Z"
   },
   {
    "duration": 1817,
    "start_time": "2022-02-24T10:18:21.989Z"
   },
   {
    "duration": 31,
    "start_time": "2022-02-24T10:18:23.814Z"
   },
   {
    "duration": 20,
    "start_time": "2022-02-24T10:18:23.849Z"
   },
   {
    "duration": 54,
    "start_time": "2022-02-24T10:18:23.872Z"
   },
   {
    "duration": 458,
    "start_time": "2022-02-24T10:18:23.929Z"
   },
   {
    "duration": 472,
    "start_time": "2022-02-24T10:18:24.390Z"
   },
   {
    "duration": 120,
    "start_time": "2022-02-24T10:18:24.865Z"
   },
   {
    "duration": 22,
    "start_time": "2022-02-24T10:18:24.988Z"
   },
   {
    "duration": 451,
    "start_time": "2022-02-24T10:18:25.025Z"
   },
   {
    "duration": 889,
    "start_time": "2022-02-24T10:18:25.479Z"
   },
   {
    "duration": 21,
    "start_time": "2022-02-24T10:18:26.371Z"
   },
   {
    "duration": 71,
    "start_time": "2022-02-24T10:18:26.395Z"
   },
   {
    "duration": 19,
    "start_time": "2022-02-24T10:18:26.468Z"
   },
   {
    "duration": 1093,
    "start_time": "2022-02-24T10:18:26.490Z"
   },
   {
    "duration": 636,
    "start_time": "2022-02-24T10:18:27.585Z"
   },
   {
    "duration": 48,
    "start_time": "2022-02-24T10:18:28.223Z"
   },
   {
    "duration": 24,
    "start_time": "2022-02-24T10:18:28.274Z"
   },
   {
    "duration": 27,
    "start_time": "2022-02-24T10:18:28.301Z"
   },
   {
    "duration": 132,
    "start_time": "2022-02-24T10:18:28.331Z"
   },
   {
    "duration": 1073,
    "start_time": "2022-02-24T10:18:28.466Z"
   },
   {
    "duration": 12,
    "start_time": "2022-02-24T10:18:29.543Z"
   },
   {
    "duration": 12,
    "start_time": "2022-02-24T10:18:29.558Z"
   },
   {
    "duration": 17,
    "start_time": "2022-02-24T10:18:29.572Z"
   },
   {
    "duration": 50,
    "start_time": "2022-02-24T10:18:29.592Z"
   },
   {
    "duration": 17,
    "start_time": "2022-02-24T10:18:29.646Z"
   },
   {
    "duration": 11,
    "start_time": "2022-02-24T10:18:29.666Z"
   },
   {
    "duration": 7,
    "start_time": "2022-02-24T10:18:29.679Z"
   },
   {
    "duration": 374,
    "start_time": "2022-02-24T10:18:29.689Z"
   },
   {
    "duration": 20,
    "start_time": "2022-02-24T10:18:30.065Z"
   },
   {
    "duration": 19,
    "start_time": "2022-02-24T10:18:30.087Z"
   },
   {
    "duration": 37,
    "start_time": "2022-02-24T10:18:30.108Z"
   },
   {
    "duration": 87,
    "start_time": "2022-02-24T10:18:30.148Z"
   },
   {
    "duration": 21,
    "start_time": "2022-02-24T10:18:30.237Z"
   },
   {
    "duration": 5,
    "start_time": "2022-02-24T10:18:33.427Z"
   },
   {
    "duration": 5,
    "start_time": "2022-02-24T10:18:33.804Z"
   },
   {
    "duration": 1336,
    "start_time": "2022-02-24T10:18:37.503Z"
   },
   {
    "duration": 6,
    "start_time": "2022-02-24T10:18:46.722Z"
   },
   {
    "duration": 5268,
    "start_time": "2022-02-24T10:18:50.507Z"
   },
   {
    "duration": 5070,
    "start_time": "2022-02-24T10:19:14.709Z"
   },
   {
    "duration": 5,
    "start_time": "2022-02-24T10:19:24.025Z"
   },
   {
    "duration": 5575,
    "start_time": "2022-02-24T10:19:29.981Z"
   },
   {
    "duration": 13818,
    "start_time": "2022-02-24T10:19:44.102Z"
   },
   {
    "duration": 5810,
    "start_time": "2022-02-24T10:20:17.338Z"
   },
   {
    "duration": 6,
    "start_time": "2022-02-24T10:20:26.619Z"
   },
   {
    "duration": 6022,
    "start_time": "2022-02-24T10:20:28.660Z"
   },
   {
    "duration": 11,
    "start_time": "2022-02-24T10:21:24.572Z"
   },
   {
    "duration": 135,
    "start_time": "2022-02-24T10:24:51.710Z"
   },
   {
    "duration": 6,
    "start_time": "2022-02-24T10:25:23.293Z"
   },
   {
    "duration": 6654,
    "start_time": "2022-02-24T10:25:28.490Z"
   },
   {
    "duration": 5,
    "start_time": "2022-02-24T10:25:48.615Z"
   },
   {
    "duration": 6493,
    "start_time": "2022-02-24T10:25:49.980Z"
   },
   {
    "duration": 132,
    "start_time": "2022-02-24T10:26:17.019Z"
   },
   {
    "duration": 14973,
    "start_time": "2022-02-24T10:26:37.487Z"
   },
   {
    "duration": 14597,
    "start_time": "2022-02-24T10:26:58.489Z"
   },
   {
    "duration": 284,
    "start_time": "2022-02-24T10:29:35.201Z"
   },
   {
    "duration": 8,
    "start_time": "2022-02-24T10:29:40.526Z"
   },
   {
    "duration": 7,
    "start_time": "2022-02-24T10:30:00.427Z"
   },
   {
    "duration": 7,
    "start_time": "2022-02-24T10:30:05.294Z"
   },
   {
    "duration": 1174,
    "start_time": "2022-02-24T10:30:05.303Z"
   },
   {
    "duration": 172,
    "start_time": "2022-02-24T10:30:06.480Z"
   },
   {
    "duration": 23,
    "start_time": "2022-02-24T10:30:06.655Z"
   },
   {
    "duration": 193,
    "start_time": "2022-02-24T10:30:06.680Z"
   },
   {
    "duration": 5,
    "start_time": "2022-02-24T10:30:06.875Z"
   },
   {
    "duration": 10,
    "start_time": "2022-02-24T10:30:06.883Z"
   },
   {
    "duration": 31,
    "start_time": "2022-02-24T10:30:06.895Z"
   },
   {
    "duration": 210,
    "start_time": "2022-02-24T10:30:06.931Z"
   },
   {
    "duration": 470,
    "start_time": "2022-02-24T10:30:07.144Z"
   },
   {
    "duration": 605,
    "start_time": "2022-02-24T10:30:07.617Z"
   },
   {
    "duration": 1346,
    "start_time": "2022-02-24T10:30:08.226Z"
   },
   {
    "duration": 367,
    "start_time": "2022-02-24T10:30:09.575Z"
   },
   {
    "duration": 24,
    "start_time": "2022-02-24T10:30:09.945Z"
   },
   {
    "duration": 5,
    "start_time": "2022-02-24T10:30:09.972Z"
   },
   {
    "duration": 15,
    "start_time": "2022-02-24T10:30:09.979Z"
   },
   {
    "duration": 53,
    "start_time": "2022-02-24T10:30:09.996Z"
   },
   {
    "duration": 2377,
    "start_time": "2022-02-24T10:30:10.051Z"
   },
   {
    "duration": 36,
    "start_time": "2022-02-24T10:30:12.431Z"
   },
   {
    "duration": 12,
    "start_time": "2022-02-24T10:30:12.469Z"
   },
   {
    "duration": 53,
    "start_time": "2022-02-24T10:30:12.483Z"
   },
   {
    "duration": 47,
    "start_time": "2022-02-24T10:30:12.538Z"
   },
   {
    "duration": 49,
    "start_time": "2022-02-24T10:30:12.588Z"
   },
   {
    "duration": 55,
    "start_time": "2022-02-24T10:30:12.640Z"
   },
   {
    "duration": 484,
    "start_time": "2022-02-24T10:30:12.698Z"
   },
   {
    "duration": 1720,
    "start_time": "2022-02-24T10:30:13.184Z"
   },
   {
    "duration": 29,
    "start_time": "2022-02-24T10:30:14.909Z"
   },
   {
    "duration": 21,
    "start_time": "2022-02-24T10:30:14.941Z"
   },
   {
    "duration": 25,
    "start_time": "2022-02-24T10:30:14.964Z"
   },
   {
    "duration": 434,
    "start_time": "2022-02-24T10:30:15.027Z"
   },
   {
    "duration": 416,
    "start_time": "2022-02-24T10:30:15.463Z"
   },
   {
    "duration": 121,
    "start_time": "2022-02-24T10:30:15.882Z"
   },
   {
    "duration": 36,
    "start_time": "2022-02-24T10:30:16.005Z"
   },
   {
    "duration": 447,
    "start_time": "2022-02-24T10:30:16.043Z"
   },
   {
    "duration": 907,
    "start_time": "2022-02-24T10:30:16.492Z"
   },
   {
    "duration": 36,
    "start_time": "2022-02-24T10:30:17.401Z"
   },
   {
    "duration": 51,
    "start_time": "2022-02-24T10:30:17.439Z"
   },
   {
    "duration": 37,
    "start_time": "2022-02-24T10:30:17.493Z"
   },
   {
    "duration": 853,
    "start_time": "2022-02-24T10:30:17.532Z"
   },
   {
    "duration": 879,
    "start_time": "2022-02-24T10:30:18.387Z"
   },
   {
    "duration": 9,
    "start_time": "2022-02-24T10:30:19.268Z"
   },
   {
    "duration": 16,
    "start_time": "2022-02-24T10:30:19.279Z"
   },
   {
    "duration": 47,
    "start_time": "2022-02-24T10:30:43.026Z"
   },
   {
    "duration": 45,
    "start_time": "2022-02-24T10:30:45.074Z"
   },
   {
    "duration": 6,
    "start_time": "2022-02-24T10:30:47.730Z"
   },
   {
    "duration": 96,
    "start_time": "2022-02-24T10:31:08.393Z"
   },
   {
    "duration": 6,
    "start_time": "2022-02-24T10:31:11.423Z"
   },
   {
    "duration": 7,
    "start_time": "2022-02-24T10:31:29.719Z"
   },
   {
    "duration": 1281,
    "start_time": "2022-02-24T10:31:29.729Z"
   },
   {
    "duration": 167,
    "start_time": "2022-02-24T10:31:31.014Z"
   },
   {
    "duration": 22,
    "start_time": "2022-02-24T10:31:31.184Z"
   },
   {
    "duration": 177,
    "start_time": "2022-02-24T10:31:31.226Z"
   },
   {
    "duration": 5,
    "start_time": "2022-02-24T10:31:31.406Z"
   },
   {
    "duration": 17,
    "start_time": "2022-02-24T10:31:31.413Z"
   },
   {
    "duration": 8,
    "start_time": "2022-02-24T10:31:31.433Z"
   },
   {
    "duration": 206,
    "start_time": "2022-02-24T10:31:31.445Z"
   },
   {
    "duration": 456,
    "start_time": "2022-02-24T10:31:31.653Z"
   },
   {
    "duration": 634,
    "start_time": "2022-02-24T10:31:32.111Z"
   },
   {
    "duration": 1421,
    "start_time": "2022-02-24T10:31:32.747Z"
   },
   {
    "duration": 353,
    "start_time": "2022-02-24T10:31:34.171Z"
   },
   {
    "duration": 25,
    "start_time": "2022-02-24T10:31:34.527Z"
   },
   {
    "duration": 5,
    "start_time": "2022-02-24T10:31:34.554Z"
   },
   {
    "duration": 22,
    "start_time": "2022-02-24T10:31:34.562Z"
   },
   {
    "duration": 51,
    "start_time": "2022-02-24T10:31:34.586Z"
   },
   {
    "duration": 2190,
    "start_time": "2022-02-24T10:31:34.640Z"
   },
   {
    "duration": 39,
    "start_time": "2022-02-24T10:31:36.832Z"
   },
   {
    "duration": 12,
    "start_time": "2022-02-24T10:31:36.873Z"
   },
   {
    "duration": 59,
    "start_time": "2022-02-24T10:31:36.887Z"
   },
   {
    "duration": 54,
    "start_time": "2022-02-24T10:31:36.949Z"
   },
   {
    "duration": 32,
    "start_time": "2022-02-24T10:31:37.009Z"
   },
   {
    "duration": 64,
    "start_time": "2022-02-24T10:31:37.045Z"
   },
   {
    "duration": 489,
    "start_time": "2022-02-24T10:31:37.111Z"
   },
   {
    "duration": 1893,
    "start_time": "2022-02-24T10:31:37.603Z"
   },
   {
    "duration": 37,
    "start_time": "2022-02-24T10:31:39.499Z"
   },
   {
    "duration": 16,
    "start_time": "2022-02-24T10:31:39.539Z"
   },
   {
    "duration": 24,
    "start_time": "2022-02-24T10:31:39.558Z"
   },
   {
    "duration": 453,
    "start_time": "2022-02-24T10:31:39.585Z"
   },
   {
    "duration": 405,
    "start_time": "2022-02-24T10:31:40.040Z"
   },
   {
    "duration": 119,
    "start_time": "2022-02-24T10:31:40.447Z"
   },
   {
    "duration": 21,
    "start_time": "2022-02-24T10:31:40.569Z"
   },
   {
    "duration": 471,
    "start_time": "2022-02-24T10:31:40.592Z"
   },
   {
    "duration": 930,
    "start_time": "2022-02-24T10:31:41.065Z"
   },
   {
    "duration": 40,
    "start_time": "2022-02-24T10:31:41.998Z"
   },
   {
    "duration": 60,
    "start_time": "2022-02-24T10:31:42.042Z"
   },
   {
    "duration": 38,
    "start_time": "2022-02-24T10:31:42.105Z"
   },
   {
    "duration": 1039,
    "start_time": "2022-02-24T10:31:42.147Z"
   },
   {
    "duration": 657,
    "start_time": "2022-02-24T10:31:43.189Z"
   },
   {
    "duration": 9,
    "start_time": "2022-02-24T10:31:43.849Z"
   },
   {
    "duration": 28,
    "start_time": "2022-02-24T10:31:43.861Z"
   },
   {
    "duration": 73,
    "start_time": "2022-02-24T10:31:43.891Z"
   },
   {
    "duration": 46,
    "start_time": "2022-02-24T10:31:43.967Z"
   },
   {
    "duration": 14,
    "start_time": "2022-02-24T10:31:44.016Z"
   },
   {
    "duration": 445,
    "start_time": "2022-02-24T10:31:44.032Z"
   },
   {
    "duration": 1133,
    "start_time": "2022-02-24T10:31:44.480Z"
   },
   {
    "duration": 20,
    "start_time": "2022-02-24T10:31:45.615Z"
   },
   {
    "duration": 9,
    "start_time": "2022-02-24T10:31:45.637Z"
   },
   {
    "duration": 28,
    "start_time": "2022-02-24T10:31:45.649Z"
   },
   {
    "duration": 89,
    "start_time": "2022-02-24T10:31:45.680Z"
   },
   {
    "duration": 11,
    "start_time": "2022-02-24T10:31:45.772Z"
   },
   {
    "duration": 9,
    "start_time": "2022-02-24T10:31:45.786Z"
   },
   {
    "duration": 30,
    "start_time": "2022-02-24T10:31:45.798Z"
   },
   {
    "duration": 1482,
    "start_time": "2022-02-24T10:31:45.831Z"
   },
   {
    "duration": 36,
    "start_time": "2022-02-24T10:31:47.316Z"
   },
   {
    "duration": 21,
    "start_time": "2022-02-24T10:31:47.354Z"
   },
   {
    "duration": 84,
    "start_time": "2022-02-24T10:31:47.378Z"
   },
   {
    "duration": 290,
    "start_time": "2022-02-24T10:31:47.465Z"
   },
   {
    "duration": 21,
    "start_time": "2022-02-24T10:31:47.758Z"
   },
   {
    "duration": 5,
    "start_time": "2022-02-24T10:31:52.720Z"
   },
   {
    "duration": 4,
    "start_time": "2022-02-24T10:31:54.524Z"
   },
   {
    "duration": 2106,
    "start_time": "2022-02-24T10:31:56.522Z"
   },
   {
    "duration": 15,
    "start_time": "2022-02-24T10:32:38.974Z"
   },
   {
    "duration": 6,
    "start_time": "2022-02-24T10:32:40.566Z"
   },
   {
    "duration": 7,
    "start_time": "2022-02-24T10:34:08.838Z"
   },
   {
    "duration": 7,
    "start_time": "2022-02-24T10:34:09.755Z"
   },
   {
    "duration": 6,
    "start_time": "2022-02-24T10:34:18.488Z"
   },
   {
    "duration": 1100,
    "start_time": "2022-02-24T10:34:18.497Z"
   },
   {
    "duration": 168,
    "start_time": "2022-02-24T10:34:19.600Z"
   },
   {
    "duration": 23,
    "start_time": "2022-02-24T10:34:19.771Z"
   },
   {
    "duration": 183,
    "start_time": "2022-02-24T10:34:19.796Z"
   },
   {
    "duration": 6,
    "start_time": "2022-02-24T10:34:19.982Z"
   },
   {
    "duration": 12,
    "start_time": "2022-02-24T10:34:19.992Z"
   },
   {
    "duration": 7,
    "start_time": "2022-02-24T10:34:20.030Z"
   },
   {
    "duration": 206,
    "start_time": "2022-02-24T10:34:20.041Z"
   },
   {
    "duration": 523,
    "start_time": "2022-02-24T10:34:20.250Z"
   },
   {
    "duration": 592,
    "start_time": "2022-02-24T10:34:20.775Z"
   },
   {
    "duration": 1332,
    "start_time": "2022-02-24T10:34:21.370Z"
   },
   {
    "duration": 351,
    "start_time": "2022-02-24T10:34:22.704Z"
   },
   {
    "duration": 22,
    "start_time": "2022-02-24T10:34:23.058Z"
   },
   {
    "duration": 5,
    "start_time": "2022-02-24T10:34:23.082Z"
   },
   {
    "duration": 7,
    "start_time": "2022-02-24T10:34:23.090Z"
   },
   {
    "duration": 27,
    "start_time": "2022-02-24T10:34:23.126Z"
   },
   {
    "duration": 2370,
    "start_time": "2022-02-24T10:34:23.156Z"
   },
   {
    "duration": 37,
    "start_time": "2022-02-24T10:34:25.528Z"
   },
   {
    "duration": 12,
    "start_time": "2022-02-24T10:34:25.567Z"
   },
   {
    "duration": 53,
    "start_time": "2022-02-24T10:34:25.581Z"
   },
   {
    "duration": 48,
    "start_time": "2022-02-24T10:34:25.636Z"
   },
   {
    "duration": 44,
    "start_time": "2022-02-24T10:34:25.688Z"
   },
   {
    "duration": 55,
    "start_time": "2022-02-24T10:34:25.734Z"
   },
   {
    "duration": 477,
    "start_time": "2022-02-24T10:34:25.792Z"
   },
   {
    "duration": 1601,
    "start_time": "2022-02-24T10:34:26.271Z"
   },
   {
    "duration": 23,
    "start_time": "2022-02-24T10:34:27.875Z"
   },
   {
    "duration": 38,
    "start_time": "2022-02-24T10:34:27.901Z"
   },
   {
    "duration": 27,
    "start_time": "2022-02-24T10:34:27.941Z"
   },
   {
    "duration": 470,
    "start_time": "2022-02-24T10:34:27.971Z"
   },
   {
    "duration": 421,
    "start_time": "2022-02-24T10:34:28.443Z"
   },
   {
    "duration": 120,
    "start_time": "2022-02-24T10:34:28.867Z"
   },
   {
    "duration": 22,
    "start_time": "2022-02-24T10:34:28.989Z"
   },
   {
    "duration": 609,
    "start_time": "2022-02-24T10:34:29.026Z"
   },
   {
    "duration": 860,
    "start_time": "2022-02-24T10:34:29.638Z"
   },
   {
    "duration": 37,
    "start_time": "2022-02-24T10:34:30.502Z"
   },
   {
    "duration": 11,
    "start_time": "2022-02-24T10:34:30.542Z"
   },
   {
    "duration": 13,
    "start_time": "2022-02-24T10:34:30.556Z"
   },
   {
    "duration": 10,
    "start_time": "2022-02-24T10:34:43.782Z"
   },
   {
    "duration": 52,
    "start_time": "2022-02-24T10:35:00.301Z"
   },
   {
    "duration": 6,
    "start_time": "2022-02-24T10:35:20.386Z"
   },
   {
    "duration": 1147,
    "start_time": "2022-02-24T10:35:20.395Z"
   },
   {
    "duration": 180,
    "start_time": "2022-02-24T10:35:21.546Z"
   },
   {
    "duration": 21,
    "start_time": "2022-02-24T10:35:21.729Z"
   },
   {
    "duration": 175,
    "start_time": "2022-02-24T10:35:21.752Z"
   },
   {
    "duration": 4,
    "start_time": "2022-02-24T10:35:21.930Z"
   },
   {
    "duration": 11,
    "start_time": "2022-02-24T10:35:21.937Z"
   },
   {
    "duration": 9,
    "start_time": "2022-02-24T10:35:21.951Z"
   },
   {
    "duration": 229,
    "start_time": "2022-02-24T10:35:21.966Z"
   },
   {
    "duration": 481,
    "start_time": "2022-02-24T10:35:22.198Z"
   },
   {
    "duration": 567,
    "start_time": "2022-02-24T10:35:22.682Z"
   },
   {
    "duration": 1285,
    "start_time": "2022-02-24T10:35:23.251Z"
   },
   {
    "duration": 365,
    "start_time": "2022-02-24T10:35:24.538Z"
   },
   {
    "duration": 33,
    "start_time": "2022-02-24T10:35:24.906Z"
   },
   {
    "duration": 7,
    "start_time": "2022-02-24T10:35:24.941Z"
   },
   {
    "duration": 10,
    "start_time": "2022-02-24T10:35:24.950Z"
   },
   {
    "duration": 37,
    "start_time": "2022-02-24T10:35:24.963Z"
   },
   {
    "duration": 2229,
    "start_time": "2022-02-24T10:35:25.003Z"
   },
   {
    "duration": 39,
    "start_time": "2022-02-24T10:35:27.235Z"
   },
   {
    "duration": 16,
    "start_time": "2022-02-24T10:35:27.277Z"
   },
   {
    "duration": 27,
    "start_time": "2022-02-24T10:35:27.326Z"
   },
   {
    "duration": 76,
    "start_time": "2022-02-24T10:35:27.356Z"
   },
   {
    "duration": 22,
    "start_time": "2022-02-24T10:35:27.436Z"
   },
   {
    "duration": 86,
    "start_time": "2022-02-24T10:35:27.461Z"
   },
   {
    "duration": 596,
    "start_time": "2022-02-24T10:35:27.550Z"
   },
   {
    "duration": 1738,
    "start_time": "2022-02-24T10:35:28.149Z"
   },
   {
    "duration": 34,
    "start_time": "2022-02-24T10:35:29.893Z"
   },
   {
    "duration": 19,
    "start_time": "2022-02-24T10:35:29.931Z"
   },
   {
    "duration": 23,
    "start_time": "2022-02-24T10:35:29.952Z"
   },
   {
    "duration": 479,
    "start_time": "2022-02-24T10:35:29.977Z"
   },
   {
    "duration": 413,
    "start_time": "2022-02-24T10:35:30.458Z"
   },
   {
    "duration": 123,
    "start_time": "2022-02-24T10:35:30.873Z"
   },
   {
    "duration": 30,
    "start_time": "2022-02-24T10:35:30.998Z"
   },
   {
    "duration": 459,
    "start_time": "2022-02-24T10:35:31.030Z"
   },
   {
    "duration": 1007,
    "start_time": "2022-02-24T10:35:31.492Z"
   },
   {
    "duration": 35,
    "start_time": "2022-02-24T10:35:32.502Z"
   },
   {
    "duration": 9,
    "start_time": "2022-02-24T10:35:32.540Z"
   },
   {
    "duration": 23,
    "start_time": "2022-02-24T10:35:32.551Z"
   },
   {
    "duration": 79,
    "start_time": "2022-02-24T10:35:32.577Z"
   },
   {
    "duration": 23,
    "start_time": "2022-02-24T10:35:32.659Z"
   },
   {
    "duration": 646,
    "start_time": "2022-02-24T10:35:32.685Z"
   },
   {
    "duration": 10,
    "start_time": "2022-02-24T10:35:33.333Z"
   },
   {
    "duration": 10,
    "start_time": "2022-02-24T10:35:33.346Z"
   },
   {
    "duration": 87,
    "start_time": "2022-02-24T10:35:33.359Z"
   },
   {
    "duration": 47,
    "start_time": "2022-02-24T10:35:33.449Z"
   },
   {
    "duration": 6,
    "start_time": "2022-02-24T10:35:33.499Z"
   },
   {
    "duration": 424,
    "start_time": "2022-02-24T10:35:33.527Z"
   },
   {
    "duration": 1228,
    "start_time": "2022-02-24T10:35:33.954Z"
   },
   {
    "duration": 11,
    "start_time": "2022-02-24T10:35:35.185Z"
   },
   {
    "duration": 30,
    "start_time": "2022-02-24T10:35:35.198Z"
   },
   {
    "duration": 29,
    "start_time": "2022-02-24T10:35:35.231Z"
   },
   {
    "duration": 90,
    "start_time": "2022-02-24T10:35:35.263Z"
   },
   {
    "duration": 15,
    "start_time": "2022-02-24T10:35:35.356Z"
   },
   {
    "duration": 12,
    "start_time": "2022-02-24T10:35:35.375Z"
   },
   {
    "duration": 10,
    "start_time": "2022-02-24T10:35:35.390Z"
   },
   {
    "duration": 1545,
    "start_time": "2022-02-24T10:35:35.403Z"
   },
   {
    "duration": 22,
    "start_time": "2022-02-24T10:35:36.951Z"
   },
   {
    "duration": 23,
    "start_time": "2022-02-24T10:35:36.976Z"
   },
   {
    "duration": 84,
    "start_time": "2022-02-24T10:35:37.002Z"
   },
   {
    "duration": 306,
    "start_time": "2022-02-24T10:35:37.089Z"
   },
   {
    "duration": 28,
    "start_time": "2022-02-24T10:35:37.398Z"
   },
   {
    "duration": 4,
    "start_time": "2022-02-24T10:35:37.428Z"
   },
   {
    "duration": 21,
    "start_time": "2022-02-24T10:35:58.723Z"
   },
   {
    "duration": 19,
    "start_time": "2022-02-24T10:36:39.961Z"
   },
   {
    "duration": 6,
    "start_time": "2022-02-24T10:37:37.215Z"
   },
   {
    "duration": 1249,
    "start_time": "2022-02-24T10:37:37.225Z"
   },
   {
    "duration": 168,
    "start_time": "2022-02-24T10:37:38.477Z"
   },
   {
    "duration": 19,
    "start_time": "2022-02-24T10:37:38.648Z"
   },
   {
    "duration": 183,
    "start_time": "2022-02-24T10:37:38.670Z"
   },
   {
    "duration": 5,
    "start_time": "2022-02-24T10:37:38.855Z"
   },
   {
    "duration": 10,
    "start_time": "2022-02-24T10:37:38.862Z"
   },
   {
    "duration": 7,
    "start_time": "2022-02-24T10:37:38.875Z"
   },
   {
    "duration": 227,
    "start_time": "2022-02-24T10:37:38.886Z"
   },
   {
    "duration": 489,
    "start_time": "2022-02-24T10:37:39.116Z"
   },
   {
    "duration": 620,
    "start_time": "2022-02-24T10:37:39.608Z"
   },
   {
    "duration": 1484,
    "start_time": "2022-02-24T10:37:40.231Z"
   },
   {
    "duration": 361,
    "start_time": "2022-02-24T10:37:41.718Z"
   },
   {
    "duration": 25,
    "start_time": "2022-02-24T10:37:42.081Z"
   },
   {
    "duration": 4,
    "start_time": "2022-02-24T10:37:42.109Z"
   },
   {
    "duration": 12,
    "start_time": "2022-02-24T10:37:42.127Z"
   },
   {
    "duration": 32,
    "start_time": "2022-02-24T10:37:42.142Z"
   },
   {
    "duration": 2342,
    "start_time": "2022-02-24T10:37:42.176Z"
   },
   {
    "duration": 37,
    "start_time": "2022-02-24T10:37:44.526Z"
   },
   {
    "duration": 11,
    "start_time": "2022-02-24T10:37:44.566Z"
   },
   {
    "duration": 49,
    "start_time": "2022-02-24T10:37:44.579Z"
   },
   {
    "duration": 49,
    "start_time": "2022-02-24T10:37:44.630Z"
   },
   {
    "duration": 47,
    "start_time": "2022-02-24T10:37:44.683Z"
   },
   {
    "duration": 65,
    "start_time": "2022-02-24T10:37:44.732Z"
   },
   {
    "duration": 541,
    "start_time": "2022-02-24T10:37:44.799Z"
   },
   {
    "duration": 1777,
    "start_time": "2022-02-24T10:37:45.342Z"
   },
   {
    "duration": 21,
    "start_time": "2022-02-24T10:37:47.128Z"
   },
   {
    "duration": 22,
    "start_time": "2022-02-24T10:37:47.153Z"
   },
   {
    "duration": 69,
    "start_time": "2022-02-24T10:37:47.178Z"
   },
   {
    "duration": 545,
    "start_time": "2022-02-24T10:37:47.251Z"
   },
   {
    "duration": 659,
    "start_time": "2022-02-24T10:37:47.799Z"
   },
   {
    "duration": 142,
    "start_time": "2022-02-24T10:37:48.461Z"
   },
   {
    "duration": 33,
    "start_time": "2022-02-24T10:37:48.606Z"
   },
   {
    "duration": 497,
    "start_time": "2022-02-24T10:37:48.642Z"
   },
   {
    "duration": 884,
    "start_time": "2022-02-24T10:37:49.142Z"
   },
   {
    "duration": 24,
    "start_time": "2022-02-24T10:37:50.029Z"
   },
   {
    "duration": 10,
    "start_time": "2022-02-24T10:37:50.056Z"
   },
   {
    "duration": 10,
    "start_time": "2022-02-24T10:37:50.068Z"
   },
   {
    "duration": 26,
    "start_time": "2022-02-24T10:37:50.126Z"
   },
   {
    "duration": 13,
    "start_time": "2022-02-24T10:37:50.155Z"
   },
   {
    "duration": 622,
    "start_time": "2022-02-24T10:37:50.171Z"
   },
   {
    "duration": 8,
    "start_time": "2022-02-24T10:37:50.796Z"
   },
   {
    "duration": 25,
    "start_time": "2022-02-24T10:37:50.807Z"
   },
   {
    "duration": 22,
    "start_time": "2022-02-24T10:37:50.835Z"
   },
   {
    "duration": 11,
    "start_time": "2022-02-24T10:37:50.860Z"
   },
   {
    "duration": 27,
    "start_time": "2022-02-24T10:37:50.873Z"
   },
   {
    "duration": 63,
    "start_time": "2022-02-24T10:37:50.903Z"
   },
   {
    "duration": 993,
    "start_time": "2022-02-24T10:37:50.969Z"
   },
   {
    "duration": 10,
    "start_time": "2022-02-24T10:37:51.965Z"
   },
   {
    "duration": 32,
    "start_time": "2022-02-24T10:37:51.978Z"
   },
   {
    "duration": 16,
    "start_time": "2022-02-24T10:37:52.014Z"
   },
   {
    "duration": 17,
    "start_time": "2022-02-24T10:37:52.032Z"
   },
   {
    "duration": 24,
    "start_time": "2022-02-24T10:37:52.052Z"
   },
   {
    "duration": 25,
    "start_time": "2022-02-24T10:37:52.078Z"
   },
   {
    "duration": 30,
    "start_time": "2022-02-24T10:37:52.106Z"
   },
   {
    "duration": 58,
    "start_time": "2022-02-24T10:37:52.139Z"
   },
   {
    "duration": 19,
    "start_time": "2022-02-24T10:37:52.200Z"
   },
   {
    "duration": 26,
    "start_time": "2022-02-24T10:37:52.222Z"
   },
   {
    "duration": 21,
    "start_time": "2022-02-24T10:37:52.250Z"
   },
   {
    "duration": 27,
    "start_time": "2022-02-24T10:37:52.273Z"
   },
   {
    "duration": 30,
    "start_time": "2022-02-24T10:37:52.303Z"
   },
   {
    "duration": 5,
    "start_time": "2022-02-24T10:37:52.335Z"
   },
   {
    "duration": 4,
    "start_time": "2022-02-24T10:37:56.838Z"
   },
   {
    "duration": 5,
    "start_time": "2022-02-24T10:37:57.343Z"
   },
   {
    "duration": 171,
    "start_time": "2022-02-24T10:38:00.372Z"
   },
   {
    "duration": 6,
    "start_time": "2022-02-24T10:39:05.353Z"
   },
   {
    "duration": 6,
    "start_time": "2022-02-24T10:40:08.366Z"
   },
   {
    "duration": 1151,
    "start_time": "2022-02-24T10:40:08.375Z"
   },
   {
    "duration": 172,
    "start_time": "2022-02-24T10:40:09.529Z"
   },
   {
    "duration": 25,
    "start_time": "2022-02-24T10:40:09.703Z"
   },
   {
    "duration": 184,
    "start_time": "2022-02-24T10:40:09.732Z"
   },
   {
    "duration": 9,
    "start_time": "2022-02-24T10:40:09.919Z"
   },
   {
    "duration": 18,
    "start_time": "2022-02-24T10:40:09.930Z"
   },
   {
    "duration": 7,
    "start_time": "2022-02-24T10:40:09.952Z"
   },
   {
    "duration": 208,
    "start_time": "2022-02-24T10:40:09.962Z"
   },
   {
    "duration": 522,
    "start_time": "2022-02-24T10:40:10.173Z"
   },
   {
    "duration": 587,
    "start_time": "2022-02-24T10:40:10.698Z"
   },
   {
    "duration": 1239,
    "start_time": "2022-02-24T10:40:11.288Z"
   },
   {
    "duration": 342,
    "start_time": "2022-02-24T10:40:12.529Z"
   },
   {
    "duration": 21,
    "start_time": "2022-02-24T10:40:12.874Z"
   },
   {
    "duration": 7,
    "start_time": "2022-02-24T10:40:12.898Z"
   },
   {
    "duration": 24,
    "start_time": "2022-02-24T10:40:12.907Z"
   },
   {
    "duration": 26,
    "start_time": "2022-02-24T10:40:12.934Z"
   },
   {
    "duration": 2259,
    "start_time": "2022-02-24T10:40:12.962Z"
   },
   {
    "duration": 38,
    "start_time": "2022-02-24T10:40:15.226Z"
   },
   {
    "duration": 12,
    "start_time": "2022-02-24T10:40:15.267Z"
   },
   {
    "duration": 54,
    "start_time": "2022-02-24T10:40:15.282Z"
   },
   {
    "duration": 47,
    "start_time": "2022-02-24T10:40:15.339Z"
   },
   {
    "duration": 41,
    "start_time": "2022-02-24T10:40:15.393Z"
   },
   {
    "duration": 56,
    "start_time": "2022-02-24T10:40:15.437Z"
   },
   {
    "duration": 507,
    "start_time": "2022-02-24T10:40:15.495Z"
   },
   {
    "duration": 1711,
    "start_time": "2022-02-24T10:40:16.004Z"
   },
   {
    "duration": 25,
    "start_time": "2022-02-24T10:40:17.717Z"
   },
   {
    "duration": 17,
    "start_time": "2022-02-24T10:40:17.745Z"
   },
   {
    "duration": 21,
    "start_time": "2022-02-24T10:40:17.765Z"
   },
   {
    "duration": 478,
    "start_time": "2022-02-24T10:40:17.788Z"
   },
   {
    "duration": 424,
    "start_time": "2022-02-24T10:40:18.268Z"
   },
   {
    "duration": 33,
    "start_time": "2022-02-24T10:40:18.694Z"
   },
   {
    "duration": 573,
    "start_time": "2022-02-24T10:40:18.730Z"
   },
   {
    "duration": 853,
    "start_time": "2022-02-24T10:40:19.306Z"
   },
   {
    "duration": 21,
    "start_time": "2022-02-24T10:40:20.161Z"
   },
   {
    "duration": 9,
    "start_time": "2022-02-24T10:40:20.184Z"
   },
   {
    "duration": 37,
    "start_time": "2022-02-24T10:40:20.195Z"
   },
   {
    "duration": 30,
    "start_time": "2022-02-24T10:40:20.234Z"
   },
   {
    "duration": 13,
    "start_time": "2022-02-24T10:40:20.267Z"
   },
   {
    "duration": 589,
    "start_time": "2022-02-24T10:40:20.283Z"
   },
   {
    "duration": 8,
    "start_time": "2022-02-24T10:40:20.875Z"
   },
   {
    "duration": 8,
    "start_time": "2022-02-24T10:40:20.886Z"
   },
   {
    "duration": 38,
    "start_time": "2022-02-24T10:40:20.896Z"
   },
   {
    "duration": 12,
    "start_time": "2022-02-24T10:40:20.936Z"
   },
   {
    "duration": 9,
    "start_time": "2022-02-24T10:40:20.951Z"
   },
   {
    "duration": 74,
    "start_time": "2022-02-24T10:40:20.962Z"
   },
   {
    "duration": 1145,
    "start_time": "2022-02-24T10:40:21.039Z"
   },
   {
    "duration": 10,
    "start_time": "2022-02-24T10:40:22.187Z"
   },
   {
    "duration": 33,
    "start_time": "2022-02-24T10:40:22.199Z"
   },
   {
    "duration": 23,
    "start_time": "2022-02-24T10:40:22.235Z"
   },
   {
    "duration": 24,
    "start_time": "2022-02-24T10:40:22.261Z"
   },
   {
    "duration": 31,
    "start_time": "2022-02-24T10:40:22.288Z"
   },
   {
    "duration": 20,
    "start_time": "2022-02-24T10:40:22.322Z"
   },
   {
    "duration": 17,
    "start_time": "2022-02-24T10:40:22.345Z"
   },
   {
    "duration": 76,
    "start_time": "2022-02-24T10:40:22.364Z"
   },
   {
    "duration": 21,
    "start_time": "2022-02-24T10:40:22.443Z"
   },
   {
    "duration": 12,
    "start_time": "2022-02-24T10:40:22.466Z"
   },
   {
    "duration": 30,
    "start_time": "2022-02-24T10:40:22.481Z"
   },
   {
    "duration": 49,
    "start_time": "2022-02-24T10:40:22.514Z"
   },
   {
    "duration": 25,
    "start_time": "2022-02-24T10:40:22.566Z"
   },
   {
    "duration": 5,
    "start_time": "2022-02-24T10:40:25.197Z"
   },
   {
    "duration": 4,
    "start_time": "2022-02-24T10:40:25.715Z"
   },
   {
    "duration": 96,
    "start_time": "2022-02-24T10:40:26.147Z"
   },
   {
    "duration": 7,
    "start_time": "2022-02-24T10:42:12.619Z"
   },
   {
    "duration": 1197,
    "start_time": "2022-02-24T10:42:12.628Z"
   },
   {
    "duration": 170,
    "start_time": "2022-02-24T10:42:13.828Z"
   },
   {
    "duration": 27,
    "start_time": "2022-02-24T10:42:14.001Z"
   },
   {
    "duration": 184,
    "start_time": "2022-02-24T10:42:14.031Z"
   },
   {
    "duration": 9,
    "start_time": "2022-02-24T10:42:14.218Z"
   },
   {
    "duration": 18,
    "start_time": "2022-02-24T10:42:14.230Z"
   },
   {
    "duration": 6,
    "start_time": "2022-02-24T10:42:14.251Z"
   },
   {
    "duration": 225,
    "start_time": "2022-02-24T10:42:14.262Z"
   },
   {
    "duration": 434,
    "start_time": "2022-02-24T10:42:14.491Z"
   },
   {
    "duration": 605,
    "start_time": "2022-02-24T10:42:14.928Z"
   },
   {
    "duration": 1306,
    "start_time": "2022-02-24T10:42:15.537Z"
   },
   {
    "duration": 349,
    "start_time": "2022-02-24T10:42:16.846Z"
   },
   {
    "duration": 30,
    "start_time": "2022-02-24T10:42:17.198Z"
   },
   {
    "duration": 3,
    "start_time": "2022-02-24T10:42:17.230Z"
   },
   {
    "duration": 8,
    "start_time": "2022-02-24T10:42:17.235Z"
   },
   {
    "duration": 36,
    "start_time": "2022-02-24T10:42:17.245Z"
   },
   {
    "duration": 2297,
    "start_time": "2022-02-24T10:42:17.283Z"
   },
   {
    "duration": 50,
    "start_time": "2022-02-24T10:42:19.582Z"
   },
   {
    "duration": 15,
    "start_time": "2022-02-24T10:42:19.635Z"
   },
   {
    "duration": 25,
    "start_time": "2022-02-24T10:42:19.652Z"
   },
   {
    "duration": 79,
    "start_time": "2022-02-24T10:42:19.680Z"
   },
   {
    "duration": 18,
    "start_time": "2022-02-24T10:42:19.762Z"
   },
   {
    "duration": 76,
    "start_time": "2022-02-24T10:42:19.783Z"
   },
   {
    "duration": 538,
    "start_time": "2022-02-24T10:42:19.861Z"
   },
   {
    "duration": 1780,
    "start_time": "2022-02-24T10:42:20.402Z"
   },
   {
    "duration": 20,
    "start_time": "2022-02-24T10:42:22.187Z"
   },
   {
    "duration": 18,
    "start_time": "2022-02-24T10:42:22.226Z"
   },
   {
    "duration": 20,
    "start_time": "2022-02-24T10:42:22.246Z"
   },
   {
    "duration": 479,
    "start_time": "2022-02-24T10:42:22.268Z"
   },
   {
    "duration": 404,
    "start_time": "2022-02-24T10:42:22.749Z"
   },
   {
    "duration": 21,
    "start_time": "2022-02-24T10:42:23.156Z"
   },
   {
    "duration": 489,
    "start_time": "2022-02-24T10:42:23.179Z"
   },
   {
    "duration": 872,
    "start_time": "2022-02-24T10:42:23.670Z"
   },
   {
    "duration": 22,
    "start_time": "2022-02-24T10:42:24.544Z"
   },
   {
    "duration": 9,
    "start_time": "2022-02-24T10:42:24.568Z"
   },
   {
    "duration": 15,
    "start_time": "2022-02-24T10:42:24.579Z"
   },
   {
    "duration": 1030,
    "start_time": "2022-02-24T10:43:05.715Z"
   },
   {
    "duration": 356,
    "start_time": "2022-02-24T10:44:28.761Z"
   },
   {
    "duration": 1762,
    "start_time": "2022-02-24T10:44:56.224Z"
   },
   {
    "duration": 3491,
    "start_time": "2022-02-24T10:45:01.978Z"
   },
   {
    "duration": 636,
    "start_time": "2022-02-24T10:46:10.410Z"
   },
   {
    "duration": 838,
    "start_time": "2022-02-24T10:46:44.564Z"
   },
   {
    "duration": 1717,
    "start_time": "2022-02-24T10:46:48.917Z"
   },
   {
    "duration": 1754,
    "start_time": "2022-02-24T10:47:02.764Z"
   },
   {
    "duration": 20,
    "start_time": "2022-02-24T10:47:19.590Z"
   },
   {
    "duration": 20,
    "start_time": "2022-02-24T10:47:22.705Z"
   },
   {
    "duration": 1827,
    "start_time": "2022-02-24T10:47:23.277Z"
   },
   {
    "duration": 12,
    "start_time": "2022-02-24T10:47:30.637Z"
   },
   {
    "duration": 7,
    "start_time": "2022-02-24T10:47:33.116Z"
   },
   {
    "duration": 53,
    "start_time": "2022-02-24T10:47:49.823Z"
   },
   {
    "duration": 54,
    "start_time": "2022-02-24T10:47:50.888Z"
   },
   {
    "duration": 5,
    "start_time": "2022-02-24T10:47:52.381Z"
   },
   {
    "duration": 6,
    "start_time": "2022-02-24T10:47:57.130Z"
   },
   {
    "duration": 1140,
    "start_time": "2022-02-24T10:47:57.138Z"
   },
   {
    "duration": 173,
    "start_time": "2022-02-24T10:47:58.281Z"
   },
   {
    "duration": 21,
    "start_time": "2022-02-24T10:47:58.457Z"
   },
   {
    "duration": 186,
    "start_time": "2022-02-24T10:47:58.480Z"
   },
   {
    "duration": 5,
    "start_time": "2022-02-24T10:47:58.668Z"
   },
   {
    "duration": 13,
    "start_time": "2022-02-24T10:47:58.675Z"
   },
   {
    "duration": 6,
    "start_time": "2022-02-24T10:47:58.692Z"
   },
   {
    "duration": 201,
    "start_time": "2022-02-24T10:47:58.726Z"
   },
   {
    "duration": 481,
    "start_time": "2022-02-24T10:47:58.930Z"
   },
   {
    "duration": 604,
    "start_time": "2022-02-24T10:47:59.413Z"
   },
   {
    "duration": 1411,
    "start_time": "2022-02-24T10:48:00.019Z"
   },
   {
    "duration": 359,
    "start_time": "2022-02-24T10:48:01.432Z"
   },
   {
    "duration": 32,
    "start_time": "2022-02-24T10:48:01.794Z"
   },
   {
    "duration": 12,
    "start_time": "2022-02-24T10:48:01.829Z"
   },
   {
    "duration": 21,
    "start_time": "2022-02-24T10:48:01.844Z"
   },
   {
    "duration": 41,
    "start_time": "2022-02-24T10:48:01.868Z"
   },
   {
    "duration": 2580,
    "start_time": "2022-02-24T10:48:01.912Z"
   },
   {
    "duration": 51,
    "start_time": "2022-02-24T10:48:04.495Z"
   },
   {
    "duration": 12,
    "start_time": "2022-02-24T10:48:04.548Z"
   },
   {
    "duration": 30,
    "start_time": "2022-02-24T10:48:04.562Z"
   },
   {
    "duration": 72,
    "start_time": "2022-02-24T10:48:04.595Z"
   },
   {
    "duration": 21,
    "start_time": "2022-02-24T10:48:04.673Z"
   },
   {
    "duration": 82,
    "start_time": "2022-02-24T10:48:04.698Z"
   },
   {
    "duration": 571,
    "start_time": "2022-02-24T10:48:04.783Z"
   },
   {
    "duration": 1950,
    "start_time": "2022-02-24T10:48:05.358Z"
   },
   {
    "duration": 35,
    "start_time": "2022-02-24T10:48:07.312Z"
   },
   {
    "duration": 25,
    "start_time": "2022-02-24T10:48:07.350Z"
   },
   {
    "duration": 500,
    "start_time": "2022-02-24T10:48:07.378Z"
   },
   {
    "duration": 463,
    "start_time": "2022-02-24T10:48:07.881Z"
   },
   {
    "duration": 23,
    "start_time": "2022-02-24T10:48:08.347Z"
   },
   {
    "duration": 1292,
    "start_time": "2022-02-24T10:48:08.372Z"
   },
   {
    "duration": 3231,
    "start_time": "2022-02-24T10:48:09.667Z"
   },
   {
    "duration": 41,
    "start_time": "2022-02-24T10:48:12.901Z"
   },
   {
    "duration": 12,
    "start_time": "2022-02-24T10:48:12.945Z"
   },
   {
    "duration": 30,
    "start_time": "2022-02-24T10:48:12.960Z"
   },
   {
    "duration": 42,
    "start_time": "2022-02-24T10:48:12.994Z"
   },
   {
    "duration": 1764,
    "start_time": "2022-02-24T10:48:13.038Z"
   },
   {
    "duration": 7,
    "start_time": "2022-02-24T10:48:14.805Z"
   },
   {
    "duration": 8,
    "start_time": "2022-02-24T10:48:14.827Z"
   },
   {
    "duration": 9,
    "start_time": "2022-02-24T10:48:14.837Z"
   },
   {
    "duration": 7,
    "start_time": "2022-02-24T10:48:14.849Z"
   },
   {
    "duration": 7,
    "start_time": "2022-02-24T10:48:14.859Z"
   },
   {
    "duration": 7,
    "start_time": "2022-02-24T10:49:58.340Z"
   },
   {
    "duration": 1128,
    "start_time": "2022-02-24T10:49:58.351Z"
   },
   {
    "duration": 169,
    "start_time": "2022-02-24T10:49:59.482Z"
   },
   {
    "duration": 30,
    "start_time": "2022-02-24T10:49:59.654Z"
   },
   {
    "duration": 174,
    "start_time": "2022-02-24T10:49:59.687Z"
   },
   {
    "duration": 4,
    "start_time": "2022-02-24T10:49:59.864Z"
   },
   {
    "duration": 14,
    "start_time": "2022-02-24T10:49:59.871Z"
   },
   {
    "duration": 15,
    "start_time": "2022-02-24T10:49:59.888Z"
   },
   {
    "duration": 212,
    "start_time": "2022-02-24T10:49:59.907Z"
   },
   {
    "duration": 490,
    "start_time": "2022-02-24T10:50:00.126Z"
   },
   {
    "duration": 647,
    "start_time": "2022-02-24T10:50:00.627Z"
   },
   {
    "duration": 1423,
    "start_time": "2022-02-24T10:50:01.277Z"
   },
   {
    "duration": 348,
    "start_time": "2022-02-24T10:50:02.702Z"
   },
   {
    "duration": 21,
    "start_time": "2022-02-24T10:50:03.052Z"
   },
   {
    "duration": 7,
    "start_time": "2022-02-24T10:50:03.076Z"
   },
   {
    "duration": 14,
    "start_time": "2022-02-24T10:50:03.086Z"
   },
   {
    "duration": 49,
    "start_time": "2022-02-24T10:50:03.102Z"
   },
   {
    "duration": 2875,
    "start_time": "2022-02-24T10:50:03.154Z"
   },
   {
    "duration": 38,
    "start_time": "2022-02-24T10:50:06.032Z"
   },
   {
    "duration": 11,
    "start_time": "2022-02-24T10:50:06.073Z"
   },
   {
    "duration": 53,
    "start_time": "2022-02-24T10:50:06.087Z"
   },
   {
    "duration": 48,
    "start_time": "2022-02-24T10:50:06.142Z"
   },
   {
    "duration": 44,
    "start_time": "2022-02-24T10:50:06.192Z"
   },
   {
    "duration": 56,
    "start_time": "2022-02-24T10:50:06.239Z"
   },
   {
    "duration": 535,
    "start_time": "2022-02-24T10:50:06.298Z"
   },
   {
    "duration": 1761,
    "start_time": "2022-02-24T10:50:06.835Z"
   },
   {
    "duration": 39,
    "start_time": "2022-02-24T10:50:08.604Z"
   },
   {
    "duration": 19,
    "start_time": "2022-02-24T10:50:08.646Z"
   },
   {
    "duration": 500,
    "start_time": "2022-02-24T10:50:08.667Z"
   },
   {
    "duration": 573,
    "start_time": "2022-02-24T10:50:09.170Z"
   },
   {
    "duration": 22,
    "start_time": "2022-02-24T10:50:09.746Z"
   },
   {
    "duration": 1049,
    "start_time": "2022-02-24T10:50:09.771Z"
   },
   {
    "duration": 3210,
    "start_time": "2022-02-24T10:50:10.826Z"
   },
   {
    "duration": 23,
    "start_time": "2022-02-24T10:50:14.039Z"
   },
   {
    "duration": 11,
    "start_time": "2022-02-24T10:50:14.065Z"
   },
   {
    "duration": 89,
    "start_time": "2022-02-24T10:50:14.079Z"
   },
   {
    "duration": 20,
    "start_time": "2022-02-24T10:50:14.171Z"
   },
   {
    "duration": 1659,
    "start_time": "2022-02-24T10:50:14.193Z"
   },
   {
    "duration": 10,
    "start_time": "2022-02-24T10:50:15.855Z"
   },
   {
    "duration": 9,
    "start_time": "2022-02-24T10:50:15.868Z"
   },
   {
    "duration": 84,
    "start_time": "2022-02-24T10:50:15.879Z"
   },
   {
    "duration": 49,
    "start_time": "2022-02-24T10:50:15.966Z"
   },
   {
    "duration": 5,
    "start_time": "2022-02-24T10:50:21.142Z"
   },
   {
    "duration": 6,
    "start_time": "2022-02-24T10:50:41.754Z"
   },
   {
    "duration": 1254,
    "start_time": "2022-02-24T10:50:41.763Z"
   },
   {
    "duration": 160,
    "start_time": "2022-02-24T10:50:43.020Z"
   },
   {
    "duration": 21,
    "start_time": "2022-02-24T10:50:43.182Z"
   },
   {
    "duration": 171,
    "start_time": "2022-02-24T10:50:43.205Z"
   },
   {
    "duration": 5,
    "start_time": "2022-02-24T10:50:43.378Z"
   },
   {
    "duration": 21,
    "start_time": "2022-02-24T10:50:43.385Z"
   },
   {
    "duration": 8,
    "start_time": "2022-02-24T10:50:43.410Z"
   },
   {
    "duration": 331,
    "start_time": "2022-02-24T10:50:43.424Z"
   },
   {
    "duration": 628,
    "start_time": "2022-02-24T10:50:43.758Z"
   },
   {
    "duration": 586,
    "start_time": "2022-02-24T10:50:44.389Z"
   },
   {
    "duration": 1265,
    "start_time": "2022-02-24T10:50:44.977Z"
   },
   {
    "duration": 342,
    "start_time": "2022-02-24T10:50:46.244Z"
   },
   {
    "duration": 22,
    "start_time": "2022-02-24T10:50:46.589Z"
   },
   {
    "duration": 14,
    "start_time": "2022-02-24T10:50:46.613Z"
   },
   {
    "duration": 10,
    "start_time": "2022-02-24T10:50:46.630Z"
   },
   {
    "duration": 35,
    "start_time": "2022-02-24T10:50:46.642Z"
   },
   {
    "duration": 2436,
    "start_time": "2022-02-24T10:50:46.680Z"
   },
   {
    "duration": 42,
    "start_time": "2022-02-24T10:50:49.118Z"
   },
   {
    "duration": 11,
    "start_time": "2022-02-24T10:50:49.162Z"
   },
   {
    "duration": 54,
    "start_time": "2022-02-24T10:50:49.176Z"
   },
   {
    "duration": 47,
    "start_time": "2022-02-24T10:50:49.233Z"
   },
   {
    "duration": 44,
    "start_time": "2022-02-24T10:50:49.283Z"
   },
   {
    "duration": 55,
    "start_time": "2022-02-24T10:50:49.330Z"
   },
   {
    "duration": 538,
    "start_time": "2022-02-24T10:50:49.388Z"
   },
   {
    "duration": 1667,
    "start_time": "2022-02-24T10:50:49.928Z"
   },
   {
    "duration": 30,
    "start_time": "2022-02-24T10:50:51.600Z"
   },
   {
    "duration": 17,
    "start_time": "2022-02-24T10:50:51.633Z"
   },
   {
    "duration": 621,
    "start_time": "2022-02-24T10:50:51.653Z"
   },
   {
    "duration": 450,
    "start_time": "2022-02-24T10:50:52.276Z"
   },
   {
    "duration": 22,
    "start_time": "2022-02-24T10:50:52.728Z"
   },
   {
    "duration": 883,
    "start_time": "2022-02-24T10:50:52.752Z"
   },
   {
    "duration": 3082,
    "start_time": "2022-02-24T10:50:53.637Z"
   },
   {
    "duration": 25,
    "start_time": "2022-02-24T10:50:56.722Z"
   },
   {
    "duration": 11,
    "start_time": "2022-02-24T10:50:56.749Z"
   },
   {
    "duration": 87,
    "start_time": "2022-02-24T10:50:56.762Z"
   },
   {
    "duration": 20,
    "start_time": "2022-02-24T10:50:56.851Z"
   },
   {
    "duration": 1678,
    "start_time": "2022-02-24T10:50:56.874Z"
   },
   {
    "duration": 10,
    "start_time": "2022-02-24T10:50:58.555Z"
   },
   {
    "duration": 12,
    "start_time": "2022-02-24T10:50:58.567Z"
   },
   {
    "duration": 82,
    "start_time": "2022-02-24T10:50:58.581Z"
   },
   {
    "duration": 60,
    "start_time": "2022-02-24T10:50:58.666Z"
   },
   {
    "duration": 6,
    "start_time": "2022-02-24T10:50:58.728Z"
   },
   {
    "duration": 417,
    "start_time": "2022-02-24T10:50:58.736Z"
   },
   {
    "duration": 1417,
    "start_time": "2022-02-24T10:50:59.155Z"
   },
   {
    "duration": 11,
    "start_time": "2022-02-24T10:51:00.574Z"
   },
   {
    "duration": 10,
    "start_time": "2022-02-24T10:51:00.587Z"
   },
   {
    "duration": 52,
    "start_time": "2022-02-24T10:51:00.599Z"
   },
   {
    "duration": 80,
    "start_time": "2022-02-24T10:51:00.654Z"
   },
   {
    "duration": 12,
    "start_time": "2022-02-24T10:51:00.737Z"
   },
   {
    "duration": 22,
    "start_time": "2022-02-24T10:51:00.752Z"
   },
   {
    "duration": 14,
    "start_time": "2022-02-24T10:51:00.777Z"
   },
   {
    "duration": 1712,
    "start_time": "2022-02-24T10:51:00.794Z"
   },
   {
    "duration": 29,
    "start_time": "2022-02-24T10:51:02.509Z"
   },
   {
    "duration": 29,
    "start_time": "2022-02-24T10:51:02.541Z"
   },
   {
    "duration": 86,
    "start_time": "2022-02-24T10:51:02.573Z"
   },
   {
    "duration": 308,
    "start_time": "2022-02-24T10:51:02.662Z"
   },
   {
    "duration": 21,
    "start_time": "2022-02-24T10:51:02.972Z"
   },
   {
    "duration": 5,
    "start_time": "2022-02-24T10:51:05.099Z"
   },
   {
    "duration": 4,
    "start_time": "2022-02-24T10:51:05.607Z"
   },
   {
    "duration": 2196,
    "start_time": "2022-02-24T10:51:06.233Z"
   },
   {
    "duration": 6,
    "start_time": "2022-02-24T10:51:37.392Z"
   },
   {
    "duration": 38018,
    "start_time": "2022-02-24T10:51:48.442Z"
   },
   {
    "duration": 11,
    "start_time": "2022-02-24T10:53:47.767Z"
   },
   {
    "duration": 10,
    "start_time": "2022-02-24T10:53:55.870Z"
   },
   {
    "duration": 322,
    "start_time": "2022-02-24T10:54:35.151Z"
   },
   {
    "duration": 22,
    "start_time": "2022-02-24T10:54:47.702Z"
   },
   {
    "duration": 490,
    "start_time": "2022-02-24T10:54:48.981Z"
   },
   {
    "duration": 6,
    "start_time": "2022-02-24T10:57:37.716Z"
   },
   {
    "duration": 1139,
    "start_time": "2022-02-24T10:57:37.725Z"
   },
   {
    "duration": 167,
    "start_time": "2022-02-24T10:57:38.867Z"
   },
   {
    "duration": 23,
    "start_time": "2022-02-24T10:57:39.037Z"
   },
   {
    "duration": 185,
    "start_time": "2022-02-24T10:57:39.062Z"
   },
   {
    "duration": 5,
    "start_time": "2022-02-24T10:57:39.249Z"
   },
   {
    "duration": 13,
    "start_time": "2022-02-24T10:57:39.256Z"
   },
   {
    "duration": 6,
    "start_time": "2022-02-24T10:57:39.271Z"
   },
   {
    "duration": 312,
    "start_time": "2022-02-24T10:57:39.281Z"
   },
   {
    "duration": 536,
    "start_time": "2022-02-24T10:57:39.596Z"
   },
   {
    "duration": 580,
    "start_time": "2022-02-24T10:57:40.135Z"
   },
   {
    "duration": 1363,
    "start_time": "2022-02-24T10:57:40.718Z"
   },
   {
    "duration": 349,
    "start_time": "2022-02-24T10:57:42.084Z"
   },
   {
    "duration": 22,
    "start_time": "2022-02-24T10:57:42.436Z"
   },
   {
    "duration": 7,
    "start_time": "2022-02-24T10:57:42.461Z"
   },
   {
    "duration": 8,
    "start_time": "2022-02-24T10:57:42.470Z"
   },
   {
    "duration": 58,
    "start_time": "2022-02-24T10:57:42.481Z"
   },
   {
    "duration": 2203,
    "start_time": "2022-02-24T10:57:42.541Z"
   },
   {
    "duration": 37,
    "start_time": "2022-02-24T10:57:44.747Z"
   },
   {
    "duration": 13,
    "start_time": "2022-02-24T10:57:44.786Z"
   },
   {
    "duration": 25,
    "start_time": "2022-02-24T10:57:44.827Z"
   },
   {
    "duration": 48,
    "start_time": "2022-02-24T10:57:44.854Z"
   },
   {
    "duration": 19,
    "start_time": "2022-02-24T10:57:44.926Z"
   },
   {
    "duration": 83,
    "start_time": "2022-02-24T10:57:44.949Z"
   },
   {
    "duration": 11,
    "start_time": "2022-02-24T10:57:45.035Z"
   },
   {
    "duration": 80,
    "start_time": "2022-02-24T10:57:45.049Z"
   },
   {
    "duration": 490,
    "start_time": "2022-02-24T10:57:45.136Z"
   },
   {
    "duration": 1740,
    "start_time": "2022-02-24T10:57:45.629Z"
   },
   {
    "duration": 21,
    "start_time": "2022-02-24T10:57:47.372Z"
   },
   {
    "duration": 37,
    "start_time": "2022-02-24T10:57:47.396Z"
   },
   {
    "duration": 442,
    "start_time": "2022-02-24T10:57:47.436Z"
   },
   {
    "duration": 434,
    "start_time": "2022-02-24T10:57:47.881Z"
   },
   {
    "duration": 27,
    "start_time": "2022-02-24T10:57:48.317Z"
   },
   {
    "duration": 898,
    "start_time": "2022-02-24T10:57:48.347Z"
   },
   {
    "duration": 3164,
    "start_time": "2022-02-24T10:57:49.248Z"
   },
   {
    "duration": 30,
    "start_time": "2022-02-24T10:57:52.414Z"
   },
   {
    "duration": 10,
    "start_time": "2022-02-24T10:57:52.446Z"
   },
   {
    "duration": 83,
    "start_time": "2022-02-24T10:57:52.458Z"
   },
   {
    "duration": 20,
    "start_time": "2022-02-24T10:57:52.543Z"
   },
   {
    "duration": 1855,
    "start_time": "2022-02-24T10:57:52.565Z"
   },
   {
    "duration": 10,
    "start_time": "2022-02-24T10:57:54.427Z"
   },
   {
    "duration": 8,
    "start_time": "2022-02-24T10:57:54.439Z"
   },
   {
    "duration": 82,
    "start_time": "2022-02-24T10:57:54.449Z"
   },
   {
    "duration": 48,
    "start_time": "2022-02-24T10:57:54.534Z"
   },
   {
    "duration": 6,
    "start_time": "2022-02-24T10:57:54.585Z"
   },
   {
    "duration": 437,
    "start_time": "2022-02-24T10:57:54.594Z"
   },
   {
    "duration": 1161,
    "start_time": "2022-02-24T10:57:55.034Z"
   },
   {
    "duration": 11,
    "start_time": "2022-02-24T10:57:56.198Z"
   },
   {
    "duration": 75,
    "start_time": "2022-02-24T10:57:56.227Z"
   },
   {
    "duration": 38,
    "start_time": "2022-02-24T10:57:56.305Z"
   },
   {
    "duration": 44,
    "start_time": "2022-02-24T10:57:56.346Z"
   },
   {
    "duration": 41,
    "start_time": "2022-02-24T10:57:56.392Z"
   },
   {
    "duration": 13,
    "start_time": "2022-02-24T10:57:56.436Z"
   },
   {
    "duration": 7,
    "start_time": "2022-02-24T10:57:56.452Z"
   },
   {
    "duration": 1540,
    "start_time": "2022-02-24T10:57:56.461Z"
   },
   {
    "duration": 30,
    "start_time": "2022-02-24T10:57:58.004Z"
   },
   {
    "duration": 27,
    "start_time": "2022-02-24T10:57:58.036Z"
   },
   {
    "duration": 99,
    "start_time": "2022-02-24T10:57:58.066Z"
   },
   {
    "duration": 421,
    "start_time": "2022-02-24T10:57:58.168Z"
   },
   {
    "duration": 36,
    "start_time": "2022-02-24T10:57:58.591Z"
   },
   {
    "duration": 4,
    "start_time": "2022-02-24T10:59:37.413Z"
   },
   {
    "duration": 4,
    "start_time": "2022-02-24T10:59:41.746Z"
   },
   {
    "duration": 3933,
    "start_time": "2022-02-24T10:59:42.821Z"
   },
   {
    "duration": 344,
    "start_time": "2022-02-24T11:00:12.137Z"
   },
   {
    "duration": 6,
    "start_time": "2022-02-24T11:00:20.356Z"
   },
   {
    "duration": 1183,
    "start_time": "2022-02-24T11:00:20.364Z"
   },
   {
    "duration": 188,
    "start_time": "2022-02-24T11:00:21.552Z"
   },
   {
    "duration": 20,
    "start_time": "2022-02-24T11:00:21.743Z"
   },
   {
    "duration": 191,
    "start_time": "2022-02-24T11:00:21.766Z"
   },
   {
    "duration": 5,
    "start_time": "2022-02-24T11:00:21.960Z"
   },
   {
    "duration": 16,
    "start_time": "2022-02-24T11:00:21.968Z"
   },
   {
    "duration": 9,
    "start_time": "2022-02-24T11:00:21.987Z"
   },
   {
    "duration": 220,
    "start_time": "2022-02-24T11:00:22.001Z"
   },
   {
    "duration": 566,
    "start_time": "2022-02-24T11:00:22.227Z"
   },
   {
    "duration": 617,
    "start_time": "2022-02-24T11:00:22.796Z"
   },
   {
    "duration": 1418,
    "start_time": "2022-02-24T11:00:23.415Z"
   },
   {
    "duration": 359,
    "start_time": "2022-02-24T11:00:24.836Z"
   },
   {
    "duration": 38,
    "start_time": "2022-02-24T11:00:25.198Z"
   },
   {
    "duration": 3,
    "start_time": "2022-02-24T11:00:25.241Z"
   },
   {
    "duration": 8,
    "start_time": "2022-02-24T11:00:25.247Z"
   },
   {
    "duration": 28,
    "start_time": "2022-02-24T11:00:25.257Z"
   },
   {
    "duration": 2377,
    "start_time": "2022-02-24T11:00:25.288Z"
   },
   {
    "duration": 38,
    "start_time": "2022-02-24T11:00:27.667Z"
   },
   {
    "duration": 24,
    "start_time": "2022-02-24T11:00:27.708Z"
   },
   {
    "duration": 26,
    "start_time": "2022-02-24T11:00:27.735Z"
   },
   {
    "duration": 80,
    "start_time": "2022-02-24T11:00:27.764Z"
   },
   {
    "duration": 22,
    "start_time": "2022-02-24T11:00:27.847Z"
   },
   {
    "duration": 88,
    "start_time": "2022-02-24T11:00:27.872Z"
   },
   {
    "duration": 11,
    "start_time": "2022-02-24T11:00:27.963Z"
   },
   {
    "duration": 81,
    "start_time": "2022-02-24T11:00:27.977Z"
   },
   {
    "duration": 547,
    "start_time": "2022-02-24T11:00:28.064Z"
   },
   {
    "duration": 2034,
    "start_time": "2022-02-24T11:00:28.615Z"
   },
   {
    "duration": 22,
    "start_time": "2022-02-24T11:00:30.652Z"
   },
   {
    "duration": 14,
    "start_time": "2022-02-24T11:00:30.677Z"
   },
   {
    "duration": 457,
    "start_time": "2022-02-24T11:00:30.694Z"
   },
   {
    "duration": 394,
    "start_time": "2022-02-24T11:00:31.153Z"
   },
   {
    "duration": 21,
    "start_time": "2022-02-24T11:00:31.549Z"
   },
   {
    "duration": 908,
    "start_time": "2022-02-24T11:00:31.573Z"
   },
   {
    "duration": 3155,
    "start_time": "2022-02-24T11:00:32.484Z"
   },
   {
    "duration": 22,
    "start_time": "2022-02-24T11:00:35.642Z"
   },
   {
    "duration": 11,
    "start_time": "2022-02-24T11:00:35.667Z"
   },
   {
    "duration": 86,
    "start_time": "2022-02-24T11:00:35.680Z"
   },
   {
    "duration": 19,
    "start_time": "2022-02-24T11:00:35.769Z"
   },
   {
    "duration": 1948,
    "start_time": "2022-02-24T11:00:35.791Z"
   },
   {
    "duration": 11,
    "start_time": "2022-02-24T11:00:37.741Z"
   },
   {
    "duration": 8,
    "start_time": "2022-02-24T11:00:37.755Z"
   },
   {
    "duration": 84,
    "start_time": "2022-02-24T11:00:37.765Z"
   },
   {
    "duration": 48,
    "start_time": "2022-02-24T11:00:37.852Z"
   },
   {
    "duration": 5,
    "start_time": "2022-02-24T11:00:37.902Z"
   },
   {
    "duration": 400,
    "start_time": "2022-02-24T11:00:37.926Z"
   },
   {
    "duration": 1189,
    "start_time": "2022-02-24T11:00:38.328Z"
   },
   {
    "duration": 23,
    "start_time": "2022-02-24T11:00:39.521Z"
   },
   {
    "duration": 152,
    "start_time": "2022-02-24T11:00:39.547Z"
   },
   {
    "duration": 31,
    "start_time": "2022-02-24T11:00:39.702Z"
   },
   {
    "duration": 70,
    "start_time": "2022-02-24T11:00:39.736Z"
   },
   {
    "duration": 14,
    "start_time": "2022-02-24T11:00:39.827Z"
   },
   {
    "duration": 11,
    "start_time": "2022-02-24T11:00:39.844Z"
   },
   {
    "duration": 8,
    "start_time": "2022-02-24T11:00:39.858Z"
   },
   {
    "duration": 1522,
    "start_time": "2022-02-24T11:00:39.869Z"
   },
   {
    "duration": 31,
    "start_time": "2022-02-24T11:00:41.394Z"
   },
   {
    "duration": 23,
    "start_time": "2022-02-24T11:00:41.428Z"
   },
   {
    "duration": 87,
    "start_time": "2022-02-24T11:00:41.454Z"
   },
   {
    "duration": 393,
    "start_time": "2022-02-24T11:00:41.543Z"
   },
   {
    "duration": 21,
    "start_time": "2022-02-24T11:00:41.939Z"
   },
   {
    "duration": 4,
    "start_time": "2022-02-24T11:01:59.552Z"
   },
   {
    "duration": 10,
    "start_time": "2022-02-24T11:02:00.006Z"
   },
   {
    "duration": 2310,
    "start_time": "2022-02-24T11:02:00.630Z"
   },
   {
    "duration": 6,
    "start_time": "2022-02-24T11:03:08.264Z"
   },
   {
    "duration": 36103,
    "start_time": "2022-02-24T11:03:12.030Z"
   },
   {
    "duration": 720,
    "start_time": "2022-02-24T11:04:06.811Z"
   },
   {
    "duration": 6,
    "start_time": "2022-02-24T11:05:17.723Z"
   },
   {
    "duration": 763157,
    "start_time": "2022-02-24T11:05:19.898Z"
   },
   {
    "duration": 81865,
    "start_time": "2022-02-24T11:39:54.662Z"
   },
   {
    "duration": 10,
    "start_time": "2022-02-24T11:41:54.118Z"
   },
   {
    "duration": 6,
    "start_time": "2022-02-24T11:42:01.499Z"
   },
   {
    "duration": 1142,
    "start_time": "2022-02-24T11:42:01.508Z"
   },
   {
    "duration": 173,
    "start_time": "2022-02-24T11:42:02.653Z"
   },
   {
    "duration": 22,
    "start_time": "2022-02-24T11:42:02.829Z"
   },
   {
    "duration": 205,
    "start_time": "2022-02-24T11:42:02.854Z"
   },
   {
    "duration": 5,
    "start_time": "2022-02-24T11:42:03.062Z"
   },
   {
    "duration": 38,
    "start_time": "2022-02-24T11:42:03.071Z"
   },
   {
    "duration": 26,
    "start_time": "2022-02-24T11:42:03.113Z"
   },
   {
    "duration": 224,
    "start_time": "2022-02-24T11:42:03.142Z"
   },
   {
    "duration": 601,
    "start_time": "2022-02-24T11:42:03.368Z"
   },
   {
    "duration": 616,
    "start_time": "2022-02-24T11:42:03.971Z"
   },
   {
    "duration": 1578,
    "start_time": "2022-02-24T11:42:04.590Z"
   },
   {
    "duration": 356,
    "start_time": "2022-02-24T11:42:06.170Z"
   },
   {
    "duration": 23,
    "start_time": "2022-02-24T11:42:06.528Z"
   },
   {
    "duration": 6,
    "start_time": "2022-02-24T11:42:06.554Z"
   },
   {
    "duration": 10,
    "start_time": "2022-02-24T11:42:06.563Z"
   },
   {
    "duration": 58,
    "start_time": "2022-02-24T11:42:06.576Z"
   },
   {
    "duration": 2222,
    "start_time": "2022-02-24T11:42:06.637Z"
   },
   {
    "duration": 38,
    "start_time": "2022-02-24T11:42:08.866Z"
   },
   {
    "duration": 31,
    "start_time": "2022-02-24T11:42:08.908Z"
   },
   {
    "duration": 27,
    "start_time": "2022-02-24T11:42:08.942Z"
   },
   {
    "duration": 86,
    "start_time": "2022-02-24T11:42:08.972Z"
   },
   {
    "duration": 22,
    "start_time": "2022-02-24T11:42:09.061Z"
   },
   {
    "duration": 86,
    "start_time": "2022-02-24T11:42:09.086Z"
   },
   {
    "duration": 11,
    "start_time": "2022-02-24T11:42:09.175Z"
   },
   {
    "duration": 82,
    "start_time": "2022-02-24T11:42:09.189Z"
   },
   {
    "duration": 621,
    "start_time": "2022-02-24T11:42:09.274Z"
   },
   {
    "duration": 1635,
    "start_time": "2022-02-24T11:42:09.897Z"
   },
   {
    "duration": 23,
    "start_time": "2022-02-24T11:42:11.535Z"
   },
   {
    "duration": 15,
    "start_time": "2022-02-24T11:42:11.561Z"
   },
   {
    "duration": 469,
    "start_time": "2022-02-24T11:42:11.579Z"
   },
   {
    "duration": 411,
    "start_time": "2022-02-24T11:42:12.051Z"
   },
   {
    "duration": 24,
    "start_time": "2022-02-24T11:42:12.465Z"
   },
   {
    "duration": 1008,
    "start_time": "2022-02-24T11:42:12.492Z"
   },
   {
    "duration": 3260,
    "start_time": "2022-02-24T11:42:13.502Z"
   },
   {
    "duration": 21,
    "start_time": "2022-02-24T11:42:16.765Z"
   },
   {
    "duration": 9,
    "start_time": "2022-02-24T11:42:16.788Z"
   },
   {
    "duration": 77,
    "start_time": "2022-02-24T11:42:16.800Z"
   },
   {
    "duration": 19,
    "start_time": "2022-02-24T11:42:16.879Z"
   },
   {
    "duration": 1965,
    "start_time": "2022-02-24T11:42:16.901Z"
   },
   {
    "duration": 12,
    "start_time": "2022-02-24T11:42:18.870Z"
   },
   {
    "duration": 11,
    "start_time": "2022-02-24T11:42:35.575Z"
   },
   {
    "duration": 50,
    "start_time": "2022-02-24T11:43:06.244Z"
   },
   {
    "duration": 47,
    "start_time": "2022-02-24T11:43:11.588Z"
   },
   {
    "duration": 50,
    "start_time": "2022-02-24T11:43:12.536Z"
   },
   {
    "duration": 5,
    "start_time": "2022-02-24T11:43:13.672Z"
   },
   {
    "duration": 6,
    "start_time": "2022-02-24T11:43:26.249Z"
   },
   {
    "duration": 1153,
    "start_time": "2022-02-24T11:43:26.258Z"
   },
   {
    "duration": 182,
    "start_time": "2022-02-24T11:43:27.414Z"
   },
   {
    "duration": 35,
    "start_time": "2022-02-24T11:43:27.599Z"
   },
   {
    "duration": 173,
    "start_time": "2022-02-24T11:43:27.636Z"
   },
   {
    "duration": 5,
    "start_time": "2022-02-24T11:43:27.811Z"
   },
   {
    "duration": 7,
    "start_time": "2022-02-24T11:43:27.826Z"
   },
   {
    "duration": 8,
    "start_time": "2022-02-24T11:43:27.837Z"
   },
   {
    "duration": 222,
    "start_time": "2022-02-24T11:43:27.848Z"
   },
   {
    "duration": 464,
    "start_time": "2022-02-24T11:43:28.072Z"
   },
   {
    "duration": 582,
    "start_time": "2022-02-24T11:43:28.539Z"
   },
   {
    "duration": 1317,
    "start_time": "2022-02-24T11:43:29.123Z"
   },
   {
    "duration": 376,
    "start_time": "2022-02-24T11:43:30.443Z"
   },
   {
    "duration": 28,
    "start_time": "2022-02-24T11:43:30.823Z"
   },
   {
    "duration": 9,
    "start_time": "2022-02-24T11:43:30.854Z"
   },
   {
    "duration": 18,
    "start_time": "2022-02-24T11:43:30.866Z"
   },
   {
    "duration": 52,
    "start_time": "2022-02-24T11:43:30.887Z"
   },
   {
    "duration": 2240,
    "start_time": "2022-02-24T11:43:30.942Z"
   },
   {
    "duration": 51,
    "start_time": "2022-02-24T11:43:33.184Z"
   },
   {
    "duration": 13,
    "start_time": "2022-02-24T11:43:33.237Z"
   },
   {
    "duration": 26,
    "start_time": "2022-02-24T11:43:33.252Z"
   },
   {
    "duration": 82,
    "start_time": "2022-02-24T11:43:33.280Z"
   },
   {
    "duration": 21,
    "start_time": "2022-02-24T11:43:33.368Z"
   },
   {
    "duration": 83,
    "start_time": "2022-02-24T11:43:33.393Z"
   },
   {
    "duration": 10,
    "start_time": "2022-02-24T11:43:33.478Z"
   },
   {
    "duration": 80,
    "start_time": "2022-02-24T11:43:33.491Z"
   },
   {
    "duration": 622,
    "start_time": "2022-02-24T11:43:33.574Z"
   },
   {
    "duration": 1771,
    "start_time": "2022-02-24T11:43:34.198Z"
   },
   {
    "duration": 20,
    "start_time": "2022-02-24T11:43:35.972Z"
   },
   {
    "duration": 36,
    "start_time": "2022-02-24T11:43:35.995Z"
   },
   {
    "duration": 428,
    "start_time": "2022-02-24T11:43:36.034Z"
   },
   {
    "duration": 429,
    "start_time": "2022-02-24T11:43:36.465Z"
   },
   {
    "duration": 34,
    "start_time": "2022-02-24T11:43:36.897Z"
   },
   {
    "duration": 875,
    "start_time": "2022-02-24T11:43:36.934Z"
   },
   {
    "duration": 3067,
    "start_time": "2022-02-24T11:43:37.811Z"
   },
   {
    "duration": 20,
    "start_time": "2022-02-24T11:43:40.881Z"
   },
   {
    "duration": 27,
    "start_time": "2022-02-24T11:43:40.903Z"
   },
   {
    "duration": 52,
    "start_time": "2022-02-24T11:43:40.932Z"
   },
   {
    "duration": 44,
    "start_time": "2022-02-24T11:43:40.987Z"
   },
   {
    "duration": 1954,
    "start_time": "2022-02-24T11:43:41.033Z"
   },
   {
    "duration": 10,
    "start_time": "2022-02-24T11:43:42.990Z"
   },
   {
    "duration": 26,
    "start_time": "2022-02-24T11:43:43.003Z"
   },
   {
    "duration": 12,
    "start_time": "2022-02-24T11:43:43.032Z"
   },
   {
    "duration": 48,
    "start_time": "2022-02-24T11:43:43.047Z"
   },
   {
    "duration": 70,
    "start_time": "2022-02-24T11:43:43.098Z"
   },
   {
    "duration": 5,
    "start_time": "2022-02-24T11:43:43.171Z"
   },
   {
    "duration": 397,
    "start_time": "2022-02-24T11:43:43.178Z"
   },
   {
    "duration": 268,
    "start_time": "2022-02-24T11:43:43.577Z"
   },
   {
    "duration": -133,
    "start_time": "2022-02-24T11:43:43.981Z"
   },
   {
    "duration": -138,
    "start_time": "2022-02-24T11:43:43.988Z"
   },
   {
    "duration": -165,
    "start_time": "2022-02-24T11:43:44.016Z"
   },
   {
    "duration": -172,
    "start_time": "2022-02-24T11:43:44.025Z"
   },
   {
    "duration": -191,
    "start_time": "2022-02-24T11:43:44.045Z"
   },
   {
    "duration": -220,
    "start_time": "2022-02-24T11:43:44.076Z"
   },
   {
    "duration": -229,
    "start_time": "2022-02-24T11:43:44.087Z"
   },
   {
    "duration": -236,
    "start_time": "2022-02-24T11:43:44.095Z"
   },
   {
    "duration": -246,
    "start_time": "2022-02-24T11:43:44.107Z"
   },
   {
    "duration": -258,
    "start_time": "2022-02-24T11:43:44.121Z"
   },
   {
    "duration": -261,
    "start_time": "2022-02-24T11:43:44.125Z"
   },
   {
    "duration": -262,
    "start_time": "2022-02-24T11:43:44.129Z"
   },
   {
    "duration": -267,
    "start_time": "2022-02-24T11:43:44.136Z"
   },
   {
    "duration": -271,
    "start_time": "2022-02-24T11:43:44.141Z"
   },
   {
    "duration": -274,
    "start_time": "2022-02-24T11:43:44.146Z"
   },
   {
    "duration": -278,
    "start_time": "2022-02-24T11:43:44.152Z"
   },
   {
    "duration": 75,
    "start_time": "2022-02-24T11:46:08.700Z"
   },
   {
    "duration": 25,
    "start_time": "2022-02-24T11:46:09.419Z"
   },
   {
    "duration": 65,
    "start_time": "2022-02-24T11:46:12.390Z"
   },
   {
    "duration": 14,
    "start_time": "2022-02-24T11:46:12.801Z"
   },
   {
    "duration": 5,
    "start_time": "2022-02-24T11:46:13.219Z"
   },
   {
    "duration": 5,
    "start_time": "2022-02-24T11:46:13.620Z"
   },
   {
    "duration": 1459,
    "start_time": "2022-02-24T11:46:18.798Z"
   },
   {
    "duration": 22,
    "start_time": "2022-02-24T11:46:22.518Z"
   },
   {
    "duration": 62,
    "start_time": "2022-02-24T11:46:22.950Z"
   },
   {
    "duration": 378,
    "start_time": "2022-02-24T11:46:26.554Z"
   },
   {
    "duration": 30,
    "start_time": "2022-02-24T11:46:27.570Z"
   },
   {
    "duration": 4,
    "start_time": "2022-02-24T11:46:30.576Z"
   },
   {
    "duration": 4,
    "start_time": "2022-02-24T11:46:31.043Z"
   },
   {
    "duration": 2267,
    "start_time": "2022-02-24T11:46:32.066Z"
   },
   {
    "duration": 6,
    "start_time": "2022-02-24T11:46:46.839Z"
   },
   {
    "duration": 644,
    "start_time": "2022-02-24T11:46:50.470Z"
   },
   {
    "duration": 22917,
    "start_time": "2022-02-24T11:46:53.307Z"
   },
   {
    "duration": 6,
    "start_time": "2022-02-24T11:47:26.890Z"
   },
   {
    "duration": 7019,
    "start_time": "2022-02-24T11:47:47.527Z"
   },
   {
    "duration": 6,
    "start_time": "2022-02-24T11:48:01.104Z"
   },
   {
    "duration": 23586,
    "start_time": "2022-02-24T11:48:03.290Z"
   },
   {
    "duration": 6,
    "start_time": "2022-02-24T11:48:31.347Z"
   },
   {
    "duration": 33836,
    "start_time": "2022-02-24T11:48:33.328Z"
   },
   {
    "duration": 6,
    "start_time": "2022-02-24T11:49:12.665Z"
   },
   {
    "duration": 33727,
    "start_time": "2022-02-24T11:49:14.326Z"
   },
   {
    "duration": 643,
    "start_time": "2022-02-24T11:50:07.121Z"
   },
   {
    "duration": 623,
    "start_time": "2022-02-24T11:50:17.968Z"
   },
   {
    "duration": 630,
    "start_time": "2022-02-24T11:50:22.119Z"
   },
   {
    "duration": 624,
    "start_time": "2022-02-24T11:50:26.767Z"
   },
   {
    "duration": 6,
    "start_time": "2022-02-24T11:50:33.437Z"
   },
   {
    "duration": 32512,
    "start_time": "2022-02-24T11:50:39.876Z"
   },
   {
    "duration": 78942,
    "start_time": "2022-02-24T11:51:32.436Z"
   },
   {
    "duration": 77635,
    "start_time": "2022-02-24T11:52:59.936Z"
   },
   {
    "duration": 7,
    "start_time": "2022-02-24T11:54:57.679Z"
   },
   {
    "duration": 2301883,
    "start_time": "2022-02-24T11:54:59.493Z"
   },
   {
    "duration": 40035,
    "start_time": "2022-02-24T12:36:21.357Z"
   },
   {
    "duration": 1228,
    "start_time": "2022-02-24T12:39:16.040Z"
   },
   {
    "duration": 108,
    "start_time": "2022-02-24T13:46:00.138Z"
   },
   {
    "duration": 6,
    "start_time": "2022-02-24T15:23:06.594Z"
   },
   {
    "duration": 33322,
    "start_time": "2022-02-24T15:23:10.586Z"
   },
   {
    "duration": 6,
    "start_time": "2022-02-24T15:23:48.818Z"
   },
   {
    "duration": 38275,
    "start_time": "2022-02-24T15:23:49.378Z"
   },
   {
    "duration": 51730,
    "start_time": "2022-02-24T15:25:04.012Z"
   },
   {
    "duration": 21521,
    "start_time": "2022-02-24T15:26:48.787Z"
   },
   {
    "duration": 11109,
    "start_time": "2022-02-24T15:27:13.029Z"
   },
   {
    "duration": 9894,
    "start_time": "2022-02-24T15:28:52.241Z"
   },
   {
    "duration": 6,
    "start_time": "2022-02-24T15:36:45.483Z"
   },
   {
    "duration": 15917,
    "start_time": "2022-02-24T15:39:19.912Z"
   },
   {
    "duration": 14702,
    "start_time": "2022-02-24T15:40:45.432Z"
   },
   {
    "duration": 12546,
    "start_time": "2022-02-24T15:41:25.385Z"
   },
   {
    "duration": 14148,
    "start_time": "2022-02-24T15:43:35.488Z"
   },
   {
    "duration": 12919,
    "start_time": "2022-02-24T15:46:24.517Z"
   },
   {
    "duration": 17700,
    "start_time": "2022-02-24T15:47:31.030Z"
   },
   {
    "duration": 17371,
    "start_time": "2022-02-24T15:48:44.715Z"
   },
   {
    "duration": 1249,
    "start_time": "2022-02-24T16:03:46.696Z"
   },
   {
    "duration": 280,
    "start_time": "2022-02-24T16:03:58.167Z"
   },
   {
    "duration": 5,
    "start_time": "2022-02-24T16:04:16.109Z"
   },
   {
    "duration": 6,
    "start_time": "2022-02-24T16:04:20.015Z"
   },
   {
    "duration": 294,
    "start_time": "2022-02-24T16:04:40.101Z"
   },
   {
    "duration": 6,
    "start_time": "2022-02-24T16:07:10.265Z"
   },
   {
    "duration": 277,
    "start_time": "2022-02-24T16:10:14.590Z"
   },
   {
    "duration": 284,
    "start_time": "2022-02-24T16:13:41.139Z"
   },
   {
    "duration": 49,
    "start_time": "2022-02-24T16:14:18.954Z"
   },
   {
    "duration": 592,
    "start_time": "2022-02-24T16:14:24.049Z"
   },
   {
    "duration": 291,
    "start_time": "2022-02-24T16:15:09.737Z"
   },
   {
    "duration": 7,
    "start_time": "2022-02-24T16:19:02.991Z"
   },
   {
    "duration": 30627,
    "start_time": "2022-02-24T16:19:10.907Z"
   },
   {
    "duration": 6,
    "start_time": "2022-02-24T16:19:56.856Z"
   },
   {
    "duration": 32824,
    "start_time": "2022-02-24T16:20:09.471Z"
   },
   {
    "duration": 7335,
    "start_time": "2022-02-24T16:22:19.609Z"
   },
   {
    "duration": 7,
    "start_time": "2022-02-24T16:22:29.725Z"
   },
   {
    "duration": 323,
    "start_time": "2022-02-24T16:25:15.182Z"
   },
   {
    "duration": 281,
    "start_time": "2022-02-24T16:25:19.315Z"
   },
   {
    "duration": 307,
    "start_time": "2022-02-24T16:25:27.199Z"
   },
   {
    "duration": 1208,
    "start_time": "2022-02-24T16:25:33.889Z"
   },
   {
    "duration": 504,
    "start_time": "2022-02-24T16:25:35.784Z"
   },
   {
    "duration": 1918,
    "start_time": "2022-02-24T16:26:40.590Z"
   },
   {
    "duration": 1422,
    "start_time": "2022-02-24T16:26:42.511Z"
   },
   {
    "duration": 177,
    "start_time": "2022-02-24T16:26:43.937Z"
   },
   {
    "duration": 27,
    "start_time": "2022-02-24T16:26:44.126Z"
   },
   {
    "duration": 190,
    "start_time": "2022-02-24T16:26:44.156Z"
   },
   {
    "duration": 6,
    "start_time": "2022-02-24T16:26:44.349Z"
   },
   {
    "duration": 20,
    "start_time": "2022-02-24T16:26:44.358Z"
   },
   {
    "duration": 13,
    "start_time": "2022-02-24T16:26:44.381Z"
   },
   {
    "duration": 944,
    "start_time": "2022-02-24T16:26:44.399Z"
   },
   {
    "duration": 595,
    "start_time": "2022-02-24T16:26:45.346Z"
   },
   {
    "duration": 684,
    "start_time": "2022-02-24T16:26:45.944Z"
   },
   {
    "duration": 1421,
    "start_time": "2022-02-24T16:26:46.631Z"
   },
   {
    "duration": 464,
    "start_time": "2022-02-24T16:26:48.054Z"
   },
   {
    "duration": 26,
    "start_time": "2022-02-24T16:26:48.520Z"
   },
   {
    "duration": 5,
    "start_time": "2022-02-24T16:26:48.548Z"
   },
   {
    "duration": 8,
    "start_time": "2022-02-24T16:26:48.556Z"
   },
   {
    "duration": 29,
    "start_time": "2022-02-24T16:26:48.566Z"
   },
   {
    "duration": 2334,
    "start_time": "2022-02-24T16:26:48.627Z"
   },
   {
    "duration": 38,
    "start_time": "2022-02-24T16:26:50.964Z"
   },
   {
    "duration": 34,
    "start_time": "2022-02-24T16:26:51.004Z"
   },
   {
    "duration": 27,
    "start_time": "2022-02-24T16:26:51.040Z"
   },
   {
    "duration": 72,
    "start_time": "2022-02-24T16:26:51.069Z"
   },
   {
    "duration": 21,
    "start_time": "2022-02-24T16:26:51.143Z"
   },
   {
    "duration": 88,
    "start_time": "2022-02-24T16:26:51.167Z"
   },
   {
    "duration": 8,
    "start_time": "2022-02-24T16:26:51.258Z"
   },
   {
    "duration": 74,
    "start_time": "2022-02-24T16:26:51.269Z"
   },
   {
    "duration": 489,
    "start_time": "2022-02-24T16:26:51.349Z"
   },
   {
    "duration": 1793,
    "start_time": "2022-02-24T16:26:51.841Z"
   },
   {
    "duration": 23,
    "start_time": "2022-02-24T16:26:53.636Z"
   },
   {
    "duration": 12,
    "start_time": "2022-02-24T16:26:53.662Z"
   },
   {
    "duration": 540,
    "start_time": "2022-02-24T16:26:53.676Z"
   },
   {
    "duration": 429,
    "start_time": "2022-02-24T16:26:54.227Z"
   },
   {
    "duration": 21,
    "start_time": "2022-02-24T16:26:54.658Z"
   },
   {
    "duration": 935,
    "start_time": "2022-02-24T16:26:54.682Z"
   },
   {
    "duration": 3257,
    "start_time": "2022-02-24T16:26:55.619Z"
   },
   {
    "duration": 22,
    "start_time": "2022-02-24T16:26:58.879Z"
   },
   {
    "duration": 27,
    "start_time": "2022-02-24T16:26:58.903Z"
   },
   {
    "duration": 57,
    "start_time": "2022-02-24T16:26:58.933Z"
   },
   {
    "duration": 44,
    "start_time": "2022-02-24T16:26:58.992Z"
   },
   {
    "duration": 1700,
    "start_time": "2022-02-24T16:26:59.039Z"
   },
   {
    "duration": 11,
    "start_time": "2022-02-24T16:27:00.741Z"
   },
   {
    "duration": 14,
    "start_time": "2022-02-24T16:27:00.755Z"
   },
   {
    "duration": 23,
    "start_time": "2022-02-24T16:27:00.772Z"
   },
   {
    "duration": 81,
    "start_time": "2022-02-24T16:27:00.798Z"
   },
   {
    "duration": 67,
    "start_time": "2022-02-24T16:27:00.882Z"
   },
   {
    "duration": 5,
    "start_time": "2022-02-24T16:27:00.952Z"
   },
   {
    "duration": 377,
    "start_time": "2022-02-24T16:27:00.959Z"
   },
   {
    "duration": 1455,
    "start_time": "2022-02-24T16:27:01.339Z"
   },
   {
    "duration": 11,
    "start_time": "2022-02-24T16:27:02.798Z"
   },
   {
    "duration": 74,
    "start_time": "2022-02-24T16:27:02.826Z"
   },
   {
    "duration": 39,
    "start_time": "2022-02-24T16:27:02.902Z"
   },
   {
    "duration": 98,
    "start_time": "2022-02-24T16:27:02.943Z"
   },
   {
    "duration": 12,
    "start_time": "2022-02-24T16:27:03.044Z"
   },
   {
    "duration": 11,
    "start_time": "2022-02-24T16:27:03.059Z"
   },
   {
    "duration": 12,
    "start_time": "2022-02-24T16:27:03.072Z"
   },
   {
    "duration": 1531,
    "start_time": "2022-02-24T16:27:03.087Z"
   },
   {
    "duration": 24,
    "start_time": "2022-02-24T16:27:04.621Z"
   },
   {
    "duration": 26,
    "start_time": "2022-02-24T16:27:04.648Z"
   },
   {
    "duration": 105,
    "start_time": "2022-02-24T16:27:04.677Z"
   },
   {
    "duration": 548,
    "start_time": "2022-02-24T16:27:04.785Z"
   },
   {
    "duration": 32,
    "start_time": "2022-02-24T16:27:05.336Z"
   },
   {
    "duration": 7,
    "start_time": "2022-02-24T16:27:07.710Z"
   },
   {
    "duration": 4,
    "start_time": "2022-02-24T16:27:08.930Z"
   },
   {
    "duration": 2154,
    "start_time": "2022-02-24T16:27:11.777Z"
   },
   {
    "duration": 7,
    "start_time": "2022-02-24T16:27:16.122Z"
   },
   {
    "duration": 6,
    "start_time": "2022-02-24T16:27:23.519Z"
   },
   {
    "duration": 6,
    "start_time": "2022-02-24T16:27:26.419Z"
   },
   {
    "duration": 6,
    "start_time": "2022-02-24T16:27:27.547Z"
   },
   {
    "duration": 7,
    "start_time": "2022-02-24T16:27:35.535Z"
   },
   {
    "duration": 5382274,
    "start_time": "2022-02-24T16:27:40.469Z"
   },
   {
    "duration": 10,
    "start_time": "2022-02-24T18:00:38.180Z"
   },
   {
    "duration": 7,
    "start_time": "2022-02-24T18:00:54.191Z"
   },
   {
    "duration": 5,
    "start_time": "2022-02-24T18:01:51.233Z"
   },
   {
    "duration": 7,
    "start_time": "2022-02-24T18:08:13.389Z"
   },
   {
    "duration": 34957,
    "start_time": "2022-02-24T18:08:25.696Z"
   },
   {
    "duration": 12,
    "start_time": "2022-02-24T18:09:03.093Z"
   },
   {
    "duration": 7,
    "start_time": "2022-02-24T18:10:15.740Z"
   },
   {
    "duration": 35954,
    "start_time": "2022-02-24T18:10:16.872Z"
   },
   {
    "duration": 11,
    "start_time": "2022-02-24T18:10:59.615Z"
   },
   {
    "duration": 7067,
    "start_time": "2022-02-24T18:11:20.760Z"
   },
   {
    "duration": 6,
    "start_time": "2022-02-24T18:11:46.556Z"
   },
   {
    "duration": 6,
    "start_time": "2022-02-24T18:11:51.119Z"
   },
   {
    "duration": 13,
    "start_time": "2022-02-24T18:12:21.467Z"
   },
   {
    "duration": 8,
    "start_time": "2022-02-24T18:13:41.603Z"
   },
   {
    "duration": 38665,
    "start_time": "2022-02-24T18:13:42.571Z"
   },
   {
    "duration": 6,
    "start_time": "2022-02-24T18:19:22.655Z"
   },
   {
    "duration": 277,
    "start_time": "2022-02-24T18:20:03.852Z"
   },
   {
    "duration": 4833,
    "start_time": "2022-02-24T18:21:08.093Z"
   },
   {
    "duration": 11941,
    "start_time": "2022-02-24T18:21:15.888Z"
   },
   {
    "duration": 19440,
    "start_time": "2022-02-24T18:21:35.494Z"
   },
   {
    "duration": 21419,
    "start_time": "2022-02-24T18:21:57.613Z"
   },
   {
    "duration": 135,
    "start_time": "2022-02-24T18:23:35.604Z"
   },
   {
    "duration": 6,
    "start_time": "2022-02-24T18:23:43.707Z"
   },
   {
    "duration": 1130,
    "start_time": "2022-02-24T18:23:43.716Z"
   },
   {
    "duration": 177,
    "start_time": "2022-02-24T18:23:44.850Z"
   },
   {
    "duration": 25,
    "start_time": "2022-02-24T18:23:45.030Z"
   },
   {
    "duration": 180,
    "start_time": "2022-02-24T18:23:45.058Z"
   },
   {
    "duration": 5,
    "start_time": "2022-02-24T18:23:45.241Z"
   },
   {
    "duration": 14,
    "start_time": "2022-02-24T18:23:45.249Z"
   },
   {
    "duration": 8,
    "start_time": "2022-02-24T18:23:45.266Z"
   },
   {
    "duration": 224,
    "start_time": "2022-02-24T18:23:45.278Z"
   },
   {
    "duration": 472,
    "start_time": "2022-02-24T18:23:45.504Z"
   },
   {
    "duration": 601,
    "start_time": "2022-02-24T18:23:45.979Z"
   },
   {
    "duration": 1364,
    "start_time": "2022-02-24T18:23:46.583Z"
   },
   {
    "duration": 351,
    "start_time": "2022-02-24T18:23:47.949Z"
   },
   {
    "duration": 31,
    "start_time": "2022-02-24T18:23:48.303Z"
   },
   {
    "duration": 21,
    "start_time": "2022-02-24T18:23:48.337Z"
   },
   {
    "duration": 21,
    "start_time": "2022-02-24T18:23:48.361Z"
   },
   {
    "duration": 28,
    "start_time": "2022-02-24T18:23:48.385Z"
   },
   {
    "duration": 605,
    "start_time": "2022-02-24T18:23:51.511Z"
   },
   {
    "duration": 45,
    "start_time": "2022-02-24T18:24:20.779Z"
   },
   {
    "duration": 595,
    "start_time": "2022-02-24T18:24:31.865Z"
   },
   {
    "duration": 48,
    "start_time": "2022-02-24T18:24:58.859Z"
   },
   {
    "duration": 347,
    "start_time": "2022-02-24T18:25:19.243Z"
   },
   {
    "duration": 318,
    "start_time": "2022-02-24T18:25:35.363Z"
   },
   {
    "duration": 334,
    "start_time": "2022-02-24T18:26:29.909Z"
   },
   {
    "duration": 318,
    "start_time": "2022-02-24T18:26:39.652Z"
   },
   {
    "duration": 311,
    "start_time": "2022-02-24T18:26:46.837Z"
   },
   {
    "duration": 6711,
    "start_time": "2022-02-24T18:28:17.181Z"
   },
   {
    "duration": 4659,
    "start_time": "2022-02-24T18:29:40.240Z"
   },
   {
    "duration": 4790,
    "start_time": "2022-02-24T18:30:23.325Z"
   },
   {
    "duration": 4621,
    "start_time": "2022-02-24T18:30:35.510Z"
   },
   {
    "duration": 5237,
    "start_time": "2022-02-24T18:30:49.138Z"
   },
   {
    "duration": 4968,
    "start_time": "2022-02-24T18:31:28.458Z"
   },
   {
    "duration": 5128,
    "start_time": "2022-02-24T18:31:42.586Z"
   },
   {
    "duration": 7248,
    "start_time": "2022-02-24T18:32:24.917Z"
   },
   {
    "duration": 7,
    "start_time": "2022-02-24T19:17:01.167Z"
   },
   {
    "duration": 1151,
    "start_time": "2022-02-24T19:17:01.178Z"
   },
   {
    "duration": 183,
    "start_time": "2022-02-24T19:17:02.332Z"
   },
   {
    "duration": 30,
    "start_time": "2022-02-24T19:17:02.518Z"
   },
   {
    "duration": 180,
    "start_time": "2022-02-24T19:17:02.551Z"
   },
   {
    "duration": 6,
    "start_time": "2022-02-24T19:17:02.734Z"
   },
   {
    "duration": 15,
    "start_time": "2022-02-24T19:17:02.743Z"
   },
   {
    "duration": 7,
    "start_time": "2022-02-24T19:17:02.761Z"
   },
   {
    "duration": 225,
    "start_time": "2022-02-24T19:17:02.772Z"
   },
   {
    "duration": 645,
    "start_time": "2022-02-24T19:17:03.001Z"
   },
   {
    "duration": 661,
    "start_time": "2022-02-24T19:17:03.649Z"
   },
   {
    "duration": 1434,
    "start_time": "2022-02-24T19:17:04.313Z"
   },
   {
    "duration": 351,
    "start_time": "2022-02-24T19:17:05.750Z"
   },
   {
    "duration": 28,
    "start_time": "2022-02-24T19:17:06.103Z"
   },
   {
    "duration": 6,
    "start_time": "2022-02-24T19:17:06.133Z"
   },
   {
    "duration": 8,
    "start_time": "2022-02-24T19:17:06.141Z"
   },
   {
    "duration": 32,
    "start_time": "2022-02-24T19:17:06.151Z"
   },
   {
    "duration": 7220,
    "start_time": "2022-02-24T19:17:06.185Z"
   },
   {
    "duration": 5196,
    "start_time": "2022-02-24T19:17:13.409Z"
   },
   {
    "duration": 2576,
    "start_time": "2022-02-24T19:17:18.607Z"
   },
   {
    "duration": 56,
    "start_time": "2022-02-24T19:17:21.187Z"
   },
   {
    "duration": 17,
    "start_time": "2022-02-24T19:17:21.246Z"
   },
   {
    "duration": 60,
    "start_time": "2022-02-24T19:17:21.266Z"
   },
   {
    "duration": 23,
    "start_time": "2022-02-24T19:17:21.329Z"
   },
   {
    "duration": 11,
    "start_time": "2022-02-24T19:17:21.355Z"
   },
   {
    "duration": 11,
    "start_time": "2022-02-24T19:17:41.093Z"
   },
   {
    "duration": 8,
    "start_time": "2022-02-24T19:24:01.689Z"
   },
   {
    "duration": 25,
    "start_time": "2022-02-24T19:24:28.982Z"
   },
   {
    "duration": 38,
    "start_time": "2022-02-24T19:30:49.615Z"
   },
   {
    "duration": 24,
    "start_time": "2022-02-24T19:30:56.721Z"
   },
   {
    "duration": 51,
    "start_time": "2022-02-24T19:32:55.788Z"
   },
   {
    "duration": 22,
    "start_time": "2022-02-24T19:32:56.414Z"
   },
   {
    "duration": 48,
    "start_time": "2022-02-24T19:33:14.768Z"
   },
   {
    "duration": 23,
    "start_time": "2022-02-24T19:33:15.152Z"
   },
   {
    "duration": 6,
    "start_time": "2022-02-24T19:35:18.756Z"
   },
   {
    "duration": 1112,
    "start_time": "2022-02-24T19:35:18.766Z"
   },
   {
    "duration": 182,
    "start_time": "2022-02-24T19:35:19.882Z"
   },
   {
    "duration": 22,
    "start_time": "2022-02-24T19:35:20.067Z"
   },
   {
    "duration": 191,
    "start_time": "2022-02-24T19:35:20.092Z"
   },
   {
    "duration": 5,
    "start_time": "2022-02-24T19:35:20.286Z"
   },
   {
    "duration": 11,
    "start_time": "2022-02-24T19:35:20.293Z"
   },
   {
    "duration": 6,
    "start_time": "2022-02-24T19:35:20.331Z"
   },
   {
    "duration": 208,
    "start_time": "2022-02-24T19:35:20.340Z"
   },
   {
    "duration": 538,
    "start_time": "2022-02-24T19:35:20.551Z"
   },
   {
    "duration": 592,
    "start_time": "2022-02-24T19:35:21.092Z"
   },
   {
    "duration": 1347,
    "start_time": "2022-02-24T19:35:21.687Z"
   },
   {
    "duration": 393,
    "start_time": "2022-02-24T19:35:23.037Z"
   },
   {
    "duration": 32,
    "start_time": "2022-02-24T19:35:23.433Z"
   },
   {
    "duration": 6,
    "start_time": "2022-02-24T19:35:23.467Z"
   },
   {
    "duration": 13,
    "start_time": "2022-02-24T19:35:23.476Z"
   },
   {
    "duration": 56,
    "start_time": "2022-02-24T19:35:23.492Z"
   },
   {
    "duration": 7280,
    "start_time": "2022-02-24T19:35:23.551Z"
   },
   {
    "duration": 5191,
    "start_time": "2022-02-24T19:35:30.834Z"
   },
   {
    "duration": 26,
    "start_time": "2022-02-24T19:35:36.027Z"
   },
   {
    "duration": 78,
    "start_time": "2022-02-24T19:35:36.056Z"
   },
   {
    "duration": 25,
    "start_time": "2022-02-24T19:35:36.136Z"
   },
   {
    "duration": 2403,
    "start_time": "2022-02-24T19:35:36.166Z"
   },
   {
    "duration": 39,
    "start_time": "2022-02-24T19:35:38.572Z"
   },
   {
    "duration": 11,
    "start_time": "2022-02-24T19:35:38.627Z"
   },
   {
    "duration": 32,
    "start_time": "2022-02-24T19:35:38.640Z"
   },
   {
    "duration": 21,
    "start_time": "2022-02-24T19:35:38.674Z"
   },
   {
    "duration": 35,
    "start_time": "2022-02-24T19:35:38.698Z"
   },
   {
    "duration": 10,
    "start_time": "2022-02-24T19:35:38.736Z"
   },
   {
    "duration": 85,
    "start_time": "2022-02-24T19:35:38.749Z"
   },
   {
    "duration": 54,
    "start_time": "2022-02-24T19:35:38.836Z"
   },
   {
    "duration": 495,
    "start_time": "2022-02-24T19:35:38.893Z"
   },
   {
    "duration": 1826,
    "start_time": "2022-02-24T19:35:39.391Z"
   },
   {
    "duration": 26,
    "start_time": "2022-02-24T19:35:41.219Z"
   },
   {
    "duration": 11,
    "start_time": "2022-02-24T19:35:41.247Z"
   },
   {
    "duration": 493,
    "start_time": "2022-02-24T19:35:41.261Z"
   },
   {
    "duration": 419,
    "start_time": "2022-02-24T19:35:41.757Z"
   },
   {
    "duration": 122,
    "start_time": "2022-02-24T19:35:42.178Z"
   },
   {
    "duration": 30,
    "start_time": "2022-02-24T19:35:42.302Z"
   },
   {
    "duration": 891,
    "start_time": "2022-02-24T19:35:42.335Z"
   },
   {
    "duration": 3187,
    "start_time": "2022-02-24T19:35:43.228Z"
   },
   {
    "duration": 27,
    "start_time": "2022-02-24T19:35:46.417Z"
   },
   {
    "duration": 10,
    "start_time": "2022-02-24T19:35:46.447Z"
   },
   {
    "duration": 82,
    "start_time": "2022-02-24T19:35:46.460Z"
   },
   {
    "duration": 20,
    "start_time": "2022-02-24T19:35:46.544Z"
   },
   {
    "duration": 1872,
    "start_time": "2022-02-24T19:35:46.567Z"
   },
   {
    "duration": 11,
    "start_time": "2022-02-24T19:35:48.441Z"
   },
   {
    "duration": 9,
    "start_time": "2022-02-24T19:35:48.455Z"
   },
   {
    "duration": 7,
    "start_time": "2022-02-24T19:35:48.467Z"
   },
   {
    "duration": 86,
    "start_time": "2022-02-24T19:35:48.476Z"
   },
   {
    "duration": 64,
    "start_time": "2022-02-24T19:35:48.564Z"
   },
   {
    "duration": 12,
    "start_time": "2022-02-24T19:36:02.953Z"
   },
   {
    "duration": 10,
    "start_time": "2022-02-24T19:36:04.448Z"
   },
   {
    "duration": 27,
    "start_time": "2022-02-24T19:36:05.223Z"
   },
   {
    "duration": 55,
    "start_time": "2022-02-24T19:36:10.399Z"
   },
   {
    "duration": 13,
    "start_time": "2022-02-24T19:36:10.999Z"
   },
   {
    "duration": 6,
    "start_time": "2022-02-24T19:36:11.653Z"
   },
   {
    "duration": 6,
    "start_time": "2022-02-24T19:36:12.254Z"
   },
   {
    "duration": 1511,
    "start_time": "2022-02-24T19:36:16.686Z"
   },
   {
    "duration": 34,
    "start_time": "2022-02-24T19:36:18.200Z"
   },
   {
    "duration": 22,
    "start_time": "2022-02-24T19:36:20.217Z"
   },
   {
    "duration": 62,
    "start_time": "2022-02-24T19:36:20.707Z"
   },
   {
    "duration": 288,
    "start_time": "2022-02-24T19:36:23.533Z"
   },
   {
    "duration": 22,
    "start_time": "2022-02-24T19:36:24.386Z"
   },
   {
    "duration": 4,
    "start_time": "2022-02-24T19:36:29.802Z"
   },
   {
    "duration": 4,
    "start_time": "2022-02-24T19:36:32.035Z"
   },
   {
    "duration": 2010,
    "start_time": "2022-02-24T19:36:32.830Z"
   },
   {
    "duration": 6,
    "start_time": "2022-02-24T19:37:08.477Z"
   },
   {
    "duration": 1187,
    "start_time": "2022-02-24T19:37:08.486Z"
   },
   {
    "duration": 173,
    "start_time": "2022-02-24T19:37:09.676Z"
   },
   {
    "duration": 22,
    "start_time": "2022-02-24T19:37:09.853Z"
   },
   {
    "duration": 191,
    "start_time": "2022-02-24T19:37:09.877Z"
   },
   {
    "duration": 5,
    "start_time": "2022-02-24T19:37:10.070Z"
   },
   {
    "duration": 12,
    "start_time": "2022-02-24T19:37:10.078Z"
   },
   {
    "duration": 6,
    "start_time": "2022-02-24T19:37:10.095Z"
   },
   {
    "duration": 201,
    "start_time": "2022-02-24T19:37:10.128Z"
   },
   {
    "duration": 497,
    "start_time": "2022-02-24T19:37:10.331Z"
   },
   {
    "duration": 575,
    "start_time": "2022-02-24T19:37:10.831Z"
   },
   {
    "duration": 1336,
    "start_time": "2022-02-24T19:37:11.408Z"
   },
   {
    "duration": 363,
    "start_time": "2022-02-24T19:37:12.747Z"
   },
   {
    "duration": 31,
    "start_time": "2022-02-24T19:37:13.113Z"
   },
   {
    "duration": 5,
    "start_time": "2022-02-24T19:37:13.146Z"
   },
   {
    "duration": 9,
    "start_time": "2022-02-24T19:37:13.154Z"
   },
   {
    "duration": 30,
    "start_time": "2022-02-24T19:37:13.166Z"
   },
   {
    "duration": 7429,
    "start_time": "2022-02-24T19:37:13.198Z"
   },
   {
    "duration": 5331,
    "start_time": "2022-02-24T19:37:20.630Z"
   },
   {
    "duration": 29,
    "start_time": "2022-02-24T19:37:25.964Z"
   },
   {
    "duration": 77,
    "start_time": "2022-02-24T19:37:25.996Z"
   },
   {
    "duration": 54,
    "start_time": "2022-02-24T19:37:26.076Z"
   },
   {
    "duration": 2368,
    "start_time": "2022-02-24T19:37:26.138Z"
   },
   {
    "duration": 52,
    "start_time": "2022-02-24T19:37:28.510Z"
   },
   {
    "duration": 11,
    "start_time": "2022-02-24T19:37:28.565Z"
   },
   {
    "duration": 53,
    "start_time": "2022-02-24T19:37:28.579Z"
   },
   {
    "duration": 25,
    "start_time": "2022-02-24T19:37:28.635Z"
   },
   {
    "duration": 12,
    "start_time": "2022-02-24T19:37:28.662Z"
   },
   {
    "duration": 51,
    "start_time": "2022-02-24T19:37:28.677Z"
   },
   {
    "duration": 60,
    "start_time": "2022-02-24T19:37:28.731Z"
   },
   {
    "duration": 78,
    "start_time": "2022-02-24T19:37:28.794Z"
   },
   {
    "duration": 488,
    "start_time": "2022-02-24T19:37:28.875Z"
   },
   {
    "duration": 1816,
    "start_time": "2022-02-24T19:37:29.366Z"
   },
   {
    "duration": 41,
    "start_time": "2022-02-24T19:37:31.185Z"
   },
   {
    "duration": 12,
    "start_time": "2022-02-24T19:37:31.229Z"
   },
   {
    "duration": 432,
    "start_time": "2022-02-24T19:37:31.244Z"
   },
   {
    "duration": 451,
    "start_time": "2022-02-24T19:37:31.679Z"
   },
   {
    "duration": 23,
    "start_time": "2022-02-24T19:37:32.133Z"
   },
   {
    "duration": 967,
    "start_time": "2022-02-24T19:37:32.159Z"
   },
   {
    "duration": 3252,
    "start_time": "2022-02-24T19:37:33.128Z"
   },
   {
    "duration": 21,
    "start_time": "2022-02-24T19:37:36.383Z"
   },
   {
    "duration": 11,
    "start_time": "2022-02-24T19:37:36.426Z"
   },
   {
    "duration": 53,
    "start_time": "2022-02-24T19:37:36.440Z"
   },
   {
    "duration": 46,
    "start_time": "2022-02-24T19:37:36.496Z"
   },
   {
    "duration": 1726,
    "start_time": "2022-02-24T19:37:36.545Z"
   },
   {
    "duration": 10,
    "start_time": "2022-02-24T19:37:38.274Z"
   },
   {
    "duration": 10,
    "start_time": "2022-02-24T19:37:38.287Z"
   },
   {
    "duration": 8,
    "start_time": "2022-02-24T19:37:38.327Z"
   },
   {
    "duration": 52,
    "start_time": "2022-02-24T19:37:38.338Z"
   },
   {
    "duration": 71,
    "start_time": "2022-02-24T19:37:38.393Z"
   },
   {
    "duration": 6,
    "start_time": "2022-02-24T19:37:38.467Z"
   },
   {
    "duration": 1370,
    "start_time": "2022-02-24T19:37:38.476Z"
   },
   {
    "duration": 11,
    "start_time": "2022-02-24T19:37:39.849Z"
   },
   {
    "duration": 11,
    "start_time": "2022-02-24T19:37:39.863Z"
   },
   {
    "duration": 56,
    "start_time": "2022-02-24T19:37:39.877Z"
   },
   {
    "duration": 52,
    "start_time": "2022-02-24T19:37:39.936Z"
   },
   {
    "duration": 11,
    "start_time": "2022-02-24T19:37:39.991Z"
   },
   {
    "duration": 25,
    "start_time": "2022-02-24T19:37:40.005Z"
   },
   {
    "duration": 7,
    "start_time": "2022-02-24T19:37:40.032Z"
   },
   {
    "duration": 1470,
    "start_time": "2022-02-24T19:37:40.041Z"
   },
   {
    "duration": 26,
    "start_time": "2022-02-24T19:37:41.513Z"
   },
   {
    "duration": 25,
    "start_time": "2022-02-24T19:37:41.541Z"
   },
   {
    "duration": 81,
    "start_time": "2022-02-24T19:37:41.569Z"
   },
   {
    "duration": 281,
    "start_time": "2022-02-24T19:37:41.652Z"
   },
   {
    "duration": 20,
    "start_time": "2022-02-24T19:37:41.936Z"
   },
   {
    "duration": 5,
    "start_time": "2022-02-24T19:37:41.959Z"
   },
   {
    "duration": 13,
    "start_time": "2022-02-24T19:37:41.966Z"
   },
   {
    "duration": 2004,
    "start_time": "2022-02-24T19:37:43.929Z"
   },
   {
    "duration": 17,
    "start_time": "2022-02-24T19:38:22.243Z"
   },
   {
    "duration": 6,
    "start_time": "2022-02-24T19:39:42.625Z"
   },
   {
    "duration": 1157,
    "start_time": "2022-02-24T19:39:42.634Z"
   },
   {
    "duration": 185,
    "start_time": "2022-02-24T19:39:43.794Z"
   },
   {
    "duration": 21,
    "start_time": "2022-02-24T19:39:43.982Z"
   },
   {
    "duration": 185,
    "start_time": "2022-02-24T19:39:44.006Z"
   },
   {
    "duration": 4,
    "start_time": "2022-02-24T19:39:44.193Z"
   },
   {
    "duration": 27,
    "start_time": "2022-02-24T19:39:44.200Z"
   },
   {
    "duration": 8,
    "start_time": "2022-02-24T19:39:44.230Z"
   },
   {
    "duration": 205,
    "start_time": "2022-02-24T19:39:44.242Z"
   },
   {
    "duration": 528,
    "start_time": "2022-02-24T19:39:44.450Z"
   },
   {
    "duration": 601,
    "start_time": "2022-02-24T19:39:44.981Z"
   },
   {
    "duration": 1433,
    "start_time": "2022-02-24T19:39:45.584Z"
   },
   {
    "duration": 349,
    "start_time": "2022-02-24T19:39:47.019Z"
   },
   {
    "duration": 25,
    "start_time": "2022-02-24T19:39:47.371Z"
   },
   {
    "duration": 3,
    "start_time": "2022-02-24T19:39:47.399Z"
   },
   {
    "duration": 26,
    "start_time": "2022-02-24T19:39:47.405Z"
   },
   {
    "duration": 35,
    "start_time": "2022-02-24T19:39:47.434Z"
   },
   {
    "duration": 7664,
    "start_time": "2022-02-24T19:39:47.471Z"
   },
   {
    "duration": 28,
    "start_time": "2022-02-24T19:39:55.138Z"
   },
   {
    "duration": 25,
    "start_time": "2022-02-24T19:39:55.168Z"
   },
   {
    "duration": 59,
    "start_time": "2022-02-24T19:39:55.196Z"
   },
   {
    "duration": 27,
    "start_time": "2022-02-24T19:39:55.257Z"
   },
   {
    "duration": 2242,
    "start_time": "2022-02-24T19:39:55.287Z"
   },
   {
    "duration": 39,
    "start_time": "2022-02-24T19:39:57.532Z"
   },
   {
    "duration": 12,
    "start_time": "2022-02-24T19:39:57.573Z"
   },
   {
    "duration": 57,
    "start_time": "2022-02-24T19:39:57.589Z"
   },
   {
    "duration": 21,
    "start_time": "2022-02-24T19:39:57.653Z"
   },
   {
    "duration": 12,
    "start_time": "2022-02-24T19:39:57.678Z"
   },
   {
    "duration": 13,
    "start_time": "2022-02-24T19:39:57.725Z"
   },
   {
    "duration": 58,
    "start_time": "2022-02-24T19:39:57.741Z"
   },
   {
    "duration": 59,
    "start_time": "2022-02-24T19:39:57.826Z"
   },
   {
    "duration": 510,
    "start_time": "2022-02-24T19:39:57.889Z"
   },
   {
    "duration": 1866,
    "start_time": "2022-02-24T19:39:58.403Z"
   },
   {
    "duration": 24,
    "start_time": "2022-02-24T19:40:00.272Z"
   },
   {
    "duration": 36,
    "start_time": "2022-02-24T19:40:00.299Z"
   },
   {
    "duration": 446,
    "start_time": "2022-02-24T19:40:00.338Z"
   },
   {
    "duration": 475,
    "start_time": "2022-02-24T19:40:00.786Z"
   },
   {
    "duration": 21,
    "start_time": "2022-02-24T19:40:01.264Z"
   },
   {
    "duration": 939,
    "start_time": "2022-02-24T19:40:01.287Z"
   },
   {
    "duration": 3266,
    "start_time": "2022-02-24T19:40:02.228Z"
   },
   {
    "duration": 42,
    "start_time": "2022-02-24T19:40:05.497Z"
   },
   {
    "duration": 13,
    "start_time": "2022-02-24T19:40:05.542Z"
   },
   {
    "duration": 80,
    "start_time": "2022-02-24T19:40:05.558Z"
   },
   {
    "duration": 20,
    "start_time": "2022-02-24T19:40:05.641Z"
   },
   {
    "duration": 1866,
    "start_time": "2022-02-24T19:40:05.663Z"
   },
   {
    "duration": 11,
    "start_time": "2022-02-24T19:40:07.531Z"
   },
   {
    "duration": 10,
    "start_time": "2022-02-24T19:40:07.545Z"
   },
   {
    "duration": 8,
    "start_time": "2022-02-24T19:40:07.558Z"
   },
   {
    "duration": 94,
    "start_time": "2022-02-24T19:40:07.569Z"
   },
   {
    "duration": 62,
    "start_time": "2022-02-24T19:40:07.666Z"
   },
   {
    "duration": 7,
    "start_time": "2022-02-24T19:40:07.730Z"
   },
   {
    "duration": 1143,
    "start_time": "2022-02-24T19:40:07.740Z"
   },
   {
    "duration": 13,
    "start_time": "2022-02-24T19:40:08.886Z"
   },
   {
    "duration": 31,
    "start_time": "2022-02-24T19:40:08.901Z"
   },
   {
    "duration": 25,
    "start_time": "2022-02-24T19:40:08.935Z"
   },
   {
    "duration": 79,
    "start_time": "2022-02-24T19:40:08.963Z"
   },
   {
    "duration": 11,
    "start_time": "2022-02-24T19:40:09.045Z"
   },
   {
    "duration": 12,
    "start_time": "2022-02-24T19:40:09.058Z"
   },
   {
    "duration": 15,
    "start_time": "2022-02-24T19:40:09.073Z"
   },
   {
    "duration": 1472,
    "start_time": "2022-02-24T19:40:09.090Z"
   },
   {
    "duration": 21,
    "start_time": "2022-02-24T19:40:10.565Z"
   },
   {
    "duration": 46,
    "start_time": "2022-02-24T19:40:10.588Z"
   },
   {
    "duration": 59,
    "start_time": "2022-02-24T19:40:10.636Z"
   },
   {
    "duration": 294,
    "start_time": "2022-02-24T19:40:10.698Z"
   },
   {
    "duration": 32,
    "start_time": "2022-02-24T19:40:10.994Z"
   },
   {
    "duration": 4,
    "start_time": "2022-02-24T19:40:11.029Z"
   },
   {
    "duration": 11,
    "start_time": "2022-02-24T19:40:11.035Z"
   },
   {
    "duration": 2129,
    "start_time": "2022-02-24T19:40:13.105Z"
   },
   {
    "duration": 6853,
    "start_time": "2022-02-24T19:43:56.007Z"
   },
   {
    "duration": 6,
    "start_time": "2022-02-24T19:44:19.593Z"
   },
   {
    "duration": 1163,
    "start_time": "2022-02-24T19:44:19.602Z"
   },
   {
    "duration": 172,
    "start_time": "2022-02-24T19:44:20.769Z"
   },
   {
    "duration": 22,
    "start_time": "2022-02-24T19:44:20.945Z"
   },
   {
    "duration": 184,
    "start_time": "2022-02-24T19:44:20.970Z"
   },
   {
    "duration": 5,
    "start_time": "2022-02-24T19:44:21.157Z"
   },
   {
    "duration": 12,
    "start_time": "2022-02-24T19:44:21.165Z"
   },
   {
    "duration": 13,
    "start_time": "2022-02-24T19:44:21.179Z"
   },
   {
    "duration": 203,
    "start_time": "2022-02-24T19:44:21.226Z"
   },
   {
    "duration": 525,
    "start_time": "2022-02-24T19:44:21.433Z"
   },
   {
    "duration": 594,
    "start_time": "2022-02-24T19:44:21.960Z"
   },
   {
    "duration": 1517,
    "start_time": "2022-02-24T19:44:22.557Z"
   },
   {
    "duration": 362,
    "start_time": "2022-02-24T19:44:24.077Z"
   },
   {
    "duration": 24,
    "start_time": "2022-02-24T19:44:24.442Z"
   },
   {
    "duration": 5,
    "start_time": "2022-02-24T19:44:24.469Z"
   },
   {
    "duration": 11,
    "start_time": "2022-02-24T19:44:24.477Z"
   },
   {
    "duration": 61,
    "start_time": "2022-02-24T19:44:24.491Z"
   },
   {
    "duration": 7386,
    "start_time": "2022-02-24T19:44:24.554Z"
   },
   {
    "duration": 27,
    "start_time": "2022-02-24T19:44:31.943Z"
   },
   {
    "duration": 54,
    "start_time": "2022-02-24T19:44:31.973Z"
   },
   {
    "duration": 54,
    "start_time": "2022-02-24T19:44:32.030Z"
   },
   {
    "duration": 42,
    "start_time": "2022-02-24T19:44:32.087Z"
   },
   {
    "duration": 2475,
    "start_time": "2022-02-24T19:44:32.131Z"
   },
   {
    "duration": 47,
    "start_time": "2022-02-24T19:44:34.609Z"
   },
   {
    "duration": 13,
    "start_time": "2022-02-24T19:44:34.658Z"
   },
   {
    "duration": 57,
    "start_time": "2022-02-24T19:44:34.674Z"
   },
   {
    "duration": 22,
    "start_time": "2022-02-24T19:44:34.736Z"
   },
   {
    "duration": 81,
    "start_time": "2022-02-24T19:44:34.762Z"
   },
   {
    "duration": 12,
    "start_time": "2022-02-24T19:44:34.845Z"
   },
   {
    "duration": 75,
    "start_time": "2022-02-24T19:44:34.860Z"
   },
   {
    "duration": 527,
    "start_time": "2022-02-24T19:44:34.937Z"
   },
   {
    "duration": 1871,
    "start_time": "2022-02-24T19:44:35.467Z"
   },
   {
    "duration": 21,
    "start_time": "2022-02-24T19:44:37.341Z"
   },
   {
    "duration": 11,
    "start_time": "2022-02-24T19:44:37.365Z"
   },
   {
    "duration": 500,
    "start_time": "2022-02-24T19:44:37.379Z"
   },
   {
    "duration": 464,
    "start_time": "2022-02-24T19:44:37.881Z"
   },
   {
    "duration": 23,
    "start_time": "2022-02-24T19:44:38.348Z"
   },
   {
    "duration": 1041,
    "start_time": "2022-02-24T19:44:38.373Z"
   },
   {
    "duration": 3402,
    "start_time": "2022-02-24T19:44:39.417Z"
   },
   {
    "duration": 22,
    "start_time": "2022-02-24T19:44:42.827Z"
   },
   {
    "duration": 15,
    "start_time": "2022-02-24T19:44:42.852Z"
   },
   {
    "duration": 65,
    "start_time": "2022-02-24T19:44:42.869Z"
   },
   {
    "duration": 18,
    "start_time": "2022-02-24T19:44:42.936Z"
   },
   {
    "duration": 2290,
    "start_time": "2022-02-24T19:44:42.956Z"
   },
   {
    "duration": 12,
    "start_time": "2022-02-24T19:44:45.250Z"
   },
   {
    "duration": 9,
    "start_time": "2022-02-24T19:44:45.265Z"
   },
   {
    "duration": 86,
    "start_time": "2022-02-24T19:44:45.277Z"
   },
   {
    "duration": 60,
    "start_time": "2022-02-24T19:44:45.366Z"
   },
   {
    "duration": 6,
    "start_time": "2022-02-24T19:44:45.429Z"
   },
   {
    "duration": 1159,
    "start_time": "2022-02-24T19:44:45.438Z"
   },
   {
    "duration": 44,
    "start_time": "2022-02-24T19:44:56.070Z"
   },
   {
    "duration": 108,
    "start_time": "2022-02-24T19:45:34.973Z"
   },
   {
    "duration": 25,
    "start_time": "2022-02-24T19:45:36.711Z"
   },
   {
    "duration": 76,
    "start_time": "2022-02-24T19:45:41.897Z"
   },
   {
    "duration": 16,
    "start_time": "2022-02-24T19:45:42.535Z"
   },
   {
    "duration": 12,
    "start_time": "2022-02-24T19:45:43.113Z"
   },
   {
    "duration": 6,
    "start_time": "2022-02-24T19:45:43.691Z"
   },
   {
    "duration": 1530,
    "start_time": "2022-02-24T19:45:49.496Z"
   },
   {
    "duration": 22,
    "start_time": "2022-02-24T19:45:51.028Z"
   },
   {
    "duration": 23,
    "start_time": "2022-02-24T19:45:53.038Z"
   },
   {
    "duration": 63,
    "start_time": "2022-02-24T19:45:53.584Z"
   },
   {
    "duration": 457,
    "start_time": "2022-02-24T19:45:57.219Z"
   },
   {
    "duration": 25,
    "start_time": "2022-02-24T19:45:58.050Z"
   },
   {
    "duration": 5,
    "start_time": "2022-02-24T19:46:01.038Z"
   },
   {
    "duration": 4,
    "start_time": "2022-02-24T19:46:01.646Z"
   },
   {
    "duration": 2546,
    "start_time": "2022-02-24T19:46:02.483Z"
   },
   {
    "duration": 7,
    "start_time": "2022-02-24T19:46:30.153Z"
   },
   {
    "duration": 1172,
    "start_time": "2022-02-24T19:46:30.163Z"
   },
   {
    "duration": 167,
    "start_time": "2022-02-24T19:46:31.338Z"
   },
   {
    "duration": 30,
    "start_time": "2022-02-24T19:46:31.508Z"
   },
   {
    "duration": 194,
    "start_time": "2022-02-24T19:46:31.541Z"
   },
   {
    "duration": 5,
    "start_time": "2022-02-24T19:46:31.738Z"
   },
   {
    "duration": 29,
    "start_time": "2022-02-24T19:46:31.746Z"
   },
   {
    "duration": 16,
    "start_time": "2022-02-24T19:46:31.779Z"
   },
   {
    "duration": 206,
    "start_time": "2022-02-24T19:46:31.800Z"
   },
   {
    "duration": 517,
    "start_time": "2022-02-24T19:46:32.009Z"
   },
   {
    "duration": 643,
    "start_time": "2022-02-24T19:46:32.528Z"
   },
   {
    "duration": 1419,
    "start_time": "2022-02-24T19:46:33.174Z"
   },
   {
    "duration": 359,
    "start_time": "2022-02-24T19:46:34.595Z"
   },
   {
    "duration": 24,
    "start_time": "2022-02-24T19:46:34.956Z"
   },
   {
    "duration": 8,
    "start_time": "2022-02-24T19:46:34.982Z"
   },
   {
    "duration": 34,
    "start_time": "2022-02-24T19:46:34.993Z"
   },
   {
    "duration": 34,
    "start_time": "2022-02-24T19:46:35.029Z"
   },
   {
    "duration": 7601,
    "start_time": "2022-02-24T19:46:35.066Z"
   },
   {
    "duration": 28,
    "start_time": "2022-02-24T19:46:42.669Z"
   },
   {
    "duration": 33,
    "start_time": "2022-02-24T19:46:42.700Z"
   },
   {
    "duration": 58,
    "start_time": "2022-02-24T19:46:42.736Z"
   },
   {
    "duration": 30,
    "start_time": "2022-02-24T19:46:42.796Z"
   },
   {
    "duration": 2689,
    "start_time": "2022-02-24T19:46:42.829Z"
   },
   {
    "duration": 41,
    "start_time": "2022-02-24T19:46:45.520Z"
   },
   {
    "duration": 12,
    "start_time": "2022-02-24T19:46:45.563Z"
   },
   {
    "duration": 53,
    "start_time": "2022-02-24T19:46:45.577Z"
   },
   {
    "duration": 20,
    "start_time": "2022-02-24T19:46:45.637Z"
   },
   {
    "duration": 76,
    "start_time": "2022-02-24T19:46:45.661Z"
   },
   {
    "duration": 11,
    "start_time": "2022-02-24T19:46:45.740Z"
   },
   {
    "duration": 74,
    "start_time": "2022-02-24T19:46:45.754Z"
   },
   {
    "duration": 481,
    "start_time": "2022-02-24T19:46:45.831Z"
   },
   {
    "duration": 1953,
    "start_time": "2022-02-24T19:46:46.315Z"
   },
   {
    "duration": 24,
    "start_time": "2022-02-24T19:46:48.270Z"
   },
   {
    "duration": 38,
    "start_time": "2022-02-24T19:46:48.297Z"
   },
   {
    "duration": 466,
    "start_time": "2022-02-24T19:46:48.338Z"
   },
   {
    "duration": 474,
    "start_time": "2022-02-24T19:46:48.807Z"
   },
   {
    "duration": 23,
    "start_time": "2022-02-24T19:46:49.283Z"
   },
   {
    "duration": 922,
    "start_time": "2022-02-24T19:46:49.325Z"
   },
   {
    "duration": 3334,
    "start_time": "2022-02-24T19:46:50.250Z"
   },
   {
    "duration": 22,
    "start_time": "2022-02-24T19:46:53.587Z"
   },
   {
    "duration": 10,
    "start_time": "2022-02-24T19:46:53.626Z"
   },
   {
    "duration": 52,
    "start_time": "2022-02-24T19:46:53.638Z"
   },
   {
    "duration": 44,
    "start_time": "2022-02-24T19:46:53.693Z"
   },
   {
    "duration": 1940,
    "start_time": "2022-02-24T19:46:53.739Z"
   },
   {
    "duration": 12,
    "start_time": "2022-02-24T19:46:55.682Z"
   },
   {
    "duration": 33,
    "start_time": "2022-02-24T19:46:55.697Z"
   },
   {
    "duration": 47,
    "start_time": "2022-02-24T19:46:55.733Z"
   },
   {
    "duration": 73,
    "start_time": "2022-02-24T19:46:55.783Z"
   },
   {
    "duration": 5,
    "start_time": "2022-02-24T19:46:55.859Z"
   },
   {
    "duration": 1177,
    "start_time": "2022-02-24T19:46:55.867Z"
   },
   {
    "duration": 16,
    "start_time": "2022-02-24T19:46:57.047Z"
   },
   {
    "duration": 138,
    "start_time": "2022-02-24T19:46:57.066Z"
   },
   {
    "duration": 34,
    "start_time": "2022-02-24T19:46:57.207Z"
   },
   {
    "duration": 84,
    "start_time": "2022-02-24T19:46:57.244Z"
   },
   {
    "duration": 15,
    "start_time": "2022-02-24T19:46:57.331Z"
   },
   {
    "duration": 7,
    "start_time": "2022-02-24T19:46:57.349Z"
   },
   {
    "duration": 9,
    "start_time": "2022-02-24T19:46:57.359Z"
   },
   {
    "duration": 1548,
    "start_time": "2022-02-24T19:46:57.370Z"
   },
   {
    "duration": 25,
    "start_time": "2022-02-24T19:46:58.920Z"
   },
   {
    "duration": 23,
    "start_time": "2022-02-24T19:46:58.947Z"
   },
   {
    "duration": 87,
    "start_time": "2022-02-24T19:46:58.973Z"
   },
   {
    "duration": 432,
    "start_time": "2022-02-24T19:46:59.063Z"
   },
   {
    "duration": 24,
    "start_time": "2022-02-24T19:46:59.497Z"
   },
   {
    "duration": 4,
    "start_time": "2022-02-24T19:46:59.527Z"
   },
   {
    "duration": 6,
    "start_time": "2022-02-24T19:46:59.534Z"
   },
   {
    "duration": 2484,
    "start_time": "2022-02-24T19:46:59.542Z"
   },
   {
    "duration": 6,
    "start_time": "2022-02-24T19:47:02.029Z"
   },
   {
    "duration": 1371,
    "start_time": "2022-02-24T19:47:02.037Z"
   },
   {
    "duration": 520,
    "start_time": "2022-02-24T19:47:03.410Z"
   },
   {
    "duration": 6,
    "start_time": "2022-02-24T19:47:03.933Z"
   },
   {
    "duration": 12,
    "start_time": "2022-02-24T19:47:03.942Z"
   },
   {
    "duration": 36,
    "start_time": "2022-02-24T19:47:03.957Z"
   },
   {
    "duration": 15,
    "start_time": "2022-02-24T19:47:03.996Z"
   },
   {
    "duration": 49291,
    "start_time": "2022-02-24T19:47:04.013Z"
   },
   {
    "duration": 7,
    "start_time": "2022-02-24T19:49:05.690Z"
   },
   {
    "duration": 1511,
    "start_time": "2022-02-24T19:49:05.701Z"
   },
   {
    "duration": 166,
    "start_time": "2022-02-24T19:49:07.215Z"
   },
   {
    "duration": 22,
    "start_time": "2022-02-24T19:49:07.384Z"
   },
   {
    "duration": 181,
    "start_time": "2022-02-24T19:49:07.426Z"
   },
   {
    "duration": 5,
    "start_time": "2022-02-24T19:49:07.609Z"
   },
   {
    "duration": 12,
    "start_time": "2022-02-24T19:49:07.625Z"
   },
   {
    "duration": 18,
    "start_time": "2022-02-24T19:49:07.642Z"
   },
   {
    "duration": 205,
    "start_time": "2022-02-24T19:49:07.663Z"
   },
   {
    "duration": 522,
    "start_time": "2022-02-24T19:49:07.871Z"
   },
   {
    "duration": 755,
    "start_time": "2022-02-24T19:49:08.396Z"
   },
   {
    "duration": 1335,
    "start_time": "2022-02-24T19:49:09.155Z"
   },
   {
    "duration": 357,
    "start_time": "2022-02-24T19:49:10.493Z"
   },
   {
    "duration": 23,
    "start_time": "2022-02-24T19:49:10.852Z"
   },
   {
    "duration": 10,
    "start_time": "2022-02-24T19:49:10.879Z"
   },
   {
    "duration": 8,
    "start_time": "2022-02-24T19:49:10.891Z"
   },
   {
    "duration": 29,
    "start_time": "2022-02-24T19:49:10.927Z"
   },
   {
    "duration": 7175,
    "start_time": "2022-02-24T19:49:10.959Z"
   },
   {
    "duration": 28,
    "start_time": "2022-02-24T19:49:18.136Z"
   },
   {
    "duration": 25,
    "start_time": "2022-02-24T19:49:18.167Z"
   },
   {
    "duration": 60,
    "start_time": "2022-02-24T19:49:18.227Z"
   },
   {
    "duration": 41,
    "start_time": "2022-02-24T19:49:18.290Z"
   },
   {
    "duration": 2428,
    "start_time": "2022-02-24T19:49:18.338Z"
   },
   {
    "duration": 37,
    "start_time": "2022-02-24T19:49:20.771Z"
   },
   {
    "duration": 25,
    "start_time": "2022-02-24T19:49:20.811Z"
   },
   {
    "duration": 25,
    "start_time": "2022-02-24T19:49:20.839Z"
   },
   {
    "duration": 21,
    "start_time": "2022-02-24T19:49:20.866Z"
   },
   {
    "duration": 91,
    "start_time": "2022-02-24T19:49:20.889Z"
   },
   {
    "duration": 11,
    "start_time": "2022-02-24T19:49:20.983Z"
   },
   {
    "duration": 82,
    "start_time": "2022-02-24T19:49:20.996Z"
   },
   {
    "duration": 504,
    "start_time": "2022-02-24T19:49:21.081Z"
   },
   {
    "duration": 1685,
    "start_time": "2022-02-24T19:49:21.588Z"
   },
   {
    "duration": 26,
    "start_time": "2022-02-24T19:49:23.276Z"
   },
   {
    "duration": 13,
    "start_time": "2022-02-24T19:49:23.327Z"
   },
   {
    "duration": 446,
    "start_time": "2022-02-24T19:49:23.343Z"
   },
   {
    "duration": 451,
    "start_time": "2022-02-24T19:49:23.792Z"
   },
   {
    "duration": 21,
    "start_time": "2022-02-24T19:49:24.246Z"
   },
   {
    "duration": 1244,
    "start_time": "2022-02-24T19:49:24.270Z"
   },
   {
    "duration": 3263,
    "start_time": "2022-02-24T19:49:25.517Z"
   },
   {
    "duration": 21,
    "start_time": "2022-02-24T19:49:28.782Z"
   },
   {
    "duration": 26,
    "start_time": "2022-02-24T19:49:28.805Z"
   },
   {
    "duration": 53,
    "start_time": "2022-02-24T19:49:28.834Z"
   },
   {
    "duration": 42,
    "start_time": "2022-02-24T19:49:28.890Z"
   },
   {
    "duration": 1737,
    "start_time": "2022-02-24T19:49:28.935Z"
   },
   {
    "duration": 12,
    "start_time": "2022-02-24T19:49:30.675Z"
   },
   {
    "duration": 36,
    "start_time": "2022-02-24T19:49:30.690Z"
   },
   {
    "duration": 3,
    "start_time": "2022-02-24T19:49:30.729Z"
   },
   {
    "duration": 18,
    "start_time": "2022-02-24T19:49:30.735Z"
   },
   {
    "duration": 16,
    "start_time": "2022-02-24T19:49:30.756Z"
   },
   {
    "duration": 1165,
    "start_time": "2022-02-24T19:49:30.774Z"
   },
   {
    "duration": 11,
    "start_time": "2022-02-24T19:49:31.941Z"
   },
   {
    "duration": 147,
    "start_time": "2022-02-24T19:49:31.955Z"
   },
   {
    "duration": 37,
    "start_time": "2022-02-24T19:49:32.104Z"
   },
   {
    "duration": 95,
    "start_time": "2022-02-24T19:49:32.143Z"
   },
   {
    "duration": 13,
    "start_time": "2022-02-24T19:49:32.241Z"
   },
   {
    "duration": 11,
    "start_time": "2022-02-24T19:49:32.257Z"
   },
   {
    "duration": 12,
    "start_time": "2022-02-24T19:49:32.270Z"
   },
   {
    "duration": 1782,
    "start_time": "2022-02-24T19:49:32.284Z"
   },
   {
    "duration": 21,
    "start_time": "2022-02-24T19:49:34.069Z"
   },
   {
    "duration": 51,
    "start_time": "2022-02-24T19:49:34.093Z"
   },
   {
    "duration": 86,
    "start_time": "2022-02-24T19:49:34.146Z"
   },
   {
    "duration": 543,
    "start_time": "2022-02-24T19:49:34.234Z"
   },
   {
    "duration": 26,
    "start_time": "2022-02-24T19:49:34.780Z"
   },
   {
    "duration": 19,
    "start_time": "2022-02-24T19:49:34.809Z"
   },
   {
    "duration": 20,
    "start_time": "2022-02-24T19:49:34.831Z"
   },
   {
    "duration": 2872,
    "start_time": "2022-02-24T19:49:34.854Z"
   },
   {
    "duration": 7,
    "start_time": "2022-02-24T19:49:37.729Z"
   },
   {
    "duration": 1765,
    "start_time": "2022-02-24T19:49:37.745Z"
   },
   {
    "duration": 525,
    "start_time": "2022-02-24T19:49:39.513Z"
   },
   {
    "duration": 6,
    "start_time": "2022-02-24T19:49:40.041Z"
   },
   {
    "duration": 9,
    "start_time": "2022-02-24T19:49:40.050Z"
   },
   {
    "duration": 7,
    "start_time": "2022-02-24T19:49:40.061Z"
   },
   {
    "duration": 9,
    "start_time": "2022-02-24T19:49:40.071Z"
   },
   {
    "duration": 978187,
    "start_time": "2022-02-24T19:49:40.083Z"
   },
   {
    "duration": 2048397,
    "start_time": "2022-02-24T20:06:06.065Z"
   },
   {
    "duration": 6,
    "start_time": "2022-02-24T20:40:53.007Z"
   },
   {
    "duration": 6,
    "start_time": "2022-02-24T20:40:57.214Z"
   },
   {
    "duration": 9,
    "start_time": "2022-02-24T20:42:13.998Z"
   },
   {
    "duration": 115163,
    "start_time": "2022-02-24T20:42:43.635Z"
   },
   {
    "duration": 6,
    "start_time": "2022-02-24T20:50:03.100Z"
   },
   {
    "duration": 1722,
    "start_time": "2022-02-24T20:50:03.110Z"
   },
   {
    "duration": 291,
    "start_time": "2022-02-24T20:50:04.837Z"
   },
   {
    "duration": 32,
    "start_time": "2022-02-24T20:50:05.132Z"
   },
   {
    "duration": 203,
    "start_time": "2022-02-24T20:50:05.166Z"
   },
   {
    "duration": 7,
    "start_time": "2022-02-24T20:50:05.372Z"
   },
   {
    "duration": 12,
    "start_time": "2022-02-24T20:50:05.382Z"
   },
   {
    "duration": 30,
    "start_time": "2022-02-24T20:50:05.396Z"
   },
   {
    "duration": 208,
    "start_time": "2022-02-24T20:50:05.431Z"
   },
   {
    "duration": 518,
    "start_time": "2022-02-24T20:50:05.642Z"
   },
   {
    "duration": 713,
    "start_time": "2022-02-24T20:50:06.162Z"
   },
   {
    "duration": 1542,
    "start_time": "2022-02-24T20:50:06.877Z"
   },
   {
    "duration": 357,
    "start_time": "2022-02-24T20:50:08.422Z"
   },
   {
    "duration": 23,
    "start_time": "2022-02-24T20:50:08.783Z"
   },
   {
    "duration": 15,
    "start_time": "2022-02-24T20:50:08.826Z"
   },
   {
    "duration": 31,
    "start_time": "2022-02-24T20:50:08.844Z"
   },
   {
    "duration": 70,
    "start_time": "2022-02-24T20:50:08.878Z"
   },
   {
    "duration": 7879,
    "start_time": "2022-02-24T20:50:08.951Z"
   },
   {
    "duration": 28,
    "start_time": "2022-02-24T20:50:16.833Z"
   },
   {
    "duration": 25,
    "start_time": "2022-02-24T20:50:16.863Z"
   },
   {
    "duration": 86,
    "start_time": "2022-02-24T20:50:16.890Z"
   },
   {
    "duration": 47,
    "start_time": "2022-02-24T20:50:16.978Z"
   },
   {
    "duration": 2261,
    "start_time": "2022-02-24T20:50:17.029Z"
   },
   {
    "duration": 50,
    "start_time": "2022-02-24T20:50:19.293Z"
   },
   {
    "duration": 12,
    "start_time": "2022-02-24T20:50:19.346Z"
   },
   {
    "duration": 26,
    "start_time": "2022-02-24T20:50:19.361Z"
   },
   {
    "duration": 21,
    "start_time": "2022-02-24T20:50:19.428Z"
   },
   {
    "duration": 76,
    "start_time": "2022-02-24T20:50:19.453Z"
   },
   {
    "duration": 14,
    "start_time": "2022-02-24T20:50:19.531Z"
   },
   {
    "duration": 79,
    "start_time": "2022-02-24T20:50:19.547Z"
   },
   {
    "duration": 573,
    "start_time": "2022-02-24T20:50:19.629Z"
   },
   {
    "duration": 1836,
    "start_time": "2022-02-24T20:50:20.205Z"
   },
   {
    "duration": 20,
    "start_time": "2022-02-24T20:50:22.044Z"
   },
   {
    "duration": 12,
    "start_time": "2022-02-24T20:50:22.067Z"
   },
   {
    "duration": 493,
    "start_time": "2022-02-24T20:50:22.081Z"
   },
   {
    "duration": 472,
    "start_time": "2022-02-24T20:50:22.577Z"
   },
   {
    "duration": 21,
    "start_time": "2022-02-24T20:50:23.051Z"
   },
   {
    "duration": 945,
    "start_time": "2022-02-24T20:50:23.074Z"
   },
   {
    "duration": 3477,
    "start_time": "2022-02-24T20:50:24.022Z"
   },
   {
    "duration": 38,
    "start_time": "2022-02-24T20:50:27.501Z"
   },
   {
    "duration": 10,
    "start_time": "2022-02-24T20:50:27.542Z"
   },
   {
    "duration": 80,
    "start_time": "2022-02-24T20:50:27.555Z"
   },
   {
    "duration": 24,
    "start_time": "2022-02-24T20:50:27.638Z"
   },
   {
    "duration": 3071,
    "start_time": "2022-02-24T20:50:27.666Z"
   },
   {
    "duration": 13,
    "start_time": "2022-02-24T20:50:30.740Z"
   },
   {
    "duration": 10,
    "start_time": "2022-02-24T20:50:30.756Z"
   },
   {
    "duration": 12,
    "start_time": "2022-02-24T20:50:30.768Z"
   },
   {
    "duration": 9,
    "start_time": "2022-02-24T20:50:30.783Z"
   },
   {
    "duration": 33,
    "start_time": "2022-02-24T20:50:30.795Z"
   },
   {
    "duration": 1189,
    "start_time": "2022-02-24T20:50:30.830Z"
   },
   {
    "duration": 13,
    "start_time": "2022-02-24T20:50:32.021Z"
   },
   {
    "duration": 148,
    "start_time": "2022-02-24T20:50:32.037Z"
   },
   {
    "duration": 27,
    "start_time": "2022-02-24T20:50:32.188Z"
   },
   {
    "duration": 82,
    "start_time": "2022-02-24T20:50:32.226Z"
   },
   {
    "duration": 22,
    "start_time": "2022-02-24T20:50:32.311Z"
   },
   {
    "duration": 6,
    "start_time": "2022-02-24T20:50:32.336Z"
   },
   {
    "duration": 11,
    "start_time": "2022-02-24T20:50:32.344Z"
   },
   {
    "duration": 1957,
    "start_time": "2022-02-24T20:50:32.358Z"
   },
   {
    "duration": 30,
    "start_time": "2022-02-24T20:50:34.318Z"
   },
   {
    "duration": 29,
    "start_time": "2022-02-24T20:50:34.351Z"
   },
   {
    "duration": 105,
    "start_time": "2022-02-24T20:50:34.383Z"
   },
   {
    "duration": 545,
    "start_time": "2022-02-24T20:50:34.491Z"
   },
   {
    "duration": 25,
    "start_time": "2022-02-24T20:50:35.038Z"
   },
   {
    "duration": 7,
    "start_time": "2022-02-24T20:50:35.065Z"
   },
   {
    "duration": 7,
    "start_time": "2022-02-24T20:50:35.074Z"
   },
   {
    "duration": 2645,
    "start_time": "2022-02-24T20:50:35.083Z"
   },
   {
    "duration": 94,
    "start_time": "2022-02-24T20:50:37.733Z"
   },
   {
    "duration": 1659,
    "start_time": "2022-02-24T20:50:37.830Z"
   },
   {
    "duration": 763,
    "start_time": "2022-02-24T20:50:39.492Z"
   },
   {
    "duration": 8,
    "start_time": "2022-02-24T20:50:40.259Z"
   },
   {
    "duration": 56507,
    "start_time": "2022-02-24T20:50:40.270Z"
   },
   {
    "duration": -314,
    "start_time": "2022-02-24T20:51:37.093Z"
   },
   {
    "duration": -317,
    "start_time": "2022-02-24T20:51:37.098Z"
   },
   {
    "duration": -319,
    "start_time": "2022-02-24T20:51:37.102Z"
   },
   {
    "duration": -323,
    "start_time": "2022-02-24T20:51:37.107Z"
   },
   {
    "duration": -327,
    "start_time": "2022-02-24T20:51:37.113Z"
   },
   {
    "duration": 1647,
    "start_time": "2022-02-24T20:51:43.883Z"
   },
   {
    "duration": 1186,
    "start_time": "2022-02-24T20:51:45.533Z"
   },
   {
    "duration": 176,
    "start_time": "2022-02-24T20:51:46.723Z"
   },
   {
    "duration": 36,
    "start_time": "2022-02-24T20:51:46.902Z"
   },
   {
    "duration": 174,
    "start_time": "2022-02-24T20:51:46.941Z"
   },
   {
    "duration": 10,
    "start_time": "2022-02-24T20:51:47.117Z"
   },
   {
    "duration": 24,
    "start_time": "2022-02-24T20:51:47.129Z"
   },
   {
    "duration": 8,
    "start_time": "2022-02-24T20:51:47.156Z"
   },
   {
    "duration": 849,
    "start_time": "2022-02-24T20:51:47.168Z"
   },
   {
    "duration": 565,
    "start_time": "2022-02-24T20:51:48.027Z"
   },
   {
    "duration": 677,
    "start_time": "2022-02-24T20:51:48.594Z"
   },
   {
    "duration": 1513,
    "start_time": "2022-02-24T20:51:49.274Z"
   },
   {
    "duration": 368,
    "start_time": "2022-02-24T20:51:50.790Z"
   },
   {
    "duration": 25,
    "start_time": "2022-02-24T20:51:51.160Z"
   },
   {
    "duration": 15,
    "start_time": "2022-02-24T20:51:51.188Z"
   },
   {
    "duration": 25,
    "start_time": "2022-02-24T20:51:51.207Z"
   },
   {
    "duration": 59,
    "start_time": "2022-02-24T20:51:51.236Z"
   },
   {
    "duration": 10761,
    "start_time": "2022-02-24T20:51:51.299Z"
   },
   {
    "duration": 43,
    "start_time": "2022-02-24T20:52:02.064Z"
   },
   {
    "duration": 38,
    "start_time": "2022-02-24T20:52:02.127Z"
   },
   {
    "duration": 93,
    "start_time": "2022-02-24T20:52:02.169Z"
   },
   {
    "duration": 24,
    "start_time": "2022-02-24T20:52:02.264Z"
   },
   {
    "duration": 2431,
    "start_time": "2022-02-24T20:52:02.290Z"
   },
   {
    "duration": 48,
    "start_time": "2022-02-24T20:52:04.727Z"
   },
   {
    "duration": 18,
    "start_time": "2022-02-24T20:52:04.778Z"
   },
   {
    "duration": 64,
    "start_time": "2022-02-24T20:52:04.799Z"
   },
   {
    "duration": 24,
    "start_time": "2022-02-24T20:52:04.871Z"
   },
   {
    "duration": 91,
    "start_time": "2022-02-24T20:52:04.899Z"
   },
   {
    "duration": 35,
    "start_time": "2022-02-24T20:52:04.993Z"
   },
   {
    "duration": 57,
    "start_time": "2022-02-24T20:52:05.030Z"
   },
   {
    "duration": 559,
    "start_time": "2022-02-24T20:52:05.090Z"
   },
   {
    "duration": 1812,
    "start_time": "2022-02-24T20:52:05.652Z"
   },
   {
    "duration": 23,
    "start_time": "2022-02-24T20:52:07.466Z"
   },
   {
    "duration": 42,
    "start_time": "2022-02-24T20:52:07.491Z"
   },
   {
    "duration": 549,
    "start_time": "2022-02-24T20:52:07.535Z"
   },
   {
    "duration": 492,
    "start_time": "2022-02-24T20:52:08.086Z"
   },
   {
    "duration": 23,
    "start_time": "2022-02-24T20:52:08.580Z"
   },
   {
    "duration": 959,
    "start_time": "2022-02-24T20:52:08.626Z"
   },
   {
    "duration": 3401,
    "start_time": "2022-02-24T20:52:09.588Z"
   },
   {
    "duration": 41,
    "start_time": "2022-02-24T20:52:12.992Z"
   },
   {
    "duration": 11,
    "start_time": "2022-02-24T20:52:13.036Z"
   },
   {
    "duration": 80,
    "start_time": "2022-02-24T20:52:13.050Z"
   },
   {
    "duration": 23,
    "start_time": "2022-02-24T20:52:13.133Z"
   },
   {
    "duration": 1940,
    "start_time": "2022-02-24T20:52:13.158Z"
   },
   {
    "duration": 25,
    "start_time": "2022-02-24T20:52:15.101Z"
   },
   {
    "duration": 10,
    "start_time": "2022-02-24T20:52:15.129Z"
   },
   {
    "duration": 8,
    "start_time": "2022-02-24T20:52:15.142Z"
   },
   {
    "duration": 19,
    "start_time": "2022-02-24T20:52:15.154Z"
   },
   {
    "duration": 11,
    "start_time": "2022-02-24T20:52:15.176Z"
   },
   {
    "duration": 1182,
    "start_time": "2022-02-24T20:52:15.190Z"
   },
   {
    "duration": 12,
    "start_time": "2022-02-24T20:52:16.374Z"
   },
   {
    "duration": 152,
    "start_time": "2022-02-24T20:52:16.388Z"
   },
   {
    "duration": 29,
    "start_time": "2022-02-24T20:52:16.543Z"
   },
   {
    "duration": 109,
    "start_time": "2022-02-24T20:52:16.575Z"
   },
   {
    "duration": 13,
    "start_time": "2022-02-24T20:52:16.687Z"
   },
   {
    "duration": 25,
    "start_time": "2022-02-24T20:52:16.702Z"
   },
   {
    "duration": 5,
    "start_time": "2022-02-24T20:52:16.730Z"
   },
   {
    "duration": 1784,
    "start_time": "2022-02-24T20:52:16.738Z"
   },
   {
    "duration": 32,
    "start_time": "2022-02-24T20:52:18.527Z"
   },
   {
    "duration": 33,
    "start_time": "2022-02-24T20:52:18.562Z"
   },
   {
    "duration": 110,
    "start_time": "2022-02-24T20:52:18.598Z"
   },
   {
    "duration": 570,
    "start_time": "2022-02-24T20:52:18.712Z"
   },
   {
    "duration": 26,
    "start_time": "2022-02-24T20:52:19.285Z"
   },
   {
    "duration": 4,
    "start_time": "2022-02-24T20:52:19.326Z"
   },
   {
    "duration": 9,
    "start_time": "2022-02-24T20:52:19.332Z"
   },
   {
    "duration": 3198,
    "start_time": "2022-02-24T20:52:19.343Z"
   },
   {
    "duration": 9,
    "start_time": "2022-02-24T20:52:22.628Z"
   },
   {
    "duration": 87,
    "start_time": "2022-02-24T20:52:22.640Z"
   },
   {
    "duration": 21,
    "start_time": "2022-02-24T20:52:22.730Z"
   },
   {
    "duration": 22,
    "start_time": "2022-02-24T20:52:22.755Z"
   },
   {
    "duration": 27,
    "start_time": "2022-02-24T20:52:22.780Z"
   },
   {
    "duration": 1870051,
    "start_time": "2022-02-24T20:52:22.810Z"
   },
   {
    "duration": 64,
    "start_time": "2022-02-24T21:23:32.865Z"
   },
   {
    "duration": 468,
    "start_time": "2022-02-24T21:23:32.931Z"
   },
   {
    "duration": 15,
    "start_time": "2022-02-24T21:26:31.437Z"
   },
   {
    "duration": 6,
    "start_time": "2022-02-24T21:27:54.136Z"
   },
   {
    "duration": 1200,
    "start_time": "2022-02-24T21:27:54.145Z"
   },
   {
    "duration": 170,
    "start_time": "2022-02-24T21:27:55.348Z"
   },
   {
    "duration": 20,
    "start_time": "2022-02-24T21:27:55.525Z"
   },
   {
    "duration": 186,
    "start_time": "2022-02-24T21:27:55.548Z"
   },
   {
    "duration": 6,
    "start_time": "2022-02-24T21:27:55.738Z"
   },
   {
    "duration": 14,
    "start_time": "2022-02-24T21:27:55.747Z"
   },
   {
    "duration": 9,
    "start_time": "2022-02-24T21:27:55.765Z"
   },
   {
    "duration": 265,
    "start_time": "2022-02-24T21:27:55.780Z"
   },
   {
    "duration": 532,
    "start_time": "2022-02-24T21:27:56.048Z"
   },
   {
    "duration": 617,
    "start_time": "2022-02-24T21:27:56.582Z"
   },
   {
    "duration": 1343,
    "start_time": "2022-02-24T21:27:57.201Z"
   },
   {
    "duration": 379,
    "start_time": "2022-02-24T21:27:58.546Z"
   },
   {
    "duration": 27,
    "start_time": "2022-02-24T21:27:58.928Z"
   },
   {
    "duration": 9,
    "start_time": "2022-02-24T21:27:58.958Z"
   },
   {
    "duration": 7,
    "start_time": "2022-02-24T21:27:58.970Z"
   },
   {
    "duration": 61,
    "start_time": "2022-02-24T21:27:58.980Z"
   },
   {
    "duration": 7518,
    "start_time": "2022-02-24T21:27:59.043Z"
   },
   {
    "duration": 28,
    "start_time": "2022-02-24T21:28:06.563Z"
   },
   {
    "duration": 40,
    "start_time": "2022-02-24T21:28:06.594Z"
   },
   {
    "duration": 59,
    "start_time": "2022-02-24T21:28:06.636Z"
   },
   {
    "duration": 46,
    "start_time": "2022-02-24T21:28:06.697Z"
   },
   {
    "duration": 2410,
    "start_time": "2022-02-24T21:28:06.746Z"
   },
   {
    "duration": 37,
    "start_time": "2022-02-24T21:28:09.159Z"
   },
   {
    "duration": 29,
    "start_time": "2022-02-24T21:28:09.199Z"
   },
   {
    "duration": 30,
    "start_time": "2022-02-24T21:28:09.230Z"
   },
   {
    "duration": 21,
    "start_time": "2022-02-24T21:28:09.267Z"
   },
   {
    "duration": 94,
    "start_time": "2022-02-24T21:28:09.292Z"
   },
   {
    "duration": 11,
    "start_time": "2022-02-24T21:28:09.388Z"
   },
   {
    "duration": 80,
    "start_time": "2022-02-24T21:28:09.401Z"
   },
   {
    "duration": 528,
    "start_time": "2022-02-24T21:28:09.484Z"
   },
   {
    "duration": 1734,
    "start_time": "2022-02-24T21:28:10.014Z"
   },
   {
    "duration": 23,
    "start_time": "2022-02-24T21:28:11.751Z"
   },
   {
    "duration": 15,
    "start_time": "2022-02-24T21:28:11.777Z"
   },
   {
    "duration": 468,
    "start_time": "2022-02-24T21:28:11.795Z"
   },
   {
    "duration": 480,
    "start_time": "2022-02-24T21:28:12.265Z"
   },
   {
    "duration": 22,
    "start_time": "2022-02-24T21:28:12.748Z"
   },
   {
    "duration": 1090,
    "start_time": "2022-02-24T21:28:12.772Z"
   },
   {
    "duration": 3133,
    "start_time": "2022-02-24T21:28:13.864Z"
   },
   {
    "duration": 34,
    "start_time": "2022-02-24T21:28:17.000Z"
   },
   {
    "duration": 10,
    "start_time": "2022-02-24T21:28:17.037Z"
   },
   {
    "duration": 77,
    "start_time": "2022-02-24T21:28:17.049Z"
   },
   {
    "duration": 18,
    "start_time": "2022-02-24T21:28:17.129Z"
   },
   {
    "duration": 1699,
    "start_time": "2022-02-24T21:28:17.150Z"
   },
   {
    "duration": 10,
    "start_time": "2022-02-24T21:28:18.852Z"
   },
   {
    "duration": 7,
    "start_time": "2022-02-24T21:28:18.865Z"
   },
   {
    "duration": 80,
    "start_time": "2022-02-24T21:28:18.875Z"
   },
   {
    "duration": 49,
    "start_time": "2022-02-24T21:28:18.958Z"
   },
   {
    "duration": 19,
    "start_time": "2022-02-24T21:28:19.010Z"
   },
   {
    "duration": 1158,
    "start_time": "2022-02-24T21:28:19.032Z"
   },
   {
    "duration": 13,
    "start_time": "2022-02-24T21:28:20.193Z"
   },
   {
    "duration": 10,
    "start_time": "2022-02-24T21:28:20.226Z"
   },
   {
    "duration": 37,
    "start_time": "2022-02-24T21:28:20.239Z"
   },
   {
    "duration": 72,
    "start_time": "2022-02-24T21:28:20.278Z"
   },
   {
    "duration": 13,
    "start_time": "2022-02-24T21:28:20.353Z"
   },
   {
    "duration": 25,
    "start_time": "2022-02-24T21:28:20.369Z"
   },
   {
    "duration": 33,
    "start_time": "2022-02-24T21:28:20.397Z"
   },
   {
    "duration": 1618,
    "start_time": "2022-02-24T21:28:20.433Z"
   },
   {
    "duration": 20,
    "start_time": "2022-02-24T21:28:22.054Z"
   },
   {
    "duration": 21,
    "start_time": "2022-02-24T21:28:22.077Z"
   },
   {
    "duration": 84,
    "start_time": "2022-02-24T21:28:22.101Z"
   },
   {
    "duration": 239,
    "start_time": "2022-02-24T21:28:22.187Z"
   },
   {
    "duration": 19,
    "start_time": "2022-02-24T21:28:22.428Z"
   },
   {
    "duration": 5,
    "start_time": "2022-02-24T21:28:22.450Z"
   },
   {
    "duration": 7,
    "start_time": "2022-02-24T21:28:22.457Z"
   },
   {
    "duration": 1662,
    "start_time": "2022-02-24T21:28:22.467Z"
   },
   {
    "duration": 95,
    "start_time": "2022-02-24T21:28:24.132Z"
   },
   {
    "duration": 7,
    "start_time": "2022-02-24T21:28:24.230Z"
   },
   {
    "duration": 10,
    "start_time": "2022-02-24T21:28:24.240Z"
   },
   {
    "duration": 7,
    "start_time": "2022-02-24T21:28:24.252Z"
   },
   {
    "duration": 8,
    "start_time": "2022-02-24T21:28:24.261Z"
   },
   {
    "duration": 1078587,
    "start_time": "2022-02-24T21:28:24.271Z"
   },
   {
    "duration": 15,
    "start_time": "2022-02-24T21:46:27.351Z"
   },
   {
    "duration": 16225,
    "start_time": "2022-02-24T21:47:34.114Z"
   },
   {
    "duration": 1735,
    "start_time": "2022-02-25T07:43:16.926Z"
   },
   {
    "duration": 1209,
    "start_time": "2022-02-25T07:43:18.664Z"
   },
   {
    "duration": 174,
    "start_time": "2022-02-25T07:43:19.877Z"
   },
   {
    "duration": 25,
    "start_time": "2022-02-25T07:43:20.054Z"
   },
   {
    "duration": 188,
    "start_time": "2022-02-25T07:43:20.082Z"
   },
   {
    "duration": 6,
    "start_time": "2022-02-25T07:43:20.273Z"
   },
   {
    "duration": 29,
    "start_time": "2022-02-25T07:43:20.282Z"
   },
   {
    "duration": 21,
    "start_time": "2022-02-25T07:43:20.314Z"
   },
   {
    "duration": 820,
    "start_time": "2022-02-25T07:43:20.339Z"
   },
   {
    "duration": 603,
    "start_time": "2022-02-25T07:43:21.165Z"
   },
   {
    "duration": 642,
    "start_time": "2022-02-25T07:43:21.770Z"
   },
   {
    "duration": 1487,
    "start_time": "2022-02-25T07:43:22.415Z"
   },
   {
    "duration": 452,
    "start_time": "2022-02-25T07:43:23.905Z"
   },
   {
    "duration": 24,
    "start_time": "2022-02-25T07:43:24.359Z"
   },
   {
    "duration": 4,
    "start_time": "2022-02-25T07:43:24.386Z"
   },
   {
    "duration": 8,
    "start_time": "2022-02-25T07:43:24.392Z"
   },
   {
    "duration": 26,
    "start_time": "2022-02-25T07:43:24.426Z"
   },
   {
    "duration": 7299,
    "start_time": "2022-02-25T07:43:24.454Z"
   },
   {
    "duration": 27,
    "start_time": "2022-02-25T07:43:31.755Z"
   },
   {
    "duration": 48,
    "start_time": "2022-02-25T07:43:31.785Z"
   },
   {
    "duration": 55,
    "start_time": "2022-02-25T07:43:31.835Z"
   },
   {
    "duration": 41,
    "start_time": "2022-02-25T07:43:31.893Z"
   },
   {
    "duration": 2418,
    "start_time": "2022-02-25T07:43:31.936Z"
   },
   {
    "duration": 38,
    "start_time": "2022-02-25T07:43:34.357Z"
   },
   {
    "duration": 20,
    "start_time": "2022-02-25T07:43:34.398Z"
   },
   {
    "duration": 26,
    "start_time": "2022-02-25T07:43:34.427Z"
   },
   {
    "duration": 21,
    "start_time": "2022-02-25T07:43:34.461Z"
   },
   {
    "duration": 76,
    "start_time": "2022-02-25T07:43:34.486Z"
   },
   {
    "duration": 11,
    "start_time": "2022-02-25T07:43:34.565Z"
   },
   {
    "duration": 61,
    "start_time": "2022-02-25T07:43:34.578Z"
   },
   {
    "duration": 685,
    "start_time": "2022-02-25T07:43:34.641Z"
   },
   {
    "duration": 1940,
    "start_time": "2022-02-25T07:43:35.329Z"
   },
   {
    "duration": 23,
    "start_time": "2022-02-25T07:43:37.272Z"
   },
   {
    "duration": 38,
    "start_time": "2022-02-25T07:43:37.297Z"
   },
   {
    "duration": 465,
    "start_time": "2022-02-25T07:43:37.338Z"
   },
   {
    "duration": 452,
    "start_time": "2022-02-25T07:43:37.806Z"
   },
   {
    "duration": 21,
    "start_time": "2022-02-25T07:43:38.261Z"
   },
   {
    "duration": 917,
    "start_time": "2022-02-25T07:43:38.285Z"
   },
   {
    "duration": 3064,
    "start_time": "2022-02-25T07:43:39.205Z"
   },
   {
    "duration": 21,
    "start_time": "2022-02-25T07:43:42.272Z"
   },
   {
    "duration": 33,
    "start_time": "2022-02-25T07:43:42.295Z"
   },
   {
    "duration": 55,
    "start_time": "2022-02-25T07:43:42.331Z"
   },
   {
    "duration": 46,
    "start_time": "2022-02-25T07:43:42.389Z"
   },
   {
    "duration": 1996,
    "start_time": "2022-02-25T07:43:42.439Z"
   },
   {
    "duration": 9,
    "start_time": "2022-02-25T07:43:44.437Z"
   },
   {
    "duration": 24,
    "start_time": "2022-02-25T07:43:44.449Z"
   },
   {
    "duration": 59,
    "start_time": "2022-02-25T07:43:44.475Z"
   },
   {
    "duration": 46,
    "start_time": "2022-02-25T07:43:44.536Z"
   },
   {
    "duration": 5,
    "start_time": "2022-02-25T07:43:44.585Z"
   },
   {
    "duration": 1148,
    "start_time": "2022-02-25T07:43:44.593Z"
   },
   {
    "duration": 11,
    "start_time": "2022-02-25T07:43:45.743Z"
   },
   {
    "duration": 8,
    "start_time": "2022-02-25T07:43:45.756Z"
   },
   {
    "duration": 23,
    "start_time": "2022-02-25T07:43:45.767Z"
   },
   {
    "duration": 86,
    "start_time": "2022-02-25T07:43:45.793Z"
   },
   {
    "duration": 12,
    "start_time": "2022-02-25T07:43:45.882Z"
   },
   {
    "duration": 34,
    "start_time": "2022-02-25T07:43:45.897Z"
   },
   {
    "duration": 7,
    "start_time": "2022-02-25T07:43:45.934Z"
   },
   {
    "duration": 1463,
    "start_time": "2022-02-25T07:43:45.944Z"
   },
   {
    "duration": 28,
    "start_time": "2022-02-25T07:43:47.410Z"
   },
   {
    "duration": 22,
    "start_time": "2022-02-25T07:43:47.440Z"
   },
   {
    "duration": 78,
    "start_time": "2022-02-25T07:43:47.465Z"
   },
   {
    "duration": 241,
    "start_time": "2022-02-25T07:43:47.546Z"
   },
   {
    "duration": 19,
    "start_time": "2022-02-25T07:43:47.790Z"
   },
   {
    "duration": 4,
    "start_time": "2022-02-25T07:43:47.827Z"
   },
   {
    "duration": 11,
    "start_time": "2022-02-25T07:43:47.833Z"
   },
   {
    "duration": 1986,
    "start_time": "2022-02-25T07:43:47.846Z"
   },
   {
    "duration": 94,
    "start_time": "2022-02-25T07:43:49.836Z"
   },
   {
    "duration": 11,
    "start_time": "2022-02-25T07:43:49.933Z"
   },
   {
    "duration": 12,
    "start_time": "2022-02-25T07:43:49.947Z"
   },
   {
    "duration": 8,
    "start_time": "2022-02-25T07:43:49.962Z"
   },
   {
    "duration": 11,
    "start_time": "2022-02-25T07:43:49.972Z"
   },
   {
    "duration": 1102165,
    "start_time": "2022-02-25T07:43:49.986Z"
   },
   {
    "duration": 14,
    "start_time": "2022-02-25T08:02:12.154Z"
   },
   {
    "duration": 12,
    "start_time": "2022-02-25T08:27:26.383Z"
   },
   {
    "duration": 5,
    "start_time": "2022-02-25T08:32:11.848Z"
   },
   {
    "duration": 9678,
    "start_time": "2022-02-25T08:40:19.153Z"
   },
   {
    "duration": 9,
    "start_time": "2022-02-25T09:16:58.597Z"
   },
   {
    "duration": 91942,
    "start_time": "2022-02-25T09:17:07.294Z"
   },
   {
    "duration": 44,
    "start_time": "2022-02-25T09:26:37.575Z"
   },
   {
    "duration": 7,
    "start_time": "2022-02-25T09:27:04.633Z"
   },
   {
    "duration": 91418,
    "start_time": "2022-02-25T09:43:46.819Z"
   },
   {
    "duration": 4,
    "start_time": "2022-02-25T09:46:50.682Z"
   },
   {
    "duration": 1401,
    "start_time": "2022-02-25T09:47:01.040Z"
   },
   {
    "duration": 5,
    "start_time": "2022-02-25T09:47:06.829Z"
   },
   {
    "duration": 1452,
    "start_time": "2022-02-25T09:47:07.299Z"
   },
   {
    "duration": 5,
    "start_time": "2022-02-25T09:47:13.178Z"
   },
   {
    "duration": 1394,
    "start_time": "2022-02-25T09:47:13.756Z"
   },
   {
    "duration": 4,
    "start_time": "2022-02-25T09:47:19.011Z"
   },
   {
    "duration": 1448,
    "start_time": "2022-02-25T09:47:19.495Z"
   },
   {
    "duration": 5,
    "start_time": "2022-02-25T09:47:26.071Z"
   },
   {
    "duration": 1467,
    "start_time": "2022-02-25T09:47:26.478Z"
   },
   {
    "duration": 5,
    "start_time": "2022-02-25T09:47:42.115Z"
   },
   {
    "duration": 1288,
    "start_time": "2022-02-25T09:47:42.559Z"
   },
   {
    "duration": 4,
    "start_time": "2022-02-25T09:47:50.711Z"
   },
   {
    "duration": 1529,
    "start_time": "2022-02-25T09:47:51.097Z"
   },
   {
    "duration": 5,
    "start_time": "2022-02-25T09:48:03.704Z"
   },
   {
    "duration": 1451,
    "start_time": "2022-02-25T09:48:04.297Z"
   },
   {
    "duration": 5,
    "start_time": "2022-02-25T09:48:12.040Z"
   },
   {
    "duration": 1425,
    "start_time": "2022-02-25T09:48:12.419Z"
   },
   {
    "duration": 5,
    "start_time": "2022-02-25T09:48:25.127Z"
   },
   {
    "duration": 1467,
    "start_time": "2022-02-25T09:48:25.581Z"
   },
   {
    "duration": 5,
    "start_time": "2022-02-25T09:49:26.617Z"
   },
   {
    "duration": 5,
    "start_time": "2022-02-25T09:49:53.399Z"
   },
   {
    "duration": 80,
    "start_time": "2022-02-25T09:50:00.218Z"
   },
   {
    "duration": 10201,
    "start_time": "2022-02-25T09:50:37.994Z"
   },
   {
    "duration": 91290,
    "start_time": "2022-02-25T09:53:14.742Z"
   },
   {
    "duration": 2602,
    "start_time": "2022-02-25T09:54:46.035Z"
   },
   {
    "duration": 7,
    "start_time": "2022-02-25T09:55:52.666Z"
   },
   {
    "duration": 11,
    "start_time": "2022-02-25T09:55:55.885Z"
   },
   {
    "duration": 293,
    "start_time": "2022-02-25T09:56:12.416Z"
   },
   {
    "duration": 12,
    "start_time": "2022-02-25T09:56:31.537Z"
   },
   {
    "duration": 13,
    "start_time": "2022-02-25T09:56:44.851Z"
   },
   {
    "duration": 731,
    "start_time": "2022-02-25T09:56:49.371Z"
   },
   {
    "duration": 12,
    "start_time": "2022-02-25T09:57:25.427Z"
   },
   {
    "duration": 16951,
    "start_time": "2022-02-25T09:57:27.364Z"
   },
   {
    "duration": 125,
    "start_time": "2022-02-25T09:57:44.193Z"
   },
   {
    "duration": 116,
    "start_time": "2022-02-25T09:57:44.204Z"
   },
   {
    "duration": 7,
    "start_time": "2022-02-25T10:02:22.000Z"
   },
   {
    "duration": 4,
    "start_time": "2022-02-25T10:03:10.252Z"
   },
   {
    "duration": 319,
    "start_time": "2022-02-25T10:03:58.133Z"
   },
   {
    "duration": 8,
    "start_time": "2022-02-25T10:04:05.157Z"
   },
   {
    "duration": 94743,
    "start_time": "2022-02-25T10:04:05.650Z"
   },
   {
    "duration": 302,
    "start_time": "2022-02-25T10:07:09.639Z"
   },
   {
    "duration": 6,
    "start_time": "2022-02-25T10:07:19.608Z"
   },
   {
    "duration": 96603,
    "start_time": "2022-02-25T10:07:20.090Z"
   },
   {
    "duration": 131,
    "start_time": "2022-02-25T10:08:56.565Z"
   },
   {
    "duration": 83,
    "start_time": "2022-02-25T10:09:10.365Z"
   },
   {
    "duration": 7,
    "start_time": "2022-02-25T10:10:33.042Z"
   },
   {
    "duration": 4,
    "start_time": "2022-02-25T10:10:33.617Z"
   },
   {
    "duration": 5270,
    "start_time": "2022-02-25T10:10:34.339Z"
   },
   {
    "duration": 95951,
    "start_time": "2022-02-25T10:10:45.077Z"
   },
   {
    "duration": 44,
    "start_time": "2022-02-25T10:13:24.927Z"
   },
   {
    "duration": 270,
    "start_time": "2022-02-25T10:14:39.701Z"
   },
   {
    "duration": 416,
    "start_time": "2022-02-25T10:14:50.546Z"
   },
   {
    "duration": 795,
    "start_time": "2022-02-25T10:15:01.939Z"
   },
   {
    "duration": 1208,
    "start_time": "2022-02-25T10:15:16.584Z"
   },
   {
    "duration": 3407,
    "start_time": "2022-02-25T10:15:45.399Z"
   },
   {
    "duration": 97028,
    "start_time": "2022-02-25T10:15:59.204Z"
   },
   {
    "duration": 6,
    "start_time": "2022-02-25T10:18:03.995Z"
   },
   {
    "duration": 93983,
    "start_time": "2022-02-25T10:18:22.548Z"
   },
   {
    "duration": 5,
    "start_time": "2022-02-25T10:19:56.535Z"
   },
   {
    "duration": 7,
    "start_time": "2022-02-25T10:21:45.284Z"
   },
   {
    "duration": 96818,
    "start_time": "2022-02-25T10:21:45.822Z"
   },
   {
    "duration": 83,
    "start_time": "2022-02-25T10:23:47.621Z"
   },
   {
    "duration": 87,
    "start_time": "2022-02-25T10:24:19.874Z"
   },
   {
    "duration": 17,
    "start_time": "2022-02-25T10:26:03.103Z"
   },
   {
    "duration": 6,
    "start_time": "2022-02-25T10:27:55.267Z"
   },
   {
    "duration": 280,
    "start_time": "2022-02-25T10:31:17.264Z"
   },
   {
    "duration": 1733,
    "start_time": "2022-02-25T10:31:37.749Z"
   },
   {
    "duration": 1799,
    "start_time": "2022-02-25T10:32:09.289Z"
   },
   {
    "duration": 1925,
    "start_time": "2022-02-25T10:32:23.555Z"
   },
   {
    "duration": 1586,
    "start_time": "2022-02-25T10:33:30.790Z"
   },
   {
    "duration": 1628,
    "start_time": "2022-02-25T10:33:41.809Z"
   },
   {
    "duration": 7,
    "start_time": "2022-02-25T10:37:18.182Z"
   },
   {
    "duration": 7,
    "start_time": "2022-02-25T10:37:59.706Z"
   },
   {
    "duration": 92600,
    "start_time": "2022-02-25T10:38:00.379Z"
   },
   {
    "duration": 8,
    "start_time": "2022-02-25T10:41:46.722Z"
   },
   {
    "duration": 96543,
    "start_time": "2022-02-25T10:41:47.417Z"
   },
   {
    "duration": 7,
    "start_time": "2022-02-25T10:43:23.963Z"
   },
   {
    "duration": 17,
    "start_time": "2022-02-25T10:44:00.017Z"
   },
   {
    "duration": 444,
    "start_time": "2022-02-25T10:49:07.391Z"
   },
   {
    "duration": 309,
    "start_time": "2022-02-25T10:49:08.010Z"
   },
   {
    "duration": 5505,
    "start_time": "2022-02-25T10:49:17.031Z"
   },
   {
    "duration": 83,
    "start_time": "2022-02-25T10:49:22.457Z"
   },
   {
    "duration": 6,
    "start_time": "2022-02-25T10:49:25.448Z"
   },
   {
    "duration": 27152,
    "start_time": "2022-02-25T10:49:27.192Z"
   },
   {
    "duration": 584,
    "start_time": "2022-02-25T10:49:54.427Z"
   },
   {
    "duration": 20852,
    "start_time": "2022-02-25T10:49:57.387Z"
   },
   {
    "duration": 94785,
    "start_time": "2022-02-25T10:50:30.404Z"
   },
   {
    "duration": 132190,
    "start_time": "2022-02-25T10:52:06.707Z"
   },
   {
    "duration": 4,
    "start_time": "2022-02-25T10:55:39.438Z"
   },
   {
    "duration": 6,
    "start_time": "2022-02-25T10:55:46.859Z"
   },
   {
    "duration": 6,
    "start_time": "2022-02-25T10:56:08.249Z"
   },
   {
    "duration": 6,
    "start_time": "2022-02-25T10:56:52.108Z"
   },
   {
    "duration": 300,
    "start_time": "2022-02-25T10:56:58.241Z"
   },
   {
    "duration": 7,
    "start_time": "2022-02-25T10:57:00.610Z"
   },
   {
    "duration": 9,
    "start_time": "2022-02-25T10:57:08.921Z"
   },
   {
    "duration": 297,
    "start_time": "2022-02-25T10:57:24.102Z"
   },
   {
    "duration": 7,
    "start_time": "2022-02-25T10:57:26.407Z"
   },
   {
    "duration": 280,
    "start_time": "2022-02-25T11:04:07.196Z"
   },
   {
    "duration": 7,
    "start_time": "2022-02-25T11:08:03.767Z"
   },
   {
    "duration": 1407,
    "start_time": "2022-02-25T11:08:03.779Z"
   },
   {
    "duration": 210,
    "start_time": "2022-02-25T11:08:05.190Z"
   },
   {
    "duration": 40,
    "start_time": "2022-02-25T11:08:05.405Z"
   },
   {
    "duration": 178,
    "start_time": "2022-02-25T11:08:05.448Z"
   },
   {
    "duration": 6,
    "start_time": "2022-02-25T11:08:05.628Z"
   },
   {
    "duration": 10,
    "start_time": "2022-02-25T11:08:05.637Z"
   },
   {
    "duration": 10,
    "start_time": "2022-02-25T11:08:05.650Z"
   },
   {
    "duration": 219,
    "start_time": "2022-02-25T11:08:05.664Z"
   },
   {
    "duration": 689,
    "start_time": "2022-02-25T11:08:05.888Z"
   },
   {
    "duration": 824,
    "start_time": "2022-02-25T11:08:06.580Z"
   },
   {
    "duration": 1399,
    "start_time": "2022-02-25T11:08:07.407Z"
   },
   {
    "duration": 449,
    "start_time": "2022-02-25T11:08:08.809Z"
   },
   {
    "duration": 4,
    "start_time": "2022-02-25T11:08:09.261Z"
   },
   {
    "duration": 8,
    "start_time": "2022-02-25T11:08:09.268Z"
   },
   {
    "duration": 54,
    "start_time": "2022-02-25T11:08:09.279Z"
   },
   {
    "duration": 7365,
    "start_time": "2022-02-25T11:08:09.336Z"
   },
   {
    "duration": 38,
    "start_time": "2022-02-25T11:08:16.704Z"
   },
   {
    "duration": 52,
    "start_time": "2022-02-25T11:08:16.745Z"
   },
   {
    "duration": 27,
    "start_time": "2022-02-25T11:08:16.825Z"
   },
   {
    "duration": 2628,
    "start_time": "2022-02-25T11:08:16.855Z"
   },
   {
    "duration": 54,
    "start_time": "2022-02-25T11:08:19.486Z"
   },
   {
    "duration": 12,
    "start_time": "2022-02-25T11:08:19.542Z"
   },
   {
    "duration": 12,
    "start_time": "2022-02-25T11:08:19.556Z"
   },
   {
    "duration": 57,
    "start_time": "2022-02-25T11:08:19.571Z"
   },
   {
    "duration": 68,
    "start_time": "2022-02-25T11:08:19.631Z"
   },
   {
    "duration": 81,
    "start_time": "2022-02-25T11:08:19.706Z"
   },
   {
    "duration": 722,
    "start_time": "2022-02-25T11:08:19.790Z"
   },
   {
    "duration": 1917,
    "start_time": "2022-02-25T11:08:20.515Z"
   },
   {
    "duration": 24,
    "start_time": "2022-02-25T11:08:22.434Z"
   },
   {
    "duration": 15,
    "start_time": "2022-02-25T11:08:22.461Z"
   },
   {
    "duration": 563,
    "start_time": "2022-02-25T11:08:26.552Z"
   },
   {
    "duration": 4447,
    "start_time": "2022-02-25T11:10:17.603Z"
   },
   {
    "duration": 4824,
    "start_time": "2022-02-25T11:10:29.752Z"
   },
   {
    "duration": 876,
    "start_time": "2022-02-25T11:10:39.342Z"
   },
   {
    "duration": 1711,
    "start_time": "2022-02-25T11:10:47.088Z"
   },
   {
    "duration": 1786,
    "start_time": "2022-02-25T11:10:52.512Z"
   },
   {
    "duration": 3306,
    "start_time": "2022-02-25T11:10:57.442Z"
   },
   {
    "duration": 8090,
    "start_time": "2022-02-25T11:11:21.286Z"
   },
   {
    "duration": 4793,
    "start_time": "2022-02-25T11:12:15.832Z"
   },
   {
    "duration": 49,
    "start_time": "2022-02-25T11:13:41.990Z"
   },
   {
    "duration": 53,
    "start_time": "2022-02-25T11:15:19.237Z"
   },
   {
    "duration": 19,
    "start_time": "2022-02-25T11:15:22.589Z"
   },
   {
    "duration": 1736,
    "start_time": "2022-02-25T11:15:23.507Z"
   },
   {
    "duration": 22,
    "start_time": "2022-02-25T11:16:31.231Z"
   },
   {
    "duration": 48,
    "start_time": "2022-02-25T11:17:31.096Z"
   },
   {
    "duration": 6,
    "start_time": "2022-02-25T11:17:37.200Z"
   },
   {
    "duration": 5,
    "start_time": "2022-02-25T11:18:13.111Z"
   },
   {
    "duration": 1252,
    "start_time": "2022-02-25T11:18:17.997Z"
   },
   {
    "duration": 35,
    "start_time": "2022-02-25T11:19:00.395Z"
   },
   {
    "duration": 6,
    "start_time": "2022-02-25T11:20:22.183Z"
   },
   {
    "duration": 1160,
    "start_time": "2022-02-25T11:20:22.192Z"
   },
   {
    "duration": 177,
    "start_time": "2022-02-25T11:20:23.357Z"
   },
   {
    "duration": 30,
    "start_time": "2022-02-25T11:20:23.538Z"
   },
   {
    "duration": 224,
    "start_time": "2022-02-25T11:20:23.570Z"
   },
   {
    "duration": 6,
    "start_time": "2022-02-25T11:20:23.797Z"
   },
   {
    "duration": 22,
    "start_time": "2022-02-25T11:20:23.806Z"
   },
   {
    "duration": 9,
    "start_time": "2022-02-25T11:20:23.831Z"
   },
   {
    "duration": 216,
    "start_time": "2022-02-25T11:20:23.844Z"
   },
   {
    "duration": 485,
    "start_time": "2022-02-25T11:20:24.064Z"
   },
   {
    "duration": 581,
    "start_time": "2022-02-25T11:20:24.551Z"
   },
   {
    "duration": 1442,
    "start_time": "2022-02-25T11:20:25.135Z"
   },
   {
    "duration": 393,
    "start_time": "2022-02-25T11:20:26.580Z"
   },
   {
    "duration": 9,
    "start_time": "2022-02-25T11:20:26.976Z"
   },
   {
    "duration": 10,
    "start_time": "2022-02-25T11:20:26.988Z"
   },
   {
    "duration": 50,
    "start_time": "2022-02-25T11:20:27.001Z"
   },
   {
    "duration": 7698,
    "start_time": "2022-02-25T11:20:27.054Z"
   },
   {
    "duration": 30,
    "start_time": "2022-02-25T11:20:34.754Z"
   },
   {
    "duration": 80,
    "start_time": "2022-02-25T11:20:34.787Z"
   },
   {
    "duration": 24,
    "start_time": "2022-02-25T11:20:34.869Z"
   },
   {
    "duration": 2418,
    "start_time": "2022-02-25T11:20:34.896Z"
   },
   {
    "duration": 46,
    "start_time": "2022-02-25T11:20:37.326Z"
   },
   {
    "duration": 13,
    "start_time": "2022-02-25T11:20:37.374Z"
   },
   {
    "duration": 39,
    "start_time": "2022-02-25T11:20:37.389Z"
   },
   {
    "duration": 19,
    "start_time": "2022-02-25T11:20:37.431Z"
   },
   {
    "duration": 93,
    "start_time": "2022-02-25T11:20:37.453Z"
   },
   {
    "duration": 56,
    "start_time": "2022-02-25T11:20:37.552Z"
   },
   {
    "duration": 491,
    "start_time": "2022-02-25T11:20:37.611Z"
   },
   {
    "duration": 1695,
    "start_time": "2022-02-25T11:20:38.105Z"
   },
   {
    "duration": 29,
    "start_time": "2022-02-25T11:20:39.803Z"
   },
   {
    "duration": 12,
    "start_time": "2022-02-25T11:20:39.835Z"
   },
   {
    "duration": 5641,
    "start_time": "2022-02-25T11:20:39.850Z"
   },
   {
    "duration": 6317,
    "start_time": "2022-02-25T11:20:45.494Z"
   },
   {
    "duration": 30,
    "start_time": "2022-02-25T11:20:51.814Z"
   },
   {
    "duration": 10,
    "start_time": "2022-02-25T11:20:51.847Z"
   },
   {
    "duration": 74,
    "start_time": "2022-02-25T11:20:51.860Z"
   },
   {
    "duration": 24,
    "start_time": "2022-02-25T11:20:51.937Z"
   },
   {
    "duration": 1580,
    "start_time": "2022-02-25T11:20:51.964Z"
   },
   {
    "duration": 21,
    "start_time": "2022-02-25T11:20:53.547Z"
   },
   {
    "duration": 12,
    "start_time": "2022-02-25T11:20:53.570Z"
   },
   {
    "duration": 42,
    "start_time": "2022-02-25T11:20:53.585Z"
   },
   {
    "duration": 46,
    "start_time": "2022-02-25T11:20:53.629Z"
   },
   {
    "duration": 5,
    "start_time": "2022-02-25T11:20:53.677Z"
   },
   {
    "duration": 1307,
    "start_time": "2022-02-25T11:20:53.685Z"
   },
   {
    "duration": 11,
    "start_time": "2022-02-25T11:20:54.994Z"
   },
   {
    "duration": 48,
    "start_time": "2022-02-25T11:20:55.008Z"
   },
   {
    "duration": 79,
    "start_time": "2022-02-25T11:20:55.059Z"
   },
   {
    "duration": 11,
    "start_time": "2022-02-25T11:20:55.140Z"
   },
   {
    "duration": 11,
    "start_time": "2022-02-25T11:20:55.153Z"
   },
   {
    "duration": 7,
    "start_time": "2022-02-25T11:20:55.166Z"
   },
   {
    "duration": 1757,
    "start_time": "2022-02-25T11:20:55.176Z"
   },
   {
    "duration": 19,
    "start_time": "2022-02-25T11:20:56.936Z"
   },
   {
    "duration": 26,
    "start_time": "2022-02-25T11:20:56.957Z"
   },
   {
    "duration": 92,
    "start_time": "2022-02-25T11:20:56.986Z"
   },
   {
    "duration": 271,
    "start_time": "2022-02-25T11:20:57.081Z"
   },
   {
    "duration": 20,
    "start_time": "2022-02-25T11:20:57.355Z"
   },
   {
    "duration": 5,
    "start_time": "2022-02-25T11:20:57.377Z"
   },
   {
    "duration": 6,
    "start_time": "2022-02-25T11:20:57.384Z"
   },
   {
    "duration": 2003,
    "start_time": "2022-02-25T11:21:03.030Z"
   },
   {
    "duration": 6,
    "start_time": "2022-02-25T11:23:07.743Z"
   },
   {
    "duration": 1111,
    "start_time": "2022-02-25T11:23:07.752Z"
   },
   {
    "duration": 181,
    "start_time": "2022-02-25T11:23:08.867Z"
   },
   {
    "duration": 21,
    "start_time": "2022-02-25T11:23:09.052Z"
   },
   {
    "duration": 182,
    "start_time": "2022-02-25T11:23:09.077Z"
   },
   {
    "duration": 4,
    "start_time": "2022-02-25T11:23:09.262Z"
   },
   {
    "duration": 12,
    "start_time": "2022-02-25T11:23:09.269Z"
   },
   {
    "duration": 8,
    "start_time": "2022-02-25T11:23:09.286Z"
   },
   {
    "duration": 221,
    "start_time": "2022-02-25T11:23:09.297Z"
   },
   {
    "duration": 463,
    "start_time": "2022-02-25T11:23:09.525Z"
   },
   {
    "duration": 581,
    "start_time": "2022-02-25T11:23:09.991Z"
   },
   {
    "duration": 1276,
    "start_time": "2022-02-25T11:23:10.575Z"
   },
   {
    "duration": 348,
    "start_time": "2022-02-25T11:23:11.854Z"
   },
   {
    "duration": 3,
    "start_time": "2022-02-25T11:23:12.205Z"
   },
   {
    "duration": 18,
    "start_time": "2022-02-25T11:23:12.210Z"
   },
   {
    "duration": 28,
    "start_time": "2022-02-25T11:23:12.231Z"
   },
   {
    "duration": 7084,
    "start_time": "2022-02-25T11:23:12.261Z"
   },
   {
    "duration": 27,
    "start_time": "2022-02-25T11:23:19.347Z"
   },
   {
    "duration": 71,
    "start_time": "2022-02-25T11:23:19.376Z"
   },
   {
    "duration": 22,
    "start_time": "2022-02-25T11:23:19.450Z"
   },
   {
    "duration": 2218,
    "start_time": "2022-02-25T11:23:19.475Z"
   },
   {
    "duration": 62,
    "start_time": "2022-02-25T11:23:21.695Z"
   },
   {
    "duration": 12,
    "start_time": "2022-02-25T11:23:21.763Z"
   },
   {
    "duration": 11,
    "start_time": "2022-02-25T11:23:21.778Z"
   },
   {
    "duration": 46,
    "start_time": "2022-02-25T11:23:21.791Z"
   },
   {
    "duration": 62,
    "start_time": "2022-02-25T11:23:21.839Z"
   },
   {
    "duration": 68,
    "start_time": "2022-02-25T11:23:21.904Z"
   },
   {
    "duration": 508,
    "start_time": "2022-02-25T11:23:21.974Z"
   },
   {
    "duration": 1821,
    "start_time": "2022-02-25T11:23:22.485Z"
   },
   {
    "duration": 26,
    "start_time": "2022-02-25T11:23:24.308Z"
   },
   {
    "duration": 14,
    "start_time": "2022-02-25T11:23:24.337Z"
   },
   {
    "duration": 4921,
    "start_time": "2022-02-25T11:23:24.353Z"
   },
   {
    "duration": 5073,
    "start_time": "2022-02-25T11:23:29.277Z"
   },
   {
    "duration": 22,
    "start_time": "2022-02-25T11:23:34.353Z"
   },
   {
    "duration": 11,
    "start_time": "2022-02-25T11:23:34.377Z"
   },
   {
    "duration": 61,
    "start_time": "2022-02-25T11:23:34.390Z"
   },
   {
    "duration": 23,
    "start_time": "2022-02-25T11:23:34.454Z"
   },
   {
    "duration": 2157,
    "start_time": "2022-02-25T11:23:34.479Z"
   },
   {
    "duration": 23,
    "start_time": "2022-02-25T11:23:36.639Z"
   },
   {
    "duration": 12,
    "start_time": "2022-02-25T11:23:36.665Z"
   },
   {
    "duration": 53,
    "start_time": "2022-02-25T11:23:36.680Z"
   },
   {
    "duration": 93,
    "start_time": "2022-02-25T11:23:36.735Z"
   },
   {
    "duration": 6,
    "start_time": "2022-02-25T11:23:36.831Z"
   },
   {
    "duration": 1169,
    "start_time": "2022-02-25T11:23:36.839Z"
   },
   {
    "duration": 20,
    "start_time": "2022-02-25T11:23:38.012Z"
   },
   {
    "duration": 35,
    "start_time": "2022-02-25T11:23:38.035Z"
   },
   {
    "duration": 95,
    "start_time": "2022-02-25T11:23:38.072Z"
   },
   {
    "duration": 10,
    "start_time": "2022-02-25T11:23:38.170Z"
   },
   {
    "duration": 7,
    "start_time": "2022-02-25T11:23:38.183Z"
   },
   {
    "duration": 33,
    "start_time": "2022-02-25T11:23:38.193Z"
   },
   {
    "duration": 1970,
    "start_time": "2022-02-25T11:23:38.229Z"
   },
   {
    "duration": 27,
    "start_time": "2022-02-25T11:23:40.202Z"
   },
   {
    "duration": 23,
    "start_time": "2022-02-25T11:23:40.232Z"
   },
   {
    "duration": 89,
    "start_time": "2022-02-25T11:23:40.258Z"
   },
   {
    "duration": 285,
    "start_time": "2022-02-25T11:23:40.350Z"
   },
   {
    "duration": 20,
    "start_time": "2022-02-25T11:23:40.638Z"
   },
   {
    "duration": 4,
    "start_time": "2022-02-25T11:23:40.661Z"
   },
   {
    "duration": 7,
    "start_time": "2022-02-25T11:23:40.667Z"
   },
   {
    "duration": 2149,
    "start_time": "2022-02-25T11:23:40.677Z"
   },
   {
    "duration": 6,
    "start_time": "2022-02-25T11:23:59.587Z"
   },
   {
    "duration": 28866,
    "start_time": "2022-02-25T11:24:06.096Z"
   },
   {
    "duration": 68863,
    "start_time": "2022-02-25T11:25:30.771Z"
   },
   {
    "duration": 9,
    "start_time": "2022-02-25T11:28:10.569Z"
   },
   {
    "duration": 1911,
    "start_time": "2022-02-25T11:30:51.928Z"
   },
   {
    "duration": 1272,
    "start_time": "2022-02-25T11:30:53.842Z"
   },
   {
    "duration": 172,
    "start_time": "2022-02-25T11:30:55.117Z"
   },
   {
    "duration": 37,
    "start_time": "2022-02-25T11:30:55.292Z"
   },
   {
    "duration": 177,
    "start_time": "2022-02-25T11:30:55.331Z"
   },
   {
    "duration": 5,
    "start_time": "2022-02-25T11:30:55.510Z"
   },
   {
    "duration": 16,
    "start_time": "2022-02-25T11:30:55.517Z"
   },
   {
    "duration": 9,
    "start_time": "2022-02-25T11:30:55.535Z"
   },
   {
    "duration": 911,
    "start_time": "2022-02-25T11:30:55.548Z"
   },
   {
    "duration": 558,
    "start_time": "2022-02-25T11:30:56.463Z"
   },
   {
    "duration": 635,
    "start_time": "2022-02-25T11:30:57.025Z"
   },
   {
    "duration": 1430,
    "start_time": "2022-02-25T11:30:57.662Z"
   },
   {
    "duration": 350,
    "start_time": "2022-02-25T11:30:59.096Z"
   },
   {
    "duration": 4,
    "start_time": "2022-02-25T11:30:59.448Z"
   },
   {
    "duration": 25,
    "start_time": "2022-02-25T11:30:59.455Z"
   },
   {
    "duration": 31,
    "start_time": "2022-02-25T11:30:59.483Z"
   },
   {
    "duration": 7248,
    "start_time": "2022-02-25T11:30:59.516Z"
   },
   {
    "duration": 27,
    "start_time": "2022-02-25T11:31:06.767Z"
   },
   {
    "duration": 69,
    "start_time": "2022-02-25T11:31:06.796Z"
   },
   {
    "duration": 23,
    "start_time": "2022-02-25T11:31:06.867Z"
   },
   {
    "duration": 2264,
    "start_time": "2022-02-25T11:31:06.892Z"
   },
   {
    "duration": 44,
    "start_time": "2022-02-25T11:31:09.159Z"
   },
   {
    "duration": 32,
    "start_time": "2022-02-25T11:31:09.206Z"
   },
   {
    "duration": 10,
    "start_time": "2022-02-25T11:31:09.241Z"
   },
   {
    "duration": 22,
    "start_time": "2022-02-25T11:31:09.253Z"
   },
   {
    "duration": 93,
    "start_time": "2022-02-25T11:31:09.277Z"
   },
   {
    "duration": 65,
    "start_time": "2022-02-25T11:31:09.376Z"
   },
   {
    "duration": 484,
    "start_time": "2022-02-25T11:31:09.444Z"
   },
   {
    "duration": 1774,
    "start_time": "2022-02-25T11:31:09.931Z"
   },
   {
    "duration": 37,
    "start_time": "2022-02-25T11:31:11.707Z"
   },
   {
    "duration": 13,
    "start_time": "2022-02-25T11:31:11.747Z"
   },
   {
    "duration": 4898,
    "start_time": "2022-02-25T11:31:11.763Z"
   },
   {
    "duration": 22,
    "start_time": "2022-02-25T11:31:16.663Z"
   },
   {
    "duration": 38,
    "start_time": "2022-02-25T11:31:16.688Z"
   },
   {
    "duration": 53,
    "start_time": "2022-02-25T11:31:16.728Z"
   },
   {
    "duration": 20,
    "start_time": "2022-02-25T11:31:16.783Z"
   },
   {
    "duration": 1624,
    "start_time": "2022-02-25T11:31:16.826Z"
   },
   {
    "duration": 21,
    "start_time": "2022-02-25T11:31:18.453Z"
   },
   {
    "duration": 11,
    "start_time": "2022-02-25T11:31:18.476Z"
   },
   {
    "duration": 39,
    "start_time": "2022-02-25T11:31:18.489Z"
   },
   {
    "duration": 49,
    "start_time": "2022-02-25T11:31:18.530Z"
   },
   {
    "duration": 72,
    "start_time": "2022-02-25T11:31:18.582Z"
   },
   {
    "duration": 5,
    "start_time": "2022-02-25T11:31:18.657Z"
   },
   {
    "duration": 1262,
    "start_time": "2022-02-25T11:31:18.664Z"
   },
   {
    "duration": 11,
    "start_time": "2022-02-25T11:31:19.928Z"
   },
   {
    "duration": 29,
    "start_time": "2022-02-25T11:31:19.941Z"
   },
   {
    "duration": 88,
    "start_time": "2022-02-25T11:31:19.972Z"
   },
   {
    "duration": 10,
    "start_time": "2022-02-25T11:31:20.062Z"
   },
   {
    "duration": 12,
    "start_time": "2022-02-25T11:31:20.075Z"
   },
   {
    "duration": 13,
    "start_time": "2022-02-25T11:31:20.089Z"
   },
   {
    "duration": 1492,
    "start_time": "2022-02-25T11:31:20.105Z"
   },
   {
    "duration": 32,
    "start_time": "2022-02-25T11:31:21.599Z"
   },
   {
    "duration": 22,
    "start_time": "2022-02-25T11:31:21.634Z"
   },
   {
    "duration": 87,
    "start_time": "2022-02-25T11:31:21.659Z"
   },
   {
    "duration": 238,
    "start_time": "2022-02-25T11:31:21.749Z"
   },
   {
    "duration": 20,
    "start_time": "2022-02-25T11:31:21.990Z"
   },
   {
    "duration": 6,
    "start_time": "2022-02-25T11:31:22.027Z"
   },
   {
    "duration": 5,
    "start_time": "2022-02-25T11:31:22.036Z"
   },
   {
    "duration": 1886,
    "start_time": "2022-02-25T11:31:22.044Z"
   },
   {
    "duration": 96,
    "start_time": "2022-02-25T11:31:23.934Z"
   },
   {
    "duration": 10,
    "start_time": "2022-02-25T11:31:24.033Z"
   },
   {
    "duration": 7,
    "start_time": "2022-02-25T11:31:24.046Z"
   },
   {
    "duration": 19,
    "start_time": "2022-02-25T11:31:24.055Z"
   },
   {
    "duration": 8,
    "start_time": "2022-02-25T11:31:24.076Z"
   },
   {
    "duration": 21501,
    "start_time": "2022-02-26T14:52:47.129Z"
   },
   {
    "duration": 1244,
    "start_time": "2022-02-26T14:53:08.632Z"
   },
   {
    "duration": 1757,
    "start_time": "2022-02-26T14:53:09.877Z"
   },
   {
    "duration": -180,
    "start_time": "2022-02-26T14:53:11.819Z"
   },
   {
    "duration": -184,
    "start_time": "2022-02-26T14:53:11.824Z"
   },
   {
    "duration": -190,
    "start_time": "2022-02-26T14:53:11.831Z"
   },
   {
    "duration": -195,
    "start_time": "2022-02-26T14:53:11.837Z"
   },
   {
    "duration": -200,
    "start_time": "2022-02-26T14:53:11.843Z"
   },
   {
    "duration": -204,
    "start_time": "2022-02-26T14:53:11.848Z"
   },
   {
    "duration": -208,
    "start_time": "2022-02-26T14:53:11.854Z"
   },
   {
    "duration": -211,
    "start_time": "2022-02-26T14:53:11.858Z"
   },
   {
    "duration": -216,
    "start_time": "2022-02-26T14:53:11.864Z"
   },
   {
    "duration": -220,
    "start_time": "2022-02-26T14:53:11.869Z"
   },
   {
    "duration": -224,
    "start_time": "2022-02-26T14:53:11.874Z"
   },
   {
    "duration": -227,
    "start_time": "2022-02-26T14:53:11.878Z"
   },
   {
    "duration": -233,
    "start_time": "2022-02-26T14:53:11.885Z"
   },
   {
    "duration": -247,
    "start_time": "2022-02-26T14:53:11.900Z"
   },
   {
    "duration": -252,
    "start_time": "2022-02-26T14:53:11.906Z"
   },
   {
    "duration": -256,
    "start_time": "2022-02-26T14:53:11.911Z"
   },
   {
    "duration": -259,
    "start_time": "2022-02-26T14:53:11.915Z"
   },
   {
    "duration": -263,
    "start_time": "2022-02-26T14:53:11.920Z"
   },
   {
    "duration": -267,
    "start_time": "2022-02-26T14:53:11.925Z"
   },
   {
    "duration": -271,
    "start_time": "2022-02-26T14:53:11.930Z"
   },
   {
    "duration": -276,
    "start_time": "2022-02-26T14:53:11.936Z"
   },
   {
    "duration": -279,
    "start_time": "2022-02-26T14:53:11.940Z"
   },
   {
    "duration": -284,
    "start_time": "2022-02-26T14:53:11.946Z"
   },
   {
    "duration": -288,
    "start_time": "2022-02-26T14:53:11.951Z"
   },
   {
    "duration": -292,
    "start_time": "2022-02-26T14:53:11.956Z"
   },
   {
    "duration": -296,
    "start_time": "2022-02-26T14:53:11.961Z"
   },
   {
    "duration": -300,
    "start_time": "2022-02-26T14:53:11.966Z"
   },
   {
    "duration": -304,
    "start_time": "2022-02-26T14:53:11.971Z"
   },
   {
    "duration": -308,
    "start_time": "2022-02-26T14:53:11.976Z"
   },
   {
    "duration": -313,
    "start_time": "2022-02-26T14:53:11.982Z"
   },
   {
    "duration": -317,
    "start_time": "2022-02-26T14:53:11.987Z"
   },
   {
    "duration": -321,
    "start_time": "2022-02-26T14:53:11.992Z"
   },
   {
    "duration": -326,
    "start_time": "2022-02-26T14:53:11.998Z"
   },
   {
    "duration": -339,
    "start_time": "2022-02-26T14:53:12.011Z"
   },
   {
    "duration": -344,
    "start_time": "2022-02-26T14:53:12.017Z"
   },
   {
    "duration": -347,
    "start_time": "2022-02-26T14:53:12.021Z"
   },
   {
    "duration": -351,
    "start_time": "2022-02-26T14:53:12.026Z"
   },
   {
    "duration": -354,
    "start_time": "2022-02-26T14:53:12.030Z"
   },
   {
    "duration": -358,
    "start_time": "2022-02-26T14:53:12.035Z"
   },
   {
    "duration": -363,
    "start_time": "2022-02-26T14:53:12.040Z"
   },
   {
    "duration": -367,
    "start_time": "2022-02-26T14:53:12.045Z"
   },
   {
    "duration": -371,
    "start_time": "2022-02-26T14:53:12.049Z"
   },
   {
    "duration": -375,
    "start_time": "2022-02-26T14:53:12.054Z"
   },
   {
    "duration": -379,
    "start_time": "2022-02-26T14:53:12.058Z"
   },
   {
    "duration": -330,
    "start_time": "2022-02-26T14:53:12.063Z"
   },
   {
    "duration": -335,
    "start_time": "2022-02-26T14:53:12.068Z"
   },
   {
    "duration": -338,
    "start_time": "2022-02-26T14:53:12.072Z"
   },
   {
    "duration": -342,
    "start_time": "2022-02-26T14:53:12.077Z"
   },
   {
    "duration": -345,
    "start_time": "2022-02-26T14:53:12.081Z"
   },
   {
    "duration": -349,
    "start_time": "2022-02-26T14:53:12.086Z"
   },
   {
    "duration": -352,
    "start_time": "2022-02-26T14:53:12.090Z"
   },
   {
    "duration": -356,
    "start_time": "2022-02-26T14:53:12.095Z"
   },
   {
    "duration": -360,
    "start_time": "2022-02-26T14:53:12.100Z"
   },
   {
    "duration": -363,
    "start_time": "2022-02-26T14:53:12.104Z"
   },
   {
    "duration": -367,
    "start_time": "2022-02-26T14:53:12.109Z"
   },
   {
    "duration": -379,
    "start_time": "2022-02-26T14:53:12.122Z"
   },
   {
    "duration": -383,
    "start_time": "2022-02-26T14:53:12.127Z"
   },
   {
    "duration": -388,
    "start_time": "2022-02-26T14:53:12.132Z"
   },
   {
    "duration": -392,
    "start_time": "2022-02-26T14:53:12.137Z"
   },
   {
    "duration": -396,
    "start_time": "2022-02-26T14:53:12.142Z"
   },
   {
    "duration": -398,
    "start_time": "2022-02-26T14:53:12.146Z"
   },
   {
    "duration": -402,
    "start_time": "2022-02-26T14:53:12.151Z"
   },
   {
    "duration": -406,
    "start_time": "2022-02-26T14:53:12.156Z"
   },
   {
    "duration": -409,
    "start_time": "2022-02-26T14:53:12.160Z"
   },
   {
    "duration": -413,
    "start_time": "2022-02-26T14:53:12.165Z"
   },
   {
    "duration": -418,
    "start_time": "2022-02-26T14:53:12.170Z"
   },
   {
    "duration": -443,
    "start_time": "2022-02-26T14:53:12.196Z"
   },
   {
    "duration": -447,
    "start_time": "2022-02-26T14:53:12.201Z"
   },
   {
    "duration": -456,
    "start_time": "2022-02-26T14:53:12.211Z"
   },
   {
    "duration": -459,
    "start_time": "2022-02-26T14:53:12.215Z"
   },
   {
    "duration": -463,
    "start_time": "2022-02-26T14:53:12.220Z"
   },
   {
    "duration": -475,
    "start_time": "2022-02-26T14:53:12.233Z"
   },
   {
    "duration": -479,
    "start_time": "2022-02-26T14:53:12.238Z"
   },
   {
    "duration": -494,
    "start_time": "2022-02-26T14:53:12.253Z"
   },
   {
    "duration": -499,
    "start_time": "2022-02-26T14:53:12.259Z"
   },
   {
    "duration": 814,
    "start_time": "2022-02-26T14:53:39.019Z"
   },
   {
    "duration": 114,
    "start_time": "2022-02-26T14:53:41.202Z"
   },
   {
    "duration": 16,
    "start_time": "2022-02-26T14:53:47.540Z"
   },
   {
    "duration": 129,
    "start_time": "2022-02-26T14:53:47.557Z"
   },
   {
    "duration": 4,
    "start_time": "2022-02-26T14:53:47.688Z"
   },
   {
    "duration": 8,
    "start_time": "2022-02-26T14:53:47.694Z"
   },
   {
    "duration": 504,
    "start_time": "2022-02-26T14:53:47.704Z"
   },
   {
    "duration": 406,
    "start_time": "2022-02-26T14:53:48.210Z"
   },
   {
    "duration": 387,
    "start_time": "2022-02-26T14:53:48.618Z"
   },
   {
    "duration": 863,
    "start_time": "2022-02-26T14:53:49.006Z"
   },
   {
    "duration": 218,
    "start_time": "2022-02-26T14:53:49.872Z"
   },
   {
    "duration": 3,
    "start_time": "2022-02-26T14:53:50.092Z"
   },
   {
    "duration": 4,
    "start_time": "2022-02-26T14:53:50.097Z"
   },
   {
    "duration": 30,
    "start_time": "2022-02-26T14:53:50.103Z"
   },
   {
    "duration": 4035,
    "start_time": "2022-02-26T14:53:50.134Z"
   },
   {
    "duration": 19,
    "start_time": "2022-02-26T14:53:54.171Z"
   },
   {
    "duration": 52,
    "start_time": "2022-02-26T14:53:54.191Z"
   },
   {
    "duration": 18,
    "start_time": "2022-02-26T14:53:54.244Z"
   },
   {
    "duration": 1315,
    "start_time": "2022-02-26T14:53:54.263Z"
   },
   {
    "duration": 13,
    "start_time": "2022-02-26T14:53:55.579Z"
   },
   {
    "duration": 8,
    "start_time": "2022-02-26T14:53:55.593Z"
   },
   {
    "duration": 41,
    "start_time": "2022-02-26T14:53:55.602Z"
   },
   {
    "duration": 30,
    "start_time": "2022-02-26T14:53:55.644Z"
   },
   {
    "duration": 34,
    "start_time": "2022-02-26T14:53:55.676Z"
   },
   {
    "duration": 276,
    "start_time": "2022-02-26T14:53:55.711Z"
   },
   {
    "duration": 934,
    "start_time": "2022-02-26T14:53:55.989Z"
   },
   {
    "duration": 20,
    "start_time": "2022-02-26T14:53:56.925Z"
   },
   {
    "duration": 8,
    "start_time": "2022-02-26T14:53:56.947Z"
   },
   {
    "duration": 3046,
    "start_time": "2022-02-26T14:53:56.959Z"
   },
   {
    "duration": 14,
    "start_time": "2022-02-26T14:54:00.008Z"
   },
   {
    "duration": 8,
    "start_time": "2022-02-26T14:54:00.033Z"
   },
   {
    "duration": 31,
    "start_time": "2022-02-26T14:54:00.043Z"
   },
   {
    "duration": 14,
    "start_time": "2022-02-26T14:54:00.075Z"
   },
   {
    "duration": 888,
    "start_time": "2022-02-26T14:54:00.090Z"
   },
   {
    "duration": 16,
    "start_time": "2022-02-26T14:54:00.979Z"
   },
   {
    "duration": 7,
    "start_time": "2022-02-26T14:54:00.997Z"
   },
   {
    "duration": 28,
    "start_time": "2022-02-26T14:54:01.006Z"
   },
   {
    "duration": 30,
    "start_time": "2022-02-26T14:54:01.036Z"
   },
   {
    "duration": 28,
    "start_time": "2022-02-26T14:54:01.068Z"
   },
   {
    "duration": 7,
    "start_time": "2022-02-26T14:54:01.098Z"
   },
   {
    "duration": 774,
    "start_time": "2022-02-26T14:54:01.107Z"
   },
   {
    "duration": 10,
    "start_time": "2022-02-26T14:54:01.882Z"
   },
   {
    "duration": 40,
    "start_time": "2022-02-26T14:54:01.893Z"
   },
   {
    "duration": 38,
    "start_time": "2022-02-26T14:54:01.936Z"
   },
   {
    "duration": 3,
    "start_time": "2022-02-26T14:54:01.976Z"
   },
   {
    "duration": 6,
    "start_time": "2022-02-26T14:54:01.980Z"
   },
   {
    "duration": 17,
    "start_time": "2022-02-26T14:54:01.988Z"
   },
   {
    "duration": 53,
    "start_time": "2022-02-26T14:54:02.007Z"
   },
   {
    "duration": 990,
    "start_time": "2022-02-26T14:54:02.062Z"
   },
   {
    "duration": 62,
    "start_time": "2022-02-26T14:54:03.053Z"
   },
   {
    "duration": 73,
    "start_time": "2022-02-26T14:54:03.117Z"
   },
   {
    "duration": 157,
    "start_time": "2022-02-26T14:54:03.191Z"
   },
   {
    "duration": 11,
    "start_time": "2022-02-26T14:54:03.350Z"
   },
   {
    "duration": 41,
    "start_time": "2022-02-26T14:54:03.362Z"
   },
   {
    "duration": 74,
    "start_time": "2022-02-26T14:54:03.404Z"
   },
   {
    "duration": 11,
    "start_time": "2022-02-26T14:54:03.479Z"
   },
   {
    "duration": 6,
    "start_time": "2022-02-26T14:54:03.491Z"
   },
   {
    "duration": 6,
    "start_time": "2022-02-26T14:54:03.498Z"
   },
   {
    "duration": 1728,
    "start_time": "2022-02-26T14:54:03.506Z"
   },
   {
    "duration": 5,
    "start_time": "2022-02-26T14:54:05.237Z"
   },
   {
    "duration": 5,
    "start_time": "2022-02-26T14:54:05.333Z"
   },
   {
    "duration": 6,
    "start_time": "2022-02-26T14:54:05.340Z"
   },
   {
    "duration": 5,
    "start_time": "2022-02-26T14:54:05.348Z"
   },
   {
    "duration": 12,
    "start_time": "2022-02-26T14:54:05.355Z"
   },
   {
    "duration": 711684,
    "start_time": "2022-02-26T14:54:05.369Z"
   },
   {
    "duration": 9,
    "start_time": "2022-02-26T15:05:57.054Z"
   },
   {
    "duration": 9,
    "start_time": "2022-02-26T15:05:57.065Z"
   },
   {
    "duration": 143003,
    "start_time": "2022-02-26T15:05:57.075Z"
   },
   {
    "duration": 4167,
    "start_time": "2022-02-26T15:08:20.079Z"
   },
   {
    "duration": 4,
    "start_time": "2022-02-26T15:08:24.248Z"
   },
   {
    "duration": 881,
    "start_time": "2022-02-26T15:08:24.254Z"
   },
   {
    "duration": 11,
    "start_time": "2022-02-26T15:08:25.136Z"
   },
   {
    "duration": 5,
    "start_time": "2022-02-26T15:08:25.148Z"
   },
   {
    "duration": 6,
    "start_time": "2022-02-26T15:08:25.155Z"
   },
   {
    "duration": 9,
    "start_time": "2022-02-26T15:08:25.163Z"
   },
   {
    "duration": 5,
    "start_time": "2022-02-26T15:08:25.174Z"
   }
  ],
  "kernelspec": {
   "display_name": "Python 3 (ipykernel)",
   "language": "python",
   "name": "python3"
  },
  "language_info": {
   "codemirror_mode": {
    "name": "ipython",
    "version": 3
   },
   "file_extension": ".py",
   "mimetype": "text/x-python",
   "name": "python",
   "nbconvert_exporter": "python",
   "pygments_lexer": "ipython3",
   "version": "3.8.8"
  },
  "toc": {
   "base_numbering": 1,
   "nav_menu": {},
   "number_sections": true,
   "sideBar": true,
   "skip_h1_title": true,
   "title_cell": "Table of Contents",
   "title_sidebar": "Contents",
   "toc_cell": false,
   "toc_position": {
    "height": "calc(100% - 180px)",
    "left": "10px",
    "top": "150px",
    "width": "292.797px"
   },
   "toc_section_display": true,
   "toc_window_display": false
  }
 },
 "nbformat": 4,
 "nbformat_minor": 2
}
