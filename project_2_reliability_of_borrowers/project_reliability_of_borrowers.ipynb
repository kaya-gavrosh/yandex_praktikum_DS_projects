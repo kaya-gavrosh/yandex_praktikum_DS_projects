{
 "cells": [
  {
   "cell_type": "markdown",
   "metadata": {},
   "source": [
    "# Исследование надёжности заёмщиков\n",
    "\n",
    "Заказчик — кредитный отдел банка. Нужно разобраться, влияет ли семейное положение и количество детей клиента на факт погашения кредита в срок. Входные данные от банка — статистика о платёжеспособности клиентов.\n",
    "\n",
    "Результаты исследования будут учтены при построении модели **кредитного скоринга**."
   ]
  },
  {
   "cell_type": "markdown",
   "metadata": {},
   "source": [
    "**Цель исследования** — ответить на следующие вопросы:\n",
    "1. Есть ли зависимость между наличием детей и возвратом кредита в срок?\n",
    "2. Есть ли зависимость между семейным положением и возвратом кредита в срок?\n",
    "3. Есть ли зависимость между уровнем дохода и возвратом кредита в срок?\n",
    "4. Как разные цели кредита влияют на его возврат в срок?\n",
    "\n",
    "**Ход исследования**\n",
    "\n",
    "Данные о клиентах банка содержатся в файле `data.csv`. Поскольку качество данных неизвестно, необходимо провести обзор данных перед началом исследования.\n",
    " \n",
    "Исследование пройдёт в три этапа:\n",
    " 1. Обзор данных.\n",
    " 2. Предобработка данных.\n",
    " 3. Ответы на вопросы заказчика."
   ]
  },
  {
   "cell_type": "markdown",
   "metadata": {},
   "source": [
    "**Оглавление**\n",
    " \n",
    "1. [Обзор данных](#intro)\n",
    "2. [Предобработка данных](#preprocessing)\n",
    "    * [Обработка пропущенных значений](#null)\n",
    "    * [Замена типа данных](#data_type)\n",
    "    * [Обработка дубликатов](#duplicates)\n",
    "    * [Лемматизация](#lemma)\n",
    "    * [Категоризация данных](#categorization)\n",
    "3. [Ответы на вопросы](#questions)\n",
    "4. [Общий вывод](#conclusion)"
   ]
  },
  {
   "cell_type": "markdown",
   "metadata": {},
   "source": [
    "## Шаг 1. Обзор данных \n",
    "<a id='intro'></a>"
   ]
  },
  {
   "cell_type": "code",
   "execution_count": 189,
   "metadata": {},
   "outputs": [],
   "source": [
    "# импорт библиотеки pandas\n",
    "import pandas as pd"
   ]
  },
  {
   "cell_type": "code",
   "execution_count": 190,
   "metadata": {},
   "outputs": [],
   "source": [
    "# чтение файла с данными и сохранение в df\n",
    "df = pd.read_csv('/datasets/data.csv')"
   ]
  },
  {
   "cell_type": "code",
   "execution_count": 191,
   "metadata": {
    "scrolled": true
   },
   "outputs": [
    {
     "data": {
      "text/html": [
       "<div>\n",
       "<style scoped>\n",
       "    .dataframe tbody tr th:only-of-type {\n",
       "        vertical-align: middle;\n",
       "    }\n",
       "\n",
       "    .dataframe tbody tr th {\n",
       "        vertical-align: top;\n",
       "    }\n",
       "\n",
       "    .dataframe thead th {\n",
       "        text-align: right;\n",
       "    }\n",
       "</style>\n",
       "<table border=\"1\" class=\"dataframe\">\n",
       "  <thead>\n",
       "    <tr style=\"text-align: right;\">\n",
       "      <th></th>\n",
       "      <th>children</th>\n",
       "      <th>days_employed</th>\n",
       "      <th>dob_years</th>\n",
       "      <th>education</th>\n",
       "      <th>education_id</th>\n",
       "      <th>family_status</th>\n",
       "      <th>family_status_id</th>\n",
       "      <th>gender</th>\n",
       "      <th>income_type</th>\n",
       "      <th>debt</th>\n",
       "      <th>total_income</th>\n",
       "      <th>purpose</th>\n",
       "    </tr>\n",
       "  </thead>\n",
       "  <tbody>\n",
       "    <tr>\n",
       "      <td>0</td>\n",
       "      <td>1</td>\n",
       "      <td>-8437.673028</td>\n",
       "      <td>42</td>\n",
       "      <td>высшее</td>\n",
       "      <td>0</td>\n",
       "      <td>женат / замужем</td>\n",
       "      <td>0</td>\n",
       "      <td>F</td>\n",
       "      <td>сотрудник</td>\n",
       "      <td>0</td>\n",
       "      <td>253875.639453</td>\n",
       "      <td>покупка жилья</td>\n",
       "    </tr>\n",
       "    <tr>\n",
       "      <td>1</td>\n",
       "      <td>1</td>\n",
       "      <td>-4024.803754</td>\n",
       "      <td>36</td>\n",
       "      <td>среднее</td>\n",
       "      <td>1</td>\n",
       "      <td>женат / замужем</td>\n",
       "      <td>0</td>\n",
       "      <td>F</td>\n",
       "      <td>сотрудник</td>\n",
       "      <td>0</td>\n",
       "      <td>112080.014102</td>\n",
       "      <td>приобретение автомобиля</td>\n",
       "    </tr>\n",
       "    <tr>\n",
       "      <td>2</td>\n",
       "      <td>0</td>\n",
       "      <td>-5623.422610</td>\n",
       "      <td>33</td>\n",
       "      <td>Среднее</td>\n",
       "      <td>1</td>\n",
       "      <td>женат / замужем</td>\n",
       "      <td>0</td>\n",
       "      <td>M</td>\n",
       "      <td>сотрудник</td>\n",
       "      <td>0</td>\n",
       "      <td>145885.952297</td>\n",
       "      <td>покупка жилья</td>\n",
       "    </tr>\n",
       "    <tr>\n",
       "      <td>3</td>\n",
       "      <td>3</td>\n",
       "      <td>-4124.747207</td>\n",
       "      <td>32</td>\n",
       "      <td>среднее</td>\n",
       "      <td>1</td>\n",
       "      <td>женат / замужем</td>\n",
       "      <td>0</td>\n",
       "      <td>M</td>\n",
       "      <td>сотрудник</td>\n",
       "      <td>0</td>\n",
       "      <td>267628.550329</td>\n",
       "      <td>дополнительное образование</td>\n",
       "    </tr>\n",
       "    <tr>\n",
       "      <td>4</td>\n",
       "      <td>0</td>\n",
       "      <td>340266.072047</td>\n",
       "      <td>53</td>\n",
       "      <td>среднее</td>\n",
       "      <td>1</td>\n",
       "      <td>гражданский брак</td>\n",
       "      <td>1</td>\n",
       "      <td>F</td>\n",
       "      <td>пенсионер</td>\n",
       "      <td>0</td>\n",
       "      <td>158616.077870</td>\n",
       "      <td>сыграть свадьбу</td>\n",
       "    </tr>\n",
       "    <tr>\n",
       "      <td>5</td>\n",
       "      <td>0</td>\n",
       "      <td>-926.185831</td>\n",
       "      <td>27</td>\n",
       "      <td>высшее</td>\n",
       "      <td>0</td>\n",
       "      <td>гражданский брак</td>\n",
       "      <td>1</td>\n",
       "      <td>M</td>\n",
       "      <td>компаньон</td>\n",
       "      <td>0</td>\n",
       "      <td>255763.565419</td>\n",
       "      <td>покупка жилья</td>\n",
       "    </tr>\n",
       "    <tr>\n",
       "      <td>6</td>\n",
       "      <td>0</td>\n",
       "      <td>-2879.202052</td>\n",
       "      <td>43</td>\n",
       "      <td>высшее</td>\n",
       "      <td>0</td>\n",
       "      <td>женат / замужем</td>\n",
       "      <td>0</td>\n",
       "      <td>F</td>\n",
       "      <td>компаньон</td>\n",
       "      <td>0</td>\n",
       "      <td>240525.971920</td>\n",
       "      <td>операции с жильем</td>\n",
       "    </tr>\n",
       "    <tr>\n",
       "      <td>7</td>\n",
       "      <td>0</td>\n",
       "      <td>-152.779569</td>\n",
       "      <td>50</td>\n",
       "      <td>СРЕДНЕЕ</td>\n",
       "      <td>1</td>\n",
       "      <td>женат / замужем</td>\n",
       "      <td>0</td>\n",
       "      <td>M</td>\n",
       "      <td>сотрудник</td>\n",
       "      <td>0</td>\n",
       "      <td>135823.934197</td>\n",
       "      <td>образование</td>\n",
       "    </tr>\n",
       "    <tr>\n",
       "      <td>8</td>\n",
       "      <td>2</td>\n",
       "      <td>-6929.865299</td>\n",
       "      <td>35</td>\n",
       "      <td>ВЫСШЕЕ</td>\n",
       "      <td>0</td>\n",
       "      <td>гражданский брак</td>\n",
       "      <td>1</td>\n",
       "      <td>F</td>\n",
       "      <td>сотрудник</td>\n",
       "      <td>0</td>\n",
       "      <td>95856.832424</td>\n",
       "      <td>на проведение свадьбы</td>\n",
       "    </tr>\n",
       "    <tr>\n",
       "      <td>9</td>\n",
       "      <td>0</td>\n",
       "      <td>-2188.756445</td>\n",
       "      <td>41</td>\n",
       "      <td>среднее</td>\n",
       "      <td>1</td>\n",
       "      <td>женат / замужем</td>\n",
       "      <td>0</td>\n",
       "      <td>M</td>\n",
       "      <td>сотрудник</td>\n",
       "      <td>0</td>\n",
       "      <td>144425.938277</td>\n",
       "      <td>покупка жилья для семьи</td>\n",
       "    </tr>\n",
       "  </tbody>\n",
       "</table>\n",
       "</div>"
      ],
      "text/plain": [
       "   children  days_employed  dob_years education  education_id  \\\n",
       "0         1   -8437.673028         42    высшее             0   \n",
       "1         1   -4024.803754         36   среднее             1   \n",
       "2         0   -5623.422610         33   Среднее             1   \n",
       "3         3   -4124.747207         32   среднее             1   \n",
       "4         0  340266.072047         53   среднее             1   \n",
       "5         0    -926.185831         27    высшее             0   \n",
       "6         0   -2879.202052         43    высшее             0   \n",
       "7         0    -152.779569         50   СРЕДНЕЕ             1   \n",
       "8         2   -6929.865299         35    ВЫСШЕЕ             0   \n",
       "9         0   -2188.756445         41   среднее             1   \n",
       "\n",
       "      family_status  family_status_id gender income_type  debt   total_income  \\\n",
       "0   женат / замужем                 0      F   сотрудник     0  253875.639453   \n",
       "1   женат / замужем                 0      F   сотрудник     0  112080.014102   \n",
       "2   женат / замужем                 0      M   сотрудник     0  145885.952297   \n",
       "3   женат / замужем                 0      M   сотрудник     0  267628.550329   \n",
       "4  гражданский брак                 1      F   пенсионер     0  158616.077870   \n",
       "5  гражданский брак                 1      M   компаньон     0  255763.565419   \n",
       "6   женат / замужем                 0      F   компаньон     0  240525.971920   \n",
       "7   женат / замужем                 0      M   сотрудник     0  135823.934197   \n",
       "8  гражданский брак                 1      F   сотрудник     0   95856.832424   \n",
       "9   женат / замужем                 0      M   сотрудник     0  144425.938277   \n",
       "\n",
       "                      purpose  \n",
       "0               покупка жилья  \n",
       "1     приобретение автомобиля  \n",
       "2               покупка жилья  \n",
       "3  дополнительное образование  \n",
       "4             сыграть свадьбу  \n",
       "5               покупка жилья  \n",
       "6           операции с жильем  \n",
       "7                 образование  \n",
       "8       на проведение свадьбы  \n",
       "9     покупка жилья для семьи  "
      ]
     },
     "execution_count": 191,
     "metadata": {},
     "output_type": "execute_result"
    }
   ],
   "source": [
    "# получение первых 10 строк таблицы df\n",
    "df.head(10)"
   ]
  },
  {
   "cell_type": "code",
   "execution_count": 192,
   "metadata": {
    "scrolled": false
   },
   "outputs": [
    {
     "name": "stdout",
     "output_type": "stream",
     "text": [
      "<class 'pandas.core.frame.DataFrame'>\n",
      "RangeIndex: 21525 entries, 0 to 21524\n",
      "Data columns (total 12 columns):\n",
      "children            21525 non-null int64\n",
      "days_employed       19351 non-null float64\n",
      "dob_years           21525 non-null int64\n",
      "education           21525 non-null object\n",
      "education_id        21525 non-null int64\n",
      "family_status       21525 non-null object\n",
      "family_status_id    21525 non-null int64\n",
      "gender              21525 non-null object\n",
      "income_type         21525 non-null object\n",
      "debt                21525 non-null int64\n",
      "total_income        19351 non-null float64\n",
      "purpose             21525 non-null object\n",
      "dtypes: float64(2), int64(5), object(5)\n",
      "memory usage: 2.0+ MB\n"
     ]
    }
   ],
   "source": [
    "# получение общей информации о данных в таблице df\n",
    "df.info()"
   ]
  },
  {
   "cell_type": "markdown",
   "metadata": {},
   "source": [
    "**Общая информация**\n",
    "\n",
    "В таблице двенадцить столбцов.\n",
    "\n",
    "Типы данных: \n",
    "- `int64` — `children`,  `dob_years`, `education_id`, `family_status_id `, `debt`;\n",
    "- `float64` — `days_employed` и `total_income`;\n",
    "- `object` — `education`, `family_status`, `gender`, `income_type`, `purpose`.\n",
    "\n",
    "Согласно документации к данным:\n",
    "- `children` — количество детей в семье;\n",
    "- `days_employed` — общий трудовой стаж в днях;\n",
    "- `dob_years` — возраст клиента в годах;\n",
    "- `education` — уровень образования клиента;\n",
    "- `education_id` — идентификатор уровня образования;\n",
    "- `family_status` — семейное положение;\n",
    "- `family_status_id` — идентификатор семейного положения;\n",
    "- `gender` — пол клиента;\n",
    "- `income_type` — тип занятости;\n",
    "- `debt` — имел ли задолженность по возврату кредитов (1 — имел, 0 — не было задолжностей);\n",
    "- `total_income` — ежемесячный доход;\n",
    "- `purpose` — цель получения кредита."
   ]
  },
  {
   "cell_type": "markdown",
   "metadata": {},
   "source": [
    "Таким образом, для исследования интересны данные в следующих столбцах: `children`, `family_status` (`family_status_id`), `total_income`, `purpose`, `debt`."
   ]
  },
  {
   "cell_type": "markdown",
   "metadata": {},
   "source": [
    "**Замечания**\n",
    "\n",
    "* Стиль в названии колонок не нарушен.\n",
    "* Количество значений в столбцах различается: в столбцах `days_employed` и `total_income` значений меньше, чем в остальных.\n",
    "* В столбце `days_employed`, описывающем общий трудовой стаж наблюдаются отрицательные значения, что противоречит здравому смыслу. Кроме того, зачения указаны не в заявленном формате (количество дней). Во-первых, данные представляют собой формат `float`, а не ожидаемый `int`. Во-вторых, если предположить, что данные являются количеством дней стажа, в некоторых строках стаж составляет сотни лет. Вероятнее всего, данные представлены в формате UTC. Однако этот столбец не будет участвовать в исследовании.\n",
    "* В столбце `purpose` встречаются различные формулировки одной и той же цели.\n",
    "* В столбце `education` встречаются дубликаты в разных регистрах (этот столбец также не участвует в исследовании)."
   ]
  },
  {
   "cell_type": "markdown",
   "metadata": {},
   "source": [
    "О вышеописанных проблемах с данными стоит сообщить коллегам, которые предоставили таблицу."
   ]
  },
  {
   "cell_type": "markdown",
   "metadata": {},
   "source": [
    "**Вывод**\n",
    "\n",
    "Предварительно можно утверждать, что, данных достаточно для ответа на поставленные вопросы. Однако для дальнейшей работы, необходимо устранить проблемы в данных."
   ]
  },
  {
   "cell_type": "markdown",
   "metadata": {},
   "source": [
    "## Шаг 2. Предобработка данных \n",
    "<a id='preprocessing'></a>"
   ]
  },
  {
   "cell_type": "markdown",
   "metadata": {},
   "source": [
    "### Обработка пропусков\n",
    "<a id='null'></a>"
   ]
  },
  {
   "cell_type": "markdown",
   "metadata": {},
   "source": [
    "**Общий обзор пропусков**"
   ]
  },
  {
   "cell_type": "markdown",
   "metadata": {},
   "source": [
    "Сначала выясним, сколько в таблице пропусков."
   ]
  },
  {
   "cell_type": "code",
   "execution_count": 193,
   "metadata": {},
   "outputs": [
    {
     "data": {
      "text/html": [
       "<div>\n",
       "<style scoped>\n",
       "    .dataframe tbody tr th:only-of-type {\n",
       "        vertical-align: middle;\n",
       "    }\n",
       "\n",
       "    .dataframe tbody tr th {\n",
       "        vertical-align: top;\n",
       "    }\n",
       "\n",
       "    .dataframe thead th {\n",
       "        text-align: right;\n",
       "    }\n",
       "</style>\n",
       "<table border=\"1\" class=\"dataframe\">\n",
       "  <thead>\n",
       "    <tr style=\"text-align: right;\">\n",
       "      <th></th>\n",
       "      <th>children</th>\n",
       "      <th>days_employed</th>\n",
       "      <th>dob_years</th>\n",
       "      <th>education</th>\n",
       "      <th>education_id</th>\n",
       "      <th>family_status</th>\n",
       "      <th>family_status_id</th>\n",
       "      <th>gender</th>\n",
       "      <th>income_type</th>\n",
       "      <th>debt</th>\n",
       "      <th>total_income</th>\n",
       "      <th>purpose</th>\n",
       "    </tr>\n",
       "  </thead>\n",
       "  <tbody>\n",
       "    <tr>\n",
       "      <td>sum</td>\n",
       "      <td>0.0</td>\n",
       "      <td>2174.000000</td>\n",
       "      <td>0.0</td>\n",
       "      <td>0.0</td>\n",
       "      <td>0.0</td>\n",
       "      <td>0.0</td>\n",
       "      <td>0.0</td>\n",
       "      <td>0.0</td>\n",
       "      <td>0.0</td>\n",
       "      <td>0.0</td>\n",
       "      <td>2174.000000</td>\n",
       "      <td>0.0</td>\n",
       "    </tr>\n",
       "    <tr>\n",
       "      <td>mean</td>\n",
       "      <td>0.0</td>\n",
       "      <td>0.100999</td>\n",
       "      <td>0.0</td>\n",
       "      <td>0.0</td>\n",
       "      <td>0.0</td>\n",
       "      <td>0.0</td>\n",
       "      <td>0.0</td>\n",
       "      <td>0.0</td>\n",
       "      <td>0.0</td>\n",
       "      <td>0.0</td>\n",
       "      <td>0.100999</td>\n",
       "      <td>0.0</td>\n",
       "    </tr>\n",
       "  </tbody>\n",
       "</table>\n",
       "</div>"
      ],
      "text/plain": [
       "      children  days_employed  dob_years  education  education_id  \\\n",
       "sum        0.0    2174.000000        0.0        0.0           0.0   \n",
       "mean       0.0       0.100999        0.0        0.0           0.0   \n",
       "\n",
       "      family_status  family_status_id  gender  income_type  debt  \\\n",
       "sum             0.0               0.0     0.0          0.0   0.0   \n",
       "mean            0.0               0.0     0.0          0.0   0.0   \n",
       "\n",
       "      total_income  purpose  \n",
       "sum    2174.000000      0.0  \n",
       "mean      0.100999      0.0  "
      ]
     },
     "execution_count": 193,
     "metadata": {},
     "output_type": "execute_result"
    }
   ],
   "source": [
    "# подсчет суммы и доли пропусков по колонкам\n",
    "df.isna().agg(['sum', 'mean'])"
   ]
  },
  {
   "cell_type": "markdown",
   "metadata": {},
   "source": [
    "В интересующей нас колонке `total_income` и в `days_employed` доля пропусков 10% . Можно предположить, что пропуски в этих столбцах взаимосвязны."
   ]
  },
  {
   "cell_type": "markdown",
   "metadata": {},
   "source": [
    "**Обработка пропусков в столбце total_income**"
   ]
  },
  {
   "cell_type": "markdown",
   "metadata": {},
   "source": [
    "Проверим, являются ли пропуски в столбце `total_income` показателем того, что клиенты, оставившие их, безработные. Сначала посмотрим на тип занятости, который указывают клиенты (возможно, среди них нет безработных)."
   ]
  },
  {
   "cell_type": "code",
   "execution_count": 194,
   "metadata": {
    "scrolled": false
   },
   "outputs": [
    {
     "data": {
      "text/plain": [
       "array(['сотрудник', 'пенсионер', 'компаньон', 'госслужащий',\n",
       "       'безработный', 'предприниматель', 'студент', 'в декрете'],\n",
       "      dtype=object)"
      ]
     },
     "execution_count": 194,
     "metadata": {},
     "output_type": "execute_result"
    }
   ],
   "source": [
    "df['income_type'].unique()"
   ]
  },
  {
   "cell_type": "markdown",
   "metadata": {},
   "source": [
    "Посмотрим, кто оставляет пропуски в колонке дохода и сколько их."
   ]
  },
  {
   "cell_type": "code",
   "execution_count": 195,
   "metadata": {
    "scrolled": false
   },
   "outputs": [
    {
     "data": {
      "text/plain": [
       "сотрудник          1105\n",
       "компаньон           508\n",
       "пенсионер           413\n",
       "госслужащий         147\n",
       "предприниматель       1\n",
       "Name: income_type, dtype: int64"
      ]
     },
     "execution_count": 195,
     "metadata": {},
     "output_type": "execute_result"
    }
   ],
   "source": [
    "df[df['total_income'].isna()]['income_type'].value_counts()"
   ]
  },
  {
   "cell_type": "markdown",
   "metadata": {},
   "source": [
    "Итак, пропуски в столбце `total_income` отражают клиентов, по каким-либо причинам не пожелавших предоставить информацию о своем доходе."
   ]
  },
  {
   "cell_type": "markdown",
   "metadata": {},
   "source": [
    "Возможные варианты  обработки пропусков в столбце `total_income`:\n",
    "- При удалении строк с пропусками в `total_income` из таблицы пропадет часть данных в других столбцах, что может негативно сказаться на исследование.\n",
    "- Можно заполнить эти пропуски медианой или средним, но это повлияет на зависимость возврата кредита в срок от дохода. Заполнять их нулями было бы некорректно, полскольку нельзя с уверенностью утверждать, что у данных клиентов \"нулевой доход\".\n",
    "- Сроки со значением NaN в столбце `total_income` можно оставить в покое, но это будет неудобно для дальнейших действий."
   ]
  },
  {
   "cell_type": "markdown",
   "metadata": {},
   "source": [
    "Попробуем два наиболее удобных, на мой взгляд, подхода и сравним, какой лучше."
   ]
  },
  {
   "cell_type": "markdown",
   "metadata": {},
   "source": [
    "**Первый подход**"
   ]
  },
  {
   "cell_type": "markdown",
   "metadata": {},
   "source": [
    "Поскольку вопросы, на которые предстоит ответить таковы, что каждый раз необходимо рассматривать взаимодействие между одним из четырех столбцов и столбцом `debt`, можно выделить в отдельную таблицу столбцы `total_income` и `debt`. Таким образом, в колонке с доходом можно будет исключить строки с пропусками, но при этом не удалять строки при работе с другими столбцами."
   ]
  },
  {
   "cell_type": "code",
   "execution_count": 196,
   "metadata": {
    "scrolled": true
   },
   "outputs": [
    {
     "name": "stdout",
     "output_type": "stream",
     "text": [
      "<class 'pandas.core.frame.DataFrame'>\n",
      "RangeIndex: 21525 entries, 0 to 21524\n",
      "Data columns (total 2 columns):\n",
      "total_income    19351 non-null float64\n",
      "debt            21525 non-null int64\n",
      "dtypes: float64(1), int64(1)\n",
      "memory usage: 336.5 KB\n"
     ]
    }
   ],
   "source": [
    "# сохраним столбецы total_income и debt в отдельную таблицу\n",
    "income_all = df[['total_income', 'debt']]\n",
    "income_all.info()"
   ]
  },
  {
   "cell_type": "code",
   "execution_count": 197,
   "metadata": {
    "scrolled": true
   },
   "outputs": [
    {
     "data": {
      "text/html": [
       "<div>\n",
       "<style scoped>\n",
       "    .dataframe tbody tr th:only-of-type {\n",
       "        vertical-align: middle;\n",
       "    }\n",
       "\n",
       "    .dataframe tbody tr th {\n",
       "        vertical-align: top;\n",
       "    }\n",
       "\n",
       "    .dataframe thead th {\n",
       "        text-align: right;\n",
       "    }\n",
       "</style>\n",
       "<table border=\"1\" class=\"dataframe\">\n",
       "  <thead>\n",
       "    <tr style=\"text-align: right;\">\n",
       "      <th></th>\n",
       "      <th>total_income</th>\n",
       "      <th>debt</th>\n",
       "    </tr>\n",
       "  </thead>\n",
       "  <tbody>\n",
       "    <tr>\n",
       "      <td>0</td>\n",
       "      <td>253875.639453</td>\n",
       "      <td>0</td>\n",
       "    </tr>\n",
       "    <tr>\n",
       "      <td>1</td>\n",
       "      <td>112080.014102</td>\n",
       "      <td>0</td>\n",
       "    </tr>\n",
       "    <tr>\n",
       "      <td>2</td>\n",
       "      <td>145885.952297</td>\n",
       "      <td>0</td>\n",
       "    </tr>\n",
       "    <tr>\n",
       "      <td>3</td>\n",
       "      <td>267628.550329</td>\n",
       "      <td>0</td>\n",
       "    </tr>\n",
       "    <tr>\n",
       "      <td>4</td>\n",
       "      <td>158616.077870</td>\n",
       "      <td>0</td>\n",
       "    </tr>\n",
       "    <tr>\n",
       "      <td>5</td>\n",
       "      <td>255763.565419</td>\n",
       "      <td>0</td>\n",
       "    </tr>\n",
       "    <tr>\n",
       "      <td>6</td>\n",
       "      <td>240525.971920</td>\n",
       "      <td>0</td>\n",
       "    </tr>\n",
       "    <tr>\n",
       "      <td>7</td>\n",
       "      <td>135823.934197</td>\n",
       "      <td>0</td>\n",
       "    </tr>\n",
       "    <tr>\n",
       "      <td>8</td>\n",
       "      <td>95856.832424</td>\n",
       "      <td>0</td>\n",
       "    </tr>\n",
       "    <tr>\n",
       "      <td>9</td>\n",
       "      <td>144425.938277</td>\n",
       "      <td>0</td>\n",
       "    </tr>\n",
       "  </tbody>\n",
       "</table>\n",
       "</div>"
      ],
      "text/plain": [
       "    total_income  debt\n",
       "0  253875.639453     0\n",
       "1  112080.014102     0\n",
       "2  145885.952297     0\n",
       "3  267628.550329     0\n",
       "4  158616.077870     0\n",
       "5  255763.565419     0\n",
       "6  240525.971920     0\n",
       "7  135823.934197     0\n",
       "8   95856.832424     0\n",
       "9  144425.938277     0"
      ]
     },
     "execution_count": 197,
     "metadata": {},
     "output_type": "execute_result"
    }
   ],
   "source": [
    "income_all.head(10)"
   ]
  },
  {
   "cell_type": "markdown",
   "metadata": {},
   "source": [
    "Отдельно сохраним строки с пропусками, чтобы позже их проанализировать."
   ]
  },
  {
   "cell_type": "code",
   "execution_count": 198,
   "metadata": {},
   "outputs": [],
   "source": [
    "# сохранение строк с пропусками с отдельную таблицу\n",
    "income_nan = income_all[ income_all['total_income'].isna()]"
   ]
  },
  {
   "cell_type": "code",
   "execution_count": 199,
   "metadata": {},
   "outputs": [
    {
     "data": {
      "text/plain": [
       "2174"
      ]
     },
     "execution_count": 199,
     "metadata": {},
     "output_type": "execute_result"
    }
   ],
   "source": [
    "#проверка число пропусков\n",
    "income_nan['debt'].count()"
   ]
  },
  {
   "cell_type": "markdown",
   "metadata": {},
   "source": [
    "Удалим все нулевые значения из таблицы `income` (их 10% от числа всех строк)."
   ]
  },
  {
   "cell_type": "code",
   "execution_count": 200,
   "metadata": {},
   "outputs": [],
   "source": [
    "# удаление строк с пропусками\n",
    "income = income_all.dropna()"
   ]
  },
  {
   "cell_type": "code",
   "execution_count": 201,
   "metadata": {},
   "outputs": [
    {
     "data": {
      "text/plain": [
       "0"
      ]
     },
     "execution_count": 201,
     "metadata": {},
     "output_type": "execute_result"
    }
   ],
   "source": [
    "# проверка на наличие пропусков\n",
    "income['total_income'].isna().sum()"
   ]
  },
  {
   "cell_type": "code",
   "execution_count": 202,
   "metadata": {},
   "outputs": [
    {
     "name": "stdout",
     "output_type": "stream",
     "text": [
      "<class 'pandas.core.frame.DataFrame'>\n",
      "Int64Index: 19351 entries, 0 to 21524\n",
      "Data columns (total 2 columns):\n",
      "total_income    19351 non-null float64\n",
      "debt            19351 non-null int64\n",
      "dtypes: float64(1), int64(1)\n",
      "memory usage: 453.5 KB\n"
     ]
    }
   ],
   "source": [
    "income.info()"
   ]
  },
  {
   "cell_type": "markdown",
   "metadata": {},
   "source": [
    "**Второй подход**"
   ]
  },
  {
   "cell_type": "markdown",
   "metadata": {},
   "source": [
    "Заменим нули на медианное значение, поскольку оно наиболее объективно описывает уровень дохода."
   ]
  },
  {
   "cell_type": "code",
   "execution_count": 203,
   "metadata": {
    "scrolled": true
   },
   "outputs": [
    {
     "data": {
      "text/plain": [
       "145017.93753253992"
      ]
     },
     "execution_count": 203,
     "metadata": {},
     "output_type": "execute_result"
    }
   ],
   "source": [
    "# расчет медианы\n",
    "total_income_median= df['total_income'].median()\n",
    "total_income_median"
   ]
  },
  {
   "cell_type": "code",
   "execution_count": 204,
   "metadata": {},
   "outputs": [],
   "source": [
    "# заполнение пропусков\n",
    "df['total_income'] = df['total_income'].fillna(total_income_median)"
   ]
  },
  {
   "cell_type": "markdown",
   "metadata": {},
   "source": [
    "Сначала сгруппируем данные по `income_type` и посчитаем в каждой группе медиану."
   ]
  },
  {
   "cell_type": "code",
   "execution_count": 205,
   "metadata": {
    "scrolled": false
   },
   "outputs": [],
   "source": [
    "income_type_group = df.groupby('income_type')['total_income'].agg(['median'])"
   ]
  },
  {
   "cell_type": "markdown",
   "metadata": {},
   "source": [
    "Добавим название каждой группы в столбец"
   ]
  },
  {
   "cell_type": "code",
   "execution_count": 206,
   "metadata": {
    "scrolled": true
   },
   "outputs": [],
   "source": [
    "income_type_group['income_type'] = income_type_group.index"
   ]
  },
  {
   "cell_type": "code",
   "execution_count": 207,
   "metadata": {
    "scrolled": false
   },
   "outputs": [
    {
     "data": {
      "text/html": [
       "<div>\n",
       "<style scoped>\n",
       "    .dataframe tbody tr th:only-of-type {\n",
       "        vertical-align: middle;\n",
       "    }\n",
       "\n",
       "    .dataframe tbody tr th {\n",
       "        vertical-align: top;\n",
       "    }\n",
       "\n",
       "    .dataframe thead th {\n",
       "        text-align: right;\n",
       "    }\n",
       "</style>\n",
       "<table border=\"1\" class=\"dataframe\">\n",
       "  <thead>\n",
       "    <tr style=\"text-align: right;\">\n",
       "      <th></th>\n",
       "      <th>median</th>\n",
       "      <th>income_type</th>\n",
       "    </tr>\n",
       "    <tr>\n",
       "      <th>income_type</th>\n",
       "      <th></th>\n",
       "      <th></th>\n",
       "    </tr>\n",
       "  </thead>\n",
       "  <tbody>\n",
       "    <tr>\n",
       "      <td>безработный</td>\n",
       "      <td>131339.751676</td>\n",
       "      <td>безработный</td>\n",
       "    </tr>\n",
       "    <tr>\n",
       "      <td>в декрете</td>\n",
       "      <td>53829.130729</td>\n",
       "      <td>в декрете</td>\n",
       "    </tr>\n",
       "    <tr>\n",
       "      <td>госслужащий</td>\n",
       "      <td>145017.937533</td>\n",
       "      <td>госслужащий</td>\n",
       "    </tr>\n",
       "    <tr>\n",
       "      <td>компаньон</td>\n",
       "      <td>162401.351555</td>\n",
       "      <td>компаньон</td>\n",
       "    </tr>\n",
       "    <tr>\n",
       "      <td>пенсионер</td>\n",
       "      <td>128747.675570</td>\n",
       "      <td>пенсионер</td>\n",
       "    </tr>\n",
       "    <tr>\n",
       "      <td>предприниматель</td>\n",
       "      <td>322090.541240</td>\n",
       "      <td>предприниматель</td>\n",
       "    </tr>\n",
       "    <tr>\n",
       "      <td>сотрудник</td>\n",
       "      <td>145017.937533</td>\n",
       "      <td>сотрудник</td>\n",
       "    </tr>\n",
       "    <tr>\n",
       "      <td>студент</td>\n",
       "      <td>98201.625314</td>\n",
       "      <td>студент</td>\n",
       "    </tr>\n",
       "  </tbody>\n",
       "</table>\n",
       "</div>"
      ],
      "text/plain": [
       "                        median      income_type\n",
       "income_type                                    \n",
       "безработный      131339.751676      безработный\n",
       "в декрете         53829.130729        в декрете\n",
       "госслужащий      145017.937533      госслужащий\n",
       "компаньон        162401.351555        компаньон\n",
       "пенсионер        128747.675570        пенсионер\n",
       "предприниматель  322090.541240  предприниматель\n",
       "сотрудник        145017.937533        сотрудник\n",
       "студент           98201.625314          студент"
      ]
     },
     "execution_count": 207,
     "metadata": {},
     "output_type": "execute_result"
    }
   ],
   "source": [
    "income_type_group"
   ]
  },
  {
   "cell_type": "markdown",
   "metadata": {},
   "source": [
    "Создадим список списков, в каждом из которых первый элемент - медиана, второй - название группы"
   ]
  },
  {
   "cell_type": "code",
   "execution_count": 208,
   "metadata": {
    "scrolled": true
   },
   "outputs": [
    {
     "data": {
      "text/plain": [
       "[[131339.7516762103, 'безработный'],\n",
       " [53829.13072905995, 'в декрете'],\n",
       " [145017.93753253992, 'госслужащий'],\n",
       " [162401.35155456822, 'компаньон'],\n",
       " [128747.67556966442, 'пенсионер'],\n",
       " [322090.5412398128, 'предприниматель'],\n",
       " [145017.93753253992, 'сотрудник'],\n",
       " [98201.62531401133, 'студент']]"
      ]
     },
     "execution_count": 208,
     "metadata": {},
     "output_type": "execute_result"
    }
   ],
   "source": [
    "income_type_group_list = income_type_group.values.tolist()\n",
    "income_type_group_list"
   ]
  },
  {
   "cell_type": "markdown",
   "metadata": {},
   "source": [
    "Функция, возвращаюшая медиану соответствующей группы. "
   ]
  },
  {
   "cell_type": "code",
   "execution_count": 214,
   "metadata": {},
   "outputs": [],
   "source": [
    "def fill_total_income(row):\n",
    "    '''\n",
    "    Функция ищет соотвествие значения столбца income_type со значением \n",
    "    из списка income_type_group_list и возвращает медиану для соответсвующей группы\n",
    "    '''\n",
    "    for el in income_type_group_list:\n",
    "        if row['income_type'] == el[1]:\n",
    "            return el[0]\n",
    "    "
   ]
  },
  {
   "cell_type": "code",
   "execution_count": 215,
   "metadata": {
    "scrolled": true
   },
   "outputs": [],
   "source": [
    "df_training = pd.read_csv('/datasets/data.csv')"
   ]
  },
  {
   "cell_type": "code",
   "execution_count": 216,
   "metadata": {},
   "outputs": [
    {
     "data": {
      "text/html": [
       "<div>\n",
       "<style scoped>\n",
       "    .dataframe tbody tr th:only-of-type {\n",
       "        vertical-align: middle;\n",
       "    }\n",
       "\n",
       "    .dataframe tbody tr th {\n",
       "        vertical-align: top;\n",
       "    }\n",
       "\n",
       "    .dataframe thead th {\n",
       "        text-align: right;\n",
       "    }\n",
       "</style>\n",
       "<table border=\"1\" class=\"dataframe\">\n",
       "  <thead>\n",
       "    <tr style=\"text-align: right;\">\n",
       "      <th></th>\n",
       "      <th>children</th>\n",
       "      <th>days_employed</th>\n",
       "      <th>dob_years</th>\n",
       "      <th>education</th>\n",
       "      <th>education_id</th>\n",
       "      <th>family_status</th>\n",
       "      <th>family_status_id</th>\n",
       "      <th>gender</th>\n",
       "      <th>income_type</th>\n",
       "      <th>debt</th>\n",
       "      <th>total_income</th>\n",
       "      <th>purpose</th>\n",
       "    </tr>\n",
       "  </thead>\n",
       "  <tbody>\n",
       "    <tr>\n",
       "      <td>12</td>\n",
       "      <td>0</td>\n",
       "      <td>NaN</td>\n",
       "      <td>65</td>\n",
       "      <td>среднее</td>\n",
       "      <td>1</td>\n",
       "      <td>гражданский брак</td>\n",
       "      <td>1</td>\n",
       "      <td>M</td>\n",
       "      <td>пенсионер</td>\n",
       "      <td>0</td>\n",
       "      <td>NaN</td>\n",
       "      <td>сыграть свадьбу</td>\n",
       "    </tr>\n",
       "    <tr>\n",
       "      <td>26</td>\n",
       "      <td>0</td>\n",
       "      <td>NaN</td>\n",
       "      <td>41</td>\n",
       "      <td>среднее</td>\n",
       "      <td>1</td>\n",
       "      <td>женат / замужем</td>\n",
       "      <td>0</td>\n",
       "      <td>M</td>\n",
       "      <td>госслужащий</td>\n",
       "      <td>0</td>\n",
       "      <td>NaN</td>\n",
       "      <td>образование</td>\n",
       "    </tr>\n",
       "    <tr>\n",
       "      <td>29</td>\n",
       "      <td>0</td>\n",
       "      <td>NaN</td>\n",
       "      <td>63</td>\n",
       "      <td>среднее</td>\n",
       "      <td>1</td>\n",
       "      <td>Не женат / не замужем</td>\n",
       "      <td>4</td>\n",
       "      <td>F</td>\n",
       "      <td>пенсионер</td>\n",
       "      <td>0</td>\n",
       "      <td>NaN</td>\n",
       "      <td>строительство жилой недвижимости</td>\n",
       "    </tr>\n",
       "    <tr>\n",
       "      <td>41</td>\n",
       "      <td>0</td>\n",
       "      <td>NaN</td>\n",
       "      <td>50</td>\n",
       "      <td>среднее</td>\n",
       "      <td>1</td>\n",
       "      <td>женат / замужем</td>\n",
       "      <td>0</td>\n",
       "      <td>F</td>\n",
       "      <td>госслужащий</td>\n",
       "      <td>0</td>\n",
       "      <td>NaN</td>\n",
       "      <td>сделка с подержанным автомобилем</td>\n",
       "    </tr>\n",
       "    <tr>\n",
       "      <td>55</td>\n",
       "      <td>0</td>\n",
       "      <td>NaN</td>\n",
       "      <td>54</td>\n",
       "      <td>среднее</td>\n",
       "      <td>1</td>\n",
       "      <td>гражданский брак</td>\n",
       "      <td>1</td>\n",
       "      <td>F</td>\n",
       "      <td>пенсионер</td>\n",
       "      <td>1</td>\n",
       "      <td>NaN</td>\n",
       "      <td>сыграть свадьбу</td>\n",
       "    </tr>\n",
       "    <tr>\n",
       "      <td>...</td>\n",
       "      <td>...</td>\n",
       "      <td>...</td>\n",
       "      <td>...</td>\n",
       "      <td>...</td>\n",
       "      <td>...</td>\n",
       "      <td>...</td>\n",
       "      <td>...</td>\n",
       "      <td>...</td>\n",
       "      <td>...</td>\n",
       "      <td>...</td>\n",
       "      <td>...</td>\n",
       "      <td>...</td>\n",
       "    </tr>\n",
       "    <tr>\n",
       "      <td>21489</td>\n",
       "      <td>2</td>\n",
       "      <td>NaN</td>\n",
       "      <td>47</td>\n",
       "      <td>Среднее</td>\n",
       "      <td>1</td>\n",
       "      <td>женат / замужем</td>\n",
       "      <td>0</td>\n",
       "      <td>M</td>\n",
       "      <td>компаньон</td>\n",
       "      <td>0</td>\n",
       "      <td>NaN</td>\n",
       "      <td>сделка с автомобилем</td>\n",
       "    </tr>\n",
       "    <tr>\n",
       "      <td>21495</td>\n",
       "      <td>1</td>\n",
       "      <td>NaN</td>\n",
       "      <td>50</td>\n",
       "      <td>среднее</td>\n",
       "      <td>1</td>\n",
       "      <td>гражданский брак</td>\n",
       "      <td>1</td>\n",
       "      <td>F</td>\n",
       "      <td>сотрудник</td>\n",
       "      <td>0</td>\n",
       "      <td>NaN</td>\n",
       "      <td>свадьба</td>\n",
       "    </tr>\n",
       "    <tr>\n",
       "      <td>21497</td>\n",
       "      <td>0</td>\n",
       "      <td>NaN</td>\n",
       "      <td>48</td>\n",
       "      <td>ВЫСШЕЕ</td>\n",
       "      <td>0</td>\n",
       "      <td>женат / замужем</td>\n",
       "      <td>0</td>\n",
       "      <td>F</td>\n",
       "      <td>компаньон</td>\n",
       "      <td>0</td>\n",
       "      <td>NaN</td>\n",
       "      <td>строительство недвижимости</td>\n",
       "    </tr>\n",
       "    <tr>\n",
       "      <td>21502</td>\n",
       "      <td>1</td>\n",
       "      <td>NaN</td>\n",
       "      <td>42</td>\n",
       "      <td>среднее</td>\n",
       "      <td>1</td>\n",
       "      <td>женат / замужем</td>\n",
       "      <td>0</td>\n",
       "      <td>F</td>\n",
       "      <td>сотрудник</td>\n",
       "      <td>0</td>\n",
       "      <td>NaN</td>\n",
       "      <td>строительство жилой недвижимости</td>\n",
       "    </tr>\n",
       "    <tr>\n",
       "      <td>21510</td>\n",
       "      <td>2</td>\n",
       "      <td>NaN</td>\n",
       "      <td>28</td>\n",
       "      <td>среднее</td>\n",
       "      <td>1</td>\n",
       "      <td>женат / замужем</td>\n",
       "      <td>0</td>\n",
       "      <td>F</td>\n",
       "      <td>сотрудник</td>\n",
       "      <td>0</td>\n",
       "      <td>NaN</td>\n",
       "      <td>приобретение автомобиля</td>\n",
       "    </tr>\n",
       "  </tbody>\n",
       "</table>\n",
       "<p>2174 rows × 12 columns</p>\n",
       "</div>"
      ],
      "text/plain": [
       "       children  days_employed  dob_years education  education_id  \\\n",
       "12            0            NaN         65   среднее             1   \n",
       "26            0            NaN         41   среднее             1   \n",
       "29            0            NaN         63   среднее             1   \n",
       "41            0            NaN         50   среднее             1   \n",
       "55            0            NaN         54   среднее             1   \n",
       "...         ...            ...        ...       ...           ...   \n",
       "21489         2            NaN         47   Среднее             1   \n",
       "21495         1            NaN         50   среднее             1   \n",
       "21497         0            NaN         48    ВЫСШЕЕ             0   \n",
       "21502         1            NaN         42   среднее             1   \n",
       "21510         2            NaN         28   среднее             1   \n",
       "\n",
       "               family_status  family_status_id gender  income_type  debt  \\\n",
       "12          гражданский брак                 1      M    пенсионер     0   \n",
       "26           женат / замужем                 0      M  госслужащий     0   \n",
       "29     Не женат / не замужем                 4      F    пенсионер     0   \n",
       "41           женат / замужем                 0      F  госслужащий     0   \n",
       "55          гражданский брак                 1      F    пенсионер     1   \n",
       "...                      ...               ...    ...          ...   ...   \n",
       "21489        женат / замужем                 0      M    компаньон     0   \n",
       "21495       гражданский брак                 1      F    сотрудник     0   \n",
       "21497        женат / замужем                 0      F    компаньон     0   \n",
       "21502        женат / замужем                 0      F    сотрудник     0   \n",
       "21510        женат / замужем                 0      F    сотрудник     0   \n",
       "\n",
       "       total_income                           purpose  \n",
       "12              NaN                   сыграть свадьбу  \n",
       "26              NaN                       образование  \n",
       "29              NaN  строительство жилой недвижимости  \n",
       "41              NaN  сделка с подержанным автомобилем  \n",
       "55              NaN                   сыграть свадьбу  \n",
       "...             ...                               ...  \n",
       "21489           NaN              сделка с автомобилем  \n",
       "21495           NaN                           свадьба  \n",
       "21497           NaN        строительство недвижимости  \n",
       "21502           NaN  строительство жилой недвижимости  \n",
       "21510           NaN           приобретение автомобиля  \n",
       "\n",
       "[2174 rows x 12 columns]"
      ]
     },
     "execution_count": 216,
     "metadata": {},
     "output_type": "execute_result"
    }
   ],
   "source": [
    "df_training[df_training['total_income'].isna()]"
   ]
  },
  {
   "cell_type": "code",
   "execution_count": 217,
   "metadata": {},
   "outputs": [],
   "source": [
    "# запонение нулей в столбце total_income значениями, которые возвращает функция fill_total_income. Функции передаются только нулевые строки\n",
    "df_training['total_income'] = df_training['total_income'].fillna(df[(df_training['total_income'].isna())].apply(fill_total_income, axis=1))"
   ]
  },
  {
   "cell_type": "code",
   "execution_count": 218,
   "metadata": {},
   "outputs": [
    {
     "data": {
      "text/plain": [
       "income_type     сотрудник\n",
       "total_income       145018\n",
       "Name: 21510, dtype: object"
      ]
     },
     "execution_count": 218,
     "metadata": {},
     "output_type": "execute_result"
    }
   ],
   "source": [
    "# проверка отдельных строк\n",
    "df_training.loc[21510, ['income_type', 'total_income']]"
   ]
  },
  {
   "cell_type": "code",
   "execution_count": 219,
   "metadata": {},
   "outputs": [
    {
     "data": {
      "text/html": [
       "<div>\n",
       "<style scoped>\n",
       "    .dataframe tbody tr th:only-of-type {\n",
       "        vertical-align: middle;\n",
       "    }\n",
       "\n",
       "    .dataframe tbody tr th {\n",
       "        vertical-align: top;\n",
       "    }\n",
       "\n",
       "    .dataframe thead th {\n",
       "        text-align: right;\n",
       "    }\n",
       "</style>\n",
       "<table border=\"1\" class=\"dataframe\">\n",
       "  <thead>\n",
       "    <tr style=\"text-align: right;\">\n",
       "      <th></th>\n",
       "      <th>children</th>\n",
       "      <th>days_employed</th>\n",
       "      <th>dob_years</th>\n",
       "      <th>education</th>\n",
       "      <th>education_id</th>\n",
       "      <th>family_status</th>\n",
       "      <th>family_status_id</th>\n",
       "      <th>gender</th>\n",
       "      <th>income_type</th>\n",
       "      <th>debt</th>\n",
       "      <th>total_income</th>\n",
       "      <th>purpose</th>\n",
       "    </tr>\n",
       "  </thead>\n",
       "  <tbody>\n",
       "    <tr>\n",
       "      <td>0</td>\n",
       "      <td>1</td>\n",
       "      <td>-8437.673028</td>\n",
       "      <td>42</td>\n",
       "      <td>высшее</td>\n",
       "      <td>0</td>\n",
       "      <td>женат / замужем</td>\n",
       "      <td>0</td>\n",
       "      <td>F</td>\n",
       "      <td>сотрудник</td>\n",
       "      <td>0</td>\n",
       "      <td>253875.639453</td>\n",
       "      <td>покупка жилья</td>\n",
       "    </tr>\n",
       "    <tr>\n",
       "      <td>1</td>\n",
       "      <td>1</td>\n",
       "      <td>-4024.803754</td>\n",
       "      <td>36</td>\n",
       "      <td>среднее</td>\n",
       "      <td>1</td>\n",
       "      <td>женат / замужем</td>\n",
       "      <td>0</td>\n",
       "      <td>F</td>\n",
       "      <td>сотрудник</td>\n",
       "      <td>0</td>\n",
       "      <td>112080.014102</td>\n",
       "      <td>приобретение автомобиля</td>\n",
       "    </tr>\n",
       "    <tr>\n",
       "      <td>2</td>\n",
       "      <td>0</td>\n",
       "      <td>-5623.422610</td>\n",
       "      <td>33</td>\n",
       "      <td>Среднее</td>\n",
       "      <td>1</td>\n",
       "      <td>женат / замужем</td>\n",
       "      <td>0</td>\n",
       "      <td>M</td>\n",
       "      <td>сотрудник</td>\n",
       "      <td>0</td>\n",
       "      <td>145885.952297</td>\n",
       "      <td>покупка жилья</td>\n",
       "    </tr>\n",
       "    <tr>\n",
       "      <td>3</td>\n",
       "      <td>3</td>\n",
       "      <td>-4124.747207</td>\n",
       "      <td>32</td>\n",
       "      <td>среднее</td>\n",
       "      <td>1</td>\n",
       "      <td>женат / замужем</td>\n",
       "      <td>0</td>\n",
       "      <td>M</td>\n",
       "      <td>сотрудник</td>\n",
       "      <td>0</td>\n",
       "      <td>267628.550329</td>\n",
       "      <td>дополнительное образование</td>\n",
       "    </tr>\n",
       "    <tr>\n",
       "      <td>4</td>\n",
       "      <td>0</td>\n",
       "      <td>340266.072047</td>\n",
       "      <td>53</td>\n",
       "      <td>среднее</td>\n",
       "      <td>1</td>\n",
       "      <td>гражданский брак</td>\n",
       "      <td>1</td>\n",
       "      <td>F</td>\n",
       "      <td>пенсионер</td>\n",
       "      <td>0</td>\n",
       "      <td>158616.077870</td>\n",
       "      <td>сыграть свадьбу</td>\n",
       "    </tr>\n",
       "  </tbody>\n",
       "</table>\n",
       "</div>"
      ],
      "text/plain": [
       "   children  days_employed  dob_years education  education_id  \\\n",
       "0         1   -8437.673028         42    высшее             0   \n",
       "1         1   -4024.803754         36   среднее             1   \n",
       "2         0   -5623.422610         33   Среднее             1   \n",
       "3         3   -4124.747207         32   среднее             1   \n",
       "4         0  340266.072047         53   среднее             1   \n",
       "\n",
       "      family_status  family_status_id gender income_type  debt   total_income  \\\n",
       "0   женат / замужем                 0      F   сотрудник     0  253875.639453   \n",
       "1   женат / замужем                 0      F   сотрудник     0  112080.014102   \n",
       "2   женат / замужем                 0      M   сотрудник     0  145885.952297   \n",
       "3   женат / замужем                 0      M   сотрудник     0  267628.550329   \n",
       "4  гражданский брак                 1      F   пенсионер     0  158616.077870   \n",
       "\n",
       "                      purpose  \n",
       "0               покупка жилья  \n",
       "1     приобретение автомобиля  \n",
       "2               покупка жилья  \n",
       "3  дополнительное образование  \n",
       "4             сыграть свадьбу  "
      ]
     },
     "execution_count": 219,
     "metadata": {},
     "output_type": "execute_result"
    }
   ],
   "source": [
    "# визуальная проверка таблицы\n",
    "df_training.head()"
   ]
  },
  {
   "cell_type": "code",
   "execution_count": 220,
   "metadata": {},
   "outputs": [
    {
     "data": {
      "text/plain": [
       "0"
      ]
     },
     "execution_count": 220,
     "metadata": {},
     "output_type": "execute_result"
    }
   ],
   "source": [
    "# проверка на отсутствие нулей\n",
    "df_training['total_income'].isna().sum()"
   ]
  },
  {
   "cell_type": "markdown",
   "metadata": {},
   "source": [
    "**Пропуски  в других столбцах**"
   ]
  },
  {
   "cell_type": "markdown",
   "metadata": {},
   "source": [
    "Cтолбцы `family_status` и `purpose` имеют тип данных `object`. При использовании стандартного метода `isna()` пропусков в них не было найдено. Посмотрим на их уникальные значения, поскольку есть вероятность, что попуски обозначены не типом `None`, а каким-либо другим способом. <a id='second'></a>"
   ]
  },
  {
   "cell_type": "code",
   "execution_count": 221,
   "metadata": {
    "scrolled": true
   },
   "outputs": [
    {
     "data": {
      "text/plain": [
       "array(['женат / замужем', 'гражданский брак', 'вдовец / вдова',\n",
       "       'в разводе', 'Не женат / не замужем'], dtype=object)"
      ]
     },
     "execution_count": 221,
     "metadata": {},
     "output_type": "execute_result"
    }
   ],
   "source": [
    "# уникальные значения\n",
    "df['family_status'].unique()"
   ]
  },
  {
   "cell_type": "code",
   "execution_count": 222,
   "metadata": {},
   "outputs": [
    {
     "data": {
      "text/plain": [
       "array(['покупка жилья', 'приобретение автомобиля',\n",
       "       'дополнительное образование', 'сыграть свадьбу',\n",
       "       'операции с жильем', 'образование', 'на проведение свадьбы',\n",
       "       'покупка жилья для семьи', 'покупка недвижимости',\n",
       "       'покупка коммерческой недвижимости', 'покупка жилой недвижимости',\n",
       "       'строительство собственной недвижимости', 'недвижимость',\n",
       "       'строительство недвижимости', 'на покупку подержанного автомобиля',\n",
       "       'на покупку своего автомобиля',\n",
       "       'операции с коммерческой недвижимостью',\n",
       "       'строительство жилой недвижимости', 'жилье',\n",
       "       'операции со своей недвижимостью', 'автомобили',\n",
       "       'заняться образованием', 'сделка с подержанным автомобилем',\n",
       "       'получение образования', 'автомобиль', 'свадьба',\n",
       "       'получение дополнительного образования', 'покупка своего жилья',\n",
       "       'операции с недвижимостью', 'получение высшего образования',\n",
       "       'свой автомобиль', 'сделка с автомобилем',\n",
       "       'профильное образование', 'высшее образование',\n",
       "       'покупка жилья для сдачи', 'на покупку автомобиля', 'ремонт жилью',\n",
       "       'заняться высшим образованием'], dtype=object)"
      ]
     },
     "execution_count": 222,
     "metadata": {},
     "output_type": "execute_result"
    }
   ],
   "source": [
    "# уникальные значения\n",
    "df['purpose'].unique()"
   ]
  },
  {
   "cell_type": "markdown",
   "metadata": {},
   "source": [
    "Итак, в интересных для наблюдения столбцах типа данных `object` других пропусков не найдено."
   ]
  },
  {
   "cell_type": "markdown",
   "metadata": {},
   "source": [
    "Столбец `children`, как и столбцы с обозначением id, имеет тип данных `int`, при использовании метода `isna()` пропусков в них найдено не было. Нули в этоих колонках не являются пропуском."
   ]
  },
  {
   "cell_type": "markdown",
   "metadata": {},
   "source": [
    "Рассмотрим другие колонки."
   ]
  },
  {
   "cell_type": "markdown",
   "metadata": {},
   "source": [
    "Пропуски в `days_employed` не повлияют на ход исследования. Кроме того, данные в этом столбце не наглядны. Удалим его."
   ]
  },
  {
   "cell_type": "code",
   "execution_count": 223,
   "metadata": {},
   "outputs": [],
   "source": [
    "# удаление столбца\n",
    "df = df.drop('days_employed', axis=1)"
   ]
  },
  {
   "cell_type": "code",
   "execution_count": 224,
   "metadata": {
    "scrolled": true
   },
   "outputs": [
    {
     "data": {
      "text/html": [
       "<div>\n",
       "<style scoped>\n",
       "    .dataframe tbody tr th:only-of-type {\n",
       "        vertical-align: middle;\n",
       "    }\n",
       "\n",
       "    .dataframe tbody tr th {\n",
       "        vertical-align: top;\n",
       "    }\n",
       "\n",
       "    .dataframe thead th {\n",
       "        text-align: right;\n",
       "    }\n",
       "</style>\n",
       "<table border=\"1\" class=\"dataframe\">\n",
       "  <thead>\n",
       "    <tr style=\"text-align: right;\">\n",
       "      <th></th>\n",
       "      <th>children</th>\n",
       "      <th>dob_years</th>\n",
       "      <th>education</th>\n",
       "      <th>education_id</th>\n",
       "      <th>family_status</th>\n",
       "      <th>family_status_id</th>\n",
       "      <th>gender</th>\n",
       "      <th>income_type</th>\n",
       "      <th>debt</th>\n",
       "      <th>total_income</th>\n",
       "      <th>purpose</th>\n",
       "    </tr>\n",
       "  </thead>\n",
       "  <tbody>\n",
       "    <tr>\n",
       "      <td>0</td>\n",
       "      <td>1</td>\n",
       "      <td>42</td>\n",
       "      <td>высшее</td>\n",
       "      <td>0</td>\n",
       "      <td>женат / замужем</td>\n",
       "      <td>0</td>\n",
       "      <td>F</td>\n",
       "      <td>сотрудник</td>\n",
       "      <td>0</td>\n",
       "      <td>253875.639453</td>\n",
       "      <td>покупка жилья</td>\n",
       "    </tr>\n",
       "    <tr>\n",
       "      <td>1</td>\n",
       "      <td>1</td>\n",
       "      <td>36</td>\n",
       "      <td>среднее</td>\n",
       "      <td>1</td>\n",
       "      <td>женат / замужем</td>\n",
       "      <td>0</td>\n",
       "      <td>F</td>\n",
       "      <td>сотрудник</td>\n",
       "      <td>0</td>\n",
       "      <td>112080.014102</td>\n",
       "      <td>приобретение автомобиля</td>\n",
       "    </tr>\n",
       "    <tr>\n",
       "      <td>2</td>\n",
       "      <td>0</td>\n",
       "      <td>33</td>\n",
       "      <td>Среднее</td>\n",
       "      <td>1</td>\n",
       "      <td>женат / замужем</td>\n",
       "      <td>0</td>\n",
       "      <td>M</td>\n",
       "      <td>сотрудник</td>\n",
       "      <td>0</td>\n",
       "      <td>145885.952297</td>\n",
       "      <td>покупка жилья</td>\n",
       "    </tr>\n",
       "    <tr>\n",
       "      <td>3</td>\n",
       "      <td>3</td>\n",
       "      <td>32</td>\n",
       "      <td>среднее</td>\n",
       "      <td>1</td>\n",
       "      <td>женат / замужем</td>\n",
       "      <td>0</td>\n",
       "      <td>M</td>\n",
       "      <td>сотрудник</td>\n",
       "      <td>0</td>\n",
       "      <td>267628.550329</td>\n",
       "      <td>дополнительное образование</td>\n",
       "    </tr>\n",
       "    <tr>\n",
       "      <td>4</td>\n",
       "      <td>0</td>\n",
       "      <td>53</td>\n",
       "      <td>среднее</td>\n",
       "      <td>1</td>\n",
       "      <td>гражданский брак</td>\n",
       "      <td>1</td>\n",
       "      <td>F</td>\n",
       "      <td>пенсионер</td>\n",
       "      <td>0</td>\n",
       "      <td>158616.077870</td>\n",
       "      <td>сыграть свадьбу</td>\n",
       "    </tr>\n",
       "  </tbody>\n",
       "</table>\n",
       "</div>"
      ],
      "text/plain": [
       "   children  dob_years education  education_id     family_status  \\\n",
       "0         1         42    высшее             0   женат / замужем   \n",
       "1         1         36   среднее             1   женат / замужем   \n",
       "2         0         33   Среднее             1   женат / замужем   \n",
       "3         3         32   среднее             1   женат / замужем   \n",
       "4         0         53   среднее             1  гражданский брак   \n",
       "\n",
       "   family_status_id gender income_type  debt   total_income  \\\n",
       "0                 0      F   сотрудник     0  253875.639453   \n",
       "1                 0      F   сотрудник     0  112080.014102   \n",
       "2                 0      M   сотрудник     0  145885.952297   \n",
       "3                 0      M   сотрудник     0  267628.550329   \n",
       "4                 1      F   пенсионер     0  158616.077870   \n",
       "\n",
       "                      purpose  \n",
       "0               покупка жилья  \n",
       "1     приобретение автомобиля  \n",
       "2               покупка жилья  \n",
       "3  дополнительное образование  \n",
       "4             сыграть свадьбу  "
      ]
     },
     "execution_count": 224,
     "metadata": {},
     "output_type": "execute_result"
    }
   ],
   "source": [
    "# визуальная проверка\n",
    "df.head()"
   ]
  },
  {
   "cell_type": "markdown",
   "metadata": {},
   "source": [
    "Из других признаков интересно отметить столбец `dob_years`, в котором хранится возраст клиентов. Он может содержать нули, которые будут означать пропуски в данных."
   ]
  },
  {
   "cell_type": "code",
   "execution_count": 225,
   "metadata": {
    "scrolled": true
   },
   "outputs": [
    {
     "data": {
      "text/plain": [
       "0.4692218350754936"
      ]
     },
     "execution_count": 225,
     "metadata": {},
     "output_type": "execute_result"
    }
   ],
   "source": [
    "# доля строк с заданным значением\n",
    "(df[df['dob_years'] == 0]['dob_years'].count()) / len(df) * 100"
   ]
  },
  {
   "cell_type": "markdown",
   "metadata": {},
   "source": [
    "Пропуски (или возможно опечатки) в столбце `dob_years` найдены в менее, чем в 1% проценте строк. Поскольку для ответа по поставленные вопросы этот столбец не нужен, оставим эти строки, чтобы не потерять данные других признаков."
   ]
  },
  {
   "cell_type": "markdown",
   "metadata": {},
   "source": [
    "Уникальные занчения столбца `income_type` уже были представлены, пропусков в них не было."
   ]
  },
  {
   "cell_type": "markdown",
   "metadata": {},
   "source": [
    "Проверим значения столбца `gender`"
   ]
  },
  {
   "cell_type": "code",
   "execution_count": 226,
   "metadata": {
    "scrolled": true
   },
   "outputs": [
    {
     "data": {
      "text/plain": [
       "array(['F', 'M', 'XNA'], dtype=object)"
      ]
     },
     "execution_count": 226,
     "metadata": {},
     "output_type": "execute_result"
    }
   ],
   "source": [
    "# уникальные значения\n",
    "df['gender'].unique()"
   ]
  },
  {
   "cell_type": "code",
   "execution_count": 227,
   "metadata": {},
   "outputs": [
    {
     "data": {
      "text/html": [
       "<div>\n",
       "<style scoped>\n",
       "    .dataframe tbody tr th:only-of-type {\n",
       "        vertical-align: middle;\n",
       "    }\n",
       "\n",
       "    .dataframe tbody tr th {\n",
       "        vertical-align: top;\n",
       "    }\n",
       "\n",
       "    .dataframe thead th {\n",
       "        text-align: right;\n",
       "    }\n",
       "</style>\n",
       "<table border=\"1\" class=\"dataframe\">\n",
       "  <thead>\n",
       "    <tr style=\"text-align: right;\">\n",
       "      <th></th>\n",
       "      <th>children</th>\n",
       "      <th>dob_years</th>\n",
       "      <th>education</th>\n",
       "      <th>education_id</th>\n",
       "      <th>family_status</th>\n",
       "      <th>family_status_id</th>\n",
       "      <th>gender</th>\n",
       "      <th>income_type</th>\n",
       "      <th>debt</th>\n",
       "      <th>total_income</th>\n",
       "      <th>purpose</th>\n",
       "    </tr>\n",
       "  </thead>\n",
       "  <tbody>\n",
       "    <tr>\n",
       "      <td>10701</td>\n",
       "      <td>0</td>\n",
       "      <td>24</td>\n",
       "      <td>неоконченное высшее</td>\n",
       "      <td>2</td>\n",
       "      <td>гражданский брак</td>\n",
       "      <td>1</td>\n",
       "      <td>XNA</td>\n",
       "      <td>компаньон</td>\n",
       "      <td>0</td>\n",
       "      <td>203905.157261</td>\n",
       "      <td>покупка недвижимости</td>\n",
       "    </tr>\n",
       "  </tbody>\n",
       "</table>\n",
       "</div>"
      ],
      "text/plain": [
       "       children  dob_years            education  education_id  \\\n",
       "10701         0         24  неоконченное высшее             2   \n",
       "\n",
       "          family_status  family_status_id gender income_type  debt  \\\n",
       "10701  гражданский брак                 1    XNA   компаньон     0   \n",
       "\n",
       "        total_income               purpose  \n",
       "10701  203905.157261  покупка недвижимости  "
      ]
     },
     "execution_count": 227,
     "metadata": {},
     "output_type": "execute_result"
    }
   ],
   "source": [
    "# визуальная оценка строк\n",
    "df[df['gender'] == 'XNA'].head(10)"
   ]
  },
  {
   "cell_type": "markdown",
   "metadata": {},
   "source": [
    "Значение `'XNA'` встречается один раз. Возможно, это не пропуск, а намеренное решение не указывать пол. Поскольку в исследовании признак принимать участия не будет, оставим его тоже без изменений."
   ]
  },
  {
   "cell_type": "markdown",
   "metadata": {},
   "source": [
    "**Вывод**"
   ]
  },
  {
   "cell_type": "markdown",
   "metadata": {},
   "source": [
    "Пропуски были обнаружены в столбце `total_income`, задействованном в исследовании. Применено два подхода по устранению пропусков в этом столбце. Первый подход: убрать строки с пропусками, предварительно выделив этот столбец вместе со столбцом `debt` в отдельную таблицу для того, чтобы не удалять данные из других столбцов общей таблицы. Второй подход, замена пропусков на медианные значения этого столбца. \n",
    "\n",
    "Коме того, найдены пропуски в столбцах, не задействованных в исследовании. О них стоит сообщить коллегам."
   ]
  },
  {
   "cell_type": "markdown",
   "metadata": {},
   "source": [
    "### Замена типа данных\n",
    "<a id='data_type'></a>"
   ]
  },
  {
   "cell_type": "markdown",
   "metadata": {},
   "source": [
    "Для наглядности можно округлить значения в столбце `total_income`, поскольку данные представлены с точностью до шестого знака после запятой. Проебразуем данные в тип `int` методом `astype`, поскольку он позволит преобразовать тип `float` всего столбца в `int`."
   ]
  },
  {
   "cell_type": "code",
   "execution_count": 228,
   "metadata": {},
   "outputs": [],
   "source": [
    "# замена типа данных столбца на int\n",
    "df['total_income'] = df['total_income'].astype('int')"
   ]
  },
  {
   "cell_type": "code",
   "execution_count": 229,
   "metadata": {
    "scrolled": false
   },
   "outputs": [
    {
     "data": {
      "text/plain": [
       "0    253875\n",
       "1    112080\n",
       "2    145885\n",
       "3    267628\n",
       "4    158616\n",
       "Name: total_income, dtype: int64"
      ]
     },
     "execution_count": 229,
     "metadata": {},
     "output_type": "execute_result"
    }
   ],
   "source": [
    "# визуальная проверка\n",
    "df['total_income'].head()"
   ]
  },
  {
   "cell_type": "markdown",
   "metadata": {},
   "source": [
    "Аналогично заменим тип данных столбца `total_income` и в таблице `income`."
   ]
  },
  {
   "cell_type": "code",
   "execution_count": 230,
   "metadata": {
    "scrolled": true
   },
   "outputs": [
    {
     "name": "stderr",
     "output_type": "stream",
     "text": [
      "/opt/conda/lib/python3.7/site-packages/ipykernel_launcher.py:2: SettingWithCopyWarning: \n",
      "A value is trying to be set on a copy of a slice from a DataFrame.\n",
      "Try using .loc[row_indexer,col_indexer] = value instead\n",
      "\n",
      "See the caveats in the documentation: http://pandas.pydata.org/pandas-docs/stable/user_guide/indexing.html#returning-a-view-versus-a-copy\n",
      "  \n"
     ]
    }
   ],
   "source": [
    "# замена типа данных столбца на int\n",
    "income['total_income'] = income['total_income'].astype('int')"
   ]
  },
  {
   "cell_type": "code",
   "execution_count": 231,
   "metadata": {},
   "outputs": [
    {
     "data": {
      "text/plain": [
       "0    253875\n",
       "1    112080\n",
       "2    145885\n",
       "3    267628\n",
       "4    158616\n",
       "Name: total_income, dtype: int64"
      ]
     },
     "execution_count": 231,
     "metadata": {},
     "output_type": "execute_result"
    }
   ],
   "source": [
    "# визуальная проверка\n",
    "income['total_income'].head()"
   ]
  },
  {
   "cell_type": "markdown",
   "metadata": {},
   "source": [
    "**Вывод**"
   ]
  },
  {
   "cell_type": "markdown",
   "metadata": {},
   "source": [
    "Заменен тип данных в столбце `total_income` на целочисленный для простоты и большей наглядности."
   ]
  },
  {
   "cell_type": "markdown",
   "metadata": {},
   "source": [
    "### Обработка дубликатов\n",
    "<a id='duplicates'></a> "
   ]
  },
  {
   "cell_type": "markdown",
   "metadata": {},
   "source": [
    "Воспользуемся ручным поиском дубликатов для выявления наявных повторяющихся значений в некоторых столбцах. "
   ]
  },
  {
   "cell_type": "markdown",
   "metadata": {},
   "source": [
    "Оценим число различных значений в столбце `children`"
   ]
  },
  {
   "cell_type": "code",
   "execution_count": 232,
   "metadata": {},
   "outputs": [
    {
     "data": {
      "text/plain": [
       " 0     14149\n",
       " 1      4818\n",
       " 2      2055\n",
       " 3       330\n",
       " 20       76\n",
       "-1        47\n",
       " 4        41\n",
       " 5         9\n",
       "Name: children, dtype: int64"
      ]
     },
     "execution_count": 232,
     "metadata": {},
     "output_type": "execute_result"
    }
   ],
   "source": [
    "# подсчет числа уникальных значений столбца\n",
    "df['children'].value_counts()"
   ]
  },
  {
   "cell_type": "markdown",
   "metadata": {},
   "source": [
    "В столбце наблюдаются необычные значения: -1 и 20. "
   ]
  },
  {
   "cell_type": "markdown",
   "metadata": {},
   "source": [
    "Посмотрим на строки со значением -1 в столбце `children`."
   ]
  },
  {
   "cell_type": "code",
   "execution_count": 233,
   "metadata": {
    "scrolled": true
   },
   "outputs": [
    {
     "data": {
      "text/html": [
       "<div>\n",
       "<style scoped>\n",
       "    .dataframe tbody tr th:only-of-type {\n",
       "        vertical-align: middle;\n",
       "    }\n",
       "\n",
       "    .dataframe tbody tr th {\n",
       "        vertical-align: top;\n",
       "    }\n",
       "\n",
       "    .dataframe thead th {\n",
       "        text-align: right;\n",
       "    }\n",
       "</style>\n",
       "<table border=\"1\" class=\"dataframe\">\n",
       "  <thead>\n",
       "    <tr style=\"text-align: right;\">\n",
       "      <th></th>\n",
       "      <th>children</th>\n",
       "      <th>dob_years</th>\n",
       "      <th>education</th>\n",
       "      <th>education_id</th>\n",
       "      <th>family_status</th>\n",
       "      <th>family_status_id</th>\n",
       "      <th>gender</th>\n",
       "      <th>income_type</th>\n",
       "      <th>debt</th>\n",
       "      <th>total_income</th>\n",
       "      <th>purpose</th>\n",
       "    </tr>\n",
       "  </thead>\n",
       "  <tbody>\n",
       "    <tr>\n",
       "      <td>291</td>\n",
       "      <td>-1</td>\n",
       "      <td>46</td>\n",
       "      <td>среднее</td>\n",
       "      <td>1</td>\n",
       "      <td>гражданский брак</td>\n",
       "      <td>1</td>\n",
       "      <td>F</td>\n",
       "      <td>сотрудник</td>\n",
       "      <td>0</td>\n",
       "      <td>102816</td>\n",
       "      <td>профильное образование</td>\n",
       "    </tr>\n",
       "    <tr>\n",
       "      <td>705</td>\n",
       "      <td>-1</td>\n",
       "      <td>50</td>\n",
       "      <td>среднее</td>\n",
       "      <td>1</td>\n",
       "      <td>женат / замужем</td>\n",
       "      <td>0</td>\n",
       "      <td>F</td>\n",
       "      <td>госслужащий</td>\n",
       "      <td>0</td>\n",
       "      <td>137882</td>\n",
       "      <td>приобретение автомобиля</td>\n",
       "    </tr>\n",
       "    <tr>\n",
       "      <td>742</td>\n",
       "      <td>-1</td>\n",
       "      <td>57</td>\n",
       "      <td>среднее</td>\n",
       "      <td>1</td>\n",
       "      <td>женат / замужем</td>\n",
       "      <td>0</td>\n",
       "      <td>F</td>\n",
       "      <td>сотрудник</td>\n",
       "      <td>0</td>\n",
       "      <td>64268</td>\n",
       "      <td>дополнительное образование</td>\n",
       "    </tr>\n",
       "    <tr>\n",
       "      <td>800</td>\n",
       "      <td>-1</td>\n",
       "      <td>54</td>\n",
       "      <td>среднее</td>\n",
       "      <td>1</td>\n",
       "      <td>Не женат / не замужем</td>\n",
       "      <td>4</td>\n",
       "      <td>F</td>\n",
       "      <td>пенсионер</td>\n",
       "      <td>0</td>\n",
       "      <td>86293</td>\n",
       "      <td>дополнительное образование</td>\n",
       "    </tr>\n",
       "    <tr>\n",
       "      <td>941</td>\n",
       "      <td>-1</td>\n",
       "      <td>57</td>\n",
       "      <td>Среднее</td>\n",
       "      <td>1</td>\n",
       "      <td>женат / замужем</td>\n",
       "      <td>0</td>\n",
       "      <td>F</td>\n",
       "      <td>пенсионер</td>\n",
       "      <td>0</td>\n",
       "      <td>145017</td>\n",
       "      <td>на покупку своего автомобиля</td>\n",
       "    </tr>\n",
       "  </tbody>\n",
       "</table>\n",
       "</div>"
      ],
      "text/plain": [
       "     children  dob_years education  education_id          family_status  \\\n",
       "291        -1         46   среднее             1       гражданский брак   \n",
       "705        -1         50   среднее             1        женат / замужем   \n",
       "742        -1         57   среднее             1        женат / замужем   \n",
       "800        -1         54   среднее             1  Не женат / не замужем   \n",
       "941        -1         57   Среднее             1        женат / замужем   \n",
       "\n",
       "     family_status_id gender  income_type  debt  total_income  \\\n",
       "291                 1      F    сотрудник     0        102816   \n",
       "705                 0      F  госслужащий     0        137882   \n",
       "742                 0      F    сотрудник     0         64268   \n",
       "800                 4      F    пенсионер     0         86293   \n",
       "941                 0      F    пенсионер     0        145017   \n",
       "\n",
       "                          purpose  \n",
       "291        профильное образование  \n",
       "705       приобретение автомобиля  \n",
       "742    дополнительное образование  \n",
       "800    дополнительное образование  \n",
       "941  на покупку своего автомобиля  "
      ]
     },
     "execution_count": 233,
     "metadata": {},
     "output_type": "execute_result"
    }
   ],
   "source": [
    "# вывод строк с заданным значением\n",
    "df[df['children'] == -1].head()"
   ]
  },
  {
   "cell_type": "markdown",
   "metadata": {},
   "source": [
    "По всей видимости, значение \" -1 \" является опечаткой. Заменим его на \" 1 \"."
   ]
  },
  {
   "cell_type": "code",
   "execution_count": 234,
   "metadata": {},
   "outputs": [],
   "source": [
    "# замена значений в колонке методом replace\n",
    "df['children'] = df['children'].replace(-1, 1)"
   ]
  },
  {
   "cell_type": "code",
   "execution_count": 235,
   "metadata": {
    "scrolled": true
   },
   "outputs": [
    {
     "data": {
      "text/plain": [
       "0"
      ]
     },
     "execution_count": 235,
     "metadata": {},
     "output_type": "execute_result"
    }
   ],
   "source": [
    "# проверка на наличие замененного значения\n",
    "df[df['children'] == -1]['children'].count()"
   ]
  },
  {
   "cell_type": "markdown",
   "metadata": {},
   "source": [
    "Перейдем к вопросу о многодетных семья. В таблице найдено 76 строк со значением 20 в колонке `children`. На запрос \"самые большие семьи России\" поисковик выдает информацию единицах семьей. Семья с 20 детьми, как утверждается,  занесена в Книгу рекордов Гиннеса. Очевидно, что 76 клиентов не могут иметь столько детей. "
   ]
  },
  {
   "cell_type": "markdown",
   "metadata": {},
   "source": [
    "Можно утверждать, что значение \" 20 \" в колонке `children` тоже является опечаткой. Заменим это значение на \" 2 \"."
   ]
  },
  {
   "cell_type": "code",
   "execution_count": 236,
   "metadata": {},
   "outputs": [],
   "source": [
    "# замена значений в колонке методом replace\n",
    "df['children'] = df['children'].replace(20, 2)"
   ]
  },
  {
   "cell_type": "code",
   "execution_count": 237,
   "metadata": {
    "scrolled": false
   },
   "outputs": [
    {
     "data": {
      "text/plain": [
       "0"
      ]
     },
     "execution_count": 237,
     "metadata": {},
     "output_type": "execute_result"
    }
   ],
   "source": [
    "# проверка на наличие замененного значения\n",
    "df[df['children'] == 20]['children'].count()"
   ]
  },
  {
   "cell_type": "markdown",
   "metadata": {},
   "source": [
    "Посмотрим на уникальные значения столбцов с типом данных `object`. "
   ]
  },
  {
   "cell_type": "markdown",
   "metadata": {},
   "source": [
    "Уникальные значения столбца `family_status` и `income_type` были получены ранее, дубликатов там нет. "
   ]
  },
  {
   "cell_type": "markdown",
   "metadata": {},
   "source": [
    "В колонке `education` видны одинаковые значения в разных регистрах (см. ячейку ниже). Возможно, эта эти значения заполняются вручную, а не из предложенного списка."
   ]
  },
  {
   "cell_type": "code",
   "execution_count": 238,
   "metadata": {
    "scrolled": true
   },
   "outputs": [
    {
     "data": {
      "text/plain": [
       "среднее                13750\n",
       "высшее                  4718\n",
       "СРЕДНЕЕ                  772\n",
       "Среднее                  711\n",
       "неоконченное высшее      668\n",
       "ВЫСШЕЕ                   274\n",
       "Высшее                   268\n",
       "начальное                250\n",
       "Неоконченное высшее       47\n",
       "НЕОКОНЧЕННОЕ ВЫСШЕЕ       29\n",
       "НАЧАЛЬНОЕ                 17\n",
       "Начальное                 15\n",
       "ученая степень             4\n",
       "Ученая степень             1\n",
       "УЧЕНАЯ СТЕПЕНЬ             1\n",
       "Name: education, dtype: int64"
      ]
     },
     "execution_count": 238,
     "metadata": {},
     "output_type": "execute_result"
    }
   ],
   "source": [
    "# подсчет уникальных значений в столбце\n",
    "df['education'].value_counts()"
   ]
  },
  {
   "cell_type": "markdown",
   "metadata": {},
   "source": [
    "Приведем все строки к нижнему регистру."
   ]
  },
  {
   "cell_type": "code",
   "execution_count": 239,
   "metadata": {},
   "outputs": [],
   "source": [
    "# приведение строк в столбце к нижнему регистру\n",
    "df['education'] = df['education'].str.lower()"
   ]
  },
  {
   "cell_type": "code",
   "execution_count": 240,
   "metadata": {
    "scrolled": false
   },
   "outputs": [
    {
     "data": {
      "text/plain": [
       "среднее                15233\n",
       "высшее                  5260\n",
       "неоконченное высшее      744\n",
       "начальное                282\n",
       "ученая степень             6\n",
       "Name: education, dtype: int64"
      ]
     },
     "execution_count": 240,
     "metadata": {},
     "output_type": "execute_result"
    }
   ],
   "source": [
    "# проверка уникальных значений\n",
    "df['education'].value_counts()"
   ]
  },
  {
   "cell_type": "markdown",
   "metadata": {},
   "source": [
    "Как было видно ранее, столбец `purpose` тоже содержит дубликаты, но для их выявления необходима лемматизация."
   ]
  },
  {
   "cell_type": "markdown",
   "metadata": {},
   "source": [
    "Проверим таблицу на наличие дубликатов методом duplicated()."
   ]
  },
  {
   "cell_type": "code",
   "execution_count": 241,
   "metadata": {
    "scrolled": false
   },
   "outputs": [
    {
     "data": {
      "text/plain": [
       "71"
      ]
     },
     "execution_count": 241,
     "metadata": {},
     "output_type": "execute_result"
    }
   ],
   "source": [
    "# подсчет дубликатов в таблице\n",
    "df.duplicated().sum()"
   ]
  },
  {
   "cell_type": "code",
   "execution_count": 242,
   "metadata": {},
   "outputs": [
    {
     "data": {
      "text/plain": [
       "0.32984901277584205"
      ]
     },
     "execution_count": 242,
     "metadata": {},
     "output_type": "execute_result"
    }
   ],
   "source": [
    "# отношение строк-дубликатов к числу строк таблицы\n",
    "(df.duplicated().sum()) / len(df) * 100"
   ]
  },
  {
   "cell_type": "markdown",
   "metadata": {},
   "source": [
    "Число таких строк увеличилось по сравнению с тем, что было до обработки отдельных столбцов и составляет 0,3% от размера таблицы."
   ]
  },
  {
   "cell_type": "markdown",
   "metadata": {},
   "source": [
    " Удалим дубликаты."
   ]
  },
  {
   "cell_type": "code",
   "execution_count": 243,
   "metadata": {},
   "outputs": [],
   "source": [
    "# удаление дубликатов\n",
    "df = df.drop_duplicates().reset_index(drop=True)"
   ]
  },
  {
   "cell_type": "code",
   "execution_count": 244,
   "metadata": {},
   "outputs": [
    {
     "data": {
      "text/plain": [
       "0"
      ]
     },
     "execution_count": 244,
     "metadata": {},
     "output_type": "execute_result"
    }
   ],
   "source": [
    "# подсчет дубликатов в таблице\n",
    "df.duplicated().sum()"
   ]
  },
  {
   "cell_type": "markdown",
   "metadata": {},
   "source": [
    "**Вывод**"
   ]
  },
  {
   "cell_type": "markdown",
   "metadata": {},
   "source": [
    "Найденные дубликаты обработаны, однако остается проблема со столбцом `purpose`, для обработки которого понадобится лемматизация."
   ]
  },
  {
   "cell_type": "markdown",
   "metadata": {},
   "source": [
    "### Лемматизация\n",
    "<a id='lemma'></a> "
   ]
  },
  {
   "cell_type": "markdown",
   "metadata": {},
   "source": [
    "Выведем уникальные значения столбца `purpose`."
   ]
  },
  {
   "cell_type": "code",
   "execution_count": 245,
   "metadata": {
    "scrolled": true
   },
   "outputs": [
    {
     "data": {
      "text/plain": [
       "array(['покупка жилья', 'приобретение автомобиля',\n",
       "       'дополнительное образование', 'сыграть свадьбу',\n",
       "       'операции с жильем', 'образование', 'на проведение свадьбы',\n",
       "       'покупка жилья для семьи', 'покупка недвижимости',\n",
       "       'покупка коммерческой недвижимости', 'покупка жилой недвижимости',\n",
       "       'строительство собственной недвижимости', 'недвижимость',\n",
       "       'строительство недвижимости', 'на покупку подержанного автомобиля',\n",
       "       'на покупку своего автомобиля',\n",
       "       'операции с коммерческой недвижимостью',\n",
       "       'строительство жилой недвижимости', 'жилье',\n",
       "       'операции со своей недвижимостью', 'автомобили',\n",
       "       'заняться образованием', 'сделка с подержанным автомобилем',\n",
       "       'получение образования', 'автомобиль', 'свадьба',\n",
       "       'получение дополнительного образования', 'покупка своего жилья',\n",
       "       'операции с недвижимостью', 'получение высшего образования',\n",
       "       'свой автомобиль', 'сделка с автомобилем',\n",
       "       'профильное образование', 'высшее образование',\n",
       "       'покупка жилья для сдачи', 'на покупку автомобиля', 'ремонт жилью',\n",
       "       'заняться высшим образованием'], dtype=object)"
      ]
     },
     "execution_count": 245,
     "metadata": {},
     "output_type": "execute_result"
    }
   ],
   "source": [
    "df['purpose'].unique()"
   ]
  },
  {
   "cell_type": "markdown",
   "metadata": {},
   "source": [
    "Список целей может выглядеть компактней и наглядней, если они будут характеризоваться одним словом из ограниченного списка. Для этого приведем значения из списка уникальных целей к их словарной форме (лемме), выделим основные цели и перезапишем существующие цели в соответсвии с новым лаконичным списком."
   ]
  },
  {
   "cell_type": "markdown",
   "metadata": {},
   "source": [
    "Сначала подключим одну из библиотек с функцией лемматизации `pymystem3`."
   ]
  },
  {
   "cell_type": "code",
   "execution_count": 246,
   "metadata": {},
   "outputs": [],
   "source": [
    "# Получение стеммера/лемматизатора для слов на русском\n",
    "from pymystem3 import Mystem\n",
    "# переименование стеммера для простоты\n",
    "m = Mystem()"
   ]
  },
  {
   "cell_type": "markdown",
   "metadata": {},
   "source": [
    "Поскольку метод `unique` возвращает массив, сохраним значения этого метода в списке `purpose_list` для удобства работы."
   ]
  },
  {
   "cell_type": "code",
   "execution_count": 247,
   "metadata": {
    "scrolled": true
   },
   "outputs": [],
   "source": [
    "# преобразование массива в список\n",
    "purpose_list = df['purpose'].unique().flatten().tolist()"
   ]
  },
  {
   "cell_type": "markdown",
   "metadata": {},
   "source": [
    "Выделим леммы для строк этого списка. Леммы будут сохранятся в новом списке `purpose_lemmas`. "
   ]
  },
  {
   "cell_type": "code",
   "execution_count": 248,
   "metadata": {},
   "outputs": [],
   "source": [
    "# лемматизация каждой строки из списка уникальных названий\n",
    "purpose_lemmas = []\n",
    "for el in purpose_list:\n",
    "    purpose_lemmas.append(m.lemmatize(el))"
   ]
  },
  {
   "cell_type": "markdown",
   "metadata": {},
   "source": [
    "Поскольку `pymystem3` возвращает список лемматизированных строк, на выходе из цикла `purpose_lemmas` будет являться списком списков. Преобразуем его обратно в список для простоты."
   ]
  },
  {
   "cell_type": "code",
   "execution_count": 249,
   "metadata": {},
   "outputs": [],
   "source": [
    "# преобразование списка списков в список\n",
    "purpose_lemmas = sum(purpose_lemmas, [])"
   ]
  },
  {
   "cell_type": "markdown",
   "metadata": {},
   "source": [
    "Посчитаем количество лемматизированных слов в `purpose_lemmas` с помощью контейнера `Counter`. Для этого подключим библиотеку `collections`."
   ]
  },
  {
   "cell_type": "code",
   "execution_count": 250,
   "metadata": {
    "scrolled": false
   },
   "outputs": [
    {
     "data": {
      "text/plain": [
       "Counter({'покупка': 10,\n",
       "         ' ': 59,\n",
       "         'жилье': 7,\n",
       "         '\\n': 38,\n",
       "         'приобретение': 1,\n",
       "         'автомобиль': 9,\n",
       "         'дополнительный': 2,\n",
       "         'образование': 9,\n",
       "         'сыграть': 1,\n",
       "         'свадьба': 3,\n",
       "         'операция': 4,\n",
       "         'с': 5,\n",
       "         'на': 4,\n",
       "         'проведение': 1,\n",
       "         'для': 2,\n",
       "         'семья': 1,\n",
       "         'недвижимость': 10,\n",
       "         'коммерческий': 2,\n",
       "         'жилой': 2,\n",
       "         'строительство': 3,\n",
       "         'собственный': 1,\n",
       "         'подержать': 1,\n",
       "         'свой': 4,\n",
       "         'со': 1,\n",
       "         'заниматься': 2,\n",
       "         'сделка': 2,\n",
       "         'подержанный': 1,\n",
       "         'получение': 3,\n",
       "         'высокий': 3,\n",
       "         'профильный': 1,\n",
       "         'сдача': 1,\n",
       "         'ремонт': 1})"
      ]
     },
     "execution_count": 250,
     "metadata": {},
     "output_type": "execute_result"
    }
   ],
   "source": [
    "# импорт контейнера Counter из модуля collections\n",
    "from collections import Counter\n",
    "# подсчет числа слов в лемматизированном списке\n",
    "Counter(purpose_lemmas)"
   ]
  },
  {
   "cell_type": "markdown",
   "metadata": {},
   "source": [
    "Просмотрев словарь метода `Counter`, можно выделить основные цели клиентов. Они характеризуются наиболее часто встречающими существительными:  'жилье', 'автомобиль', 'образование', 'свадьба', 'недвижимость'. Также надо заметить, что 'жилье' и 'недвижимость' синонимичные понятия, это нужно участь при замене исходного столбца таблицы. "
   ]
  },
  {
   "cell_type": "markdown",
   "metadata": {},
   "source": [
    "Итак, новый список целей для получения кредита будет выглядеть следующим образом:"
   ]
  },
  {
   "cell_type": "code",
   "execution_count": 251,
   "metadata": {},
   "outputs": [],
   "source": [
    "purpose_list = ['недвижимость', 'автомобиль', 'образование', 'свадьба']"
   ]
  },
  {
   "cell_type": "markdown",
   "metadata": {},
   "source": [
    "Этот же список можно было составить без вышеперечисленных действий, изучив результат вывода метода `unique`. Однако изучение вывода `Counter` проще, чем чтение вывода `unique`."
   ]
  },
  {
   "cell_type": "markdown",
   "metadata": {},
   "source": [
    "Теперь необходимо земенить цели в столбце `purpose` исходной таблицы на унифицированные значения из списка `purpose_list`. Для этого нужно лемматизировать каждую строку в стоблце `purpose`, сверить с имеющимися целями и переприсвоить новое значение."
   ]
  },
  {
   "cell_type": "markdown",
   "metadata": {},
   "source": [
    "Напишем функцию, которая будет искать в переданнном ей списке слова `'жилье', 'недвижимость', 'автомобиль', 'образование', 'свадьба'`  и возвращать соответствующие слова из списка `purpose_list`. "
   ]
  },
  {
   "cell_type": "code",
   "execution_count": 252,
   "metadata": {},
   "outputs": [],
   "source": [
    "# функция find_purpose \n",
    "def find_purpose(row):\n",
    "    \n",
    "    \"\"\" \n",
    "    Принимает сторку, которую лемматизирует. \n",
    "    В списке лемм ищет совпадения со списком purpose_list и возвращает соответсвующее значение.\n",
    "    Если в принятой строке встречается слово 'жилье', возвращает нулевой элемент purpose_list\n",
    "    \"\"\"\n",
    "    \n",
    "    lemma = m.lemmatize(row)\n",
    "    for el in purpose_list:\n",
    "        if el in lemma:\n",
    "            return el\n",
    "        if 'жилье' in lemma:\n",
    "            return purpose_list[0]"
   ]
  },
  {
   "cell_type": "markdown",
   "metadata": {},
   "source": [
    "Поскольку функция `find_purpose` работает исправно, можно передать ее методу `apply`  и применить к исходному столбцу `purpose`. Результат функции так же сохраняется в столбце `purpose`."
   ]
  },
  {
   "cell_type": "code",
   "execution_count": 254,
   "metadata": {},
   "outputs": [],
   "source": [
    "# запись новых значений в столбец purpose\n",
    "df['purpose'] = df['purpose'].apply(find_purpose)"
   ]
  },
  {
   "cell_type": "code",
   "execution_count": 255,
   "metadata": {
    "scrolled": true
   },
   "outputs": [
    {
     "data": {
      "text/plain": [
       "array(['недвижимость', 'автомобиль', 'образование', 'свадьба'],\n",
       "      dtype=object)"
      ]
     },
     "execution_count": 255,
     "metadata": {},
     "output_type": "execute_result"
    }
   ],
   "source": [
    "# проверка работы цикла\n",
    "df['purpose'].unique()"
   ]
  },
  {
   "cell_type": "markdown",
   "metadata": {},
   "source": [
    "**Вывод**"
   ]
  },
  {
   "cell_type": "markdown",
   "metadata": {},
   "source": [
    "Строки в столбце `purpose` лемматизированы. Значения столбца  `purpose` приведены в порядок. Таким образом, данные подготовлены к дальнейшей обработке."
   ]
  },
  {
   "cell_type": "markdown",
   "metadata": {},
   "source": [
    "### Категоризация данных  \n",
    "<a id='categorization'></a>"
   ]
  },
  {
   "cell_type": "markdown",
   "metadata": {},
   "source": [
    "Для столбцов `family_status` и `family_status_id` cоздадим отдельный «словарь», где названию статуса будет соответствовать id номер. В дальнейшем будем работать с `family_status_id`, поскольку обращаться к данным типа `int` будет проще, чем к длинной строке."
   ]
  },
  {
   "cell_type": "code",
   "execution_count": 256,
   "metadata": {},
   "outputs": [],
   "source": [
    "# создание отдельной таблицы с колонками family_status_id и family_status\n",
    "family_dict = df[['family_status_id','family_status']]"
   ]
  },
  {
   "cell_type": "code",
   "execution_count": 257,
   "metadata": {
    "scrolled": false
   },
   "outputs": [
    {
     "data": {
      "text/html": [
       "<div>\n",
       "<style scoped>\n",
       "    .dataframe tbody tr th:only-of-type {\n",
       "        vertical-align: middle;\n",
       "    }\n",
       "\n",
       "    .dataframe tbody tr th {\n",
       "        vertical-align: top;\n",
       "    }\n",
       "\n",
       "    .dataframe thead th {\n",
       "        text-align: right;\n",
       "    }\n",
       "</style>\n",
       "<table border=\"1\" class=\"dataframe\">\n",
       "  <thead>\n",
       "    <tr style=\"text-align: right;\">\n",
       "      <th></th>\n",
       "      <th>family_status_id</th>\n",
       "      <th>family_status</th>\n",
       "    </tr>\n",
       "  </thead>\n",
       "  <tbody>\n",
       "    <tr>\n",
       "      <td>0</td>\n",
       "      <td>0</td>\n",
       "      <td>женат / замужем</td>\n",
       "    </tr>\n",
       "    <tr>\n",
       "      <td>1</td>\n",
       "      <td>0</td>\n",
       "      <td>женат / замужем</td>\n",
       "    </tr>\n",
       "    <tr>\n",
       "      <td>2</td>\n",
       "      <td>0</td>\n",
       "      <td>женат / замужем</td>\n",
       "    </tr>\n",
       "    <tr>\n",
       "      <td>3</td>\n",
       "      <td>0</td>\n",
       "      <td>женат / замужем</td>\n",
       "    </tr>\n",
       "    <tr>\n",
       "      <td>4</td>\n",
       "      <td>1</td>\n",
       "      <td>гражданский брак</td>\n",
       "    </tr>\n",
       "  </tbody>\n",
       "</table>\n",
       "</div>"
      ],
      "text/plain": [
       "   family_status_id     family_status\n",
       "0                 0   женат / замужем\n",
       "1                 0   женат / замужем\n",
       "2                 0   женат / замужем\n",
       "3                 0   женат / замужем\n",
       "4                 1  гражданский брак"
      ]
     },
     "execution_count": 257,
     "metadata": {},
     "output_type": "execute_result"
    }
   ],
   "source": [
    "# визуальная проверка новой таблицы\n",
    "family_dict.head()"
   ]
  },
  {
   "cell_type": "markdown",
   "metadata": {},
   "source": [
    "Поскольку таблица `family_dict` содержит столько же строк, сколько и исходная таблица, необходимо удалить дубликаты, чтобы выделить соответствие id с его значением."
   ]
  },
  {
   "cell_type": "code",
   "execution_count": 258,
   "metadata": {},
   "outputs": [],
   "source": [
    "# удаление дубликатов и упорядочевание индексов\n",
    "family_dict = family_dict.drop_duplicates().reset_index(drop=True)"
   ]
  },
  {
   "cell_type": "code",
   "execution_count": 259,
   "metadata": {
    "scrolled": false
   },
   "outputs": [
    {
     "data": {
      "text/html": [
       "<div>\n",
       "<style scoped>\n",
       "    .dataframe tbody tr th:only-of-type {\n",
       "        vertical-align: middle;\n",
       "    }\n",
       "\n",
       "    .dataframe tbody tr th {\n",
       "        vertical-align: top;\n",
       "    }\n",
       "\n",
       "    .dataframe thead th {\n",
       "        text-align: right;\n",
       "    }\n",
       "</style>\n",
       "<table border=\"1\" class=\"dataframe\">\n",
       "  <thead>\n",
       "    <tr style=\"text-align: right;\">\n",
       "      <th></th>\n",
       "      <th>family_status_id</th>\n",
       "      <th>family_status</th>\n",
       "    </tr>\n",
       "  </thead>\n",
       "  <tbody>\n",
       "    <tr>\n",
       "      <td>0</td>\n",
       "      <td>0</td>\n",
       "      <td>женат / замужем</td>\n",
       "    </tr>\n",
       "    <tr>\n",
       "      <td>1</td>\n",
       "      <td>1</td>\n",
       "      <td>гражданский брак</td>\n",
       "    </tr>\n",
       "    <tr>\n",
       "      <td>2</td>\n",
       "      <td>2</td>\n",
       "      <td>вдовец / вдова</td>\n",
       "    </tr>\n",
       "    <tr>\n",
       "      <td>3</td>\n",
       "      <td>3</td>\n",
       "      <td>в разводе</td>\n",
       "    </tr>\n",
       "    <tr>\n",
       "      <td>4</td>\n",
       "      <td>4</td>\n",
       "      <td>Не женат / не замужем</td>\n",
       "    </tr>\n",
       "  </tbody>\n",
       "</table>\n",
       "</div>"
      ],
      "text/plain": [
       "   family_status_id          family_status\n",
       "0                 0        женат / замужем\n",
       "1                 1       гражданский брак\n",
       "2                 2         вдовец / вдова\n",
       "3                 3              в разводе\n",
       "4                 4  Не женат / не замужем"
      ]
     },
     "execution_count": 259,
     "metadata": {},
     "output_type": "execute_result"
    }
   ],
   "source": [
    "# вывод таблицы\n",
    "family_dict"
   ]
  },
  {
   "cell_type": "markdown",
   "metadata": {},
   "source": [
    "Теперь `family_dict` является \"словарем\", с помощью которого легко расшифровать  id семейного статуса."
   ]
  },
  {
   "cell_type": "markdown",
   "metadata": {},
   "source": [
    "Такой же словарь можно было бы сделать и для столбца `purpose`, назначив каждому из четырех значений свой id. К счастью, зачения в этом столбце — единичные слова, а не целые строки."
   ]
  },
  {
   "cell_type": "markdown",
   "metadata": {},
   "source": [
    "Столбец, характеризующий доход клиентов, тоже разобьем на группы. Сначала посмотрим, какие значения принимает этот столбец."
   ]
  },
  {
   "cell_type": "code",
   "execution_count": 260,
   "metadata": {
    "scrolled": true
   },
   "outputs": [
    {
     "data": {
      "text/plain": [
       "count    2.145400e+04\n",
       "mean     1.652256e+05\n",
       "std      9.802102e+04\n",
       "min      2.066700e+04\n",
       "25%      1.076230e+05\n",
       "50%      1.450170e+05\n",
       "75%      1.958132e+05\n",
       "max      2.265604e+06\n",
       "Name: total_income, dtype: float64"
      ]
     },
     "execution_count": 260,
     "metadata": {},
     "output_type": "execute_result"
    }
   ],
   "source": [
    "# основные статистические характеристики столбца total_income\n",
    "df['total_income'].describe()"
   ]
  },
  {
   "cell_type": "markdown",
   "metadata": {},
   "source": [
    "Итак, минимальное значение около 20 тысяч, максимальное около 2 миллионов, среднее (и медианное) около 150 тысяч. Разобъем данные, опираясь на эти значения."
   ]
  },
  {
   "cell_type": "markdown",
   "metadata": {},
   "source": [
    "Столбец, характеризующий доход клиентов, тоже разобьем на группы:\n",
    "* Доход до 50 тысяч;\n",
    "* Доход от 50 до 100 тысяч;\n",
    "* Доход от 100  до 200 тысяч;\n",
    "* Доход от 200  до 500 тысяч;\n",
    "* Доход от 500 тысяч до 1 миллиона;\n",
    "* Доход более 1 миллиона."
   ]
  },
  {
   "cell_type": "markdown",
   "metadata": {},
   "source": [
    "Напишем функцию, которая будет принимать доход, а возвращать группу, к которой относится клиент."
   ]
  },
  {
   "cell_type": "code",
   "execution_count": 261,
   "metadata": {},
   "outputs": [],
   "source": [
    "# функция income_group\n",
    "def income_group(tot_inc):\n",
    "    \n",
    "    \"\"\"\n",
    "    Принимает сумму дохода tot_inc и возвращает группу, к которой относится клиент с данным доходом:\n",
    "    * Доход до 50 тысяч — '< 50 тыс' ;\n",
    "    * Доход от 50  до 100 тысяч — '50 - 100 тыс';\n",
    "    * Доход от 100  до 200 тысяч — '100 - 200 тыс';\n",
    "    * Доход от 200  до 500 тысяч — '200 - 500 тыс' ;\n",
    "    * Доход от 500 тысяч до 1 миллиона — '500 тыс - 1 млн';\n",
    "    * Остальные случаи — '> 1 млн'.    \n",
    "    \"\"\"\n",
    "    \n",
    "    if tot_inc < 50000:\n",
    "        return '< 50 тыс'\n",
    "    if 50000 <= tot_inc < 100000:\n",
    "        return '50 - 100 тыс'\n",
    "    if 100000 <= tot_inc < 200000:\n",
    "        return '100 - 200 тыс'\n",
    "    if 200000 <= tot_inc < 500000:\n",
    "        return '200 - 500 тыс'\n",
    "    if 500000 <= tot_inc < 1000000:\n",
    "        return '500 тыс - 1 млн'\n",
    "    return '> 1 млн'"
   ]
  },
  {
   "cell_type": "code",
   "execution_count": 262,
   "metadata": {},
   "outputs": [
    {
     "data": {
      "text/plain": [
       "'> 1 млн'"
      ]
     },
     "execution_count": 262,
     "metadata": {},
     "output_type": "execute_result"
    }
   ],
   "source": [
    "# проверка работы функции\n",
    "income_group(1500000)"
   ]
  },
  {
   "cell_type": "markdown",
   "metadata": {},
   "source": [
    "Функция работает корректно. Передадим ей столбец `total_income` и перезапишем в него новые значения."
   ]
  },
  {
   "cell_type": "code",
   "execution_count": 263,
   "metadata": {},
   "outputs": [],
   "source": [
    "df['total_income_group'] = df['total_income'].apply(income_group)"
   ]
  },
  {
   "cell_type": "markdown",
   "metadata": {},
   "source": [
    "То же сделаем и с таблицей income"
   ]
  },
  {
   "cell_type": "code",
   "execution_count": 264,
   "metadata": {},
   "outputs": [
    {
     "name": "stderr",
     "output_type": "stream",
     "text": [
      "/opt/conda/lib/python3.7/site-packages/ipykernel_launcher.py:1: SettingWithCopyWarning: \n",
      "A value is trying to be set on a copy of a slice from a DataFrame.\n",
      "Try using .loc[row_indexer,col_indexer] = value instead\n",
      "\n",
      "See the caveats in the documentation: http://pandas.pydata.org/pandas-docs/stable/user_guide/indexing.html#returning-a-view-versus-a-copy\n",
      "  \"\"\"Entry point for launching an IPython kernel.\n"
     ]
    },
    {
     "data": {
      "text/html": [
       "<div>\n",
       "<style scoped>\n",
       "    .dataframe tbody tr th:only-of-type {\n",
       "        vertical-align: middle;\n",
       "    }\n",
       "\n",
       "    .dataframe tbody tr th {\n",
       "        vertical-align: top;\n",
       "    }\n",
       "\n",
       "    .dataframe thead th {\n",
       "        text-align: right;\n",
       "    }\n",
       "</style>\n",
       "<table border=\"1\" class=\"dataframe\">\n",
       "  <thead>\n",
       "    <tr style=\"text-align: right;\">\n",
       "      <th></th>\n",
       "      <th>total_income</th>\n",
       "      <th>debt</th>\n",
       "      <th>total_income_group</th>\n",
       "    </tr>\n",
       "  </thead>\n",
       "  <tbody>\n",
       "    <tr>\n",
       "      <td>0</td>\n",
       "      <td>253875</td>\n",
       "      <td>0</td>\n",
       "      <td>200 - 500 тыс</td>\n",
       "    </tr>\n",
       "    <tr>\n",
       "      <td>1</td>\n",
       "      <td>112080</td>\n",
       "      <td>0</td>\n",
       "      <td>100 - 200 тыс</td>\n",
       "    </tr>\n",
       "    <tr>\n",
       "      <td>2</td>\n",
       "      <td>145885</td>\n",
       "      <td>0</td>\n",
       "      <td>100 - 200 тыс</td>\n",
       "    </tr>\n",
       "    <tr>\n",
       "      <td>3</td>\n",
       "      <td>267628</td>\n",
       "      <td>0</td>\n",
       "      <td>200 - 500 тыс</td>\n",
       "    </tr>\n",
       "    <tr>\n",
       "      <td>4</td>\n",
       "      <td>158616</td>\n",
       "      <td>0</td>\n",
       "      <td>100 - 200 тыс</td>\n",
       "    </tr>\n",
       "  </tbody>\n",
       "</table>\n",
       "</div>"
      ],
      "text/plain": [
       "   total_income  debt total_income_group\n",
       "0        253875     0      200 - 500 тыс\n",
       "1        112080     0      100 - 200 тыс\n",
       "2        145885     0      100 - 200 тыс\n",
       "3        267628     0      200 - 500 тыс\n",
       "4        158616     0      100 - 200 тыс"
      ]
     },
     "execution_count": 264,
     "metadata": {},
     "output_type": "execute_result"
    }
   ],
   "source": [
    "income['total_income_group'] = income['total_income'].apply(income_group)\n",
    "income.head()"
   ]
  },
  {
   "cell_type": "markdown",
   "metadata": {},
   "source": [
    "Удалим все лишние столбцы из исходной таблицы."
   ]
  },
  {
   "cell_type": "code",
   "execution_count": 265,
   "metadata": {},
   "outputs": [],
   "source": [
    "# удаление столбцов\n",
    "df = df.drop(['family_status', 'education', 'education_id', 'dob_years', 'gender', 'income_type', 'total_income'], axis=1)"
   ]
  },
  {
   "cell_type": "code",
   "execution_count": 266,
   "metadata": {},
   "outputs": [
    {
     "name": "stdout",
     "output_type": "stream",
     "text": [
      "<class 'pandas.core.frame.DataFrame'>\n",
      "RangeIndex: 21454 entries, 0 to 21453\n",
      "Data columns (total 5 columns):\n",
      "children              21454 non-null int64\n",
      "family_status_id      21454 non-null int64\n",
      "debt                  21454 non-null int64\n",
      "purpose               21454 non-null object\n",
      "total_income_group    21454 non-null object\n",
      "dtypes: int64(3), object(2)\n",
      "memory usage: 838.2+ KB\n"
     ]
    }
   ],
   "source": [
    "# проверка\n",
    "df.info()"
   ]
  },
  {
   "cell_type": "markdown",
   "metadata": {},
   "source": [
    "**Вывод**"
   ]
  },
  {
   "cell_type": "markdown",
   "metadata": {},
   "source": [
    "Столбец с доходами клиентов разбит на группы. Выделена отдельная таблица-словарь для определения самайного статуса. В таблице оставлены признаки, необходимые для ответа на поставленные заказчиком вопросы."
   ]
  },
  {
   "cell_type": "markdown",
   "metadata": {},
   "source": [
    "## Шаг 3. Ответьте на вопросы\n",
    "<a id='questions'></a>"
   ]
  },
  {
   "cell_type": "markdown",
   "metadata": {},
   "source": [
    "**Есть ли зависимость между наличием детей и возвратом кредита в срок?**"
   ]
  },
  {
   "cell_type": "markdown",
   "metadata": {},
   "source": [
    "Для ответа на первый вопрос сгруппируем данные по количеству детей. Посчитаем долю должников (mean) среди всех клиентов в заданной группе (count)."
   ]
  },
  {
   "cell_type": "code",
   "execution_count": 267,
   "metadata": {},
   "outputs": [
    {
     "data": {
      "text/html": [
       "<div>\n",
       "<style scoped>\n",
       "    .dataframe tbody tr th:only-of-type {\n",
       "        vertical-align: middle;\n",
       "    }\n",
       "\n",
       "    .dataframe tbody tr th {\n",
       "        vertical-align: top;\n",
       "    }\n",
       "\n",
       "    .dataframe thead th {\n",
       "        text-align: right;\n",
       "    }\n",
       "</style>\n",
       "<table border=\"1\" class=\"dataframe\">\n",
       "  <thead>\n",
       "    <tr style=\"text-align: right;\">\n",
       "      <th></th>\n",
       "      <th>count</th>\n",
       "      <th>sum</th>\n",
       "      <th>mean</th>\n",
       "    </tr>\n",
       "    <tr>\n",
       "      <th>children</th>\n",
       "      <th></th>\n",
       "      <th></th>\n",
       "      <th></th>\n",
       "    </tr>\n",
       "  </thead>\n",
       "  <tbody>\n",
       "    <tr>\n",
       "      <td>0</td>\n",
       "      <td>14091</td>\n",
       "      <td>1063</td>\n",
       "      <td>0.075438</td>\n",
       "    </tr>\n",
       "    <tr>\n",
       "      <td>1</td>\n",
       "      <td>4855</td>\n",
       "      <td>445</td>\n",
       "      <td>0.091658</td>\n",
       "    </tr>\n",
       "    <tr>\n",
       "      <td>2</td>\n",
       "      <td>2128</td>\n",
       "      <td>202</td>\n",
       "      <td>0.094925</td>\n",
       "    </tr>\n",
       "    <tr>\n",
       "      <td>3</td>\n",
       "      <td>330</td>\n",
       "      <td>27</td>\n",
       "      <td>0.081818</td>\n",
       "    </tr>\n",
       "    <tr>\n",
       "      <td>4</td>\n",
       "      <td>41</td>\n",
       "      <td>4</td>\n",
       "      <td>0.097561</td>\n",
       "    </tr>\n",
       "    <tr>\n",
       "      <td>5</td>\n",
       "      <td>9</td>\n",
       "      <td>0</td>\n",
       "      <td>0.000000</td>\n",
       "    </tr>\n",
       "  </tbody>\n",
       "</table>\n",
       "</div>"
      ],
      "text/plain": [
       "          count   sum      mean\n",
       "children                       \n",
       "0         14091  1063  0.075438\n",
       "1          4855   445  0.091658\n",
       "2          2128   202  0.094925\n",
       "3           330    27  0.081818\n",
       "4            41     4  0.097561\n",
       "5             9     0  0.000000"
      ]
     },
     "execution_count": 267,
     "metadata": {},
     "output_type": "execute_result"
    }
   ],
   "source": [
    "# группировка по столбцу children, посчет кол-ва строк, суммы, среднего в столбце debt для каждой группы \n",
    "df.groupby('children')['debt'].agg(['count', 'sum', 'mean'])"
   ]
  },
  {
   "cell_type": "code",
   "execution_count": 268,
   "metadata": {},
   "outputs": [
    {
     "data": {
      "text/html": [
       "<style  type=\"text/css\" >\n",
       "</style><table id=\"T_9dcd1b20_3658_11ec_8d5d_02420a39ecc0\" ><thead>    <tr>        <th class=\"blank level0\" ></th>        <th class=\"col_heading level0 col0\" >count</th>        <th class=\"col_heading level0 col1\" >sum</th>        <th class=\"col_heading level0 col2\" >mean</th>    </tr>    <tr>        <th class=\"index_name level0\" >children</th>        <th class=\"blank\" ></th>        <th class=\"blank\" ></th>        <th class=\"blank\" ></th>    </tr></thead><tbody>\n",
       "                <tr>\n",
       "                        <th id=\"T_9dcd1b20_3658_11ec_8d5d_02420a39ecc0level0_row0\" class=\"row_heading level0 row0\" >0</th>\n",
       "                        <td id=\"T_9dcd1b20_3658_11ec_8d5d_02420a39ecc0row0_col0\" class=\"data row0 col0\" >14091</td>\n",
       "                        <td id=\"T_9dcd1b20_3658_11ec_8d5d_02420a39ecc0row0_col1\" class=\"data row0 col1\" >1063</td>\n",
       "                        <td id=\"T_9dcd1b20_3658_11ec_8d5d_02420a39ecc0row0_col2\" class=\"data row0 col2\" >7.54%</td>\n",
       "            </tr>\n",
       "            <tr>\n",
       "                        <th id=\"T_9dcd1b20_3658_11ec_8d5d_02420a39ecc0level0_row1\" class=\"row_heading level0 row1\" >1</th>\n",
       "                        <td id=\"T_9dcd1b20_3658_11ec_8d5d_02420a39ecc0row1_col0\" class=\"data row1 col0\" >4855</td>\n",
       "                        <td id=\"T_9dcd1b20_3658_11ec_8d5d_02420a39ecc0row1_col1\" class=\"data row1 col1\" >445</td>\n",
       "                        <td id=\"T_9dcd1b20_3658_11ec_8d5d_02420a39ecc0row1_col2\" class=\"data row1 col2\" >9.17%</td>\n",
       "            </tr>\n",
       "            <tr>\n",
       "                        <th id=\"T_9dcd1b20_3658_11ec_8d5d_02420a39ecc0level0_row2\" class=\"row_heading level0 row2\" >2</th>\n",
       "                        <td id=\"T_9dcd1b20_3658_11ec_8d5d_02420a39ecc0row2_col0\" class=\"data row2 col0\" >2128</td>\n",
       "                        <td id=\"T_9dcd1b20_3658_11ec_8d5d_02420a39ecc0row2_col1\" class=\"data row2 col1\" >202</td>\n",
       "                        <td id=\"T_9dcd1b20_3658_11ec_8d5d_02420a39ecc0row2_col2\" class=\"data row2 col2\" >9.49%</td>\n",
       "            </tr>\n",
       "            <tr>\n",
       "                        <th id=\"T_9dcd1b20_3658_11ec_8d5d_02420a39ecc0level0_row3\" class=\"row_heading level0 row3\" >3</th>\n",
       "                        <td id=\"T_9dcd1b20_3658_11ec_8d5d_02420a39ecc0row3_col0\" class=\"data row3 col0\" >330</td>\n",
       "                        <td id=\"T_9dcd1b20_3658_11ec_8d5d_02420a39ecc0row3_col1\" class=\"data row3 col1\" >27</td>\n",
       "                        <td id=\"T_9dcd1b20_3658_11ec_8d5d_02420a39ecc0row3_col2\" class=\"data row3 col2\" >8.18%</td>\n",
       "            </tr>\n",
       "            <tr>\n",
       "                        <th id=\"T_9dcd1b20_3658_11ec_8d5d_02420a39ecc0level0_row4\" class=\"row_heading level0 row4\" >4</th>\n",
       "                        <td id=\"T_9dcd1b20_3658_11ec_8d5d_02420a39ecc0row4_col0\" class=\"data row4 col0\" >41</td>\n",
       "                        <td id=\"T_9dcd1b20_3658_11ec_8d5d_02420a39ecc0row4_col1\" class=\"data row4 col1\" >4</td>\n",
       "                        <td id=\"T_9dcd1b20_3658_11ec_8d5d_02420a39ecc0row4_col2\" class=\"data row4 col2\" >9.76%</td>\n",
       "            </tr>\n",
       "            <tr>\n",
       "                        <th id=\"T_9dcd1b20_3658_11ec_8d5d_02420a39ecc0level0_row5\" class=\"row_heading level0 row5\" >5</th>\n",
       "                        <td id=\"T_9dcd1b20_3658_11ec_8d5d_02420a39ecc0row5_col0\" class=\"data row5 col0\" >9</td>\n",
       "                        <td id=\"T_9dcd1b20_3658_11ec_8d5d_02420a39ecc0row5_col1\" class=\"data row5 col1\" >0</td>\n",
       "                        <td id=\"T_9dcd1b20_3658_11ec_8d5d_02420a39ecc0row5_col2\" class=\"data row5 col2\" >0.00%</td>\n",
       "            </tr>\n",
       "    </tbody></table>"
      ],
      "text/plain": [
       "<pandas.io.formats.style.Styler at 0x7fac3de31850>"
      ]
     },
     "execution_count": 268,
     "metadata": {},
     "output_type": "execute_result"
    }
   ],
   "source": [
    "df.groupby('children')['debt'].agg(['count', 'sum', 'mean']).style.format({'mean': '{:.2%}'})"
   ]
  },
  {
   "cell_type": "markdown",
   "metadata": {},
   "source": [
    "Из таблицы видно, что у клиентов, имеющих пятеро детей не было задолжностей. Однако этих клиентов мало (9 человек),\n",
    "когда как в группе \"4 ребенка\" уже 41 клиент, и у четверых была задолжность."
   ]
  },
  {
   "cell_type": "markdown",
   "metadata": {},
   "source": [
    "Для нагядности построем график зависимости доли должников от числа детей."
   ]
  },
  {
   "cell_type": "code",
   "execution_count": 290,
   "metadata": {
    "scrolled": true
   },
   "outputs": [
    {
     "data": {
      "image/png": "[encoded data removed]",
      "text/plain": [
       "<Figure size 432x288 with 1 Axes>"
      ]
     },
     "metadata": {
      "needs_background": "light"
     },
     "output_type": "display_data"
    }
   ],
   "source": [
    "# построение графика зависимости доли должников от числа детей \n",
    "df.groupby('children')['debt'].agg(['mean']).plot(ylim=0, grid=True, title='Зависимость доли должников от числа детей');"
   ]
  },
  {
   "cell_type": "markdown",
   "metadata": {},
   "source": [
    "**Вывод**"
   ]
  },
  {
   "cell_type": "markdown",
   "metadata": {},
   "source": [
    "Доля должников среди клиентов, имеющих 0 – 4 детей приблизительно одинакова и составляет от 7,5 до 10%. В целом, доля должников в этой группе растет с ростом числа детей, однако, у клиентов с 3 детьми заметно меньше доля должников. Возможно, это связано с государственной помощью многодетным семьям (в рамках действующего законодательства многодетная семья – это ячейка общества, в которой родилось трое и более детей). \n",
    "\n",
    "Можно сказать, что у клиентов, не имеющих детей, меньше доля должников.\n",
    "\n",
    "Среди клиентов, указавших 5 детей, задолжностей не было ни у одного. Вероятно, это связано с малым числом таких клиентов (9 человек)."
   ]
  },
  {
   "cell_type": "markdown",
   "metadata": {},
   "source": [
    "**Есть ли зависимость между семейным положением и возвратом кредита в срок?**"
   ]
  },
  {
   "cell_type": "markdown",
   "metadata": {},
   "source": [
    "Сгруппируем данные о семейном положении по группам. Для каждой группы расчитаем долю клиентов, имевших задолжность."
   ]
  },
  {
   "cell_type": "code",
   "execution_count": 270,
   "metadata": {
    "scrolled": false
   },
   "outputs": [
    {
     "data": {
      "text/html": [
       "<div>\n",
       "<style scoped>\n",
       "    .dataframe tbody tr th:only-of-type {\n",
       "        vertical-align: middle;\n",
       "    }\n",
       "\n",
       "    .dataframe tbody tr th {\n",
       "        vertical-align: top;\n",
       "    }\n",
       "\n",
       "    .dataframe thead th {\n",
       "        text-align: right;\n",
       "    }\n",
       "</style>\n",
       "<table border=\"1\" class=\"dataframe\">\n",
       "  <thead>\n",
       "    <tr style=\"text-align: right;\">\n",
       "      <th></th>\n",
       "      <th>count</th>\n",
       "      <th>mean</th>\n",
       "    </tr>\n",
       "    <tr>\n",
       "      <th>family_status_id</th>\n",
       "      <th></th>\n",
       "      <th></th>\n",
       "    </tr>\n",
       "  </thead>\n",
       "  <tbody>\n",
       "    <tr>\n",
       "      <td>0</td>\n",
       "      <td>12339</td>\n",
       "      <td>0.075452</td>\n",
       "    </tr>\n",
       "    <tr>\n",
       "      <td>1</td>\n",
       "      <td>4151</td>\n",
       "      <td>0.093471</td>\n",
       "    </tr>\n",
       "    <tr>\n",
       "      <td>2</td>\n",
       "      <td>959</td>\n",
       "      <td>0.065693</td>\n",
       "    </tr>\n",
       "    <tr>\n",
       "      <td>3</td>\n",
       "      <td>1195</td>\n",
       "      <td>0.071130</td>\n",
       "    </tr>\n",
       "    <tr>\n",
       "      <td>4</td>\n",
       "      <td>2810</td>\n",
       "      <td>0.097509</td>\n",
       "    </tr>\n",
       "  </tbody>\n",
       "</table>\n",
       "</div>"
      ],
      "text/plain": [
       "                  count      mean\n",
       "family_status_id                 \n",
       "0                 12339  0.075452\n",
       "1                  4151  0.093471\n",
       "2                   959  0.065693\n",
       "3                  1195  0.071130\n",
       "4                  2810  0.097509"
      ]
     },
     "execution_count": 270,
     "metadata": {},
     "output_type": "execute_result"
    }
   ],
   "source": [
    "# группировка по значениям столбца family_status_id, подсчет кол-ва и среднего в каждой группе\n",
    "df.groupby('family_status_id')['debt'].agg(['count', 'mean'])"
   ]
  },
  {
   "cell_type": "markdown",
   "metadata": {},
   "source": [
    "Число клиентов, состоящих в той или иной группе, бесполезно для ответа на данный вопрос. Сохраним долю должников в таблице `family_group`."
   ]
  },
  {
   "cell_type": "code",
   "execution_count": 271,
   "metadata": {},
   "outputs": [],
   "source": [
    "# группировка по значениям столбца family_status_id, подсчет среднего в каждой группе\n",
    "family_group = df.groupby('family_status_id')['debt'].agg(['mean'])"
   ]
  },
  {
   "cell_type": "markdown",
   "metadata": {},
   "source": [
    "Для наглядности добавим к таблице столбец с расшифровкой id из `family_dict`."
   ]
  },
  {
   "cell_type": "code",
   "execution_count": 272,
   "metadata": {
    "scrolled": true
   },
   "outputs": [
    {
     "data": {
      "text/html": [
       "<div>\n",
       "<style scoped>\n",
       "    .dataframe tbody tr th:only-of-type {\n",
       "        vertical-align: middle;\n",
       "    }\n",
       "\n",
       "    .dataframe tbody tr th {\n",
       "        vertical-align: top;\n",
       "    }\n",
       "\n",
       "    .dataframe thead th {\n",
       "        text-align: right;\n",
       "    }\n",
       "</style>\n",
       "<table border=\"1\" class=\"dataframe\">\n",
       "  <thead>\n",
       "    <tr style=\"text-align: right;\">\n",
       "      <th></th>\n",
       "      <th>family_status_id</th>\n",
       "      <th>mean</th>\n",
       "      <th>family_status</th>\n",
       "    </tr>\n",
       "  </thead>\n",
       "  <tbody>\n",
       "    <tr>\n",
       "      <td>0</td>\n",
       "      <td>0</td>\n",
       "      <td>0.075452</td>\n",
       "      <td>женат / замужем</td>\n",
       "    </tr>\n",
       "    <tr>\n",
       "      <td>1</td>\n",
       "      <td>1</td>\n",
       "      <td>0.093471</td>\n",
       "      <td>гражданский брак</td>\n",
       "    </tr>\n",
       "    <tr>\n",
       "      <td>2</td>\n",
       "      <td>2</td>\n",
       "      <td>0.065693</td>\n",
       "      <td>вдовец / вдова</td>\n",
       "    </tr>\n",
       "    <tr>\n",
       "      <td>3</td>\n",
       "      <td>3</td>\n",
       "      <td>0.071130</td>\n",
       "      <td>в разводе</td>\n",
       "    </tr>\n",
       "    <tr>\n",
       "      <td>4</td>\n",
       "      <td>4</td>\n",
       "      <td>0.097509</td>\n",
       "      <td>Не женат / не замужем</td>\n",
       "    </tr>\n",
       "  </tbody>\n",
       "</table>\n",
       "</div>"
      ],
      "text/plain": [
       "   family_status_id      mean          family_status\n",
       "0                 0  0.075452        женат / замужем\n",
       "1                 1  0.093471       гражданский брак\n",
       "2                 2  0.065693         вдовец / вдова\n",
       "3                 3  0.071130              в разводе\n",
       "4                 4  0.097509  Не женат / не замужем"
      ]
     },
     "execution_count": 272,
     "metadata": {},
     "output_type": "execute_result"
    }
   ],
   "source": [
    "# добавление столбца family_status из таблицы family_dict\n",
    "family_group = family_group.merge(family_dict, on='family_status_id', how='left')\n",
    "family_group"
   ]
  },
  {
   "cell_type": "markdown",
   "metadata": {},
   "source": [
    "Отсортируем значения в порядке возрастания. Таким образом, верхние строки будут соответсвовать группам, где чаще всего возвращали кредиты в срок."
   ]
  },
  {
   "cell_type": "code",
   "execution_count": 273,
   "metadata": {},
   "outputs": [
    {
     "data": {
      "text/html": [
       "<div>\n",
       "<style scoped>\n",
       "    .dataframe tbody tr th:only-of-type {\n",
       "        vertical-align: middle;\n",
       "    }\n",
       "\n",
       "    .dataframe tbody tr th {\n",
       "        vertical-align: top;\n",
       "    }\n",
       "\n",
       "    .dataframe thead th {\n",
       "        text-align: right;\n",
       "    }\n",
       "</style>\n",
       "<table border=\"1\" class=\"dataframe\">\n",
       "  <thead>\n",
       "    <tr style=\"text-align: right;\">\n",
       "      <th></th>\n",
       "      <th>family_status_id</th>\n",
       "      <th>mean</th>\n",
       "      <th>family_status</th>\n",
       "    </tr>\n",
       "  </thead>\n",
       "  <tbody>\n",
       "    <tr>\n",
       "      <td>2</td>\n",
       "      <td>2</td>\n",
       "      <td>0.065693</td>\n",
       "      <td>вдовец / вдова</td>\n",
       "    </tr>\n",
       "    <tr>\n",
       "      <td>3</td>\n",
       "      <td>3</td>\n",
       "      <td>0.071130</td>\n",
       "      <td>в разводе</td>\n",
       "    </tr>\n",
       "    <tr>\n",
       "      <td>0</td>\n",
       "      <td>0</td>\n",
       "      <td>0.075452</td>\n",
       "      <td>женат / замужем</td>\n",
       "    </tr>\n",
       "    <tr>\n",
       "      <td>1</td>\n",
       "      <td>1</td>\n",
       "      <td>0.093471</td>\n",
       "      <td>гражданский брак</td>\n",
       "    </tr>\n",
       "    <tr>\n",
       "      <td>4</td>\n",
       "      <td>4</td>\n",
       "      <td>0.097509</td>\n",
       "      <td>Не женат / не замужем</td>\n",
       "    </tr>\n",
       "  </tbody>\n",
       "</table>\n",
       "</div>"
      ],
      "text/plain": [
       "   family_status_id      mean          family_status\n",
       "2                 2  0.065693         вдовец / вдова\n",
       "3                 3  0.071130              в разводе\n",
       "0                 0  0.075452        женат / замужем\n",
       "1                 1  0.093471       гражданский брак\n",
       "4                 4  0.097509  Не женат / не замужем"
      ]
     },
     "execution_count": 273,
     "metadata": {},
     "output_type": "execute_result"
    }
   ],
   "source": [
    "# сортировка значений в порядке возрастания\n",
    "family_group.sort_values('mean')"
   ]
  },
  {
   "cell_type": "markdown",
   "metadata": {},
   "source": [
    "**Вывод**"
   ]
  },
  {
   "cell_type": "markdown",
   "metadata": {},
   "source": [
    "Среди клиентов, не состоящие и не состоявшие в браке (Не женат / не замужем), самая большая доля тех, кто имел задолжности.\n",
    "Чуть меньше эта доля сведи тех, кто состоит в гражданском браке. Стоит заметить, что гражданским браком принято считать незарегистрированное совместное проживание, когда как с юридической точки зрения, гражданский брак – это официально узаконенные в ЗАГСе отношения. Предположим, что это понятие используется в качестве синонима к незарегистророванным отношениям (доля должников в этой группе примерно равна доли должников в группе \"Не женат / не замужем\"). \n",
    "\n",
    "Среднее число задолжностей в трех других группах (женат / замужем, в разводе, вдовец / вдова) меньше и составляет примерно  7 %. Замечу, что группа клиентов, состоящих в браке самая многочисленная."
   ]
  },
  {
   "cell_type": "markdown",
   "metadata": {},
   "source": [
    "**Есть ли зависимость между уровнем дохода и возвратом кредита в срок?**"
   ]
  },
  {
   "cell_type": "markdown",
   "metadata": {},
   "source": [
    "Поскольку обработка столбца `total_income` была сделана двумя способами, проанализируем данные дял каждого."
   ]
  },
  {
   "cell_type": "markdown",
   "metadata": {},
   "source": [
    "Сначала проанализируем отдельную таблицу, в которой были удалены пропущенные строки."
   ]
  },
  {
   "cell_type": "code",
   "execution_count": 274,
   "metadata": {
    "scrolled": false
   },
   "outputs": [
    {
     "data": {
      "text/html": [
       "<div>\n",
       "<style scoped>\n",
       "    .dataframe tbody tr th:only-of-type {\n",
       "        vertical-align: middle;\n",
       "    }\n",
       "\n",
       "    .dataframe tbody tr th {\n",
       "        vertical-align: top;\n",
       "    }\n",
       "\n",
       "    .dataframe thead th {\n",
       "        text-align: right;\n",
       "    }\n",
       "</style>\n",
       "<table border=\"1\" class=\"dataframe\">\n",
       "  <thead>\n",
       "    <tr style=\"text-align: right;\">\n",
       "      <th></th>\n",
       "      <th>count</th>\n",
       "      <th>mean</th>\n",
       "    </tr>\n",
       "    <tr>\n",
       "      <th>total_income_group</th>\n",
       "      <th></th>\n",
       "      <th></th>\n",
       "    </tr>\n",
       "  </thead>\n",
       "  <tbody>\n",
       "    <tr>\n",
       "      <td>100 - 200 тыс</td>\n",
       "      <td>9822</td>\n",
       "      <td>0.087457</td>\n",
       "    </tr>\n",
       "    <tr>\n",
       "      <td>200 - 500 тыс</td>\n",
       "      <td>4844</td>\n",
       "      <td>0.071016</td>\n",
       "    </tr>\n",
       "    <tr>\n",
       "      <td>50 - 100 тыс</td>\n",
       "      <td>4091</td>\n",
       "      <td>0.080909</td>\n",
       "    </tr>\n",
       "    <tr>\n",
       "      <td>500 тыс - 1 млн</td>\n",
       "      <td>197</td>\n",
       "      <td>0.060914</td>\n",
       "    </tr>\n",
       "    <tr>\n",
       "      <td>&lt; 50 тыс</td>\n",
       "      <td>372</td>\n",
       "      <td>0.061828</td>\n",
       "    </tr>\n",
       "    <tr>\n",
       "      <td>&gt; 1 млн</td>\n",
       "      <td>25</td>\n",
       "      <td>0.080000</td>\n",
       "    </tr>\n",
       "  </tbody>\n",
       "</table>\n",
       "</div>"
      ],
      "text/plain": [
       "                    count      mean\n",
       "total_income_group                 \n",
       "100 - 200 тыс        9822  0.087457\n",
       "200 - 500 тыс        4844  0.071016\n",
       "50 - 100 тыс         4091  0.080909\n",
       "500 тыс - 1 млн       197  0.060914\n",
       "< 50 тыс              372  0.061828\n",
       "> 1 млн                25  0.080000"
      ]
     },
     "execution_count": 274,
     "metadata": {},
     "output_type": "execute_result"
    }
   ],
   "source": [
    "# группировка по значениям столбца total_income_group, подсчет кол-ва и среднего в каждой группе\n",
    "income_group1 = income.groupby('total_income_group')['debt'].agg(['count', 'mean'])\n",
    "income_group1"
   ]
  },
  {
   "cell_type": "markdown",
   "metadata": {},
   "source": [
    "Больше всего кредитов берут клиенты со среднем доходом (100 - 200 тыс), меньше всего – с доходом более 1 миллиона."
   ]
  },
  {
   "cell_type": "markdown",
   "metadata": {},
   "source": [
    "Отсортируем таблицу по среднему числу должников"
   ]
  },
  {
   "cell_type": "code",
   "execution_count": 275,
   "metadata": {
    "scrolled": true
   },
   "outputs": [
    {
     "data": {
      "text/plain": [
       "total_income_group\n",
       "500 тыс - 1 млн    0.060914\n",
       "< 50 тыс           0.061828\n",
       "200 - 500 тыс      0.071016\n",
       "> 1 млн            0.080000\n",
       "50 - 100 тыс       0.080909\n",
       "100 - 200 тыс      0.087457\n",
       "Name: mean, dtype: float64"
      ]
     },
     "execution_count": 275,
     "metadata": {},
     "output_type": "execute_result"
    }
   ],
   "source": [
    "# сортировка значений в порядке возрастания\n",
    "income_group1['mean'].sort_values()"
   ]
  },
  {
   "cell_type": "markdown",
   "metadata": {},
   "source": [
    "Наибольшая доля должников оказалась группе со средним доходом (100 - 200 тыс), немного лучше дела обстоят в группах с доход 50 - 100 тыс и более 1 млн (при том, что это самая маленькая группа), однако разница составляет доли процента. Группы с доходом менее 50 тыс и 500 тыс - 1 млн показывают наилучший результат."
   ]
  },
  {
   "cell_type": "markdown",
   "metadata": {},
   "source": [
    "Проделаем те же операции значений из таблицы df, где пропущенные строки были заполнены медианой."
   ]
  },
  {
   "cell_type": "code",
   "execution_count": 276,
   "metadata": {
    "scrolled": true
   },
   "outputs": [
    {
     "data": {
      "text/html": [
       "<div>\n",
       "<style scoped>\n",
       "    .dataframe tbody tr th:only-of-type {\n",
       "        vertical-align: middle;\n",
       "    }\n",
       "\n",
       "    .dataframe tbody tr th {\n",
       "        vertical-align: top;\n",
       "    }\n",
       "\n",
       "    .dataframe thead th {\n",
       "        text-align: right;\n",
       "    }\n",
       "</style>\n",
       "<table border=\"1\" class=\"dataframe\">\n",
       "  <thead>\n",
       "    <tr style=\"text-align: right;\">\n",
       "      <th></th>\n",
       "      <th>count</th>\n",
       "      <th>mean</th>\n",
       "    </tr>\n",
       "    <tr>\n",
       "      <th>total_income_group</th>\n",
       "      <th></th>\n",
       "      <th></th>\n",
       "    </tr>\n",
       "  </thead>\n",
       "  <tbody>\n",
       "    <tr>\n",
       "      <td>100 - 200 тыс</td>\n",
       "      <td>11925</td>\n",
       "      <td>0.086289</td>\n",
       "    </tr>\n",
       "    <tr>\n",
       "      <td>200 - 500 тыс</td>\n",
       "      <td>4844</td>\n",
       "      <td>0.071016</td>\n",
       "    </tr>\n",
       "    <tr>\n",
       "      <td>50 - 100 тыс</td>\n",
       "      <td>4091</td>\n",
       "      <td>0.080909</td>\n",
       "    </tr>\n",
       "    <tr>\n",
       "      <td>500 тыс - 1 млн</td>\n",
       "      <td>197</td>\n",
       "      <td>0.060914</td>\n",
       "    </tr>\n",
       "    <tr>\n",
       "      <td>&lt; 50 тыс</td>\n",
       "      <td>372</td>\n",
       "      <td>0.061828</td>\n",
       "    </tr>\n",
       "    <tr>\n",
       "      <td>&gt; 1 млн</td>\n",
       "      <td>25</td>\n",
       "      <td>0.080000</td>\n",
       "    </tr>\n",
       "  </tbody>\n",
       "</table>\n",
       "</div>"
      ],
      "text/plain": [
       "                    count      mean\n",
       "total_income_group                 \n",
       "100 - 200 тыс       11925  0.086289\n",
       "200 - 500 тыс        4844  0.071016\n",
       "50 - 100 тыс         4091  0.080909\n",
       "500 тыс - 1 млн       197  0.060914\n",
       "< 50 тыс              372  0.061828\n",
       "> 1 млн                25  0.080000"
      ]
     },
     "execution_count": 276,
     "metadata": {},
     "output_type": "execute_result"
    }
   ],
   "source": [
    "# группировка по значениям столбца total_income_group, подсчет кол-ва и среднего в каждой группе\n",
    "income_group2 = df.groupby('total_income_group')['debt'].agg(['count', 'mean'])\n",
    "income_group2"
   ]
  },
  {
   "cell_type": "markdown",
   "metadata": {},
   "source": [
    "Значение группы со средним доходом (100 - 200 тыс) изменилось на доли процента, что несущественно для текущей задачи. Выводы для предыдущего подхода справедливы и в данном случае."
   ]
  },
  {
   "cell_type": "markdown",
   "metadata": {},
   "source": [
    "Проанализируем клиентов, не указавших свой доход"
   ]
  },
  {
   "cell_type": "code",
   "execution_count": 277,
   "metadata": {
    "scrolled": true
   },
   "outputs": [
    {
     "data": {
      "text/plain": [
       "total_income         NaN\n",
       "debt            0.078197\n",
       "dtype: float64"
      ]
     },
     "execution_count": 277,
     "metadata": {},
     "output_type": "execute_result"
    }
   ],
   "source": [
    "# доля должников, среди неуказавших доход\n",
    "income_nan.mean()"
   ]
  },
  {
   "cell_type": "markdown",
   "metadata": {},
   "source": [
    "Доля должников среди них 7,8%. Это значение близко к средней доли должников по всем известным значениям."
   ]
  },
  {
   "cell_type": "code",
   "execution_count": 278,
   "metadata": {
    "scrolled": true
   },
   "outputs": [
    {
     "data": {
      "text/plain": [
       "0.0811844349129244"
      ]
     },
     "execution_count": 278,
     "metadata": {},
     "output_type": "execute_result"
    }
   ],
   "source": [
    "# доля должников, среди указавших доход\n",
    "income['debt'].mean()"
   ]
  },
  {
   "cell_type": "markdown",
   "metadata": {},
   "source": [
    "В итоге, оба подхода показали одинаковые результаты."
   ]
  },
  {
   "cell_type": "markdown",
   "metadata": {},
   "source": [
    "**Вывод**"
   ]
  },
  {
   "cell_type": "markdown",
   "metadata": {},
   "source": [
    "Наибольшая доля клиентов, имевших задолжности, оказалась в самой могочисленной группе (100 - 200 тыс), в группах с доходом 50 - 100 тыс и более 1 млн (при том, что это самая маленькая группа).\n",
    "\n",
    "Группы с доходом менее 50 тыс и 500 тыс - 1 млн показывают наилучший результат. \n",
    "\n",
    "Доля должников среди клиентов, не указавших доход, примерно равна средней доли среди тех клиентов, кто указал доход."
   ]
  },
  {
   "cell_type": "markdown",
   "metadata": {},
   "source": [
    "**Как разные цели кредита влияют на его возврат в срок?**"
   ]
  },
  {
   "cell_type": "markdown",
   "metadata": {},
   "source": [
    "Сгруппируем данные по целям и в каждой группе посчитаем количесвтво клиентов и долю тех, у которых были задолжности."
   ]
  },
  {
   "cell_type": "code",
   "execution_count": 279,
   "metadata": {
    "scrolled": true
   },
   "outputs": [
    {
     "data": {
      "text/html": [
       "<div>\n",
       "<style scoped>\n",
       "    .dataframe tbody tr th:only-of-type {\n",
       "        vertical-align: middle;\n",
       "    }\n",
       "\n",
       "    .dataframe tbody tr th {\n",
       "        vertical-align: top;\n",
       "    }\n",
       "\n",
       "    .dataframe thead th {\n",
       "        text-align: right;\n",
       "    }\n",
       "</style>\n",
       "<table border=\"1\" class=\"dataframe\">\n",
       "  <thead>\n",
       "    <tr style=\"text-align: right;\">\n",
       "      <th></th>\n",
       "      <th>count</th>\n",
       "      <th>mean</th>\n",
       "    </tr>\n",
       "    <tr>\n",
       "      <th>purpose</th>\n",
       "      <th></th>\n",
       "      <th></th>\n",
       "    </tr>\n",
       "  </thead>\n",
       "  <tbody>\n",
       "    <tr>\n",
       "      <td>автомобиль</td>\n",
       "      <td>4306</td>\n",
       "      <td>0.093590</td>\n",
       "    </tr>\n",
       "    <tr>\n",
       "      <td>недвижимость</td>\n",
       "      <td>10811</td>\n",
       "      <td>0.072334</td>\n",
       "    </tr>\n",
       "    <tr>\n",
       "      <td>образование</td>\n",
       "      <td>4013</td>\n",
       "      <td>0.092200</td>\n",
       "    </tr>\n",
       "    <tr>\n",
       "      <td>свадьба</td>\n",
       "      <td>2324</td>\n",
       "      <td>0.080034</td>\n",
       "    </tr>\n",
       "  </tbody>\n",
       "</table>\n",
       "</div>"
      ],
      "text/plain": [
       "              count      mean\n",
       "purpose                      \n",
       "автомобиль     4306  0.093590\n",
       "недвижимость  10811  0.072334\n",
       "образование    4013  0.092200\n",
       "свадьба        2324  0.080034"
      ]
     },
     "execution_count": 279,
     "metadata": {},
     "output_type": "execute_result"
    }
   ],
   "source": [
    "# группировка по значениям столбца purpose, подсчет кол-ва и среднего в каждой группе\n",
    "df.groupby('purpose')['debt'].agg(['count','mean'])"
   ]
  },
  {
   "cell_type": "markdown",
   "metadata": {},
   "source": [
    "Ожидаемо, больше всего кредитов берут клиенты, планирующие потрать полученные средства на недвижимость."
   ]
  },
  {
   "cell_type": "markdown",
   "metadata": {},
   "source": [
    "Сохраним в таблице `purpose` только долю должников в каждой группе."
   ]
  },
  {
   "cell_type": "code",
   "execution_count": 280,
   "metadata": {},
   "outputs": [],
   "source": [
    "# группировка по значениям столбца purpose, подсчет среднего в каждой группе\n",
    "purpose = df.groupby('purpose')['debt'].agg(['mean'])"
   ]
  },
  {
   "cell_type": "markdown",
   "metadata": {},
   "source": [
    "Отсортируем значения в порядке возрастания."
   ]
  },
  {
   "cell_type": "code",
   "execution_count": 281,
   "metadata": {
    "scrolled": true
   },
   "outputs": [
    {
     "data": {
      "text/plain": [
       "purpose\n",
       "недвижимость    0.072334\n",
       "свадьба         0.080034\n",
       "образование     0.092200\n",
       "автомобиль      0.093590\n",
       "Name: mean, dtype: float64"
      ]
     },
     "execution_count": 281,
     "metadata": {},
     "output_type": "execute_result"
    }
   ],
   "source": [
    "# сортировка значений в порядке возрастания\n",
    "purpose['mean'].sort_values()"
   ]
  },
  {
   "cell_type": "markdown",
   "metadata": {},
   "source": [
    "**Вывод**"
   ]
  },
  {
   "cell_type": "markdown",
   "metadata": {},
   "source": [
    "Доля клиентов, имевших задолжности, наибольшая для тех, кто берет кредит на образование и автомобиль (9%). Наилучший результат 7% у группы клиентов, берущей кредит на недвижимость. "
   ]
  },
  {
   "cell_type": "markdown",
   "metadata": {},
   "source": [
    "## Шаг 4. Общий вывод\n",
    "\n",
    "<a id='conclusion'></a>"
   ]
  },
  {
   "cell_type": "markdown",
   "metadata": {},
   "source": [
    "При обработке данных были выявлены пропуски в столбцах `total_income` и в `days_employed` (доля пропусков 10%). В столбце `total_income` пропуски были заменены медианами, столбец `days_employed` удален. Возможно, некоторые клиенты по какой-либо причине не указали данные."
   ]
  },
  {
   "cell_type": "markdown",
   "metadata": {},
   "source": [
    "В столбце `total_income` был изменет тип данный с `float` на `int`."
   ]
  },
  {
   "cell_type": "markdown",
   "metadata": {},
   "source": [
    "Далее были обработы дубликаты. В столбце `education` были найдены дубликаты в разных регистрах. В стоблце `children` были найдены неожиданные значения -1 и 20, которые решено было считать опечатками. "
   ]
  },
  {
   "cell_type": "markdown",
   "metadata": {},
   "source": [
    "Была проведена лемматизация столбца `purpose` покольку в исходной таблицы цели были записаны по-разному. В результате все цели получения кредита разделились на четыре группы: недвижимость, свадьба, автомобиль, образование."
   ]
  },
  {
   "cell_type": "markdown",
   "metadata": {},
   "source": [
    "Для удобства дальнейшей работы была проведена категоризация. Для столбцов `family_status` и `family_status_id` cоздан отдельный «словарь», где названию статуса будет соответствовать id номер. Столбец `total_income` был разбит на группы по количеству дохода клиентов. Кроме того, были удалены колонки, не задействованные в исследовании."
   ]
  },
  {
   "cell_type": "markdown",
   "metadata": {},
   "source": [
    "В ходе исследования были даны ответы на следущие вопросы.\n"
   ]
  },
  {
   "cell_type": "markdown",
   "metadata": {},
   "source": [
    "1. Есть ли зависимость между наличием детей и возвратом кредита в срок?"
   ]
  },
  {
   "cell_type": "markdown",
   "metadata": {},
   "source": [
    "Можно утверждать, что клиенты, не имеющие детей, имеют меньший процент задолжностей. В целом, наблюдается небольшой рост процента задолжностей с ростом количества детей : от 7,5% у бездетных до 10% у клиентов с 4 детьми. Клиенты с 3 детьми несколько выбиваются из общей тенденции (доля должников в этой группе меньше, чем у других групп с детьми). Клиенты с 5 детьми не имели ни одной задолжности, однако их на порядки меньше, чем в других группах, поэтому делать какие-либо выводы по этой группе сделать сложно."
   ]
  },
  {
   "cell_type": "markdown",
   "metadata": {},
   "source": [
    "2. Есть ли зависимость между семейным положением и возвратом кредита в срок?"
   ]
  },
  {
   "cell_type": "markdown",
   "metadata": {},
   "source": [
    "Да, зависимость есть. Среди клиентов, не состоящие и не состоявшие в браке (Не женат / не замужем / гражданский брак), самая большая доля тех, кто имел задолжности. "
   ]
  },
  {
   "cell_type": "markdown",
   "metadata": {},
   "source": [
    "3. Есть ли зависимость между уровнем дохода и возвратом кредита в срок?"
   ]
  },
  {
   "cell_type": "markdown",
   "metadata": {},
   "source": [
    "Да. Наибольшая доля клиентов, имевших задолжности, имеет доход от 50 до 200 тысяч, а также более 1 миллиона. Группы с доходом менее 50 тысяч и от 500 тысяч до 1 миллиона показывают наилучший результат"
   ]
  },
  {
   "cell_type": "markdown",
   "metadata": {},
   "source": [
    "4. Как разные цели кредита влияют на его возврат в срок?"
   ]
  },
  {
   "cell_type": "markdown",
   "metadata": {},
   "source": [
    "Клиенты, берущие кредит для вложения в недвижимость, имеют наименьший процент задолжностей. Среди клиентов, берущих кредит на  образование и автомобиль, доля должников наибольшая."
   ]
  },
  {
   "cell_type": "markdown",
   "metadata": {},
   "source": [
    "**Рекомендации**"
   ]
  },
  {
   "cell_type": "markdown",
   "metadata": {},
   "source": [
    "* В столбце `children ` обнаружились опечатки. \n",
    "* В столбце `days_employed`, описывающем общий трудовой стаж, неверно указан формат данных (вероятно, данные представлены в формате UTC вместо заявленного количества дней).\n",
    "* В стоблце `dob_years` обнаружились нулеве значения.\n",
    "* В стоблце `education ` были обнаружены дубликаты в разных регистрах\n",
    "* В стоблце `gender ` было найденно единстенное значение, отличное от двух представленных.\n",
    "* В стоблце `total_income` обнаружены пропущенные значения в тех же строках, что и в столбце `days_employed`.\n",
    "* В столбце `purpose ` обнаружены всего 4 цели, однако обозначены они несколькими способами."
   ]
  },
  {
   "cell_type": "code",
   "execution_count": null,
   "metadata": {},
   "outputs": [],
   "source": []
  }
 ],
 "metadata": {
  "ExecuteTimeLog": [
   {
    "duration": 588,
    "start_time": "2021-10-19T15:38:36.959Z"
   },
   {
    "duration": 50,
    "start_time": "2021-10-19T15:38:38.407Z"
   },
   {
    "duration": 18,
    "start_time": "2021-10-19T15:38:38.840Z"
   },
   {
    "duration": 12,
    "start_time": "2021-10-19T15:39:23.418Z"
   },
   {
    "duration": 644,
    "start_time": "2021-10-20T11:35:31.346Z"
   },
   {
    "duration": 48,
    "start_time": "2021-10-20T11:35:31.991Z"
   },
   {
    "duration": 20,
    "start_time": "2021-10-20T11:35:32.041Z"
   },
   {
    "duration": 2,
    "start_time": "2021-10-20T13:51:04.514Z"
   },
   {
    "duration": 49,
    "start_time": "2021-10-20T13:51:04.518Z"
   },
   {
    "duration": 12,
    "start_time": "2021-10-20T13:51:04.569Z"
   },
   {
    "duration": 14,
    "start_time": "2021-10-20T14:14:10.042Z"
   },
   {
    "duration": 3,
    "start_time": "2021-10-20T14:15:22.423Z"
   },
   {
    "duration": 70,
    "start_time": "2021-10-20T14:15:22.428Z"
   },
   {
    "duration": 11,
    "start_time": "2021-10-20T14:15:22.500Z"
   },
   {
    "duration": 15,
    "start_time": "2021-10-20T14:15:22.512Z"
   },
   {
    "duration": 2,
    "start_time": "2021-10-20T14:21:08.995Z"
   },
   {
    "duration": 50,
    "start_time": "2021-10-20T14:21:08.999Z"
   },
   {
    "duration": 12,
    "start_time": "2021-10-20T14:21:09.050Z"
   },
   {
    "duration": 12,
    "start_time": "2021-10-20T14:21:09.063Z"
   },
   {
    "duration": 9,
    "start_time": "2021-10-20T14:21:09.076Z"
   },
   {
    "duration": 13,
    "start_time": "2021-10-20T14:35:59.412Z"
   },
   {
    "duration": 14,
    "start_time": "2021-10-20T14:37:02.670Z"
   },
   {
    "duration": 3,
    "start_time": "2021-10-20T14:47:35.796Z"
   },
   {
    "duration": 51,
    "start_time": "2021-10-20T14:47:35.800Z"
   },
   {
    "duration": 12,
    "start_time": "2021-10-20T14:47:35.853Z"
   },
   {
    "duration": 16,
    "start_time": "2021-10-20T14:47:35.867Z"
   },
   {
    "duration": 8,
    "start_time": "2021-10-20T14:47:35.885Z"
   },
   {
    "duration": 114,
    "start_time": "2021-10-20T15:00:18.463Z"
   },
   {
    "duration": 121,
    "start_time": "2021-10-20T15:00:24.538Z"
   },
   {
    "duration": 8,
    "start_time": "2021-10-20T15:00:42.399Z"
   },
   {
    "duration": 7,
    "start_time": "2021-10-20T15:00:52.467Z"
   },
   {
    "duration": 6,
    "start_time": "2021-10-20T15:01:08.800Z"
   },
   {
    "duration": 6,
    "start_time": "2021-10-20T15:01:18.332Z"
   },
   {
    "duration": 11,
    "start_time": "2021-10-20T15:01:43.771Z"
   },
   {
    "duration": 7,
    "start_time": "2021-10-20T15:01:57.925Z"
   },
   {
    "duration": 6,
    "start_time": "2021-10-20T15:02:09.133Z"
   },
   {
    "duration": 6,
    "start_time": "2021-10-20T15:02:30.972Z"
   },
   {
    "duration": 5,
    "start_time": "2021-10-20T15:02:40.855Z"
   },
   {
    "duration": 9,
    "start_time": "2021-10-20T16:50:24.909Z"
   },
   {
    "duration": 393,
    "start_time": "2021-10-20T16:55:36.328Z"
   },
   {
    "duration": 7,
    "start_time": "2021-10-20T16:57:00.879Z"
   },
   {
    "duration": 8,
    "start_time": "2021-10-20T16:57:11.170Z"
   },
   {
    "duration": 7,
    "start_time": "2021-10-20T16:58:55.214Z"
   },
   {
    "duration": 360,
    "start_time": "2021-10-20T17:01:21.593Z"
   },
   {
    "duration": 8,
    "start_time": "2021-10-20T17:01:28.106Z"
   },
   {
    "duration": 6,
    "start_time": "2021-10-20T17:01:46.478Z"
   },
   {
    "duration": 8,
    "start_time": "2021-10-20T17:01:53.156Z"
   },
   {
    "duration": 8,
    "start_time": "2021-10-20T17:02:13.073Z"
   },
   {
    "duration": 6,
    "start_time": "2021-10-20T17:02:19.917Z"
   },
   {
    "duration": 436,
    "start_time": "2021-10-20T17:02:43.957Z"
   },
   {
    "duration": 6,
    "start_time": "2021-10-20T17:02:50.823Z"
   },
   {
    "duration": 7,
    "start_time": "2021-10-20T17:03:48.169Z"
   },
   {
    "duration": 359,
    "start_time": "2021-10-20T17:04:05.884Z"
   },
   {
    "duration": 13,
    "start_time": "2021-10-20T17:04:46.432Z"
   },
   {
    "duration": 351,
    "start_time": "2021-10-20T17:06:30.552Z"
   },
   {
    "duration": 8,
    "start_time": "2021-10-20T17:06:41.627Z"
   },
   {
    "duration": 16,
    "start_time": "2021-10-20T17:07:19.834Z"
   },
   {
    "duration": 159,
    "start_time": "2021-10-20T17:10:04.370Z"
   },
   {
    "duration": 8978,
    "start_time": "2021-10-20T17:10:08.462Z"
   },
   {
    "duration": 566,
    "start_time": "2021-10-20T17:10:40.834Z"
   },
   {
    "duration": 54,
    "start_time": "2021-10-20T17:10:41.402Z"
   },
   {
    "duration": 24,
    "start_time": "2021-10-20T17:10:41.458Z"
   },
   {
    "duration": 12,
    "start_time": "2021-10-20T17:10:41.484Z"
   },
   {
    "duration": 12,
    "start_time": "2021-10-20T17:10:41.498Z"
   },
   {
    "duration": 8866,
    "start_time": "2021-10-20T17:10:41.512Z"
   },
   {
    "duration": 9193,
    "start_time": "2021-10-20T17:10:54.362Z"
   },
   {
    "duration": 9369,
    "start_time": "2021-10-20T17:11:06.965Z"
   },
   {
    "duration": 352,
    "start_time": "2021-10-20T17:11:20.382Z"
   },
   {
    "duration": 351,
    "start_time": "2021-10-20T17:12:12.943Z"
   },
   {
    "duration": 9097,
    "start_time": "2021-10-20T17:12:22.081Z"
   },
   {
    "duration": 750,
    "start_time": "2021-10-21T08:28:26.952Z"
   },
   {
    "duration": 57,
    "start_time": "2021-10-21T08:28:27.704Z"
   },
   {
    "duration": 25,
    "start_time": "2021-10-21T08:28:27.764Z"
   },
   {
    "duration": 14,
    "start_time": "2021-10-21T08:28:27.791Z"
   },
   {
    "duration": 37,
    "start_time": "2021-10-21T08:28:27.807Z"
   },
   {
    "duration": 10,
    "start_time": "2021-10-21T08:28:29.691Z"
   },
   {
    "duration": 9,
    "start_time": "2021-10-21T08:29:03.341Z"
   },
   {
    "duration": 333,
    "start_time": "2021-10-21T08:29:09.128Z"
   },
   {
    "duration": 5,
    "start_time": "2021-10-21T08:31:01.876Z"
   },
   {
    "duration": 4,
    "start_time": "2021-10-21T08:31:09.031Z"
   },
   {
    "duration": 7,
    "start_time": "2021-10-21T08:31:33.988Z"
   },
   {
    "duration": 22,
    "start_time": "2021-10-21T08:31:53.196Z"
   },
   {
    "duration": 7,
    "start_time": "2021-10-21T08:32:04.535Z"
   },
   {
    "duration": 7,
    "start_time": "2021-10-21T08:33:43.826Z"
   },
   {
    "duration": 8,
    "start_time": "2021-10-21T08:34:24.609Z"
   },
   {
    "duration": 6,
    "start_time": "2021-10-21T08:34:44.982Z"
   },
   {
    "duration": 7,
    "start_time": "2021-10-21T08:35:06.610Z"
   },
   {
    "duration": 20,
    "start_time": "2021-10-21T08:35:24.361Z"
   },
   {
    "duration": 10,
    "start_time": "2021-10-21T08:35:30.786Z"
   },
   {
    "duration": 10,
    "start_time": "2021-10-21T08:35:59.201Z"
   },
   {
    "duration": 13,
    "start_time": "2021-10-21T08:37:46.145Z"
   },
   {
    "duration": 6,
    "start_time": "2021-10-21T08:38:32.520Z"
   },
   {
    "duration": 22,
    "start_time": "2021-10-21T08:43:25.974Z"
   },
   {
    "duration": 20,
    "start_time": "2021-10-21T08:47:43.369Z"
   },
   {
    "duration": 7,
    "start_time": "2021-10-21T08:47:53.235Z"
   },
   {
    "duration": 6,
    "start_time": "2021-10-21T08:48:11.775Z"
   },
   {
    "duration": 6,
    "start_time": "2021-10-21T08:48:26.177Z"
   },
   {
    "duration": 6,
    "start_time": "2021-10-21T08:48:36.064Z"
   },
   {
    "duration": 28,
    "start_time": "2021-10-21T08:49:38.245Z"
   },
   {
    "duration": 9,
    "start_time": "2021-10-21T08:50:43.475Z"
   },
   {
    "duration": 16,
    "start_time": "2021-10-21T09:04:39.490Z"
   },
   {
    "duration": 324,
    "start_time": "2021-10-21T09:05:53.050Z"
   },
   {
    "duration": 272,
    "start_time": "2021-10-21T09:06:02.360Z"
   },
   {
    "duration": 425,
    "start_time": "2021-10-21T09:06:33.408Z"
   },
   {
    "duration": 10,
    "start_time": "2021-10-21T09:07:34.266Z"
   },
   {
    "duration": 10,
    "start_time": "2021-10-21T09:08:07.282Z"
   },
   {
    "duration": 11,
    "start_time": "2021-10-21T09:08:14.955Z"
   },
   {
    "duration": 6,
    "start_time": "2021-10-21T09:19:25.390Z"
   },
   {
    "duration": 8,
    "start_time": "2021-10-21T09:20:05.449Z"
   },
   {
    "duration": 12,
    "start_time": "2021-10-21T09:20:16.293Z"
   },
   {
    "duration": 8,
    "start_time": "2021-10-21T09:20:31.978Z"
   },
   {
    "duration": 7,
    "start_time": "2021-10-21T09:21:06.173Z"
   },
   {
    "duration": 6,
    "start_time": "2021-10-21T09:21:25.990Z"
   },
   {
    "duration": 7,
    "start_time": "2021-10-21T09:21:36.525Z"
   },
   {
    "duration": 107,
    "start_time": "2021-10-21T09:22:03.230Z"
   },
   {
    "duration": 6,
    "start_time": "2021-10-21T09:22:19.654Z"
   },
   {
    "duration": 5,
    "start_time": "2021-10-21T09:23:09.262Z"
   },
   {
    "duration": 288,
    "start_time": "2021-10-21T09:23:15.100Z"
   },
   {
    "duration": 6,
    "start_time": "2021-10-21T09:23:20.334Z"
   },
   {
    "duration": 6,
    "start_time": "2021-10-21T09:23:32.245Z"
   },
   {
    "duration": 7,
    "start_time": "2021-10-21T09:23:40.140Z"
   },
   {
    "duration": 272,
    "start_time": "2021-10-21T09:23:46.560Z"
   },
   {
    "duration": 275,
    "start_time": "2021-10-21T09:23:54.437Z"
   },
   {
    "duration": 3,
    "start_time": "2021-10-21T09:23:58.166Z"
   },
   {
    "duration": 56,
    "start_time": "2021-10-21T09:23:58.170Z"
   },
   {
    "duration": 16,
    "start_time": "2021-10-21T09:23:58.228Z"
   },
   {
    "duration": 20,
    "start_time": "2021-10-21T09:23:58.247Z"
   },
   {
    "duration": 11,
    "start_time": "2021-10-21T09:23:58.269Z"
   },
   {
    "duration": 7,
    "start_time": "2021-10-21T09:23:58.281Z"
   },
   {
    "duration": 13,
    "start_time": "2021-10-21T09:23:58.290Z"
   },
   {
    "duration": 4,
    "start_time": "2021-10-21T09:24:00.483Z"
   },
   {
    "duration": 4,
    "start_time": "2021-10-21T09:24:06.759Z"
   },
   {
    "duration": 7,
    "start_time": "2021-10-21T09:26:18.099Z"
   },
   {
    "duration": 272,
    "start_time": "2021-10-21T09:26:44.615Z"
   },
   {
    "duration": 8,
    "start_time": "2021-10-21T09:29:14.422Z"
   },
   {
    "duration": 278,
    "start_time": "2021-10-21T09:31:52.759Z"
   },
   {
    "duration": 6,
    "start_time": "2021-10-21T09:32:02.723Z"
   },
   {
    "duration": 6,
    "start_time": "2021-10-21T09:32:21.657Z"
   },
   {
    "duration": 323,
    "start_time": "2021-10-21T09:52:09.449Z"
   },
   {
    "duration": 5,
    "start_time": "2021-10-21T09:52:52.294Z"
   },
   {
    "duration": 6,
    "start_time": "2021-10-21T09:53:05.953Z"
   },
   {
    "duration": 6,
    "start_time": "2021-10-21T09:53:08.637Z"
   },
   {
    "duration": 5,
    "start_time": "2021-10-21T09:53:29.224Z"
   },
   {
    "duration": 4,
    "start_time": "2021-10-21T09:59:05.339Z"
   },
   {
    "duration": 7,
    "start_time": "2021-10-21T09:59:59.432Z"
   },
   {
    "duration": 7,
    "start_time": "2021-10-21T10:00:17.713Z"
   },
   {
    "duration": 8,
    "start_time": "2021-10-21T10:01:12.383Z"
   },
   {
    "duration": -812,
    "start_time": "2021-10-21T10:02:03.207Z"
   },
   {
    "duration": 6,
    "start_time": "2021-10-21T10:02:04.257Z"
   },
   {
    "duration": 6,
    "start_time": "2021-10-21T10:04:14.186Z"
   },
   {
    "duration": 5,
    "start_time": "2021-10-21T10:04:15.909Z"
   },
   {
    "duration": 11,
    "start_time": "2021-10-21T10:14:55.701Z"
   },
   {
    "duration": 5,
    "start_time": "2021-10-21T10:29:11.240Z"
   },
   {
    "duration": 4,
    "start_time": "2021-10-21T10:32:10.799Z"
   },
   {
    "duration": 295,
    "start_time": "2021-10-21T10:32:39.503Z"
   },
   {
    "duration": 265,
    "start_time": "2021-10-21T10:32:57.901Z"
   },
   {
    "duration": 3,
    "start_time": "2021-10-21T10:33:02.344Z"
   },
   {
    "duration": 82,
    "start_time": "2021-10-21T10:33:02.349Z"
   },
   {
    "duration": 27,
    "start_time": "2021-10-21T10:33:02.434Z"
   },
   {
    "duration": 22,
    "start_time": "2021-10-21T10:33:02.464Z"
   },
   {
    "duration": 16,
    "start_time": "2021-10-21T10:33:02.488Z"
   },
   {
    "duration": 12,
    "start_time": "2021-10-21T10:33:02.506Z"
   },
   {
    "duration": 30,
    "start_time": "2021-10-21T10:33:02.521Z"
   },
   {
    "duration": 5,
    "start_time": "2021-10-21T10:33:02.554Z"
   },
   {
    "duration": 5,
    "start_time": "2021-10-21T10:33:05.285Z"
   },
   {
    "duration": 5,
    "start_time": "2021-10-21T10:33:26.737Z"
   },
   {
    "duration": 5,
    "start_time": "2021-10-21T10:33:40.258Z"
   },
   {
    "duration": 7,
    "start_time": "2021-10-21T10:35:15.074Z"
   },
   {
    "duration": 5,
    "start_time": "2021-10-21T10:35:25.642Z"
   },
   {
    "duration": 5,
    "start_time": "2021-10-21T10:35:27.306Z"
   },
   {
    "duration": 8,
    "start_time": "2021-10-21T10:38:51.444Z"
   },
   {
    "duration": 4,
    "start_time": "2021-10-21T10:44:17.092Z"
   },
   {
    "duration": 6,
    "start_time": "2021-10-21T10:44:25.106Z"
   },
   {
    "duration": 6,
    "start_time": "2021-10-21T10:44:46.182Z"
   },
   {
    "duration": 715,
    "start_time": "2021-10-21T10:45:14.684Z"
   },
   {
    "duration": 75,
    "start_time": "2021-10-21T10:45:15.402Z"
   },
   {
    "duration": 35,
    "start_time": "2021-10-21T10:45:15.480Z"
   },
   {
    "duration": 21,
    "start_time": "2021-10-21T10:45:15.517Z"
   },
   {
    "duration": 15,
    "start_time": "2021-10-21T10:45:15.544Z"
   },
   {
    "duration": 6,
    "start_time": "2021-10-21T10:45:15.561Z"
   },
   {
    "duration": 10,
    "start_time": "2021-10-21T10:45:15.569Z"
   },
   {
    "duration": 12,
    "start_time": "2021-10-21T10:45:15.582Z"
   },
   {
    "duration": 402,
    "start_time": "2021-10-21T10:45:15.596Z"
   },
   {
    "duration": -861,
    "start_time": "2021-10-21T10:45:16.862Z"
   },
   {
    "duration": -862,
    "start_time": "2021-10-21T10:45:16.865Z"
   },
   {
    "duration": -874,
    "start_time": "2021-10-21T10:45:16.878Z"
   },
   {
    "duration": 4,
    "start_time": "2021-10-21T10:47:34.671Z"
   },
   {
    "duration": 5,
    "start_time": "2021-10-21T10:47:36.960Z"
   },
   {
    "duration": 4,
    "start_time": "2021-10-21T10:50:02.723Z"
   },
   {
    "duration": 5,
    "start_time": "2021-10-21T10:50:05.286Z"
   },
   {
    "duration": 4,
    "start_time": "2021-10-21T10:50:19.635Z"
   },
   {
    "duration": 6,
    "start_time": "2021-10-21T10:50:22.190Z"
   },
   {
    "duration": 4,
    "start_time": "2021-10-21T10:50:29.930Z"
   },
   {
    "duration": 6,
    "start_time": "2021-10-21T10:50:32.030Z"
   },
   {
    "duration": 611,
    "start_time": "2021-10-21T10:50:38.464Z"
   },
   {
    "duration": 53,
    "start_time": "2021-10-21T10:50:39.077Z"
   },
   {
    "duration": 23,
    "start_time": "2021-10-21T10:50:39.133Z"
   },
   {
    "duration": 11,
    "start_time": "2021-10-21T10:50:39.158Z"
   },
   {
    "duration": 19,
    "start_time": "2021-10-21T10:50:39.171Z"
   },
   {
    "duration": 15,
    "start_time": "2021-10-21T10:50:39.192Z"
   },
   {
    "duration": 25,
    "start_time": "2021-10-21T10:50:39.210Z"
   },
   {
    "duration": 15,
    "start_time": "2021-10-21T10:50:39.237Z"
   },
   {
    "duration": 380,
    "start_time": "2021-10-21T10:50:39.254Z"
   },
   {
    "duration": -855,
    "start_time": "2021-10-21T10:50:40.491Z"
   },
   {
    "duration": -857,
    "start_time": "2021-10-21T10:50:40.494Z"
   },
   {
    "duration": -857,
    "start_time": "2021-10-21T10:50:40.496Z"
   },
   {
    "duration": 584,
    "start_time": "2021-10-21T10:51:25.486Z"
   },
   {
    "duration": 55,
    "start_time": "2021-10-21T10:51:26.072Z"
   },
   {
    "duration": 25,
    "start_time": "2021-10-21T10:51:26.129Z"
   },
   {
    "duration": 12,
    "start_time": "2021-10-21T10:51:26.157Z"
   },
   {
    "duration": 12,
    "start_time": "2021-10-21T10:51:26.171Z"
   },
   {
    "duration": 5,
    "start_time": "2021-10-21T10:51:26.185Z"
   },
   {
    "duration": 7,
    "start_time": "2021-10-21T10:51:26.191Z"
   },
   {
    "duration": 49,
    "start_time": "2021-10-21T10:51:26.200Z"
   },
   {
    "duration": 4,
    "start_time": "2021-10-21T10:51:26.250Z"
   },
   {
    "duration": 10,
    "start_time": "2021-10-21T10:51:26.256Z"
   },
   {
    "duration": 6,
    "start_time": "2021-10-21T10:51:26.268Z"
   },
   {
    "duration": 8,
    "start_time": "2021-10-21T10:51:26.276Z"
   },
   {
    "duration": 5,
    "start_time": "2021-10-21T10:52:32.669Z"
   },
   {
    "duration": 5,
    "start_time": "2021-10-21T10:52:55.212Z"
   },
   {
    "duration": 778,
    "start_time": "2021-10-21T10:53:29.644Z"
   },
   {
    "duration": 52,
    "start_time": "2021-10-21T10:53:30.424Z"
   },
   {
    "duration": 23,
    "start_time": "2021-10-21T10:53:30.478Z"
   },
   {
    "duration": 15,
    "start_time": "2021-10-21T10:53:30.503Z"
   },
   {
    "duration": 25,
    "start_time": "2021-10-21T10:53:30.520Z"
   },
   {
    "duration": 5,
    "start_time": "2021-10-21T10:53:30.547Z"
   },
   {
    "duration": 18,
    "start_time": "2021-10-21T10:53:30.554Z"
   },
   {
    "duration": 4,
    "start_time": "2021-10-21T10:53:30.574Z"
   },
   {
    "duration": 9,
    "start_time": "2021-10-21T10:53:30.581Z"
   },
   {
    "duration": 13,
    "start_time": "2021-10-21T10:53:30.592Z"
   },
   {
    "duration": 7,
    "start_time": "2021-10-21T10:53:30.607Z"
   },
   {
    "duration": 5,
    "start_time": "2021-10-21T10:53:51.381Z"
   },
   {
    "duration": 4,
    "start_time": "2021-10-21T10:54:02.281Z"
   },
   {
    "duration": 4,
    "start_time": "2021-10-21T10:55:08.056Z"
   },
   {
    "duration": 5,
    "start_time": "2021-10-21T10:55:09.244Z"
   },
   {
    "duration": 359,
    "start_time": "2021-10-21T11:00:43.372Z"
   },
   {
    "duration": 300,
    "start_time": "2021-10-21T11:00:49.916Z"
   },
   {
    "duration": 11,
    "start_time": "2021-10-21T11:01:01.960Z"
   },
   {
    "duration": 4,
    "start_time": "2021-10-21T11:02:52.107Z"
   },
   {
    "duration": 5,
    "start_time": "2021-10-21T11:04:03.012Z"
   },
   {
    "duration": 627,
    "start_time": "2021-10-21T11:23:04.215Z"
   },
   {
    "duration": 54,
    "start_time": "2021-10-21T11:23:04.844Z"
   },
   {
    "duration": 23,
    "start_time": "2021-10-21T11:23:04.900Z"
   },
   {
    "duration": 30,
    "start_time": "2021-10-21T11:23:04.925Z"
   },
   {
    "duration": 25,
    "start_time": "2021-10-21T11:23:04.957Z"
   },
   {
    "duration": 6,
    "start_time": "2021-10-21T11:23:04.984Z"
   },
   {
    "duration": 19,
    "start_time": "2021-10-21T11:23:04.992Z"
   },
   {
    "duration": 338,
    "start_time": "2021-10-21T11:23:05.014Z"
   },
   {
    "duration": -877,
    "start_time": "2021-10-21T11:23:06.231Z"
   },
   {
    "duration": -892,
    "start_time": "2021-10-21T11:23:06.247Z"
   },
   {
    "duration": -898,
    "start_time": "2021-10-21T11:23:06.254Z"
   },
   {
    "duration": -909,
    "start_time": "2021-10-21T11:23:06.266Z"
   },
   {
    "duration": -921,
    "start_time": "2021-10-21T11:23:06.279Z"
   },
   {
    "duration": -925,
    "start_time": "2021-10-21T11:23:06.283Z"
   },
   {
    "duration": -938,
    "start_time": "2021-10-21T11:23:06.297Z"
   },
   {
    "duration": 6,
    "start_time": "2021-10-21T11:25:04.696Z"
   },
   {
    "duration": 10,
    "start_time": "2021-10-21T11:25:30.119Z"
   },
   {
    "duration": 13,
    "start_time": "2021-10-21T11:27:35.228Z"
   },
   {
    "duration": 8,
    "start_time": "2021-10-21T11:32:27.309Z"
   },
   {
    "duration": 7,
    "start_time": "2021-10-21T11:32:40.866Z"
   },
   {
    "duration": 15,
    "start_time": "2021-10-21T11:33:22.685Z"
   },
   {
    "duration": 14,
    "start_time": "2021-10-21T11:33:29.567Z"
   },
   {
    "duration": 5,
    "start_time": "2021-10-21T13:22:10.344Z"
   },
   {
    "duration": 267,
    "start_time": "2021-10-21T13:24:17.656Z"
   },
   {
    "duration": 20,
    "start_time": "2021-10-21T13:24:27.757Z"
   },
   {
    "duration": 21,
    "start_time": "2021-10-21T13:24:45.035Z"
   },
   {
    "duration": 15,
    "start_time": "2021-10-21T13:25:46.296Z"
   },
   {
    "duration": 13,
    "start_time": "2021-10-21T13:33:16.488Z"
   },
   {
    "duration": 12,
    "start_time": "2021-10-21T13:34:04.862Z"
   },
   {
    "duration": 6,
    "start_time": "2021-10-21T13:37:55.208Z"
   },
   {
    "duration": 277,
    "start_time": "2021-10-21T13:41:06.979Z"
   },
   {
    "duration": 356,
    "start_time": "2021-10-21T13:41:21.022Z"
   },
   {
    "duration": 274,
    "start_time": "2021-10-21T13:42:12.373Z"
   },
   {
    "duration": 274,
    "start_time": "2021-10-21T13:44:57.627Z"
   },
   {
    "duration": 691,
    "start_time": "2021-10-21T13:45:30.539Z"
   },
   {
    "duration": 593,
    "start_time": "2021-10-21T13:45:40.603Z"
   },
   {
    "duration": 54,
    "start_time": "2021-10-21T13:45:41.198Z"
   },
   {
    "duration": 23,
    "start_time": "2021-10-21T13:45:41.254Z"
   },
   {
    "duration": 27,
    "start_time": "2021-10-21T13:45:41.278Z"
   },
   {
    "duration": 30,
    "start_time": "2021-10-21T13:45:41.307Z"
   },
   {
    "duration": 22,
    "start_time": "2021-10-21T13:45:41.339Z"
   },
   {
    "duration": 21,
    "start_time": "2021-10-21T13:45:41.363Z"
   },
   {
    "duration": 18,
    "start_time": "2021-10-21T13:45:41.386Z"
   },
   {
    "duration": 36,
    "start_time": "2021-10-21T13:45:41.406Z"
   },
   {
    "duration": 15,
    "start_time": "2021-10-21T13:45:41.444Z"
   },
   {
    "duration": 20,
    "start_time": "2021-10-21T13:45:41.461Z"
   },
   {
    "duration": 22,
    "start_time": "2021-10-21T13:45:41.482Z"
   },
   {
    "duration": 11,
    "start_time": "2021-10-21T13:45:41.506Z"
   },
   {
    "duration": 18,
    "start_time": "2021-10-21T13:45:41.519Z"
   },
   {
    "duration": 29,
    "start_time": "2021-10-21T13:45:41.539Z"
   },
   {
    "duration": 11,
    "start_time": "2021-10-21T13:45:41.570Z"
   },
   {
    "duration": 29,
    "start_time": "2021-10-21T13:45:41.583Z"
   },
   {
    "duration": 10,
    "start_time": "2021-10-21T13:46:08.107Z"
   },
   {
    "duration": 6,
    "start_time": "2021-10-21T13:46:21.284Z"
   },
   {
    "duration": 6,
    "start_time": "2021-10-21T13:47:15.870Z"
   },
   {
    "duration": 7,
    "start_time": "2021-10-21T13:47:40.939Z"
   },
   {
    "duration": 11,
    "start_time": "2021-10-21T13:48:48.361Z"
   },
   {
    "duration": 15,
    "start_time": "2021-10-21T13:49:18.203Z"
   },
   {
    "duration": 10,
    "start_time": "2021-10-21T13:49:24.666Z"
   },
   {
    "duration": 678,
    "start_time": "2021-10-21T13:49:30.259Z"
   },
   {
    "duration": 55,
    "start_time": "2021-10-21T13:49:30.939Z"
   },
   {
    "duration": 24,
    "start_time": "2021-10-21T13:49:30.996Z"
   },
   {
    "duration": 22,
    "start_time": "2021-10-21T13:49:31.023Z"
   },
   {
    "duration": 13,
    "start_time": "2021-10-21T13:49:31.047Z"
   },
   {
    "duration": 7,
    "start_time": "2021-10-21T13:49:31.062Z"
   },
   {
    "duration": 10,
    "start_time": "2021-10-21T13:49:31.071Z"
   },
   {
    "duration": 13,
    "start_time": "2021-10-21T13:49:31.084Z"
   },
   {
    "duration": 8,
    "start_time": "2021-10-21T13:49:31.098Z"
   },
   {
    "duration": 9,
    "start_time": "2021-10-21T13:49:31.107Z"
   },
   {
    "duration": 6,
    "start_time": "2021-10-21T13:49:31.145Z"
   },
   {
    "duration": 9,
    "start_time": "2021-10-21T13:49:31.153Z"
   },
   {
    "duration": 13,
    "start_time": "2021-10-21T13:49:31.163Z"
   },
   {
    "duration": 13,
    "start_time": "2021-10-21T13:49:31.178Z"
   },
   {
    "duration": 19,
    "start_time": "2021-10-21T13:49:31.193Z"
   },
   {
    "duration": 14,
    "start_time": "2021-10-21T13:49:31.214Z"
   },
   {
    "duration": 30,
    "start_time": "2021-10-21T13:49:31.230Z"
   },
   {
    "duration": 5,
    "start_time": "2021-10-21T13:49:31.262Z"
   },
   {
    "duration": 25,
    "start_time": "2021-10-21T13:49:31.269Z"
   },
   {
    "duration": 3,
    "start_time": "2021-10-21T13:54:53.471Z"
   },
   {
    "duration": 5,
    "start_time": "2021-10-21T13:55:07.937Z"
   },
   {
    "duration": 5,
    "start_time": "2021-10-21T13:57:31.462Z"
   },
   {
    "duration": 3,
    "start_time": "2021-10-21T13:57:33.699Z"
   },
   {
    "duration": 5,
    "start_time": "2021-10-21T13:57:36.599Z"
   },
   {
    "duration": 33,
    "start_time": "2021-10-21T13:59:35.103Z"
   },
   {
    "duration": 572,
    "start_time": "2021-10-21T14:00:01.085Z"
   },
   {
    "duration": 53,
    "start_time": "2021-10-21T14:00:01.659Z"
   },
   {
    "duration": 24,
    "start_time": "2021-10-21T14:00:01.713Z"
   },
   {
    "duration": 35,
    "start_time": "2021-10-21T14:00:01.738Z"
   },
   {
    "duration": 44,
    "start_time": "2021-10-21T14:00:01.775Z"
   },
   {
    "duration": 23,
    "start_time": "2021-10-21T14:00:01.820Z"
   },
   {
    "duration": 34,
    "start_time": "2021-10-21T14:00:01.845Z"
   },
   {
    "duration": 49,
    "start_time": "2021-10-21T14:00:01.882Z"
   },
   {
    "duration": 17,
    "start_time": "2021-10-21T14:00:01.933Z"
   },
   {
    "duration": 19,
    "start_time": "2021-10-21T14:00:01.952Z"
   },
   {
    "duration": 19,
    "start_time": "2021-10-21T14:00:01.973Z"
   },
   {
    "duration": 16,
    "start_time": "2021-10-21T14:00:01.994Z"
   },
   {
    "duration": 36,
    "start_time": "2021-10-21T14:00:02.011Z"
   },
   {
    "duration": 35,
    "start_time": "2021-10-21T14:00:02.049Z"
   },
   {
    "duration": 18,
    "start_time": "2021-10-21T14:00:02.085Z"
   },
   {
    "duration": 64,
    "start_time": "2021-10-21T14:00:02.104Z"
   },
   {
    "duration": 10,
    "start_time": "2021-10-21T14:00:02.170Z"
   },
   {
    "duration": 23,
    "start_time": "2021-10-21T14:00:02.182Z"
   },
   {
    "duration": 39,
    "start_time": "2021-10-21T14:00:02.207Z"
   },
   {
    "duration": 33,
    "start_time": "2021-10-21T14:00:02.247Z"
   },
   {
    "duration": 4,
    "start_time": "2021-10-21T14:00:02.282Z"
   },
   {
    "duration": 18,
    "start_time": "2021-10-21T14:00:02.287Z"
   },
   {
    "duration": 11,
    "start_time": "2021-10-21T14:00:02.308Z"
   },
   {
    "duration": 24,
    "start_time": "2021-10-21T14:01:51.236Z"
   },
   {
    "duration": 15,
    "start_time": "2021-10-21T14:04:05.770Z"
   },
   {
    "duration": 24,
    "start_time": "2021-10-21T14:04:10.187Z"
   },
   {
    "duration": 94,
    "start_time": "2021-10-21T14:05:26.879Z"
   },
   {
    "duration": 21,
    "start_time": "2021-10-21T14:07:08.550Z"
   },
   {
    "duration": 19,
    "start_time": "2021-10-21T14:07:18.114Z"
   },
   {
    "duration": 87,
    "start_time": "2021-10-21T14:07:48.473Z"
   },
   {
    "duration": 25,
    "start_time": "2021-10-21T14:07:55.095Z"
   },
   {
    "duration": 5,
    "start_time": "2021-10-21T14:13:34.336Z"
   },
   {
    "duration": 11,
    "start_time": "2021-10-21T14:13:44.923Z"
   },
   {
    "duration": 584,
    "start_time": "2021-10-21T14:14:25.768Z"
   },
   {
    "duration": 55,
    "start_time": "2021-10-21T14:14:26.354Z"
   },
   {
    "duration": 22,
    "start_time": "2021-10-21T14:14:26.411Z"
   },
   {
    "duration": 14,
    "start_time": "2021-10-21T14:14:26.435Z"
   },
   {
    "duration": 10,
    "start_time": "2021-10-21T14:14:26.450Z"
   },
   {
    "duration": 5,
    "start_time": "2021-10-21T14:14:26.462Z"
   },
   {
    "duration": 13,
    "start_time": "2021-10-21T14:14:26.469Z"
   },
   {
    "duration": 6,
    "start_time": "2021-10-21T14:14:26.484Z"
   },
   {
    "duration": 7,
    "start_time": "2021-10-21T14:14:26.492Z"
   },
   {
    "duration": 54,
    "start_time": "2021-10-21T14:14:26.500Z"
   },
   {
    "duration": 5,
    "start_time": "2021-10-21T14:14:26.555Z"
   },
   {
    "duration": 7,
    "start_time": "2021-10-21T14:14:26.562Z"
   },
   {
    "duration": 6,
    "start_time": "2021-10-21T14:14:26.571Z"
   },
   {
    "duration": 8,
    "start_time": "2021-10-21T14:14:26.578Z"
   },
   {
    "duration": 6,
    "start_time": "2021-10-21T14:14:26.587Z"
   },
   {
    "duration": 7,
    "start_time": "2021-10-21T14:14:26.594Z"
   },
   {
    "duration": 5,
    "start_time": "2021-10-21T14:14:26.602Z"
   },
   {
    "duration": 37,
    "start_time": "2021-10-21T14:14:26.608Z"
   },
   {
    "duration": 3,
    "start_time": "2021-10-21T14:14:26.647Z"
   },
   {
    "duration": 11,
    "start_time": "2021-10-21T14:14:26.652Z"
   },
   {
    "duration": 17,
    "start_time": "2021-10-21T14:14:26.665Z"
   },
   {
    "duration": 22,
    "start_time": "2021-10-21T14:14:26.684Z"
   },
   {
    "duration": 7817,
    "start_time": "2021-10-21T14:14:26.709Z"
   },
   {
    "duration": -978,
    "start_time": "2021-10-21T14:14:35.506Z"
   },
   {
    "duration": -989,
    "start_time": "2021-10-21T14:14:35.518Z"
   },
   {
    "duration": -992,
    "start_time": "2021-10-21T14:14:35.523Z"
   },
   {
    "duration": 750,
    "start_time": "2021-10-21T14:20:02.332Z"
   },
   {
    "duration": 74,
    "start_time": "2021-10-21T14:20:03.084Z"
   },
   {
    "duration": 35,
    "start_time": "2021-10-21T14:20:03.160Z"
   },
   {
    "duration": 19,
    "start_time": "2021-10-21T14:20:03.197Z"
   },
   {
    "duration": 28,
    "start_time": "2021-10-21T14:20:03.217Z"
   },
   {
    "duration": 5,
    "start_time": "2021-10-21T14:20:03.246Z"
   },
   {
    "duration": 17,
    "start_time": "2021-10-21T14:20:03.253Z"
   },
   {
    "duration": 32,
    "start_time": "2021-10-21T14:20:03.272Z"
   },
   {
    "duration": 18,
    "start_time": "2021-10-21T14:20:03.306Z"
   },
   {
    "duration": 33,
    "start_time": "2021-10-21T14:20:03.325Z"
   },
   {
    "duration": 16,
    "start_time": "2021-10-21T14:20:03.360Z"
   },
   {
    "duration": 17,
    "start_time": "2021-10-21T14:20:03.378Z"
   },
   {
    "duration": 14,
    "start_time": "2021-10-21T14:20:03.396Z"
   },
   {
    "duration": 20,
    "start_time": "2021-10-21T14:20:03.412Z"
   },
   {
    "duration": 27,
    "start_time": "2021-10-21T14:20:03.433Z"
   },
   {
    "duration": 17,
    "start_time": "2021-10-21T14:20:03.462Z"
   },
   {
    "duration": 16,
    "start_time": "2021-10-21T14:20:03.481Z"
   },
   {
    "duration": 19,
    "start_time": "2021-10-21T14:20:03.499Z"
   },
   {
    "duration": 14,
    "start_time": "2021-10-21T14:20:03.519Z"
   },
   {
    "duration": 19,
    "start_time": "2021-10-21T14:20:03.535Z"
   },
   {
    "duration": 30,
    "start_time": "2021-10-21T14:20:03.555Z"
   },
   {
    "duration": 22,
    "start_time": "2021-10-21T14:20:03.586Z"
   },
   {
    "duration": 10091,
    "start_time": "2021-10-21T14:20:03.611Z"
   },
   {
    "duration": -951,
    "start_time": "2021-10-21T14:20:14.655Z"
   },
   {
    "duration": -956,
    "start_time": "2021-10-21T14:20:14.661Z"
   },
   {
    "duration": -961,
    "start_time": "2021-10-21T14:20:14.667Z"
   },
   {
    "duration": 5,
    "start_time": "2021-10-21T14:25:02.814Z"
   },
   {
    "duration": 6,
    "start_time": "2021-10-21T14:25:04.343Z"
   },
   {
    "duration": 5,
    "start_time": "2021-10-21T14:27:57.702Z"
   },
   {
    "duration": 21,
    "start_time": "2021-10-21T14:35:25.131Z"
   },
   {
    "duration": 6,
    "start_time": "2021-10-21T14:35:45.030Z"
   },
   {
    "duration": 19,
    "start_time": "2021-10-21T14:35:54.127Z"
   },
   {
    "duration": 8,
    "start_time": "2021-10-21T14:36:04.885Z"
   },
   {
    "duration": 5,
    "start_time": "2021-10-21T14:36:12.789Z"
   },
   {
    "duration": 20,
    "start_time": "2021-10-21T14:36:54.205Z"
   },
   {
    "duration": 97,
    "start_time": "2021-10-21T14:38:37.521Z"
   },
   {
    "duration": 281,
    "start_time": "2021-10-21T14:38:44.989Z"
   },
   {
    "duration": 92,
    "start_time": "2021-10-21T14:39:21.823Z"
   },
   {
    "duration": 550,
    "start_time": "2021-10-21T14:39:28.313Z"
   },
   {
    "duration": 524,
    "start_time": "2021-10-21T14:40:37.083Z"
   },
   {
    "duration": 5,
    "start_time": "2021-10-21T14:40:42.005Z"
   },
   {
    "duration": 21,
    "start_time": "2021-10-21T14:41:24.480Z"
   },
   {
    "duration": 13,
    "start_time": "2021-10-21T14:41:32.968Z"
   },
   {
    "duration": 32,
    "start_time": "2021-10-21T14:42:24.484Z"
   },
   {
    "duration": 12,
    "start_time": "2021-10-21T14:42:41.496Z"
   },
   {
    "duration": 5,
    "start_time": "2021-10-21T14:44:58.008Z"
   },
   {
    "duration": 5,
    "start_time": "2021-10-21T14:45:31.177Z"
   },
   {
    "duration": 280,
    "start_time": "2021-10-21T14:47:04.313Z"
   },
   {
    "duration": 7,
    "start_time": "2021-10-21T14:47:18.483Z"
   },
   {
    "duration": 6,
    "start_time": "2021-10-21T14:47:42.363Z"
   },
   {
    "duration": 6,
    "start_time": "2021-10-21T14:51:00.943Z"
   },
   {
    "duration": 7,
    "start_time": "2021-10-21T14:51:02.072Z"
   },
   {
    "duration": 7,
    "start_time": "2021-10-21T14:51:41.441Z"
   },
   {
    "duration": 6,
    "start_time": "2021-10-21T14:53:00.607Z"
   },
   {
    "duration": 4,
    "start_time": "2021-10-21T15:12:02.458Z"
   },
   {
    "duration": 6,
    "start_time": "2021-10-21T15:12:03.906Z"
   },
   {
    "duration": 8,
    "start_time": "2021-10-21T15:14:05.758Z"
   },
   {
    "duration": 546,
    "start_time": "2021-10-21T15:14:12.101Z"
   },
   {
    "duration": 53,
    "start_time": "2021-10-21T15:14:12.649Z"
   },
   {
    "duration": 24,
    "start_time": "2021-10-21T15:14:12.704Z"
   },
   {
    "duration": 20,
    "start_time": "2021-10-21T15:14:12.730Z"
   },
   {
    "duration": 27,
    "start_time": "2021-10-21T15:14:12.752Z"
   },
   {
    "duration": 14,
    "start_time": "2021-10-21T15:14:12.781Z"
   },
   {
    "duration": 26,
    "start_time": "2021-10-21T15:14:12.797Z"
   },
   {
    "duration": 6,
    "start_time": "2021-10-21T15:14:12.826Z"
   },
   {
    "duration": 8,
    "start_time": "2021-10-21T15:14:12.834Z"
   },
   {
    "duration": 13,
    "start_time": "2021-10-21T15:14:12.844Z"
   },
   {
    "duration": 6,
    "start_time": "2021-10-21T15:14:12.859Z"
   },
   {
    "duration": 5,
    "start_time": "2021-10-21T15:14:12.867Z"
   },
   {
    "duration": 6,
    "start_time": "2021-10-21T15:14:12.874Z"
   },
   {
    "duration": 6,
    "start_time": "2021-10-21T15:14:12.882Z"
   },
   {
    "duration": 4,
    "start_time": "2021-10-21T15:14:12.890Z"
   },
   {
    "duration": 7,
    "start_time": "2021-10-21T15:14:12.895Z"
   },
   {
    "duration": 4,
    "start_time": "2021-10-21T15:14:12.944Z"
   },
   {
    "duration": 6,
    "start_time": "2021-10-21T15:14:12.950Z"
   },
   {
    "duration": 4,
    "start_time": "2021-10-21T15:14:12.958Z"
   },
   {
    "duration": 7,
    "start_time": "2021-10-21T15:14:12.964Z"
   },
   {
    "duration": 7,
    "start_time": "2021-10-21T15:14:12.973Z"
   },
   {
    "duration": 7,
    "start_time": "2021-10-21T15:14:12.982Z"
   },
   {
    "duration": 4,
    "start_time": "2021-10-21T15:14:12.993Z"
   },
   {
    "duration": 55,
    "start_time": "2021-10-21T15:14:12.999Z"
   },
   {
    "duration": 4,
    "start_time": "2021-10-21T15:14:13.056Z"
   },
   {
    "duration": 6,
    "start_time": "2021-10-21T15:14:13.062Z"
   },
   {
    "duration": 8,
    "start_time": "2021-10-21T15:14:13.070Z"
   },
   {
    "duration": 5,
    "start_time": "2021-10-21T15:14:13.080Z"
   },
   {
    "duration": 15,
    "start_time": "2021-10-21T15:14:13.086Z"
   },
   {
    "duration": 44,
    "start_time": "2021-10-21T15:14:13.103Z"
   },
   {
    "duration": 21,
    "start_time": "2021-10-21T15:14:13.149Z"
   },
   {
    "duration": 7,
    "start_time": "2021-10-21T15:14:13.172Z"
   },
   {
    "duration": 6,
    "start_time": "2021-10-21T15:25:39.092Z"
   },
   {
    "duration": 5,
    "start_time": "2021-10-21T15:25:56.744Z"
   },
   {
    "duration": 5,
    "start_time": "2021-10-21T15:26:29.296Z"
   },
   {
    "duration": 6,
    "start_time": "2021-10-21T15:27:26.645Z"
   },
   {
    "duration": 12,
    "start_time": "2021-10-21T15:27:44.097Z"
   },
   {
    "duration": 7,
    "start_time": "2021-10-21T15:28:40.834Z"
   },
   {
    "duration": 6,
    "start_time": "2021-10-21T15:29:03.988Z"
   },
   {
    "duration": 319,
    "start_time": "2021-10-21T15:29:13.967Z"
   },
   {
    "duration": 6,
    "start_time": "2021-10-21T15:30:37.050Z"
   },
   {
    "duration": 6,
    "start_time": "2021-10-21T15:30:46.747Z"
   },
   {
    "duration": 5,
    "start_time": "2021-10-21T15:30:56.192Z"
   },
   {
    "duration": 6,
    "start_time": "2021-10-21T15:31:21.121Z"
   },
   {
    "duration": 5,
    "start_time": "2021-10-21T15:31:26.386Z"
   },
   {
    "duration": 641,
    "start_time": "2021-10-21T15:33:54.054Z"
   },
   {
    "duration": 62,
    "start_time": "2021-10-21T15:33:54.697Z"
   },
   {
    "duration": 22,
    "start_time": "2021-10-21T15:33:54.761Z"
   },
   {
    "duration": 10,
    "start_time": "2021-10-21T15:33:54.785Z"
   },
   {
    "duration": 10,
    "start_time": "2021-10-21T15:33:54.797Z"
   },
   {
    "duration": 4,
    "start_time": "2021-10-21T15:33:54.809Z"
   },
   {
    "duration": 38,
    "start_time": "2021-10-21T15:33:54.815Z"
   },
   {
    "duration": 6,
    "start_time": "2021-10-21T15:33:54.855Z"
   },
   {
    "duration": 6,
    "start_time": "2021-10-21T15:33:54.863Z"
   },
   {
    "duration": 11,
    "start_time": "2021-10-21T15:33:54.870Z"
   },
   {
    "duration": 6,
    "start_time": "2021-10-21T15:33:54.882Z"
   },
   {
    "duration": 4,
    "start_time": "2021-10-21T15:33:54.890Z"
   },
   {
    "duration": 6,
    "start_time": "2021-10-21T15:33:54.896Z"
   },
   {
    "duration": 5,
    "start_time": "2021-10-21T15:33:54.903Z"
   },
   {
    "duration": 3,
    "start_time": "2021-10-21T15:33:54.945Z"
   },
   {
    "duration": 6,
    "start_time": "2021-10-21T15:33:54.950Z"
   },
   {
    "duration": 6,
    "start_time": "2021-10-21T15:33:54.958Z"
   },
   {
    "duration": 6,
    "start_time": "2021-10-21T15:33:54.965Z"
   },
   {
    "duration": 4,
    "start_time": "2021-10-21T15:33:54.972Z"
   },
   {
    "duration": 4,
    "start_time": "2021-10-21T15:33:54.978Z"
   },
   {
    "duration": 3,
    "start_time": "2021-10-21T15:33:54.984Z"
   },
   {
    "duration": 9,
    "start_time": "2021-10-21T15:33:54.988Z"
   },
   {
    "duration": 5,
    "start_time": "2021-10-21T15:33:55.000Z"
   },
   {
    "duration": 41,
    "start_time": "2021-10-21T15:33:55.007Z"
   },
   {
    "duration": 4,
    "start_time": "2021-10-21T15:33:55.050Z"
   },
   {
    "duration": 14,
    "start_time": "2021-10-21T15:33:55.056Z"
   },
   {
    "duration": 3,
    "start_time": "2021-10-21T15:33:55.072Z"
   },
   {
    "duration": 8,
    "start_time": "2021-10-21T15:33:55.076Z"
   },
   {
    "duration": 8,
    "start_time": "2021-10-21T15:33:55.085Z"
   },
   {
    "duration": 5,
    "start_time": "2021-10-21T15:33:55.095Z"
   },
   {
    "duration": 12,
    "start_time": "2021-10-21T15:33:55.101Z"
   },
   {
    "duration": 41,
    "start_time": "2021-10-21T15:33:55.115Z"
   },
   {
    "duration": 19,
    "start_time": "2021-10-21T15:33:55.158Z"
   },
   {
    "duration": 5,
    "start_time": "2021-10-21T15:33:55.179Z"
   },
   {
    "duration": 10,
    "start_time": "2021-10-21T15:37:29.077Z"
   },
   {
    "duration": 5,
    "start_time": "2021-10-21T15:44:39.441Z"
   },
   {
    "duration": 12,
    "start_time": "2021-10-21T15:53:39.214Z"
   },
   {
    "duration": 7,
    "start_time": "2021-10-21T15:53:52.126Z"
   },
   {
    "duration": 12,
    "start_time": "2021-10-21T15:53:59.995Z"
   },
   {
    "duration": 9,
    "start_time": "2021-10-21T16:05:26.286Z"
   },
   {
    "duration": 575,
    "start_time": "2021-10-21T16:07:37.771Z"
   },
   {
    "duration": 51,
    "start_time": "2021-10-21T16:07:38.348Z"
   },
   {
    "duration": 22,
    "start_time": "2021-10-21T16:07:38.401Z"
   },
   {
    "duration": 19,
    "start_time": "2021-10-21T16:07:38.425Z"
   },
   {
    "duration": 10,
    "start_time": "2021-10-21T16:07:38.446Z"
   },
   {
    "duration": 5,
    "start_time": "2021-10-21T16:07:38.457Z"
   },
   {
    "duration": 10,
    "start_time": "2021-10-21T16:07:38.463Z"
   },
   {
    "duration": 11,
    "start_time": "2021-10-21T16:07:38.476Z"
   },
   {
    "duration": 7,
    "start_time": "2021-10-21T16:07:38.489Z"
   },
   {
    "duration": 6,
    "start_time": "2021-10-21T16:07:38.497Z"
   },
   {
    "duration": 13,
    "start_time": "2021-10-21T16:07:38.504Z"
   },
   {
    "duration": 5,
    "start_time": "2021-10-21T16:07:38.545Z"
   },
   {
    "duration": 4,
    "start_time": "2021-10-21T16:07:38.552Z"
   },
   {
    "duration": 6,
    "start_time": "2021-10-21T16:07:38.558Z"
   },
   {
    "duration": 14,
    "start_time": "2021-10-21T16:07:38.565Z"
   },
   {
    "duration": 6,
    "start_time": "2021-10-21T16:07:38.581Z"
   },
   {
    "duration": 20,
    "start_time": "2021-10-21T16:07:38.589Z"
   },
   {
    "duration": 9,
    "start_time": "2021-10-21T16:07:38.611Z"
   },
   {
    "duration": 28,
    "start_time": "2021-10-21T16:07:38.621Z"
   },
   {
    "duration": 7,
    "start_time": "2021-10-21T16:07:38.651Z"
   },
   {
    "duration": 14,
    "start_time": "2021-10-21T16:07:38.659Z"
   },
   {
    "duration": 7,
    "start_time": "2021-10-21T16:07:38.675Z"
   },
   {
    "duration": 12,
    "start_time": "2021-10-21T16:07:38.685Z"
   },
   {
    "duration": 9,
    "start_time": "2021-10-21T16:07:38.699Z"
   },
   {
    "duration": 7,
    "start_time": "2021-10-21T16:07:38.710Z"
   },
   {
    "duration": 4,
    "start_time": "2021-10-21T16:07:38.719Z"
   },
   {
    "duration": 4,
    "start_time": "2021-10-21T16:07:38.745Z"
   },
   {
    "duration": 10,
    "start_time": "2021-10-21T16:07:38.751Z"
   },
   {
    "duration": 6,
    "start_time": "2021-10-21T16:07:38.762Z"
   },
   {
    "duration": 4,
    "start_time": "2021-10-21T16:07:38.769Z"
   },
   {
    "duration": 18,
    "start_time": "2021-10-21T16:07:38.774Z"
   },
   {
    "duration": 4,
    "start_time": "2021-10-21T16:07:38.793Z"
   },
   {
    "duration": 14,
    "start_time": "2021-10-21T16:07:38.798Z"
   },
   {
    "duration": 32,
    "start_time": "2021-10-21T16:07:38.814Z"
   },
   {
    "duration": 4,
    "start_time": "2021-10-21T16:07:38.848Z"
   },
   {
    "duration": 10,
    "start_time": "2021-10-21T16:07:38.853Z"
   },
   {
    "duration": 22,
    "start_time": "2021-10-21T16:07:38.865Z"
   },
   {
    "duration": 21,
    "start_time": "2021-10-21T16:07:38.889Z"
   },
   {
    "duration": 34,
    "start_time": "2021-10-21T16:07:38.912Z"
   },
   {
    "duration": 100,
    "start_time": "2021-10-22T08:46:20.699Z"
   },
   {
    "duration": 108,
    "start_time": "2021-10-22T08:46:30.656Z"
   },
   {
    "duration": 338,
    "start_time": "2021-10-22T08:46:46.997Z"
   },
   {
    "duration": 735,
    "start_time": "2021-10-22T08:46:53.406Z"
   },
   {
    "duration": 62,
    "start_time": "2021-10-22T08:46:54.144Z"
   },
   {
    "duration": 48,
    "start_time": "2021-10-22T08:46:54.209Z"
   },
   {
    "duration": 30,
    "start_time": "2021-10-22T08:46:54.259Z"
   },
   {
    "duration": 14,
    "start_time": "2021-10-22T08:46:54.291Z"
   },
   {
    "duration": 6,
    "start_time": "2021-10-22T08:46:54.308Z"
   },
   {
    "duration": 13,
    "start_time": "2021-10-22T08:46:54.316Z"
   },
   {
    "duration": 55,
    "start_time": "2021-10-22T08:46:54.333Z"
   },
   {
    "duration": 7,
    "start_time": "2021-10-22T08:46:54.392Z"
   },
   {
    "duration": 7,
    "start_time": "2021-10-22T08:46:54.402Z"
   },
   {
    "duration": 11,
    "start_time": "2021-10-22T08:46:54.411Z"
   },
   {
    "duration": 8,
    "start_time": "2021-10-22T08:46:54.425Z"
   },
   {
    "duration": 10,
    "start_time": "2021-10-22T08:46:54.435Z"
   },
   {
    "duration": 6,
    "start_time": "2021-10-22T08:46:54.483Z"
   },
   {
    "duration": 19,
    "start_time": "2021-10-22T08:46:54.492Z"
   },
   {
    "duration": 8,
    "start_time": "2021-10-22T08:46:54.515Z"
   },
   {
    "duration": 56,
    "start_time": "2021-10-22T08:46:54.526Z"
   },
   {
    "duration": 8,
    "start_time": "2021-10-22T08:46:54.585Z"
   },
   {
    "duration": 19,
    "start_time": "2021-10-22T08:46:54.596Z"
   },
   {
    "duration": 10,
    "start_time": "2021-10-22T08:46:54.618Z"
   },
   {
    "duration": 60,
    "start_time": "2021-10-22T08:46:54.631Z"
   },
   {
    "duration": 9,
    "start_time": "2021-10-22T08:46:54.695Z"
   },
   {
    "duration": 24,
    "start_time": "2021-10-22T08:46:54.710Z"
   },
   {
    "duration": 5,
    "start_time": "2021-10-22T08:46:54.738Z"
   },
   {
    "duration": 10,
    "start_time": "2021-10-22T08:46:54.783Z"
   },
   {
    "duration": 6,
    "start_time": "2021-10-22T08:46:54.796Z"
   },
   {
    "duration": 7,
    "start_time": "2021-10-22T08:46:54.804Z"
   },
   {
    "duration": 8,
    "start_time": "2021-10-22T08:46:54.813Z"
   },
   {
    "duration": 62,
    "start_time": "2021-10-22T08:46:54.823Z"
   },
   {
    "duration": 5,
    "start_time": "2021-10-22T08:46:54.888Z"
   },
   {
    "duration": 9,
    "start_time": "2021-10-22T08:46:54.895Z"
   },
   {
    "duration": 8,
    "start_time": "2021-10-22T08:46:54.906Z"
   },
   {
    "duration": 5,
    "start_time": "2021-10-22T08:46:54.916Z"
   },
   {
    "duration": 8,
    "start_time": "2021-10-22T08:46:54.923Z"
   },
   {
    "duration": 63,
    "start_time": "2021-10-22T08:46:54.933Z"
   },
   {
    "duration": 32,
    "start_time": "2021-10-22T08:46:54.999Z"
   },
   {
    "duration": 7,
    "start_time": "2021-10-22T08:46:55.033Z"
   },
   {
    "duration": 344,
    "start_time": "2021-10-22T08:55:22.313Z"
   },
   {
    "duration": 7,
    "start_time": "2021-10-22T08:55:29.655Z"
   },
   {
    "duration": 20,
    "start_time": "2021-10-22T08:56:26.459Z"
   },
   {
    "duration": 8,
    "start_time": "2021-10-22T08:56:33.177Z"
   },
   {
    "duration": 16,
    "start_time": "2021-10-22T08:56:43.651Z"
   },
   {
    "duration": 10,
    "start_time": "2021-10-22T08:56:45.484Z"
   },
   {
    "duration": 12,
    "start_time": "2021-10-22T08:59:41.680Z"
   },
   {
    "duration": 764,
    "start_time": "2021-10-22T08:59:48.695Z"
   },
   {
    "duration": 70,
    "start_time": "2021-10-22T08:59:49.462Z"
   },
   {
    "duration": 47,
    "start_time": "2021-10-22T08:59:49.535Z"
   },
   {
    "duration": 17,
    "start_time": "2021-10-22T08:59:49.586Z"
   },
   {
    "duration": 19,
    "start_time": "2021-10-22T08:59:49.606Z"
   },
   {
    "duration": 6,
    "start_time": "2021-10-22T08:59:49.628Z"
   },
   {
    "duration": 11,
    "start_time": "2021-10-22T08:59:49.637Z"
   },
   {
    "duration": 18,
    "start_time": "2021-10-22T08:59:49.691Z"
   },
   {
    "duration": 7,
    "start_time": "2021-10-22T08:59:49.712Z"
   },
   {
    "duration": 7,
    "start_time": "2021-10-22T08:59:49.721Z"
   },
   {
    "duration": 8,
    "start_time": "2021-10-22T08:59:49.730Z"
   },
   {
    "duration": 6,
    "start_time": "2021-10-22T08:59:49.741Z"
   },
   {
    "duration": 34,
    "start_time": "2021-10-22T08:59:49.750Z"
   },
   {
    "duration": 7,
    "start_time": "2021-10-22T08:59:49.791Z"
   },
   {
    "duration": 15,
    "start_time": "2021-10-22T08:59:49.801Z"
   },
   {
    "duration": 7,
    "start_time": "2021-10-22T08:59:49.819Z"
   },
   {
    "duration": 61,
    "start_time": "2021-10-22T08:59:49.828Z"
   },
   {
    "duration": 7,
    "start_time": "2021-10-22T08:59:49.892Z"
   },
   {
    "duration": 18,
    "start_time": "2021-10-22T08:59:49.902Z"
   },
   {
    "duration": 7,
    "start_time": "2021-10-22T08:59:49.922Z"
   },
   {
    "duration": 6,
    "start_time": "2021-10-22T08:59:49.932Z"
   },
   {
    "duration": 57,
    "start_time": "2021-10-22T08:59:49.941Z"
   },
   {
    "duration": 7,
    "start_time": "2021-10-22T08:59:50.001Z"
   },
   {
    "duration": 11,
    "start_time": "2021-10-22T08:59:50.010Z"
   },
   {
    "duration": 8,
    "start_time": "2021-10-22T08:59:50.024Z"
   },
   {
    "duration": 31,
    "start_time": "2021-10-22T08:59:50.035Z"
   },
   {
    "duration": 25,
    "start_time": "2021-10-22T08:59:50.071Z"
   },
   {
    "duration": 26,
    "start_time": "2021-10-22T08:59:50.099Z"
   },
   {
    "duration": 4,
    "start_time": "2021-10-22T08:59:50.128Z"
   },
   {
    "duration": 11,
    "start_time": "2021-10-22T08:59:50.135Z"
   },
   {
    "duration": 43,
    "start_time": "2021-10-22T08:59:50.148Z"
   },
   {
    "duration": 7,
    "start_time": "2021-10-22T08:59:50.194Z"
   },
   {
    "duration": 10,
    "start_time": "2021-10-22T08:59:50.203Z"
   },
   {
    "duration": 10,
    "start_time": "2021-10-22T08:59:50.215Z"
   },
   {
    "duration": 16,
    "start_time": "2021-10-22T08:59:50.228Z"
   },
   {
    "duration": 45,
    "start_time": "2021-10-22T08:59:50.247Z"
   },
   {
    "duration": 23,
    "start_time": "2021-10-22T08:59:50.294Z"
   },
   {
    "duration": 31,
    "start_time": "2021-10-22T08:59:50.320Z"
   },
   {
    "duration": 33,
    "start_time": "2021-10-22T08:59:50.353Z"
   },
   {
    "duration": 25,
    "start_time": "2021-10-22T09:06:10.330Z"
   },
   {
    "duration": 25,
    "start_time": "2021-10-22T09:06:30.208Z"
   },
   {
    "duration": 24,
    "start_time": "2021-10-22T09:06:40.294Z"
   },
   {
    "duration": 22,
    "start_time": "2021-10-22T09:09:07.639Z"
   },
   {
    "duration": 13,
    "start_time": "2021-10-22T09:14:14.292Z"
   },
   {
    "duration": 774,
    "start_time": "2021-10-22T09:14:23.850Z"
   },
   {
    "duration": 67,
    "start_time": "2021-10-22T09:14:24.627Z"
   },
   {
    "duration": 38,
    "start_time": "2021-10-22T09:14:24.697Z"
   },
   {
    "duration": 17,
    "start_time": "2021-10-22T09:14:24.738Z"
   },
   {
    "duration": 20,
    "start_time": "2021-10-22T09:14:24.782Z"
   },
   {
    "duration": 7,
    "start_time": "2021-10-22T09:14:24.805Z"
   },
   {
    "duration": 10,
    "start_time": "2021-10-22T09:14:24.814Z"
   },
   {
    "duration": 55,
    "start_time": "2021-10-22T09:14:24.828Z"
   },
   {
    "duration": 8,
    "start_time": "2021-10-22T09:14:24.886Z"
   },
   {
    "duration": 8,
    "start_time": "2021-10-22T09:14:24.896Z"
   },
   {
    "duration": 13,
    "start_time": "2021-10-22T09:14:24.906Z"
   },
   {
    "duration": 7,
    "start_time": "2021-10-22T09:14:24.921Z"
   },
   {
    "duration": 6,
    "start_time": "2021-10-22T09:14:24.931Z"
   },
   {
    "duration": 45,
    "start_time": "2021-10-22T09:14:24.939Z"
   },
   {
    "duration": 23,
    "start_time": "2021-10-22T09:14:24.986Z"
   },
   {
    "duration": 7,
    "start_time": "2021-10-22T09:14:25.012Z"
   },
   {
    "duration": 9,
    "start_time": "2021-10-22T09:14:25.022Z"
   },
   {
    "duration": 9,
    "start_time": "2021-10-22T09:14:25.033Z"
   },
   {
    "duration": 51,
    "start_time": "2021-10-22T09:14:25.044Z"
   },
   {
    "duration": 10,
    "start_time": "2021-10-22T09:14:25.098Z"
   },
   {
    "duration": 12,
    "start_time": "2021-10-22T09:14:25.110Z"
   },
   {
    "duration": 23,
    "start_time": "2021-10-22T09:14:25.124Z"
   },
   {
    "duration": 33,
    "start_time": "2021-10-22T09:14:25.152Z"
   },
   {
    "duration": 9,
    "start_time": "2021-10-22T09:14:25.188Z"
   },
   {
    "duration": 9,
    "start_time": "2021-10-22T09:14:25.199Z"
   },
   {
    "duration": 13,
    "start_time": "2021-10-22T09:14:25.210Z"
   },
   {
    "duration": 13,
    "start_time": "2021-10-22T09:14:25.226Z"
   },
   {
    "duration": 49,
    "start_time": "2021-10-22T09:14:25.242Z"
   },
   {
    "duration": 5,
    "start_time": "2021-10-22T09:14:25.293Z"
   },
   {
    "duration": 14,
    "start_time": "2021-10-22T09:14:25.300Z"
   },
   {
    "duration": 15,
    "start_time": "2021-10-22T09:14:25.316Z"
   },
   {
    "duration": 6,
    "start_time": "2021-10-22T09:14:25.333Z"
   },
   {
    "duration": 9,
    "start_time": "2021-10-22T09:14:25.341Z"
   },
   {
    "duration": 30,
    "start_time": "2021-10-22T09:14:25.353Z"
   },
   {
    "duration": 10,
    "start_time": "2021-10-22T09:14:25.385Z"
   },
   {
    "duration": 19,
    "start_time": "2021-10-22T09:14:25.397Z"
   },
   {
    "duration": 11,
    "start_time": "2021-10-22T09:14:25.418Z"
   },
   {
    "duration": 59,
    "start_time": "2021-10-22T09:14:25.432Z"
   },
   {
    "duration": 31,
    "start_time": "2021-10-22T09:14:25.493Z"
   },
   {
    "duration": 23,
    "start_time": "2021-10-22T09:14:25.526Z"
   },
   {
    "duration": 36,
    "start_time": "2021-10-22T09:14:25.551Z"
   },
   {
    "duration": 11,
    "start_time": "2021-10-22T09:15:32.549Z"
   },
   {
    "duration": 37,
    "start_time": "2021-10-22T09:17:02.916Z"
   },
   {
    "duration": 10,
    "start_time": "2021-10-22T09:20:50.733Z"
   },
   {
    "duration": 8,
    "start_time": "2021-10-22T09:25:48.431Z"
   },
   {
    "duration": 783,
    "start_time": "2021-10-22T09:25:55.254Z"
   },
   {
    "duration": 62,
    "start_time": "2021-10-22T09:25:56.040Z"
   },
   {
    "duration": 36,
    "start_time": "2021-10-22T09:25:56.105Z"
   },
   {
    "duration": 38,
    "start_time": "2021-10-22T09:25:56.144Z"
   },
   {
    "duration": 20,
    "start_time": "2021-10-22T09:25:56.185Z"
   },
   {
    "duration": 7,
    "start_time": "2021-10-22T09:25:56.207Z"
   },
   {
    "duration": 12,
    "start_time": "2021-10-22T09:25:56.216Z"
   },
   {
    "duration": 54,
    "start_time": "2021-10-22T09:25:56.232Z"
   },
   {
    "duration": 7,
    "start_time": "2021-10-22T09:25:56.289Z"
   },
   {
    "duration": 9,
    "start_time": "2021-10-22T09:25:56.299Z"
   },
   {
    "duration": 8,
    "start_time": "2021-10-22T09:25:56.310Z"
   },
   {
    "duration": 9,
    "start_time": "2021-10-22T09:25:56.320Z"
   },
   {
    "duration": 5,
    "start_time": "2021-10-22T09:25:56.331Z"
   },
   {
    "duration": 48,
    "start_time": "2021-10-22T09:25:56.338Z"
   },
   {
    "duration": 21,
    "start_time": "2021-10-22T09:25:56.389Z"
   },
   {
    "duration": 6,
    "start_time": "2021-10-22T09:25:56.413Z"
   },
   {
    "duration": 7,
    "start_time": "2021-10-22T09:25:56.422Z"
   },
   {
    "duration": 10,
    "start_time": "2021-10-22T09:25:56.431Z"
   },
   {
    "duration": 54,
    "start_time": "2021-10-22T09:25:56.443Z"
   },
   {
    "duration": 10,
    "start_time": "2021-10-22T09:25:56.500Z"
   },
   {
    "duration": 7,
    "start_time": "2021-10-22T09:25:56.513Z"
   },
   {
    "duration": 18,
    "start_time": "2021-10-22T09:25:56.523Z"
   },
   {
    "duration": 5,
    "start_time": "2021-10-22T09:25:56.582Z"
   },
   {
    "duration": 13,
    "start_time": "2021-10-22T09:25:56.590Z"
   },
   {
    "duration": 12,
    "start_time": "2021-10-22T09:25:56.605Z"
   },
   {
    "duration": 8,
    "start_time": "2021-10-22T09:25:56.619Z"
   },
   {
    "duration": 11,
    "start_time": "2021-10-22T09:25:56.630Z"
   },
   {
    "duration": 47,
    "start_time": "2021-10-22T09:25:56.644Z"
   },
   {
    "duration": 5,
    "start_time": "2021-10-22T09:25:56.693Z"
   },
   {
    "duration": 10,
    "start_time": "2021-10-22T09:25:56.700Z"
   },
   {
    "duration": 8,
    "start_time": "2021-10-22T09:25:56.712Z"
   },
   {
    "duration": 4,
    "start_time": "2021-10-22T09:25:56.722Z"
   },
   {
    "duration": 8,
    "start_time": "2021-10-22T09:25:56.728Z"
   },
   {
    "duration": 52,
    "start_time": "2021-10-22T09:25:56.738Z"
   },
   {
    "duration": 19,
    "start_time": "2021-10-22T09:25:56.792Z"
   },
   {
    "duration": 12,
    "start_time": "2021-10-22T09:25:56.814Z"
   },
   {
    "duration": 12,
    "start_time": "2021-10-22T09:25:56.829Z"
   },
   {
    "duration": 12,
    "start_time": "2021-10-22T09:29:29.123Z"
   },
   {
    "duration": 951,
    "start_time": "2021-10-22T09:29:36.602Z"
   },
   {
    "duration": 85,
    "start_time": "2021-10-22T09:29:37.557Z"
   },
   {
    "duration": 55,
    "start_time": "2021-10-22T09:29:37.648Z"
   },
   {
    "duration": 23,
    "start_time": "2021-10-22T09:29:37.707Z"
   },
   {
    "duration": 49,
    "start_time": "2021-10-22T09:29:37.733Z"
   },
   {
    "duration": 10,
    "start_time": "2021-10-22T09:29:37.785Z"
   },
   {
    "duration": 11,
    "start_time": "2021-10-22T09:29:37.798Z"
   },
   {
    "duration": 21,
    "start_time": "2021-10-22T09:29:37.813Z"
   },
   {
    "duration": 46,
    "start_time": "2021-10-22T09:29:37.836Z"
   },
   {
    "duration": 10,
    "start_time": "2021-10-22T09:29:37.884Z"
   },
   {
    "duration": 12,
    "start_time": "2021-10-22T09:29:37.897Z"
   },
   {
    "duration": 10,
    "start_time": "2021-10-22T09:29:37.911Z"
   },
   {
    "duration": 6,
    "start_time": "2021-10-22T09:29:37.924Z"
   },
   {
    "duration": 51,
    "start_time": "2021-10-22T09:29:37.932Z"
   },
   {
    "duration": 15,
    "start_time": "2021-10-22T09:29:37.985Z"
   },
   {
    "duration": 7,
    "start_time": "2021-10-22T09:29:38.003Z"
   },
   {
    "duration": 8,
    "start_time": "2021-10-22T09:29:38.013Z"
   },
   {
    "duration": 15,
    "start_time": "2021-10-22T09:29:38.023Z"
   },
   {
    "duration": 64,
    "start_time": "2021-10-22T09:29:38.041Z"
   },
   {
    "duration": 10,
    "start_time": "2021-10-22T09:29:38.107Z"
   },
   {
    "duration": 9,
    "start_time": "2021-10-22T09:29:38.120Z"
   },
   {
    "duration": 53,
    "start_time": "2021-10-22T09:29:38.131Z"
   },
   {
    "duration": 8,
    "start_time": "2021-10-22T09:29:38.191Z"
   },
   {
    "duration": 9,
    "start_time": "2021-10-22T09:29:38.203Z"
   },
   {
    "duration": 5,
    "start_time": "2021-10-22T09:29:38.215Z"
   },
   {
    "duration": 9,
    "start_time": "2021-10-22T09:29:38.222Z"
   },
   {
    "duration": 13,
    "start_time": "2021-10-22T09:29:38.234Z"
   },
   {
    "duration": 20,
    "start_time": "2021-10-22T09:29:38.283Z"
   },
   {
    "duration": 5,
    "start_time": "2021-10-22T09:29:38.305Z"
   },
   {
    "duration": 13,
    "start_time": "2021-10-22T09:29:38.312Z"
   },
   {
    "duration": 56,
    "start_time": "2021-10-22T09:29:38.328Z"
   },
   {
    "duration": 4,
    "start_time": "2021-10-22T09:29:38.387Z"
   },
   {
    "duration": 14,
    "start_time": "2021-10-22T09:29:38.393Z"
   },
   {
    "duration": 13,
    "start_time": "2021-10-22T09:29:38.410Z"
   },
   {
    "duration": 15,
    "start_time": "2021-10-22T09:29:38.426Z"
   },
   {
    "duration": 44,
    "start_time": "2021-10-22T09:29:38.443Z"
   },
   {
    "duration": 8,
    "start_time": "2021-10-22T09:29:38.490Z"
   },
   {
    "duration": 13,
    "start_time": "2021-10-22T09:29:49.185Z"
   },
   {
    "duration": 797,
    "start_time": "2021-10-22T09:29:55.290Z"
   },
   {
    "duration": 64,
    "start_time": "2021-10-22T09:29:56.090Z"
   },
   {
    "duration": 41,
    "start_time": "2021-10-22T09:29:56.157Z"
   },
   {
    "duration": 24,
    "start_time": "2021-10-22T09:29:56.202Z"
   },
   {
    "duration": 54,
    "start_time": "2021-10-22T09:29:56.230Z"
   },
   {
    "duration": 10,
    "start_time": "2021-10-22T09:29:56.287Z"
   },
   {
    "duration": 15,
    "start_time": "2021-10-22T09:29:56.300Z"
   },
   {
    "duration": 25,
    "start_time": "2021-10-22T09:29:56.320Z"
   },
   {
    "duration": 11,
    "start_time": "2021-10-22T09:29:56.383Z"
   },
   {
    "duration": 9,
    "start_time": "2021-10-22T09:29:56.397Z"
   },
   {
    "duration": 12,
    "start_time": "2021-10-22T09:29:56.409Z"
   },
   {
    "duration": 8,
    "start_time": "2021-10-22T09:29:56.423Z"
   },
   {
    "duration": 49,
    "start_time": "2021-10-22T09:29:56.433Z"
   },
   {
    "duration": 6,
    "start_time": "2021-10-22T09:29:56.484Z"
   },
   {
    "duration": 15,
    "start_time": "2021-10-22T09:29:56.493Z"
   },
   {
    "duration": 6,
    "start_time": "2021-10-22T09:29:56.511Z"
   },
   {
    "duration": 8,
    "start_time": "2021-10-22T09:29:56.520Z"
   },
   {
    "duration": 63,
    "start_time": "2021-10-22T09:29:56.531Z"
   },
   {
    "duration": 20,
    "start_time": "2021-10-22T09:29:56.596Z"
   },
   {
    "duration": 9,
    "start_time": "2021-10-22T09:29:56.618Z"
   },
   {
    "duration": 15,
    "start_time": "2021-10-22T09:29:56.630Z"
   },
   {
    "duration": 46,
    "start_time": "2021-10-22T09:29:56.649Z"
   },
   {
    "duration": 5,
    "start_time": "2021-10-22T09:29:56.701Z"
   },
   {
    "duration": 6,
    "start_time": "2021-10-22T09:29:56.709Z"
   },
   {
    "duration": 6,
    "start_time": "2021-10-22T09:29:56.717Z"
   },
   {
    "duration": 8,
    "start_time": "2021-10-22T09:29:56.725Z"
   },
   {
    "duration": 50,
    "start_time": "2021-10-22T09:29:56.735Z"
   },
   {
    "duration": 38,
    "start_time": "2021-10-22T09:29:56.787Z"
   },
   {
    "duration": 5,
    "start_time": "2021-10-22T09:29:56.828Z"
   },
   {
    "duration": 10,
    "start_time": "2021-10-22T09:29:56.836Z"
   },
   {
    "duration": 47,
    "start_time": "2021-10-22T09:29:56.849Z"
   },
   {
    "duration": 6,
    "start_time": "2021-10-22T09:29:56.899Z"
   },
   {
    "duration": 10,
    "start_time": "2021-10-22T09:29:56.908Z"
   },
   {
    "duration": 15,
    "start_time": "2021-10-22T09:29:56.921Z"
   },
   {
    "duration": 66,
    "start_time": "2021-10-22T09:29:56.939Z"
   },
   {
    "duration": 17,
    "start_time": "2021-10-22T09:29:57.009Z"
   },
   {
    "duration": 11,
    "start_time": "2021-10-22T09:29:57.029Z"
   },
   {
    "duration": 746,
    "start_time": "2021-10-22T09:32:51.236Z"
   },
   {
    "duration": 64,
    "start_time": "2021-10-22T09:32:51.984Z"
   },
   {
    "duration": 41,
    "start_time": "2021-10-22T09:32:52.051Z"
   },
   {
    "duration": 15,
    "start_time": "2021-10-22T09:32:52.095Z"
   },
   {
    "duration": 13,
    "start_time": "2021-10-22T09:32:52.112Z"
   },
   {
    "duration": 6,
    "start_time": "2021-10-22T09:32:52.128Z"
   },
   {
    "duration": 47,
    "start_time": "2021-10-22T09:32:52.136Z"
   },
   {
    "duration": 18,
    "start_time": "2021-10-22T09:32:52.186Z"
   },
   {
    "duration": 7,
    "start_time": "2021-10-22T09:32:52.208Z"
   },
   {
    "duration": 8,
    "start_time": "2021-10-22T09:32:52.218Z"
   },
   {
    "duration": 53,
    "start_time": "2021-10-22T09:32:52.229Z"
   },
   {
    "duration": 8,
    "start_time": "2021-10-22T09:32:52.284Z"
   },
   {
    "duration": 5,
    "start_time": "2021-10-22T09:32:52.294Z"
   },
   {
    "duration": 9,
    "start_time": "2021-10-22T09:32:52.301Z"
   },
   {
    "duration": 19,
    "start_time": "2021-10-22T09:32:52.312Z"
   },
   {
    "duration": 7,
    "start_time": "2021-10-22T09:32:52.334Z"
   },
   {
    "duration": 8,
    "start_time": "2021-10-22T09:32:52.382Z"
   },
   {
    "duration": 9,
    "start_time": "2021-10-22T09:32:52.392Z"
   },
   {
    "duration": 26,
    "start_time": "2021-10-22T09:32:52.403Z"
   },
   {
    "duration": 11,
    "start_time": "2021-10-22T09:32:52.431Z"
   },
   {
    "duration": 10,
    "start_time": "2021-10-22T09:32:52.444Z"
   },
   {
    "duration": 22,
    "start_time": "2021-10-22T09:32:52.484Z"
   },
   {
    "duration": 10,
    "start_time": "2021-10-22T09:32:52.509Z"
   },
   {
    "duration": 13,
    "start_time": "2021-10-22T09:32:52.521Z"
   },
   {
    "duration": 6,
    "start_time": "2021-10-22T09:32:52.537Z"
   },
   {
    "duration": 39,
    "start_time": "2021-10-22T09:32:52.545Z"
   },
   {
    "duration": 8,
    "start_time": "2021-10-22T09:32:52.590Z"
   },
   {
    "duration": 19,
    "start_time": "2021-10-22T09:32:52.601Z"
   },
   {
    "duration": 5,
    "start_time": "2021-10-22T09:32:52.623Z"
   },
   {
    "duration": 10,
    "start_time": "2021-10-22T09:32:52.630Z"
   },
   {
    "duration": 20,
    "start_time": "2021-10-22T09:32:52.683Z"
   },
   {
    "duration": 5,
    "start_time": "2021-10-22T09:32:52.706Z"
   },
   {
    "duration": 8,
    "start_time": "2021-10-22T09:32:52.714Z"
   },
   {
    "duration": 13,
    "start_time": "2021-10-22T09:32:52.725Z"
   },
   {
    "duration": 48,
    "start_time": "2021-10-22T09:32:52.741Z"
   },
   {
    "duration": 12,
    "start_time": "2021-10-22T09:32:52.792Z"
   },
   {
    "duration": 9,
    "start_time": "2021-10-22T09:32:52.806Z"
   },
   {
    "duration": 10,
    "start_time": "2021-10-22T09:47:38.995Z"
   },
   {
    "duration": 28,
    "start_time": "2021-10-22T09:49:06.188Z"
   },
   {
    "duration": 22,
    "start_time": "2021-10-22T09:49:12.649Z"
   },
   {
    "duration": 37,
    "start_time": "2021-10-22T09:49:33.526Z"
   },
   {
    "duration": 42,
    "start_time": "2021-10-22T09:50:53.887Z"
   },
   {
    "duration": 14,
    "start_time": "2021-10-22T09:51:04.176Z"
   },
   {
    "duration": 43,
    "start_time": "2021-10-22T09:53:01.493Z"
   },
   {
    "duration": 22,
    "start_time": "2021-10-22T09:55:35.202Z"
   },
   {
    "duration": 755,
    "start_time": "2021-10-22T09:56:35.553Z"
   },
   {
    "duration": 61,
    "start_time": "2021-10-22T09:56:36.311Z"
   },
   {
    "duration": 41,
    "start_time": "2021-10-22T09:56:36.375Z"
   },
   {
    "duration": 28,
    "start_time": "2021-10-22T09:56:36.419Z"
   },
   {
    "duration": 29,
    "start_time": "2021-10-22T09:56:36.449Z"
   },
   {
    "duration": 12,
    "start_time": "2021-10-22T09:56:36.481Z"
   },
   {
    "duration": 25,
    "start_time": "2021-10-22T09:56:36.495Z"
   },
   {
    "duration": 21,
    "start_time": "2021-10-22T09:56:36.524Z"
   },
   {
    "duration": 6,
    "start_time": "2021-10-22T09:56:36.548Z"
   },
   {
    "duration": 25,
    "start_time": "2021-10-22T09:56:36.557Z"
   },
   {
    "duration": 10,
    "start_time": "2021-10-22T09:56:36.584Z"
   },
   {
    "duration": 22,
    "start_time": "2021-10-22T09:56:36.597Z"
   },
   {
    "duration": 17,
    "start_time": "2021-10-22T09:56:36.622Z"
   },
   {
    "duration": 18,
    "start_time": "2021-10-22T09:56:36.641Z"
   },
   {
    "duration": 30,
    "start_time": "2021-10-22T09:56:36.661Z"
   },
   {
    "duration": 11,
    "start_time": "2021-10-22T09:56:36.694Z"
   },
   {
    "duration": 22,
    "start_time": "2021-10-22T09:56:36.707Z"
   },
   {
    "duration": 12,
    "start_time": "2021-10-22T09:56:36.731Z"
   },
   {
    "duration": 19,
    "start_time": "2021-10-22T09:56:36.745Z"
   },
   {
    "duration": 17,
    "start_time": "2021-10-22T09:56:36.767Z"
   },
   {
    "duration": 12,
    "start_time": "2021-10-22T09:56:36.786Z"
   },
   {
    "duration": 25,
    "start_time": "2021-10-22T09:56:36.801Z"
   },
   {
    "duration": 10,
    "start_time": "2021-10-22T09:56:36.831Z"
   },
   {
    "duration": 17,
    "start_time": "2021-10-22T09:56:36.844Z"
   },
   {
    "duration": 22,
    "start_time": "2021-10-22T09:56:36.863Z"
   },
   {
    "duration": 11,
    "start_time": "2021-10-22T09:56:36.887Z"
   },
   {
    "duration": 33,
    "start_time": "2021-10-22T09:56:36.901Z"
   },
   {
    "duration": 7,
    "start_time": "2021-10-22T09:56:36.936Z"
   },
   {
    "duration": 42,
    "start_time": "2021-10-22T09:56:36.945Z"
   },
   {
    "duration": 5,
    "start_time": "2021-10-22T09:56:36.989Z"
   },
   {
    "duration": 14,
    "start_time": "2021-10-22T09:56:36.996Z"
   },
   {
    "duration": 11,
    "start_time": "2021-10-22T09:56:37.012Z"
   },
   {
    "duration": 10,
    "start_time": "2021-10-22T09:56:37.025Z"
   },
   {
    "duration": 26,
    "start_time": "2021-10-22T09:56:37.037Z"
   },
   {
    "duration": 28,
    "start_time": "2021-10-22T09:56:37.066Z"
   },
   {
    "duration": 17,
    "start_time": "2021-10-22T09:56:37.097Z"
   },
   {
    "duration": 24,
    "start_time": "2021-10-22T09:56:37.117Z"
   },
   {
    "duration": 7,
    "start_time": "2021-10-22T09:56:37.143Z"
   },
   {
    "duration": 21,
    "start_time": "2021-10-22T09:59:36.805Z"
   },
   {
    "duration": 21,
    "start_time": "2021-10-22T09:59:41.297Z"
   },
   {
    "duration": 25,
    "start_time": "2021-10-22T10:02:52.338Z"
   },
   {
    "duration": 22,
    "start_time": "2021-10-22T10:03:00.819Z"
   },
   {
    "duration": 8,
    "start_time": "2021-10-22T12:40:11.225Z"
   },
   {
    "duration": 2672,
    "start_time": "2021-10-22T12:40:50.578Z"
   },
   {
    "duration": 68,
    "start_time": "2021-10-22T12:40:53.253Z"
   },
   {
    "duration": 36,
    "start_time": "2021-10-22T12:40:53.324Z"
   },
   {
    "duration": 38,
    "start_time": "2021-10-22T12:40:53.364Z"
   },
   {
    "duration": 14,
    "start_time": "2021-10-22T12:40:53.404Z"
   },
   {
    "duration": 6,
    "start_time": "2021-10-22T12:40:53.420Z"
   },
   {
    "duration": 10,
    "start_time": "2021-10-22T12:40:53.428Z"
   },
   {
    "duration": 53,
    "start_time": "2021-10-22T12:40:53.442Z"
   },
   {
    "duration": 19,
    "start_time": "2021-10-22T12:40:53.499Z"
   },
   {
    "duration": 11,
    "start_time": "2021-10-22T12:40:53.520Z"
   },
   {
    "duration": 16,
    "start_time": "2021-10-22T12:40:53.533Z"
   },
   {
    "duration": 33,
    "start_time": "2021-10-22T12:40:53.551Z"
   },
   {
    "duration": 6,
    "start_time": "2021-10-22T12:40:53.587Z"
   },
   {
    "duration": 9,
    "start_time": "2021-10-22T12:40:53.595Z"
   },
   {
    "duration": 22,
    "start_time": "2021-10-22T12:40:53.607Z"
   },
   {
    "duration": 51,
    "start_time": "2021-10-22T12:40:53.632Z"
   },
   {
    "duration": 10,
    "start_time": "2021-10-22T12:40:53.686Z"
   },
   {
    "duration": 11,
    "start_time": "2021-10-22T12:40:53.699Z"
   },
   {
    "duration": 20,
    "start_time": "2021-10-22T12:40:53.712Z"
   },
   {
    "duration": 10,
    "start_time": "2021-10-22T12:40:53.734Z"
   },
   {
    "duration": 42,
    "start_time": "2021-10-22T12:40:53.746Z"
   },
   {
    "duration": 27,
    "start_time": "2021-10-22T12:40:53.790Z"
   },
   {
    "duration": 10,
    "start_time": "2021-10-22T12:40:53.822Z"
   },
   {
    "duration": 9,
    "start_time": "2021-10-22T12:40:53.835Z"
   },
   {
    "duration": 37,
    "start_time": "2021-10-22T12:40:53.846Z"
   },
   {
    "duration": 10,
    "start_time": "2021-10-22T12:40:53.886Z"
   },
   {
    "duration": 11,
    "start_time": "2021-10-22T12:40:53.899Z"
   },
   {
    "duration": 23,
    "start_time": "2021-10-22T12:40:53.914Z"
   },
   {
    "duration": 6,
    "start_time": "2021-10-22T12:40:53.939Z"
   },
   {
    "duration": 11,
    "start_time": "2021-10-22T12:40:53.983Z"
   },
   {
    "duration": 11,
    "start_time": "2021-10-22T12:40:53.996Z"
   },
   {
    "duration": 11,
    "start_time": "2021-10-22T12:40:54.010Z"
   },
   {
    "duration": 18,
    "start_time": "2021-10-22T12:40:54.023Z"
   },
   {
    "duration": 51,
    "start_time": "2021-10-22T12:40:54.044Z"
   },
   {
    "duration": 14,
    "start_time": "2021-10-22T12:40:54.098Z"
   },
   {
    "duration": 28,
    "start_time": "2021-10-22T12:40:54.114Z"
   },
   {
    "duration": 49,
    "start_time": "2021-10-22T12:40:54.144Z"
   },
   {
    "duration": 27,
    "start_time": "2021-10-22T12:40:54.195Z"
   },
   {
    "duration": 24,
    "start_time": "2021-10-22T12:40:54.225Z"
   },
   {
    "duration": 35,
    "start_time": "2021-10-22T12:40:54.252Z"
   },
   {
    "duration": 15,
    "start_time": "2021-10-22T12:40:54.289Z"
   },
   {
    "duration": 452,
    "start_time": "2021-10-22T12:40:54.307Z"
   },
   {
    "duration": 7722,
    "start_time": "2021-10-22T12:44:04.478Z"
   },
   {
    "duration": 762,
    "start_time": "2021-10-22T12:44:22.702Z"
   },
   {
    "duration": 71,
    "start_time": "2021-10-22T12:44:23.467Z"
   },
   {
    "duration": 45,
    "start_time": "2021-10-22T12:44:23.541Z"
   },
   {
    "duration": 18,
    "start_time": "2021-10-22T12:44:23.590Z"
   },
   {
    "duration": 20,
    "start_time": "2021-10-22T12:44:23.610Z"
   },
   {
    "duration": 8,
    "start_time": "2021-10-22T12:44:23.632Z"
   },
   {
    "duration": 43,
    "start_time": "2021-10-22T12:44:23.642Z"
   },
   {
    "duration": 20,
    "start_time": "2021-10-22T12:44:23.689Z"
   },
   {
    "duration": 8,
    "start_time": "2021-10-22T12:44:23.713Z"
   },
   {
    "duration": 9,
    "start_time": "2021-10-22T12:44:23.724Z"
   },
   {
    "duration": 54,
    "start_time": "2021-10-22T12:44:23.736Z"
   },
   {
    "duration": 9,
    "start_time": "2021-10-22T12:44:23.793Z"
   },
   {
    "duration": 5,
    "start_time": "2021-10-22T12:44:23.805Z"
   },
   {
    "duration": 16,
    "start_time": "2021-10-22T12:44:23.813Z"
   },
   {
    "duration": 55,
    "start_time": "2021-10-22T12:44:23.831Z"
   },
   {
    "duration": 7,
    "start_time": "2021-10-22T12:44:23.889Z"
   },
   {
    "duration": 12,
    "start_time": "2021-10-22T12:44:23.898Z"
   },
   {
    "duration": 7,
    "start_time": "2021-10-22T12:44:23.912Z"
   },
   {
    "duration": 19,
    "start_time": "2021-10-22T12:44:23.922Z"
   },
   {
    "duration": 47,
    "start_time": "2021-10-22T12:44:23.943Z"
   },
   {
    "duration": 15,
    "start_time": "2021-10-22T12:44:23.993Z"
   },
   {
    "duration": 18,
    "start_time": "2021-10-22T12:44:24.010Z"
   },
   {
    "duration": 4,
    "start_time": "2021-10-22T12:44:24.033Z"
   },
   {
    "duration": 8,
    "start_time": "2021-10-22T12:44:24.040Z"
   },
   {
    "duration": 36,
    "start_time": "2021-10-22T12:44:24.050Z"
   },
   {
    "duration": 9,
    "start_time": "2021-10-22T12:44:24.089Z"
   },
   {
    "duration": 13,
    "start_time": "2021-10-22T12:44:24.100Z"
   },
   {
    "duration": 22,
    "start_time": "2021-10-22T12:44:24.116Z"
   },
   {
    "duration": 42,
    "start_time": "2021-10-22T12:44:24.140Z"
   },
   {
    "duration": 10,
    "start_time": "2021-10-22T12:44:24.185Z"
   },
   {
    "duration": 6,
    "start_time": "2021-10-22T12:44:24.199Z"
   },
   {
    "duration": 12,
    "start_time": "2021-10-22T12:44:24.208Z"
   },
   {
    "duration": 10,
    "start_time": "2021-10-22T12:44:24.223Z"
   },
   {
    "duration": 63,
    "start_time": "2021-10-22T12:44:24.236Z"
   },
   {
    "duration": 15,
    "start_time": "2021-10-22T12:44:24.302Z"
   },
   {
    "duration": 26,
    "start_time": "2021-10-22T12:44:24.319Z"
   },
   {
    "duration": 42,
    "start_time": "2021-10-22T12:44:24.347Z"
   },
   {
    "duration": 26,
    "start_time": "2021-10-22T12:44:24.391Z"
   },
   {
    "duration": 21,
    "start_time": "2021-10-22T12:44:24.420Z"
   },
   {
    "duration": 7,
    "start_time": "2021-10-22T12:44:24.443Z"
   },
   {
    "duration": 35,
    "start_time": "2021-10-22T12:44:24.452Z"
   },
   {
    "duration": 8246,
    "start_time": "2021-10-22T12:44:24.490Z"
   },
   {
    "duration": 416,
    "start_time": "2021-10-22T12:44:37.512Z"
   },
   {
    "duration": 8,
    "start_time": "2021-10-22T12:45:52.509Z"
   },
   {
    "duration": 8,
    "start_time": "2021-10-22T12:45:55.874Z"
   },
   {
    "duration": 6,
    "start_time": "2021-10-22T12:46:06.781Z"
   },
   {
    "duration": 927,
    "start_time": "2021-10-22T12:48:44.592Z"
   },
   {
    "duration": 7,
    "start_time": "2021-10-22T12:48:54.971Z"
   },
   {
    "duration": 324,
    "start_time": "2021-10-22T12:50:36.417Z"
   },
   {
    "duration": 317,
    "start_time": "2021-10-22T12:51:54.421Z"
   },
   {
    "duration": 11,
    "start_time": "2021-10-22T12:58:18.394Z"
   },
   {
    "duration": 6,
    "start_time": "2021-10-22T12:59:40.108Z"
   },
   {
    "duration": 6,
    "start_time": "2021-10-22T13:01:44.093Z"
   },
   {
    "duration": 9,
    "start_time": "2021-10-22T13:01:49.548Z"
   },
   {
    "duration": 336,
    "start_time": "2021-10-22T13:04:02.025Z"
   },
   {
    "duration": 4,
    "start_time": "2021-10-22T13:04:07.478Z"
   },
   {
    "duration": 67,
    "start_time": "2021-10-22T13:04:07.485Z"
   },
   {
    "duration": 40,
    "start_time": "2021-10-22T13:04:07.555Z"
   },
   {
    "duration": 20,
    "start_time": "2021-10-22T13:04:07.598Z"
   },
   {
    "duration": 62,
    "start_time": "2021-10-22T13:04:07.622Z"
   },
   {
    "duration": 9,
    "start_time": "2021-10-22T13:04:07.687Z"
   },
   {
    "duration": 12,
    "start_time": "2021-10-22T13:04:07.701Z"
   },
   {
    "duration": 67,
    "start_time": "2021-10-22T13:04:07.717Z"
   },
   {
    "duration": 9,
    "start_time": "2021-10-22T13:04:07.787Z"
   },
   {
    "duration": 10,
    "start_time": "2021-10-22T13:04:07.799Z"
   },
   {
    "duration": 10,
    "start_time": "2021-10-22T13:04:07.812Z"
   },
   {
    "duration": 56,
    "start_time": "2021-10-22T13:04:07.825Z"
   },
   {
    "duration": 7,
    "start_time": "2021-10-22T13:04:07.884Z"
   },
   {
    "duration": 8,
    "start_time": "2021-10-22T13:04:07.894Z"
   },
   {
    "duration": 16,
    "start_time": "2021-10-22T13:04:07.905Z"
   },
   {
    "duration": 9,
    "start_time": "2021-10-22T13:04:07.924Z"
   },
   {
    "duration": 10,
    "start_time": "2021-10-22T13:04:07.983Z"
   },
   {
    "duration": 8,
    "start_time": "2021-10-22T13:04:07.996Z"
   },
   {
    "duration": 18,
    "start_time": "2021-10-22T13:04:08.009Z"
   },
   {
    "duration": 11,
    "start_time": "2021-10-22T13:04:08.030Z"
   },
   {
    "duration": 44,
    "start_time": "2021-10-22T13:04:08.043Z"
   },
   {
    "duration": 18,
    "start_time": "2021-10-22T13:04:08.090Z"
   },
   {
    "duration": 6,
    "start_time": "2021-10-22T13:04:08.110Z"
   },
   {
    "duration": 8,
    "start_time": "2021-10-22T13:04:08.118Z"
   },
   {
    "duration": 4,
    "start_time": "2021-10-22T13:04:08.129Z"
   },
   {
    "duration": 50,
    "start_time": "2021-10-22T13:04:08.135Z"
   },
   {
    "duration": 10,
    "start_time": "2021-10-22T13:04:08.187Z"
   },
   {
    "duration": 20,
    "start_time": "2021-10-22T13:04:08.199Z"
   },
   {
    "duration": 5,
    "start_time": "2021-10-22T13:04:08.221Z"
   },
   {
    "duration": 7,
    "start_time": "2021-10-22T13:04:08.229Z"
   },
   {
    "duration": 5,
    "start_time": "2021-10-22T13:04:08.281Z"
   },
   {
    "duration": 17,
    "start_time": "2021-10-22T13:04:08.289Z"
   },
   {
    "duration": 14,
    "start_time": "2021-10-22T13:04:08.308Z"
   },
   {
    "duration": 18,
    "start_time": "2021-10-22T13:04:08.324Z"
   },
   {
    "duration": 39,
    "start_time": "2021-10-22T13:04:08.344Z"
   },
   {
    "duration": 26,
    "start_time": "2021-10-22T13:04:08.386Z"
   },
   {
    "duration": 22,
    "start_time": "2021-10-22T13:04:08.415Z"
   },
   {
    "duration": 59,
    "start_time": "2021-10-22T13:04:08.440Z"
   },
   {
    "duration": 20,
    "start_time": "2021-10-22T13:04:08.502Z"
   },
   {
    "duration": 8,
    "start_time": "2021-10-22T13:04:08.525Z"
   },
   {
    "duration": 6,
    "start_time": "2021-10-22T13:04:08.535Z"
   },
   {
    "duration": 53,
    "start_time": "2021-10-22T13:04:08.543Z"
   },
   {
    "duration": 320,
    "start_time": "2021-10-22T13:04:12.350Z"
   },
   {
    "duration": 879,
    "start_time": "2021-10-22T13:04:40.529Z"
   },
   {
    "duration": 6,
    "start_time": "2021-10-22T13:04:43.263Z"
   },
   {
    "duration": 6,
    "start_time": "2021-10-22T13:05:36.879Z"
   },
   {
    "duration": 10,
    "start_time": "2021-10-22T13:05:42.382Z"
   },
   {
    "duration": 8,
    "start_time": "2021-10-22T13:08:16.162Z"
   },
   {
    "duration": 266,
    "start_time": "2021-10-22T13:09:36.182Z"
   },
   {
    "duration": 19,
    "start_time": "2021-10-22T13:09:50.919Z"
   },
   {
    "duration": 5,
    "start_time": "2021-10-22T13:09:53.643Z"
   },
   {
    "duration": 11,
    "start_time": "2021-10-22T13:09:59.258Z"
   },
   {
    "duration": 8,
    "start_time": "2021-10-22T13:17:08.466Z"
   },
   {
    "duration": 4,
    "start_time": "2021-10-22T13:17:38.651Z"
   },
   {
    "duration": 8,
    "start_time": "2021-10-22T13:17:44.767Z"
   },
   {
    "duration": 7,
    "start_time": "2021-10-22T13:18:28.259Z"
   },
   {
    "duration": 12,
    "start_time": "2021-10-22T13:32:54.414Z"
   },
   {
    "duration": 4,
    "start_time": "2021-10-22T13:41:39.590Z"
   },
   {
    "duration": 787,
    "start_time": "2021-10-22T13:42:06.341Z"
   },
   {
    "duration": 66,
    "start_time": "2021-10-22T13:42:07.132Z"
   },
   {
    "duration": 37,
    "start_time": "2021-10-22T13:42:07.201Z"
   },
   {
    "duration": 15,
    "start_time": "2021-10-22T13:42:07.241Z"
   },
   {
    "duration": 40,
    "start_time": "2021-10-22T13:42:07.258Z"
   },
   {
    "duration": 7,
    "start_time": "2021-10-22T13:42:07.301Z"
   },
   {
    "duration": 11,
    "start_time": "2021-10-22T13:42:07.310Z"
   },
   {
    "duration": 59,
    "start_time": "2021-10-22T13:42:07.326Z"
   },
   {
    "duration": 8,
    "start_time": "2021-10-22T13:42:07.389Z"
   },
   {
    "duration": 9,
    "start_time": "2021-10-22T13:42:07.400Z"
   },
   {
    "duration": 9,
    "start_time": "2021-10-22T13:42:07.411Z"
   },
   {
    "duration": 14,
    "start_time": "2021-10-22T13:42:07.422Z"
   },
   {
    "duration": 45,
    "start_time": "2021-10-22T13:42:07.438Z"
   },
   {
    "duration": 5,
    "start_time": "2021-10-22T13:42:07.486Z"
   },
   {
    "duration": 17,
    "start_time": "2021-10-22T13:42:07.493Z"
   },
   {
    "duration": 8,
    "start_time": "2021-10-22T13:42:07.512Z"
   },
   {
    "duration": 10,
    "start_time": "2021-10-22T13:42:07.523Z"
   },
   {
    "duration": 50,
    "start_time": "2021-10-22T13:42:07.536Z"
   },
   {
    "duration": 20,
    "start_time": "2021-10-22T13:42:07.589Z"
   },
   {
    "duration": 12,
    "start_time": "2021-10-22T13:42:07.612Z"
   },
   {
    "duration": 8,
    "start_time": "2021-10-22T13:42:07.627Z"
   },
   {
    "duration": 56,
    "start_time": "2021-10-22T13:42:07.638Z"
   },
   {
    "duration": 5,
    "start_time": "2021-10-22T13:42:07.700Z"
   },
   {
    "duration": 8,
    "start_time": "2021-10-22T13:42:07.709Z"
   },
   {
    "duration": 7,
    "start_time": "2021-10-22T13:42:07.719Z"
   },
   {
    "duration": 53,
    "start_time": "2021-10-22T13:42:07.729Z"
   },
   {
    "duration": 9,
    "start_time": "2021-10-22T13:42:07.784Z"
   },
   {
    "duration": 23,
    "start_time": "2021-10-22T13:42:07.796Z"
   },
   {
    "duration": 4,
    "start_time": "2021-10-22T13:42:07.822Z"
   },
   {
    "duration": 9,
    "start_time": "2021-10-22T13:42:07.828Z"
   },
   {
    "duration": 43,
    "start_time": "2021-10-22T13:42:07.839Z"
   },
   {
    "duration": 16,
    "start_time": "2021-10-22T13:42:07.884Z"
   },
   {
    "duration": 16,
    "start_time": "2021-10-22T13:42:07.903Z"
   },
   {
    "duration": 22,
    "start_time": "2021-10-22T13:42:07.922Z"
   },
   {
    "duration": 15,
    "start_time": "2021-10-22T13:42:07.947Z"
   },
   {
    "duration": 25,
    "start_time": "2021-10-22T13:42:07.983Z"
   },
   {
    "duration": 22,
    "start_time": "2021-10-22T13:42:08.010Z"
   },
   {
    "duration": 59,
    "start_time": "2021-10-22T13:42:08.035Z"
   },
   {
    "duration": 24,
    "start_time": "2021-10-22T13:42:08.096Z"
   },
   {
    "duration": 8,
    "start_time": "2021-10-22T13:42:08.122Z"
   },
   {
    "duration": 5,
    "start_time": "2021-10-22T13:42:08.133Z"
   },
   {
    "duration": 42,
    "start_time": "2021-10-22T13:42:08.141Z"
   },
   {
    "duration": 968,
    "start_time": "2021-10-22T13:42:08.186Z"
   },
   {
    "duration": 4,
    "start_time": "2021-10-22T13:42:09.157Z"
   },
   {
    "duration": 22,
    "start_time": "2021-10-22T13:42:09.163Z"
   },
   {
    "duration": 4,
    "start_time": "2021-10-22T13:42:09.187Z"
   },
   {
    "duration": 742,
    "start_time": "2021-10-22T13:48:28.743Z"
   },
   {
    "duration": 68,
    "start_time": "2021-10-22T13:48:29.488Z"
   },
   {
    "duration": 34,
    "start_time": "2021-10-22T13:48:29.559Z"
   },
   {
    "duration": 15,
    "start_time": "2021-10-22T13:48:29.596Z"
   },
   {
    "duration": 20,
    "start_time": "2021-10-22T13:48:29.613Z"
   },
   {
    "duration": 6,
    "start_time": "2021-10-22T13:48:29.636Z"
   },
   {
    "duration": 47,
    "start_time": "2021-10-22T13:48:29.644Z"
   },
   {
    "duration": 18,
    "start_time": "2021-10-22T13:48:29.695Z"
   },
   {
    "duration": 7,
    "start_time": "2021-10-22T13:48:29.715Z"
   },
   {
    "duration": 8,
    "start_time": "2021-10-22T13:48:29.724Z"
   },
   {
    "duration": 50,
    "start_time": "2021-10-22T13:48:29.734Z"
   },
   {
    "duration": 7,
    "start_time": "2021-10-22T13:48:29.787Z"
   },
   {
    "duration": 5,
    "start_time": "2021-10-22T13:48:29.797Z"
   },
   {
    "duration": 7,
    "start_time": "2021-10-22T13:48:29.805Z"
   },
   {
    "duration": 16,
    "start_time": "2021-10-22T13:48:29.815Z"
   },
   {
    "duration": 6,
    "start_time": "2021-10-22T13:48:29.834Z"
   },
   {
    "duration": 59,
    "start_time": "2021-10-22T13:48:29.842Z"
   },
   {
    "duration": 8,
    "start_time": "2021-10-22T13:48:29.903Z"
   },
   {
    "duration": 19,
    "start_time": "2021-10-22T13:48:29.914Z"
   },
   {
    "duration": 9,
    "start_time": "2021-10-22T13:48:29.935Z"
   },
   {
    "duration": 38,
    "start_time": "2021-10-22T13:48:29.946Z"
   },
   {
    "duration": 19,
    "start_time": "2021-10-22T13:48:29.987Z"
   },
   {
    "duration": 7,
    "start_time": "2021-10-22T13:48:30.011Z"
   },
   {
    "duration": 11,
    "start_time": "2021-10-22T13:48:30.022Z"
   },
   {
    "duration": 8,
    "start_time": "2021-10-22T13:48:30.036Z"
   },
   {
    "duration": 42,
    "start_time": "2021-10-22T13:48:30.047Z"
   },
   {
    "duration": 11,
    "start_time": "2021-10-22T13:48:30.091Z"
   },
   {
    "duration": 29,
    "start_time": "2021-10-22T13:48:30.104Z"
   },
   {
    "duration": 4,
    "start_time": "2021-10-22T13:48:30.136Z"
   },
   {
    "duration": 13,
    "start_time": "2021-10-22T13:48:30.142Z"
   },
   {
    "duration": 28,
    "start_time": "2021-10-22T13:48:30.157Z"
   },
   {
    "duration": 23,
    "start_time": "2021-10-22T13:48:30.187Z"
   },
   {
    "duration": 23,
    "start_time": "2021-10-22T13:48:30.213Z"
   },
   {
    "duration": 30,
    "start_time": "2021-10-22T13:48:30.238Z"
   },
   {
    "duration": 30,
    "start_time": "2021-10-22T13:48:30.270Z"
   },
   {
    "duration": 43,
    "start_time": "2021-10-22T13:48:30.303Z"
   },
   {
    "duration": 21,
    "start_time": "2021-10-22T13:48:30.348Z"
   },
   {
    "duration": 29,
    "start_time": "2021-10-22T13:48:30.371Z"
   },
   {
    "duration": 21,
    "start_time": "2021-10-22T13:48:30.403Z"
   },
   {
    "duration": 12,
    "start_time": "2021-10-22T13:48:30.426Z"
   },
   {
    "duration": 14,
    "start_time": "2021-10-22T13:48:30.441Z"
   },
   {
    "duration": 24,
    "start_time": "2021-10-22T13:48:30.458Z"
   },
   {
    "duration": 973,
    "start_time": "2021-10-22T13:48:30.484Z"
   },
   {
    "duration": 4,
    "start_time": "2021-10-22T13:48:31.460Z"
   },
   {
    "duration": 11,
    "start_time": "2021-10-22T13:48:31.483Z"
   },
   {
    "duration": 60,
    "start_time": "2021-10-22T13:48:31.496Z"
   },
   {
    "duration": 340,
    "start_time": "2021-10-22T13:50:37.456Z"
   },
   {
    "duration": 753,
    "start_time": "2021-10-22T13:50:49.020Z"
   },
   {
    "duration": 64,
    "start_time": "2021-10-22T13:50:49.776Z"
   },
   {
    "duration": 43,
    "start_time": "2021-10-22T13:50:49.843Z"
   },
   {
    "duration": 19,
    "start_time": "2021-10-22T13:50:49.889Z"
   },
   {
    "duration": 19,
    "start_time": "2021-10-22T13:50:49.910Z"
   },
   {
    "duration": 7,
    "start_time": "2021-10-22T13:50:49.931Z"
   },
   {
    "duration": 42,
    "start_time": "2021-10-22T13:50:49.940Z"
   },
   {
    "duration": 17,
    "start_time": "2021-10-22T13:50:49.986Z"
   },
   {
    "duration": 7,
    "start_time": "2021-10-22T13:50:50.006Z"
   },
   {
    "duration": 7,
    "start_time": "2021-10-22T13:50:50.015Z"
   },
   {
    "duration": 10,
    "start_time": "2021-10-22T13:50:50.024Z"
   },
   {
    "duration": 48,
    "start_time": "2021-10-22T13:50:50.037Z"
   },
   {
    "duration": 5,
    "start_time": "2021-10-22T13:50:50.087Z"
   },
   {
    "duration": 7,
    "start_time": "2021-10-22T13:50:50.095Z"
   },
   {
    "duration": 15,
    "start_time": "2021-10-22T13:50:50.105Z"
   },
   {
    "duration": 7,
    "start_time": "2021-10-22T13:50:50.122Z"
   },
   {
    "duration": 53,
    "start_time": "2021-10-22T13:50:50.131Z"
   },
   {
    "duration": 8,
    "start_time": "2021-10-22T13:50:50.186Z"
   },
   {
    "duration": 19,
    "start_time": "2021-10-22T13:50:50.196Z"
   },
   {
    "duration": 8,
    "start_time": "2021-10-22T13:50:50.218Z"
   },
   {
    "duration": 6,
    "start_time": "2021-10-22T13:50:50.229Z"
   },
   {
    "duration": 58,
    "start_time": "2021-10-22T13:50:50.238Z"
   },
   {
    "duration": 5,
    "start_time": "2021-10-22T13:50:50.301Z"
   },
   {
    "duration": 9,
    "start_time": "2021-10-22T13:50:50.309Z"
   },
   {
    "duration": 6,
    "start_time": "2021-10-22T13:50:50.320Z"
   },
   {
    "duration": 7,
    "start_time": "2021-10-22T13:50:50.329Z"
   },
   {
    "duration": 45,
    "start_time": "2021-10-22T13:50:50.338Z"
   },
   {
    "duration": 20,
    "start_time": "2021-10-22T13:50:50.385Z"
   },
   {
    "duration": 4,
    "start_time": "2021-10-22T13:50:50.408Z"
   },
   {
    "duration": 13,
    "start_time": "2021-10-22T13:50:50.414Z"
   },
   {
    "duration": 7,
    "start_time": "2021-10-22T13:50:50.429Z"
   },
   {
    "duration": 45,
    "start_time": "2021-10-22T13:50:50.439Z"
   },
   {
    "duration": 16,
    "start_time": "2021-10-22T13:50:50.487Z"
   },
   {
    "duration": 19,
    "start_time": "2021-10-22T13:50:50.505Z"
   },
   {
    "duration": 15,
    "start_time": "2021-10-22T13:50:50.526Z"
   },
   {
    "duration": 60,
    "start_time": "2021-10-22T13:50:50.544Z"
   },
   {
    "duration": 20,
    "start_time": "2021-10-22T13:50:50.606Z"
   },
   {
    "duration": 23,
    "start_time": "2021-10-22T13:50:50.629Z"
   },
   {
    "duration": 45,
    "start_time": "2021-10-22T13:50:50.654Z"
   },
   {
    "duration": 7,
    "start_time": "2021-10-22T13:50:50.702Z"
   },
   {
    "duration": 14,
    "start_time": "2021-10-22T13:50:50.711Z"
   },
   {
    "duration": 13,
    "start_time": "2021-10-22T13:50:50.727Z"
   },
   {
    "duration": 960,
    "start_time": "2021-10-22T13:50:50.742Z"
   },
   {
    "duration": 9,
    "start_time": "2021-10-22T13:50:51.705Z"
   },
   {
    "duration": 8,
    "start_time": "2021-10-22T13:50:51.716Z"
   },
   {
    "duration": 6,
    "start_time": "2021-10-22T13:50:51.726Z"
   },
   {
    "duration": 3554,
    "start_time": "2021-10-22T14:01:31.652Z"
   },
   {
    "duration": 5,
    "start_time": "2021-10-22T14:01:37.838Z"
   },
   {
    "duration": 739,
    "start_time": "2021-10-22T14:10:13.322Z"
   },
   {
    "duration": 67,
    "start_time": "2021-10-22T14:10:14.064Z"
   },
   {
    "duration": 54,
    "start_time": "2021-10-22T14:10:14.134Z"
   },
   {
    "duration": 23,
    "start_time": "2021-10-22T14:10:14.192Z"
   },
   {
    "duration": 20,
    "start_time": "2021-10-22T14:10:14.218Z"
   },
   {
    "duration": 7,
    "start_time": "2021-10-22T14:10:14.241Z"
   },
   {
    "duration": 42,
    "start_time": "2021-10-22T14:10:14.251Z"
   },
   {
    "duration": 18,
    "start_time": "2021-10-22T14:10:14.299Z"
   },
   {
    "duration": 6,
    "start_time": "2021-10-22T14:10:14.320Z"
   },
   {
    "duration": 8,
    "start_time": "2021-10-22T14:10:14.328Z"
   },
   {
    "duration": 8,
    "start_time": "2021-10-22T14:10:14.383Z"
   },
   {
    "duration": 14,
    "start_time": "2021-10-22T14:10:14.393Z"
   },
   {
    "duration": 4,
    "start_time": "2021-10-22T14:10:14.410Z"
   },
   {
    "duration": 22,
    "start_time": "2021-10-22T14:10:14.416Z"
   },
   {
    "duration": 15,
    "start_time": "2021-10-22T14:10:14.440Z"
   },
   {
    "duration": 29,
    "start_time": "2021-10-22T14:10:14.458Z"
   },
   {
    "duration": 9,
    "start_time": "2021-10-22T14:10:14.490Z"
   },
   {
    "duration": 7,
    "start_time": "2021-10-22T14:10:14.502Z"
   },
   {
    "duration": 19,
    "start_time": "2021-10-22T14:10:14.511Z"
   },
   {
    "duration": 51,
    "start_time": "2021-10-22T14:10:14.532Z"
   },
   {
    "duration": 7,
    "start_time": "2021-10-22T14:10:14.585Z"
   },
   {
    "duration": 21,
    "start_time": "2021-10-22T14:10:14.594Z"
   },
   {
    "duration": 6,
    "start_time": "2021-10-22T14:10:14.620Z"
   },
   {
    "duration": 6,
    "start_time": "2021-10-22T14:10:14.629Z"
   },
   {
    "duration": 44,
    "start_time": "2021-10-22T14:10:14.638Z"
   },
   {
    "duration": 6,
    "start_time": "2021-10-22T14:10:14.684Z"
   },
   {
    "duration": 21,
    "start_time": "2021-10-22T14:10:14.692Z"
   },
   {
    "duration": 20,
    "start_time": "2021-10-22T14:10:14.716Z"
   },
   {
    "duration": 5,
    "start_time": "2021-10-22T14:10:14.739Z"
   },
   {
    "duration": 38,
    "start_time": "2021-10-22T14:10:14.746Z"
   },
   {
    "duration": 5,
    "start_time": "2021-10-22T14:10:14.787Z"
   },
   {
    "duration": 9,
    "start_time": "2021-10-22T14:10:14.794Z"
   },
   {
    "duration": 10,
    "start_time": "2021-10-22T14:10:14.806Z"
   },
   {
    "duration": 31,
    "start_time": "2021-10-22T14:10:14.819Z"
   },
   {
    "duration": 35,
    "start_time": "2021-10-22T14:10:14.853Z"
   },
   {
    "duration": 26,
    "start_time": "2021-10-22T14:10:14.891Z"
   },
   {
    "duration": 21,
    "start_time": "2021-10-22T14:10:14.920Z"
   },
   {
    "duration": 58,
    "start_time": "2021-10-22T14:10:14.944Z"
   },
   {
    "duration": 23,
    "start_time": "2021-10-22T14:10:15.005Z"
   },
   {
    "duration": 16,
    "start_time": "2021-10-22T14:10:15.030Z"
   },
   {
    "duration": 11,
    "start_time": "2021-10-22T14:10:15.049Z"
   },
   {
    "duration": 23,
    "start_time": "2021-10-22T14:10:15.062Z"
   },
   {
    "duration": 932,
    "start_time": "2021-10-22T14:10:15.088Z"
   },
   {
    "duration": 4,
    "start_time": "2021-10-22T14:10:16.023Z"
   },
   {
    "duration": 13,
    "start_time": "2021-10-22T14:10:16.029Z"
   },
   {
    "duration": 6,
    "start_time": "2021-10-22T14:10:16.045Z"
   },
   {
    "duration": 28,
    "start_time": "2021-10-22T14:10:16.054Z"
   },
   {
    "duration": 102,
    "start_time": "2021-10-22T14:10:16.084Z"
   },
   {
    "duration": -1068,
    "start_time": "2021-10-22T14:10:17.256Z"
   },
   {
    "duration": 11956,
    "start_time": "2021-10-22T14:12:18.800Z"
   },
   {
    "duration": 372,
    "start_time": "2021-10-22T14:13:43.908Z"
   },
   {
    "duration": 6,
    "start_time": "2021-10-22T14:14:16.792Z"
   },
   {
    "duration": 332,
    "start_time": "2021-10-22T14:14:26.712Z"
   },
   {
    "duration": 830,
    "start_time": "2021-10-22T14:15:01.617Z"
   },
   {
    "duration": 78,
    "start_time": "2021-10-22T14:15:02.451Z"
   },
   {
    "duration": 67,
    "start_time": "2021-10-22T14:15:02.532Z"
   },
   {
    "duration": 15,
    "start_time": "2021-10-22T14:15:02.602Z"
   },
   {
    "duration": 19,
    "start_time": "2021-10-22T14:15:02.621Z"
   },
   {
    "duration": 7,
    "start_time": "2021-10-22T14:15:02.642Z"
   },
   {
    "duration": 21,
    "start_time": "2021-10-22T14:15:02.683Z"
   },
   {
    "duration": 17,
    "start_time": "2021-10-22T14:15:02.708Z"
   },
   {
    "duration": 7,
    "start_time": "2021-10-22T14:15:02.728Z"
   },
   {
    "duration": 44,
    "start_time": "2021-10-22T14:15:02.738Z"
   },
   {
    "duration": 9,
    "start_time": "2021-10-22T14:15:02.784Z"
   },
   {
    "duration": 15,
    "start_time": "2021-10-22T14:15:02.795Z"
   },
   {
    "duration": 8,
    "start_time": "2021-10-22T14:15:02.812Z"
   },
   {
    "duration": 13,
    "start_time": "2021-10-22T14:15:02.823Z"
   },
   {
    "duration": 43,
    "start_time": "2021-10-22T14:15:02.838Z"
   },
   {
    "duration": 6,
    "start_time": "2021-10-22T14:15:02.884Z"
   },
   {
    "duration": 20,
    "start_time": "2021-10-22T14:15:02.893Z"
   },
   {
    "duration": 8,
    "start_time": "2021-10-22T14:15:02.916Z"
   },
   {
    "duration": 20,
    "start_time": "2021-10-22T14:15:02.927Z"
   },
   {
    "duration": 34,
    "start_time": "2021-10-22T14:15:02.949Z"
   },
   {
    "duration": 7,
    "start_time": "2021-10-22T14:15:02.985Z"
   },
   {
    "duration": 19,
    "start_time": "2021-10-22T14:15:02.994Z"
   },
   {
    "duration": 5,
    "start_time": "2021-10-22T14:15:03.019Z"
   },
   {
    "duration": 11,
    "start_time": "2021-10-22T14:15:03.027Z"
   },
   {
    "duration": 41,
    "start_time": "2021-10-22T14:15:03.041Z"
   },
   {
    "duration": 10,
    "start_time": "2021-10-22T14:15:03.085Z"
   },
   {
    "duration": 10,
    "start_time": "2021-10-22T14:15:03.097Z"
   },
   {
    "duration": 18,
    "start_time": "2021-10-22T14:15:03.109Z"
   },
   {
    "duration": 4,
    "start_time": "2021-10-22T14:15:03.130Z"
   },
   {
    "duration": 56,
    "start_time": "2021-10-22T14:15:03.136Z"
   },
   {
    "duration": 6,
    "start_time": "2021-10-22T14:15:03.194Z"
   },
   {
    "duration": 10,
    "start_time": "2021-10-22T14:15:03.202Z"
   },
   {
    "duration": 15,
    "start_time": "2021-10-22T14:15:03.214Z"
   },
   {
    "duration": 23,
    "start_time": "2021-10-22T14:15:03.231Z"
   },
   {
    "duration": 35,
    "start_time": "2021-10-22T14:15:03.256Z"
   },
   {
    "duration": 29,
    "start_time": "2021-10-22T14:15:03.293Z"
   },
   {
    "duration": 22,
    "start_time": "2021-10-22T14:15:03.325Z"
   },
   {
    "duration": 54,
    "start_time": "2021-10-22T14:15:03.349Z"
   },
   {
    "duration": 21,
    "start_time": "2021-10-22T14:15:03.406Z"
   },
   {
    "duration": 8,
    "start_time": "2021-10-22T14:15:03.429Z"
   },
   {
    "duration": 44,
    "start_time": "2021-10-22T14:15:03.439Z"
   },
   {
    "duration": 6,
    "start_time": "2021-10-22T14:15:03.485Z"
   },
   {
    "duration": 944,
    "start_time": "2021-10-22T14:15:03.493Z"
   },
   {
    "duration": 3,
    "start_time": "2021-10-22T14:15:04.440Z"
   },
   {
    "duration": 13,
    "start_time": "2021-10-22T14:15:04.446Z"
   },
   {
    "duration": 21,
    "start_time": "2021-10-22T14:15:04.461Z"
   },
   {
    "duration": 8,
    "start_time": "2021-10-22T14:15:04.484Z"
   },
   {
    "duration": 11721,
    "start_time": "2021-10-22T14:15:04.495Z"
   },
   {
    "duration": -1033,
    "start_time": "2021-10-22T14:15:17.677Z"
   },
   {
    "duration": 253,
    "start_time": "2021-10-22T14:15:35.021Z"
   },
   {
    "duration": 277,
    "start_time": "2021-10-22T14:15:45.997Z"
   },
   {
    "duration": 325,
    "start_time": "2021-10-22T14:15:57.283Z"
   },
   {
    "duration": 8,
    "start_time": "2021-10-22T14:16:07.420Z"
   },
   {
    "duration": 6,
    "start_time": "2021-10-22T14:16:21.010Z"
   },
   {
    "duration": 6,
    "start_time": "2021-10-22T14:17:10.017Z"
   },
   {
    "duration": 328,
    "start_time": "2021-10-22T14:17:13.271Z"
   },
   {
    "duration": 304,
    "start_time": "2021-10-22T14:19:02.816Z"
   },
   {
    "duration": 5,
    "start_time": "2021-10-22T14:19:18.673Z"
   },
   {
    "duration": 3,
    "start_time": "2021-10-22T14:19:22.588Z"
   },
   {
    "duration": 4,
    "start_time": "2021-10-22T14:19:32.437Z"
   },
   {
    "duration": 774,
    "start_time": "2021-10-22T14:19:47.608Z"
   },
   {
    "duration": 65,
    "start_time": "2021-10-22T14:19:48.385Z"
   },
   {
    "duration": 44,
    "start_time": "2021-10-22T14:19:48.453Z"
   },
   {
    "duration": 15,
    "start_time": "2021-10-22T14:19:48.500Z"
   },
   {
    "duration": 19,
    "start_time": "2021-10-22T14:19:48.517Z"
   },
   {
    "duration": 43,
    "start_time": "2021-10-22T14:19:48.539Z"
   },
   {
    "duration": 12,
    "start_time": "2021-10-22T14:19:48.584Z"
   },
   {
    "duration": 17,
    "start_time": "2021-10-22T14:19:48.600Z"
   },
   {
    "duration": 6,
    "start_time": "2021-10-22T14:19:48.621Z"
   },
   {
    "duration": 8,
    "start_time": "2021-10-22T14:19:48.630Z"
   },
   {
    "duration": 9,
    "start_time": "2021-10-22T14:19:48.683Z"
   },
   {
    "duration": 9,
    "start_time": "2021-10-22T14:19:48.695Z"
   },
   {
    "duration": 5,
    "start_time": "2021-10-22T14:19:48.707Z"
   },
   {
    "duration": 6,
    "start_time": "2021-10-22T14:19:48.715Z"
   },
   {
    "duration": 66,
    "start_time": "2021-10-22T14:19:48.724Z"
   },
   {
    "duration": 6,
    "start_time": "2021-10-22T14:19:48.793Z"
   },
   {
    "duration": 8,
    "start_time": "2021-10-22T14:19:48.801Z"
   },
   {
    "duration": 8,
    "start_time": "2021-10-22T14:19:48.811Z"
   },
   {
    "duration": 60,
    "start_time": "2021-10-22T14:19:48.822Z"
   },
   {
    "duration": 8,
    "start_time": "2021-10-22T14:19:48.884Z"
   },
   {
    "duration": 7,
    "start_time": "2021-10-22T14:19:48.894Z"
   },
   {
    "duration": 19,
    "start_time": "2021-10-22T14:19:48.904Z"
   },
   {
    "duration": 7,
    "start_time": "2021-10-22T14:19:48.929Z"
   },
   {
    "duration": 45,
    "start_time": "2021-10-22T14:19:48.939Z"
   },
   {
    "duration": 6,
    "start_time": "2021-10-22T14:19:48.987Z"
   },
   {
    "duration": 8,
    "start_time": "2021-10-22T14:19:48.996Z"
   },
   {
    "duration": 11,
    "start_time": "2021-10-22T14:19:49.007Z"
   },
   {
    "duration": 61,
    "start_time": "2021-10-22T14:19:49.020Z"
   },
   {
    "duration": 5,
    "start_time": "2021-10-22T14:19:49.084Z"
   },
   {
    "duration": 9,
    "start_time": "2021-10-22T14:19:49.091Z"
   },
   {
    "duration": 14,
    "start_time": "2021-10-22T14:19:49.102Z"
   },
   {
    "duration": 13,
    "start_time": "2021-10-22T14:19:49.120Z"
   },
   {
    "duration": 12,
    "start_time": "2021-10-22T14:19:49.135Z"
   },
   {
    "duration": 55,
    "start_time": "2021-10-22T14:19:49.149Z"
   },
   {
    "duration": 12,
    "start_time": "2021-10-22T14:19:49.207Z"
   },
   {
    "duration": 28,
    "start_time": "2021-10-22T14:19:49.221Z"
   },
   {
    "duration": 24,
    "start_time": "2021-10-22T14:19:49.281Z"
   },
   {
    "duration": 26,
    "start_time": "2021-10-22T14:19:49.308Z"
   },
   {
    "duration": 57,
    "start_time": "2021-10-22T14:19:49.337Z"
   },
   {
    "duration": 9,
    "start_time": "2021-10-22T14:19:49.398Z"
   },
   {
    "duration": 8,
    "start_time": "2021-10-22T14:19:49.410Z"
   },
   {
    "duration": 8,
    "start_time": "2021-10-22T14:19:49.420Z"
   },
   {
    "duration": 1241,
    "start_time": "2021-10-22T14:19:49.431Z"
   },
   {
    "duration": 9,
    "start_time": "2021-10-22T14:19:50.675Z"
   },
   {
    "duration": 15,
    "start_time": "2021-10-22T14:19:50.687Z"
   },
   {
    "duration": 6,
    "start_time": "2021-10-22T14:19:50.705Z"
   },
   {
    "duration": 10,
    "start_time": "2021-10-22T14:19:50.714Z"
   },
   {
    "duration": 39562,
    "start_time": "2021-10-22T14:19:50.727Z"
   },
   {
    "duration": 4,
    "start_time": "2021-10-22T14:20:30.292Z"
   },
   {
    "duration": 4,
    "start_time": "2021-10-22T14:20:51.193Z"
   },
   {
    "duration": 4,
    "start_time": "2021-10-22T14:21:01.741Z"
   },
   {
    "duration": 4,
    "start_time": "2021-10-22T14:21:28.187Z"
   },
   {
    "duration": 5,
    "start_time": "2021-10-22T14:21:33.912Z"
   },
   {
    "duration": 5,
    "start_time": "2021-10-22T14:21:37.939Z"
   },
   {
    "duration": 36,
    "start_time": "2021-10-22T14:21:56.371Z"
   },
   {
    "duration": 803,
    "start_time": "2021-10-22T14:22:34.767Z"
   },
   {
    "duration": 68,
    "start_time": "2021-10-22T14:22:35.573Z"
   },
   {
    "duration": 45,
    "start_time": "2021-10-22T14:22:35.644Z"
   },
   {
    "duration": 23,
    "start_time": "2021-10-22T14:22:35.692Z"
   },
   {
    "duration": 31,
    "start_time": "2021-10-22T14:22:35.718Z"
   },
   {
    "duration": 9,
    "start_time": "2021-10-22T14:22:35.751Z"
   },
   {
    "duration": 25,
    "start_time": "2021-10-22T14:22:35.762Z"
   },
   {
    "duration": 18,
    "start_time": "2021-10-22T14:22:35.791Z"
   },
   {
    "duration": 7,
    "start_time": "2021-10-22T14:22:35.812Z"
   },
   {
    "duration": 10,
    "start_time": "2021-10-22T14:22:35.821Z"
   },
   {
    "duration": 49,
    "start_time": "2021-10-22T14:22:35.833Z"
   },
   {
    "duration": 9,
    "start_time": "2021-10-22T14:22:35.885Z"
   },
   {
    "duration": 6,
    "start_time": "2021-10-22T14:22:35.897Z"
   },
   {
    "duration": 9,
    "start_time": "2021-10-22T14:22:35.906Z"
   },
   {
    "duration": 19,
    "start_time": "2021-10-22T14:22:35.918Z"
   },
   {
    "duration": 9,
    "start_time": "2021-10-22T14:22:35.983Z"
   },
   {
    "duration": 14,
    "start_time": "2021-10-22T14:22:35.995Z"
   },
   {
    "duration": 7,
    "start_time": "2021-10-22T14:22:36.012Z"
   },
   {
    "duration": 20,
    "start_time": "2021-10-22T14:22:36.021Z"
   },
   {
    "duration": 44,
    "start_time": "2021-10-22T14:22:36.043Z"
   },
   {
    "duration": 11,
    "start_time": "2021-10-22T14:22:36.090Z"
   },
   {
    "duration": 18,
    "start_time": "2021-10-22T14:22:36.104Z"
   },
   {
    "duration": 8,
    "start_time": "2021-10-22T14:22:36.127Z"
   },
   {
    "duration": 7,
    "start_time": "2021-10-22T14:22:36.138Z"
   },
   {
    "duration": 5,
    "start_time": "2021-10-22T14:22:36.183Z"
   },
   {
    "duration": 12,
    "start_time": "2021-10-22T14:22:36.190Z"
   },
   {
    "duration": 10,
    "start_time": "2021-10-22T14:22:36.204Z"
   },
   {
    "duration": 19,
    "start_time": "2021-10-22T14:22:36.217Z"
   },
   {
    "duration": 5,
    "start_time": "2021-10-22T14:22:36.238Z"
   },
   {
    "duration": 8,
    "start_time": "2021-10-22T14:22:36.282Z"
   },
   {
    "duration": 10,
    "start_time": "2021-10-22T14:22:36.292Z"
   },
   {
    "duration": 12,
    "start_time": "2021-10-22T14:22:36.304Z"
   },
   {
    "duration": 14,
    "start_time": "2021-10-22T14:22:36.318Z"
   },
   {
    "duration": 48,
    "start_time": "2021-10-22T14:22:36.334Z"
   },
   {
    "duration": 14,
    "start_time": "2021-10-22T14:22:36.385Z"
   },
   {
    "duration": 37,
    "start_time": "2021-10-22T14:22:36.401Z"
   },
   {
    "duration": 43,
    "start_time": "2021-10-22T14:22:36.441Z"
   },
   {
    "duration": 27,
    "start_time": "2021-10-22T14:22:36.486Z"
   },
   {
    "duration": 22,
    "start_time": "2021-10-22T14:22:36.515Z"
   },
   {
    "duration": 8,
    "start_time": "2021-10-22T14:22:36.540Z"
   },
   {
    "duration": 40,
    "start_time": "2021-10-22T14:22:36.551Z"
   },
   {
    "duration": 6,
    "start_time": "2021-10-22T14:22:36.593Z"
   },
   {
    "duration": 998,
    "start_time": "2021-10-22T14:22:36.602Z"
   },
   {
    "duration": 4,
    "start_time": "2021-10-22T14:22:37.603Z"
   },
   {
    "duration": 10,
    "start_time": "2021-10-22T14:22:37.609Z"
   },
   {
    "duration": 5,
    "start_time": "2021-10-22T14:22:37.622Z"
   },
   {
    "duration": 24,
    "start_time": "2021-10-22T14:22:37.629Z"
   },
   {
    "duration": 4,
    "start_time": "2021-10-22T14:22:37.683Z"
   },
   {
    "duration": 38333,
    "start_time": "2021-10-22T14:22:37.689Z"
   },
   {
    "duration": 19,
    "start_time": "2021-10-22T14:23:16.025Z"
   },
   {
    "duration": 721,
    "start_time": "2021-10-22T14:25:42.407Z"
   },
   {
    "duration": 64,
    "start_time": "2021-10-22T14:25:43.131Z"
   },
   {
    "duration": 38,
    "start_time": "2021-10-22T14:25:43.198Z"
   },
   {
    "duration": 18,
    "start_time": "2021-10-22T14:25:43.239Z"
   },
   {
    "duration": 34,
    "start_time": "2021-10-22T14:25:43.260Z"
   },
   {
    "duration": 6,
    "start_time": "2021-10-22T14:25:43.297Z"
   },
   {
    "duration": 13,
    "start_time": "2021-10-22T14:25:43.306Z"
   },
   {
    "duration": 16,
    "start_time": "2021-10-22T14:25:43.323Z"
   },
   {
    "duration": 7,
    "start_time": "2021-10-22T14:25:43.382Z"
   },
   {
    "duration": 7,
    "start_time": "2021-10-22T14:25:43.392Z"
   },
   {
    "duration": 8,
    "start_time": "2021-10-22T14:25:43.402Z"
   },
   {
    "duration": 10,
    "start_time": "2021-10-22T14:25:43.412Z"
   },
   {
    "duration": 8,
    "start_time": "2021-10-22T14:25:43.424Z"
   },
   {
    "duration": 49,
    "start_time": "2021-10-22T14:25:43.435Z"
   },
   {
    "duration": 14,
    "start_time": "2021-10-22T14:25:43.487Z"
   },
   {
    "duration": 7,
    "start_time": "2021-10-22T14:25:43.504Z"
   },
   {
    "duration": 7,
    "start_time": "2021-10-22T14:25:43.514Z"
   },
   {
    "duration": 7,
    "start_time": "2021-10-22T14:25:43.523Z"
   },
   {
    "duration": 62,
    "start_time": "2021-10-22T14:25:43.533Z"
   },
   {
    "duration": 8,
    "start_time": "2021-10-22T14:25:43.598Z"
   },
   {
    "duration": 17,
    "start_time": "2021-10-22T14:25:43.609Z"
   },
   {
    "duration": 18,
    "start_time": "2021-10-22T14:25:43.629Z"
   },
   {
    "duration": 5,
    "start_time": "2021-10-22T14:25:43.683Z"
   },
   {
    "duration": 10,
    "start_time": "2021-10-22T14:25:43.691Z"
   },
   {
    "duration": 7,
    "start_time": "2021-10-22T14:25:43.703Z"
   },
   {
    "duration": 8,
    "start_time": "2021-10-22T14:25:43.712Z"
   },
   {
    "duration": 9,
    "start_time": "2021-10-22T14:25:43.723Z"
   },
   {
    "duration": 56,
    "start_time": "2021-10-22T14:25:43.734Z"
   },
   {
    "duration": 5,
    "start_time": "2021-10-22T14:25:43.793Z"
   },
   {
    "duration": 17,
    "start_time": "2021-10-22T14:25:43.800Z"
   },
   {
    "duration": 4,
    "start_time": "2021-10-22T14:25:43.820Z"
   },
   {
    "duration": 11,
    "start_time": "2021-10-22T14:25:43.826Z"
   },
   {
    "duration": 43,
    "start_time": "2021-10-22T14:25:43.840Z"
   },
   {
    "duration": 18,
    "start_time": "2021-10-22T14:25:43.886Z"
   },
   {
    "duration": 16,
    "start_time": "2021-10-22T14:25:43.906Z"
   },
   {
    "duration": 27,
    "start_time": "2021-10-22T14:25:43.925Z"
   },
   {
    "duration": 40,
    "start_time": "2021-10-22T14:25:43.955Z"
   },
   {
    "duration": 24,
    "start_time": "2021-10-22T14:25:43.997Z"
   },
   {
    "duration": 21,
    "start_time": "2021-10-22T14:25:44.023Z"
   },
   {
    "duration": 37,
    "start_time": "2021-10-22T14:25:44.046Z"
   },
   {
    "duration": 16,
    "start_time": "2021-10-22T14:25:44.086Z"
   },
   {
    "duration": 12,
    "start_time": "2021-10-22T14:25:44.105Z"
   },
   {
    "duration": 962,
    "start_time": "2021-10-22T14:25:44.120Z"
   },
   {
    "duration": 4,
    "start_time": "2021-10-22T14:25:45.085Z"
   },
   {
    "duration": 20,
    "start_time": "2021-10-22T14:25:45.091Z"
   },
   {
    "duration": 8,
    "start_time": "2021-10-22T14:25:45.113Z"
   },
   {
    "duration": 26,
    "start_time": "2021-10-22T14:25:45.123Z"
   },
   {
    "duration": 5,
    "start_time": "2021-10-22T14:25:45.152Z"
   },
   {
    "duration": 26,
    "start_time": "2021-10-22T14:25:45.159Z"
   },
   {
    "duration": 3,
    "start_time": "2021-10-22T14:25:45.188Z"
   },
   {
    "duration": 38283,
    "start_time": "2021-10-22T14:25:45.193Z"
   },
   {
    "duration": 21,
    "start_time": "2021-10-22T14:26:23.478Z"
   },
   {
    "duration": 4,
    "start_time": "2021-10-22T14:29:01.291Z"
   },
   {
    "duration": 392,
    "start_time": "2021-10-22T14:29:03.033Z"
   },
   {
    "duration": 751,
    "start_time": "2021-10-22T14:29:29.922Z"
   },
   {
    "duration": 70,
    "start_time": "2021-10-22T14:29:30.676Z"
   },
   {
    "duration": 41,
    "start_time": "2021-10-22T14:29:30.749Z"
   },
   {
    "duration": 24,
    "start_time": "2021-10-22T14:29:30.793Z"
   },
   {
    "duration": 22,
    "start_time": "2021-10-22T14:29:30.819Z"
   },
   {
    "duration": 6,
    "start_time": "2021-10-22T14:29:30.843Z"
   },
   {
    "duration": 32,
    "start_time": "2021-10-22T14:29:30.851Z"
   },
   {
    "duration": 17,
    "start_time": "2021-10-22T14:29:30.887Z"
   },
   {
    "duration": 8,
    "start_time": "2021-10-22T14:29:30.908Z"
   },
   {
    "duration": 9,
    "start_time": "2021-10-22T14:29:30.918Z"
   },
   {
    "duration": 52,
    "start_time": "2021-10-22T14:29:30.930Z"
   },
   {
    "duration": 9,
    "start_time": "2021-10-22T14:29:30.985Z"
   },
   {
    "duration": 6,
    "start_time": "2021-10-22T14:29:30.997Z"
   },
   {
    "duration": 10,
    "start_time": "2021-10-22T14:29:31.006Z"
   },
   {
    "duration": 24,
    "start_time": "2021-10-22T14:29:31.018Z"
   },
   {
    "duration": 39,
    "start_time": "2021-10-22T14:29:31.044Z"
   },
   {
    "duration": 7,
    "start_time": "2021-10-22T14:29:31.086Z"
   },
   {
    "duration": 8,
    "start_time": "2021-10-22T14:29:31.095Z"
   },
   {
    "duration": 35,
    "start_time": "2021-10-22T14:29:31.106Z"
   },
   {
    "duration": 20,
    "start_time": "2021-10-22T14:29:31.143Z"
   },
   {
    "duration": 17,
    "start_time": "2021-10-22T14:29:31.166Z"
   },
   {
    "duration": 25,
    "start_time": "2021-10-22T14:29:31.186Z"
   },
   {
    "duration": 5,
    "start_time": "2021-10-22T14:29:31.217Z"
   },
   {
    "duration": 13,
    "start_time": "2021-10-22T14:29:31.225Z"
   },
   {
    "duration": 7,
    "start_time": "2021-10-22T14:29:31.241Z"
   },
   {
    "duration": 35,
    "start_time": "2021-10-22T14:29:31.250Z"
   },
   {
    "duration": 10,
    "start_time": "2021-10-22T14:29:31.287Z"
   },
   {
    "duration": 22,
    "start_time": "2021-10-22T14:29:31.299Z"
   },
   {
    "duration": 5,
    "start_time": "2021-10-22T14:29:31.323Z"
   },
   {
    "duration": 13,
    "start_time": "2021-10-22T14:29:31.330Z"
   },
   {
    "duration": 40,
    "start_time": "2021-10-22T14:29:31.345Z"
   },
   {
    "duration": 16,
    "start_time": "2021-10-22T14:29:31.387Z"
   },
   {
    "duration": 18,
    "start_time": "2021-10-22T14:29:31.406Z"
   },
   {
    "duration": 20,
    "start_time": "2021-10-22T14:29:31.426Z"
   },
   {
    "duration": 36,
    "start_time": "2021-10-22T14:29:31.449Z"
   },
   {
    "duration": 33,
    "start_time": "2021-10-22T14:29:31.488Z"
   },
   {
    "duration": 22,
    "start_time": "2021-10-22T14:29:31.524Z"
   },
   {
    "duration": 54,
    "start_time": "2021-10-22T14:29:31.550Z"
   },
   {
    "duration": 24,
    "start_time": "2021-10-22T14:29:31.607Z"
   },
   {
    "duration": 10,
    "start_time": "2021-10-22T14:29:31.634Z"
   },
   {
    "duration": 41,
    "start_time": "2021-10-22T14:29:31.646Z"
   },
   {
    "duration": 14,
    "start_time": "2021-10-22T14:29:31.690Z"
   },
   {
    "duration": 1081,
    "start_time": "2021-10-22T14:29:31.707Z"
   },
   {
    "duration": 4,
    "start_time": "2021-10-22T14:29:32.791Z"
   },
   {
    "duration": 14,
    "start_time": "2021-10-22T14:29:32.797Z"
   },
   {
    "duration": 15,
    "start_time": "2021-10-22T14:29:32.814Z"
   },
   {
    "duration": 24,
    "start_time": "2021-10-22T14:29:32.832Z"
   },
   {
    "duration": 4,
    "start_time": "2021-10-22T14:29:32.882Z"
   },
   {
    "duration": 11,
    "start_time": "2021-10-22T14:29:32.888Z"
   },
   {
    "duration": 4,
    "start_time": "2021-10-22T14:29:32.902Z"
   },
   {
    "duration": 6,
    "start_time": "2021-10-22T14:29:57.007Z"
   },
   {
    "duration": 4,
    "start_time": "2021-10-22T14:29:59.824Z"
   },
   {
    "duration": 3,
    "start_time": "2021-10-22T14:30:16.976Z"
   },
   {
    "duration": 6,
    "start_time": "2021-10-22T14:30:18.497Z"
   },
   {
    "duration": 4,
    "start_time": "2021-10-22T14:30:20.196Z"
   },
   {
    "duration": 7,
    "start_time": "2021-10-22T14:30:58.256Z"
   },
   {
    "duration": 5,
    "start_time": "2021-10-22T14:31:00.031Z"
   },
   {
    "duration": 4,
    "start_time": "2021-10-22T14:31:54.089Z"
   },
   {
    "duration": 4,
    "start_time": "2021-10-22T14:32:15.048Z"
   },
   {
    "duration": 5,
    "start_time": "2021-10-22T14:32:17.164Z"
   },
   {
    "duration": 4,
    "start_time": "2021-10-22T14:32:19.102Z"
   },
   {
    "duration": 4,
    "start_time": "2021-10-22T14:32:33.143Z"
   },
   {
    "duration": 6,
    "start_time": "2021-10-22T14:32:34.807Z"
   },
   {
    "duration": 5,
    "start_time": "2021-10-22T14:32:36.667Z"
   },
   {
    "duration": 6,
    "start_time": "2021-10-22T14:32:48.281Z"
   },
   {
    "duration": 5,
    "start_time": "2021-10-22T14:32:50.412Z"
   },
   {
    "duration": 4,
    "start_time": "2021-10-22T14:33:14.686Z"
   },
   {
    "duration": 6,
    "start_time": "2021-10-22T14:33:18.225Z"
   },
   {
    "duration": 3,
    "start_time": "2021-10-22T14:33:20.379Z"
   },
   {
    "duration": 4,
    "start_time": "2021-10-22T14:33:33.253Z"
   },
   {
    "duration": 6,
    "start_time": "2021-10-22T14:33:35.449Z"
   },
   {
    "duration": 5,
    "start_time": "2021-10-22T14:33:36.991Z"
   },
   {
    "duration": 5,
    "start_time": "2021-10-22T14:34:17.838Z"
   },
   {
    "duration": 37177,
    "start_time": "2021-10-22T14:34:19.441Z"
   },
   {
    "duration": 23,
    "start_time": "2021-10-22T14:35:00.373Z"
   },
   {
    "duration": 8,
    "start_time": "2021-10-22T14:36:17.612Z"
   },
   {
    "duration": 783,
    "start_time": "2021-10-22T14:45:23.258Z"
   },
   {
    "duration": 68,
    "start_time": "2021-10-22T14:45:24.044Z"
   },
   {
    "duration": 38,
    "start_time": "2021-10-22T14:45:24.116Z"
   },
   {
    "duration": 16,
    "start_time": "2021-10-22T14:45:24.181Z"
   },
   {
    "duration": 22,
    "start_time": "2021-10-22T14:45:24.201Z"
   },
   {
    "duration": 8,
    "start_time": "2021-10-22T14:45:24.227Z"
   },
   {
    "duration": 46,
    "start_time": "2021-10-22T14:45:24.237Z"
   },
   {
    "duration": 18,
    "start_time": "2021-10-22T14:45:24.287Z"
   },
   {
    "duration": 7,
    "start_time": "2021-10-22T14:45:24.308Z"
   },
   {
    "duration": 8,
    "start_time": "2021-10-22T14:45:24.317Z"
   },
   {
    "duration": 13,
    "start_time": "2021-10-22T14:45:24.327Z"
   },
   {
    "duration": 42,
    "start_time": "2021-10-22T14:45:24.342Z"
   },
   {
    "duration": 8,
    "start_time": "2021-10-22T14:45:24.386Z"
   },
   {
    "duration": 12,
    "start_time": "2021-10-22T14:45:24.396Z"
   },
   {
    "duration": 25,
    "start_time": "2021-10-22T14:45:24.410Z"
   },
   {
    "duration": 6,
    "start_time": "2021-10-22T14:45:24.438Z"
   },
   {
    "duration": 38,
    "start_time": "2021-10-22T14:45:24.447Z"
   },
   {
    "duration": 8,
    "start_time": "2021-10-22T14:45:24.487Z"
   },
   {
    "duration": 20,
    "start_time": "2021-10-22T14:45:24.497Z"
   },
   {
    "duration": 11,
    "start_time": "2021-10-22T14:45:24.520Z"
   },
   {
    "duration": 8,
    "start_time": "2021-10-22T14:45:24.533Z"
   },
   {
    "duration": 55,
    "start_time": "2021-10-22T14:45:24.544Z"
   },
   {
    "duration": 5,
    "start_time": "2021-10-22T14:45:24.604Z"
   },
   {
    "duration": 7,
    "start_time": "2021-10-22T14:45:24.612Z"
   },
   {
    "duration": 9,
    "start_time": "2021-10-22T14:45:24.621Z"
   },
   {
    "duration": 7,
    "start_time": "2021-10-22T14:45:24.633Z"
   },
   {
    "duration": 45,
    "start_time": "2021-10-22T14:45:24.643Z"
   },
   {
    "duration": 19,
    "start_time": "2021-10-22T14:45:24.691Z"
   },
   {
    "duration": 4,
    "start_time": "2021-10-22T14:45:24.713Z"
   },
   {
    "duration": 8,
    "start_time": "2021-10-22T14:45:24.720Z"
   },
   {
    "duration": 6,
    "start_time": "2021-10-22T14:45:24.731Z"
   },
   {
    "duration": 9,
    "start_time": "2021-10-22T14:45:24.782Z"
   },
   {
    "duration": 13,
    "start_time": "2021-10-22T14:45:24.794Z"
   },
   {
    "duration": 19,
    "start_time": "2021-10-22T14:45:24.810Z"
   },
   {
    "duration": 53,
    "start_time": "2021-10-22T14:45:24.831Z"
   },
   {
    "duration": 26,
    "start_time": "2021-10-22T14:45:24.887Z"
   },
   {
    "duration": 23,
    "start_time": "2021-10-22T14:45:24.916Z"
   },
   {
    "duration": 59,
    "start_time": "2021-10-22T14:45:24.942Z"
   },
   {
    "duration": 27,
    "start_time": "2021-10-22T14:45:25.004Z"
   },
   {
    "duration": 8,
    "start_time": "2021-10-22T14:45:25.034Z"
   },
   {
    "duration": 6,
    "start_time": "2021-10-22T14:45:25.044Z"
   },
   {
    "duration": 5,
    "start_time": "2021-10-22T14:45:25.083Z"
   },
   {
    "duration": 1121,
    "start_time": "2021-10-22T14:45:25.091Z"
   },
   {
    "duration": 4,
    "start_time": "2021-10-22T14:45:26.214Z"
   },
   {
    "duration": 18,
    "start_time": "2021-10-22T14:45:26.220Z"
   },
   {
    "duration": 6,
    "start_time": "2021-10-22T14:45:26.240Z"
   },
   {
    "duration": 6,
    "start_time": "2021-10-22T14:45:26.249Z"
   },
   {
    "duration": 37783,
    "start_time": "2021-10-22T14:45:26.257Z"
   },
   {
    "duration": 22,
    "start_time": "2021-10-22T14:46:04.042Z"
   },
   {
    "duration": 16,
    "start_time": "2021-10-22T14:46:04.067Z"
   },
   {
    "duration": 764,
    "start_time": "2021-10-22T15:05:24.541Z"
   },
   {
    "duration": 65,
    "start_time": "2021-10-22T15:05:25.308Z"
   },
   {
    "duration": 37,
    "start_time": "2021-10-22T15:05:25.376Z"
   },
   {
    "duration": 16,
    "start_time": "2021-10-22T15:05:25.416Z"
   },
   {
    "duration": 47,
    "start_time": "2021-10-22T15:05:25.435Z"
   },
   {
    "duration": 10,
    "start_time": "2021-10-22T15:05:25.484Z"
   },
   {
    "duration": 13,
    "start_time": "2021-10-22T15:05:25.497Z"
   },
   {
    "duration": 18,
    "start_time": "2021-10-22T15:05:25.515Z"
   },
   {
    "duration": 47,
    "start_time": "2021-10-22T15:05:25.537Z"
   },
   {
    "duration": 9,
    "start_time": "2021-10-22T15:05:25.587Z"
   },
   {
    "duration": 8,
    "start_time": "2021-10-22T15:05:25.599Z"
   },
   {
    "duration": 8,
    "start_time": "2021-10-22T15:05:25.610Z"
   },
   {
    "duration": 6,
    "start_time": "2021-10-22T15:05:25.620Z"
   },
   {
    "duration": 57,
    "start_time": "2021-10-22T15:05:25.629Z"
   },
   {
    "duration": 18,
    "start_time": "2021-10-22T15:05:25.688Z"
   },
   {
    "duration": 9,
    "start_time": "2021-10-22T15:05:25.709Z"
   },
   {
    "duration": 61,
    "start_time": "2021-10-22T15:05:25.721Z"
   },
   {
    "duration": 7,
    "start_time": "2021-10-22T15:05:25.785Z"
   },
   {
    "duration": 23,
    "start_time": "2021-10-22T15:05:25.795Z"
   },
   {
    "duration": 18,
    "start_time": "2021-10-22T15:05:25.820Z"
   },
   {
    "duration": 9,
    "start_time": "2021-10-22T15:05:25.841Z"
   },
   {
    "duration": 43,
    "start_time": "2021-10-22T15:05:25.853Z"
   },
   {
    "duration": 5,
    "start_time": "2021-10-22T15:05:25.902Z"
   },
   {
    "duration": 8,
    "start_time": "2021-10-22T15:05:25.909Z"
   },
   {
    "duration": 6,
    "start_time": "2021-10-22T15:05:25.919Z"
   },
   {
    "duration": 10,
    "start_time": "2021-10-22T15:05:25.927Z"
   },
   {
    "duration": 49,
    "start_time": "2021-10-22T15:05:25.939Z"
   },
   {
    "duration": 21,
    "start_time": "2021-10-22T15:05:25.990Z"
   },
   {
    "duration": 5,
    "start_time": "2021-10-22T15:05:26.013Z"
   },
   {
    "duration": 15,
    "start_time": "2021-10-22T15:05:26.020Z"
   },
   {
    "duration": 15,
    "start_time": "2021-10-22T15:05:26.038Z"
   },
   {
    "duration": 27,
    "start_time": "2021-10-22T15:05:26.056Z"
   },
   {
    "duration": 23,
    "start_time": "2021-10-22T15:05:26.087Z"
   },
   {
    "duration": 30,
    "start_time": "2021-10-22T15:05:26.113Z"
   },
   {
    "duration": 16,
    "start_time": "2021-10-22T15:05:26.146Z"
   },
   {
    "duration": 37,
    "start_time": "2021-10-22T15:05:26.164Z"
   },
   {
    "duration": 20,
    "start_time": "2021-10-22T15:05:26.204Z"
   },
   {
    "duration": 23,
    "start_time": "2021-10-22T15:05:26.227Z"
   },
   {
    "duration": 21,
    "start_time": "2021-10-22T15:05:26.281Z"
   },
   {
    "duration": 7,
    "start_time": "2021-10-22T15:05:26.304Z"
   },
   {
    "duration": 13,
    "start_time": "2021-10-22T15:05:26.313Z"
   },
   {
    "duration": 15,
    "start_time": "2021-10-22T15:05:26.328Z"
   },
   {
    "duration": 968,
    "start_time": "2021-10-22T15:05:26.345Z"
   },
   {
    "duration": 5,
    "start_time": "2021-10-22T15:05:27.316Z"
   },
   {
    "duration": 11,
    "start_time": "2021-10-22T15:05:27.324Z"
   },
   {
    "duration": 7,
    "start_time": "2021-10-22T15:05:27.338Z"
   },
   {
    "duration": 13,
    "start_time": "2021-10-22T15:05:27.347Z"
   },
   {
    "duration": 14,
    "start_time": "2021-10-22T15:05:27.382Z"
   },
   {
    "duration": 457,
    "start_time": "2021-10-22T15:06:55.671Z"
   },
   {
    "duration": 349,
    "start_time": "2021-10-22T15:07:46.496Z"
   },
   {
    "duration": 4,
    "start_time": "2021-10-22T15:10:06.846Z"
   },
   {
    "duration": 24,
    "start_time": "2021-10-22T15:10:13.539Z"
   },
   {
    "duration": 315,
    "start_time": "2021-10-22T15:10:40.006Z"
   },
   {
    "duration": 301,
    "start_time": "2021-10-22T15:15:46.429Z"
   },
   {
    "duration": 93,
    "start_time": "2021-10-22T15:15:52.412Z"
   },
   {
    "duration": 321,
    "start_time": "2021-10-22T15:25:20.498Z"
   },
   {
    "duration": 90,
    "start_time": "2021-10-22T15:25:31.571Z"
   },
   {
    "duration": 319,
    "start_time": "2021-10-22T15:25:33.878Z"
   },
   {
    "duration": 95,
    "start_time": "2021-10-22T15:26:12.645Z"
   },
   {
    "duration": 328,
    "start_time": "2021-10-22T15:26:49.191Z"
   },
   {
    "duration": 40634,
    "start_time": "2021-10-22T15:28:08.450Z"
   },
   {
    "duration": 7,
    "start_time": "2021-10-22T15:28:49.086Z"
   },
   {
    "duration": 19,
    "start_time": "2021-10-22T17:07:05.276Z"
   },
   {
    "duration": 816,
    "start_time": "2021-10-22T17:07:18.514Z"
   },
   {
    "duration": 73,
    "start_time": "2021-10-22T17:07:19.333Z"
   },
   {
    "duration": 39,
    "start_time": "2021-10-22T17:07:19.410Z"
   },
   {
    "duration": 41,
    "start_time": "2021-10-22T17:07:19.452Z"
   },
   {
    "duration": 17,
    "start_time": "2021-10-22T17:07:19.496Z"
   },
   {
    "duration": 11,
    "start_time": "2021-10-22T17:07:19.515Z"
   },
   {
    "duration": 12,
    "start_time": "2021-10-22T17:07:19.529Z"
   },
   {
    "duration": 29,
    "start_time": "2021-10-22T17:07:19.583Z"
   },
   {
    "duration": 7,
    "start_time": "2021-10-22T17:07:19.615Z"
   },
   {
    "duration": 7,
    "start_time": "2021-10-22T17:07:19.624Z"
   },
   {
    "duration": 8,
    "start_time": "2021-10-22T17:07:19.633Z"
   },
   {
    "duration": 42,
    "start_time": "2021-10-22T17:07:19.644Z"
   },
   {
    "duration": 4,
    "start_time": "2021-10-22T17:07:19.689Z"
   },
   {
    "duration": 9,
    "start_time": "2021-10-22T17:07:19.695Z"
   },
   {
    "duration": 18,
    "start_time": "2021-10-22T17:07:19.708Z"
   },
   {
    "duration": 11,
    "start_time": "2021-10-22T17:07:19.729Z"
   },
   {
    "duration": 15,
    "start_time": "2021-10-22T17:07:19.784Z"
   },
   {
    "duration": 8,
    "start_time": "2021-10-22T17:07:19.803Z"
   },
   {
    "duration": 20,
    "start_time": "2021-10-22T17:07:19.815Z"
   },
   {
    "duration": 46,
    "start_time": "2021-10-22T17:07:19.838Z"
   },
   {
    "duration": 12,
    "start_time": "2021-10-22T17:07:19.887Z"
   },
   {
    "duration": 18,
    "start_time": "2021-10-22T17:07:19.907Z"
   },
   {
    "duration": 5,
    "start_time": "2021-10-22T17:07:19.930Z"
   },
   {
    "duration": 49,
    "start_time": "2021-10-22T17:07:19.938Z"
   },
   {
    "duration": 8,
    "start_time": "2021-10-22T17:07:19.990Z"
   },
   {
    "duration": 10,
    "start_time": "2021-10-22T17:07:20.000Z"
   },
   {
    "duration": 10,
    "start_time": "2021-10-22T17:07:20.013Z"
   },
   {
    "duration": 21,
    "start_time": "2021-10-22T17:07:20.026Z"
   },
   {
    "duration": 37,
    "start_time": "2021-10-22T17:07:20.050Z"
   },
   {
    "duration": 12,
    "start_time": "2021-10-22T17:07:20.090Z"
   },
   {
    "duration": 8,
    "start_time": "2021-10-22T17:07:20.104Z"
   },
   {
    "duration": 12,
    "start_time": "2021-10-22T17:07:20.115Z"
   },
   {
    "duration": 10,
    "start_time": "2021-10-22T17:07:20.129Z"
   },
   {
    "duration": 57,
    "start_time": "2021-10-22T17:07:20.141Z"
   },
   {
    "duration": 15,
    "start_time": "2021-10-22T17:07:20.201Z"
   },
   {
    "duration": 26,
    "start_time": "2021-10-22T17:07:20.219Z"
   },
   {
    "duration": 61,
    "start_time": "2021-10-22T17:07:20.248Z"
   },
   {
    "duration": 24,
    "start_time": "2021-10-22T17:07:20.311Z"
   },
   {
    "duration": 47,
    "start_time": "2021-10-22T17:07:20.337Z"
   },
   {
    "duration": 12,
    "start_time": "2021-10-22T17:07:20.387Z"
   },
   {
    "duration": 11,
    "start_time": "2021-10-22T17:07:20.402Z"
   },
   {
    "duration": 7,
    "start_time": "2021-10-22T17:07:20.415Z"
   },
   {
    "duration": 1107,
    "start_time": "2021-10-22T17:07:20.424Z"
   },
   {
    "duration": 4,
    "start_time": "2021-10-22T17:07:21.534Z"
   },
   {
    "duration": 12,
    "start_time": "2021-10-22T17:07:21.540Z"
   },
   {
    "duration": 14,
    "start_time": "2021-10-22T17:07:21.555Z"
   },
   {
    "duration": 8,
    "start_time": "2021-10-22T17:07:21.571Z"
   },
   {
    "duration": 4271,
    "start_time": "2021-10-22T17:07:21.582Z"
   },
   {
    "duration": 9,
    "start_time": "2021-10-22T17:07:25.855Z"
   },
   {
    "duration": 24,
    "start_time": "2021-10-22T17:07:25.866Z"
   },
   {
    "duration": 803,
    "start_time": "2021-10-22T17:19:33.525Z"
   },
   {
    "duration": 74,
    "start_time": "2021-10-22T17:19:34.331Z"
   },
   {
    "duration": 38,
    "start_time": "2021-10-22T17:19:34.408Z"
   },
   {
    "duration": 43,
    "start_time": "2021-10-22T17:19:34.451Z"
   },
   {
    "duration": 17,
    "start_time": "2021-10-22T17:19:34.497Z"
   },
   {
    "duration": 8,
    "start_time": "2021-10-22T17:19:34.518Z"
   },
   {
    "duration": 58,
    "start_time": "2021-10-22T17:19:34.529Z"
   },
   {
    "duration": 18,
    "start_time": "2021-10-22T17:19:34.593Z"
   },
   {
    "duration": 8,
    "start_time": "2021-10-22T17:19:34.614Z"
   },
   {
    "duration": 8,
    "start_time": "2021-10-22T17:19:34.625Z"
   },
   {
    "duration": 8,
    "start_time": "2021-10-22T17:19:34.635Z"
   },
   {
    "duration": 8,
    "start_time": "2021-10-22T17:19:34.683Z"
   },
   {
    "duration": 6,
    "start_time": "2021-10-22T17:19:34.694Z"
   },
   {
    "duration": 7,
    "start_time": "2021-10-22T17:19:34.703Z"
   },
   {
    "duration": 15,
    "start_time": "2021-10-22T17:19:34.713Z"
   },
   {
    "duration": 6,
    "start_time": "2021-10-22T17:19:34.730Z"
   },
   {
    "duration": 8,
    "start_time": "2021-10-22T17:19:34.783Z"
   },
   {
    "duration": 11,
    "start_time": "2021-10-22T17:19:34.794Z"
   },
   {
    "duration": 21,
    "start_time": "2021-10-22T17:19:34.808Z"
   },
   {
    "duration": 16,
    "start_time": "2021-10-22T17:19:34.831Z"
   },
   {
    "duration": 8,
    "start_time": "2021-10-22T17:19:34.883Z"
   },
   {
    "duration": 21,
    "start_time": "2021-10-22T17:19:34.894Z"
   },
   {
    "duration": 5,
    "start_time": "2021-10-22T17:19:34.920Z"
   },
   {
    "duration": 8,
    "start_time": "2021-10-22T17:19:34.928Z"
   },
   {
    "duration": 44,
    "start_time": "2021-10-22T17:19:34.938Z"
   },
   {
    "duration": 9,
    "start_time": "2021-10-22T17:19:34.986Z"
   },
   {
    "duration": 12,
    "start_time": "2021-10-22T17:19:34.998Z"
   },
   {
    "duration": 20,
    "start_time": "2021-10-22T17:19:35.012Z"
   },
   {
    "duration": 55,
    "start_time": "2021-10-22T17:19:35.035Z"
   },
   {
    "duration": 8,
    "start_time": "2021-10-22T17:19:35.095Z"
   },
   {
    "duration": 8,
    "start_time": "2021-10-22T17:19:35.105Z"
   },
   {
    "duration": 13,
    "start_time": "2021-10-22T17:19:35.115Z"
   },
   {
    "duration": 12,
    "start_time": "2021-10-22T17:19:35.130Z"
   },
   {
    "duration": 45,
    "start_time": "2021-10-22T17:19:35.144Z"
   },
   {
    "duration": 12,
    "start_time": "2021-10-22T17:19:35.192Z"
   },
   {
    "duration": 28,
    "start_time": "2021-10-22T17:19:35.207Z"
   },
   {
    "duration": 62,
    "start_time": "2021-10-22T17:19:35.238Z"
   },
   {
    "duration": 25,
    "start_time": "2021-10-22T17:19:35.303Z"
   },
   {
    "duration": 21,
    "start_time": "2021-10-22T17:19:35.331Z"
   },
   {
    "duration": 30,
    "start_time": "2021-10-22T17:19:35.354Z"
   },
   {
    "duration": 11,
    "start_time": "2021-10-22T17:19:35.392Z"
   },
   {
    "duration": 11,
    "start_time": "2021-10-22T17:19:35.406Z"
   },
   {
    "duration": 1181,
    "start_time": "2021-10-22T17:19:35.419Z"
   },
   {
    "duration": 4,
    "start_time": "2021-10-22T17:19:36.604Z"
   },
   {
    "duration": 15,
    "start_time": "2021-10-22T17:19:36.610Z"
   },
   {
    "duration": 11,
    "start_time": "2021-10-22T17:19:36.627Z"
   },
   {
    "duration": 11,
    "start_time": "2021-10-22T17:19:36.640Z"
   },
   {
    "duration": 4570,
    "start_time": "2021-10-22T17:19:36.653Z"
   },
   {
    "duration": 7,
    "start_time": "2021-10-22T17:19:41.225Z"
   },
   {
    "duration": 815,
    "start_time": "2021-10-23T10:12:15.588Z"
   },
   {
    "duration": 68,
    "start_time": "2021-10-23T10:12:16.406Z"
   },
   {
    "duration": 38,
    "start_time": "2021-10-23T10:12:16.478Z"
   },
   {
    "duration": 16,
    "start_time": "2021-10-23T10:12:16.519Z"
   },
   {
    "duration": 14,
    "start_time": "2021-10-23T10:12:16.537Z"
   },
   {
    "duration": 6,
    "start_time": "2021-10-23T10:12:16.553Z"
   },
   {
    "duration": 46,
    "start_time": "2021-10-23T10:12:16.562Z"
   },
   {
    "duration": 17,
    "start_time": "2021-10-23T10:12:16.612Z"
   },
   {
    "duration": 7,
    "start_time": "2021-10-23T10:12:16.632Z"
   },
   {
    "duration": 7,
    "start_time": "2021-10-23T10:12:16.641Z"
   },
   {
    "duration": 50,
    "start_time": "2021-10-23T10:12:16.651Z"
   },
   {
    "duration": 6,
    "start_time": "2021-10-23T10:12:16.703Z"
   },
   {
    "duration": 5,
    "start_time": "2021-10-23T10:12:16.712Z"
   },
   {
    "duration": 8,
    "start_time": "2021-10-23T10:12:16.720Z"
   },
   {
    "duration": 15,
    "start_time": "2021-10-23T10:12:16.731Z"
   },
   {
    "duration": 6,
    "start_time": "2021-10-23T10:12:16.748Z"
   },
   {
    "duration": 8,
    "start_time": "2021-10-23T10:12:16.801Z"
   },
   {
    "duration": 9,
    "start_time": "2021-10-23T10:12:16.811Z"
   },
   {
    "duration": 19,
    "start_time": "2021-10-23T10:12:16.822Z"
   },
   {
    "duration": 8,
    "start_time": "2021-10-23T10:12:16.843Z"
   },
   {
    "duration": 6,
    "start_time": "2021-10-23T10:12:16.853Z"
   },
   {
    "duration": 55,
    "start_time": "2021-10-23T10:12:16.861Z"
   },
   {
    "duration": 5,
    "start_time": "2021-10-23T10:12:16.921Z"
   },
   {
    "duration": 14,
    "start_time": "2021-10-23T10:12:16.929Z"
   },
   {
    "duration": 8,
    "start_time": "2021-10-23T10:12:16.945Z"
   },
   {
    "duration": 7,
    "start_time": "2021-10-23T10:12:16.955Z"
   },
   {
    "duration": 42,
    "start_time": "2021-10-23T10:12:16.965Z"
   },
   {
    "duration": 19,
    "start_time": "2021-10-23T10:12:17.010Z"
   },
   {
    "duration": 4,
    "start_time": "2021-10-23T10:12:17.032Z"
   },
   {
    "duration": 10,
    "start_time": "2021-10-23T10:12:17.038Z"
   },
   {
    "duration": 7,
    "start_time": "2021-10-23T10:12:17.050Z"
   },
   {
    "duration": 49,
    "start_time": "2021-10-23T10:12:17.059Z"
   },
   {
    "duration": 13,
    "start_time": "2021-10-23T10:12:17.110Z"
   },
   {
    "duration": 19,
    "start_time": "2021-10-23T10:12:17.125Z"
   },
   {
    "duration": 53,
    "start_time": "2021-10-23T10:12:17.147Z"
   },
   {
    "duration": 27,
    "start_time": "2021-10-23T10:12:17.203Z"
   },
   {
    "duration": 23,
    "start_time": "2021-10-23T10:12:17.233Z"
   },
   {
    "duration": 59,
    "start_time": "2021-10-23T10:12:17.259Z"
   },
   {
    "duration": 24,
    "start_time": "2021-10-23T10:12:17.321Z"
   },
   {
    "duration": 10,
    "start_time": "2021-10-23T10:12:17.348Z"
   },
   {
    "duration": 40,
    "start_time": "2021-10-23T10:12:17.360Z"
   },
   {
    "duration": 6,
    "start_time": "2021-10-23T10:12:17.403Z"
   },
   {
    "duration": 981,
    "start_time": "2021-10-23T10:12:17.411Z"
   },
   {
    "duration": 7,
    "start_time": "2021-10-23T10:12:18.395Z"
   },
   {
    "duration": 10,
    "start_time": "2021-10-23T10:12:18.405Z"
   },
   {
    "duration": 4,
    "start_time": "2021-10-23T10:12:18.417Z"
   },
   {
    "duration": 6,
    "start_time": "2021-10-23T10:12:18.424Z"
   },
   {
    "duration": 3550,
    "start_time": "2021-10-23T10:12:18.432Z"
   },
   {
    "duration": 18,
    "start_time": "2021-10-23T10:12:21.984Z"
   },
   {
    "duration": 453,
    "start_time": "2021-10-23T10:38:21.885Z"
   },
   {
    "duration": 841,
    "start_time": "2021-10-23T10:38:30.219Z"
   },
   {
    "duration": 71,
    "start_time": "2021-10-23T10:38:31.063Z"
   },
   {
    "duration": 32,
    "start_time": "2021-10-23T10:38:31.137Z"
   },
   {
    "duration": 37,
    "start_time": "2021-10-23T10:38:31.173Z"
   },
   {
    "duration": 17,
    "start_time": "2021-10-23T10:38:31.213Z"
   },
   {
    "duration": 12,
    "start_time": "2021-10-23T10:38:31.233Z"
   },
   {
    "duration": 53,
    "start_time": "2021-10-23T10:38:31.248Z"
   },
   {
    "duration": 20,
    "start_time": "2021-10-23T10:38:31.306Z"
   },
   {
    "duration": 8,
    "start_time": "2021-10-23T10:38:31.329Z"
   },
   {
    "duration": 7,
    "start_time": "2021-10-23T10:38:31.340Z"
   },
   {
    "duration": 8,
    "start_time": "2021-10-23T10:38:31.350Z"
   },
   {
    "duration": 45,
    "start_time": "2021-10-23T10:38:31.360Z"
   },
   {
    "duration": 6,
    "start_time": "2021-10-23T10:38:31.408Z"
   },
   {
    "duration": 8,
    "start_time": "2021-10-23T10:38:31.417Z"
   },
   {
    "duration": 15,
    "start_time": "2021-10-23T10:38:31.428Z"
   },
   {
    "duration": 7,
    "start_time": "2021-10-23T10:38:31.445Z"
   },
   {
    "duration": 48,
    "start_time": "2021-10-23T10:38:31.454Z"
   },
   {
    "duration": 7,
    "start_time": "2021-10-23T10:38:31.505Z"
   },
   {
    "duration": 20,
    "start_time": "2021-10-23T10:38:31.515Z"
   },
   {
    "duration": 17,
    "start_time": "2021-10-23T10:38:31.537Z"
   },
   {
    "duration": 44,
    "start_time": "2021-10-23T10:38:31.556Z"
   },
   {
    "duration": 19,
    "start_time": "2021-10-23T10:38:31.603Z"
   },
   {
    "duration": 5,
    "start_time": "2021-10-23T10:38:31.627Z"
   },
   {
    "duration": 9,
    "start_time": "2021-10-23T10:38:31.635Z"
   },
   {
    "duration": 12,
    "start_time": "2021-10-23T10:38:31.646Z"
   },
   {
    "duration": 42,
    "start_time": "2021-10-23T10:38:31.660Z"
   },
   {
    "duration": 14,
    "start_time": "2021-10-23T10:38:31.704Z"
   },
   {
    "duration": 18,
    "start_time": "2021-10-23T10:38:31.721Z"
   },
   {
    "duration": 4,
    "start_time": "2021-10-23T10:38:31.741Z"
   },
   {
    "duration": 17,
    "start_time": "2021-10-23T10:38:31.747Z"
   },
   {
    "duration": 7,
    "start_time": "2021-10-23T10:38:31.766Z"
   },
   {
    "duration": 6,
    "start_time": "2021-10-23T10:38:31.801Z"
   },
   {
    "duration": 16,
    "start_time": "2021-10-23T10:38:31.809Z"
   },
   {
    "duration": 19,
    "start_time": "2021-10-23T10:38:31.827Z"
   },
   {
    "duration": 16,
    "start_time": "2021-10-23T10:38:31.848Z"
   },
   {
    "duration": 51,
    "start_time": "2021-10-23T10:38:31.867Z"
   },
   {
    "duration": 20,
    "start_time": "2021-10-23T10:38:31.920Z"
   },
   {
    "duration": 26,
    "start_time": "2021-10-23T10:38:31.943Z"
   },
   {
    "duration": 47,
    "start_time": "2021-10-23T10:38:31.972Z"
   },
   {
    "duration": 7,
    "start_time": "2021-10-23T10:38:32.021Z"
   },
   {
    "duration": 6,
    "start_time": "2021-10-23T10:38:32.031Z"
   },
   {
    "duration": 8,
    "start_time": "2021-10-23T10:38:32.039Z"
   },
   {
    "duration": 1088,
    "start_time": "2021-10-23T10:38:32.050Z"
   },
   {
    "duration": 4,
    "start_time": "2021-10-23T10:38:33.141Z"
   },
   {
    "duration": 10,
    "start_time": "2021-10-23T10:38:33.147Z"
   },
   {
    "duration": 7,
    "start_time": "2021-10-23T10:38:33.159Z"
   },
   {
    "duration": 6,
    "start_time": "2021-10-23T10:38:33.168Z"
   },
   {
    "duration": 3858,
    "start_time": "2021-10-23T10:38:33.176Z"
   },
   {
    "duration": 7,
    "start_time": "2021-10-23T10:38:37.036Z"
   },
   {
    "duration": 448,
    "start_time": "2021-10-23T10:38:37.046Z"
   },
   {
    "duration": 18,
    "start_time": "2021-10-23T10:38:40.991Z"
   },
   {
    "duration": 6,
    "start_time": "2021-10-23T10:46:03.070Z"
   },
   {
    "duration": 9,
    "start_time": "2021-10-23T10:46:04.923Z"
   },
   {
    "duration": 3,
    "start_time": "2021-10-23T10:47:38.525Z"
   },
   {
    "duration": 74,
    "start_time": "2021-10-23T10:47:38.532Z"
   },
   {
    "duration": 20,
    "start_time": "2021-10-23T10:47:38.609Z"
   },
   {
    "duration": 19,
    "start_time": "2021-10-23T10:47:38.632Z"
   },
   {
    "duration": 12,
    "start_time": "2021-10-23T10:47:38.654Z"
   },
   {
    "duration": 7,
    "start_time": "2021-10-23T10:47:38.700Z"
   },
   {
    "duration": 17,
    "start_time": "2021-10-23T10:47:38.710Z"
   },
   {
    "duration": 11,
    "start_time": "2021-10-23T10:47:40.388Z"
   },
   {
    "duration": 10,
    "start_time": "2021-10-23T10:47:49.513Z"
   },
   {
    "duration": 12,
    "start_time": "2021-10-23T10:48:02.277Z"
   },
   {
    "duration": 10,
    "start_time": "2021-10-23T10:48:52.923Z"
   },
   {
    "duration": 355,
    "start_time": "2021-10-23T10:50:30.743Z"
   },
   {
    "duration": 7,
    "start_time": "2021-10-23T10:50:36.672Z"
   },
   {
    "duration": 6,
    "start_time": "2021-10-23T10:50:49.936Z"
   },
   {
    "duration": 10,
    "start_time": "2021-10-23T10:51:02.044Z"
   },
   {
    "duration": 9,
    "start_time": "2021-10-23T10:51:19.359Z"
   },
   {
    "duration": 7,
    "start_time": "2021-10-23T10:52:08.348Z"
   },
   {
    "duration": 6,
    "start_time": "2021-10-23T10:52:34.559Z"
   },
   {
    "duration": 6,
    "start_time": "2021-10-23T10:52:38.998Z"
   },
   {
    "duration": 6,
    "start_time": "2021-10-23T10:52:51.842Z"
   },
   {
    "duration": 14,
    "start_time": "2021-10-23T10:53:51.948Z"
   },
   {
    "duration": 4541,
    "start_time": "2021-10-23T10:55:25.234Z"
   },
   {
    "duration": 810,
    "start_time": "2021-10-23T10:56:15.555Z"
   },
   {
    "duration": 71,
    "start_time": "2021-10-23T10:56:16.368Z"
   },
   {
    "duration": 28,
    "start_time": "2021-10-23T10:56:16.443Z"
   },
   {
    "duration": 32,
    "start_time": "2021-10-23T10:56:16.474Z"
   },
   {
    "duration": 12,
    "start_time": "2021-10-23T10:56:16.508Z"
   },
   {
    "duration": 14,
    "start_time": "2021-10-23T10:56:16.522Z"
   },
   {
    "duration": 7,
    "start_time": "2021-10-23T10:56:16.538Z"
   },
   {
    "duration": 9,
    "start_time": "2021-10-23T10:56:16.549Z"
   },
   {
    "duration": 10,
    "start_time": "2021-10-23T10:56:16.602Z"
   },
   {
    "duration": 15,
    "start_time": "2021-10-23T10:56:16.614Z"
   },
   {
    "duration": 6,
    "start_time": "2021-10-23T10:56:16.631Z"
   },
   {
    "duration": 10,
    "start_time": "2021-10-23T10:56:16.640Z"
   },
   {
    "duration": 7,
    "start_time": "2021-10-23T10:56:16.653Z"
   },
   {
    "duration": 41,
    "start_time": "2021-10-23T10:56:16.662Z"
   },
   {
    "duration": 14,
    "start_time": "2021-10-23T10:56:16.706Z"
   },
   {
    "duration": 12,
    "start_time": "2021-10-23T10:56:16.723Z"
   },
   {
    "duration": 5,
    "start_time": "2021-10-23T10:56:16.738Z"
   },
   {
    "duration": 34,
    "start_time": "2021-10-23T10:56:16.746Z"
   },
   {
    "duration": 28,
    "start_time": "2021-10-23T10:56:16.783Z"
   },
   {
    "duration": 7,
    "start_time": "2021-10-23T10:56:16.814Z"
   },
   {
    "duration": 21,
    "start_time": "2021-10-23T10:56:16.823Z"
   },
   {
    "duration": 13,
    "start_time": "2021-10-23T10:56:16.846Z"
   },
   {
    "duration": 35,
    "start_time": "2021-10-23T10:56:16.864Z"
   },
   {
    "duration": 8,
    "start_time": "2021-10-23T10:56:16.902Z"
   },
   {
    "duration": 9,
    "start_time": "2021-10-23T10:56:16.913Z"
   },
   {
    "duration": 19,
    "start_time": "2021-10-23T10:56:16.924Z"
   },
   {
    "duration": 6,
    "start_time": "2021-10-23T10:56:16.946Z"
   },
   {
    "duration": 47,
    "start_time": "2021-10-23T10:56:16.955Z"
   },
   {
    "duration": 8,
    "start_time": "2021-10-23T10:56:17.006Z"
   },
   {
    "duration": 9,
    "start_time": "2021-10-23T10:56:17.016Z"
   },
   {
    "duration": 11,
    "start_time": "2021-10-23T10:56:17.028Z"
   },
   {
    "duration": 20,
    "start_time": "2021-10-23T10:56:17.041Z"
   },
   {
    "duration": 5,
    "start_time": "2021-10-23T10:56:17.100Z"
   },
   {
    "duration": 11,
    "start_time": "2021-10-23T10:56:17.107Z"
   },
   {
    "duration": 5,
    "start_time": "2021-10-23T10:56:17.121Z"
   },
   {
    "duration": 9,
    "start_time": "2021-10-23T10:56:17.128Z"
   },
   {
    "duration": 14,
    "start_time": "2021-10-23T10:56:17.139Z"
   },
   {
    "duration": 53,
    "start_time": "2021-10-23T10:56:17.155Z"
   },
   {
    "duration": 16,
    "start_time": "2021-10-23T10:56:17.210Z"
   },
   {
    "duration": 31,
    "start_time": "2021-10-23T10:56:17.228Z"
   },
   {
    "duration": 41,
    "start_time": "2021-10-23T10:56:17.262Z"
   },
   {
    "duration": 24,
    "start_time": "2021-10-23T10:56:17.305Z"
   },
   {
    "duration": 22,
    "start_time": "2021-10-23T10:56:17.331Z"
   },
   {
    "duration": 7,
    "start_time": "2021-10-23T10:56:17.355Z"
   },
   {
    "duration": 38,
    "start_time": "2021-10-23T10:56:17.364Z"
   },
   {
    "duration": 5,
    "start_time": "2021-10-23T10:56:17.404Z"
   },
   {
    "duration": 973,
    "start_time": "2021-10-23T10:56:17.412Z"
   },
   {
    "duration": 4,
    "start_time": "2021-10-23T10:56:18.388Z"
   },
   {
    "duration": 7,
    "start_time": "2021-10-23T10:56:18.401Z"
   },
   {
    "duration": 5,
    "start_time": "2021-10-23T10:56:18.410Z"
   },
   {
    "duration": 6,
    "start_time": "2021-10-23T10:56:18.418Z"
   },
   {
    "duration": 3490,
    "start_time": "2021-10-23T10:56:18.426Z"
   },
   {
    "duration": 7,
    "start_time": "2021-10-23T10:56:21.918Z"
   },
   {
    "duration": 19,
    "start_time": "2021-10-23T10:56:21.927Z"
   },
   {
    "duration": 8,
    "start_time": "2021-10-23T10:56:21.949Z"
   },
   {
    "duration": 47,
    "start_time": "2021-10-23T10:56:21.959Z"
   },
   {
    "duration": 6,
    "start_time": "2021-10-23T10:57:26.788Z"
   },
   {
    "duration": 16,
    "start_time": "2021-10-23T10:59:59.420Z"
   },
   {
    "duration": 8,
    "start_time": "2021-10-23T11:01:21.169Z"
   },
   {
    "duration": 15,
    "start_time": "2021-10-23T11:01:33.212Z"
   },
   {
    "duration": 6,
    "start_time": "2021-10-23T11:02:19.714Z"
   },
   {
    "duration": 6,
    "start_time": "2021-10-23T11:02:30.043Z"
   },
   {
    "duration": 11,
    "start_time": "2021-10-23T11:04:08.371Z"
   },
   {
    "duration": 10,
    "start_time": "2021-10-23T11:05:05.140Z"
   },
   {
    "duration": 9,
    "start_time": "2021-10-23T11:05:12.605Z"
   },
   {
    "duration": 6,
    "start_time": "2021-10-23T11:05:38.883Z"
   },
   {
    "duration": 9,
    "start_time": "2021-10-23T11:05:40.086Z"
   },
   {
    "duration": 929,
    "start_time": "2021-10-23T11:08:34.236Z"
   },
   {
    "duration": 786,
    "start_time": "2021-10-23T11:08:40.234Z"
   },
   {
    "duration": 69,
    "start_time": "2021-10-23T11:08:41.023Z"
   },
   {
    "duration": 33,
    "start_time": "2021-10-23T11:08:41.096Z"
   },
   {
    "duration": 18,
    "start_time": "2021-10-23T11:08:41.132Z"
   },
   {
    "duration": 51,
    "start_time": "2021-10-23T11:08:41.153Z"
   },
   {
    "duration": 20,
    "start_time": "2021-10-23T11:08:41.207Z"
   },
   {
    "duration": 8,
    "start_time": "2021-10-23T11:08:41.230Z"
   },
   {
    "duration": 10,
    "start_time": "2021-10-23T11:08:41.242Z"
   },
   {
    "duration": 45,
    "start_time": "2021-10-23T11:08:41.255Z"
   },
   {
    "duration": 9,
    "start_time": "2021-10-23T11:08:41.303Z"
   },
   {
    "duration": 6,
    "start_time": "2021-10-23T11:08:41.314Z"
   },
   {
    "duration": 6,
    "start_time": "2021-10-23T11:08:41.323Z"
   },
   {
    "duration": 9,
    "start_time": "2021-10-23T11:08:41.332Z"
   },
   {
    "duration": 6,
    "start_time": "2021-10-23T11:08:41.344Z"
   },
   {
    "duration": 9,
    "start_time": "2021-10-23T11:08:41.400Z"
   },
   {
    "duration": 10,
    "start_time": "2021-10-23T11:08:41.412Z"
   },
   {
    "duration": 10,
    "start_time": "2021-10-23T11:08:41.425Z"
   },
   {
    "duration": 7,
    "start_time": "2021-10-23T11:08:41.438Z"
   },
   {
    "duration": 18,
    "start_time": "2021-10-23T11:08:41.448Z"
   },
   {
    "duration": 38,
    "start_time": "2021-10-23T11:08:41.468Z"
   },
   {
    "duration": 11,
    "start_time": "2021-10-23T11:08:41.508Z"
   },
   {
    "duration": 8,
    "start_time": "2021-10-23T11:08:41.522Z"
   },
   {
    "duration": 21,
    "start_time": "2021-10-23T11:08:41.536Z"
   },
   {
    "duration": 43,
    "start_time": "2021-10-23T11:08:41.560Z"
   },
   {
    "duration": 10,
    "start_time": "2021-10-23T11:08:41.605Z"
   },
   {
    "duration": 20,
    "start_time": "2021-10-23T11:08:41.617Z"
   },
   {
    "duration": 6,
    "start_time": "2021-10-23T11:08:41.639Z"
   },
   {
    "duration": 10,
    "start_time": "2021-10-23T11:08:41.648Z"
   },
   {
    "duration": 40,
    "start_time": "2021-10-23T11:08:41.660Z"
   },
   {
    "duration": 7,
    "start_time": "2021-10-23T11:08:41.703Z"
   },
   {
    "duration": 9,
    "start_time": "2021-10-23T11:08:41.712Z"
   },
   {
    "duration": 19,
    "start_time": "2021-10-23T11:08:41.724Z"
   },
   {
    "duration": 4,
    "start_time": "2021-10-23T11:08:41.746Z"
   },
   {
    "duration": 54,
    "start_time": "2021-10-23T11:08:41.752Z"
   },
   {
    "duration": 6,
    "start_time": "2021-10-23T11:08:41.809Z"
   },
   {
    "duration": 9,
    "start_time": "2021-10-23T11:08:41.817Z"
   },
   {
    "duration": 15,
    "start_time": "2021-10-23T11:08:41.828Z"
   },
   {
    "duration": 19,
    "start_time": "2021-10-23T11:08:41.845Z"
   },
   {
    "duration": 39,
    "start_time": "2021-10-23T11:08:41.867Z"
   },
   {
    "duration": 26,
    "start_time": "2021-10-23T11:08:41.908Z"
   },
   {
    "duration": 20,
    "start_time": "2021-10-23T11:08:41.937Z"
   },
   {
    "duration": 56,
    "start_time": "2021-10-23T11:08:41.959Z"
   },
   {
    "duration": 21,
    "start_time": "2021-10-23T11:08:42.017Z"
   },
   {
    "duration": 7,
    "start_time": "2021-10-23T11:08:42.040Z"
   },
   {
    "duration": 6,
    "start_time": "2021-10-23T11:08:42.049Z"
   },
   {
    "duration": 7,
    "start_time": "2021-10-23T11:08:42.058Z"
   },
   {
    "duration": 952,
    "start_time": "2021-10-23T11:08:42.101Z"
   },
   {
    "duration": 3,
    "start_time": "2021-10-23T11:08:43.056Z"
   },
   {
    "duration": 15,
    "start_time": "2021-10-23T11:08:43.062Z"
   },
   {
    "duration": 20,
    "start_time": "2021-10-23T11:08:43.080Z"
   },
   {
    "duration": 12,
    "start_time": "2021-10-23T11:08:43.102Z"
   },
   {
    "duration": 3459,
    "start_time": "2021-10-23T11:08:43.117Z"
   },
   {
    "duration": 21,
    "start_time": "2021-10-23T11:08:46.579Z"
   },
   {
    "duration": 17,
    "start_time": "2021-10-23T11:08:46.603Z"
   },
   {
    "duration": 21,
    "start_time": "2021-10-23T11:08:46.622Z"
   },
   {
    "duration": 24,
    "start_time": "2021-10-23T11:08:46.645Z"
   },
   {
    "duration": 16,
    "start_time": "2021-10-23T11:08:46.671Z"
   },
   {
    "duration": 27,
    "start_time": "2021-10-23T11:08:46.689Z"
   },
   {
    "duration": 18,
    "start_time": "2021-10-23T11:08:46.718Z"
   },
   {
    "duration": 6,
    "start_time": "2021-10-23T11:10:12.565Z"
   },
   {
    "duration": 9,
    "start_time": "2021-10-23T11:10:14.622Z"
   },
   {
    "duration": 539,
    "start_time": "2021-10-23T12:07:37.189Z"
   },
   {
    "duration": 763,
    "start_time": "2021-10-23T12:08:08.842Z"
   },
   {
    "duration": 67,
    "start_time": "2021-10-23T12:08:09.607Z"
   },
   {
    "duration": 33,
    "start_time": "2021-10-23T12:08:09.677Z"
   },
   {
    "duration": 14,
    "start_time": "2021-10-23T12:08:09.714Z"
   },
   {
    "duration": 12,
    "start_time": "2021-10-23T12:08:09.731Z"
   },
   {
    "duration": 59,
    "start_time": "2021-10-23T12:08:09.746Z"
   },
   {
    "duration": 10,
    "start_time": "2021-10-23T12:08:09.808Z"
   },
   {
    "duration": 13,
    "start_time": "2021-10-23T12:08:09.825Z"
   },
   {
    "duration": 10,
    "start_time": "2021-10-23T12:08:09.841Z"
   },
   {
    "duration": 50,
    "start_time": "2021-10-23T12:08:09.853Z"
   },
   {
    "duration": 6,
    "start_time": "2021-10-23T12:08:09.906Z"
   },
   {
    "duration": 8,
    "start_time": "2021-10-23T12:08:09.916Z"
   },
   {
    "duration": 11,
    "start_time": "2021-10-23T12:08:09.927Z"
   },
   {
    "duration": 14,
    "start_time": "2021-10-23T12:08:09.941Z"
   },
   {
    "duration": 47,
    "start_time": "2021-10-23T12:08:09.958Z"
   },
   {
    "duration": 9,
    "start_time": "2021-10-23T12:08:10.008Z"
   },
   {
    "duration": 6,
    "start_time": "2021-10-23T12:08:10.021Z"
   },
   {
    "duration": 13,
    "start_time": "2021-10-23T12:08:10.030Z"
   },
   {
    "duration": 16,
    "start_time": "2021-10-23T12:08:10.046Z"
   },
   {
    "duration": 40,
    "start_time": "2021-10-23T12:08:10.065Z"
   },
   {
    "duration": 7,
    "start_time": "2021-10-23T12:08:10.107Z"
   },
   {
    "duration": 8,
    "start_time": "2021-10-23T12:08:10.116Z"
   },
   {
    "duration": 16,
    "start_time": "2021-10-23T12:08:10.130Z"
   },
   {
    "duration": 52,
    "start_time": "2021-10-23T12:08:10.150Z"
   },
   {
    "duration": 8,
    "start_time": "2021-10-23T12:08:10.205Z"
   },
   {
    "duration": 19,
    "start_time": "2021-10-23T12:08:10.216Z"
   },
   {
    "duration": 5,
    "start_time": "2021-10-23T12:08:10.237Z"
   },
   {
    "duration": 15,
    "start_time": "2021-10-23T12:08:10.244Z"
   },
   {
    "duration": 5,
    "start_time": "2021-10-23T12:08:10.300Z"
   },
   {
    "duration": 13,
    "start_time": "2021-10-23T12:08:10.308Z"
   },
   {
    "duration": 12,
    "start_time": "2021-10-23T12:08:10.324Z"
   },
   {
    "duration": 20,
    "start_time": "2021-10-23T12:08:10.339Z"
   },
   {
    "duration": 4,
    "start_time": "2021-10-23T12:08:10.362Z"
   },
   {
    "duration": 10,
    "start_time": "2021-10-23T12:08:10.401Z"
   },
   {
    "duration": 7,
    "start_time": "2021-10-23T12:08:10.414Z"
   },
   {
    "duration": 11,
    "start_time": "2021-10-23T12:08:10.424Z"
   },
   {
    "duration": 15,
    "start_time": "2021-10-23T12:08:10.438Z"
   },
   {
    "duration": 50,
    "start_time": "2021-10-23T12:08:10.456Z"
   },
   {
    "duration": 18,
    "start_time": "2021-10-23T12:08:10.509Z"
   },
   {
    "duration": 35,
    "start_time": "2021-10-23T12:08:10.530Z"
   },
   {
    "duration": 37,
    "start_time": "2021-10-23T12:08:10.568Z"
   },
   {
    "duration": 24,
    "start_time": "2021-10-23T12:08:10.608Z"
   },
   {
    "duration": 24,
    "start_time": "2021-10-23T12:08:10.634Z"
   },
   {
    "duration": 42,
    "start_time": "2021-10-23T12:08:10.660Z"
   },
   {
    "duration": 8,
    "start_time": "2021-10-23T12:08:10.706Z"
   },
   {
    "duration": 9,
    "start_time": "2021-10-23T12:08:10.716Z"
   },
   {
    "duration": 975,
    "start_time": "2021-10-23T12:08:10.727Z"
   },
   {
    "duration": 4,
    "start_time": "2021-10-23T12:08:11.705Z"
   },
   {
    "duration": 17,
    "start_time": "2021-10-23T12:08:11.711Z"
   },
   {
    "duration": 14,
    "start_time": "2021-10-23T12:08:11.730Z"
   },
   {
    "duration": 10,
    "start_time": "2021-10-23T12:08:11.747Z"
   },
   {
    "duration": 3850,
    "start_time": "2021-10-23T12:08:11.760Z"
   },
   {
    "duration": 7,
    "start_time": "2021-10-23T12:08:15.612Z"
   },
   {
    "duration": 17,
    "start_time": "2021-10-23T12:08:15.622Z"
   },
   {
    "duration": 6,
    "start_time": "2021-10-23T12:08:15.642Z"
   },
   {
    "duration": 15,
    "start_time": "2021-10-23T12:08:15.650Z"
   },
   {
    "duration": 39,
    "start_time": "2021-10-23T12:08:15.667Z"
   },
   {
    "duration": 8,
    "start_time": "2021-10-23T12:08:15.709Z"
   },
   {
    "duration": 10,
    "start_time": "2021-10-23T12:08:15.720Z"
   },
   {
    "duration": 452,
    "start_time": "2021-10-23T12:08:34.075Z"
   },
   {
    "duration": 7,
    "start_time": "2021-10-23T12:08:39.242Z"
   },
   {
    "duration": 11,
    "start_time": "2021-10-23T12:08:43.429Z"
   },
   {
    "duration": 759,
    "start_time": "2021-10-23T12:09:11.354Z"
   },
   {
    "duration": 68,
    "start_time": "2021-10-23T12:09:12.115Z"
   },
   {
    "duration": 33,
    "start_time": "2021-10-23T12:09:12.186Z"
   },
   {
    "duration": 19,
    "start_time": "2021-10-23T12:09:12.222Z"
   },
   {
    "duration": 19,
    "start_time": "2021-10-23T12:09:12.243Z"
   },
   {
    "duration": 36,
    "start_time": "2021-10-23T12:09:12.265Z"
   },
   {
    "duration": 7,
    "start_time": "2021-10-23T12:09:12.304Z"
   },
   {
    "duration": 15,
    "start_time": "2021-10-23T12:09:12.316Z"
   },
   {
    "duration": 23,
    "start_time": "2021-10-23T12:09:12.334Z"
   },
   {
    "duration": 10,
    "start_time": "2021-10-23T12:09:12.360Z"
   },
   {
    "duration": 31,
    "start_time": "2021-10-23T12:09:12.372Z"
   },
   {
    "duration": 17,
    "start_time": "2021-10-23T12:09:12.406Z"
   },
   {
    "duration": 15,
    "start_time": "2021-10-23T12:09:12.426Z"
   },
   {
    "duration": 11,
    "start_time": "2021-10-23T12:09:12.444Z"
   },
   {
    "duration": 14,
    "start_time": "2021-10-23T12:09:12.458Z"
   },
   {
    "duration": 27,
    "start_time": "2021-10-23T12:09:12.475Z"
   },
   {
    "duration": 5,
    "start_time": "2021-10-23T12:09:12.504Z"
   },
   {
    "duration": 21,
    "start_time": "2021-10-23T12:09:12.511Z"
   },
   {
    "duration": 17,
    "start_time": "2021-10-23T12:09:12.534Z"
   },
   {
    "duration": 13,
    "start_time": "2021-10-23T12:09:12.553Z"
   },
   {
    "duration": 10,
    "start_time": "2021-10-23T12:09:12.569Z"
   },
   {
    "duration": 6,
    "start_time": "2021-10-23T12:09:12.601Z"
   },
   {
    "duration": 19,
    "start_time": "2021-10-23T12:09:12.613Z"
   },
   {
    "duration": 10,
    "start_time": "2021-10-23T12:09:12.635Z"
   },
   {
    "duration": 21,
    "start_time": "2021-10-23T12:09:12.647Z"
   },
   {
    "duration": 40,
    "start_time": "2021-10-23T12:09:12.670Z"
   },
   {
    "duration": 14,
    "start_time": "2021-10-23T12:09:12.713Z"
   },
   {
    "duration": 20,
    "start_time": "2021-10-23T12:09:12.729Z"
   },
   {
    "duration": 17,
    "start_time": "2021-10-23T12:09:12.751Z"
   },
   {
    "duration": 18,
    "start_time": "2021-10-23T12:09:12.771Z"
   },
   {
    "duration": 12,
    "start_time": "2021-10-23T12:09:12.792Z"
   },
   {
    "duration": 22,
    "start_time": "2021-10-23T12:09:12.807Z"
   },
   {
    "duration": 5,
    "start_time": "2021-10-23T12:09:12.831Z"
   },
   {
    "duration": 12,
    "start_time": "2021-10-23T12:09:12.838Z"
   },
   {
    "duration": 16,
    "start_time": "2021-10-23T12:09:12.852Z"
   },
   {
    "duration": 30,
    "start_time": "2021-10-23T12:09:12.870Z"
   },
   {
    "duration": 16,
    "start_time": "2021-10-23T12:09:12.903Z"
   },
   {
    "duration": 24,
    "start_time": "2021-10-23T12:09:12.921Z"
   },
   {
    "duration": 23,
    "start_time": "2021-10-23T12:09:12.947Z"
   },
   {
    "duration": 35,
    "start_time": "2021-10-23T12:09:12.972Z"
   },
   {
    "duration": 20,
    "start_time": "2021-10-23T12:09:13.010Z"
   },
   {
    "duration": 24,
    "start_time": "2021-10-23T12:09:13.032Z"
   },
   {
    "duration": 51,
    "start_time": "2021-10-23T12:09:13.058Z"
   },
   {
    "duration": 8,
    "start_time": "2021-10-23T12:09:13.111Z"
   },
   {
    "duration": 7,
    "start_time": "2021-10-23T12:09:13.121Z"
   },
   {
    "duration": 13,
    "start_time": "2021-10-23T12:09:13.130Z"
   },
   {
    "duration": 979,
    "start_time": "2021-10-23T12:09:13.146Z"
   },
   {
    "duration": 4,
    "start_time": "2021-10-23T12:09:14.129Z"
   },
   {
    "duration": 12,
    "start_time": "2021-10-23T12:09:14.135Z"
   },
   {
    "duration": 5,
    "start_time": "2021-10-23T12:09:14.150Z"
   },
   {
    "duration": 13,
    "start_time": "2021-10-23T12:09:14.158Z"
   },
   {
    "duration": 3526,
    "start_time": "2021-10-23T12:09:14.174Z"
   },
   {
    "duration": 7,
    "start_time": "2021-10-23T12:09:17.702Z"
   },
   {
    "duration": 24,
    "start_time": "2021-10-23T12:09:17.712Z"
   },
   {
    "duration": 15,
    "start_time": "2021-10-23T12:09:17.739Z"
   },
   {
    "duration": 32,
    "start_time": "2021-10-23T12:09:17.756Z"
   },
   {
    "duration": 20,
    "start_time": "2021-10-23T12:09:17.790Z"
   },
   {
    "duration": 17,
    "start_time": "2021-10-23T12:09:17.813Z"
   },
   {
    "duration": 7,
    "start_time": "2021-10-23T12:09:17.833Z"
   },
   {
    "duration": 12,
    "start_time": "2021-10-23T12:09:17.843Z"
   },
   {
    "duration": 4,
    "start_time": "2021-10-23T12:12:14.222Z"
   },
   {
    "duration": 65,
    "start_time": "2021-10-23T12:12:14.235Z"
   },
   {
    "duration": 20,
    "start_time": "2021-10-23T12:12:14.303Z"
   },
   {
    "duration": 14,
    "start_time": "2021-10-23T12:12:14.326Z"
   },
   {
    "duration": 12,
    "start_time": "2021-10-23T12:12:14.343Z"
   },
   {
    "duration": 13,
    "start_time": "2021-10-23T12:12:14.401Z"
   },
   {
    "duration": 8,
    "start_time": "2021-10-23T12:12:14.417Z"
   },
   {
    "duration": 13,
    "start_time": "2021-10-23T12:12:14.427Z"
   },
   {
    "duration": 66,
    "start_time": "2021-10-23T12:12:14.442Z"
   },
   {
    "duration": 10,
    "start_time": "2021-10-23T12:12:14.512Z"
   },
   {
    "duration": 5,
    "start_time": "2021-10-23T12:12:14.525Z"
   },
   {
    "duration": 9,
    "start_time": "2021-10-23T12:12:14.532Z"
   },
   {
    "duration": 7,
    "start_time": "2021-10-23T12:12:14.543Z"
   },
   {
    "duration": 6,
    "start_time": "2021-10-23T12:12:14.601Z"
   },
   {
    "duration": 7,
    "start_time": "2021-10-23T12:12:14.610Z"
   },
   {
    "duration": 6,
    "start_time": "2021-10-23T12:12:14.620Z"
   },
   {
    "duration": 4,
    "start_time": "2021-10-23T12:12:14.628Z"
   },
   {
    "duration": 10,
    "start_time": "2021-10-23T12:12:14.635Z"
   },
   {
    "duration": 15,
    "start_time": "2021-10-23T12:12:14.700Z"
   },
   {
    "duration": 7,
    "start_time": "2021-10-23T12:12:14.717Z"
   },
   {
    "duration": 7,
    "start_time": "2021-10-23T12:12:14.726Z"
   },
   {
    "duration": 7,
    "start_time": "2021-10-23T12:12:14.735Z"
   },
   {
    "duration": 66,
    "start_time": "2021-10-23T12:12:14.744Z"
   },
   {
    "duration": 9,
    "start_time": "2021-10-23T12:12:14.812Z"
   },
   {
    "duration": 9,
    "start_time": "2021-10-23T12:12:14.823Z"
   },
   {
    "duration": 67,
    "start_time": "2021-10-23T12:12:14.834Z"
   },
   {
    "duration": 5,
    "start_time": "2021-10-23T12:12:14.903Z"
   },
   {
    "duration": 6,
    "start_time": "2021-10-23T12:12:14.914Z"
   },
   {
    "duration": 6,
    "start_time": "2021-10-23T12:12:14.923Z"
   },
   {
    "duration": 8,
    "start_time": "2021-10-23T12:12:14.931Z"
   },
   {
    "duration": 58,
    "start_time": "2021-10-23T12:12:14.942Z"
   },
   {
    "duration": 22,
    "start_time": "2021-10-23T12:12:15.004Z"
   },
   {
    "duration": 6,
    "start_time": "2021-10-23T12:12:15.029Z"
   },
   {
    "duration": 11,
    "start_time": "2021-10-23T12:12:15.038Z"
   },
   {
    "duration": 13,
    "start_time": "2021-10-23T12:12:15.052Z"
   },
   {
    "duration": 8,
    "start_time": "2021-10-23T12:12:15.101Z"
   },
   {
    "duration": 19,
    "start_time": "2021-10-23T12:12:15.112Z"
   },
   {
    "duration": 26,
    "start_time": "2021-10-23T12:12:15.134Z"
   },
   {
    "duration": 37,
    "start_time": "2021-10-23T12:12:15.162Z"
   },
   {
    "duration": 31,
    "start_time": "2021-10-23T12:12:15.201Z"
   },
   {
    "duration": 22,
    "start_time": "2021-10-23T12:12:15.235Z"
   },
   {
    "duration": 63,
    "start_time": "2021-10-23T12:12:15.259Z"
   },
   {
    "duration": 30,
    "start_time": "2021-10-23T12:12:15.325Z"
   },
   {
    "duration": 10,
    "start_time": "2021-10-23T12:12:15.358Z"
   },
   {
    "duration": 51,
    "start_time": "2021-10-23T12:12:15.370Z"
   },
   {
    "duration": 6,
    "start_time": "2021-10-23T12:12:15.424Z"
   },
   {
    "duration": 968,
    "start_time": "2021-10-23T12:12:15.432Z"
   },
   {
    "duration": 4,
    "start_time": "2021-10-23T12:12:16.403Z"
   },
   {
    "duration": 11,
    "start_time": "2021-10-23T12:12:16.409Z"
   },
   {
    "duration": 4,
    "start_time": "2021-10-23T12:12:16.422Z"
   },
   {
    "duration": 7,
    "start_time": "2021-10-23T12:12:16.428Z"
   },
   {
    "duration": 3841,
    "start_time": "2021-10-23T12:12:16.438Z"
   },
   {
    "duration": 21,
    "start_time": "2021-10-23T12:12:20.281Z"
   },
   {
    "duration": 20,
    "start_time": "2021-10-23T12:12:20.305Z"
   },
   {
    "duration": 31,
    "start_time": "2021-10-23T12:12:20.328Z"
   },
   {
    "duration": 28,
    "start_time": "2021-10-23T12:12:20.361Z"
   },
   {
    "duration": 16,
    "start_time": "2021-10-23T12:12:20.392Z"
   },
   {
    "duration": 18,
    "start_time": "2021-10-23T12:12:20.411Z"
   },
   {
    "duration": 16,
    "start_time": "2021-10-23T12:12:20.432Z"
   },
   {
    "duration": 32,
    "start_time": "2021-10-23T12:12:20.451Z"
   },
   {
    "duration": 4,
    "start_time": "2021-10-23T12:12:34.555Z"
   },
   {
    "duration": 93,
    "start_time": "2021-10-23T12:12:34.563Z"
   },
   {
    "duration": 26,
    "start_time": "2021-10-23T12:12:34.660Z"
   },
   {
    "duration": 25,
    "start_time": "2021-10-23T12:12:34.689Z"
   },
   {
    "duration": 12,
    "start_time": "2021-10-23T12:12:34.716Z"
   },
   {
    "duration": 13,
    "start_time": "2021-10-23T12:12:34.730Z"
   },
   {
    "duration": 6,
    "start_time": "2021-10-23T12:12:34.746Z"
   },
   {
    "duration": 50,
    "start_time": "2021-10-23T12:12:34.754Z"
   },
   {
    "duration": 9,
    "start_time": "2021-10-23T12:12:34.808Z"
   },
   {
    "duration": 16,
    "start_time": "2021-10-23T12:12:34.820Z"
   },
   {
    "duration": 8,
    "start_time": "2021-10-23T12:12:34.839Z"
   },
   {
    "duration": 10,
    "start_time": "2021-10-23T12:12:34.849Z"
   },
   {
    "duration": 43,
    "start_time": "2021-10-23T12:12:34.861Z"
   },
   {
    "duration": 5,
    "start_time": "2021-10-23T12:12:34.907Z"
   },
   {
    "duration": 10,
    "start_time": "2021-10-23T12:12:34.915Z"
   },
   {
    "duration": 8,
    "start_time": "2021-10-23T12:12:34.928Z"
   },
   {
    "duration": 9,
    "start_time": "2021-10-23T12:12:34.939Z"
   },
   {
    "duration": 10,
    "start_time": "2021-10-23T12:12:34.952Z"
   },
   {
    "duration": 15,
    "start_time": "2021-10-23T12:12:35.002Z"
   },
   {
    "duration": 7,
    "start_time": "2021-10-23T12:12:35.019Z"
   },
   {
    "duration": 20,
    "start_time": "2021-10-23T12:12:35.028Z"
   },
   {
    "duration": 6,
    "start_time": "2021-10-23T12:12:35.051Z"
   },
   {
    "duration": 43,
    "start_time": "2021-10-23T12:12:35.059Z"
   },
   {
    "duration": 19,
    "start_time": "2021-10-23T12:12:35.105Z"
   },
   {
    "duration": 10,
    "start_time": "2021-10-23T12:12:35.127Z"
   },
   {
    "duration": 29,
    "start_time": "2021-10-23T12:12:35.140Z"
   },
   {
    "duration": 6,
    "start_time": "2021-10-23T12:12:35.207Z"
   },
   {
    "duration": 9,
    "start_time": "2021-10-23T12:12:35.218Z"
   },
   {
    "duration": 7,
    "start_time": "2021-10-23T12:12:35.231Z"
   },
   {
    "duration": 10,
    "start_time": "2021-10-23T12:12:35.241Z"
   },
   {
    "duration": 50,
    "start_time": "2021-10-23T12:12:35.254Z"
   },
   {
    "duration": 30,
    "start_time": "2021-10-23T12:12:35.308Z"
   },
   {
    "duration": 7,
    "start_time": "2021-10-23T12:12:35.341Z"
   },
   {
    "duration": 11,
    "start_time": "2021-10-23T12:12:35.351Z"
   },
   {
    "duration": 39,
    "start_time": "2021-10-23T12:12:35.365Z"
   },
   {
    "duration": 11,
    "start_time": "2021-10-23T12:12:35.407Z"
   },
   {
    "duration": 21,
    "start_time": "2021-10-23T12:12:35.421Z"
   },
   {
    "duration": 18,
    "start_time": "2021-10-23T12:12:35.445Z"
   },
   {
    "duration": 42,
    "start_time": "2021-10-23T12:12:35.466Z"
   },
   {
    "duration": 32,
    "start_time": "2021-10-23T12:12:35.510Z"
   },
   {
    "duration": 22,
    "start_time": "2021-10-23T12:12:35.544Z"
   },
   {
    "duration": 49,
    "start_time": "2021-10-23T12:12:35.569Z"
   },
   {
    "duration": 23,
    "start_time": "2021-10-23T12:12:35.620Z"
   },
   {
    "duration": 8,
    "start_time": "2021-10-23T12:12:35.645Z"
   },
   {
    "duration": 53,
    "start_time": "2021-10-23T12:12:35.656Z"
   },
   {
    "duration": 6,
    "start_time": "2021-10-23T12:12:35.712Z"
   },
   {
    "duration": 949,
    "start_time": "2021-10-23T12:12:35.721Z"
   },
   {
    "duration": 4,
    "start_time": "2021-10-23T12:12:36.673Z"
   },
   {
    "duration": 24,
    "start_time": "2021-10-23T12:12:36.679Z"
   },
   {
    "duration": 9,
    "start_time": "2021-10-23T12:12:36.705Z"
   },
   {
    "duration": 8,
    "start_time": "2021-10-23T12:12:36.716Z"
   },
   {
    "duration": 3843,
    "start_time": "2021-10-23T12:12:36.726Z"
   },
   {
    "duration": 9,
    "start_time": "2021-10-23T12:12:40.572Z"
   },
   {
    "duration": 26,
    "start_time": "2021-10-23T12:12:40.601Z"
   },
   {
    "duration": 10,
    "start_time": "2021-10-23T12:12:40.630Z"
   },
   {
    "duration": 13,
    "start_time": "2021-10-23T12:12:40.643Z"
   },
   {
    "duration": 10,
    "start_time": "2021-10-23T12:12:40.659Z"
   },
   {
    "duration": 9,
    "start_time": "2021-10-23T12:12:40.701Z"
   },
   {
    "duration": 9,
    "start_time": "2021-10-23T12:12:40.712Z"
   },
   {
    "duration": 12,
    "start_time": "2021-10-23T12:12:40.723Z"
   },
   {
    "duration": 10,
    "start_time": "2021-10-23T12:14:12.580Z"
   },
   {
    "duration": 18,
    "start_time": "2021-10-23T12:22:15.794Z"
   },
   {
    "duration": 13,
    "start_time": "2021-10-23T12:23:18.543Z"
   },
   {
    "duration": 18,
    "start_time": "2021-10-23T12:23:44.168Z"
   },
   {
    "duration": 13,
    "start_time": "2021-10-23T12:23:47.065Z"
   },
   {
    "duration": 22,
    "start_time": "2021-10-23T12:26:36.226Z"
   },
   {
    "duration": 14,
    "start_time": "2021-10-23T12:31:45.940Z"
   },
   {
    "duration": 19,
    "start_time": "2021-10-23T12:33:00.302Z"
   },
   {
    "duration": 502,
    "start_time": "2021-10-23T12:33:38.133Z"
   },
   {
    "duration": 19,
    "start_time": "2021-10-23T12:33:44.217Z"
   },
   {
    "duration": 19,
    "start_time": "2021-10-23T13:25:33.316Z"
   },
   {
    "duration": 27,
    "start_time": "2021-10-23T13:27:33.186Z"
   },
   {
    "duration": 6,
    "start_time": "2021-10-23T13:45:14.231Z"
   },
   {
    "duration": 6,
    "start_time": "2021-10-23T13:45:18.828Z"
   },
   {
    "duration": 6,
    "start_time": "2021-10-23T13:45:23.069Z"
   },
   {
    "duration": 9,
    "start_time": "2021-10-23T13:47:10.035Z"
   },
   {
    "duration": 8,
    "start_time": "2021-10-23T13:47:20.375Z"
   },
   {
    "duration": 9,
    "start_time": "2021-10-23T13:48:04.482Z"
   },
   {
    "duration": 13,
    "start_time": "2021-10-23T13:48:45.253Z"
   },
   {
    "duration": 6,
    "start_time": "2021-10-23T13:49:26.421Z"
   },
   {
    "duration": 6,
    "start_time": "2021-10-23T13:49:38.414Z"
   },
   {
    "duration": 6,
    "start_time": "2021-10-23T14:11:35.727Z"
   },
   {
    "duration": 5,
    "start_time": "2021-10-23T14:11:52.668Z"
   },
   {
    "duration": 8,
    "start_time": "2021-10-23T14:12:00.802Z"
   },
   {
    "duration": 5,
    "start_time": "2021-10-23T14:12:10.446Z"
   },
   {
    "duration": 5,
    "start_time": "2021-10-23T14:12:16.733Z"
   },
   {
    "duration": 5,
    "start_time": "2021-10-23T14:12:22.695Z"
   },
   {
    "duration": 7,
    "start_time": "2021-10-23T14:12:55.106Z"
   },
   {
    "duration": 5,
    "start_time": "2021-10-23T14:13:04.071Z"
   },
   {
    "duration": 6,
    "start_time": "2021-10-23T14:13:15.440Z"
   },
   {
    "duration": 5,
    "start_time": "2021-10-23T14:21:01.986Z"
   },
   {
    "duration": 919,
    "start_time": "2021-10-23T14:23:08.314Z"
   },
   {
    "duration": 365,
    "start_time": "2021-10-23T14:23:18.368Z"
   },
   {
    "duration": 15,
    "start_time": "2021-10-23T14:23:29.332Z"
   },
   {
    "duration": 8,
    "start_time": "2021-10-23T14:23:41.394Z"
   },
   {
    "duration": 851,
    "start_time": "2021-10-23T14:24:08.869Z"
   },
   {
    "duration": 67,
    "start_time": "2021-10-23T14:24:09.723Z"
   },
   {
    "duration": 36,
    "start_time": "2021-10-23T14:24:09.792Z"
   },
   {
    "duration": 15,
    "start_time": "2021-10-23T14:24:09.832Z"
   },
   {
    "duration": 11,
    "start_time": "2021-10-23T14:24:09.850Z"
   },
   {
    "duration": 56,
    "start_time": "2021-10-23T14:24:09.864Z"
   },
   {
    "duration": 6,
    "start_time": "2021-10-23T14:24:09.923Z"
   },
   {
    "duration": 10,
    "start_time": "2021-10-23T14:24:09.933Z"
   },
   {
    "duration": 8,
    "start_time": "2021-10-23T14:24:09.946Z"
   },
   {
    "duration": 52,
    "start_time": "2021-10-23T14:24:09.957Z"
   },
   {
    "duration": 6,
    "start_time": "2021-10-23T14:24:10.012Z"
   },
   {
    "duration": 9,
    "start_time": "2021-10-23T14:24:10.021Z"
   },
   {
    "duration": 13,
    "start_time": "2021-10-23T14:24:10.033Z"
   },
   {
    "duration": 11,
    "start_time": "2021-10-23T14:24:10.048Z"
   },
   {
    "duration": 46,
    "start_time": "2021-10-23T14:24:10.061Z"
   },
   {
    "duration": 10,
    "start_time": "2021-10-23T14:24:10.111Z"
   },
   {
    "duration": 5,
    "start_time": "2021-10-23T14:24:10.124Z"
   },
   {
    "duration": 12,
    "start_time": "2021-10-23T14:24:10.131Z"
   },
   {
    "duration": 19,
    "start_time": "2021-10-23T14:24:10.146Z"
   },
   {
    "duration": 41,
    "start_time": "2021-10-23T14:24:10.167Z"
   },
   {
    "duration": 9,
    "start_time": "2021-10-23T14:24:10.211Z"
   },
   {
    "duration": 7,
    "start_time": "2021-10-23T14:24:10.223Z"
   },
   {
    "duration": 17,
    "start_time": "2021-10-23T14:24:10.245Z"
   },
   {
    "duration": 49,
    "start_time": "2021-10-23T14:24:10.266Z"
   },
   {
    "duration": 7,
    "start_time": "2021-10-23T14:24:10.319Z"
   },
   {
    "duration": 18,
    "start_time": "2021-10-23T14:24:10.329Z"
   },
   {
    "duration": 6,
    "start_time": "2021-10-23T14:24:10.349Z"
   },
   {
    "duration": 49,
    "start_time": "2021-10-23T14:24:10.357Z"
   },
   {
    "duration": 6,
    "start_time": "2021-10-23T14:24:10.409Z"
   },
   {
    "duration": 10,
    "start_time": "2021-10-23T14:24:10.417Z"
   },
   {
    "duration": 11,
    "start_time": "2021-10-23T14:24:10.430Z"
   },
   {
    "duration": 21,
    "start_time": "2021-10-23T14:24:10.444Z"
   },
   {
    "duration": 50,
    "start_time": "2021-10-23T14:24:10.467Z"
   },
   {
    "duration": 7,
    "start_time": "2021-10-23T14:24:10.520Z"
   },
   {
    "duration": 6,
    "start_time": "2021-10-23T14:24:10.529Z"
   },
   {
    "duration": 10,
    "start_time": "2021-10-23T14:24:10.537Z"
   },
   {
    "duration": 14,
    "start_time": "2021-10-23T14:24:10.549Z"
   },
   {
    "duration": 53,
    "start_time": "2021-10-23T14:24:10.565Z"
   },
   {
    "duration": 12,
    "start_time": "2021-10-23T14:24:10.620Z"
   },
   {
    "duration": 25,
    "start_time": "2021-10-23T14:24:10.634Z"
   },
   {
    "duration": 51,
    "start_time": "2021-10-23T14:24:10.662Z"
   },
   {
    "duration": 27,
    "start_time": "2021-10-23T14:24:10.717Z"
   },
   {
    "duration": 24,
    "start_time": "2021-10-23T14:24:10.746Z"
   },
   {
    "duration": 9,
    "start_time": "2021-10-23T14:24:10.806Z"
   },
   {
    "duration": 9,
    "start_time": "2021-10-23T14:24:10.820Z"
   },
   {
    "duration": 6,
    "start_time": "2021-10-23T14:24:10.831Z"
   },
   {
    "duration": 1016,
    "start_time": "2021-10-23T14:24:10.839Z"
   },
   {
    "duration": 4,
    "start_time": "2021-10-23T14:24:11.858Z"
   },
   {
    "duration": 12,
    "start_time": "2021-10-23T14:24:11.864Z"
   },
   {
    "duration": 25,
    "start_time": "2021-10-23T14:24:11.878Z"
   },
   {
    "duration": 11,
    "start_time": "2021-10-23T14:24:11.906Z"
   },
   {
    "duration": 3840,
    "start_time": "2021-10-23T14:24:11.920Z"
   },
   {
    "duration": 6,
    "start_time": "2021-10-23T14:24:15.763Z"
   },
   {
    "duration": 6,
    "start_time": "2021-10-23T14:24:15.771Z"
   },
   {
    "duration": 36,
    "start_time": "2021-10-23T14:24:15.780Z"
   },
   {
    "duration": 10,
    "start_time": "2021-10-23T14:24:15.819Z"
   },
   {
    "duration": 8,
    "start_time": "2021-10-23T14:24:15.832Z"
   },
   {
    "duration": 12,
    "start_time": "2021-10-23T14:24:15.842Z"
   },
   {
    "duration": 5,
    "start_time": "2021-10-23T14:24:15.856Z"
   },
   {
    "duration": 47,
    "start_time": "2021-10-23T14:24:15.863Z"
   },
   {
    "duration": 17,
    "start_time": "2021-10-23T14:24:15.914Z"
   },
   {
    "duration": 8,
    "start_time": "2021-10-23T14:24:15.933Z"
   },
   {
    "duration": 11,
    "start_time": "2021-10-23T14:24:15.944Z"
   },
   {
    "duration": 10,
    "start_time": "2021-10-23T14:24:15.957Z"
   },
   {
    "duration": 20,
    "start_time": "2021-10-23T14:24:16.011Z"
   },
   {
    "duration": 15,
    "start_time": "2021-10-23T14:24:16.033Z"
   },
   {
    "duration": 16,
    "start_time": "2021-10-23T14:24:16.051Z"
   },
   {
    "duration": 20,
    "start_time": "2021-10-23T14:24:22.996Z"
   },
   {
    "duration": 21,
    "start_time": "2021-10-23T14:26:13.125Z"
   },
   {
    "duration": 845,
    "start_time": "2021-10-23T14:33:18.366Z"
   },
   {
    "duration": 73,
    "start_time": "2021-10-23T14:33:19.215Z"
   },
   {
    "duration": 42,
    "start_time": "2021-10-23T14:33:19.291Z"
   },
   {
    "duration": 16,
    "start_time": "2021-10-23T14:33:19.336Z"
   },
   {
    "duration": 12,
    "start_time": "2021-10-23T14:33:19.354Z"
   },
   {
    "duration": 59,
    "start_time": "2021-10-23T14:33:19.368Z"
   },
   {
    "duration": 9,
    "start_time": "2021-10-23T14:33:19.429Z"
   },
   {
    "duration": 11,
    "start_time": "2021-10-23T14:33:19.443Z"
   },
   {
    "duration": 9,
    "start_time": "2021-10-23T14:33:19.457Z"
   },
   {
    "duration": 13,
    "start_time": "2021-10-23T14:33:19.508Z"
   },
   {
    "duration": 6,
    "start_time": "2021-10-23T14:33:19.524Z"
   },
   {
    "duration": 6,
    "start_time": "2021-10-23T14:33:19.533Z"
   },
   {
    "duration": 9,
    "start_time": "2021-10-23T14:33:19.542Z"
   },
   {
    "duration": 6,
    "start_time": "2021-10-23T14:33:19.554Z"
   },
   {
    "duration": 17,
    "start_time": "2021-10-23T14:33:19.606Z"
   },
   {
    "duration": 8,
    "start_time": "2021-10-23T14:33:19.626Z"
   },
   {
    "duration": 6,
    "start_time": "2021-10-23T14:33:19.637Z"
   },
   {
    "duration": 9,
    "start_time": "2021-10-23T14:33:19.645Z"
   },
   {
    "duration": 65,
    "start_time": "2021-10-23T14:33:19.657Z"
   },
   {
    "duration": 7,
    "start_time": "2021-10-23T14:33:19.724Z"
   },
   {
    "duration": 8,
    "start_time": "2021-10-23T14:33:19.734Z"
   },
   {
    "duration": 6,
    "start_time": "2021-10-23T14:33:19.745Z"
   },
   {
    "duration": 23,
    "start_time": "2021-10-23T14:33:19.812Z"
   },
   {
    "duration": 9,
    "start_time": "2021-10-23T14:33:19.839Z"
   },
   {
    "duration": 9,
    "start_time": "2021-10-23T14:33:19.850Z"
   },
   {
    "duration": 47,
    "start_time": "2021-10-23T14:33:19.861Z"
   },
   {
    "duration": 9,
    "start_time": "2021-10-23T14:33:19.911Z"
   },
   {
    "duration": 8,
    "start_time": "2021-10-23T14:33:19.923Z"
   },
   {
    "duration": 4,
    "start_time": "2021-10-23T14:33:19.934Z"
   },
   {
    "duration": 7,
    "start_time": "2021-10-23T14:33:19.941Z"
   },
   {
    "duration": 12,
    "start_time": "2021-10-23T14:33:19.950Z"
   },
   {
    "duration": 27,
    "start_time": "2021-10-23T14:33:20.010Z"
   },
   {
    "duration": 5,
    "start_time": "2021-10-23T14:33:20.039Z"
   },
   {
    "duration": 9,
    "start_time": "2021-10-23T14:33:20.046Z"
   },
   {
    "duration": 10,
    "start_time": "2021-10-23T14:33:20.057Z"
   },
   {
    "duration": 52,
    "start_time": "2021-10-23T14:33:20.069Z"
   },
   {
    "duration": 11,
    "start_time": "2021-10-23T14:33:20.125Z"
   },
   {
    "duration": 19,
    "start_time": "2021-10-23T14:33:20.138Z"
   },
   {
    "duration": 17,
    "start_time": "2021-10-23T14:33:20.159Z"
   },
   {
    "duration": 45,
    "start_time": "2021-10-23T14:33:20.179Z"
   },
   {
    "duration": 21,
    "start_time": "2021-10-23T14:33:20.227Z"
   },
   {
    "duration": 50,
    "start_time": "2021-10-23T14:33:20.250Z"
   },
   {
    "duration": 23,
    "start_time": "2021-10-23T14:33:20.303Z"
   },
   {
    "duration": 11,
    "start_time": "2021-10-23T14:33:20.330Z"
   },
   {
    "duration": 10,
    "start_time": "2021-10-23T14:33:20.345Z"
   },
   {
    "duration": 9,
    "start_time": "2021-10-23T14:33:20.357Z"
   },
   {
    "duration": 1045,
    "start_time": "2021-10-23T14:33:20.368Z"
   },
   {
    "duration": 5,
    "start_time": "2021-10-23T14:33:21.416Z"
   },
   {
    "duration": 10,
    "start_time": "2021-10-23T14:33:21.424Z"
   },
   {
    "duration": 4,
    "start_time": "2021-10-23T14:33:21.437Z"
   },
   {
    "duration": 9,
    "start_time": "2021-10-23T14:33:21.443Z"
   },
   {
    "duration": 4234,
    "start_time": "2021-10-23T14:33:21.454Z"
   },
   {
    "duration": 28,
    "start_time": "2021-10-23T14:33:25.690Z"
   },
   {
    "duration": 6,
    "start_time": "2021-10-23T14:33:25.721Z"
   },
   {
    "duration": 14,
    "start_time": "2021-10-23T14:33:25.730Z"
   },
   {
    "duration": 9,
    "start_time": "2021-10-23T14:33:25.747Z"
   },
   {
    "duration": 9,
    "start_time": "2021-10-23T14:33:25.758Z"
   },
   {
    "duration": 19,
    "start_time": "2021-10-23T14:33:25.810Z"
   },
   {
    "duration": 9,
    "start_time": "2021-10-23T14:33:25.831Z"
   },
   {
    "duration": 10,
    "start_time": "2021-10-23T14:33:25.843Z"
   },
   {
    "duration": 17,
    "start_time": "2021-10-23T14:33:25.856Z"
   },
   {
    "duration": 27,
    "start_time": "2021-10-23T14:33:25.904Z"
   },
   {
    "duration": 12,
    "start_time": "2021-10-23T14:33:25.934Z"
   },
   {
    "duration": 11,
    "start_time": "2021-10-23T14:33:25.948Z"
   },
   {
    "duration": 62,
    "start_time": "2021-10-23T14:33:25.961Z"
   },
   {
    "duration": 21,
    "start_time": "2021-10-23T14:33:26.026Z"
   },
   {
    "duration": 18,
    "start_time": "2021-10-23T14:33:26.049Z"
   },
   {
    "duration": 466,
    "start_time": "2021-10-23T14:45:39.525Z"
   },
   {
    "duration": 293,
    "start_time": "2021-10-23T14:46:42.985Z"
   },
   {
    "duration": 472,
    "start_time": "2021-10-23T14:51:15.731Z"
   },
   {
    "duration": 17,
    "start_time": "2021-10-23T14:51:29.585Z"
   },
   {
    "duration": 10,
    "start_time": "2021-10-23T15:02:59.595Z"
   },
   {
    "duration": 20,
    "start_time": "2021-10-23T15:03:10.962Z"
   },
   {
    "duration": 13,
    "start_time": "2021-10-23T15:16:56.109Z"
   },
   {
    "duration": 20,
    "start_time": "2021-10-23T15:17:23.662Z"
   },
   {
    "duration": 17,
    "start_time": "2021-10-23T15:18:59.602Z"
   },
   {
    "duration": 22,
    "start_time": "2021-10-23T15:19:17.274Z"
   },
   {
    "duration": 337,
    "start_time": "2021-10-23T15:25:34.576Z"
   },
   {
    "duration": 340,
    "start_time": "2021-10-23T15:25:46.828Z"
   },
   {
    "duration": 11,
    "start_time": "2021-10-23T15:25:58.847Z"
   },
   {
    "duration": 14,
    "start_time": "2021-10-23T16:08:46.628Z"
   },
   {
    "duration": 329,
    "start_time": "2021-10-23T16:11:37.595Z"
   },
   {
    "duration": 373,
    "start_time": "2021-10-23T16:11:42.331Z"
   },
   {
    "duration": 761,
    "start_time": "2021-10-23T16:11:53.751Z"
   },
   {
    "duration": 69,
    "start_time": "2021-10-23T16:11:54.515Z"
   },
   {
    "duration": 29,
    "start_time": "2021-10-23T16:11:54.587Z"
   },
   {
    "duration": 21,
    "start_time": "2021-10-23T16:11:54.619Z"
   },
   {
    "duration": 12,
    "start_time": "2021-10-23T16:11:54.642Z"
   },
   {
    "duration": 49,
    "start_time": "2021-10-23T16:11:54.656Z"
   },
   {
    "duration": 8,
    "start_time": "2021-10-23T16:11:54.708Z"
   },
   {
    "duration": 11,
    "start_time": "2021-10-23T16:11:54.720Z"
   },
   {
    "duration": 10,
    "start_time": "2021-10-23T16:11:54.734Z"
   },
   {
    "duration": 9,
    "start_time": "2021-10-23T16:11:54.747Z"
   },
   {
    "duration": 6,
    "start_time": "2021-10-23T16:11:54.801Z"
   },
   {
    "duration": 9,
    "start_time": "2021-10-23T16:11:54.809Z"
   },
   {
    "duration": 10,
    "start_time": "2021-10-23T16:11:54.821Z"
   },
   {
    "duration": 6,
    "start_time": "2021-10-23T16:11:54.834Z"
   },
   {
    "duration": 10,
    "start_time": "2021-10-23T16:11:54.842Z"
   },
   {
    "duration": 46,
    "start_time": "2021-10-23T16:11:54.854Z"
   },
   {
    "duration": 5,
    "start_time": "2021-10-23T16:11:54.903Z"
   },
   {
    "duration": 13,
    "start_time": "2021-10-23T16:11:54.910Z"
   },
   {
    "duration": 19,
    "start_time": "2021-10-23T16:11:54.926Z"
   },
   {
    "duration": 9,
    "start_time": "2021-10-23T16:11:54.947Z"
   },
   {
    "duration": 8,
    "start_time": "2021-10-23T16:11:54.959Z"
   },
   {
    "duration": 7,
    "start_time": "2021-10-23T16:11:55.001Z"
   },
   {
    "duration": 17,
    "start_time": "2021-10-23T16:11:55.015Z"
   },
   {
    "duration": 8,
    "start_time": "2021-10-23T16:11:55.036Z"
   },
   {
    "duration": 9,
    "start_time": "2021-10-23T16:11:55.046Z"
   },
   {
    "duration": 57,
    "start_time": "2021-10-23T16:11:55.057Z"
   },
   {
    "duration": 5,
    "start_time": "2021-10-23T16:11:55.117Z"
   },
   {
    "duration": 9,
    "start_time": "2021-10-23T16:11:55.125Z"
   },
   {
    "duration": 6,
    "start_time": "2021-10-23T16:11:55.136Z"
   },
   {
    "duration": 8,
    "start_time": "2021-10-23T16:11:55.145Z"
   },
   {
    "duration": 46,
    "start_time": "2021-10-23T16:11:55.156Z"
   },
   {
    "duration": 26,
    "start_time": "2021-10-23T16:11:55.205Z"
   },
   {
    "duration": 4,
    "start_time": "2021-10-23T16:11:55.234Z"
   },
   {
    "duration": 12,
    "start_time": "2021-10-23T16:11:55.241Z"
   },
   {
    "duration": 9,
    "start_time": "2021-10-23T16:11:55.255Z"
   },
   {
    "duration": 35,
    "start_time": "2021-10-23T16:11:55.267Z"
   },
   {
    "duration": 11,
    "start_time": "2021-10-23T16:11:55.304Z"
   },
   {
    "duration": 18,
    "start_time": "2021-10-23T16:11:55.318Z"
   },
   {
    "duration": 19,
    "start_time": "2021-10-23T16:11:55.339Z"
   },
   {
    "duration": 52,
    "start_time": "2021-10-23T16:11:55.360Z"
   },
   {
    "duration": 20,
    "start_time": "2021-10-23T16:11:55.415Z"
   },
   {
    "duration": 25,
    "start_time": "2021-10-23T16:11:55.437Z"
   },
   {
    "duration": 53,
    "start_time": "2021-10-23T16:11:55.464Z"
   },
   {
    "duration": 7,
    "start_time": "2021-10-23T16:11:55.520Z"
   },
   {
    "duration": 6,
    "start_time": "2021-10-23T16:11:55.530Z"
   },
   {
    "duration": 7,
    "start_time": "2021-10-23T16:11:55.538Z"
   },
   {
    "duration": 1116,
    "start_time": "2021-10-23T16:11:55.547Z"
   },
   {
    "duration": 5,
    "start_time": "2021-10-23T16:11:56.666Z"
   },
   {
    "duration": 27,
    "start_time": "2021-10-23T16:11:56.674Z"
   },
   {
    "duration": 4,
    "start_time": "2021-10-23T16:11:56.705Z"
   },
   {
    "duration": 7,
    "start_time": "2021-10-23T16:11:56.712Z"
   },
   {
    "duration": 3516,
    "start_time": "2021-10-23T16:11:56.722Z"
   },
   {
    "duration": 6,
    "start_time": "2021-10-23T16:12:00.241Z"
   },
   {
    "duration": 14,
    "start_time": "2021-10-23T16:12:00.250Z"
   },
   {
    "duration": 21,
    "start_time": "2021-10-23T16:12:00.267Z"
   },
   {
    "duration": 26,
    "start_time": "2021-10-23T16:12:00.300Z"
   },
   {
    "duration": 14,
    "start_time": "2021-10-23T16:12:00.328Z"
   },
   {
    "duration": 20,
    "start_time": "2021-10-23T16:12:00.344Z"
   },
   {
    "duration": 6,
    "start_time": "2021-10-23T16:12:00.367Z"
   },
   {
    "duration": 23,
    "start_time": "2021-10-23T16:12:00.375Z"
   },
   {
    "duration": 24,
    "start_time": "2021-10-23T16:12:00.400Z"
   },
   {
    "duration": 25,
    "start_time": "2021-10-23T16:12:00.426Z"
   },
   {
    "duration": 17,
    "start_time": "2021-10-23T16:12:00.454Z"
   },
   {
    "duration": 28,
    "start_time": "2021-10-23T16:12:00.475Z"
   },
   {
    "duration": 57,
    "start_time": "2021-10-23T16:12:00.505Z"
   },
   {
    "duration": 422,
    "start_time": "2021-10-23T16:12:00.564Z"
   },
   {
    "duration": 434,
    "start_time": "2021-10-23T16:12:00.989Z"
   },
   {
    "duration": 295,
    "start_time": "2021-10-23T16:12:01.131Z"
   },
   {
    "duration": 273,
    "start_time": "2021-10-23T16:12:01.154Z"
   },
   {
    "duration": 256,
    "start_time": "2021-10-23T16:12:01.173Z"
   },
   {
    "duration": 239,
    "start_time": "2021-10-23T16:12:01.191Z"
   },
   {
    "duration": 9,
    "start_time": "2021-10-23T16:12:17.779Z"
   },
   {
    "duration": 11,
    "start_time": "2021-10-23T16:12:21.732Z"
   },
   {
    "duration": 16,
    "start_time": "2021-10-23T16:12:34.490Z"
   },
   {
    "duration": 10,
    "start_time": "2021-10-23T16:12:47.262Z"
   },
   {
    "duration": 15,
    "start_time": "2021-10-23T16:15:41.753Z"
   },
   {
    "duration": 9,
    "start_time": "2021-10-23T16:15:49.660Z"
   },
   {
    "duration": 16,
    "start_time": "2021-10-23T16:15:57.905Z"
   },
   {
    "duration": 17,
    "start_time": "2021-10-23T16:16:27.050Z"
   },
   {
    "duration": 18,
    "start_time": "2021-10-23T16:17:04.140Z"
   },
   {
    "duration": 9,
    "start_time": "2021-10-23T16:17:20.500Z"
   },
   {
    "duration": 10,
    "start_time": "2021-10-23T16:17:32.177Z"
   },
   {
    "duration": 18,
    "start_time": "2021-10-23T16:17:32.190Z"
   },
   {
    "duration": 11,
    "start_time": "2021-10-23T16:17:32.211Z"
   },
   {
    "duration": 9,
    "start_time": "2021-10-23T16:17:32.224Z"
   },
   {
    "duration": 20,
    "start_time": "2021-10-23T16:17:32.235Z"
   },
   {
    "duration": 53,
    "start_time": "2021-10-23T16:17:32.258Z"
   },
   {
    "duration": 17,
    "start_time": "2021-10-23T16:18:00.557Z"
   },
   {
    "duration": 9,
    "start_time": "2021-10-23T16:18:09.427Z"
   },
   {
    "duration": 17,
    "start_time": "2021-10-23T16:18:09.439Z"
   },
   {
    "duration": 9,
    "start_time": "2021-10-23T16:18:09.459Z"
   },
   {
    "duration": 8,
    "start_time": "2021-10-23T16:18:09.471Z"
   },
   {
    "duration": 34,
    "start_time": "2021-10-23T16:18:09.482Z"
   },
   {
    "duration": 16,
    "start_time": "2021-10-23T16:18:09.519Z"
   },
   {
    "duration": 13,
    "start_time": "2021-10-23T16:19:27.310Z"
   },
   {
    "duration": 8,
    "start_time": "2021-10-23T16:19:49.713Z"
   },
   {
    "duration": 17,
    "start_time": "2021-10-23T16:19:49.724Z"
   },
   {
    "duration": 18,
    "start_time": "2021-10-23T16:19:49.744Z"
   },
   {
    "duration": 37,
    "start_time": "2021-10-23T16:19:49.765Z"
   },
   {
    "duration": 18,
    "start_time": "2021-10-23T16:19:49.804Z"
   },
   {
    "duration": 11,
    "start_time": "2021-10-23T16:20:08.170Z"
   },
   {
    "duration": 15,
    "start_time": "2021-10-23T16:20:30.969Z"
   },
   {
    "duration": 16,
    "start_time": "2021-10-23T16:22:42.304Z"
   },
   {
    "duration": 9,
    "start_time": "2021-10-23T16:26:10.470Z"
   },
   {
    "duration": 15,
    "start_time": "2021-10-23T16:26:18.637Z"
   },
   {
    "duration": 8,
    "start_time": "2021-10-23T16:26:18.687Z"
   },
   {
    "duration": 16,
    "start_time": "2021-10-23T16:26:18.698Z"
   },
   {
    "duration": 13,
    "start_time": "2021-10-23T16:26:18.717Z"
   },
   {
    "duration": 20,
    "start_time": "2021-10-23T16:26:18.733Z"
   },
   {
    "duration": 47,
    "start_time": "2021-10-23T16:26:18.755Z"
   },
   {
    "duration": 11,
    "start_time": "2021-10-23T16:27:18.972Z"
   },
   {
    "duration": 15,
    "start_time": "2021-10-23T16:27:30.132Z"
   },
   {
    "duration": 8,
    "start_time": "2021-10-23T16:27:30.149Z"
   },
   {
    "duration": 9,
    "start_time": "2021-10-23T16:27:30.192Z"
   },
   {
    "duration": 23,
    "start_time": "2021-10-23T16:27:30.204Z"
   },
   {
    "duration": 27,
    "start_time": "2021-10-23T16:27:30.230Z"
   },
   {
    "duration": 16,
    "start_time": "2021-10-23T16:27:30.260Z"
   },
   {
    "duration": 11,
    "start_time": "2021-10-23T16:29:10.239Z"
   },
   {
    "duration": 17,
    "start_time": "2021-10-23T17:54:22.525Z"
   },
   {
    "duration": 513,
    "start_time": "2021-10-23T17:57:41.912Z"
   },
   {
    "duration": 10,
    "start_time": "2021-10-23T17:57:44.417Z"
   },
   {
    "duration": 317,
    "start_time": "2021-10-23T17:57:46.432Z"
   },
   {
    "duration": 329,
    "start_time": "2021-10-23T17:57:54.858Z"
   },
   {
    "duration": 335,
    "start_time": "2021-10-23T17:58:05.970Z"
   },
   {
    "duration": 12,
    "start_time": "2021-10-23T17:58:08.507Z"
   },
   {
    "duration": 336,
    "start_time": "2021-10-23T17:58:10.423Z"
   },
   {
    "duration": 6,
    "start_time": "2021-10-23T17:58:39.296Z"
   },
   {
    "duration": 10049,
    "start_time": "2021-10-23T17:58:45.800Z"
   },
   {
    "duration": 280,
    "start_time": "2021-10-23T17:58:55.572Z"
   },
   {
    "duration": 10,
    "start_time": "2021-10-23T17:59:06.088Z"
   },
   {
    "duration": 8,
    "start_time": "2021-10-23T17:59:06.100Z"
   },
   {
    "duration": 19,
    "start_time": "2021-10-23T17:59:06.111Z"
   },
   {
    "duration": 10,
    "start_time": "2021-10-23T18:02:12.397Z"
   },
   {
    "duration": 12,
    "start_time": "2021-10-23T18:18:42.703Z"
   },
   {
    "duration": 12,
    "start_time": "2021-10-23T18:19:04.911Z"
   },
   {
    "duration": 10,
    "start_time": "2021-10-23T18:19:31.783Z"
   },
   {
    "duration": 7,
    "start_time": "2021-10-23T18:21:09.223Z"
   },
   {
    "duration": 12,
    "start_time": "2021-10-23T18:21:16.749Z"
   },
   {
    "duration": 17,
    "start_time": "2021-10-23T18:25:32.389Z"
   },
   {
    "duration": 378,
    "start_time": "2021-10-23T18:29:00.702Z"
   },
   {
    "duration": 15,
    "start_time": "2021-10-23T18:29:06.251Z"
   },
   {
    "duration": 8,
    "start_time": "2021-10-23T18:29:08.104Z"
   },
   {
    "duration": 19,
    "start_time": "2021-10-23T18:38:41.305Z"
   },
   {
    "duration": 17,
    "start_time": "2021-10-23T18:38:59.002Z"
   },
   {
    "duration": 8,
    "start_time": "2021-10-23T18:39:10.950Z"
   },
   {
    "duration": 8,
    "start_time": "2021-10-23T18:42:07.458Z"
   },
   {
    "duration": 8,
    "start_time": "2021-10-23T18:42:44.236Z"
   },
   {
    "duration": 9,
    "start_time": "2021-10-23T18:43:05.063Z"
   },
   {
    "duration": 6,
    "start_time": "2021-10-23T18:44:40.846Z"
   },
   {
    "duration": 6,
    "start_time": "2021-10-23T18:44:49.573Z"
   },
   {
    "duration": 5,
    "start_time": "2021-10-23T18:45:19.783Z"
   },
   {
    "duration": 6,
    "start_time": "2021-10-23T18:46:43.614Z"
   },
   {
    "duration": 16,
    "start_time": "2021-10-23T18:48:24.020Z"
   },
   {
    "duration": 9,
    "start_time": "2021-10-23T18:48:31.830Z"
   },
   {
    "duration": 362,
    "start_time": "2021-10-23T19:21:13.660Z"
   },
   {
    "duration": 299,
    "start_time": "2021-10-23T19:22:09.996Z"
   },
   {
    "duration": 324,
    "start_time": "2021-10-23T19:22:24.457Z"
   },
   {
    "duration": 257,
    "start_time": "2021-10-23T19:23:23.186Z"
   },
   {
    "duration": 266,
    "start_time": "2021-10-23T19:23:45.124Z"
   },
   {
    "duration": 240,
    "start_time": "2021-10-23T19:24:01.649Z"
   },
   {
    "duration": 261,
    "start_time": "2021-10-23T19:25:22.723Z"
   },
   {
    "duration": 667,
    "start_time": "2021-10-23T19:25:59.412Z"
   },
   {
    "duration": 334,
    "start_time": "2021-10-23T19:26:12.350Z"
   },
   {
    "duration": 4226,
    "start_time": "2021-10-23T19:31:45.975Z"
   },
   {
    "duration": 333,
    "start_time": "2021-10-23T19:32:28.388Z"
   },
   {
    "duration": 374,
    "start_time": "2021-10-23T19:33:24.690Z"
   },
   {
    "duration": 15,
    "start_time": "2021-10-23T19:34:14.573Z"
   },
   {
    "duration": 785,
    "start_time": "2021-10-23T19:35:41.445Z"
   },
   {
    "duration": 69,
    "start_time": "2021-10-23T19:35:42.232Z"
   },
   {
    "duration": 35,
    "start_time": "2021-10-23T19:35:42.304Z"
   },
   {
    "duration": 19,
    "start_time": "2021-10-23T19:35:42.342Z"
   },
   {
    "duration": 11,
    "start_time": "2021-10-23T19:35:42.363Z"
   },
   {
    "duration": 39,
    "start_time": "2021-10-23T19:35:42.377Z"
   },
   {
    "duration": 6,
    "start_time": "2021-10-23T19:35:42.418Z"
   },
   {
    "duration": 10,
    "start_time": "2021-10-23T19:35:42.428Z"
   },
   {
    "duration": 10,
    "start_time": "2021-10-23T19:35:42.441Z"
   },
   {
    "duration": 49,
    "start_time": "2021-10-23T19:35:42.454Z"
   },
   {
    "duration": 8,
    "start_time": "2021-10-23T19:35:42.505Z"
   },
   {
    "duration": 10,
    "start_time": "2021-10-23T19:35:42.515Z"
   },
   {
    "duration": 7,
    "start_time": "2021-10-23T19:35:42.527Z"
   },
   {
    "duration": 6,
    "start_time": "2021-10-23T19:35:42.537Z"
   },
   {
    "duration": 11,
    "start_time": "2021-10-23T19:35:42.545Z"
   },
   {
    "duration": 43,
    "start_time": "2021-10-23T19:35:42.559Z"
   },
   {
    "duration": 5,
    "start_time": "2021-10-23T19:35:42.604Z"
   },
   {
    "duration": 9,
    "start_time": "2021-10-23T19:35:42.612Z"
   },
   {
    "duration": 15,
    "start_time": "2021-10-23T19:35:42.624Z"
   },
   {
    "duration": 8,
    "start_time": "2021-10-23T19:35:42.641Z"
   },
   {
    "duration": 51,
    "start_time": "2021-10-23T19:35:42.651Z"
   },
   {
    "duration": 7,
    "start_time": "2021-10-23T19:35:42.705Z"
   },
   {
    "duration": 17,
    "start_time": "2021-10-23T19:35:42.719Z"
   },
   {
    "duration": 9,
    "start_time": "2021-10-23T19:35:42.740Z"
   },
   {
    "duration": 51,
    "start_time": "2021-10-23T19:35:42.751Z"
   },
   {
    "duration": 18,
    "start_time": "2021-10-23T19:35:42.804Z"
   },
   {
    "duration": 5,
    "start_time": "2021-10-23T19:35:42.825Z"
   },
   {
    "duration": 6,
    "start_time": "2021-10-23T19:35:42.833Z"
   },
   {
    "duration": 8,
    "start_time": "2021-10-23T19:35:42.842Z"
   },
   {
    "duration": 49,
    "start_time": "2021-10-23T19:35:42.853Z"
   },
   {
    "duration": 8,
    "start_time": "2021-10-23T19:35:42.904Z"
   },
   {
    "duration": 19,
    "start_time": "2021-10-23T19:35:42.914Z"
   },
   {
    "duration": 4,
    "start_time": "2021-10-23T19:35:42.936Z"
   },
   {
    "duration": 12,
    "start_time": "2021-10-23T19:35:42.942Z"
   },
   {
    "duration": 45,
    "start_time": "2021-10-23T19:35:42.956Z"
   },
   {
    "duration": 8,
    "start_time": "2021-10-23T19:35:43.003Z"
   },
   {
    "duration": 16,
    "start_time": "2021-10-23T19:35:43.013Z"
   },
   {
    "duration": 20,
    "start_time": "2021-10-23T19:35:43.031Z"
   },
   {
    "duration": 14,
    "start_time": "2021-10-23T19:35:43.053Z"
   },
   {
    "duration": 51,
    "start_time": "2021-10-23T19:35:43.069Z"
   },
   {
    "duration": 19,
    "start_time": "2021-10-23T19:35:43.123Z"
   },
   {
    "duration": 25,
    "start_time": "2021-10-23T19:35:43.145Z"
   },
   {
    "duration": 48,
    "start_time": "2021-10-23T19:35:43.172Z"
   },
   {
    "duration": 8,
    "start_time": "2021-10-23T19:35:43.222Z"
   },
   {
    "duration": 5,
    "start_time": "2021-10-23T19:35:43.232Z"
   },
   {
    "duration": 6,
    "start_time": "2021-10-23T19:35:43.240Z"
   },
   {
    "duration": 999,
    "start_time": "2021-10-23T19:35:43.248Z"
   },
   {
    "duration": 4,
    "start_time": "2021-10-23T19:35:44.249Z"
   },
   {
    "duration": 13,
    "start_time": "2021-10-23T19:35:44.256Z"
   },
   {
    "duration": 4,
    "start_time": "2021-10-23T19:35:44.271Z"
   },
   {
    "duration": 4,
    "start_time": "2021-10-23T19:35:44.301Z"
   },
   {
    "duration": 3578,
    "start_time": "2021-10-23T19:35:44.308Z"
   },
   {
    "duration": 12,
    "start_time": "2021-10-23T19:35:47.889Z"
   },
   {
    "duration": 7,
    "start_time": "2021-10-23T19:35:47.905Z"
   },
   {
    "duration": 14,
    "start_time": "2021-10-23T19:35:47.914Z"
   },
   {
    "duration": 12,
    "start_time": "2021-10-23T19:35:47.930Z"
   },
   {
    "duration": 56,
    "start_time": "2021-10-23T19:35:47.944Z"
   },
   {
    "duration": 12,
    "start_time": "2021-10-23T19:35:48.003Z"
   },
   {
    "duration": 5,
    "start_time": "2021-10-23T19:35:48.018Z"
   },
   {
    "duration": 14,
    "start_time": "2021-10-23T19:35:48.026Z"
   },
   {
    "duration": 18,
    "start_time": "2021-10-23T19:35:48.043Z"
   },
   {
    "duration": 49,
    "start_time": "2021-10-23T19:35:48.063Z"
   },
   {
    "duration": 10,
    "start_time": "2021-10-23T19:35:48.114Z"
   },
   {
    "duration": 11,
    "start_time": "2021-10-23T19:35:48.127Z"
   },
   {
    "duration": 16,
    "start_time": "2021-10-23T19:35:48.140Z"
   },
   {
    "duration": 454,
    "start_time": "2021-10-23T19:35:48.159Z"
   },
   {
    "duration": 16,
    "start_time": "2021-10-23T19:35:48.617Z"
   },
   {
    "duration": 8,
    "start_time": "2021-10-23T19:35:48.640Z"
   },
   {
    "duration": 53,
    "start_time": "2021-10-23T19:35:48.652Z"
   },
   {
    "duration": 11,
    "start_time": "2021-10-23T19:35:48.707Z"
   },
   {
    "duration": 19,
    "start_time": "2021-10-23T19:35:48.720Z"
   },
   {
    "duration": 7,
    "start_time": "2021-10-23T19:35:48.741Z"
   },
   {
    "duration": 52,
    "start_time": "2021-10-23T19:35:48.750Z"
   },
   {
    "duration": 8,
    "start_time": "2021-10-23T19:35:48.804Z"
   },
   {
    "duration": 6,
    "start_time": "2021-10-23T19:35:48.814Z"
   },
   {
    "duration": 16,
    "start_time": "2021-10-23T19:35:48.822Z"
   },
   {
    "duration": 8,
    "start_time": "2021-10-23T19:35:48.841Z"
   },
   {
    "duration": 52,
    "start_time": "2021-10-23T19:35:48.852Z"
   },
   {
    "duration": 4,
    "start_time": "2021-10-23T19:59:28.149Z"
   },
   {
    "duration": 71,
    "start_time": "2021-10-23T19:59:28.155Z"
   },
   {
    "duration": 22,
    "start_time": "2021-10-23T19:59:28.229Z"
   },
   {
    "duration": 18,
    "start_time": "2021-10-23T19:59:28.253Z"
   },
   {
    "duration": 37,
    "start_time": "2021-10-23T19:59:28.274Z"
   },
   {
    "duration": 39,
    "start_time": "2021-10-23T19:59:31.089Z"
   },
   {
    "duration": 39,
    "start_time": "2021-10-23T20:00:30.591Z"
   },
   {
    "duration": 849,
    "start_time": "2021-10-23T20:00:36.626Z"
   },
   {
    "duration": 75,
    "start_time": "2021-10-23T20:00:37.478Z"
   },
   {
    "duration": 45,
    "start_time": "2021-10-23T20:00:37.557Z"
   },
   {
    "duration": 18,
    "start_time": "2021-10-23T20:00:37.606Z"
   },
   {
    "duration": 41,
    "start_time": "2021-10-23T20:00:37.627Z"
   },
   {
    "duration": 37,
    "start_time": "2021-10-23T20:00:37.670Z"
   },
   {
    "duration": 11,
    "start_time": "2021-10-23T20:00:37.710Z"
   },
   {
    "duration": 10,
    "start_time": "2021-10-23T20:00:37.725Z"
   },
   {
    "duration": 11,
    "start_time": "2021-10-23T20:00:37.738Z"
   },
   {
    "duration": 53,
    "start_time": "2021-10-23T20:00:37.752Z"
   },
   {
    "duration": 10,
    "start_time": "2021-10-23T20:00:37.807Z"
   },
   {
    "duration": 9,
    "start_time": "2021-10-23T20:00:37.820Z"
   },
   {
    "duration": 9,
    "start_time": "2021-10-23T20:00:37.832Z"
   },
   {
    "duration": 8,
    "start_time": "2021-10-23T20:00:37.844Z"
   },
   {
    "duration": 47,
    "start_time": "2021-10-23T20:00:37.855Z"
   },
   {
    "duration": 7,
    "start_time": "2021-10-23T20:00:37.905Z"
   },
   {
    "duration": 8,
    "start_time": "2021-10-23T20:00:37.915Z"
   },
   {
    "duration": 16,
    "start_time": "2021-10-23T20:00:37.927Z"
   },
   {
    "duration": 56,
    "start_time": "2021-10-23T20:00:37.946Z"
   },
   {
    "duration": 11,
    "start_time": "2021-10-23T20:00:38.005Z"
   },
   {
    "duration": 7,
    "start_time": "2021-10-23T20:00:38.018Z"
   },
   {
    "duration": 19,
    "start_time": "2021-10-23T20:00:38.028Z"
   },
   {
    "duration": 8,
    "start_time": "2021-10-23T20:00:38.054Z"
   },
   {
    "duration": 8,
    "start_time": "2021-10-23T20:00:38.103Z"
   },
   {
    "duration": 18,
    "start_time": "2021-10-23T20:00:38.113Z"
   },
   {
    "duration": 6,
    "start_time": "2021-10-23T20:00:38.133Z"
   },
   {
    "duration": 12,
    "start_time": "2021-10-23T20:00:38.142Z"
   },
   {
    "duration": 44,
    "start_time": "2021-10-23T20:00:38.156Z"
   },
   {
    "duration": 7,
    "start_time": "2021-10-23T20:00:38.203Z"
   },
   {
    "duration": 9,
    "start_time": "2021-10-23T20:00:38.213Z"
   },
   {
    "duration": 21,
    "start_time": "2021-10-23T20:00:38.224Z"
   },
   {
    "duration": 5,
    "start_time": "2021-10-23T20:00:38.247Z"
   },
   {
    "duration": 48,
    "start_time": "2021-10-23T20:00:38.254Z"
   },
   {
    "duration": 8,
    "start_time": "2021-10-23T20:00:38.304Z"
   },
   {
    "duration": 9,
    "start_time": "2021-10-23T20:00:38.315Z"
   },
   {
    "duration": 20,
    "start_time": "2021-10-23T20:00:38.327Z"
   },
   {
    "duration": 25,
    "start_time": "2021-10-23T20:00:38.350Z"
   },
   {
    "duration": 28,
    "start_time": "2021-10-23T20:00:38.378Z"
   },
   {
    "duration": 29,
    "start_time": "2021-10-23T20:00:38.409Z"
   },
   {
    "duration": 21,
    "start_time": "2021-10-23T20:00:38.441Z"
   },
   {
    "duration": 53,
    "start_time": "2021-10-23T20:00:38.464Z"
   },
   {
    "duration": 22,
    "start_time": "2021-10-23T20:00:38.519Z"
   },
   {
    "duration": 7,
    "start_time": "2021-10-23T20:00:38.544Z"
   },
   {
    "duration": 7,
    "start_time": "2021-10-23T20:00:38.554Z"
   },
   {
    "duration": 41,
    "start_time": "2021-10-23T20:00:38.563Z"
   },
   {
    "duration": 980,
    "start_time": "2021-10-23T20:00:38.607Z"
   },
   {
    "duration": 10,
    "start_time": "2021-10-23T20:00:39.590Z"
   },
   {
    "duration": 14,
    "start_time": "2021-10-23T20:00:39.603Z"
   },
   {
    "duration": 14,
    "start_time": "2021-10-23T20:00:39.620Z"
   },
   {
    "duration": 17,
    "start_time": "2021-10-23T20:00:39.637Z"
   },
   {
    "duration": 3614,
    "start_time": "2021-10-23T20:00:39.657Z"
   },
   {
    "duration": 7,
    "start_time": "2021-10-23T20:00:43.273Z"
   },
   {
    "duration": 22,
    "start_time": "2021-10-23T20:00:43.282Z"
   },
   {
    "duration": 17,
    "start_time": "2021-10-23T20:00:43.306Z"
   },
   {
    "duration": 13,
    "start_time": "2021-10-23T20:00:43.325Z"
   },
   {
    "duration": 8,
    "start_time": "2021-10-23T20:00:43.341Z"
   },
   {
    "duration": 14,
    "start_time": "2021-10-23T20:00:43.352Z"
   },
   {
    "duration": 6,
    "start_time": "2021-10-23T20:00:43.400Z"
   },
   {
    "duration": 11,
    "start_time": "2021-10-23T20:00:43.408Z"
   },
   {
    "duration": 17,
    "start_time": "2021-10-23T20:00:43.421Z"
   },
   {
    "duration": 20,
    "start_time": "2021-10-23T20:00:43.441Z"
   },
   {
    "duration": 44,
    "start_time": "2021-10-23T20:00:43.463Z"
   },
   {
    "duration": 12,
    "start_time": "2021-10-23T20:00:43.509Z"
   },
   {
    "duration": 20,
    "start_time": "2021-10-23T20:00:43.523Z"
   },
   {
    "duration": 472,
    "start_time": "2021-10-23T20:00:43.546Z"
   },
   {
    "duration": 21,
    "start_time": "2021-10-23T20:00:44.022Z"
   },
   {
    "duration": 11,
    "start_time": "2021-10-23T20:00:44.046Z"
   },
   {
    "duration": 52,
    "start_time": "2021-10-23T20:00:44.068Z"
   },
   {
    "duration": 17,
    "start_time": "2021-10-23T20:00:44.124Z"
   },
   {
    "duration": 39,
    "start_time": "2021-10-23T20:00:44.145Z"
   },
   {
    "duration": 9,
    "start_time": "2021-10-23T20:00:44.201Z"
   },
   {
    "duration": 20,
    "start_time": "2021-10-23T20:00:44.213Z"
   },
   {
    "duration": 7,
    "start_time": "2021-10-23T20:00:44.236Z"
   },
   {
    "duration": 6,
    "start_time": "2021-10-23T20:00:44.245Z"
   },
   {
    "duration": 59,
    "start_time": "2021-10-23T20:00:44.254Z"
   },
   {
    "duration": 10,
    "start_time": "2021-10-23T20:00:44.316Z"
   },
   {
    "duration": 7,
    "start_time": "2021-10-23T20:00:44.328Z"
   },
   {
    "duration": 21,
    "start_time": "2021-10-23T20:05:02.159Z"
   },
   {
    "duration": 845,
    "start_time": "2021-10-23T20:05:13.501Z"
   },
   {
    "duration": 69,
    "start_time": "2021-10-23T20:05:14.349Z"
   },
   {
    "duration": 29,
    "start_time": "2021-10-23T20:05:14.420Z"
   },
   {
    "duration": 19,
    "start_time": "2021-10-23T20:05:14.452Z"
   },
   {
    "duration": 61,
    "start_time": "2021-10-23T20:05:14.474Z"
   },
   {
    "duration": 7,
    "start_time": "2021-10-23T20:05:14.537Z"
   },
   {
    "duration": 14,
    "start_time": "2021-10-23T20:05:14.547Z"
   },
   {
    "duration": 45,
    "start_time": "2021-10-23T20:05:14.565Z"
   },
   {
    "duration": 12,
    "start_time": "2021-10-23T20:05:14.616Z"
   },
   {
    "duration": 12,
    "start_time": "2021-10-23T20:05:14.630Z"
   },
   {
    "duration": 11,
    "start_time": "2021-10-23T20:05:14.645Z"
   },
   {
    "duration": 42,
    "start_time": "2021-10-23T20:05:14.659Z"
   },
   {
    "duration": 9,
    "start_time": "2021-10-23T20:05:14.704Z"
   },
   {
    "duration": 11,
    "start_time": "2021-10-23T20:05:14.716Z"
   },
   {
    "duration": 10,
    "start_time": "2021-10-23T20:05:14.730Z"
   },
   {
    "duration": 7,
    "start_time": "2021-10-23T20:05:14.743Z"
   },
   {
    "duration": 7,
    "start_time": "2021-10-23T20:05:14.801Z"
   },
   {
    "duration": 9,
    "start_time": "2021-10-23T20:05:14.810Z"
   },
   {
    "duration": 8,
    "start_time": "2021-10-23T20:05:14.821Z"
   },
   {
    "duration": 9,
    "start_time": "2021-10-23T20:05:14.831Z"
   },
   {
    "duration": 70,
    "start_time": "2021-10-23T20:05:14.842Z"
   },
   {
    "duration": 9,
    "start_time": "2021-10-23T20:05:14.915Z"
   },
   {
    "duration": 6,
    "start_time": "2021-10-23T20:05:14.931Z"
   },
   {
    "duration": 18,
    "start_time": "2021-10-23T20:05:14.940Z"
   },
   {
    "duration": 39,
    "start_time": "2021-10-23T20:05:14.961Z"
   },
   {
    "duration": 7,
    "start_time": "2021-10-23T20:05:15.003Z"
   },
   {
    "duration": 18,
    "start_time": "2021-10-23T20:05:15.013Z"
   },
   {
    "duration": 17,
    "start_time": "2021-10-23T20:05:15.034Z"
   },
   {
    "duration": 19,
    "start_time": "2021-10-23T20:05:15.054Z"
   },
   {
    "duration": 43,
    "start_time": "2021-10-23T20:05:15.075Z"
   },
   {
    "duration": 5,
    "start_time": "2021-10-23T20:05:15.121Z"
   },
   {
    "duration": 19,
    "start_time": "2021-10-23T20:05:15.128Z"
   },
   {
    "duration": 14,
    "start_time": "2021-10-23T20:05:15.150Z"
   },
   {
    "duration": 34,
    "start_time": "2021-10-23T20:05:15.166Z"
   },
   {
    "duration": 11,
    "start_time": "2021-10-23T20:05:15.203Z"
   },
   {
    "duration": 20,
    "start_time": "2021-10-23T20:05:15.217Z"
   },
   {
    "duration": 13,
    "start_time": "2021-10-23T20:05:15.240Z"
   },
   {
    "duration": 59,
    "start_time": "2021-10-23T20:05:15.256Z"
   },
   {
    "duration": 21,
    "start_time": "2021-10-23T20:05:15.317Z"
   },
   {
    "duration": 28,
    "start_time": "2021-10-23T20:05:15.340Z"
   },
   {
    "duration": 53,
    "start_time": "2021-10-23T20:05:15.370Z"
   },
   {
    "duration": 9,
    "start_time": "2021-10-23T20:05:15.426Z"
   },
   {
    "duration": 14,
    "start_time": "2021-10-23T20:05:15.438Z"
   },
   {
    "duration": 7,
    "start_time": "2021-10-23T20:05:15.454Z"
   },
   {
    "duration": 1211,
    "start_time": "2021-10-23T20:05:15.464Z"
   },
   {
    "duration": 4,
    "start_time": "2021-10-23T20:05:16.678Z"
   },
   {
    "duration": 31,
    "start_time": "2021-10-23T20:05:16.685Z"
   },
   {
    "duration": 14,
    "start_time": "2021-10-23T20:05:16.719Z"
   },
   {
    "duration": 18,
    "start_time": "2021-10-23T20:05:16.736Z"
   },
   {
    "duration": 3606,
    "start_time": "2021-10-23T20:05:16.756Z"
   },
   {
    "duration": 7,
    "start_time": "2021-10-23T20:05:20.364Z"
   },
   {
    "duration": 28,
    "start_time": "2021-10-23T20:05:20.373Z"
   },
   {
    "duration": 9,
    "start_time": "2021-10-23T20:05:20.404Z"
   },
   {
    "duration": 19,
    "start_time": "2021-10-23T20:05:20.416Z"
   },
   {
    "duration": 9,
    "start_time": "2021-10-23T20:05:20.438Z"
   },
   {
    "duration": 14,
    "start_time": "2021-10-23T20:05:20.449Z"
   },
   {
    "duration": 37,
    "start_time": "2021-10-23T20:05:20.466Z"
   },
   {
    "duration": 12,
    "start_time": "2021-10-23T20:05:20.506Z"
   },
   {
    "duration": 19,
    "start_time": "2021-10-23T20:05:20.521Z"
   },
   {
    "duration": 26,
    "start_time": "2021-10-23T20:05:20.543Z"
   },
   {
    "duration": 34,
    "start_time": "2021-10-23T20:05:20.571Z"
   },
   {
    "duration": 11,
    "start_time": "2021-10-23T20:05:20.607Z"
   },
   {
    "duration": 21,
    "start_time": "2021-10-23T20:05:20.621Z"
   },
   {
    "duration": 435,
    "start_time": "2021-10-23T20:05:20.645Z"
   },
   {
    "duration": 23,
    "start_time": "2021-10-23T20:05:21.082Z"
   },
   {
    "duration": 8,
    "start_time": "2021-10-23T20:05:21.108Z"
   },
   {
    "duration": 20,
    "start_time": "2021-10-23T20:05:21.118Z"
   },
   {
    "duration": 14,
    "start_time": "2021-10-23T20:05:21.145Z"
   },
   {
    "duration": 48,
    "start_time": "2021-10-23T20:05:21.161Z"
   },
   {
    "duration": 7,
    "start_time": "2021-10-23T20:05:21.212Z"
   },
   {
    "duration": 29,
    "start_time": "2021-10-23T20:05:21.221Z"
   },
   {
    "duration": 7,
    "start_time": "2021-10-23T20:05:21.253Z"
   },
   {
    "duration": 25,
    "start_time": "2021-10-23T20:05:21.262Z"
   },
   {
    "duration": 16,
    "start_time": "2021-10-23T20:05:21.301Z"
   },
   {
    "duration": 9,
    "start_time": "2021-10-23T20:05:21.319Z"
   },
   {
    "duration": 7,
    "start_time": "2021-10-23T20:05:21.331Z"
   },
   {
    "duration": 813,
    "start_time": "2021-10-24T13:48:40.544Z"
   },
   {
    "duration": 64,
    "start_time": "2021-10-24T13:48:41.360Z"
   },
   {
    "duration": 43,
    "start_time": "2021-10-24T13:48:41.428Z"
   },
   {
    "duration": 16,
    "start_time": "2021-10-24T13:48:41.474Z"
   },
   {
    "duration": 43,
    "start_time": "2021-10-24T13:48:41.492Z"
   },
   {
    "duration": 32,
    "start_time": "2021-10-24T13:48:41.538Z"
   },
   {
    "duration": 12,
    "start_time": "2021-10-24T13:48:41.572Z"
   },
   {
    "duration": 11,
    "start_time": "2021-10-24T13:48:41.589Z"
   },
   {
    "duration": 10,
    "start_time": "2021-10-24T13:48:41.603Z"
   },
   {
    "duration": 56,
    "start_time": "2021-10-24T13:48:41.616Z"
   },
   {
    "duration": 7,
    "start_time": "2021-10-24T13:48:41.675Z"
   },
   {
    "duration": 10,
    "start_time": "2021-10-24T13:48:41.685Z"
   },
   {
    "duration": 8,
    "start_time": "2021-10-24T13:48:41.698Z"
   },
   {
    "duration": 8,
    "start_time": "2021-10-24T13:48:41.709Z"
   },
   {
    "duration": 53,
    "start_time": "2021-10-24T13:48:41.719Z"
   },
   {
    "duration": 5,
    "start_time": "2021-10-24T13:48:41.774Z"
   },
   {
    "duration": 10,
    "start_time": "2021-10-24T13:48:41.782Z"
   },
   {
    "duration": 10,
    "start_time": "2021-10-24T13:48:41.795Z"
   },
   {
    "duration": 61,
    "start_time": "2021-10-24T13:48:41.808Z"
   },
   {
    "duration": 7,
    "start_time": "2021-10-24T13:48:41.872Z"
   },
   {
    "duration": 22,
    "start_time": "2021-10-24T13:48:41.883Z"
   },
   {
    "duration": 10,
    "start_time": "2021-10-24T13:48:41.908Z"
   },
   {
    "duration": 8,
    "start_time": "2021-10-24T13:48:41.967Z"
   },
   {
    "duration": 20,
    "start_time": "2021-10-24T13:48:41.980Z"
   },
   {
    "duration": 6,
    "start_time": "2021-10-24T13:48:42.003Z"
   },
   {
    "duration": 9,
    "start_time": "2021-10-24T13:48:42.011Z"
   },
   {
    "duration": 44,
    "start_time": "2021-10-24T13:48:42.023Z"
   },
   {
    "duration": 13,
    "start_time": "2021-10-24T13:48:42.070Z"
   },
   {
    "duration": 9,
    "start_time": "2021-10-24T13:48:42.086Z"
   },
   {
    "duration": 22,
    "start_time": "2021-10-24T13:48:42.097Z"
   },
   {
    "duration": 5,
    "start_time": "2021-10-24T13:48:42.121Z"
   },
   {
    "duration": 8,
    "start_time": "2021-10-24T13:48:42.167Z"
   },
   {
    "duration": 7,
    "start_time": "2021-10-24T13:48:42.177Z"
   },
   {
    "duration": 8,
    "start_time": "2021-10-24T13:48:42.186Z"
   },
   {
    "duration": 10,
    "start_time": "2021-10-24T13:48:42.197Z"
   },
   {
    "duration": 58,
    "start_time": "2021-10-24T13:48:42.209Z"
   },
   {
    "duration": 11,
    "start_time": "2021-10-24T13:48:42.270Z"
   },
   {
    "duration": 26,
    "start_time": "2021-10-24T13:48:42.284Z"
   },
   {
    "duration": 21,
    "start_time": "2021-10-24T13:48:42.313Z"
   },
   {
    "duration": 24,
    "start_time": "2021-10-24T13:48:42.368Z"
   },
   {
    "duration": 23,
    "start_time": "2021-10-24T13:48:42.395Z"
   },
   {
    "duration": 9,
    "start_time": "2021-10-24T13:48:42.421Z"
   },
   {
    "duration": 10,
    "start_time": "2021-10-24T13:48:42.468Z"
   },
   {
    "duration": 7,
    "start_time": "2021-10-24T13:48:42.481Z"
   },
   {
    "duration": 947,
    "start_time": "2021-10-24T13:48:42.490Z"
   },
   {
    "duration": 4,
    "start_time": "2021-10-24T13:48:43.440Z"
   },
   {
    "duration": 22,
    "start_time": "2021-10-24T13:48:43.447Z"
   },
   {
    "duration": 5,
    "start_time": "2021-10-24T13:48:43.472Z"
   },
   {
    "duration": 6,
    "start_time": "2021-10-24T13:48:43.480Z"
   },
   {
    "duration": 4050,
    "start_time": "2021-10-24T13:48:43.488Z"
   },
   {
    "duration": 26,
    "start_time": "2021-10-24T13:48:47.541Z"
   },
   {
    "duration": 6,
    "start_time": "2021-10-24T13:48:47.569Z"
   },
   {
    "duration": 16,
    "start_time": "2021-10-24T13:48:47.578Z"
   },
   {
    "duration": 10,
    "start_time": "2021-10-24T13:48:47.597Z"
   },
   {
    "duration": 14,
    "start_time": "2021-10-24T13:48:47.610Z"
   },
   {
    "duration": 42,
    "start_time": "2021-10-24T13:48:47.627Z"
   },
   {
    "duration": 6,
    "start_time": "2021-10-24T13:48:47.671Z"
   },
   {
    "duration": 18,
    "start_time": "2021-10-24T13:48:47.679Z"
   },
   {
    "duration": 17,
    "start_time": "2021-10-24T13:48:47.700Z"
   },
   {
    "duration": 24,
    "start_time": "2021-10-24T13:48:47.719Z"
   },
   {
    "duration": 29,
    "start_time": "2021-10-24T13:48:47.746Z"
   },
   {
    "duration": 10,
    "start_time": "2021-10-24T13:48:47.777Z"
   },
   {
    "duration": 19,
    "start_time": "2021-10-24T13:48:47.789Z"
   },
   {
    "duration": 453,
    "start_time": "2021-10-24T13:48:47.810Z"
   },
   {
    "duration": 15,
    "start_time": "2021-10-24T13:48:48.267Z"
   },
   {
    "duration": 7,
    "start_time": "2021-10-24T13:48:48.285Z"
   },
   {
    "duration": 23,
    "start_time": "2021-10-24T13:48:48.295Z"
   },
   {
    "duration": 42,
    "start_time": "2021-10-24T13:48:48.326Z"
   },
   {
    "duration": 20,
    "start_time": "2021-10-24T13:48:48.371Z"
   },
   {
    "duration": 10,
    "start_time": "2021-10-24T13:48:48.394Z"
   },
   {
    "duration": 60,
    "start_time": "2021-10-24T13:48:48.408Z"
   },
   {
    "duration": 8,
    "start_time": "2021-10-24T13:48:48.471Z"
   },
   {
    "duration": 7,
    "start_time": "2021-10-24T13:48:48.482Z"
   },
   {
    "duration": 22,
    "start_time": "2021-10-24T13:48:48.492Z"
   },
   {
    "duration": 53,
    "start_time": "2021-10-24T13:48:48.517Z"
   },
   {
    "duration": 9,
    "start_time": "2021-10-24T13:48:48.574Z"
   },
   {
    "duration": 92,
    "start_time": "2021-10-24T14:54:48.237Z"
   },
   {
    "duration": 6529,
    "start_time": "2021-10-24T14:56:01.024Z"
   },
   {
    "duration": 693,
    "start_time": "2021-10-24T16:31:50.157Z"
   },
   {
    "duration": 635,
    "start_time": "2021-10-24T16:32:01.461Z"
   },
   {
    "duration": 56,
    "start_time": "2021-10-24T16:32:02.098Z"
   },
   {
    "duration": 21,
    "start_time": "2021-10-24T16:32:02.157Z"
   },
   {
    "duration": 21,
    "start_time": "2021-10-24T16:32:02.181Z"
   },
   {
    "duration": 29,
    "start_time": "2021-10-24T16:32:02.204Z"
   },
   {
    "duration": 7,
    "start_time": "2021-10-24T16:32:02.245Z"
   },
   {
    "duration": 68,
    "start_time": "2021-10-24T16:32:02.254Z"
   },
   {
    "duration": 13,
    "start_time": "2021-10-24T16:32:02.325Z"
   },
   {
    "duration": 17,
    "start_time": "2021-10-24T16:32:02.340Z"
   },
   {
    "duration": 6,
    "start_time": "2021-10-24T16:32:02.358Z"
   },
   {
    "duration": 7,
    "start_time": "2021-10-24T16:32:02.366Z"
   },
   {
    "duration": 8,
    "start_time": "2021-10-24T16:32:02.374Z"
   },
   {
    "duration": 6,
    "start_time": "2021-10-24T16:32:02.383Z"
   },
   {
    "duration": 9,
    "start_time": "2021-10-24T16:32:02.390Z"
   },
   {
    "duration": 10,
    "start_time": "2021-10-24T16:32:02.400Z"
   },
   {
    "duration": 9,
    "start_time": "2021-10-24T16:32:02.412Z"
   },
   {
    "duration": 301,
    "start_time": "2021-10-24T16:32:06.483Z"
   },
   {
    "duration": 10,
    "start_time": "2021-10-24T16:32:18.618Z"
   },
   {
    "duration": 11,
    "start_time": "2021-10-24T16:35:04.381Z"
   },
   {
    "duration": 10,
    "start_time": "2021-10-24T17:01:55.031Z"
   },
   {
    "duration": 5,
    "start_time": "2021-10-24T17:02:47.521Z"
   },
   {
    "duration": 7037,
    "start_time": "2021-10-24T17:26:01.405Z"
   },
   {
    "duration": 7,
    "start_time": "2021-10-24T17:30:02.621Z"
   },
   {
    "duration": 10,
    "start_time": "2021-10-24T17:30:10.823Z"
   },
   {
    "duration": 12,
    "start_time": "2021-10-24T17:30:15.556Z"
   },
   {
    "duration": 10,
    "start_time": "2021-10-24T17:30:29.418Z"
   },
   {
    "duration": 294,
    "start_time": "2021-10-24T17:34:13.973Z"
   },
   {
    "duration": 273,
    "start_time": "2021-10-24T17:34:43.054Z"
   },
   {
    "duration": 4,
    "start_time": "2021-10-24T17:36:23.363Z"
   },
   {
    "duration": 17,
    "start_time": "2021-10-24T17:45:28.952Z"
   },
   {
    "duration": 13,
    "start_time": "2021-10-24T17:45:47.862Z"
   },
   {
    "duration": 6,
    "start_time": "2021-10-24T17:46:02.667Z"
   },
   {
    "duration": 101,
    "start_time": "2021-10-24T17:49:17.190Z"
   },
   {
    "duration": 374,
    "start_time": "2021-10-24T17:49:40.858Z"
   },
   {
    "duration": 7,
    "start_time": "2021-10-24T17:49:45.786Z"
   },
   {
    "duration": 12,
    "start_time": "2021-10-24T17:49:51.134Z"
   },
   {
    "duration": 4,
    "start_time": "2021-10-24T17:49:54.473Z"
   },
   {
    "duration": 11,
    "start_time": "2021-10-24T17:49:57.826Z"
   },
   {
    "duration": 4,
    "start_time": "2021-10-24T17:50:01.174Z"
   },
   {
    "duration": 8,
    "start_time": "2021-10-24T17:50:10.043Z"
   },
   {
    "duration": 8,
    "start_time": "2021-10-24T17:51:36.547Z"
   },
   {
    "duration": 281,
    "start_time": "2021-10-24T17:51:43.493Z"
   },
   {
    "duration": 274,
    "start_time": "2021-10-24T17:51:52.648Z"
   },
   {
    "duration": 11,
    "start_time": "2021-10-24T17:51:56.204Z"
   },
   {
    "duration": 11,
    "start_time": "2021-10-24T17:52:00.017Z"
   },
   {
    "duration": 3,
    "start_time": "2021-10-24T17:52:02.277Z"
   },
   {
    "duration": 7,
    "start_time": "2021-10-24T17:52:17.720Z"
   },
   {
    "duration": 3,
    "start_time": "2021-10-24T17:59:15.517Z"
   },
   {
    "duration": 64,
    "start_time": "2021-10-24T17:59:15.521Z"
   },
   {
    "duration": 12,
    "start_time": "2021-10-24T17:59:15.587Z"
   },
   {
    "duration": 18,
    "start_time": "2021-10-24T17:59:15.601Z"
   },
   {
    "duration": 42,
    "start_time": "2021-10-24T17:59:15.620Z"
   },
   {
    "duration": 5,
    "start_time": "2021-10-24T17:59:15.663Z"
   },
   {
    "duration": 17,
    "start_time": "2021-10-24T17:59:15.670Z"
   },
   {
    "duration": 25,
    "start_time": "2021-10-24T17:59:15.689Z"
   },
   {
    "duration": 17,
    "start_time": "2021-10-24T17:59:15.716Z"
   },
   {
    "duration": 19,
    "start_time": "2021-10-24T17:59:15.735Z"
   },
   {
    "duration": 9,
    "start_time": "2021-10-24T17:59:15.757Z"
   },
   {
    "duration": 8,
    "start_time": "2021-10-24T17:59:15.768Z"
   },
   {
    "duration": 21,
    "start_time": "2021-10-24T17:59:15.777Z"
   },
   {
    "duration": 15,
    "start_time": "2021-10-24T17:59:15.800Z"
   },
   {
    "duration": 9,
    "start_time": "2021-10-24T17:59:15.816Z"
   },
   {
    "duration": 18,
    "start_time": "2021-10-24T17:59:15.826Z"
   },
   {
    "duration": 281,
    "start_time": "2021-10-24T17:59:15.846Z"
   },
   {
    "duration": 36,
    "start_time": "2021-10-24T17:59:16.094Z"
   },
   {
    "duration": 28,
    "start_time": "2021-10-24T17:59:16.103Z"
   },
   {
    "duration": 24,
    "start_time": "2021-10-24T17:59:16.109Z"
   },
   {
    "duration": 17,
    "start_time": "2021-10-24T17:59:16.117Z"
   },
   {
    "duration": 12,
    "start_time": "2021-10-24T17:59:16.123Z"
   },
   {
    "duration": 9,
    "start_time": "2021-10-24T17:59:38.278Z"
   },
   {
    "duration": 3,
    "start_time": "2021-10-24T17:59:42.570Z"
   },
   {
    "duration": 6,
    "start_time": "2021-10-24T17:59:45.470Z"
   },
   {
    "duration": 4,
    "start_time": "2021-10-24T17:59:48.304Z"
   },
   {
    "duration": 10,
    "start_time": "2021-10-24T18:00:29.945Z"
   },
   {
    "duration": 7170,
    "start_time": "2021-10-24T18:13:33.992Z"
   },
   {
    "duration": 7386,
    "start_time": "2021-10-24T18:14:18.575Z"
   },
   {
    "duration": 22,
    "start_time": "2021-10-24T18:15:51.749Z"
   },
   {
    "duration": 19,
    "start_time": "2021-10-24T18:16:08.443Z"
   },
   {
    "duration": 3,
    "start_time": "2021-10-24T18:18:13.742Z"
   },
   {
    "duration": 49,
    "start_time": "2021-10-24T18:18:13.749Z"
   },
   {
    "duration": 12,
    "start_time": "2021-10-24T18:18:13.800Z"
   },
   {
    "duration": 11,
    "start_time": "2021-10-24T18:18:13.814Z"
   },
   {
    "duration": 38,
    "start_time": "2021-10-24T18:18:13.827Z"
   },
   {
    "duration": 4,
    "start_time": "2021-10-24T18:18:13.867Z"
   },
   {
    "duration": 9,
    "start_time": "2021-10-24T18:18:13.872Z"
   },
   {
    "duration": 7,
    "start_time": "2021-10-24T18:18:13.882Z"
   },
   {
    "duration": 8,
    "start_time": "2021-10-24T18:18:13.891Z"
   },
   {
    "duration": 4,
    "start_time": "2021-10-24T18:18:13.901Z"
   },
   {
    "duration": 6,
    "start_time": "2021-10-24T18:18:13.906Z"
   },
   {
    "duration": 7,
    "start_time": "2021-10-24T18:18:13.949Z"
   },
   {
    "duration": 4,
    "start_time": "2021-10-24T18:18:13.958Z"
   },
   {
    "duration": 8,
    "start_time": "2021-10-24T18:18:13.964Z"
   },
   {
    "duration": 5,
    "start_time": "2021-10-24T18:18:13.973Z"
   },
   {
    "duration": 3,
    "start_time": "2021-10-24T18:18:13.979Z"
   },
   {
    "duration": 7,
    "start_time": "2021-10-24T18:27:57.888Z"
   },
   {
    "duration": 5,
    "start_time": "2021-10-24T18:28:58.320Z"
   },
   {
    "duration": 10,
    "start_time": "2021-10-24T18:29:40.040Z"
   },
   {
    "duration": 70,
    "start_time": "2021-10-24T18:31:27.632Z"
   },
   {
    "duration": 3,
    "start_time": "2021-10-24T18:31:54.279Z"
   },
   {
    "duration": 274,
    "start_time": "2021-10-24T18:32:06.007Z"
   },
   {
    "duration": 3,
    "start_time": "2021-10-24T18:32:34.077Z"
   },
   {
    "duration": 72,
    "start_time": "2021-10-24T18:32:34.084Z"
   },
   {
    "duration": 15,
    "start_time": "2021-10-24T18:32:34.158Z"
   },
   {
    "duration": 15,
    "start_time": "2021-10-24T18:32:34.175Z"
   },
   {
    "duration": 61,
    "start_time": "2021-10-24T18:32:34.193Z"
   },
   {
    "duration": 12,
    "start_time": "2021-10-24T18:32:34.256Z"
   },
   {
    "duration": 9,
    "start_time": "2021-10-24T18:32:34.270Z"
   },
   {
    "duration": 8,
    "start_time": "2021-10-24T18:32:34.281Z"
   },
   {
    "duration": 9,
    "start_time": "2021-10-24T18:32:34.293Z"
   },
   {
    "duration": 4,
    "start_time": "2021-10-24T18:32:34.305Z"
   },
   {
    "duration": 36,
    "start_time": "2021-10-24T18:32:34.311Z"
   },
   {
    "duration": 7,
    "start_time": "2021-10-24T18:32:34.349Z"
   },
   {
    "duration": 7,
    "start_time": "2021-10-24T18:32:34.358Z"
   },
   {
    "duration": 14,
    "start_time": "2021-10-24T18:32:34.367Z"
   },
   {
    "duration": 5,
    "start_time": "2021-10-24T18:32:34.382Z"
   },
   {
    "duration": 4,
    "start_time": "2021-10-24T18:32:34.389Z"
   },
   {
    "duration": 8,
    "start_time": "2021-10-24T18:32:34.394Z"
   },
   {
    "duration": 4,
    "start_time": "2021-10-24T18:32:34.404Z"
   },
   {
    "duration": 39,
    "start_time": "2021-10-24T18:32:34.410Z"
   },
   {
    "duration": 6,
    "start_time": "2021-10-24T18:32:34.451Z"
   },
   {
    "duration": 7,
    "start_time": "2021-10-24T18:32:34.459Z"
   },
   {
    "duration": 83,
    "start_time": "2021-10-24T18:32:34.470Z"
   },
   {
    "duration": 5,
    "start_time": "2021-10-24T18:32:34.555Z"
   },
   {
    "duration": 560,
    "start_time": "2021-10-24T18:32:34.564Z"
   },
   {
    "duration": 2,
    "start_time": "2021-10-24T18:33:10.635Z"
   },
   {
    "duration": 73,
    "start_time": "2021-10-24T18:33:10.639Z"
   },
   {
    "duration": 17,
    "start_time": "2021-10-24T18:33:10.715Z"
   },
   {
    "duration": 54,
    "start_time": "2021-10-24T18:33:10.733Z"
   },
   {
    "duration": 48,
    "start_time": "2021-10-24T18:33:10.789Z"
   },
   {
    "duration": 8,
    "start_time": "2021-10-24T18:33:10.839Z"
   },
   {
    "duration": 22,
    "start_time": "2021-10-24T18:33:10.849Z"
   },
   {
    "duration": 23,
    "start_time": "2021-10-24T18:33:10.873Z"
   },
   {
    "duration": 25,
    "start_time": "2021-10-24T18:33:10.898Z"
   },
   {
    "duration": 16,
    "start_time": "2021-10-24T18:33:10.925Z"
   },
   {
    "duration": 31,
    "start_time": "2021-10-24T18:33:10.943Z"
   },
   {
    "duration": 11,
    "start_time": "2021-10-24T18:33:10.977Z"
   },
   {
    "duration": 13,
    "start_time": "2021-10-24T18:33:10.990Z"
   },
   {
    "duration": 20,
    "start_time": "2021-10-24T18:33:11.005Z"
   },
   {
    "duration": 22,
    "start_time": "2021-10-24T18:33:11.026Z"
   },
   {
    "duration": 26,
    "start_time": "2021-10-24T18:33:11.049Z"
   },
   {
    "duration": 20,
    "start_time": "2021-10-24T18:33:11.077Z"
   },
   {
    "duration": 35,
    "start_time": "2021-10-24T18:33:11.098Z"
   },
   {
    "duration": 15,
    "start_time": "2021-10-24T18:33:11.136Z"
   },
   {
    "duration": 19,
    "start_time": "2021-10-24T18:33:11.153Z"
   },
   {
    "duration": 25,
    "start_time": "2021-10-24T18:33:11.174Z"
   },
   {
    "duration": 91,
    "start_time": "2021-10-24T18:33:11.200Z"
   },
   {
    "duration": 3,
    "start_time": "2021-10-24T18:33:11.293Z"
   },
   {
    "duration": 691,
    "start_time": "2021-10-24T18:33:11.298Z"
   },
   {
    "duration": 3,
    "start_time": "2021-10-24T18:33:21.874Z"
   },
   {
    "duration": 57,
    "start_time": "2021-10-24T18:33:21.879Z"
   },
   {
    "duration": 19,
    "start_time": "2021-10-24T18:33:21.938Z"
   },
   {
    "duration": 12,
    "start_time": "2021-10-24T18:33:21.961Z"
   },
   {
    "duration": 28,
    "start_time": "2021-10-24T18:33:21.975Z"
   },
   {
    "duration": 5,
    "start_time": "2021-10-24T18:33:22.005Z"
   },
   {
    "duration": 41,
    "start_time": "2021-10-24T18:33:22.013Z"
   },
   {
    "duration": 10,
    "start_time": "2021-10-24T18:33:22.057Z"
   },
   {
    "duration": 17,
    "start_time": "2021-10-24T18:33:22.068Z"
   },
   {
    "duration": 17,
    "start_time": "2021-10-24T18:33:22.087Z"
   },
   {
    "duration": 15,
    "start_time": "2021-10-24T18:33:22.106Z"
   },
   {
    "duration": 18,
    "start_time": "2021-10-24T18:33:22.123Z"
   },
   {
    "duration": 15,
    "start_time": "2021-10-24T18:33:22.143Z"
   },
   {
    "duration": 15,
    "start_time": "2021-10-24T18:33:22.159Z"
   },
   {
    "duration": 12,
    "start_time": "2021-10-24T18:33:22.176Z"
   },
   {
    "duration": 11,
    "start_time": "2021-10-24T18:33:22.189Z"
   },
   {
    "duration": 19,
    "start_time": "2021-10-24T18:33:22.201Z"
   },
   {
    "duration": 11,
    "start_time": "2021-10-24T18:33:22.222Z"
   },
   {
    "duration": 18,
    "start_time": "2021-10-24T18:33:22.236Z"
   },
   {
    "duration": 18,
    "start_time": "2021-10-24T18:33:22.256Z"
   },
   {
    "duration": 18,
    "start_time": "2021-10-24T18:33:22.276Z"
   },
   {
    "duration": 71,
    "start_time": "2021-10-24T18:33:22.296Z"
   },
   {
    "duration": 4,
    "start_time": "2021-10-24T18:33:22.369Z"
   },
   {
    "duration": 12,
    "start_time": "2021-10-24T18:33:22.375Z"
   },
   {
    "duration": 3,
    "start_time": "2021-10-24T18:33:43.623Z"
   },
   {
    "duration": 2,
    "start_time": "2021-10-24T18:34:38.791Z"
   },
   {
    "duration": 59,
    "start_time": "2021-10-24T18:34:38.797Z"
   },
   {
    "duration": 13,
    "start_time": "2021-10-24T18:34:38.858Z"
   },
   {
    "duration": 22,
    "start_time": "2021-10-24T18:34:38.873Z"
   },
   {
    "duration": 25,
    "start_time": "2021-10-24T18:34:38.897Z"
   },
   {
    "duration": 24,
    "start_time": "2021-10-24T18:34:38.924Z"
   },
   {
    "duration": 10,
    "start_time": "2021-10-24T18:34:38.949Z"
   },
   {
    "duration": 6,
    "start_time": "2021-10-24T18:34:38.961Z"
   },
   {
    "duration": 9,
    "start_time": "2021-10-24T18:34:38.970Z"
   },
   {
    "duration": 5,
    "start_time": "2021-10-24T18:34:38.981Z"
   },
   {
    "duration": 7,
    "start_time": "2021-10-24T18:34:38.987Z"
   },
   {
    "duration": 10,
    "start_time": "2021-10-24T18:34:38.996Z"
   },
   {
    "duration": 8,
    "start_time": "2021-10-24T18:34:39.008Z"
   },
   {
    "duration": 33,
    "start_time": "2021-10-24T18:34:39.018Z"
   },
   {
    "duration": 7,
    "start_time": "2021-10-24T18:34:39.053Z"
   },
   {
    "duration": 4,
    "start_time": "2021-10-24T18:34:39.062Z"
   },
   {
    "duration": 13,
    "start_time": "2021-10-24T18:34:39.067Z"
   },
   {
    "duration": 6,
    "start_time": "2021-10-24T18:34:39.082Z"
   },
   {
    "duration": 26,
    "start_time": "2021-10-24T18:34:39.090Z"
   },
   {
    "duration": 17,
    "start_time": "2021-10-24T18:34:39.118Z"
   },
   {
    "duration": 16,
    "start_time": "2021-10-24T18:34:39.137Z"
   },
   {
    "duration": 85,
    "start_time": "2021-10-24T18:34:39.154Z"
   },
   {
    "duration": 3,
    "start_time": "2021-10-24T18:34:39.241Z"
   },
   {
    "duration": 8,
    "start_time": "2021-10-24T18:34:39.248Z"
   },
   {
    "duration": 3,
    "start_time": "2021-10-24T18:34:55.300Z"
   },
   {
    "duration": 2,
    "start_time": "2021-10-24T18:35:44.963Z"
   },
   {
    "duration": 51,
    "start_time": "2021-10-24T18:35:44.967Z"
   },
   {
    "duration": 13,
    "start_time": "2021-10-24T18:35:45.020Z"
   },
   {
    "duration": 18,
    "start_time": "2021-10-24T18:35:45.035Z"
   },
   {
    "duration": 39,
    "start_time": "2021-10-24T18:35:45.055Z"
   },
   {
    "duration": 5,
    "start_time": "2021-10-24T18:35:45.096Z"
   },
   {
    "duration": 11,
    "start_time": "2021-10-24T18:35:45.104Z"
   },
   {
    "duration": 34,
    "start_time": "2021-10-24T18:35:45.117Z"
   },
   {
    "duration": 11,
    "start_time": "2021-10-24T18:35:45.153Z"
   },
   {
    "duration": 6,
    "start_time": "2021-10-24T18:35:45.166Z"
   },
   {
    "duration": 6,
    "start_time": "2021-10-24T18:35:45.174Z"
   },
   {
    "duration": 8,
    "start_time": "2021-10-24T18:35:45.181Z"
   },
   {
    "duration": 8,
    "start_time": "2021-10-24T18:35:45.191Z"
   },
   {
    "duration": 8,
    "start_time": "2021-10-24T18:35:45.201Z"
   },
   {
    "duration": 5,
    "start_time": "2021-10-24T18:35:45.211Z"
   },
   {
    "duration": 34,
    "start_time": "2021-10-24T18:35:45.218Z"
   },
   {
    "duration": 11,
    "start_time": "2021-10-24T18:35:45.254Z"
   },
   {
    "duration": 4,
    "start_time": "2021-10-24T18:35:45.266Z"
   },
   {
    "duration": 9,
    "start_time": "2021-10-24T18:35:45.272Z"
   },
   {
    "duration": 6,
    "start_time": "2021-10-24T18:35:45.283Z"
   },
   {
    "duration": 5,
    "start_time": "2021-10-24T18:35:45.290Z"
   },
   {
    "duration": 84,
    "start_time": "2021-10-24T18:35:45.296Z"
   },
   {
    "duration": 2,
    "start_time": "2021-10-24T18:35:45.382Z"
   },
   {
    "duration": 3,
    "start_time": "2021-10-24T18:35:49.236Z"
   },
   {
    "duration": 3,
    "start_time": "2021-10-24T18:36:46.471Z"
   },
   {
    "duration": 86,
    "start_time": "2021-10-24T18:36:46.476Z"
   },
   {
    "duration": 12,
    "start_time": "2021-10-24T18:36:46.564Z"
   },
   {
    "duration": 39,
    "start_time": "2021-10-24T18:36:46.577Z"
   },
   {
    "duration": 49,
    "start_time": "2021-10-24T18:36:46.617Z"
   },
   {
    "duration": 4,
    "start_time": "2021-10-24T18:36:46.668Z"
   },
   {
    "duration": 31,
    "start_time": "2021-10-24T18:36:46.674Z"
   },
   {
    "duration": 39,
    "start_time": "2021-10-24T18:36:46.707Z"
   },
   {
    "duration": 21,
    "start_time": "2021-10-24T18:36:46.749Z"
   },
   {
    "duration": 28,
    "start_time": "2021-10-24T18:36:46.772Z"
   },
   {
    "duration": 15,
    "start_time": "2021-10-24T18:36:46.801Z"
   },
   {
    "duration": 20,
    "start_time": "2021-10-24T18:36:46.818Z"
   },
   {
    "duration": 22,
    "start_time": "2021-10-24T18:36:46.840Z"
   },
   {
    "duration": 15,
    "start_time": "2021-10-24T18:36:46.863Z"
   },
   {
    "duration": 20,
    "start_time": "2021-10-24T18:36:46.880Z"
   },
   {
    "duration": 22,
    "start_time": "2021-10-24T18:36:46.901Z"
   },
   {
    "duration": 29,
    "start_time": "2021-10-24T18:36:46.925Z"
   },
   {
    "duration": 21,
    "start_time": "2021-10-24T18:36:46.956Z"
   },
   {
    "duration": 26,
    "start_time": "2021-10-24T18:36:46.980Z"
   },
   {
    "duration": 20,
    "start_time": "2021-10-24T18:36:47.008Z"
   },
   {
    "duration": 32,
    "start_time": "2021-10-24T18:36:47.029Z"
   },
   {
    "duration": 108,
    "start_time": "2021-10-24T18:36:47.063Z"
   },
   {
    "duration": 4,
    "start_time": "2021-10-24T18:36:47.173Z"
   },
   {
    "duration": 3,
    "start_time": "2021-10-24T18:37:37.855Z"
   },
   {
    "duration": 50,
    "start_time": "2021-10-24T18:37:37.860Z"
   },
   {
    "duration": 12,
    "start_time": "2021-10-24T18:37:37.912Z"
   },
   {
    "duration": 12,
    "start_time": "2021-10-24T18:37:37.926Z"
   },
   {
    "duration": 31,
    "start_time": "2021-10-24T18:37:37.939Z"
   },
   {
    "duration": 6,
    "start_time": "2021-10-24T18:37:37.973Z"
   },
   {
    "duration": 8,
    "start_time": "2021-10-24T18:37:37.982Z"
   },
   {
    "duration": 6,
    "start_time": "2021-10-24T18:37:37.992Z"
   },
   {
    "duration": 11,
    "start_time": "2021-10-24T18:37:38.000Z"
   },
   {
    "duration": 6,
    "start_time": "2021-10-24T18:37:38.049Z"
   },
   {
    "duration": 6,
    "start_time": "2021-10-24T18:37:38.057Z"
   },
   {
    "duration": 6,
    "start_time": "2021-10-24T18:37:38.065Z"
   },
   {
    "duration": 5,
    "start_time": "2021-10-24T18:37:38.073Z"
   },
   {
    "duration": 7,
    "start_time": "2021-10-24T18:37:38.079Z"
   },
   {
    "duration": 5,
    "start_time": "2021-10-24T18:37:38.088Z"
   },
   {
    "duration": 4,
    "start_time": "2021-10-24T18:37:38.094Z"
   },
   {
    "duration": 8,
    "start_time": "2021-10-24T18:37:38.099Z"
   },
   {
    "duration": 4,
    "start_time": "2021-10-24T18:37:38.109Z"
   },
   {
    "duration": 12,
    "start_time": "2021-10-24T18:37:38.144Z"
   },
   {
    "duration": 8,
    "start_time": "2021-10-24T18:37:38.158Z"
   },
   {
    "duration": 6,
    "start_time": "2021-10-24T18:37:38.168Z"
   },
   {
    "duration": 97,
    "start_time": "2021-10-24T18:37:38.176Z"
   },
   {
    "duration": 3,
    "start_time": "2021-10-24T18:37:38.275Z"
   },
   {
    "duration": 562,
    "start_time": "2021-10-24T18:37:43.072Z"
   },
   {
    "duration": 3,
    "start_time": "2021-10-24T18:38:00.543Z"
   },
   {
    "duration": 75,
    "start_time": "2021-10-24T18:38:00.548Z"
   },
   {
    "duration": 21,
    "start_time": "2021-10-24T18:38:00.626Z"
   },
   {
    "duration": 18,
    "start_time": "2021-10-24T18:38:00.649Z"
   },
   {
    "duration": 32,
    "start_time": "2021-10-24T18:38:00.669Z"
   },
   {
    "duration": 4,
    "start_time": "2021-10-24T18:38:00.703Z"
   },
   {
    "duration": 18,
    "start_time": "2021-10-24T18:38:00.709Z"
   },
   {
    "duration": 7,
    "start_time": "2021-10-24T18:38:00.745Z"
   },
   {
    "duration": 27,
    "start_time": "2021-10-24T18:38:00.754Z"
   },
   {
    "duration": 18,
    "start_time": "2021-10-24T18:38:00.782Z"
   },
   {
    "duration": 10,
    "start_time": "2021-10-24T18:38:00.801Z"
   },
   {
    "duration": 12,
    "start_time": "2021-10-24T18:38:00.813Z"
   },
   {
    "duration": 7,
    "start_time": "2021-10-24T18:38:00.827Z"
   },
   {
    "duration": 9,
    "start_time": "2021-10-24T18:38:00.836Z"
   },
   {
    "duration": 14,
    "start_time": "2021-10-24T18:38:00.851Z"
   },
   {
    "duration": 7,
    "start_time": "2021-10-24T18:38:00.866Z"
   },
   {
    "duration": 11,
    "start_time": "2021-10-24T18:38:00.874Z"
   },
   {
    "duration": 4,
    "start_time": "2021-10-24T18:38:00.887Z"
   },
   {
    "duration": 14,
    "start_time": "2021-10-24T18:38:00.894Z"
   },
   {
    "duration": 24,
    "start_time": "2021-10-24T18:38:00.910Z"
   },
   {
    "duration": 28,
    "start_time": "2021-10-24T18:38:00.936Z"
   },
   {
    "duration": 67,
    "start_time": "2021-10-24T18:38:00.966Z"
   },
   {
    "duration": 3,
    "start_time": "2021-10-24T18:38:01.035Z"
   },
   {
    "duration": 3,
    "start_time": "2021-10-24T18:38:05.758Z"
   },
   {
    "duration": 3,
    "start_time": "2021-10-24T18:38:27.291Z"
   },
   {
    "duration": 49,
    "start_time": "2021-10-24T18:38:27.298Z"
   },
   {
    "duration": 16,
    "start_time": "2021-10-24T18:38:27.349Z"
   },
   {
    "duration": 11,
    "start_time": "2021-10-24T18:38:27.367Z"
   },
   {
    "duration": 24,
    "start_time": "2021-10-24T18:38:27.381Z"
   },
   {
    "duration": 5,
    "start_time": "2021-10-24T18:38:27.407Z"
   },
   {
    "duration": 10,
    "start_time": "2021-10-24T18:38:27.452Z"
   },
   {
    "duration": 14,
    "start_time": "2021-10-24T18:38:27.464Z"
   },
   {
    "duration": 8,
    "start_time": "2021-10-24T18:38:27.481Z"
   },
   {
    "duration": 6,
    "start_time": "2021-10-24T18:38:27.491Z"
   },
   {
    "duration": 6,
    "start_time": "2021-10-24T18:38:27.499Z"
   },
   {
    "duration": 6,
    "start_time": "2021-10-24T18:38:27.507Z"
   },
   {
    "duration": 30,
    "start_time": "2021-10-24T18:38:27.515Z"
   },
   {
    "duration": 8,
    "start_time": "2021-10-24T18:38:27.547Z"
   },
   {
    "duration": 10,
    "start_time": "2021-10-24T18:38:27.557Z"
   },
   {
    "duration": 3,
    "start_time": "2021-10-24T18:38:27.569Z"
   },
   {
    "duration": 9,
    "start_time": "2021-10-24T18:38:27.574Z"
   },
   {
    "duration": 4,
    "start_time": "2021-10-24T18:38:27.584Z"
   },
   {
    "duration": 8,
    "start_time": "2021-10-24T18:38:27.590Z"
   },
   {
    "duration": 7,
    "start_time": "2021-10-24T18:38:27.600Z"
   },
   {
    "duration": 9,
    "start_time": "2021-10-24T18:38:27.608Z"
   },
   {
    "duration": 85,
    "start_time": "2021-10-24T18:38:27.618Z"
   },
   {
    "duration": 2,
    "start_time": "2021-10-24T18:38:27.705Z"
   },
   {
    "duration": 551,
    "start_time": "2021-10-24T18:38:27.710Z"
   },
   {
    "duration": 3,
    "start_time": "2021-10-24T18:38:52.124Z"
   },
   {
    "duration": 70,
    "start_time": "2021-10-24T18:38:52.129Z"
   },
   {
    "duration": 17,
    "start_time": "2021-10-24T18:38:52.201Z"
   },
   {
    "duration": 40,
    "start_time": "2021-10-24T18:38:52.220Z"
   },
   {
    "duration": 24,
    "start_time": "2021-10-24T18:38:52.262Z"
   },
   {
    "duration": 4,
    "start_time": "2021-10-24T18:38:52.288Z"
   },
   {
    "duration": 10,
    "start_time": "2021-10-24T18:38:52.295Z"
   },
   {
    "duration": 8,
    "start_time": "2021-10-24T18:38:52.307Z"
   },
   {
    "duration": 28,
    "start_time": "2021-10-24T18:38:52.344Z"
   },
   {
    "duration": 5,
    "start_time": "2021-10-24T18:38:52.374Z"
   },
   {
    "duration": 6,
    "start_time": "2021-10-24T18:38:52.381Z"
   },
   {
    "duration": 13,
    "start_time": "2021-10-24T18:38:52.389Z"
   },
   {
    "duration": 5,
    "start_time": "2021-10-24T18:38:52.404Z"
   },
   {
    "duration": 13,
    "start_time": "2021-10-24T18:38:52.411Z"
   },
   {
    "duration": 6,
    "start_time": "2021-10-24T18:38:52.426Z"
   },
   {
    "duration": 18,
    "start_time": "2021-10-24T18:38:52.434Z"
   },
   {
    "duration": 9,
    "start_time": "2021-10-24T18:38:52.454Z"
   },
   {
    "duration": 3,
    "start_time": "2021-10-24T18:38:52.465Z"
   },
   {
    "duration": 8,
    "start_time": "2021-10-24T18:38:52.471Z"
   },
   {
    "duration": 7,
    "start_time": "2021-10-24T18:38:52.481Z"
   },
   {
    "duration": 4,
    "start_time": "2021-10-24T18:38:52.490Z"
   },
   {
    "duration": 78,
    "start_time": "2021-10-24T18:38:52.496Z"
   },
   {
    "duration": 3,
    "start_time": "2021-10-24T18:38:52.576Z"
   },
   {
    "duration": 6,
    "start_time": "2021-10-24T18:38:52.580Z"
   },
   {
    "duration": 3,
    "start_time": "2021-10-24T18:41:10.462Z"
   },
   {
    "duration": 71,
    "start_time": "2021-10-24T18:41:10.466Z"
   },
   {
    "duration": 14,
    "start_time": "2021-10-24T18:41:10.539Z"
   },
   {
    "duration": 18,
    "start_time": "2021-10-24T18:41:10.555Z"
   },
   {
    "duration": 36,
    "start_time": "2021-10-24T18:41:10.575Z"
   },
   {
    "duration": 6,
    "start_time": "2021-10-24T18:41:10.613Z"
   },
   {
    "duration": 30,
    "start_time": "2021-10-24T18:41:10.621Z"
   },
   {
    "duration": 30,
    "start_time": "2021-10-24T18:41:10.654Z"
   },
   {
    "duration": 34,
    "start_time": "2021-10-24T18:41:10.685Z"
   },
   {
    "duration": 29,
    "start_time": "2021-10-24T18:41:10.721Z"
   },
   {
    "duration": 25,
    "start_time": "2021-10-24T18:41:10.752Z"
   },
   {
    "duration": 20,
    "start_time": "2021-10-24T18:41:10.779Z"
   },
   {
    "duration": 20,
    "start_time": "2021-10-24T18:41:10.801Z"
   },
   {
    "duration": 29,
    "start_time": "2021-10-24T18:41:10.822Z"
   },
   {
    "duration": 22,
    "start_time": "2021-10-24T18:41:10.857Z"
   },
   {
    "duration": 16,
    "start_time": "2021-10-24T18:41:10.880Z"
   },
   {
    "duration": 20,
    "start_time": "2021-10-24T18:41:10.897Z"
   },
   {
    "duration": 15,
    "start_time": "2021-10-24T18:41:10.919Z"
   },
   {
    "duration": 21,
    "start_time": "2021-10-24T18:41:10.937Z"
   },
   {
    "duration": 9,
    "start_time": "2021-10-24T18:41:10.960Z"
   },
   {
    "duration": 11,
    "start_time": "2021-10-24T18:41:10.971Z"
   },
   {
    "duration": 59,
    "start_time": "2021-10-24T18:41:10.984Z"
   },
   {
    "duration": 4,
    "start_time": "2021-10-24T18:41:11.046Z"
   },
   {
    "duration": 18,
    "start_time": "2021-10-24T18:41:11.051Z"
   },
   {
    "duration": 3,
    "start_time": "2021-10-24T18:41:39.564Z"
   },
   {
    "duration": 82,
    "start_time": "2021-10-24T18:41:39.569Z"
   },
   {
    "duration": 13,
    "start_time": "2021-10-24T18:41:39.653Z"
   },
   {
    "duration": 26,
    "start_time": "2021-10-24T18:41:39.668Z"
   },
   {
    "duration": 36,
    "start_time": "2021-10-24T18:41:39.695Z"
   },
   {
    "duration": 23,
    "start_time": "2021-10-24T18:41:39.733Z"
   },
   {
    "duration": 15,
    "start_time": "2021-10-24T18:41:39.759Z"
   },
   {
    "duration": 25,
    "start_time": "2021-10-24T18:41:39.776Z"
   },
   {
    "duration": 39,
    "start_time": "2021-10-24T18:41:39.803Z"
   },
   {
    "duration": 35,
    "start_time": "2021-10-24T18:41:39.844Z"
   },
   {
    "duration": 19,
    "start_time": "2021-10-24T18:41:39.881Z"
   },
   {
    "duration": 17,
    "start_time": "2021-10-24T18:41:39.902Z"
   },
   {
    "duration": 8,
    "start_time": "2021-10-24T18:41:39.921Z"
   },
   {
    "duration": 35,
    "start_time": "2021-10-24T18:41:39.931Z"
   },
   {
    "duration": 28,
    "start_time": "2021-10-24T18:41:39.968Z"
   },
   {
    "duration": 14,
    "start_time": "2021-10-24T18:41:39.998Z"
   },
   {
    "duration": 24,
    "start_time": "2021-10-24T18:41:40.014Z"
   },
   {
    "duration": 22,
    "start_time": "2021-10-24T18:41:40.040Z"
   },
   {
    "duration": 25,
    "start_time": "2021-10-24T18:41:40.065Z"
   },
   {
    "duration": 18,
    "start_time": "2021-10-24T18:41:40.092Z"
   },
   {
    "duration": 31,
    "start_time": "2021-10-24T18:41:40.111Z"
   },
   {
    "duration": 80,
    "start_time": "2021-10-24T18:41:40.145Z"
   },
   {
    "duration": 3,
    "start_time": "2021-10-24T18:41:40.227Z"
   },
   {
    "duration": 31,
    "start_time": "2021-10-24T18:41:40.232Z"
   },
   {
    "duration": 5,
    "start_time": "2021-10-24T18:42:25.436Z"
   },
   {
    "duration": 3,
    "start_time": "2021-10-24T18:42:29.133Z"
   },
   {
    "duration": 55,
    "start_time": "2021-10-24T18:42:29.139Z"
   },
   {
    "duration": 13,
    "start_time": "2021-10-24T18:42:29.196Z"
   },
   {
    "duration": 11,
    "start_time": "2021-10-24T18:42:29.211Z"
   },
   {
    "duration": 37,
    "start_time": "2021-10-24T18:42:29.224Z"
   },
   {
    "duration": 5,
    "start_time": "2021-10-24T18:42:29.263Z"
   },
   {
    "duration": 8,
    "start_time": "2021-10-24T18:42:29.271Z"
   },
   {
    "duration": 8,
    "start_time": "2021-10-24T18:42:29.281Z"
   },
   {
    "duration": 9,
    "start_time": "2021-10-24T18:42:29.290Z"
   },
   {
    "duration": 51,
    "start_time": "2021-10-24T18:42:29.301Z"
   },
   {
    "duration": 5,
    "start_time": "2021-10-24T18:42:29.354Z"
   },
   {
    "duration": 17,
    "start_time": "2021-10-24T18:42:29.362Z"
   },
   {
    "duration": 9,
    "start_time": "2021-10-24T18:42:29.381Z"
   },
   {
    "duration": 7,
    "start_time": "2021-10-24T18:42:29.392Z"
   },
   {
    "duration": 6,
    "start_time": "2021-10-24T18:42:29.401Z"
   },
   {
    "duration": 6,
    "start_time": "2021-10-24T18:42:29.409Z"
   },
   {
    "duration": 9,
    "start_time": "2021-10-24T18:42:29.417Z"
   },
   {
    "duration": 20,
    "start_time": "2021-10-24T18:42:29.428Z"
   },
   {
    "duration": 11,
    "start_time": "2021-10-24T18:42:29.458Z"
   },
   {
    "duration": 3,
    "start_time": "2021-10-24T18:42:29.472Z"
   },
   {
    "duration": 5,
    "start_time": "2021-10-24T18:42:29.477Z"
   },
   {
    "duration": 95,
    "start_time": "2021-10-24T18:42:29.484Z"
   },
   {
    "duration": 2,
    "start_time": "2021-10-24T18:42:29.581Z"
   },
   {
    "duration": 580,
    "start_time": "2021-10-24T18:42:29.585Z"
   },
   {
    "duration": 164,
    "start_time": "2021-10-24T18:42:30.003Z"
   },
   {
    "duration": 3,
    "start_time": "2021-10-24T18:43:19.499Z"
   },
   {
    "duration": 56,
    "start_time": "2021-10-24T18:43:19.504Z"
   },
   {
    "duration": 15,
    "start_time": "2021-10-24T18:43:19.562Z"
   },
   {
    "duration": 19,
    "start_time": "2021-10-24T18:43:19.579Z"
   },
   {
    "duration": 59,
    "start_time": "2021-10-24T18:43:19.600Z"
   },
   {
    "duration": 6,
    "start_time": "2021-10-24T18:43:19.661Z"
   },
   {
    "duration": 8,
    "start_time": "2021-10-24T18:43:19.670Z"
   },
   {
    "duration": 7,
    "start_time": "2021-10-24T18:43:19.681Z"
   },
   {
    "duration": 7,
    "start_time": "2021-10-24T18:43:19.689Z"
   },
   {
    "duration": 5,
    "start_time": "2021-10-24T18:43:19.698Z"
   },
   {
    "duration": 6,
    "start_time": "2021-10-24T18:43:19.704Z"
   },
   {
    "duration": 14,
    "start_time": "2021-10-24T18:43:19.745Z"
   },
   {
    "duration": 5,
    "start_time": "2021-10-24T18:43:19.763Z"
   },
   {
    "duration": 6,
    "start_time": "2021-10-24T18:43:19.770Z"
   },
   {
    "duration": 6,
    "start_time": "2021-10-24T18:43:19.778Z"
   },
   {
    "duration": 8,
    "start_time": "2021-10-24T18:43:19.786Z"
   },
   {
    "duration": 11,
    "start_time": "2021-10-24T18:43:19.796Z"
   },
   {
    "duration": 35,
    "start_time": "2021-10-24T18:43:19.809Z"
   },
   {
    "duration": 12,
    "start_time": "2021-10-24T18:43:19.847Z"
   },
   {
    "duration": 7,
    "start_time": "2021-10-24T18:43:19.862Z"
   },
   {
    "duration": 294,
    "start_time": "2021-10-24T18:43:19.871Z"
   },
   {
    "duration": 100,
    "start_time": "2021-10-24T18:43:20.068Z"
   },
   {
    "duration": 92,
    "start_time": "2021-10-24T18:43:20.076Z"
   },
   {
    "duration": 86,
    "start_time": "2021-10-24T18:43:20.083Z"
   },
   {
    "duration": 80,
    "start_time": "2021-10-24T18:43:20.090Z"
   },
   {
    "duration": 3,
    "start_time": "2021-10-24T18:44:11.172Z"
   },
   {
    "duration": 52,
    "start_time": "2021-10-24T18:44:11.177Z"
   },
   {
    "duration": 11,
    "start_time": "2021-10-24T18:44:11.231Z"
   },
   {
    "duration": 19,
    "start_time": "2021-10-24T18:44:11.244Z"
   },
   {
    "duration": 23,
    "start_time": "2021-10-24T18:44:11.265Z"
   },
   {
    "duration": 5,
    "start_time": "2021-10-24T18:44:11.290Z"
   },
   {
    "duration": 8,
    "start_time": "2021-10-24T18:44:11.297Z"
   },
   {
    "duration": 44,
    "start_time": "2021-10-24T18:44:11.307Z"
   },
   {
    "duration": 6,
    "start_time": "2021-10-24T18:44:11.357Z"
   },
   {
    "duration": 7,
    "start_time": "2021-10-24T18:44:11.364Z"
   },
   {
    "duration": 8,
    "start_time": "2021-10-24T18:44:11.372Z"
   },
   {
    "duration": 7,
    "start_time": "2021-10-24T18:44:11.381Z"
   },
   {
    "duration": 6,
    "start_time": "2021-10-24T18:44:11.390Z"
   },
   {
    "duration": 7,
    "start_time": "2021-10-24T18:44:11.398Z"
   },
   {
    "duration": 5,
    "start_time": "2021-10-24T18:44:11.407Z"
   },
   {
    "duration": 4,
    "start_time": "2021-10-24T18:44:11.413Z"
   },
   {
    "duration": 37,
    "start_time": "2021-10-24T18:44:11.419Z"
   },
   {
    "duration": 3,
    "start_time": "2021-10-24T18:44:11.458Z"
   },
   {
    "duration": 8,
    "start_time": "2021-10-24T18:44:11.464Z"
   },
   {
    "duration": 4,
    "start_time": "2021-10-24T18:44:11.474Z"
   },
   {
    "duration": 5,
    "start_time": "2021-10-24T18:44:11.479Z"
   },
   {
    "duration": 7,
    "start_time": "2021-10-24T18:44:11.485Z"
   },
   {
    "duration": 69,
    "start_time": "2021-10-24T18:44:11.494Z"
   },
   {
    "duration": 2,
    "start_time": "2021-10-24T18:44:11.565Z"
   },
   {
    "duration": 7,
    "start_time": "2021-10-24T18:44:11.569Z"
   },
   {
    "duration": 3,
    "start_time": "2021-10-24T18:44:41.407Z"
   },
   {
    "duration": 83,
    "start_time": "2021-10-24T18:44:41.412Z"
   },
   {
    "duration": 12,
    "start_time": "2021-10-24T18:44:41.497Z"
   },
   {
    "duration": 29,
    "start_time": "2021-10-24T18:44:41.510Z"
   },
   {
    "duration": 46,
    "start_time": "2021-10-24T18:44:41.541Z"
   },
   {
    "duration": 4,
    "start_time": "2021-10-24T18:44:41.589Z"
   },
   {
    "duration": 20,
    "start_time": "2021-10-24T18:44:41.595Z"
   },
   {
    "duration": 20,
    "start_time": "2021-10-24T18:44:41.617Z"
   },
   {
    "duration": 12,
    "start_time": "2021-10-24T18:44:41.639Z"
   },
   {
    "duration": 9,
    "start_time": "2021-10-24T18:44:41.657Z"
   },
   {
    "duration": 20,
    "start_time": "2021-10-24T18:44:41.668Z"
   },
   {
    "duration": 24,
    "start_time": "2021-10-24T18:44:41.689Z"
   },
   {
    "duration": 18,
    "start_time": "2021-10-24T18:44:41.715Z"
   },
   {
    "duration": 24,
    "start_time": "2021-10-24T18:44:41.735Z"
   },
   {
    "duration": 10,
    "start_time": "2021-10-24T18:44:41.761Z"
   },
   {
    "duration": 16,
    "start_time": "2021-10-24T18:44:41.774Z"
   },
   {
    "duration": 20,
    "start_time": "2021-10-24T18:44:41.791Z"
   },
   {
    "duration": 17,
    "start_time": "2021-10-24T18:44:41.813Z"
   },
   {
    "duration": 26,
    "start_time": "2021-10-24T18:44:41.833Z"
   },
   {
    "duration": 12,
    "start_time": "2021-10-24T18:44:41.861Z"
   },
   {
    "duration": 26,
    "start_time": "2021-10-24T18:44:41.875Z"
   },
   {
    "duration": 8,
    "start_time": "2021-10-24T18:44:41.903Z"
   },
   {
    "duration": 89,
    "start_time": "2021-10-24T18:44:41.912Z"
   },
   {
    "duration": 3,
    "start_time": "2021-10-24T18:44:42.003Z"
   },
   {
    "duration": 24,
    "start_time": "2021-10-24T18:44:42.008Z"
   },
   {
    "duration": 3,
    "start_time": "2021-10-24T18:45:57.770Z"
   },
   {
    "duration": 55,
    "start_time": "2021-10-24T18:45:57.775Z"
   },
   {
    "duration": 13,
    "start_time": "2021-10-24T18:45:57.832Z"
   },
   {
    "duration": 20,
    "start_time": "2021-10-24T18:45:57.847Z"
   },
   {
    "duration": 29,
    "start_time": "2021-10-24T18:45:57.869Z"
   },
   {
    "duration": 4,
    "start_time": "2021-10-24T18:45:57.900Z"
   },
   {
    "duration": 42,
    "start_time": "2021-10-24T18:45:57.906Z"
   },
   {
    "duration": 11,
    "start_time": "2021-10-24T18:45:57.950Z"
   },
   {
    "duration": 10,
    "start_time": "2021-10-24T18:45:57.964Z"
   },
   {
    "duration": 10,
    "start_time": "2021-10-24T18:45:57.975Z"
   },
   {
    "duration": 19,
    "start_time": "2021-10-24T18:45:57.987Z"
   },
   {
    "duration": 10,
    "start_time": "2021-10-24T18:45:58.008Z"
   },
   {
    "duration": 10,
    "start_time": "2021-10-24T18:45:58.020Z"
   },
   {
    "duration": 14,
    "start_time": "2021-10-24T18:45:58.032Z"
   },
   {
    "duration": 20,
    "start_time": "2021-10-24T18:45:58.048Z"
   },
   {
    "duration": 7,
    "start_time": "2021-10-24T18:45:58.070Z"
   },
   {
    "duration": 9,
    "start_time": "2021-10-24T18:45:58.078Z"
   },
   {
    "duration": 5,
    "start_time": "2021-10-24T18:45:58.088Z"
   },
   {
    "duration": 11,
    "start_time": "2021-10-24T18:45:58.096Z"
   },
   {
    "duration": 4,
    "start_time": "2021-10-24T18:45:58.108Z"
   },
   {
    "duration": 7,
    "start_time": "2021-10-24T18:45:58.113Z"
   },
   {
    "duration": 6,
    "start_time": "2021-10-24T18:45:58.121Z"
   },
   {
    "duration": 88,
    "start_time": "2021-10-24T18:45:58.128Z"
   },
   {
    "duration": 4,
    "start_time": "2021-10-24T18:45:58.218Z"
   },
   {
    "duration": 8,
    "start_time": "2021-10-24T18:45:58.224Z"
   },
   {
    "duration": 2,
    "start_time": "2021-10-24T18:48:30.411Z"
   },
   {
    "duration": 89,
    "start_time": "2021-10-24T18:48:30.415Z"
   },
   {
    "duration": 12,
    "start_time": "2021-10-24T18:48:30.506Z"
   },
   {
    "duration": 56,
    "start_time": "2021-10-24T18:48:30.521Z"
   },
   {
    "duration": 49,
    "start_time": "2021-10-24T18:48:30.579Z"
   },
   {
    "duration": 8,
    "start_time": "2021-10-24T18:48:30.630Z"
   },
   {
    "duration": 33,
    "start_time": "2021-10-24T18:48:30.640Z"
   },
   {
    "duration": 31,
    "start_time": "2021-10-24T18:48:30.675Z"
   },
   {
    "duration": 31,
    "start_time": "2021-10-24T18:48:30.707Z"
   },
   {
    "duration": 30,
    "start_time": "2021-10-24T18:48:30.740Z"
   },
   {
    "duration": 43,
    "start_time": "2021-10-24T18:48:30.772Z"
   },
   {
    "duration": 36,
    "start_time": "2021-10-24T18:48:30.817Z"
   },
   {
    "duration": 33,
    "start_time": "2021-10-24T18:48:30.855Z"
   },
   {
    "duration": 21,
    "start_time": "2021-10-24T18:48:30.889Z"
   },
   {
    "duration": 36,
    "start_time": "2021-10-24T18:48:30.912Z"
   },
   {
    "duration": 31,
    "start_time": "2021-10-24T18:48:30.951Z"
   },
   {
    "duration": 31,
    "start_time": "2021-10-24T18:48:30.983Z"
   },
   {
    "duration": 37,
    "start_time": "2021-10-24T18:48:31.016Z"
   },
   {
    "duration": 51,
    "start_time": "2021-10-24T18:48:31.056Z"
   },
   {
    "duration": 23,
    "start_time": "2021-10-24T18:48:31.109Z"
   },
   {
    "duration": 20,
    "start_time": "2021-10-24T18:48:31.134Z"
   },
   {
    "duration": 34,
    "start_time": "2021-10-24T18:48:31.156Z"
   },
   {
    "duration": 85,
    "start_time": "2021-10-24T18:48:31.192Z"
   },
   {
    "duration": 4,
    "start_time": "2021-10-24T18:48:31.279Z"
   },
   {
    "duration": 591,
    "start_time": "2021-10-24T18:48:31.286Z"
   },
   {
    "duration": 5,
    "start_time": "2021-10-24T18:50:50.012Z"
   },
   {
    "duration": 3,
    "start_time": "2021-10-24T18:51:40.206Z"
   },
   {
    "duration": 72,
    "start_time": "2021-10-24T18:51:40.211Z"
   },
   {
    "duration": 12,
    "start_time": "2021-10-24T18:51:40.285Z"
   },
   {
    "duration": 24,
    "start_time": "2021-10-24T18:51:40.299Z"
   },
   {
    "duration": 42,
    "start_time": "2021-10-24T18:51:40.324Z"
   },
   {
    "duration": 4,
    "start_time": "2021-10-24T18:51:40.368Z"
   },
   {
    "duration": 22,
    "start_time": "2021-10-24T18:51:40.375Z"
   },
   {
    "duration": 17,
    "start_time": "2021-10-24T18:51:40.399Z"
   },
   {
    "duration": 36,
    "start_time": "2021-10-24T18:51:40.417Z"
   },
   {
    "duration": 7,
    "start_time": "2021-10-24T18:51:40.455Z"
   },
   {
    "duration": 19,
    "start_time": "2021-10-24T18:51:40.463Z"
   },
   {
    "duration": 36,
    "start_time": "2021-10-24T18:51:40.483Z"
   },
   {
    "duration": 14,
    "start_time": "2021-10-24T18:51:40.521Z"
   },
   {
    "duration": 19,
    "start_time": "2021-10-24T18:51:40.537Z"
   },
   {
    "duration": 12,
    "start_time": "2021-10-24T18:51:40.558Z"
   },
   {
    "duration": 15,
    "start_time": "2021-10-24T18:51:40.571Z"
   },
   {
    "duration": 21,
    "start_time": "2021-10-24T18:51:40.587Z"
   },
   {
    "duration": 11,
    "start_time": "2021-10-24T18:51:40.610Z"
   },
   {
    "duration": 25,
    "start_time": "2021-10-24T18:51:40.624Z"
   },
   {
    "duration": 18,
    "start_time": "2021-10-24T18:51:40.651Z"
   },
   {
    "duration": 18,
    "start_time": "2021-10-24T18:51:40.670Z"
   },
   {
    "duration": 15,
    "start_time": "2021-10-24T18:51:40.689Z"
   },
   {
    "duration": 68,
    "start_time": "2021-10-24T18:51:40.706Z"
   },
   {
    "duration": 3,
    "start_time": "2021-10-24T18:51:40.776Z"
   },
   {
    "duration": 3,
    "start_time": "2021-10-24T19:19:11.808Z"
   },
   {
    "duration": 63,
    "start_time": "2021-10-24T19:19:11.814Z"
   },
   {
    "duration": 11,
    "start_time": "2021-10-24T19:19:11.879Z"
   },
   {
    "duration": 19,
    "start_time": "2021-10-24T19:19:11.892Z"
   },
   {
    "duration": 41,
    "start_time": "2021-10-24T19:19:11.913Z"
   },
   {
    "duration": 4,
    "start_time": "2021-10-24T19:19:11.956Z"
   },
   {
    "duration": 27,
    "start_time": "2021-10-24T19:19:11.961Z"
   },
   {
    "duration": 24,
    "start_time": "2021-10-24T19:19:11.990Z"
   },
   {
    "duration": 25,
    "start_time": "2021-10-24T19:19:12.017Z"
   },
   {
    "duration": 21,
    "start_time": "2021-10-24T19:19:12.044Z"
   },
   {
    "duration": 20,
    "start_time": "2021-10-24T19:19:12.066Z"
   },
   {
    "duration": 25,
    "start_time": "2021-10-24T19:19:12.088Z"
   },
   {
    "duration": 17,
    "start_time": "2021-10-24T19:19:12.115Z"
   },
   {
    "duration": 24,
    "start_time": "2021-10-24T19:19:12.134Z"
   },
   {
    "duration": 22,
    "start_time": "2021-10-24T19:19:12.160Z"
   },
   {
    "duration": 18,
    "start_time": "2021-10-24T19:19:12.184Z"
   },
   {
    "duration": 27,
    "start_time": "2021-10-24T19:19:12.204Z"
   },
   {
    "duration": 18,
    "start_time": "2021-10-24T19:19:12.233Z"
   },
   {
    "duration": 29,
    "start_time": "2021-10-24T19:19:12.252Z"
   },
   {
    "duration": 28,
    "start_time": "2021-10-24T19:19:12.283Z"
   },
   {
    "duration": 25,
    "start_time": "2021-10-24T19:19:12.312Z"
   },
   {
    "duration": 77,
    "start_time": "2021-10-24T19:19:12.338Z"
   },
   {
    "duration": 2,
    "start_time": "2021-10-24T19:19:12.417Z"
   },
   {
    "duration": 20,
    "start_time": "2021-10-24T19:19:12.422Z"
   },
   {
    "duration": 4,
    "start_time": "2021-10-24T19:19:43.686Z"
   },
   {
    "duration": 52,
    "start_time": "2021-10-24T19:20:35.087Z"
   },
   {
    "duration": 12,
    "start_time": "2021-10-24T19:20:40.730Z"
   },
   {
    "duration": 3,
    "start_time": "2021-10-24T19:21:14.112Z"
   },
   {
    "duration": 60,
    "start_time": "2021-10-24T19:21:14.117Z"
   },
   {
    "duration": 12,
    "start_time": "2021-10-24T19:21:14.180Z"
   },
   {
    "duration": 23,
    "start_time": "2021-10-24T19:21:14.194Z"
   },
   {
    "duration": 35,
    "start_time": "2021-10-24T19:21:14.218Z"
   },
   {
    "duration": 6,
    "start_time": "2021-10-24T19:21:14.255Z"
   },
   {
    "duration": 17,
    "start_time": "2021-10-24T19:21:14.263Z"
   },
   {
    "duration": 17,
    "start_time": "2021-10-24T19:21:14.283Z"
   },
   {
    "duration": 28,
    "start_time": "2021-10-24T19:21:14.302Z"
   },
   {
    "duration": 14,
    "start_time": "2021-10-24T19:21:14.333Z"
   },
   {
    "duration": 8,
    "start_time": "2021-10-24T19:21:14.348Z"
   },
   {
    "duration": 22,
    "start_time": "2021-10-24T19:21:14.358Z"
   },
   {
    "duration": 23,
    "start_time": "2021-10-24T19:21:14.381Z"
   },
   {
    "duration": 13,
    "start_time": "2021-10-24T19:21:14.406Z"
   },
   {
    "duration": 27,
    "start_time": "2021-10-24T19:21:14.421Z"
   },
   {
    "duration": 13,
    "start_time": "2021-10-24T19:21:14.449Z"
   },
   {
    "duration": 17,
    "start_time": "2021-10-24T19:21:14.463Z"
   },
   {
    "duration": 12,
    "start_time": "2021-10-24T19:21:14.482Z"
   },
   {
    "duration": 26,
    "start_time": "2021-10-24T19:21:14.497Z"
   },
   {
    "duration": 21,
    "start_time": "2021-10-24T19:21:14.525Z"
   },
   {
    "duration": 14,
    "start_time": "2021-10-24T19:21:14.547Z"
   },
   {
    "duration": 66,
    "start_time": "2021-10-24T19:21:14.563Z"
   },
   {
    "duration": 7951,
    "start_time": "2021-10-24T19:21:14.631Z"
   },
   {
    "duration": 70,
    "start_time": "2021-10-24T19:22:17.251Z"
   },
   {
    "duration": 62,
    "start_time": "2021-10-24T19:22:17.260Z"
   },
   {
    "duration": 56,
    "start_time": "2021-10-24T19:22:17.267Z"
   },
   {
    "duration": 50,
    "start_time": "2021-10-24T19:22:17.274Z"
   },
   {
    "duration": 44,
    "start_time": "2021-10-24T19:22:17.281Z"
   },
   {
    "duration": 5,
    "start_time": "2021-10-24T19:22:17.326Z"
   },
   {
    "duration": 28,
    "start_time": "2021-10-24T19:22:17.332Z"
   },
   {
    "duration": 15,
    "start_time": "2021-10-24T19:22:17.362Z"
   },
   {
    "duration": 28,
    "start_time": "2021-10-24T19:22:17.379Z"
   },
   {
    "duration": 15,
    "start_time": "2021-10-24T19:22:17.408Z"
   },
   {
    "duration": 12,
    "start_time": "2021-10-24T19:22:17.425Z"
   },
   {
    "duration": 23,
    "start_time": "2021-10-24T19:22:17.439Z"
   },
   {
    "duration": 13,
    "start_time": "2021-10-24T19:22:17.464Z"
   },
   {
    "duration": 29,
    "start_time": "2021-10-24T19:22:17.479Z"
   },
   {
    "duration": 25,
    "start_time": "2021-10-24T19:22:17.510Z"
   },
   {
    "duration": 19,
    "start_time": "2021-10-24T19:22:17.536Z"
   },
   {
    "duration": 30,
    "start_time": "2021-10-24T19:22:17.557Z"
   },
   {
    "duration": 21,
    "start_time": "2021-10-24T19:22:17.588Z"
   },
   {
    "duration": 18,
    "start_time": "2021-10-24T19:22:17.611Z"
   },
   {
    "duration": 13,
    "start_time": "2021-10-24T19:22:17.631Z"
   },
   {
    "duration": 25,
    "start_time": "2021-10-24T19:22:17.646Z"
   },
   {
    "duration": 67,
    "start_time": "2021-10-24T19:22:17.673Z"
   },
   {
    "duration": 8233,
    "start_time": "2021-10-24T19:22:17.741Z"
   },
   {
    "duration": 3,
    "start_time": "2021-10-24T19:22:36.338Z"
   },
   {
    "duration": 59,
    "start_time": "2021-10-24T19:22:36.342Z"
   },
   {
    "duration": 12,
    "start_time": "2021-10-24T19:22:36.402Z"
   },
   {
    "duration": 24,
    "start_time": "2021-10-24T19:22:36.416Z"
   },
   {
    "duration": 29,
    "start_time": "2021-10-24T19:22:36.441Z"
   },
   {
    "duration": 5,
    "start_time": "2021-10-24T19:22:36.471Z"
   },
   {
    "duration": 17,
    "start_time": "2021-10-24T19:22:36.478Z"
   },
   {
    "duration": 15,
    "start_time": "2021-10-24T19:22:36.498Z"
   },
   {
    "duration": 28,
    "start_time": "2021-10-24T19:22:36.514Z"
   },
   {
    "duration": 6,
    "start_time": "2021-10-24T19:22:36.544Z"
   },
   {
    "duration": 19,
    "start_time": "2021-10-24T19:22:36.551Z"
   },
   {
    "duration": 12,
    "start_time": "2021-10-24T19:22:36.572Z"
   },
   {
    "duration": 13,
    "start_time": "2021-10-24T19:22:36.585Z"
   },
   {
    "duration": 22,
    "start_time": "2021-10-24T19:22:36.600Z"
   },
   {
    "duration": 14,
    "start_time": "2021-10-24T19:22:36.623Z"
   },
   {
    "duration": 15,
    "start_time": "2021-10-24T19:22:36.638Z"
   },
   {
    "duration": 17,
    "start_time": "2021-10-24T19:22:36.655Z"
   },
   {
    "duration": 17,
    "start_time": "2021-10-24T19:22:36.673Z"
   },
   {
    "duration": 27,
    "start_time": "2021-10-24T19:22:36.693Z"
   },
   {
    "duration": 16,
    "start_time": "2021-10-24T19:22:36.722Z"
   },
   {
    "duration": 8,
    "start_time": "2021-10-24T19:22:36.739Z"
   },
   {
    "duration": 47,
    "start_time": "2021-10-24T19:22:36.749Z"
   },
   {
    "duration": 8098,
    "start_time": "2021-10-24T19:22:43.795Z"
   },
   {
    "duration": 743,
    "start_time": "2021-10-25T07:18:22.870Z"
   },
   {
    "duration": 62,
    "start_time": "2021-10-25T07:18:23.615Z"
   },
   {
    "duration": 50,
    "start_time": "2021-10-25T07:18:23.679Z"
   },
   {
    "duration": 14,
    "start_time": "2021-10-25T07:18:23.732Z"
   },
   {
    "duration": 37,
    "start_time": "2021-10-25T07:18:23.749Z"
   },
   {
    "duration": 42,
    "start_time": "2021-10-25T07:18:23.788Z"
   },
   {
    "duration": 13,
    "start_time": "2021-10-25T07:18:23.833Z"
   },
   {
    "duration": 11,
    "start_time": "2021-10-25T07:18:23.851Z"
   },
   {
    "duration": 11,
    "start_time": "2021-10-25T07:18:23.866Z"
   },
   {
    "duration": 56,
    "start_time": "2021-10-25T07:18:23.879Z"
   },
   {
    "duration": 10,
    "start_time": "2021-10-25T07:18:23.937Z"
   },
   {
    "duration": 12,
    "start_time": "2021-10-25T07:18:23.949Z"
   },
   {
    "duration": 7,
    "start_time": "2021-10-25T07:18:23.964Z"
   },
   {
    "duration": 10,
    "start_time": "2021-10-25T07:18:23.973Z"
   },
   {
    "duration": 45,
    "start_time": "2021-10-25T07:18:23.986Z"
   },
   {
    "duration": 6,
    "start_time": "2021-10-25T07:18:24.034Z"
   },
   {
    "duration": 12,
    "start_time": "2021-10-25T07:18:24.043Z"
   },
   {
    "duration": 5,
    "start_time": "2021-10-25T07:18:24.058Z"
   },
   {
    "duration": 11,
    "start_time": "2021-10-25T07:18:24.066Z"
   },
   {
    "duration": 53,
    "start_time": "2021-10-25T07:18:24.079Z"
   },
   {
    "duration": 10,
    "start_time": "2021-10-25T07:18:24.134Z"
   },
   {
    "duration": 59,
    "start_time": "2021-10-25T07:18:24.146Z"
   },
   {
    "duration": 62,
    "start_time": "2021-10-25T07:18:24.209Z"
   },
   {
    "duration": 4,
    "start_time": "2021-10-25T07:19:52.812Z"
   },
   {
    "duration": 6,
    "start_time": "2021-10-25T07:19:55.159Z"
   },
   {
    "duration": 6,
    "start_time": "2021-10-25T07:25:42.426Z"
   },
   {
    "duration": 4,
    "start_time": "2021-10-25T07:25:46.304Z"
   },
   {
    "duration": 63,
    "start_time": "2021-10-25T07:25:46.310Z"
   },
   {
    "duration": 19,
    "start_time": "2021-10-25T07:25:46.376Z"
   },
   {
    "duration": 41,
    "start_time": "2021-10-25T07:25:46.397Z"
   },
   {
    "duration": 37,
    "start_time": "2021-10-25T07:25:46.440Z"
   },
   {
    "duration": 6,
    "start_time": "2021-10-25T07:25:46.480Z"
   },
   {
    "duration": 46,
    "start_time": "2021-10-25T07:25:46.489Z"
   },
   {
    "duration": 10,
    "start_time": "2021-10-25T07:25:46.538Z"
   },
   {
    "duration": 10,
    "start_time": "2021-10-25T07:25:46.550Z"
   },
   {
    "duration": 8,
    "start_time": "2021-10-25T07:25:46.562Z"
   },
   {
    "duration": 15,
    "start_time": "2021-10-25T07:25:46.572Z"
   },
   {
    "duration": 40,
    "start_time": "2021-10-25T07:25:46.589Z"
   },
   {
    "duration": 6,
    "start_time": "2021-10-25T07:25:46.631Z"
   },
   {
    "duration": 8,
    "start_time": "2021-10-25T07:25:46.640Z"
   },
   {
    "duration": 6,
    "start_time": "2021-10-25T07:25:46.650Z"
   },
   {
    "duration": 8,
    "start_time": "2021-10-25T07:25:46.658Z"
   },
   {
    "duration": 15,
    "start_time": "2021-10-25T07:25:46.668Z"
   },
   {
    "duration": 43,
    "start_time": "2021-10-25T07:25:46.686Z"
   },
   {
    "duration": 19,
    "start_time": "2021-10-25T07:25:46.733Z"
   },
   {
    "duration": 23,
    "start_time": "2021-10-25T07:25:46.754Z"
   },
   {
    "duration": 14,
    "start_time": "2021-10-25T07:25:46.779Z"
   },
   {
    "duration": 60,
    "start_time": "2021-10-25T07:25:46.795Z"
   },
   {
    "duration": 495,
    "start_time": "2021-10-25T07:25:46.858Z"
   },
   {
    "duration": 348,
    "start_time": "2021-10-25T07:25:47.008Z"
   },
   {
    "duration": 3,
    "start_time": "2021-10-25T07:27:12.720Z"
   },
   {
    "duration": 74,
    "start_time": "2021-10-25T07:27:12.725Z"
   },
   {
    "duration": 18,
    "start_time": "2021-10-25T07:27:12.802Z"
   },
   {
    "duration": 13,
    "start_time": "2021-10-25T07:27:12.830Z"
   },
   {
    "duration": 44,
    "start_time": "2021-10-25T07:27:12.845Z"
   },
   {
    "duration": 6,
    "start_time": "2021-10-25T07:27:12.892Z"
   },
   {
    "duration": 35,
    "start_time": "2021-10-25T07:27:12.901Z"
   },
   {
    "duration": 10,
    "start_time": "2021-10-25T07:27:12.939Z"
   },
   {
    "duration": 17,
    "start_time": "2021-10-25T07:27:12.952Z"
   },
   {
    "duration": 14,
    "start_time": "2021-10-25T07:27:12.971Z"
   },
   {
    "duration": 11,
    "start_time": "2021-10-25T07:27:12.987Z"
   },
   {
    "duration": 33,
    "start_time": "2021-10-25T07:27:13.001Z"
   },
   {
    "duration": 7,
    "start_time": "2021-10-25T07:27:13.036Z"
   },
   {
    "duration": 16,
    "start_time": "2021-10-25T07:27:13.045Z"
   },
   {
    "duration": 17,
    "start_time": "2021-10-25T07:27:13.063Z"
   },
   {
    "duration": 6,
    "start_time": "2021-10-25T07:27:13.082Z"
   },
   {
    "duration": 14,
    "start_time": "2021-10-25T07:27:13.090Z"
   },
   {
    "duration": 4,
    "start_time": "2021-10-25T07:27:13.130Z"
   },
   {
    "duration": 32,
    "start_time": "2021-10-25T07:27:13.138Z"
   },
   {
    "duration": 9,
    "start_time": "2021-10-25T07:27:13.174Z"
   },
   {
    "duration": 19,
    "start_time": "2021-10-25T07:27:13.185Z"
   },
   {
    "duration": 67,
    "start_time": "2021-10-25T07:27:13.206Z"
   },
   {
    "duration": 14069,
    "start_time": "2021-10-25T07:27:13.276Z"
   },
   {
    "duration": 23,
    "start_time": "2021-10-25T07:27:47.120Z"
   },
   {
    "duration": 10,
    "start_time": "2021-10-25T07:31:34.742Z"
   },
   {
    "duration": 3,
    "start_time": "2021-10-25T07:32:37.237Z"
   },
   {
    "duration": 71,
    "start_time": "2021-10-25T07:32:37.243Z"
   },
   {
    "duration": 19,
    "start_time": "2021-10-25T07:32:37.317Z"
   },
   {
    "duration": 16,
    "start_time": "2021-10-25T07:32:37.339Z"
   },
   {
    "duration": 71,
    "start_time": "2021-10-25T07:32:37.358Z"
   },
   {
    "duration": 7,
    "start_time": "2021-10-25T07:32:37.432Z"
   },
   {
    "duration": 11,
    "start_time": "2021-10-25T07:32:37.442Z"
   },
   {
    "duration": 10,
    "start_time": "2021-10-25T07:32:37.456Z"
   },
   {
    "duration": 10,
    "start_time": "2021-10-25T07:32:37.468Z"
   },
   {
    "duration": 51,
    "start_time": "2021-10-25T07:32:37.480Z"
   },
   {
    "duration": 6,
    "start_time": "2021-10-25T07:32:37.533Z"
   },
   {
    "duration": 9,
    "start_time": "2021-10-25T07:32:37.541Z"
   },
   {
    "duration": 6,
    "start_time": "2021-10-25T07:32:37.553Z"
   },
   {
    "duration": 12,
    "start_time": "2021-10-25T07:32:37.561Z"
   },
   {
    "duration": 8,
    "start_time": "2021-10-25T07:32:37.575Z"
   },
   {
    "duration": 44,
    "start_time": "2021-10-25T07:32:37.585Z"
   },
   {
    "duration": 17,
    "start_time": "2021-10-25T07:32:37.632Z"
   },
   {
    "duration": 5,
    "start_time": "2021-10-25T07:32:37.651Z"
   },
   {
    "duration": 13,
    "start_time": "2021-10-25T07:32:37.659Z"
   },
   {
    "duration": 8,
    "start_time": "2021-10-25T07:32:37.675Z"
   },
   {
    "duration": 9,
    "start_time": "2021-10-25T07:32:37.686Z"
   },
   {
    "duration": 61,
    "start_time": "2021-10-25T07:32:37.730Z"
   },
   {
    "duration": 1652,
    "start_time": "2021-10-25T07:32:37.794Z"
   },
   {
    "duration": 7,
    "start_time": "2021-10-25T07:32:39.449Z"
   },
   {
    "duration": 21,
    "start_time": "2021-10-25T07:32:39.459Z"
   },
   {
    "duration": 23,
    "start_time": "2021-10-25T07:33:16.837Z"
   },
   {
    "duration": 3,
    "start_time": "2021-10-25T07:34:50.574Z"
   },
   {
    "duration": 74,
    "start_time": "2021-10-25T07:34:50.580Z"
   },
   {
    "duration": 20,
    "start_time": "2021-10-25T07:34:50.656Z"
   },
   {
    "duration": 17,
    "start_time": "2021-10-25T07:34:50.678Z"
   },
   {
    "duration": 39,
    "start_time": "2021-10-25T07:34:50.728Z"
   },
   {
    "duration": 9,
    "start_time": "2021-10-25T07:34:50.769Z"
   },
   {
    "duration": 11,
    "start_time": "2021-10-25T07:34:50.781Z"
   },
   {
    "duration": 39,
    "start_time": "2021-10-25T07:34:50.795Z"
   },
   {
    "duration": 9,
    "start_time": "2021-10-25T07:34:50.836Z"
   },
   {
    "duration": 10,
    "start_time": "2021-10-25T07:34:50.847Z"
   },
   {
    "duration": 7,
    "start_time": "2021-10-25T07:34:50.860Z"
   },
   {
    "duration": 8,
    "start_time": "2021-10-25T07:34:50.869Z"
   },
   {
    "duration": 9,
    "start_time": "2021-10-25T07:34:50.879Z"
   },
   {
    "duration": 46,
    "start_time": "2021-10-25T07:34:50.890Z"
   },
   {
    "duration": 11,
    "start_time": "2021-10-25T07:34:50.938Z"
   },
   {
    "duration": 5,
    "start_time": "2021-10-25T07:34:50.951Z"
   },
   {
    "duration": 14,
    "start_time": "2021-10-25T07:34:50.958Z"
   },
   {
    "duration": 4,
    "start_time": "2021-10-25T07:34:50.975Z"
   },
   {
    "duration": 48,
    "start_time": "2021-10-25T07:34:50.983Z"
   },
   {
    "duration": 7,
    "start_time": "2021-10-25T07:34:51.034Z"
   },
   {
    "duration": 5,
    "start_time": "2021-10-25T07:34:51.043Z"
   },
   {
    "duration": 54,
    "start_time": "2021-10-25T07:34:51.050Z"
   },
   {
    "duration": 455,
    "start_time": "2021-10-25T07:34:51.107Z"
   },
   {
    "duration": 407,
    "start_time": "2021-10-25T07:34:51.157Z"
   },
   {
    "duration": 400,
    "start_time": "2021-10-25T07:34:51.165Z"
   },
   {
    "duration": 4,
    "start_time": "2021-10-25T07:35:11.146Z"
   },
   {
    "duration": 60,
    "start_time": "2021-10-25T07:35:11.155Z"
   },
   {
    "duration": 19,
    "start_time": "2021-10-25T07:35:11.217Z"
   },
   {
    "duration": 19,
    "start_time": "2021-10-25T07:35:11.238Z"
   },
   {
    "duration": 37,
    "start_time": "2021-10-25T07:35:11.260Z"
   },
   {
    "duration": 35,
    "start_time": "2021-10-25T07:35:11.299Z"
   },
   {
    "duration": 12,
    "start_time": "2021-10-25T07:35:11.336Z"
   },
   {
    "duration": 9,
    "start_time": "2021-10-25T07:35:11.350Z"
   },
   {
    "duration": 9,
    "start_time": "2021-10-25T07:35:11.364Z"
   },
   {
    "duration": 5,
    "start_time": "2021-10-25T07:35:11.376Z"
   },
   {
    "duration": 6,
    "start_time": "2021-10-25T07:35:11.429Z"
   },
   {
    "duration": 15,
    "start_time": "2021-10-25T07:35:11.438Z"
   },
   {
    "duration": 8,
    "start_time": "2021-10-25T07:35:11.455Z"
   },
   {
    "duration": 8,
    "start_time": "2021-10-25T07:35:11.465Z"
   },
   {
    "duration": 6,
    "start_time": "2021-10-25T07:35:11.475Z"
   },
   {
    "duration": 5,
    "start_time": "2021-10-25T07:35:11.483Z"
   },
   {
    "duration": 9,
    "start_time": "2021-10-25T07:35:11.530Z"
   },
   {
    "duration": 4,
    "start_time": "2021-10-25T07:35:11.542Z"
   },
   {
    "duration": 13,
    "start_time": "2021-10-25T07:35:11.548Z"
   },
   {
    "duration": 9,
    "start_time": "2021-10-25T07:35:11.564Z"
   },
   {
    "duration": 6,
    "start_time": "2021-10-25T07:35:11.575Z"
   },
   {
    "duration": 92,
    "start_time": "2021-10-25T07:35:11.583Z"
   },
   {
    "duration": 452,
    "start_time": "2021-10-25T07:35:11.677Z"
   },
   {
    "duration": 388,
    "start_time": "2021-10-25T07:35:11.748Z"
   },
   {
    "duration": 380,
    "start_time": "2021-10-25T07:35:11.758Z"
   },
   {
    "duration": 3,
    "start_time": "2021-10-25T07:38:34.039Z"
   },
   {
    "duration": 67,
    "start_time": "2021-10-25T07:38:34.044Z"
   },
   {
    "duration": 23,
    "start_time": "2021-10-25T07:38:34.114Z"
   },
   {
    "duration": 20,
    "start_time": "2021-10-25T07:38:34.140Z"
   },
   {
    "duration": 67,
    "start_time": "2021-10-25T07:38:34.163Z"
   },
   {
    "duration": 6,
    "start_time": "2021-10-25T07:38:34.233Z"
   },
   {
    "duration": 12,
    "start_time": "2021-10-25T07:38:34.242Z"
   },
   {
    "duration": 12,
    "start_time": "2021-10-25T07:38:34.258Z"
   },
   {
    "duration": 13,
    "start_time": "2021-10-25T07:38:34.273Z"
   },
   {
    "duration": 7,
    "start_time": "2021-10-25T07:38:34.330Z"
   },
   {
    "duration": 14,
    "start_time": "2021-10-25T07:38:34.339Z"
   },
   {
    "duration": 8,
    "start_time": "2021-10-25T07:38:34.355Z"
   },
   {
    "duration": 5,
    "start_time": "2021-10-25T07:38:34.366Z"
   },
   {
    "duration": 7,
    "start_time": "2021-10-25T07:38:34.374Z"
   },
   {
    "duration": 47,
    "start_time": "2021-10-25T07:38:34.384Z"
   },
   {
    "duration": 5,
    "start_time": "2021-10-25T07:38:34.433Z"
   },
   {
    "duration": 12,
    "start_time": "2021-10-25T07:38:34.441Z"
   },
   {
    "duration": 4,
    "start_time": "2021-10-25T07:38:34.455Z"
   },
   {
    "duration": 10,
    "start_time": "2021-10-25T07:38:34.463Z"
   },
   {
    "duration": 8,
    "start_time": "2021-10-25T07:38:34.475Z"
   },
   {
    "duration": 48,
    "start_time": "2021-10-25T07:38:34.485Z"
   },
   {
    "duration": 55,
    "start_time": "2021-10-25T07:38:34.535Z"
   },
   {
    "duration": 427,
    "start_time": "2021-10-25T07:38:34.592Z"
   },
   {
    "duration": 396,
    "start_time": "2021-10-25T07:38:34.626Z"
   },
   {
    "duration": 392,
    "start_time": "2021-10-25T07:38:34.632Z"
   },
   {
    "duration": 3,
    "start_time": "2021-10-25T07:41:15.282Z"
   },
   {
    "duration": 73,
    "start_time": "2021-10-25T07:41:15.287Z"
   },
   {
    "duration": 19,
    "start_time": "2021-10-25T07:41:15.363Z"
   },
   {
    "duration": 45,
    "start_time": "2021-10-25T07:41:15.385Z"
   },
   {
    "duration": 39,
    "start_time": "2021-10-25T07:41:15.433Z"
   },
   {
    "duration": 9,
    "start_time": "2021-10-25T07:41:15.474Z"
   },
   {
    "duration": 17,
    "start_time": "2021-10-25T07:41:15.486Z"
   },
   {
    "duration": 27,
    "start_time": "2021-10-25T07:41:15.531Z"
   },
   {
    "duration": 18,
    "start_time": "2021-10-25T07:41:15.560Z"
   },
   {
    "duration": 15,
    "start_time": "2021-10-25T07:41:15.580Z"
   },
   {
    "duration": 24,
    "start_time": "2021-10-25T07:41:15.597Z"
   },
   {
    "duration": 14,
    "start_time": "2021-10-25T07:41:15.623Z"
   },
   {
    "duration": 11,
    "start_time": "2021-10-25T07:41:15.639Z"
   },
   {
    "duration": 27,
    "start_time": "2021-10-25T07:41:15.652Z"
   },
   {
    "duration": 9,
    "start_time": "2021-10-25T07:41:15.681Z"
   },
   {
    "duration": 22,
    "start_time": "2021-10-25T07:41:15.693Z"
   },
   {
    "duration": 28,
    "start_time": "2021-10-25T07:41:15.717Z"
   },
   {
    "duration": 5,
    "start_time": "2021-10-25T07:41:15.747Z"
   },
   {
    "duration": 15,
    "start_time": "2021-10-25T07:41:15.756Z"
   },
   {
    "duration": 20,
    "start_time": "2021-10-25T07:41:15.774Z"
   },
   {
    "duration": 9,
    "start_time": "2021-10-25T07:41:15.796Z"
   },
   {
    "duration": 70,
    "start_time": "2021-10-25T07:41:15.807Z"
   },
   {
    "duration": 1644,
    "start_time": "2021-10-25T07:41:15.879Z"
   },
   {
    "duration": 7,
    "start_time": "2021-10-25T07:41:17.525Z"
   },
   {
    "duration": 19,
    "start_time": "2021-10-25T07:41:17.534Z"
   },
   {
    "duration": 4,
    "start_time": "2021-10-25T07:41:51.195Z"
   },
   {
    "duration": 90,
    "start_time": "2021-10-25T07:41:51.202Z"
   },
   {
    "duration": 20,
    "start_time": "2021-10-25T07:41:51.294Z"
   },
   {
    "duration": 14,
    "start_time": "2021-10-25T07:41:51.330Z"
   },
   {
    "duration": 44,
    "start_time": "2021-10-25T07:41:51.346Z"
   },
   {
    "duration": 6,
    "start_time": "2021-10-25T07:41:51.393Z"
   },
   {
    "duration": 35,
    "start_time": "2021-10-25T07:41:51.402Z"
   },
   {
    "duration": 20,
    "start_time": "2021-10-25T07:41:51.440Z"
   },
   {
    "duration": 28,
    "start_time": "2021-10-25T07:41:51.463Z"
   },
   {
    "duration": 23,
    "start_time": "2021-10-25T07:41:51.494Z"
   },
   {
    "duration": 27,
    "start_time": "2021-10-25T07:41:51.519Z"
   },
   {
    "duration": 16,
    "start_time": "2021-10-25T07:41:51.549Z"
   },
   {
    "duration": 19,
    "start_time": "2021-10-25T07:41:51.568Z"
   },
   {
    "duration": 26,
    "start_time": "2021-10-25T07:41:51.589Z"
   },
   {
    "duration": 22,
    "start_time": "2021-10-25T07:41:51.617Z"
   },
   {
    "duration": 27,
    "start_time": "2021-10-25T07:41:51.641Z"
   },
   {
    "duration": 26,
    "start_time": "2021-10-25T07:41:51.671Z"
   },
   {
    "duration": 26,
    "start_time": "2021-10-25T07:41:51.699Z"
   },
   {
    "duration": 31,
    "start_time": "2021-10-25T07:41:51.729Z"
   },
   {
    "duration": 29,
    "start_time": "2021-10-25T07:41:51.762Z"
   },
   {
    "duration": 27,
    "start_time": "2021-10-25T07:41:51.793Z"
   },
   {
    "duration": 84,
    "start_time": "2021-10-25T07:41:51.822Z"
   },
   {
    "duration": 398,
    "start_time": "2021-10-25T07:41:51.909Z"
   },
   {
    "duration": 10,
    "start_time": "2021-10-25T07:41:52.309Z"
   },
   {
    "duration": 27,
    "start_time": "2021-10-25T07:41:52.321Z"
   },
   {
    "duration": 3,
    "start_time": "2021-10-25T07:42:32.900Z"
   },
   {
    "duration": 71,
    "start_time": "2021-10-25T07:42:32.905Z"
   },
   {
    "duration": 19,
    "start_time": "2021-10-25T07:42:32.978Z"
   },
   {
    "duration": 38,
    "start_time": "2021-10-25T07:42:33.000Z"
   },
   {
    "duration": 40,
    "start_time": "2021-10-25T07:42:33.040Z"
   },
   {
    "duration": 6,
    "start_time": "2021-10-25T07:42:33.083Z"
   },
   {
    "duration": 10,
    "start_time": "2021-10-25T07:42:33.129Z"
   },
   {
    "duration": 11,
    "start_time": "2021-10-25T07:42:33.142Z"
   },
   {
    "duration": 11,
    "start_time": "2021-10-25T07:42:33.155Z"
   },
   {
    "duration": 11,
    "start_time": "2021-10-25T07:42:33.169Z"
   },
   {
    "duration": 7,
    "start_time": "2021-10-25T07:42:33.182Z"
   },
   {
    "duration": 10,
    "start_time": "2021-10-25T07:42:33.230Z"
   },
   {
    "duration": 10,
    "start_time": "2021-10-25T07:42:33.243Z"
   },
   {
    "duration": 14,
    "start_time": "2021-10-25T07:42:33.256Z"
   },
   {
    "duration": 7,
    "start_time": "2021-10-25T07:42:33.272Z"
   },
   {
    "duration": 47,
    "start_time": "2021-10-25T07:42:33.282Z"
   },
   {
    "duration": 9,
    "start_time": "2021-10-25T07:42:33.332Z"
   },
   {
    "duration": 5,
    "start_time": "2021-10-25T07:42:33.344Z"
   },
   {
    "duration": 12,
    "start_time": "2021-10-25T07:42:33.352Z"
   },
   {
    "duration": 10,
    "start_time": "2021-10-25T07:42:33.366Z"
   },
   {
    "duration": 5,
    "start_time": "2021-10-25T07:42:33.378Z"
   },
   {
    "duration": 93,
    "start_time": "2021-10-25T07:42:33.385Z"
   },
   {
    "duration": 425,
    "start_time": "2021-10-25T07:42:33.480Z"
   },
   {
    "duration": 376,
    "start_time": "2021-10-25T07:42:33.531Z"
   },
   {
    "duration": 372,
    "start_time": "2021-10-25T07:42:33.537Z"
   },
   {
    "duration": 4,
    "start_time": "2021-10-25T07:42:47.048Z"
   },
   {
    "duration": 104,
    "start_time": "2021-10-25T07:42:47.054Z"
   },
   {
    "duration": 20,
    "start_time": "2021-10-25T07:42:47.161Z"
   },
   {
    "duration": 42,
    "start_time": "2021-10-25T07:42:47.184Z"
   },
   {
    "duration": 49,
    "start_time": "2021-10-25T07:42:47.228Z"
   },
   {
    "duration": 7,
    "start_time": "2021-10-25T07:42:47.279Z"
   },
   {
    "duration": 18,
    "start_time": "2021-10-25T07:42:47.289Z"
   },
   {
    "duration": 30,
    "start_time": "2021-10-25T07:42:47.310Z"
   },
   {
    "duration": 20,
    "start_time": "2021-10-25T07:42:47.342Z"
   },
   {
    "duration": 27,
    "start_time": "2021-10-25T07:42:47.365Z"
   },
   {
    "duration": 25,
    "start_time": "2021-10-25T07:42:47.395Z"
   },
   {
    "duration": 18,
    "start_time": "2021-10-25T07:42:47.423Z"
   },
   {
    "duration": 35,
    "start_time": "2021-10-25T07:42:47.444Z"
   },
   {
    "duration": 28,
    "start_time": "2021-10-25T07:42:47.482Z"
   },
   {
    "duration": 24,
    "start_time": "2021-10-25T07:42:47.513Z"
   },
   {
    "duration": 40,
    "start_time": "2021-10-25T07:42:47.540Z"
   },
   {
    "duration": 35,
    "start_time": "2021-10-25T07:42:47.582Z"
   },
   {
    "duration": 14,
    "start_time": "2021-10-25T07:42:47.620Z"
   },
   {
    "duration": 21,
    "start_time": "2021-10-25T07:42:47.639Z"
   },
   {
    "duration": 21,
    "start_time": "2021-10-25T07:42:47.663Z"
   },
   {
    "duration": 20,
    "start_time": "2021-10-25T07:42:47.687Z"
   },
   {
    "duration": 90,
    "start_time": "2021-10-25T07:42:47.710Z"
   },
   {
    "duration": 392,
    "start_time": "2021-10-25T07:42:47.802Z"
   },
   {
    "duration": 12,
    "start_time": "2021-10-25T07:42:48.196Z"
   },
   {
    "duration": 28,
    "start_time": "2021-10-25T07:42:48.211Z"
   },
   {
    "duration": 4,
    "start_time": "2021-10-25T07:45:38.990Z"
   },
   {
    "duration": 68,
    "start_time": "2021-10-25T07:45:38.997Z"
   },
   {
    "duration": 19,
    "start_time": "2021-10-25T07:45:39.068Z"
   },
   {
    "duration": 48,
    "start_time": "2021-10-25T07:45:39.090Z"
   },
   {
    "duration": 37,
    "start_time": "2021-10-25T07:45:39.140Z"
   },
   {
    "duration": 6,
    "start_time": "2021-10-25T07:45:39.179Z"
   },
   {
    "duration": 42,
    "start_time": "2021-10-25T07:45:39.189Z"
   },
   {
    "duration": 12,
    "start_time": "2021-10-25T07:45:39.235Z"
   },
   {
    "duration": 21,
    "start_time": "2021-10-25T07:45:39.250Z"
   },
   {
    "duration": 6,
    "start_time": "2021-10-25T07:45:39.274Z"
   },
   {
    "duration": 12,
    "start_time": "2021-10-25T07:45:39.283Z"
   },
   {
    "duration": 9,
    "start_time": "2021-10-25T07:45:39.330Z"
   },
   {
    "duration": 9,
    "start_time": "2021-10-25T07:45:39.342Z"
   },
   {
    "duration": 13,
    "start_time": "2021-10-25T07:45:39.354Z"
   },
   {
    "duration": 9,
    "start_time": "2021-10-25T07:45:39.370Z"
   },
   {
    "duration": 8,
    "start_time": "2021-10-25T07:45:39.382Z"
   },
   {
    "duration": 11,
    "start_time": "2021-10-25T07:45:39.429Z"
   },
   {
    "duration": 5,
    "start_time": "2021-10-25T07:45:39.443Z"
   },
   {
    "duration": 12,
    "start_time": "2021-10-25T07:45:39.454Z"
   },
   {
    "duration": 11,
    "start_time": "2021-10-25T07:45:39.469Z"
   },
   {
    "duration": 49,
    "start_time": "2021-10-25T07:45:39.482Z"
   },
   {
    "duration": 61,
    "start_time": "2021-10-25T07:45:39.534Z"
   },
   {
    "duration": 414,
    "start_time": "2021-10-25T07:45:39.598Z"
   },
   {
    "duration": 392,
    "start_time": "2021-10-25T07:45:39.622Z"
   },
   {
    "duration": 385,
    "start_time": "2021-10-25T07:45:39.631Z"
   },
   {
    "duration": 841,
    "start_time": "2021-10-26T08:58:20.265Z"
   },
   {
    "duration": 67,
    "start_time": "2021-10-26T08:58:21.109Z"
   },
   {
    "duration": 32,
    "start_time": "2021-10-26T08:58:21.179Z"
   },
   {
    "duration": 14,
    "start_time": "2021-10-26T08:58:21.214Z"
   },
   {
    "duration": 44,
    "start_time": "2021-10-26T08:58:21.230Z"
   },
   {
    "duration": 31,
    "start_time": "2021-10-26T08:58:21.277Z"
   },
   {
    "duration": 14,
    "start_time": "2021-10-26T08:58:21.311Z"
   },
   {
    "duration": 12,
    "start_time": "2021-10-26T08:58:21.331Z"
   },
   {
    "duration": 60,
    "start_time": "2021-10-26T08:58:21.347Z"
   },
   {
    "duration": 7,
    "start_time": "2021-10-26T08:58:21.410Z"
   },
   {
    "duration": 11,
    "start_time": "2021-10-26T08:58:21.419Z"
   },
   {
    "duration": 14,
    "start_time": "2021-10-26T08:58:21.433Z"
   },
   {
    "duration": 10,
    "start_time": "2021-10-26T08:58:21.449Z"
   },
   {
    "duration": 38,
    "start_time": "2021-10-26T08:58:21.462Z"
   },
   {
    "duration": 9,
    "start_time": "2021-10-26T08:58:21.504Z"
   },
   {
    "duration": 6,
    "start_time": "2021-10-26T08:58:21.516Z"
   },
   {
    "duration": 13,
    "start_time": "2021-10-26T08:58:21.525Z"
   },
   {
    "duration": 7,
    "start_time": "2021-10-26T08:58:21.540Z"
   },
   {
    "duration": 60,
    "start_time": "2021-10-26T08:58:21.550Z"
   },
   {
    "duration": 15,
    "start_time": "2021-10-26T08:58:21.613Z"
   },
   {
    "duration": 15,
    "start_time": "2021-10-26T08:58:21.630Z"
   },
   {
    "duration": 74,
    "start_time": "2021-10-26T08:58:21.647Z"
   },
   {
    "duration": 21,
    "start_time": "2021-10-26T08:58:25.666Z"
   },
   {
    "duration": 156,
    "start_time": "2021-10-26T08:59:08.625Z"
   },
   {
    "duration": 154,
    "start_time": "2021-10-26T08:59:35.393Z"
   },
   {
    "duration": 8,
    "start_time": "2021-10-26T08:59:39.801Z"
   },
   {
    "duration": 18,
    "start_time": "2021-10-26T08:59:42.933Z"
   },
   {
    "duration": 4,
    "start_time": "2021-10-26T09:00:11.902Z"
   },
   {
    "duration": 133,
    "start_time": "2021-10-26T09:00:14.193Z"
   },
   {
    "duration": 3,
    "start_time": "2021-10-26T09:00:21.468Z"
   },
   {
    "duration": 71,
    "start_time": "2021-10-26T09:00:21.474Z"
   },
   {
    "duration": 21,
    "start_time": "2021-10-26T09:00:21.548Z"
   },
   {
    "duration": 36,
    "start_time": "2021-10-26T09:00:21.572Z"
   },
   {
    "duration": 38,
    "start_time": "2021-10-26T09:00:21.611Z"
   },
   {
    "duration": 6,
    "start_time": "2021-10-26T09:00:21.652Z"
   },
   {
    "duration": 46,
    "start_time": "2021-10-26T09:00:21.661Z"
   },
   {
    "duration": 9,
    "start_time": "2021-10-26T09:00:21.710Z"
   },
   {
    "duration": 16,
    "start_time": "2021-10-26T09:00:21.721Z"
   },
   {
    "duration": 7,
    "start_time": "2021-10-26T09:00:21.739Z"
   },
   {
    "duration": 11,
    "start_time": "2021-10-26T09:00:21.749Z"
   },
   {
    "duration": 38,
    "start_time": "2021-10-26T09:00:21.762Z"
   },
   {
    "duration": 6,
    "start_time": "2021-10-26T09:00:21.803Z"
   },
   {
    "duration": 15,
    "start_time": "2021-10-26T09:00:21.812Z"
   },
   {
    "duration": 9,
    "start_time": "2021-10-26T09:00:21.829Z"
   },
   {
    "duration": 9,
    "start_time": "2021-10-26T09:00:21.840Z"
   },
   {
    "duration": 16,
    "start_time": "2021-10-26T09:00:21.852Z"
   },
   {
    "duration": 31,
    "start_time": "2021-10-26T09:00:21.870Z"
   },
   {
    "duration": 18,
    "start_time": "2021-10-26T09:00:21.905Z"
   },
   {
    "duration": 12,
    "start_time": "2021-10-26T09:00:21.925Z"
   },
   {
    "duration": 10,
    "start_time": "2021-10-26T09:00:21.939Z"
   },
   {
    "duration": 76,
    "start_time": "2021-10-26T09:00:21.952Z"
   },
   {
    "duration": 158,
    "start_time": "2021-10-26T09:00:22.031Z"
   },
   {
    "duration": 10,
    "start_time": "2021-10-26T09:00:22.191Z"
   },
   {
    "duration": 135,
    "start_time": "2021-10-26T09:00:24.970Z"
   },
   {
    "duration": 122,
    "start_time": "2021-10-26T09:00:31.079Z"
   },
   {
    "duration": 132,
    "start_time": "2021-10-26T09:00:33.801Z"
   },
   {
    "duration": 13,
    "start_time": "2021-10-26T09:00:40.422Z"
   },
   {
    "duration": 7,
    "start_time": "2021-10-26T09:01:01.864Z"
   },
   {
    "duration": 3,
    "start_time": "2021-10-26T09:01:55.353Z"
   },
   {
    "duration": 70,
    "start_time": "2021-10-26T09:01:55.359Z"
   },
   {
    "duration": 19,
    "start_time": "2021-10-26T09:01:55.432Z"
   },
   {
    "duration": 15,
    "start_time": "2021-10-26T09:01:55.454Z"
   },
   {
    "duration": 41,
    "start_time": "2021-10-26T09:01:55.499Z"
   },
   {
    "duration": 6,
    "start_time": "2021-10-26T09:01:55.542Z"
   },
   {
    "duration": 13,
    "start_time": "2021-10-26T09:01:55.551Z"
   },
   {
    "duration": 40,
    "start_time": "2021-10-26T09:01:55.567Z"
   },
   {
    "duration": 12,
    "start_time": "2021-10-26T09:01:55.610Z"
   },
   {
    "duration": 6,
    "start_time": "2021-10-26T09:01:55.625Z"
   },
   {
    "duration": 11,
    "start_time": "2021-10-26T09:01:55.634Z"
   },
   {
    "duration": 8,
    "start_time": "2021-10-26T09:01:55.647Z"
   },
   {
    "duration": 43,
    "start_time": "2021-10-26T09:01:55.657Z"
   },
   {
    "duration": 8,
    "start_time": "2021-10-26T09:01:55.703Z"
   },
   {
    "duration": 10,
    "start_time": "2021-10-26T09:01:55.714Z"
   },
   {
    "duration": 4,
    "start_time": "2021-10-26T09:01:55.726Z"
   },
   {
    "duration": 14,
    "start_time": "2021-10-26T09:01:55.733Z"
   },
   {
    "duration": 4,
    "start_time": "2021-10-26T09:01:55.749Z"
   },
   {
    "duration": 46,
    "start_time": "2021-10-26T09:01:55.757Z"
   },
   {
    "duration": 7,
    "start_time": "2021-10-26T09:01:55.806Z"
   },
   {
    "duration": 4,
    "start_time": "2021-10-26T09:01:55.815Z"
   },
   {
    "duration": 80,
    "start_time": "2021-10-26T09:01:55.821Z"
   },
   {
    "duration": 37,
    "start_time": "2021-10-26T09:01:55.904Z"
   },
   {
    "duration": 176,
    "start_time": "2021-10-26T09:01:55.944Z"
   },
   {
    "duration": 6,
    "start_time": "2021-10-26T09:01:56.123Z"
   },
   {
    "duration": 5,
    "start_time": "2021-10-26T09:02:01.232Z"
   },
   {
    "duration": 8,
    "start_time": "2021-10-26T09:02:38.795Z"
   },
   {
    "duration": 3,
    "start_time": "2021-10-26T09:03:05.493Z"
   },
   {
    "duration": 74,
    "start_time": "2021-10-26T09:03:05.499Z"
   },
   {
    "duration": 25,
    "start_time": "2021-10-26T09:03:05.576Z"
   },
   {
    "duration": 17,
    "start_time": "2021-10-26T09:03:05.604Z"
   },
   {
    "duration": 39,
    "start_time": "2021-10-26T09:03:05.623Z"
   },
   {
    "duration": 39,
    "start_time": "2021-10-26T09:03:05.664Z"
   },
   {
    "duration": 10,
    "start_time": "2021-10-26T09:03:05.707Z"
   },
   {
    "duration": 10,
    "start_time": "2021-10-26T09:03:05.720Z"
   },
   {
    "duration": 10,
    "start_time": "2021-10-26T09:03:05.732Z"
   },
   {
    "duration": 8,
    "start_time": "2021-10-26T09:03:05.744Z"
   },
   {
    "duration": 54,
    "start_time": "2021-10-26T09:03:05.754Z"
   },
   {
    "duration": 18,
    "start_time": "2021-10-26T09:03:05.810Z"
   },
   {
    "duration": 8,
    "start_time": "2021-10-26T09:03:05.830Z"
   },
   {
    "duration": 8,
    "start_time": "2021-10-26T09:03:05.840Z"
   },
   {
    "duration": 7,
    "start_time": "2021-10-26T09:03:05.850Z"
   },
   {
    "duration": 5,
    "start_time": "2021-10-26T09:03:05.859Z"
   },
   {
    "duration": 42,
    "start_time": "2021-10-26T09:03:05.866Z"
   },
   {
    "duration": 4,
    "start_time": "2021-10-26T09:03:05.910Z"
   },
   {
    "duration": 13,
    "start_time": "2021-10-26T09:03:05.918Z"
   },
   {
    "duration": 9,
    "start_time": "2021-10-26T09:03:05.934Z"
   },
   {
    "duration": 8,
    "start_time": "2021-10-26T09:03:05.945Z"
   },
   {
    "duration": 91,
    "start_time": "2021-10-26T09:03:05.955Z"
   },
   {
    "duration": 34,
    "start_time": "2021-10-26T09:03:06.049Z"
   },
   {
    "duration": 159,
    "start_time": "2021-10-26T09:03:06.101Z"
   },
   {
    "duration": 63,
    "start_time": "2021-10-26T09:03:49.156Z"
   },
   {
    "duration": 34,
    "start_time": "2021-10-26T09:03:52.659Z"
   },
   {
    "duration": 4,
    "start_time": "2021-10-26T09:04:03.347Z"
   },
   {
    "duration": 66,
    "start_time": "2021-10-26T09:04:03.357Z"
   },
   {
    "duration": 21,
    "start_time": "2021-10-26T09:04:03.427Z"
   },
   {
    "duration": 53,
    "start_time": "2021-10-26T09:04:03.452Z"
   },
   {
    "duration": 40,
    "start_time": "2021-10-26T09:04:03.508Z"
   },
   {
    "duration": 7,
    "start_time": "2021-10-26T09:04:03.550Z"
   },
   {
    "duration": 45,
    "start_time": "2021-10-26T09:04:03.560Z"
   },
   {
    "duration": 10,
    "start_time": "2021-10-26T09:04:03.607Z"
   },
   {
    "duration": 13,
    "start_time": "2021-10-26T09:04:03.621Z"
   },
   {
    "duration": 6,
    "start_time": "2021-10-26T09:04:03.637Z"
   },
   {
    "duration": 11,
    "start_time": "2021-10-26T09:04:03.646Z"
   },
   {
    "duration": 43,
    "start_time": "2021-10-26T09:04:03.659Z"
   },
   {
    "duration": 6,
    "start_time": "2021-10-26T09:04:03.705Z"
   },
   {
    "duration": 24,
    "start_time": "2021-10-26T09:04:03.713Z"
   },
   {
    "duration": 11,
    "start_time": "2021-10-26T09:04:03.740Z"
   },
   {
    "duration": 8,
    "start_time": "2021-10-26T09:04:03.754Z"
   },
   {
    "duration": 12,
    "start_time": "2021-10-26T09:04:03.765Z"
   },
   {
    "duration": 23,
    "start_time": "2021-10-26T09:04:03.780Z"
   },
   {
    "duration": 17,
    "start_time": "2021-10-26T09:04:03.805Z"
   },
   {
    "duration": 22,
    "start_time": "2021-10-26T09:04:03.825Z"
   },
   {
    "duration": 22,
    "start_time": "2021-10-26T09:04:03.849Z"
   },
   {
    "duration": 70,
    "start_time": "2021-10-26T09:04:03.874Z"
   },
   {
    "duration": 68,
    "start_time": "2021-10-26T09:04:03.947Z"
   },
   {
    "duration": 167,
    "start_time": "2021-10-26T09:04:04.021Z"
   },
   {
    "duration": 28,
    "start_time": "2021-10-26T09:08:18.623Z"
   },
   {
    "duration": 53,
    "start_time": "2021-10-26T09:08:26.204Z"
   },
   {
    "duration": 13,
    "start_time": "2021-10-26T09:08:39.159Z"
   },
   {
    "duration": 13,
    "start_time": "2021-10-26T09:08:46.385Z"
   },
   {
    "duration": 70,
    "start_time": "2021-10-26T09:09:00.456Z"
   },
   {
    "duration": 13,
    "start_time": "2021-10-26T09:09:20.834Z"
   },
   {
    "duration": 62,
    "start_time": "2021-10-26T09:09:23.174Z"
   },
   {
    "duration": 37,
    "start_time": "2021-10-26T09:09:24.842Z"
   },
   {
    "duration": 8,
    "start_time": "2021-10-26T09:09:56.467Z"
   },
   {
    "duration": 4,
    "start_time": "2021-10-26T09:10:03.503Z"
   },
   {
    "duration": 85,
    "start_time": "2021-10-26T09:10:03.510Z"
   },
   {
    "duration": 20,
    "start_time": "2021-10-26T09:10:03.599Z"
   },
   {
    "duration": 21,
    "start_time": "2021-10-26T09:10:03.623Z"
   },
   {
    "duration": 68,
    "start_time": "2021-10-26T09:10:03.647Z"
   },
   {
    "duration": 9,
    "start_time": "2021-10-26T09:10:03.718Z"
   },
   {
    "duration": 19,
    "start_time": "2021-10-26T09:10:03.732Z"
   },
   {
    "duration": 22,
    "start_time": "2021-10-26T09:10:03.755Z"
   },
   {
    "duration": 13,
    "start_time": "2021-10-26T09:10:03.800Z"
   },
   {
    "duration": 22,
    "start_time": "2021-10-26T09:10:03.815Z"
   },
   {
    "duration": 20,
    "start_time": "2021-10-26T09:10:03.839Z"
   },
   {
    "duration": 17,
    "start_time": "2021-10-26T09:10:03.861Z"
   },
   {
    "duration": 14,
    "start_time": "2021-10-26T09:10:03.880Z"
   },
   {
    "duration": 22,
    "start_time": "2021-10-26T09:10:03.897Z"
   },
   {
    "duration": 19,
    "start_time": "2021-10-26T09:10:03.921Z"
   },
   {
    "duration": 21,
    "start_time": "2021-10-26T09:10:03.942Z"
   },
   {
    "duration": 20,
    "start_time": "2021-10-26T09:10:03.965Z"
   },
   {
    "duration": 16,
    "start_time": "2021-10-26T09:10:03.988Z"
   },
   {
    "duration": 28,
    "start_time": "2021-10-26T09:10:04.008Z"
   },
   {
    "duration": 25,
    "start_time": "2021-10-26T09:10:04.039Z"
   },
   {
    "duration": 31,
    "start_time": "2021-10-26T09:10:04.067Z"
   },
   {
    "duration": 118,
    "start_time": "2021-10-26T09:10:04.102Z"
   },
   {
    "duration": 45,
    "start_time": "2021-10-26T09:10:04.222Z"
   },
   {
    "duration": 213,
    "start_time": "2021-10-26T09:10:04.269Z"
   },
   {
    "duration": 8,
    "start_time": "2021-10-26T09:10:04.485Z"
   },
   {
    "duration": 7,
    "start_time": "2021-10-26T09:11:26.715Z"
   },
   {
    "duration": 9,
    "start_time": "2021-10-26T09:11:37.622Z"
   },
   {
    "duration": 8,
    "start_time": "2021-10-26T09:11:52.744Z"
   },
   {
    "duration": 6,
    "start_time": "2021-10-26T09:12:20.804Z"
   },
   {
    "duration": 453,
    "start_time": "2021-10-26T09:16:29.158Z"
   },
   {
    "duration": 18,
    "start_time": "2021-10-26T09:16:40.239Z"
   },
   {
    "duration": 729,
    "start_time": "2021-10-26T10:15:43.419Z"
   },
   {
    "duration": 10,
    "start_time": "2021-10-26T10:16:03.906Z"
   },
   {
    "duration": 999,
    "start_time": "2021-10-26T10:16:14.470Z"
   },
   {
    "duration": 373,
    "start_time": "2021-10-26T10:16:20.156Z"
   },
   {
    "duration": 554,
    "start_time": "2021-10-26T10:16:43.519Z"
   },
   {
    "duration": 15,
    "start_time": "2021-10-26T10:31:41.941Z"
   },
   {
    "duration": 25,
    "start_time": "2021-10-26T10:32:25.836Z"
   },
   {
    "duration": 14,
    "start_time": "2021-10-26T10:33:15.241Z"
   },
   {
    "duration": 28,
    "start_time": "2021-10-26T10:33:17.728Z"
   },
   {
    "duration": 343,
    "start_time": "2021-10-26T10:33:36.316Z"
   },
   {
    "duration": 6,
    "start_time": "2021-10-26T10:33:43.920Z"
   },
   {
    "duration": 18,
    "start_time": "2021-10-26T10:33:47.863Z"
   },
   {
    "duration": 24,
    "start_time": "2021-10-26T10:33:52.407Z"
   },
   {
    "duration": 3,
    "start_time": "2021-10-26T12:29:31.277Z"
   },
   {
    "duration": 68,
    "start_time": "2021-10-26T12:29:31.286Z"
   },
   {
    "duration": 18,
    "start_time": "2021-10-26T12:29:31.357Z"
   },
   {
    "duration": 32,
    "start_time": "2021-10-26T12:29:31.378Z"
   },
   {
    "duration": 38,
    "start_time": "2021-10-26T12:29:31.414Z"
   },
   {
    "duration": 7,
    "start_time": "2021-10-26T12:29:31.455Z"
   },
   {
    "duration": 44,
    "start_time": "2021-10-26T12:29:31.464Z"
   },
   {
    "duration": 10,
    "start_time": "2021-10-26T12:29:31.511Z"
   },
   {
    "duration": 23,
    "start_time": "2021-10-26T12:29:31.525Z"
   },
   {
    "duration": 16,
    "start_time": "2021-10-26T12:29:31.551Z"
   },
   {
    "duration": 32,
    "start_time": "2021-10-26T12:29:31.570Z"
   },
   {
    "duration": 18,
    "start_time": "2021-10-26T12:29:31.605Z"
   },
   {
    "duration": 10,
    "start_time": "2021-10-26T12:29:31.626Z"
   },
   {
    "duration": 9,
    "start_time": "2021-10-26T12:29:31.638Z"
   },
   {
    "duration": 7,
    "start_time": "2021-10-26T12:29:31.649Z"
   },
   {
    "duration": 10,
    "start_time": "2021-10-26T12:29:31.658Z"
   },
   {
    "duration": 10,
    "start_time": "2021-10-26T12:29:31.700Z"
   },
   {
    "duration": 5,
    "start_time": "2021-10-26T12:29:31.714Z"
   },
   {
    "duration": 19,
    "start_time": "2021-10-26T12:29:31.721Z"
   },
   {
    "duration": 10,
    "start_time": "2021-10-26T12:29:31.742Z"
   },
   {
    "duration": 161,
    "start_time": "2021-10-26T12:29:31.755Z"
   },
   {
    "duration": -775,
    "start_time": "2021-10-26T12:29:32.694Z"
   },
   {
    "duration": -784,
    "start_time": "2021-10-26T12:29:32.704Z"
   },
   {
    "duration": -791,
    "start_time": "2021-10-26T12:29:32.713Z"
   },
   {
    "duration": -803,
    "start_time": "2021-10-26T12:29:32.726Z"
   },
   {
    "duration": -813,
    "start_time": "2021-10-26T12:29:32.737Z"
   },
   {
    "duration": -820,
    "start_time": "2021-10-26T12:29:32.746Z"
   },
   {
    "duration": -832,
    "start_time": "2021-10-26T12:29:32.759Z"
   },
   {
    "duration": -877,
    "start_time": "2021-10-26T12:29:32.805Z"
   },
   {
    "duration": -887,
    "start_time": "2021-10-26T12:29:32.817Z"
   },
   {
    "duration": -894,
    "start_time": "2021-10-26T12:29:32.825Z"
   },
   {
    "duration": -903,
    "start_time": "2021-10-26T12:29:32.836Z"
   },
   {
    "duration": -910,
    "start_time": "2021-10-26T12:29:32.844Z"
   },
   {
    "duration": -920,
    "start_time": "2021-10-26T12:29:32.856Z"
   },
   {
    "duration": -928,
    "start_time": "2021-10-26T12:29:32.865Z"
   },
   {
    "duration": -936,
    "start_time": "2021-10-26T12:29:32.874Z"
   },
   {
    "duration": -946,
    "start_time": "2021-10-26T12:29:32.885Z"
   },
   {
    "duration": -954,
    "start_time": "2021-10-26T12:29:32.894Z"
   },
   {
    "duration": -975,
    "start_time": "2021-10-26T12:29:32.917Z"
   },
   {
    "duration": -984,
    "start_time": "2021-10-26T12:29:32.927Z"
   },
   {
    "duration": -993,
    "start_time": "2021-10-26T12:29:32.937Z"
   },
   {
    "duration": -1001,
    "start_time": "2021-10-26T12:29:32.946Z"
   },
   {
    "duration": -1009,
    "start_time": "2021-10-26T12:29:32.956Z"
   },
   {
    "duration": -1018,
    "start_time": "2021-10-26T12:29:32.966Z"
   },
   {
    "duration": -1026,
    "start_time": "2021-10-26T12:29:32.976Z"
   },
   {
    "duration": -1035,
    "start_time": "2021-10-26T12:29:32.986Z"
   },
   {
    "duration": -1044,
    "start_time": "2021-10-26T12:29:32.996Z"
   },
   {
    "duration": -1053,
    "start_time": "2021-10-26T12:29:33.007Z"
   },
   {
    "duration": -1073,
    "start_time": "2021-10-26T12:29:33.028Z"
   },
   {
    "duration": -1039,
    "start_time": "2021-10-26T12:29:33.039Z"
   },
   {
    "duration": -1047,
    "start_time": "2021-10-26T12:29:33.049Z"
   },
   {
    "duration": -1054,
    "start_time": "2021-10-26T12:29:33.057Z"
   },
   {
    "duration": -1066,
    "start_time": "2021-10-26T12:29:33.070Z"
   },
   {
    "duration": -1074,
    "start_time": "2021-10-26T12:29:33.080Z"
   },
   {
    "duration": -1083,
    "start_time": "2021-10-26T12:29:33.090Z"
   },
   {
    "duration": -1091,
    "start_time": "2021-10-26T12:29:33.099Z"
   },
   {
    "duration": -1099,
    "start_time": "2021-10-26T12:29:33.108Z"
   },
   {
    "duration": -1106,
    "start_time": "2021-10-26T12:29:33.119Z"
   },
   {
    "duration": 5,
    "start_time": "2021-10-26T12:29:32.015Z"
   },
   {
    "duration": 182,
    "start_time": "2021-10-26T12:29:32.022Z"
   },
   {
    "duration": 1744,
    "start_time": "2021-10-26T12:29:32.207Z"
   },
   {
    "duration": -2987,
    "start_time": "2021-10-26T12:29:36.943Z"
   },
   {
    "duration": -2997,
    "start_time": "2021-10-26T12:29:36.955Z"
   },
   {
    "duration": -3007,
    "start_time": "2021-10-26T12:29:36.967Z"
   },
   {
    "duration": -3026,
    "start_time": "2021-10-26T12:29:36.988Z"
   },
   {
    "duration": -3037,
    "start_time": "2021-10-26T12:29:37.001Z"
   },
   {
    "duration": -3048,
    "start_time": "2021-10-26T12:29:37.014Z"
   },
   {
    "duration": -3070,
    "start_time": "2021-10-26T12:29:37.038Z"
   },
   {
    "duration": -3081,
    "start_time": "2021-10-26T12:29:37.050Z"
   },
   {
    "duration": -3091,
    "start_time": "2021-10-26T12:29:37.061Z"
   },
   {
    "duration": -3100,
    "start_time": "2021-10-26T12:29:37.072Z"
   },
   {
    "duration": -3109,
    "start_time": "2021-10-26T12:29:37.082Z"
   },
   {
    "duration": -3119,
    "start_time": "2021-10-26T12:29:37.093Z"
   },
   {
    "duration": -3127,
    "start_time": "2021-10-26T12:29:37.103Z"
   },
   {
    "duration": -3136,
    "start_time": "2021-10-26T12:29:37.113Z"
   },
   {
    "duration": -3145,
    "start_time": "2021-10-26T12:29:37.123Z"
   },
   {
    "duration": -3153,
    "start_time": "2021-10-26T12:29:37.133Z"
   },
   {
    "duration": -3172,
    "start_time": "2021-10-26T12:29:37.153Z"
   },
   {
    "duration": -3182,
    "start_time": "2021-10-26T12:29:37.164Z"
   },
   {
    "duration": -3190,
    "start_time": "2021-10-26T12:29:37.174Z"
   },
   {
    "duration": -3199,
    "start_time": "2021-10-26T12:29:37.184Z"
   },
   {
    "duration": -3207,
    "start_time": "2021-10-26T12:29:37.193Z"
   },
   {
    "duration": -3216,
    "start_time": "2021-10-26T12:29:37.204Z"
   },
   {
    "duration": -3224,
    "start_time": "2021-10-26T12:29:37.213Z"
   },
   {
    "duration": -3234,
    "start_time": "2021-10-26T12:29:37.224Z"
   },
   {
    "duration": -3242,
    "start_time": "2021-10-26T12:29:37.234Z"
   },
   {
    "duration": -3243,
    "start_time": "2021-10-26T12:29:37.243Z"
   },
   {
    "duration": -3264,
    "start_time": "2021-10-26T12:29:37.265Z"
   },
   {
    "duration": 4,
    "start_time": "2021-10-26T12:31:05.519Z"
   },
   {
    "duration": 5,
    "start_time": "2021-10-26T12:31:09.850Z"
   },
   {
    "duration": 91,
    "start_time": "2021-10-26T12:31:09.858Z"
   },
   {
    "duration": 49,
    "start_time": "2021-10-26T12:31:09.953Z"
   },
   {
    "duration": 196,
    "start_time": "2021-10-26T12:31:10.005Z"
   },
   {
    "duration": 9,
    "start_time": "2021-10-26T12:31:10.204Z"
   },
   {
    "duration": 28,
    "start_time": "2021-10-26T12:31:10.216Z"
   },
   {
    "duration": 10,
    "start_time": "2021-10-26T12:31:10.248Z"
   },
   {
    "duration": 43,
    "start_time": "2021-10-26T12:31:10.263Z"
   },
   {
    "duration": 25,
    "start_time": "2021-10-26T12:31:10.309Z"
   },
   {
    "duration": 23,
    "start_time": "2021-10-26T12:31:10.336Z"
   },
   {
    "duration": 27,
    "start_time": "2021-10-26T12:31:10.361Z"
   },
   {
    "duration": 23,
    "start_time": "2021-10-26T12:31:10.391Z"
   },
   {
    "duration": 13,
    "start_time": "2021-10-26T12:31:10.417Z"
   },
   {
    "duration": 39,
    "start_time": "2021-10-26T12:31:10.432Z"
   },
   {
    "duration": 18,
    "start_time": "2021-10-26T12:31:10.473Z"
   },
   {
    "duration": 34,
    "start_time": "2021-10-26T12:31:10.493Z"
   },
   {
    "duration": 21,
    "start_time": "2021-10-26T12:31:10.529Z"
   },
   {
    "duration": 27,
    "start_time": "2021-10-26T12:31:10.553Z"
   },
   {
    "duration": 21,
    "start_time": "2021-10-26T12:31:10.586Z"
   },
   {
    "duration": 37,
    "start_time": "2021-10-26T12:31:10.611Z"
   },
   {
    "duration": 13,
    "start_time": "2021-10-26T12:31:10.651Z"
   },
   {
    "duration": 14,
    "start_time": "2021-10-26T12:31:10.667Z"
   },
   {
    "duration": 21,
    "start_time": "2021-10-26T12:31:10.683Z"
   },
   {
    "duration": 13,
    "start_time": "2021-10-26T12:31:10.707Z"
   },
   {
    "duration": 22,
    "start_time": "2021-10-26T12:31:10.722Z"
   },
   {
    "duration": 27,
    "start_time": "2021-10-26T12:31:10.746Z"
   },
   {
    "duration": 30,
    "start_time": "2021-10-26T12:31:10.775Z"
   },
   {
    "duration": 39,
    "start_time": "2021-10-26T12:31:10.807Z"
   },
   {
    "duration": 22,
    "start_time": "2021-10-26T12:31:10.850Z"
   },
   {
    "duration": 43,
    "start_time": "2021-10-26T12:31:10.874Z"
   },
   {
    "duration": 21,
    "start_time": "2021-10-26T12:31:10.920Z"
   },
   {
    "duration": 15,
    "start_time": "2021-10-26T12:31:10.943Z"
   },
   {
    "duration": 10,
    "start_time": "2021-10-26T12:31:10.960Z"
   },
   {
    "duration": 29,
    "start_time": "2021-10-26T12:31:10.972Z"
   },
   {
    "duration": 1100,
    "start_time": "2021-10-26T12:31:11.004Z"
   },
   {
    "duration": 4,
    "start_time": "2021-10-26T12:31:12.107Z"
   },
   {
    "duration": 13,
    "start_time": "2021-10-26T12:31:12.113Z"
   },
   {
    "duration": 4,
    "start_time": "2021-10-26T12:31:12.129Z"
   },
   {
    "duration": 8,
    "start_time": "2021-10-26T12:31:12.136Z"
   },
   {
    "duration": 92,
    "start_time": "2021-10-26T12:31:12.147Z"
   },
   {
    "duration": 3912,
    "start_time": "2021-10-26T12:31:12.242Z"
   },
   {
    "duration": 7,
    "start_time": "2021-10-26T12:31:16.157Z"
   },
   {
    "duration": 11,
    "start_time": "2021-10-26T12:31:16.166Z"
   },
   {
    "duration": 31,
    "start_time": "2021-10-26T12:31:16.180Z"
   },
   {
    "duration": 13,
    "start_time": "2021-10-26T12:31:16.213Z"
   },
   {
    "duration": 15,
    "start_time": "2021-10-26T12:31:16.229Z"
   },
   {
    "duration": 23,
    "start_time": "2021-10-26T12:31:16.246Z"
   },
   {
    "duration": 5,
    "start_time": "2021-10-26T12:31:16.271Z"
   },
   {
    "duration": 25,
    "start_time": "2021-10-26T12:31:16.279Z"
   },
   {
    "duration": 16,
    "start_time": "2021-10-26T12:31:16.307Z"
   },
   {
    "duration": 23,
    "start_time": "2021-10-26T12:31:16.325Z"
   },
   {
    "duration": 52,
    "start_time": "2021-10-26T12:31:16.351Z"
   },
   {
    "duration": 12,
    "start_time": "2021-10-26T12:31:16.405Z"
   },
   {
    "duration": 16,
    "start_time": "2021-10-26T12:31:16.419Z"
   },
   {
    "duration": 979,
    "start_time": "2021-10-26T12:31:16.442Z"
   },
   {
    "duration": 379,
    "start_time": "2021-10-26T12:31:17.426Z"
   },
   {
    "duration": 17,
    "start_time": "2021-10-26T12:31:17.809Z"
   },
   {
    "duration": 8,
    "start_time": "2021-10-26T12:31:17.829Z"
   },
   {
    "duration": 23,
    "start_time": "2021-10-26T12:31:17.840Z"
   },
   {
    "duration": 44,
    "start_time": "2021-10-26T12:31:17.866Z"
   },
   {
    "duration": 29,
    "start_time": "2021-10-26T12:31:17.912Z"
   },
   {
    "duration": 7,
    "start_time": "2021-10-26T12:31:17.944Z"
   },
   {
    "duration": 49,
    "start_time": "2021-10-26T12:31:17.953Z"
   },
   {
    "duration": 7,
    "start_time": "2021-10-26T12:31:18.005Z"
   },
   {
    "duration": 14,
    "start_time": "2021-10-26T12:31:18.014Z"
   },
   {
    "duration": 22,
    "start_time": "2021-10-26T12:31:18.030Z"
   },
   {
    "duration": 8,
    "start_time": "2021-10-26T12:31:18.055Z"
   },
   {
    "duration": 36,
    "start_time": "2021-10-26T12:31:18.066Z"
   },
   {
    "duration": 693,
    "start_time": "2021-10-26T12:35:10.122Z"
   },
   {
    "duration": 137,
    "start_time": "2021-10-26T12:35:22.476Z"
   },
   {
    "duration": 659,
    "start_time": "2021-10-26T12:35:43.100Z"
   },
   {
    "duration": 286,
    "start_time": "2021-10-26T12:35:54.800Z"
   },
   {
    "duration": 285,
    "start_time": "2021-10-26T12:40:24.192Z"
   },
   {
    "duration": 295,
    "start_time": "2021-10-26T12:40:43.750Z"
   },
   {
    "duration": 1459,
    "start_time": "2021-10-26T12:42:21.312Z"
   },
   {
    "duration": 803,
    "start_time": "2021-10-26T12:42:30.222Z"
   },
   {
    "duration": 325,
    "start_time": "2021-10-26T12:42:40.587Z"
   }
  ],
  "kernelspec": {
   "display_name": "Python 3 (ipykernel)",
   "language": "python",
   "name": "python3"
  },
  "language_info": {
   "codemirror_mode": {
    "name": "ipython",
    "version": 3
   },
   "file_extension": ".py",
   "mimetype": "text/x-python",
   "name": "python",
   "nbconvert_exporter": "python",
   "pygments_lexer": "ipython3",
   "version": "3.8.8"
  },
  "toc": {
   "base_numbering": 1,
   "nav_menu": {},
   "number_sections": true,
   "sideBar": true,
   "skip_h1_title": true,
   "title_cell": "Table of Contents",
   "title_sidebar": "Contents",
   "toc_cell": false,
   "toc_position": {},
   "toc_section_display": true,
   "toc_window_display": false
  }
 },
 "nbformat": 4,
 "nbformat_minor": 2
}
