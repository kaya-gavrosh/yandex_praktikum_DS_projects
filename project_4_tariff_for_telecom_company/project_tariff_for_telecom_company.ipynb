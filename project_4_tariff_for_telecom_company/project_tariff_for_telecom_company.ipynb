{
 "cells": [
  {
   "cell_type": "markdown",
   "metadata": {
    "toc": true
   },
   "source": [
    "<h1>Содержание<span class=\"tocSkip\"></span></h1>\n",
    "<div class=\"toc\"><ul class=\"toc-item\"><li><span><a href=\"#Изучение-данных-из-файла\" data-toc-modified-id=\"Изучение-данных-из-файла-1\"><span class=\"toc-item-num\">1&nbsp;&nbsp;</span>Изучение данных из файла</a></span></li><li><span><a href=\"#Подготовка-данных\" data-toc-modified-id=\"Подготовка-данных-2\"><span class=\"toc-item-num\">2&nbsp;&nbsp;</span>Подготовка данных</a></span><ul class=\"toc-item\"><li><span><a href=\"#Предобработка-данных\" data-toc-modified-id=\"Предобработка-данных-2.1\"><span class=\"toc-item-num\">2.1&nbsp;&nbsp;</span>Предобработка данных</a></span><ul class=\"toc-item\"><li><span><a href=\"#Изменение-типа-данных\" data-toc-modified-id=\"Изменение-типа-данных-2.1.1\"><span class=\"toc-item-num\">2.1.1&nbsp;&nbsp;</span>Изменение типа данных</a></span></li><li><span><a href=\"#Проверка-данных\" data-toc-modified-id=\"Проверка-данных-2.1.2\"><span class=\"toc-item-num\">2.1.2&nbsp;&nbsp;</span>Проверка данных</a></span><ul class=\"toc-item\"><li><span><a href=\"#Пользователи\" data-toc-modified-id=\"Пользователи-2.1.2.1\"><span class=\"toc-item-num\">2.1.2.1&nbsp;&nbsp;</span>Пользователи</a></span></li><li><span><a href=\"#Звонки\" data-toc-modified-id=\"Звонки-2.1.2.2\"><span class=\"toc-item-num\">2.1.2.2&nbsp;&nbsp;</span>Звонки</a></span></li><li><span><a href=\"#Сообщения\" data-toc-modified-id=\"Сообщения-2.1.2.3\"><span class=\"toc-item-num\">2.1.2.3&nbsp;&nbsp;</span>Сообщения</a></span></li><li><span><a href=\"#Интернет\" data-toc-modified-id=\"Интернет-2.1.2.4\"><span class=\"toc-item-num\">2.1.2.4&nbsp;&nbsp;</span>Интернет</a></span></li><li><span><a href=\"#Тарифы\" data-toc-modified-id=\"Тарифы-2.1.2.5\"><span class=\"toc-item-num\">2.1.2.5&nbsp;&nbsp;</span>Тарифы</a></span></li></ul></li></ul></li><li><span><a href=\"#Подготовка-пользовательских-данных\" data-toc-modified-id=\"Подготовка-пользовательских-данных-2.2\"><span class=\"toc-item-num\">2.2&nbsp;&nbsp;</span>Подготовка пользовательских данных</a></span></li></ul></li><li><span><a href=\"#Анализ-данных\" data-toc-modified-id=\"Анализ-данных-3\"><span class=\"toc-item-num\">3&nbsp;&nbsp;</span>Анализ данных</a></span><ul class=\"toc-item\"><li><span><a href=\"#Минуты\" data-toc-modified-id=\"Минуты-3.1\"><span class=\"toc-item-num\">3.1&nbsp;&nbsp;</span>Минуты</a></span></li></ul></li><li><span><a href=\"#Проверка-гипотез\" data-toc-modified-id=\"Проверка-гипотез-4\"><span class=\"toc-item-num\">4&nbsp;&nbsp;</span>Проверка гипотез</a></span><ul class=\"toc-item\"><li><span><a href=\"#Сравнение-тарифов\" data-toc-modified-id=\"Сравнение-тарифов-4.1\"><span class=\"toc-item-num\">4.1&nbsp;&nbsp;</span>Сравнение тарифов</a></span></li><li><span><a href=\"#Сравнение-Москвы-и-регионов\" data-toc-modified-id=\"Сравнение-Москвы-и-регионов-4.2\"><span class=\"toc-item-num\">4.2&nbsp;&nbsp;</span>Сравнение Москвы и регионов</a></span></li></ul></li><li><span><a href=\"#Выводы\" data-toc-modified-id=\"Выводы-5\"><span class=\"toc-item-num\">5&nbsp;&nbsp;</span>Выводы</a></span></li></ul></div>"
   ]
  },
  {
   "cell_type": "markdown",
   "metadata": {},
   "source": [
    "# Определение перспективного тарифа для телеком-компании"
   ]
  },
  {
   "cell_type": "markdown",
   "metadata": {},
   "source": [
    "**Описание проекта**"
   ]
  },
  {
   "cell_type": "markdown",
   "metadata": {},
   "source": [
    "Дана вборка пользователей федерального оператора сотовой связи «Мегалайн» (500 человек). Есть данные о том, кто эти клиенты, откуда, каким тарифом пользуются, сколько звонков и сообщений каждый отправил за 2018 год. На основании этих данных предстоит проанализировать поведение пользователей и решить, какой из двух предоставляемых опаратором тарифов выгоднее для компании."
   ]
  },
  {
   "cell_type": "markdown",
   "metadata": {},
   "source": [
    "**Таблица 1. Описание тарифов**\n",
    "<a id='table1'></a>"
   ]
  },
  {
   "cell_type": "markdown",
   "metadata": {},
   "source": [
    "Параметр                | Тариф «Смарт»  | Тариф «Ультра» |\n",
    ":------------           |:------------   |:------------   |\n",
    "Ежемесячная плата, руб. | 550            | 1950\n",
    "Влючено:                |                | \n",
    "минут, шт               | 500            | 3000\n",
    "смс, шт                 | 50             | 1000\n",
    "трафика, Гб             | 15             | 30\n",
    "Стоимость сверх пакета, руб:|             | \n",
    "минута разговора        | 3              | 1\n",
    "сообщение               | 3              | 1\n",
    "1 Гб интернет-трафика   | 200            | 150"
   ]
  },
  {
   "cell_type": "markdown",
   "metadata": {},
   "source": [
    "Примечание:\n",
    "«Мегалайн» всегда округляет секунды до минут, а мегабайты — до гигабайт. Каждый звонок округляется отдельно.\n",
    "Для веб-трафика отдельные сессии не считаются. Вместо этого общая сумма за месяц округляется в бо́льшую сторону. "
   ]
  },
  {
   "cell_type": "markdown",
   "metadata": {},
   "source": [
    "Данные о квартирах содержатся в следующих файлах:\n",
    "- /datasets/calls.csv\n",
    "- /datasets/internet.csv\n",
    "- /datasets/messages.csv\n",
    "- /datasets/tariffs.csv\n",
    "- /datasets/users.csv"
   ]
  },
  {
   "cell_type": "markdown",
   "metadata": {},
   "source": [
    "**Цель исследования**"
   ]
  },
  {
   "cell_type": "markdown",
   "metadata": {},
   "source": [
    "Выяснить, какой из двух тарифов приносит больше денег для того, чтобы скорректировать рекламный бюджет."
   ]
  },
  {
   "cell_type": "markdown",
   "metadata": {},
   "source": [
    "**Ход исследования**"
   ]
  },
  {
   "cell_type": "markdown",
   "metadata": {},
   "source": [
    "Поскольку качество данных неизвестно, необходимо провести обзор данных перед началом исследования.\n",
    "\n",
    "Исследование пройдёт в три этапа:\n",
    " 1. Обзор данных\n",
    " 2. Подготовка данных\n",
    " 3. Анализ данных\n",
    " 4. Проверка гипотез"
   ]
  },
  {
   "cell_type": "markdown",
   "metadata": {},
   "source": [
    "## Изучение данных из файла"
   ]
  },
  {
   "cell_type": "code",
   "execution_count": 2,
   "metadata": {},
   "outputs": [],
   "source": [
    "# импорт библиотеки pandas\n",
    "import pandas as pd\n",
    "# импорт библиотеки matplotlib для дальнейшей работы с графиками\n",
    "import matplotlib.pyplot as plt\n",
    "# импорт библиотеки numpy для статистики\n",
    "import numpy as np\n",
    "# импорт модуля stats для проверки гипотез\n",
    "from scipy import stats as st"
   ]
  },
  {
   "cell_type": "code",
   "execution_count": 3,
   "metadata": {},
   "outputs": [],
   "source": [
    "# чтение файлов с данными и сохранение\n",
    "df_calls = pd.read_csv('/datasets/calls.csv', sep=',')\n",
    "df_internet = pd.read_csv('/datasets/internet.csv', sep=',')\n",
    "df_messages= pd.read_csv('/datasets/messages.csv', sep=',')\n",
    "df_tariffs = pd.read_csv('/datasets/tariffs.csv', sep=',')\n",
    "df_users = pd.read_csv('/datasets/users.csv', sep=',')"
   ]
  },
  {
   "cell_type": "code",
   "execution_count": 4,
   "metadata": {},
   "outputs": [
    {
     "name": "stdout",
     "output_type": "stream",
     "text": [
      "<class 'pandas.core.frame.DataFrame'>\n",
      "RangeIndex: 202607 entries, 0 to 202606\n",
      "Data columns (total 4 columns):\n",
      "id           202607 non-null object\n",
      "call_date    202607 non-null object\n",
      "duration     202607 non-null float64\n",
      "user_id      202607 non-null int64\n",
      "dtypes: float64(1), int64(1), object(2)\n",
      "memory usage: 6.2+ MB\n"
     ]
    }
   ],
   "source": [
    "# получение общей информации df_calls\n",
    "df_calls.info() "
   ]
  },
  {
   "cell_type": "code",
   "execution_count": 5,
   "metadata": {},
   "outputs": [
    {
     "name": "stdout",
     "output_type": "stream",
     "text": [
      "<class 'pandas.core.frame.DataFrame'>\n",
      "RangeIndex: 123036 entries, 0 to 123035\n",
      "Data columns (total 3 columns):\n",
      "id              123036 non-null object\n",
      "message_date    123036 non-null object\n",
      "user_id         123036 non-null int64\n",
      "dtypes: int64(1), object(2)\n",
      "memory usage: 2.8+ MB\n"
     ]
    }
   ],
   "source": [
    "# получение общей информации df_messages\n",
    "df_messages.info()"
   ]
  },
  {
   "cell_type": "code",
   "execution_count": 6,
   "metadata": {},
   "outputs": [
    {
     "name": "stdout",
     "output_type": "stream",
     "text": [
      "<class 'pandas.core.frame.DataFrame'>\n",
      "RangeIndex: 149396 entries, 0 to 149395\n",
      "Data columns (total 5 columns):\n",
      "Unnamed: 0      149396 non-null int64\n",
      "id              149396 non-null object\n",
      "mb_used         149396 non-null float64\n",
      "session_date    149396 non-null object\n",
      "user_id         149396 non-null int64\n",
      "dtypes: float64(1), int64(2), object(2)\n",
      "memory usage: 5.7+ MB\n"
     ]
    }
   ],
   "source": [
    "# получение общей информации df_internet\n",
    "df_internet.info()"
   ]
  },
  {
   "cell_type": "code",
   "execution_count": 7,
   "metadata": {},
   "outputs": [
    {
     "name": "stdout",
     "output_type": "stream",
     "text": [
      "<class 'pandas.core.frame.DataFrame'>\n",
      "RangeIndex: 2 entries, 0 to 1\n",
      "Data columns (total 8 columns):\n",
      "messages_included        2 non-null int64\n",
      "mb_per_month_included    2 non-null int64\n",
      "minutes_included         2 non-null int64\n",
      "rub_monthly_fee          2 non-null int64\n",
      "rub_per_gb               2 non-null int64\n",
      "rub_per_message          2 non-null int64\n",
      "rub_per_minute           2 non-null int64\n",
      "tariff_name              2 non-null object\n",
      "dtypes: int64(7), object(1)\n",
      "memory usage: 256.0+ bytes\n"
     ]
    }
   ],
   "source": [
    "# получение общей информации df_tariffs\n",
    "df_tariffs.info()"
   ]
  },
  {
   "cell_type": "code",
   "execution_count": 8,
   "metadata": {
    "scrolled": false
   },
   "outputs": [
    {
     "name": "stdout",
     "output_type": "stream",
     "text": [
      "<class 'pandas.core.frame.DataFrame'>\n",
      "RangeIndex: 500 entries, 0 to 499\n",
      "Data columns (total 8 columns):\n",
      "user_id       500 non-null int64\n",
      "age           500 non-null int64\n",
      "churn_date    38 non-null object\n",
      "city          500 non-null object\n",
      "first_name    500 non-null object\n",
      "last_name     500 non-null object\n",
      "reg_date      500 non-null object\n",
      "tariff        500 non-null object\n",
      "dtypes: int64(2), object(6)\n",
      "memory usage: 31.4+ KB\n"
     ]
    }
   ],
   "source": [
    "# получение общей информации df_users\n",
    "df_users.info()"
   ]
  },
  {
   "cell_type": "markdown",
   "metadata": {},
   "source": [
    "**Общая информация**\n",
    "\n",
    "\n",
    "`df_calls` (информация о звонках):\n",
    "- id — уникальный номер звонка\n",
    "- call_date — дата звонка\n",
    "- duration — длительность звонка в минутах\n",
    "- user_id — идентификатор пользователя, сделавшего звонок\n",
    "\n",
    "В таблице 202607 строк\n",
    "\n",
    "`df_messages` (информация о сообщениях):\n",
    "- id — уникальный номер сообщения\n",
    "- message_date — дата сообщения\n",
    "- user_id — идентификатор пользователя, отправившего сообщение\n",
    "\n",
    "В таблице 123036 строк\n",
    "\n",
    "`df_internet` (информация об интернет-сессиях):\n",
    "- id — уникальный номер сессии\n",
    "- mb_used — объём потраченного за сессию интернет-трафика (в мегабайтах)\n",
    "- session_date — дата интернет-сессии\n",
    "- user_id — идентификатор пользователя\n",
    "\n",
    "В таблице 149396 строк\n",
    "\n",
    "`df_tariffs` (информация о тарифах):\n",
    "- tariff_name — название тарифа\n",
    "- rub_monthly_fee — ежемесячная абонентская плата в рублях\n",
    "- minutes_included — количество минут разговора в месяц, включённых в абонентскую плату\n",
    "- messages_included — количество сообщений в месяц, включённых в абонентскую плату\n",
    "- mb_per_month_included — объём интернет-трафика, включённого в абонентскую плату (в мегабайтах)\n",
    "- rub_per_minute — стоимость минуты разговора сверх тарифного пакета (например, если в тарифе 100 минут разговора в месяц, то со 101 минуты будет взиматься плата)\n",
    "- rub_per_message — стоимость отправки сообщения сверх тарифного пакета\n",
    "- rub_per_gb — стоимость дополнительного гигабайта интернет-трафика сверх тарифного пакета (1 гигабайт = 1024 мегабайта)\n",
    "\n",
    "В таблице 2 строки, соответсвующие 2 тарифам.\n",
    "\n",
    "`df_users` (информация о пользователях):\n",
    "- user_id — уникальный идентификатор пользователя\n",
    "- first_name — имя пользователя\n",
    "- last_name — фамилия пользователя\n",
    "- age — возраст пользователя (годы)\n",
    "- reg_date — дата подключения тарифа (день, месяц, год)\n",
    "- churn_date — дата прекращения пользования тарифом (если значение пропущено, то тариф ещё действовал на момент выгрузки данных)\n",
    "- city — город проживания пользователя\n",
    "- tarif — название тарифного плана\n",
    "\n",
    "В таблице 500 строк (по числу пользователей)."
   ]
  },
  {
   "cell_type": "markdown",
   "metadata": {},
   "source": [
    "В трех первых таблицах встречается столбец с одинаковым названием `id`. Чтобы не запутаться, переменуем в каждой из таблиц этот столбец на соотвествующий по смыслу."
   ]
  },
  {
   "cell_type": "code",
   "execution_count": 9,
   "metadata": {},
   "outputs": [],
   "source": [
    "# переименовение столбца методом rename\n",
    "df_calls = df_calls.rename(columns={'id' : 'call_id'})\n",
    "df_messages = df_messages.rename(columns={'id' : 'messages_id'})\n",
    "df_internet = df_internet.rename(columns={'id' : 'session_id'})"
   ]
  },
  {
   "cell_type": "code",
   "execution_count": 10,
   "metadata": {
    "scrolled": true
   },
   "outputs": [
    {
     "data": {
      "text/html": [
       "<div>\n",
       "<style scoped>\n",
       "    .dataframe tbody tr th:only-of-type {\n",
       "        vertical-align: middle;\n",
       "    }\n",
       "\n",
       "    .dataframe tbody tr th {\n",
       "        vertical-align: top;\n",
       "    }\n",
       "\n",
       "    .dataframe thead th {\n",
       "        text-align: right;\n",
       "    }\n",
       "</style>\n",
       "<table border=\"1\" class=\"dataframe\">\n",
       "  <thead>\n",
       "    <tr style=\"text-align: right;\">\n",
       "      <th></th>\n",
       "      <th>call_id</th>\n",
       "      <th>call_date</th>\n",
       "      <th>duration</th>\n",
       "      <th>user_id</th>\n",
       "    </tr>\n",
       "  </thead>\n",
       "  <tbody>\n",
       "    <tr>\n",
       "      <td>0</td>\n",
       "      <td>1000_0</td>\n",
       "      <td>2018-07-25</td>\n",
       "      <td>0.00</td>\n",
       "      <td>1000</td>\n",
       "    </tr>\n",
       "    <tr>\n",
       "      <td>1</td>\n",
       "      <td>1000_1</td>\n",
       "      <td>2018-08-17</td>\n",
       "      <td>0.00</td>\n",
       "      <td>1000</td>\n",
       "    </tr>\n",
       "    <tr>\n",
       "      <td>2</td>\n",
       "      <td>1000_2</td>\n",
       "      <td>2018-06-11</td>\n",
       "      <td>2.85</td>\n",
       "      <td>1000</td>\n",
       "    </tr>\n",
       "  </tbody>\n",
       "</table>\n",
       "</div>"
      ],
      "text/plain": [
       "  call_id   call_date  duration  user_id\n",
       "0  1000_0  2018-07-25      0.00     1000\n",
       "1  1000_1  2018-08-17      0.00     1000\n",
       "2  1000_2  2018-06-11      2.85     1000"
      ]
     },
     "execution_count": 10,
     "metadata": {},
     "output_type": "execute_result"
    }
   ],
   "source": [
    "# получение первых строк\n",
    "df_calls.head(3) "
   ]
  },
  {
   "cell_type": "code",
   "execution_count": 11,
   "metadata": {},
   "outputs": [
    {
     "data": {
      "text/html": [
       "<div>\n",
       "<style scoped>\n",
       "    .dataframe tbody tr th:only-of-type {\n",
       "        vertical-align: middle;\n",
       "    }\n",
       "\n",
       "    .dataframe tbody tr th {\n",
       "        vertical-align: top;\n",
       "    }\n",
       "\n",
       "    .dataframe thead th {\n",
       "        text-align: right;\n",
       "    }\n",
       "</style>\n",
       "<table border=\"1\" class=\"dataframe\">\n",
       "  <thead>\n",
       "    <tr style=\"text-align: right;\">\n",
       "      <th></th>\n",
       "      <th>messages_id</th>\n",
       "      <th>message_date</th>\n",
       "      <th>user_id</th>\n",
       "    </tr>\n",
       "  </thead>\n",
       "  <tbody>\n",
       "    <tr>\n",
       "      <td>0</td>\n",
       "      <td>1000_0</td>\n",
       "      <td>2018-06-27</td>\n",
       "      <td>1000</td>\n",
       "    </tr>\n",
       "    <tr>\n",
       "      <td>1</td>\n",
       "      <td>1000_1</td>\n",
       "      <td>2018-10-08</td>\n",
       "      <td>1000</td>\n",
       "    </tr>\n",
       "    <tr>\n",
       "      <td>2</td>\n",
       "      <td>1000_2</td>\n",
       "      <td>2018-08-04</td>\n",
       "      <td>1000</td>\n",
       "    </tr>\n",
       "  </tbody>\n",
       "</table>\n",
       "</div>"
      ],
      "text/plain": [
       "  messages_id message_date  user_id\n",
       "0      1000_0   2018-06-27     1000\n",
       "1      1000_1   2018-10-08     1000\n",
       "2      1000_2   2018-08-04     1000"
      ]
     },
     "execution_count": 11,
     "metadata": {},
     "output_type": "execute_result"
    }
   ],
   "source": [
    "# получение первых строк\n",
    "df_messages.head(3)"
   ]
  },
  {
   "cell_type": "code",
   "execution_count": 12,
   "metadata": {
    "scrolled": true
   },
   "outputs": [
    {
     "data": {
      "text/html": [
       "<div>\n",
       "<style scoped>\n",
       "    .dataframe tbody tr th:only-of-type {\n",
       "        vertical-align: middle;\n",
       "    }\n",
       "\n",
       "    .dataframe tbody tr th {\n",
       "        vertical-align: top;\n",
       "    }\n",
       "\n",
       "    .dataframe thead th {\n",
       "        text-align: right;\n",
       "    }\n",
       "</style>\n",
       "<table border=\"1\" class=\"dataframe\">\n",
       "  <thead>\n",
       "    <tr style=\"text-align: right;\">\n",
       "      <th></th>\n",
       "      <th>Unnamed: 0</th>\n",
       "      <th>session_id</th>\n",
       "      <th>mb_used</th>\n",
       "      <th>session_date</th>\n",
       "      <th>user_id</th>\n",
       "    </tr>\n",
       "  </thead>\n",
       "  <tbody>\n",
       "    <tr>\n",
       "      <td>0</td>\n",
       "      <td>0</td>\n",
       "      <td>1000_0</td>\n",
       "      <td>112.95</td>\n",
       "      <td>2018-11-25</td>\n",
       "      <td>1000</td>\n",
       "    </tr>\n",
       "    <tr>\n",
       "      <td>1</td>\n",
       "      <td>1</td>\n",
       "      <td>1000_1</td>\n",
       "      <td>1052.81</td>\n",
       "      <td>2018-09-07</td>\n",
       "      <td>1000</td>\n",
       "    </tr>\n",
       "    <tr>\n",
       "      <td>2</td>\n",
       "      <td>2</td>\n",
       "      <td>1000_2</td>\n",
       "      <td>1197.26</td>\n",
       "      <td>2018-06-25</td>\n",
       "      <td>1000</td>\n",
       "    </tr>\n",
       "  </tbody>\n",
       "</table>\n",
       "</div>"
      ],
      "text/plain": [
       "   Unnamed: 0 session_id  mb_used session_date  user_id\n",
       "0           0     1000_0   112.95   2018-11-25     1000\n",
       "1           1     1000_1  1052.81   2018-09-07     1000\n",
       "2           2     1000_2  1197.26   2018-06-25     1000"
      ]
     },
     "execution_count": 12,
     "metadata": {},
     "output_type": "execute_result"
    }
   ],
   "source": [
    "# получение первых строк\n",
    "df_internet.head(3)"
   ]
  },
  {
   "cell_type": "code",
   "execution_count": 13,
   "metadata": {},
   "outputs": [
    {
     "data": {
      "text/html": [
       "<div>\n",
       "<style scoped>\n",
       "    .dataframe tbody tr th:only-of-type {\n",
       "        vertical-align: middle;\n",
       "    }\n",
       "\n",
       "    .dataframe tbody tr th {\n",
       "        vertical-align: top;\n",
       "    }\n",
       "\n",
       "    .dataframe thead th {\n",
       "        text-align: right;\n",
       "    }\n",
       "</style>\n",
       "<table border=\"1\" class=\"dataframe\">\n",
       "  <thead>\n",
       "    <tr style=\"text-align: right;\">\n",
       "      <th></th>\n",
       "      <th>messages_included</th>\n",
       "      <th>mb_per_month_included</th>\n",
       "      <th>minutes_included</th>\n",
       "      <th>rub_monthly_fee</th>\n",
       "      <th>rub_per_gb</th>\n",
       "      <th>rub_per_message</th>\n",
       "      <th>rub_per_minute</th>\n",
       "      <th>tariff_name</th>\n",
       "    </tr>\n",
       "  </thead>\n",
       "  <tbody>\n",
       "    <tr>\n",
       "      <td>0</td>\n",
       "      <td>50</td>\n",
       "      <td>15360</td>\n",
       "      <td>500</td>\n",
       "      <td>550</td>\n",
       "      <td>200</td>\n",
       "      <td>3</td>\n",
       "      <td>3</td>\n",
       "      <td>smart</td>\n",
       "    </tr>\n",
       "    <tr>\n",
       "      <td>1</td>\n",
       "      <td>1000</td>\n",
       "      <td>30720</td>\n",
       "      <td>3000</td>\n",
       "      <td>1950</td>\n",
       "      <td>150</td>\n",
       "      <td>1</td>\n",
       "      <td>1</td>\n",
       "      <td>ultra</td>\n",
       "    </tr>\n",
       "  </tbody>\n",
       "</table>\n",
       "</div>"
      ],
      "text/plain": [
       "   messages_included  mb_per_month_included  minutes_included  \\\n",
       "0                 50                  15360               500   \n",
       "1               1000                  30720              3000   \n",
       "\n",
       "   rub_monthly_fee  rub_per_gb  rub_per_message  rub_per_minute tariff_name  \n",
       "0              550         200                3               3       smart  \n",
       "1             1950         150                1               1       ultra  "
      ]
     },
     "execution_count": 13,
     "metadata": {},
     "output_type": "execute_result"
    }
   ],
   "source": [
    "# получение первых строк\n",
    "df_tariffs"
   ]
  },
  {
   "cell_type": "code",
   "execution_count": 14,
   "metadata": {
    "scrolled": false
   },
   "outputs": [
    {
     "data": {
      "text/html": [
       "<div>\n",
       "<style scoped>\n",
       "    .dataframe tbody tr th:only-of-type {\n",
       "        vertical-align: middle;\n",
       "    }\n",
       "\n",
       "    .dataframe tbody tr th {\n",
       "        vertical-align: top;\n",
       "    }\n",
       "\n",
       "    .dataframe thead th {\n",
       "        text-align: right;\n",
       "    }\n",
       "</style>\n",
       "<table border=\"1\" class=\"dataframe\">\n",
       "  <thead>\n",
       "    <tr style=\"text-align: right;\">\n",
       "      <th></th>\n",
       "      <th>user_id</th>\n",
       "      <th>age</th>\n",
       "      <th>churn_date</th>\n",
       "      <th>city</th>\n",
       "      <th>first_name</th>\n",
       "      <th>last_name</th>\n",
       "      <th>reg_date</th>\n",
       "      <th>tariff</th>\n",
       "    </tr>\n",
       "  </thead>\n",
       "  <tbody>\n",
       "    <tr>\n",
       "      <td>0</td>\n",
       "      <td>1000</td>\n",
       "      <td>52</td>\n",
       "      <td>NaN</td>\n",
       "      <td>Краснодар</td>\n",
       "      <td>Рафаил</td>\n",
       "      <td>Верещагин</td>\n",
       "      <td>2018-05-25</td>\n",
       "      <td>ultra</td>\n",
       "    </tr>\n",
       "    <tr>\n",
       "      <td>1</td>\n",
       "      <td>1001</td>\n",
       "      <td>41</td>\n",
       "      <td>NaN</td>\n",
       "      <td>Москва</td>\n",
       "      <td>Иван</td>\n",
       "      <td>Ежов</td>\n",
       "      <td>2018-11-01</td>\n",
       "      <td>smart</td>\n",
       "    </tr>\n",
       "    <tr>\n",
       "      <td>2</td>\n",
       "      <td>1002</td>\n",
       "      <td>59</td>\n",
       "      <td>NaN</td>\n",
       "      <td>Стерлитамак</td>\n",
       "      <td>Евгений</td>\n",
       "      <td>Абрамович</td>\n",
       "      <td>2018-06-17</td>\n",
       "      <td>smart</td>\n",
       "    </tr>\n",
       "  </tbody>\n",
       "</table>\n",
       "</div>"
      ],
      "text/plain": [
       "   user_id  age churn_date         city first_name  last_name    reg_date  \\\n",
       "0     1000   52        NaN    Краснодар     Рафаил  Верещагин  2018-05-25   \n",
       "1     1001   41        NaN       Москва       Иван       Ежов  2018-11-01   \n",
       "2     1002   59        NaN  Стерлитамак    Евгений  Абрамович  2018-06-17   \n",
       "\n",
       "  tariff  \n",
       "0  ultra  \n",
       "1  smart  \n",
       "2  smart  "
      ]
     },
     "execution_count": 14,
     "metadata": {},
     "output_type": "execute_result"
    }
   ],
   "source": [
    "# получение первых строк\n",
    "df_users.head(3)"
   ]
  },
  {
   "cell_type": "markdown",
   "metadata": {},
   "source": [
    "В таблице `df_internet`появился неопознанный столбец, явно дублирующий индексы таблицы. Он не упоминается в документации к  этой таблице. Скорее всего, он появился при извлечении данных. Удалим его."
   ]
  },
  {
   "cell_type": "code",
   "execution_count": 15,
   "metadata": {},
   "outputs": [],
   "source": [
    "# удаление столбца\n",
    "df_internet = df_internet.drop(['Unnamed: 0'], axis=1)"
   ]
  },
  {
   "cell_type": "code",
   "execution_count": 16,
   "metadata": {
    "scrolled": true
   },
   "outputs": [
    {
     "data": {
      "text/plain": [
       "Index(['session_id', 'mb_used', 'session_date', 'user_id'], dtype='object')"
      ]
     },
     "execution_count": 16,
     "metadata": {},
     "output_type": "execute_result"
    }
   ],
   "source": [
    "# проверка\n",
    "df_internet.columns"
   ]
  },
  {
   "cell_type": "markdown",
   "metadata": {},
   "source": [
    "**Выводы**"
   ]
  },
  {
   "cell_type": "markdown",
   "metadata": {},
   "source": [
    "- Проблемы с типом данных обнаружены в стобцах `call_date`, `message_date`, `session_date`, `churn_date`,`reg_date`. Эти колонки должны быть типа datetime, поскольку описывают время, когда было совершено то или иное действие. \n",
    "- Колонки с названием `id` в трех таблицах были переименованы в соответстсвии с тем, что какой именно id они отражают для того, чтобы избежать путанницы в дальнейшем.\n",
    "- В таблце `df_internet` (путь: /datasets/internet.csv) обнаружен неизвестый столбец, повторяющей индексы таблицы."
   ]
  },
  {
   "cell_type": "markdown",
   "metadata": {},
   "source": [
    "## Подготовка данных"
   ]
  },
  {
   "cell_type": "markdown",
   "metadata": {},
   "source": [
    "### Предобработка данных"
   ]
  },
  {
   "cell_type": "markdown",
   "metadata": {},
   "source": [
    "#### Изменение типа данных"
   ]
  },
  {
   "cell_type": "markdown",
   "metadata": {},
   "source": [
    "Приведем данные столбцов `call_date`, `message_date`, `session_date`, `churn_date`, `reg_date` к типу datetime."
   ]
  },
  {
   "cell_type": "code",
   "execution_count": 17,
   "metadata": {},
   "outputs": [],
   "source": [
    "# преобразвание строки в тип datetime\n",
    "df_users['reg_date'] = pd.to_datetime(df_users['reg_date'], format='%Y-%m-%d')"
   ]
  },
  {
   "cell_type": "code",
   "execution_count": 18,
   "metadata": {},
   "outputs": [],
   "source": [
    "# преобразвание строки в тип datetime\n",
    "df_users['churn_date'] = pd.to_datetime(df_users['churn_date'], format='%Y-%m-%d')"
   ]
  },
  {
   "cell_type": "code",
   "execution_count": 19,
   "metadata": {},
   "outputs": [],
   "source": [
    "# преобразвание строки в тип datetime\n",
    "df_calls['call_date'] = pd.to_datetime(df_calls['call_date'], format='%Y-%m-%d')"
   ]
  },
  {
   "cell_type": "code",
   "execution_count": 20,
   "metadata": {},
   "outputs": [],
   "source": [
    "# преобразвание строки в тип datetime\n",
    "df_messages['message_date'] = pd.to_datetime(df_messages['message_date'], format='%Y-%m-%d')"
   ]
  },
  {
   "cell_type": "code",
   "execution_count": 21,
   "metadata": {},
   "outputs": [],
   "source": [
    "# преобразвание строки в тип datetime\n",
    "df_internet['session_date'] = pd.to_datetime(df_internet['session_date'], format='%Y-%m-%d')"
   ]
  },
  {
   "cell_type": "markdown",
   "metadata": {},
   "source": [
    "#### Проверка данных"
   ]
  },
  {
   "cell_type": "markdown",
   "metadata": {},
   "source": [
    "##### Пользователи"
   ]
  },
  {
   "cell_type": "markdown",
   "metadata": {},
   "source": [
    "Начнем с таблицы `df_users`."
   ]
  },
  {
   "cell_type": "code",
   "execution_count": 22,
   "metadata": {
    "scrolled": false
   },
   "outputs": [
    {
     "data": {
      "text/html": [
       "<div>\n",
       "<style scoped>\n",
       "    .dataframe tbody tr th:only-of-type {\n",
       "        vertical-align: middle;\n",
       "    }\n",
       "\n",
       "    .dataframe tbody tr th {\n",
       "        vertical-align: top;\n",
       "    }\n",
       "\n",
       "    .dataframe thead th {\n",
       "        text-align: right;\n",
       "    }\n",
       "</style>\n",
       "<table border=\"1\" class=\"dataframe\">\n",
       "  <thead>\n",
       "    <tr style=\"text-align: right;\">\n",
       "      <th></th>\n",
       "      <th>user_id</th>\n",
       "      <th>age</th>\n",
       "      <th>churn_date</th>\n",
       "      <th>city</th>\n",
       "      <th>first_name</th>\n",
       "      <th>last_name</th>\n",
       "      <th>reg_date</th>\n",
       "      <th>tariff</th>\n",
       "    </tr>\n",
       "  </thead>\n",
       "  <tbody>\n",
       "    <tr>\n",
       "      <td>0</td>\n",
       "      <td>1000</td>\n",
       "      <td>52</td>\n",
       "      <td>NaT</td>\n",
       "      <td>Краснодар</td>\n",
       "      <td>Рафаил</td>\n",
       "      <td>Верещагин</td>\n",
       "      <td>2018-05-25</td>\n",
       "      <td>ultra</td>\n",
       "    </tr>\n",
       "    <tr>\n",
       "      <td>1</td>\n",
       "      <td>1001</td>\n",
       "      <td>41</td>\n",
       "      <td>NaT</td>\n",
       "      <td>Москва</td>\n",
       "      <td>Иван</td>\n",
       "      <td>Ежов</td>\n",
       "      <td>2018-11-01</td>\n",
       "      <td>smart</td>\n",
       "    </tr>\n",
       "  </tbody>\n",
       "</table>\n",
       "</div>"
      ],
      "text/plain": [
       "   user_id  age churn_date       city first_name  last_name   reg_date tariff\n",
       "0     1000   52        NaT  Краснодар     Рафаил  Верещагин 2018-05-25  ultra\n",
       "1     1001   41        NaT     Москва       Иван       Ежов 2018-11-01  smart"
      ]
     },
     "execution_count": 22,
     "metadata": {},
     "output_type": "execute_result"
    }
   ],
   "source": [
    "# получение первых строк\n",
    "df_users.head(2)"
   ]
  },
  {
   "cell_type": "markdown",
   "metadata": {},
   "source": [
    "Проверим, все ли id уникальны. Если число уникальных значений  равно числу строк, то это так."
   ]
  },
  {
   "cell_type": "code",
   "execution_count": 23,
   "metadata": {
    "scrolled": true
   },
   "outputs": [
    {
     "data": {
      "text/plain": [
       "True"
      ]
     },
     "execution_count": 23,
     "metadata": {},
     "output_type": "execute_result"
    }
   ],
   "source": [
    "(df_users['user_id'].nunique()) == len(df_users)"
   ]
  },
  {
   "cell_type": "markdown",
   "metadata": {},
   "source": [
    "Проверим возраст"
   ]
  },
  {
   "cell_type": "code",
   "execution_count": 24,
   "metadata": {
    "scrolled": false
   },
   "outputs": [
    {
     "data": {
      "image/png": "[encoded data removed]",
      "text/plain": [
       "<Figure size 432x288 with 1 Axes>"
      ]
     },
     "metadata": {
      "needs_background": "light"
     },
     "output_type": "display_data"
    }
   ],
   "source": [
    "# гистограмма  возраста\n",
    "df_users['age'].hist(bins=50)\n",
    "plt.show()"
   ]
  },
  {
   "cell_type": "markdown",
   "metadata": {},
   "source": [
    "Возраст клиентов от 18 до 75 лет, что в целом соответсвует ожиданиям."
   ]
  },
  {
   "cell_type": "markdown",
   "metadata": {},
   "source": [
    "Посмотрим, все ли впорядке со столбцом `churn_date`"
   ]
  },
  {
   "cell_type": "code",
   "execution_count": 25,
   "metadata": {
    "scrolled": true
   },
   "outputs": [
    {
     "name": "stderr",
     "output_type": "stream",
     "text": [
      "/opt/conda/lib/python3.7/site-packages/pandas/plotting/_matplotlib/converter.py:103: FutureWarning: Using an implicitly registered datetime converter for a matplotlib plotting method. The converter was registered by pandas on import. Future versions of pandas will require you to explicitly register matplotlib converters.\n",
      "\n",
      "To register the converters:\n",
      "\t>>> from pandas.plotting import register_matplotlib_converters\n",
      "\t>>> register_matplotlib_converters()\n",
      "  warnings.warn(msg, FutureWarning)\n"
     ]
    },
    {
     "data": {
      "image/png": "[encoded data removed]",
      "text/plain": [
       "<Figure size 432x288 with 1 Axes>"
      ]
     },
     "metadata": {
      "needs_background": "light"
     },
     "output_type": "display_data"
    }
   ],
   "source": [
    "# гистограмма дат отключения\n",
    "df_users[~(df_users['churn_date'].isna())]['churn_date'].hist(bins=20)\n",
    "plt.xticks(rotation = 45)\n",
    "plt.show()"
   ]
  },
  {
   "cell_type": "markdown",
   "metadata": {},
   "source": [
    "Отключать тариф пользователи стали во второй половине года. Больше всего к конце года. Вероятно, некоторые из них воспользовались более выгодными \"новогодними\" предложениями."
   ]
  },
  {
   "cell_type": "markdown",
   "metadata": {},
   "source": [
    "Посмотрим на названия городов, чтобы оценить, встречаются ли неявные дубликаты."
   ]
  },
  {
   "cell_type": "code",
   "execution_count": 26,
   "metadata": {},
   "outputs": [
    {
     "data": {
      "text/plain": [
       "array(['Архангельск', 'Астрахань', 'Балашиха', 'Барнаул', 'Белгород',\n",
       "       'Брянск', 'Владивосток', 'Владикавказ', 'Владимир', 'Волгоград',\n",
       "       'Волжский', 'Вологда', 'Воронеж', 'Грозный', 'Екатеринбург',\n",
       "       'Иваново', 'Ижевск', 'Иркутск', 'Казань', 'Калининград', 'Калуга',\n",
       "       'Кемерово', 'Киров', 'Кострома', 'Краснодар', 'Красноярск',\n",
       "       'Курган', 'Курск', 'Липецк', 'Магнитогорск', 'Махачкала', 'Москва',\n",
       "       'Мурманск', 'Набережные Челны', 'Нижневартовск', 'Нижний Новгород',\n",
       "       'Нижний Тагил', 'Новокузнецк', 'Новороссийск', 'Новосибирск',\n",
       "       'Омск', 'Оренбург', 'Орёл', 'Пенза', 'Пермь', 'Петрозаводск',\n",
       "       'Подольск', 'Ростов-на-Дону', 'Рязань', 'Самара',\n",
       "       'Санкт-Петербург', 'Саранск', 'Саратов', 'Севастополь', 'Смоленск',\n",
       "       'Сочи', 'Ставрополь', 'Стерлитамак', 'Сургут', 'Тамбов', 'Тверь',\n",
       "       'Тольятти', 'Томск', 'Тула', 'Тюмень', 'Улан-Удэ', 'Ульяновск',\n",
       "       'Уфа', 'Хабаровск', 'Химки', 'Чебоксары', 'Челябинск', 'Череповец',\n",
       "       'Чита', 'Якутск', 'Ярославль'], dtype=object)"
      ]
     },
     "execution_count": 26,
     "metadata": {},
     "output_type": "execute_result"
    }
   ],
   "source": [
    "# список уникальных значений столбца\n",
    "df_users['city'].sort_values().unique()"
   ]
  },
  {
   "cell_type": "markdown",
   "metadata": {},
   "source": [
    "Ничего подозрительного нет.\n",
    "\n",
    "Проверим названия тарифов."
   ]
  },
  {
   "cell_type": "code",
   "execution_count": 27,
   "metadata": {},
   "outputs": [
    {
     "data": {
      "text/plain": [
       "array(['ultra', 'smart'], dtype=object)"
      ]
     },
     "execution_count": 27,
     "metadata": {},
     "output_type": "execute_result"
    }
   ],
   "source": [
    "# список уникальных значений столбца\n",
    "df_users['tariff'].unique()"
   ]
  },
  {
   "cell_type": "markdown",
   "metadata": {},
   "source": [
    "Посмотрим на имена и фамилии."
   ]
  },
  {
   "cell_type": "code",
   "execution_count": 28,
   "metadata": {
    "scrolled": true
   },
   "outputs": [
    {
     "data": {
      "text/plain": [
       "array(['Авксентий', 'Агата', 'Агафья', 'Агнесса', 'Адам', 'Аким', 'Аксён',\n",
       "       'Алан', 'Алевтина', 'Александр', 'Александра', 'Алексей', 'Алина',\n",
       "       'Алиса', 'Алла', 'Альберта', 'Альбин', 'Альфред', 'Алёна',\n",
       "       'Анатолий', 'Анвар', 'Ангелина', 'Андрей', 'Анжелика', 'Анита',\n",
       "       'Антонина', 'Анфиса', 'Арина', 'Арнольд', 'Арсен', 'Арсений',\n",
       "       'Артемий', 'Артём', 'Аурелия', 'Афанасий', 'Ахмет', 'Аюна',\n",
       "       'Белла', 'Берта', 'Борис', 'Вадим', 'Валентина', 'Валерий',\n",
       "       'Валерия', 'Варвара', 'Варлам', 'Василиса', 'Вениамин', 'Вера',\n",
       "       'Вероника', 'Веселина', 'Виктор', 'Виктория', 'Виолетта',\n",
       "       'Виталий', 'Владимир', 'Владислав', 'Владислава', 'Всеволод',\n",
       "       'Габриель', 'Габриэль', 'Гайдар', 'Галина', 'Гарри', 'Гектор',\n",
       "       'Гелена', 'Геннадий', 'Геодар', 'Георгий', 'Георгина', 'Геральд',\n",
       "       'Герасим', 'Глеб', 'Гордей', 'Григорий', 'Дайна', 'Дана', 'Даниил',\n",
       "       'Даниэла', 'Дебора', 'Демьян', 'Денис', 'Джемма', 'Джозефина',\n",
       "       'Джулия', 'Динара', 'Доминика', 'Ева', 'Евгений', 'Евгения',\n",
       "       'Евдокия', 'Евфросинья', 'Егор', 'Екатерина', 'Елена', 'Еремей',\n",
       "       'Ермолай', 'Ефим', 'Зинаида', 'Иван', 'Игнатий', 'Игорь',\n",
       "       'Изольда', 'Илзе', 'Илья', 'Инара', 'Инга', 'Инесса', 'Инна',\n",
       "       'Иннокентий', 'Ириней', 'Исаак', 'Исак', 'Иулиан', 'Камилла',\n",
       "       'Карина', 'Каролина', 'Касьян', 'Ким', 'Клавдия', 'Клара',\n",
       "       'Клариса', 'Константин', 'Кристина', 'Ксения', 'Кузьма',\n",
       "       'Лаврентий', 'Лариса', 'Лаура', 'Лев', 'Лейла', 'Леон', 'Леонид',\n",
       "       'Леонтий', 'Леся', 'Лидия', 'Лилия', 'Лия', 'Лола', 'Лолита',\n",
       "       'Луиза', 'Лукий', 'Людмила', 'Мадина', 'Майя', 'Максим',\n",
       "       'Мальвина', 'Мануэла', 'Маргарита', 'Марианна', 'Мариетта',\n",
       "       'Марина', 'Марица', 'Мария', 'Марта', 'Марьяна', 'Матвей',\n",
       "       'Милана', 'Милена', 'Милица', 'Мирослава', 'Михаил', 'Мстислав',\n",
       "       'Надежда', 'Наида', 'Наталья', 'Нателла', 'Нелли', 'Николай',\n",
       "       'Нина', 'Оксана', 'Олег', 'Олеся', 'Онисим', 'Павел', 'Пётр',\n",
       "       'Радим', 'Радислав', 'Радомир', 'Раиса', 'Рауль', 'Рафаил',\n",
       "       'Рафаэль', 'Рашид', 'Рем', 'Ренальд', 'Ренат', 'Рената', 'Ринат',\n",
       "       'Роберт', 'Роза', 'Розалия', 'Роксана', 'Ростислав', 'Рубен',\n",
       "       'Рудольф', 'Рузана', 'Руслан', 'Руслана', 'Рустам', 'Рустем',\n",
       "       'Рустэм', 'Рэм', 'Сабина', 'Саида', 'Сара', 'Светлана',\n",
       "       'Святослав', 'Семён', 'Серафима', 'Симона', 'Снежана', 'Софья',\n",
       "       'Станислав', 'Степан', 'Таира', 'Таисия', 'Тала', 'Тамара',\n",
       "       'Татьяна', 'Тимофей', 'Тихон', 'Трифон', 'Трофим', 'Фаддей',\n",
       "       'Фёдор', 'Харитон', 'Эдита', 'Эдуард', 'Элеонора', 'Элина', 'Элла',\n",
       "       'Эллада', 'Эльвира', 'Эльга', 'Эльза', 'Эльмира', 'Эмилия',\n",
       "       'Эсмеральда', 'Юзефа', 'Юлий', 'Юлия', 'Юна', 'Юрий', 'Яков',\n",
       "       'Яна'], dtype=object)"
      ]
     },
     "execution_count": 28,
     "metadata": {},
     "output_type": "execute_result"
    }
   ],
   "source": [
    "# список уникальных значений столбца\n",
    "df_users['first_name'].sort_values().unique()"
   ]
  },
  {
   "cell_type": "code",
   "execution_count": 29,
   "metadata": {
    "scrolled": true
   },
   "outputs": [
    {
     "data": {
      "text/plain": [
       "array(['Ёлчина', 'Ёркин', 'Ёркина', 'Ёрохов', 'Ёрохова', 'Абаимов',\n",
       "       'Абакумов', 'Абакшина', 'Абалакова', 'Абалдуева', 'Абалкин',\n",
       "       'Абашкин', 'Абашкина', 'Абдулина', 'Абоимов', 'Абрамович',\n",
       "       'Абрамцев', 'Абрамычева', 'Абрашина', 'Абрикосова', 'Авдеев',\n",
       "       'Авдеенко', 'Авдонюшкин', 'Авдушева', 'Авдышев', 'Авдюков',\n",
       "       'Авраамова', 'Авраменко', 'Авринский', 'Аврорин', 'Авроров',\n",
       "       'Авросимова', 'Авросинова', 'Авсейкина', 'Авчинникова', 'Агаев',\n",
       "       'Агаева', 'Агапеева', 'Агеева', 'Адаменко', 'Адамов', 'Азаров',\n",
       "       'Азерников', 'Азимова', 'Акимов', 'Акимчин', 'Акимычева',\n",
       "       'Акиндинов', 'Акинин', 'Акинфьев', 'Аксёнов', 'Акуленко',\n",
       "       'Александрова', 'Александрович', 'Александрюк', 'Алексеева',\n",
       "       'Алексеенко', 'Алексеичев', 'Аленникова', 'Алесин', 'Алехина',\n",
       "       'Алешин', 'Алешина', 'Алешкова', 'Алиев', 'Алфеева', 'Алфимов',\n",
       "       'Алфимова', 'Алымова', 'Алютин', 'Алюшина', 'Алёшко', 'Алёшкова',\n",
       "       'Амелин', 'Амелишко', 'Амельченко', 'Ананьева', 'Андреенко',\n",
       "       'Андрейкин', 'Андрейчук', 'Андрианов', 'Андропов', 'Андропова',\n",
       "       'Андрющенко', 'Аникина', 'Аничкина', 'Анищенко', 'Антипов',\n",
       "       'Антоненко', 'Антонова', 'Антропов', 'Антропова', 'Аракина',\n",
       "       'Аракчеев', 'Аркадьев', 'Арсенкова', 'Артемчук', 'Артемьев',\n",
       "       'Артёменко', 'Артёмов', 'Артёшин', 'Архипова', 'Асафьева',\n",
       "       'Астапенко', 'Астапов', 'Астафьева', 'Афанасенко', 'Афанасова',\n",
       "       'Афинин', 'Афонасьева', 'Афонин', 'Афонина', 'Ахмадулин',\n",
       "       'Ахматов', 'Ахматулин', 'Ахматулина', 'Ахмедов', 'Бабушкина',\n",
       "       'Барсуков', 'Басова', 'Безруков', 'Беликова', 'Белова',\n",
       "       'Белозёров', 'Белоусова', 'Беляев', 'Беляева', 'Белякова',\n",
       "       'Березина', 'Блинова', 'Блохин', 'Блохина', 'Боброва', 'Бобылёв',\n",
       "       'Богданов', 'Богданова', 'Болдырев', 'Болдырева', 'Бондарев',\n",
       "       'Борисова', 'Бородин', 'Бородина', 'Булгаков', 'Бычкова',\n",
       "       'Васильева', 'Верещагин', 'Верещагина', 'Веселов', 'Вешнякова',\n",
       "       'Вишневский', 'Вишняков', 'Воронин', 'Воронина', 'Гаврилова',\n",
       "       'Галкин', 'Глушков', 'Голованова', 'Гончаров', 'Горбачева',\n",
       "       'Горбунов', 'Горлов', 'Григорьев', 'Григорьева', 'Гришина',\n",
       "       'Громова', 'Давыдов', 'Демидов', 'Демьянов', 'Демьянова',\n",
       "       'Денисова', 'Добрынин', 'Добрынина', 'Дорофеева', 'Дроздов',\n",
       "       'Дубинина', 'Дьячкова', 'Евсеев', 'Ежов', 'Елизаров', 'Емельянова',\n",
       "       'Еремин', 'Ермилов', 'Ермолаев', 'Ерофеев', 'Ерофеева', 'Ефремов',\n",
       "       'Жарова', 'Жданов', 'Жукова', 'Завьялова', 'Зайцев', 'Зеленина',\n",
       "       'Зимина', 'Золотов', 'Золотова', 'Зубков', 'Зубкова', 'Зуев',\n",
       "       'Зыков', 'Иванов', 'Иванова', 'Игнатова', 'Игнатьев', 'Игнатьева',\n",
       "       'Измайлова', 'Ильин', 'Ильина', 'Кабанова', 'Казакова', 'Казанцев',\n",
       "       'Калинина', 'Капустин', 'Карасев', 'Карасева', 'Карташова',\n",
       "       'Касьянова', 'Киреева', 'Кириллов', 'Киселёв', 'Климова',\n",
       "       'Ковалева', 'Козлов', 'Козлова', 'Козырева', 'Колесова', 'Колобов',\n",
       "       'Кольцова', 'Кондратов', 'Коновалова', 'Кононов', 'Константинова',\n",
       "       'Корнеева', 'Корнилов', 'Корнилова', 'Корольков', 'Королькова',\n",
       "       'Короткова', 'Коршунов', 'Костин', 'Костина', 'Кочергина',\n",
       "       'Кочетков', 'Кочетов', 'Кошелева', 'Кравцов', 'Красильников',\n",
       "       'Круглов', 'Крылова', 'Крюков', 'Крюкова', 'Крючков', 'Кузнецов',\n",
       "       'Кукушкин', 'Кулагина', 'Кулешова', 'Куприянов', 'Курочкин',\n",
       "       'Лазарева', 'Лапина', 'Лаптева', 'Ларин', 'Ларина', 'Ларионова',\n",
       "       'Латышева', 'Лебедев', 'Левин', 'Леонтьев', 'Литвинов', 'Лобанова',\n",
       "       'Логинов', 'Лосева', 'Лукин', 'Любимов', 'Макаров', 'Макарова',\n",
       "       'Макеев', 'Малахов', 'Малинин', 'Малинина', 'Малышев', 'Мальцев',\n",
       "       'Мамонтова', 'Марков', 'Масленникова', 'Матвеев', 'Медведев',\n",
       "       'Мельникова', 'Меркулова', 'Минаев', 'Минаева', 'Мишин',\n",
       "       'Молчанова', 'Моргунов', 'Морозов', 'Муравьева', 'Муравьёв',\n",
       "       'Мясникова', 'Наумов', 'Некрасов', 'Нестеров', 'Нестерова',\n",
       "       'Нечаева', 'Никонов', 'Никулин', 'Новикова', 'Носкова',\n",
       "       'Овчинников', 'Одинцов', 'Одинцова', 'Озерова', 'Орлов',\n",
       "       'Павловский', 'Панов', 'Пантелеева', 'Панфилов', 'Панфилова',\n",
       "       'Парфенов', 'Петухова', 'Пирогова', 'Платонова', 'Покровский',\n",
       "       'Поликарпова', 'Поляков', 'Пономарев', 'Пономарева', 'Пономарёв',\n",
       "       'Попов', 'Прокофьева', 'Пугачева', 'Ракова', 'Родина', 'Родионов',\n",
       "       'Родионова', 'Розанова', 'Рудаков', 'Румянцева', 'Русанова',\n",
       "       'Рыбакова', 'Рябов', 'Савельева', 'Сазонов', 'Сазонова',\n",
       "       'Сальников', 'Сафонова', 'Сахарова', 'Свиридов', 'Севастьянова',\n",
       "       'Седова', 'Селезнев', 'Селезнева', 'Селиванова', 'Семенова',\n",
       "       'Семин', 'Семина', 'Семёнов', 'Сергеева', 'Серебрякова', 'Серов',\n",
       "       'Силин', 'Симонова', 'Синицын', 'Ситникова', 'Соколов', 'Соловьев',\n",
       "       'Соловьёв', 'Сомова', 'Сорокин', 'Софронов', 'Спиридонова',\n",
       "       'Субботина', 'Суслов', 'Суслова', 'Сухарев', 'Сухарева', 'Сухова',\n",
       "       'Сысоев', 'Тарасов', 'Тарасова', 'Терехова', 'Тетерина',\n",
       "       'Тимофеев', 'Тимофеева', 'Тихомирова', 'Тихонов', 'Толкачев',\n",
       "       'Третьякова', 'Троицкий', 'Трофимов', 'Трофимова', 'Трошин',\n",
       "       'Уваров', 'Устинов', 'Устинова', 'Фадеева', 'Федосеев', 'Фетисова',\n",
       "       'Филатов', 'Фокин', 'Фокина', 'Фомин', 'Фролов', 'Фёдоров',\n",
       "       'Худяков', 'Чернов', 'Черный', 'Чернышев', 'Черняев', 'Чеснокова',\n",
       "       'Чижова', 'Чистякова', 'Чумаков', 'Шарапов', 'Шарапова', 'Шарова',\n",
       "       'Швецов', 'Шевцов', 'Шевцова', 'Щербакова', 'Яшина'], dtype=object)"
      ]
     },
     "execution_count": 29,
     "metadata": {},
     "output_type": "execute_result"
    }
   ],
   "source": [
    "# список уникальных значений столбца\n",
    "df_users['last_name'].sort_values().unique()"
   ]
  },
  {
   "cell_type": "markdown",
   "metadata": {},
   "source": [
    "С фамилиями тоже  на первый взгляд все нормально."
   ]
  },
  {
   "cell_type": "code",
   "execution_count": 30,
   "metadata": {
    "scrolled": true
   },
   "outputs": [
    {
     "data": {
      "text/plain": [
       "0"
      ]
     },
     "execution_count": 30,
     "metadata": {},
     "output_type": "execute_result"
    }
   ],
   "source": [
    "# проверка на наличие дубликатов в таблице\n",
    "df_users.duplicated().sum()"
   ]
  },
  {
   "cell_type": "markdown",
   "metadata": {},
   "source": [
    "Проверим, не записан ли один и тот же пользователь под разными id или разными тарифными планами. Для  этого найдем людей с совпадающей фамилией и именем"
   ]
  },
  {
   "cell_type": "code",
   "execution_count": 31,
   "metadata": {
    "scrolled": true
   },
   "outputs": [
    {
     "data": {
      "text/plain": [
       "0"
      ]
     },
     "execution_count": 31,
     "metadata": {},
     "output_type": "execute_result"
    }
   ],
   "source": [
    "# проверка на наличие дубликатов в двух столбцах\n",
    "df_users.loc[df_users.loc[:, ['last_name', 'first_name']].duplicated() == True]['user_id'].sum()"
   ]
  },
  {
   "cell_type": "markdown",
   "metadata": {},
   "source": [
    "Таких не оказалось."
   ]
  },
  {
   "cell_type": "markdown",
   "metadata": {},
   "source": [
    "Посмотрим на данные даты подключения."
   ]
  },
  {
   "cell_type": "code",
   "execution_count": 32,
   "metadata": {
    "scrolled": true
   },
   "outputs": [
    {
     "data": {
      "image/png": "[encoded data removed]",
      "text/plain": [
       "<Figure size 432x288 with 1 Axes>"
      ]
     },
     "metadata": {
      "needs_background": "light"
     },
     "output_type": "display_data"
    }
   ],
   "source": [
    "df_users['reg_date'].hist(bins=50)\n",
    "plt.show()"
   ]
  },
  {
   "cell_type": "code",
   "execution_count": 33,
   "metadata": {
    "scrolled": true
   },
   "outputs": [
    {
     "data": {
      "text/plain": [
       "count                     500\n",
       "unique                    270\n",
       "top       2018-05-28 00:00:00\n",
       "freq                        8\n",
       "first     2018-01-01 00:00:00\n",
       "last      2018-12-31 00:00:00\n",
       "Name: reg_date, dtype: object"
      ]
     },
     "execution_count": 33,
     "metadata": {},
     "output_type": "execute_result"
    }
   ],
   "source": [
    "df_users['reg_date'].describe()"
   ]
  },
  {
   "cell_type": "markdown",
   "metadata": {},
   "source": [
    "Все даты, как и заявлено, лежат в пределах года."
   ]
  },
  {
   "cell_type": "markdown",
   "metadata": {},
   "source": [
    "Посмотрим на число дней пользования тарифом, чтобы исключить вероятность того, что где-то перепутаны даты подключения и отключения."
   ]
  },
  {
   "cell_type": "markdown",
   "metadata": {},
   "source": [
    "Создадим столбец, показывающий число дней подключения."
   ]
  },
  {
   "cell_type": "code",
   "execution_count": 34,
   "metadata": {},
   "outputs": [],
   "source": [
    "df_users['days_of_use'] = df_users['churn_date'] - df_users['reg_date']"
   ]
  },
  {
   "cell_type": "code",
   "execution_count": 35,
   "metadata": {
    "scrolled": true
   },
   "outputs": [
    {
     "data": {
      "text/plain": [
       "count                          38\n",
       "mean     124 days 01:53:41.052631\n",
       "std       79 days 22:41:20.878357\n",
       "min               5 days 00:00:00\n",
       "25%              58 days 12:00:00\n",
       "50%             105 days 12:00:00\n",
       "75%             192 days 06:00:00\n",
       "max             284 days 00:00:00\n",
       "Name: days_of_use, dtype: object"
      ]
     },
     "execution_count": 35,
     "metadata": {},
     "output_type": "execute_result"
    }
   ],
   "source": [
    "df_users['days_of_use'].describe()"
   ]
  },
  {
   "cell_type": "markdown",
   "metadata": {},
   "source": [
    "Ничего подозрительно не обнаружено."
   ]
  },
  {
   "cell_type": "markdown",
   "metadata": {},
   "source": [
    "##### Звонки"
   ]
  },
  {
   "cell_type": "code",
   "execution_count": 36,
   "metadata": {
    "scrolled": false
   },
   "outputs": [
    {
     "data": {
      "text/html": [
       "<div>\n",
       "<style scoped>\n",
       "    .dataframe tbody tr th:only-of-type {\n",
       "        vertical-align: middle;\n",
       "    }\n",
       "\n",
       "    .dataframe tbody tr th {\n",
       "        vertical-align: top;\n",
       "    }\n",
       "\n",
       "    .dataframe thead th {\n",
       "        text-align: right;\n",
       "    }\n",
       "</style>\n",
       "<table border=\"1\" class=\"dataframe\">\n",
       "  <thead>\n",
       "    <tr style=\"text-align: right;\">\n",
       "      <th></th>\n",
       "      <th>call_id</th>\n",
       "      <th>call_date</th>\n",
       "      <th>duration</th>\n",
       "      <th>user_id</th>\n",
       "    </tr>\n",
       "  </thead>\n",
       "  <tbody>\n",
       "    <tr>\n",
       "      <td>0</td>\n",
       "      <td>1000_0</td>\n",
       "      <td>2018-07-25</td>\n",
       "      <td>0.00</td>\n",
       "      <td>1000</td>\n",
       "    </tr>\n",
       "    <tr>\n",
       "      <td>1</td>\n",
       "      <td>1000_1</td>\n",
       "      <td>2018-08-17</td>\n",
       "      <td>0.00</td>\n",
       "      <td>1000</td>\n",
       "    </tr>\n",
       "    <tr>\n",
       "      <td>2</td>\n",
       "      <td>1000_2</td>\n",
       "      <td>2018-06-11</td>\n",
       "      <td>2.85</td>\n",
       "      <td>1000</td>\n",
       "    </tr>\n",
       "  </tbody>\n",
       "</table>\n",
       "</div>"
      ],
      "text/plain": [
       "  call_id  call_date  duration  user_id\n",
       "0  1000_0 2018-07-25      0.00     1000\n",
       "1  1000_1 2018-08-17      0.00     1000\n",
       "2  1000_2 2018-06-11      2.85     1000"
      ]
     },
     "execution_count": 36,
     "metadata": {},
     "output_type": "execute_result"
    }
   ],
   "source": [
    "df_calls.head(3)"
   ]
  },
  {
   "cell_type": "markdown",
   "metadata": {},
   "source": [
    "Поскольку каждый отдельный звонок округляется в большую сторону, сделаем так для дальнейшего удобстова."
   ]
  },
  {
   "cell_type": "code",
   "execution_count": 37,
   "metadata": {},
   "outputs": [],
   "source": [
    "# округление в большую сторону\n",
    "df_calls['duration'] = df_calls['duration'].apply(np.ceil)"
   ]
  },
  {
   "cell_type": "markdown",
   "metadata": {},
   "source": [
    "Проверим, все ли id уникальны. Если число уникальных значений  равно числу строк, то это так."
   ]
  },
  {
   "cell_type": "code",
   "execution_count": 38,
   "metadata": {},
   "outputs": [
    {
     "data": {
      "text/plain": [
       "True"
      ]
     },
     "execution_count": 38,
     "metadata": {},
     "output_type": "execute_result"
    }
   ],
   "source": [
    "(df_calls['call_id'].nunique()) == len(df_calls)"
   ]
  },
  {
   "cell_type": "markdown",
   "metadata": {},
   "source": [
    "Посмотрим на продолжительность звонков."
   ]
  },
  {
   "cell_type": "code",
   "execution_count": 39,
   "metadata": {
    "scrolled": false
   },
   "outputs": [
    {
     "data": {
      "image/png": "[encoded data removed]",
      "text/plain": [
       "<Figure size 432x288 with 1 Axes>"
      ]
     },
     "metadata": {
      "needs_background": "light"
     },
     "output_type": "display_data"
    }
   ],
   "source": [
    "# гистограмма продолжительности звонков\n",
    "df_calls['duration'].hist(bins=40)\n",
    "plt.show()"
   ]
  },
  {
   "cell_type": "code",
   "execution_count": 40,
   "metadata": {
    "scrolled": true
   },
   "outputs": [
    {
     "data": {
      "text/plain": [
       "count    202607.000000\n",
       "mean          7.158198\n",
       "std           5.959173\n",
       "min           0.000000\n",
       "25%           2.000000\n",
       "50%           6.000000\n",
       "75%          11.000000\n",
       "max          38.000000\n",
       "Name: duration, dtype: float64"
      ]
     },
     "execution_count": 40,
     "metadata": {},
     "output_type": "execute_result"
    }
   ],
   "source": [
    "df_calls['duration'].describe()"
   ]
  },
  {
   "cell_type": "markdown",
   "metadata": {},
   "source": [
    "На гистограмме видно, что довольно много пропущенных звонков. В среднем разговор длится около 7 минут, бывают звонки продолжительностью и более получаса. В целом картина ожидаемая."
   ]
  },
  {
   "cell_type": "markdown",
   "metadata": {},
   "source": [
    "Посмотрим, все ли id пользователей есть в этой таблице."
   ]
  },
  {
   "cell_type": "code",
   "execution_count": 41,
   "metadata": {
    "scrolled": true
   },
   "outputs": [
    {
     "data": {
      "text/plain": [
       "492"
      ]
     },
     "execution_count": 41,
     "metadata": {},
     "output_type": "execute_result"
    }
   ],
   "source": [
    "# число уникальных значений\n",
    "df_calls['user_id'].nunique()"
   ]
  },
  {
   "cell_type": "markdown",
   "metadata": {},
   "source": [
    "Кто-то из пользователей (8 человек) не совершал звонки. Занесем их в отдельную таблицу"
   ]
  },
  {
   "cell_type": "code",
   "execution_count": 42,
   "metadata": {
    "scrolled": false
   },
   "outputs": [],
   "source": [
    "# срез данных:\n",
    "# значения в user_id из таблицы пользователей не встречается в df_calls\n",
    "no_calls = df_users.query('user_id not in @df_calls.user_id')"
   ]
  },
  {
   "cell_type": "markdown",
   "metadata": {},
   "source": [
    "Оценим даты звонков."
   ]
  },
  {
   "cell_type": "code",
   "execution_count": 43,
   "metadata": {
    "scrolled": false
   },
   "outputs": [
    {
     "data": {
      "text/plain": [
       "count                  202607\n",
       "unique                    365\n",
       "top       2018-12-31 00:00:00\n",
       "freq                     1435\n",
       "first     2018-01-01 00:00:00\n",
       "last      2018-12-31 00:00:00\n",
       "Name: call_date, dtype: object"
      ]
     },
     "execution_count": 43,
     "metadata": {},
     "output_type": "execute_result"
    }
   ],
   "source": [
    "df_calls['call_date'].describe()"
   ]
  },
  {
   "cell_type": "markdown",
   "metadata": {},
   "source": [
    "Тоже ничего подозрительного"
   ]
  },
  {
   "cell_type": "markdown",
   "metadata": {},
   "source": [
    "##### Сообщения"
   ]
  },
  {
   "cell_type": "code",
   "execution_count": 44,
   "metadata": {
    "scrolled": false
   },
   "outputs": [
    {
     "data": {
      "text/html": [
       "<div>\n",
       "<style scoped>\n",
       "    .dataframe tbody tr th:only-of-type {\n",
       "        vertical-align: middle;\n",
       "    }\n",
       "\n",
       "    .dataframe tbody tr th {\n",
       "        vertical-align: top;\n",
       "    }\n",
       "\n",
       "    .dataframe thead th {\n",
       "        text-align: right;\n",
       "    }\n",
       "</style>\n",
       "<table border=\"1\" class=\"dataframe\">\n",
       "  <thead>\n",
       "    <tr style=\"text-align: right;\">\n",
       "      <th></th>\n",
       "      <th>messages_id</th>\n",
       "      <th>message_date</th>\n",
       "      <th>user_id</th>\n",
       "    </tr>\n",
       "  </thead>\n",
       "  <tbody>\n",
       "    <tr>\n",
       "      <td>0</td>\n",
       "      <td>1000_0</td>\n",
       "      <td>2018-06-27</td>\n",
       "      <td>1000</td>\n",
       "    </tr>\n",
       "    <tr>\n",
       "      <td>1</td>\n",
       "      <td>1000_1</td>\n",
       "      <td>2018-10-08</td>\n",
       "      <td>1000</td>\n",
       "    </tr>\n",
       "    <tr>\n",
       "      <td>2</td>\n",
       "      <td>1000_2</td>\n",
       "      <td>2018-08-04</td>\n",
       "      <td>1000</td>\n",
       "    </tr>\n",
       "  </tbody>\n",
       "</table>\n",
       "</div>"
      ],
      "text/plain": [
       "  messages_id message_date  user_id\n",
       "0      1000_0   2018-06-27     1000\n",
       "1      1000_1   2018-10-08     1000\n",
       "2      1000_2   2018-08-04     1000"
      ]
     },
     "execution_count": 44,
     "metadata": {},
     "output_type": "execute_result"
    }
   ],
   "source": [
    "df_messages.head(3)"
   ]
  },
  {
   "cell_type": "markdown",
   "metadata": {},
   "source": [
    "Проверим, все ли id уникальны. Если число уникальных значений  равно числу строк, то это так."
   ]
  },
  {
   "cell_type": "code",
   "execution_count": 45,
   "metadata": {
    "scrolled": true
   },
   "outputs": [
    {
     "data": {
      "text/plain": [
       "True"
      ]
     },
     "execution_count": 45,
     "metadata": {},
     "output_type": "execute_result"
    }
   ],
   "source": [
    "(df_messages['messages_id'].nunique()) == len(df_messages)"
   ]
  },
  {
   "cell_type": "markdown",
   "metadata": {},
   "source": [
    "Посмотрим на id пользователей"
   ]
  },
  {
   "cell_type": "code",
   "execution_count": 46,
   "metadata": {},
   "outputs": [
    {
     "data": {
      "text/plain": [
       "426"
      ]
     },
     "execution_count": 46,
     "metadata": {},
     "output_type": "execute_result"
    }
   ],
   "source": [
    "# число уникальных значений\n",
    "df_messages['user_id'].nunique()"
   ]
  },
  {
   "cell_type": "markdown",
   "metadata": {},
   "source": [
    "74 человека не отправляли сообщения. Занесем их в отдельную таблицу"
   ]
  },
  {
   "cell_type": "code",
   "execution_count": 47,
   "metadata": {
    "scrolled": true
   },
   "outputs": [],
   "source": [
    "# срез данных:\n",
    "# user_id из таблицы пользователей не встречается в df_messages\n",
    "no_messages = df_users.query('user_id not in @df_messages.user_id')"
   ]
  },
  {
   "cell_type": "markdown",
   "metadata": {},
   "source": [
    "Посмотрим на общие данные о датах отправления сообщений."
   ]
  },
  {
   "cell_type": "code",
   "execution_count": 48,
   "metadata": {
    "scrolled": false
   },
   "outputs": [
    {
     "data": {
      "text/plain": [
       "count                  123036\n",
       "unique                    364\n",
       "top       2018-12-31 00:00:00\n",
       "freq                      859\n",
       "first     2018-01-02 00:00:00\n",
       "last      2018-12-31 00:00:00\n",
       "Name: message_date, dtype: object"
      ]
     },
     "execution_count": 48,
     "metadata": {},
     "output_type": "execute_result"
    }
   ],
   "source": [
    "df_messages['message_date'].describe()"
   ]
  },
  {
   "cell_type": "markdown",
   "metadata": {},
   "source": [
    "Все в порядке"
   ]
  },
  {
   "cell_type": "markdown",
   "metadata": {},
   "source": [
    "##### Интернет"
   ]
  },
  {
   "cell_type": "code",
   "execution_count": 49,
   "metadata": {
    "scrolled": true
   },
   "outputs": [
    {
     "data": {
      "text/html": [
       "<div>\n",
       "<style scoped>\n",
       "    .dataframe tbody tr th:only-of-type {\n",
       "        vertical-align: middle;\n",
       "    }\n",
       "\n",
       "    .dataframe tbody tr th {\n",
       "        vertical-align: top;\n",
       "    }\n",
       "\n",
       "    .dataframe thead th {\n",
       "        text-align: right;\n",
       "    }\n",
       "</style>\n",
       "<table border=\"1\" class=\"dataframe\">\n",
       "  <thead>\n",
       "    <tr style=\"text-align: right;\">\n",
       "      <th></th>\n",
       "      <th>session_id</th>\n",
       "      <th>mb_used</th>\n",
       "      <th>session_date</th>\n",
       "      <th>user_id</th>\n",
       "    </tr>\n",
       "  </thead>\n",
       "  <tbody>\n",
       "    <tr>\n",
       "      <td>0</td>\n",
       "      <td>1000_0</td>\n",
       "      <td>112.95</td>\n",
       "      <td>2018-11-25</td>\n",
       "      <td>1000</td>\n",
       "    </tr>\n",
       "    <tr>\n",
       "      <td>1</td>\n",
       "      <td>1000_1</td>\n",
       "      <td>1052.81</td>\n",
       "      <td>2018-09-07</td>\n",
       "      <td>1000</td>\n",
       "    </tr>\n",
       "    <tr>\n",
       "      <td>2</td>\n",
       "      <td>1000_2</td>\n",
       "      <td>1197.26</td>\n",
       "      <td>2018-06-25</td>\n",
       "      <td>1000</td>\n",
       "    </tr>\n",
       "  </tbody>\n",
       "</table>\n",
       "</div>"
      ],
      "text/plain": [
       "  session_id  mb_used session_date  user_id\n",
       "0     1000_0   112.95   2018-11-25     1000\n",
       "1     1000_1  1052.81   2018-09-07     1000\n",
       "2     1000_2  1197.26   2018-06-25     1000"
      ]
     },
     "execution_count": 49,
     "metadata": {},
     "output_type": "execute_result"
    }
   ],
   "source": [
    "df_internet.head(3)"
   ]
  },
  {
   "cell_type": "markdown",
   "metadata": {},
   "source": [
    "Проверим, все ли id уникальны. Если число уникальных значений  равно числу строк, то это так."
   ]
  },
  {
   "cell_type": "code",
   "execution_count": 50,
   "metadata": {},
   "outputs": [
    {
     "data": {
      "text/plain": [
       "True"
      ]
     },
     "execution_count": 50,
     "metadata": {},
     "output_type": "execute_result"
    }
   ],
   "source": [
    "(df_internet['session_id'].nunique()) == len(df_internet)"
   ]
  },
  {
   "cell_type": "markdown",
   "metadata": {},
   "source": [
    "Проверим столбец, содержащий данные об израсходованным мегабайтах интернерта."
   ]
  },
  {
   "cell_type": "code",
   "execution_count": 51,
   "metadata": {},
   "outputs": [
    {
     "data": {
      "image/png": "[encoded data removed]",
      "text/plain": [
       "<Figure size 432x288 with 1 Axes>"
      ]
     },
     "metadata": {
      "needs_background": "light"
     },
     "output_type": "display_data"
    }
   ],
   "source": [
    "# гистограмма\n",
    "df_internet['mb_used'].hist(bins=50)\n",
    "plt.show()"
   ]
  },
  {
   "cell_type": "markdown",
   "metadata": {},
   "source": [
    "Прежде всего найдем долю пользовтелей, для которых была зарегистированна интернет-сессия, но не было потрачено мб. "
   ]
  },
  {
   "cell_type": "code",
   "execution_count": 52,
   "metadata": {},
   "outputs": [
    {
     "data": {
      "text/plain": [
       "13.118155773916303"
      ]
     },
     "execution_count": 52,
     "metadata": {},
     "output_type": "execute_result"
    }
   ],
   "source": [
    "df_internet[df_internet['mb_used'] == 0]['user_id'].count() / len(df_internet) * 100"
   ]
  },
  {
   "cell_type": "markdown",
   "metadata": {},
   "source": [
    "Таких строк 13% от всех интернет-сессий."
   ]
  },
  {
   "cell_type": "markdown",
   "metadata": {},
   "source": [
    "В отличие от звонков с нулевой продолжительностью, означающих пропущенные вызовы, сессия, при которой потрачено 0 мб, кажется подозрительной. Возможно пользователь мгновенно подключился и отключился, например, ошибившись книпкой."
   ]
  },
  {
   "cell_type": "markdown",
   "metadata": {},
   "source": [
    "Сохраним только те строки, где было потрачено хоть сколько-то мб."
   ]
  },
  {
   "cell_type": "code",
   "execution_count": 53,
   "metadata": {},
   "outputs": [],
   "source": [
    "df_internet = df_internet.query('mb_used != 0')"
   ]
  },
  {
   "cell_type": "code",
   "execution_count": 54,
   "metadata": {
    "scrolled": true
   },
   "outputs": [
    {
     "data": {
      "image/png": "[encoded data removed]",
      "text/plain": [
       "<Figure size 432x288 with 1 Axes>"
      ]
     },
     "metadata": {
      "needs_background": "light"
     },
     "output_type": "display_data"
    }
   ],
   "source": [
    "# гистограмма\n",
    "df_internet['mb_used'].hist(bins=50)\n",
    "plt.show()"
   ]
  },
  {
   "cell_type": "code",
   "execution_count": 55,
   "metadata": {
    "scrolled": true
   },
   "outputs": [
    {
     "data": {
      "text/plain": [
       "count    129798.000000\n",
       "mean        426.087210\n",
       "std         255.596447\n",
       "min           0.030000\n",
       "25%         227.460000\n",
       "50%         400.540000\n",
       "75%         592.947500\n",
       "max        1724.830000\n",
       "Name: mb_used, dtype: float64"
      ]
     },
     "execution_count": 55,
     "metadata": {},
     "output_type": "execute_result"
    }
   ],
   "source": [
    "df_internet['mb_used'].describe()"
   ]
  },
  {
   "cell_type": "markdown",
   "metadata": {},
   "source": [
    "Посмотрим на даты сесссий."
   ]
  },
  {
   "cell_type": "code",
   "execution_count": 56,
   "metadata": {
    "scrolled": false
   },
   "outputs": [
    {
     "data": {
      "text/plain": [
       "count                  129798\n",
       "unique                    365\n",
       "top       2018-12-31 00:00:00\n",
       "freq                      916\n",
       "first     2018-01-01 00:00:00\n",
       "last      2018-12-31 00:00:00\n",
       "Name: session_date, dtype: object"
      ]
     },
     "execution_count": 56,
     "metadata": {},
     "output_type": "execute_result"
    }
   ],
   "source": [
    "df_internet['session_date'].describe()"
   ]
  },
  {
   "cell_type": "markdown",
   "metadata": {},
   "source": [
    "С датами все нормально."
   ]
  },
  {
   "cell_type": "markdown",
   "metadata": {},
   "source": [
    "Проверим, все ли пользователи соотвествуют тем, которые указаны в таблице пользователей."
   ]
  },
  {
   "cell_type": "markdown",
   "metadata": {},
   "source": [
    "Проверим, были ли клиенты, не использовавшие интернет."
   ]
  },
  {
   "cell_type": "code",
   "execution_count": 57,
   "metadata": {},
   "outputs": [
    {
     "data": {
      "text/plain": [
       "497"
      ]
     },
     "execution_count": 57,
     "metadata": {},
     "output_type": "execute_result"
    }
   ],
   "source": [
    "# число уникальных значений\n",
    "df_internet['user_id'].nunique()"
   ]
  },
  {
   "cell_type": "markdown",
   "metadata": {},
   "source": [
    "Таких нашлось трое клиентов."
   ]
  },
  {
   "cell_type": "code",
   "execution_count": 58,
   "metadata": {
    "scrolled": true
   },
   "outputs": [
    {
     "data": {
      "text/html": [
       "<div>\n",
       "<style scoped>\n",
       "    .dataframe tbody tr th:only-of-type {\n",
       "        vertical-align: middle;\n",
       "    }\n",
       "\n",
       "    .dataframe tbody tr th {\n",
       "        vertical-align: top;\n",
       "    }\n",
       "\n",
       "    .dataframe thead th {\n",
       "        text-align: right;\n",
       "    }\n",
       "</style>\n",
       "<table border=\"1\" class=\"dataframe\">\n",
       "  <thead>\n",
       "    <tr style=\"text-align: right;\">\n",
       "      <th></th>\n",
       "      <th>user_id</th>\n",
       "      <th>age</th>\n",
       "      <th>churn_date</th>\n",
       "      <th>city</th>\n",
       "      <th>first_name</th>\n",
       "      <th>last_name</th>\n",
       "      <th>reg_date</th>\n",
       "      <th>tariff</th>\n",
       "      <th>days_of_use</th>\n",
       "    </tr>\n",
       "  </thead>\n",
       "  <tbody>\n",
       "    <tr>\n",
       "      <td>128</td>\n",
       "      <td>1128</td>\n",
       "      <td>51</td>\n",
       "      <td>2018-12-23</td>\n",
       "      <td>Волжский</td>\n",
       "      <td>Ксения</td>\n",
       "      <td>Агаева</td>\n",
       "      <td>2018-12-15</td>\n",
       "      <td>ultra</td>\n",
       "      <td>8 days</td>\n",
       "    </tr>\n",
       "    <tr>\n",
       "      <td>273</td>\n",
       "      <td>1273</td>\n",
       "      <td>46</td>\n",
       "      <td>NaT</td>\n",
       "      <td>Курган</td>\n",
       "      <td>Рэм</td>\n",
       "      <td>Корнилов</td>\n",
       "      <td>2018-05-15</td>\n",
       "      <td>ultra</td>\n",
       "      <td>NaT</td>\n",
       "    </tr>\n",
       "    <tr>\n",
       "      <td>371</td>\n",
       "      <td>1371</td>\n",
       "      <td>50</td>\n",
       "      <td>2018-12-30</td>\n",
       "      <td>Омск</td>\n",
       "      <td>Ириней</td>\n",
       "      <td>Трофимов</td>\n",
       "      <td>2018-12-25</td>\n",
       "      <td>smart</td>\n",
       "      <td>5 days</td>\n",
       "    </tr>\n",
       "  </tbody>\n",
       "</table>\n",
       "</div>"
      ],
      "text/plain": [
       "     user_id  age churn_date      city first_name last_name   reg_date tariff  \\\n",
       "128     1128   51 2018-12-23  Волжский     Ксения    Агаева 2018-12-15  ultra   \n",
       "273     1273   46        NaT    Курган        Рэм  Корнилов 2018-05-15  ultra   \n",
       "371     1371   50 2018-12-30      Омск     Ириней  Трофимов 2018-12-25  smart   \n",
       "\n",
       "    days_of_use  \n",
       "128      8 days  \n",
       "273         NaT  \n",
       "371      5 days  "
      ]
     },
     "execution_count": 58,
     "metadata": {},
     "output_type": "execute_result"
    }
   ],
   "source": [
    "# срез данных:\n",
    "# значения в user_id из таблицы пользователей не встречается в df_internet\n",
    "no_internet = df_users.query('user_id not in @df_internet.user_id')\n",
    "no_internet"
   ]
  },
  {
   "cell_type": "markdown",
   "metadata": {},
   "source": [
    "Таких пользователей трое. "
   ]
  },
  {
   "cell_type": "markdown",
   "metadata": {},
   "source": [
    "Найдем пользователей, которые не пользовались никакими услугами и сохраним в отдельной таблице."
   ]
  },
  {
   "cell_type": "code",
   "execution_count": 59,
   "metadata": {},
   "outputs": [
    {
     "data": {
      "text/html": [
       "<div>\n",
       "<style scoped>\n",
       "    .dataframe tbody tr th:only-of-type {\n",
       "        vertical-align: middle;\n",
       "    }\n",
       "\n",
       "    .dataframe tbody tr th {\n",
       "        vertical-align: top;\n",
       "    }\n",
       "\n",
       "    .dataframe thead th {\n",
       "        text-align: right;\n",
       "    }\n",
       "</style>\n",
       "<table border=\"1\" class=\"dataframe\">\n",
       "  <thead>\n",
       "    <tr style=\"text-align: right;\">\n",
       "      <th></th>\n",
       "      <th>user_id</th>\n",
       "      <th>age</th>\n",
       "      <th>churn_date</th>\n",
       "      <th>city</th>\n",
       "      <th>first_name</th>\n",
       "      <th>last_name</th>\n",
       "      <th>reg_date</th>\n",
       "      <th>tariff</th>\n",
       "      <th>days_of_use</th>\n",
       "    </tr>\n",
       "  </thead>\n",
       "  <tbody>\n",
       "    <tr>\n",
       "      <td>0</td>\n",
       "      <td>1128</td>\n",
       "      <td>51</td>\n",
       "      <td>2018-12-23</td>\n",
       "      <td>Волжский</td>\n",
       "      <td>Ксения</td>\n",
       "      <td>Агаева</td>\n",
       "      <td>2018-12-15</td>\n",
       "      <td>ultra</td>\n",
       "      <td>8 days</td>\n",
       "    </tr>\n",
       "    <tr>\n",
       "      <td>1</td>\n",
       "      <td>1371</td>\n",
       "      <td>50</td>\n",
       "      <td>2018-12-30</td>\n",
       "      <td>Омск</td>\n",
       "      <td>Ириней</td>\n",
       "      <td>Трофимов</td>\n",
       "      <td>2018-12-25</td>\n",
       "      <td>smart</td>\n",
       "      <td>5 days</td>\n",
       "    </tr>\n",
       "  </tbody>\n",
       "</table>\n",
       "</div>"
      ],
      "text/plain": [
       "   user_id  age churn_date      city first_name last_name   reg_date tariff  \\\n",
       "0     1128   51 2018-12-23  Волжский     Ксения    Агаева 2018-12-15  ultra   \n",
       "1     1371   50 2018-12-30      Омск     Ириней  Трофимов 2018-12-25  smart   \n",
       "\n",
       "  days_of_use  \n",
       "0      8 days  \n",
       "1      5 days  "
      ]
     },
     "execution_count": 59,
     "metadata": {},
     "output_type": "execute_result"
    }
   ],
   "source": [
    "# объединяя таблицы по принципу пересечения, найходим тех пользователей, \n",
    "# кто встречается во всех трех таблицах\n",
    "not_users = no_internet.merge(no_calls, how='inner').merge(no_messages, how='inner')\n",
    "not_users"
   ]
  },
  {
   "cell_type": "markdown",
   "metadata": {},
   "source": [
    "Итак, нашлось два пользователя, которые не пользовались услугами оператора. Они имеют разные тарифные планы и были подключены менее 10 дней."
   ]
  },
  {
   "cell_type": "markdown",
   "metadata": {},
   "source": [
    "##### Тарифы"
   ]
  },
  {
   "cell_type": "code",
   "execution_count": 60,
   "metadata": {
    "scrolled": false
   },
   "outputs": [
    {
     "data": {
      "text/html": [
       "<div>\n",
       "<style scoped>\n",
       "    .dataframe tbody tr th:only-of-type {\n",
       "        vertical-align: middle;\n",
       "    }\n",
       "\n",
       "    .dataframe tbody tr th {\n",
       "        vertical-align: top;\n",
       "    }\n",
       "\n",
       "    .dataframe thead th {\n",
       "        text-align: right;\n",
       "    }\n",
       "</style>\n",
       "<table border=\"1\" class=\"dataframe\">\n",
       "  <thead>\n",
       "    <tr style=\"text-align: right;\">\n",
       "      <th></th>\n",
       "      <th>messages_included</th>\n",
       "      <th>mb_per_month_included</th>\n",
       "      <th>minutes_included</th>\n",
       "      <th>rub_monthly_fee</th>\n",
       "      <th>rub_per_gb</th>\n",
       "      <th>rub_per_message</th>\n",
       "      <th>rub_per_minute</th>\n",
       "      <th>tariff_name</th>\n",
       "    </tr>\n",
       "  </thead>\n",
       "  <tbody>\n",
       "    <tr>\n",
       "      <td>0</td>\n",
       "      <td>50</td>\n",
       "      <td>15360</td>\n",
       "      <td>500</td>\n",
       "      <td>550</td>\n",
       "      <td>200</td>\n",
       "      <td>3</td>\n",
       "      <td>3</td>\n",
       "      <td>smart</td>\n",
       "    </tr>\n",
       "    <tr>\n",
       "      <td>1</td>\n",
       "      <td>1000</td>\n",
       "      <td>30720</td>\n",
       "      <td>3000</td>\n",
       "      <td>1950</td>\n",
       "      <td>150</td>\n",
       "      <td>1</td>\n",
       "      <td>1</td>\n",
       "      <td>ultra</td>\n",
       "    </tr>\n",
       "  </tbody>\n",
       "</table>\n",
       "</div>"
      ],
      "text/plain": [
       "   messages_included  mb_per_month_included  minutes_included  \\\n",
       "0                 50                  15360               500   \n",
       "1               1000                  30720              3000   \n",
       "\n",
       "   rub_monthly_fee  rub_per_gb  rub_per_message  rub_per_minute tariff_name  \n",
       "0              550         200                3               3       smart  \n",
       "1             1950         150                1               1       ultra  "
      ]
     },
     "execution_count": 60,
     "metadata": {},
     "output_type": "execute_result"
    }
   ],
   "source": [
    "df_tariffs"
   ]
  },
  {
   "cell_type": "markdown",
   "metadata": {},
   "source": [
    "Прежде всего переведем мб в Гб для удобства дальнейшего анализа."
   ]
  },
  {
   "cell_type": "code",
   "execution_count": 61,
   "metadata": {},
   "outputs": [],
   "source": [
    "df_tariffs['mb_per_month_included'] = df_tariffs['mb_per_month_included'] / 1024"
   ]
  },
  {
   "cell_type": "markdown",
   "metadata": {},
   "source": [
    "Переименуем столбец, указав в названии новую размерность"
   ]
  },
  {
   "cell_type": "code",
   "execution_count": 62,
   "metadata": {
    "scrolled": false
   },
   "outputs": [
    {
     "data": {
      "text/html": [
       "<div>\n",
       "<style scoped>\n",
       "    .dataframe tbody tr th:only-of-type {\n",
       "        vertical-align: middle;\n",
       "    }\n",
       "\n",
       "    .dataframe tbody tr th {\n",
       "        vertical-align: top;\n",
       "    }\n",
       "\n",
       "    .dataframe thead th {\n",
       "        text-align: right;\n",
       "    }\n",
       "</style>\n",
       "<table border=\"1\" class=\"dataframe\">\n",
       "  <thead>\n",
       "    <tr style=\"text-align: right;\">\n",
       "      <th></th>\n",
       "      <th>messages_included</th>\n",
       "      <th>gb_per_month_included</th>\n",
       "      <th>minutes_included</th>\n",
       "      <th>rub_monthly_fee</th>\n",
       "      <th>rub_per_gb</th>\n",
       "      <th>rub_per_message</th>\n",
       "      <th>rub_per_minute</th>\n",
       "      <th>tariff_name</th>\n",
       "    </tr>\n",
       "  </thead>\n",
       "  <tbody>\n",
       "    <tr>\n",
       "      <td>0</td>\n",
       "      <td>50</td>\n",
       "      <td>15.0</td>\n",
       "      <td>500</td>\n",
       "      <td>550</td>\n",
       "      <td>200</td>\n",
       "      <td>3</td>\n",
       "      <td>3</td>\n",
       "      <td>smart</td>\n",
       "    </tr>\n",
       "    <tr>\n",
       "      <td>1</td>\n",
       "      <td>1000</td>\n",
       "      <td>30.0</td>\n",
       "      <td>3000</td>\n",
       "      <td>1950</td>\n",
       "      <td>150</td>\n",
       "      <td>1</td>\n",
       "      <td>1</td>\n",
       "      <td>ultra</td>\n",
       "    </tr>\n",
       "  </tbody>\n",
       "</table>\n",
       "</div>"
      ],
      "text/plain": [
       "   messages_included  gb_per_month_included  minutes_included  \\\n",
       "0                 50                   15.0               500   \n",
       "1               1000                   30.0              3000   \n",
       "\n",
       "   rub_monthly_fee  rub_per_gb  rub_per_message  rub_per_minute tariff_name  \n",
       "0              550         200                3               3       smart  \n",
       "1             1950         150                1               1       ultra  "
      ]
     },
     "execution_count": 62,
     "metadata": {},
     "output_type": "execute_result"
    }
   ],
   "source": [
    "# переименовение столбца методом rename\n",
    "df_tariffs = df_tariffs.rename(columns = {'mb_per_month_included' : 'gb_per_month_included'})\n",
    "df_tariffs"
   ]
  },
  {
   "cell_type": "markdown",
   "metadata": {},
   "source": [
    "Переименуем столбец `tariff_name`, чтобы название совпадало с названием столбца `tariff` из таблицы `df_users`, поскольку эти два столбца отображают одинаковую информацию."
   ]
  },
  {
   "cell_type": "code",
   "execution_count": 63,
   "metadata": {
    "scrolled": false
   },
   "outputs": [],
   "source": [
    "# переименовение столбца методом rename\n",
    "df_tariffs = df_tariffs.rename(columns = {'tariff_name' : 'tariff'})"
   ]
  },
  {
   "cell_type": "markdown",
   "metadata": {},
   "source": [
    "**Выводы**"
   ]
  },
  {
   "cell_type": "markdown",
   "metadata": {},
   "source": [
    "Проведена предобработка данных:\n",
    "1. Были измененеы типы данных в стобцах, относящихся к датам на соответсвующих тип datetime\n",
    "2. Найдены двое пользователей, не пользовавшиеся услигами оператора.\n",
    "3. Переименовны некоторые столбцы в таблице с тарифами.\n",
    "4. Мб в таблице с тарифами преведены в Гб для дальнейшего удобства.\n",
    "5. Найдены некоторые интернет-сессии с нулевым расходом трафика.\n",
    "6. В таблице со звонками минуты округлены до целых значений (округление вверх)"
   ]
  },
  {
   "cell_type": "markdown",
   "metadata": {},
   "source": [
    "### Подготовка пользовательских данных"
   ]
  },
  {
   "cell_type": "markdown",
   "metadata": {},
   "source": [
    "Для дальнейшей работы по анализу поведения клиентов рассчитаем некоторый парматры для каждого пользователя и соберем данные в одну таблицу."
   ]
  },
  {
   "cell_type": "markdown",
   "metadata": {},
   "source": [
    "Для расчета показателей по месяцам прежде всего выделим в каждой из трех таблиц месяц, когда было зарегистрировано то или иное действие клиента. Сохраним в столебец `month`. Он назван для всех таблиц одинаково для того, чтоб в дальнейшем было проще объединять таблицы."
   ]
  },
  {
   "cell_type": "code",
   "execution_count": 64,
   "metadata": {},
   "outputs": [],
   "source": [
    "# получение месяца\n",
    "df_calls['month'] = df_calls['call_date'].dt.month\n",
    "df_messages['month'] = df_messages['message_date'].dt.month\n",
    "df_internet['month'] = df_internet['session_date'].dt.month"
   ]
  },
  {
   "cell_type": "markdown",
   "metadata": {},
   "source": [
    "При объединении таблиц может возникнуть ситеация, что некоторые месяцы пользования потеряются из-за того, что некоторые пользователи в этот месяц не совершили каких-либо действий. Например, если мы будем присоединять к таблице со звонками другую, мы рискуем потерять тех трех пользователей (`no_calls`), которые не совершали звоноков. Чтобы  этого не произошло, создадим датафрем, где для каждого пользователя будет каждый месяц, когда он пользовался услугами оператора."
   ]
  },
  {
   "cell_type": "markdown",
   "metadata": {},
   "source": [
    "Найдем первый месяц подключения тарифа оператора."
   ]
  },
  {
   "cell_type": "code",
   "execution_count": 65,
   "metadata": {},
   "outputs": [],
   "source": [
    "df_users['first_month'] = df_users['reg_date'].dt.month"
   ]
  },
  {
   "cell_type": "markdown",
   "metadata": {},
   "source": [
    "Посчитаем количество месяцев, которое пользователь пользовался услугами опертора"
   ]
  },
  {
   "cell_type": "code",
   "execution_count": 66,
   "metadata": {},
   "outputs": [],
   "source": [
    "# пользователи, отключившие тариф в течении года\n",
    "df_users['month_of_use'] = df_users['churn_date'].dt.month - df_users['reg_date'].dt.month + 1"
   ]
  },
  {
   "cell_type": "code",
   "execution_count": 67,
   "metadata": {},
   "outputs": [],
   "source": [
    "# пользователи, пользовавшиеся до конца года\n",
    "df_users['month_of_use'] = df_users['month_of_use'].fillna(13 - df_users['reg_date'].dt.month)"
   ]
  },
  {
   "cell_type": "code",
   "execution_count": 68,
   "metadata": {
    "scrolled": true
   },
   "outputs": [
    {
     "data": {
      "text/html": [
       "<div>\n",
       "<style scoped>\n",
       "    .dataframe tbody tr th:only-of-type {\n",
       "        vertical-align: middle;\n",
       "    }\n",
       "\n",
       "    .dataframe tbody tr th {\n",
       "        vertical-align: top;\n",
       "    }\n",
       "\n",
       "    .dataframe thead th {\n",
       "        text-align: right;\n",
       "    }\n",
       "</style>\n",
       "<table border=\"1\" class=\"dataframe\">\n",
       "  <thead>\n",
       "    <tr style=\"text-align: right;\">\n",
       "      <th></th>\n",
       "      <th>user_id</th>\n",
       "      <th>age</th>\n",
       "      <th>churn_date</th>\n",
       "      <th>city</th>\n",
       "      <th>first_name</th>\n",
       "      <th>last_name</th>\n",
       "      <th>reg_date</th>\n",
       "      <th>tariff</th>\n",
       "      <th>days_of_use</th>\n",
       "      <th>first_month</th>\n",
       "      <th>month_of_use</th>\n",
       "    </tr>\n",
       "  </thead>\n",
       "  <tbody>\n",
       "    <tr>\n",
       "      <td>0</td>\n",
       "      <td>1000</td>\n",
       "      <td>52</td>\n",
       "      <td>NaT</td>\n",
       "      <td>Краснодар</td>\n",
       "      <td>Рафаил</td>\n",
       "      <td>Верещагин</td>\n",
       "      <td>2018-05-25</td>\n",
       "      <td>ultra</td>\n",
       "      <td>NaT</td>\n",
       "      <td>5</td>\n",
       "      <td>8</td>\n",
       "    </tr>\n",
       "    <tr>\n",
       "      <td>1</td>\n",
       "      <td>1001</td>\n",
       "      <td>41</td>\n",
       "      <td>NaT</td>\n",
       "      <td>Москва</td>\n",
       "      <td>Иван</td>\n",
       "      <td>Ежов</td>\n",
       "      <td>2018-11-01</td>\n",
       "      <td>smart</td>\n",
       "      <td>NaT</td>\n",
       "      <td>11</td>\n",
       "      <td>2</td>\n",
       "    </tr>\n",
       "    <tr>\n",
       "      <td>2</td>\n",
       "      <td>1002</td>\n",
       "      <td>59</td>\n",
       "      <td>NaT</td>\n",
       "      <td>Стерлитамак</td>\n",
       "      <td>Евгений</td>\n",
       "      <td>Абрамович</td>\n",
       "      <td>2018-06-17</td>\n",
       "      <td>smart</td>\n",
       "      <td>NaT</td>\n",
       "      <td>6</td>\n",
       "      <td>7</td>\n",
       "    </tr>\n",
       "    <tr>\n",
       "      <td>3</td>\n",
       "      <td>1003</td>\n",
       "      <td>23</td>\n",
       "      <td>NaT</td>\n",
       "      <td>Москва</td>\n",
       "      <td>Белла</td>\n",
       "      <td>Белякова</td>\n",
       "      <td>2018-08-17</td>\n",
       "      <td>ultra</td>\n",
       "      <td>NaT</td>\n",
       "      <td>8</td>\n",
       "      <td>5</td>\n",
       "    </tr>\n",
       "    <tr>\n",
       "      <td>4</td>\n",
       "      <td>1004</td>\n",
       "      <td>68</td>\n",
       "      <td>NaT</td>\n",
       "      <td>Новокузнецк</td>\n",
       "      <td>Татьяна</td>\n",
       "      <td>Авдеенко</td>\n",
       "      <td>2018-05-14</td>\n",
       "      <td>ultra</td>\n",
       "      <td>NaT</td>\n",
       "      <td>5</td>\n",
       "      <td>8</td>\n",
       "    </tr>\n",
       "  </tbody>\n",
       "</table>\n",
       "</div>"
      ],
      "text/plain": [
       "   user_id  age churn_date         city first_name  last_name   reg_date  \\\n",
       "0     1000   52        NaT    Краснодар     Рафаил  Верещагин 2018-05-25   \n",
       "1     1001   41        NaT       Москва       Иван       Ежов 2018-11-01   \n",
       "2     1002   59        NaT  Стерлитамак    Евгений  Абрамович 2018-06-17   \n",
       "3     1003   23        NaT       Москва      Белла   Белякова 2018-08-17   \n",
       "4     1004   68        NaT  Новокузнецк    Татьяна   Авдеенко 2018-05-14   \n",
       "\n",
       "  tariff days_of_use  first_month  month_of_use  \n",
       "0  ultra         NaT            5             8  \n",
       "1  smart         NaT           11             2  \n",
       "2  smart         NaT            6             7  \n",
       "3  ultra         NaT            8             5  \n",
       "4  ultra         NaT            5             8  "
      ]
     },
     "execution_count": 68,
     "metadata": {},
     "output_type": "execute_result"
    }
   ],
   "source": [
    "df_users['month_of_use'] = df_users['month_of_use'].astype('int')\n",
    "df_users.head()"
   ]
  },
  {
   "cell_type": "markdown",
   "metadata": {},
   "source": [
    "Создадим пустой датафрем с двумя столбцами: `user_id` и `month`. К нему в дальнейшем будут  присоединены остальные таблицы."
   ]
  },
  {
   "cell_type": "code",
   "execution_count": 69,
   "metadata": {},
   "outputs": [],
   "source": [
    "df = pd.DataFrame({'user_id': [], 'month': []})"
   ]
  },
  {
   "cell_type": "markdown",
   "metadata": {},
   "source": [
    "Создадим функцию, которая заполнит пустой датафрейм с помощью данных из таблицы `df_users`. "
   ]
  },
  {
   "cell_type": "code",
   "execution_count": 70,
   "metadata": {
    "scrolled": false
   },
   "outputs": [],
   "source": [
    "def new_df(row):\n",
    "    \"\"\"\n",
    "    Функция добавляет по новой строке в таблицу df.\n",
    "    В стороке имеется user_id и номер месяца.\n",
    "    На каждого пользователя столько строк, \n",
    "    сколько месяцев он пользовался услугами\n",
    "    \"\"\"\n",
    "    first_month = row['first_month']\n",
    "    month_of_use = row['month_of_use']\n",
    "    last_month = first_month + month_of_use\n",
    "    for i in range(first_month, last_month):\n",
    "        df.loc[len(df.index)] = [row['user_id'], i]\n",
    "        "
   ]
  },
  {
   "cell_type": "markdown",
   "metadata": {},
   "source": [
    "При заполнении пустого датафрейма не будем учитывать тех двух пользователей, которые не пользовались услугами опретора."
   ]
  },
  {
   "cell_type": "code",
   "execution_count": 71,
   "metadata": {
    "scrolled": false
   },
   "outputs": [
    {
     "data": {
      "text/html": [
       "<div>\n",
       "<style scoped>\n",
       "    .dataframe tbody tr th:only-of-type {\n",
       "        vertical-align: middle;\n",
       "    }\n",
       "\n",
       "    .dataframe tbody tr th {\n",
       "        vertical-align: top;\n",
       "    }\n",
       "\n",
       "    .dataframe thead th {\n",
       "        text-align: right;\n",
       "    }\n",
       "</style>\n",
       "<table border=\"1\" class=\"dataframe\">\n",
       "  <thead>\n",
       "    <tr style=\"text-align: right;\">\n",
       "      <th></th>\n",
       "      <th>user_id</th>\n",
       "      <th>month</th>\n",
       "    </tr>\n",
       "  </thead>\n",
       "  <tbody>\n",
       "    <tr>\n",
       "      <td>0</td>\n",
       "      <td>1000.0</td>\n",
       "      <td>5.0</td>\n",
       "    </tr>\n",
       "    <tr>\n",
       "      <td>1</td>\n",
       "      <td>1000.0</td>\n",
       "      <td>6.0</td>\n",
       "    </tr>\n",
       "    <tr>\n",
       "      <td>2</td>\n",
       "      <td>1000.0</td>\n",
       "      <td>7.0</td>\n",
       "    </tr>\n",
       "    <tr>\n",
       "      <td>3</td>\n",
       "      <td>1000.0</td>\n",
       "      <td>8.0</td>\n",
       "    </tr>\n",
       "    <tr>\n",
       "      <td>4</td>\n",
       "      <td>1000.0</td>\n",
       "      <td>9.0</td>\n",
       "    </tr>\n",
       "  </tbody>\n",
       "</table>\n",
       "</div>"
      ],
      "text/plain": [
       "   user_id  month\n",
       "0   1000.0    5.0\n",
       "1   1000.0    6.0\n",
       "2   1000.0    7.0\n",
       "3   1000.0    8.0\n",
       "4   1000.0    9.0"
      ]
     },
     "execution_count": 71,
     "metadata": {},
     "output_type": "execute_result"
    }
   ],
   "source": [
    "df_users.query('user_id not in @not_users.user_id').apply(new_df, axis=1)\n",
    "# визуальная проверка\n",
    "df.head()"
   ]
  },
  {
   "cell_type": "markdown",
   "metadata": {},
   "source": [
    "Далее будем расчитывать показатели на каждого пользователя."
   ]
  },
  {
   "cell_type": "markdown",
   "metadata": {},
   "source": [
    "Посчитаем, количество сделанных звонков и израсходованных минут разговора по месяцам."
   ]
  },
  {
   "cell_type": "code",
   "execution_count": 144,
   "metadata": {
    "scrolled": true
   },
   "outputs": [
    {
     "data": {
      "text/html": [
       "<div>\n",
       "<style scoped>\n",
       "    .dataframe tbody tr th:only-of-type {\n",
       "        vertical-align: middle;\n",
       "    }\n",
       "\n",
       "    .dataframe tbody tr th {\n",
       "        vertical-align: top;\n",
       "    }\n",
       "\n",
       "    .dataframe thead th {\n",
       "        text-align: right;\n",
       "    }\n",
       "</style>\n",
       "<table border=\"1\" class=\"dataframe\">\n",
       "  <thead>\n",
       "    <tr style=\"text-align: right;\">\n",
       "      <th></th>\n",
       "      <th>user_id</th>\n",
       "      <th>month</th>\n",
       "      <th>calls_count</th>\n",
       "      <th>minutes</th>\n",
       "    </tr>\n",
       "  </thead>\n",
       "  <tbody>\n",
       "    <tr>\n",
       "      <td>0</td>\n",
       "      <td>1000</td>\n",
       "      <td>5</td>\n",
       "      <td>22</td>\n",
       "      <td>159.0</td>\n",
       "    </tr>\n",
       "    <tr>\n",
       "      <td>1</td>\n",
       "      <td>1000</td>\n",
       "      <td>6</td>\n",
       "      <td>43</td>\n",
       "      <td>172.0</td>\n",
       "    </tr>\n",
       "    <tr>\n",
       "      <td>2</td>\n",
       "      <td>1000</td>\n",
       "      <td>7</td>\n",
       "      <td>47</td>\n",
       "      <td>340.0</td>\n",
       "    </tr>\n",
       "  </tbody>\n",
       "</table>\n",
       "</div>"
      ],
      "text/plain": [
       "   user_id  month  calls_count  minutes\n",
       "0     1000      5           22    159.0\n",
       "1     1000      6           43    172.0\n",
       "2     1000      7           47    340.0"
      ]
     },
     "execution_count": 144,
     "metadata": {},
     "output_type": "execute_result"
    }
   ],
   "source": [
    "# формирование таблицы\n",
    "df0 = df_calls.groupby(['user_id', 'month']).agg(calls_count=('duration', 'count'), minutes =('duration', 'sum')).reset_index()\n",
    "# получение первых строк\n",
    "df0.head(3)"
   ]
  },
  {
   "cell_type": "markdown",
   "metadata": {},
   "source": [
    "Присоединяем таблицу с полученными значениями в общий датасет."
   ]
  },
  {
   "cell_type": "code",
   "execution_count": 73,
   "metadata": {
    "scrolled": true
   },
   "outputs": [],
   "source": [
    "# присоединение таблицы по столбцам user_id и month\n",
    "df = df.merge(df0, how='left', on=['user_id', 'month'])"
   ]
  },
  {
   "cell_type": "markdown",
   "metadata": {},
   "source": [
    "Посчитаем количество отправленных сообщений по месяцам и присоединим к общему датасету"
   ]
  },
  {
   "cell_type": "code",
   "execution_count": 146,
   "metadata": {
    "scrolled": true
   },
   "outputs": [
    {
     "data": {
      "text/html": [
       "<div>\n",
       "<style scoped>\n",
       "    .dataframe tbody tr th:only-of-type {\n",
       "        vertical-align: middle;\n",
       "    }\n",
       "\n",
       "    .dataframe tbody tr th {\n",
       "        vertical-align: top;\n",
       "    }\n",
       "\n",
       "    .dataframe thead th {\n",
       "        text-align: right;\n",
       "    }\n",
       "</style>\n",
       "<table border=\"1\" class=\"dataframe\">\n",
       "  <thead>\n",
       "    <tr style=\"text-align: right;\">\n",
       "      <th></th>\n",
       "      <th>user_id</th>\n",
       "      <th>month</th>\n",
       "      <th>messages_count</th>\n",
       "    </tr>\n",
       "  </thead>\n",
       "  <tbody>\n",
       "    <tr>\n",
       "      <td>0</td>\n",
       "      <td>1000</td>\n",
       "      <td>5</td>\n",
       "      <td>22</td>\n",
       "    </tr>\n",
       "    <tr>\n",
       "      <td>1</td>\n",
       "      <td>1000</td>\n",
       "      <td>6</td>\n",
       "      <td>60</td>\n",
       "    </tr>\n",
       "    <tr>\n",
       "      <td>2</td>\n",
       "      <td>1000</td>\n",
       "      <td>7</td>\n",
       "      <td>75</td>\n",
       "    </tr>\n",
       "  </tbody>\n",
       "</table>\n",
       "</div>"
      ],
      "text/plain": [
       "   user_id  month  messages_count\n",
       "0     1000      5              22\n",
       "1     1000      6              60\n",
       "2     1000      7              75"
      ]
     },
     "execution_count": 146,
     "metadata": {},
     "output_type": "execute_result"
    }
   ],
   "source": [
    "# формирование таблицы\n",
    "df1 = df_messages.groupby(['user_id', 'month']).agg(messages_count=('messages_id','count')).reset_index()\n",
    "# получение первых строк\n",
    "df1.head(3)"
   ]
  },
  {
   "cell_type": "code",
   "execution_count": 75,
   "metadata": {
    "scrolled": false
   },
   "outputs": [],
   "source": [
    "# присоединение таблицы по столбцам user_id и month\n",
    "df = df.merge(df1, how='left', on=['user_id', 'month'])"
   ]
  },
  {
   "cell_type": "markdown",
   "metadata": {},
   "source": [
    "Посчитаем количество отправленных сообщений по месяцам и присоединим к общему датасету"
   ]
  },
  {
   "cell_type": "code",
   "execution_count": 147,
   "metadata": {
    "scrolled": true
   },
   "outputs": [
    {
     "data": {
      "text/html": [
       "<div>\n",
       "<style scoped>\n",
       "    .dataframe tbody tr th:only-of-type {\n",
       "        vertical-align: middle;\n",
       "    }\n",
       "\n",
       "    .dataframe tbody tr th {\n",
       "        vertical-align: top;\n",
       "    }\n",
       "\n",
       "    .dataframe thead th {\n",
       "        text-align: right;\n",
       "    }\n",
       "</style>\n",
       "<table border=\"1\" class=\"dataframe\">\n",
       "  <thead>\n",
       "    <tr style=\"text-align: right;\">\n",
       "      <th></th>\n",
       "      <th>user_id</th>\n",
       "      <th>month</th>\n",
       "      <th>mb_used</th>\n",
       "    </tr>\n",
       "  </thead>\n",
       "  <tbody>\n",
       "    <tr>\n",
       "      <td>0</td>\n",
       "      <td>1000</td>\n",
       "      <td>5</td>\n",
       "      <td>2253.49</td>\n",
       "    </tr>\n",
       "    <tr>\n",
       "      <td>1</td>\n",
       "      <td>1000</td>\n",
       "      <td>6</td>\n",
       "      <td>23233.77</td>\n",
       "    </tr>\n",
       "    <tr>\n",
       "      <td>2</td>\n",
       "      <td>1000</td>\n",
       "      <td>7</td>\n",
       "      <td>14003.64</td>\n",
       "    </tr>\n",
       "  </tbody>\n",
       "</table>\n",
       "</div>"
      ],
      "text/plain": [
       "   user_id  month   mb_used\n",
       "0     1000      5   2253.49\n",
       "1     1000      6  23233.77\n",
       "2     1000      7  14003.64"
      ]
     },
     "execution_count": 147,
     "metadata": {},
     "output_type": "execute_result"
    }
   ],
   "source": [
    "# формирование таблицы\n",
    "df2 = df_internet.groupby(['user_id', 'month']).agg(mb_used=('mb_used','sum')).reset_index()\n",
    "# получение первых строк\n",
    "df2.head(3)"
   ]
  },
  {
   "cell_type": "code",
   "execution_count": 77,
   "metadata": {
    "scrolled": false
   },
   "outputs": [],
   "source": [
    "# присоединение таблицы по столбцам user_id и month\n",
    "df = df.merge(df2, how='left', on=['user_id', 'month'])"
   ]
  },
  {
   "cell_type": "code",
   "execution_count": 78,
   "metadata": {
    "scrolled": false
   },
   "outputs": [
    {
     "data": {
      "text/html": [
       "<div>\n",
       "<style scoped>\n",
       "    .dataframe tbody tr th:only-of-type {\n",
       "        vertical-align: middle;\n",
       "    }\n",
       "\n",
       "    .dataframe tbody tr th {\n",
       "        vertical-align: top;\n",
       "    }\n",
       "\n",
       "    .dataframe thead th {\n",
       "        text-align: right;\n",
       "    }\n",
       "</style>\n",
       "<table border=\"1\" class=\"dataframe\">\n",
       "  <thead>\n",
       "    <tr style=\"text-align: right;\">\n",
       "      <th></th>\n",
       "      <th>user_id</th>\n",
       "      <th>month</th>\n",
       "      <th>calls_count</th>\n",
       "      <th>minutes</th>\n",
       "      <th>messages_count</th>\n",
       "      <th>mb_used</th>\n",
       "    </tr>\n",
       "  </thead>\n",
       "  <tbody>\n",
       "    <tr>\n",
       "      <td>0</td>\n",
       "      <td>1000.0</td>\n",
       "      <td>5.0</td>\n",
       "      <td>22.0</td>\n",
       "      <td>159.0</td>\n",
       "      <td>22.0</td>\n",
       "      <td>2253.49</td>\n",
       "    </tr>\n",
       "    <tr>\n",
       "      <td>1</td>\n",
       "      <td>1000.0</td>\n",
       "      <td>6.0</td>\n",
       "      <td>43.0</td>\n",
       "      <td>172.0</td>\n",
       "      <td>60.0</td>\n",
       "      <td>23233.77</td>\n",
       "    </tr>\n",
       "    <tr>\n",
       "      <td>2</td>\n",
       "      <td>1000.0</td>\n",
       "      <td>7.0</td>\n",
       "      <td>47.0</td>\n",
       "      <td>340.0</td>\n",
       "      <td>75.0</td>\n",
       "      <td>14003.64</td>\n",
       "    </tr>\n",
       "    <tr>\n",
       "      <td>3</td>\n",
       "      <td>1000.0</td>\n",
       "      <td>8.0</td>\n",
       "      <td>52.0</td>\n",
       "      <td>408.0</td>\n",
       "      <td>81.0</td>\n",
       "      <td>14055.93</td>\n",
       "    </tr>\n",
       "    <tr>\n",
       "      <td>4</td>\n",
       "      <td>1000.0</td>\n",
       "      <td>9.0</td>\n",
       "      <td>58.0</td>\n",
       "      <td>466.0</td>\n",
       "      <td>57.0</td>\n",
       "      <td>14568.91</td>\n",
       "    </tr>\n",
       "  </tbody>\n",
       "</table>\n",
       "</div>"
      ],
      "text/plain": [
       "   user_id  month  calls_count  minutes  messages_count   mb_used\n",
       "0   1000.0    5.0         22.0    159.0            22.0   2253.49\n",
       "1   1000.0    6.0         43.0    172.0            60.0  23233.77\n",
       "2   1000.0    7.0         47.0    340.0            75.0  14003.64\n",
       "3   1000.0    8.0         52.0    408.0            81.0  14055.93\n",
       "4   1000.0    9.0         58.0    466.0            57.0  14568.91"
      ]
     },
     "execution_count": 78,
     "metadata": {},
     "output_type": "execute_result"
    }
   ],
   "source": [
    "# визуальная проверка\n",
    "df.head()"
   ]
  },
  {
   "cell_type": "markdown",
   "metadata": {},
   "source": [
    "Поскольку количество израсходованных Гб, подсчитывается каждый месяц, сделаем это, округлив значения вверх, и переименуем столебц в соотвествии с новой размерностью его значений."
   ]
  },
  {
   "cell_type": "code",
   "execution_count": 79,
   "metadata": {},
   "outputs": [],
   "source": [
    "# получение Гб\n",
    "df['mb_used'] = df['mb_used'] / 1024 "
   ]
  },
  {
   "cell_type": "code",
   "execution_count": 80,
   "metadata": {},
   "outputs": [],
   "source": [
    "# округление вверх\n",
    "df['mb_used'] = df['mb_used'].apply(np.ceil)"
   ]
  },
  {
   "cell_type": "code",
   "execution_count": 81,
   "metadata": {},
   "outputs": [],
   "source": [
    "# переименовение столбца методом rename\n",
    "df = df.rename(columns={'mb_used' : 'gb_used'})"
   ]
  },
  {
   "cell_type": "code",
   "execution_count": 82,
   "metadata": {
    "scrolled": false
   },
   "outputs": [
    {
     "data": {
      "text/html": [
       "<div>\n",
       "<style scoped>\n",
       "    .dataframe tbody tr th:only-of-type {\n",
       "        vertical-align: middle;\n",
       "    }\n",
       "\n",
       "    .dataframe tbody tr th {\n",
       "        vertical-align: top;\n",
       "    }\n",
       "\n",
       "    .dataframe thead th {\n",
       "        text-align: right;\n",
       "    }\n",
       "</style>\n",
       "<table border=\"1\" class=\"dataframe\">\n",
       "  <thead>\n",
       "    <tr style=\"text-align: right;\">\n",
       "      <th></th>\n",
       "      <th>user_id</th>\n",
       "      <th>month</th>\n",
       "      <th>calls_count</th>\n",
       "      <th>minutes</th>\n",
       "      <th>messages_count</th>\n",
       "      <th>gb_used</th>\n",
       "    </tr>\n",
       "  </thead>\n",
       "  <tbody>\n",
       "    <tr>\n",
       "      <td>0</td>\n",
       "      <td>1000.0</td>\n",
       "      <td>5.0</td>\n",
       "      <td>22.0</td>\n",
       "      <td>159.0</td>\n",
       "      <td>22.0</td>\n",
       "      <td>3.0</td>\n",
       "    </tr>\n",
       "    <tr>\n",
       "      <td>1</td>\n",
       "      <td>1000.0</td>\n",
       "      <td>6.0</td>\n",
       "      <td>43.0</td>\n",
       "      <td>172.0</td>\n",
       "      <td>60.0</td>\n",
       "      <td>23.0</td>\n",
       "    </tr>\n",
       "    <tr>\n",
       "      <td>2</td>\n",
       "      <td>1000.0</td>\n",
       "      <td>7.0</td>\n",
       "      <td>47.0</td>\n",
       "      <td>340.0</td>\n",
       "      <td>75.0</td>\n",
       "      <td>14.0</td>\n",
       "    </tr>\n",
       "  </tbody>\n",
       "</table>\n",
       "</div>"
      ],
      "text/plain": [
       "   user_id  month  calls_count  minutes  messages_count  gb_used\n",
       "0   1000.0    5.0         22.0    159.0            22.0      3.0\n",
       "1   1000.0    6.0         43.0    172.0            60.0     23.0\n",
       "2   1000.0    7.0         47.0    340.0            75.0     14.0"
      ]
     },
     "execution_count": 82,
     "metadata": {},
     "output_type": "execute_result"
    }
   ],
   "source": [
    "# визуальная проверка\n",
    "df.head(3)"
   ]
  },
  {
   "cell_type": "markdown",
   "metadata": {},
   "source": [
    "Поскольку в некоторые месяцы клиенты не пользовались некоторыми услугами, при объединении таблиц появились пропуски. Заполним их  нулями."
   ]
  },
  {
   "cell_type": "code",
   "execution_count": 83,
   "metadata": {},
   "outputs": [],
   "source": [
    "# заполнение пропусков\n",
    "df = df.fillna(0)"
   ]
  },
  {
   "cell_type": "markdown",
   "metadata": {},
   "source": [
    "Приведем в порядок типы данных."
   ]
  },
  {
   "cell_type": "code",
   "execution_count": 84,
   "metadata": {},
   "outputs": [],
   "source": [
    "df = df.astype('int')"
   ]
  },
  {
   "cell_type": "code",
   "execution_count": 85,
   "metadata": {},
   "outputs": [
    {
     "name": "stdout",
     "output_type": "stream",
     "text": [
      "<class 'pandas.core.frame.DataFrame'>\n",
      "Int64Index: 3214 entries, 0 to 3213\n",
      "Data columns (total 6 columns):\n",
      "user_id           3214 non-null int64\n",
      "month             3214 non-null int64\n",
      "calls_count       3214 non-null int64\n",
      "minutes           3214 non-null int64\n",
      "messages_count    3214 non-null int64\n",
      "gb_used           3214 non-null int64\n",
      "dtypes: int64(6)\n",
      "memory usage: 175.8 KB\n"
     ]
    }
   ],
   "source": [
    "# проверка\n",
    "df.info()"
   ]
  },
  {
   "cell_type": "markdown",
   "metadata": {},
   "source": [
    "Далее необходимо получить помесячную выручку с каждого пользователя."
   ]
  },
  {
   "cell_type": "markdown",
   "metadata": {},
   "source": [
    "Прежде всего присоединим к нашему датасету данные из таблиц `df_tariffs` и `df_users` по столбцам  `tarif` и `user_id` соотвественно."
   ]
  },
  {
   "cell_type": "code",
   "execution_count": 86,
   "metadata": {},
   "outputs": [],
   "source": [
    "df = df.merge(df_users, on=['user_id'], how='left')\n",
    "df = df.merge(df_tariffs, on=['tariff'], how='left')"
   ]
  },
  {
   "cell_type": "markdown",
   "metadata": {},
   "source": [
    "Удалим некоторые столбцы, которые были переиспользованы."
   ]
  },
  {
   "cell_type": "code",
   "execution_count": 87,
   "metadata": {},
   "outputs": [
    {
     "data": {
      "text/plain": [
       "Index(['user_id', 'month', 'calls_count', 'minutes', 'messages_count',\n",
       "       'gb_used', 'age', 'churn_date', 'city', 'first_name', 'last_name',\n",
       "       'reg_date', 'tariff', 'days_of_use', 'first_month', 'month_of_use',\n",
       "       'messages_included', 'gb_per_month_included', 'minutes_included',\n",
       "       'rub_monthly_fee', 'rub_per_gb', 'rub_per_message', 'rub_per_minute'],\n",
       "      dtype='object')"
      ]
     },
     "execution_count": 87,
     "metadata": {},
     "output_type": "execute_result"
    }
   ],
   "source": [
    "# список столбцов\n",
    "df.columns"
   ]
  },
  {
   "cell_type": "code",
   "execution_count": 88,
   "metadata": {},
   "outputs": [],
   "source": [
    "# удаление столбцов\n",
    "df = df.drop(['churn_date', 'days_of_use', 'reg_date'], axis=1)"
   ]
  },
  {
   "cell_type": "markdown",
   "metadata": {},
   "source": [
    "Напишем функцию для подсчета помесячной выручки. Учтем, что если по одному из трех параметров (звонки, сообщения, Гб) будет превышен литим, то клиенту необходимо оплатить не только абонентскую плату, но и перерасход в соответвии с установленной тарифами стоимостью."
   ]
  },
  {
   "cell_type": "code",
   "execution_count": 89,
   "metadata": {},
   "outputs": [],
   "source": [
    "def monthly_income(row):\n",
    "    \"\"\"\n",
    "    minutes - перерасход минут,  messages - перерасход сообщений, gb - перерасход Гб.\n",
    "    Если перерасход больше нуля, перерасход умножается на коэффициент услуг сверх тарифного пакета, \n",
    "    если перерасход <= 0, то перерасхода не было.\n",
    "    Суммарный доход равен сумме услуг сверх тарифного пакета + абонентская плата\n",
    "    \"\"\"\n",
    "    \n",
    "    minutes =  row['minutes'] - row['minutes_included']\n",
    "    messages = row['messages_count'] - row['messages_included']\n",
    "    gb = row['gb_used'] - row['gb_per_month_included']\n",
    "    \n",
    "    if minutes > 0:\n",
    "        minutes *= row['rub_per_minute']\n",
    "    else: minutes = 0\n",
    "        \n",
    "    if messages > 0: \n",
    "        messages *= row['rub_per_message']\n",
    "    else: messages = 0\n",
    "        \n",
    "    if gb > 0 :\n",
    "        gb *= row['rub_per_gb']\n",
    "    else: gb = 0\n",
    "    \n",
    "    income = row['rub_monthly_fee'] + minutes + messages + gb\n",
    "    \n",
    "    return income"
   ]
  },
  {
   "cell_type": "markdown",
   "metadata": {},
   "source": [
    "Получение помесячного дохода каждого клиента."
   ]
  },
  {
   "cell_type": "code",
   "execution_count": 90,
   "metadata": {},
   "outputs": [],
   "source": [
    "df['monthly_income'] = df.apply(monthly_income, axis=1)"
   ]
  },
  {
   "cell_type": "markdown",
   "metadata": {},
   "source": [
    "**Выводы**"
   ]
  },
  {
   "cell_type": "markdown",
   "metadata": {},
   "source": [
    "Для каждого клиента помесячно были посчитаны такие показатели как количество сделанных звонков и израсходованных минут, количество сообщений, когличество израсходованных Гб, выручка с пользователя. Эти данные необходимы для дальнейшего анализа."
   ]
  },
  {
   "cell_type": "markdown",
   "metadata": {},
   "source": [
    "## Анализ данных"
   ]
  },
  {
   "cell_type": "markdown",
   "metadata": {},
   "source": [
    "Необходимо описать поведение пользователей каждого тарифа. Для начала раздилим всех клиетов в соответствии с подключенными тарицами."
   ]
  },
  {
   "cell_type": "code",
   "execution_count": 91,
   "metadata": {},
   "outputs": [],
   "source": [
    "# срезы данных\n",
    "ultra = df.query('tariff == \"ultra\"')\n",
    "smart = df.query('tariff == \"smart\"')"
   ]
  },
  {
   "cell_type": "markdown",
   "metadata": {},
   "source": [
    "### Минуты"
   ]
  },
  {
   "cell_type": "markdown",
   "metadata": {},
   "source": [
    "Посчитаем среднее количество минут, дисперсию и стандартное отклонение для пользователей тарифа \"Ультра\". "
   ]
  },
  {
   "cell_type": "code",
   "execution_count": 92,
   "metadata": {},
   "outputs": [
    {
     "data": {
      "text/plain": [
       "526.6233502538071"
      ]
     },
     "execution_count": 92,
     "metadata": {},
     "output_type": "execute_result"
    }
   ],
   "source": [
    "# выборочное среднее\n",
    "ultra['minutes'].mean()"
   ]
  },
  {
   "cell_type": "markdown",
   "metadata": {},
   "source": [
    "Среднее значение меньше лимита в 3000 минут."
   ]
  },
  {
   "cell_type": "code",
   "execution_count": 93,
   "metadata": {},
   "outputs": [
    {
     "data": {
      "text/plain": [
       "100771.2236172022"
      ]
     },
     "execution_count": 93,
     "metadata": {},
     "output_type": "execute_result"
    }
   ],
   "source": [
    "# дисперсия\n",
    "np.var(ultra['minutes'])"
   ]
  },
  {
   "cell_type": "code",
   "execution_count": 94,
   "metadata": {
    "scrolled": true
   },
   "outputs": [
    {
     "data": {
      "text/plain": [
       "317.44483554974113"
      ]
     },
     "execution_count": 94,
     "metadata": {},
     "output_type": "execute_result"
    }
   ],
   "source": [
    "# стандартное отклонение\n",
    "np.std(ultra['minutes'])"
   ]
  },
  {
   "cell_type": "markdown",
   "metadata": {},
   "source": [
    "Построим гистограмму."
   ]
  },
  {
   "cell_type": "code",
   "execution_count": 95,
   "metadata": {
    "scrolled": true
   },
   "outputs": [
    {
     "data": {
      "image/png": "[encoded data removed]",
      "text/plain": [
       "<Figure size 432x288 with 1 Axes>"
      ]
     },
     "metadata": {
      "needs_background": "light"
     },
     "output_type": "display_data"
    }
   ],
   "source": [
    "# гистограмма\n",
    "ultra['minutes'].plot(kind='hist', grid=True, bins=100)\n",
    "plt.xlabel('minutes')\n",
    "plt.title('Расход минут в месяц.\\nТариф ultra')\n",
    "plt.show()"
   ]
  },
  {
   "cell_type": "markdown",
   "metadata": {},
   "source": [
    "Много значений лежит в нуле. Это обусловленно пропущенными звонками (которых было довольно много при просмотре изначальных данных) и тем, что некоторые пользователи в некоторые месяцы не совершали звонки. Таких значений по сравнению с пропущенными вызовами должно быть меньше."
   ]
  },
  {
   "cell_type": "markdown",
   "metadata": {},
   "source": [
    "Построим гистограмму без учета \"нулевых звонков\"."
   ]
  },
  {
   "cell_type": "code",
   "execution_count": 96,
   "metadata": {
    "scrolled": false
   },
   "outputs": [
    {
     "data": {
      "image/png": "[encoded data removed]",
      "text/plain": [
       "<Figure size 432x288 with 1 Axes>"
      ]
     },
     "metadata": {
      "needs_background": "light"
     },
     "output_type": "display_data"
    }
   ],
   "source": [
    "# гистограмма\n",
    "ultra.query('minutes != 0')['minutes'].plot(kind='hist', grid=True, bins=50)\n",
    "plt.xlabel('minutes')\n",
    "plt.title('Расход минут в месяц.\\nТариф ultra')\n",
    "plt.show()"
   ]
  },
  {
   "cell_type": "markdown",
   "metadata": {},
   "source": [
    "В среднем пользователи тратят около 9 часов на разговоры, отдельные лежат более 20 часов."
   ]
  },
  {
   "cell_type": "markdown",
   "metadata": {},
   "source": [
    "Аналогичные операции проделаем для пользователей тарица \"Смарт\""
   ]
  },
  {
   "cell_type": "code",
   "execution_count": 97,
   "metadata": {},
   "outputs": [
    {
     "data": {
      "text/plain": [
       "417.9349484073576"
      ]
     },
     "execution_count": 97,
     "metadata": {},
     "output_type": "execute_result"
    }
   ],
   "source": [
    "# выборочное среднее \n",
    "smart['minutes'].mean()"
   ]
  },
  {
   "cell_type": "markdown",
   "metadata": {},
   "source": [
    "Среднее значение меньше лимита в 500 минут, но довольно близко к нему."
   ]
  },
  {
   "cell_type": "code",
   "execution_count": 98,
   "metadata": {
    "scrolled": true
   },
   "outputs": [
    {
     "data": {
      "text/plain": [
       "36203.06665209469"
      ]
     },
     "execution_count": 98,
     "metadata": {},
     "output_type": "execute_result"
    }
   ],
   "source": [
    "# дисперсия\n",
    "np.var(smart['minutes'])"
   ]
  },
  {
   "cell_type": "code",
   "execution_count": 99,
   "metadata": {
    "scrolled": true
   },
   "outputs": [
    {
     "data": {
      "text/plain": [
       "190.27103471651876"
      ]
     },
     "execution_count": 99,
     "metadata": {},
     "output_type": "execute_result"
    }
   ],
   "source": [
    "# стандартное отклонение\n",
    "np.std(smart['minutes'])"
   ]
  },
  {
   "cell_type": "code",
   "execution_count": 100,
   "metadata": {
    "scrolled": false
   },
   "outputs": [
    {
     "data": {
      "image/png": "[encoded data removed]",
      "text/plain": [
       "<Figure size 432x288 with 1 Axes>"
      ]
     },
     "metadata": {
      "needs_background": "light"
     },
     "output_type": "display_data"
    }
   ],
   "source": [
    "# гистограмма\n",
    "smart['minutes'].plot(kind='hist', grid=True, bins=100)\n",
    "plt.xlabel('minutes')\n",
    "plt.title('Расход минут в месяц.\\nТариф smart')\n",
    "plt.show()"
   ]
  },
  {
   "cell_type": "markdown",
   "metadata": {},
   "source": [
    "В этом тарифе меньше звонков с нулевой продолжительностью. Распределение больше похоже на нормальное, чем для пользователей другого тарифа."
   ]
  },
  {
   "cell_type": "markdown",
   "metadata": {},
   "source": [
    "Сравним гистограмы для двух тарифов"
   ]
  },
  {
   "cell_type": "code",
   "execution_count": 101,
   "metadata": {
    "scrolled": true
   },
   "outputs": [
    {
     "data": {
      "image/png": "[encoded data removed]",
      "text/plain": [
       "<Figure size 432x288 with 1 Axes>"
      ]
     },
     "metadata": {
      "needs_background": "light"
     },
     "output_type": "display_data"
    }
   ],
   "source": [
    "ax = ultra['minutes'].plot(kind='hist', grid=True, bins=50, legend=True, label='ultra', alpha=0.8)\n",
    "smart['minutes'].plot(kind='hist', grid=True, bins=50, ax=ax, legend=True, label='smart', color='red', alpha=0.4)\n",
    "plt.title('Расход минут в месяц')\n",
    "plt.xlabel('minutes')\n",
    "plt.show()"
   ]
  },
  {
   "cell_type": "markdown",
   "metadata": {},
   "source": [
    "Значения тарифа \"Ультра\" имеют больший разброс, среднее больше, чем у другого тарифа, но не на много (порядка сотни минут). Много зачений лежит в нуле. Для тарифа \"Смарт\" значения больше сосредоточены около среднего. Число минут, потраченных пользователями меньше. Оба распределения по форме напонимают нормальные (если не принимать во мнимание нулевые звонки), обрезанные с меньшей стороны."
   ]
  },
  {
   "cell_type": "markdown",
   "metadata": {},
   "source": [
    "Посчитаем среднее количество сообщений, дисперсию и стандартное отклонение для для пользователей тарифов аналогичным способом. Сначала для тарифа \"Ультра\". "
   ]
  },
  {
   "cell_type": "code",
   "execution_count": 102,
   "metadata": {},
   "outputs": [
    {
     "data": {
      "text/plain": [
       "49.36345177664975"
      ]
     },
     "execution_count": 102,
     "metadata": {},
     "output_type": "execute_result"
    }
   ],
   "source": [
    "# выборочное среднее \n",
    "ultra['messages_count'].mean()"
   ]
  },
  {
   "cell_type": "markdown",
   "metadata": {},
   "source": [
    "Среднее число сообщений намного меньше лимита."
   ]
  },
  {
   "cell_type": "code",
   "execution_count": 103,
   "metadata": {},
   "outputs": [
    {
     "data": {
      "text/plain": [
       "2282.9460753948824"
      ]
     },
     "execution_count": 103,
     "metadata": {},
     "output_type": "execute_result"
    }
   ],
   "source": [
    "# дисперсия\n",
    "np.var(ultra['messages_count'])"
   ]
  },
  {
   "cell_type": "code",
   "execution_count": 104,
   "metadata": {},
   "outputs": [
    {
     "data": {
      "text/plain": [
       "47.78018496610161"
      ]
     },
     "execution_count": 104,
     "metadata": {},
     "output_type": "execute_result"
    }
   ],
   "source": [
    "# стандартное отклонение\n",
    "np.std(ultra['messages_count'])"
   ]
  },
  {
   "cell_type": "code",
   "execution_count": 105,
   "metadata": {
    "scrolled": true
   },
   "outputs": [
    {
     "data": {
      "image/png": "[encoded data removed]",
      "text/plain": [
       "<Figure size 432x288 with 1 Axes>"
      ]
     },
     "metadata": {
      "needs_background": "light"
     },
     "output_type": "display_data"
    }
   ],
   "source": [
    "# гистограмма\n",
    "ultra['messages_count'].plot(kind='hist', grid=True, bins=50)\n",
    "plt.xlabel('messages_count')\n",
    "plt.title('Расход сообщений в месяц.\\nТариф ultra')\n",
    "plt.show()"
   ]
  },
  {
   "cell_type": "markdown",
   "metadata": {},
   "source": [
    "Довлльно много  пользователей не отправляют сообщения, что не так уж и удивительно в эпоху интернет-мессенджеров."
   ]
  },
  {
   "cell_type": "code",
   "execution_count": 106,
   "metadata": {},
   "outputs": [
    {
     "data": {
      "text/plain": [
       "190"
      ]
     },
     "execution_count": 106,
     "metadata": {},
     "output_type": "execute_result"
    }
   ],
   "source": [
    "ultra.query('messages_count == 0')['messages_count'].count()"
   ]
  },
  {
   "cell_type": "code",
   "execution_count": 107,
   "metadata": {
    "scrolled": true
   },
   "outputs": [
    {
     "data": {
      "text/plain": [
       "19.289340101522843"
      ]
     },
     "execution_count": 107,
     "metadata": {},
     "output_type": "execute_result"
    }
   ],
   "source": [
    "(ultra.query('messages_count == 0')['messages_count'].count()) / ultra['messages_count'].count() * 100"
   ]
  },
  {
   "cell_type": "markdown",
   "metadata": {},
   "source": [
    "В 20 %  строк встречается значение \"0 сооющений\". Построем гистограмму без них."
   ]
  },
  {
   "cell_type": "code",
   "execution_count": 108,
   "metadata": {
    "scrolled": true
   },
   "outputs": [
    {
     "data": {
      "image/png": "[encoded data removed]",
      "text/plain": [
       "<Figure size 432x288 with 1 Axes>"
      ]
     },
     "metadata": {
      "needs_background": "light"
     },
     "output_type": "display_data"
    }
   ],
   "source": [
    "# гистограмма\n",
    "ultra.query('messages_count != 0')['messages_count'].plot(kind='hist', grid=True, bins=50)\n",
    "plt.xlabel('messages_count')\n",
    "plt.title('Расход сообщений в месяц.\\nТариф ultra')\n",
    "plt.show()"
   ]
  },
  {
   "cell_type": "markdown",
   "metadata": {},
   "source": [
    "Тариф \"Смарт\""
   ]
  },
  {
   "cell_type": "code",
   "execution_count": 109,
   "metadata": {},
   "outputs": [
    {
     "data": {
      "text/plain": [
       "33.384028712427096"
      ]
     },
     "execution_count": 109,
     "metadata": {},
     "output_type": "execute_result"
    }
   ],
   "source": [
    "# выборочное среднее \n",
    "smart['messages_count'].mean()"
   ]
  },
  {
   "cell_type": "markdown",
   "metadata": {},
   "source": [
    "Среднее число сообщений меньше лимита"
   ]
  },
  {
   "cell_type": "code",
   "execution_count": 110,
   "metadata": {
    "scrolled": true
   },
   "outputs": [
    {
     "data": {
      "text/plain": [
       "796.455482917076"
      ]
     },
     "execution_count": 110,
     "metadata": {},
     "output_type": "execute_result"
    }
   ],
   "source": [
    "# дисперсия\n",
    "np.var(smart['messages_count'])"
   ]
  },
  {
   "cell_type": "code",
   "execution_count": 111,
   "metadata": {
    "scrolled": true
   },
   "outputs": [
    {
     "data": {
      "text/plain": [
       "28.221542886898938"
      ]
     },
     "execution_count": 111,
     "metadata": {},
     "output_type": "execute_result"
    }
   ],
   "source": [
    "# стандартное отклонение\n",
    "np.std(smart['messages_count'])"
   ]
  },
  {
   "cell_type": "code",
   "execution_count": 112,
   "metadata": {
    "scrolled": false
   },
   "outputs": [
    {
     "data": {
      "image/png": "[encoded data removed]",
      "text/plain": [
       "<Figure size 432x288 with 1 Axes>"
      ]
     },
     "metadata": {
      "needs_background": "light"
     },
     "output_type": "display_data"
    }
   ],
   "source": [
    "# гистограмма\n",
    "smart['messages_count'].plot(kind='hist', grid=True, bins=50)\n",
    "plt.xlabel('messages_count')\n",
    "plt.title('Расход сообщений в месяц.\\nТариф smart')\n",
    "plt.show()"
   ]
  },
  {
   "cell_type": "markdown",
   "metadata": {},
   "source": [
    "Похожая картина и для этого тарифа. Нули в 13% строк."
   ]
  },
  {
   "cell_type": "code",
   "execution_count": 113,
   "metadata": {
    "scrolled": true
   },
   "outputs": [
    {
     "data": {
      "text/plain": [
       "13.772992373261554"
      ]
     },
     "execution_count": 113,
     "metadata": {},
     "output_type": "execute_result"
    }
   ],
   "source": [
    "(smart.query('messages_count == 0')['messages_count'].count()) / smart['messages_count'].count() * 100"
   ]
  },
  {
   "cell_type": "code",
   "execution_count": 114,
   "metadata": {
    "scrolled": false
   },
   "outputs": [
    {
     "data": {
      "image/png": "[encoded data removed]",
      "text/plain": [
       "<Figure size 432x288 with 1 Axes>"
      ]
     },
     "metadata": {
      "needs_background": "light"
     },
     "output_type": "display_data"
    }
   ],
   "source": [
    "smart.query('messages_count != 0')['messages_count'].plot(kind='hist', grid=True, bins=50)\n",
    "plt.xlabel('messages_count')\n",
    "plt.title('Расход сообщений в месяц.\\nТариф smart')\n",
    "plt.show()"
   ]
  },
  {
   "cell_type": "markdown",
   "metadata": {},
   "source": [
    "Сравним две диаграммы"
   ]
  },
  {
   "cell_type": "code",
   "execution_count": 115,
   "metadata": {
    "scrolled": true
   },
   "outputs": [
    {
     "data": {
      "image/png": "[encoded data removed]",
      "text/plain": [
       "<Figure size 432x288 with 1 Axes>"
      ]
     },
     "metadata": {
      "needs_background": "light"
     },
     "output_type": "display_data"
    }
   ],
   "source": [
    "ax = ultra.query('messages_count != 0')['messages_count'].plot(kind='hist', grid=True, bins=30, legend=True, label='ultra', alpha=0.8)\n",
    "smart.query('messages_count != 0')['messages_count'].plot(kind='hist', grid=True, bins=30, ax=ax, legend=True, label='smart', color='red', alpha=0.4)\n",
    "plt.title('Расход сообщений в месяц')\n",
    "plt.xlabel('messages_count')\n",
    "plt.show()"
   ]
  },
  {
   "cell_type": "markdown",
   "metadata": {},
   "source": [
    "Оба датасета имеют положительную скошенностью. Средние значения в обоих гараздо меньше лимитов, заданных тарифами. Вероятно, это связано с непопулярностью данного типа свяязи. Как и со звонками, данные тарифа \"Ультра\" имеют больший разброс и чуть большее среднее (около 50 сообщений против 33 у другого тарифа). "
   ]
  },
  {
   "cell_type": "markdown",
   "metadata": {},
   "source": [
    "Посчитаем среднее количество объёма интернет-трафика, дисперсию и стандартное отклонение"
   ]
  },
  {
   "cell_type": "code",
   "execution_count": 116,
   "metadata": {
    "scrolled": true
   },
   "outputs": [
    {
     "data": {
      "text/plain": [
       "19.494416243654822"
      ]
     },
     "execution_count": 116,
     "metadata": {},
     "output_type": "execute_result"
    }
   ],
   "source": [
    "# выборочное среднее\n",
    "ultra['gb_used'].mean()"
   ]
  },
  {
   "cell_type": "markdown",
   "metadata": {},
   "source": [
    "Средний расходуемый объем меньше лимита."
   ]
  },
  {
   "cell_type": "code",
   "execution_count": 117,
   "metadata": {},
   "outputs": [
    {
     "data": {
      "text/plain": [
       "96.99311602978692"
      ]
     },
     "execution_count": 117,
     "metadata": {},
     "output_type": "execute_result"
    }
   ],
   "source": [
    "# дисперсия\n",
    "np.var(ultra['gb_used'])"
   ]
  },
  {
   "cell_type": "code",
   "execution_count": 118,
   "metadata": {
    "scrolled": true
   },
   "outputs": [
    {
     "data": {
      "text/plain": [
       "9.848508314957495"
      ]
     },
     "execution_count": 118,
     "metadata": {},
     "output_type": "execute_result"
    }
   ],
   "source": [
    "# стандартное отклонение\n",
    "np.std(ultra['gb_used'])"
   ]
  },
  {
   "cell_type": "code",
   "execution_count": 119,
   "metadata": {
    "scrolled": false
   },
   "outputs": [
    {
     "data": {
      "image/png": "[encoded data removed]",
      "text/plain": [
       "<Figure size 432x288 with 1 Axes>"
      ]
     },
     "metadata": {
      "needs_background": "light"
     },
     "output_type": "display_data"
    }
   ],
   "source": [
    "# гистограмма\n",
    "ultra['gb_used'].plot(kind='hist', grid=True, bins=50)\n",
    "plt.xlabel('gb_used')\n",
    "plt.title('Расход Гб в месяц.\\nТариф ultra')\n",
    "plt.show()"
   ]
  },
  {
   "cell_type": "code",
   "execution_count": 120,
   "metadata": {},
   "outputs": [
    {
     "data": {
      "text/plain": [
       "16.328847016599372"
      ]
     },
     "execution_count": 120,
     "metadata": {},
     "output_type": "execute_result"
    }
   ],
   "source": [
    "# выборочное среднее \n",
    "smart['gb_used'].mean()"
   ]
  },
  {
   "cell_type": "markdown",
   "metadata": {},
   "source": [
    "Средний объем больше установленного лимита в 15 Гб"
   ]
  },
  {
   "cell_type": "code",
   "execution_count": 121,
   "metadata": {
    "scrolled": true
   },
   "outputs": [
    {
     "data": {
      "text/plain": [
       "33.013887454837445"
      ]
     },
     "execution_count": 121,
     "metadata": {},
     "output_type": "execute_result"
    }
   ],
   "source": [
    "# дисперсия\n",
    "np.var(smart['gb_used'])"
   ]
  },
  {
   "cell_type": "code",
   "execution_count": 122,
   "metadata": {
    "scrolled": true
   },
   "outputs": [
    {
     "data": {
      "text/plain": [
       "5.745771267187499"
      ]
     },
     "execution_count": 122,
     "metadata": {},
     "output_type": "execute_result"
    }
   ],
   "source": [
    "# стандартное отклонение\n",
    "np.std(smart['gb_used'])"
   ]
  },
  {
   "cell_type": "code",
   "execution_count": 123,
   "metadata": {
    "scrolled": false
   },
   "outputs": [
    {
     "data": {
      "image/png": "[encoded data removed]",
      "text/plain": [
       "<Figure size 432x288 with 1 Axes>"
      ]
     },
     "metadata": {
      "needs_background": "light"
     },
     "output_type": "display_data"
    }
   ],
   "source": [
    "# гистограмма\n",
    "smart['gb_used'].plot(kind='hist', grid=True, bins=40)\n",
    "plt.xlabel('gb_used')\n",
    "plt.title('Расход Гб в месяц.\\nТариф smart')\n",
    "plt.show()"
   ]
  },
  {
   "cell_type": "markdown",
   "metadata": {},
   "source": [
    "Сравним две диаграммы"
   ]
  },
  {
   "cell_type": "code",
   "execution_count": 124,
   "metadata": {
    "scrolled": true
   },
   "outputs": [
    {
     "data": {
      "image/png": "[encoded data removed]",
      "text/plain": [
       "<Figure size 432x288 with 1 Axes>"
      ]
     },
     "metadata": {
      "needs_background": "light"
     },
     "output_type": "display_data"
    }
   ],
   "source": [
    "ax = ultra['gb_used'].plot(kind='hist', grid=True, bins=50, legend=True, label='ultra', alpha=0.8)\n",
    "smart['gb_used'].plot(kind='hist', grid=True, bins=40, ax=ax, legend=True, label='smart', color='red', alpha=0.4)\n",
    "plt.title('Расход Гб в месяц')\n",
    "plt.xlabel('minugb_usedtes')\n",
    "plt.show()"
   ]
  },
  {
   "cell_type": "markdown",
   "metadata": {},
   "source": [
    "Эти два распределения близки по виду к нормальному. Разброс значений у данных тарифа \"ультра\", как и прежде, больше. Средние значения лежат довольно близко (19 Гб и 16 Гб)."
   ]
  },
  {
   "cell_type": "markdown",
   "metadata": {},
   "source": [
    "**Выводы**"
   ]
  },
  {
   "cell_type": "markdown",
   "metadata": {},
   "source": [
    "Анализированолось поведение клиентов. Для этого было посчитан осреднее количество, дисперсию и стандартное отклонение израсходованных минут, Гб интернет-трафка и сообщений. \n",
    "\n",
    "- Минуты. \n",
    "Для тариф \"Ультра\" среднее число потраченных минут больше чем у тарифа \"Смарт\",  больше разброс, больше значений лежит в нуле. Оба распределения напоминают нормальные, обрезанные нулем. Средние для обоих тарифор меньше лимита.\n",
    "- Сообщения\n",
    "Данные тарифа \"Ультра\" имеют больший разброс и большее среднее. Оба датасета имеют положительную скошенностью. Средние для обоих меньше лимитных значений. Довольно много нулевых значений.\n",
    "- Интернет\n",
    "Среднее значение израсходованного трафика для тарифа \"Смарт\" больше лимитного, для тарифа \"Ультра\" меньше. Средние довольно близки, различаются на несолько Гб. Обра распределения имеют вид нормального, для тарифа \"Ультра\" наблюдается немного больший разброс значений, чем для другого тарифа.\n",
    "\n",
    "Значения для тариф \"Ультра\" в целом имеют больший разброс и среднее. Это связано с тем, что пользователи, выбирающие этот тариф планируют больше пользовать услуги связи, чем при использовании тарифа \"Смарт\"."
   ]
  },
  {
   "cell_type": "markdown",
   "metadata": {},
   "source": [
    "## Проверка гипотез"
   ]
  },
  {
   "cell_type": "markdown",
   "metadata": {},
   "source": [
    "### Сравнение тарифов"
   ]
  },
  {
   "cell_type": "markdown",
   "metadata": {},
   "source": [
    "Необходимо проверить следующую гипотезу: средняя выручка пользователей тарифов «Ультра» и «Смарт» различаются."
   ]
  },
  {
   "cell_type": "markdown",
   "metadata": {},
   "source": [
    "Это гипотеза о равенстве среднего двух генеральных совокупностей по взятым из них выборкам (выборка в данном случае это данные о 500 пользователях). Сформулируем  нулевую гипотезу в соответствии с правилом \"Н0 всегда формулируется так, чтобы использовать знак равенства\":\n",
    "\n",
    "Н0: Х1 = Х2 , т.е срядняя выручка пользователей тарифов (Х1) «Ультра» и «Смарт» (Х2) равна."
   ]
  },
  {
   "cell_type": "markdown",
   "metadata": {},
   "source": [
    "Альтернативная же гипотеза заключается в обратном:\n",
    "\n",
    "Н1: Х1 != Х2 , т.е. срядняя выручка пользователей тарифов «Ультра» и «Смарт» неравна."
   ]
  },
  {
   "cell_type": "markdown",
   "metadata": {},
   "source": [
    "Таким образом, в данном случае  имеем дело с двусторонним статистическим критерием. Зададим уровень значимости 5%."
   ]
  },
  {
   "cell_type": "code",
   "execution_count": 125,
   "metadata": {},
   "outputs": [],
   "source": [
    "# критический уровень статистической значимости\n",
    "alpha = 0.05  "
   ]
  },
  {
   "cell_type": "code",
   "execution_count": 126,
   "metadata": {},
   "outputs": [],
   "source": [
    "results = st.ttest_ind(smart['monthly_income'], ultra['monthly_income'], equal_var=False )"
   ]
  },
  {
   "cell_type": "code",
   "execution_count": 127,
   "metadata": {},
   "outputs": [
    {
     "data": {
      "text/plain": [
       "4.2606313931076085e-250"
      ]
     },
     "execution_count": 127,
     "metadata": {},
     "output_type": "execute_result"
    }
   ],
   "source": [
    "results.pvalue "
   ]
  },
  {
   "cell_type": "code",
   "execution_count": 128,
   "metadata": {
    "scrolled": true
   },
   "outputs": [
    {
     "name": "stdout",
     "output_type": "stream",
     "text": [
      "Отвергаем нулевую гипотезу\n"
     ]
    }
   ],
   "source": [
    "if results.pvalue < alpha:\n",
    "    print('Отвергаем нулевую гипотезу')\n",
    "else:\n",
    "    print('Не получилось отвергнуть нулевую гипотезу') "
   ]
  },
  {
   "cell_type": "markdown",
   "metadata": {},
   "source": [
    "Полученное значение p-value говорит о том, что при условии равенства средних доходов от двух тарифов весьма маловероятно  получить такую же или большую их разницу.\n",
    "Таким образом, мы отвергаем предположение, что  срядняя выручка пользователей тарифов «Ультра» и «Смарт» равна."
   ]
  },
  {
   "cell_type": "markdown",
   "metadata": {},
   "source": [
    "**Выводы**"
   ]
  },
  {
   "cell_type": "markdown",
   "metadata": {},
   "source": [
    "### Сравнение Москвы и регионов"
   ]
  },
  {
   "cell_type": "markdown",
   "metadata": {},
   "source": [
    "Необходимо проверить следующую гипотезу: средняя выручка пользователей из Москвы отличается от выручки пользователей из других регионов."
   ]
  },
  {
   "cell_type": "markdown",
   "metadata": {},
   "source": [
    "Это гипотеза о равенстве среднего двух генеральных совокупностей по взятым из них выборкам (выборка в данном случае это данные о 500 пользователях). Сформулируем  нулевую гипотезу в соответствии с правилом \"Н0 всегда формулируется так, чтобы использовать знак равенства\":\n",
    "\n",
    "Н0: Х1 = Х2 , т.е срядняя выручка пользователей в Москве (Х1) и регионов (Х2) равна."
   ]
  },
  {
   "cell_type": "markdown",
   "metadata": {},
   "source": [
    "Альтернативную же гипотезу сформулируем, учитывая, что когда речь идет о сравнении Москвы с другими облостями, подразумевается, что в Москве выручка больше за счет более высокого уровня жизни и дохов населения.\n",
    "\n",
    "Н1: Х1 > Х2 , т.е. срядняя выручка пользователей в Москве (Х1) больше чем в регионах (Х2)"
   ]
  },
  {
   "cell_type": "markdown",
   "metadata": {},
   "source": [
    "Таким образом, в данном случае  имеем дело с односторонним тестом вправо. Зададим уровень значимости 5%."
   ]
  },
  {
   "cell_type": "code",
   "execution_count": 129,
   "metadata": {},
   "outputs": [],
   "source": [
    "# критический уровень статистической значимости\n",
    "alpha = 0.05  "
   ]
  },
  {
   "cell_type": "code",
   "execution_count": 130,
   "metadata": {},
   "outputs": [],
   "source": [
    "msk = df.query('city == \"Москва\"')\n",
    "regions = df.query('city != \"Москва\"')"
   ]
  },
  {
   "cell_type": "code",
   "execution_count": 131,
   "metadata": {},
   "outputs": [],
   "source": [
    "results = st.ttest_ind(msk['monthly_income'], regions['monthly_income'], equal_var=False )"
   ]
  },
  {
   "cell_type": "markdown",
   "metadata": {},
   "source": [
    "Отвергаем нулевую гипотезу, если:\n",
    "- наблюдаемое значение больше предполагаемого;\n",
    "- разница между величинами статистически значима."
   ]
  },
  {
   "cell_type": "code",
   "execution_count": 132,
   "metadata": {},
   "outputs": [
    {
     "data": {
      "text/plain": [
       "0.2628688331864649"
      ]
     },
     "execution_count": 132,
     "metadata": {},
     "output_type": "execute_result"
    }
   ],
   "source": [
    "results.pvalue / 2"
   ]
  },
  {
   "cell_type": "code",
   "execution_count": 141,
   "metadata": {},
   "outputs": [
    {
     "name": "stdout",
     "output_type": "stream",
     "text": [
      "Не получилось отвергнуть нулевую гипотезу\n"
     ]
    }
   ],
   "source": [
    "if results.pvalue / 2 < alpha and msk['monthly_income'].mean() > regions['monthly_income'].mean():\n",
    "    print('Отвергаем нулевую гипотезу')\n",
    "else:\n",
    "    print('Не получилось отвергнуть нулевую гипотезу') "
   ]
  },
  {
   "cell_type": "markdown",
   "metadata": {},
   "source": [
    "Нельзя отвергнуть гипотезу о равенстве выручки по разным регионам. При условии, что средние доходы в регионе и Москве равны, есть 26% вероятность, что можно случайно получить такое же значение, как в действительности. "
   ]
  },
  {
   "cell_type": "markdown",
   "metadata": {},
   "source": [
    "**Выводы**"
   ]
  },
  {
   "cell_type": "markdown",
   "metadata": {},
   "source": [
    "## Выводы"
   ]
  },
  {
   "cell_type": "markdown",
   "metadata": {},
   "source": [
    "При знакомстве с данными были обнаружены следующие проблемы.\n",
    "- Проблемы с типом данных обнаружены в стобцах `call_date`, `message_date`, `session_date`, `churn_date`,`reg_date`. Эти колонки должны быть типа datetime. \n",
    "- Колонки с названием `id` в трех таблицах были переименованы в соответстсвии с тем, что какой именно id они отражают.\n",
    "- В таблице `df_internet` обнаружен неизвестый столбец, повторяющей индексы таблицы.\n",
    "\n",
    "Проблемы были устранены. \n",
    "\n",
    "Далее была проведена предобработка данных:\n",
    "- Переименовны некоторые столбцы в таблице с тарифами.\n",
    "- Мб в таблице с тарифами преведены в Гб.\n",
    "- Найдены интернет-сессии с нулевым расходом трафика.\n",
    "- В таблице со звонками минуты округлены до целых значений (округление вверх)\n",
    "\n",
    "В ходе предобработки найдены двое пользователей, не пользовавшиеся услигами оператора. "
   ]
  },
  {
   "cell_type": "code",
   "execution_count": 134,
   "metadata": {
    "scrolled": true
   },
   "outputs": [
    {
     "data": {
      "text/html": [
       "<div>\n",
       "<style scoped>\n",
       "    .dataframe tbody tr th:only-of-type {\n",
       "        vertical-align: middle;\n",
       "    }\n",
       "\n",
       "    .dataframe tbody tr th {\n",
       "        vertical-align: top;\n",
       "    }\n",
       "\n",
       "    .dataframe thead th {\n",
       "        text-align: right;\n",
       "    }\n",
       "</style>\n",
       "<table border=\"1\" class=\"dataframe\">\n",
       "  <thead>\n",
       "    <tr style=\"text-align: right;\">\n",
       "      <th></th>\n",
       "      <th>user_id</th>\n",
       "      <th>age</th>\n",
       "      <th>churn_date</th>\n",
       "      <th>city</th>\n",
       "      <th>first_name</th>\n",
       "      <th>last_name</th>\n",
       "      <th>reg_date</th>\n",
       "      <th>tariff</th>\n",
       "      <th>days_of_use</th>\n",
       "    </tr>\n",
       "  </thead>\n",
       "  <tbody>\n",
       "    <tr>\n",
       "      <td>0</td>\n",
       "      <td>1128</td>\n",
       "      <td>51</td>\n",
       "      <td>2018-12-23</td>\n",
       "      <td>Волжский</td>\n",
       "      <td>Ксения</td>\n",
       "      <td>Агаева</td>\n",
       "      <td>2018-12-15</td>\n",
       "      <td>ultra</td>\n",
       "      <td>8 days</td>\n",
       "    </tr>\n",
       "    <tr>\n",
       "      <td>1</td>\n",
       "      <td>1371</td>\n",
       "      <td>50</td>\n",
       "      <td>2018-12-30</td>\n",
       "      <td>Омск</td>\n",
       "      <td>Ириней</td>\n",
       "      <td>Трофимов</td>\n",
       "      <td>2018-12-25</td>\n",
       "      <td>smart</td>\n",
       "      <td>5 days</td>\n",
       "    </tr>\n",
       "  </tbody>\n",
       "</table>\n",
       "</div>"
      ],
      "text/plain": [
       "   user_id  age churn_date      city first_name last_name   reg_date tariff  \\\n",
       "0     1128   51 2018-12-23  Волжский     Ксения    Агаева 2018-12-15  ultra   \n",
       "1     1371   50 2018-12-30      Омск     Ириней  Трофимов 2018-12-25  smart   \n",
       "\n",
       "  days_of_use  \n",
       "0      8 days  \n",
       "1      5 days  "
      ]
     },
     "execution_count": 134,
     "metadata": {},
     "output_type": "execute_result"
    }
   ],
   "source": [
    "not_users"
   ]
  },
  {
   "cell_type": "markdown",
   "metadata": {},
   "source": [
    "Оба пользователя подключились в декабре. Возможно, они воспользовались другими более подходящими для них предложениями, поскольку к новому году многие операторы стремятся предложить тарифы на особых условиях."
   ]
  },
  {
   "cell_type": "markdown",
   "metadata": {},
   "source": [
    "Данные были подготовлены к дальнейшему анализу. Для этого для каждого клиента помесячно были посчитаны такие показатели как количество сделанных звонков и израсходованных минут, количество сообщений, когличество израсходованных Гб, выручка с пользователя. Все данные собраны в единый датасет.\n",
    "\n",
    "Для анализа поведения клиентов различных тарифов было посчитан осреднее количество, дисперсию и стандартное отклонение израсходованных минут, Гб интернет-трафка и сообщений.Найдены следующие закономерности:\n",
    "- Минуты. \n",
    "Для тарифа \"Ультра\" среднее число потраченных минут (526) больше чем у тарифа \"Смарт\" (417),  больше разброс значений, больше значений лежит в нуле. Оба распределения напоминают нормальные, обрезанные нулем. Средние для обоих тарифор меньше лимита.\n",
    "- Сообщения\n",
    "Данные тарифа \"Ультра\" имеют больший разброс и большее среднее (49 против 33). Оба датасета имеют положительную скошенностью. Средние для обоих меньше лимитных значений. Довольно много нулевых значений. Можно говорить, что этот тип связи не очень популярен.\n",
    "- Интернет\n",
    "Среднее значение израсходованного трафика для тарифа \"Смарт\" больше лимитного, для тарифа \"Ультра\" меньше. Средние довольно близки, различаются на несолько Гб (19 Гб у тарифа \"Ультра\", 16 у тарифа \"Смарт). Обра распределения имеют вид нормального, для тарифа \"Ультра\" наблюдается немного больший разброс значений, чем для другого тарифа. \n",
    "\n",
    "Значения для тариф \"Ультра\" в целом имеют больший разброс и среднее. Это связано с тем, что пользователи, выбирающие этот тариф планируют больше пользовать услуги связи, чем при использовании тарифа \"Смарт\"."
   ]
  },
  {
   "cell_type": "markdown",
   "metadata": {},
   "source": [
    "Были проверены следующие предположения:\n",
    "1. средняя выручка пользователей тарифов «Ультра» и «Смарт» различаются;\n",
    "2. средняя выручка пользователей из Москвы отличается от выручки пользователей из других регионов.\n",
    "\n",
    "В первом случае нулевая гипотеза звучала так: \"средняя выручка пользователей тарифов «Ультра» и «Смарт» одинаковы\", альтернативная гипотера говорила о их различие. Проводился двусторонний тест с уровнем значимости 5%. На основании теста предположение, что  средняя выручка пользователей тарифов «Ультра» и «Смарт» равна, было отвергнуто.\n",
    "\n",
    "Во втором случае нулевая гипотеза звучала так: \"средняя выручка пользователей из Москвы равна выручке пользователей из других регионов\", а альтернативная говорила о том, что выручка от московских клиентов больше. Проводился односторонный тест вправо, уровень значимости 5%. Не получилось отвергнуть гипотезу о равенстве выручки пользователей из Москвы и регионов."
   ]
  },
  {
   "cell_type": "markdown",
   "metadata": {},
   "source": [
    "Исходя из проведенного анализа поведения клиентов двух разных тарифов, можно сделать вывод, что тариф \"Ультра\" является более перспективным, поскольку:\n",
    "\n",
    "- Расход минут, сообщений и интернет трафика у пользователей данного тарифа в среднем больше по сравнению с другим тарифом, но не намного. \n",
    "- Несмотря на то, что пользователи в среднем не превышают установленных лимитов, ежемесячная плата практически в 4 раза больше, чем у пользователей тарифа \"Смарт\". В то же время пользователи тарифа \"Смарт\" в среднем превышают лимит только по объему израсходованного интернет-трафика.\n",
    "- Средняя выручка от пользователей данного тарифа больше. Кроме того, гипотеза о том, что средний доход с этих тарифов одинаковый, была отвергнута."
   ]
  },
  {
   "cell_type": "code",
   "execution_count": 143,
   "metadata": {},
   "outputs": [
    {
     "data": {
      "text/plain": [
       "tariff\n",
       "smart    1289.973531\n",
       "ultra    2070.152284\n",
       "Name: monthly_income, dtype: float64"
      ]
     },
     "execution_count": 143,
     "metadata": {},
     "output_type": "execute_result"
    }
   ],
   "source": [
    "df.groupby('tariff')['monthly_income'].agg('mean')"
   ]
  }
 ],
 "metadata": {
  "ExecuteTimeLog": [
   {
    "duration": 669,
    "start_time": "2021-11-13T13:09:24.740Z"
   },
   {
    "duration": 3,
    "start_time": "2021-11-13T13:10:10.807Z"
   },
   {
    "duration": 79,
    "start_time": "2021-11-13T13:10:10.812Z"
   },
   {
    "duration": 172,
    "start_time": "2021-11-13T13:10:10.893Z"
   },
   {
    "duration": 9,
    "start_time": "2021-11-13T13:10:11.068Z"
   },
   {
    "duration": 156,
    "start_time": "2021-11-13T13:10:22.661Z"
   },
   {
    "duration": 8,
    "start_time": "2021-11-13T13:10:23.924Z"
   },
   {
    "duration": 164,
    "start_time": "2021-11-13T13:10:59.639Z"
   },
   {
    "duration": 9,
    "start_time": "2021-11-13T13:11:01.147Z"
   },
   {
    "duration": 131,
    "start_time": "2021-11-13T13:11:12.587Z"
   },
   {
    "duration": 9,
    "start_time": "2021-11-13T13:11:13.243Z"
   },
   {
    "duration": 3,
    "start_time": "2021-11-13T14:30:36.258Z"
   },
   {
    "duration": 89,
    "start_time": "2021-11-13T14:32:35.886Z"
   },
   {
    "duration": 8,
    "start_time": "2021-11-13T14:32:36.338Z"
   },
   {
    "duration": 131,
    "start_time": "2021-11-13T14:33:25.968Z"
   },
   {
    "duration": 9,
    "start_time": "2021-11-13T14:33:26.473Z"
   },
   {
    "duration": 21,
    "start_time": "2021-11-13T14:34:12.062Z"
   },
   {
    "duration": 22,
    "start_time": "2021-11-13T14:34:18.782Z"
   },
   {
    "duration": 17,
    "start_time": "2021-11-13T14:34:46.195Z"
   },
   {
    "duration": 17,
    "start_time": "2021-11-13T14:35:42.361Z"
   },
   {
    "duration": 17,
    "start_time": "2021-11-13T14:36:06.313Z"
   },
   {
    "duration": 8,
    "start_time": "2021-11-13T14:36:08.170Z"
   },
   {
    "duration": 6,
    "start_time": "2021-11-13T14:36:08.698Z"
   },
   {
    "duration": 8,
    "start_time": "2021-11-13T14:36:38.461Z"
   },
   {
    "duration": 8,
    "start_time": "2021-11-13T14:36:43.057Z"
   },
   {
    "duration": 8,
    "start_time": "2021-11-13T14:36:48.544Z"
   },
   {
    "duration": 28,
    "start_time": "2021-11-13T14:37:26.589Z"
   },
   {
    "duration": 10,
    "start_time": "2021-11-13T14:37:26.981Z"
   },
   {
    "duration": 6,
    "start_time": "2021-11-13T14:37:27.489Z"
   },
   {
    "duration": 3,
    "start_time": "2021-11-13T14:40:53.894Z"
   },
   {
    "duration": 3,
    "start_time": "2021-11-13T14:41:51.346Z"
   },
   {
    "duration": 3,
    "start_time": "2021-11-13T14:41:51.762Z"
   },
   {
    "duration": 456,
    "start_time": "2021-11-13T14:41:52.151Z"
   },
   {
    "duration": 614,
    "start_time": "2021-11-13T14:43:28.526Z"
   },
   {
    "duration": 560,
    "start_time": "2021-11-13T14:43:50.006Z"
   },
   {
    "duration": 3,
    "start_time": "2021-11-13T14:43:53.997Z"
   },
   {
    "duration": 460,
    "start_time": "2021-11-13T14:43:54.405Z"
   },
   {
    "duration": 53,
    "start_time": "2021-11-13T14:43:54.867Z"
   },
   {
    "duration": 65,
    "start_time": "2021-11-13T14:45:07.750Z"
   },
   {
    "duration": 48,
    "start_time": "2021-11-13T14:45:25.081Z"
   },
   {
    "duration": 51,
    "start_time": "2021-11-13T14:45:54.554Z"
   },
   {
    "duration": 307,
    "start_time": "2021-11-13T14:46:32.394Z"
   },
   {
    "duration": 50,
    "start_time": "2021-11-13T14:46:41.753Z"
   },
   {
    "duration": 718,
    "start_time": "2021-11-13T14:49:52.636Z"
   },
   {
    "duration": 345,
    "start_time": "2021-11-13T14:49:53.356Z"
   },
   {
    "duration": -397,
    "start_time": "2021-11-13T14:49:54.100Z"
   },
   {
    "duration": -401,
    "start_time": "2021-11-13T14:49:54.104Z"
   },
   {
    "duration": 2,
    "start_time": "2021-11-13T14:50:20.901Z"
   },
   {
    "duration": 396,
    "start_time": "2021-11-13T14:50:22.020Z"
   },
   {
    "duration": 305,
    "start_time": "2021-11-13T14:50:23.114Z"
   },
   {
    "duration": 268,
    "start_time": "2021-11-13T14:50:27.437Z"
   },
   {
    "duration": 4,
    "start_time": "2021-11-13T14:50:46.236Z"
   },
   {
    "duration": 3,
    "start_time": "2021-11-13T14:52:56.724Z"
   },
   {
    "duration": 9,
    "start_time": "2021-11-13T14:52:56.729Z"
   },
   {
    "duration": 432,
    "start_time": "2021-11-13T14:52:56.741Z"
   },
   {
    "duration": 50,
    "start_time": "2021-11-13T14:53:02.656Z"
   },
   {
    "duration": 696,
    "start_time": "2021-11-13T14:53:24.349Z"
   },
   {
    "duration": 321,
    "start_time": "2021-11-13T14:53:25.047Z"
   },
   {
    "duration": -431,
    "start_time": "2021-11-13T14:53:25.802Z"
   },
   {
    "duration": -440,
    "start_time": "2021-11-13T14:53:25.812Z"
   },
   {
    "duration": 405,
    "start_time": "2021-11-13T14:53:37.479Z"
   },
   {
    "duration": 2,
    "start_time": "2021-11-13T14:53:37.955Z"
   },
   {
    "duration": 52,
    "start_time": "2021-11-13T14:53:39.276Z"
   },
   {
    "duration": 6,
    "start_time": "2021-11-13T14:55:02.255Z"
   },
   {
    "duration": 50,
    "start_time": "2021-11-13T14:55:12.222Z"
   },
   {
    "duration": 84,
    "start_time": "2021-11-13T14:56:15.719Z"
   },
   {
    "duration": 4,
    "start_time": "2021-11-13T14:56:30.463Z"
   },
   {
    "duration": 53,
    "start_time": "2021-11-13T14:56:41.234Z"
   },
   {
    "duration": 47,
    "start_time": "2021-11-13T14:57:54.437Z"
   },
   {
    "duration": 51,
    "start_time": "2021-11-13T14:58:42.648Z"
   },
   {
    "duration": 73,
    "start_time": "2021-11-13T14:59:05.354Z"
   },
   {
    "duration": 68,
    "start_time": "2021-11-13T14:59:19.650Z"
   },
   {
    "duration": 53,
    "start_time": "2021-11-13T14:59:52.573Z"
   },
   {
    "duration": 55,
    "start_time": "2021-11-13T15:01:02.888Z"
   },
   {
    "duration": 55,
    "start_time": "2021-11-13T15:01:12.202Z"
   },
   {
    "duration": 5,
    "start_time": "2021-11-13T15:01:36.588Z"
   },
   {
    "duration": 4,
    "start_time": "2021-11-13T15:01:42.021Z"
   },
   {
    "duration": 2,
    "start_time": "2021-11-13T15:16:35.811Z"
   },
   {
    "duration": 51,
    "start_time": "2021-11-13T15:16:36.299Z"
   },
   {
    "duration": 12,
    "start_time": "2021-11-13T15:21:00.242Z"
   },
   {
    "duration": 9,
    "start_time": "2021-11-13T15:21:09.053Z"
   },
   {
    "duration": 8,
    "start_time": "2021-11-13T15:21:12.238Z"
   },
   {
    "duration": 9,
    "start_time": "2021-11-13T15:21:15.882Z"
   },
   {
    "duration": 8,
    "start_time": "2021-11-13T15:21:20.628Z"
   },
   {
    "duration": 4,
    "start_time": "2021-11-13T15:26:44.264Z"
   },
   {
    "duration": 4,
    "start_time": "2021-11-13T15:26:50.332Z"
   },
   {
    "duration": 15,
    "start_time": "2021-11-13T15:27:03.003Z"
   },
   {
    "duration": 21,
    "start_time": "2021-11-13T15:28:33.171Z"
   },
   {
    "duration": 15,
    "start_time": "2021-11-13T15:28:33.661Z"
   },
   {
    "duration": 18,
    "start_time": "2021-11-13T15:28:35.712Z"
   },
   {
    "duration": 8,
    "start_time": "2021-11-13T15:28:36.166Z"
   },
   {
    "duration": 7,
    "start_time": "2021-11-13T15:28:37.440Z"
   },
   {
    "duration": 8,
    "start_time": "2021-11-13T15:30:12.293Z"
   },
   {
    "duration": 7,
    "start_time": "2021-11-13T15:30:12.454Z"
   },
   {
    "duration": 9,
    "start_time": "2021-11-13T15:30:12.596Z"
   },
   {
    "duration": 8,
    "start_time": "2021-11-13T15:30:12.749Z"
   },
   {
    "duration": 9,
    "start_time": "2021-11-13T15:30:12.909Z"
   },
   {
    "duration": 5,
    "start_time": "2021-11-13T15:37:59.369Z"
   },
   {
    "duration": 11,
    "start_time": "2021-11-13T15:38:00.469Z"
   },
   {
    "duration": 10,
    "start_time": "2021-11-13T15:38:00.787Z"
   },
   {
    "duration": 12,
    "start_time": "2021-11-13T15:38:01.088Z"
   },
   {
    "duration": 9,
    "start_time": "2021-11-13T15:38:01.813Z"
   },
   {
    "duration": 10,
    "start_time": "2021-11-13T15:38:04.039Z"
   },
   {
    "duration": 10,
    "start_time": "2021-11-13T15:38:25.492Z"
   },
   {
    "duration": 7,
    "start_time": "2021-11-13T15:38:55.528Z"
   },
   {
    "duration": 11,
    "start_time": "2021-11-13T15:38:56.320Z"
   },
   {
    "duration": 10,
    "start_time": "2021-11-13T15:38:56.490Z"
   },
   {
    "duration": 10,
    "start_time": "2021-11-13T15:38:56.660Z"
   },
   {
    "duration": 9,
    "start_time": "2021-11-13T15:38:56.877Z"
   },
   {
    "duration": 10,
    "start_time": "2021-11-13T15:38:57.713Z"
   },
   {
    "duration": 625,
    "start_time": "2021-11-13T15:39:37.020Z"
   },
   {
    "duration": 434,
    "start_time": "2021-11-13T15:39:37.647Z"
   },
   {
    "duration": 2,
    "start_time": "2021-11-13T15:39:38.083Z"
   },
   {
    "duration": 32,
    "start_time": "2021-11-13T15:39:38.087Z"
   },
   {
    "duration": 17,
    "start_time": "2021-11-13T15:39:38.121Z"
   },
   {
    "duration": 23,
    "start_time": "2021-11-13T15:39:38.140Z"
   },
   {
    "duration": 9,
    "start_time": "2021-11-13T15:39:38.165Z"
   },
   {
    "duration": 11,
    "start_time": "2021-11-13T15:39:38.178Z"
   },
   {
    "duration": 71,
    "start_time": "2021-11-13T15:39:38.192Z"
   },
   {
    "duration": 12,
    "start_time": "2021-11-13T15:39:38.265Z"
   },
   {
    "duration": 12,
    "start_time": "2021-11-13T15:39:38.278Z"
   },
   {
    "duration": 11,
    "start_time": "2021-11-13T15:39:38.292Z"
   },
   {
    "duration": 10,
    "start_time": "2021-11-13T15:39:38.304Z"
   },
   {
    "duration": 15,
    "start_time": "2021-11-13T15:39:38.316Z"
   },
   {
    "duration": 37,
    "start_time": "2021-11-13T15:41:46.593Z"
   },
   {
    "duration": 8,
    "start_time": "2021-11-13T15:41:47.091Z"
   },
   {
    "duration": 7,
    "start_time": "2021-11-13T15:41:47.578Z"
   },
   {
    "duration": 8,
    "start_time": "2021-11-13T15:41:48.210Z"
   },
   {
    "duration": 9,
    "start_time": "2021-11-13T15:41:48.747Z"
   },
   {
    "duration": 15,
    "start_time": "2021-11-13T15:41:49.403Z"
   },
   {
    "duration": 615,
    "start_time": "2021-11-13T15:42:05.410Z"
   },
   {
    "duration": 408,
    "start_time": "2021-11-13T15:42:06.027Z"
   },
   {
    "duration": 2,
    "start_time": "2021-11-13T15:42:06.437Z"
   },
   {
    "duration": 35,
    "start_time": "2021-11-13T15:42:06.441Z"
   },
   {
    "duration": 21,
    "start_time": "2021-11-13T15:42:06.478Z"
   },
   {
    "duration": 16,
    "start_time": "2021-11-13T15:42:06.501Z"
   },
   {
    "duration": 6,
    "start_time": "2021-11-13T15:42:06.519Z"
   },
   {
    "duration": 12,
    "start_time": "2021-11-13T15:42:06.527Z"
   },
   {
    "duration": 65,
    "start_time": "2021-11-13T15:42:06.541Z"
   },
   {
    "duration": 11,
    "start_time": "2021-11-13T15:42:06.608Z"
   },
   {
    "duration": 9,
    "start_time": "2021-11-13T15:42:06.620Z"
   },
   {
    "duration": 11,
    "start_time": "2021-11-13T15:42:06.631Z"
   },
   {
    "duration": 24,
    "start_time": "2021-11-13T15:42:06.644Z"
   },
   {
    "duration": 10,
    "start_time": "2021-11-13T15:42:06.669Z"
   },
   {
    "duration": 347,
    "start_time": "2021-11-13T15:53:58.798Z"
   },
   {
    "duration": 265,
    "start_time": "2021-11-13T15:54:08.238Z"
   },
   {
    "duration": 291,
    "start_time": "2021-11-13T15:54:32.855Z"
   },
   {
    "duration": 6491,
    "start_time": "2021-11-13T15:54:47.645Z"
   },
   {
    "duration": 9,
    "start_time": "2021-11-13T15:55:11.951Z"
   },
   {
    "duration": 6596,
    "start_time": "2021-11-13T15:56:50.410Z"
   },
   {
    "duration": 4,
    "start_time": "2021-11-13T15:57:11.941Z"
   },
   {
    "duration": 314,
    "start_time": "2021-11-13T15:57:28.517Z"
   },
   {
    "duration": 9,
    "start_time": "2021-11-13T15:57:38.614Z"
   },
   {
    "duration": 4,
    "start_time": "2021-11-13T15:57:39.801Z"
   },
   {
    "duration": 852,
    "start_time": "2021-11-15T11:56:10.717Z"
   },
   {
    "duration": 520,
    "start_time": "2021-11-15T11:56:11.572Z"
   },
   {
    "duration": 3,
    "start_time": "2021-11-15T11:56:12.095Z"
   },
   {
    "duration": 35,
    "start_time": "2021-11-15T11:56:12.100Z"
   },
   {
    "duration": 21,
    "start_time": "2021-11-15T11:56:12.138Z"
   },
   {
    "duration": 36,
    "start_time": "2021-11-15T11:56:12.162Z"
   },
   {
    "duration": 9,
    "start_time": "2021-11-15T11:56:12.201Z"
   },
   {
    "duration": 10,
    "start_time": "2021-11-15T11:56:12.215Z"
   },
   {
    "duration": 94,
    "start_time": "2021-11-15T11:56:12.229Z"
   },
   {
    "duration": 15,
    "start_time": "2021-11-15T11:56:12.326Z"
   },
   {
    "duration": 11,
    "start_time": "2021-11-15T11:56:12.343Z"
   },
   {
    "duration": 34,
    "start_time": "2021-11-15T11:56:12.357Z"
   },
   {
    "duration": 14,
    "start_time": "2021-11-15T11:56:12.393Z"
   },
   {
    "duration": 15,
    "start_time": "2021-11-15T11:56:12.410Z"
   },
   {
    "duration": 10,
    "start_time": "2021-11-15T11:56:12.428Z"
   },
   {
    "duration": 5,
    "start_time": "2021-11-15T11:56:12.441Z"
   },
   {
    "duration": 352,
    "start_time": "2021-11-15T11:57:14.194Z"
   },
   {
    "duration": 910,
    "start_time": "2021-11-15T11:57:21.278Z"
   },
   {
    "duration": 704,
    "start_time": "2021-11-15T11:57:22.190Z"
   },
   {
    "duration": 4,
    "start_time": "2021-11-15T11:57:22.898Z"
   },
   {
    "duration": 50,
    "start_time": "2021-11-15T11:57:22.905Z"
   },
   {
    "duration": 38,
    "start_time": "2021-11-15T11:57:22.958Z"
   },
   {
    "duration": 35,
    "start_time": "2021-11-15T11:57:22.999Z"
   },
   {
    "duration": 11,
    "start_time": "2021-11-15T11:57:23.036Z"
   },
   {
    "duration": 41,
    "start_time": "2021-11-15T11:57:23.050Z"
   },
   {
    "duration": 60,
    "start_time": "2021-11-15T11:57:23.096Z"
   },
   {
    "duration": 36,
    "start_time": "2021-11-15T11:57:23.159Z"
   },
   {
    "duration": 11,
    "start_time": "2021-11-15T11:57:23.197Z"
   },
   {
    "duration": 15,
    "start_time": "2021-11-15T11:57:23.211Z"
   },
   {
    "duration": 53,
    "start_time": "2021-11-15T11:57:23.229Z"
   },
   {
    "duration": 17,
    "start_time": "2021-11-15T11:57:23.285Z"
   },
   {
    "duration": 13,
    "start_time": "2021-11-15T11:57:23.304Z"
   },
   {
    "duration": 5,
    "start_time": "2021-11-15T11:57:23.319Z"
   },
   {
    "duration": 593,
    "start_time": "2021-11-15T11:58:24.098Z"
   },
   {
    "duration": 876,
    "start_time": "2021-11-15T11:58:49.966Z"
   },
   {
    "duration": 504,
    "start_time": "2021-11-15T11:58:50.845Z"
   },
   {
    "duration": 3,
    "start_time": "2021-11-15T11:58:51.351Z"
   },
   {
    "duration": 34,
    "start_time": "2021-11-15T11:58:51.357Z"
   },
   {
    "duration": 19,
    "start_time": "2021-11-15T11:58:51.394Z"
   },
   {
    "duration": 23,
    "start_time": "2021-11-15T11:58:51.416Z"
   },
   {
    "duration": 8,
    "start_time": "2021-11-15T11:58:51.442Z"
   },
   {
    "duration": 9,
    "start_time": "2021-11-15T11:58:51.482Z"
   },
   {
    "duration": 57,
    "start_time": "2021-11-15T11:58:51.493Z"
   },
   {
    "duration": 38,
    "start_time": "2021-11-15T11:58:51.552Z"
   },
   {
    "duration": 15,
    "start_time": "2021-11-15T11:58:51.593Z"
   },
   {
    "duration": 14,
    "start_time": "2021-11-15T11:58:51.611Z"
   },
   {
    "duration": 21,
    "start_time": "2021-11-15T11:58:51.628Z"
   },
   {
    "duration": 40,
    "start_time": "2021-11-15T11:58:51.652Z"
   },
   {
    "duration": 10,
    "start_time": "2021-11-15T11:58:51.694Z"
   },
   {
    "duration": 5,
    "start_time": "2021-11-15T11:58:51.707Z"
   },
   {
    "duration": 374,
    "start_time": "2021-11-15T11:58:53.174Z"
   },
   {
    "duration": 294,
    "start_time": "2021-11-15T12:02:35.066Z"
   },
   {
    "duration": 347,
    "start_time": "2021-11-15T12:02:58.597Z"
   },
   {
    "duration": 346,
    "start_time": "2021-11-15T12:10:53.778Z"
   },
   {
    "duration": 337,
    "start_time": "2021-11-15T12:11:33.502Z"
   },
   {
    "duration": 109,
    "start_time": "2021-11-15T12:12:09.146Z"
   },
   {
    "duration": 1166,
    "start_time": "2021-11-15T12:13:38.952Z"
   },
   {
    "duration": 588,
    "start_time": "2021-11-15T12:13:40.120Z"
   },
   {
    "duration": 2,
    "start_time": "2021-11-15T12:13:40.711Z"
   },
   {
    "duration": 51,
    "start_time": "2021-11-15T12:13:40.717Z"
   },
   {
    "duration": 27,
    "start_time": "2021-11-15T12:13:40.770Z"
   },
   {
    "duration": 33,
    "start_time": "2021-11-15T12:13:40.799Z"
   },
   {
    "duration": 9,
    "start_time": "2021-11-15T12:13:40.835Z"
   },
   {
    "duration": 37,
    "start_time": "2021-11-15T12:13:40.848Z"
   },
   {
    "duration": 78,
    "start_time": "2021-11-15T12:13:40.888Z"
   },
   {
    "duration": 17,
    "start_time": "2021-11-15T12:13:40.969Z"
   },
   {
    "duration": 11,
    "start_time": "2021-11-15T12:13:40.989Z"
   },
   {
    "duration": 20,
    "start_time": "2021-11-15T12:13:41.003Z"
   },
   {
    "duration": 12,
    "start_time": "2021-11-15T12:13:41.026Z"
   },
   {
    "duration": 44,
    "start_time": "2021-11-15T12:13:41.041Z"
   },
   {
    "duration": 24,
    "start_time": "2021-11-15T12:13:41.088Z"
   },
   {
    "duration": 8,
    "start_time": "2021-11-15T12:13:41.115Z"
   },
   {
    "duration": 859,
    "start_time": "2021-11-15T12:24:39.207Z"
   },
   {
    "duration": 538,
    "start_time": "2021-11-15T12:24:40.068Z"
   },
   {
    "duration": 3,
    "start_time": "2021-11-15T12:24:40.610Z"
   },
   {
    "duration": 36,
    "start_time": "2021-11-15T12:24:40.615Z"
   },
   {
    "duration": 19,
    "start_time": "2021-11-15T12:24:40.653Z"
   },
   {
    "duration": 23,
    "start_time": "2021-11-15T12:24:40.675Z"
   },
   {
    "duration": 11,
    "start_time": "2021-11-15T12:24:40.700Z"
   },
   {
    "duration": 13,
    "start_time": "2021-11-15T12:24:40.714Z"
   },
   {
    "duration": 90,
    "start_time": "2021-11-15T12:24:40.730Z"
   },
   {
    "duration": 15,
    "start_time": "2021-11-15T12:24:40.823Z"
   },
   {
    "duration": 14,
    "start_time": "2021-11-15T12:24:40.841Z"
   },
   {
    "duration": 34,
    "start_time": "2021-11-15T12:24:40.857Z"
   },
   {
    "duration": 11,
    "start_time": "2021-11-15T12:24:40.893Z"
   },
   {
    "duration": 18,
    "start_time": "2021-11-15T12:24:40.906Z"
   },
   {
    "duration": 13,
    "start_time": "2021-11-15T12:24:40.926Z"
   },
   {
    "duration": 4,
    "start_time": "2021-11-15T12:24:40.942Z"
   },
   {
    "duration": 360,
    "start_time": "2021-11-15T12:25:36.477Z"
   },
   {
    "duration": 923,
    "start_time": "2021-11-15T12:25:42.444Z"
   },
   {
    "duration": 523,
    "start_time": "2021-11-15T12:25:43.369Z"
   },
   {
    "duration": 3,
    "start_time": "2021-11-15T12:25:43.895Z"
   },
   {
    "duration": 32,
    "start_time": "2021-11-15T12:25:43.901Z"
   },
   {
    "duration": 19,
    "start_time": "2021-11-15T12:25:43.935Z"
   },
   {
    "duration": 35,
    "start_time": "2021-11-15T12:25:43.956Z"
   },
   {
    "duration": 8,
    "start_time": "2021-11-15T12:25:43.994Z"
   },
   {
    "duration": 15,
    "start_time": "2021-11-15T12:25:44.005Z"
   },
   {
    "duration": 87,
    "start_time": "2021-11-15T12:25:44.023Z"
   },
   {
    "duration": 15,
    "start_time": "2021-11-15T12:25:44.112Z"
   },
   {
    "duration": 15,
    "start_time": "2021-11-15T12:25:44.129Z"
   },
   {
    "duration": 14,
    "start_time": "2021-11-15T12:25:44.147Z"
   },
   {
    "duration": 11,
    "start_time": "2021-11-15T12:25:44.183Z"
   },
   {
    "duration": 18,
    "start_time": "2021-11-15T12:25:44.196Z"
   },
   {
    "duration": 14,
    "start_time": "2021-11-15T12:25:44.216Z"
   },
   {
    "duration": 5,
    "start_time": "2021-11-15T12:25:44.233Z"
   },
   {
    "duration": 6,
    "start_time": "2021-11-15T12:25:44.240Z"
   },
   {
    "duration": 1060,
    "start_time": "2021-11-15T12:26:16.842Z"
   },
   {
    "duration": 547,
    "start_time": "2021-11-15T12:26:17.904Z"
   },
   {
    "duration": 3,
    "start_time": "2021-11-15T12:26:18.454Z"
   },
   {
    "duration": 40,
    "start_time": "2021-11-15T12:26:18.459Z"
   },
   {
    "duration": 18,
    "start_time": "2021-11-15T12:26:18.501Z"
   },
   {
    "duration": 23,
    "start_time": "2021-11-15T12:26:18.521Z"
   },
   {
    "duration": 36,
    "start_time": "2021-11-15T12:26:18.546Z"
   },
   {
    "duration": 12,
    "start_time": "2021-11-15T12:26:18.586Z"
   },
   {
    "duration": 61,
    "start_time": "2021-11-15T12:26:18.601Z"
   },
   {
    "duration": 28,
    "start_time": "2021-11-15T12:26:18.664Z"
   },
   {
    "duration": 10,
    "start_time": "2021-11-15T12:26:18.695Z"
   },
   {
    "duration": 14,
    "start_time": "2021-11-15T12:26:18.707Z"
   },
   {
    "duration": 18,
    "start_time": "2021-11-15T12:26:18.724Z"
   },
   {
    "duration": 46,
    "start_time": "2021-11-15T12:26:18.745Z"
   },
   {
    "duration": 14,
    "start_time": "2021-11-15T12:26:18.793Z"
   },
   {
    "duration": 5,
    "start_time": "2021-11-15T12:26:18.809Z"
   },
   {
    "duration": 9,
    "start_time": "2021-11-15T12:26:18.816Z"
   },
   {
    "duration": 6,
    "start_time": "2021-11-15T12:32:39.873Z"
   },
   {
    "duration": 6,
    "start_time": "2021-11-15T12:32:40.334Z"
   },
   {
    "duration": 401,
    "start_time": "2021-11-15T12:32:55.052Z"
   },
   {
    "duration": 326,
    "start_time": "2021-11-15T12:34:07.976Z"
   },
   {
    "duration": 145,
    "start_time": "2021-11-15T12:35:11.564Z"
   },
   {
    "duration": 100,
    "start_time": "2021-11-15T12:35:41.287Z"
   },
   {
    "duration": 14,
    "start_time": "2021-11-15T12:35:54.017Z"
   },
   {
    "duration": 14,
    "start_time": "2021-11-15T12:36:22.923Z"
   },
   {
    "duration": 9,
    "start_time": "2021-11-15T12:36:47.737Z"
   },
   {
    "duration": 19,
    "start_time": "2021-11-15T12:37:13.920Z"
   },
   {
    "duration": 15,
    "start_time": "2021-11-15T12:38:53.302Z"
   },
   {
    "duration": 16,
    "start_time": "2021-11-15T12:39:24.431Z"
   },
   {
    "duration": 317,
    "start_time": "2021-11-15T12:40:23.443Z"
   },
   {
    "duration": 15,
    "start_time": "2021-11-15T12:40:44.538Z"
   },
   {
    "duration": 15,
    "start_time": "2021-11-15T12:41:10.165Z"
   },
   {
    "duration": 4,
    "start_time": "2021-11-15T12:41:22.924Z"
   },
   {
    "duration": 511,
    "start_time": "2021-11-15T12:41:22.931Z"
   },
   {
    "duration": 3,
    "start_time": "2021-11-15T12:41:23.445Z"
   },
   {
    "duration": 31,
    "start_time": "2021-11-15T12:41:23.451Z"
   },
   {
    "duration": 19,
    "start_time": "2021-11-15T12:41:23.485Z"
   },
   {
    "duration": 26,
    "start_time": "2021-11-15T12:41:23.507Z"
   },
   {
    "duration": 9,
    "start_time": "2021-11-15T12:41:23.536Z"
   },
   {
    "duration": 37,
    "start_time": "2021-11-15T12:41:23.549Z"
   },
   {
    "duration": 47,
    "start_time": "2021-11-15T12:41:23.589Z"
   },
   {
    "duration": 11,
    "start_time": "2021-11-15T12:41:23.638Z"
   },
   {
    "duration": 35,
    "start_time": "2021-11-15T12:41:23.651Z"
   },
   {
    "duration": 18,
    "start_time": "2021-11-15T12:41:23.688Z"
   },
   {
    "duration": 14,
    "start_time": "2021-11-15T12:41:23.708Z"
   },
   {
    "duration": 22,
    "start_time": "2021-11-15T12:41:23.724Z"
   },
   {
    "duration": 11,
    "start_time": "2021-11-15T12:41:23.749Z"
   },
   {
    "duration": 5,
    "start_time": "2021-11-15T12:41:23.783Z"
   },
   {
    "duration": 11,
    "start_time": "2021-11-15T12:41:23.790Z"
   },
   {
    "duration": 12,
    "start_time": "2021-11-15T12:41:23.803Z"
   },
   {
    "duration": 7,
    "start_time": "2021-11-15T12:41:23.818Z"
   },
   {
    "duration": 16,
    "start_time": "2021-11-15T12:41:25.518Z"
   },
   {
    "duration": 14,
    "start_time": "2021-11-15T12:57:40.755Z"
   },
   {
    "duration": 348,
    "start_time": "2021-11-15T12:58:03.828Z"
   },
   {
    "duration": 15,
    "start_time": "2021-11-15T12:58:09.549Z"
   },
   {
    "duration": 14,
    "start_time": "2021-11-15T12:58:28.388Z"
   },
   {
    "duration": 13,
    "start_time": "2021-11-15T12:58:33.590Z"
   },
   {
    "duration": 7,
    "start_time": "2021-11-15T12:58:58.174Z"
   },
   {
    "duration": 6,
    "start_time": "2021-11-15T12:59:03.994Z"
   },
   {
    "duration": 7,
    "start_time": "2021-11-15T12:59:04.671Z"
   },
   {
    "duration": 15,
    "start_time": "2021-11-15T12:59:13.864Z"
   },
   {
    "duration": 15,
    "start_time": "2021-11-15T12:59:21.892Z"
   },
   {
    "duration": 831,
    "start_time": "2021-11-15T12:59:46.812Z"
   },
   {
    "duration": 499,
    "start_time": "2021-11-15T12:59:47.646Z"
   },
   {
    "duration": 4,
    "start_time": "2021-11-15T12:59:48.152Z"
   },
   {
    "duration": 33,
    "start_time": "2021-11-15T12:59:48.158Z"
   },
   {
    "duration": 21,
    "start_time": "2021-11-15T12:59:48.193Z"
   },
   {
    "duration": 24,
    "start_time": "2021-11-15T12:59:48.216Z"
   },
   {
    "duration": 39,
    "start_time": "2021-11-15T12:59:48.243Z"
   },
   {
    "duration": 14,
    "start_time": "2021-11-15T12:59:48.285Z"
   },
   {
    "duration": 54,
    "start_time": "2021-11-15T12:59:48.301Z"
   },
   {
    "duration": 36,
    "start_time": "2021-11-15T12:59:48.358Z"
   },
   {
    "duration": 10,
    "start_time": "2021-11-15T12:59:48.396Z"
   },
   {
    "duration": 12,
    "start_time": "2021-11-15T12:59:48.409Z"
   },
   {
    "duration": 13,
    "start_time": "2021-11-15T12:59:48.424Z"
   },
   {
    "duration": 55,
    "start_time": "2021-11-15T12:59:48.439Z"
   },
   {
    "duration": 13,
    "start_time": "2021-11-15T12:59:48.496Z"
   },
   {
    "duration": 5,
    "start_time": "2021-11-15T12:59:48.511Z"
   },
   {
    "duration": 8,
    "start_time": "2021-11-15T12:59:48.518Z"
   },
   {
    "duration": 8,
    "start_time": "2021-11-15T12:59:48.528Z"
   },
   {
    "duration": 8,
    "start_time": "2021-11-15T12:59:48.539Z"
   },
   {
    "duration": 43,
    "start_time": "2021-11-15T12:59:48.549Z"
   },
   {
    "duration": 16,
    "start_time": "2021-11-15T12:59:48.595Z"
   },
   {
    "duration": 103,
    "start_time": "2021-11-15T13:00:22.727Z"
   },
   {
    "duration": 14,
    "start_time": "2021-11-15T13:00:28.692Z"
   },
   {
    "duration": 17,
    "start_time": "2021-11-15T13:00:42.901Z"
   },
   {
    "duration": 13,
    "start_time": "2021-11-15T13:01:01.941Z"
   },
   {
    "duration": 4,
    "start_time": "2021-11-15T13:02:58.646Z"
   },
   {
    "duration": 9,
    "start_time": "2021-11-15T13:03:05.307Z"
   },
   {
    "duration": 16,
    "start_time": "2021-11-15T13:03:37.642Z"
   },
   {
    "duration": 15,
    "start_time": "2021-11-15T13:03:45.934Z"
   },
   {
    "duration": 16,
    "start_time": "2021-11-15T13:03:57.773Z"
   },
   {
    "duration": 17,
    "start_time": "2021-11-15T13:04:51.764Z"
   },
   {
    "duration": 16,
    "start_time": "2021-11-15T13:05:15.690Z"
   },
   {
    "duration": 20,
    "start_time": "2021-11-15T13:05:32.856Z"
   },
   {
    "duration": 16,
    "start_time": "2021-11-15T13:05:48.508Z"
   },
   {
    "duration": 11,
    "start_time": "2021-11-15T13:06:48.345Z"
   },
   {
    "duration": 15,
    "start_time": "2021-11-15T13:06:49.100Z"
   },
   {
    "duration": 11,
    "start_time": "2021-11-15T13:06:59.631Z"
   },
   {
    "duration": 16,
    "start_time": "2021-11-15T13:07:02.615Z"
   },
   {
    "duration": 902,
    "start_time": "2021-11-15T13:07:23.351Z"
   },
   {
    "duration": 530,
    "start_time": "2021-11-15T13:07:24.255Z"
   },
   {
    "duration": 3,
    "start_time": "2021-11-15T13:07:24.788Z"
   },
   {
    "duration": 35,
    "start_time": "2021-11-15T13:07:24.794Z"
   },
   {
    "duration": 19,
    "start_time": "2021-11-15T13:07:24.831Z"
   },
   {
    "duration": 45,
    "start_time": "2021-11-15T13:07:24.853Z"
   },
   {
    "duration": 10,
    "start_time": "2021-11-15T13:07:24.900Z"
   },
   {
    "duration": 12,
    "start_time": "2021-11-15T13:07:24.914Z"
   },
   {
    "duration": 85,
    "start_time": "2021-11-15T13:07:24.929Z"
   },
   {
    "duration": 16,
    "start_time": "2021-11-15T13:07:25.017Z"
   },
   {
    "duration": 15,
    "start_time": "2021-11-15T13:07:25.035Z"
   },
   {
    "duration": 37,
    "start_time": "2021-11-15T13:07:25.053Z"
   },
   {
    "duration": 14,
    "start_time": "2021-11-15T13:07:25.093Z"
   },
   {
    "duration": 22,
    "start_time": "2021-11-15T13:07:25.109Z"
   },
   {
    "duration": 16,
    "start_time": "2021-11-15T13:07:25.133Z"
   },
   {
    "duration": 5,
    "start_time": "2021-11-15T13:07:25.152Z"
   },
   {
    "duration": 3,
    "start_time": "2021-11-15T13:07:25.183Z"
   },
   {
    "duration": 14,
    "start_time": "2021-11-15T13:07:25.189Z"
   },
   {
    "duration": 8,
    "start_time": "2021-11-15T13:07:25.205Z"
   },
   {
    "duration": 18,
    "start_time": "2021-11-15T13:07:25.216Z"
   },
   {
    "duration": 45,
    "start_time": "2021-11-15T13:07:25.236Z"
   },
   {
    "duration": 16,
    "start_time": "2021-11-15T13:07:25.284Z"
   },
   {
    "duration": 19,
    "start_time": "2021-11-15T13:07:25.304Z"
   },
   {
    "duration": 548,
    "start_time": "2021-11-15T13:08:02.329Z"
   },
   {
    "duration": 303,
    "start_time": "2021-11-15T13:08:37.904Z"
   },
   {
    "duration": 339,
    "start_time": "2021-11-15T13:14:18.000Z"
   },
   {
    "duration": 31,
    "start_time": "2021-11-15T13:14:30.660Z"
   },
   {
    "duration": 37,
    "start_time": "2021-11-15T13:15:10.338Z"
   },
   {
    "duration": 359,
    "start_time": "2021-11-15T13:15:37.137Z"
   },
   {
    "duration": 31,
    "start_time": "2021-11-15T13:15:47.728Z"
   },
   {
    "duration": 22,
    "start_time": "2021-11-15T13:16:12.195Z"
   },
   {
    "duration": 339,
    "start_time": "2021-11-15T13:16:19.056Z"
   },
   {
    "duration": 327,
    "start_time": "2021-11-15T13:16:26.981Z"
   },
   {
    "duration": 11,
    "start_time": "2021-11-15T13:17:03.320Z"
   },
   {
    "duration": 12,
    "start_time": "2021-11-15T13:17:17.107Z"
   },
   {
    "duration": 11,
    "start_time": "2021-11-15T13:17:39.468Z"
   },
   {
    "duration": 11,
    "start_time": "2021-11-15T13:17:49.029Z"
   },
   {
    "duration": 11,
    "start_time": "2021-11-15T13:18:12.535Z"
   },
   {
    "duration": 13,
    "start_time": "2021-11-15T13:18:25.824Z"
   },
   {
    "duration": 852,
    "start_time": "2021-11-15T13:18:32.841Z"
   },
   {
    "duration": 525,
    "start_time": "2021-11-15T13:18:33.695Z"
   },
   {
    "duration": 3,
    "start_time": "2021-11-15T13:18:34.224Z"
   },
   {
    "duration": 35,
    "start_time": "2021-11-15T13:18:34.231Z"
   },
   {
    "duration": 21,
    "start_time": "2021-11-15T13:18:34.269Z"
   },
   {
    "duration": 34,
    "start_time": "2021-11-15T13:18:34.293Z"
   },
   {
    "duration": 8,
    "start_time": "2021-11-15T13:18:34.329Z"
   },
   {
    "duration": 46,
    "start_time": "2021-11-15T13:18:34.341Z"
   },
   {
    "duration": 53,
    "start_time": "2021-11-15T13:18:34.390Z"
   },
   {
    "duration": 15,
    "start_time": "2021-11-15T13:18:34.445Z"
   },
   {
    "duration": 10,
    "start_time": "2021-11-15T13:18:34.483Z"
   },
   {
    "duration": 16,
    "start_time": "2021-11-15T13:18:34.495Z"
   },
   {
    "duration": 13,
    "start_time": "2021-11-15T13:18:34.514Z"
   },
   {
    "duration": 19,
    "start_time": "2021-11-15T13:18:34.529Z"
   },
   {
    "duration": 35,
    "start_time": "2021-11-15T13:18:34.551Z"
   },
   {
    "duration": 5,
    "start_time": "2021-11-15T13:18:34.588Z"
   },
   {
    "duration": 5,
    "start_time": "2021-11-15T13:18:34.596Z"
   },
   {
    "duration": 8,
    "start_time": "2021-11-15T13:18:34.603Z"
   },
   {
    "duration": 9,
    "start_time": "2021-11-15T13:18:34.613Z"
   },
   {
    "duration": 7,
    "start_time": "2021-11-15T13:18:34.624Z"
   },
   {
    "duration": 55,
    "start_time": "2021-11-15T13:18:34.633Z"
   },
   {
    "duration": 14,
    "start_time": "2021-11-15T13:18:34.691Z"
   },
   {
    "duration": 27,
    "start_time": "2021-11-15T13:18:34.708Z"
   },
   {
    "duration": 21,
    "start_time": "2021-11-15T13:18:34.738Z"
   },
   {
    "duration": 431,
    "start_time": "2021-11-15T13:18:54.072Z"
   },
   {
    "duration": 3,
    "start_time": "2021-11-15T13:19:09.688Z"
   },
   {
    "duration": 561,
    "start_time": "2021-11-15T13:19:09.694Z"
   },
   {
    "duration": 3,
    "start_time": "2021-11-15T13:19:10.258Z"
   },
   {
    "duration": 36,
    "start_time": "2021-11-15T13:19:10.264Z"
   },
   {
    "duration": 21,
    "start_time": "2021-11-15T13:19:10.303Z"
   },
   {
    "duration": 31,
    "start_time": "2021-11-15T13:19:10.327Z"
   },
   {
    "duration": 24,
    "start_time": "2021-11-15T13:19:10.361Z"
   },
   {
    "duration": 16,
    "start_time": "2021-11-15T13:19:10.389Z"
   },
   {
    "duration": 47,
    "start_time": "2021-11-15T13:19:10.410Z"
   },
   {
    "duration": 35,
    "start_time": "2021-11-15T13:19:10.459Z"
   },
   {
    "duration": 15,
    "start_time": "2021-11-15T13:19:10.497Z"
   },
   {
    "duration": 19,
    "start_time": "2021-11-15T13:19:10.515Z"
   },
   {
    "duration": 24,
    "start_time": "2021-11-15T13:19:10.537Z"
   },
   {
    "duration": 26,
    "start_time": "2021-11-15T13:19:10.582Z"
   },
   {
    "duration": 26,
    "start_time": "2021-11-15T13:19:10.610Z"
   },
   {
    "duration": 12,
    "start_time": "2021-11-15T13:19:10.638Z"
   },
   {
    "duration": 7,
    "start_time": "2021-11-15T13:19:10.653Z"
   },
   {
    "duration": 10,
    "start_time": "2021-11-15T13:19:10.662Z"
   },
   {
    "duration": 8,
    "start_time": "2021-11-15T13:19:10.674Z"
   },
   {
    "duration": 14,
    "start_time": "2021-11-15T13:19:10.685Z"
   },
   {
    "duration": 21,
    "start_time": "2021-11-15T13:19:10.701Z"
   },
   {
    "duration": 26,
    "start_time": "2021-11-15T13:19:10.724Z"
   },
   {
    "duration": 28,
    "start_time": "2021-11-15T13:19:10.754Z"
   },
   {
    "duration": 16,
    "start_time": "2021-11-15T13:19:10.784Z"
   },
   {
    "duration": 941,
    "start_time": "2021-11-15T13:19:55.810Z"
   },
   {
    "duration": 538,
    "start_time": "2021-11-15T13:19:56.754Z"
   },
   {
    "duration": 3,
    "start_time": "2021-11-15T13:19:57.295Z"
   },
   {
    "duration": 35,
    "start_time": "2021-11-15T13:19:57.300Z"
   },
   {
    "duration": 18,
    "start_time": "2021-11-15T13:19:57.337Z"
   },
   {
    "duration": 39,
    "start_time": "2021-11-15T13:19:57.358Z"
   },
   {
    "duration": 8,
    "start_time": "2021-11-15T13:19:57.400Z"
   },
   {
    "duration": 14,
    "start_time": "2021-11-15T13:19:57.412Z"
   },
   {
    "duration": 84,
    "start_time": "2021-11-15T13:19:57.429Z"
   },
   {
    "duration": 16,
    "start_time": "2021-11-15T13:19:57.515Z"
   },
   {
    "duration": 12,
    "start_time": "2021-11-15T13:19:57.534Z"
   },
   {
    "duration": 43,
    "start_time": "2021-11-15T13:19:57.549Z"
   },
   {
    "duration": 17,
    "start_time": "2021-11-15T13:19:57.594Z"
   },
   {
    "duration": 23,
    "start_time": "2021-11-15T13:19:57.613Z"
   },
   {
    "duration": 13,
    "start_time": "2021-11-15T13:19:57.638Z"
   },
   {
    "duration": 5,
    "start_time": "2021-11-15T13:19:57.653Z"
   },
   {
    "duration": 24,
    "start_time": "2021-11-15T13:19:57.660Z"
   },
   {
    "duration": 16,
    "start_time": "2021-11-15T13:19:57.687Z"
   },
   {
    "duration": 10,
    "start_time": "2021-11-15T13:19:57.705Z"
   },
   {
    "duration": 29,
    "start_time": "2021-11-15T13:19:57.717Z"
   },
   {
    "duration": 26,
    "start_time": "2021-11-15T13:19:57.748Z"
   },
   {
    "duration": 15,
    "start_time": "2021-11-15T13:19:57.777Z"
   },
   {
    "duration": 21,
    "start_time": "2021-11-15T13:19:57.797Z"
   },
   {
    "duration": 17,
    "start_time": "2021-11-15T13:19:57.820Z"
   },
   {
    "duration": 14,
    "start_time": "2021-11-15T13:20:45.362Z"
   },
   {
    "duration": 15,
    "start_time": "2021-11-15T13:21:58.724Z"
   },
   {
    "duration": 15,
    "start_time": "2021-11-15T13:22:33.642Z"
   },
   {
    "duration": 15,
    "start_time": "2021-11-15T13:22:47.273Z"
   },
   {
    "duration": 15,
    "start_time": "2021-11-15T13:22:53.153Z"
   },
   {
    "duration": 15,
    "start_time": "2021-11-15T13:23:15.966Z"
   },
   {
    "duration": 15,
    "start_time": "2021-11-15T13:23:28.561Z"
   },
   {
    "duration": 16,
    "start_time": "2021-11-15T13:23:50.286Z"
   },
   {
    "duration": 6,
    "start_time": "2021-11-15T13:24:36.160Z"
   },
   {
    "duration": 465,
    "start_time": "2021-11-15T13:24:51.697Z"
   },
   {
    "duration": 13,
    "start_time": "2021-11-15T13:25:01.501Z"
   },
   {
    "duration": 16,
    "start_time": "2021-11-15T13:25:51.002Z"
   },
   {
    "duration": 14,
    "start_time": "2021-11-15T13:25:56.636Z"
   },
   {
    "duration": 989,
    "start_time": "2021-11-15T13:26:30.642Z"
   },
   {
    "duration": 532,
    "start_time": "2021-11-15T13:26:31.633Z"
   },
   {
    "duration": 3,
    "start_time": "2021-11-15T13:26:32.171Z"
   },
   {
    "duration": 33,
    "start_time": "2021-11-15T13:26:32.177Z"
   },
   {
    "duration": 21,
    "start_time": "2021-11-15T13:26:32.213Z"
   },
   {
    "duration": 50,
    "start_time": "2021-11-15T13:26:32.237Z"
   },
   {
    "duration": 9,
    "start_time": "2021-11-15T13:26:32.290Z"
   },
   {
    "duration": 12,
    "start_time": "2021-11-15T13:26:32.303Z"
   },
   {
    "duration": 89,
    "start_time": "2021-11-15T13:26:32.318Z"
   },
   {
    "duration": 15,
    "start_time": "2021-11-15T13:26:32.410Z"
   },
   {
    "duration": 27,
    "start_time": "2021-11-15T13:26:32.428Z"
   },
   {
    "duration": 25,
    "start_time": "2021-11-15T13:26:32.459Z"
   },
   {
    "duration": 26,
    "start_time": "2021-11-15T13:26:32.488Z"
   },
   {
    "duration": 18,
    "start_time": "2021-11-15T13:26:32.517Z"
   },
   {
    "duration": 12,
    "start_time": "2021-11-15T13:26:32.537Z"
   },
   {
    "duration": 6,
    "start_time": "2021-11-15T13:26:32.581Z"
   },
   {
    "duration": 5,
    "start_time": "2021-11-15T13:26:32.590Z"
   },
   {
    "duration": 10,
    "start_time": "2021-11-15T13:26:32.597Z"
   },
   {
    "duration": 7,
    "start_time": "2021-11-15T13:26:32.609Z"
   },
   {
    "duration": 12,
    "start_time": "2021-11-15T13:26:32.618Z"
   },
   {
    "duration": 776,
    "start_time": "2021-11-15T13:26:32.633Z"
   },
   {
    "duration": -648,
    "start_time": "2021-11-15T13:26:34.060Z"
   },
   {
    "duration": -651,
    "start_time": "2021-11-15T13:26:34.065Z"
   },
   {
    "duration": 946,
    "start_time": "2021-11-15T13:29:12.454Z"
   },
   {
    "duration": 523,
    "start_time": "2021-11-15T13:29:13.402Z"
   },
   {
    "duration": 3,
    "start_time": "2021-11-15T13:29:13.928Z"
   },
   {
    "duration": 33,
    "start_time": "2021-11-15T13:29:13.934Z"
   },
   {
    "duration": 19,
    "start_time": "2021-11-15T13:29:13.970Z"
   },
   {
    "duration": 22,
    "start_time": "2021-11-15T13:29:13.992Z"
   },
   {
    "duration": 9,
    "start_time": "2021-11-15T13:29:14.016Z"
   },
   {
    "duration": 12,
    "start_time": "2021-11-15T13:29:14.028Z"
   },
   {
    "duration": 86,
    "start_time": "2021-11-15T13:29:14.043Z"
   },
   {
    "duration": 15,
    "start_time": "2021-11-15T13:29:14.132Z"
   },
   {
    "duration": 18,
    "start_time": "2021-11-15T13:29:14.149Z"
   },
   {
    "duration": 12,
    "start_time": "2021-11-15T13:29:14.182Z"
   },
   {
    "duration": 14,
    "start_time": "2021-11-15T13:29:14.196Z"
   },
   {
    "duration": 17,
    "start_time": "2021-11-15T13:29:14.212Z"
   },
   {
    "duration": 51,
    "start_time": "2021-11-15T13:29:14.231Z"
   },
   {
    "duration": 6,
    "start_time": "2021-11-15T13:29:14.284Z"
   },
   {
    "duration": 8,
    "start_time": "2021-11-15T13:29:14.292Z"
   },
   {
    "duration": 8,
    "start_time": "2021-11-15T13:29:14.302Z"
   },
   {
    "duration": 485,
    "start_time": "2021-11-15T13:29:14.312Z"
   },
   {
    "duration": -683,
    "start_time": "2021-11-15T13:29:15.483Z"
   },
   {
    "duration": 18,
    "start_time": "2021-11-15T13:29:31.689Z"
   },
   {
    "duration": 64,
    "start_time": "2021-11-15T13:29:46.052Z"
   },
   {
    "duration": 409,
    "start_time": "2021-11-15T13:31:44.747Z"
   },
   {
    "duration": 438,
    "start_time": "2021-11-15T13:32:09.417Z"
   },
   {
    "duration": 44,
    "start_time": "2021-11-15T13:32:24.582Z"
   },
   {
    "duration": 37,
    "start_time": "2021-11-15T13:32:28.687Z"
   },
   {
    "duration": 74,
    "start_time": "2021-11-15T13:32:35.986Z"
   },
   {
    "duration": 49,
    "start_time": "2021-11-15T13:32:45.369Z"
   },
   {
    "duration": 164,
    "start_time": "2021-11-15T13:32:51.180Z"
   },
   {
    "duration": 63,
    "start_time": "2021-11-15T13:32:56.519Z"
   },
   {
    "duration": 987,
    "start_time": "2021-11-15T13:34:20.047Z"
   },
   {
    "duration": 508,
    "start_time": "2021-11-15T13:34:21.037Z"
   },
   {
    "duration": 3,
    "start_time": "2021-11-15T13:34:21.548Z"
   },
   {
    "duration": 45,
    "start_time": "2021-11-15T13:34:21.553Z"
   },
   {
    "duration": 19,
    "start_time": "2021-11-15T13:34:21.601Z"
   },
   {
    "duration": 23,
    "start_time": "2021-11-15T13:34:21.623Z"
   },
   {
    "duration": 9,
    "start_time": "2021-11-15T13:34:21.648Z"
   },
   {
    "duration": 8,
    "start_time": "2021-11-15T13:34:21.683Z"
   },
   {
    "duration": 60,
    "start_time": "2021-11-15T13:34:21.694Z"
   },
   {
    "duration": 38,
    "start_time": "2021-11-15T13:34:21.757Z"
   },
   {
    "duration": 13,
    "start_time": "2021-11-15T13:34:21.798Z"
   },
   {
    "duration": 20,
    "start_time": "2021-11-15T13:34:21.814Z"
   },
   {
    "duration": 46,
    "start_time": "2021-11-15T13:34:21.837Z"
   },
   {
    "duration": 15,
    "start_time": "2021-11-15T13:34:21.886Z"
   },
   {
    "duration": 14,
    "start_time": "2021-11-15T13:34:21.903Z"
   },
   {
    "duration": 9,
    "start_time": "2021-11-15T13:34:21.920Z"
   },
   {
    "duration": 16,
    "start_time": "2021-11-15T13:34:21.932Z"
   },
   {
    "duration": 31,
    "start_time": "2021-11-15T13:34:21.951Z"
   },
   {
    "duration": 11,
    "start_time": "2021-11-15T13:34:21.985Z"
   },
   {
    "duration": 16,
    "start_time": "2021-11-15T13:34:21.998Z"
   },
   {
    "duration": 13,
    "start_time": "2021-11-15T13:34:22.016Z"
   },
   {
    "duration": 15,
    "start_time": "2021-11-15T13:35:10.796Z"
   },
   {
    "duration": 6,
    "start_time": "2021-11-15T13:36:39.975Z"
   },
   {
    "duration": 8,
    "start_time": "2021-11-15T13:36:55.523Z"
   },
   {
    "duration": 9,
    "start_time": "2021-11-15T13:41:49.533Z"
   },
   {
    "duration": 6,
    "start_time": "2021-11-15T13:42:12.051Z"
   },
   {
    "duration": 8,
    "start_time": "2021-11-15T13:42:21.668Z"
   },
   {
    "duration": 15,
    "start_time": "2021-11-15T13:42:24.769Z"
   },
   {
    "duration": 6,
    "start_time": "2021-11-15T13:42:55.764Z"
   },
   {
    "duration": 898,
    "start_time": "2021-11-15T13:43:16.805Z"
   },
   {
    "duration": 524,
    "start_time": "2021-11-15T13:43:17.706Z"
   },
   {
    "duration": 3,
    "start_time": "2021-11-15T13:43:18.233Z"
   },
   {
    "duration": 32,
    "start_time": "2021-11-15T13:43:18.238Z"
   },
   {
    "duration": 19,
    "start_time": "2021-11-15T13:43:18.272Z"
   },
   {
    "duration": 24,
    "start_time": "2021-11-15T13:43:18.293Z"
   },
   {
    "duration": 9,
    "start_time": "2021-11-15T13:43:18.319Z"
   },
   {
    "duration": 16,
    "start_time": "2021-11-15T13:43:18.332Z"
   },
   {
    "duration": 82,
    "start_time": "2021-11-15T13:43:18.351Z"
   },
   {
    "duration": 15,
    "start_time": "2021-11-15T13:43:18.436Z"
   },
   {
    "duration": 34,
    "start_time": "2021-11-15T13:43:18.454Z"
   },
   {
    "duration": 18,
    "start_time": "2021-11-15T13:43:18.491Z"
   },
   {
    "duration": 17,
    "start_time": "2021-11-15T13:43:18.512Z"
   },
   {
    "duration": 18,
    "start_time": "2021-11-15T13:43:18.531Z"
   },
   {
    "duration": 36,
    "start_time": "2021-11-15T13:43:18.551Z"
   },
   {
    "duration": 5,
    "start_time": "2021-11-15T13:43:18.589Z"
   },
   {
    "duration": 11,
    "start_time": "2021-11-15T13:43:18.597Z"
   },
   {
    "duration": 13,
    "start_time": "2021-11-15T13:43:18.610Z"
   },
   {
    "duration": 24,
    "start_time": "2021-11-15T13:43:18.625Z"
   },
   {
    "duration": 20,
    "start_time": "2021-11-15T13:43:18.651Z"
   },
   {
    "duration": 16,
    "start_time": "2021-11-15T13:43:18.674Z"
   },
   {
    "duration": 33,
    "start_time": "2021-11-15T13:43:18.692Z"
   },
   {
    "duration": 20,
    "start_time": "2021-11-15T13:43:18.730Z"
   },
   {
    "duration": 20,
    "start_time": "2021-11-15T13:43:18.753Z"
   },
   {
    "duration": 30,
    "start_time": "2021-11-15T13:43:18.775Z"
   },
   {
    "duration": 25,
    "start_time": "2021-11-15T13:43:18.808Z"
   },
   {
    "duration": 27,
    "start_time": "2021-11-15T13:43:18.835Z"
   },
   {
    "duration": 7,
    "start_time": "2021-11-15T13:43:32.188Z"
   },
   {
    "duration": 868,
    "start_time": "2021-11-15T13:43:52.368Z"
   },
   {
    "duration": 530,
    "start_time": "2021-11-15T13:43:53.239Z"
   },
   {
    "duration": 4,
    "start_time": "2021-11-15T13:43:53.773Z"
   },
   {
    "duration": 35,
    "start_time": "2021-11-15T13:43:53.780Z"
   },
   {
    "duration": 22,
    "start_time": "2021-11-15T13:43:53.818Z"
   },
   {
    "duration": 48,
    "start_time": "2021-11-15T13:43:53.843Z"
   },
   {
    "duration": 10,
    "start_time": "2021-11-15T13:43:53.895Z"
   },
   {
    "duration": 14,
    "start_time": "2021-11-15T13:43:53.910Z"
   },
   {
    "duration": 92,
    "start_time": "2021-11-15T13:43:53.928Z"
   },
   {
    "duration": 18,
    "start_time": "2021-11-15T13:43:54.022Z"
   },
   {
    "duration": 39,
    "start_time": "2021-11-15T13:43:54.043Z"
   },
   {
    "duration": 13,
    "start_time": "2021-11-15T13:43:54.085Z"
   },
   {
    "duration": 11,
    "start_time": "2021-11-15T13:43:54.101Z"
   },
   {
    "duration": 19,
    "start_time": "2021-11-15T13:43:54.114Z"
   },
   {
    "duration": 20,
    "start_time": "2021-11-15T13:43:54.135Z"
   },
   {
    "duration": 5,
    "start_time": "2021-11-15T13:43:54.181Z"
   },
   {
    "duration": 12,
    "start_time": "2021-11-15T13:43:54.189Z"
   },
   {
    "duration": 17,
    "start_time": "2021-11-15T13:43:54.203Z"
   },
   {
    "duration": 17,
    "start_time": "2021-11-15T13:43:54.222Z"
   },
   {
    "duration": 11,
    "start_time": "2021-11-15T13:43:54.242Z"
   },
   {
    "duration": 11,
    "start_time": "2021-11-15T13:43:54.256Z"
   },
   {
    "duration": 12,
    "start_time": "2021-11-15T13:43:54.270Z"
   },
   {
    "duration": 11,
    "start_time": "2021-11-15T13:43:54.286Z"
   },
   {
    "duration": 12,
    "start_time": "2021-11-15T13:43:54.300Z"
   },
   {
    "duration": 10,
    "start_time": "2021-11-15T13:43:54.315Z"
   },
   {
    "duration": 18,
    "start_time": "2021-11-15T13:43:54.327Z"
   },
   {
    "duration": 14,
    "start_time": "2021-11-15T13:43:54.347Z"
   },
   {
    "duration": 42,
    "start_time": "2021-11-15T13:44:47.991Z"
   },
   {
    "duration": 10,
    "start_time": "2021-11-15T13:45:47.307Z"
   },
   {
    "duration": 444,
    "start_time": "2021-11-15T13:45:47.694Z"
   },
   {
    "duration": -646,
    "start_time": "2021-11-15T13:45:48.786Z"
   },
   {
    "duration": 24,
    "start_time": "2021-11-15T13:45:55.261Z"
   },
   {
    "duration": 34,
    "start_time": "2021-11-15T13:45:56.153Z"
   },
   {
    "duration": 15,
    "start_time": "2021-11-15T13:46:03.938Z"
   },
   {
    "duration": 891,
    "start_time": "2021-11-15T13:46:21.811Z"
   },
   {
    "duration": 540,
    "start_time": "2021-11-15T13:46:22.705Z"
   },
   {
    "duration": 3,
    "start_time": "2021-11-15T13:46:23.248Z"
   },
   {
    "duration": 32,
    "start_time": "2021-11-15T13:46:23.253Z"
   },
   {
    "duration": 19,
    "start_time": "2021-11-15T13:46:23.287Z"
   },
   {
    "duration": 21,
    "start_time": "2021-11-15T13:46:23.309Z"
   },
   {
    "duration": 8,
    "start_time": "2021-11-15T13:46:23.332Z"
   },
   {
    "duration": 41,
    "start_time": "2021-11-15T13:46:23.342Z"
   },
   {
    "duration": 60,
    "start_time": "2021-11-15T13:46:23.387Z"
   },
   {
    "duration": 36,
    "start_time": "2021-11-15T13:46:23.451Z"
   },
   {
    "duration": 10,
    "start_time": "2021-11-15T13:46:23.489Z"
   },
   {
    "duration": 15,
    "start_time": "2021-11-15T13:46:23.502Z"
   },
   {
    "duration": 14,
    "start_time": "2021-11-15T13:46:23.520Z"
   },
   {
    "duration": 52,
    "start_time": "2021-11-15T13:46:23.536Z"
   },
   {
    "duration": 12,
    "start_time": "2021-11-15T13:46:23.590Z"
   },
   {
    "duration": 6,
    "start_time": "2021-11-15T13:46:23.605Z"
   },
   {
    "duration": 6,
    "start_time": "2021-11-15T13:46:23.613Z"
   },
   {
    "duration": 7,
    "start_time": "2021-11-15T13:46:23.621Z"
   },
   {
    "duration": 5,
    "start_time": "2021-11-15T13:46:23.631Z"
   },
   {
    "duration": 5,
    "start_time": "2021-11-15T13:46:23.639Z"
   },
   {
    "duration": 11,
    "start_time": "2021-11-15T13:46:23.683Z"
   },
   {
    "duration": 8,
    "start_time": "2021-11-15T13:46:23.696Z"
   },
   {
    "duration": 7,
    "start_time": "2021-11-15T13:46:23.707Z"
   },
   {
    "duration": 40,
    "start_time": "2021-11-15T13:46:23.717Z"
   },
   {
    "duration": 44,
    "start_time": "2021-11-15T13:46:23.760Z"
   },
   {
    "duration": 34,
    "start_time": "2021-11-15T13:46:23.807Z"
   },
   {
    "duration": 38,
    "start_time": "2021-11-15T13:46:23.846Z"
   },
   {
    "duration": 20,
    "start_time": "2021-11-15T13:46:23.887Z"
   },
   {
    "duration": 13,
    "start_time": "2021-11-15T13:46:46.078Z"
   },
   {
    "duration": 17,
    "start_time": "2021-11-15T13:51:46.232Z"
   },
   {
    "duration": 19,
    "start_time": "2021-11-15T13:53:15.080Z"
   },
   {
    "duration": 870,
    "start_time": "2021-11-15T13:53:35.484Z"
   },
   {
    "duration": 525,
    "start_time": "2021-11-15T13:53:36.357Z"
   },
   {
    "duration": 3,
    "start_time": "2021-11-15T13:53:36.885Z"
   },
   {
    "duration": 38,
    "start_time": "2021-11-15T13:53:36.890Z"
   },
   {
    "duration": 20,
    "start_time": "2021-11-15T13:53:36.930Z"
   },
   {
    "duration": 46,
    "start_time": "2021-11-15T13:53:36.953Z"
   },
   {
    "duration": 26,
    "start_time": "2021-11-15T13:53:37.002Z"
   },
   {
    "duration": 19,
    "start_time": "2021-11-15T13:53:37.033Z"
   },
   {
    "duration": 60,
    "start_time": "2021-11-15T13:53:37.055Z"
   },
   {
    "duration": 16,
    "start_time": "2021-11-15T13:53:37.117Z"
   },
   {
    "duration": 10,
    "start_time": "2021-11-15T13:53:37.136Z"
   },
   {
    "duration": 42,
    "start_time": "2021-11-15T13:53:37.148Z"
   },
   {
    "duration": 23,
    "start_time": "2021-11-15T13:53:37.193Z"
   },
   {
    "duration": 20,
    "start_time": "2021-11-15T13:53:37.218Z"
   },
   {
    "duration": 28,
    "start_time": "2021-11-15T13:53:37.241Z"
   },
   {
    "duration": 16,
    "start_time": "2021-11-15T13:53:37.272Z"
   },
   {
    "duration": 23,
    "start_time": "2021-11-15T13:53:37.290Z"
   },
   {
    "duration": 30,
    "start_time": "2021-11-15T13:53:37.315Z"
   },
   {
    "duration": 20,
    "start_time": "2021-11-15T13:53:37.347Z"
   },
   {
    "duration": 13,
    "start_time": "2021-11-15T13:53:37.369Z"
   },
   {
    "duration": 22,
    "start_time": "2021-11-15T13:53:37.384Z"
   },
   {
    "duration": 18,
    "start_time": "2021-11-15T13:53:37.408Z"
   },
   {
    "duration": 28,
    "start_time": "2021-11-15T13:53:37.430Z"
   },
   {
    "duration": 52,
    "start_time": "2021-11-15T13:53:37.460Z"
   },
   {
    "duration": 25,
    "start_time": "2021-11-15T13:53:37.515Z"
   },
   {
    "duration": 48,
    "start_time": "2021-11-15T13:53:37.542Z"
   },
   {
    "duration": 17,
    "start_time": "2021-11-15T13:53:37.593Z"
   },
   {
    "duration": 25,
    "start_time": "2021-11-15T13:53:37.612Z"
   },
   {
    "duration": 16,
    "start_time": "2021-11-15T13:53:37.639Z"
   },
   {
    "duration": 7,
    "start_time": "2021-11-15T13:53:37.682Z"
   },
   {
    "duration": 424,
    "start_time": "2021-11-15T13:57:58.604Z"
   },
   {
    "duration": 291,
    "start_time": "2021-11-15T13:58:11.965Z"
   },
   {
    "duration": 306,
    "start_time": "2021-11-15T13:58:35.873Z"
   },
   {
    "duration": 3,
    "start_time": "2021-11-15T13:58:40.525Z"
   },
   {
    "duration": 17,
    "start_time": "2021-11-15T13:58:42.556Z"
   },
   {
    "duration": 295,
    "start_time": "2021-11-15T13:58:43.234Z"
   },
   {
    "duration": 311,
    "start_time": "2021-11-15T14:03:19.836Z"
   },
   {
    "duration": 333,
    "start_time": "2021-11-15T14:03:51.642Z"
   },
   {
    "duration": 326,
    "start_time": "2021-11-15T14:03:58.379Z"
   },
   {
    "duration": 18,
    "start_time": "2021-11-15T14:05:16.690Z"
   },
   {
    "duration": 1049,
    "start_time": "2021-11-15T14:05:31.851Z"
   },
   {
    "duration": 2215,
    "start_time": "2021-11-15T14:05:32.903Z"
   },
   {
    "duration": 3,
    "start_time": "2021-11-15T14:05:35.122Z"
   },
   {
    "duration": 32,
    "start_time": "2021-11-15T14:05:35.128Z"
   },
   {
    "duration": 20,
    "start_time": "2021-11-15T14:05:35.163Z"
   },
   {
    "duration": 26,
    "start_time": "2021-11-15T14:05:35.185Z"
   },
   {
    "duration": 12,
    "start_time": "2021-11-15T14:05:35.214Z"
   },
   {
    "duration": 18,
    "start_time": "2021-11-15T14:05:35.228Z"
   },
   {
    "duration": 76,
    "start_time": "2021-11-15T14:05:35.251Z"
   },
   {
    "duration": 16,
    "start_time": "2021-11-15T14:05:35.330Z"
   },
   {
    "duration": 36,
    "start_time": "2021-11-15T14:05:35.348Z"
   },
   {
    "duration": 20,
    "start_time": "2021-11-15T14:05:35.386Z"
   },
   {
    "duration": 16,
    "start_time": "2021-11-15T14:05:35.408Z"
   },
   {
    "duration": 21,
    "start_time": "2021-11-15T14:05:35.426Z"
   },
   {
    "duration": 32,
    "start_time": "2021-11-15T14:05:35.450Z"
   },
   {
    "duration": 5,
    "start_time": "2021-11-15T14:05:35.484Z"
   },
   {
    "duration": 14,
    "start_time": "2021-11-15T14:05:35.492Z"
   },
   {
    "duration": 17,
    "start_time": "2021-11-15T14:05:35.508Z"
   },
   {
    "duration": 52,
    "start_time": "2021-11-15T14:05:35.527Z"
   },
   {
    "duration": 9,
    "start_time": "2021-11-15T14:05:35.582Z"
   },
   {
    "duration": 13,
    "start_time": "2021-11-15T14:05:35.594Z"
   },
   {
    "duration": 15,
    "start_time": "2021-11-15T14:05:35.610Z"
   },
   {
    "duration": 10,
    "start_time": "2021-11-15T14:05:35.628Z"
   },
   {
    "duration": 58,
    "start_time": "2021-11-15T14:05:35.640Z"
   },
   {
    "duration": 26,
    "start_time": "2021-11-15T14:05:35.701Z"
   },
   {
    "duration": 34,
    "start_time": "2021-11-15T14:05:35.729Z"
   },
   {
    "duration": 4,
    "start_time": "2021-11-15T14:05:35.783Z"
   },
   {
    "duration": 27,
    "start_time": "2021-11-15T14:05:35.789Z"
   },
   {
    "duration": 21,
    "start_time": "2021-11-15T14:05:35.819Z"
   },
   {
    "duration": 41,
    "start_time": "2021-11-15T14:05:35.843Z"
   },
   {
    "duration": 18,
    "start_time": "2021-11-15T14:05:35.886Z"
   },
   {
    "duration": 14,
    "start_time": "2021-11-15T14:06:23.296Z"
   },
   {
    "duration": 5,
    "start_time": "2021-11-15T14:06:35.495Z"
   },
   {
    "duration": 415,
    "start_time": "2021-11-15T14:11:30.241Z"
   },
   {
    "duration": 336,
    "start_time": "2021-11-15T14:11:45.505Z"
   },
   {
    "duration": 304,
    "start_time": "2021-11-15T14:11:53.532Z"
   },
   {
    "duration": 8,
    "start_time": "2021-11-15T14:12:01.966Z"
   },
   {
    "duration": 10,
    "start_time": "2021-11-15T14:12:15.270Z"
   },
   {
    "duration": 275,
    "start_time": "2021-11-15T16:33:59.144Z"
   },
   {
    "duration": 319,
    "start_time": "2021-11-15T16:34:09.444Z"
   },
   {
    "duration": 410,
    "start_time": "2021-11-15T16:34:15.230Z"
   },
   {
    "duration": 452,
    "start_time": "2021-11-15T16:34:33.404Z"
   },
   {
    "duration": 558,
    "start_time": "2021-11-15T16:34:52.459Z"
   },
   {
    "duration": 398,
    "start_time": "2021-11-15T16:34:58.205Z"
   },
   {
    "duration": 8,
    "start_time": "2021-11-15T16:36:29.640Z"
   },
   {
    "duration": 10,
    "start_time": "2021-11-15T16:53:49.914Z"
   },
   {
    "duration": 9,
    "start_time": "2021-11-15T16:58:37.749Z"
   },
   {
    "duration": 342,
    "start_time": "2021-11-15T17:14:24.370Z"
   },
   {
    "duration": 674,
    "start_time": "2021-11-15T17:15:01.981Z"
   },
   {
    "duration": 743,
    "start_time": "2021-11-15T17:15:21.253Z"
   },
   {
    "duration": 740,
    "start_time": "2021-11-15T17:16:25.602Z"
   },
   {
    "duration": 717,
    "start_time": "2021-11-15T17:17:00.913Z"
   },
   {
    "duration": 7,
    "start_time": "2021-11-15T17:18:43.267Z"
   },
   {
    "duration": 16,
    "start_time": "2021-11-15T17:18:46.407Z"
   },
   {
    "duration": 7,
    "start_time": "2021-11-15T17:18:54.631Z"
   },
   {
    "duration": 411,
    "start_time": "2021-11-15T17:19:05.587Z"
   },
   {
    "duration": 303,
    "start_time": "2021-11-15T17:20:02.475Z"
   },
   {
    "duration": 304,
    "start_time": "2021-11-15T17:20:08.763Z"
   },
   {
    "duration": 890,
    "start_time": "2021-11-15T17:20:46.904Z"
   },
   {
    "duration": 528,
    "start_time": "2021-11-15T17:20:47.797Z"
   },
   {
    "duration": 3,
    "start_time": "2021-11-15T17:20:48.328Z"
   },
   {
    "duration": 31,
    "start_time": "2021-11-15T17:20:48.334Z"
   },
   {
    "duration": 20,
    "start_time": "2021-11-15T17:20:48.367Z"
   },
   {
    "duration": 23,
    "start_time": "2021-11-15T17:20:48.389Z"
   },
   {
    "duration": 9,
    "start_time": "2021-11-15T17:20:48.415Z"
   },
   {
    "duration": 9,
    "start_time": "2021-11-15T17:20:48.428Z"
   },
   {
    "duration": 94,
    "start_time": "2021-11-15T17:20:48.440Z"
   },
   {
    "duration": 15,
    "start_time": "2021-11-15T17:20:48.536Z"
   },
   {
    "duration": 29,
    "start_time": "2021-11-15T17:20:48.554Z"
   },
   {
    "duration": 13,
    "start_time": "2021-11-15T17:20:48.586Z"
   },
   {
    "duration": 13,
    "start_time": "2021-11-15T17:20:48.601Z"
   },
   {
    "duration": 16,
    "start_time": "2021-11-15T17:20:48.617Z"
   },
   {
    "duration": 13,
    "start_time": "2021-11-15T17:20:48.635Z"
   },
   {
    "duration": 32,
    "start_time": "2021-11-15T17:20:48.651Z"
   },
   {
    "duration": 7,
    "start_time": "2021-11-15T17:20:48.687Z"
   },
   {
    "duration": 8,
    "start_time": "2021-11-15T17:20:48.696Z"
   },
   {
    "duration": 6,
    "start_time": "2021-11-15T17:20:48.706Z"
   },
   {
    "duration": 8,
    "start_time": "2021-11-15T17:20:48.714Z"
   },
   {
    "duration": 7,
    "start_time": "2021-11-15T17:20:48.724Z"
   },
   {
    "duration": 11,
    "start_time": "2021-11-15T17:20:48.734Z"
   },
   {
    "duration": 6,
    "start_time": "2021-11-15T17:20:48.783Z"
   },
   {
    "duration": 44,
    "start_time": "2021-11-15T17:20:48.792Z"
   },
   {
    "duration": 47,
    "start_time": "2021-11-15T17:20:48.838Z"
   },
   {
    "duration": 35,
    "start_time": "2021-11-15T17:20:48.888Z"
   },
   {
    "duration": 6,
    "start_time": "2021-11-15T17:20:48.925Z"
   },
   {
    "duration": 9,
    "start_time": "2021-11-15T17:20:48.934Z"
   },
   {
    "duration": 41,
    "start_time": "2021-11-15T17:20:48.945Z"
   },
   {
    "duration": 11,
    "start_time": "2021-11-15T17:20:48.988Z"
   },
   {
    "duration": 424,
    "start_time": "2021-11-15T17:20:49.002Z"
   },
   {
    "duration": 7,
    "start_time": "2021-11-15T17:20:49.429Z"
   },
   {
    "duration": 14,
    "start_time": "2021-11-15T17:20:49.439Z"
   },
   {
    "duration": 35,
    "start_time": "2021-11-15T17:20:49.456Z"
   },
   {
    "duration": 340,
    "start_time": "2021-11-15T17:20:49.495Z"
   },
   {
    "duration": 295,
    "start_time": "2021-11-15T17:21:19.813Z"
   },
   {
    "duration": 8,
    "start_time": "2021-11-15T17:21:30.997Z"
   },
   {
    "duration": 9,
    "start_time": "2021-11-15T17:21:45.718Z"
   },
   {
    "duration": 10,
    "start_time": "2021-11-15T17:22:00.834Z"
   },
   {
    "duration": 10,
    "start_time": "2021-11-15T17:22:14.804Z"
   },
   {
    "duration": 10,
    "start_time": "2021-11-15T17:22:30.826Z"
   },
   {
    "duration": 6,
    "start_time": "2021-11-15T17:26:04.508Z"
   },
   {
    "duration": 6,
    "start_time": "2021-11-15T17:26:11.609Z"
   },
   {
    "duration": 210,
    "start_time": "2021-11-16T07:47:09.770Z"
   },
   {
    "duration": 601,
    "start_time": "2021-11-16T07:47:14.207Z"
   },
   {
    "duration": 384,
    "start_time": "2021-11-16T07:47:14.809Z"
   },
   {
    "duration": 2,
    "start_time": "2021-11-16T07:47:15.195Z"
   },
   {
    "duration": 23,
    "start_time": "2021-11-16T07:47:15.199Z"
   },
   {
    "duration": 13,
    "start_time": "2021-11-16T07:47:15.223Z"
   },
   {
    "duration": 15,
    "start_time": "2021-11-16T07:47:15.238Z"
   },
   {
    "duration": 5,
    "start_time": "2021-11-16T07:47:15.254Z"
   },
   {
    "duration": 32,
    "start_time": "2021-11-16T07:47:15.262Z"
   },
   {
    "duration": 40,
    "start_time": "2021-11-16T07:47:15.295Z"
   },
   {
    "duration": 10,
    "start_time": "2021-11-16T07:47:15.337Z"
   },
   {
    "duration": 9,
    "start_time": "2021-11-16T07:47:15.348Z"
   },
   {
    "duration": 9,
    "start_time": "2021-11-16T07:47:15.358Z"
   },
   {
    "duration": 30,
    "start_time": "2021-11-16T07:47:15.368Z"
   },
   {
    "duration": 11,
    "start_time": "2021-11-16T07:47:15.399Z"
   },
   {
    "duration": 8,
    "start_time": "2021-11-16T07:47:15.412Z"
   },
   {
    "duration": 3,
    "start_time": "2021-11-16T07:47:15.422Z"
   },
   {
    "duration": 4,
    "start_time": "2021-11-16T07:47:15.427Z"
   },
   {
    "duration": 10,
    "start_time": "2021-11-16T07:47:15.432Z"
   },
   {
    "duration": 6,
    "start_time": "2021-11-16T07:47:15.444Z"
   },
   {
    "duration": 5,
    "start_time": "2021-11-16T07:47:15.452Z"
   },
   {
    "duration": 5,
    "start_time": "2021-11-16T07:47:15.458Z"
   },
   {
    "duration": 6,
    "start_time": "2021-11-16T07:47:15.464Z"
   },
   {
    "duration": 4,
    "start_time": "2021-11-16T07:47:15.492Z"
   },
   {
    "duration": 29,
    "start_time": "2021-11-16T07:47:15.498Z"
   },
   {
    "duration": 16,
    "start_time": "2021-11-16T07:47:15.528Z"
   },
   {
    "duration": 22,
    "start_time": "2021-11-16T07:47:15.545Z"
   },
   {
    "duration": 22,
    "start_time": "2021-11-16T07:47:15.569Z"
   },
   {
    "duration": 10,
    "start_time": "2021-11-16T07:47:15.593Z"
   },
   {
    "duration": 7,
    "start_time": "2021-11-16T07:47:15.604Z"
   },
   {
    "duration": 256,
    "start_time": "2021-11-16T07:47:15.612Z"
   },
   {
    "duration": 6,
    "start_time": "2021-11-16T07:47:15.870Z"
   },
   {
    "duration": 16,
    "start_time": "2021-11-16T07:47:15.878Z"
   },
   {
    "duration": 7,
    "start_time": "2021-11-16T07:47:15.895Z"
   },
   {
    "duration": 7,
    "start_time": "2021-11-16T07:47:15.903Z"
   },
   {
    "duration": 6,
    "start_time": "2021-11-16T07:47:15.911Z"
   },
   {
    "duration": 7,
    "start_time": "2021-11-16T07:47:15.918Z"
   },
   {
    "duration": 9,
    "start_time": "2021-11-16T07:47:15.926Z"
   },
   {
    "duration": 8,
    "start_time": "2021-11-16T07:47:20.261Z"
   },
   {
    "duration": 57,
    "start_time": "2021-11-16T07:47:45.870Z"
   },
   {
    "duration": 4687,
    "start_time": "2021-11-16T07:48:36.042Z"
   },
   {
    "duration": 4407,
    "start_time": "2021-11-16T07:49:10.959Z"
   },
   {
    "duration": 67,
    "start_time": "2021-11-16T07:49:27.693Z"
   },
   {
    "duration": 229,
    "start_time": "2021-11-16T07:50:09.803Z"
   },
   {
    "duration": 213,
    "start_time": "2021-11-16T07:50:18.543Z"
   },
   {
    "duration": 6,
    "start_time": "2021-11-16T07:52:16.813Z"
   },
   {
    "duration": 197,
    "start_time": "2021-11-16T07:52:50.102Z"
   },
   {
    "duration": 172,
    "start_time": "2021-11-16T07:53:11.366Z"
   },
   {
    "duration": 187,
    "start_time": "2021-11-16T07:53:16.461Z"
   },
   {
    "duration": 232,
    "start_time": "2021-11-16T07:53:27.132Z"
   },
   {
    "duration": 6,
    "start_time": "2021-11-16T07:53:36.632Z"
   },
   {
    "duration": 5,
    "start_time": "2021-11-16T07:53:52.624Z"
   },
   {
    "duration": 5,
    "start_time": "2021-11-16T07:53:58.521Z"
   },
   {
    "duration": 20,
    "start_time": "2021-11-16T07:55:35.843Z"
   },
   {
    "duration": 4,
    "start_time": "2021-11-16T07:56:34.279Z"
   },
   {
    "duration": 6,
    "start_time": "2021-11-16T07:56:40.752Z"
   },
   {
    "duration": 4,
    "start_time": "2021-11-16T07:57:16.001Z"
   },
   {
    "duration": 4,
    "start_time": "2021-11-16T07:57:18.196Z"
   },
   {
    "duration": 5,
    "start_time": "2021-11-16T07:57:23.828Z"
   },
   {
    "duration": 50,
    "start_time": "2021-11-16T07:57:56.301Z"
   },
   {
    "duration": 16,
    "start_time": "2021-11-16T07:58:53.748Z"
   },
   {
    "duration": 197,
    "start_time": "2021-11-16T07:59:32.766Z"
   },
   {
    "duration": 23,
    "start_time": "2021-11-16T07:59:41.554Z"
   },
   {
    "duration": 24,
    "start_time": "2021-11-16T08:00:40.041Z"
   },
   {
    "duration": 22,
    "start_time": "2021-11-16T08:00:49.192Z"
   },
   {
    "duration": 4427,
    "start_time": "2021-11-16T08:02:53.432Z"
   },
   {
    "duration": 1232,
    "start_time": "2021-11-16T08:03:02.008Z"
   },
   {
    "duration": 9,
    "start_time": "2021-11-16T08:03:39.476Z"
   },
   {
    "duration": 8,
    "start_time": "2021-11-16T08:03:57.227Z"
   },
   {
    "duration": 7,
    "start_time": "2021-11-16T08:04:12.930Z"
   },
   {
    "duration": 7,
    "start_time": "2021-11-16T08:04:21.028Z"
   },
   {
    "duration": 263,
    "start_time": "2021-11-16T08:07:24.929Z"
   },
   {
    "duration": 15,
    "start_time": "2021-11-16T08:09:11.572Z"
   },
   {
    "duration": 25,
    "start_time": "2021-11-16T08:13:04.869Z"
   },
   {
    "duration": 30,
    "start_time": "2021-11-16T08:13:27.655Z"
   },
   {
    "duration": 3,
    "start_time": "2021-11-16T08:13:48.958Z"
   },
   {
    "duration": 9,
    "start_time": "2021-11-16T08:14:15.737Z"
   },
   {
    "duration": 9,
    "start_time": "2021-11-16T08:14:33.870Z"
   },
   {
    "duration": 617,
    "start_time": "2021-11-16T08:15:50.574Z"
   },
   {
    "duration": 203,
    "start_time": "2021-11-16T08:16:07.062Z"
   },
   {
    "duration": 194,
    "start_time": "2021-11-16T08:16:21.160Z"
   },
   {
    "duration": 275,
    "start_time": "2021-11-16T08:16:35.038Z"
   },
   {
    "duration": 264,
    "start_time": "2021-11-16T08:17:41.995Z"
   },
   {
    "duration": 191,
    "start_time": "2021-11-16T08:17:49.209Z"
   },
   {
    "duration": 231,
    "start_time": "2021-11-16T08:17:57.985Z"
   },
   {
    "duration": 449,
    "start_time": "2021-11-16T08:18:06.384Z"
   },
   {
    "duration": 409,
    "start_time": "2021-11-16T08:18:53.285Z"
   },
   {
    "duration": 442,
    "start_time": "2021-11-16T08:19:43.700Z"
   },
   {
    "duration": 215,
    "start_time": "2021-11-16T08:19:50.684Z"
   },
   {
    "duration": 7,
    "start_time": "2021-11-16T08:21:00.847Z"
   },
   {
    "duration": 5025,
    "start_time": "2021-11-16T08:22:01.314Z"
   },
   {
    "duration": 27,
    "start_time": "2021-11-16T08:22:07.703Z"
   },
   {
    "duration": 8,
    "start_time": "2021-11-16T08:22:41.395Z"
   },
   {
    "duration": 4,
    "start_time": "2021-11-16T08:22:58.603Z"
   },
   {
    "duration": 5,
    "start_time": "2021-11-16T08:23:16.133Z"
   },
   {
    "duration": 14,
    "start_time": "2021-11-16T08:24:17.462Z"
   },
   {
    "duration": 14,
    "start_time": "2021-11-16T08:25:21.928Z"
   },
   {
    "duration": 23,
    "start_time": "2021-11-16T08:26:22.344Z"
   },
   {
    "duration": 11,
    "start_time": "2021-11-16T08:26:40.826Z"
   },
   {
    "duration": 234,
    "start_time": "2021-11-16T08:29:05.559Z"
   },
   {
    "duration": 5094,
    "start_time": "2021-11-16T08:29:43.322Z"
   },
   {
    "duration": 251,
    "start_time": "2021-11-16T08:29:52.935Z"
   },
   {
    "duration": 9,
    "start_time": "2021-11-16T08:30:45.712Z"
   },
   {
    "duration": 22,
    "start_time": "2021-11-16T08:31:13.219Z"
   },
   {
    "duration": 5,
    "start_time": "2021-11-16T08:31:57.889Z"
   },
   {
    "duration": 12,
    "start_time": "2021-11-16T08:32:27.746Z"
   },
   {
    "duration": 202,
    "start_time": "2021-11-16T08:34:52.239Z"
   },
   {
    "duration": 5,
    "start_time": "2021-11-16T08:35:31.434Z"
   },
   {
    "duration": 223,
    "start_time": "2021-11-16T08:35:34.590Z"
   },
   {
    "duration": 5,
    "start_time": "2021-11-16T08:35:59.726Z"
   },
   {
    "duration": 608,
    "start_time": "2021-11-16T08:36:26.111Z"
   },
   {
    "duration": 401,
    "start_time": "2021-11-16T08:36:26.721Z"
   },
   {
    "duration": 2,
    "start_time": "2021-11-16T08:36:27.124Z"
   },
   {
    "duration": 23,
    "start_time": "2021-11-16T08:36:27.128Z"
   },
   {
    "duration": 14,
    "start_time": "2021-11-16T08:36:27.152Z"
   },
   {
    "duration": 17,
    "start_time": "2021-11-16T08:36:27.167Z"
   },
   {
    "duration": 8,
    "start_time": "2021-11-16T08:36:27.186Z"
   },
   {
    "duration": 9,
    "start_time": "2021-11-16T08:36:27.196Z"
   },
   {
    "duration": 46,
    "start_time": "2021-11-16T08:36:27.207Z"
   },
   {
    "duration": 11,
    "start_time": "2021-11-16T08:36:27.255Z"
   },
   {
    "duration": 7,
    "start_time": "2021-11-16T08:36:27.268Z"
   },
   {
    "duration": 9,
    "start_time": "2021-11-16T08:36:27.291Z"
   },
   {
    "duration": 9,
    "start_time": "2021-11-16T08:36:27.301Z"
   },
   {
    "duration": 10,
    "start_time": "2021-11-16T08:36:27.312Z"
   },
   {
    "duration": 7,
    "start_time": "2021-11-16T08:36:27.323Z"
   },
   {
    "duration": 6,
    "start_time": "2021-11-16T08:36:27.332Z"
   },
   {
    "duration": 6,
    "start_time": "2021-11-16T08:36:27.339Z"
   },
   {
    "duration": 8,
    "start_time": "2021-11-16T08:36:27.346Z"
   },
   {
    "duration": 5,
    "start_time": "2021-11-16T08:36:27.356Z"
   },
   {
    "duration": 2,
    "start_time": "2021-11-16T08:36:27.391Z"
   },
   {
    "duration": 7,
    "start_time": "2021-11-16T08:36:27.395Z"
   },
   {
    "duration": 9,
    "start_time": "2021-11-16T08:36:27.403Z"
   },
   {
    "duration": 5,
    "start_time": "2021-11-16T08:36:27.416Z"
   },
   {
    "duration": 31,
    "start_time": "2021-11-16T08:36:27.423Z"
   },
   {
    "duration": 17,
    "start_time": "2021-11-16T08:36:27.456Z"
   },
   {
    "duration": 37,
    "start_time": "2021-11-16T08:36:27.475Z"
   },
   {
    "duration": 4,
    "start_time": "2021-11-16T08:36:27.514Z"
   },
   {
    "duration": 12,
    "start_time": "2021-11-16T08:36:27.520Z"
   },
   {
    "duration": 4,
    "start_time": "2021-11-16T08:36:27.533Z"
   },
   {
    "duration": 263,
    "start_time": "2021-11-16T08:36:27.538Z"
   },
   {
    "duration": 6,
    "start_time": "2021-11-16T08:36:27.802Z"
   },
   {
    "duration": 9,
    "start_time": "2021-11-16T08:36:27.810Z"
   },
   {
    "duration": 9,
    "start_time": "2021-11-16T08:36:27.820Z"
   },
   {
    "duration": 25,
    "start_time": "2021-11-16T08:36:27.830Z"
   },
   {
    "duration": 16,
    "start_time": "2021-11-16T08:36:27.857Z"
   },
   {
    "duration": 11,
    "start_time": "2021-11-16T08:36:27.874Z"
   },
   {
    "duration": 22,
    "start_time": "2021-11-16T08:36:27.887Z"
   },
   {
    "duration": 21,
    "start_time": "2021-11-16T08:36:27.910Z"
   },
   {
    "duration": 23,
    "start_time": "2021-11-16T08:36:27.933Z"
   },
   {
    "duration": 17,
    "start_time": "2021-11-16T08:36:27.957Z"
   },
   {
    "duration": 78,
    "start_time": "2021-11-16T08:36:27.976Z"
   },
   {
    "duration": 251,
    "start_time": "2021-11-16T08:36:28.056Z"
   },
   {
    "duration": 15,
    "start_time": "2021-11-16T08:36:28.308Z"
   },
   {
    "duration": 4,
    "start_time": "2021-11-16T08:36:28.324Z"
   },
   {
    "duration": 13,
    "start_time": "2021-11-16T08:36:28.330Z"
   },
   {
    "duration": 323,
    "start_time": "2021-11-16T08:36:28.345Z"
   },
   {
    "duration": 7,
    "start_time": "2021-11-16T08:36:28.669Z"
   },
   {
    "duration": 37,
    "start_time": "2021-11-16T08:36:28.678Z"
   },
   {
    "duration": 7,
    "start_time": "2021-11-16T08:36:28.717Z"
   },
   {
    "duration": 10,
    "start_time": "2021-11-16T08:36:28.725Z"
   },
   {
    "duration": 12,
    "start_time": "2021-11-16T08:36:28.737Z"
   },
   {
    "duration": 262,
    "start_time": "2021-11-16T08:36:28.751Z"
   },
   {
    "duration": 8,
    "start_time": "2021-11-16T08:36:29.015Z"
   },
   {
    "duration": 27,
    "start_time": "2021-11-16T08:36:29.024Z"
   },
   {
    "duration": 4,
    "start_time": "2021-11-16T08:36:29.053Z"
   },
   {
    "duration": 37,
    "start_time": "2021-11-16T08:36:29.058Z"
   },
   {
    "duration": 4,
    "start_time": "2021-11-16T08:36:29.096Z"
   },
   {
    "duration": 2,
    "start_time": "2021-11-16T08:36:58.595Z"
   },
   {
    "duration": 3,
    "start_time": "2021-11-16T08:37:04.842Z"
   },
   {
    "duration": 12,
    "start_time": "2021-11-16T08:39:47.386Z"
   },
   {
    "duration": 11,
    "start_time": "2021-11-16T08:40:11.443Z"
   },
   {
    "duration": 246,
    "start_time": "2021-11-16T08:42:12.494Z"
   },
   {
    "duration": 16,
    "start_time": "2021-11-16T08:42:19.800Z"
   },
   {
    "duration": 176,
    "start_time": "2021-11-16T08:42:31.722Z"
   },
   {
    "duration": 214,
    "start_time": "2021-11-16T08:45:01.940Z"
   },
   {
    "duration": 57,
    "start_time": "2021-11-16T08:45:34.704Z"
   },
   {
    "duration": 280,
    "start_time": "2021-11-16T08:45:45.497Z"
   },
   {
    "duration": 181,
    "start_time": "2021-11-16T08:45:52.324Z"
   },
   {
    "duration": 57,
    "start_time": "2021-11-16T08:46:25.445Z"
   },
   {
    "duration": 11,
    "start_time": "2021-11-16T08:46:29.751Z"
   },
   {
    "duration": 3,
    "start_time": "2021-11-16T08:47:15.716Z"
   },
   {
    "duration": 209,
    "start_time": "2021-11-16T08:49:22.942Z"
   },
   {
    "duration": 179,
    "start_time": "2021-11-16T08:49:28.198Z"
   },
   {
    "duration": 66,
    "start_time": "2021-11-16T08:49:39.786Z"
   },
   {
    "duration": 188,
    "start_time": "2021-11-16T08:49:44.102Z"
   },
   {
    "duration": 4,
    "start_time": "2021-11-16T08:49:49.104Z"
   },
   {
    "duration": 10,
    "start_time": "2021-11-16T08:49:55.606Z"
   },
   {
    "duration": 6,
    "start_time": "2021-11-16T08:50:58.101Z"
   },
   {
    "duration": 5,
    "start_time": "2021-11-16T08:51:13.844Z"
   },
   {
    "duration": 4,
    "start_time": "2021-11-16T08:51:33.006Z"
   },
   {
    "duration": 6,
    "start_time": "2021-11-16T08:51:34.654Z"
   },
   {
    "duration": 5,
    "start_time": "2021-11-16T08:52:21.766Z"
   },
   {
    "duration": 13,
    "start_time": "2021-11-16T08:52:30.769Z"
   },
   {
    "duration": 6,
    "start_time": "2021-11-16T08:54:43.862Z"
   },
   {
    "duration": 13,
    "start_time": "2021-11-16T08:54:53.548Z"
   },
   {
    "duration": 493,
    "start_time": "2021-11-16T08:55:39.256Z"
   },
   {
    "duration": 695,
    "start_time": "2021-11-16T08:56:25.066Z"
   },
   {
    "duration": 1099,
    "start_time": "2021-11-16T08:56:36.817Z"
   },
   {
    "duration": 370,
    "start_time": "2021-11-16T08:56:37.918Z"
   },
   {
    "duration": 2,
    "start_time": "2021-11-16T08:56:38.290Z"
   },
   {
    "duration": 23,
    "start_time": "2021-11-16T08:56:38.294Z"
   },
   {
    "duration": 13,
    "start_time": "2021-11-16T08:56:38.318Z"
   },
   {
    "duration": 16,
    "start_time": "2021-11-16T08:56:38.333Z"
   },
   {
    "duration": 12,
    "start_time": "2021-11-16T08:56:38.351Z"
   },
   {
    "duration": 26,
    "start_time": "2021-11-16T08:56:38.365Z"
   },
   {
    "duration": 42,
    "start_time": "2021-11-16T08:56:38.393Z"
   },
   {
    "duration": 11,
    "start_time": "2021-11-16T08:56:38.437Z"
   },
   {
    "duration": 6,
    "start_time": "2021-11-16T08:56:38.449Z"
   },
   {
    "duration": 13,
    "start_time": "2021-11-16T08:56:38.456Z"
   },
   {
    "duration": 27,
    "start_time": "2021-11-16T08:56:38.470Z"
   },
   {
    "duration": 11,
    "start_time": "2021-11-16T08:56:38.498Z"
   },
   {
    "duration": 12,
    "start_time": "2021-11-16T08:56:38.510Z"
   },
   {
    "duration": 3,
    "start_time": "2021-11-16T08:56:38.524Z"
   },
   {
    "duration": 5,
    "start_time": "2021-11-16T08:56:38.529Z"
   },
   {
    "duration": 5,
    "start_time": "2021-11-16T08:56:38.536Z"
   },
   {
    "duration": 5,
    "start_time": "2021-11-16T08:56:38.543Z"
   },
   {
    "duration": 9,
    "start_time": "2021-11-16T08:56:38.549Z"
   },
   {
    "duration": 11,
    "start_time": "2021-11-16T08:56:38.560Z"
   },
   {
    "duration": 19,
    "start_time": "2021-11-16T08:56:38.573Z"
   },
   {
    "duration": 4,
    "start_time": "2021-11-16T08:56:38.596Z"
   },
   {
    "duration": 30,
    "start_time": "2021-11-16T08:56:38.602Z"
   },
   {
    "duration": 17,
    "start_time": "2021-11-16T08:56:38.634Z"
   },
   {
    "duration": 48,
    "start_time": "2021-11-16T08:56:38.652Z"
   },
   {
    "duration": 5,
    "start_time": "2021-11-16T08:56:38.702Z"
   },
   {
    "duration": 12,
    "start_time": "2021-11-16T08:56:38.708Z"
   },
   {
    "duration": 4,
    "start_time": "2021-11-16T08:56:38.721Z"
   },
   {
    "duration": 260,
    "start_time": "2021-11-16T08:56:38.726Z"
   },
   {
    "duration": 6,
    "start_time": "2021-11-16T08:56:38.991Z"
   },
   {
    "duration": 11,
    "start_time": "2021-11-16T08:56:38.998Z"
   },
   {
    "duration": 9,
    "start_time": "2021-11-16T08:56:39.010Z"
   },
   {
    "duration": 10,
    "start_time": "2021-11-16T08:56:39.021Z"
   },
   {
    "duration": 7,
    "start_time": "2021-11-16T08:56:39.032Z"
   },
   {
    "duration": 12,
    "start_time": "2021-11-16T08:56:39.040Z"
   },
   {
    "duration": 11,
    "start_time": "2021-11-16T08:56:39.054Z"
   },
   {
    "duration": 25,
    "start_time": "2021-11-16T08:56:39.066Z"
   },
   {
    "duration": 8,
    "start_time": "2021-11-16T08:56:39.093Z"
   },
   {
    "duration": 12,
    "start_time": "2021-11-16T08:56:39.103Z"
   },
   {
    "duration": 76,
    "start_time": "2021-11-16T08:56:39.116Z"
   },
   {
    "duration": 250,
    "start_time": "2021-11-16T08:56:39.194Z"
   },
   {
    "duration": 15,
    "start_time": "2021-11-16T08:56:39.446Z"
   },
   {
    "duration": 30,
    "start_time": "2021-11-16T08:56:39.463Z"
   },
   {
    "duration": 14,
    "start_time": "2021-11-16T08:56:39.494Z"
   },
   {
    "duration": 506,
    "start_time": "2021-11-16T08:56:39.510Z"
   },
   {
    "duration": -995,
    "start_time": "2021-11-16T08:56:41.014Z"
   },
   {
    "duration": -998,
    "start_time": "2021-11-16T08:56:41.018Z"
   },
   {
    "duration": -1000,
    "start_time": "2021-11-16T08:56:41.022Z"
   },
   {
    "duration": -1003,
    "start_time": "2021-11-16T08:56:41.026Z"
   },
   {
    "duration": -1005,
    "start_time": "2021-11-16T08:56:41.030Z"
   },
   {
    "duration": -1008,
    "start_time": "2021-11-16T08:56:41.034Z"
   },
   {
    "duration": -1011,
    "start_time": "2021-11-16T08:56:41.038Z"
   },
   {
    "duration": -1021,
    "start_time": "2021-11-16T08:56:41.050Z"
   },
   {
    "duration": -1023,
    "start_time": "2021-11-16T08:56:41.053Z"
   },
   {
    "duration": -1025,
    "start_time": "2021-11-16T08:56:41.057Z"
   },
   {
    "duration": -1029,
    "start_time": "2021-11-16T08:56:41.062Z"
   },
   {
    "duration": -1031,
    "start_time": "2021-11-16T08:56:41.066Z"
   },
   {
    "duration": -1035,
    "start_time": "2021-11-16T08:56:41.071Z"
   },
   {
    "duration": -1037,
    "start_time": "2021-11-16T08:56:41.074Z"
   },
   {
    "duration": 236,
    "start_time": "2021-11-16T08:57:01.214Z"
   },
   {
    "duration": 248,
    "start_time": "2021-11-16T08:57:05.203Z"
   },
   {
    "duration": 7,
    "start_time": "2021-11-16T08:57:05.452Z"
   },
   {
    "duration": 38,
    "start_time": "2021-11-16T08:57:05.461Z"
   },
   {
    "duration": 6,
    "start_time": "2021-11-16T08:57:05.501Z"
   },
   {
    "duration": 5,
    "start_time": "2021-11-16T08:57:05.509Z"
   },
   {
    "duration": 12,
    "start_time": "2021-11-16T08:57:05.516Z"
   },
   {
    "duration": 256,
    "start_time": "2021-11-16T08:57:05.530Z"
   },
   {
    "duration": 9,
    "start_time": "2021-11-16T08:57:05.788Z"
   },
   {
    "duration": 26,
    "start_time": "2021-11-16T08:57:05.799Z"
   },
   {
    "duration": 4,
    "start_time": "2021-11-16T08:57:05.827Z"
   },
   {
    "duration": 15,
    "start_time": "2021-11-16T08:57:05.833Z"
   },
   {
    "duration": 41,
    "start_time": "2021-11-16T08:57:05.850Z"
   },
   {
    "duration": 11,
    "start_time": "2021-11-16T08:57:05.893Z"
   },
   {
    "duration": 15,
    "start_time": "2021-11-16T08:57:05.906Z"
   },
   {
    "duration": 23,
    "start_time": "2021-11-16T08:57:05.923Z"
   },
   {
    "duration": 10,
    "start_time": "2021-11-16T09:00:07.611Z"
   },
   {
    "duration": 9,
    "start_time": "2021-11-16T09:00:14.108Z"
   },
   {
    "duration": 7,
    "start_time": "2021-11-16T09:01:06.944Z"
   },
   {
    "duration": 6,
    "start_time": "2021-11-16T09:01:21.328Z"
   },
   {
    "duration": 217,
    "start_time": "2021-11-16T09:01:37.999Z"
   },
   {
    "duration": 7,
    "start_time": "2021-11-16T09:01:44.184Z"
   },
   {
    "duration": 8,
    "start_time": "2021-11-16T09:01:50.659Z"
   },
   {
    "duration": 7,
    "start_time": "2021-11-16T09:01:59.579Z"
   },
   {
    "duration": 261,
    "start_time": "2021-11-16T09:02:17.282Z"
   },
   {
    "duration": 57,
    "start_time": "2021-11-16T09:02:32.552Z"
   },
   {
    "duration": 62,
    "start_time": "2021-11-16T09:02:38.889Z"
   },
   {
    "duration": 192,
    "start_time": "2021-11-16T09:02:52.191Z"
   },
   {
    "duration": 4,
    "start_time": "2021-11-16T09:03:21.235Z"
   },
   {
    "duration": 184,
    "start_time": "2021-11-16T09:03:40.047Z"
   },
   {
    "duration": 8,
    "start_time": "2021-11-16T09:03:46.823Z"
   },
   {
    "duration": 205,
    "start_time": "2021-11-16T09:04:01.291Z"
   },
   {
    "duration": 9,
    "start_time": "2021-11-16T09:04:05.953Z"
   },
   {
    "duration": 7,
    "start_time": "2021-11-16T09:05:36.170Z"
   },
   {
    "duration": 7,
    "start_time": "2021-11-16T09:05:51.388Z"
   },
   {
    "duration": 184,
    "start_time": "2021-11-16T09:07:15.037Z"
   },
   {
    "duration": 198,
    "start_time": "2021-11-16T09:07:23.216Z"
   },
   {
    "duration": 249,
    "start_time": "2021-11-16T09:07:29.156Z"
   },
   {
    "duration": 256,
    "start_time": "2021-11-16T09:07:39.827Z"
   },
   {
    "duration": 18,
    "start_time": "2021-11-16T09:09:43.178Z"
   },
   {
    "duration": 199,
    "start_time": "2021-11-16T09:10:07.882Z"
   },
   {
    "duration": 221,
    "start_time": "2021-11-16T09:10:19.336Z"
   },
   {
    "duration": 271,
    "start_time": "2021-11-16T09:10:54.929Z"
   },
   {
    "duration": 221,
    "start_time": "2021-11-16T09:11:03.616Z"
   },
   {
    "duration": 285,
    "start_time": "2021-11-16T09:11:29.206Z"
   },
   {
    "duration": 505,
    "start_time": "2021-11-16T09:12:36.779Z"
   },
   {
    "duration": 213,
    "start_time": "2021-11-16T09:13:57.256Z"
   },
   {
    "duration": 227,
    "start_time": "2021-11-16T09:14:05.295Z"
   },
   {
    "duration": 219,
    "start_time": "2021-11-16T09:14:11.676Z"
   },
   {
    "duration": 229,
    "start_time": "2021-11-16T09:14:38.836Z"
   },
   {
    "duration": 209,
    "start_time": "2021-11-16T09:14:45.347Z"
   },
   {
    "duration": 228,
    "start_time": "2021-11-16T09:14:53.599Z"
   },
   {
    "duration": 434,
    "start_time": "2021-11-16T09:15:47.592Z"
   },
   {
    "duration": 247,
    "start_time": "2021-11-16T09:15:51.503Z"
   },
   {
    "duration": 10,
    "start_time": "2021-11-16T09:18:43.918Z"
   },
   {
    "duration": 492,
    "start_time": "2021-11-16T10:04:06.617Z"
   },
   {
    "duration": 190,
    "start_time": "2021-11-16T10:04:17.928Z"
   },
   {
    "duration": 6,
    "start_time": "2021-11-16T10:05:11.006Z"
   },
   {
    "duration": 15,
    "start_time": "2021-11-16T10:05:19.424Z"
   },
   {
    "duration": 12,
    "start_time": "2021-11-16T10:05:41.002Z"
   },
   {
    "duration": 4,
    "start_time": "2021-11-16T10:06:01.684Z"
   },
   {
    "duration": 8,
    "start_time": "2021-11-16T10:07:42.764Z"
   },
   {
    "duration": 8,
    "start_time": "2021-11-16T10:07:49.992Z"
   },
   {
    "duration": 11,
    "start_time": "2021-11-16T10:07:59.629Z"
   },
   {
    "duration": 9,
    "start_time": "2021-11-16T10:08:02.695Z"
   },
   {
    "duration": 68,
    "start_time": "2021-11-16T10:09:24.933Z"
   },
   {
    "duration": 4,
    "start_time": "2021-11-16T10:10:56.179Z"
   },
   {
    "duration": 4,
    "start_time": "2021-11-16T10:11:02.541Z"
   },
   {
    "duration": 8,
    "start_time": "2021-11-16T10:16:35.279Z"
   },
   {
    "duration": 8,
    "start_time": "2021-11-16T10:16:54.816Z"
   },
   {
    "duration": 284,
    "start_time": "2021-11-16T10:17:04.868Z"
   },
   {
    "duration": 8,
    "start_time": "2021-11-16T10:17:11.659Z"
   },
   {
    "duration": 174,
    "start_time": "2021-11-16T10:17:47.782Z"
   },
   {
    "duration": 184,
    "start_time": "2021-11-16T10:17:58.725Z"
   },
   {
    "duration": 7,
    "start_time": "2021-11-16T10:18:04.383Z"
   },
   {
    "duration": 8,
    "start_time": "2021-11-16T10:18:32.355Z"
   },
   {
    "duration": 2958,
    "start_time": "2021-11-16T10:20:19.957Z"
   },
   {
    "duration": 10,
    "start_time": "2021-11-16T10:20:41.216Z"
   },
   {
    "duration": 10,
    "start_time": "2021-11-16T10:21:29.809Z"
   },
   {
    "duration": 197,
    "start_time": "2021-11-16T10:24:27.979Z"
   },
   {
    "duration": 243,
    "start_time": "2021-11-16T10:24:38.008Z"
   },
   {
    "duration": 231,
    "start_time": "2021-11-16T10:24:48.755Z"
   },
   {
    "duration": 261,
    "start_time": "2021-11-16T10:25:56.368Z"
   },
   {
    "duration": 194,
    "start_time": "2021-11-16T10:26:33.969Z"
   },
   {
    "duration": 233,
    "start_time": "2021-11-16T10:26:38.162Z"
   },
   {
    "duration": 251,
    "start_time": "2021-11-16T10:27:59.569Z"
   },
   {
    "duration": 257,
    "start_time": "2021-11-16T10:28:59.658Z"
   },
   {
    "duration": 332,
    "start_time": "2021-11-16T10:29:06.877Z"
   },
   {
    "duration": 21,
    "start_time": "2021-11-16T10:29:35.687Z"
   },
   {
    "duration": 10,
    "start_time": "2021-11-16T10:31:32.233Z"
   },
   {
    "duration": 12,
    "start_time": "2021-11-16T10:31:45.908Z"
   },
   {
    "duration": 11,
    "start_time": "2021-11-16T10:31:57.780Z"
   },
   {
    "duration": 9,
    "start_time": "2021-11-16T10:32:21.771Z"
   },
   {
    "duration": 3,
    "start_time": "2021-11-16T10:32:28.391Z"
   },
   {
    "duration": 414,
    "start_time": "2021-11-16T10:32:28.396Z"
   },
   {
    "duration": 2,
    "start_time": "2021-11-16T10:32:28.812Z"
   },
   {
    "duration": 23,
    "start_time": "2021-11-16T10:32:28.816Z"
   },
   {
    "duration": 13,
    "start_time": "2021-11-16T10:32:28.841Z"
   },
   {
    "duration": 17,
    "start_time": "2021-11-16T10:32:28.856Z"
   },
   {
    "duration": 5,
    "start_time": "2021-11-16T10:32:28.876Z"
   },
   {
    "duration": 12,
    "start_time": "2021-11-16T10:32:28.883Z"
   },
   {
    "duration": 31,
    "start_time": "2021-11-16T10:32:28.897Z"
   },
   {
    "duration": 8,
    "start_time": "2021-11-16T10:32:28.929Z"
   },
   {
    "duration": 8,
    "start_time": "2021-11-16T10:32:28.939Z"
   },
   {
    "duration": 6,
    "start_time": "2021-11-16T10:32:28.949Z"
   },
   {
    "duration": 13,
    "start_time": "2021-11-16T10:32:28.957Z"
   },
   {
    "duration": 8,
    "start_time": "2021-11-16T10:32:28.992Z"
   },
   {
    "duration": 11,
    "start_time": "2021-11-16T10:32:29.002Z"
   },
   {
    "duration": 4,
    "start_time": "2021-11-16T10:32:29.015Z"
   },
   {
    "duration": 6,
    "start_time": "2021-11-16T10:32:29.021Z"
   },
   {
    "duration": 7,
    "start_time": "2021-11-16T10:32:29.028Z"
   },
   {
    "duration": 14,
    "start_time": "2021-11-16T10:32:29.039Z"
   },
   {
    "duration": 8,
    "start_time": "2021-11-16T10:32:29.055Z"
   },
   {
    "duration": 4,
    "start_time": "2021-11-16T10:32:29.064Z"
   },
   {
    "duration": 11,
    "start_time": "2021-11-16T10:32:29.070Z"
   },
   {
    "duration": 6,
    "start_time": "2021-11-16T10:32:29.092Z"
   },
   {
    "duration": 36,
    "start_time": "2021-11-16T10:32:29.099Z"
   },
   {
    "duration": 18,
    "start_time": "2021-11-16T10:32:29.136Z"
   },
   {
    "duration": 21,
    "start_time": "2021-11-16T10:32:29.156Z"
   },
   {
    "duration": 15,
    "start_time": "2021-11-16T10:32:29.179Z"
   },
   {
    "duration": 20,
    "start_time": "2021-11-16T10:32:29.196Z"
   },
   {
    "duration": 6,
    "start_time": "2021-11-16T10:32:29.218Z"
   },
   {
    "duration": 252,
    "start_time": "2021-11-16T10:32:29.225Z"
   },
   {
    "duration": 229,
    "start_time": "2021-11-16T10:32:29.479Z"
   },
   {
    "duration": 7,
    "start_time": "2021-11-16T10:32:29.710Z"
   },
   {
    "duration": 8,
    "start_time": "2021-11-16T10:32:29.718Z"
   },
   {
    "duration": 9,
    "start_time": "2021-11-16T10:32:29.728Z"
   },
   {
    "duration": 8,
    "start_time": "2021-11-16T10:32:29.738Z"
   },
   {
    "duration": 8,
    "start_time": "2021-11-16T10:32:29.747Z"
   },
   {
    "duration": 37,
    "start_time": "2021-11-16T10:32:29.756Z"
   },
   {
    "duration": 264,
    "start_time": "2021-11-16T10:32:29.794Z"
   },
   {
    "duration": 5,
    "start_time": "2021-11-16T10:32:30.060Z"
   },
   {
    "duration": 27,
    "start_time": "2021-11-16T10:32:30.067Z"
   },
   {
    "duration": 34,
    "start_time": "2021-11-16T10:32:30.096Z"
   },
   {
    "duration": 70,
    "start_time": "2021-11-16T10:32:30.132Z"
   },
   {
    "duration": 253,
    "start_time": "2021-11-16T10:32:30.204Z"
   },
   {
    "duration": 17,
    "start_time": "2021-11-16T10:32:30.460Z"
   },
   {
    "duration": 19,
    "start_time": "2021-11-16T10:32:30.478Z"
   },
   {
    "duration": 66,
    "start_time": "2021-11-16T10:32:30.499Z"
   },
   {
    "duration": 35,
    "start_time": "2021-11-16T10:32:30.567Z"
   },
   {
    "duration": 18,
    "start_time": "2021-11-16T10:32:30.604Z"
   },
   {
    "duration": 71,
    "start_time": "2021-11-16T10:32:30.624Z"
   },
   {
    "duration": 28,
    "start_time": "2021-11-16T10:32:30.697Z"
   },
   {
    "duration": 16,
    "start_time": "2021-11-16T10:32:30.727Z"
   },
   {
    "duration": 39,
    "start_time": "2021-11-16T10:32:30.745Z"
   },
   {
    "duration": 38,
    "start_time": "2021-11-16T10:32:30.786Z"
   },
   {
    "duration": 17,
    "start_time": "2021-11-16T10:32:30.826Z"
   },
   {
    "duration": 66,
    "start_time": "2021-11-16T10:32:30.847Z"
   },
   {
    "duration": 17,
    "start_time": "2021-11-16T10:32:30.915Z"
   },
   {
    "duration": 22,
    "start_time": "2021-11-16T10:32:30.934Z"
   },
   {
    "duration": 22,
    "start_time": "2021-11-16T10:32:30.958Z"
   },
   {
    "duration": 22,
    "start_time": "2021-11-16T10:32:30.982Z"
   },
   {
    "duration": 20,
    "start_time": "2021-11-16T10:32:31.005Z"
   },
   {
    "duration": 26,
    "start_time": "2021-11-16T10:32:31.026Z"
   },
   {
    "duration": 254,
    "start_time": "2021-11-16T10:32:31.054Z"
   },
   {
    "duration": 8,
    "start_time": "2021-11-16T10:32:31.310Z"
   },
   {
    "duration": 20,
    "start_time": "2021-11-16T10:32:31.320Z"
   },
   {
    "duration": 11,
    "start_time": "2021-11-16T10:33:16.321Z"
   },
   {
    "duration": 11,
    "start_time": "2021-11-16T10:33:32.838Z"
   },
   {
    "duration": 12,
    "start_time": "2021-11-16T10:33:50.092Z"
   },
   {
    "duration": 14,
    "start_time": "2021-11-16T10:34:16.946Z"
   },
   {
    "duration": 10,
    "start_time": "2021-11-16T10:34:34.006Z"
   },
   {
    "duration": 3,
    "start_time": "2021-11-16T10:45:47.383Z"
   },
   {
    "duration": 394,
    "start_time": "2021-11-16T10:45:47.388Z"
   },
   {
    "duration": 2,
    "start_time": "2021-11-16T10:45:47.783Z"
   },
   {
    "duration": 21,
    "start_time": "2021-11-16T10:45:47.787Z"
   },
   {
    "duration": 13,
    "start_time": "2021-11-16T10:45:47.810Z"
   },
   {
    "duration": 15,
    "start_time": "2021-11-16T10:45:47.824Z"
   },
   {
    "duration": 7,
    "start_time": "2021-11-16T10:45:47.840Z"
   },
   {
    "duration": 10,
    "start_time": "2021-11-16T10:45:47.849Z"
   },
   {
    "duration": 49,
    "start_time": "2021-11-16T10:45:47.860Z"
   },
   {
    "duration": 8,
    "start_time": "2021-11-16T10:45:47.911Z"
   },
   {
    "duration": 7,
    "start_time": "2021-11-16T10:45:47.921Z"
   },
   {
    "duration": 16,
    "start_time": "2021-11-16T10:45:47.930Z"
   },
   {
    "duration": 9,
    "start_time": "2021-11-16T10:45:47.947Z"
   },
   {
    "duration": 9,
    "start_time": "2021-11-16T10:45:47.958Z"
   },
   {
    "duration": 25,
    "start_time": "2021-11-16T10:45:47.969Z"
   },
   {
    "duration": 4,
    "start_time": "2021-11-16T10:45:47.996Z"
   },
   {
    "duration": 6,
    "start_time": "2021-11-16T10:45:48.001Z"
   },
   {
    "duration": 8,
    "start_time": "2021-11-16T10:45:48.008Z"
   },
   {
    "duration": 5,
    "start_time": "2021-11-16T10:45:48.017Z"
   },
   {
    "duration": 4,
    "start_time": "2021-11-16T10:45:48.024Z"
   },
   {
    "duration": 4,
    "start_time": "2021-11-16T10:45:48.029Z"
   },
   {
    "duration": 8,
    "start_time": "2021-11-16T10:45:48.035Z"
   },
   {
    "duration": 5,
    "start_time": "2021-11-16T10:45:48.047Z"
   },
   {
    "duration": 48,
    "start_time": "2021-11-16T10:45:48.054Z"
   },
   {
    "duration": 16,
    "start_time": "2021-11-16T10:45:48.103Z"
   },
   {
    "duration": 21,
    "start_time": "2021-11-16T10:45:48.121Z"
   },
   {
    "duration": 5,
    "start_time": "2021-11-16T10:45:48.143Z"
   },
   {
    "duration": 10,
    "start_time": "2021-11-16T10:45:48.150Z"
   },
   {
    "duration": 31,
    "start_time": "2021-11-16T10:45:48.162Z"
   },
   {
    "duration": 249,
    "start_time": "2021-11-16T10:45:48.195Z"
   },
   {
    "duration": 237,
    "start_time": "2021-11-16T10:45:48.445Z"
   },
   {
    "duration": 9,
    "start_time": "2021-11-16T10:45:48.684Z"
   },
   {
    "duration": 11,
    "start_time": "2021-11-16T10:45:48.695Z"
   },
   {
    "duration": 15,
    "start_time": "2021-11-16T10:45:48.707Z"
   },
   {
    "duration": 15,
    "start_time": "2021-11-16T10:45:48.724Z"
   },
   {
    "duration": 7,
    "start_time": "2021-11-16T10:45:48.741Z"
   },
   {
    "duration": 14,
    "start_time": "2021-11-16T10:45:48.749Z"
   },
   {
    "duration": 328,
    "start_time": "2021-11-16T10:45:48.765Z"
   },
   {
    "duration": 4,
    "start_time": "2021-11-16T10:45:49.095Z"
   },
   {
    "duration": 11,
    "start_time": "2021-11-16T10:45:49.100Z"
   },
   {
    "duration": 7,
    "start_time": "2021-11-16T10:45:49.112Z"
   },
   {
    "duration": 72,
    "start_time": "2021-11-16T10:45:49.120Z"
   },
   {
    "duration": 236,
    "start_time": "2021-11-16T10:45:49.194Z"
   },
   {
    "duration": 14,
    "start_time": "2021-11-16T10:45:49.432Z"
   },
   {
    "duration": 5,
    "start_time": "2021-11-16T10:45:49.447Z"
   },
   {
    "duration": 22,
    "start_time": "2021-11-16T10:45:49.454Z"
   },
   {
    "duration": 22,
    "start_time": "2021-11-16T10:45:49.477Z"
   },
   {
    "duration": 17,
    "start_time": "2021-11-16T10:45:49.501Z"
   },
   {
    "duration": 34,
    "start_time": "2021-11-16T10:45:49.519Z"
   },
   {
    "duration": 7,
    "start_time": "2021-11-16T10:45:49.554Z"
   },
   {
    "duration": 15,
    "start_time": "2021-11-16T10:45:49.562Z"
   },
   {
    "duration": 23,
    "start_time": "2021-11-16T10:45:49.579Z"
   },
   {
    "duration": 7,
    "start_time": "2021-11-16T10:45:49.604Z"
   },
   {
    "duration": 10,
    "start_time": "2021-11-16T10:45:49.613Z"
   },
   {
    "duration": 32,
    "start_time": "2021-11-16T10:45:49.625Z"
   },
   {
    "duration": 249,
    "start_time": "2021-11-16T10:45:49.659Z"
   },
   {
    "duration": 8,
    "start_time": "2021-11-16T10:45:49.910Z"
   },
   {
    "duration": 18,
    "start_time": "2021-11-16T10:45:49.919Z"
   },
   {
    "duration": 287,
    "start_time": "2021-11-16T10:45:49.939Z"
   },
   {
    "duration": 20,
    "start_time": "2021-11-16T10:45:50.228Z"
   },
   {
    "duration": 10,
    "start_time": "2021-11-16T10:45:54.689Z"
   },
   {
    "duration": 6,
    "start_time": "2021-11-16T10:46:01.626Z"
   },
   {
    "duration": 27,
    "start_time": "2021-11-16T10:46:01.635Z"
   },
   {
    "duration": 13,
    "start_time": "2021-11-16T10:46:01.665Z"
   },
   {
    "duration": 33,
    "start_time": "2021-11-16T10:46:01.680Z"
   },
   {
    "duration": 19,
    "start_time": "2021-11-16T10:46:01.715Z"
   },
   {
    "duration": 18,
    "start_time": "2021-11-16T10:46:01.736Z"
   },
   {
    "duration": 4,
    "start_time": "2021-11-16T10:46:17.682Z"
   },
   {
    "duration": 620,
    "start_time": "2021-11-16T10:48:03.108Z"
   },
   {
    "duration": 390,
    "start_time": "2021-11-16T10:48:03.730Z"
   },
   {
    "duration": 2,
    "start_time": "2021-11-16T10:48:04.122Z"
   },
   {
    "duration": 35,
    "start_time": "2021-11-16T10:48:04.126Z"
   },
   {
    "duration": 13,
    "start_time": "2021-11-16T10:48:04.163Z"
   },
   {
    "duration": 20,
    "start_time": "2021-11-16T10:48:04.177Z"
   },
   {
    "duration": 5,
    "start_time": "2021-11-16T10:48:04.199Z"
   },
   {
    "duration": 7,
    "start_time": "2021-11-16T10:48:04.207Z"
   },
   {
    "duration": 46,
    "start_time": "2021-11-16T10:48:04.216Z"
   },
   {
    "duration": 11,
    "start_time": "2021-11-16T10:48:04.263Z"
   },
   {
    "duration": 7,
    "start_time": "2021-11-16T10:48:04.291Z"
   },
   {
    "duration": 12,
    "start_time": "2021-11-16T10:48:04.300Z"
   },
   {
    "duration": 16,
    "start_time": "2021-11-16T10:48:04.314Z"
   },
   {
    "duration": 15,
    "start_time": "2021-11-16T10:48:04.332Z"
   },
   {
    "duration": 16,
    "start_time": "2021-11-16T10:48:04.348Z"
   },
   {
    "duration": 5,
    "start_time": "2021-11-16T10:48:04.365Z"
   },
   {
    "duration": 6,
    "start_time": "2021-11-16T10:48:04.371Z"
   },
   {
    "duration": 4,
    "start_time": "2021-11-16T10:48:04.390Z"
   },
   {
    "duration": 6,
    "start_time": "2021-11-16T10:48:04.396Z"
   },
   {
    "duration": 9,
    "start_time": "2021-11-16T10:48:04.404Z"
   },
   {
    "duration": 7,
    "start_time": "2021-11-16T10:48:04.414Z"
   },
   {
    "duration": 10,
    "start_time": "2021-11-16T10:48:04.423Z"
   },
   {
    "duration": 7,
    "start_time": "2021-11-16T10:48:04.436Z"
   },
   {
    "duration": 29,
    "start_time": "2021-11-16T10:48:04.445Z"
   },
   {
    "duration": 25,
    "start_time": "2021-11-16T10:48:04.476Z"
   },
   {
    "duration": 23,
    "start_time": "2021-11-16T10:48:04.503Z"
   },
   {
    "duration": 5,
    "start_time": "2021-11-16T10:48:04.527Z"
   },
   {
    "duration": 18,
    "start_time": "2021-11-16T10:48:04.533Z"
   },
   {
    "duration": 9,
    "start_time": "2021-11-16T10:48:04.553Z"
   },
   {
    "duration": 267,
    "start_time": "2021-11-16T10:48:04.563Z"
   },
   {
    "duration": 270,
    "start_time": "2021-11-16T10:48:04.832Z"
   },
   {
    "duration": 7,
    "start_time": "2021-11-16T10:48:05.105Z"
   },
   {
    "duration": 13,
    "start_time": "2021-11-16T10:48:05.115Z"
   },
   {
    "duration": 8,
    "start_time": "2021-11-16T10:48:05.131Z"
   },
   {
    "duration": 8,
    "start_time": "2021-11-16T10:48:05.141Z"
   },
   {
    "duration": 7,
    "start_time": "2021-11-16T10:48:05.151Z"
   },
   {
    "duration": 36,
    "start_time": "2021-11-16T10:48:05.160Z"
   },
   {
    "duration": 264,
    "start_time": "2021-11-16T10:48:05.198Z"
   },
   {
    "duration": 4,
    "start_time": "2021-11-16T10:48:05.464Z"
   },
   {
    "duration": 21,
    "start_time": "2021-11-16T10:48:05.470Z"
   },
   {
    "duration": 7,
    "start_time": "2021-11-16T10:48:05.493Z"
   },
   {
    "duration": 67,
    "start_time": "2021-11-16T10:48:05.502Z"
   },
   {
    "duration": 312,
    "start_time": "2021-11-16T10:48:05.571Z"
   },
   {
    "duration": 18,
    "start_time": "2021-11-16T10:48:05.885Z"
   },
   {
    "duration": 4,
    "start_time": "2021-11-16T10:48:05.905Z"
   },
   {
    "duration": 17,
    "start_time": "2021-11-16T10:48:05.910Z"
   },
   {
    "duration": 10,
    "start_time": "2021-11-16T10:48:05.928Z"
   },
   {
    "duration": 7,
    "start_time": "2021-11-16T10:48:05.939Z"
   },
   {
    "duration": 69,
    "start_time": "2021-11-16T10:48:05.947Z"
   },
   {
    "duration": 7,
    "start_time": "2021-11-16T10:48:06.018Z"
   },
   {
    "duration": 15,
    "start_time": "2021-11-16T10:48:06.026Z"
   },
   {
    "duration": 20,
    "start_time": "2021-11-16T10:48:06.043Z"
   },
   {
    "duration": 8,
    "start_time": "2021-11-16T10:48:06.064Z"
   },
   {
    "duration": 24,
    "start_time": "2021-11-16T10:48:06.073Z"
   },
   {
    "duration": 43,
    "start_time": "2021-11-16T10:48:06.099Z"
   },
   {
    "duration": 278,
    "start_time": "2021-11-16T10:48:06.144Z"
   },
   {
    "duration": 11,
    "start_time": "2021-11-16T10:48:06.424Z"
   },
   {
    "duration": 14,
    "start_time": "2021-11-16T10:48:06.437Z"
   },
   {
    "duration": 327,
    "start_time": "2021-11-16T10:48:06.452Z"
   },
   {
    "duration": 30,
    "start_time": "2021-11-16T10:48:06.781Z"
   },
   {
    "duration": 16,
    "start_time": "2021-11-16T10:48:06.813Z"
   },
   {
    "duration": 8,
    "start_time": "2021-11-16T10:48:06.831Z"
   },
   {
    "duration": 11,
    "start_time": "2021-11-16T10:48:06.842Z"
   },
   {
    "duration": 42,
    "start_time": "2021-11-16T10:48:06.855Z"
   },
   {
    "duration": 14,
    "start_time": "2021-11-16T10:48:06.899Z"
   },
   {
    "duration": 26,
    "start_time": "2021-11-16T10:48:06.915Z"
   },
   {
    "duration": 18,
    "start_time": "2021-11-16T10:48:06.944Z"
   },
   {
    "duration": 31,
    "start_time": "2021-11-16T10:48:06.967Z"
   },
   {
    "duration": 12,
    "start_time": "2021-11-16T10:48:54.366Z"
   },
   {
    "duration": 6,
    "start_time": "2021-11-16T10:49:04.503Z"
   },
   {
    "duration": 4,
    "start_time": "2021-11-16T10:49:27.252Z"
   },
   {
    "duration": 14,
    "start_time": "2021-11-16T10:49:36.297Z"
   },
   {
    "duration": 646,
    "start_time": "2021-11-16T10:50:58.627Z"
   },
   {
    "duration": 396,
    "start_time": "2021-11-16T10:50:59.275Z"
   },
   {
    "duration": 2,
    "start_time": "2021-11-16T10:50:59.673Z"
   },
   {
    "duration": 35,
    "start_time": "2021-11-16T10:50:59.677Z"
   },
   {
    "duration": 13,
    "start_time": "2021-11-16T10:50:59.713Z"
   },
   {
    "duration": 19,
    "start_time": "2021-11-16T10:50:59.728Z"
   },
   {
    "duration": 5,
    "start_time": "2021-11-16T10:50:59.749Z"
   },
   {
    "duration": 10,
    "start_time": "2021-11-16T10:50:59.756Z"
   },
   {
    "duration": 61,
    "start_time": "2021-11-16T10:50:59.769Z"
   },
   {
    "duration": 10,
    "start_time": "2021-11-16T10:50:59.833Z"
   },
   {
    "duration": 8,
    "start_time": "2021-11-16T10:50:59.845Z"
   },
   {
    "duration": 11,
    "start_time": "2021-11-16T10:50:59.854Z"
   },
   {
    "duration": 29,
    "start_time": "2021-11-16T10:50:59.867Z"
   },
   {
    "duration": 9,
    "start_time": "2021-11-16T10:50:59.897Z"
   },
   {
    "duration": 14,
    "start_time": "2021-11-16T10:50:59.908Z"
   },
   {
    "duration": 7,
    "start_time": "2021-11-16T10:50:59.924Z"
   },
   {
    "duration": 9,
    "start_time": "2021-11-16T10:50:59.933Z"
   },
   {
    "duration": 31,
    "start_time": "2021-11-16T10:50:59.943Z"
   },
   {
    "duration": 41,
    "start_time": "2021-11-16T10:50:59.976Z"
   },
   {
    "duration": 44,
    "start_time": "2021-11-16T10:51:00.019Z"
   },
   {
    "duration": 35,
    "start_time": "2021-11-16T10:51:00.065Z"
   },
   {
    "duration": 57,
    "start_time": "2021-11-16T10:51:00.102Z"
   },
   {
    "duration": 28,
    "start_time": "2021-11-16T10:51:00.160Z"
   },
   {
    "duration": 57,
    "start_time": "2021-11-16T10:51:00.190Z"
   },
   {
    "duration": 19,
    "start_time": "2021-11-16T10:51:00.249Z"
   },
   {
    "duration": 51,
    "start_time": "2021-11-16T10:51:00.270Z"
   },
   {
    "duration": 13,
    "start_time": "2021-11-16T10:51:00.325Z"
   },
   {
    "duration": 42,
    "start_time": "2021-11-16T10:51:00.341Z"
   },
   {
    "duration": 31,
    "start_time": "2021-11-16T10:51:00.385Z"
   },
   {
    "duration": 264,
    "start_time": "2021-11-16T10:51:00.418Z"
   },
   {
    "duration": 236,
    "start_time": "2021-11-16T10:51:00.691Z"
   },
   {
    "duration": 5,
    "start_time": "2021-11-16T10:51:00.929Z"
   },
   {
    "duration": 43,
    "start_time": "2021-11-16T10:51:00.936Z"
   },
   {
    "duration": 21,
    "start_time": "2021-11-16T10:51:00.981Z"
   },
   {
    "duration": 22,
    "start_time": "2021-11-16T10:51:01.004Z"
   },
   {
    "duration": 29,
    "start_time": "2021-11-16T10:51:01.028Z"
   },
   {
    "duration": 48,
    "start_time": "2021-11-16T10:51:01.058Z"
   },
   {
    "duration": 257,
    "start_time": "2021-11-16T10:51:01.108Z"
   },
   {
    "duration": 4,
    "start_time": "2021-11-16T10:51:01.367Z"
   },
   {
    "duration": 23,
    "start_time": "2021-11-16T10:51:01.372Z"
   },
   {
    "duration": 13,
    "start_time": "2021-11-16T10:51:01.396Z"
   },
   {
    "duration": 79,
    "start_time": "2021-11-16T10:51:01.410Z"
   },
   {
    "duration": 315,
    "start_time": "2021-11-16T10:51:01.491Z"
   },
   {
    "duration": 15,
    "start_time": "2021-11-16T10:51:01.808Z"
   },
   {
    "duration": 5,
    "start_time": "2021-11-16T10:51:01.825Z"
   },
   {
    "duration": 17,
    "start_time": "2021-11-16T10:51:01.831Z"
   },
   {
    "duration": 20,
    "start_time": "2021-11-16T10:51:01.849Z"
   },
   {
    "duration": 21,
    "start_time": "2021-11-16T10:51:01.871Z"
   },
   {
    "duration": 42,
    "start_time": "2021-11-16T10:51:01.894Z"
   },
   {
    "duration": 7,
    "start_time": "2021-11-16T10:51:01.938Z"
   },
   {
    "duration": 9,
    "start_time": "2021-11-16T10:51:01.947Z"
   },
   {
    "duration": 15,
    "start_time": "2021-11-16T10:51:01.958Z"
   },
   {
    "duration": 23,
    "start_time": "2021-11-16T10:51:01.975Z"
   },
   {
    "duration": 21,
    "start_time": "2021-11-16T10:51:01.999Z"
   },
   {
    "duration": 41,
    "start_time": "2021-11-16T10:51:02.022Z"
   },
   {
    "duration": 251,
    "start_time": "2021-11-16T10:51:02.065Z"
   },
   {
    "duration": 8,
    "start_time": "2021-11-16T10:51:02.318Z"
   },
   {
    "duration": 30,
    "start_time": "2021-11-16T10:51:02.327Z"
   },
   {
    "duration": 284,
    "start_time": "2021-11-16T10:51:02.359Z"
   },
   {
    "duration": 20,
    "start_time": "2021-11-16T10:51:02.645Z"
   },
   {
    "duration": 35,
    "start_time": "2021-11-16T10:51:02.667Z"
   },
   {
    "duration": 4,
    "start_time": "2021-11-16T10:51:02.703Z"
   },
   {
    "duration": 27,
    "start_time": "2021-11-16T10:51:02.709Z"
   },
   {
    "duration": 7,
    "start_time": "2021-11-16T10:51:02.737Z"
   },
   {
    "duration": 15,
    "start_time": "2021-11-16T10:51:02.745Z"
   },
   {
    "duration": 36,
    "start_time": "2021-11-16T10:51:02.761Z"
   },
   {
    "duration": 11,
    "start_time": "2021-11-16T10:51:02.798Z"
   },
   {
    "duration": 6,
    "start_time": "2021-11-16T10:51:02.811Z"
   },
   {
    "duration": 14,
    "start_time": "2021-11-16T10:51:02.819Z"
   },
   {
    "duration": 632,
    "start_time": "2021-11-16T10:51:23.821Z"
   },
   {
    "duration": 402,
    "start_time": "2021-11-16T10:51:24.455Z"
   },
   {
    "duration": 2,
    "start_time": "2021-11-16T10:51:24.859Z"
   },
   {
    "duration": 28,
    "start_time": "2021-11-16T10:51:24.863Z"
   },
   {
    "duration": 13,
    "start_time": "2021-11-16T10:51:24.893Z"
   },
   {
    "duration": 28,
    "start_time": "2021-11-16T10:51:24.908Z"
   },
   {
    "duration": 15,
    "start_time": "2021-11-16T10:51:24.938Z"
   },
   {
    "duration": 18,
    "start_time": "2021-11-16T10:51:24.955Z"
   },
   {
    "duration": 54,
    "start_time": "2021-11-16T10:51:24.975Z"
   },
   {
    "duration": 11,
    "start_time": "2021-11-16T10:51:25.031Z"
   },
   {
    "duration": 21,
    "start_time": "2021-11-16T10:51:25.043Z"
   },
   {
    "duration": 16,
    "start_time": "2021-11-16T10:51:25.066Z"
   },
   {
    "duration": 8,
    "start_time": "2021-11-16T10:51:25.083Z"
   },
   {
    "duration": 18,
    "start_time": "2021-11-16T10:51:25.092Z"
   },
   {
    "duration": 16,
    "start_time": "2021-11-16T10:51:25.112Z"
   },
   {
    "duration": 10,
    "start_time": "2021-11-16T10:51:25.130Z"
   },
   {
    "duration": 5,
    "start_time": "2021-11-16T10:51:25.142Z"
   },
   {
    "duration": 22,
    "start_time": "2021-11-16T10:51:25.148Z"
   },
   {
    "duration": 29,
    "start_time": "2021-11-16T10:51:25.171Z"
   },
   {
    "duration": 8,
    "start_time": "2021-11-16T10:51:25.202Z"
   },
   {
    "duration": 14,
    "start_time": "2021-11-16T10:51:25.211Z"
   },
   {
    "duration": 7,
    "start_time": "2021-11-16T10:51:25.227Z"
   },
   {
    "duration": 17,
    "start_time": "2021-11-16T10:51:25.239Z"
   },
   {
    "duration": 35,
    "start_time": "2021-11-16T10:51:25.258Z"
   },
   {
    "duration": 19,
    "start_time": "2021-11-16T10:51:25.295Z"
   },
   {
    "duration": 25,
    "start_time": "2021-11-16T10:51:25.315Z"
   },
   {
    "duration": 6,
    "start_time": "2021-11-16T10:51:25.342Z"
   },
   {
    "duration": 11,
    "start_time": "2021-11-16T10:51:25.349Z"
   },
   {
    "duration": 32,
    "start_time": "2021-11-16T10:51:25.362Z"
   },
   {
    "duration": 262,
    "start_time": "2021-11-16T10:51:25.396Z"
   },
   {
    "duration": 233,
    "start_time": "2021-11-16T10:51:25.660Z"
   },
   {
    "duration": 7,
    "start_time": "2021-11-16T10:51:25.895Z"
   },
   {
    "duration": 13,
    "start_time": "2021-11-16T10:51:25.903Z"
   },
   {
    "duration": 15,
    "start_time": "2021-11-16T10:51:25.917Z"
   },
   {
    "duration": 15,
    "start_time": "2021-11-16T10:51:25.933Z"
   },
   {
    "duration": 13,
    "start_time": "2021-11-16T10:51:25.950Z"
   },
   {
    "duration": 8,
    "start_time": "2021-11-16T10:51:25.965Z"
   },
   {
    "duration": 254,
    "start_time": "2021-11-16T10:51:25.975Z"
   },
   {
    "duration": 3,
    "start_time": "2021-11-16T10:51:26.231Z"
   },
   {
    "duration": 11,
    "start_time": "2021-11-16T10:51:26.236Z"
   },
   {
    "duration": 7,
    "start_time": "2021-11-16T10:51:26.249Z"
   },
   {
    "duration": 81,
    "start_time": "2021-11-16T10:51:26.258Z"
   },
   {
    "duration": 301,
    "start_time": "2021-11-16T10:51:26.341Z"
   },
   {
    "duration": 15,
    "start_time": "2021-11-16T10:51:26.644Z"
   },
   {
    "duration": 5,
    "start_time": "2021-11-16T10:51:26.661Z"
   },
   {
    "duration": 33,
    "start_time": "2021-11-16T10:51:26.667Z"
   },
   {
    "duration": 10,
    "start_time": "2021-11-16T10:51:26.701Z"
   },
   {
    "duration": 7,
    "start_time": "2021-11-16T10:51:26.712Z"
   },
   {
    "duration": 27,
    "start_time": "2021-11-16T10:51:26.721Z"
   },
   {
    "duration": 7,
    "start_time": "2021-11-16T10:51:26.750Z"
   },
   {
    "duration": 4,
    "start_time": "2021-11-16T10:51:26.791Z"
   },
   {
    "duration": 15,
    "start_time": "2021-11-16T10:51:26.796Z"
   },
   {
    "duration": 8,
    "start_time": "2021-11-16T10:51:26.812Z"
   },
   {
    "duration": 8,
    "start_time": "2021-11-16T10:51:26.821Z"
   },
   {
    "duration": 27,
    "start_time": "2021-11-16T10:51:26.831Z"
   },
   {
    "duration": 276,
    "start_time": "2021-11-16T10:51:26.860Z"
   },
   {
    "duration": 8,
    "start_time": "2021-11-16T10:51:27.137Z"
   },
   {
    "duration": 11,
    "start_time": "2021-11-16T10:51:27.147Z"
   },
   {
    "duration": 283,
    "start_time": "2021-11-16T10:51:27.159Z"
   },
   {
    "duration": 21,
    "start_time": "2021-11-16T10:51:27.443Z"
   },
   {
    "duration": 31,
    "start_time": "2021-11-16T10:51:27.466Z"
   },
   {
    "duration": 3,
    "start_time": "2021-11-16T10:51:27.499Z"
   },
   {
    "duration": 16,
    "start_time": "2021-11-16T10:51:27.504Z"
   },
   {
    "duration": 4,
    "start_time": "2021-11-16T10:51:27.522Z"
   },
   {
    "duration": 14,
    "start_time": "2021-11-16T10:51:27.527Z"
   },
   {
    "duration": 12,
    "start_time": "2021-11-16T10:51:27.542Z"
   },
   {
    "duration": 43,
    "start_time": "2021-11-16T10:51:27.556Z"
   },
   {
    "duration": 4,
    "start_time": "2021-11-16T10:51:27.604Z"
   },
   {
    "duration": 16,
    "start_time": "2021-11-16T10:51:27.609Z"
   },
   {
    "duration": 7,
    "start_time": "2021-11-16T10:55:21.889Z"
   },
   {
    "duration": 260,
    "start_time": "2021-11-16T10:58:01.265Z"
   },
   {
    "duration": 195,
    "start_time": "2021-11-16T10:58:06.877Z"
   },
   {
    "duration": 198,
    "start_time": "2021-11-16T10:58:29.961Z"
   },
   {
    "duration": 65,
    "start_time": "2021-11-16T11:01:16.165Z"
   },
   {
    "duration": 197,
    "start_time": "2021-11-16T11:01:20.348Z"
   },
   {
    "duration": 186,
    "start_time": "2021-11-16T11:01:26.254Z"
   },
   {
    "duration": 16,
    "start_time": "2021-11-16T11:01:30.813Z"
   },
   {
    "duration": 15,
    "start_time": "2021-11-16T11:02:06.600Z"
   },
   {
    "duration": 20,
    "start_time": "2021-11-16T11:02:34.786Z"
   },
   {
    "duration": 624,
    "start_time": "2021-11-16T11:04:30.832Z"
   },
   {
    "duration": 412,
    "start_time": "2021-11-16T11:04:31.457Z"
   },
   {
    "duration": 2,
    "start_time": "2021-11-16T11:04:31.870Z"
   },
   {
    "duration": 23,
    "start_time": "2021-11-16T11:04:31.874Z"
   },
   {
    "duration": 13,
    "start_time": "2021-11-16T11:04:31.899Z"
   },
   {
    "duration": 17,
    "start_time": "2021-11-16T11:04:31.914Z"
   },
   {
    "duration": 6,
    "start_time": "2021-11-16T11:04:31.933Z"
   },
   {
    "duration": 14,
    "start_time": "2021-11-16T11:04:31.941Z"
   },
   {
    "duration": 72,
    "start_time": "2021-11-16T11:04:31.957Z"
   },
   {
    "duration": 11,
    "start_time": "2021-11-16T11:04:32.031Z"
   },
   {
    "duration": 16,
    "start_time": "2021-11-16T11:04:32.044Z"
   },
   {
    "duration": 32,
    "start_time": "2021-11-16T11:04:32.062Z"
   },
   {
    "duration": 23,
    "start_time": "2021-11-16T11:04:32.096Z"
   },
   {
    "duration": 23,
    "start_time": "2021-11-16T11:04:32.121Z"
   },
   {
    "duration": 21,
    "start_time": "2021-11-16T11:04:32.146Z"
   },
   {
    "duration": 26,
    "start_time": "2021-11-16T11:04:32.169Z"
   },
   {
    "duration": 7,
    "start_time": "2021-11-16T11:04:32.197Z"
   },
   {
    "duration": 23,
    "start_time": "2021-11-16T11:04:32.206Z"
   },
   {
    "duration": 14,
    "start_time": "2021-11-16T11:04:32.231Z"
   },
   {
    "duration": 24,
    "start_time": "2021-11-16T11:04:32.247Z"
   },
   {
    "duration": 15,
    "start_time": "2021-11-16T11:04:32.273Z"
   },
   {
    "duration": 32,
    "start_time": "2021-11-16T11:04:32.290Z"
   },
   {
    "duration": 21,
    "start_time": "2021-11-16T11:04:32.326Z"
   },
   {
    "duration": 51,
    "start_time": "2021-11-16T11:04:32.349Z"
   },
   {
    "duration": 18,
    "start_time": "2021-11-16T11:04:32.401Z"
   },
   {
    "duration": 29,
    "start_time": "2021-11-16T11:04:32.420Z"
   },
   {
    "duration": 6,
    "start_time": "2021-11-16T11:04:32.450Z"
   },
   {
    "duration": 15,
    "start_time": "2021-11-16T11:04:32.458Z"
   },
   {
    "duration": 6,
    "start_time": "2021-11-16T11:04:32.491Z"
   },
   {
    "duration": 276,
    "start_time": "2021-11-16T11:04:32.499Z"
   },
   {
    "duration": 244,
    "start_time": "2021-11-16T11:04:32.777Z"
   },
   {
    "duration": 7,
    "start_time": "2021-11-16T11:04:33.023Z"
   },
   {
    "duration": 8,
    "start_time": "2021-11-16T11:04:33.031Z"
   },
   {
    "duration": 14,
    "start_time": "2021-11-16T11:04:33.041Z"
   },
   {
    "duration": 11,
    "start_time": "2021-11-16T11:04:33.057Z"
   },
   {
    "duration": 26,
    "start_time": "2021-11-16T11:04:33.069Z"
   },
   {
    "duration": 8,
    "start_time": "2021-11-16T11:04:33.097Z"
   },
   {
    "duration": 285,
    "start_time": "2021-11-16T11:04:33.106Z"
   },
   {
    "duration": 10,
    "start_time": "2021-11-16T11:04:33.394Z"
   },
   {
    "duration": 13,
    "start_time": "2021-11-16T11:04:33.406Z"
   },
   {
    "duration": 28,
    "start_time": "2021-11-16T11:04:33.421Z"
   },
   {
    "duration": 90,
    "start_time": "2021-11-16T11:04:33.451Z"
   },
   {
    "duration": 318,
    "start_time": "2021-11-16T11:04:33.543Z"
   },
   {
    "duration": 16,
    "start_time": "2021-11-16T11:04:33.862Z"
   },
   {
    "duration": 6,
    "start_time": "2021-11-16T11:04:33.891Z"
   },
   {
    "duration": 17,
    "start_time": "2021-11-16T11:04:33.899Z"
   },
   {
    "duration": 11,
    "start_time": "2021-11-16T11:04:33.917Z"
   },
   {
    "duration": 8,
    "start_time": "2021-11-16T11:04:33.930Z"
   },
   {
    "duration": 66,
    "start_time": "2021-11-16T11:04:33.940Z"
   },
   {
    "duration": 8,
    "start_time": "2021-11-16T11:04:34.007Z"
   },
   {
    "duration": 4,
    "start_time": "2021-11-16T11:04:34.017Z"
   },
   {
    "duration": 15,
    "start_time": "2021-11-16T11:04:34.022Z"
   },
   {
    "duration": 9,
    "start_time": "2021-11-16T11:04:34.039Z"
   },
   {
    "duration": 46,
    "start_time": "2021-11-16T11:04:34.050Z"
   },
   {
    "duration": 32,
    "start_time": "2021-11-16T11:04:34.098Z"
   },
   {
    "duration": 310,
    "start_time": "2021-11-16T11:04:34.132Z"
   },
   {
    "duration": 9,
    "start_time": "2021-11-16T11:04:34.445Z"
   },
   {
    "duration": 17,
    "start_time": "2021-11-16T11:04:34.455Z"
   },
   {
    "duration": 261,
    "start_time": "2021-11-16T11:04:34.491Z"
   },
   {
    "duration": 15,
    "start_time": "2021-11-16T11:04:34.754Z"
   },
   {
    "duration": 21,
    "start_time": "2021-11-16T11:04:34.771Z"
   },
   {
    "duration": 6,
    "start_time": "2021-11-16T11:04:34.794Z"
   },
   {
    "duration": 18,
    "start_time": "2021-11-16T11:04:34.802Z"
   },
   {
    "duration": 22,
    "start_time": "2021-11-16T11:04:34.821Z"
   },
   {
    "duration": 11,
    "start_time": "2021-11-16T11:06:54.106Z"
   },
   {
    "duration": 183,
    "start_time": "2021-11-16T11:07:08.170Z"
   },
   {
    "duration": 290,
    "start_time": "2021-11-16T11:08:17.156Z"
   },
   {
    "duration": 8,
    "start_time": "2021-11-16T11:08:30.375Z"
   },
   {
    "duration": 5643,
    "start_time": "2021-11-16T13:05:01.835Z"
   },
   {
    "duration": 22,
    "start_time": "2021-11-16T13:05:08.776Z"
   },
   {
    "duration": 32,
    "start_time": "2021-11-16T13:05:14.084Z"
   },
   {
    "duration": 23,
    "start_time": "2021-11-16T13:05:23.528Z"
   },
   {
    "duration": 40,
    "start_time": "2021-11-16T13:05:38.359Z"
   },
   {
    "duration": 31,
    "start_time": "2021-11-16T13:05:49.713Z"
   },
   {
    "duration": 31,
    "start_time": "2021-11-16T13:06:05.236Z"
   },
   {
    "duration": 207,
    "start_time": "2021-11-16T13:07:15.165Z"
   },
   {
    "duration": 28,
    "start_time": "2021-11-16T13:07:21.224Z"
   },
   {
    "duration": 29,
    "start_time": "2021-11-16T13:07:24.194Z"
   },
   {
    "duration": 36,
    "start_time": "2021-11-16T13:07:46.637Z"
   },
   {
    "duration": 30,
    "start_time": "2021-11-16T13:08:42.579Z"
   },
   {
    "duration": 613,
    "start_time": "2021-11-16T13:09:09.208Z"
   },
   {
    "duration": 399,
    "start_time": "2021-11-16T13:09:09.823Z"
   },
   {
    "duration": 2,
    "start_time": "2021-11-16T13:09:10.224Z"
   },
   {
    "duration": 32,
    "start_time": "2021-11-16T13:09:10.228Z"
   },
   {
    "duration": 13,
    "start_time": "2021-11-16T13:09:10.262Z"
   },
   {
    "duration": 40,
    "start_time": "2021-11-16T13:09:10.276Z"
   },
   {
    "duration": 13,
    "start_time": "2021-11-16T13:09:10.318Z"
   },
   {
    "duration": 20,
    "start_time": "2021-11-16T13:09:10.333Z"
   },
   {
    "duration": 56,
    "start_time": "2021-11-16T13:09:10.355Z"
   },
   {
    "duration": 10,
    "start_time": "2021-11-16T13:09:10.413Z"
   },
   {
    "duration": 11,
    "start_time": "2021-11-16T13:09:10.425Z"
   },
   {
    "duration": 20,
    "start_time": "2021-11-16T13:09:10.437Z"
   },
   {
    "duration": 24,
    "start_time": "2021-11-16T13:09:10.458Z"
   },
   {
    "duration": 32,
    "start_time": "2021-11-16T13:09:10.483Z"
   },
   {
    "duration": 19,
    "start_time": "2021-11-16T13:09:10.517Z"
   },
   {
    "duration": 17,
    "start_time": "2021-11-16T13:09:10.537Z"
   },
   {
    "duration": 17,
    "start_time": "2021-11-16T13:09:10.556Z"
   },
   {
    "duration": 28,
    "start_time": "2021-11-16T13:09:10.574Z"
   },
   {
    "duration": 15,
    "start_time": "2021-11-16T13:09:10.603Z"
   },
   {
    "duration": 8,
    "start_time": "2021-11-16T13:09:10.620Z"
   },
   {
    "duration": 13,
    "start_time": "2021-11-16T13:09:10.630Z"
   },
   {
    "duration": 14,
    "start_time": "2021-11-16T13:09:10.644Z"
   },
   {
    "duration": 13,
    "start_time": "2021-11-16T13:09:10.661Z"
   },
   {
    "duration": 43,
    "start_time": "2021-11-16T13:09:10.677Z"
   },
   {
    "duration": 17,
    "start_time": "2021-11-16T13:09:10.721Z"
   },
   {
    "duration": 22,
    "start_time": "2021-11-16T13:09:10.740Z"
   },
   {
    "duration": 4,
    "start_time": "2021-11-16T13:09:10.764Z"
   },
   {
    "duration": 26,
    "start_time": "2021-11-16T13:09:10.769Z"
   },
   {
    "duration": 12,
    "start_time": "2021-11-16T13:09:10.797Z"
   },
   {
    "duration": 257,
    "start_time": "2021-11-16T13:09:10.811Z"
   },
   {
    "duration": 232,
    "start_time": "2021-11-16T13:09:11.070Z"
   },
   {
    "duration": 5,
    "start_time": "2021-11-16T13:09:11.304Z"
   },
   {
    "duration": 20,
    "start_time": "2021-11-16T13:09:11.311Z"
   },
   {
    "duration": 19,
    "start_time": "2021-11-16T13:09:11.332Z"
   },
   {
    "duration": 21,
    "start_time": "2021-11-16T13:09:11.353Z"
   },
   {
    "duration": 15,
    "start_time": "2021-11-16T13:09:11.376Z"
   },
   {
    "duration": 16,
    "start_time": "2021-11-16T13:09:11.393Z"
   },
   {
    "duration": 271,
    "start_time": "2021-11-16T13:09:11.411Z"
   },
   {
    "duration": 14,
    "start_time": "2021-11-16T13:09:11.683Z"
   },
   {
    "duration": 28,
    "start_time": "2021-11-16T13:09:11.698Z"
   },
   {
    "duration": 45,
    "start_time": "2021-11-16T13:09:11.728Z"
   },
   {
    "duration": 24,
    "start_time": "2021-11-16T13:09:11.775Z"
   },
   {
    "duration": 88,
    "start_time": "2021-11-16T13:09:11.801Z"
   },
   {
    "duration": 303,
    "start_time": "2021-11-16T13:09:11.891Z"
   },
   {
    "duration": 16,
    "start_time": "2021-11-16T13:09:12.195Z"
   },
   {
    "duration": 18,
    "start_time": "2021-11-16T13:09:12.212Z"
   },
   {
    "duration": 29,
    "start_time": "2021-11-16T13:09:12.231Z"
   },
   {
    "duration": 23,
    "start_time": "2021-11-16T13:09:12.261Z"
   },
   {
    "duration": 10,
    "start_time": "2021-11-16T13:09:12.285Z"
   },
   {
    "duration": 54,
    "start_time": "2021-11-16T13:09:12.296Z"
   },
   {
    "duration": 7,
    "start_time": "2021-11-16T13:09:12.351Z"
   },
   {
    "duration": 17,
    "start_time": "2021-11-16T13:09:12.360Z"
   },
   {
    "duration": 30,
    "start_time": "2021-11-16T13:09:12.378Z"
   },
   {
    "duration": 18,
    "start_time": "2021-11-16T13:09:12.410Z"
   },
   {
    "duration": 27,
    "start_time": "2021-11-16T13:09:12.429Z"
   },
   {
    "duration": 37,
    "start_time": "2021-11-16T13:09:12.457Z"
   },
   {
    "duration": 240,
    "start_time": "2021-11-16T13:09:12.496Z"
   },
   {
    "duration": 8,
    "start_time": "2021-11-16T13:09:12.738Z"
   },
   {
    "duration": 36,
    "start_time": "2021-11-16T13:09:12.747Z"
   },
   {
    "duration": 252,
    "start_time": "2021-11-16T13:09:12.785Z"
   },
   {
    "duration": 13,
    "start_time": "2021-11-16T13:09:13.039Z"
   },
   {
    "duration": 11,
    "start_time": "2021-11-16T13:09:13.054Z"
   },
   {
    "duration": 24,
    "start_time": "2021-11-16T13:09:13.067Z"
   },
   {
    "duration": 6,
    "start_time": "2021-11-16T13:09:13.093Z"
   },
   {
    "duration": 18,
    "start_time": "2021-11-16T13:09:13.101Z"
   },
   {
    "duration": 21,
    "start_time": "2021-11-16T13:09:13.121Z"
   },
   {
    "duration": 23,
    "start_time": "2021-11-16T13:09:13.144Z"
   },
   {
    "duration": 31,
    "start_time": "2021-11-16T13:09:13.191Z"
   },
   {
    "duration": 12,
    "start_time": "2021-11-16T13:09:34.823Z"
   },
   {
    "duration": 271,
    "start_time": "2021-11-16T13:17:23.310Z"
   },
   {
    "duration": 54,
    "start_time": "2021-11-16T13:17:29.370Z"
   },
   {
    "duration": 12,
    "start_time": "2021-11-16T13:17:42.981Z"
   },
   {
    "duration": 11,
    "start_time": "2021-11-16T13:17:53.057Z"
   },
   {
    "duration": 53,
    "start_time": "2021-11-16T13:18:42.308Z"
   },
   {
    "duration": 50,
    "start_time": "2021-11-16T13:18:59.682Z"
   },
   {
    "duration": 2,
    "start_time": "2021-11-16T13:19:01.645Z"
   },
   {
    "duration": 62,
    "start_time": "2021-11-16T13:20:03.735Z"
   },
   {
    "duration": 55,
    "start_time": "2021-11-16T13:21:26.587Z"
   },
   {
    "duration": 13,
    "start_time": "2021-11-16T13:23:42.661Z"
   },
   {
    "duration": 14,
    "start_time": "2021-11-16T13:24:25.204Z"
   },
   {
    "duration": 11,
    "start_time": "2021-11-16T13:24:41.978Z"
   },
   {
    "duration": 6,
    "start_time": "2021-11-16T13:24:48.520Z"
   },
   {
    "duration": 12,
    "start_time": "2021-11-16T13:24:49.335Z"
   },
   {
    "duration": 55,
    "start_time": "2021-11-16T13:25:13.226Z"
   },
   {
    "duration": 11,
    "start_time": "2021-11-16T13:25:28.358Z"
   },
   {
    "duration": 4772,
    "start_time": "2021-11-16T13:29:53.234Z"
   },
   {
    "duration": 195,
    "start_time": "2021-11-16T13:33:18.217Z"
   },
   {
    "duration": 46,
    "start_time": "2021-11-16T13:33:24.888Z"
   },
   {
    "duration": 174,
    "start_time": "2021-11-16T13:38:14.126Z"
   },
   {
    "duration": 169,
    "start_time": "2021-11-16T13:38:18.258Z"
   },
   {
    "duration": 5688,
    "start_time": "2021-11-16T13:38:34.209Z"
   },
   {
    "duration": 4,
    "start_time": "2021-11-16T13:38:42.015Z"
   },
   {
    "duration": 18,
    "start_time": "2021-11-16T13:38:59.983Z"
   },
   {
    "duration": 242,
    "start_time": "2021-11-16T13:46:44.139Z"
   },
   {
    "duration": 3,
    "start_time": "2021-11-16T13:48:50.507Z"
   },
   {
    "duration": 878,
    "start_time": "2021-11-16T13:49:29.567Z"
   },
   {
    "duration": 5,
    "start_time": "2021-11-16T13:53:11.214Z"
   },
   {
    "duration": 4,
    "start_time": "2021-11-16T13:53:18.873Z"
   },
   {
    "duration": 5,
    "start_time": "2021-11-16T13:54:13.677Z"
   },
   {
    "duration": 222,
    "start_time": "2021-11-16T13:54:22.431Z"
   },
   {
    "duration": 20,
    "start_time": "2021-11-16T13:54:46.308Z"
   },
   {
    "duration": 9,
    "start_time": "2021-11-16T13:55:40.351Z"
   },
   {
    "duration": 5,
    "start_time": "2021-11-16T13:57:14.526Z"
   },
   {
    "duration": 199,
    "start_time": "2021-11-16T13:57:15.849Z"
   },
   {
    "duration": 184,
    "start_time": "2021-11-16T13:58:59.498Z"
   },
   {
    "duration": 63,
    "start_time": "2021-11-16T13:59:05.590Z"
   },
   {
    "duration": 582,
    "start_time": "2021-11-16T14:02:28.455Z"
   },
   {
    "duration": 398,
    "start_time": "2021-11-16T14:02:29.039Z"
   },
   {
    "duration": 2,
    "start_time": "2021-11-16T14:02:29.439Z"
   },
   {
    "duration": 29,
    "start_time": "2021-11-16T14:02:29.443Z"
   },
   {
    "duration": 14,
    "start_time": "2021-11-16T14:02:29.474Z"
   },
   {
    "duration": 16,
    "start_time": "2021-11-16T14:02:29.489Z"
   },
   {
    "duration": 6,
    "start_time": "2021-11-16T14:02:29.507Z"
   },
   {
    "duration": 7,
    "start_time": "2021-11-16T14:02:29.516Z"
   },
   {
    "duration": 45,
    "start_time": "2021-11-16T14:02:29.525Z"
   },
   {
    "duration": 29,
    "start_time": "2021-11-16T14:02:29.572Z"
   },
   {
    "duration": 7,
    "start_time": "2021-11-16T14:02:29.603Z"
   },
   {
    "duration": 16,
    "start_time": "2021-11-16T14:02:29.612Z"
   },
   {
    "duration": 17,
    "start_time": "2021-11-16T14:02:29.629Z"
   },
   {
    "duration": 15,
    "start_time": "2021-11-16T14:02:29.648Z"
   },
   {
    "duration": 29,
    "start_time": "2021-11-16T14:02:29.665Z"
   },
   {
    "duration": 9,
    "start_time": "2021-11-16T14:02:29.696Z"
   },
   {
    "duration": 8,
    "start_time": "2021-11-16T14:02:29.707Z"
   },
   {
    "duration": 9,
    "start_time": "2021-11-16T14:02:29.716Z"
   },
   {
    "duration": 9,
    "start_time": "2021-11-16T14:02:29.726Z"
   },
   {
    "duration": 8,
    "start_time": "2021-11-16T14:02:29.736Z"
   },
   {
    "duration": 6,
    "start_time": "2021-11-16T14:02:29.746Z"
   },
   {
    "duration": 9,
    "start_time": "2021-11-16T14:02:29.753Z"
   },
   {
    "duration": 7,
    "start_time": "2021-11-16T14:02:29.766Z"
   },
   {
    "duration": 37,
    "start_time": "2021-11-16T14:02:29.776Z"
   },
   {
    "duration": 17,
    "start_time": "2021-11-16T14:02:29.815Z"
   },
   {
    "duration": 24,
    "start_time": "2021-11-16T14:02:29.834Z"
   },
   {
    "duration": 5,
    "start_time": "2021-11-16T14:02:29.859Z"
   },
   {
    "duration": 33,
    "start_time": "2021-11-16T14:02:29.865Z"
   },
   {
    "duration": 4,
    "start_time": "2021-11-16T14:02:29.900Z"
   },
   {
    "duration": 265,
    "start_time": "2021-11-16T14:02:29.905Z"
   },
   {
    "duration": 241,
    "start_time": "2021-11-16T14:02:30.172Z"
   },
   {
    "duration": 7,
    "start_time": "2021-11-16T14:02:30.415Z"
   },
   {
    "duration": 22,
    "start_time": "2021-11-16T14:02:30.423Z"
   },
   {
    "duration": 11,
    "start_time": "2021-11-16T14:02:30.447Z"
   },
   {
    "duration": 15,
    "start_time": "2021-11-16T14:02:30.460Z"
   },
   {
    "duration": 32,
    "start_time": "2021-11-16T14:02:30.477Z"
   },
   {
    "duration": 20,
    "start_time": "2021-11-16T14:02:30.511Z"
   },
   {
    "duration": 276,
    "start_time": "2021-11-16T14:02:30.533Z"
   },
   {
    "duration": 10,
    "start_time": "2021-11-16T14:02:30.811Z"
   },
   {
    "duration": 39,
    "start_time": "2021-11-16T14:02:30.823Z"
   },
   {
    "duration": 26,
    "start_time": "2021-11-16T14:02:30.865Z"
   },
   {
    "duration": 23,
    "start_time": "2021-11-16T14:02:30.893Z"
   },
   {
    "duration": 18,
    "start_time": "2021-11-16T14:02:30.918Z"
   },
   {
    "duration": 85,
    "start_time": "2021-11-16T14:02:30.938Z"
   },
   {
    "duration": 309,
    "start_time": "2021-11-16T14:02:31.025Z"
   },
   {
    "duration": 15,
    "start_time": "2021-11-16T14:02:31.335Z"
   },
   {
    "duration": 7,
    "start_time": "2021-11-16T14:02:31.352Z"
   },
   {
    "duration": 32,
    "start_time": "2021-11-16T14:02:31.360Z"
   },
   {
    "duration": 15,
    "start_time": "2021-11-16T14:02:31.393Z"
   },
   {
    "duration": 16,
    "start_time": "2021-11-16T14:02:31.409Z"
   },
   {
    "duration": 38,
    "start_time": "2021-11-16T14:02:31.426Z"
   },
   {
    "duration": 7,
    "start_time": "2021-11-16T14:02:31.466Z"
   },
   {
    "duration": 16,
    "start_time": "2021-11-16T14:02:31.474Z"
   },
   {
    "duration": 26,
    "start_time": "2021-11-16T14:02:31.492Z"
   },
   {
    "duration": 9,
    "start_time": "2021-11-16T14:02:31.520Z"
   },
   {
    "duration": 16,
    "start_time": "2021-11-16T14:02:31.531Z"
   },
   {
    "duration": 31,
    "start_time": "2021-11-16T14:02:31.548Z"
   },
   {
    "duration": 252,
    "start_time": "2021-11-16T14:02:31.581Z"
   },
   {
    "duration": 8,
    "start_time": "2021-11-16T14:02:31.834Z"
   },
   {
    "duration": 16,
    "start_time": "2021-11-16T14:02:31.844Z"
   },
   {
    "duration": 272,
    "start_time": "2021-11-16T14:02:31.861Z"
   },
   {
    "duration": 12,
    "start_time": "2021-11-16T14:02:32.134Z"
   },
   {
    "duration": 20,
    "start_time": "2021-11-16T14:02:32.148Z"
   },
   {
    "duration": 20,
    "start_time": "2021-11-16T14:02:32.170Z"
   },
   {
    "duration": 22,
    "start_time": "2021-11-16T14:02:32.191Z"
   },
   {
    "duration": 29,
    "start_time": "2021-11-16T14:02:32.215Z"
   },
   {
    "duration": 30,
    "start_time": "2021-11-16T14:02:32.246Z"
   },
   {
    "duration": 49,
    "start_time": "2021-11-16T14:02:32.281Z"
   },
   {
    "duration": 3,
    "start_time": "2021-11-16T14:02:32.332Z"
   },
   {
    "duration": 10,
    "start_time": "2021-11-16T14:02:32.336Z"
   },
   {
    "duration": 21,
    "start_time": "2021-11-16T14:02:32.347Z"
   },
   {
    "duration": 949,
    "start_time": "2021-11-16T14:02:32.370Z"
   },
   {
    "duration": -1106,
    "start_time": "2021-11-16T14:02:34.427Z"
   },
   {
    "duration": -1110,
    "start_time": "2021-11-16T14:02:34.432Z"
   },
   {
    "duration": -1118,
    "start_time": "2021-11-16T14:02:34.441Z"
   },
   {
    "duration": -1134,
    "start_time": "2021-11-16T14:02:34.458Z"
   },
   {
    "duration": 5,
    "start_time": "2021-11-16T14:03:35.064Z"
   },
   {
    "duration": 21,
    "start_time": "2021-11-16T14:03:41.260Z"
   },
   {
    "duration": 5,
    "start_time": "2021-11-16T14:04:04.535Z"
   },
   {
    "duration": 21,
    "start_time": "2021-11-16T14:04:06.797Z"
   },
   {
    "duration": 5,
    "start_time": "2021-11-16T14:04:31.969Z"
   },
   {
    "duration": 21,
    "start_time": "2021-11-16T14:04:34.485Z"
   },
   {
    "duration": 6,
    "start_time": "2021-11-16T14:05:39.847Z"
   },
   {
    "duration": 4,
    "start_time": "2021-11-16T14:05:47.457Z"
   },
   {
    "duration": 18,
    "start_time": "2021-11-16T14:05:49.208Z"
   },
   {
    "duration": 5,
    "start_time": "2021-11-16T14:06:13.192Z"
   },
   {
    "duration": 19,
    "start_time": "2021-11-16T14:06:14.844Z"
   },
   {
    "duration": 658,
    "start_time": "2021-11-16T14:06:23.586Z"
   },
   {
    "duration": 407,
    "start_time": "2021-11-16T14:06:24.246Z"
   },
   {
    "duration": 2,
    "start_time": "2021-11-16T14:06:24.655Z"
   },
   {
    "duration": 46,
    "start_time": "2021-11-16T14:06:24.659Z"
   },
   {
    "duration": 38,
    "start_time": "2021-11-16T14:06:24.706Z"
   },
   {
    "duration": 26,
    "start_time": "2021-11-16T14:06:24.745Z"
   },
   {
    "duration": 11,
    "start_time": "2021-11-16T14:06:24.772Z"
   },
   {
    "duration": 12,
    "start_time": "2021-11-16T14:06:24.785Z"
   },
   {
    "duration": 49,
    "start_time": "2021-11-16T14:06:24.799Z"
   },
   {
    "duration": 11,
    "start_time": "2021-11-16T14:06:24.849Z"
   },
   {
    "duration": 23,
    "start_time": "2021-11-16T14:06:24.862Z"
   },
   {
    "duration": 14,
    "start_time": "2021-11-16T14:06:24.887Z"
   },
   {
    "duration": 30,
    "start_time": "2021-11-16T14:06:24.903Z"
   },
   {
    "duration": 34,
    "start_time": "2021-11-16T14:06:24.935Z"
   },
   {
    "duration": 22,
    "start_time": "2021-11-16T14:06:24.971Z"
   },
   {
    "duration": 20,
    "start_time": "2021-11-16T14:06:24.995Z"
   },
   {
    "duration": 15,
    "start_time": "2021-11-16T14:06:25.016Z"
   },
   {
    "duration": 19,
    "start_time": "2021-11-16T14:06:25.033Z"
   },
   {
    "duration": 22,
    "start_time": "2021-11-16T14:06:25.053Z"
   },
   {
    "duration": 19,
    "start_time": "2021-11-16T14:06:25.077Z"
   },
   {
    "duration": 26,
    "start_time": "2021-11-16T14:06:25.098Z"
   },
   {
    "duration": 16,
    "start_time": "2021-11-16T14:06:25.126Z"
   },
   {
    "duration": 17,
    "start_time": "2021-11-16T14:06:25.145Z"
   },
   {
    "duration": 47,
    "start_time": "2021-11-16T14:06:25.165Z"
   },
   {
    "duration": 16,
    "start_time": "2021-11-16T14:06:25.214Z"
   },
   {
    "duration": 29,
    "start_time": "2021-11-16T14:06:25.232Z"
   },
   {
    "duration": 24,
    "start_time": "2021-11-16T14:06:25.263Z"
   },
   {
    "duration": 21,
    "start_time": "2021-11-16T14:06:25.289Z"
   },
   {
    "duration": 28,
    "start_time": "2021-11-16T14:06:25.311Z"
   },
   {
    "duration": 272,
    "start_time": "2021-11-16T14:06:25.341Z"
   },
   {
    "duration": 242,
    "start_time": "2021-11-16T14:06:25.615Z"
   },
   {
    "duration": 6,
    "start_time": "2021-11-16T14:06:25.858Z"
   },
   {
    "duration": 16,
    "start_time": "2021-11-16T14:06:25.865Z"
   },
   {
    "duration": 33,
    "start_time": "2021-11-16T14:06:25.883Z"
   },
   {
    "duration": 28,
    "start_time": "2021-11-16T14:06:25.917Z"
   },
   {
    "duration": 13,
    "start_time": "2021-11-16T14:06:25.946Z"
   },
   {
    "duration": 26,
    "start_time": "2021-11-16T14:06:25.961Z"
   },
   {
    "duration": 269,
    "start_time": "2021-11-16T14:06:25.989Z"
   },
   {
    "duration": 8,
    "start_time": "2021-11-16T14:06:26.259Z"
   },
   {
    "duration": 20,
    "start_time": "2021-11-16T14:06:26.269Z"
   },
   {
    "duration": 11,
    "start_time": "2021-11-16T14:06:26.291Z"
   },
   {
    "duration": 24,
    "start_time": "2021-11-16T14:06:26.304Z"
   },
   {
    "duration": 14,
    "start_time": "2021-11-16T14:06:26.330Z"
   },
   {
    "duration": 87,
    "start_time": "2021-11-16T14:06:26.346Z"
   },
   {
    "duration": 300,
    "start_time": "2021-11-16T14:06:26.434Z"
   },
   {
    "duration": 16,
    "start_time": "2021-11-16T14:06:26.735Z"
   },
   {
    "duration": 20,
    "start_time": "2021-11-16T14:06:26.752Z"
   },
   {
    "duration": 28,
    "start_time": "2021-11-16T14:06:26.773Z"
   },
   {
    "duration": 25,
    "start_time": "2021-11-16T14:06:26.802Z"
   },
   {
    "duration": 12,
    "start_time": "2021-11-16T14:06:26.829Z"
   },
   {
    "duration": 47,
    "start_time": "2021-11-16T14:06:26.842Z"
   },
   {
    "duration": 7,
    "start_time": "2021-11-16T14:06:26.891Z"
   },
   {
    "duration": 15,
    "start_time": "2021-11-16T14:06:26.899Z"
   },
   {
    "duration": 27,
    "start_time": "2021-11-16T14:06:26.916Z"
   },
   {
    "duration": 11,
    "start_time": "2021-11-16T14:06:26.945Z"
   },
   {
    "duration": 22,
    "start_time": "2021-11-16T14:06:26.958Z"
   },
   {
    "duration": 39,
    "start_time": "2021-11-16T14:06:26.982Z"
   },
   {
    "duration": 258,
    "start_time": "2021-11-16T14:06:27.024Z"
   },
   {
    "duration": 9,
    "start_time": "2021-11-16T14:06:27.291Z"
   },
   {
    "duration": 25,
    "start_time": "2021-11-16T14:06:27.302Z"
   },
   {
    "duration": 260,
    "start_time": "2021-11-16T14:06:27.329Z"
   },
   {
    "duration": 12,
    "start_time": "2021-11-16T14:06:27.591Z"
   },
   {
    "duration": 9,
    "start_time": "2021-11-16T14:06:27.605Z"
   },
   {
    "duration": 14,
    "start_time": "2021-11-16T14:06:27.616Z"
   },
   {
    "duration": 4,
    "start_time": "2021-11-16T14:06:27.632Z"
   },
   {
    "duration": 15,
    "start_time": "2021-11-16T14:06:27.638Z"
   },
   {
    "duration": 47,
    "start_time": "2021-11-16T14:06:27.654Z"
   },
   {
    "duration": 47,
    "start_time": "2021-11-16T14:06:27.705Z"
   },
   {
    "duration": 4,
    "start_time": "2021-11-16T14:06:27.754Z"
   },
   {
    "duration": 6,
    "start_time": "2021-11-16T14:06:27.759Z"
   },
   {
    "duration": 20,
    "start_time": "2021-11-16T14:06:27.766Z"
   },
   {
    "duration": 4,
    "start_time": "2021-11-16T14:06:27.791Z"
   },
   {
    "duration": 23,
    "start_time": "2021-11-16T14:06:27.796Z"
   },
   {
    "duration": 19,
    "start_time": "2021-11-16T14:06:27.820Z"
   },
   {
    "duration": 79,
    "start_time": "2021-11-16T14:06:27.840Z"
   },
   {
    "duration": 12,
    "start_time": "2021-11-16T14:06:27.920Z"
   },
   {
    "duration": 11,
    "start_time": "2021-11-16T14:06:27.933Z"
   },
   {
    "duration": 56,
    "start_time": "2021-11-16T14:10:02.140Z"
   },
   {
    "duration": 52,
    "start_time": "2021-11-16T14:10:14.450Z"
   },
   {
    "duration": 12,
    "start_time": "2021-11-16T14:10:37.445Z"
   },
   {
    "duration": 12,
    "start_time": "2021-11-16T14:11:09.169Z"
   },
   {
    "duration": 9,
    "start_time": "2021-11-16T14:13:15.932Z"
   },
   {
    "duration": 247,
    "start_time": "2021-11-16T14:14:10.833Z"
   },
   {
    "duration": 9,
    "start_time": "2021-11-16T14:14:19.814Z"
   },
   {
    "duration": 9,
    "start_time": "2021-11-16T14:17:15.899Z"
   },
   {
    "duration": 21,
    "start_time": "2021-11-16T14:17:21.489Z"
   },
   {
    "duration": 7,
    "start_time": "2021-11-16T14:17:35.917Z"
   },
   {
    "duration": 33,
    "start_time": "2021-11-16T14:17:39.746Z"
   },
   {
    "duration": 178,
    "start_time": "2021-11-16T14:19:03.918Z"
   },
   {
    "duration": 12,
    "start_time": "2021-11-16T14:19:18.372Z"
   },
   {
    "duration": 175,
    "start_time": "2021-11-16T14:19:37.095Z"
   },
   {
    "duration": 13,
    "start_time": "2021-11-16T14:19:46.003Z"
   },
   {
    "duration": 196,
    "start_time": "2021-11-16T14:19:50.148Z"
   },
   {
    "duration": 173,
    "start_time": "2021-11-16T14:20:08.503Z"
   },
   {
    "duration": 13,
    "start_time": "2021-11-16T14:20:24.644Z"
   },
   {
    "duration": 200,
    "start_time": "2021-11-16T14:20:44.966Z"
   },
   {
    "duration": 13,
    "start_time": "2021-11-16T14:20:59.785Z"
   },
   {
    "duration": 185,
    "start_time": "2021-11-16T14:21:10.835Z"
   },
   {
    "duration": 193,
    "start_time": "2021-11-16T14:21:35.516Z"
   },
   {
    "duration": 9,
    "start_time": "2021-11-16T14:21:50.993Z"
   },
   {
    "duration": 188,
    "start_time": "2021-11-16T14:21:54.511Z"
   },
   {
    "duration": 187,
    "start_time": "2021-11-16T14:21:57.535Z"
   },
   {
    "duration": 184,
    "start_time": "2021-11-16T14:22:13.709Z"
   },
   {
    "duration": 39,
    "start_time": "2021-11-16T14:22:43.520Z"
   },
   {
    "duration": 70,
    "start_time": "2021-11-16T14:24:01.973Z"
   },
   {
    "duration": 38,
    "start_time": "2021-11-16T14:24:06.504Z"
   },
   {
    "duration": 39,
    "start_time": "2021-11-16T14:24:34.973Z"
   },
   {
    "duration": 36,
    "start_time": "2021-11-16T14:25:02.356Z"
   },
   {
    "duration": 39,
    "start_time": "2021-11-16T14:25:25.949Z"
   },
   {
    "duration": 633,
    "start_time": "2021-11-16T14:25:31.359Z"
   },
   {
    "duration": 398,
    "start_time": "2021-11-16T14:25:31.994Z"
   },
   {
    "duration": 2,
    "start_time": "2021-11-16T14:25:32.393Z"
   },
   {
    "duration": 35,
    "start_time": "2021-11-16T14:25:32.397Z"
   },
   {
    "duration": 13,
    "start_time": "2021-11-16T14:25:32.434Z"
   },
   {
    "duration": 19,
    "start_time": "2021-11-16T14:25:32.448Z"
   },
   {
    "duration": 5,
    "start_time": "2021-11-16T14:25:32.469Z"
   },
   {
    "duration": 16,
    "start_time": "2021-11-16T14:25:32.476Z"
   },
   {
    "duration": 50,
    "start_time": "2021-11-16T14:25:32.494Z"
   },
   {
    "duration": 10,
    "start_time": "2021-11-16T14:25:32.546Z"
   },
   {
    "duration": 10,
    "start_time": "2021-11-16T14:25:32.558Z"
   },
   {
    "duration": 23,
    "start_time": "2021-11-16T14:25:32.569Z"
   },
   {
    "duration": 8,
    "start_time": "2021-11-16T14:25:32.593Z"
   },
   {
    "duration": 12,
    "start_time": "2021-11-16T14:25:32.602Z"
   },
   {
    "duration": 11,
    "start_time": "2021-11-16T14:25:32.615Z"
   },
   {
    "duration": 4,
    "start_time": "2021-11-16T14:25:32.627Z"
   },
   {
    "duration": 6,
    "start_time": "2021-11-16T14:25:32.632Z"
   },
   {
    "duration": 21,
    "start_time": "2021-11-16T14:25:32.639Z"
   },
   {
    "duration": 24,
    "start_time": "2021-11-16T14:25:32.662Z"
   },
   {
    "duration": 20,
    "start_time": "2021-11-16T14:25:32.688Z"
   },
   {
    "duration": 9,
    "start_time": "2021-11-16T14:25:32.709Z"
   },
   {
    "duration": 12,
    "start_time": "2021-11-16T14:25:32.720Z"
   },
   {
    "duration": 7,
    "start_time": "2021-11-16T14:25:32.736Z"
   },
   {
    "duration": 29,
    "start_time": "2021-11-16T14:25:32.746Z"
   },
   {
    "duration": 17,
    "start_time": "2021-11-16T14:25:32.777Z"
   },
   {
    "duration": 24,
    "start_time": "2021-11-16T14:25:32.796Z"
   },
   {
    "duration": 4,
    "start_time": "2021-11-16T14:25:32.822Z"
   },
   {
    "duration": 15,
    "start_time": "2021-11-16T14:25:32.827Z"
   },
   {
    "duration": 14,
    "start_time": "2021-11-16T14:25:32.843Z"
   },
   {
    "duration": 252,
    "start_time": "2021-11-16T14:25:32.858Z"
   },
   {
    "duration": 233,
    "start_time": "2021-11-16T14:25:33.111Z"
   },
   {
    "duration": 5,
    "start_time": "2021-11-16T14:25:33.346Z"
   },
   {
    "duration": 14,
    "start_time": "2021-11-16T14:25:33.352Z"
   },
   {
    "duration": 7,
    "start_time": "2021-11-16T14:25:33.368Z"
   },
   {
    "duration": 16,
    "start_time": "2021-11-16T14:25:33.376Z"
   },
   {
    "duration": 19,
    "start_time": "2021-11-16T14:25:33.393Z"
   },
   {
    "duration": 11,
    "start_time": "2021-11-16T14:25:33.413Z"
   },
   {
    "duration": 256,
    "start_time": "2021-11-16T14:25:33.425Z"
   },
   {
    "duration": 14,
    "start_time": "2021-11-16T14:25:33.683Z"
   },
   {
    "duration": 30,
    "start_time": "2021-11-16T14:25:33.698Z"
   },
   {
    "duration": 22,
    "start_time": "2021-11-16T14:25:33.730Z"
   },
   {
    "duration": 26,
    "start_time": "2021-11-16T14:25:33.753Z"
   },
   {
    "duration": 19,
    "start_time": "2021-11-16T14:25:33.780Z"
   },
   {
    "duration": 72,
    "start_time": "2021-11-16T14:25:33.801Z"
   },
   {
    "duration": 295,
    "start_time": "2021-11-16T14:25:33.875Z"
   },
   {
    "duration": 22,
    "start_time": "2021-11-16T14:25:34.172Z"
   },
   {
    "duration": 5,
    "start_time": "2021-11-16T14:25:34.196Z"
   },
   {
    "duration": 34,
    "start_time": "2021-11-16T14:25:34.202Z"
   },
   {
    "duration": 15,
    "start_time": "2021-11-16T14:25:34.238Z"
   },
   {
    "duration": 18,
    "start_time": "2021-11-16T14:25:34.255Z"
   },
   {
    "duration": 45,
    "start_time": "2021-11-16T14:25:34.274Z"
   },
   {
    "duration": 7,
    "start_time": "2021-11-16T14:25:34.321Z"
   },
   {
    "duration": 7,
    "start_time": "2021-11-16T14:25:34.330Z"
   },
   {
    "duration": 19,
    "start_time": "2021-11-16T14:25:34.339Z"
   },
   {
    "duration": 10,
    "start_time": "2021-11-16T14:25:34.360Z"
   },
   {
    "duration": 20,
    "start_time": "2021-11-16T14:25:34.372Z"
   },
   {
    "duration": 36,
    "start_time": "2021-11-16T14:25:34.393Z"
   },
   {
    "duration": 269,
    "start_time": "2021-11-16T14:25:34.430Z"
   },
   {
    "duration": 15,
    "start_time": "2021-11-16T14:25:34.702Z"
   },
   {
    "duration": 31,
    "start_time": "2021-11-16T14:25:34.720Z"
   },
   {
    "duration": 288,
    "start_time": "2021-11-16T14:25:34.753Z"
   },
   {
    "duration": 13,
    "start_time": "2021-11-16T14:25:35.043Z"
   },
   {
    "duration": 12,
    "start_time": "2021-11-16T14:25:35.058Z"
   },
   {
    "duration": 13,
    "start_time": "2021-11-16T14:25:35.090Z"
   },
   {
    "duration": 9,
    "start_time": "2021-11-16T14:25:35.104Z"
   },
   {
    "duration": 14,
    "start_time": "2021-11-16T14:25:35.114Z"
   },
   {
    "duration": 20,
    "start_time": "2021-11-16T14:25:35.129Z"
   },
   {
    "duration": 71,
    "start_time": "2021-11-16T14:25:35.154Z"
   },
   {
    "duration": 4,
    "start_time": "2021-11-16T14:25:35.226Z"
   },
   {
    "duration": 10,
    "start_time": "2021-11-16T14:25:35.232Z"
   },
   {
    "duration": 13,
    "start_time": "2021-11-16T14:25:35.243Z"
   },
   {
    "duration": 25,
    "start_time": "2021-11-16T14:25:35.258Z"
   },
   {
    "duration": 69,
    "start_time": "2021-11-16T14:25:35.285Z"
   },
   {
    "duration": 11,
    "start_time": "2021-11-16T14:25:35.356Z"
   },
   {
    "duration": 20,
    "start_time": "2021-11-16T14:25:35.368Z"
   },
   {
    "duration": 34,
    "start_time": "2021-11-16T14:25:35.389Z"
   },
   {
    "duration": 25,
    "start_time": "2021-11-16T14:26:18.685Z"
   },
   {
    "duration": 12,
    "start_time": "2021-11-16T14:27:24.776Z"
   },
   {
    "duration": 246,
    "start_time": "2021-11-16T14:27:30.939Z"
   },
   {
    "duration": 641,
    "start_time": "2021-11-16T14:27:40.188Z"
   },
   {
    "duration": 394,
    "start_time": "2021-11-16T14:27:40.830Z"
   },
   {
    "duration": 2,
    "start_time": "2021-11-16T14:27:41.226Z"
   },
   {
    "duration": 24,
    "start_time": "2021-11-16T14:27:41.230Z"
   },
   {
    "duration": 13,
    "start_time": "2021-11-16T14:27:41.255Z"
   },
   {
    "duration": 16,
    "start_time": "2021-11-16T14:27:41.269Z"
   },
   {
    "duration": 6,
    "start_time": "2021-11-16T14:27:41.286Z"
   },
   {
    "duration": 7,
    "start_time": "2021-11-16T14:27:41.294Z"
   },
   {
    "duration": 48,
    "start_time": "2021-11-16T14:27:41.303Z"
   },
   {
    "duration": 10,
    "start_time": "2021-11-16T14:27:41.353Z"
   },
   {
    "duration": 12,
    "start_time": "2021-11-16T14:27:41.364Z"
   },
   {
    "duration": 7,
    "start_time": "2021-11-16T14:27:41.392Z"
   },
   {
    "duration": 9,
    "start_time": "2021-11-16T14:27:41.401Z"
   },
   {
    "duration": 11,
    "start_time": "2021-11-16T14:27:41.411Z"
   },
   {
    "duration": 9,
    "start_time": "2021-11-16T14:27:41.423Z"
   },
   {
    "duration": 9,
    "start_time": "2021-11-16T14:27:41.433Z"
   },
   {
    "duration": 5,
    "start_time": "2021-11-16T14:27:41.444Z"
   },
   {
    "duration": 11,
    "start_time": "2021-11-16T14:27:41.450Z"
   },
   {
    "duration": 5,
    "start_time": "2021-11-16T14:27:41.463Z"
   },
   {
    "duration": 23,
    "start_time": "2021-11-16T14:27:41.469Z"
   },
   {
    "duration": 7,
    "start_time": "2021-11-16T14:27:41.493Z"
   },
   {
    "duration": 6,
    "start_time": "2021-11-16T14:27:41.502Z"
   },
   {
    "duration": 4,
    "start_time": "2021-11-16T14:27:41.512Z"
   },
   {
    "duration": 30,
    "start_time": "2021-11-16T14:27:41.518Z"
   },
   {
    "duration": 16,
    "start_time": "2021-11-16T14:27:41.549Z"
   },
   {
    "duration": 38,
    "start_time": "2021-11-16T14:27:41.566Z"
   },
   {
    "duration": 4,
    "start_time": "2021-11-16T14:27:41.606Z"
   },
   {
    "duration": 17,
    "start_time": "2021-11-16T14:27:41.611Z"
   },
   {
    "duration": 11,
    "start_time": "2021-11-16T14:27:41.629Z"
   },
   {
    "duration": 254,
    "start_time": "2021-11-16T14:27:41.641Z"
   },
   {
    "duration": 229,
    "start_time": "2021-11-16T14:27:41.896Z"
   },
   {
    "duration": 6,
    "start_time": "2021-11-16T14:27:42.126Z"
   },
   {
    "duration": 19,
    "start_time": "2021-11-16T14:27:42.133Z"
   },
   {
    "duration": 19,
    "start_time": "2021-11-16T14:27:42.153Z"
   },
   {
    "duration": 27,
    "start_time": "2021-11-16T14:27:42.173Z"
   },
   {
    "duration": 29,
    "start_time": "2021-11-16T14:27:42.202Z"
   },
   {
    "duration": 21,
    "start_time": "2021-11-16T14:27:42.232Z"
   },
   {
    "duration": 252,
    "start_time": "2021-11-16T14:27:42.254Z"
   },
   {
    "duration": 8,
    "start_time": "2021-11-16T14:27:42.507Z"
   },
   {
    "duration": 21,
    "start_time": "2021-11-16T14:27:42.516Z"
   },
   {
    "duration": 22,
    "start_time": "2021-11-16T14:27:42.538Z"
   },
   {
    "duration": 27,
    "start_time": "2021-11-16T14:27:42.561Z"
   },
   {
    "duration": 10,
    "start_time": "2021-11-16T14:27:42.590Z"
   },
   {
    "duration": 67,
    "start_time": "2021-11-16T14:27:42.601Z"
   },
   {
    "duration": 291,
    "start_time": "2021-11-16T14:27:42.669Z"
   },
   {
    "duration": 15,
    "start_time": "2021-11-16T14:27:42.961Z"
   },
   {
    "duration": 16,
    "start_time": "2021-11-16T14:27:42.977Z"
   },
   {
    "duration": 14,
    "start_time": "2021-11-16T14:27:42.994Z"
   },
   {
    "duration": 9,
    "start_time": "2021-11-16T14:27:43.010Z"
   },
   {
    "duration": 7,
    "start_time": "2021-11-16T14:27:43.020Z"
   },
   {
    "duration": 34,
    "start_time": "2021-11-16T14:27:43.028Z"
   },
   {
    "duration": 31,
    "start_time": "2021-11-16T14:27:43.064Z"
   },
   {
    "duration": 4,
    "start_time": "2021-11-16T14:27:43.097Z"
   },
   {
    "duration": 13,
    "start_time": "2021-11-16T14:27:43.102Z"
   },
   {
    "duration": 8,
    "start_time": "2021-11-16T14:27:43.117Z"
   },
   {
    "duration": 8,
    "start_time": "2021-11-16T14:27:43.126Z"
   },
   {
    "duration": 56,
    "start_time": "2021-11-16T14:27:43.135Z"
   },
   {
    "duration": 242,
    "start_time": "2021-11-16T14:27:43.193Z"
   },
   {
    "duration": 8,
    "start_time": "2021-11-16T14:27:43.437Z"
   },
   {
    "duration": 15,
    "start_time": "2021-11-16T14:27:43.446Z"
   },
   {
    "duration": 267,
    "start_time": "2021-11-16T14:27:43.462Z"
   },
   {
    "duration": 13,
    "start_time": "2021-11-16T14:27:43.731Z"
   },
   {
    "duration": 27,
    "start_time": "2021-11-16T14:27:43.746Z"
   },
   {
    "duration": 46,
    "start_time": "2021-11-16T14:27:43.775Z"
   },
   {
    "duration": 30,
    "start_time": "2021-11-16T14:27:43.823Z"
   },
   {
    "duration": 32,
    "start_time": "2021-11-16T14:27:43.855Z"
   },
   {
    "duration": 39,
    "start_time": "2021-11-16T14:27:43.889Z"
   },
   {
    "duration": 87,
    "start_time": "2021-11-16T14:27:43.933Z"
   },
   {
    "duration": 5,
    "start_time": "2021-11-16T14:27:44.022Z"
   },
   {
    "duration": 19,
    "start_time": "2021-11-16T14:27:44.029Z"
   },
   {
    "duration": 8,
    "start_time": "2021-11-16T14:27:44.050Z"
   },
   {
    "duration": 40,
    "start_time": "2021-11-16T14:27:44.060Z"
   },
   {
    "duration": 65,
    "start_time": "2021-11-16T14:27:44.101Z"
   },
   {
    "duration": 23,
    "start_time": "2021-11-16T14:27:44.168Z"
   },
   {
    "duration": 8,
    "start_time": "2021-11-16T14:27:44.193Z"
   },
   {
    "duration": 33,
    "start_time": "2021-11-16T14:27:44.202Z"
   },
   {
    "duration": 19,
    "start_time": "2021-11-16T14:27:57.487Z"
   },
   {
    "duration": 19,
    "start_time": "2021-11-16T14:28:41.640Z"
   },
   {
    "duration": 2,
    "start_time": "2021-11-16T14:28:52.560Z"
   },
   {
    "duration": 433,
    "start_time": "2021-11-16T14:28:52.565Z"
   },
   {
    "duration": 2,
    "start_time": "2021-11-16T14:28:53.001Z"
   },
   {
    "duration": 26,
    "start_time": "2021-11-16T14:28:53.005Z"
   },
   {
    "duration": 14,
    "start_time": "2021-11-16T14:28:53.032Z"
   },
   {
    "duration": 20,
    "start_time": "2021-11-16T14:28:53.047Z"
   },
   {
    "duration": 7,
    "start_time": "2021-11-16T14:28:53.068Z"
   },
   {
    "duration": 7,
    "start_time": "2021-11-16T14:28:53.093Z"
   },
   {
    "duration": 30,
    "start_time": "2021-11-16T14:28:53.102Z"
   },
   {
    "duration": 7,
    "start_time": "2021-11-16T14:28:53.134Z"
   },
   {
    "duration": 15,
    "start_time": "2021-11-16T14:28:53.143Z"
   },
   {
    "duration": 33,
    "start_time": "2021-11-16T14:28:53.160Z"
   },
   {
    "duration": 9,
    "start_time": "2021-11-16T14:28:53.195Z"
   },
   {
    "duration": 13,
    "start_time": "2021-11-16T14:28:53.206Z"
   },
   {
    "duration": 8,
    "start_time": "2021-11-16T14:28:53.221Z"
   },
   {
    "duration": 7,
    "start_time": "2021-11-16T14:28:53.231Z"
   },
   {
    "duration": 5,
    "start_time": "2021-11-16T14:28:53.239Z"
   },
   {
    "duration": 6,
    "start_time": "2021-11-16T14:28:53.245Z"
   },
   {
    "duration": 4,
    "start_time": "2021-11-16T14:28:53.253Z"
   },
   {
    "duration": 4,
    "start_time": "2021-11-16T14:28:53.259Z"
   },
   {
    "duration": 5,
    "start_time": "2021-11-16T14:28:53.264Z"
   },
   {
    "duration": 4,
    "start_time": "2021-11-16T14:28:53.291Z"
   },
   {
    "duration": 5,
    "start_time": "2021-11-16T14:28:53.299Z"
   },
   {
    "duration": 27,
    "start_time": "2021-11-16T14:28:53.306Z"
   },
   {
    "duration": 18,
    "start_time": "2021-11-16T14:28:53.335Z"
   },
   {
    "duration": 42,
    "start_time": "2021-11-16T14:28:53.354Z"
   },
   {
    "duration": 5,
    "start_time": "2021-11-16T14:28:53.398Z"
   },
   {
    "duration": 14,
    "start_time": "2021-11-16T14:28:53.405Z"
   },
   {
    "duration": 4,
    "start_time": "2021-11-16T14:28:53.421Z"
   },
   {
    "duration": 272,
    "start_time": "2021-11-16T14:28:53.427Z"
   },
   {
    "duration": 237,
    "start_time": "2021-11-16T14:28:53.700Z"
   },
   {
    "duration": 5,
    "start_time": "2021-11-16T14:28:53.939Z"
   },
   {
    "duration": 7,
    "start_time": "2021-11-16T14:28:53.946Z"
   },
   {
    "duration": 8,
    "start_time": "2021-11-16T14:28:53.954Z"
   },
   {
    "duration": 28,
    "start_time": "2021-11-16T14:28:53.964Z"
   },
   {
    "duration": 7,
    "start_time": "2021-11-16T14:28:53.994Z"
   },
   {
    "duration": 7,
    "start_time": "2021-11-16T14:28:54.003Z"
   },
   {
    "duration": 276,
    "start_time": "2021-11-16T14:28:54.011Z"
   },
   {
    "duration": 9,
    "start_time": "2021-11-16T14:28:54.289Z"
   },
   {
    "duration": 5,
    "start_time": "2021-11-16T14:28:54.300Z"
   },
   {
    "duration": 17,
    "start_time": "2021-11-16T14:28:54.306Z"
   },
   {
    "duration": 10,
    "start_time": "2021-11-16T14:28:54.325Z"
   },
   {
    "duration": 10,
    "start_time": "2021-11-16T14:28:54.337Z"
   },
   {
    "duration": 82,
    "start_time": "2021-11-16T14:28:54.349Z"
   },
   {
    "duration": 268,
    "start_time": "2021-11-16T14:28:54.433Z"
   },
   {
    "duration": 15,
    "start_time": "2021-11-16T14:28:54.703Z"
   },
   {
    "duration": 4,
    "start_time": "2021-11-16T14:28:54.720Z"
   },
   {
    "duration": 16,
    "start_time": "2021-11-16T14:28:54.726Z"
   },
   {
    "duration": 11,
    "start_time": "2021-11-16T14:28:54.743Z"
   },
   {
    "duration": 8,
    "start_time": "2021-11-16T14:28:54.792Z"
   },
   {
    "duration": 43,
    "start_time": "2021-11-16T14:28:54.801Z"
   },
   {
    "duration": 7,
    "start_time": "2021-11-16T14:28:54.846Z"
   },
   {
    "duration": 17,
    "start_time": "2021-11-16T14:28:54.854Z"
   },
   {
    "duration": 21,
    "start_time": "2021-11-16T14:28:54.873Z"
   },
   {
    "duration": 8,
    "start_time": "2021-11-16T14:28:54.895Z"
   },
   {
    "duration": 13,
    "start_time": "2021-11-16T14:28:54.905Z"
   },
   {
    "duration": 35,
    "start_time": "2021-11-16T14:28:54.919Z"
   },
   {
    "duration": 247,
    "start_time": "2021-11-16T14:28:54.956Z"
   },
   {
    "duration": 8,
    "start_time": "2021-11-16T14:28:55.205Z"
   },
   {
    "duration": 15,
    "start_time": "2021-11-16T14:28:55.215Z"
   },
   {
    "duration": 351,
    "start_time": "2021-11-16T14:28:55.232Z"
   },
   {
    "duration": 17,
    "start_time": "2021-11-16T14:28:55.584Z"
   },
   {
    "duration": 9,
    "start_time": "2021-11-16T14:28:55.602Z"
   },
   {
    "duration": 7,
    "start_time": "2021-11-16T14:28:55.612Z"
   },
   {
    "duration": 5,
    "start_time": "2021-11-16T14:28:55.620Z"
   },
   {
    "duration": 12,
    "start_time": "2021-11-16T14:28:55.626Z"
   },
   {
    "duration": 53,
    "start_time": "2021-11-16T14:28:55.640Z"
   },
   {
    "duration": 50,
    "start_time": "2021-11-16T14:28:55.698Z"
   },
   {
    "duration": 3,
    "start_time": "2021-11-16T14:28:55.750Z"
   },
   {
    "duration": 20,
    "start_time": "2021-11-16T14:28:55.755Z"
   },
   {
    "duration": 29,
    "start_time": "2021-11-16T14:28:55.777Z"
   },
   {
    "duration": 17,
    "start_time": "2021-11-16T14:28:55.808Z"
   },
   {
    "duration": 70,
    "start_time": "2021-11-16T14:28:55.827Z"
   },
   {
    "duration": 11,
    "start_time": "2021-11-16T14:28:55.899Z"
   },
   {
    "duration": 27,
    "start_time": "2021-11-16T14:28:55.911Z"
   },
   {
    "duration": 55,
    "start_time": "2021-11-16T14:28:55.939Z"
   },
   {
    "duration": 4458,
    "start_time": "2021-11-16T14:29:30.945Z"
   },
   {
    "duration": 212,
    "start_time": "2021-11-16T14:30:10.359Z"
   },
   {
    "duration": 4514,
    "start_time": "2021-11-16T14:31:13.711Z"
   },
   {
    "duration": 669,
    "start_time": "2021-11-16T14:31:26.280Z"
   },
   {
    "duration": 403,
    "start_time": "2021-11-16T14:31:26.951Z"
   },
   {
    "duration": 2,
    "start_time": "2021-11-16T14:31:27.356Z"
   },
   {
    "duration": 23,
    "start_time": "2021-11-16T14:31:27.360Z"
   },
   {
    "duration": 14,
    "start_time": "2021-11-16T14:31:27.384Z"
   },
   {
    "duration": 17,
    "start_time": "2021-11-16T14:31:27.400Z"
   },
   {
    "duration": 6,
    "start_time": "2021-11-16T14:31:27.418Z"
   },
   {
    "duration": 9,
    "start_time": "2021-11-16T14:31:27.426Z"
   },
   {
    "duration": 71,
    "start_time": "2021-11-16T14:31:27.437Z"
   },
   {
    "duration": 11,
    "start_time": "2021-11-16T14:31:27.511Z"
   },
   {
    "duration": 12,
    "start_time": "2021-11-16T14:31:27.523Z"
   },
   {
    "duration": 8,
    "start_time": "2021-11-16T14:31:27.537Z"
   },
   {
    "duration": 11,
    "start_time": "2021-11-16T14:31:27.547Z"
   },
   {
    "duration": 16,
    "start_time": "2021-11-16T14:31:27.560Z"
   },
   {
    "duration": 17,
    "start_time": "2021-11-16T14:31:27.578Z"
   },
   {
    "duration": 3,
    "start_time": "2021-11-16T14:31:27.596Z"
   },
   {
    "duration": 5,
    "start_time": "2021-11-16T14:31:27.601Z"
   },
   {
    "duration": 13,
    "start_time": "2021-11-16T14:31:27.608Z"
   },
   {
    "duration": 10,
    "start_time": "2021-11-16T14:31:27.623Z"
   },
   {
    "duration": 9,
    "start_time": "2021-11-16T14:31:27.634Z"
   },
   {
    "duration": 10,
    "start_time": "2021-11-16T14:31:27.644Z"
   },
   {
    "duration": 14,
    "start_time": "2021-11-16T14:31:27.655Z"
   },
   {
    "duration": 9,
    "start_time": "2021-11-16T14:31:27.672Z"
   },
   {
    "duration": 31,
    "start_time": "2021-11-16T14:31:27.683Z"
   },
   {
    "duration": 17,
    "start_time": "2021-11-16T14:31:27.716Z"
   },
   {
    "duration": 23,
    "start_time": "2021-11-16T14:31:27.734Z"
   },
   {
    "duration": 4,
    "start_time": "2021-11-16T14:31:27.759Z"
   },
   {
    "duration": 31,
    "start_time": "2021-11-16T14:31:27.765Z"
   },
   {
    "duration": 7,
    "start_time": "2021-11-16T14:31:27.797Z"
   },
   {
    "duration": 256,
    "start_time": "2021-11-16T14:31:27.806Z"
   },
   {
    "duration": 238,
    "start_time": "2021-11-16T14:31:28.064Z"
   },
   {
    "duration": 6,
    "start_time": "2021-11-16T14:31:28.304Z"
   },
   {
    "duration": 8,
    "start_time": "2021-11-16T14:31:28.311Z"
   },
   {
    "duration": 10,
    "start_time": "2021-11-16T14:31:28.320Z"
   },
   {
    "duration": 7,
    "start_time": "2021-11-16T14:31:28.331Z"
   },
   {
    "duration": 10,
    "start_time": "2021-11-16T14:31:28.340Z"
   },
   {
    "duration": 6,
    "start_time": "2021-11-16T14:31:28.352Z"
   },
   {
    "duration": 285,
    "start_time": "2021-11-16T14:31:28.360Z"
   },
   {
    "duration": 8,
    "start_time": "2021-11-16T14:31:28.647Z"
   },
   {
    "duration": 8,
    "start_time": "2021-11-16T14:31:28.657Z"
   },
   {
    "duration": 6,
    "start_time": "2021-11-16T14:31:28.666Z"
   },
   {
    "duration": 23,
    "start_time": "2021-11-16T14:31:28.674Z"
   },
   {
    "duration": 11,
    "start_time": "2021-11-16T14:31:28.699Z"
   },
   {
    "duration": 79,
    "start_time": "2021-11-16T14:31:28.712Z"
   },
   {
    "duration": 302,
    "start_time": "2021-11-16T14:31:28.793Z"
   },
   {
    "duration": 16,
    "start_time": "2021-11-16T14:31:29.097Z"
   },
   {
    "duration": 4,
    "start_time": "2021-11-16T14:31:29.115Z"
   },
   {
    "duration": 17,
    "start_time": "2021-11-16T14:31:29.121Z"
   },
   {
    "duration": 9,
    "start_time": "2021-11-16T14:31:29.140Z"
   },
   {
    "duration": 7,
    "start_time": "2021-11-16T14:31:29.150Z"
   },
   {
    "duration": 55,
    "start_time": "2021-11-16T14:31:29.158Z"
   },
   {
    "duration": 7,
    "start_time": "2021-11-16T14:31:29.214Z"
   },
   {
    "duration": 8,
    "start_time": "2021-11-16T14:31:29.223Z"
   },
   {
    "duration": 15,
    "start_time": "2021-11-16T14:31:29.232Z"
   },
   {
    "duration": 8,
    "start_time": "2021-11-16T14:31:29.248Z"
   },
   {
    "duration": 35,
    "start_time": "2021-11-16T14:31:29.257Z"
   },
   {
    "duration": 24,
    "start_time": "2021-11-16T14:31:29.293Z"
   },
   {
    "duration": 256,
    "start_time": "2021-11-16T14:31:29.319Z"
   },
   {
    "duration": 8,
    "start_time": "2021-11-16T14:31:29.576Z"
   },
   {
    "duration": 15,
    "start_time": "2021-11-16T14:31:29.591Z"
   },
   {
    "duration": 260,
    "start_time": "2021-11-16T14:31:29.607Z"
   },
   {
    "duration": 12,
    "start_time": "2021-11-16T14:31:29.869Z"
   },
   {
    "duration": 16,
    "start_time": "2021-11-16T14:31:29.882Z"
   },
   {
    "duration": 7,
    "start_time": "2021-11-16T14:31:29.900Z"
   },
   {
    "duration": 4,
    "start_time": "2021-11-16T14:31:29.909Z"
   },
   {
    "duration": 15,
    "start_time": "2021-11-16T14:31:29.915Z"
   },
   {
    "duration": 17,
    "start_time": "2021-11-16T14:31:29.931Z"
   },
   {
    "duration": 78,
    "start_time": "2021-11-16T14:31:29.953Z"
   },
   {
    "duration": 4,
    "start_time": "2021-11-16T14:31:30.033Z"
   },
   {
    "duration": 14,
    "start_time": "2021-11-16T14:31:30.038Z"
   },
   {
    "duration": 12,
    "start_time": "2021-11-16T14:31:30.054Z"
   },
   {
    "duration": 33,
    "start_time": "2021-11-16T14:31:30.067Z"
   },
   {
    "duration": 66,
    "start_time": "2021-11-16T14:31:30.101Z"
   },
   {
    "duration": 12,
    "start_time": "2021-11-16T14:31:30.168Z"
   },
   {
    "duration": 16,
    "start_time": "2021-11-16T14:31:30.181Z"
   },
   {
    "duration": 26,
    "start_time": "2021-11-16T14:31:30.198Z"
   },
   {
    "duration": 4662,
    "start_time": "2021-11-16T14:31:30.225Z"
   },
   {
    "duration": -1112,
    "start_time": "2021-11-16T14:31:36.001Z"
   },
   {
    "duration": 4354,
    "start_time": "2021-11-16T14:32:33.760Z"
   },
   {
    "duration": 658,
    "start_time": "2021-11-16T14:33:58.077Z"
   },
   {
    "duration": 390,
    "start_time": "2021-11-16T14:33:58.736Z"
   },
   {
    "duration": 2,
    "start_time": "2021-11-16T14:33:59.128Z"
   },
   {
    "duration": 25,
    "start_time": "2021-11-16T14:33:59.132Z"
   },
   {
    "duration": 13,
    "start_time": "2021-11-16T14:33:59.158Z"
   },
   {
    "duration": 15,
    "start_time": "2021-11-16T14:33:59.172Z"
   },
   {
    "duration": 5,
    "start_time": "2021-11-16T14:33:59.188Z"
   },
   {
    "duration": 8,
    "start_time": "2021-11-16T14:33:59.195Z"
   },
   {
    "duration": 51,
    "start_time": "2021-11-16T14:33:59.205Z"
   },
   {
    "duration": 10,
    "start_time": "2021-11-16T14:33:59.258Z"
   },
   {
    "duration": 22,
    "start_time": "2021-11-16T14:33:59.270Z"
   },
   {
    "duration": 11,
    "start_time": "2021-11-16T14:33:59.294Z"
   },
   {
    "duration": 9,
    "start_time": "2021-11-16T14:33:59.306Z"
   },
   {
    "duration": 10,
    "start_time": "2021-11-16T14:33:59.316Z"
   },
   {
    "duration": 8,
    "start_time": "2021-11-16T14:33:59.328Z"
   },
   {
    "duration": 3,
    "start_time": "2021-11-16T14:33:59.338Z"
   },
   {
    "duration": 6,
    "start_time": "2021-11-16T14:33:59.342Z"
   },
   {
    "duration": 5,
    "start_time": "2021-11-16T14:33:59.349Z"
   },
   {
    "duration": 7,
    "start_time": "2021-11-16T14:33:59.355Z"
   },
   {
    "duration": 27,
    "start_time": "2021-11-16T14:33:59.364Z"
   },
   {
    "duration": 6,
    "start_time": "2021-11-16T14:33:59.393Z"
   },
   {
    "duration": 12,
    "start_time": "2021-11-16T14:33:59.401Z"
   },
   {
    "duration": 7,
    "start_time": "2021-11-16T14:33:59.415Z"
   },
   {
    "duration": 29,
    "start_time": "2021-11-16T14:33:59.424Z"
   },
   {
    "duration": 16,
    "start_time": "2021-11-16T14:33:59.454Z"
   },
   {
    "duration": 31,
    "start_time": "2021-11-16T14:33:59.472Z"
   },
   {
    "duration": 5,
    "start_time": "2021-11-16T14:33:59.507Z"
   },
   {
    "duration": 11,
    "start_time": "2021-11-16T14:33:59.514Z"
   },
   {
    "duration": 9,
    "start_time": "2021-11-16T14:33:59.526Z"
   },
   {
    "duration": 260,
    "start_time": "2021-11-16T14:33:59.536Z"
   },
   {
    "duration": 227,
    "start_time": "2021-11-16T14:33:59.797Z"
   },
   {
    "duration": 7,
    "start_time": "2021-11-16T14:34:00.026Z"
   },
   {
    "duration": 11,
    "start_time": "2021-11-16T14:34:00.034Z"
   },
   {
    "duration": 10,
    "start_time": "2021-11-16T14:34:00.047Z"
   },
   {
    "duration": 16,
    "start_time": "2021-11-16T14:34:00.059Z"
   },
   {
    "duration": 17,
    "start_time": "2021-11-16T14:34:00.076Z"
   },
   {
    "duration": 11,
    "start_time": "2021-11-16T14:34:00.094Z"
   },
   {
    "duration": 258,
    "start_time": "2021-11-16T14:34:00.107Z"
   },
   {
    "duration": 9,
    "start_time": "2021-11-16T14:34:00.367Z"
   },
   {
    "duration": 22,
    "start_time": "2021-11-16T14:34:00.377Z"
   },
   {
    "duration": 22,
    "start_time": "2021-11-16T14:34:00.400Z"
   },
   {
    "duration": 38,
    "start_time": "2021-11-16T14:34:00.423Z"
   },
   {
    "duration": 26,
    "start_time": "2021-11-16T14:34:00.463Z"
   },
   {
    "duration": 90,
    "start_time": "2021-11-16T14:34:00.490Z"
   },
   {
    "duration": 285,
    "start_time": "2021-11-16T14:34:00.582Z"
   },
   {
    "duration": 24,
    "start_time": "2021-11-16T14:34:00.868Z"
   },
   {
    "duration": 4,
    "start_time": "2021-11-16T14:34:00.894Z"
   },
   {
    "duration": 24,
    "start_time": "2021-11-16T14:34:00.900Z"
   },
   {
    "duration": 11,
    "start_time": "2021-11-16T14:34:00.926Z"
   },
   {
    "duration": 15,
    "start_time": "2021-11-16T14:34:00.939Z"
   },
   {
    "duration": 46,
    "start_time": "2021-11-16T14:34:00.956Z"
   },
   {
    "duration": 10,
    "start_time": "2021-11-16T14:34:01.004Z"
   },
   {
    "duration": 32,
    "start_time": "2021-11-16T14:34:01.016Z"
   },
   {
    "duration": 46,
    "start_time": "2021-11-16T14:34:01.050Z"
   },
   {
    "duration": 24,
    "start_time": "2021-11-16T14:34:01.098Z"
   },
   {
    "duration": 28,
    "start_time": "2021-11-16T14:34:01.123Z"
   },
   {
    "duration": 35,
    "start_time": "2021-11-16T14:34:01.153Z"
   },
   {
    "duration": 245,
    "start_time": "2021-11-16T14:34:01.190Z"
   },
   {
    "duration": 8,
    "start_time": "2021-11-16T14:34:01.437Z"
   },
   {
    "duration": 22,
    "start_time": "2021-11-16T14:34:01.446Z"
   },
   {
    "duration": 269,
    "start_time": "2021-11-16T14:34:01.470Z"
   },
   {
    "duration": 12,
    "start_time": "2021-11-16T14:34:01.741Z"
   },
   {
    "duration": 16,
    "start_time": "2021-11-16T14:34:01.755Z"
   },
   {
    "duration": 23,
    "start_time": "2021-11-16T14:34:01.773Z"
   },
   {
    "duration": 5,
    "start_time": "2021-11-16T14:34:01.797Z"
   },
   {
    "duration": 24,
    "start_time": "2021-11-16T14:34:01.803Z"
   },
   {
    "duration": 24,
    "start_time": "2021-11-16T14:34:01.829Z"
   },
   {
    "duration": 4676,
    "start_time": "2021-11-16T14:34:01.855Z"
   },
   {
    "duration": -1144,
    "start_time": "2021-11-16T14:34:07.677Z"
   },
   {
    "duration": -1150,
    "start_time": "2021-11-16T14:34:07.684Z"
   },
   {
    "duration": -1154,
    "start_time": "2021-11-16T14:34:07.689Z"
   },
   {
    "duration": -1157,
    "start_time": "2021-11-16T14:34:07.693Z"
   },
   {
    "duration": -1161,
    "start_time": "2021-11-16T14:34:07.698Z"
   },
   {
    "duration": -1167,
    "start_time": "2021-11-16T14:34:07.705Z"
   },
   {
    "duration": -1170,
    "start_time": "2021-11-16T14:34:07.709Z"
   },
   {
    "duration": -1174,
    "start_time": "2021-11-16T14:34:07.714Z"
   },
   {
    "duration": -1178,
    "start_time": "2021-11-16T14:34:07.719Z"
   },
   {
    "duration": -1203,
    "start_time": "2021-11-16T14:34:07.745Z"
   },
   {
    "duration": 4593,
    "start_time": "2021-11-16T14:36:26.831Z"
   },
   {
    "duration": 618,
    "start_time": "2021-11-16T14:36:59.230Z"
   },
   {
    "duration": 402,
    "start_time": "2021-11-16T14:36:59.849Z"
   },
   {
    "duration": 2,
    "start_time": "2021-11-16T14:37:00.253Z"
   },
   {
    "duration": 30,
    "start_time": "2021-11-16T14:37:00.257Z"
   },
   {
    "duration": 13,
    "start_time": "2021-11-16T14:37:00.289Z"
   },
   {
    "duration": 23,
    "start_time": "2021-11-16T14:37:00.304Z"
   },
   {
    "duration": 7,
    "start_time": "2021-11-16T14:37:00.328Z"
   },
   {
    "duration": 10,
    "start_time": "2021-11-16T14:37:00.337Z"
   },
   {
    "duration": 61,
    "start_time": "2021-11-16T14:37:00.349Z"
   },
   {
    "duration": 10,
    "start_time": "2021-11-16T14:37:00.412Z"
   },
   {
    "duration": 11,
    "start_time": "2021-11-16T14:37:00.424Z"
   },
   {
    "duration": 12,
    "start_time": "2021-11-16T14:37:00.436Z"
   },
   {
    "duration": 6,
    "start_time": "2021-11-16T14:37:00.450Z"
   },
   {
    "duration": 23,
    "start_time": "2021-11-16T14:37:00.458Z"
   },
   {
    "duration": 7,
    "start_time": "2021-11-16T14:37:00.491Z"
   },
   {
    "duration": 16,
    "start_time": "2021-11-16T14:37:00.499Z"
   },
   {
    "duration": 10,
    "start_time": "2021-11-16T14:37:00.517Z"
   },
   {
    "duration": 17,
    "start_time": "2021-11-16T14:37:00.528Z"
   },
   {
    "duration": 11,
    "start_time": "2021-11-16T14:37:00.547Z"
   },
   {
    "duration": 11,
    "start_time": "2021-11-16T14:37:00.560Z"
   },
   {
    "duration": 11,
    "start_time": "2021-11-16T14:37:00.572Z"
   },
   {
    "duration": 19,
    "start_time": "2021-11-16T14:37:00.584Z"
   },
   {
    "duration": 22,
    "start_time": "2021-11-16T14:37:00.607Z"
   },
   {
    "duration": 33,
    "start_time": "2021-11-16T14:37:00.631Z"
   },
   {
    "duration": 17,
    "start_time": "2021-11-16T14:37:00.666Z"
   },
   {
    "duration": 23,
    "start_time": "2021-11-16T14:37:00.685Z"
   },
   {
    "duration": 5,
    "start_time": "2021-11-16T14:37:00.710Z"
   },
   {
    "duration": 13,
    "start_time": "2021-11-16T14:37:00.716Z"
   },
   {
    "duration": 20,
    "start_time": "2021-11-16T14:37:00.731Z"
   },
   {
    "duration": 244,
    "start_time": "2021-11-16T14:37:00.753Z"
   },
   {
    "duration": 242,
    "start_time": "2021-11-16T14:37:00.998Z"
   },
   {
    "duration": 7,
    "start_time": "2021-11-16T14:37:01.241Z"
   },
   {
    "duration": 30,
    "start_time": "2021-11-16T14:37:01.249Z"
   },
   {
    "duration": 20,
    "start_time": "2021-11-16T14:37:01.280Z"
   },
   {
    "duration": 28,
    "start_time": "2021-11-16T14:37:01.301Z"
   },
   {
    "duration": 26,
    "start_time": "2021-11-16T14:37:01.331Z"
   },
   {
    "duration": 27,
    "start_time": "2021-11-16T14:37:01.359Z"
   },
   {
    "duration": 274,
    "start_time": "2021-11-16T14:37:01.388Z"
   },
   {
    "duration": 9,
    "start_time": "2021-11-16T14:37:01.664Z"
   },
   {
    "duration": 46,
    "start_time": "2021-11-16T14:37:01.675Z"
   },
   {
    "duration": 33,
    "start_time": "2021-11-16T14:37:01.723Z"
   },
   {
    "duration": 37,
    "start_time": "2021-11-16T14:37:01.758Z"
   },
   {
    "duration": 29,
    "start_time": "2021-11-16T14:37:01.797Z"
   },
   {
    "duration": 94,
    "start_time": "2021-11-16T14:37:01.828Z"
   },
   {
    "duration": 297,
    "start_time": "2021-11-16T14:37:01.923Z"
   },
   {
    "duration": 14,
    "start_time": "2021-11-16T14:37:02.222Z"
   },
   {
    "duration": 5,
    "start_time": "2021-11-16T14:37:02.238Z"
   },
   {
    "duration": 38,
    "start_time": "2021-11-16T14:37:02.244Z"
   },
   {
    "duration": 20,
    "start_time": "2021-11-16T14:37:02.284Z"
   },
   {
    "duration": 7,
    "start_time": "2021-11-16T14:37:02.306Z"
   },
   {
    "duration": 32,
    "start_time": "2021-11-16T14:37:02.315Z"
   },
   {
    "duration": 7,
    "start_time": "2021-11-16T14:37:02.349Z"
   },
   {
    "duration": 14,
    "start_time": "2021-11-16T14:37:02.357Z"
   },
   {
    "duration": 25,
    "start_time": "2021-11-16T14:37:02.373Z"
   },
   {
    "duration": 8,
    "start_time": "2021-11-16T14:37:02.400Z"
   },
   {
    "duration": 30,
    "start_time": "2021-11-16T14:37:02.410Z"
   },
   {
    "duration": 32,
    "start_time": "2021-11-16T14:37:02.442Z"
   },
   {
    "duration": 243,
    "start_time": "2021-11-16T14:37:02.476Z"
   },
   {
    "duration": 10,
    "start_time": "2021-11-16T14:37:02.721Z"
   },
   {
    "duration": 32,
    "start_time": "2021-11-16T14:37:02.732Z"
   },
   {
    "duration": 254,
    "start_time": "2021-11-16T14:37:02.766Z"
   },
   {
    "duration": 12,
    "start_time": "2021-11-16T14:37:03.021Z"
   },
   {
    "duration": 9,
    "start_time": "2021-11-16T14:37:03.034Z"
   },
   {
    "duration": 7,
    "start_time": "2021-11-16T14:37:03.044Z"
   },
   {
    "duration": 8,
    "start_time": "2021-11-16T14:37:03.052Z"
   },
   {
    "duration": 37,
    "start_time": "2021-11-16T14:37:03.062Z"
   },
   {
    "duration": 30,
    "start_time": "2021-11-16T14:37:03.101Z"
   },
   {
    "duration": 4403,
    "start_time": "2021-11-16T14:37:03.136Z"
   },
   {
    "duration": -1100,
    "start_time": "2021-11-16T14:37:08.642Z"
   },
   {
    "duration": -1104,
    "start_time": "2021-11-16T14:37:08.647Z"
   },
   {
    "duration": -1108,
    "start_time": "2021-11-16T14:37:08.652Z"
   },
   {
    "duration": -1113,
    "start_time": "2021-11-16T14:37:08.659Z"
   },
   {
    "duration": -1116,
    "start_time": "2021-11-16T14:37:08.663Z"
   },
   {
    "duration": -1119,
    "start_time": "2021-11-16T14:37:08.668Z"
   },
   {
    "duration": -1124,
    "start_time": "2021-11-16T14:37:08.674Z"
   },
   {
    "duration": -1126,
    "start_time": "2021-11-16T14:37:08.678Z"
   },
   {
    "duration": -1131,
    "start_time": "2021-11-16T14:37:08.684Z"
   },
   {
    "duration": -1134,
    "start_time": "2021-11-16T14:37:08.689Z"
   },
   {
    "duration": 4,
    "start_time": "2021-11-16T14:37:30.254Z"
   },
   {
    "duration": 7,
    "start_time": "2021-11-16T14:37:31.814Z"
   },
   {
    "duration": 5,
    "start_time": "2021-11-16T14:37:32.450Z"
   },
   {
    "duration": 14,
    "start_time": "2021-11-16T14:37:32.899Z"
   },
   {
    "duration": 184,
    "start_time": "2021-11-16T14:37:47.682Z"
   },
   {
    "duration": 5020,
    "start_time": "2021-11-16T14:38:14.854Z"
   },
   {
    "duration": 2,
    "start_time": "2021-11-16T14:39:17.273Z"
   },
   {
    "duration": 4483,
    "start_time": "2021-11-16T14:39:19.353Z"
   },
   {
    "duration": 48,
    "start_time": "2021-11-16T14:40:45.695Z"
   },
   {
    "duration": 60,
    "start_time": "2021-11-16T14:40:50.211Z"
   },
   {
    "duration": 11,
    "start_time": "2021-11-16T14:40:53.594Z"
   },
   {
    "duration": 9,
    "start_time": "2021-11-16T14:40:54.834Z"
   },
   {
    "duration": 26,
    "start_time": "2021-11-16T14:40:58.742Z"
   },
   {
    "duration": 4461,
    "start_time": "2021-11-16T14:41:00.329Z"
   },
   {
    "duration": -1136,
    "start_time": "2021-11-16T14:41:05.928Z"
   },
   {
    "duration": 4667,
    "start_time": "2021-11-16T14:41:20.682Z"
   },
   {
    "duration": 4461,
    "start_time": "2021-11-16T14:41:35.441Z"
   },
   {
    "duration": 25,
    "start_time": "2021-11-16T14:41:54.172Z"
   },
   {
    "duration": 26,
    "start_time": "2021-11-16T14:42:08.806Z"
   },
   {
    "duration": 4355,
    "start_time": "2021-11-16T14:42:12.558Z"
   },
   {
    "duration": 4243,
    "start_time": "2021-11-16T14:42:40.313Z"
   },
   {
    "duration": 194,
    "start_time": "2021-11-16T14:43:39.708Z"
   },
   {
    "duration": 197,
    "start_time": "2021-11-16T14:44:02.560Z"
   },
   {
    "duration": 7,
    "start_time": "2021-11-16T14:44:12.326Z"
   },
   {
    "duration": 11,
    "start_time": "2021-11-16T14:44:24.070Z"
   },
   {
    "duration": 8,
    "start_time": "2021-11-16T14:44:26.217Z"
   },
   {
    "duration": 6,
    "start_time": "2021-11-16T14:44:31.003Z"
   },
   {
    "duration": 14,
    "start_time": "2021-11-16T14:44:42.044Z"
   },
   {
    "duration": 11,
    "start_time": "2021-11-16T14:46:34.882Z"
   },
   {
    "duration": 58,
    "start_time": "2021-11-16T14:54:17.193Z"
   },
   {
    "duration": 594,
    "start_time": "2021-11-16T14:55:12.705Z"
   },
   {
    "duration": 16,
    "start_time": "2021-11-16T14:55:26.231Z"
   },
   {
    "duration": 9,
    "start_time": "2021-11-16T14:57:03.912Z"
   },
   {
    "duration": 10,
    "start_time": "2021-11-16T14:58:15.085Z"
   },
   {
    "duration": 15,
    "start_time": "2021-11-16T14:58:20.723Z"
   },
   {
    "duration": 15,
    "start_time": "2021-11-16T14:59:25.372Z"
   },
   {
    "duration": 172,
    "start_time": "2021-11-16T18:57:35.686Z"
   },
   {
    "duration": 172,
    "start_time": "2021-11-16T18:58:06.315Z"
   },
   {
    "duration": 35,
    "start_time": "2021-11-16T18:58:11.026Z"
   },
   {
    "duration": 34,
    "start_time": "2021-11-16T18:58:39.993Z"
   },
   {
    "duration": 44,
    "start_time": "2021-11-16T18:59:42.409Z"
   },
   {
    "duration": 27,
    "start_time": "2021-11-16T18:59:54.142Z"
   },
   {
    "duration": 10,
    "start_time": "2021-11-16T19:00:00.060Z"
   },
   {
    "duration": 192,
    "start_time": "2021-11-16T19:02:07.888Z"
   },
   {
    "duration": 637,
    "start_time": "2021-11-16T19:03:21.712Z"
   },
   {
    "duration": 837,
    "start_time": "2021-11-16T19:03:22.351Z"
   },
   {
    "duration": 3,
    "start_time": "2021-11-16T19:03:23.190Z"
   },
   {
    "duration": 25,
    "start_time": "2021-11-16T19:03:23.194Z"
   },
   {
    "duration": 14,
    "start_time": "2021-11-16T19:03:23.220Z"
   },
   {
    "duration": 16,
    "start_time": "2021-11-16T19:03:23.235Z"
   },
   {
    "duration": 5,
    "start_time": "2021-11-16T19:03:23.252Z"
   },
   {
    "duration": 36,
    "start_time": "2021-11-16T19:03:23.260Z"
   },
   {
    "duration": 47,
    "start_time": "2021-11-16T19:03:23.299Z"
   },
   {
    "duration": 10,
    "start_time": "2021-11-16T19:03:23.348Z"
   },
   {
    "duration": 8,
    "start_time": "2021-11-16T19:03:23.360Z"
   },
   {
    "duration": 25,
    "start_time": "2021-11-16T19:03:23.370Z"
   },
   {
    "duration": 8,
    "start_time": "2021-11-16T19:03:23.396Z"
   },
   {
    "duration": 11,
    "start_time": "2021-11-16T19:03:23.406Z"
   },
   {
    "duration": 10,
    "start_time": "2021-11-16T19:03:23.418Z"
   },
   {
    "duration": 3,
    "start_time": "2021-11-16T19:03:23.429Z"
   },
   {
    "duration": 4,
    "start_time": "2021-11-16T19:03:23.434Z"
   },
   {
    "duration": 6,
    "start_time": "2021-11-16T19:03:23.440Z"
   },
   {
    "duration": 5,
    "start_time": "2021-11-16T19:03:23.447Z"
   },
   {
    "duration": 5,
    "start_time": "2021-11-16T19:03:23.453Z"
   },
   {
    "duration": 6,
    "start_time": "2021-11-16T19:03:23.459Z"
   },
   {
    "duration": 29,
    "start_time": "2021-11-16T19:03:23.466Z"
   },
   {
    "duration": 5,
    "start_time": "2021-11-16T19:03:23.499Z"
   },
   {
    "duration": 27,
    "start_time": "2021-11-16T19:03:23.506Z"
   },
   {
    "duration": 16,
    "start_time": "2021-11-16T19:03:23.535Z"
   },
   {
    "duration": 47,
    "start_time": "2021-11-16T19:03:23.552Z"
   },
   {
    "duration": 5,
    "start_time": "2021-11-16T19:03:23.601Z"
   },
   {
    "duration": 11,
    "start_time": "2021-11-16T19:03:23.607Z"
   },
   {
    "duration": 18,
    "start_time": "2021-11-16T19:03:23.619Z"
   },
   {
    "duration": 266,
    "start_time": "2021-11-16T19:03:23.638Z"
   },
   {
    "duration": 243,
    "start_time": "2021-11-16T19:03:23.906Z"
   },
   {
    "duration": 6,
    "start_time": "2021-11-16T19:03:24.150Z"
   },
   {
    "duration": 7,
    "start_time": "2021-11-16T19:03:24.157Z"
   },
   {
    "duration": 8,
    "start_time": "2021-11-16T19:03:24.165Z"
   },
   {
    "duration": 21,
    "start_time": "2021-11-16T19:03:24.174Z"
   },
   {
    "duration": 8,
    "start_time": "2021-11-16T19:03:24.197Z"
   },
   {
    "duration": 8,
    "start_time": "2021-11-16T19:03:24.207Z"
   },
   {
    "duration": 269,
    "start_time": "2021-11-16T19:03:24.217Z"
   },
   {
    "duration": 9,
    "start_time": "2021-11-16T19:03:24.488Z"
   },
   {
    "duration": 10,
    "start_time": "2021-11-16T19:03:24.499Z"
   },
   {
    "duration": 8,
    "start_time": "2021-11-16T19:03:24.511Z"
   },
   {
    "duration": 16,
    "start_time": "2021-11-16T19:03:24.521Z"
   },
   {
    "duration": 12,
    "start_time": "2021-11-16T19:03:24.539Z"
   },
   {
    "duration": 78,
    "start_time": "2021-11-16T19:03:24.552Z"
   },
   {
    "duration": 311,
    "start_time": "2021-11-16T19:03:24.632Z"
   },
   {
    "duration": 14,
    "start_time": "2021-11-16T19:03:24.945Z"
   },
   {
    "duration": 5,
    "start_time": "2021-11-16T19:03:24.961Z"
   },
   {
    "duration": 35,
    "start_time": "2021-11-16T19:03:24.967Z"
   },
   {
    "duration": 9,
    "start_time": "2021-11-16T19:03:25.004Z"
   },
   {
    "duration": 7,
    "start_time": "2021-11-16T19:03:25.015Z"
   },
   {
    "duration": 32,
    "start_time": "2021-11-16T19:03:25.023Z"
   },
   {
    "duration": 34,
    "start_time": "2021-11-16T19:03:25.057Z"
   },
   {
    "duration": 4,
    "start_time": "2021-11-16T19:03:25.093Z"
   },
   {
    "duration": 16,
    "start_time": "2021-11-16T19:03:25.099Z"
   },
   {
    "duration": 8,
    "start_time": "2021-11-16T19:03:25.117Z"
   },
   {
    "duration": 8,
    "start_time": "2021-11-16T19:03:25.126Z"
   },
   {
    "duration": 28,
    "start_time": "2021-11-16T19:03:25.136Z"
   },
   {
    "duration": 275,
    "start_time": "2021-11-16T19:03:25.165Z"
   },
   {
    "duration": 8,
    "start_time": "2021-11-16T19:03:25.442Z"
   },
   {
    "duration": 15,
    "start_time": "2021-11-16T19:03:25.452Z"
   },
   {
    "duration": 276,
    "start_time": "2021-11-16T19:03:25.469Z"
   },
   {
    "duration": 13,
    "start_time": "2021-11-16T19:03:25.746Z"
   },
   {
    "duration": 8,
    "start_time": "2021-11-16T19:03:25.761Z"
   },
   {
    "duration": 25,
    "start_time": "2021-11-16T19:03:25.771Z"
   },
   {
    "duration": 4,
    "start_time": "2021-11-16T19:03:25.798Z"
   },
   {
    "duration": 17,
    "start_time": "2021-11-16T19:03:25.804Z"
   },
   {
    "duration": 19,
    "start_time": "2021-11-16T19:03:25.823Z"
   },
   {
    "duration": 74,
    "start_time": "2021-11-16T19:03:25.847Z"
   },
   {
    "duration": 4,
    "start_time": "2021-11-16T19:03:25.922Z"
   },
   {
    "duration": 7,
    "start_time": "2021-11-16T19:03:25.928Z"
   },
   {
    "duration": 5,
    "start_time": "2021-11-16T19:03:25.936Z"
   },
   {
    "duration": 18,
    "start_time": "2021-11-16T19:03:25.943Z"
   },
   {
    "duration": 75,
    "start_time": "2021-11-16T19:03:25.962Z"
   },
   {
    "duration": 11,
    "start_time": "2021-11-16T19:03:26.038Z"
   },
   {
    "duration": 8,
    "start_time": "2021-11-16T19:03:26.050Z"
   },
   {
    "duration": 8,
    "start_time": "2021-11-16T19:03:26.060Z"
   },
   {
    "duration": 35,
    "start_time": "2021-11-16T19:03:26.069Z"
   },
   {
    "duration": 29,
    "start_time": "2021-11-16T19:03:26.105Z"
   },
   {
    "duration": 24,
    "start_time": "2021-11-16T19:03:26.136Z"
   },
   {
    "duration": 20,
    "start_time": "2021-11-16T19:04:14.143Z"
   },
   {
    "duration": 21,
    "start_time": "2021-11-16T19:04:37.025Z"
   },
   {
    "duration": 12,
    "start_time": "2021-11-16T19:04:49.754Z"
   },
   {
    "duration": 14,
    "start_time": "2021-11-16T19:04:57.057Z"
   },
   {
    "duration": 24,
    "start_time": "2021-11-16T19:05:11.654Z"
   },
   {
    "duration": 13,
    "start_time": "2021-11-16T19:05:14.106Z"
   },
   {
    "duration": 14,
    "start_time": "2021-11-16T19:05:32.381Z"
   },
   {
    "duration": 15,
    "start_time": "2021-11-16T19:05:36.692Z"
   },
   {
    "duration": 630,
    "start_time": "2021-11-16T19:05:44.792Z"
   },
   {
    "duration": 391,
    "start_time": "2021-11-16T19:05:45.424Z"
   },
   {
    "duration": 2,
    "start_time": "2021-11-16T19:05:45.818Z"
   },
   {
    "duration": 24,
    "start_time": "2021-11-16T19:05:45.822Z"
   },
   {
    "duration": 14,
    "start_time": "2021-11-16T19:05:45.848Z"
   },
   {
    "duration": 19,
    "start_time": "2021-11-16T19:05:45.864Z"
   },
   {
    "duration": 6,
    "start_time": "2021-11-16T19:05:45.885Z"
   },
   {
    "duration": 7,
    "start_time": "2021-11-16T19:05:45.893Z"
   },
   {
    "duration": 47,
    "start_time": "2021-11-16T19:05:45.902Z"
   },
   {
    "duration": 10,
    "start_time": "2021-11-16T19:05:45.952Z"
   },
   {
    "duration": 28,
    "start_time": "2021-11-16T19:05:45.964Z"
   },
   {
    "duration": 7,
    "start_time": "2021-11-16T19:05:45.993Z"
   },
   {
    "duration": 10,
    "start_time": "2021-11-16T19:05:46.002Z"
   },
   {
    "duration": 11,
    "start_time": "2021-11-16T19:05:46.014Z"
   },
   {
    "duration": 9,
    "start_time": "2021-11-16T19:05:46.026Z"
   },
   {
    "duration": 4,
    "start_time": "2021-11-16T19:05:46.037Z"
   },
   {
    "duration": 4,
    "start_time": "2021-11-16T19:05:46.043Z"
   },
   {
    "duration": 11,
    "start_time": "2021-11-16T19:05:46.049Z"
   },
   {
    "duration": 30,
    "start_time": "2021-11-16T19:05:46.061Z"
   },
   {
    "duration": 10,
    "start_time": "2021-11-16T19:05:46.093Z"
   },
   {
    "duration": 6,
    "start_time": "2021-11-16T19:05:46.104Z"
   },
   {
    "duration": 9,
    "start_time": "2021-11-16T19:05:46.111Z"
   },
   {
    "duration": 5,
    "start_time": "2021-11-16T19:05:46.124Z"
   },
   {
    "duration": 27,
    "start_time": "2021-11-16T19:05:46.131Z"
   },
   {
    "duration": 33,
    "start_time": "2021-11-16T19:05:46.160Z"
   },
   {
    "duration": 25,
    "start_time": "2021-11-16T19:05:46.194Z"
   },
   {
    "duration": 5,
    "start_time": "2021-11-16T19:05:46.221Z"
   },
   {
    "duration": 16,
    "start_time": "2021-11-16T19:05:46.228Z"
   },
   {
    "duration": 6,
    "start_time": "2021-11-16T19:05:46.246Z"
   },
   {
    "duration": 270,
    "start_time": "2021-11-16T19:05:46.254Z"
   },
   {
    "duration": 243,
    "start_time": "2021-11-16T19:05:46.526Z"
   },
   {
    "duration": 6,
    "start_time": "2021-11-16T19:05:46.770Z"
   },
   {
    "duration": 15,
    "start_time": "2021-11-16T19:05:46.777Z"
   },
   {
    "duration": 8,
    "start_time": "2021-11-16T19:05:46.793Z"
   },
   {
    "duration": 8,
    "start_time": "2021-11-16T19:05:46.803Z"
   },
   {
    "duration": 7,
    "start_time": "2021-11-16T19:05:46.812Z"
   },
   {
    "duration": 10,
    "start_time": "2021-11-16T19:05:46.820Z"
   },
   {
    "duration": 276,
    "start_time": "2021-11-16T19:05:46.831Z"
   },
   {
    "duration": 8,
    "start_time": "2021-11-16T19:05:47.108Z"
   },
   {
    "duration": 11,
    "start_time": "2021-11-16T19:05:47.118Z"
   },
   {
    "duration": 5,
    "start_time": "2021-11-16T19:05:47.130Z"
   },
   {
    "duration": 13,
    "start_time": "2021-11-16T19:05:47.137Z"
   },
   {
    "duration": 7,
    "start_time": "2021-11-16T19:05:47.151Z"
   },
   {
    "duration": 77,
    "start_time": "2021-11-16T19:05:47.160Z"
   },
   {
    "duration": 297,
    "start_time": "2021-11-16T19:05:47.239Z"
   },
   {
    "duration": 15,
    "start_time": "2021-11-16T19:05:47.537Z"
   },
   {
    "duration": 4,
    "start_time": "2021-11-16T19:05:47.553Z"
   },
   {
    "duration": 33,
    "start_time": "2021-11-16T19:05:47.559Z"
   },
   {
    "duration": 10,
    "start_time": "2021-11-16T19:05:47.593Z"
   },
   {
    "duration": 6,
    "start_time": "2021-11-16T19:05:47.605Z"
   },
   {
    "duration": 30,
    "start_time": "2021-11-16T19:05:47.613Z"
   },
   {
    "duration": 7,
    "start_time": "2021-11-16T19:05:47.644Z"
   },
   {
    "duration": 5,
    "start_time": "2021-11-16T19:05:47.652Z"
   },
   {
    "duration": 44,
    "start_time": "2021-11-16T19:05:47.659Z"
   },
   {
    "duration": 13,
    "start_time": "2021-11-16T19:05:47.704Z"
   },
   {
    "duration": 7,
    "start_time": "2021-11-16T19:05:47.719Z"
   },
   {
    "duration": 28,
    "start_time": "2021-11-16T19:05:47.727Z"
   },
   {
    "duration": 252,
    "start_time": "2021-11-16T19:05:47.756Z"
   },
   {
    "duration": 8,
    "start_time": "2021-11-16T19:05:48.010Z"
   },
   {
    "duration": 15,
    "start_time": "2021-11-16T19:05:48.019Z"
   },
   {
    "duration": 276,
    "start_time": "2021-11-16T19:05:48.036Z"
   },
   {
    "duration": 12,
    "start_time": "2021-11-16T19:05:48.314Z"
   },
   {
    "duration": 8,
    "start_time": "2021-11-16T19:05:48.327Z"
   },
   {
    "duration": 6,
    "start_time": "2021-11-16T19:05:48.336Z"
   },
   {
    "duration": 3,
    "start_time": "2021-11-16T19:05:48.344Z"
   },
   {
    "duration": 43,
    "start_time": "2021-11-16T19:05:48.349Z"
   },
   {
    "duration": 18,
    "start_time": "2021-11-16T19:05:48.394Z"
   },
   {
    "duration": 46,
    "start_time": "2021-11-16T19:05:48.416Z"
   },
   {
    "duration": 3,
    "start_time": "2021-11-16T19:05:48.464Z"
   },
   {
    "duration": 24,
    "start_time": "2021-11-16T19:05:48.468Z"
   },
   {
    "duration": 4,
    "start_time": "2021-11-16T19:05:48.493Z"
   },
   {
    "duration": 19,
    "start_time": "2021-11-16T19:05:48.498Z"
   },
   {
    "duration": 58,
    "start_time": "2021-11-16T19:05:48.518Z"
   },
   {
    "duration": 11,
    "start_time": "2021-11-16T19:05:48.591Z"
   },
   {
    "duration": 13,
    "start_time": "2021-11-16T19:05:48.604Z"
   },
   {
    "duration": 8,
    "start_time": "2021-11-16T19:05:48.619Z"
   },
   {
    "duration": 17,
    "start_time": "2021-11-16T19:05:48.628Z"
   },
   {
    "duration": 45,
    "start_time": "2021-11-16T19:05:48.646Z"
   },
   {
    "duration": 16,
    "start_time": "2021-11-16T19:05:48.693Z"
   },
   {
    "duration": 13,
    "start_time": "2021-11-16T19:05:48.710Z"
   },
   {
    "duration": 12,
    "start_time": "2021-11-16T19:06:06.039Z"
   },
   {
    "duration": 257,
    "start_time": "2021-11-16T19:06:54.646Z"
   },
   {
    "duration": 191,
    "start_time": "2021-11-16T19:07:06.453Z"
   },
   {
    "duration": 200,
    "start_time": "2021-11-16T19:07:32.153Z"
   },
   {
    "duration": 208,
    "start_time": "2021-11-16T19:08:25.829Z"
   },
   {
    "duration": 4,
    "start_time": "2021-11-16T19:09:04.632Z"
   },
   {
    "duration": 14,
    "start_time": "2021-11-16T19:10:37.830Z"
   },
   {
    "duration": 349,
    "start_time": "2021-11-16T19:12:56.634Z"
   },
   {
    "duration": 11,
    "start_time": "2021-11-16T19:13:06.343Z"
   },
   {
    "duration": 22,
    "start_time": "2021-11-16T19:13:45.439Z"
   },
   {
    "duration": 11,
    "start_time": "2021-11-16T19:13:45.947Z"
   },
   {
    "duration": 21,
    "start_time": "2021-11-16T19:14:07.744Z"
   },
   {
    "duration": 11,
    "start_time": "2021-11-16T19:14:08.819Z"
   },
   {
    "duration": 22,
    "start_time": "2021-11-16T19:14:11.999Z"
   },
   {
    "duration": 11,
    "start_time": "2021-11-16T19:14:12.495Z"
   },
   {
    "duration": 21,
    "start_time": "2021-11-16T19:14:31.647Z"
   },
   {
    "duration": 20,
    "start_time": "2021-11-16T19:14:35.704Z"
   },
   {
    "duration": 12,
    "start_time": "2021-11-16T19:15:18.866Z"
   },
   {
    "duration": 23,
    "start_time": "2021-11-16T19:17:30.887Z"
   },
   {
    "duration": 23,
    "start_time": "2021-11-16T19:18:54.213Z"
   },
   {
    "duration": 14,
    "start_time": "2021-11-16T19:19:08.860Z"
   },
   {
    "duration": 15,
    "start_time": "2021-11-16T19:19:22.637Z"
   },
   {
    "duration": 16,
    "start_time": "2021-11-16T19:19:23.230Z"
   },
   {
    "duration": 7,
    "start_time": "2021-11-16T19:22:28.852Z"
   },
   {
    "duration": 13,
    "start_time": "2021-11-16T19:22:51.715Z"
   },
   {
    "duration": 628,
    "start_time": "2021-11-16T19:23:08.607Z"
   },
   {
    "duration": 383,
    "start_time": "2021-11-16T19:23:09.237Z"
   },
   {
    "duration": 2,
    "start_time": "2021-11-16T19:23:09.622Z"
   },
   {
    "duration": 35,
    "start_time": "2021-11-16T19:23:09.626Z"
   },
   {
    "duration": 13,
    "start_time": "2021-11-16T19:23:09.663Z"
   },
   {
    "duration": 28,
    "start_time": "2021-11-16T19:23:09.677Z"
   },
   {
    "duration": 9,
    "start_time": "2021-11-16T19:23:09.706Z"
   },
   {
    "duration": 20,
    "start_time": "2021-11-16T19:23:09.717Z"
   },
   {
    "duration": 51,
    "start_time": "2021-11-16T19:23:09.739Z"
   },
   {
    "duration": 10,
    "start_time": "2021-11-16T19:23:09.792Z"
   },
   {
    "duration": 10,
    "start_time": "2021-11-16T19:23:09.804Z"
   },
   {
    "duration": 14,
    "start_time": "2021-11-16T19:23:09.816Z"
   },
   {
    "duration": 32,
    "start_time": "2021-11-16T19:23:09.832Z"
   },
   {
    "duration": 42,
    "start_time": "2021-11-16T19:23:09.866Z"
   },
   {
    "duration": 27,
    "start_time": "2021-11-16T19:23:09.910Z"
   },
   {
    "duration": 35,
    "start_time": "2021-11-16T19:23:09.938Z"
   },
   {
    "duration": 25,
    "start_time": "2021-11-16T19:23:09.975Z"
   },
   {
    "duration": 20,
    "start_time": "2021-11-16T19:23:10.002Z"
   },
   {
    "duration": 33,
    "start_time": "2021-11-16T19:23:10.024Z"
   },
   {
    "duration": 10,
    "start_time": "2021-11-16T19:23:10.058Z"
   },
   {
    "duration": 27,
    "start_time": "2021-11-16T19:23:10.070Z"
   },
   {
    "duration": 33,
    "start_time": "2021-11-16T19:23:10.098Z"
   },
   {
    "duration": 28,
    "start_time": "2021-11-16T19:23:10.134Z"
   },
   {
    "duration": 51,
    "start_time": "2021-11-16T19:23:10.164Z"
   },
   {
    "duration": 17,
    "start_time": "2021-11-16T19:23:10.216Z"
   },
   {
    "duration": 42,
    "start_time": "2021-11-16T19:23:10.235Z"
   },
   {
    "duration": 10,
    "start_time": "2021-11-16T19:23:10.278Z"
   },
   {
    "duration": 48,
    "start_time": "2021-11-16T19:23:10.289Z"
   },
   {
    "duration": 6,
    "start_time": "2021-11-16T19:23:10.338Z"
   },
   {
    "duration": 271,
    "start_time": "2021-11-16T19:23:10.345Z"
   },
   {
    "duration": 231,
    "start_time": "2021-11-16T19:23:10.618Z"
   },
   {
    "duration": 5,
    "start_time": "2021-11-16T19:23:10.850Z"
   },
   {
    "duration": 35,
    "start_time": "2021-11-16T19:23:10.857Z"
   },
   {
    "duration": 30,
    "start_time": "2021-11-16T19:23:10.894Z"
   },
   {
    "duration": 36,
    "start_time": "2021-11-16T19:23:10.925Z"
   },
   {
    "duration": 16,
    "start_time": "2021-11-16T19:23:10.962Z"
   },
   {
    "duration": 34,
    "start_time": "2021-11-16T19:23:10.979Z"
   },
   {
    "duration": 277,
    "start_time": "2021-11-16T19:23:11.014Z"
   },
   {
    "duration": 7,
    "start_time": "2021-11-16T19:23:11.293Z"
   },
   {
    "duration": 24,
    "start_time": "2021-11-16T19:23:11.302Z"
   },
   {
    "duration": 33,
    "start_time": "2021-11-16T19:23:11.328Z"
   },
   {
    "duration": 16,
    "start_time": "2021-11-16T19:23:11.362Z"
   },
   {
    "duration": 16,
    "start_time": "2021-11-16T19:23:11.380Z"
   },
   {
    "duration": 63,
    "start_time": "2021-11-16T19:23:11.398Z"
   },
   {
    "duration": 288,
    "start_time": "2021-11-16T19:23:11.463Z"
   },
   {
    "duration": 15,
    "start_time": "2021-11-16T19:23:11.753Z"
   },
   {
    "duration": 4,
    "start_time": "2021-11-16T19:23:11.769Z"
   },
   {
    "duration": 29,
    "start_time": "2021-11-16T19:23:11.774Z"
   },
   {
    "duration": 8,
    "start_time": "2021-11-16T19:23:11.805Z"
   },
   {
    "duration": 6,
    "start_time": "2021-11-16T19:23:11.815Z"
   },
   {
    "duration": 31,
    "start_time": "2021-11-16T19:23:11.822Z"
   },
   {
    "duration": 6,
    "start_time": "2021-11-16T19:23:11.855Z"
   },
   {
    "duration": 29,
    "start_time": "2021-11-16T19:23:11.863Z"
   },
   {
    "duration": 12,
    "start_time": "2021-11-16T19:23:11.894Z"
   },
   {
    "duration": 8,
    "start_time": "2021-11-16T19:23:11.908Z"
   },
   {
    "duration": 7,
    "start_time": "2021-11-16T19:23:11.917Z"
   },
   {
    "duration": 30,
    "start_time": "2021-11-16T19:23:11.925Z"
   },
   {
    "duration": 261,
    "start_time": "2021-11-16T19:23:11.956Z"
   },
   {
    "duration": 8,
    "start_time": "2021-11-16T19:23:12.219Z"
   },
   {
    "duration": 15,
    "start_time": "2021-11-16T19:23:12.229Z"
   },
   {
    "duration": 262,
    "start_time": "2021-11-16T19:23:12.245Z"
   },
   {
    "duration": 11,
    "start_time": "2021-11-16T19:23:12.509Z"
   },
   {
    "duration": 8,
    "start_time": "2021-11-16T19:23:12.522Z"
   },
   {
    "duration": 6,
    "start_time": "2021-11-16T19:23:12.532Z"
   },
   {
    "duration": 4,
    "start_time": "2021-11-16T19:23:12.540Z"
   },
   {
    "duration": 47,
    "start_time": "2021-11-16T19:23:12.545Z"
   },
   {
    "duration": 20,
    "start_time": "2021-11-16T19:23:12.594Z"
   },
   {
    "duration": 47,
    "start_time": "2021-11-16T19:23:12.618Z"
   },
   {
    "duration": 3,
    "start_time": "2021-11-16T19:23:12.667Z"
   },
   {
    "duration": 25,
    "start_time": "2021-11-16T19:23:12.672Z"
   },
   {
    "duration": 4,
    "start_time": "2021-11-16T19:23:12.699Z"
   },
   {
    "duration": 14,
    "start_time": "2021-11-16T19:23:12.704Z"
   },
   {
    "duration": 80,
    "start_time": "2021-11-16T19:23:12.719Z"
   },
   {
    "duration": 11,
    "start_time": "2021-11-16T19:23:12.800Z"
   },
   {
    "duration": 8,
    "start_time": "2021-11-16T19:23:12.813Z"
   },
   {
    "duration": 13,
    "start_time": "2021-11-16T19:23:12.823Z"
   },
   {
    "duration": 14,
    "start_time": "2021-11-16T19:23:12.837Z"
   },
   {
    "duration": 516,
    "start_time": "2021-11-16T19:23:12.853Z"
   },
   {
    "duration": -129,
    "start_time": "2021-11-16T19:23:13.500Z"
   },
   {
    "duration": -134,
    "start_time": "2021-11-16T19:23:13.506Z"
   },
   {
    "duration": -138,
    "start_time": "2021-11-16T19:23:13.511Z"
   },
   {
    "duration": -142,
    "start_time": "2021-11-16T19:23:13.516Z"
   },
   {
    "duration": -146,
    "start_time": "2021-11-16T19:23:13.521Z"
   },
   {
    "duration": -151,
    "start_time": "2021-11-16T19:23:13.527Z"
   },
   {
    "duration": -154,
    "start_time": "2021-11-16T19:23:13.531Z"
   },
   {
    "duration": -158,
    "start_time": "2021-11-16T19:23:13.536Z"
   },
   {
    "duration": 32,
    "start_time": "2021-11-16T19:23:27.116Z"
   },
   {
    "duration": 16,
    "start_time": "2021-11-16T19:23:27.451Z"
   },
   {
    "duration": 25,
    "start_time": "2021-11-16T19:23:28.079Z"
   },
   {
    "duration": 14,
    "start_time": "2021-11-16T19:23:28.551Z"
   },
   {
    "duration": 11,
    "start_time": "2021-11-16T19:23:29.064Z"
   },
   {
    "duration": 7,
    "start_time": "2021-11-16T19:23:32.482Z"
   },
   {
    "duration": 10,
    "start_time": "2021-11-16T19:23:34.744Z"
   },
   {
    "duration": 6,
    "start_time": "2021-11-16T19:24:09.716Z"
   },
   {
    "duration": 10,
    "start_time": "2021-11-16T19:24:11.121Z"
   },
   {
    "duration": 172,
    "start_time": "2021-11-16T19:37:49.297Z"
   },
   {
    "duration": 8,
    "start_time": "2021-11-16T19:38:01.419Z"
   },
   {
    "duration": 20,
    "start_time": "2021-11-16T19:38:11.702Z"
   },
   {
    "duration": 8,
    "start_time": "2021-11-16T19:38:26.801Z"
   },
   {
    "duration": 6,
    "start_time": "2021-11-16T19:39:02.187Z"
   },
   {
    "duration": 6,
    "start_time": "2021-11-16T19:44:58.762Z"
   },
   {
    "duration": 199,
    "start_time": "2021-11-16T19:45:26.238Z"
   },
   {
    "duration": 208,
    "start_time": "2021-11-16T19:45:53.324Z"
   },
   {
    "duration": 14,
    "start_time": "2021-11-16T19:46:02.999Z"
   },
   {
    "duration": 4192,
    "start_time": "2021-11-16T19:46:37.443Z"
   },
   {
    "duration": 14,
    "start_time": "2021-11-16T19:47:01.836Z"
   },
   {
    "duration": 13,
    "start_time": "2021-11-16T19:50:01.852Z"
   },
   {
    "duration": 349,
    "start_time": "2021-11-17T09:16:59.497Z"
   },
   {
    "duration": 903,
    "start_time": "2021-11-17T09:17:15.250Z"
   },
   {
    "duration": 553,
    "start_time": "2021-11-17T09:17:16.156Z"
   },
   {
    "duration": 3,
    "start_time": "2021-11-17T09:17:16.712Z"
   },
   {
    "duration": 57,
    "start_time": "2021-11-17T09:17:16.718Z"
   },
   {
    "duration": 21,
    "start_time": "2021-11-17T09:17:16.778Z"
   },
   {
    "duration": 38,
    "start_time": "2021-11-17T09:17:16.801Z"
   },
   {
    "duration": 8,
    "start_time": "2021-11-17T09:17:16.842Z"
   },
   {
    "duration": 22,
    "start_time": "2021-11-17T09:17:16.853Z"
   },
   {
    "duration": 78,
    "start_time": "2021-11-17T09:17:16.882Z"
   },
   {
    "duration": 19,
    "start_time": "2021-11-17T09:17:16.963Z"
   },
   {
    "duration": 21,
    "start_time": "2021-11-17T09:17:16.985Z"
   },
   {
    "duration": 30,
    "start_time": "2021-11-17T09:17:17.009Z"
   },
   {
    "duration": 33,
    "start_time": "2021-11-17T09:17:17.041Z"
   },
   {
    "duration": 19,
    "start_time": "2021-11-17T09:17:17.077Z"
   },
   {
    "duration": 29,
    "start_time": "2021-11-17T09:17:17.099Z"
   },
   {
    "duration": 12,
    "start_time": "2021-11-17T09:17:17.131Z"
   },
   {
    "duration": 7,
    "start_time": "2021-11-17T09:17:17.146Z"
   },
   {
    "duration": 12,
    "start_time": "2021-11-17T09:17:17.156Z"
   },
   {
    "duration": 10,
    "start_time": "2021-11-17T09:17:17.170Z"
   },
   {
    "duration": 13,
    "start_time": "2021-11-17T09:17:17.182Z"
   },
   {
    "duration": 15,
    "start_time": "2021-11-17T09:17:17.198Z"
   },
   {
    "duration": 18,
    "start_time": "2021-11-17T09:17:17.216Z"
   },
   {
    "duration": 26,
    "start_time": "2021-11-17T09:17:17.236Z"
   },
   {
    "duration": 54,
    "start_time": "2021-11-17T09:17:17.264Z"
   },
   {
    "duration": 25,
    "start_time": "2021-11-17T09:17:17.320Z"
   },
   {
    "duration": 41,
    "start_time": "2021-11-17T09:17:17.347Z"
   },
   {
    "duration": 6,
    "start_time": "2021-11-17T09:17:17.395Z"
   },
   {
    "duration": 28,
    "start_time": "2021-11-17T09:17:17.428Z"
   },
   {
    "duration": 19,
    "start_time": "2021-11-17T09:17:17.458Z"
   },
   {
    "duration": 500,
    "start_time": "2021-11-17T09:17:17.480Z"
   },
   {
    "duration": 465,
    "start_time": "2021-11-17T09:17:17.983Z"
   },
   {
    "duration": 8,
    "start_time": "2021-11-17T09:17:18.450Z"
   },
   {
    "duration": 19,
    "start_time": "2021-11-17T09:17:18.461Z"
   },
   {
    "duration": 24,
    "start_time": "2021-11-17T09:17:18.483Z"
   },
   {
    "duration": 27,
    "start_time": "2021-11-17T09:17:18.509Z"
   },
   {
    "duration": 13,
    "start_time": "2021-11-17T09:17:18.539Z"
   },
   {
    "duration": 26,
    "start_time": "2021-11-17T09:17:18.554Z"
   },
   {
    "duration": 563,
    "start_time": "2021-11-17T09:17:18.582Z"
   },
   {
    "duration": 12,
    "start_time": "2021-11-17T09:17:19.148Z"
   },
   {
    "duration": 20,
    "start_time": "2021-11-17T09:17:19.162Z"
   },
   {
    "duration": 16,
    "start_time": "2021-11-17T09:17:19.185Z"
   },
   {
    "duration": 27,
    "start_time": "2021-11-17T09:17:19.203Z"
   },
   {
    "duration": 17,
    "start_time": "2021-11-17T09:17:19.233Z"
   },
   {
    "duration": 129,
    "start_time": "2021-11-17T09:17:19.253Z"
   },
   {
    "duration": 514,
    "start_time": "2021-11-17T09:17:19.385Z"
   },
   {
    "duration": 32,
    "start_time": "2021-11-17T09:17:19.902Z"
   },
   {
    "duration": 7,
    "start_time": "2021-11-17T09:17:19.936Z"
   },
   {
    "duration": 30,
    "start_time": "2021-11-17T09:17:19.946Z"
   },
   {
    "duration": 51,
    "start_time": "2021-11-17T09:17:19.978Z"
   },
   {
    "duration": 12,
    "start_time": "2021-11-17T09:17:20.032Z"
   },
   {
    "duration": 46,
    "start_time": "2021-11-17T09:17:20.047Z"
   },
   {
    "duration": 41,
    "start_time": "2021-11-17T09:17:20.096Z"
   },
   {
    "duration": 6,
    "start_time": "2021-11-17T09:17:20.139Z"
   },
   {
    "duration": 29,
    "start_time": "2021-11-17T09:17:20.148Z"
   },
   {
    "duration": 52,
    "start_time": "2021-11-17T09:17:20.180Z"
   },
   {
    "duration": 11,
    "start_time": "2021-11-17T09:17:20.234Z"
   },
   {
    "duration": 40,
    "start_time": "2021-11-17T09:17:20.248Z"
   },
   {
    "duration": 435,
    "start_time": "2021-11-17T09:17:20.291Z"
   },
   {
    "duration": 12,
    "start_time": "2021-11-17T09:17:20.728Z"
   },
   {
    "duration": 29,
    "start_time": "2021-11-17T09:17:20.743Z"
   },
   {
    "duration": 468,
    "start_time": "2021-11-17T09:17:20.775Z"
   },
   {
    "duration": 16,
    "start_time": "2021-11-17T09:17:21.246Z"
   },
   {
    "duration": 15,
    "start_time": "2021-11-17T09:17:21.265Z"
   },
   {
    "duration": 47,
    "start_time": "2021-11-17T09:17:21.282Z"
   },
   {
    "duration": 9,
    "start_time": "2021-11-17T09:17:21.332Z"
   },
   {
    "duration": 25,
    "start_time": "2021-11-17T09:17:21.344Z"
   },
   {
    "duration": 66,
    "start_time": "2021-11-17T09:17:21.371Z"
   },
   {
    "duration": 13,
    "start_time": "2021-11-17T09:17:21.440Z"
   },
   {
    "duration": 94,
    "start_time": "2021-11-17T09:17:21.456Z"
   },
   {
    "duration": 6,
    "start_time": "2021-11-17T09:17:21.553Z"
   },
   {
    "duration": 17,
    "start_time": "2021-11-17T09:17:21.562Z"
   },
   {
    "duration": 13,
    "start_time": "2021-11-17T09:17:21.582Z"
   },
   {
    "duration": 50,
    "start_time": "2021-11-17T09:17:21.598Z"
   },
   {
    "duration": 93,
    "start_time": "2021-11-17T09:17:21.651Z"
   },
   {
    "duration": 17,
    "start_time": "2021-11-17T09:17:21.746Z"
   },
   {
    "duration": 14,
    "start_time": "2021-11-17T09:17:21.765Z"
   },
   {
    "duration": 56,
    "start_time": "2021-11-17T09:17:21.782Z"
   },
   {
    "duration": 29,
    "start_time": "2021-11-17T09:17:21.841Z"
   },
   {
    "duration": 17,
    "start_time": "2021-11-17T09:17:21.873Z"
   },
   {
    "duration": 94,
    "start_time": "2021-11-17T09:17:21.893Z"
   },
   {
    "duration": 44,
    "start_time": "2021-11-17T09:17:21.994Z"
   },
   {
    "duration": 45,
    "start_time": "2021-11-17T09:17:22.041Z"
   },
   {
    "duration": 47,
    "start_time": "2021-11-17T09:17:22.090Z"
   },
   {
    "duration": 16,
    "start_time": "2021-11-17T09:17:22.140Z"
   },
   {
    "duration": 21,
    "start_time": "2021-11-17T09:17:22.158Z"
   },
   {
    "duration": 10,
    "start_time": "2021-11-17T09:17:22.181Z"
   },
   {
    "duration": 43,
    "start_time": "2021-11-17T09:17:22.194Z"
   },
   {
    "duration": 12,
    "start_time": "2021-11-17T09:17:22.239Z"
   },
   {
    "duration": 5,
    "start_time": "2021-11-17T09:19:29.436Z"
   },
   {
    "duration": 16,
    "start_time": "2021-11-17T09:19:34.592Z"
   },
   {
    "duration": 427,
    "start_time": "2021-11-17T09:19:49.411Z"
   },
   {
    "duration": 12,
    "start_time": "2021-11-17T09:19:49.938Z"
   },
   {
    "duration": 5,
    "start_time": "2021-11-17T09:19:59.650Z"
   },
   {
    "duration": 17,
    "start_time": "2021-11-17T09:20:00.097Z"
   },
   {
    "duration": 902,
    "start_time": "2021-11-17T09:20:08.652Z"
   },
   {
    "duration": 546,
    "start_time": "2021-11-17T09:20:09.557Z"
   },
   {
    "duration": 3,
    "start_time": "2021-11-17T09:20:10.106Z"
   },
   {
    "duration": 51,
    "start_time": "2021-11-17T09:20:10.112Z"
   },
   {
    "duration": 31,
    "start_time": "2021-11-17T09:20:10.166Z"
   },
   {
    "duration": 41,
    "start_time": "2021-11-17T09:20:10.199Z"
   },
   {
    "duration": 9,
    "start_time": "2021-11-17T09:20:10.242Z"
   },
   {
    "duration": 14,
    "start_time": "2021-11-17T09:20:10.255Z"
   },
   {
    "duration": 81,
    "start_time": "2021-11-17T09:20:10.273Z"
   },
   {
    "duration": 16,
    "start_time": "2021-11-17T09:20:10.356Z"
   },
   {
    "duration": 12,
    "start_time": "2021-11-17T09:20:10.374Z"
   },
   {
    "duration": 42,
    "start_time": "2021-11-17T09:20:10.389Z"
   },
   {
    "duration": 19,
    "start_time": "2021-11-17T09:20:10.434Z"
   },
   {
    "duration": 17,
    "start_time": "2021-11-17T09:20:10.456Z"
   },
   {
    "duration": 12,
    "start_time": "2021-11-17T09:20:10.477Z"
   },
   {
    "duration": 37,
    "start_time": "2021-11-17T09:20:10.492Z"
   },
   {
    "duration": 6,
    "start_time": "2021-11-17T09:20:10.532Z"
   },
   {
    "duration": 10,
    "start_time": "2021-11-17T09:20:10.541Z"
   },
   {
    "duration": 7,
    "start_time": "2021-11-17T09:20:10.553Z"
   },
   {
    "duration": 7,
    "start_time": "2021-11-17T09:20:10.562Z"
   },
   {
    "duration": 5,
    "start_time": "2021-11-17T09:20:10.572Z"
   },
   {
    "duration": 52,
    "start_time": "2021-11-17T09:20:10.580Z"
   },
   {
    "duration": 7,
    "start_time": "2021-11-17T09:20:10.640Z"
   },
   {
    "duration": 51,
    "start_time": "2021-11-17T09:20:10.651Z"
   },
   {
    "duration": 42,
    "start_time": "2021-11-17T09:20:10.704Z"
   },
   {
    "duration": 34,
    "start_time": "2021-11-17T09:20:10.748Z"
   },
   {
    "duration": 6,
    "start_time": "2021-11-17T09:20:10.785Z"
   },
   {
    "duration": 50,
    "start_time": "2021-11-17T09:20:10.793Z"
   },
   {
    "duration": 13,
    "start_time": "2021-11-17T09:20:10.846Z"
   },
   {
    "duration": 451,
    "start_time": "2021-11-17T09:20:10.861Z"
   },
   {
    "duration": 405,
    "start_time": "2021-11-17T09:20:11.315Z"
   },
   {
    "duration": 14,
    "start_time": "2021-11-17T09:20:11.730Z"
   },
   {
    "duration": 7,
    "start_time": "2021-11-17T09:20:11.749Z"
   },
   {
    "duration": 33,
    "start_time": "2021-11-17T09:20:11.759Z"
   },
   {
    "duration": 13,
    "start_time": "2021-11-17T09:20:11.795Z"
   },
   {
    "duration": 27,
    "start_time": "2021-11-17T09:20:11.811Z"
   },
   {
    "duration": 21,
    "start_time": "2021-11-17T09:20:11.840Z"
   },
   {
    "duration": 461,
    "start_time": "2021-11-17T09:20:11.864Z"
   },
   {
    "duration": 13,
    "start_time": "2021-11-17T09:20:12.327Z"
   },
   {
    "duration": 10,
    "start_time": "2021-11-17T09:20:12.343Z"
   },
   {
    "duration": 17,
    "start_time": "2021-11-17T09:20:12.355Z"
   },
   {
    "duration": 22,
    "start_time": "2021-11-17T09:20:12.375Z"
   },
   {
    "duration": 37,
    "start_time": "2021-11-17T09:20:12.399Z"
   },
   {
    "duration": 106,
    "start_time": "2021-11-17T09:20:12.438Z"
   },
   {
    "duration": 586,
    "start_time": "2021-11-17T09:20:12.547Z"
   },
   {
    "duration": 25,
    "start_time": "2021-11-17T09:20:13.136Z"
   },
   {
    "duration": 7,
    "start_time": "2021-11-17T09:20:13.164Z"
   },
   {
    "duration": 63,
    "start_time": "2021-11-17T09:20:13.173Z"
   },
   {
    "duration": 16,
    "start_time": "2021-11-17T09:20:13.238Z"
   },
   {
    "duration": 11,
    "start_time": "2021-11-17T09:20:13.257Z"
   },
   {
    "duration": 92,
    "start_time": "2021-11-17T09:20:13.270Z"
   },
   {
    "duration": 10,
    "start_time": "2021-11-17T09:20:13.364Z"
   },
   {
    "duration": 10,
    "start_time": "2021-11-17T09:20:13.376Z"
   },
   {
    "duration": 54,
    "start_time": "2021-11-17T09:20:13.389Z"
   },
   {
    "duration": 14,
    "start_time": "2021-11-17T09:20:13.445Z"
   },
   {
    "duration": 14,
    "start_time": "2021-11-17T09:20:13.462Z"
   },
   {
    "duration": 83,
    "start_time": "2021-11-17T09:20:13.478Z"
   },
   {
    "duration": 530,
    "start_time": "2021-11-17T09:20:13.563Z"
   },
   {
    "duration": 13,
    "start_time": "2021-11-17T09:20:14.096Z"
   },
   {
    "duration": 21,
    "start_time": "2021-11-17T09:20:14.131Z"
   },
   {
    "duration": 445,
    "start_time": "2021-11-17T09:20:14.155Z"
   },
   {
    "duration": 34,
    "start_time": "2021-11-17T09:20:14.603Z"
   },
   {
    "duration": 14,
    "start_time": "2021-11-17T09:20:14.640Z"
   },
   {
    "duration": 11,
    "start_time": "2021-11-17T09:20:14.657Z"
   },
   {
    "duration": 6,
    "start_time": "2021-11-17T09:20:14.671Z"
   },
   {
    "duration": 63,
    "start_time": "2021-11-17T09:20:14.679Z"
   },
   {
    "duration": 34,
    "start_time": "2021-11-17T09:20:14.744Z"
   },
   {
    "duration": 53,
    "start_time": "2021-11-17T09:20:14.786Z"
   },
   {
    "duration": 30,
    "start_time": "2021-11-17T09:20:14.842Z"
   },
   {
    "duration": 41,
    "start_time": "2021-11-17T09:20:14.874Z"
   },
   {
    "duration": 76,
    "start_time": "2021-11-17T09:20:14.918Z"
   },
   {
    "duration": 6,
    "start_time": "2021-11-17T09:20:14.997Z"
   },
   {
    "duration": 24,
    "start_time": "2021-11-17T09:20:15.005Z"
   },
   {
    "duration": 29,
    "start_time": "2021-11-17T09:20:15.032Z"
   },
   {
    "duration": 30,
    "start_time": "2021-11-17T09:20:15.063Z"
   },
   {
    "duration": 104,
    "start_time": "2021-11-17T09:20:15.096Z"
   },
   {
    "duration": 36,
    "start_time": "2021-11-17T09:20:15.203Z"
   },
   {
    "duration": 24,
    "start_time": "2021-11-17T09:20:15.243Z"
   },
   {
    "duration": 61,
    "start_time": "2021-11-17T09:20:15.270Z"
   },
   {
    "duration": 25,
    "start_time": "2021-11-17T09:20:15.334Z"
   },
   {
    "duration": 19,
    "start_time": "2021-11-17T09:20:15.361Z"
   },
   {
    "duration": 73,
    "start_time": "2021-11-17T09:20:15.383Z"
   },
   {
    "duration": 22,
    "start_time": "2021-11-17T09:20:15.458Z"
   },
   {
    "duration": 54,
    "start_time": "2021-11-17T09:20:15.484Z"
   },
   {
    "duration": 22,
    "start_time": "2021-11-17T09:20:15.540Z"
   },
   {
    "duration": 25,
    "start_time": "2021-11-17T09:20:15.565Z"
   },
   {
    "duration": 36,
    "start_time": "2021-11-17T09:20:15.593Z"
   },
   {
    "duration": 25,
    "start_time": "2021-11-17T09:20:15.632Z"
   },
   {
    "duration": 23,
    "start_time": "2021-11-17T09:20:15.659Z"
   },
   {
    "duration": 24,
    "start_time": "2021-11-17T09:20:15.685Z"
   },
   {
    "duration": 14,
    "start_time": "2021-11-17T09:21:16.480Z"
   },
   {
    "duration": 20,
    "start_time": "2021-11-17T09:31:11.833Z"
   },
   {
    "duration": 31,
    "start_time": "2021-11-17T09:31:31.880Z"
   },
   {
    "duration": 24,
    "start_time": "2021-11-17T09:34:24.996Z"
   },
   {
    "duration": 39,
    "start_time": "2021-11-17T09:35:07.904Z"
   },
   {
    "duration": 392,
    "start_time": "2021-11-17T09:47:06.485Z"
   },
   {
    "duration": 287,
    "start_time": "2021-11-17T09:47:13.447Z"
   },
   {
    "duration": 326,
    "start_time": "2021-11-17T09:47:20.187Z"
   },
   {
    "duration": 5,
    "start_time": "2021-11-17T09:48:14.643Z"
   },
   {
    "duration": 13,
    "start_time": "2021-11-17T09:48:18.948Z"
   },
   {
    "duration": 114,
    "start_time": "2021-11-17T10:07:26.014Z"
   },
   {
    "duration": 6,
    "start_time": "2021-11-17T10:07:33.541Z"
   },
   {
    "duration": 272,
    "start_time": "2021-11-17T10:08:39.207Z"
   },
   {
    "duration": 587,
    "start_time": "2021-11-17T10:08:44.908Z"
   },
   {
    "duration": 610,
    "start_time": "2021-11-17T10:09:40.020Z"
   },
   {
    "duration": 6,
    "start_time": "2021-11-17T10:15:48.801Z"
   },
   {
    "duration": 652,
    "start_time": "2021-11-17T10:15:51.348Z"
   },
   {
    "duration": 803,
    "start_time": "2021-11-17T10:19:15.615Z"
   },
   {
    "duration": 4,
    "start_time": "2021-11-17T10:19:17.642Z"
   },
   {
    "duration": 620,
    "start_time": "2021-11-17T10:19:21.958Z"
   },
   {
    "duration": 4,
    "start_time": "2021-11-17T10:19:52.646Z"
   },
   {
    "duration": 584,
    "start_time": "2021-11-17T10:19:53.123Z"
   },
   {
    "duration": 3,
    "start_time": "2021-11-17T10:20:01.486Z"
   },
   {
    "duration": 565,
    "start_time": "2021-11-17T10:20:02.347Z"
   },
   {
    "duration": 5,
    "start_time": "2021-11-17T10:26:49.793Z"
   },
   {
    "duration": 572,
    "start_time": "2021-11-17T10:26:50.259Z"
   },
   {
    "duration": 103,
    "start_time": "2021-11-17T10:27:43.774Z"
   },
   {
    "duration": 664,
    "start_time": "2021-11-17T10:27:44.540Z"
   },
   {
    "duration": 5,
    "start_time": "2021-11-17T10:27:49.579Z"
   },
   {
    "duration": 593,
    "start_time": "2021-11-17T10:27:50.300Z"
   },
   {
    "duration": 4,
    "start_time": "2021-11-17T10:28:26.039Z"
   },
   {
    "duration": 560,
    "start_time": "2021-11-17T10:28:26.603Z"
   },
   {
    "duration": 4,
    "start_time": "2021-11-17T10:28:41.798Z"
   },
   {
    "duration": 11,
    "start_time": "2021-11-17T10:28:42.193Z"
   },
   {
    "duration": 6,
    "start_time": "2021-11-17T10:29:51.139Z"
   },
   {
    "duration": 596,
    "start_time": "2021-11-17T10:29:58.694Z"
   },
   {
    "duration": 6,
    "start_time": "2021-11-17T10:30:55.379Z"
   },
   {
    "duration": 309,
    "start_time": "2021-11-17T10:30:57.614Z"
   },
   {
    "duration": 317,
    "start_time": "2021-11-17T10:31:07.215Z"
   },
   {
    "duration": 931,
    "start_time": "2021-11-17T10:32:28.997Z"
   },
   {
    "duration": 526,
    "start_time": "2021-11-17T10:32:29.931Z"
   },
   {
    "duration": 3,
    "start_time": "2021-11-17T10:32:30.459Z"
   },
   {
    "duration": 50,
    "start_time": "2021-11-17T10:32:30.464Z"
   },
   {
    "duration": 19,
    "start_time": "2021-11-17T10:32:30.516Z"
   },
   {
    "duration": 37,
    "start_time": "2021-11-17T10:32:30.537Z"
   },
   {
    "duration": 8,
    "start_time": "2021-11-17T10:32:30.576Z"
   },
   {
    "duration": 23,
    "start_time": "2021-11-17T10:32:30.588Z"
   },
   {
    "duration": 67,
    "start_time": "2021-11-17T10:32:30.614Z"
   },
   {
    "duration": 16,
    "start_time": "2021-11-17T10:32:30.683Z"
   },
   {
    "duration": 30,
    "start_time": "2021-11-17T10:32:30.701Z"
   },
   {
    "duration": 31,
    "start_time": "2021-11-17T10:32:30.734Z"
   },
   {
    "duration": 24,
    "start_time": "2021-11-17T10:32:30.767Z"
   },
   {
    "duration": 34,
    "start_time": "2021-11-17T10:32:30.793Z"
   },
   {
    "duration": 42,
    "start_time": "2021-11-17T10:32:30.830Z"
   },
   {
    "duration": 37,
    "start_time": "2021-11-17T10:32:30.874Z"
   },
   {
    "duration": 32,
    "start_time": "2021-11-17T10:32:30.913Z"
   },
   {
    "duration": 12,
    "start_time": "2021-11-17T10:32:30.948Z"
   },
   {
    "duration": 25,
    "start_time": "2021-11-17T10:32:30.962Z"
   },
   {
    "duration": 19,
    "start_time": "2021-11-17T10:32:30.990Z"
   },
   {
    "duration": 16,
    "start_time": "2021-11-17T10:32:31.011Z"
   },
   {
    "duration": 27,
    "start_time": "2021-11-17T10:32:31.029Z"
   },
   {
    "duration": 26,
    "start_time": "2021-11-17T10:32:31.062Z"
   },
   {
    "duration": 55,
    "start_time": "2021-11-17T10:32:31.091Z"
   },
   {
    "duration": 26,
    "start_time": "2021-11-17T10:32:31.148Z"
   },
   {
    "duration": 33,
    "start_time": "2021-11-17T10:32:31.177Z"
   },
   {
    "duration": 19,
    "start_time": "2021-11-17T10:32:31.212Z"
   },
   {
    "duration": 16,
    "start_time": "2021-11-17T10:32:31.233Z"
   },
   {
    "duration": 15,
    "start_time": "2021-11-17T10:32:31.251Z"
   },
   {
    "duration": 436,
    "start_time": "2021-11-17T10:32:31.268Z"
   },
   {
    "duration": 403,
    "start_time": "2021-11-17T10:32:31.706Z"
   },
   {
    "duration": 9,
    "start_time": "2021-11-17T10:32:32.111Z"
   },
   {
    "duration": 17,
    "start_time": "2021-11-17T10:32:32.130Z"
   },
   {
    "duration": 12,
    "start_time": "2021-11-17T10:32:32.150Z"
   },
   {
    "duration": 21,
    "start_time": "2021-11-17T10:32:32.164Z"
   },
   {
    "duration": 21,
    "start_time": "2021-11-17T10:32:32.188Z"
   },
   {
    "duration": 23,
    "start_time": "2021-11-17T10:32:32.212Z"
   },
   {
    "duration": 532,
    "start_time": "2021-11-17T10:32:32.238Z"
   },
   {
    "duration": 12,
    "start_time": "2021-11-17T10:32:32.773Z"
   },
   {
    "duration": 10,
    "start_time": "2021-11-17T10:32:32.787Z"
   },
   {
    "duration": 29,
    "start_time": "2021-11-17T10:32:32.800Z"
   },
   {
    "duration": 13,
    "start_time": "2021-11-17T10:32:32.832Z"
   },
   {
    "duration": 14,
    "start_time": "2021-11-17T10:32:32.848Z"
   },
   {
    "duration": 113,
    "start_time": "2021-11-17T10:32:32.864Z"
   },
   {
    "duration": 585,
    "start_time": "2021-11-17T10:32:32.980Z"
   },
   {
    "duration": 20,
    "start_time": "2021-11-17T10:32:33.567Z"
   },
   {
    "duration": 14,
    "start_time": "2021-11-17T10:32:33.589Z"
   },
   {
    "duration": 46,
    "start_time": "2021-11-17T10:32:33.606Z"
   },
   {
    "duration": 16,
    "start_time": "2021-11-17T10:32:33.654Z"
   },
   {
    "duration": 35,
    "start_time": "2021-11-17T10:32:33.672Z"
   },
   {
    "duration": 72,
    "start_time": "2021-11-17T10:32:33.709Z"
   },
   {
    "duration": 10,
    "start_time": "2021-11-17T10:32:33.783Z"
   },
   {
    "duration": 17,
    "start_time": "2021-11-17T10:32:33.795Z"
   },
   {
    "duration": 45,
    "start_time": "2021-11-17T10:32:33.814Z"
   },
   {
    "duration": 19,
    "start_time": "2021-11-17T10:32:33.861Z"
   },
   {
    "duration": 25,
    "start_time": "2021-11-17T10:32:33.882Z"
   },
   {
    "duration": 69,
    "start_time": "2021-11-17T10:32:33.909Z"
   },
   {
    "duration": 396,
    "start_time": "2021-11-17T10:32:33.980Z"
   },
   {
    "duration": 12,
    "start_time": "2021-11-17T10:32:34.378Z"
   },
   {
    "duration": 42,
    "start_time": "2021-11-17T10:32:34.392Z"
   },
   {
    "duration": 420,
    "start_time": "2021-11-17T10:32:34.437Z"
   },
   {
    "duration": 17,
    "start_time": "2021-11-17T10:32:34.860Z"
   },
   {
    "duration": 32,
    "start_time": "2021-11-17T10:32:34.879Z"
   },
   {
    "duration": 20,
    "start_time": "2021-11-17T10:32:34.914Z"
   },
   {
    "duration": 28,
    "start_time": "2021-11-17T10:32:34.936Z"
   },
   {
    "duration": 38,
    "start_time": "2021-11-17T10:32:34.967Z"
   },
   {
    "duration": 34,
    "start_time": "2021-11-17T10:32:35.008Z"
   },
   {
    "duration": 21,
    "start_time": "2021-11-17T10:32:35.050Z"
   },
   {
    "duration": 18,
    "start_time": "2021-11-17T10:32:35.074Z"
   },
   {
    "duration": 26,
    "start_time": "2021-11-17T10:32:35.094Z"
   },
   {
    "duration": 92,
    "start_time": "2021-11-17T10:32:35.123Z"
   },
   {
    "duration": 5,
    "start_time": "2021-11-17T10:32:35.218Z"
   },
   {
    "duration": 27,
    "start_time": "2021-11-17T10:32:35.226Z"
   },
   {
    "duration": 26,
    "start_time": "2021-11-17T10:32:35.256Z"
   },
   {
    "duration": 47,
    "start_time": "2021-11-17T10:32:35.284Z"
   },
   {
    "duration": 125,
    "start_time": "2021-11-17T10:32:35.334Z"
   },
   {
    "duration": 18,
    "start_time": "2021-11-17T10:32:35.461Z"
   },
   {
    "duration": 22,
    "start_time": "2021-11-17T10:32:35.481Z"
   },
   {
    "duration": 10,
    "start_time": "2021-11-17T10:32:35.505Z"
   },
   {
    "duration": 56,
    "start_time": "2021-11-17T10:32:35.528Z"
   },
   {
    "duration": 6,
    "start_time": "2021-11-17T10:32:35.586Z"
   },
   {
    "duration": 468,
    "start_time": "2021-11-17T10:32:35.594Z"
   },
   {
    "duration": -420,
    "start_time": "2021-11-17T10:32:36.485Z"
   },
   {
    "duration": -451,
    "start_time": "2021-11-17T10:32:36.517Z"
   },
   {
    "duration": -460,
    "start_time": "2021-11-17T10:32:36.528Z"
   },
   {
    "duration": -487,
    "start_time": "2021-11-17T10:32:36.556Z"
   },
   {
    "duration": -504,
    "start_time": "2021-11-17T10:32:36.575Z"
   },
   {
    "duration": -521,
    "start_time": "2021-11-17T10:32:36.593Z"
   },
   {
    "duration": -550,
    "start_time": "2021-11-17T10:32:36.624Z"
   },
   {
    "duration": -566,
    "start_time": "2021-11-17T10:32:36.641Z"
   },
   {
    "duration": -597,
    "start_time": "2021-11-17T10:32:36.673Z"
   },
   {
    "duration": 47,
    "start_time": "2021-11-17T10:33:11.729Z"
   },
   {
    "duration": 489,
    "start_time": "2021-11-17T10:33:29.783Z"
   },
   {
    "duration": 34,
    "start_time": "2021-11-17T10:33:30.775Z"
   },
   {
    "duration": 6,
    "start_time": "2021-11-17T10:33:39.708Z"
   },
   {
    "duration": 41,
    "start_time": "2021-11-17T10:33:40.806Z"
   },
   {
    "duration": 307,
    "start_time": "2021-11-17T10:39:55.895Z"
   },
   {
    "duration": 306,
    "start_time": "2021-11-17T10:41:09.100Z"
   },
   {
    "duration": 13,
    "start_time": "2021-11-17T10:41:18.870Z"
   },
   {
    "duration": 14,
    "start_time": "2021-11-17T10:42:01.946Z"
   },
   {
    "duration": 12,
    "start_time": "2021-11-17T10:42:21.905Z"
   },
   {
    "duration": 310,
    "start_time": "2021-11-17T10:43:20.034Z"
   },
   {
    "duration": 12,
    "start_time": "2021-11-17T10:43:32.947Z"
   },
   {
    "duration": 25,
    "start_time": "2021-11-17T10:44:44.838Z"
   },
   {
    "duration": 7445,
    "start_time": "2021-11-17T10:45:03.028Z"
   },
   {
    "duration": 7661,
    "start_time": "2021-11-17T10:45:19.717Z"
   },
   {
    "duration": 93,
    "start_time": "2021-11-17T10:46:23.009Z"
   },
   {
    "duration": 7313,
    "start_time": "2021-11-17T10:46:27.242Z"
   },
   {
    "duration": 5,
    "start_time": "2021-11-17T10:47:48.961Z"
   },
   {
    "duration": 55,
    "start_time": "2021-11-17T10:48:21.814Z"
   },
   {
    "duration": 8573,
    "start_time": "2021-11-17T10:48:33.944Z"
   },
   {
    "duration": 7848,
    "start_time": "2021-11-17T10:48:53.345Z"
   },
   {
    "duration": 7112,
    "start_time": "2021-11-17T10:49:45.418Z"
   },
   {
    "duration": 7768,
    "start_time": "2021-11-17T10:50:06.584Z"
   },
   {
    "duration": 368,
    "start_time": "2021-11-17T10:50:38.872Z"
   },
   {
    "duration": 296,
    "start_time": "2021-11-17T10:50:49.749Z"
   },
   {
    "duration": 5801,
    "start_time": "2021-11-17T10:50:59.690Z"
   },
   {
    "duration": 7134,
    "start_time": "2021-11-17T10:51:14.425Z"
   },
   {
    "duration": 6,
    "start_time": "2021-11-17T10:51:41.764Z"
   },
   {
    "duration": 6,
    "start_time": "2021-11-17T10:51:47.002Z"
   },
   {
    "duration": 7,
    "start_time": "2021-11-17T10:52:22.658Z"
   },
   {
    "duration": 8,
    "start_time": "2021-11-17T10:52:33.823Z"
   },
   {
    "duration": 292,
    "start_time": "2021-11-17T10:55:34.234Z"
   },
   {
    "duration": 5,
    "start_time": "2021-11-17T10:55:40.648Z"
   },
   {
    "duration": 7,
    "start_time": "2021-11-17T10:56:28.072Z"
   },
   {
    "duration": 289,
    "start_time": "2021-11-17T10:56:53.567Z"
   },
   {
    "duration": 7,
    "start_time": "2021-11-17T10:57:02.957Z"
   },
   {
    "duration": 5,
    "start_time": "2021-11-17T10:57:14.594Z"
   },
   {
    "duration": 6,
    "start_time": "2021-11-17T10:59:21.213Z"
   },
   {
    "duration": 289,
    "start_time": "2021-11-17T10:59:22.270Z"
   },
   {
    "duration": 606,
    "start_time": "2021-11-17T10:59:38.991Z"
   },
   {
    "duration": 6389,
    "start_time": "2021-11-17T11:01:36.414Z"
   },
   {
    "duration": 6015,
    "start_time": "2021-11-17T11:02:02.773Z"
   },
   {
    "duration": 6,
    "start_time": "2021-11-17T11:03:52.046Z"
   },
   {
    "duration": 7443,
    "start_time": "2021-11-17T11:03:55.574Z"
   },
   {
    "duration": 298,
    "start_time": "2021-11-17T11:04:24.109Z"
   },
   {
    "duration": 7987,
    "start_time": "2021-11-17T11:04:33.406Z"
   },
   {
    "duration": 319,
    "start_time": "2021-11-17T11:10:02.286Z"
   },
   {
    "duration": 7254,
    "start_time": "2021-11-17T11:10:45.152Z"
   },
   {
    "duration": 40,
    "start_time": "2021-11-17T11:12:21.673Z"
   },
   {
    "duration": 6,
    "start_time": "2021-11-17T11:12:41.357Z"
   },
   {
    "duration": 29,
    "start_time": "2021-11-17T11:12:42.519Z"
   },
   {
    "duration": 7,
    "start_time": "2021-11-17T11:12:50.561Z"
   },
   {
    "duration": 7,
    "start_time": "2021-11-17T11:15:07.629Z"
   },
   {
    "duration": 129,
    "start_time": "2021-11-17T11:15:08.767Z"
   },
   {
    "duration": 16,
    "start_time": "2021-11-17T11:15:10.313Z"
   },
   {
    "duration": 94,
    "start_time": "2021-11-17T11:17:03.852Z"
   },
   {
    "duration": 7,
    "start_time": "2021-11-17T11:17:08.851Z"
   },
   {
    "duration": 136,
    "start_time": "2021-11-17T11:17:10.239Z"
   },
   {
    "duration": 42,
    "start_time": "2021-11-17T11:17:11.219Z"
   },
   {
    "duration": 25,
    "start_time": "2021-11-17T11:17:19.281Z"
   },
   {
    "duration": 7,
    "start_time": "2021-11-17T11:17:34.556Z"
   },
   {
    "duration": 128,
    "start_time": "2021-11-17T11:17:35.788Z"
   },
   {
    "duration": 23,
    "start_time": "2021-11-17T11:17:39.894Z"
   },
   {
    "duration": 13,
    "start_time": "2021-11-17T11:17:56.494Z"
   },
   {
    "duration": 313,
    "start_time": "2021-11-17T11:18:56.211Z"
   },
   {
    "duration": 334,
    "start_time": "2021-11-17T11:19:00.837Z"
   },
   {
    "duration": 935,
    "start_time": "2021-11-17T11:19:33.558Z"
   },
   {
    "duration": 540,
    "start_time": "2021-11-17T11:19:34.496Z"
   },
   {
    "duration": 3,
    "start_time": "2021-11-17T11:19:35.039Z"
   },
   {
    "duration": 34,
    "start_time": "2021-11-17T11:19:35.045Z"
   },
   {
    "duration": 20,
    "start_time": "2021-11-17T11:19:35.082Z"
   },
   {
    "duration": 41,
    "start_time": "2021-11-17T11:19:35.104Z"
   },
   {
    "duration": 10,
    "start_time": "2021-11-17T11:19:35.147Z"
   },
   {
    "duration": 23,
    "start_time": "2021-11-17T11:19:35.160Z"
   },
   {
    "duration": 83,
    "start_time": "2021-11-17T11:19:35.186Z"
   },
   {
    "duration": 17,
    "start_time": "2021-11-17T11:19:35.272Z"
   },
   {
    "duration": 22,
    "start_time": "2021-11-17T11:19:35.291Z"
   },
   {
    "duration": 25,
    "start_time": "2021-11-17T11:19:35.316Z"
   },
   {
    "duration": 15,
    "start_time": "2021-11-17T11:19:35.344Z"
   },
   {
    "duration": 21,
    "start_time": "2021-11-17T11:19:35.362Z"
   },
   {
    "duration": 17,
    "start_time": "2021-11-17T11:19:35.386Z"
   },
   {
    "duration": 28,
    "start_time": "2021-11-17T11:19:35.405Z"
   },
   {
    "duration": 22,
    "start_time": "2021-11-17T11:19:35.435Z"
   },
   {
    "duration": 24,
    "start_time": "2021-11-17T11:19:35.460Z"
   },
   {
    "duration": 12,
    "start_time": "2021-11-17T11:19:35.486Z"
   },
   {
    "duration": 12,
    "start_time": "2021-11-17T11:19:35.500Z"
   },
   {
    "duration": 9,
    "start_time": "2021-11-17T11:19:35.515Z"
   },
   {
    "duration": 10,
    "start_time": "2021-11-17T11:19:35.526Z"
   },
   {
    "duration": 10,
    "start_time": "2021-11-17T11:19:35.542Z"
   },
   {
    "duration": 47,
    "start_time": "2021-11-17T11:19:35.556Z"
   },
   {
    "duration": 38,
    "start_time": "2021-11-17T11:19:35.606Z"
   },
   {
    "duration": 36,
    "start_time": "2021-11-17T11:19:35.647Z"
   },
   {
    "duration": 7,
    "start_time": "2021-11-17T11:19:35.685Z"
   },
   {
    "duration": 44,
    "start_time": "2021-11-17T11:19:35.694Z"
   },
   {
    "duration": 17,
    "start_time": "2021-11-17T11:19:35.740Z"
   },
   {
    "duration": 455,
    "start_time": "2021-11-17T11:19:35.760Z"
   },
   {
    "duration": 408,
    "start_time": "2021-11-17T11:19:36.218Z"
   },
   {
    "duration": 8,
    "start_time": "2021-11-17T11:19:36.629Z"
   },
   {
    "duration": 8,
    "start_time": "2021-11-17T11:19:36.640Z"
   },
   {
    "duration": 16,
    "start_time": "2021-11-17T11:19:36.650Z"
   },
   {
    "duration": 16,
    "start_time": "2021-11-17T11:19:36.668Z"
   },
   {
    "duration": 12,
    "start_time": "2021-11-17T11:19:36.686Z"
   },
   {
    "duration": 11,
    "start_time": "2021-11-17T11:19:36.730Z"
   },
   {
    "duration": 531,
    "start_time": "2021-11-17T11:19:36.743Z"
   },
   {
    "duration": 13,
    "start_time": "2021-11-17T11:19:37.276Z"
   },
   {
    "duration": 15,
    "start_time": "2021-11-17T11:19:37.291Z"
   },
   {
    "duration": 21,
    "start_time": "2021-11-17T11:19:37.309Z"
   },
   {
    "duration": 50,
    "start_time": "2021-11-17T11:19:37.334Z"
   },
   {
    "duration": 31,
    "start_time": "2021-11-17T11:19:37.387Z"
   },
   {
    "duration": 104,
    "start_time": "2021-11-17T11:19:37.421Z"
   },
   {
    "duration": 469,
    "start_time": "2021-11-17T11:19:37.527Z"
   },
   {
    "duration": 32,
    "start_time": "2021-11-17T11:19:37.998Z"
   },
   {
    "duration": 6,
    "start_time": "2021-11-17T11:19:38.033Z"
   },
   {
    "duration": 37,
    "start_time": "2021-11-17T11:19:38.041Z"
   },
   {
    "duration": 14,
    "start_time": "2021-11-17T11:19:38.081Z"
   },
   {
    "duration": 37,
    "start_time": "2021-11-17T11:19:38.098Z"
   },
   {
    "duration": 46,
    "start_time": "2021-11-17T11:19:38.137Z"
   },
   {
    "duration": 11,
    "start_time": "2021-11-17T11:19:38.186Z"
   },
   {
    "duration": 32,
    "start_time": "2021-11-17T11:19:38.199Z"
   },
   {
    "duration": 20,
    "start_time": "2021-11-17T11:19:38.233Z"
   },
   {
    "duration": 13,
    "start_time": "2021-11-17T11:19:38.256Z"
   },
   {
    "duration": 16,
    "start_time": "2021-11-17T11:19:38.271Z"
   },
   {
    "duration": 74,
    "start_time": "2021-11-17T11:19:38.289Z"
   },
   {
    "duration": 440,
    "start_time": "2021-11-17T11:19:38.365Z"
   },
   {
    "duration": 24,
    "start_time": "2021-11-17T11:19:38.808Z"
   },
   {
    "duration": 22,
    "start_time": "2021-11-17T11:19:38.834Z"
   },
   {
    "duration": 444,
    "start_time": "2021-11-17T11:19:38.858Z"
   },
   {
    "duration": 32,
    "start_time": "2021-11-17T11:19:39.306Z"
   },
   {
    "duration": 17,
    "start_time": "2021-11-17T11:19:39.341Z"
   },
   {
    "duration": 10,
    "start_time": "2021-11-17T11:19:39.360Z"
   },
   {
    "duration": 7,
    "start_time": "2021-11-17T11:19:39.372Z"
   },
   {
    "duration": 62,
    "start_time": "2021-11-17T11:19:39.382Z"
   },
   {
    "duration": 42,
    "start_time": "2021-11-17T11:19:39.446Z"
   },
   {
    "duration": 34,
    "start_time": "2021-11-17T11:19:39.496Z"
   },
   {
    "duration": 5,
    "start_time": "2021-11-17T11:19:39.534Z"
   },
   {
    "duration": 28,
    "start_time": "2021-11-17T11:19:39.541Z"
   },
   {
    "duration": 90,
    "start_time": "2021-11-17T11:19:39.572Z"
   },
   {
    "duration": 6,
    "start_time": "2021-11-17T11:19:39.664Z"
   },
   {
    "duration": 22,
    "start_time": "2021-11-17T11:19:39.673Z"
   },
   {
    "duration": 26,
    "start_time": "2021-11-17T11:19:39.698Z"
   },
   {
    "duration": 36,
    "start_time": "2021-11-17T11:19:39.726Z"
   },
   {
    "duration": 103,
    "start_time": "2021-11-17T11:19:39.765Z"
   },
   {
    "duration": 20,
    "start_time": "2021-11-17T11:19:39.871Z"
   },
   {
    "duration": 15,
    "start_time": "2021-11-17T11:19:39.893Z"
   },
   {
    "duration": 4,
    "start_time": "2021-11-17T11:19:39.931Z"
   },
   {
    "duration": 41,
    "start_time": "2021-11-17T11:19:39.937Z"
   },
   {
    "duration": 16,
    "start_time": "2021-11-17T11:19:39.980Z"
   },
   {
    "duration": 149,
    "start_time": "2021-11-17T11:19:39.998Z"
   },
   {
    "duration": 13,
    "start_time": "2021-11-17T11:19:40.149Z"
   },
   {
    "duration": 459,
    "start_time": "2021-11-17T11:19:40.164Z"
   },
   {
    "duration": -459,
    "start_time": "2021-11-17T11:19:41.085Z"
   },
   {
    "duration": -462,
    "start_time": "2021-11-17T11:19:41.089Z"
   },
   {
    "duration": -464,
    "start_time": "2021-11-17T11:19:41.093Z"
   },
   {
    "duration": -469,
    "start_time": "2021-11-17T11:19:41.100Z"
   },
   {
    "duration": -473,
    "start_time": "2021-11-17T11:19:41.105Z"
   },
   {
    "duration": -476,
    "start_time": "2021-11-17T11:19:41.110Z"
   },
   {
    "duration": -481,
    "start_time": "2021-11-17T11:19:41.116Z"
   },
   {
    "duration": -484,
    "start_time": "2021-11-17T11:19:41.121Z"
   },
   {
    "duration": -488,
    "start_time": "2021-11-17T11:19:41.126Z"
   },
   {
    "duration": 311,
    "start_time": "2021-11-17T11:20:39.859Z"
   },
   {
    "duration": 26,
    "start_time": "2021-11-17T11:20:52.689Z"
   },
   {
    "duration": 7,
    "start_time": "2021-11-17T11:20:55.037Z"
   },
   {
    "duration": 132,
    "start_time": "2021-11-17T11:20:56.862Z"
   },
   {
    "duration": 13,
    "start_time": "2021-11-17T11:20:58.079Z"
   },
   {
    "duration": 304,
    "start_time": "2021-11-17T11:21:03.094Z"
   },
   {
    "duration": 6,
    "start_time": "2021-11-17T11:22:32.476Z"
   },
   {
    "duration": 910,
    "start_time": "2021-11-17T11:22:38.136Z"
   },
   {
    "duration": 523,
    "start_time": "2021-11-17T11:22:39.048Z"
   },
   {
    "duration": 3,
    "start_time": "2021-11-17T11:22:39.575Z"
   },
   {
    "duration": 49,
    "start_time": "2021-11-17T11:22:39.582Z"
   },
   {
    "duration": 21,
    "start_time": "2021-11-17T11:22:39.635Z"
   },
   {
    "duration": 25,
    "start_time": "2021-11-17T11:22:39.659Z"
   },
   {
    "duration": 42,
    "start_time": "2021-11-17T11:22:39.687Z"
   },
   {
    "duration": 11,
    "start_time": "2021-11-17T11:22:39.735Z"
   },
   {
    "duration": 80,
    "start_time": "2021-11-17T11:22:39.749Z"
   },
   {
    "duration": 16,
    "start_time": "2021-11-17T11:22:39.832Z"
   },
   {
    "duration": 10,
    "start_time": "2021-11-17T11:22:39.851Z"
   },
   {
    "duration": 17,
    "start_time": "2021-11-17T11:22:39.863Z"
   },
   {
    "duration": 13,
    "start_time": "2021-11-17T11:22:39.882Z"
   },
   {
    "duration": 14,
    "start_time": "2021-11-17T11:22:39.930Z"
   },
   {
    "duration": 16,
    "start_time": "2021-11-17T11:22:39.946Z"
   },
   {
    "duration": 5,
    "start_time": "2021-11-17T11:22:39.965Z"
   },
   {
    "duration": 8,
    "start_time": "2021-11-17T11:22:39.972Z"
   },
   {
    "duration": 7,
    "start_time": "2021-11-17T11:22:39.982Z"
   },
   {
    "duration": 6,
    "start_time": "2021-11-17T11:22:39.992Z"
   },
   {
    "duration": 3,
    "start_time": "2021-11-17T11:22:40.030Z"
   },
   {
    "duration": 11,
    "start_time": "2021-11-17T11:22:40.035Z"
   },
   {
    "duration": 11,
    "start_time": "2021-11-17T11:22:40.048Z"
   },
   {
    "duration": 11,
    "start_time": "2021-11-17T11:22:40.065Z"
   },
   {
    "duration": 64,
    "start_time": "2021-11-17T11:22:40.080Z"
   },
   {
    "duration": 26,
    "start_time": "2021-11-17T11:22:40.146Z"
   },
   {
    "duration": 34,
    "start_time": "2021-11-17T11:22:40.174Z"
   },
   {
    "duration": 6,
    "start_time": "2021-11-17T11:22:40.230Z"
   },
   {
    "duration": 18,
    "start_time": "2021-11-17T11:22:40.238Z"
   },
   {
    "duration": 10,
    "start_time": "2021-11-17T11:22:40.259Z"
   },
   {
    "duration": 427,
    "start_time": "2021-11-17T11:22:40.272Z"
   },
   {
    "duration": 401,
    "start_time": "2021-11-17T11:22:40.701Z"
   },
   {
    "duration": 8,
    "start_time": "2021-11-17T11:22:41.104Z"
   },
   {
    "duration": 25,
    "start_time": "2021-11-17T11:22:41.114Z"
   },
   {
    "duration": 13,
    "start_time": "2021-11-17T11:22:41.141Z"
   },
   {
    "duration": 9,
    "start_time": "2021-11-17T11:22:41.157Z"
   },
   {
    "duration": 12,
    "start_time": "2021-11-17T11:22:41.169Z"
   },
   {
    "duration": 12,
    "start_time": "2021-11-17T11:22:41.183Z"
   },
   {
    "duration": 437,
    "start_time": "2021-11-17T11:22:41.231Z"
   },
   {
    "duration": 13,
    "start_time": "2021-11-17T11:22:41.671Z"
   },
   {
    "duration": 9,
    "start_time": "2021-11-17T11:22:41.687Z"
   },
   {
    "duration": 30,
    "start_time": "2021-11-17T11:22:41.699Z"
   },
   {
    "duration": 16,
    "start_time": "2021-11-17T11:22:41.732Z"
   },
   {
    "duration": 24,
    "start_time": "2021-11-17T11:22:41.751Z"
   },
   {
    "duration": 105,
    "start_time": "2021-11-17T11:22:41.777Z"
   },
   {
    "duration": 453,
    "start_time": "2021-11-17T11:22:41.884Z"
   },
   {
    "duration": 20,
    "start_time": "2021-11-17T11:22:42.339Z"
   },
   {
    "duration": 7,
    "start_time": "2021-11-17T11:22:42.362Z"
   },
   {
    "duration": 57,
    "start_time": "2021-11-17T11:22:42.371Z"
   },
   {
    "duration": 15,
    "start_time": "2021-11-17T11:22:42.430Z"
   },
   {
    "duration": 12,
    "start_time": "2021-11-17T11:22:42.447Z"
   },
   {
    "duration": 71,
    "start_time": "2021-11-17T11:22:42.462Z"
   },
   {
    "duration": 13,
    "start_time": "2021-11-17T11:22:42.536Z"
   },
   {
    "duration": 7,
    "start_time": "2021-11-17T11:22:42.552Z"
   },
   {
    "duration": 22,
    "start_time": "2021-11-17T11:22:42.561Z"
   },
   {
    "duration": 57,
    "start_time": "2021-11-17T11:22:42.585Z"
   },
   {
    "duration": 12,
    "start_time": "2021-11-17T11:22:42.645Z"
   },
   {
    "duration": 41,
    "start_time": "2021-11-17T11:22:42.659Z"
   },
   {
    "duration": 413,
    "start_time": "2021-11-17T11:22:42.730Z"
   },
   {
    "duration": 10,
    "start_time": "2021-11-17T11:22:43.146Z"
   },
   {
    "duration": 23,
    "start_time": "2021-11-17T11:22:43.159Z"
   },
   {
    "duration": 439,
    "start_time": "2021-11-17T11:22:43.184Z"
   },
   {
    "duration": 17,
    "start_time": "2021-11-17T11:22:43.625Z"
   },
   {
    "duration": 13,
    "start_time": "2021-11-17T11:22:43.644Z"
   },
   {
    "duration": 22,
    "start_time": "2021-11-17T11:22:43.659Z"
   },
   {
    "duration": 7,
    "start_time": "2021-11-17T11:22:43.683Z"
   },
   {
    "duration": 49,
    "start_time": "2021-11-17T11:22:43.692Z"
   },
   {
    "duration": 34,
    "start_time": "2021-11-17T11:22:43.744Z"
   },
   {
    "duration": 11,
    "start_time": "2021-11-17T11:22:43.788Z"
   },
   {
    "duration": 34,
    "start_time": "2021-11-17T11:22:43.802Z"
   },
   {
    "duration": 29,
    "start_time": "2021-11-17T11:22:43.838Z"
   },
   {
    "duration": 98,
    "start_time": "2021-11-17T11:22:43.869Z"
   },
   {
    "duration": 6,
    "start_time": "2021-11-17T11:22:43.969Z"
   },
   {
    "duration": 13,
    "start_time": "2021-11-17T11:22:43.977Z"
   },
   {
    "duration": 8,
    "start_time": "2021-11-17T11:22:43.992Z"
   },
   {
    "duration": 41,
    "start_time": "2021-11-17T11:22:44.002Z"
   },
   {
    "duration": 8,
    "start_time": "2021-11-17T11:22:44.045Z"
   },
   {
    "duration": 5941,
    "start_time": "2021-11-17T11:22:44.056Z"
   },
   {
    "duration": 15,
    "start_time": "2021-11-17T11:22:49.999Z"
   },
   {
    "duration": 106,
    "start_time": "2021-11-17T11:22:50.029Z"
   },
   {
    "duration": 20,
    "start_time": "2021-11-17T11:22:50.137Z"
   },
   {
    "duration": 17,
    "start_time": "2021-11-17T11:22:50.160Z"
   },
   {
    "duration": 17,
    "start_time": "2021-11-17T11:22:50.179Z"
   },
   {
    "duration": 61,
    "start_time": "2021-11-17T11:22:50.199Z"
   },
   {
    "duration": 9,
    "start_time": "2021-11-17T11:22:50.263Z"
   },
   {
    "duration": 155,
    "start_time": "2021-11-17T11:22:50.274Z"
   },
   {
    "duration": 12,
    "start_time": "2021-11-17T11:22:50.431Z"
   },
   {
    "duration": 409,
    "start_time": "2021-11-17T11:22:50.445Z"
   },
   {
    "duration": -464,
    "start_time": "2021-11-17T11:22:51.320Z"
   },
   {
    "duration": -467,
    "start_time": "2021-11-17T11:22:51.325Z"
   },
   {
    "duration": -472,
    "start_time": "2021-11-17T11:22:51.331Z"
   },
   {
    "duration": -475,
    "start_time": "2021-11-17T11:22:51.336Z"
   },
   {
    "duration": -479,
    "start_time": "2021-11-17T11:22:51.341Z"
   },
   {
    "duration": -483,
    "start_time": "2021-11-17T11:22:51.346Z"
   },
   {
    "duration": -488,
    "start_time": "2021-11-17T11:22:51.353Z"
   },
   {
    "duration": -492,
    "start_time": "2021-11-17T11:22:51.358Z"
   },
   {
    "duration": -497,
    "start_time": "2021-11-17T11:22:51.364Z"
   },
   {
    "duration": 5924,
    "start_time": "2021-11-17T11:23:19.900Z"
   },
   {
    "duration": 10,
    "start_time": "2021-11-17T11:24:07.819Z"
   },
   {
    "duration": 297,
    "start_time": "2021-11-17T11:24:38.376Z"
   },
   {
    "duration": 6,
    "start_time": "2021-11-17T11:25:03.670Z"
   },
   {
    "duration": 303,
    "start_time": "2021-11-17T11:25:54.917Z"
   },
   {
    "duration": 6207,
    "start_time": "2021-11-17T11:26:00.304Z"
   },
   {
    "duration": 6,
    "start_time": "2021-11-17T11:26:08.332Z"
   },
   {
    "duration": 938,
    "start_time": "2021-11-17T11:26:23.422Z"
   },
   {
    "duration": 528,
    "start_time": "2021-11-17T11:26:24.362Z"
   },
   {
    "duration": 3,
    "start_time": "2021-11-17T11:26:24.893Z"
   },
   {
    "duration": 44,
    "start_time": "2021-11-17T11:26:24.899Z"
   },
   {
    "duration": 23,
    "start_time": "2021-11-17T11:26:24.946Z"
   },
   {
    "duration": 48,
    "start_time": "2021-11-17T11:26:24.971Z"
   },
   {
    "duration": 9,
    "start_time": "2021-11-17T11:26:25.021Z"
   },
   {
    "duration": 46,
    "start_time": "2021-11-17T11:26:25.035Z"
   },
   {
    "duration": 78,
    "start_time": "2021-11-17T11:26:25.085Z"
   },
   {
    "duration": 15,
    "start_time": "2021-11-17T11:26:25.165Z"
   },
   {
    "duration": 34,
    "start_time": "2021-11-17T11:26:25.182Z"
   },
   {
    "duration": 24,
    "start_time": "2021-11-17T11:26:25.218Z"
   },
   {
    "duration": 29,
    "start_time": "2021-11-17T11:26:25.245Z"
   },
   {
    "duration": 36,
    "start_time": "2021-11-17T11:26:25.276Z"
   },
   {
    "duration": 24,
    "start_time": "2021-11-17T11:26:25.314Z"
   },
   {
    "duration": 21,
    "start_time": "2021-11-17T11:26:25.340Z"
   },
   {
    "duration": 27,
    "start_time": "2021-11-17T11:26:25.363Z"
   },
   {
    "duration": 27,
    "start_time": "2021-11-17T11:26:25.392Z"
   },
   {
    "duration": 21,
    "start_time": "2021-11-17T11:26:25.422Z"
   },
   {
    "duration": 25,
    "start_time": "2021-11-17T11:26:25.445Z"
   },
   {
    "duration": 16,
    "start_time": "2021-11-17T11:26:25.473Z"
   },
   {
    "duration": 16,
    "start_time": "2021-11-17T11:26:25.491Z"
   },
   {
    "duration": 15,
    "start_time": "2021-11-17T11:26:25.513Z"
   },
   {
    "duration": 49,
    "start_time": "2021-11-17T11:26:25.531Z"
   },
   {
    "duration": 25,
    "start_time": "2021-11-17T11:26:25.582Z"
   },
   {
    "duration": 51,
    "start_time": "2021-11-17T11:26:25.610Z"
   },
   {
    "duration": 10,
    "start_time": "2021-11-17T11:26:25.663Z"
   },
   {
    "duration": 27,
    "start_time": "2021-11-17T11:26:25.675Z"
   },
   {
    "duration": 23,
    "start_time": "2021-11-17T11:26:25.704Z"
   },
   {
    "duration": 506,
    "start_time": "2021-11-17T11:26:25.729Z"
   },
   {
    "duration": 395,
    "start_time": "2021-11-17T11:26:26.238Z"
   },
   {
    "duration": 7,
    "start_time": "2021-11-17T11:26:26.635Z"
   },
   {
    "duration": 16,
    "start_time": "2021-11-17T11:26:26.644Z"
   },
   {
    "duration": 19,
    "start_time": "2021-11-17T11:26:26.662Z"
   },
   {
    "duration": 13,
    "start_time": "2021-11-17T11:26:26.684Z"
   },
   {
    "duration": 31,
    "start_time": "2021-11-17T11:26:26.699Z"
   },
   {
    "duration": 10,
    "start_time": "2021-11-17T11:26:26.732Z"
   },
   {
    "duration": 519,
    "start_time": "2021-11-17T11:26:26.744Z"
   },
   {
    "duration": 12,
    "start_time": "2021-11-17T11:26:27.266Z"
   },
   {
    "duration": 29,
    "start_time": "2021-11-17T11:26:27.280Z"
   },
   {
    "duration": 36,
    "start_time": "2021-11-17T11:26:27.311Z"
   },
   {
    "duration": 40,
    "start_time": "2021-11-17T11:26:27.350Z"
   },
   {
    "duration": 31,
    "start_time": "2021-11-17T11:26:27.392Z"
   },
   {
    "duration": 114,
    "start_time": "2021-11-17T11:26:27.426Z"
   },
   {
    "duration": 444,
    "start_time": "2021-11-17T11:26:27.542Z"
   },
   {
    "duration": 20,
    "start_time": "2021-11-17T11:26:27.989Z"
   },
   {
    "duration": 24,
    "start_time": "2021-11-17T11:26:28.011Z"
   },
   {
    "duration": 55,
    "start_time": "2021-11-17T11:26:28.038Z"
   },
   {
    "duration": 15,
    "start_time": "2021-11-17T11:26:28.095Z"
   },
   {
    "duration": 25,
    "start_time": "2021-11-17T11:26:28.113Z"
   },
   {
    "duration": 67,
    "start_time": "2021-11-17T11:26:28.141Z"
   },
   {
    "duration": 19,
    "start_time": "2021-11-17T11:26:28.211Z"
   },
   {
    "duration": 30,
    "start_time": "2021-11-17T11:26:28.232Z"
   },
   {
    "duration": 36,
    "start_time": "2021-11-17T11:26:28.264Z"
   },
   {
    "duration": 24,
    "start_time": "2021-11-17T11:26:28.302Z"
   },
   {
    "duration": 28,
    "start_time": "2021-11-17T11:26:28.328Z"
   },
   {
    "duration": 54,
    "start_time": "2021-11-17T11:26:28.359Z"
   },
   {
    "duration": 389,
    "start_time": "2021-11-17T11:26:28.416Z"
   },
   {
    "duration": 10,
    "start_time": "2021-11-17T11:26:28.808Z"
   },
   {
    "duration": 40,
    "start_time": "2021-11-17T11:26:28.829Z"
   },
   {
    "duration": 429,
    "start_time": "2021-11-17T11:26:28.871Z"
   },
   {
    "duration": 16,
    "start_time": "2021-11-17T11:26:29.302Z"
   },
   {
    "duration": 20,
    "start_time": "2021-11-17T11:26:29.329Z"
   },
   {
    "duration": 18,
    "start_time": "2021-11-17T11:26:29.351Z"
   },
   {
    "duration": 36,
    "start_time": "2021-11-17T11:26:29.372Z"
   },
   {
    "duration": 40,
    "start_time": "2021-11-17T11:26:29.410Z"
   },
   {
    "duration": 31,
    "start_time": "2021-11-17T11:26:29.452Z"
   },
   {
    "duration": 21,
    "start_time": "2021-11-17T11:26:29.491Z"
   },
   {
    "duration": 21,
    "start_time": "2021-11-17T11:26:29.515Z"
   },
   {
    "duration": 26,
    "start_time": "2021-11-17T11:26:29.538Z"
   },
   {
    "duration": 88,
    "start_time": "2021-11-17T11:26:29.566Z"
   },
   {
    "duration": 5,
    "start_time": "2021-11-17T11:26:29.657Z"
   },
   {
    "duration": 20,
    "start_time": "2021-11-17T11:26:29.664Z"
   },
   {
    "duration": 28,
    "start_time": "2021-11-17T11:26:29.686Z"
   },
   {
    "duration": 35,
    "start_time": "2021-11-17T11:26:29.717Z"
   },
   {
    "duration": 24,
    "start_time": "2021-11-17T11:26:29.755Z"
   },
   {
    "duration": 5772,
    "start_time": "2021-11-17T11:26:29.781Z"
   },
   {
    "duration": 5,
    "start_time": "2021-11-17T11:26:35.555Z"
   },
   {
    "duration": 104,
    "start_time": "2021-11-17T11:26:35.562Z"
   },
   {
    "duration": 18,
    "start_time": "2021-11-17T11:26:35.668Z"
   },
   {
    "duration": 36,
    "start_time": "2021-11-17T11:26:35.688Z"
   },
   {
    "duration": 25,
    "start_time": "2021-11-17T11:26:35.726Z"
   },
   {
    "duration": 37,
    "start_time": "2021-11-17T11:26:35.754Z"
   },
   {
    "duration": 6,
    "start_time": "2021-11-17T11:26:35.794Z"
   },
   {
    "duration": 181,
    "start_time": "2021-11-17T11:26:35.802Z"
   },
   {
    "duration": 15,
    "start_time": "2021-11-17T11:26:35.986Z"
   },
   {
    "duration": 430,
    "start_time": "2021-11-17T11:26:36.004Z"
   },
   {
    "duration": -417,
    "start_time": "2021-11-17T11:26:36.853Z"
   },
   {
    "duration": -454,
    "start_time": "2021-11-17T11:26:36.891Z"
   },
   {
    "duration": -459,
    "start_time": "2021-11-17T11:26:36.898Z"
   },
   {
    "duration": -463,
    "start_time": "2021-11-17T11:26:36.903Z"
   },
   {
    "duration": -468,
    "start_time": "2021-11-17T11:26:36.909Z"
   },
   {
    "duration": -472,
    "start_time": "2021-11-17T11:26:36.914Z"
   },
   {
    "duration": -476,
    "start_time": "2021-11-17T11:26:36.920Z"
   },
   {
    "duration": -480,
    "start_time": "2021-11-17T11:26:36.925Z"
   },
   {
    "duration": -486,
    "start_time": "2021-11-17T11:26:36.932Z"
   },
   {
    "duration": 897,
    "start_time": "2021-11-17T11:27:10.950Z"
   },
   {
    "duration": 560,
    "start_time": "2021-11-17T11:27:11.853Z"
   },
   {
    "duration": 3,
    "start_time": "2021-11-17T11:27:12.416Z"
   },
   {
    "duration": 33,
    "start_time": "2021-11-17T11:27:12.421Z"
   },
   {
    "duration": 20,
    "start_time": "2021-11-17T11:27:12.456Z"
   },
   {
    "duration": 22,
    "start_time": "2021-11-17T11:27:12.479Z"
   },
   {
    "duration": 31,
    "start_time": "2021-11-17T11:27:12.505Z"
   },
   {
    "duration": 19,
    "start_time": "2021-11-17T11:27:12.539Z"
   },
   {
    "duration": 76,
    "start_time": "2021-11-17T11:27:12.560Z"
   },
   {
    "duration": 16,
    "start_time": "2021-11-17T11:27:12.638Z"
   },
   {
    "duration": 16,
    "start_time": "2021-11-17T11:27:12.657Z"
   },
   {
    "duration": 15,
    "start_time": "2021-11-17T11:27:12.676Z"
   },
   {
    "duration": 43,
    "start_time": "2021-11-17T11:27:12.693Z"
   },
   {
    "duration": 17,
    "start_time": "2021-11-17T11:27:12.738Z"
   },
   {
    "duration": 20,
    "start_time": "2021-11-17T11:27:12.758Z"
   },
   {
    "duration": 11,
    "start_time": "2021-11-17T11:27:12.781Z"
   },
   {
    "duration": 8,
    "start_time": "2021-11-17T11:27:12.794Z"
   },
   {
    "duration": 25,
    "start_time": "2021-11-17T11:27:12.804Z"
   },
   {
    "duration": 6,
    "start_time": "2021-11-17T11:27:12.832Z"
   },
   {
    "duration": 5,
    "start_time": "2021-11-17T11:27:12.841Z"
   },
   {
    "duration": 22,
    "start_time": "2021-11-17T11:27:12.849Z"
   },
   {
    "duration": 6,
    "start_time": "2021-11-17T11:27:12.878Z"
   },
   {
    "duration": 10,
    "start_time": "2021-11-17T11:27:12.888Z"
   },
   {
    "duration": 74,
    "start_time": "2021-11-17T11:27:12.901Z"
   },
   {
    "duration": 25,
    "start_time": "2021-11-17T11:27:12.977Z"
   },
   {
    "duration": 51,
    "start_time": "2021-11-17T11:27:13.005Z"
   },
   {
    "duration": 7,
    "start_time": "2021-11-17T11:27:13.058Z"
   },
   {
    "duration": 35,
    "start_time": "2021-11-17T11:27:13.067Z"
   },
   {
    "duration": 15,
    "start_time": "2021-11-17T11:27:13.104Z"
   },
   {
    "duration": 411,
    "start_time": "2021-11-17T11:27:13.121Z"
   },
   {
    "duration": 406,
    "start_time": "2021-11-17T11:27:13.534Z"
   },
   {
    "duration": 9,
    "start_time": "2021-11-17T11:27:13.942Z"
   },
   {
    "duration": 12,
    "start_time": "2021-11-17T11:27:13.953Z"
   },
   {
    "duration": 10,
    "start_time": "2021-11-17T11:27:13.968Z"
   },
   {
    "duration": 10,
    "start_time": "2021-11-17T11:27:13.981Z"
   },
   {
    "duration": 10,
    "start_time": "2021-11-17T11:27:14.030Z"
   },
   {
    "duration": 13,
    "start_time": "2021-11-17T11:27:14.043Z"
   },
   {
    "duration": 460,
    "start_time": "2021-11-17T11:27:14.059Z"
   },
   {
    "duration": 16,
    "start_time": "2021-11-17T11:27:14.521Z"
   },
   {
    "duration": 8,
    "start_time": "2021-11-17T11:27:14.539Z"
   },
   {
    "duration": 11,
    "start_time": "2021-11-17T11:27:14.550Z"
   },
   {
    "duration": 16,
    "start_time": "2021-11-17T11:27:14.563Z"
   },
   {
    "duration": 15,
    "start_time": "2021-11-17T11:27:14.581Z"
   },
   {
    "duration": 132,
    "start_time": "2021-11-17T11:27:14.598Z"
   },
   {
    "duration": 483,
    "start_time": "2021-11-17T11:27:14.733Z"
   },
   {
    "duration": 20,
    "start_time": "2021-11-17T11:27:15.218Z"
   },
   {
    "duration": 7,
    "start_time": "2021-11-17T11:27:15.241Z"
   },
   {
    "duration": 30,
    "start_time": "2021-11-17T11:27:15.251Z"
   },
   {
    "duration": 47,
    "start_time": "2021-11-17T11:27:15.284Z"
   },
   {
    "duration": 10,
    "start_time": "2021-11-17T11:27:15.333Z"
   },
   {
    "duration": 43,
    "start_time": "2021-11-17T11:27:15.346Z"
   },
   {
    "duration": 44,
    "start_time": "2021-11-17T11:27:15.391Z"
   },
   {
    "duration": 6,
    "start_time": "2021-11-17T11:27:15.437Z"
   },
   {
    "duration": 23,
    "start_time": "2021-11-17T11:27:15.445Z"
   },
   {
    "duration": 14,
    "start_time": "2021-11-17T11:27:15.471Z"
   },
   {
    "duration": 53,
    "start_time": "2021-11-17T11:27:15.488Z"
   },
   {
    "duration": 39,
    "start_time": "2021-11-17T11:27:15.543Z"
   },
   {
    "duration": 440,
    "start_time": "2021-11-17T11:27:15.584Z"
   },
   {
    "duration": 14,
    "start_time": "2021-11-17T11:27:16.027Z"
   },
   {
    "duration": 23,
    "start_time": "2021-11-17T11:27:16.044Z"
   },
   {
    "duration": 469,
    "start_time": "2021-11-17T11:27:16.069Z"
   },
   {
    "duration": 18,
    "start_time": "2021-11-17T11:27:16.541Z"
   },
   {
    "duration": 17,
    "start_time": "2021-11-17T11:27:16.562Z"
   },
   {
    "duration": 49,
    "start_time": "2021-11-17T11:27:16.582Z"
   },
   {
    "duration": 10,
    "start_time": "2021-11-17T11:27:16.634Z"
   },
   {
    "duration": 23,
    "start_time": "2021-11-17T11:27:16.646Z"
   },
   {
    "duration": 58,
    "start_time": "2021-11-17T11:27:16.677Z"
   },
   {
    "duration": 13,
    "start_time": "2021-11-17T11:27:16.739Z"
   },
   {
    "duration": 7,
    "start_time": "2021-11-17T11:27:16.756Z"
   },
   {
    "duration": 15,
    "start_time": "2021-11-17T11:27:16.766Z"
   },
   {
    "duration": 108,
    "start_time": "2021-11-17T11:27:16.784Z"
   },
   {
    "duration": 5,
    "start_time": "2021-11-17T11:27:16.895Z"
   },
   {
    "duration": 26,
    "start_time": "2021-11-17T11:27:16.903Z"
   },
   {
    "duration": 10,
    "start_time": "2021-11-17T11:27:16.932Z"
   },
   {
    "duration": 25,
    "start_time": "2021-11-17T11:27:16.944Z"
   },
   {
    "duration": 6,
    "start_time": "2021-11-17T11:27:16.972Z"
   },
   {
    "duration": 794,
    "start_time": "2021-11-17T11:27:16.981Z"
   },
   {
    "duration": -452,
    "start_time": "2021-11-17T11:27:18.229Z"
   },
   {
    "duration": -458,
    "start_time": "2021-11-17T11:27:18.237Z"
   },
   {
    "duration": -463,
    "start_time": "2021-11-17T11:27:18.243Z"
   },
   {
    "duration": -468,
    "start_time": "2021-11-17T11:27:18.250Z"
   },
   {
    "duration": -472,
    "start_time": "2021-11-17T11:27:18.255Z"
   },
   {
    "duration": -475,
    "start_time": "2021-11-17T11:27:18.260Z"
   },
   {
    "duration": -481,
    "start_time": "2021-11-17T11:27:18.267Z"
   },
   {
    "duration": -484,
    "start_time": "2021-11-17T11:27:18.272Z"
   },
   {
    "duration": -488,
    "start_time": "2021-11-17T11:27:18.277Z"
   },
   {
    "duration": -493,
    "start_time": "2021-11-17T11:27:18.283Z"
   },
   {
    "duration": -496,
    "start_time": "2021-11-17T11:27:18.288Z"
   },
   {
    "duration": -499,
    "start_time": "2021-11-17T11:27:18.293Z"
   },
   {
    "duration": -504,
    "start_time": "2021-11-17T11:27:18.299Z"
   },
   {
    "duration": -508,
    "start_time": "2021-11-17T11:27:18.304Z"
   },
   {
    "duration": -512,
    "start_time": "2021-11-17T11:27:18.309Z"
   },
   {
    "duration": -517,
    "start_time": "2021-11-17T11:27:18.315Z"
   },
   {
    "duration": -531,
    "start_time": "2021-11-17T11:27:18.331Z"
   },
   {
    "duration": -535,
    "start_time": "2021-11-17T11:27:18.336Z"
   },
   {
    "duration": -539,
    "start_time": "2021-11-17T11:27:18.341Z"
   },
   {
    "duration": 6,
    "start_time": "2021-11-17T11:27:31.605Z"
   },
   {
    "duration": 5913,
    "start_time": "2021-11-17T11:27:34.083Z"
   },
   {
    "duration": 941,
    "start_time": "2021-11-17T11:29:38.799Z"
   },
   {
    "duration": 534,
    "start_time": "2021-11-17T11:29:39.743Z"
   },
   {
    "duration": 3,
    "start_time": "2021-11-17T11:29:40.280Z"
   },
   {
    "duration": 36,
    "start_time": "2021-11-17T11:29:40.286Z"
   },
   {
    "duration": 19,
    "start_time": "2021-11-17T11:29:40.325Z"
   },
   {
    "duration": 23,
    "start_time": "2021-11-17T11:29:40.346Z"
   },
   {
    "duration": 10,
    "start_time": "2021-11-17T11:29:40.372Z"
   },
   {
    "duration": 24,
    "start_time": "2021-11-17T11:29:40.386Z"
   },
   {
    "duration": 60,
    "start_time": "2021-11-17T11:29:40.430Z"
   },
   {
    "duration": 17,
    "start_time": "2021-11-17T11:29:40.492Z"
   },
   {
    "duration": 22,
    "start_time": "2021-11-17T11:29:40.529Z"
   },
   {
    "duration": 23,
    "start_time": "2021-11-17T11:29:40.554Z"
   },
   {
    "duration": 17,
    "start_time": "2021-11-17T11:29:40.579Z"
   },
   {
    "duration": 30,
    "start_time": "2021-11-17T11:29:40.598Z"
   },
   {
    "duration": 18,
    "start_time": "2021-11-17T11:29:40.631Z"
   },
   {
    "duration": 10,
    "start_time": "2021-11-17T11:29:40.652Z"
   },
   {
    "duration": 10,
    "start_time": "2021-11-17T11:29:40.664Z"
   },
   {
    "duration": 9,
    "start_time": "2021-11-17T11:29:40.677Z"
   },
   {
    "duration": 10,
    "start_time": "2021-11-17T11:29:40.688Z"
   },
   {
    "duration": 10,
    "start_time": "2021-11-17T11:29:40.700Z"
   },
   {
    "duration": 18,
    "start_time": "2021-11-17T11:29:40.712Z"
   },
   {
    "duration": 13,
    "start_time": "2021-11-17T11:29:40.732Z"
   },
   {
    "duration": 7,
    "start_time": "2021-11-17T11:29:40.752Z"
   },
   {
    "duration": 66,
    "start_time": "2021-11-17T11:29:40.763Z"
   },
   {
    "duration": 24,
    "start_time": "2021-11-17T11:29:40.832Z"
   },
   {
    "duration": 39,
    "start_time": "2021-11-17T11:29:40.859Z"
   },
   {
    "duration": 5,
    "start_time": "2021-11-17T11:29:40.901Z"
   },
   {
    "duration": 36,
    "start_time": "2021-11-17T11:29:40.908Z"
   },
   {
    "duration": 17,
    "start_time": "2021-11-17T11:29:40.947Z"
   },
   {
    "duration": 423,
    "start_time": "2021-11-17T11:29:40.966Z"
   },
   {
    "duration": 576,
    "start_time": "2021-11-17T11:29:41.392Z"
   },
   {
    "duration": 61,
    "start_time": "2021-11-17T11:29:41.970Z"
   },
   {
    "duration": 20,
    "start_time": "2021-11-17T11:29:42.034Z"
   },
   {
    "duration": 21,
    "start_time": "2021-11-17T11:29:42.056Z"
   },
   {
    "duration": 55,
    "start_time": "2021-11-17T11:29:42.080Z"
   },
   {
    "duration": 25,
    "start_time": "2021-11-17T11:29:42.137Z"
   },
   {
    "duration": 10,
    "start_time": "2021-11-17T11:29:42.165Z"
   },
   {
    "duration": 523,
    "start_time": "2021-11-17T11:29:42.177Z"
   },
   {
    "duration": 12,
    "start_time": "2021-11-17T11:29:42.703Z"
   },
   {
    "duration": 5,
    "start_time": "2021-11-17T11:29:42.729Z"
   },
   {
    "duration": 7,
    "start_time": "2021-11-17T11:29:42.737Z"
   },
   {
    "duration": 16,
    "start_time": "2021-11-17T11:29:42.747Z"
   },
   {
    "duration": 17,
    "start_time": "2021-11-17T11:29:42.765Z"
   },
   {
    "duration": 114,
    "start_time": "2021-11-17T11:29:42.784Z"
   },
   {
    "duration": 559,
    "start_time": "2021-11-17T11:29:42.900Z"
   },
   {
    "duration": 19,
    "start_time": "2021-11-17T11:29:43.461Z"
   },
   {
    "duration": 8,
    "start_time": "2021-11-17T11:29:43.482Z"
   },
   {
    "duration": 49,
    "start_time": "2021-11-17T11:29:43.492Z"
   },
   {
    "duration": 15,
    "start_time": "2021-11-17T11:29:43.543Z"
   },
   {
    "duration": 10,
    "start_time": "2021-11-17T11:29:43.560Z"
   },
   {
    "duration": 69,
    "start_time": "2021-11-17T11:29:43.572Z"
   },
   {
    "duration": 10,
    "start_time": "2021-11-17T11:29:43.643Z"
   },
   {
    "duration": 6,
    "start_time": "2021-11-17T11:29:43.655Z"
   },
   {
    "duration": 26,
    "start_time": "2021-11-17T11:29:43.663Z"
   },
   {
    "duration": 42,
    "start_time": "2021-11-17T11:29:43.691Z"
   },
   {
    "duration": 12,
    "start_time": "2021-11-17T11:29:43.735Z"
   },
   {
    "duration": 40,
    "start_time": "2021-11-17T11:29:43.749Z"
   },
   {
    "duration": 424,
    "start_time": "2021-11-17T11:29:43.791Z"
   },
   {
    "duration": 16,
    "start_time": "2021-11-17T11:29:44.217Z"
   },
   {
    "duration": 20,
    "start_time": "2021-11-17T11:29:44.235Z"
   },
   {
    "duration": 432,
    "start_time": "2021-11-17T11:29:44.257Z"
   },
   {
    "duration": 15,
    "start_time": "2021-11-17T11:29:44.692Z"
   },
   {
    "duration": 25,
    "start_time": "2021-11-17T11:29:44.709Z"
   },
   {
    "duration": 9,
    "start_time": "2021-11-17T11:29:44.736Z"
   },
   {
    "duration": 6,
    "start_time": "2021-11-17T11:29:44.748Z"
   },
   {
    "duration": 23,
    "start_time": "2021-11-17T11:29:44.756Z"
   },
   {
    "duration": 68,
    "start_time": "2021-11-17T11:29:44.781Z"
   },
   {
    "duration": 11,
    "start_time": "2021-11-17T11:29:44.857Z"
   },
   {
    "duration": 18,
    "start_time": "2021-11-17T11:29:44.871Z"
   },
   {
    "duration": 24,
    "start_time": "2021-11-17T11:29:44.891Z"
   },
   {
    "duration": 78,
    "start_time": "2021-11-17T11:29:44.917Z"
   },
   {
    "duration": 5,
    "start_time": "2021-11-17T11:29:44.997Z"
   },
   {
    "duration": 32,
    "start_time": "2021-11-17T11:29:45.005Z"
   },
   {
    "duration": 21,
    "start_time": "2021-11-17T11:29:45.039Z"
   },
   {
    "duration": 42,
    "start_time": "2021-11-17T11:29:45.062Z"
   },
   {
    "duration": 26,
    "start_time": "2021-11-17T11:29:45.106Z"
   },
   {
    "duration": 761,
    "start_time": "2021-11-17T11:29:45.135Z"
   },
   {
    "duration": -484,
    "start_time": "2021-11-17T11:29:46.382Z"
   },
   {
    "duration": -487,
    "start_time": "2021-11-17T11:29:46.386Z"
   },
   {
    "duration": -490,
    "start_time": "2021-11-17T11:29:46.391Z"
   },
   {
    "duration": -495,
    "start_time": "2021-11-17T11:29:46.397Z"
   },
   {
    "duration": -499,
    "start_time": "2021-11-17T11:29:46.402Z"
   },
   {
    "duration": -502,
    "start_time": "2021-11-17T11:29:46.406Z"
   },
   {
    "duration": -506,
    "start_time": "2021-11-17T11:29:46.412Z"
   },
   {
    "duration": -509,
    "start_time": "2021-11-17T11:29:46.416Z"
   },
   {
    "duration": -515,
    "start_time": "2021-11-17T11:29:46.423Z"
   },
   {
    "duration": -520,
    "start_time": "2021-11-17T11:29:46.429Z"
   },
   {
    "duration": -523,
    "start_time": "2021-11-17T11:29:46.434Z"
   },
   {
    "duration": -526,
    "start_time": "2021-11-17T11:29:46.438Z"
   },
   {
    "duration": -531,
    "start_time": "2021-11-17T11:29:46.444Z"
   },
   {
    "duration": -534,
    "start_time": "2021-11-17T11:29:46.448Z"
   },
   {
    "duration": -537,
    "start_time": "2021-11-17T11:29:46.453Z"
   },
   {
    "duration": -540,
    "start_time": "2021-11-17T11:29:46.458Z"
   },
   {
    "duration": 7,
    "start_time": "2021-11-17T11:30:29.215Z"
   },
   {
    "duration": 5888,
    "start_time": "2021-11-17T11:30:29.998Z"
   },
   {
    "duration": 6,
    "start_time": "2021-11-17T11:30:38.660Z"
   },
   {
    "duration": 87,
    "start_time": "2021-11-17T11:30:41.466Z"
   },
   {
    "duration": 13,
    "start_time": "2021-11-17T11:30:43.724Z"
   },
   {
    "duration": 11,
    "start_time": "2021-11-17T11:30:46.159Z"
   },
   {
    "duration": 13,
    "start_time": "2021-11-17T11:30:58.510Z"
   },
   {
    "duration": 8,
    "start_time": "2021-11-17T11:31:14.811Z"
   },
   {
    "duration": 82,
    "start_time": "2021-11-17T11:31:58.906Z"
   },
   {
    "duration": 18,
    "start_time": "2021-11-17T11:32:00.042Z"
   },
   {
    "duration": 22,
    "start_time": "2021-11-17T11:32:02.616Z"
   },
   {
    "duration": 23,
    "start_time": "2021-11-17T11:32:09.200Z"
   },
   {
    "duration": 18,
    "start_time": "2021-11-17T11:32:46.274Z"
   },
   {
    "duration": 897,
    "start_time": "2021-11-17T11:33:12.371Z"
   },
   {
    "duration": 535,
    "start_time": "2021-11-17T11:33:13.271Z"
   },
   {
    "duration": 3,
    "start_time": "2021-11-17T11:33:13.809Z"
   },
   {
    "duration": 39,
    "start_time": "2021-11-17T11:33:13.815Z"
   },
   {
    "duration": 19,
    "start_time": "2021-11-17T11:33:13.857Z"
   },
   {
    "duration": 35,
    "start_time": "2021-11-17T11:33:13.879Z"
   },
   {
    "duration": 18,
    "start_time": "2021-11-17T11:33:13.917Z"
   },
   {
    "duration": 25,
    "start_time": "2021-11-17T11:33:13.941Z"
   },
   {
    "duration": 65,
    "start_time": "2021-11-17T11:33:13.970Z"
   },
   {
    "duration": 17,
    "start_time": "2021-11-17T11:33:14.038Z"
   },
   {
    "duration": 55,
    "start_time": "2021-11-17T11:33:14.058Z"
   },
   {
    "duration": 28,
    "start_time": "2021-11-17T11:33:14.116Z"
   },
   {
    "duration": 25,
    "start_time": "2021-11-17T11:33:14.147Z"
   },
   {
    "duration": 28,
    "start_time": "2021-11-17T11:33:14.175Z"
   },
   {
    "duration": 19,
    "start_time": "2021-11-17T11:33:14.205Z"
   },
   {
    "duration": 11,
    "start_time": "2021-11-17T11:33:14.227Z"
   },
   {
    "duration": 11,
    "start_time": "2021-11-17T11:33:14.241Z"
   },
   {
    "duration": 27,
    "start_time": "2021-11-17T11:33:14.254Z"
   },
   {
    "duration": 38,
    "start_time": "2021-11-17T11:33:14.283Z"
   },
   {
    "duration": 18,
    "start_time": "2021-11-17T11:33:14.324Z"
   },
   {
    "duration": 43,
    "start_time": "2021-11-17T11:33:14.344Z"
   },
   {
    "duration": 20,
    "start_time": "2021-11-17T11:33:14.390Z"
   },
   {
    "duration": 20,
    "start_time": "2021-11-17T11:33:14.416Z"
   },
   {
    "duration": 57,
    "start_time": "2021-11-17T11:33:14.440Z"
   },
   {
    "duration": 25,
    "start_time": "2021-11-17T11:33:14.499Z"
   },
   {
    "duration": 32,
    "start_time": "2021-11-17T11:33:14.527Z"
   },
   {
    "duration": 11,
    "start_time": "2021-11-17T11:33:14.562Z"
   },
   {
    "duration": 47,
    "start_time": "2021-11-17T11:33:14.575Z"
   },
   {
    "duration": 26,
    "start_time": "2021-11-17T11:33:14.624Z"
   },
   {
    "duration": 433,
    "start_time": "2021-11-17T11:33:14.653Z"
   },
   {
    "duration": 413,
    "start_time": "2021-11-17T11:33:15.089Z"
   },
   {
    "duration": 8,
    "start_time": "2021-11-17T11:33:15.504Z"
   },
   {
    "duration": 6,
    "start_time": "2021-11-17T11:33:15.530Z"
   },
   {
    "duration": 9,
    "start_time": "2021-11-17T11:33:15.538Z"
   },
   {
    "duration": 12,
    "start_time": "2021-11-17T11:33:15.550Z"
   },
   {
    "duration": 10,
    "start_time": "2021-11-17T11:33:15.564Z"
   },
   {
    "duration": 13,
    "start_time": "2021-11-17T11:33:15.577Z"
   },
   {
    "duration": 449,
    "start_time": "2021-11-17T11:33:15.593Z"
   },
   {
    "duration": 12,
    "start_time": "2021-11-17T11:33:16.044Z"
   },
   {
    "duration": 13,
    "start_time": "2021-11-17T11:33:16.058Z"
   },
   {
    "duration": 9,
    "start_time": "2021-11-17T11:33:16.073Z"
   },
   {
    "duration": 14,
    "start_time": "2021-11-17T11:33:16.084Z"
   },
   {
    "duration": 36,
    "start_time": "2021-11-17T11:33:16.101Z"
   },
   {
    "duration": 103,
    "start_time": "2021-11-17T11:33:16.139Z"
   },
   {
    "duration": 450,
    "start_time": "2021-11-17T11:33:16.244Z"
   },
   {
    "duration": 36,
    "start_time": "2021-11-17T11:33:16.696Z"
   },
   {
    "duration": 7,
    "start_time": "2021-11-17T11:33:16.735Z"
   },
   {
    "duration": 29,
    "start_time": "2021-11-17T11:33:16.744Z"
   },
   {
    "duration": 14,
    "start_time": "2021-11-17T11:33:16.775Z"
   },
   {
    "duration": 40,
    "start_time": "2021-11-17T11:33:16.791Z"
   },
   {
    "duration": 51,
    "start_time": "2021-11-17T11:33:16.834Z"
   },
   {
    "duration": 10,
    "start_time": "2021-11-17T11:33:16.887Z"
   },
   {
    "duration": 30,
    "start_time": "2021-11-17T11:33:16.900Z"
   },
   {
    "duration": 22,
    "start_time": "2021-11-17T11:33:16.933Z"
   },
   {
    "duration": 15,
    "start_time": "2021-11-17T11:33:16.958Z"
   },
   {
    "duration": 53,
    "start_time": "2021-11-17T11:33:16.977Z"
   },
   {
    "duration": 38,
    "start_time": "2021-11-17T11:33:17.032Z"
   },
   {
    "duration": 431,
    "start_time": "2021-11-17T11:33:17.072Z"
   },
   {
    "duration": 25,
    "start_time": "2021-11-17T11:33:17.505Z"
   },
   {
    "duration": 21,
    "start_time": "2021-11-17T11:33:17.532Z"
   },
   {
    "duration": 543,
    "start_time": "2021-11-17T11:33:17.556Z"
   },
   {
    "duration": 29,
    "start_time": "2021-11-17T11:33:18.101Z"
   },
   {
    "duration": 13,
    "start_time": "2021-11-17T11:33:18.133Z"
   },
   {
    "duration": 12,
    "start_time": "2021-11-17T11:33:18.149Z"
   },
   {
    "duration": 7,
    "start_time": "2021-11-17T11:33:18.163Z"
   },
   {
    "duration": 66,
    "start_time": "2021-11-17T11:33:18.173Z"
   },
   {
    "duration": 32,
    "start_time": "2021-11-17T11:33:18.242Z"
   },
   {
    "duration": 11,
    "start_time": "2021-11-17T11:33:18.282Z"
   },
   {
    "duration": 7,
    "start_time": "2021-11-17T11:33:18.296Z"
   },
   {
    "duration": 15,
    "start_time": "2021-11-17T11:33:18.330Z"
   },
   {
    "duration": 97,
    "start_time": "2021-11-17T11:33:18.348Z"
   },
   {
    "duration": 5,
    "start_time": "2021-11-17T11:33:18.447Z"
   },
   {
    "duration": 10,
    "start_time": "2021-11-17T11:33:18.454Z"
   },
   {
    "duration": 8,
    "start_time": "2021-11-17T11:33:18.466Z"
   },
   {
    "duration": 28,
    "start_time": "2021-11-17T11:33:18.476Z"
   },
   {
    "duration": 27,
    "start_time": "2021-11-17T11:33:18.506Z"
   },
   {
    "duration": 5987,
    "start_time": "2021-11-17T11:33:18.535Z"
   },
   {
    "duration": 10,
    "start_time": "2021-11-17T11:33:24.525Z"
   },
   {
    "duration": 117,
    "start_time": "2021-11-17T11:33:24.538Z"
   },
   {
    "duration": 19,
    "start_time": "2021-11-17T11:33:24.658Z"
   },
   {
    "duration": 51,
    "start_time": "2021-11-17T11:33:24.680Z"
   },
   {
    "duration": 42,
    "start_time": "2021-11-17T11:33:24.734Z"
   },
   {
    "duration": 34,
    "start_time": "2021-11-17T11:33:24.779Z"
   },
   {
    "duration": 28,
    "start_time": "2021-11-17T11:33:24.815Z"
   },
   {
    "duration": 56,
    "start_time": "2021-11-17T11:33:24.845Z"
   },
   {
    "duration": 61,
    "start_time": "2021-11-17T11:33:24.903Z"
   },
   {
    "duration": 31,
    "start_time": "2021-11-17T11:33:24.966Z"
   },
   {
    "duration": 49,
    "start_time": "2021-11-17T11:33:24.999Z"
   },
   {
    "duration": 21,
    "start_time": "2021-11-17T11:33:25.051Z"
   },
   {
    "duration": 43,
    "start_time": "2021-11-17T11:33:25.075Z"
   },
   {
    "duration": 7657,
    "start_time": "2021-11-17T11:33:25.122Z"
   },
   {
    "duration": -498,
    "start_time": "2021-11-17T11:33:33.280Z"
   },
   {
    "duration": -503,
    "start_time": "2021-11-17T11:33:33.287Z"
   },
   {
    "duration": -508,
    "start_time": "2021-11-17T11:33:33.293Z"
   },
   {
    "duration": 21,
    "start_time": "2021-11-17T11:34:26.704Z"
   },
   {
    "duration": 25,
    "start_time": "2021-11-17T11:34:34.330Z"
   },
   {
    "duration": 920,
    "start_time": "2021-11-17T11:34:46.204Z"
   },
   {
    "duration": 538,
    "start_time": "2021-11-17T11:34:47.126Z"
   },
   {
    "duration": 4,
    "start_time": "2021-11-17T11:34:47.667Z"
   },
   {
    "duration": 30,
    "start_time": "2021-11-17T11:34:47.674Z"
   },
   {
    "duration": 19,
    "start_time": "2021-11-17T11:34:47.707Z"
   },
   {
    "duration": 22,
    "start_time": "2021-11-17T11:34:47.728Z"
   },
   {
    "duration": 9,
    "start_time": "2021-11-17T11:34:47.753Z"
   },
   {
    "duration": 10,
    "start_time": "2021-11-17T11:34:47.768Z"
   },
   {
    "duration": 94,
    "start_time": "2021-11-17T11:34:47.782Z"
   },
   {
    "duration": 18,
    "start_time": "2021-11-17T11:34:47.878Z"
   },
   {
    "duration": 37,
    "start_time": "2021-11-17T11:34:47.899Z"
   },
   {
    "duration": 12,
    "start_time": "2021-11-17T11:34:47.939Z"
   },
   {
    "duration": 12,
    "start_time": "2021-11-17T11:34:47.953Z"
   },
   {
    "duration": 23,
    "start_time": "2021-11-17T11:34:47.967Z"
   },
   {
    "duration": 40,
    "start_time": "2021-11-17T11:34:47.993Z"
   },
   {
    "duration": 5,
    "start_time": "2021-11-17T11:34:48.035Z"
   },
   {
    "duration": 6,
    "start_time": "2021-11-17T11:34:48.043Z"
   },
   {
    "duration": 8,
    "start_time": "2021-11-17T11:34:48.050Z"
   },
   {
    "duration": 10,
    "start_time": "2021-11-17T11:34:48.060Z"
   },
   {
    "duration": 5,
    "start_time": "2021-11-17T11:34:48.073Z"
   },
   {
    "duration": 6,
    "start_time": "2021-11-17T11:34:48.081Z"
   },
   {
    "duration": 43,
    "start_time": "2021-11-17T11:34:48.090Z"
   },
   {
    "duration": 6,
    "start_time": "2021-11-17T11:34:48.139Z"
   },
   {
    "duration": 41,
    "start_time": "2021-11-17T11:34:48.150Z"
   },
   {
    "duration": 45,
    "start_time": "2021-11-17T11:34:48.194Z"
   },
   {
    "duration": 33,
    "start_time": "2021-11-17T11:34:48.241Z"
   },
   {
    "duration": 5,
    "start_time": "2021-11-17T11:34:48.277Z"
   },
   {
    "duration": 46,
    "start_time": "2021-11-17T11:34:48.284Z"
   },
   {
    "duration": 5,
    "start_time": "2021-11-17T11:34:48.333Z"
   },
   {
    "duration": 413,
    "start_time": "2021-11-17T11:34:48.341Z"
   },
   {
    "duration": 578,
    "start_time": "2021-11-17T11:34:48.756Z"
   },
   {
    "duration": 8,
    "start_time": "2021-11-17T11:34:49.337Z"
   },
   {
    "duration": 10,
    "start_time": "2021-11-17T11:34:49.348Z"
   },
   {
    "duration": 10,
    "start_time": "2021-11-17T11:34:49.360Z"
   },
   {
    "duration": 64,
    "start_time": "2021-11-17T11:34:49.372Z"
   },
   {
    "duration": 14,
    "start_time": "2021-11-17T11:34:49.438Z"
   },
   {
    "duration": 10,
    "start_time": "2021-11-17T11:34:49.454Z"
   },
   {
    "duration": 578,
    "start_time": "2021-11-17T11:34:49.467Z"
   },
   {
    "duration": 12,
    "start_time": "2021-11-17T11:34:50.048Z"
   },
   {
    "duration": 9,
    "start_time": "2021-11-17T11:34:50.062Z"
   },
   {
    "duration": 12,
    "start_time": "2021-11-17T11:34:50.073Z"
   },
   {
    "duration": 41,
    "start_time": "2021-11-17T11:34:50.088Z"
   },
   {
    "duration": 11,
    "start_time": "2021-11-17T11:34:50.132Z"
   },
   {
    "duration": 105,
    "start_time": "2021-11-17T11:34:50.146Z"
   },
   {
    "duration": 471,
    "start_time": "2021-11-17T11:34:50.253Z"
   },
   {
    "duration": 20,
    "start_time": "2021-11-17T11:34:50.728Z"
   },
   {
    "duration": 6,
    "start_time": "2021-11-17T11:34:50.751Z"
   },
   {
    "duration": 27,
    "start_time": "2021-11-17T11:34:50.759Z"
   },
   {
    "duration": 48,
    "start_time": "2021-11-17T11:34:50.788Z"
   },
   {
    "duration": 10,
    "start_time": "2021-11-17T11:34:50.838Z"
   },
   {
    "duration": 41,
    "start_time": "2021-11-17T11:34:50.851Z"
   },
   {
    "duration": 37,
    "start_time": "2021-11-17T11:34:50.894Z"
   },
   {
    "duration": 12,
    "start_time": "2021-11-17T11:34:50.933Z"
   },
   {
    "duration": 26,
    "start_time": "2021-11-17T11:34:50.948Z"
   },
   {
    "duration": 13,
    "start_time": "2021-11-17T11:34:50.977Z"
   },
   {
    "duration": 47,
    "start_time": "2021-11-17T11:34:50.993Z"
   },
   {
    "duration": 41,
    "start_time": "2021-11-17T11:34:51.043Z"
   },
   {
    "duration": 514,
    "start_time": "2021-11-17T11:34:51.087Z"
   },
   {
    "duration": 11,
    "start_time": "2021-11-17T11:34:51.603Z"
   },
   {
    "duration": 21,
    "start_time": "2021-11-17T11:34:51.629Z"
   },
   {
    "duration": 424,
    "start_time": "2021-11-17T11:34:51.653Z"
   },
   {
    "duration": 16,
    "start_time": "2021-11-17T11:34:52.079Z"
   },
   {
    "duration": 34,
    "start_time": "2021-11-17T11:34:52.097Z"
   },
   {
    "duration": 11,
    "start_time": "2021-11-17T11:34:52.133Z"
   },
   {
    "duration": 6,
    "start_time": "2021-11-17T11:34:52.146Z"
   },
   {
    "duration": 23,
    "start_time": "2021-11-17T11:34:52.155Z"
   },
   {
    "duration": 74,
    "start_time": "2021-11-17T11:34:52.181Z"
   },
   {
    "duration": 23,
    "start_time": "2021-11-17T11:34:52.264Z"
   },
   {
    "duration": 22,
    "start_time": "2021-11-17T11:34:52.291Z"
   },
   {
    "duration": 24,
    "start_time": "2021-11-17T11:34:52.315Z"
   },
   {
    "duration": 69,
    "start_time": "2021-11-17T11:34:52.342Z"
   },
   {
    "duration": 18,
    "start_time": "2021-11-17T11:34:52.414Z"
   },
   {
    "duration": 20,
    "start_time": "2021-11-17T11:34:52.435Z"
   },
   {
    "duration": 27,
    "start_time": "2021-11-17T11:34:52.457Z"
   },
   {
    "duration": 34,
    "start_time": "2021-11-17T11:34:52.487Z"
   },
   {
    "duration": 27,
    "start_time": "2021-11-17T11:34:52.524Z"
   },
   {
    "duration": 5754,
    "start_time": "2021-11-17T11:34:52.553Z"
   },
   {
    "duration": 6,
    "start_time": "2021-11-17T11:34:58.309Z"
   },
   {
    "duration": 110,
    "start_time": "2021-11-17T11:34:58.328Z"
   },
   {
    "duration": 18,
    "start_time": "2021-11-17T11:34:58.441Z"
   },
   {
    "duration": 38,
    "start_time": "2021-11-17T11:34:58.461Z"
   },
   {
    "duration": 32,
    "start_time": "2021-11-17T11:34:58.502Z"
   },
   {
    "duration": 31,
    "start_time": "2021-11-17T11:34:58.537Z"
   },
   {
    "duration": 9,
    "start_time": "2021-11-17T11:34:58.571Z"
   },
   {
    "duration": 49,
    "start_time": "2021-11-17T11:34:58.583Z"
   },
   {
    "duration": 49,
    "start_time": "2021-11-17T11:34:58.634Z"
   },
   {
    "duration": 17,
    "start_time": "2021-11-17T11:34:58.686Z"
   },
   {
    "duration": 52,
    "start_time": "2021-11-17T11:34:58.705Z"
   },
   {
    "duration": 18,
    "start_time": "2021-11-17T11:34:58.759Z"
   },
   {
    "duration": 16,
    "start_time": "2021-11-17T11:34:58.780Z"
   },
   {
    "duration": 8422,
    "start_time": "2021-11-17T11:34:58.798Z"
   },
   {
    "duration": -484,
    "start_time": "2021-11-17T11:35:07.707Z"
   },
   {
    "duration": -490,
    "start_time": "2021-11-17T11:35:07.715Z"
   },
   {
    "duration": -493,
    "start_time": "2021-11-17T11:35:07.719Z"
   },
   {
    "duration": 18,
    "start_time": "2021-11-17T11:35:28.564Z"
   },
   {
    "duration": 28,
    "start_time": "2021-11-17T11:36:04.261Z"
   },
   {
    "duration": 8,
    "start_time": "2021-11-17T11:36:58.927Z"
   },
   {
    "duration": 5,
    "start_time": "2021-11-17T11:37:30.216Z"
   },
   {
    "duration": 670,
    "start_time": "2021-11-17T11:37:30.224Z"
   },
   {
    "duration": 3,
    "start_time": "2021-11-17T11:37:30.897Z"
   },
   {
    "duration": 52,
    "start_time": "2021-11-17T11:37:30.902Z"
   },
   {
    "duration": 25,
    "start_time": "2021-11-17T11:37:30.957Z"
   },
   {
    "duration": 40,
    "start_time": "2021-11-17T11:37:30.984Z"
   },
   {
    "duration": 10,
    "start_time": "2021-11-17T11:37:31.026Z"
   },
   {
    "duration": 24,
    "start_time": "2021-11-17T11:37:31.040Z"
   },
   {
    "duration": 69,
    "start_time": "2021-11-17T11:37:31.068Z"
   },
   {
    "duration": 12,
    "start_time": "2021-11-17T11:37:31.140Z"
   },
   {
    "duration": 31,
    "start_time": "2021-11-17T11:37:31.155Z"
   },
   {
    "duration": 34,
    "start_time": "2021-11-17T11:37:31.189Z"
   },
   {
    "duration": 31,
    "start_time": "2021-11-17T11:37:31.226Z"
   },
   {
    "duration": 26,
    "start_time": "2021-11-17T11:37:31.260Z"
   },
   {
    "duration": 24,
    "start_time": "2021-11-17T11:37:31.288Z"
   },
   {
    "duration": 21,
    "start_time": "2021-11-17T11:37:31.315Z"
   },
   {
    "duration": 12,
    "start_time": "2021-11-17T11:37:31.338Z"
   },
   {
    "duration": 25,
    "start_time": "2021-11-17T11:37:31.353Z"
   },
   {
    "duration": 23,
    "start_time": "2021-11-17T11:37:31.380Z"
   },
   {
    "duration": 31,
    "start_time": "2021-11-17T11:37:31.406Z"
   },
   {
    "duration": 13,
    "start_time": "2021-11-17T11:37:31.440Z"
   },
   {
    "duration": 19,
    "start_time": "2021-11-17T11:37:31.455Z"
   },
   {
    "duration": 24,
    "start_time": "2021-11-17T11:37:31.481Z"
   },
   {
    "duration": 63,
    "start_time": "2021-11-17T11:37:31.509Z"
   },
   {
    "duration": 26,
    "start_time": "2021-11-17T11:37:31.574Z"
   },
   {
    "duration": 41,
    "start_time": "2021-11-17T11:37:31.603Z"
   },
   {
    "duration": 6,
    "start_time": "2021-11-17T11:37:31.647Z"
   },
   {
    "duration": 30,
    "start_time": "2021-11-17T11:37:31.655Z"
   },
   {
    "duration": 11,
    "start_time": "2021-11-17T11:37:31.688Z"
   },
   {
    "duration": 424,
    "start_time": "2021-11-17T11:37:31.730Z"
   },
   {
    "duration": 400,
    "start_time": "2021-11-17T11:37:32.157Z"
   },
   {
    "duration": 8,
    "start_time": "2021-11-17T11:37:32.559Z"
   },
   {
    "duration": 8,
    "start_time": "2021-11-17T11:37:32.570Z"
   },
   {
    "duration": 10,
    "start_time": "2021-11-17T11:37:32.580Z"
   },
   {
    "duration": 41,
    "start_time": "2021-11-17T11:37:32.592Z"
   },
   {
    "duration": 24,
    "start_time": "2021-11-17T11:37:32.636Z"
   },
   {
    "duration": 31,
    "start_time": "2021-11-17T11:37:32.662Z"
   },
   {
    "duration": 447,
    "start_time": "2021-11-17T11:37:32.696Z"
   },
   {
    "duration": 14,
    "start_time": "2021-11-17T11:37:33.146Z"
   },
   {
    "duration": 9,
    "start_time": "2021-11-17T11:37:33.163Z"
   },
   {
    "duration": 9,
    "start_time": "2021-11-17T11:37:33.174Z"
   },
   {
    "duration": 48,
    "start_time": "2021-11-17T11:37:33.186Z"
   },
   {
    "duration": 17,
    "start_time": "2021-11-17T11:37:33.237Z"
   },
   {
    "duration": 158,
    "start_time": "2021-11-17T11:37:33.257Z"
   },
   {
    "duration": 442,
    "start_time": "2021-11-17T11:37:33.418Z"
   },
   {
    "duration": 20,
    "start_time": "2021-11-17T11:37:33.863Z"
   },
   {
    "duration": 7,
    "start_time": "2021-11-17T11:37:33.885Z"
   },
   {
    "duration": 51,
    "start_time": "2021-11-17T11:37:33.894Z"
   },
   {
    "duration": 16,
    "start_time": "2021-11-17T11:37:33.948Z"
   },
   {
    "duration": 11,
    "start_time": "2021-11-17T11:37:33.967Z"
   },
   {
    "duration": 82,
    "start_time": "2021-11-17T11:37:33.980Z"
   },
   {
    "duration": 11,
    "start_time": "2021-11-17T11:37:34.065Z"
   },
   {
    "duration": 17,
    "start_time": "2021-11-17T11:37:34.078Z"
   },
   {
    "duration": 48,
    "start_time": "2021-11-17T11:37:34.098Z"
   },
   {
    "duration": 15,
    "start_time": "2021-11-17T11:37:34.149Z"
   },
   {
    "duration": 16,
    "start_time": "2021-11-17T11:37:34.167Z"
   },
   {
    "duration": 67,
    "start_time": "2021-11-17T11:37:34.186Z"
   },
   {
    "duration": 408,
    "start_time": "2021-11-17T11:37:34.255Z"
   },
   {
    "duration": 11,
    "start_time": "2021-11-17T11:37:34.665Z"
   },
   {
    "duration": 23,
    "start_time": "2021-11-17T11:37:34.678Z"
   },
   {
    "duration": 530,
    "start_time": "2021-11-17T11:37:34.703Z"
   },
   {
    "duration": 17,
    "start_time": "2021-11-17T11:37:35.236Z"
   },
   {
    "duration": 14,
    "start_time": "2021-11-17T11:37:35.255Z"
   },
   {
    "duration": 11,
    "start_time": "2021-11-17T11:37:35.271Z"
   },
   {
    "duration": 47,
    "start_time": "2021-11-17T11:37:35.284Z"
   },
   {
    "duration": 25,
    "start_time": "2021-11-17T11:37:35.333Z"
   },
   {
    "duration": 39,
    "start_time": "2021-11-17T11:37:35.360Z"
   },
   {
    "duration": 12,
    "start_time": "2021-11-17T11:37:35.428Z"
   },
   {
    "duration": 8,
    "start_time": "2021-11-17T11:37:35.443Z"
   },
   {
    "duration": 20,
    "start_time": "2021-11-17T11:37:35.453Z"
   },
   {
    "duration": 99,
    "start_time": "2021-11-17T11:37:35.476Z"
   },
   {
    "duration": 6,
    "start_time": "2021-11-17T11:37:35.577Z"
   },
   {
    "duration": 38,
    "start_time": "2021-11-17T11:37:35.585Z"
   },
   {
    "duration": 37,
    "start_time": "2021-11-17T11:37:35.625Z"
   },
   {
    "duration": 42,
    "start_time": "2021-11-17T11:37:35.665Z"
   },
   {
    "duration": 18,
    "start_time": "2021-11-17T11:37:35.709Z"
   },
   {
    "duration": 6126,
    "start_time": "2021-11-17T11:37:35.729Z"
   },
   {
    "duration": 6,
    "start_time": "2021-11-17T11:37:41.857Z"
   },
   {
    "duration": 105,
    "start_time": "2021-11-17T11:37:41.865Z"
   },
   {
    "duration": 17,
    "start_time": "2021-11-17T11:37:41.972Z"
   },
   {
    "duration": 38,
    "start_time": "2021-11-17T11:37:41.992Z"
   },
   {
    "duration": 14,
    "start_time": "2021-11-17T11:37:56.074Z"
   },
   {
    "duration": 10,
    "start_time": "2021-11-17T11:38:14.137Z"
   },
   {
    "duration": 19,
    "start_time": "2021-11-17T11:42:26.795Z"
   },
   {
    "duration": 80,
    "start_time": "2021-11-17T11:42:32.634Z"
   },
   {
    "duration": 20,
    "start_time": "2021-11-17T11:42:33.836Z"
   },
   {
    "duration": 18,
    "start_time": "2021-11-17T11:42:40.460Z"
   },
   {
    "duration": 80,
    "start_time": "2021-11-17T11:42:48.765Z"
   },
   {
    "duration": 18,
    "start_time": "2021-11-17T11:42:49.703Z"
   },
   {
    "duration": 110,
    "start_time": "2021-11-17T11:43:16.569Z"
   },
   {
    "duration": 18,
    "start_time": "2021-11-17T11:43:17.277Z"
   },
   {
    "duration": 79,
    "start_time": "2021-11-17T11:44:07.050Z"
   },
   {
    "duration": 21,
    "start_time": "2021-11-17T11:44:07.627Z"
   },
   {
    "duration": 367,
    "start_time": "2021-11-17T11:45:39.200Z"
   },
   {
    "duration": 354,
    "start_time": "2021-11-17T11:45:51.636Z"
   },
   {
    "duration": 118,
    "start_time": "2021-11-17T11:46:08.163Z"
   },
   {
    "duration": 87,
    "start_time": "2021-11-17T11:46:22.734Z"
   },
   {
    "duration": 80,
    "start_time": "2021-11-17T11:46:29.867Z"
   },
   {
    "duration": 19,
    "start_time": "2021-11-17T11:46:35.056Z"
   },
   {
    "duration": 18,
    "start_time": "2021-11-17T11:46:46.587Z"
   },
   {
    "duration": 21,
    "start_time": "2021-11-17T11:48:29.075Z"
   },
   {
    "duration": 10,
    "start_time": "2021-11-17T11:48:29.749Z"
   },
   {
    "duration": 4,
    "start_time": "2021-11-17T11:48:37.028Z"
   },
   {
    "duration": 666,
    "start_time": "2021-11-17T11:48:37.036Z"
   },
   {
    "duration": 3,
    "start_time": "2021-11-17T11:48:37.705Z"
   },
   {
    "duration": 61,
    "start_time": "2021-11-17T11:48:37.710Z"
   },
   {
    "duration": 38,
    "start_time": "2021-11-17T11:48:37.773Z"
   },
   {
    "duration": 36,
    "start_time": "2021-11-17T11:48:37.814Z"
   },
   {
    "duration": 31,
    "start_time": "2021-11-17T11:48:37.852Z"
   },
   {
    "duration": 24,
    "start_time": "2021-11-17T11:48:37.887Z"
   },
   {
    "duration": 63,
    "start_time": "2021-11-17T11:48:37.914Z"
   },
   {
    "duration": 11,
    "start_time": "2021-11-17T11:48:37.980Z"
   },
   {
    "duration": 17,
    "start_time": "2021-11-17T11:48:37.995Z"
   },
   {
    "duration": 25,
    "start_time": "2021-11-17T11:48:38.014Z"
   },
   {
    "duration": 17,
    "start_time": "2021-11-17T11:48:38.041Z"
   },
   {
    "duration": 29,
    "start_time": "2021-11-17T11:48:38.060Z"
   },
   {
    "duration": 11,
    "start_time": "2021-11-17T11:48:38.091Z"
   },
   {
    "duration": 26,
    "start_time": "2021-11-17T11:48:38.104Z"
   },
   {
    "duration": 7,
    "start_time": "2021-11-17T11:48:38.133Z"
   },
   {
    "duration": 9,
    "start_time": "2021-11-17T11:48:38.143Z"
   },
   {
    "duration": 13,
    "start_time": "2021-11-17T11:48:38.155Z"
   },
   {
    "duration": 11,
    "start_time": "2021-11-17T11:48:38.170Z"
   },
   {
    "duration": 25,
    "start_time": "2021-11-17T11:48:38.184Z"
   },
   {
    "duration": 17,
    "start_time": "2021-11-17T11:48:38.212Z"
   },
   {
    "duration": 11,
    "start_time": "2021-11-17T11:48:38.236Z"
   },
   {
    "duration": 47,
    "start_time": "2021-11-17T11:48:38.251Z"
   },
   {
    "duration": 33,
    "start_time": "2021-11-17T11:48:38.300Z"
   },
   {
    "duration": 32,
    "start_time": "2021-11-17T11:48:38.335Z"
   },
   {
    "duration": 7,
    "start_time": "2021-11-17T11:48:38.370Z"
   },
   {
    "duration": 52,
    "start_time": "2021-11-17T11:48:38.380Z"
   },
   {
    "duration": 20,
    "start_time": "2021-11-17T11:48:38.436Z"
   },
   {
    "duration": 421,
    "start_time": "2021-11-17T11:48:38.458Z"
   },
   {
    "duration": 400,
    "start_time": "2021-11-17T11:48:38.882Z"
   },
   {
    "duration": 7,
    "start_time": "2021-11-17T11:48:39.285Z"
   },
   {
    "duration": 25,
    "start_time": "2021-11-17T11:48:39.294Z"
   },
   {
    "duration": 21,
    "start_time": "2021-11-17T11:48:39.321Z"
   },
   {
    "duration": 12,
    "start_time": "2021-11-17T11:48:39.346Z"
   },
   {
    "duration": 13,
    "start_time": "2021-11-17T11:48:39.361Z"
   },
   {
    "duration": 14,
    "start_time": "2021-11-17T11:48:39.377Z"
   },
   {
    "duration": 476,
    "start_time": "2021-11-17T11:48:39.394Z"
   },
   {
    "duration": 14,
    "start_time": "2021-11-17T11:48:39.873Z"
   },
   {
    "duration": 14,
    "start_time": "2021-11-17T11:48:39.890Z"
   },
   {
    "duration": 30,
    "start_time": "2021-11-17T11:48:39.906Z"
   },
   {
    "duration": 21,
    "start_time": "2021-11-17T11:48:39.939Z"
   },
   {
    "duration": 17,
    "start_time": "2021-11-17T11:48:39.962Z"
   },
   {
    "duration": 116,
    "start_time": "2021-11-17T11:48:39.981Z"
   },
   {
    "duration": 415,
    "start_time": "2021-11-17T11:48:40.100Z"
   },
   {
    "duration": 25,
    "start_time": "2021-11-17T11:48:40.518Z"
   },
   {
    "duration": 7,
    "start_time": "2021-11-17T11:48:40.545Z"
   },
   {
    "duration": 37,
    "start_time": "2021-11-17T11:48:40.555Z"
   },
   {
    "duration": 33,
    "start_time": "2021-11-17T11:48:40.595Z"
   },
   {
    "duration": 11,
    "start_time": "2021-11-17T11:48:40.631Z"
   },
   {
    "duration": 69,
    "start_time": "2021-11-17T11:48:40.645Z"
   },
   {
    "duration": 15,
    "start_time": "2021-11-17T11:48:40.716Z"
   },
   {
    "duration": 17,
    "start_time": "2021-11-17T11:48:40.734Z"
   },
   {
    "duration": 39,
    "start_time": "2021-11-17T11:48:40.754Z"
   },
   {
    "duration": 26,
    "start_time": "2021-11-17T11:48:40.796Z"
   },
   {
    "duration": 26,
    "start_time": "2021-11-17T11:48:40.824Z"
   },
   {
    "duration": 53,
    "start_time": "2021-11-17T11:48:40.852Z"
   },
   {
    "duration": 408,
    "start_time": "2021-11-17T11:48:40.908Z"
   },
   {
    "duration": 18,
    "start_time": "2021-11-17T11:48:41.319Z"
   },
   {
    "duration": 24,
    "start_time": "2021-11-17T11:48:41.339Z"
   },
   {
    "duration": 441,
    "start_time": "2021-11-17T11:48:41.365Z"
   },
   {
    "duration": 30,
    "start_time": "2021-11-17T11:48:41.809Z"
   },
   {
    "duration": 14,
    "start_time": "2021-11-17T11:48:41.842Z"
   },
   {
    "duration": 11,
    "start_time": "2021-11-17T11:48:41.858Z"
   },
   {
    "duration": 13,
    "start_time": "2021-11-17T11:48:41.871Z"
   },
   {
    "duration": 55,
    "start_time": "2021-11-17T11:48:41.887Z"
   },
   {
    "duration": 33,
    "start_time": "2021-11-17T11:48:41.945Z"
   },
   {
    "duration": 47,
    "start_time": "2021-11-17T11:48:41.989Z"
   },
   {
    "duration": 7,
    "start_time": "2021-11-17T11:48:42.039Z"
   },
   {
    "duration": 26,
    "start_time": "2021-11-17T11:48:42.049Z"
   },
   {
    "duration": 84,
    "start_time": "2021-11-17T11:48:42.078Z"
   },
   {
    "duration": 5,
    "start_time": "2021-11-17T11:48:42.165Z"
   },
   {
    "duration": 22,
    "start_time": "2021-11-17T11:48:42.172Z"
   },
   {
    "duration": 20,
    "start_time": "2021-11-17T11:48:42.197Z"
   },
   {
    "duration": 28,
    "start_time": "2021-11-17T11:48:42.220Z"
   },
   {
    "duration": 28,
    "start_time": "2021-11-17T11:48:42.251Z"
   },
   {
    "duration": 5941,
    "start_time": "2021-11-17T11:48:42.282Z"
   },
   {
    "duration": 9,
    "start_time": "2021-11-17T11:48:48.225Z"
   },
   {
    "duration": 129,
    "start_time": "2021-11-17T11:48:48.237Z"
   },
   {
    "duration": 18,
    "start_time": "2021-11-17T11:48:48.369Z"
   },
   {
    "duration": 45,
    "start_time": "2021-11-17T11:48:48.389Z"
   },
   {
    "duration": 46,
    "start_time": "2021-11-17T11:48:48.437Z"
   },
   {
    "duration": 915,
    "start_time": "2021-11-17T11:49:00.570Z"
   },
   {
    "duration": 546,
    "start_time": "2021-11-17T11:49:01.488Z"
   },
   {
    "duration": 3,
    "start_time": "2021-11-17T11:49:02.037Z"
   },
   {
    "duration": 48,
    "start_time": "2021-11-17T11:49:02.043Z"
   },
   {
    "duration": 22,
    "start_time": "2021-11-17T11:49:02.094Z"
   },
   {
    "duration": 34,
    "start_time": "2021-11-17T11:49:02.119Z"
   },
   {
    "duration": 10,
    "start_time": "2021-11-17T11:49:02.156Z"
   },
   {
    "duration": 15,
    "start_time": "2021-11-17T11:49:02.172Z"
   },
   {
    "duration": 62,
    "start_time": "2021-11-17T11:49:02.229Z"
   },
   {
    "duration": 36,
    "start_time": "2021-11-17T11:49:02.294Z"
   },
   {
    "duration": 12,
    "start_time": "2021-11-17T11:49:02.333Z"
   },
   {
    "duration": 24,
    "start_time": "2021-11-17T11:49:02.347Z"
   },
   {
    "duration": 25,
    "start_time": "2021-11-17T11:49:02.374Z"
   },
   {
    "duration": 32,
    "start_time": "2021-11-17T11:49:02.401Z"
   },
   {
    "duration": 26,
    "start_time": "2021-11-17T11:49:02.435Z"
   },
   {
    "duration": 6,
    "start_time": "2021-11-17T11:49:02.463Z"
   },
   {
    "duration": 32,
    "start_time": "2021-11-17T11:49:02.471Z"
   },
   {
    "duration": 18,
    "start_time": "2021-11-17T11:49:02.506Z"
   },
   {
    "duration": 20,
    "start_time": "2021-11-17T11:49:02.526Z"
   },
   {
    "duration": 15,
    "start_time": "2021-11-17T11:49:02.549Z"
   },
   {
    "duration": 26,
    "start_time": "2021-11-17T11:49:02.567Z"
   },
   {
    "duration": 44,
    "start_time": "2021-11-17T11:49:02.596Z"
   },
   {
    "duration": 16,
    "start_time": "2021-11-17T11:49:02.645Z"
   },
   {
    "duration": 72,
    "start_time": "2021-11-17T11:49:02.665Z"
   },
   {
    "duration": 31,
    "start_time": "2021-11-17T11:49:02.740Z"
   },
   {
    "duration": 39,
    "start_time": "2021-11-17T11:49:02.774Z"
   },
   {
    "duration": 8,
    "start_time": "2021-11-17T11:49:02.830Z"
   },
   {
    "duration": 36,
    "start_time": "2021-11-17T11:49:02.840Z"
   },
   {
    "duration": 29,
    "start_time": "2021-11-17T11:49:02.879Z"
   },
   {
    "duration": 448,
    "start_time": "2021-11-17T11:49:02.911Z"
   },
   {
    "duration": 501,
    "start_time": "2021-11-17T11:49:03.362Z"
   },
   {
    "duration": 9,
    "start_time": "2021-11-17T11:49:03.865Z"
   },
   {
    "duration": 20,
    "start_time": "2021-11-17T11:49:03.876Z"
   },
   {
    "duration": 46,
    "start_time": "2021-11-17T11:49:03.899Z"
   },
   {
    "duration": 38,
    "start_time": "2021-11-17T11:49:03.948Z"
   },
   {
    "duration": 29,
    "start_time": "2021-11-17T11:49:03.989Z"
   },
   {
    "duration": 27,
    "start_time": "2021-11-17T11:49:04.020Z"
   },
   {
    "duration": 453,
    "start_time": "2021-11-17T11:49:04.050Z"
   },
   {
    "duration": 23,
    "start_time": "2021-11-17T11:49:04.506Z"
   },
   {
    "duration": 6,
    "start_time": "2021-11-17T11:49:04.531Z"
   },
   {
    "duration": 7,
    "start_time": "2021-11-17T11:49:04.539Z"
   },
   {
    "duration": 16,
    "start_time": "2021-11-17T11:49:04.548Z"
   },
   {
    "duration": 16,
    "start_time": "2021-11-17T11:49:04.567Z"
   },
   {
    "duration": 126,
    "start_time": "2021-11-17T11:49:04.586Z"
   },
   {
    "duration": 574,
    "start_time": "2021-11-17T11:49:04.715Z"
   },
   {
    "duration": 36,
    "start_time": "2021-11-17T11:49:05.293Z"
   },
   {
    "duration": 9,
    "start_time": "2021-11-17T11:49:05.332Z"
   },
   {
    "duration": 39,
    "start_time": "2021-11-17T11:49:05.343Z"
   },
   {
    "duration": 14,
    "start_time": "2021-11-17T11:49:05.384Z"
   },
   {
    "duration": 33,
    "start_time": "2021-11-17T11:49:05.401Z"
   },
   {
    "duration": 49,
    "start_time": "2021-11-17T11:49:05.437Z"
   },
   {
    "duration": 9,
    "start_time": "2021-11-17T11:49:05.489Z"
   },
   {
    "duration": 32,
    "start_time": "2021-11-17T11:49:05.500Z"
   },
   {
    "duration": 20,
    "start_time": "2021-11-17T11:49:05.534Z"
   },
   {
    "duration": 12,
    "start_time": "2021-11-17T11:49:05.556Z"
   },
   {
    "duration": 11,
    "start_time": "2021-11-17T11:49:05.571Z"
   },
   {
    "duration": 75,
    "start_time": "2021-11-17T11:49:05.584Z"
   },
   {
    "duration": 416,
    "start_time": "2021-11-17T11:49:05.661Z"
   },
   {
    "duration": 11,
    "start_time": "2021-11-17T11:49:06.079Z"
   },
   {
    "duration": 43,
    "start_time": "2021-11-17T11:49:06.092Z"
   },
   {
    "duration": 427,
    "start_time": "2021-11-17T11:49:06.137Z"
   },
   {
    "duration": 16,
    "start_time": "2021-11-17T11:49:06.566Z"
   },
   {
    "duration": 13,
    "start_time": "2021-11-17T11:49:06.584Z"
   },
   {
    "duration": 36,
    "start_time": "2021-11-17T11:49:06.599Z"
   },
   {
    "duration": 8,
    "start_time": "2021-11-17T11:49:06.637Z"
   },
   {
    "duration": 42,
    "start_time": "2021-11-17T11:49:06.647Z"
   },
   {
    "duration": 39,
    "start_time": "2021-11-17T11:49:06.691Z"
   },
   {
    "duration": 12,
    "start_time": "2021-11-17T11:49:06.738Z"
   },
   {
    "duration": 9,
    "start_time": "2021-11-17T11:49:06.753Z"
   },
   {
    "duration": 20,
    "start_time": "2021-11-17T11:49:06.765Z"
   },
   {
    "duration": 100,
    "start_time": "2021-11-17T11:49:06.787Z"
   },
   {
    "duration": 5,
    "start_time": "2021-11-17T11:49:06.889Z"
   },
   {
    "duration": 10,
    "start_time": "2021-11-17T11:49:06.897Z"
   },
   {
    "duration": 20,
    "start_time": "2021-11-17T11:49:06.909Z"
   },
   {
    "duration": 23,
    "start_time": "2021-11-17T11:49:06.931Z"
   },
   {
    "duration": 13,
    "start_time": "2021-11-17T11:49:06.956Z"
   },
   {
    "duration": 6209,
    "start_time": "2021-11-17T11:49:06.972Z"
   },
   {
    "duration": 6,
    "start_time": "2021-11-17T11:49:13.183Z"
   },
   {
    "duration": 108,
    "start_time": "2021-11-17T11:49:13.191Z"
   },
   {
    "duration": 30,
    "start_time": "2021-11-17T11:49:13.301Z"
   },
   {
    "duration": 23,
    "start_time": "2021-11-17T11:49:13.333Z"
   },
   {
    "duration": 10,
    "start_time": "2021-11-17T11:49:13.358Z"
   },
   {
    "duration": 16,
    "start_time": "2021-11-17T11:49:13.370Z"
   },
   {
    "duration": 40,
    "start_time": "2021-11-17T11:49:13.389Z"
   },
   {
    "duration": 3,
    "start_time": "2021-11-17T11:49:13.432Z"
   },
   {
    "duration": 21,
    "start_time": "2021-11-17T11:49:13.437Z"
   },
   {
    "duration": 69,
    "start_time": "2021-11-17T11:49:13.460Z"
   },
   {
    "duration": 16,
    "start_time": "2021-11-17T11:49:13.532Z"
   },
   {
    "duration": 33,
    "start_time": "2021-11-17T11:49:13.551Z"
   },
   {
    "duration": 43,
    "start_time": "2021-11-17T11:49:13.586Z"
   },
   {
    "duration": 15,
    "start_time": "2021-11-17T11:49:13.632Z"
   },
   {
    "duration": 6565,
    "start_time": "2021-11-17T11:49:13.649Z"
   },
   {
    "duration": -480,
    "start_time": "2021-11-17T11:49:20.697Z"
   },
   {
    "duration": -485,
    "start_time": "2021-11-17T11:49:20.703Z"
   },
   {
    "duration": -491,
    "start_time": "2021-11-17T11:49:20.710Z"
   },
   {
    "duration": 287,
    "start_time": "2021-11-17T11:50:21.874Z"
   },
   {
    "duration": 26,
    "start_time": "2021-11-17T11:50:35.586Z"
   },
   {
    "duration": 973,
    "start_time": "2021-11-17T11:50:47.644Z"
   },
   {
    "duration": 532,
    "start_time": "2021-11-17T11:50:48.620Z"
   },
   {
    "duration": 3,
    "start_time": "2021-11-17T11:50:49.155Z"
   },
   {
    "duration": 33,
    "start_time": "2021-11-17T11:50:49.161Z"
   },
   {
    "duration": 20,
    "start_time": "2021-11-17T11:50:49.196Z"
   },
   {
    "duration": 31,
    "start_time": "2021-11-17T11:50:49.219Z"
   },
   {
    "duration": 8,
    "start_time": "2021-11-17T11:50:49.253Z"
   },
   {
    "duration": 13,
    "start_time": "2021-11-17T11:50:49.265Z"
   },
   {
    "duration": 99,
    "start_time": "2021-11-17T11:50:49.281Z"
   },
   {
    "duration": 17,
    "start_time": "2021-11-17T11:50:49.383Z"
   },
   {
    "duration": 30,
    "start_time": "2021-11-17T11:50:49.403Z"
   },
   {
    "duration": 16,
    "start_time": "2021-11-17T11:50:49.435Z"
   },
   {
    "duration": 13,
    "start_time": "2021-11-17T11:50:49.454Z"
   },
   {
    "duration": 25,
    "start_time": "2021-11-17T11:50:49.469Z"
   },
   {
    "duration": 37,
    "start_time": "2021-11-17T11:50:49.496Z"
   },
   {
    "duration": 12,
    "start_time": "2021-11-17T11:50:49.535Z"
   },
   {
    "duration": 14,
    "start_time": "2021-11-17T11:50:49.549Z"
   },
   {
    "duration": 16,
    "start_time": "2021-11-17T11:50:49.565Z"
   },
   {
    "duration": 11,
    "start_time": "2021-11-17T11:50:49.583Z"
   },
   {
    "duration": 7,
    "start_time": "2021-11-17T11:50:49.596Z"
   },
   {
    "duration": 27,
    "start_time": "2021-11-17T11:50:49.605Z"
   },
   {
    "duration": 11,
    "start_time": "2021-11-17T11:50:49.634Z"
   },
   {
    "duration": 6,
    "start_time": "2021-11-17T11:50:49.652Z"
   },
   {
    "duration": 41,
    "start_time": "2021-11-17T11:50:49.662Z"
   },
   {
    "duration": 25,
    "start_time": "2021-11-17T11:50:49.730Z"
   },
   {
    "duration": 37,
    "start_time": "2021-11-17T11:50:49.757Z"
   },
   {
    "duration": 7,
    "start_time": "2021-11-17T11:50:49.796Z"
   },
   {
    "duration": 16,
    "start_time": "2021-11-17T11:50:49.830Z"
   },
   {
    "duration": 12,
    "start_time": "2021-11-17T11:50:49.849Z"
   },
   {
    "duration": 504,
    "start_time": "2021-11-17T11:50:49.864Z"
   },
   {
    "duration": 440,
    "start_time": "2021-11-17T11:50:50.371Z"
   },
   {
    "duration": 18,
    "start_time": "2021-11-17T11:50:50.813Z"
   },
   {
    "duration": 14,
    "start_time": "2021-11-17T11:50:50.833Z"
   },
   {
    "duration": 11,
    "start_time": "2021-11-17T11:50:50.849Z"
   },
   {
    "duration": 14,
    "start_time": "2021-11-17T11:50:50.862Z"
   },
   {
    "duration": 15,
    "start_time": "2021-11-17T11:50:50.878Z"
   },
   {
    "duration": 45,
    "start_time": "2021-11-17T11:50:50.895Z"
   },
   {
    "duration": 452,
    "start_time": "2021-11-17T11:50:50.943Z"
   },
   {
    "duration": 13,
    "start_time": "2021-11-17T11:50:51.398Z"
   },
   {
    "duration": 7,
    "start_time": "2021-11-17T11:50:51.429Z"
   },
   {
    "duration": 19,
    "start_time": "2021-11-17T11:50:51.440Z"
   },
   {
    "duration": 22,
    "start_time": "2021-11-17T11:50:51.461Z"
   },
   {
    "duration": 18,
    "start_time": "2021-11-17T11:50:51.486Z"
   },
   {
    "duration": 127,
    "start_time": "2021-11-17T11:50:51.506Z"
   },
   {
    "duration": 497,
    "start_time": "2021-11-17T11:50:51.635Z"
   },
   {
    "duration": 20,
    "start_time": "2021-11-17T11:50:52.134Z"
   },
   {
    "duration": 11,
    "start_time": "2021-11-17T11:50:52.156Z"
   },
   {
    "duration": 31,
    "start_time": "2021-11-17T11:50:52.169Z"
   },
   {
    "duration": 42,
    "start_time": "2021-11-17T11:50:52.203Z"
   },
   {
    "duration": 11,
    "start_time": "2021-11-17T11:50:52.247Z"
   },
   {
    "duration": 73,
    "start_time": "2021-11-17T11:50:52.261Z"
   },
   {
    "duration": 10,
    "start_time": "2021-11-17T11:50:52.337Z"
   },
   {
    "duration": 7,
    "start_time": "2021-11-17T11:50:52.349Z"
   },
   {
    "duration": 27,
    "start_time": "2021-11-17T11:50:52.358Z"
   },
   {
    "duration": 50,
    "start_time": "2021-11-17T11:50:52.388Z"
   },
   {
    "duration": 12,
    "start_time": "2021-11-17T11:50:52.440Z"
   },
   {
    "duration": 57,
    "start_time": "2021-11-17T11:50:52.454Z"
   },
   {
    "duration": 423,
    "start_time": "2021-11-17T11:50:52.514Z"
   },
   {
    "duration": 11,
    "start_time": "2021-11-17T11:50:52.939Z"
   },
   {
    "duration": 20,
    "start_time": "2021-11-17T11:50:52.952Z"
   },
   {
    "duration": 476,
    "start_time": "2021-11-17T11:50:52.975Z"
   },
   {
    "duration": 19,
    "start_time": "2021-11-17T11:50:53.454Z"
   },
   {
    "duration": 27,
    "start_time": "2021-11-17T11:50:53.476Z"
   },
   {
    "duration": 37,
    "start_time": "2021-11-17T11:50:53.505Z"
   },
   {
    "duration": 21,
    "start_time": "2021-11-17T11:50:53.544Z"
   },
   {
    "duration": 32,
    "start_time": "2021-11-17T11:50:53.568Z"
   },
   {
    "duration": 48,
    "start_time": "2021-11-17T11:50:53.603Z"
   },
   {
    "duration": 15,
    "start_time": "2021-11-17T11:50:53.663Z"
   },
   {
    "duration": 18,
    "start_time": "2021-11-17T11:50:53.681Z"
   },
   {
    "duration": 36,
    "start_time": "2021-11-17T11:50:53.702Z"
   },
   {
    "duration": 72,
    "start_time": "2021-11-17T11:50:53.741Z"
   },
   {
    "duration": 18,
    "start_time": "2021-11-17T11:50:53.815Z"
   },
   {
    "duration": 22,
    "start_time": "2021-11-17T11:50:53.836Z"
   },
   {
    "duration": 27,
    "start_time": "2021-11-17T11:50:53.861Z"
   },
   {
    "duration": 33,
    "start_time": "2021-11-17T11:50:53.891Z"
   },
   {
    "duration": 27,
    "start_time": "2021-11-17T11:50:53.927Z"
   },
   {
    "duration": 5809,
    "start_time": "2021-11-17T11:50:53.957Z"
   },
   {
    "duration": 5,
    "start_time": "2021-11-17T11:50:59.769Z"
   },
   {
    "duration": 116,
    "start_time": "2021-11-17T11:50:59.776Z"
   },
   {
    "duration": 17,
    "start_time": "2021-11-17T11:50:59.895Z"
   },
   {
    "duration": 33,
    "start_time": "2021-11-17T11:50:59.914Z"
   },
   {
    "duration": 10,
    "start_time": "2021-11-17T11:50:59.949Z"
   },
   {
    "duration": 5,
    "start_time": "2021-11-17T11:50:59.962Z"
   },
   {
    "duration": 37,
    "start_time": "2021-11-17T11:50:59.969Z"
   },
   {
    "duration": 58,
    "start_time": "2021-11-17T11:51:00.009Z"
   },
   {
    "duration": 16,
    "start_time": "2021-11-17T11:51:00.070Z"
   },
   {
    "duration": 62,
    "start_time": "2021-11-17T11:51:00.089Z"
   },
   {
    "duration": 19,
    "start_time": "2021-11-17T11:51:00.154Z"
   },
   {
    "duration": 17,
    "start_time": "2021-11-17T11:51:00.176Z"
   },
   {
    "duration": 6979,
    "start_time": "2021-11-17T11:51:00.195Z"
   },
   {
    "duration": -465,
    "start_time": "2021-11-17T11:51:07.642Z"
   },
   {
    "duration": -470,
    "start_time": "2021-11-17T11:51:07.648Z"
   },
   {
    "duration": -475,
    "start_time": "2021-11-17T11:51:07.655Z"
   },
   {
    "duration": 306,
    "start_time": "2021-11-17T11:56:02.046Z"
   },
   {
    "duration": 308,
    "start_time": "2021-11-17T11:56:31.118Z"
   },
   {
    "duration": 7245,
    "start_time": "2021-11-17T11:58:42.234Z"
   },
   {
    "duration": 80,
    "start_time": "2021-11-17T11:59:09.129Z"
   },
   {
    "duration": 27,
    "start_time": "2021-11-17T12:00:02.419Z"
   },
   {
    "duration": 95,
    "start_time": "2021-11-17T12:01:02.768Z"
   },
   {
    "duration": 700,
    "start_time": "2021-11-17T12:01:06.946Z"
   },
   {
    "duration": 173,
    "start_time": "2021-11-17T12:01:34.094Z"
   },
   {
    "duration": 96,
    "start_time": "2021-11-17T12:01:42.177Z"
   },
   {
    "duration": 30,
    "start_time": "2021-11-17T12:01:51.142Z"
   },
   {
    "duration": 30,
    "start_time": "2021-11-17T12:04:01.329Z"
   },
   {
    "duration": 22,
    "start_time": "2021-11-17T12:04:07.177Z"
   },
   {
    "duration": 30,
    "start_time": "2021-11-17T12:04:18.623Z"
   },
   {
    "duration": 16,
    "start_time": "2021-11-17T12:04:21.768Z"
   },
   {
    "duration": 5,
    "start_time": "2021-11-17T12:05:06.223Z"
   },
   {
    "duration": 572,
    "start_time": "2021-11-17T12:05:06.230Z"
   },
   {
    "duration": 3,
    "start_time": "2021-11-17T12:05:06.805Z"
   },
   {
    "duration": 35,
    "start_time": "2021-11-17T12:05:06.810Z"
   },
   {
    "duration": 18,
    "start_time": "2021-11-17T12:05:06.848Z"
   },
   {
    "duration": 23,
    "start_time": "2021-11-17T12:05:06.869Z"
   },
   {
    "duration": 9,
    "start_time": "2021-11-17T12:05:06.894Z"
   },
   {
    "duration": 33,
    "start_time": "2021-11-17T12:05:06.906Z"
   },
   {
    "duration": 80,
    "start_time": "2021-11-17T12:05:06.942Z"
   },
   {
    "duration": 12,
    "start_time": "2021-11-17T12:05:07.025Z"
   },
   {
    "duration": 21,
    "start_time": "2021-11-17T12:05:07.039Z"
   },
   {
    "duration": 40,
    "start_time": "2021-11-17T12:05:07.063Z"
   },
   {
    "duration": 29,
    "start_time": "2021-11-17T12:05:07.105Z"
   },
   {
    "duration": 22,
    "start_time": "2021-11-17T12:05:07.136Z"
   },
   {
    "duration": 15,
    "start_time": "2021-11-17T12:05:07.161Z"
   },
   {
    "duration": 6,
    "start_time": "2021-11-17T12:05:07.178Z"
   },
   {
    "duration": 10,
    "start_time": "2021-11-17T12:05:07.187Z"
   },
   {
    "duration": 10,
    "start_time": "2021-11-17T12:05:07.200Z"
   },
   {
    "duration": 4,
    "start_time": "2021-11-17T12:05:07.230Z"
   },
   {
    "duration": 13,
    "start_time": "2021-11-17T12:05:07.236Z"
   },
   {
    "duration": 10,
    "start_time": "2021-11-17T12:05:07.251Z"
   },
   {
    "duration": 14,
    "start_time": "2021-11-17T12:05:07.264Z"
   },
   {
    "duration": 7,
    "start_time": "2021-11-17T12:05:07.285Z"
   },
   {
    "duration": 66,
    "start_time": "2021-11-17T12:05:07.295Z"
   },
   {
    "duration": 27,
    "start_time": "2021-11-17T12:05:07.363Z"
   },
   {
    "duration": 49,
    "start_time": "2021-11-17T12:05:07.392Z"
   },
   {
    "duration": 6,
    "start_time": "2021-11-17T12:05:07.443Z"
   },
   {
    "duration": 32,
    "start_time": "2021-11-17T12:05:07.451Z"
   },
   {
    "duration": 7,
    "start_time": "2021-11-17T12:05:07.487Z"
   },
   {
    "duration": 434,
    "start_time": "2021-11-17T12:05:07.496Z"
   },
   {
    "duration": 395,
    "start_time": "2021-11-17T12:05:07.934Z"
   },
   {
    "duration": 9,
    "start_time": "2021-11-17T12:05:08.331Z"
   },
   {
    "duration": 12,
    "start_time": "2021-11-17T12:05:08.342Z"
   },
   {
    "duration": 16,
    "start_time": "2021-11-17T12:05:08.357Z"
   },
   {
    "duration": 13,
    "start_time": "2021-11-17T12:05:08.375Z"
   },
   {
    "duration": 45,
    "start_time": "2021-11-17T12:05:08.391Z"
   },
   {
    "duration": 11,
    "start_time": "2021-11-17T12:05:08.439Z"
   },
   {
    "duration": 447,
    "start_time": "2021-11-17T12:05:08.453Z"
   },
   {
    "duration": 12,
    "start_time": "2021-11-17T12:05:08.903Z"
   },
   {
    "duration": 6,
    "start_time": "2021-11-17T12:05:08.930Z"
   },
   {
    "duration": 6,
    "start_time": "2021-11-17T12:05:08.939Z"
   },
   {
    "duration": 18,
    "start_time": "2021-11-17T12:05:08.947Z"
   },
   {
    "duration": 13,
    "start_time": "2021-11-17T12:05:08.968Z"
   },
   {
    "duration": 120,
    "start_time": "2021-11-17T12:05:08.983Z"
   },
   {
    "duration": 410,
    "start_time": "2021-11-17T12:05:09.105Z"
   },
   {
    "duration": 28,
    "start_time": "2021-11-17T12:05:09.517Z"
   },
   {
    "duration": 18,
    "start_time": "2021-11-17T12:05:09.547Z"
   },
   {
    "duration": 25,
    "start_time": "2021-11-17T12:05:09.567Z"
   },
   {
    "duration": 36,
    "start_time": "2021-11-17T12:05:09.594Z"
   },
   {
    "duration": 10,
    "start_time": "2021-11-17T12:05:09.633Z"
   },
   {
    "duration": 48,
    "start_time": "2021-11-17T12:05:09.645Z"
   },
   {
    "duration": 10,
    "start_time": "2021-11-17T12:05:09.696Z"
   },
   {
    "duration": 6,
    "start_time": "2021-11-17T12:05:09.728Z"
   },
   {
    "duration": 22,
    "start_time": "2021-11-17T12:05:09.736Z"
   },
   {
    "duration": 12,
    "start_time": "2021-11-17T12:05:09.761Z"
   },
   {
    "duration": 12,
    "start_time": "2021-11-17T12:05:09.775Z"
   },
   {
    "duration": 74,
    "start_time": "2021-11-17T12:05:09.789Z"
   },
   {
    "duration": 420,
    "start_time": "2021-11-17T12:05:09.866Z"
   },
   {
    "duration": 10,
    "start_time": "2021-11-17T12:05:10.289Z"
   },
   {
    "duration": 44,
    "start_time": "2021-11-17T12:05:10.302Z"
   },
   {
    "duration": 514,
    "start_time": "2021-11-17T12:05:10.348Z"
   },
   {
    "duration": 17,
    "start_time": "2021-11-17T12:05:10.864Z"
   },
   {
    "duration": 17,
    "start_time": "2021-11-17T12:05:10.883Z"
   },
   {
    "duration": 32,
    "start_time": "2021-11-17T12:05:10.902Z"
   },
   {
    "duration": 29,
    "start_time": "2021-11-17T12:05:10.936Z"
   },
   {
    "duration": 23,
    "start_time": "2021-11-17T12:05:10.967Z"
   },
   {
    "duration": 50,
    "start_time": "2021-11-17T12:05:10.993Z"
   },
   {
    "duration": 13,
    "start_time": "2021-11-17T12:05:11.051Z"
   },
   {
    "duration": 13,
    "start_time": "2021-11-17T12:05:11.067Z"
   },
   {
    "duration": 70,
    "start_time": "2021-11-17T12:05:11.083Z"
   },
   {
    "duration": 132,
    "start_time": "2021-11-17T12:05:11.155Z"
   },
   {
    "duration": 5,
    "start_time": "2021-11-17T12:05:11.290Z"
   },
   {
    "duration": 18,
    "start_time": "2021-11-17T12:05:11.297Z"
   },
   {
    "duration": 16,
    "start_time": "2021-11-17T12:05:11.317Z"
   },
   {
    "duration": 31,
    "start_time": "2021-11-17T12:05:11.335Z"
   },
   {
    "duration": 13,
    "start_time": "2021-11-17T12:05:11.369Z"
   },
   {
    "duration": 6186,
    "start_time": "2021-11-17T12:05:11.384Z"
   },
   {
    "duration": 5,
    "start_time": "2021-11-17T12:05:17.573Z"
   },
   {
    "duration": 54,
    "start_time": "2021-11-17T12:05:17.581Z"
   },
   {
    "duration": 16,
    "start_time": "2021-11-17T12:05:17.638Z"
   },
   {
    "duration": 13,
    "start_time": "2021-11-17T12:05:17.656Z"
   },
   {
    "duration": 17,
    "start_time": "2021-11-17T12:05:17.671Z"
   },
   {
    "duration": 16,
    "start_time": "2021-11-17T12:05:44.974Z"
   },
   {
    "duration": 11,
    "start_time": "2021-11-17T12:09:19.546Z"
   },
   {
    "duration": 14,
    "start_time": "2021-11-17T12:09:32.290Z"
   },
   {
    "duration": 6983,
    "start_time": "2021-11-17T12:10:38.245Z"
   },
   {
    "duration": 6781,
    "start_time": "2021-11-17T12:10:55.299Z"
   },
   {
    "duration": 6590,
    "start_time": "2021-11-17T12:11:15.502Z"
   },
   {
    "duration": 268,
    "start_time": "2021-11-17T12:14:24.054Z"
   },
   {
    "duration": 5,
    "start_time": "2021-11-17T12:14:46.781Z"
   },
   {
    "duration": 5,
    "start_time": "2021-11-17T12:14:52.184Z"
   },
   {
    "duration": 26,
    "start_time": "2021-11-17T12:15:06.110Z"
   },
   {
    "duration": 33,
    "start_time": "2021-11-17T12:15:10.754Z"
   },
   {
    "duration": 30,
    "start_time": "2021-11-17T12:16:23.166Z"
   },
   {
    "duration": 12,
    "start_time": "2021-11-17T12:16:31.015Z"
   },
   {
    "duration": 18,
    "start_time": "2021-11-17T12:16:31.818Z"
   },
   {
    "duration": 12,
    "start_time": "2021-11-17T12:16:33.665Z"
   },
   {
    "duration": 893,
    "start_time": "2021-11-17T12:16:42.558Z"
   },
   {
    "duration": 521,
    "start_time": "2021-11-17T12:16:43.454Z"
   },
   {
    "duration": 3,
    "start_time": "2021-11-17T12:16:43.978Z"
   },
   {
    "duration": 33,
    "start_time": "2021-11-17T12:16:43.983Z"
   },
   {
    "duration": 19,
    "start_time": "2021-11-17T12:16:44.018Z"
   },
   {
    "duration": 23,
    "start_time": "2021-11-17T12:16:44.039Z"
   },
   {
    "duration": 8,
    "start_time": "2021-11-17T12:16:44.065Z"
   },
   {
    "duration": 16,
    "start_time": "2021-11-17T12:16:44.076Z"
   },
   {
    "duration": 84,
    "start_time": "2021-11-17T12:16:44.095Z"
   },
   {
    "duration": 14,
    "start_time": "2021-11-17T12:16:44.182Z"
   },
   {
    "duration": 31,
    "start_time": "2021-11-17T12:16:44.198Z"
   },
   {
    "duration": 11,
    "start_time": "2021-11-17T12:16:44.231Z"
   },
   {
    "duration": 16,
    "start_time": "2021-11-17T12:16:44.244Z"
   },
   {
    "duration": 19,
    "start_time": "2021-11-17T12:16:44.262Z"
   },
   {
    "duration": 13,
    "start_time": "2021-11-17T12:16:44.283Z"
   },
   {
    "duration": 32,
    "start_time": "2021-11-17T12:16:44.298Z"
   },
   {
    "duration": 5,
    "start_time": "2021-11-17T12:16:44.333Z"
   },
   {
    "duration": 10,
    "start_time": "2021-11-17T12:16:44.340Z"
   },
   {
    "duration": 7,
    "start_time": "2021-11-17T12:16:44.352Z"
   },
   {
    "duration": 9,
    "start_time": "2021-11-17T12:16:44.361Z"
   },
   {
    "duration": 7,
    "start_time": "2021-11-17T12:16:44.372Z"
   },
   {
    "duration": 11,
    "start_time": "2021-11-17T12:16:44.381Z"
   },
   {
    "duration": 35,
    "start_time": "2021-11-17T12:16:44.398Z"
   },
   {
    "duration": 43,
    "start_time": "2021-11-17T12:16:44.438Z"
   },
   {
    "duration": 25,
    "start_time": "2021-11-17T12:16:44.484Z"
   },
   {
    "duration": 35,
    "start_time": "2021-11-17T12:16:44.530Z"
   },
   {
    "duration": 7,
    "start_time": "2021-11-17T12:16:44.567Z"
   },
   {
    "duration": 20,
    "start_time": "2021-11-17T12:16:44.576Z"
   },
   {
    "duration": 33,
    "start_time": "2021-11-17T12:16:44.598Z"
   },
   {
    "duration": 426,
    "start_time": "2021-11-17T12:16:44.633Z"
   },
   {
    "duration": 418,
    "start_time": "2021-11-17T12:16:45.062Z"
   },
   {
    "duration": 8,
    "start_time": "2021-11-17T12:16:45.483Z"
   },
   {
    "duration": 9,
    "start_time": "2021-11-17T12:16:45.494Z"
   },
   {
    "duration": 28,
    "start_time": "2021-11-17T12:16:45.506Z"
   },
   {
    "duration": 17,
    "start_time": "2021-11-17T12:16:45.537Z"
   },
   {
    "duration": 16,
    "start_time": "2021-11-17T12:16:45.556Z"
   },
   {
    "duration": 10,
    "start_time": "2021-11-17T12:16:45.574Z"
   },
   {
    "duration": 450,
    "start_time": "2021-11-17T12:16:45.586Z"
   },
   {
    "duration": 12,
    "start_time": "2021-11-17T12:16:46.038Z"
   },
   {
    "duration": 12,
    "start_time": "2021-11-17T12:16:46.053Z"
   },
   {
    "duration": 9,
    "start_time": "2021-11-17T12:16:46.067Z"
   },
   {
    "duration": 13,
    "start_time": "2021-11-17T12:16:46.078Z"
   },
   {
    "duration": 42,
    "start_time": "2021-11-17T12:16:46.093Z"
   },
   {
    "duration": 107,
    "start_time": "2021-11-17T12:16:46.137Z"
   },
   {
    "duration": 472,
    "start_time": "2021-11-17T12:16:46.247Z"
   },
   {
    "duration": 27,
    "start_time": "2021-11-17T12:16:46.722Z"
   },
   {
    "duration": 6,
    "start_time": "2021-11-17T12:16:46.752Z"
   },
   {
    "duration": 29,
    "start_time": "2021-11-17T12:16:46.761Z"
   },
   {
    "duration": 49,
    "start_time": "2021-11-17T12:16:46.792Z"
   },
   {
    "duration": 12,
    "start_time": "2021-11-17T12:16:46.843Z"
   },
   {
    "duration": 44,
    "start_time": "2021-11-17T12:16:46.858Z"
   },
   {
    "duration": 11,
    "start_time": "2021-11-17T12:16:46.929Z"
   },
   {
    "duration": 6,
    "start_time": "2021-11-17T12:16:46.942Z"
   },
   {
    "duration": 21,
    "start_time": "2021-11-17T12:16:46.950Z"
   },
   {
    "duration": 13,
    "start_time": "2021-11-17T12:16:46.973Z"
   },
   {
    "duration": 12,
    "start_time": "2021-11-17T12:16:47.029Z"
   },
   {
    "duration": 39,
    "start_time": "2021-11-17T12:16:47.043Z"
   },
   {
    "duration": 422,
    "start_time": "2021-11-17T12:16:47.085Z"
   },
   {
    "duration": 21,
    "start_time": "2021-11-17T12:16:47.509Z"
   },
   {
    "duration": 20,
    "start_time": "2021-11-17T12:16:47.533Z"
   },
   {
    "duration": 438,
    "start_time": "2021-11-17T12:16:47.556Z"
   },
   {
    "duration": 17,
    "start_time": "2021-11-17T12:16:47.997Z"
   },
   {
    "duration": 13,
    "start_time": "2021-11-17T12:16:48.029Z"
   },
   {
    "duration": 10,
    "start_time": "2021-11-17T12:16:48.045Z"
   },
   {
    "duration": 6,
    "start_time": "2021-11-17T12:16:48.058Z"
   },
   {
    "duration": 20,
    "start_time": "2021-11-17T12:16:48.066Z"
   },
   {
    "duration": 33,
    "start_time": "2021-11-17T12:16:48.129Z"
   },
   {
    "duration": 12,
    "start_time": "2021-11-17T12:16:48.169Z"
   },
   {
    "duration": 6,
    "start_time": "2021-11-17T12:16:48.184Z"
   },
   {
    "duration": 43,
    "start_time": "2021-11-17T12:16:48.193Z"
   },
   {
    "duration": 70,
    "start_time": "2021-11-17T12:16:48.238Z"
   },
   {
    "duration": 6,
    "start_time": "2021-11-17T12:16:48.329Z"
   },
   {
    "duration": 22,
    "start_time": "2021-11-17T12:16:48.338Z"
   },
   {
    "duration": 9,
    "start_time": "2021-11-17T12:16:48.363Z"
   },
   {
    "duration": 38,
    "start_time": "2021-11-17T12:16:48.374Z"
   },
   {
    "duration": 16,
    "start_time": "2021-11-17T12:16:48.415Z"
   },
   {
    "duration": 6012,
    "start_time": "2021-11-17T12:16:48.434Z"
   },
   {
    "duration": 6,
    "start_time": "2021-11-17T12:16:54.448Z"
   },
   {
    "duration": 38,
    "start_time": "2021-11-17T12:16:54.456Z"
   },
   {
    "duration": 41,
    "start_time": "2021-11-17T12:16:54.497Z"
   },
   {
    "duration": 14,
    "start_time": "2021-11-17T12:16:54.541Z"
   },
   {
    "duration": 15,
    "start_time": "2021-11-17T12:16:54.557Z"
   },
   {
    "duration": 62,
    "start_time": "2021-11-17T12:16:54.575Z"
   },
   {
    "duration": 15,
    "start_time": "2021-11-17T12:16:54.640Z"
   },
   {
    "duration": 38,
    "start_time": "2021-11-17T12:16:54.658Z"
   },
   {
    "duration": 41,
    "start_time": "2021-11-17T12:16:54.699Z"
   },
   {
    "duration": 21,
    "start_time": "2021-11-17T12:16:54.743Z"
   },
   {
    "duration": 23,
    "start_time": "2021-11-17T12:16:54.766Z"
   },
   {
    "duration": 17,
    "start_time": "2021-11-17T12:16:54.791Z"
   },
   {
    "duration": 27,
    "start_time": "2021-11-17T12:16:54.810Z"
   },
   {
    "duration": 21,
    "start_time": "2021-11-17T12:16:54.839Z"
   },
   {
    "duration": 364,
    "start_time": "2021-11-17T13:21:32.819Z"
   },
   {
    "duration": 8,
    "start_time": "2021-11-17T13:21:38.178Z"
   },
   {
    "duration": 5,
    "start_time": "2021-11-17T13:21:58.035Z"
   },
   {
    "duration": 19,
    "start_time": "2021-11-17T13:23:54.467Z"
   },
   {
    "duration": 20,
    "start_time": "2021-11-17T13:24:12.185Z"
   },
   {
    "duration": 9,
    "start_time": "2021-11-17T13:24:26.354Z"
   },
   {
    "duration": 952,
    "start_time": "2021-11-17T13:24:37.534Z"
   },
   {
    "duration": 530,
    "start_time": "2021-11-17T13:24:38.488Z"
   },
   {
    "duration": 3,
    "start_time": "2021-11-17T13:24:39.021Z"
   },
   {
    "duration": 30,
    "start_time": "2021-11-17T13:24:39.027Z"
   },
   {
    "duration": 19,
    "start_time": "2021-11-17T13:24:39.060Z"
   },
   {
    "duration": 22,
    "start_time": "2021-11-17T13:24:39.082Z"
   },
   {
    "duration": 29,
    "start_time": "2021-11-17T13:24:39.106Z"
   },
   {
    "duration": 14,
    "start_time": "2021-11-17T13:24:39.139Z"
   },
   {
    "duration": 74,
    "start_time": "2021-11-17T13:24:39.156Z"
   },
   {
    "duration": 16,
    "start_time": "2021-11-17T13:24:39.232Z"
   },
   {
    "duration": 9,
    "start_time": "2021-11-17T13:24:39.251Z"
   },
   {
    "duration": 16,
    "start_time": "2021-11-17T13:24:39.262Z"
   },
   {
    "duration": 14,
    "start_time": "2021-11-17T13:24:39.281Z"
   },
   {
    "duration": 15,
    "start_time": "2021-11-17T13:24:39.330Z"
   },
   {
    "duration": 12,
    "start_time": "2021-11-17T13:24:39.348Z"
   },
   {
    "duration": 6,
    "start_time": "2021-11-17T13:24:39.362Z"
   },
   {
    "duration": 7,
    "start_time": "2021-11-17T13:24:39.370Z"
   },
   {
    "duration": 10,
    "start_time": "2021-11-17T13:24:39.379Z"
   },
   {
    "duration": 38,
    "start_time": "2021-11-17T13:24:39.391Z"
   },
   {
    "duration": 7,
    "start_time": "2021-11-17T13:24:39.431Z"
   },
   {
    "duration": 5,
    "start_time": "2021-11-17T13:24:39.441Z"
   },
   {
    "duration": 16,
    "start_time": "2021-11-17T13:24:39.448Z"
   },
   {
    "duration": 7,
    "start_time": "2021-11-17T13:24:39.470Z"
   },
   {
    "duration": 72,
    "start_time": "2021-11-17T13:24:39.481Z"
   },
   {
    "duration": 27,
    "start_time": "2021-11-17T13:24:39.555Z"
   },
   {
    "duration": 57,
    "start_time": "2021-11-17T13:24:39.585Z"
   },
   {
    "duration": 5,
    "start_time": "2021-11-17T13:24:39.645Z"
   },
   {
    "duration": 16,
    "start_time": "2021-11-17T13:24:39.652Z"
   },
   {
    "duration": 5,
    "start_time": "2021-11-17T13:24:39.670Z"
   },
   {
    "duration": 437,
    "start_time": "2021-11-17T13:24:39.678Z"
   },
   {
    "duration": 395,
    "start_time": "2021-11-17T13:24:40.118Z"
   },
   {
    "duration": 15,
    "start_time": "2021-11-17T13:24:40.515Z"
   },
   {
    "duration": 9,
    "start_time": "2021-11-17T13:24:40.533Z"
   },
   {
    "duration": 21,
    "start_time": "2021-11-17T13:24:40.544Z"
   },
   {
    "duration": 13,
    "start_time": "2021-11-17T13:24:40.568Z"
   },
   {
    "duration": 11,
    "start_time": "2021-11-17T13:24:40.584Z"
   },
   {
    "duration": 42,
    "start_time": "2021-11-17T13:24:40.598Z"
   },
   {
    "duration": 431,
    "start_time": "2021-11-17T13:24:40.643Z"
   },
   {
    "duration": 13,
    "start_time": "2021-11-17T13:24:41.077Z"
   },
   {
    "duration": 9,
    "start_time": "2021-11-17T13:24:41.093Z"
   },
   {
    "duration": 30,
    "start_time": "2021-11-17T13:24:41.104Z"
   },
   {
    "duration": 21,
    "start_time": "2021-11-17T13:24:41.137Z"
   },
   {
    "duration": 17,
    "start_time": "2021-11-17T13:24:41.161Z"
   },
   {
    "duration": 121,
    "start_time": "2021-11-17T13:24:41.181Z"
   },
   {
    "duration": 467,
    "start_time": "2021-11-17T13:24:41.305Z"
   },
   {
    "duration": 22,
    "start_time": "2021-11-17T13:24:41.776Z"
   },
   {
    "duration": 33,
    "start_time": "2021-11-17T13:24:41.800Z"
   },
   {
    "duration": 27,
    "start_time": "2021-11-17T13:24:41.836Z"
   },
   {
    "duration": 15,
    "start_time": "2021-11-17T13:24:41.866Z"
   },
   {
    "duration": 11,
    "start_time": "2021-11-17T13:24:41.883Z"
   },
   {
    "duration": 51,
    "start_time": "2021-11-17T13:24:41.929Z"
   },
   {
    "duration": 10,
    "start_time": "2021-11-17T13:24:41.982Z"
   },
   {
    "duration": 19,
    "start_time": "2021-11-17T13:24:41.994Z"
   },
   {
    "duration": 27,
    "start_time": "2021-11-17T13:24:42.015Z"
   },
   {
    "duration": 20,
    "start_time": "2021-11-17T13:24:42.044Z"
   },
   {
    "duration": 16,
    "start_time": "2021-11-17T13:24:42.066Z"
   },
   {
    "duration": 58,
    "start_time": "2021-11-17T13:24:42.084Z"
   },
   {
    "duration": 514,
    "start_time": "2021-11-17T13:24:42.145Z"
   },
   {
    "duration": 10,
    "start_time": "2021-11-17T13:24:42.662Z"
   },
   {
    "duration": 24,
    "start_time": "2021-11-17T13:24:42.674Z"
   },
   {
    "duration": 432,
    "start_time": "2021-11-17T13:24:42.701Z"
   },
   {
    "duration": 15,
    "start_time": "2021-11-17T13:24:43.135Z"
   },
   {
    "duration": 30,
    "start_time": "2021-11-17T13:24:43.152Z"
   },
   {
    "duration": 9,
    "start_time": "2021-11-17T13:24:43.185Z"
   },
   {
    "duration": 18,
    "start_time": "2021-11-17T13:24:43.196Z"
   },
   {
    "duration": 18,
    "start_time": "2021-11-17T13:24:43.228Z"
   },
   {
    "duration": 38,
    "start_time": "2021-11-17T13:24:43.249Z"
   },
   {
    "duration": 11,
    "start_time": "2021-11-17T13:24:43.296Z"
   },
   {
    "duration": 5,
    "start_time": "2021-11-17T13:24:43.330Z"
   },
   {
    "duration": 29,
    "start_time": "2021-11-17T13:24:43.338Z"
   },
   {
    "duration": 83,
    "start_time": "2021-11-17T13:24:43.370Z"
   },
   {
    "duration": 5,
    "start_time": "2021-11-17T13:24:43.455Z"
   },
   {
    "duration": 18,
    "start_time": "2021-11-17T13:24:43.463Z"
   },
   {
    "duration": 24,
    "start_time": "2021-11-17T13:24:43.484Z"
   },
   {
    "duration": 28,
    "start_time": "2021-11-17T13:24:43.511Z"
   },
   {
    "duration": 11,
    "start_time": "2021-11-17T13:24:43.541Z"
   },
   {
    "duration": 5700,
    "start_time": "2021-11-17T13:24:43.554Z"
   },
   {
    "duration": 5,
    "start_time": "2021-11-17T13:24:49.256Z"
   },
   {
    "duration": 35,
    "start_time": "2021-11-17T13:24:49.264Z"
   },
   {
    "duration": 38,
    "start_time": "2021-11-17T13:24:49.301Z"
   },
   {
    "duration": 16,
    "start_time": "2021-11-17T13:24:49.342Z"
   },
   {
    "duration": 13,
    "start_time": "2021-11-17T13:24:49.361Z"
   },
   {
    "duration": 57,
    "start_time": "2021-11-17T13:24:49.376Z"
   },
   {
    "duration": 12,
    "start_time": "2021-11-17T13:24:49.435Z"
   },
   {
    "duration": 34,
    "start_time": "2021-11-17T13:24:49.449Z"
   },
   {
    "duration": 12,
    "start_time": "2021-11-17T13:24:49.485Z"
   },
   {
    "duration": 43,
    "start_time": "2021-11-17T13:24:49.499Z"
   },
   {
    "duration": 9,
    "start_time": "2021-11-17T13:24:49.544Z"
   },
   {
    "duration": 6,
    "start_time": "2021-11-17T13:24:49.555Z"
   },
   {
    "duration": 17,
    "start_time": "2021-11-17T13:24:49.563Z"
   },
   {
    "duration": 9,
    "start_time": "2021-11-17T13:24:49.582Z"
   },
   {
    "duration": 37,
    "start_time": "2021-11-17T13:24:49.593Z"
   },
   {
    "duration": 13,
    "start_time": "2021-11-17T13:24:49.632Z"
   },
   {
    "duration": 4,
    "start_time": "2021-11-17T13:26:41.624Z"
   },
   {
    "duration": 8,
    "start_time": "2021-11-17T13:26:43.498Z"
   },
   {
    "duration": 14,
    "start_time": "2021-11-17T13:26:48.742Z"
   },
   {
    "duration": 13,
    "start_time": "2021-11-17T13:26:55.522Z"
   },
   {
    "duration": 315,
    "start_time": "2021-11-18T07:59:51.329Z"
   },
   {
    "duration": 775,
    "start_time": "2021-11-18T08:00:05.725Z"
   },
   {
    "duration": 408,
    "start_time": "2021-11-18T08:00:06.502Z"
   },
   {
    "duration": 2,
    "start_time": "2021-11-18T08:00:06.915Z"
   },
   {
    "duration": 23,
    "start_time": "2021-11-18T08:00:06.919Z"
   },
   {
    "duration": 19,
    "start_time": "2021-11-18T08:00:06.946Z"
   },
   {
    "duration": 22,
    "start_time": "2021-11-18T08:00:06.966Z"
   },
   {
    "duration": 6,
    "start_time": "2021-11-18T08:00:06.990Z"
   },
   {
    "duration": 13,
    "start_time": "2021-11-18T08:00:06.998Z"
   },
   {
    "duration": 59,
    "start_time": "2021-11-18T08:00:07.012Z"
   },
   {
    "duration": 11,
    "start_time": "2021-11-18T08:00:07.073Z"
   },
   {
    "duration": 11,
    "start_time": "2021-11-18T08:00:07.086Z"
   },
   {
    "duration": 9,
    "start_time": "2021-11-18T08:00:07.099Z"
   },
   {
    "duration": 9,
    "start_time": "2021-11-18T08:00:07.110Z"
   },
   {
    "duration": 32,
    "start_time": "2021-11-18T08:00:07.120Z"
   },
   {
    "duration": 11,
    "start_time": "2021-11-18T08:00:07.154Z"
   },
   {
    "duration": 4,
    "start_time": "2021-11-18T08:00:07.167Z"
   },
   {
    "duration": 8,
    "start_time": "2021-11-18T08:00:07.173Z"
   },
   {
    "duration": 19,
    "start_time": "2021-11-18T08:00:07.182Z"
   },
   {
    "duration": 10,
    "start_time": "2021-11-18T08:00:07.203Z"
   },
   {
    "duration": 6,
    "start_time": "2021-11-18T08:00:07.214Z"
   },
   {
    "duration": 8,
    "start_time": "2021-11-18T08:00:07.221Z"
   },
   {
    "duration": 7,
    "start_time": "2021-11-18T08:00:07.233Z"
   },
   {
    "duration": 13,
    "start_time": "2021-11-18T08:00:07.242Z"
   },
   {
    "duration": 31,
    "start_time": "2021-11-18T08:00:07.257Z"
   },
   {
    "duration": 17,
    "start_time": "2021-11-18T08:00:07.290Z"
   },
   {
    "duration": 36,
    "start_time": "2021-11-18T08:00:07.309Z"
   },
   {
    "duration": 5,
    "start_time": "2021-11-18T08:00:07.347Z"
   },
   {
    "duration": 12,
    "start_time": "2021-11-18T08:00:07.353Z"
   },
   {
    "duration": 7,
    "start_time": "2021-11-18T08:00:07.366Z"
   },
   {
    "duration": 249,
    "start_time": "2021-11-18T08:00:07.375Z"
   },
   {
    "duration": 224,
    "start_time": "2021-11-18T08:00:07.626Z"
   },
   {
    "duration": 6,
    "start_time": "2021-11-18T08:00:07.852Z"
   },
   {
    "duration": 7,
    "start_time": "2021-11-18T08:00:07.859Z"
   },
   {
    "duration": 7,
    "start_time": "2021-11-18T08:00:07.868Z"
   },
   {
    "duration": 6,
    "start_time": "2021-11-18T08:00:07.877Z"
   },
   {
    "duration": 8,
    "start_time": "2021-11-18T08:00:07.884Z"
   },
   {
    "duration": 7,
    "start_time": "2021-11-18T08:00:07.893Z"
   },
   {
    "duration": 269,
    "start_time": "2021-11-18T08:00:07.902Z"
   },
   {
    "duration": 7,
    "start_time": "2021-11-18T08:00:08.173Z"
   },
   {
    "duration": 8,
    "start_time": "2021-11-18T08:00:08.182Z"
   },
   {
    "duration": 6,
    "start_time": "2021-11-18T08:00:08.191Z"
   },
   {
    "duration": 13,
    "start_time": "2021-11-18T08:00:08.198Z"
   },
   {
    "duration": 12,
    "start_time": "2021-11-18T08:00:08.212Z"
   },
   {
    "duration": 79,
    "start_time": "2021-11-18T08:00:08.225Z"
   },
   {
    "duration": 282,
    "start_time": "2021-11-18T08:00:08.305Z"
   },
   {
    "duration": 16,
    "start_time": "2021-11-18T08:00:08.589Z"
   },
   {
    "duration": 5,
    "start_time": "2021-11-18T08:00:08.607Z"
   },
   {
    "duration": 41,
    "start_time": "2021-11-18T08:00:08.613Z"
   },
   {
    "duration": 10,
    "start_time": "2021-11-18T08:00:08.655Z"
   },
   {
    "duration": 7,
    "start_time": "2021-11-18T08:00:08.666Z"
   },
   {
    "duration": 31,
    "start_time": "2021-11-18T08:00:08.674Z"
   },
   {
    "duration": 7,
    "start_time": "2021-11-18T08:00:08.706Z"
   },
   {
    "duration": 4,
    "start_time": "2021-11-18T08:00:08.715Z"
   },
   {
    "duration": 36,
    "start_time": "2021-11-18T08:00:08.720Z"
   },
   {
    "duration": 8,
    "start_time": "2021-11-18T08:00:08.757Z"
   },
   {
    "duration": 7,
    "start_time": "2021-11-18T08:00:08.767Z"
   },
   {
    "duration": 27,
    "start_time": "2021-11-18T08:00:08.775Z"
   },
   {
    "duration": 253,
    "start_time": "2021-11-18T08:00:08.804Z"
   },
   {
    "duration": 7,
    "start_time": "2021-11-18T08:00:09.059Z"
   },
   {
    "duration": 15,
    "start_time": "2021-11-18T08:00:09.068Z"
   },
   {
    "duration": 262,
    "start_time": "2021-11-18T08:00:09.084Z"
   },
   {
    "duration": 12,
    "start_time": "2021-11-18T08:00:09.348Z"
   },
   {
    "duration": 9,
    "start_time": "2021-11-18T08:00:09.361Z"
   },
   {
    "duration": 7,
    "start_time": "2021-11-18T08:00:09.371Z"
   },
   {
    "duration": 5,
    "start_time": "2021-11-18T08:00:09.379Z"
   },
   {
    "duration": 22,
    "start_time": "2021-11-18T08:00:09.385Z"
   },
   {
    "duration": 51,
    "start_time": "2021-11-18T08:00:09.411Z"
   },
   {
    "duration": 7,
    "start_time": "2021-11-18T08:00:09.464Z"
   },
   {
    "duration": 16,
    "start_time": "2021-11-18T08:00:09.472Z"
   },
   {
    "duration": 14,
    "start_time": "2021-11-18T08:00:09.490Z"
   },
   {
    "duration": 71,
    "start_time": "2021-11-18T08:00:09.505Z"
   },
   {
    "duration": 3,
    "start_time": "2021-11-18T08:00:09.578Z"
   },
   {
    "duration": 7,
    "start_time": "2021-11-18T08:00:09.583Z"
   },
   {
    "duration": 10,
    "start_time": "2021-11-18T08:00:09.592Z"
   },
   {
    "duration": 15,
    "start_time": "2021-11-18T08:00:09.603Z"
   },
   {
    "duration": 4,
    "start_time": "2021-11-18T08:00:09.619Z"
   },
   {
    "duration": 3226,
    "start_time": "2021-11-18T08:00:09.624Z"
   },
   {
    "duration": 4,
    "start_time": "2021-11-18T08:00:12.852Z"
   },
   {
    "duration": 27,
    "start_time": "2021-11-18T08:00:12.857Z"
   },
   {
    "duration": 7,
    "start_time": "2021-11-18T08:00:12.886Z"
   },
   {
    "duration": 10,
    "start_time": "2021-11-18T08:00:12.894Z"
   },
   {
    "duration": 39,
    "start_time": "2021-11-18T08:00:12.906Z"
   },
   {
    "duration": 19,
    "start_time": "2021-11-18T08:00:12.947Z"
   },
   {
    "duration": 8,
    "start_time": "2021-11-18T08:00:12.968Z"
   },
   {
    "duration": 18,
    "start_time": "2021-11-18T08:00:12.977Z"
   },
   {
    "duration": 8,
    "start_time": "2021-11-18T08:00:12.996Z"
   },
   {
    "duration": 40,
    "start_time": "2021-11-18T08:00:13.006Z"
   },
   {
    "duration": 6,
    "start_time": "2021-11-18T08:00:13.048Z"
   },
   {
    "duration": 6,
    "start_time": "2021-11-18T08:00:13.055Z"
   },
   {
    "duration": 12,
    "start_time": "2021-11-18T08:00:13.062Z"
   },
   {
    "duration": 9,
    "start_time": "2021-11-18T08:00:13.075Z"
   },
   {
    "duration": 5,
    "start_time": "2021-11-18T08:00:13.085Z"
   },
   {
    "duration": 4,
    "start_time": "2021-11-18T08:00:13.091Z"
   },
   {
    "duration": 7,
    "start_time": "2021-11-18T08:00:13.096Z"
   },
   {
    "duration": 39,
    "start_time": "2021-11-18T08:00:13.105Z"
   },
   {
    "duration": 9,
    "start_time": "2021-11-18T08:01:01.796Z"
   },
   {
    "duration": 13,
    "start_time": "2021-11-18T08:02:04.232Z"
   },
   {
    "duration": 364,
    "start_time": "2021-11-18T08:05:16.573Z"
   },
   {
    "duration": 289,
    "start_time": "2021-11-18T08:06:11.709Z"
   },
   {
    "duration": 25,
    "start_time": "2021-11-18T08:06:24.564Z"
   },
   {
    "duration": 9,
    "start_time": "2021-11-18T08:06:54.305Z"
   },
   {
    "duration": 21,
    "start_time": "2021-11-18T08:06:59.321Z"
   },
   {
    "duration": 8,
    "start_time": "2021-11-18T08:08:03.969Z"
   },
   {
    "duration": 9,
    "start_time": "2021-11-18T08:08:09.994Z"
   },
   {
    "duration": 4,
    "start_time": "2021-11-18T08:08:17.419Z"
   },
   {
    "duration": 8,
    "start_time": "2021-11-18T08:08:18.798Z"
   },
   {
    "duration": 11,
    "start_time": "2021-11-18T08:08:37.193Z"
   },
   {
    "duration": 25,
    "start_time": "2021-11-18T08:08:41.756Z"
   },
   {
    "duration": 8,
    "start_time": "2021-11-18T08:09:24.132Z"
   },
   {
    "duration": 511,
    "start_time": "2021-11-18T08:12:25.682Z"
   },
   {
    "duration": 5,
    "start_time": "2021-11-18T08:12:36.167Z"
   },
   {
    "duration": 22,
    "start_time": "2021-11-18T08:12:41.539Z"
   },
   {
    "duration": 16,
    "start_time": "2021-11-18T08:15:56.650Z"
   },
   {
    "duration": 278,
    "start_time": "2021-11-18T08:16:13.201Z"
   },
   {
    "duration": 4,
    "start_time": "2021-11-18T08:16:16.298Z"
   },
   {
    "duration": 4,
    "start_time": "2021-11-18T08:24:38.726Z"
   },
   {
    "duration": 10,
    "start_time": "2021-11-18T08:24:44.525Z"
   },
   {
    "duration": 692,
    "start_time": "2021-11-18T08:25:19.565Z"
   },
   {
    "duration": 403,
    "start_time": "2021-11-18T08:25:20.259Z"
   },
   {
    "duration": 2,
    "start_time": "2021-11-18T08:25:20.664Z"
   },
   {
    "duration": 31,
    "start_time": "2021-11-18T08:25:20.668Z"
   },
   {
    "duration": 15,
    "start_time": "2021-11-18T08:25:20.701Z"
   },
   {
    "duration": 23,
    "start_time": "2021-11-18T08:25:20.717Z"
   },
   {
    "duration": 6,
    "start_time": "2021-11-18T08:25:20.742Z"
   },
   {
    "duration": 12,
    "start_time": "2021-11-18T08:25:20.750Z"
   },
   {
    "duration": 50,
    "start_time": "2021-11-18T08:25:20.764Z"
   },
   {
    "duration": 11,
    "start_time": "2021-11-18T08:25:20.816Z"
   },
   {
    "duration": 17,
    "start_time": "2021-11-18T08:25:20.829Z"
   },
   {
    "duration": 11,
    "start_time": "2021-11-18T08:25:20.848Z"
   },
   {
    "duration": 14,
    "start_time": "2021-11-18T08:25:20.860Z"
   },
   {
    "duration": 18,
    "start_time": "2021-11-18T08:25:20.875Z"
   },
   {
    "duration": 18,
    "start_time": "2021-11-18T08:25:20.894Z"
   },
   {
    "duration": 3,
    "start_time": "2021-11-18T08:25:20.914Z"
   },
   {
    "duration": 9,
    "start_time": "2021-11-18T08:25:20.919Z"
   },
   {
    "duration": 20,
    "start_time": "2021-11-18T08:25:20.930Z"
   },
   {
    "duration": 13,
    "start_time": "2021-11-18T08:25:20.952Z"
   },
   {
    "duration": 8,
    "start_time": "2021-11-18T08:25:20.967Z"
   },
   {
    "duration": 8,
    "start_time": "2021-11-18T08:25:20.977Z"
   },
   {
    "duration": 14,
    "start_time": "2021-11-18T08:25:20.986Z"
   },
   {
    "duration": 17,
    "start_time": "2021-11-18T08:25:21.005Z"
   },
   {
    "duration": 30,
    "start_time": "2021-11-18T08:25:21.026Z"
   },
   {
    "duration": 19,
    "start_time": "2021-11-18T08:25:21.058Z"
   },
   {
    "duration": 26,
    "start_time": "2021-11-18T08:25:21.079Z"
   },
   {
    "duration": 5,
    "start_time": "2021-11-18T08:25:21.107Z"
   },
   {
    "duration": 36,
    "start_time": "2021-11-18T08:25:21.114Z"
   },
   {
    "duration": 10,
    "start_time": "2021-11-18T08:25:21.153Z"
   },
   {
    "duration": 248,
    "start_time": "2021-11-18T08:25:21.165Z"
   },
   {
    "duration": 246,
    "start_time": "2021-11-18T08:25:21.415Z"
   },
   {
    "duration": 7,
    "start_time": "2021-11-18T08:25:21.663Z"
   },
   {
    "duration": 11,
    "start_time": "2021-11-18T08:25:21.672Z"
   },
   {
    "duration": 7,
    "start_time": "2021-11-18T08:25:21.685Z"
   },
   {
    "duration": 7,
    "start_time": "2021-11-18T08:25:21.693Z"
   },
   {
    "duration": 8,
    "start_time": "2021-11-18T08:25:21.702Z"
   },
   {
    "duration": 38,
    "start_time": "2021-11-18T08:25:21.711Z"
   },
   {
    "duration": 253,
    "start_time": "2021-11-18T08:25:21.750Z"
   },
   {
    "duration": 8,
    "start_time": "2021-11-18T08:25:22.005Z"
   },
   {
    "duration": 9,
    "start_time": "2021-11-18T08:25:22.015Z"
   },
   {
    "duration": 20,
    "start_time": "2021-11-18T08:25:22.026Z"
   },
   {
    "duration": 11,
    "start_time": "2021-11-18T08:25:22.047Z"
   },
   {
    "duration": 11,
    "start_time": "2021-11-18T08:25:22.060Z"
   },
   {
    "duration": 80,
    "start_time": "2021-11-18T08:25:22.073Z"
   },
   {
    "duration": 295,
    "start_time": "2021-11-18T08:25:22.155Z"
   },
   {
    "duration": 17,
    "start_time": "2021-11-18T08:25:22.452Z"
   },
   {
    "duration": 7,
    "start_time": "2021-11-18T08:25:22.471Z"
   },
   {
    "duration": 31,
    "start_time": "2021-11-18T08:25:22.480Z"
   },
   {
    "duration": 20,
    "start_time": "2021-11-18T08:25:22.512Z"
   },
   {
    "duration": 16,
    "start_time": "2021-11-18T08:25:22.533Z"
   },
   {
    "duration": 29,
    "start_time": "2021-11-18T08:25:22.550Z"
   },
   {
    "duration": 7,
    "start_time": "2021-11-18T08:25:22.581Z"
   },
   {
    "duration": 15,
    "start_time": "2021-11-18T08:25:22.589Z"
   },
   {
    "duration": 26,
    "start_time": "2021-11-18T08:25:22.606Z"
   },
   {
    "duration": 17,
    "start_time": "2021-11-18T08:25:22.633Z"
   },
   {
    "duration": 8,
    "start_time": "2021-11-18T08:25:22.651Z"
   },
   {
    "duration": 38,
    "start_time": "2021-11-18T08:25:22.660Z"
   },
   {
    "duration": 250,
    "start_time": "2021-11-18T08:25:22.699Z"
   },
   {
    "duration": 8,
    "start_time": "2021-11-18T08:25:22.951Z"
   },
   {
    "duration": 15,
    "start_time": "2021-11-18T08:25:22.961Z"
   },
   {
    "duration": 253,
    "start_time": "2021-11-18T08:25:22.978Z"
   },
   {
    "duration": 17,
    "start_time": "2021-11-18T08:25:23.233Z"
   },
   {
    "duration": 8,
    "start_time": "2021-11-18T08:25:23.252Z"
   },
   {
    "duration": 9,
    "start_time": "2021-11-18T08:25:23.262Z"
   },
   {
    "duration": 5,
    "start_time": "2021-11-18T08:25:23.273Z"
   },
   {
    "duration": 15,
    "start_time": "2021-11-18T08:25:23.280Z"
   },
   {
    "duration": 50,
    "start_time": "2021-11-18T08:25:23.297Z"
   },
   {
    "duration": 7,
    "start_time": "2021-11-18T08:25:23.353Z"
   },
   {
    "duration": 6,
    "start_time": "2021-11-18T08:25:23.362Z"
   },
   {
    "duration": 12,
    "start_time": "2021-11-18T08:25:23.370Z"
   },
   {
    "duration": 14,
    "start_time": "2021-11-18T08:25:23.384Z"
   },
   {
    "duration": 64,
    "start_time": "2021-11-18T08:25:23.400Z"
   },
   {
    "duration": 3,
    "start_time": "2021-11-18T08:25:23.466Z"
   },
   {
    "duration": 7,
    "start_time": "2021-11-18T08:25:23.471Z"
   },
   {
    "duration": 5,
    "start_time": "2021-11-18T08:25:23.480Z"
   },
   {
    "duration": 15,
    "start_time": "2021-11-18T08:25:23.486Z"
   },
   {
    "duration": 5,
    "start_time": "2021-11-18T08:25:23.502Z"
   },
   {
    "duration": 3421,
    "start_time": "2021-11-18T08:25:23.509Z"
   },
   {
    "duration": 4,
    "start_time": "2021-11-18T08:25:26.932Z"
   },
   {
    "duration": 27,
    "start_time": "2021-11-18T08:25:26.945Z"
   },
   {
    "duration": 8,
    "start_time": "2021-11-18T08:25:26.974Z"
   },
   {
    "duration": 12,
    "start_time": "2021-11-18T08:25:26.984Z"
   },
   {
    "duration": 12,
    "start_time": "2021-11-18T08:25:26.998Z"
   },
   {
    "duration": 48,
    "start_time": "2021-11-18T08:25:27.011Z"
   },
   {
    "duration": 9,
    "start_time": "2021-11-18T08:25:27.061Z"
   },
   {
    "duration": 24,
    "start_time": "2021-11-18T08:25:27.072Z"
   },
   {
    "duration": 11,
    "start_time": "2021-11-18T08:25:27.098Z"
   },
   {
    "duration": 47,
    "start_time": "2021-11-18T08:25:27.110Z"
   },
   {
    "duration": 14,
    "start_time": "2021-11-18T08:25:27.159Z"
   },
   {
    "duration": 13,
    "start_time": "2021-11-18T08:25:27.175Z"
   },
   {
    "duration": 27,
    "start_time": "2021-11-18T08:25:27.190Z"
   },
   {
    "duration": 12,
    "start_time": "2021-11-18T08:25:27.219Z"
   },
   {
    "duration": 14,
    "start_time": "2021-11-18T08:25:27.233Z"
   },
   {
    "duration": 17,
    "start_time": "2021-11-18T08:25:27.249Z"
   },
   {
    "duration": 24,
    "start_time": "2021-11-18T08:25:27.268Z"
   },
   {
    "duration": 24,
    "start_time": "2021-11-18T08:25:27.294Z"
   },
   {
    "duration": 9,
    "start_time": "2021-11-18T08:25:27.320Z"
   },
   {
    "duration": 6,
    "start_time": "2021-11-18T08:25:27.331Z"
   },
   {
    "duration": 6,
    "start_time": "2021-11-18T08:25:27.339Z"
   },
   {
    "duration": 7606,
    "start_time": "2021-11-18T08:25:27.346Z"
   },
   {
    "duration": 6,
    "start_time": "2021-11-18T08:42:04.081Z"
   },
   {
    "duration": 201,
    "start_time": "2021-11-18T08:42:05.450Z"
   },
   {
    "duration": 26,
    "start_time": "2021-11-18T08:42:12.872Z"
   },
   {
    "duration": 5,
    "start_time": "2021-11-18T08:55:50.648Z"
   },
   {
    "duration": 405,
    "start_time": "2021-11-18T09:05:33.305Z"
   },
   {
    "duration": 19,
    "start_time": "2021-11-18T09:08:24.752Z"
   },
   {
    "duration": 7,
    "start_time": "2021-11-18T09:08:46.114Z"
   },
   {
    "duration": 10,
    "start_time": "2021-11-18T09:09:06.448Z"
   },
   {
    "duration": 11,
    "start_time": "2021-11-18T09:09:26.047Z"
   },
   {
    "duration": 11,
    "start_time": "2021-11-18T09:09:32.522Z"
   },
   {
    "duration": 248,
    "start_time": "2021-11-18T09:12:06.770Z"
   },
   {
    "duration": 599,
    "start_time": "2021-11-18T09:13:17.435Z"
   },
   {
    "duration": 351,
    "start_time": "2021-11-18T09:13:33.354Z"
   },
   {
    "duration": 292,
    "start_time": "2021-11-18T09:13:48.379Z"
   },
   {
    "duration": 349,
    "start_time": "2021-11-18T09:14:00.210Z"
   },
   {
    "duration": 292,
    "start_time": "2021-11-18T09:14:15.906Z"
   },
   {
    "duration": 288,
    "start_time": "2021-11-18T09:14:23.462Z"
   },
   {
    "duration": 1331,
    "start_time": "2021-11-18T09:14:40.706Z"
   },
   {
    "duration": 457,
    "start_time": "2021-11-18T09:14:42.039Z"
   },
   {
    "duration": 2,
    "start_time": "2021-11-18T09:14:42.498Z"
   },
   {
    "duration": 26,
    "start_time": "2021-11-18T09:14:42.502Z"
   },
   {
    "duration": 15,
    "start_time": "2021-11-18T09:14:42.530Z"
   },
   {
    "duration": 17,
    "start_time": "2021-11-18T09:14:42.546Z"
   },
   {
    "duration": 7,
    "start_time": "2021-11-18T09:14:42.565Z"
   },
   {
    "duration": 6,
    "start_time": "2021-11-18T09:14:42.576Z"
   },
   {
    "duration": 65,
    "start_time": "2021-11-18T09:14:42.585Z"
   },
   {
    "duration": 12,
    "start_time": "2021-11-18T09:14:42.652Z"
   },
   {
    "duration": 8,
    "start_time": "2021-11-18T09:14:42.667Z"
   },
   {
    "duration": 10,
    "start_time": "2021-11-18T09:14:42.677Z"
   },
   {
    "duration": 9,
    "start_time": "2021-11-18T09:14:42.689Z"
   },
   {
    "duration": 46,
    "start_time": "2021-11-18T09:14:42.700Z"
   },
   {
    "duration": 8,
    "start_time": "2021-11-18T09:14:42.748Z"
   },
   {
    "duration": 4,
    "start_time": "2021-11-18T09:14:42.758Z"
   },
   {
    "duration": 5,
    "start_time": "2021-11-18T09:14:42.764Z"
   },
   {
    "duration": 6,
    "start_time": "2021-11-18T09:14:42.771Z"
   },
   {
    "duration": 6,
    "start_time": "2021-11-18T09:14:42.779Z"
   },
   {
    "duration": 5,
    "start_time": "2021-11-18T09:14:42.786Z"
   },
   {
    "duration": 6,
    "start_time": "2021-11-18T09:14:42.792Z"
   },
   {
    "duration": 45,
    "start_time": "2021-11-18T09:14:42.800Z"
   },
   {
    "duration": 5,
    "start_time": "2021-11-18T09:14:42.849Z"
   },
   {
    "duration": 32,
    "start_time": "2021-11-18T09:14:42.857Z"
   },
   {
    "duration": 17,
    "start_time": "2021-11-18T09:14:42.890Z"
   },
   {
    "duration": 41,
    "start_time": "2021-11-18T09:14:42.909Z"
   },
   {
    "duration": 5,
    "start_time": "2021-11-18T09:14:42.951Z"
   },
   {
    "duration": 20,
    "start_time": "2021-11-18T09:14:42.957Z"
   },
   {
    "duration": 9,
    "start_time": "2021-11-18T09:14:42.979Z"
   },
   {
    "duration": 248,
    "start_time": "2021-11-18T09:14:42.990Z"
   },
   {
    "duration": 225,
    "start_time": "2021-11-18T09:14:43.239Z"
   },
   {
    "duration": 6,
    "start_time": "2021-11-18T09:14:43.466Z"
   },
   {
    "duration": 13,
    "start_time": "2021-11-18T09:14:43.473Z"
   },
   {
    "duration": 8,
    "start_time": "2021-11-18T09:14:43.487Z"
   },
   {
    "duration": 8,
    "start_time": "2021-11-18T09:14:43.496Z"
   },
   {
    "duration": 8,
    "start_time": "2021-11-18T09:14:43.505Z"
   },
   {
    "duration": 36,
    "start_time": "2021-11-18T09:14:43.515Z"
   },
   {
    "duration": 254,
    "start_time": "2021-11-18T09:14:43.553Z"
   },
   {
    "duration": 11,
    "start_time": "2021-11-18T09:14:43.809Z"
   },
   {
    "duration": 9,
    "start_time": "2021-11-18T09:14:43.821Z"
   },
   {
    "duration": 17,
    "start_time": "2021-11-18T09:14:43.832Z"
   },
   {
    "duration": 18,
    "start_time": "2021-11-18T09:14:43.851Z"
   },
   {
    "duration": 10,
    "start_time": "2021-11-18T09:14:43.871Z"
   },
   {
    "duration": 101,
    "start_time": "2021-11-18T09:14:43.883Z"
   },
   {
    "duration": 353,
    "start_time": "2021-11-18T09:14:43.985Z"
   },
   {
    "duration": 19,
    "start_time": "2021-11-18T09:14:44.343Z"
   },
   {
    "duration": 6,
    "start_time": "2021-11-18T09:14:44.364Z"
   },
   {
    "duration": 27,
    "start_time": "2021-11-18T09:14:44.372Z"
   },
   {
    "duration": 13,
    "start_time": "2021-11-18T09:14:44.401Z"
   },
   {
    "duration": 36,
    "start_time": "2021-11-18T09:14:44.416Z"
   },
   {
    "duration": 46,
    "start_time": "2021-11-18T09:14:44.454Z"
   },
   {
    "duration": 10,
    "start_time": "2021-11-18T09:14:44.502Z"
   },
   {
    "duration": 32,
    "start_time": "2021-11-18T09:14:44.514Z"
   },
   {
    "duration": 22,
    "start_time": "2021-11-18T09:14:44.548Z"
   },
   {
    "duration": 11,
    "start_time": "2021-11-18T09:14:44.573Z"
   },
   {
    "duration": 12,
    "start_time": "2021-11-18T09:14:44.586Z"
   },
   {
    "duration": 66,
    "start_time": "2021-11-18T09:14:44.600Z"
   },
   {
    "duration": 381,
    "start_time": "2021-11-18T09:14:44.668Z"
   },
   {
    "duration": 11,
    "start_time": "2021-11-18T09:14:45.051Z"
   },
   {
    "duration": 20,
    "start_time": "2021-11-18T09:14:45.064Z"
   },
   {
    "duration": 274,
    "start_time": "2021-11-18T09:14:45.086Z"
   },
   {
    "duration": 12,
    "start_time": "2021-11-18T09:14:45.362Z"
   },
   {
    "duration": 9,
    "start_time": "2021-11-18T09:14:45.376Z"
   },
   {
    "duration": 18,
    "start_time": "2021-11-18T09:14:45.387Z"
   },
   {
    "duration": 8,
    "start_time": "2021-11-18T09:14:45.407Z"
   },
   {
    "duration": 33,
    "start_time": "2021-11-18T09:14:45.417Z"
   },
   {
    "duration": 20,
    "start_time": "2021-11-18T09:14:45.452Z"
   },
   {
    "duration": 10,
    "start_time": "2021-11-18T09:14:45.478Z"
   },
   {
    "duration": 6,
    "start_time": "2021-11-18T09:14:45.491Z"
   },
   {
    "duration": 16,
    "start_time": "2021-11-18T09:14:45.499Z"
   },
   {
    "duration": 29,
    "start_time": "2021-11-18T09:14:45.516Z"
   },
   {
    "duration": 62,
    "start_time": "2021-11-18T09:14:45.546Z"
   },
   {
    "duration": 4,
    "start_time": "2021-11-18T09:14:45.610Z"
   },
   {
    "duration": 9,
    "start_time": "2021-11-18T09:14:45.615Z"
   },
   {
    "duration": 18,
    "start_time": "2021-11-18T09:14:45.626Z"
   },
   {
    "duration": 18,
    "start_time": "2021-11-18T09:14:45.647Z"
   },
   {
    "duration": 9,
    "start_time": "2021-11-18T09:14:45.668Z"
   },
   {
    "duration": 3488,
    "start_time": "2021-11-18T09:14:45.679Z"
   },
   {
    "duration": 5,
    "start_time": "2021-11-18T09:14:49.168Z"
   },
   {
    "duration": 26,
    "start_time": "2021-11-18T09:14:49.174Z"
   },
   {
    "duration": 7,
    "start_time": "2021-11-18T09:14:49.202Z"
   },
   {
    "duration": 35,
    "start_time": "2021-11-18T09:14:49.211Z"
   },
   {
    "duration": 9,
    "start_time": "2021-11-18T09:14:49.248Z"
   },
   {
    "duration": 20,
    "start_time": "2021-11-18T09:14:49.258Z"
   },
   {
    "duration": 9,
    "start_time": "2021-11-18T09:14:49.279Z"
   },
   {
    "duration": 19,
    "start_time": "2021-11-18T09:14:49.290Z"
   },
   {
    "duration": 34,
    "start_time": "2021-11-18T09:14:49.310Z"
   },
   {
    "duration": 10,
    "start_time": "2021-11-18T09:14:49.346Z"
   },
   {
    "duration": 6,
    "start_time": "2021-11-18T09:14:49.359Z"
   },
   {
    "duration": 7,
    "start_time": "2021-11-18T09:14:49.367Z"
   },
   {
    "duration": 17,
    "start_time": "2021-11-18T09:14:49.376Z"
   },
   {
    "duration": 5,
    "start_time": "2021-11-18T09:14:49.394Z"
   },
   {
    "duration": 5,
    "start_time": "2021-11-18T09:14:49.401Z"
   },
   {
    "duration": 36,
    "start_time": "2021-11-18T09:14:49.408Z"
   },
   {
    "duration": 7,
    "start_time": "2021-11-18T09:14:49.446Z"
   },
   {
    "duration": 12,
    "start_time": "2021-11-18T09:14:49.454Z"
   },
   {
    "duration": 13,
    "start_time": "2021-11-18T09:14:49.468Z"
   },
   {
    "duration": 5,
    "start_time": "2021-11-18T09:14:49.483Z"
   },
   {
    "duration": 19,
    "start_time": "2021-11-18T09:14:49.490Z"
   },
   {
    "duration": 5,
    "start_time": "2021-11-18T09:14:49.510Z"
   },
   {
    "duration": 183,
    "start_time": "2021-11-18T09:14:49.516Z"
   },
   {
    "duration": 4,
    "start_time": "2021-11-18T09:14:49.700Z"
   },
   {
    "duration": 15,
    "start_time": "2021-11-18T09:14:49.706Z"
   },
   {
    "duration": 330,
    "start_time": "2021-11-18T09:14:49.722Z"
   },
   {
    "duration": 17,
    "start_time": "2021-11-18T09:14:50.037Z"
   },
   {
    "duration": 342,
    "start_time": "2021-11-18T09:14:57.536Z"
   },
   {
    "duration": 346,
    "start_time": "2021-11-18T09:15:19.058Z"
   },
   {
    "duration": 377,
    "start_time": "2021-11-18T09:15:23.465Z"
   },
   {
    "duration": 491,
    "start_time": "2021-11-18T09:15:26.589Z"
   },
   {
    "duration": 286,
    "start_time": "2021-11-18T09:15:41.451Z"
   },
   {
    "duration": 28,
    "start_time": "2021-11-18T09:16:23.513Z"
   },
   {
    "duration": 8,
    "start_time": "2021-11-18T09:16:42.050Z"
   },
   {
    "duration": 5,
    "start_time": "2021-11-18T09:17:14.860Z"
   },
   {
    "duration": 536,
    "start_time": "2021-11-18T09:17:51.394Z"
   },
   {
    "duration": 23,
    "start_time": "2021-11-18T09:17:56.102Z"
   },
   {
    "duration": 284,
    "start_time": "2021-11-18T09:18:09.102Z"
   },
   {
    "duration": 5,
    "start_time": "2021-11-18T09:18:14.894Z"
   },
   {
    "duration": 369,
    "start_time": "2021-11-18T09:18:30.257Z"
   },
   {
    "duration": 4,
    "start_time": "2021-11-18T09:18:34.583Z"
   },
   {
    "duration": 5,
    "start_time": "2021-11-18T09:18:50.332Z"
   },
   {
    "duration": 574,
    "start_time": "2021-11-18T09:19:23.563Z"
   },
   {
    "duration": 637,
    "start_time": "2021-11-18T09:19:28.563Z"
   },
   {
    "duration": 176,
    "start_time": "2021-11-18T09:20:06.139Z"
   },
   {
    "duration": 174,
    "start_time": "2021-11-18T09:20:25.192Z"
   },
   {
    "duration": 288,
    "start_time": "2021-11-18T09:22:00.433Z"
   },
   {
    "duration": 199,
    "start_time": "2021-11-18T09:22:35.988Z"
   },
   {
    "duration": 239,
    "start_time": "2021-11-18T09:22:41.368Z"
   },
   {
    "duration": 337,
    "start_time": "2021-11-18T09:24:00.781Z"
   },
   {
    "duration": 322,
    "start_time": "2021-11-18T09:26:54.128Z"
   },
   {
    "duration": 339,
    "start_time": "2021-11-18T09:28:25.123Z"
   },
   {
    "duration": 399,
    "start_time": "2021-11-18T09:28:46.415Z"
   },
   {
    "duration": 313,
    "start_time": "2021-11-18T09:28:58.277Z"
   },
   {
    "duration": 242,
    "start_time": "2021-11-18T09:29:06.145Z"
   },
   {
    "duration": 1769,
    "start_time": "2021-11-18T09:29:13.691Z"
   },
   {
    "duration": 324,
    "start_time": "2021-11-18T09:29:19.003Z"
   },
   {
    "duration": 7,
    "start_time": "2021-11-18T09:30:13.770Z"
   },
   {
    "duration": 5,
    "start_time": "2021-11-18T09:30:14.317Z"
   },
   {
    "duration": 5,
    "start_time": "2021-11-18T09:30:14.830Z"
   },
   {
    "duration": 347,
    "start_time": "2021-11-18T09:30:15.892Z"
   },
   {
    "duration": 321,
    "start_time": "2021-11-18T09:32:10.365Z"
   },
   {
    "duration": 714,
    "start_time": "2021-11-18T09:36:04.412Z"
   },
   {
    "duration": 572,
    "start_time": "2021-11-18T09:36:17.318Z"
   },
   {
    "duration": 582,
    "start_time": "2021-11-18T09:36:25.196Z"
   },
   {
    "duration": 576,
    "start_time": "2021-11-18T09:36:31.440Z"
   },
   {
    "duration": 992,
    "start_time": "2021-11-18T09:36:41.026Z"
   },
   {
    "duration": 619,
    "start_time": "2021-11-18T09:36:58.470Z"
   },
   {
    "duration": 580,
    "start_time": "2021-11-18T09:37:14.683Z"
   },
   {
    "duration": 704,
    "start_time": "2021-11-18T09:37:22.334Z"
   },
   {
    "duration": 681,
    "start_time": "2021-11-18T09:37:29.108Z"
   },
   {
    "duration": 601,
    "start_time": "2021-11-18T09:37:48.843Z"
   },
   {
    "duration": 4,
    "start_time": "2021-11-18T09:39:00.799Z"
   },
   {
    "duration": 4,
    "start_time": "2021-11-18T09:39:01.314Z"
   },
   {
    "duration": 4,
    "start_time": "2021-11-18T09:39:01.748Z"
   },
   {
    "duration": 331,
    "start_time": "2021-11-18T09:39:02.382Z"
   },
   {
    "duration": 315,
    "start_time": "2021-11-18T09:40:32.587Z"
   },
   {
    "duration": 7,
    "start_time": "2021-11-18T09:41:16.416Z"
   },
   {
    "duration": 9,
    "start_time": "2021-11-18T09:42:43.809Z"
   },
   {
    "duration": 10,
    "start_time": "2021-11-18T09:42:50.907Z"
   },
   {
    "duration": 8,
    "start_time": "2021-11-18T09:42:59.952Z"
   },
   {
    "duration": 4,
    "start_time": "2021-11-18T09:43:13.760Z"
   },
   {
    "duration": 7,
    "start_time": "2021-11-18T09:43:48.902Z"
   },
   {
    "duration": 8,
    "start_time": "2021-11-18T09:43:57.524Z"
   },
   {
    "duration": 5,
    "start_time": "2021-11-18T09:45:24.408Z"
   },
   {
    "duration": 4,
    "start_time": "2021-11-18T09:45:25.000Z"
   },
   {
    "duration": 4,
    "start_time": "2021-11-18T09:45:25.531Z"
   },
   {
    "duration": 446,
    "start_time": "2021-11-18T09:45:26.124Z"
   },
   {
    "duration": 587,
    "start_time": "2021-11-18T09:45:28.135Z"
   },
   {
    "duration": 341,
    "start_time": "2021-11-18T09:45:53.970Z"
   },
   {
    "duration": 256,
    "start_time": "2021-11-18T09:46:01.202Z"
   },
   {
    "duration": 252,
    "start_time": "2021-11-18T09:46:09.328Z"
   },
   {
    "duration": 378,
    "start_time": "2021-11-18T09:46:17.089Z"
   },
   {
    "duration": 465,
    "start_time": "2021-11-18T09:46:25.896Z"
   },
   {
    "duration": 348,
    "start_time": "2021-11-18T09:47:06.287Z"
   },
   {
    "duration": 562,
    "start_time": "2021-11-18T09:47:25.515Z"
   },
   {
    "duration": 380,
    "start_time": "2021-11-18T09:47:36.691Z"
   },
   {
    "duration": 581,
    "start_time": "2021-11-18T09:48:44.133Z"
   },
   {
    "duration": 380,
    "start_time": "2021-11-18T09:49:07.630Z"
   },
   {
    "duration": 649,
    "start_time": "2021-11-18T09:49:42.040Z"
   },
   {
    "duration": 420,
    "start_time": "2021-11-18T09:49:48.461Z"
   },
   {
    "duration": 323,
    "start_time": "2021-11-18T09:50:17.381Z"
   },
   {
    "duration": 394,
    "start_time": "2021-11-18T09:50:24.083Z"
   },
   {
    "duration": 334,
    "start_time": "2021-11-18T09:50:35.657Z"
   },
   {
    "duration": 5,
    "start_time": "2021-11-18T09:52:10.756Z"
   },
   {
    "duration": 5,
    "start_time": "2021-11-18T09:52:11.321Z"
   },
   {
    "duration": 4,
    "start_time": "2021-11-18T09:52:11.961Z"
   },
   {
    "duration": 319,
    "start_time": "2021-11-18T09:52:13.469Z"
   },
   {
    "duration": 313,
    "start_time": "2021-11-18T09:52:18.205Z"
   },
   {
    "duration": 218,
    "start_time": "2021-11-18T09:52:22.987Z"
   },
   {
    "duration": 236,
    "start_time": "2021-11-18T09:52:29.165Z"
   },
   {
    "duration": 5,
    "start_time": "2021-11-18T09:52:47.868Z"
   },
   {
    "duration": 5,
    "start_time": "2021-11-18T09:52:48.436Z"
   },
   {
    "duration": 5,
    "start_time": "2021-11-18T09:52:49.032Z"
   },
   {
    "duration": 515,
    "start_time": "2021-11-18T09:52:49.968Z"
   },
   {
    "duration": 262,
    "start_time": "2021-11-18T09:52:53.934Z"
   },
   {
    "duration": 215,
    "start_time": "2021-11-18T09:52:58.354Z"
   },
   {
    "duration": 247,
    "start_time": "2021-11-18T09:53:02.547Z"
   },
   {
    "duration": 252,
    "start_time": "2021-11-18T09:53:06.376Z"
   },
   {
    "duration": 388,
    "start_time": "2021-11-18T09:53:26.343Z"
   },
   {
    "duration": 335,
    "start_time": "2021-11-18T09:53:35.312Z"
   },
   {
    "duration": 257,
    "start_time": "2021-11-18T09:53:39.953Z"
   },
   {
    "duration": 358,
    "start_time": "2021-11-18T09:53:54.835Z"
   },
   {
    "duration": 376,
    "start_time": "2021-11-18T09:54:03.531Z"
   },
   {
    "duration": 485,
    "start_time": "2021-11-18T09:54:14.580Z"
   },
   {
    "duration": 248,
    "start_time": "2021-11-18T09:54:34.453Z"
   },
   {
    "duration": 230,
    "start_time": "2021-11-18T09:54:38.762Z"
   },
   {
    "duration": 228,
    "start_time": "2021-11-18T09:54:43.306Z"
   },
   {
    "duration": 362,
    "start_time": "2021-11-18T09:54:47.211Z"
   },
   {
    "duration": 242,
    "start_time": "2021-11-18T09:54:52.579Z"
   },
   {
    "duration": 2,
    "start_time": "2021-11-18T11:36:09.453Z"
   },
   {
    "duration": 27,
    "start_time": "2021-11-18T11:40:29.939Z"
   },
   {
    "duration": 3,
    "start_time": "2021-11-18T11:40:54.068Z"
   },
   {
    "duration": 4,
    "start_time": "2021-11-18T11:41:07.711Z"
   },
   {
    "duration": 4,
    "start_time": "2021-11-18T11:41:24.912Z"
   },
   {
    "duration": 4,
    "start_time": "2021-11-18T11:41:25.562Z"
   },
   {
    "duration": 3,
    "start_time": "2021-11-18T11:41:32.533Z"
   },
   {
    "duration": 3,
    "start_time": "2021-11-18T11:41:33.144Z"
   },
   {
    "duration": 3,
    "start_time": "2021-11-18T11:42:15.247Z"
   },
   {
    "duration": 4,
    "start_time": "2021-11-18T11:42:48.475Z"
   },
   {
    "duration": 4,
    "start_time": "2021-11-18T11:49:21.758Z"
   },
   {
    "duration": 4,
    "start_time": "2021-11-18T11:49:22.333Z"
   },
   {
    "duration": 4,
    "start_time": "2021-11-18T11:49:23.067Z"
   },
   {
    "duration": 5,
    "start_time": "2021-11-18T11:56:36.876Z"
   },
   {
    "duration": 8,
    "start_time": "2021-11-18T11:57:15.280Z"
   },
   {
    "duration": 5,
    "start_time": "2021-11-18T11:58:10.889Z"
   },
   {
    "duration": 4,
    "start_time": "2021-11-18T11:58:11.536Z"
   },
   {
    "duration": 4,
    "start_time": "2021-11-18T11:59:58.586Z"
   },
   {
    "duration": 3,
    "start_time": "2021-11-18T12:00:11.677Z"
   },
   {
    "duration": 9,
    "start_time": "2021-11-18T12:15:29.976Z"
   },
   {
    "duration": 8,
    "start_time": "2021-11-18T12:15:32.762Z"
   },
   {
    "duration": 8,
    "start_time": "2021-11-18T12:15:36.357Z"
   },
   {
    "duration": 9,
    "start_time": "2021-11-18T12:15:57.742Z"
   },
   {
    "duration": 11,
    "start_time": "2021-11-18T12:16:13.163Z"
   },
   {
    "duration": 12,
    "start_time": "2021-11-18T12:19:09.492Z"
   },
   {
    "duration": 216,
    "start_time": "2021-11-18T12:24:16.203Z"
   },
   {
    "duration": 1130,
    "start_time": "2021-11-18T12:30:22.533Z"
   },
   {
    "duration": 408,
    "start_time": "2021-11-18T12:30:23.665Z"
   },
   {
    "duration": 21,
    "start_time": "2021-11-18T12:30:24.078Z"
   },
   {
    "duration": 15,
    "start_time": "2021-11-18T12:30:24.101Z"
   },
   {
    "duration": 20,
    "start_time": "2021-11-18T12:30:24.117Z"
   },
   {
    "duration": 6,
    "start_time": "2021-11-18T12:30:24.139Z"
   },
   {
    "duration": 8,
    "start_time": "2021-11-18T12:30:24.148Z"
   },
   {
    "duration": 42,
    "start_time": "2021-11-18T12:30:24.158Z"
   },
   {
    "duration": 12,
    "start_time": "2021-11-18T12:30:24.202Z"
   },
   {
    "duration": 29,
    "start_time": "2021-11-18T12:30:24.216Z"
   },
   {
    "duration": 19,
    "start_time": "2021-11-18T12:30:24.247Z"
   },
   {
    "duration": 26,
    "start_time": "2021-11-18T12:30:24.269Z"
   },
   {
    "duration": 23,
    "start_time": "2021-11-18T12:30:24.297Z"
   },
   {
    "duration": 26,
    "start_time": "2021-11-18T12:30:24.322Z"
   },
   {
    "duration": 13,
    "start_time": "2021-11-18T12:30:24.350Z"
   },
   {
    "duration": 12,
    "start_time": "2021-11-18T12:30:24.365Z"
   },
   {
    "duration": 27,
    "start_time": "2021-11-18T12:30:24.379Z"
   },
   {
    "duration": 37,
    "start_time": "2021-11-18T12:30:24.407Z"
   },
   {
    "duration": 17,
    "start_time": "2021-11-18T12:30:24.446Z"
   },
   {
    "duration": 24,
    "start_time": "2021-11-18T12:30:24.465Z"
   },
   {
    "duration": 11,
    "start_time": "2021-11-18T12:30:24.491Z"
   },
   {
    "duration": 8,
    "start_time": "2021-11-18T12:30:24.506Z"
   },
   {
    "duration": 259,
    "start_time": "2021-11-18T12:30:24.517Z"
   },
   {
    "duration": 237,
    "start_time": "2021-11-18T12:30:24.778Z"
   },
   {
    "duration": 6,
    "start_time": "2021-11-18T12:30:25.017Z"
   },
   {
    "duration": 20,
    "start_time": "2021-11-18T12:30:25.025Z"
   },
   {
    "duration": 12,
    "start_time": "2021-11-18T12:30:25.047Z"
   },
   {
    "duration": 11,
    "start_time": "2021-11-18T12:30:25.061Z"
   },
   {
    "duration": 8,
    "start_time": "2021-11-18T12:30:25.074Z"
   },
   {
    "duration": 13,
    "start_time": "2021-11-18T12:30:25.084Z"
   },
   {
    "duration": 259,
    "start_time": "2021-11-18T12:30:25.099Z"
   },
   {
    "duration": 8,
    "start_time": "2021-11-18T12:30:25.360Z"
   },
   {
    "duration": 7,
    "start_time": "2021-11-18T12:30:25.370Z"
   },
   {
    "duration": 8,
    "start_time": "2021-11-18T12:30:25.379Z"
   },
   {
    "duration": 24,
    "start_time": "2021-11-18T12:30:25.389Z"
   },
   {
    "duration": 13,
    "start_time": "2021-11-18T12:30:25.414Z"
   },
   {
    "duration": 16,
    "start_time": "2021-11-18T12:30:25.429Z"
   },
   {
    "duration": 11,
    "start_time": "2021-11-18T12:30:25.446Z"
   },
   {
    "duration": 7,
    "start_time": "2021-11-18T12:30:25.459Z"
   },
   {
    "duration": 82,
    "start_time": "2021-11-18T12:30:25.468Z"
   },
   {
    "duration": 252,
    "start_time": "2021-11-18T12:30:25.552Z"
   },
   {
    "duration": 17,
    "start_time": "2021-11-18T12:30:25.806Z"
   },
   {
    "duration": 20,
    "start_time": "2021-11-18T12:30:25.825Z"
   },
   {
    "duration": 21,
    "start_time": "2021-11-18T12:30:25.847Z"
   },
   {
    "duration": 12,
    "start_time": "2021-11-18T12:30:25.870Z"
   },
   {
    "duration": 7,
    "start_time": "2021-11-18T12:30:25.884Z"
   },
   {
    "duration": 58,
    "start_time": "2021-11-18T12:30:25.893Z"
   },
   {
    "duration": 9,
    "start_time": "2021-11-18T12:30:25.953Z"
   },
   {
    "duration": 13,
    "start_time": "2021-11-18T12:30:25.964Z"
   },
   {
    "duration": 17,
    "start_time": "2021-11-18T12:30:25.978Z"
   },
   {
    "duration": 11,
    "start_time": "2021-11-18T12:30:25.997Z"
   },
   {
    "duration": 14,
    "start_time": "2021-11-18T12:30:26.009Z"
   },
   {
    "duration": 41,
    "start_time": "2021-11-18T12:30:26.025Z"
   },
   {
    "duration": 247,
    "start_time": "2021-11-18T12:30:26.068Z"
   },
   {
    "duration": 10,
    "start_time": "2021-11-18T12:30:26.317Z"
   },
   {
    "duration": 16,
    "start_time": "2021-11-18T12:30:26.345Z"
   },
   {
    "duration": 258,
    "start_time": "2021-11-18T12:30:26.363Z"
   },
   {
    "duration": 23,
    "start_time": "2021-11-18T12:30:26.623Z"
   },
   {
    "duration": 11,
    "start_time": "2021-11-18T12:30:26.648Z"
   },
   {
    "duration": 8,
    "start_time": "2021-11-18T12:30:26.661Z"
   },
   {
    "duration": 7,
    "start_time": "2021-11-18T12:30:26.670Z"
   },
   {
    "duration": 15,
    "start_time": "2021-11-18T12:30:26.679Z"
   },
   {
    "duration": 119,
    "start_time": "2021-11-18T12:30:26.696Z"
   },
   {
    "duration": 12,
    "start_time": "2021-11-18T12:30:26.817Z"
   },
   {
    "duration": 14,
    "start_time": "2021-11-18T12:30:26.831Z"
   },
   {
    "duration": 9,
    "start_time": "2021-11-18T12:30:26.847Z"
   },
   {
    "duration": 4,
    "start_time": "2021-11-18T12:30:26.863Z"
   },
   {
    "duration": 56,
    "start_time": "2021-11-18T12:30:26.870Z"
   },
   {
    "duration": 4,
    "start_time": "2021-11-18T12:30:26.944Z"
   },
   {
    "duration": 8,
    "start_time": "2021-11-18T12:30:26.949Z"
   },
   {
    "duration": 6,
    "start_time": "2021-11-18T12:30:26.959Z"
   },
   {
    "duration": 21,
    "start_time": "2021-11-18T12:30:26.966Z"
   },
   {
    "duration": 10,
    "start_time": "2021-11-18T12:30:26.989Z"
   },
   {
    "duration": 3648,
    "start_time": "2021-11-18T12:30:27.000Z"
   },
   {
    "duration": 4,
    "start_time": "2021-11-18T12:30:30.650Z"
   },
   {
    "duration": 66,
    "start_time": "2021-11-18T12:30:30.655Z"
   },
   {
    "duration": 7,
    "start_time": "2021-11-18T12:30:30.723Z"
   },
   {
    "duration": 46,
    "start_time": "2021-11-18T12:30:30.732Z"
   },
   {
    "duration": 48,
    "start_time": "2021-11-18T12:30:30.780Z"
   },
   {
    "duration": 41,
    "start_time": "2021-11-18T12:30:30.829Z"
   },
   {
    "duration": 10,
    "start_time": "2021-11-18T12:30:30.872Z"
   },
   {
    "duration": 23,
    "start_time": "2021-11-18T12:30:30.884Z"
   },
   {
    "duration": 9,
    "start_time": "2021-11-18T12:30:30.908Z"
   },
   {
    "duration": 29,
    "start_time": "2021-11-18T12:30:30.919Z"
   },
   {
    "duration": 31,
    "start_time": "2021-11-18T12:30:30.949Z"
   },
   {
    "duration": 28,
    "start_time": "2021-11-18T12:30:30.982Z"
   },
   {
    "duration": 47,
    "start_time": "2021-11-18T12:30:31.012Z"
   },
   {
    "duration": 29,
    "start_time": "2021-11-18T12:30:31.061Z"
   },
   {
    "duration": 18,
    "start_time": "2021-11-18T12:30:31.091Z"
   },
   {
    "duration": 31,
    "start_time": "2021-11-18T12:30:31.111Z"
   },
   {
    "duration": 15,
    "start_time": "2021-11-18T12:30:31.144Z"
   },
   {
    "duration": 18,
    "start_time": "2021-11-18T12:30:31.161Z"
   },
   {
    "duration": 21,
    "start_time": "2021-11-18T12:30:31.181Z"
   },
   {
    "duration": 35,
    "start_time": "2021-11-18T12:30:31.205Z"
   },
   {
    "duration": 12,
    "start_time": "2021-11-18T12:30:31.242Z"
   },
   {
    "duration": 9,
    "start_time": "2021-11-18T12:30:31.256Z"
   },
   {
    "duration": 194,
    "start_time": "2021-11-18T12:30:31.267Z"
   },
   {
    "duration": 5,
    "start_time": "2021-11-18T12:30:31.462Z"
   },
   {
    "duration": 30,
    "start_time": "2021-11-18T12:30:31.468Z"
   },
   {
    "duration": 30,
    "start_time": "2021-11-18T12:30:31.500Z"
   },
   {
    "duration": 22,
    "start_time": "2021-11-18T12:30:31.532Z"
   },
   {
    "duration": 32,
    "start_time": "2021-11-18T12:30:31.556Z"
   },
   {
    "duration": 360,
    "start_time": "2021-11-18T12:30:31.590Z"
   },
   {
    "duration": 415,
    "start_time": "2021-11-18T12:30:31.952Z"
   },
   {
    "duration": 4,
    "start_time": "2021-11-18T12:30:32.369Z"
   },
   {
    "duration": 16,
    "start_time": "2021-11-18T12:30:32.375Z"
   },
   {
    "duration": 23,
    "start_time": "2021-11-18T12:30:32.393Z"
   },
   {
    "duration": 362,
    "start_time": "2021-11-18T12:30:32.418Z"
   },
   {
    "duration": 413,
    "start_time": "2021-11-18T12:30:32.782Z"
   },
   {
    "duration": 5,
    "start_time": "2021-11-18T12:30:33.198Z"
   },
   {
    "duration": 29,
    "start_time": "2021-11-18T12:30:33.205Z"
   },
   {
    "duration": 18,
    "start_time": "2021-11-18T12:30:33.236Z"
   },
   {
    "duration": 356,
    "start_time": "2021-11-18T12:30:33.256Z"
   },
   {
    "duration": 8,
    "start_time": "2021-11-18T12:30:33.614Z"
   },
   {
    "duration": 10,
    "start_time": "2021-11-18T12:30:33.624Z"
   },
   {
    "duration": 255,
    "start_time": "2021-11-18T12:30:33.645Z"
   },
   {
    "duration": 5,
    "start_time": "2021-11-18T12:30:33.903Z"
   },
   {
    "duration": 9,
    "start_time": "2021-11-18T12:30:33.910Z"
   },
   {
    "duration": 25,
    "start_time": "2021-11-18T12:30:33.921Z"
   },
   {
    "duration": 350,
    "start_time": "2021-11-18T12:30:33.948Z"
   },
   {
    "duration": 273,
    "start_time": "2021-11-18T12:30:34.300Z"
   },
   {
    "duration": 321,
    "start_time": "2021-11-18T12:30:34.574Z"
   },
   {
    "duration": 5,
    "start_time": "2021-11-18T12:30:34.897Z"
   },
   {
    "duration": 9,
    "start_time": "2021-11-18T12:30:34.903Z"
   },
   {
    "duration": 7,
    "start_time": "2021-11-18T12:30:34.914Z"
   },
   {
    "duration": 263,
    "start_time": "2021-11-18T12:30:34.922Z"
   },
   {
    "duration": 4,
    "start_time": "2021-11-18T12:30:35.186Z"
   },
   {
    "duration": 10,
    "start_time": "2021-11-18T12:30:35.192Z"
   },
   {
    "duration": 8,
    "start_time": "2021-11-18T12:30:35.204Z"
   },
   {
    "duration": 248,
    "start_time": "2021-11-18T12:30:35.214Z"
   },
   {
    "duration": 380,
    "start_time": "2021-11-18T12:30:35.464Z"
   },
   {
    "duration": 2,
    "start_time": "2021-11-18T12:30:35.846Z"
   },
   {
    "duration": 8,
    "start_time": "2021-11-18T12:30:35.850Z"
   },
   {
    "duration": 7,
    "start_time": "2021-11-18T12:30:35.860Z"
   },
   {
    "duration": 4,
    "start_time": "2021-11-18T12:30:35.869Z"
   },
   {
    "duration": 10,
    "start_time": "2021-11-18T12:30:35.874Z"
   },
   {
    "duration": 10,
    "start_time": "2021-11-18T12:30:35.886Z"
   },
   {
    "duration": 7,
    "start_time": "2021-11-18T12:30:35.898Z"
   },
   {
    "duration": 10,
    "start_time": "2021-11-18T12:30:35.906Z"
   },
   {
    "duration": 7,
    "start_time": "2021-11-18T12:30:35.918Z"
   },
   {
    "duration": 9,
    "start_time": "2021-11-18T12:31:23.360Z"
   },
   {
    "duration": 231,
    "start_time": "2021-11-18T12:33:14.624Z"
   },
   {
    "duration": 8,
    "start_time": "2021-11-18T12:36:24.975Z"
   },
   {
    "duration": 94,
    "start_time": "2021-11-18T12:37:20.996Z"
   },
   {
    "duration": 7,
    "start_time": "2021-11-18T12:39:21.938Z"
   },
   {
    "duration": 9,
    "start_time": "2021-11-18T12:40:13.071Z"
   },
   {
    "duration": 20,
    "start_time": "2021-11-18T12:46:02.663Z"
   },
   {
    "duration": 8,
    "start_time": "2021-11-18T12:46:31.292Z"
   },
   {
    "duration": 49,
    "start_time": "2021-11-18T12:58:12.667Z"
   },
   {
    "duration": 25,
    "start_time": "2021-11-18T13:36:55.888Z"
   },
   {
    "duration": 5,
    "start_time": "2021-11-18T13:37:15.879Z"
   },
   {
    "duration": 395,
    "start_time": "2021-11-18T13:53:57.942Z"
   },
   {
    "duration": 253,
    "start_time": "2021-11-18T13:54:52.039Z"
   },
   {
    "duration": 390,
    "start_time": "2021-11-18T14:06:08.547Z"
   },
   {
    "duration": 7,
    "start_time": "2021-11-18T14:19:37.633Z"
   },
   {
    "duration": 6,
    "start_time": "2021-11-18T14:19:40.372Z"
   },
   {
    "duration": 102,
    "start_time": "2021-11-18T14:25:22.431Z"
   },
   {
    "duration": 11,
    "start_time": "2021-11-18T14:54:48.410Z"
   },
   {
    "duration": 11,
    "start_time": "2021-11-18T15:12:40.617Z"
   },
   {
    "duration": 1061,
    "start_time": "2021-11-18T15:12:56.377Z"
   },
   {
    "duration": 384,
    "start_time": "2021-11-18T15:12:57.440Z"
   },
   {
    "duration": 21,
    "start_time": "2021-11-18T15:12:57.826Z"
   },
   {
    "duration": 18,
    "start_time": "2021-11-18T15:12:57.849Z"
   },
   {
    "duration": 16,
    "start_time": "2021-11-18T15:12:57.869Z"
   },
   {
    "duration": 12,
    "start_time": "2021-11-18T15:12:57.887Z"
   },
   {
    "duration": 11,
    "start_time": "2021-11-18T15:12:57.900Z"
   },
   {
    "duration": 58,
    "start_time": "2021-11-18T15:12:57.913Z"
   },
   {
    "duration": 13,
    "start_time": "2021-11-18T15:12:57.973Z"
   },
   {
    "duration": 7,
    "start_time": "2021-11-18T15:12:57.988Z"
   },
   {
    "duration": 10,
    "start_time": "2021-11-18T15:12:57.997Z"
   },
   {
    "duration": 36,
    "start_time": "2021-11-18T15:12:58.009Z"
   },
   {
    "duration": 11,
    "start_time": "2021-11-18T15:12:58.047Z"
   },
   {
    "duration": 11,
    "start_time": "2021-11-18T15:12:58.061Z"
   },
   {
    "duration": 4,
    "start_time": "2021-11-18T15:12:58.073Z"
   },
   {
    "duration": 8,
    "start_time": "2021-11-18T15:12:58.078Z"
   },
   {
    "duration": 7,
    "start_time": "2021-11-18T15:12:58.087Z"
   },
   {
    "duration": 58,
    "start_time": "2021-11-18T15:12:58.096Z"
   },
   {
    "duration": 17,
    "start_time": "2021-11-18T15:12:58.156Z"
   },
   {
    "duration": 37,
    "start_time": "2021-11-18T15:12:58.174Z"
   },
   {
    "duration": 9,
    "start_time": "2021-11-18T15:12:58.213Z"
   },
   {
    "duration": 6,
    "start_time": "2021-11-18T15:12:58.224Z"
   },
   {
    "duration": 288,
    "start_time": "2021-11-18T15:12:58.247Z"
   },
   {
    "duration": 225,
    "start_time": "2021-11-18T15:12:58.544Z"
   },
   {
    "duration": 5,
    "start_time": "2021-11-18T15:12:58.771Z"
   },
   {
    "duration": 10,
    "start_time": "2021-11-18T15:12:58.778Z"
   },
   {
    "duration": 12,
    "start_time": "2021-11-18T15:12:58.790Z"
   },
   {
    "duration": 10,
    "start_time": "2021-11-18T15:12:58.804Z"
   },
   {
    "duration": 15,
    "start_time": "2021-11-18T15:12:58.816Z"
   },
   {
    "duration": 16,
    "start_time": "2021-11-18T15:12:58.832Z"
   },
   {
    "duration": 252,
    "start_time": "2021-11-18T15:12:58.850Z"
   },
   {
    "duration": 8,
    "start_time": "2021-11-18T15:12:59.104Z"
   },
   {
    "duration": 19,
    "start_time": "2021-11-18T15:12:59.113Z"
   },
   {
    "duration": 21,
    "start_time": "2021-11-18T15:12:59.133Z"
   },
   {
    "duration": 12,
    "start_time": "2021-11-18T15:12:59.155Z"
   },
   {
    "duration": 7,
    "start_time": "2021-11-18T15:12:59.169Z"
   },
   {
    "duration": 72,
    "start_time": "2021-11-18T15:12:59.177Z"
   },
   {
    "duration": 274,
    "start_time": "2021-11-18T15:12:59.250Z"
   },
   {
    "duration": 28,
    "start_time": "2021-11-18T15:12:59.526Z"
   },
   {
    "duration": 4,
    "start_time": "2021-11-18T15:12:59.555Z"
   },
   {
    "duration": 22,
    "start_time": "2021-11-18T15:12:59.561Z"
   },
   {
    "duration": 11,
    "start_time": "2021-11-18T15:12:59.585Z"
   },
   {
    "duration": 8,
    "start_time": "2021-11-18T15:12:59.598Z"
   },
   {
    "duration": 50,
    "start_time": "2021-11-18T15:12:59.608Z"
   },
   {
    "duration": 5,
    "start_time": "2021-11-18T15:12:59.660Z"
   },
   {
    "duration": 8,
    "start_time": "2021-11-18T15:12:59.667Z"
   },
   {
    "duration": 10,
    "start_time": "2021-11-18T15:12:59.676Z"
   },
   {
    "duration": 8,
    "start_time": "2021-11-18T15:12:59.688Z"
   },
   {
    "duration": 58,
    "start_time": "2021-11-18T15:12:59.697Z"
   },
   {
    "duration": 246,
    "start_time": "2021-11-18T15:12:59.757Z"
   },
   {
    "duration": 8,
    "start_time": "2021-11-18T15:13:00.005Z"
   },
   {
    "duration": 33,
    "start_time": "2021-11-18T15:13:00.015Z"
   },
   {
    "duration": 256,
    "start_time": "2021-11-18T15:13:00.050Z"
   },
   {
    "duration": 14,
    "start_time": "2021-11-18T15:13:00.308Z"
   },
   {
    "duration": 27,
    "start_time": "2021-11-18T15:13:00.324Z"
   },
   {
    "duration": 6,
    "start_time": "2021-11-18T15:13:00.353Z"
   },
   {
    "duration": 18,
    "start_time": "2021-11-18T15:13:00.360Z"
   },
   {
    "duration": 21,
    "start_time": "2021-11-18T15:13:00.380Z"
   },
   {
    "duration": 12,
    "start_time": "2021-11-18T15:13:00.403Z"
   },
   {
    "duration": 30,
    "start_time": "2021-11-18T15:13:00.417Z"
   },
   {
    "duration": 29,
    "start_time": "2021-11-18T15:13:00.449Z"
   },
   {
    "duration": 16,
    "start_time": "2021-11-18T15:13:00.480Z"
   },
   {
    "duration": 61,
    "start_time": "2021-11-18T15:13:00.498Z"
   },
   {
    "duration": 4,
    "start_time": "2021-11-18T15:13:00.561Z"
   },
   {
    "duration": 21,
    "start_time": "2021-11-18T15:13:00.567Z"
   },
   {
    "duration": 15,
    "start_time": "2021-11-18T15:13:00.590Z"
   },
   {
    "duration": 25,
    "start_time": "2021-11-18T15:13:00.606Z"
   },
   {
    "duration": 23,
    "start_time": "2021-11-18T15:13:00.638Z"
   },
   {
    "duration": 15,
    "start_time": "2021-11-18T15:13:00.664Z"
   },
   {
    "duration": 3442,
    "start_time": "2021-11-18T15:13:00.681Z"
   },
   {
    "duration": 37,
    "start_time": "2021-11-18T15:13:04.124Z"
   },
   {
    "duration": 7,
    "start_time": "2021-11-18T15:13:04.162Z"
   },
   {
    "duration": 23,
    "start_time": "2021-11-18T15:13:04.171Z"
   },
   {
    "duration": 15,
    "start_time": "2021-11-18T15:13:04.195Z"
   },
   {
    "duration": 38,
    "start_time": "2021-11-18T15:13:04.211Z"
   },
   {
    "duration": 9,
    "start_time": "2021-11-18T15:13:04.251Z"
   },
   {
    "duration": 10,
    "start_time": "2021-11-18T15:13:04.262Z"
   },
   {
    "duration": 7,
    "start_time": "2021-11-18T15:13:04.273Z"
   },
   {
    "duration": 10,
    "start_time": "2021-11-18T15:13:04.282Z"
   },
   {
    "duration": 9,
    "start_time": "2021-11-18T15:13:04.294Z"
   },
   {
    "duration": 14,
    "start_time": "2021-11-18T15:13:04.305Z"
   },
   {
    "duration": 3,
    "start_time": "2021-11-18T15:13:04.321Z"
   },
   {
    "duration": 21,
    "start_time": "2021-11-18T15:13:04.326Z"
   },
   {
    "duration": 9,
    "start_time": "2021-11-18T15:13:04.349Z"
   },
   {
    "duration": 24,
    "start_time": "2021-11-18T15:13:04.360Z"
   },
   {
    "duration": 4,
    "start_time": "2021-11-18T15:13:04.387Z"
   },
   {
    "duration": 15,
    "start_time": "2021-11-18T15:13:04.393Z"
   },
   {
    "duration": 6,
    "start_time": "2021-11-18T15:13:04.410Z"
   },
   {
    "duration": 186,
    "start_time": "2021-11-18T15:13:04.418Z"
   },
   {
    "duration": 9,
    "start_time": "2021-11-18T15:13:04.605Z"
   },
   {
    "duration": 15,
    "start_time": "2021-11-18T15:13:04.616Z"
   },
   {
    "duration": 12,
    "start_time": "2021-11-18T15:13:04.633Z"
   },
   {
    "duration": 4,
    "start_time": "2021-11-18T15:13:04.647Z"
   },
   {
    "duration": 483,
    "start_time": "2021-11-18T15:13:04.653Z"
   },
   {
    "duration": 252,
    "start_time": "2021-11-18T15:13:05.138Z"
   },
   {
    "duration": 5,
    "start_time": "2021-11-18T15:13:05.392Z"
   },
   {
    "duration": 13,
    "start_time": "2021-11-18T15:13:05.399Z"
   },
   {
    "duration": 23,
    "start_time": "2021-11-18T15:13:05.414Z"
   },
   {
    "duration": 375,
    "start_time": "2021-11-18T15:13:05.438Z"
   },
   {
    "duration": 396,
    "start_time": "2021-11-18T15:13:05.815Z"
   },
   {
    "duration": 4,
    "start_time": "2021-11-18T15:13:06.213Z"
   },
   {
    "duration": 10,
    "start_time": "2021-11-18T15:13:06.218Z"
   },
   {
    "duration": 15,
    "start_time": "2021-11-18T15:13:06.230Z"
   },
   {
    "duration": 246,
    "start_time": "2021-11-18T15:13:06.246Z"
   },
   {
    "duration": 6,
    "start_time": "2021-11-18T15:13:06.494Z"
   },
   {
    "duration": 17,
    "start_time": "2021-11-18T15:13:06.502Z"
   },
   {
    "duration": 249,
    "start_time": "2021-11-18T15:13:06.521Z"
   },
   {
    "duration": 4,
    "start_time": "2021-11-18T15:13:06.774Z"
   },
   {
    "duration": 9,
    "start_time": "2021-11-18T15:13:06.780Z"
   },
   {
    "duration": 9,
    "start_time": "2021-11-18T15:13:06.791Z"
   },
   {
    "duration": 260,
    "start_time": "2021-11-18T15:13:06.801Z"
   },
   {
    "duration": 7,
    "start_time": "2021-11-18T15:13:07.062Z"
   },
   {
    "duration": 265,
    "start_time": "2021-11-18T15:13:07.071Z"
   },
   {
    "duration": 391,
    "start_time": "2021-11-18T15:13:07.338Z"
   },
   {
    "duration": 4,
    "start_time": "2021-11-18T15:13:07.730Z"
   },
   {
    "duration": 4,
    "start_time": "2021-11-18T15:13:07.744Z"
   },
   {
    "duration": 9,
    "start_time": "2021-11-18T15:13:07.749Z"
   },
   {
    "duration": 241,
    "start_time": "2021-11-18T15:13:07.759Z"
   },
   {
    "duration": 4,
    "start_time": "2021-11-18T15:13:08.002Z"
   },
   {
    "duration": 8,
    "start_time": "2021-11-18T15:13:08.007Z"
   },
   {
    "duration": 6,
    "start_time": "2021-11-18T15:13:08.017Z"
   },
   {
    "duration": 249,
    "start_time": "2021-11-18T15:13:08.025Z"
   },
   {
    "duration": 362,
    "start_time": "2021-11-18T15:13:08.276Z"
   },
   {
    "duration": 2,
    "start_time": "2021-11-18T15:13:08.644Z"
   },
   {
    "duration": 6,
    "start_time": "2021-11-18T15:13:08.648Z"
   },
   {
    "duration": 7,
    "start_time": "2021-11-18T15:13:08.656Z"
   },
   {
    "duration": 11,
    "start_time": "2021-11-18T15:13:08.664Z"
   },
   {
    "duration": 7,
    "start_time": "2021-11-18T15:13:08.677Z"
   },
   {
    "duration": 18,
    "start_time": "2021-11-18T15:13:08.685Z"
   },
   {
    "duration": 9,
    "start_time": "2021-11-18T15:13:08.704Z"
   },
   {
    "duration": 20,
    "start_time": "2021-11-18T15:13:08.715Z"
   },
   {
    "duration": 9,
    "start_time": "2021-11-18T15:13:08.737Z"
   },
   {
    "duration": 25,
    "start_time": "2021-11-18T15:13:08.748Z"
   },
   {
    "duration": 66,
    "start_time": "2021-11-18T21:28:18.432Z"
   },
   {
    "duration": 64,
    "start_time": "2021-11-18T21:51:29.410Z"
   },
   {
    "duration": 492,
    "start_time": "2021-11-19T12:35:19.220Z"
   },
   {
    "duration": 1571,
    "start_time": "2021-11-19T12:35:26.458Z"
   },
   {
    "duration": 550,
    "start_time": "2021-11-19T12:35:28.032Z"
   },
   {
    "duration": 31,
    "start_time": "2021-11-19T12:35:28.585Z"
   },
   {
    "duration": 21,
    "start_time": "2021-11-19T12:35:28.619Z"
   },
   {
    "duration": 45,
    "start_time": "2021-11-19T12:35:28.643Z"
   },
   {
    "duration": 11,
    "start_time": "2021-11-19T12:35:28.691Z"
   },
   {
    "duration": 12,
    "start_time": "2021-11-19T12:35:28.705Z"
   },
   {
    "duration": 97,
    "start_time": "2021-11-19T12:35:28.722Z"
   },
   {
    "duration": 18,
    "start_time": "2021-11-19T12:35:28.822Z"
   },
   {
    "duration": 33,
    "start_time": "2021-11-19T12:35:28.843Z"
   },
   {
    "duration": 14,
    "start_time": "2021-11-19T12:35:28.879Z"
   },
   {
    "duration": 13,
    "start_time": "2021-11-19T12:35:28.896Z"
   },
   {
    "duration": 62,
    "start_time": "2021-11-19T12:35:28.912Z"
   },
   {
    "duration": 9,
    "start_time": "2021-11-19T12:35:28.977Z"
   },
   {
    "duration": 12,
    "start_time": "2021-11-19T12:35:28.989Z"
   },
   {
    "duration": 10,
    "start_time": "2021-11-19T12:35:29.003Z"
   },
   {
    "duration": 8,
    "start_time": "2021-11-19T12:35:29.015Z"
   },
   {
    "duration": 74,
    "start_time": "2021-11-19T12:35:29.025Z"
   },
   {
    "duration": 24,
    "start_time": "2021-11-19T12:35:29.101Z"
   },
   {
    "duration": 53,
    "start_time": "2021-11-19T12:35:29.128Z"
   },
   {
    "duration": 14,
    "start_time": "2021-11-19T12:35:29.184Z"
   },
   {
    "duration": 7,
    "start_time": "2021-11-19T12:35:29.201Z"
   },
   {
    "duration": 450,
    "start_time": "2021-11-19T12:35:29.218Z"
   },
   {
    "duration": 400,
    "start_time": "2021-11-19T12:35:29.673Z"
   },
   {
    "duration": 7,
    "start_time": "2021-11-19T12:35:30.076Z"
   },
   {
    "duration": 13,
    "start_time": "2021-11-19T12:35:30.086Z"
   },
   {
    "duration": 14,
    "start_time": "2021-11-19T12:35:30.101Z"
   },
   {
    "duration": 16,
    "start_time": "2021-11-19T12:35:30.117Z"
   },
   {
    "duration": 50,
    "start_time": "2021-11-19T12:35:30.136Z"
   },
   {
    "duration": 24,
    "start_time": "2021-11-19T12:35:30.189Z"
   },
   {
    "duration": 487,
    "start_time": "2021-11-19T12:35:30.215Z"
   },
   {
    "duration": 13,
    "start_time": "2021-11-19T12:35:30.704Z"
   },
   {
    "duration": 17,
    "start_time": "2021-11-19T12:35:30.719Z"
   },
   {
    "duration": 32,
    "start_time": "2021-11-19T12:35:30.738Z"
   },
   {
    "duration": 25,
    "start_time": "2021-11-19T12:35:30.772Z"
   },
   {
    "duration": 13,
    "start_time": "2021-11-19T12:35:30.799Z"
   },
   {
    "duration": 104,
    "start_time": "2021-11-19T12:35:30.814Z"
   },
   {
    "duration": 418,
    "start_time": "2021-11-19T12:35:30.920Z"
   },
   {
    "duration": 31,
    "start_time": "2021-11-19T12:35:31.340Z"
   },
   {
    "duration": 6,
    "start_time": "2021-11-19T12:35:31.373Z"
   },
   {
    "duration": 15,
    "start_time": "2021-11-19T12:35:31.381Z"
   },
   {
    "duration": 15,
    "start_time": "2021-11-19T12:35:31.398Z"
   },
   {
    "duration": 10,
    "start_time": "2021-11-19T12:35:31.415Z"
   },
   {
    "duration": 78,
    "start_time": "2021-11-19T12:35:31.427Z"
   },
   {
    "duration": 6,
    "start_time": "2021-11-19T12:35:31.507Z"
   },
   {
    "duration": 10,
    "start_time": "2021-11-19T12:35:31.515Z"
   },
   {
    "duration": 42,
    "start_time": "2021-11-19T12:35:31.528Z"
   },
   {
    "duration": 11,
    "start_time": "2021-11-19T12:35:31.572Z"
   },
   {
    "duration": 40,
    "start_time": "2021-11-19T12:35:31.586Z"
   },
   {
    "duration": 445,
    "start_time": "2021-11-19T12:35:31.628Z"
   },
   {
    "duration": 10,
    "start_time": "2021-11-19T12:35:32.076Z"
   },
   {
    "duration": 14,
    "start_time": "2021-11-19T12:35:32.088Z"
   },
   {
    "duration": 447,
    "start_time": "2021-11-19T12:35:32.105Z"
   },
   {
    "duration": 24,
    "start_time": "2021-11-19T12:35:32.554Z"
   },
   {
    "duration": 13,
    "start_time": "2021-11-19T12:35:32.580Z"
   },
   {
    "duration": 7,
    "start_time": "2021-11-19T12:35:32.595Z"
   },
   {
    "duration": 22,
    "start_time": "2021-11-19T12:35:32.604Z"
   },
   {
    "duration": 32,
    "start_time": "2021-11-19T12:35:32.667Z"
   },
   {
    "duration": 12,
    "start_time": "2021-11-19T12:35:32.702Z"
   },
   {
    "duration": 8,
    "start_time": "2021-11-19T12:35:32.716Z"
   },
   {
    "duration": 49,
    "start_time": "2021-11-19T12:35:32.726Z"
   },
   {
    "duration": 6,
    "start_time": "2021-11-19T12:35:32.778Z"
   },
   {
    "duration": 91,
    "start_time": "2021-11-19T12:35:32.786Z"
   },
   {
    "duration": 5,
    "start_time": "2021-11-19T12:35:32.879Z"
   },
   {
    "duration": 9,
    "start_time": "2021-11-19T12:35:32.886Z"
   },
   {
    "duration": 7,
    "start_time": "2021-11-19T12:35:32.898Z"
   },
   {
    "duration": 25,
    "start_time": "2021-11-19T12:35:32.907Z"
   },
   {
    "duration": 29,
    "start_time": "2021-11-19T12:35:32.941Z"
   },
   {
    "duration": 9,
    "start_time": "2021-11-19T12:35:32.974Z"
   },
   {
    "duration": 6005,
    "start_time": "2021-11-19T12:35:32.986Z"
   },
   {
    "duration": 42,
    "start_time": "2021-11-19T12:35:38.994Z"
   },
   {
    "duration": 33,
    "start_time": "2021-11-19T12:35:39.038Z"
   },
   {
    "duration": 30,
    "start_time": "2021-11-19T12:35:39.073Z"
   },
   {
    "duration": 12,
    "start_time": "2021-11-19T12:35:39.105Z"
   },
   {
    "duration": 72,
    "start_time": "2021-11-19T12:35:39.119Z"
   },
   {
    "duration": 12,
    "start_time": "2021-11-19T12:35:39.193Z"
   },
   {
    "duration": 13,
    "start_time": "2021-11-19T12:35:39.208Z"
   },
   {
    "duration": 6,
    "start_time": "2021-11-19T12:35:39.224Z"
   },
   {
    "duration": 34,
    "start_time": "2021-11-19T12:35:39.233Z"
   },
   {
    "duration": 9,
    "start_time": "2021-11-19T12:35:39.270Z"
   },
   {
    "duration": 19,
    "start_time": "2021-11-19T12:35:39.281Z"
   },
   {
    "duration": 12,
    "start_time": "2021-11-19T12:35:39.302Z"
   },
   {
    "duration": 9,
    "start_time": "2021-11-19T12:35:39.316Z"
   },
   {
    "duration": 12,
    "start_time": "2021-11-19T12:35:39.327Z"
   },
   {
    "duration": 42,
    "start_time": "2021-11-19T12:35:39.342Z"
   },
   {
    "duration": 5,
    "start_time": "2021-11-19T12:35:39.387Z"
   },
   {
    "duration": 8,
    "start_time": "2021-11-19T12:35:39.394Z"
   },
   {
    "duration": 7,
    "start_time": "2021-11-19T12:35:39.405Z"
   },
   {
    "duration": 328,
    "start_time": "2021-11-19T12:35:39.414Z"
   },
   {
    "duration": 23,
    "start_time": "2021-11-19T12:35:39.744Z"
   },
   {
    "duration": 6,
    "start_time": "2021-11-19T12:35:39.769Z"
   },
   {
    "duration": 7,
    "start_time": "2021-11-19T12:35:39.778Z"
   },
   {
    "duration": 10,
    "start_time": "2021-11-19T12:35:39.787Z"
   },
   {
    "duration": 781,
    "start_time": "2021-11-19T12:35:39.800Z"
   },
   {
    "duration": 429,
    "start_time": "2021-11-19T12:35:40.584Z"
   },
   {
    "duration": 6,
    "start_time": "2021-11-19T12:35:41.015Z"
   },
   {
    "duration": 7,
    "start_time": "2021-11-19T12:35:41.023Z"
   },
   {
    "duration": 33,
    "start_time": "2021-11-19T12:35:41.033Z"
   },
   {
    "duration": 590,
    "start_time": "2021-11-19T12:35:41.069Z"
   },
   {
    "duration": 708,
    "start_time": "2021-11-19T12:35:41.661Z"
   },
   {
    "duration": 5,
    "start_time": "2021-11-19T12:35:42.372Z"
   },
   {
    "duration": 8,
    "start_time": "2021-11-19T12:35:42.380Z"
   },
   {
    "duration": 8,
    "start_time": "2021-11-19T12:35:42.390Z"
   },
   {
    "duration": 435,
    "start_time": "2021-11-19T12:35:42.400Z"
   },
   {
    "duration": 9,
    "start_time": "2021-11-19T12:35:42.837Z"
   },
   {
    "duration": 26,
    "start_time": "2021-11-19T12:35:42.848Z"
   },
   {
    "duration": 446,
    "start_time": "2021-11-19T12:35:42.877Z"
   },
   {
    "duration": 6,
    "start_time": "2021-11-19T12:35:43.326Z"
   },
   {
    "duration": 16,
    "start_time": "2021-11-19T12:35:43.335Z"
   },
   {
    "duration": 5,
    "start_time": "2021-11-19T12:35:43.368Z"
   },
   {
    "duration": 453,
    "start_time": "2021-11-19T12:35:43.376Z"
   },
   {
    "duration": 11,
    "start_time": "2021-11-19T12:35:43.831Z"
   },
   {
    "duration": 455,
    "start_time": "2021-11-19T12:35:43.844Z"
   },
   {
    "duration": 633,
    "start_time": "2021-11-19T12:35:44.301Z"
   },
   {
    "duration": 6,
    "start_time": "2021-11-19T12:35:44.936Z"
   },
   {
    "duration": 24,
    "start_time": "2021-11-19T12:35:44.944Z"
   },
   {
    "duration": 12,
    "start_time": "2021-11-19T12:35:44.970Z"
   },
   {
    "duration": 421,
    "start_time": "2021-11-19T12:35:44.984Z"
   },
   {
    "duration": 6,
    "start_time": "2021-11-19T12:35:45.408Z"
   },
   {
    "duration": 10,
    "start_time": "2021-11-19T12:35:45.416Z"
   },
   {
    "duration": 12,
    "start_time": "2021-11-19T12:35:45.428Z"
   },
   {
    "duration": 438,
    "start_time": "2021-11-19T12:35:45.442Z"
   },
   {
    "duration": 662,
    "start_time": "2021-11-19T12:35:45.882Z"
   },
   {
    "duration": 3,
    "start_time": "2021-11-19T12:35:46.547Z"
   },
   {
    "duration": 18,
    "start_time": "2021-11-19T12:35:46.553Z"
   },
   {
    "duration": 9,
    "start_time": "2021-11-19T12:35:46.573Z"
   },
   {
    "duration": 8,
    "start_time": "2021-11-19T12:35:46.584Z"
   },
   {
    "duration": 6,
    "start_time": "2021-11-19T12:35:46.595Z"
   },
   {
    "duration": 12,
    "start_time": "2021-11-19T12:35:46.604Z"
   },
   {
    "duration": 6,
    "start_time": "2021-11-19T12:35:46.618Z"
   },
   {
    "duration": 43,
    "start_time": "2021-11-19T12:35:46.626Z"
   },
   {
    "duration": 6,
    "start_time": "2021-11-19T12:35:46.671Z"
   },
   {
    "duration": 18,
    "start_time": "2021-11-19T12:35:46.679Z"
   },
   {
    "duration": 1043,
    "start_time": "2021-11-19T12:38:59.979Z"
   },
   {
    "duration": 7,
    "start_time": "2021-11-19T12:39:13.747Z"
   },
   {
    "duration": 6,
    "start_time": "2021-11-19T12:39:21.440Z"
   },
   {
    "duration": 5,
    "start_time": "2021-11-19T12:41:08.529Z"
   },
   {
    "duration": 88,
    "start_time": "2021-11-19T13:19:04.229Z"
   },
   {
    "duration": 6,
    "start_time": "2021-11-19T13:19:10.248Z"
   },
   {
    "duration": 6,
    "start_time": "2021-11-19T13:19:20.003Z"
   },
   {
    "duration": 284,
    "start_time": "2021-11-19T16:32:22.484Z"
   },
   {
    "duration": 9,
    "start_time": "2021-11-19T16:32:35.097Z"
   },
   {
    "duration": 39,
    "start_time": "2021-11-19T17:11:40.870Z"
   },
   {
    "duration": 743,
    "start_time": "2021-11-19T17:14:15.347Z"
   },
   {
    "duration": 35,
    "start_time": "2021-11-19T17:14:25.409Z"
   },
   {
    "duration": 32,
    "start_time": "2021-11-19T17:15:03.232Z"
   }
  ],
  "kernelspec": {
   "display_name": "Python 3 (ipykernel)",
   "language": "python",
   "name": "python3"
  },
  "language_info": {
   "codemirror_mode": {
    "name": "ipython",
    "version": 3
   },
   "file_extension": ".py",
   "mimetype": "text/x-python",
   "name": "python",
   "nbconvert_exporter": "python",
   "pygments_lexer": "ipython3",
   "version": "3.8.8"
  },
  "toc": {
   "base_numbering": 1,
   "nav_menu": {},
   "number_sections": true,
   "sideBar": true,
   "skip_h1_title": true,
   "title_cell": "Содержание",
   "title_sidebar": "Contents",
   "toc_cell": true,
   "toc_position": {
    "height": "calc(100% - 180px)",
    "left": "10px",
    "top": "150px",
    "width": "292.797px"
   },
   "toc_section_display": true,
   "toc_window_display": true
  }
 },
 "nbformat": 4,
 "nbformat_minor": 2
}
